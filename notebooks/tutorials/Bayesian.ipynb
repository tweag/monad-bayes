{
 "cells": [
  {
   "cell_type": "code",
   "execution_count": 1,
   "id": "1323d9af-17b2-4e43-ba81-b5b3979b3528",
   "metadata": {},
   "outputs": [],
   "source": [
    ":e TupleSections\n",
    ":e BlockArguments \n",
    "\n",
    "import Control.Monad.Bayes.Class\n",
    "import Control.Monad.Bayes.Sampler.Strict\n",
    "import Control.Monad.Bayes.Weighted\n",
    "import Control.Monad.Bayes.Enumerator\n",
    "import Control.Monad\n",
    "import Control.Arrow\n",
    "import Data.Bifunctor (bimap)\n",
    "import Numeric.Log\n",
    "import qualified Data.Text as T\n",
    "\n",
    "\n",
    ":l ../plotting.hs"
   ]
  },
  {
   "cell_type": "markdown",
   "id": "bb6b1d04-808f-4700-9e5b-b880f64432bc",
   "metadata": {},
   "source": [
    "# Bayesian Models\n",
    "\n",
    "Monad-Bayes exports a `Bayesian` datatype to make using Bayesian models easier. The idea is that you specify your model as a prior, generative model and a likelihood. \n",
    "\n",
    "```\n",
    "data Bayesian m z o = Bayesian\n",
    "  { prior :: m z,                      -- prior over latent variable Z; p(z)\n",
    "    generative :: z -> m o,            -- distribution over observations given Z=z\n",
    "    likelihood :: z -> o -> Log Double -- p(o|z)\n",
    "  }\n",
    "```\n",
    "\n",
    "Likelihood is the PDF of the generative model and is a function from the problem domain to positive real numbers. Generative model allows for drawing samples from the distribution.\n",
    "Likelihood and generative model are separated because you can't always get the density from a distribution definition.\n",
    "\n",
    "\n",
    "Once you've defined Bayesian model, a number of standard operations, like obtaining the posterior or the posterior predictive, are automated for you.\n",
    "\n",
    "Here's a simple example:"
   ]
  },
  {
   "cell_type": "code",
   "execution_count": 2,
   "id": "5df6eb5a-8545-43fa-83d7-bd25f74804cc",
   "metadata": {},
   "outputs": [],
   "source": [
    "model :: MonadSample m => Bayesian m Bool Double\n",
    "model = Bayesian {\n",
    "    prior = bernoulli 0.5,\n",
    "    generative = \\x -> normal (if x then 2 else (-2)) 1,\n",
    "    likelihood  = \\x y -> normalPdf (if x then 2 else (-2)) 1 y\n",
    "    }"
   ]
  },
  {
   "cell_type": "markdown",
   "id": "a31299a8-2294-4182-823d-d85bd2136945",
   "metadata": {},
   "source": [
    "## Prior"
   ]
  },
  {
   "cell_type": "code",
   "execution_count": 3,
   "id": "07c4584c-8351-4e0b-814b-d3746b6b6962",
   "metadata": {},
   "outputs": [
    {
     "data": {
      "application/vnd.vegalite.v4+json": {
       "$schema": "https://vega.github.io/schema/vega-lite/v4.json",
       "data": {
        "values": [
         {
          "X": "True",
          "Y": 0.50029
         },
         {
          "X": "False",
          "Y": 0.49971
         }
        ]
       },
       "encoding": {
        "x": {
         "field": "X",
         "type": "nominal"
        },
        "y": {
         "field": "Y",
         "type": "quantitative"
        }
       },
       "height": 400,
       "mark": "bar",
       "width": 400
      },
      "image/png": "[encoded data removed]"
     },
     "metadata": {},
     "output_type": "display_data"
    }
   ],
   "source": [
    "sampler $ \n",
    "    plot . fmap (first (T.pack . show)) . toEmpirical <$> \n",
    "    replicateM 100000 (prior model)"
   ]
  },
  {
   "cell_type": "markdown",
   "id": "1730423b-8190-481b-a215-a129ea9fdbc9",
   "metadata": {},
   "source": [
    "## Prior predictive\n",
    "\n",
    "Prior predictive model is an application of the generative distribution to the prior distribution.\n",
    "\n",
    "Similarly as in `Sampling.ipynb` example we need to introduce a constant weight by mapping samples to a pair (value, score) with `(,constWeight) <$> `."
   ]
  },
  {
   "cell_type": "code",
   "execution_count": 4,
   "id": "c0de2347-77b2-4433-8bd0-e854791c23b8",
   "metadata": {},
   "outputs": [
    {
     "data": {
      "application/vnd.vegalite.v4+json": {
       "$schema": "https://vega.github.io/schema/vega-lite/v4.json",
       "data": {
        "values": [
         {
          "X": -6.3553165135508145,
          "Y": 1
         },
         {
          "X": -6.226118436979066,
          "Y": 0
         },
         {
          "X": -6.096920360407317,
          "Y": 0
         },
         {
          "X": -5.967722283835569,
          "Y": 3
         },
         {
          "X": -5.83852420726382,
          "Y": 3
         },
         {
          "X": -5.709326130692071,
          "Y": 2
         },
         {
          "X": -5.580128054120323,
          "Y": 3
         },
         {
          "X": -5.450929977548574,
          "Y": 9
         },
         {
          "X": -5.321731900976825,
          "Y": 8
         },
         {
          "X": -5.192533824405077,
          "Y": 13
         },
         {
          "X": -5.063335747833328,
          "Y": 20
         },
         {
          "X": -4.934137671261579,
          "Y": 27
         },
         {
          "X": -4.804939594689831,
          "Y": 42
         },
         {
          "X": -4.675741518118082,
          "Y": 78
         },
         {
          "X": -4.5465434415463335,
          "Y": 90
         },
         {
          "X": -4.417345364974585,
          "Y": 133
         },
         {
          "X": -4.288147288402836,
          "Y": 178
         },
         {
          "X": -4.158949211831088,
          "Y": 212
         },
         {
          "X": -4.029751135259339,
          "Y": 343
         },
         {
          "X": -3.9005530586875907,
          "Y": 434
         },
         {
          "X": -3.771354982115842,
          "Y": 558
         },
         {
          "X": -3.6421569055440934,
          "Y": 654
         },
         {
          "X": -3.512958828972345,
          "Y": 806
         },
         {
          "X": -3.383760752400596,
          "Y": 988
         },
         {
          "X": -3.254562675828848,
          "Y": 1104
         },
         {
          "X": -3.1253645992570993,
          "Y": 1328
         },
         {
          "X": -2.9961665226853507,
          "Y": 1528
         },
         {
          "X": -2.866968446113602,
          "Y": 1820
         },
         {
          "X": -2.7377703695418534,
          "Y": 2036
         },
         {
          "X": -2.6085722929701047,
          "Y": 2139
         },
         {
          "X": -2.479374216398356,
          "Y": 2273
         },
         {
          "X": -2.3501761398266074,
          "Y": 2491
         },
         {
          "X": -2.220978063254859,
          "Y": 2474
         },
         {
          "X": -2.09177998668311,
          "Y": 2557
         },
         {
          "X": -1.9625819101113615,
          "Y": 2667
         },
         {
          "X": -1.8333838335396129,
          "Y": 2542
         },
         {
          "X": -1.7041857569678642,
          "Y": 2482
         },
         {
          "X": -1.5749876803961156,
          "Y": 2350
         },
         {
          "X": -1.445789603824367,
          "Y": 2248
         },
         {
          "X": -1.3165915272526183,
          "Y": 2031
         },
         {
          "X": -1.1873934506808697,
          "Y": 1942
         },
         {
          "X": -1.058195374109121,
          "Y": 1669
         },
         {
          "X": -0.9289972975373724,
          "Y": 1498
         },
         {
          "X": -0.7997992209656237,
          "Y": 1358
         },
         {
          "X": -0.6706011443938751,
          "Y": 1119
         },
         {
          "X": -0.5414030678221264,
          "Y": 981
         },
         {
          "X": -0.4122049912503778,
          "Y": 857
         },
         {
          "X": -0.28300691467862915,
          "Y": 759
         },
         {
          "X": -0.1538088381068814,
          "Y": 688
         },
         {
          "X": -0.024610761535132752,
          "Y": 659
         },
         {
          "X": 0.10458731503661589,
          "Y": 755
         },
         {
          "X": 0.23378539160836453,
          "Y": 781
         },
         {
          "X": 0.3629834681801132,
          "Y": 862
         },
         {
          "X": 0.4921815447518618,
          "Y": 934
         },
         {
          "X": 0.6213796213236105,
          "Y": 1092
         },
         {
          "X": 0.7505776978953591,
          "Y": 1279
         },
         {
          "X": 0.8797757744671078,
          "Y": 1488
         },
         {
          "X": 1.0089738510388564,
          "Y": 1543
         },
         {
          "X": 1.138171927610605,
          "Y": 1814
         },
         {
          "X": 1.2673700041823537,
          "Y": 1765
         },
         {
          "X": 1.3965680807541023,
          "Y": 2154
         },
         {
          "X": 1.525766157325851,
          "Y": 2321
         },
         {
          "X": 1.6549642338975987,
          "Y": 2483
         },
         {
          "X": 1.7841623104693474,
          "Y": 2582
         },
         {
          "X": 1.913360387041096,
          "Y": 2533
         },
         {
          "X": 2.0425584636128447,
          "Y": 2563
         },
         {
          "X": 2.1717565401845933,
          "Y": 2513
         },
         {
          "X": 2.300954616756342,
          "Y": 2470
         },
         {
          "X": 2.4301526933280906,
          "Y": 2408
         },
         {
          "X": 2.5593507698998392,
          "Y": 2220
         },
         {
          "X": 2.688548846471588,
          "Y": 2033
         },
         {
          "X": 2.8177469230433365,
          "Y": 1864
         },
         {
          "X": 2.946944999615085,
          "Y": 1675
         },
         {
          "X": 3.076143076186834,
          "Y": 1434
         },
         {
          "X": 3.2053411527585824,
          "Y": 1250
         },
         {
          "X": 3.334539229330331,
          "Y": 1007
         },
         {
          "X": 3.4637373059020797,
          "Y": 899
         },
         {
          "X": 3.5929353824738284,
          "Y": 687
         },
         {
          "X": 3.722133459045577,
          "Y": 590
         },
         {
          "X": 3.8513315356173257,
          "Y": 429
         },
         {
          "X": 3.9805296121890743,
          "Y": 343
         },
         {
          "X": 4.109727688760823,
          "Y": 268
         },
         {
          "X": 4.238925765332572,
          "Y": 206
         },
         {
          "X": 4.36812384190432,
          "Y": 176
         },
         {
          "X": 4.497321918476069,
          "Y": 111
         },
         {
          "X": 4.6265199950478175,
          "Y": 81
         },
         {
          "X": 4.755718071619566,
          "Y": 52
         },
         {
          "X": 4.884916148191315,
          "Y": 50
         },
         {
          "X": 5.0141142247630635,
          "Y": 21
         },
         {
          "X": 5.143312301334812,
          "Y": 15
         },
         {
          "X": 5.272510377906561,
          "Y": 11
         },
         {
          "X": 5.401708454478309,
          "Y": 6
         },
         {
          "X": 5.530906531050058,
          "Y": 12
         },
         {
          "X": 5.660104607621807,
          "Y": 4
         },
         {
          "X": 5.789302684193555,
          "Y": 2
         },
         {
          "X": 5.918500760765304,
          "Y": 1
         },
         {
          "X": 6.047698837337051,
          "Y": 5
         },
         {
          "X": 6.1768969139087995,
          "Y": 2
         },
         {
          "X": 6.306094990480548,
          "Y": 0
         },
         {
          "X": 6.435293067052297,
          "Y": 0
         }
        ]
       },
       "encoding": {
        "x": {
         "field": "X",
         "type": "quantitative"
        },
        "y": {
         "field": "Y",
         "type": "quantitative"
        }
       },
       "height": 400,
       "mark": "bar",
       "width": 400
      },
      "image/png": "[encoded data removed]"
     },
     "metadata": {},
     "output_type": "display_data"
    }
   ],
   "source": [
    "constWeight = 1 :: Log Double\n",
    "\n",
    "sampler $ plot . histogramToList . histogram 100 <$> replicateM 100000 ((,constWeight) <$>  priorPredictive model)"
   ]
  },
  {
   "cell_type": "markdown",
   "id": "e43b4b99-dfa0-4fa7-86a8-37742e60cd25",
   "metadata": {},
   "source": [
    "## Posterior"
   ]
  },
  {
   "cell_type": "markdown",
   "id": "7b9fd255-e24a-47a9-a7e4-330db726b31c",
   "metadata": {},
   "source": [
    "Posterior distribution is computed using `likelihood` and observations $os = \\{o_{1}, \\dots o_{n} \\}$.\n",
    "Factors are computed for posterior for `model`, and in the considered example yield following: \n",
    "- $ \\prod_{i=1}^{n} \\text{likelihood}(\\text{True}, o_{i}) $ for `True` \n",
    "- $ \\prod_{i=1}^{n} \\text{likelihood}(\\text{False}, o_{i}) $ for `False`.\n",
    "\n",
    "Note that factors do not have to sum up to 1. Empirical distribution is obtained by normalizing factors to 1.\n"
   ]
  },
  {
   "cell_type": "markdown",
   "id": "5106188a-c959-455a-b155-e5a5e4a34cb0",
   "metadata": {},
   "source": [
    "### Observations\n",
    "\n",
    "In our example, we experiment how observed data change the a priori model given the likelihood function. Observations should be in the domain of the likelihood function."
   ]
  },
  {
   "cell_type": "markdown",
   "id": "bab96b4a-eba8-445f-b612-d1acbaac902c",
   "metadata": {},
   "source": [
    "Taking symmetrical and evenly distributed points, we do not change the posterior distribution:"
   ]
  },
  {
   "cell_type": "code",
   "execution_count": 5,
   "id": "e7de370d-616e-44b3-9fd3-ddea14e6d27e",
   "metadata": {},
   "outputs": [
    {
     "data": {
      "text/plain": [
       "[(False,0.5014899999999932),(True,0.49851000000000845)]"
      ]
     },
     "metadata": {},
     "output_type": "display_data"
    }
   ],
   "source": [
    "observations1 = [-3..3]\n",
    "sampler $ toEmpiricalWeighted <$> replicateM 100000 (weighted $ posterior model observations1)"
   ]
  },
  {
   "cell_type": "markdown",
   "id": "616dd80b-6d54-4044-abf0-eef08f31e525",
   "metadata": {},
   "source": [
    "On the other hand, if the observations are unevenly distributed adjustments to posterior are well visible:"
   ]
  },
  {
   "cell_type": "code",
   "execution_count": 6,
   "id": "cb53e65b-d75b-4c47-9ba4-14dbe4fecbea",
   "metadata": {},
   "outputs": [
    {
     "data": {
      "text/plain": [
       "[(True,0.7680120509875822),(False,0.2319879490124177)]"
      ]
     },
     "metadata": {},
     "output_type": "display_data"
    }
   ],
   "source": [
    "observations2 = [-2.3, -2, 0, 0.3, 2, 2.3]\n",
    "sampler $ toEmpiricalWeighted <$> replicateM 100000 (weighted $ posterior model observations2)"
   ]
  },
  {
   "cell_type": "code",
   "execution_count": 7,
   "id": "064ba891-8d4c-4a2f-9aa3-530c64cce610",
   "metadata": {},
   "outputs": [
    {
     "data": {
      "application/vnd.vegalite.v4+json": {
       "$schema": "https://vega.github.io/schema/vega-lite/v4.json",
       "data": {
        "values": [
         {
          "X": "True",
          "Y": 0.7755649428344371
         },
         {
          "X": "False",
          "Y": 0.2244350571655642
         }
        ]
       },
       "encoding": {
        "x": {
         "field": "X",
         "type": "nominal"
        },
        "y": {
         "field": "Y",
         "type": "quantitative"
        }
       },
       "height": 400,
       "mark": "bar",
       "width": 400
      },
      "image/png": "[encoded data removed]"
     },
     "metadata": {},
     "output_type": "display_data"
    }
   ],
   "source": [
    "sampler $ \n",
    "    plot . fmap (bimap (T.pack . show) (ln . exp)) . toEmpiricalWeighted <$> \n",
    "    replicateM 1000 (weighted $ posterior model observations2)"
   ]
  },
  {
   "cell_type": "markdown",
   "id": "22d6ba01-5509-4268-8888-280b40d7cb5c",
   "metadata": {},
   "source": [
    "### Excercise\n",
    "\n",
    "Change the observations lists and see how the posterior is affected.\n",
    "Change standard deviation of `likelihood` and see how posterior changes.\n"
   ]
  },
  {
   "cell_type": "markdown",
   "id": "dd0b08c8-e604-43be-9029-6708c61b4d1b",
   "metadata": {},
   "source": [
    "## Posterior predictive\n",
    "\n",
    "Analoguosly to prior predictive is generated by `generative` applied to `posterior`."
   ]
  },
  {
   "cell_type": "code",
   "execution_count": 8,
   "id": "3021a681-2370-4157-b5c7-fc9bbe2f7849",
   "metadata": {},
   "outputs": [
    {
     "data": {
      "application/vnd.vegalite.v4+json": {
       "$schema": "https://vega.github.io/schema/vega-lite/v4.json",
       "data": {
        "values": [
         {
          "X": -5.842059612748209,
          "Y": 2.4001640693835677e-12
         },
         {
          "X": -5.71990868249788,
          "Y": 1.2000820346917839e-12
         },
         {
          "X": -5.597757752247549,
          "Y": 7.200492208150703e-12
         },
         {
          "X": -5.47560682199722,
          "Y": 3.6002461040753516e-12
         },
         {
          "X": -5.35345589174689,
          "Y": 9.600656277534271e-12
         },
         {
          "X": -5.23130496149656,
          "Y": 1.680114848568497e-11
         },
         {
          "X": -5.109154031246231,
          "Y": 2.16014766244521e-11
         },
         {
          "X": -4.9870031009959,
          "Y": 2.640180476321923e-11
         },
         {
          "X": -4.8648521707455705,
          "Y": 5.1603527491746656e-11
         },
         {
          "X": -4.742701240495241,
          "Y": 8.400574242842491e-11
         },
         {
          "X": -4.620550310244911,
          "Y": 9.60065627753428e-11
         },
         {
          "X": -4.498399379994581,
          "Y": 1.368093519548636e-10
         },
         {
          "X": -4.376248449744251,
          "Y": 1.6081099264869938e-10
         },
         {
          "X": -4.2540975194939215,
          "Y": 1.908130435159941e-10
         },
         {
          "X": -4.131946589243592,
          "Y": 3.1202132901986475e-10
         },
         {
          "X": -4.009795658993262,
          "Y": 3.6602502058099524e-10
         },
         {
          "X": -3.8876447287429317,
          "Y": 5.28036095264384e-10
         },
         {
          "X": -3.765493798492602,
          "Y": 6.312431502478734e-10
         },
         {
          "X": -3.6433428682422724,
          "Y": 7.320500411619793e-10
         },
         {
          "X": -3.5211919379919423,
          "Y": 9.588655457187177e-10
         },
         {
          "X": -3.3990410077416127,
          "Y": 1.14007793295717e-09
         },
         {
          "X": -3.2768900774912826,
          "Y": 1.3344912225772314e-09
         },
         {
          "X": -3.154739147240953,
          "Y": 1.4929020511565407e-09
         },
         {
          "X": -3.032588216990623,
          "Y": 1.6609135360133839e-09
         },
         {
          "X": -2.9104372867402932,
          "Y": 1.8589270717375205e-09
         },
         {
          "X": -2.788286356489963,
          "Y": 2.1289455295431613e-09
         },
         {
          "X": -2.6661354262396335,
          "Y": 2.3389598856142153e-09
         },
         {
          "X": -2.5439844959893034,
          "Y": 2.4593522556513663e-09
         },
         {
          "X": -2.421833565738974,
          "Y": 2.7757897462420075e-09
         },
         {
          "X": -2.2996826354886437,
          "Y": 2.7953752253650522e-09
         },
         {
          "X": -2.177531705238314,
          "Y": 2.91778359290361e-09
         },
         {
          "X": -2.055380774987984,
          "Y": 2.842994340184745e-09
         },
         {
          "X": -1.9332298447376544,
          "Y": 2.8793809677934742e-09
         },
         {
          "X": -1.8110789144873243,
          "Y": 2.9453854797015193e-09
         },
         {
          "X": -1.6889279842369946,
          "Y": 2.8041599661758717e-09
         },
         {
          "X": -1.566777053986665,
          "Y": 2.6153153378305314e-09
         },
         {
          "X": -1.4446261237363354,
          "Y": 2.529725346799441e-09
         },
         {
          "X": -1.3224751934860048,
          "Y": 2.3451541330326082e-09
         },
         {
          "X": -1.2003242632356752,
          "Y": 2.1371557744629612e-09
         },
         {
          "X": -1.0781733329853456,
          "Y": 1.9553213090027284e-09
         },
         {
          "X": -0.9560224027350159,
          "Y": 1.8175532945888735e-09
         },
         {
          "X": -0.8338714724846854,
          "Y": 1.599474948512194e-09
         },
         {
          "X": -0.7117205422343558,
          "Y": 1.482781497162532e-09
         },
         {
          "X": -0.5895696119840261,
          "Y": 1.4539830362518222e-09
         },
         {
          "X": -0.4674186817336965,
          "Y": 1.2414257691191003e-09
         },
         {
          "X": -0.34526775148336597,
          "Y": 1.3597615751678686e-09
         },
         {
          "X": -0.22311682123303633,
          "Y": 1.3515107637610923e-09
         },
         {
          "X": -0.1009658909827067,
          "Y": 1.4694148209111227e-09
         },
         {
          "X": 0.02118503926762294,
          "Y": 1.7111722551319918e-09
         },
         {
          "X": 0.14333596951795258,
          "Y": 1.986484403993463e-09
         },
         {
          "X": 0.2654868997682831,
          "Y": 2.3620765302087715e-09
         },
         {
          "X": 0.38763783001861274,
          "Y": 2.749958478677452e-09
         },
         {
          "X": 0.5097887602689424,
          "Y": 3.531481366212576e-09
         },
         {
          "X": 0.631939690519272,
          "Y": 3.9489336166498345e-09
         },
         {
          "X": 0.7540906207696025,
          "Y": 4.619372280597069e-09
         },
         {
          "X": 0.8762415510199322,
          "Y": 5.497047985821791e-09
         },
         {
          "X": 0.9983924812702618,
          "Y": 5.9109475724857525e-09
         },
         {
          "X": 1.1205434115205914,
          "Y": 6.461228270127739e-09
         },
         {
          "X": 1.242694341770922,
          "Y": 7.40750248857483e-09
         },
         {
          "X": 1.3648452720212516,
          "Y": 8.243365651908378e-09
         },
         {
          "X": 1.4869962022715812,
          "Y": 8.789230187979574e-09
         },
         {
          "X": 1.6091471325219109,
          "Y": 9.053401506369731e-09
         },
         {
          "X": 1.7312980627722414,
          "Y": 9.349832292704287e-09
         },
         {
          "X": 1.853448993022571,
          "Y": 9.7016606898796e-09
         },
         {
          "X": 1.9755999232729007,
          "Y": 9.634309841022684e-09
         },
         {
          "X": 2.0977508535232303,
          "Y": 9.550637174909581e-09
         },
         {
          "X": 2.2199017837735617,
          "Y": 9.514777460861109e-09
         },
         {
          "X": 2.3420527140238914,
          "Y": 9.080476479607385e-09
         },
         {
          "X": 2.464203644274221,
          "Y": 8.749770227827026e-09
         },
         {
          "X": 2.5863545745245506,
          "Y": 8.526643118192085e-09
         },
         {
          "X": 2.7085055047748803,
          "Y": 7.5185867121628e-09
         },
         {
          "X": 2.83065643502521,
          "Y": 6.5902185595745634e-09
         },
         {
          "X": 2.9528073652755396,
          "Y": 6.076229324879789e-09
         },
         {
          "X": 3.074958295525871,
          "Y": 5.462629773383702e-09
         },
         {
          "X": 3.1971092257762006,
          "Y": 4.454573367354416e-09
         },
         {
          "X": 3.3192601560265302,
          "Y": 4.0322256241168495e-09
         },
         {
          "X": 3.44141108627686,
          "Y": 3.5540961034705653e-09
         },
         {
          "X": 3.5635620165271895,
          "Y": 3.139717185577147e-09
         },
         {
          "X": 3.685712946777519,
          "Y": 2.5659617608016444e-09
         },
         {
          "X": 3.807863877027849,
          "Y": 1.8647051305204747e-09
         },
         {
          "X": 3.9300148072781784,
          "Y": 1.4941547520196102e-09
         },
         {
          "X": 4.052165737528508,
          "Y": 1.2351679283362102e-09
         },
         {
          "X": 4.1743166677788395,
          "Y": 9.044616765558688e-10
         },
         {
          "X": 4.296467598029169,
          "Y": 6.972722176091489e-10
         },
         {
          "X": 4.418618528279499,
          "Y": 4.701606953021674e-10
         },
         {
          "X": 4.540769458529828,
          "Y": 3.9047244186112216e-10
         },
         {
          "X": 4.662920388780158,
          "Y": 2.908621250598158e-10
         },
         {
          "X": 4.785071319030488,
          "Y": 2.510179983392932e-10
         },
         {
          "X": 4.907222249280817,
          "Y": 1.553920942100386e-10
         },
         {
          "X": 5.029373179531147,
          "Y": 1.1554796748951579e-10
         },
         {
          "X": 5.151524109781478,
          "Y": 6.37506027528363e-11
         },
         {
          "X": 5.273675040031808,
          "Y": 3.984412672052269e-11
         },
         {
          "X": 5.395825970282138,
          "Y": 2.3906476032313613e-11
         },
         {
          "X": 5.517976900532467,
          "Y": 1.5937650688209076e-11
         },
         {
          "X": 5.640127830782797,
          "Y": 7.968825344104538e-12
         },
         {
          "X": 5.7622787610331265,
          "Y": 1.1953238016156808e-11
         },
         {
          "X": 5.884429691283456,
          "Y": 3.984412672052269e-12
         },
         {
          "X": 6.006580621533786,
          "Y": 3.984412672052269e-12
         },
         {
          "X": 6.128731551784115,
          "Y": 0
         },
         {
          "X": 6.250882482034447,
          "Y": 0
         }
        ]
       },
       "encoding": {
        "x": {
         "field": "X",
         "type": "quantitative"
        },
        "y": {
         "field": "Y",
         "type": "quantitative"
        }
       },
       "height": 400,
       "mark": "bar",
       "width": 400
      },
      "image/png": "[encoded data removed]"
     },
     "metadata": {},
     "output_type": "display_data"
    }
   ],
   "source": [
    "sampler $ plot . histogramToList . histogram 100 <$> replicateM 100000 (weighted $ posteriorPredictive model observations2)"
   ]
  },
  {
   "cell_type": "markdown",
   "id": "d3c062c3-e5f8-4a72-b631-0635a6730b25",
   "metadata": {},
   "source": [
    "# Regression\n",
    "\n",
    "The classical example of linear regression:"
   ]
  },
  {
   "cell_type": "code",
   "execution_count": 9,
   "id": "080d34a0-3324-4bf2-bb25-72b06db1f342",
   "metadata": {},
   "outputs": [],
   "source": [
    "range :: [Double]\n",
    "range = [-10,-9.9..10] \n",
    "\n",
    "\n",
    "regression :: MonadSample m => Bayesian m (Double, Double, Double) [Double]\n",
    "regression = Bayesian {\n",
    "    prior = do \n",
    "            slope <- normal 0 2\n",
    "            intercept <- normal 0 2\n",
    "            noise <- gamma 4 4\n",
    "            return (slope, intercept, noise),\n",
    "    \n",
    "    generative = \\(slope, intercept, noise) -> do\n",
    "            forM range \\x -> normal (x*slope + intercept) (sqrt noise),\n",
    "            \n",
    "    likelihood = \\(slope, intercept, noise) ys -> Prelude.sum [normalPdf (x*slope + intercept) (sqrt noise) y | (x,y) <- zip range ys] \n",
    "                \n",
    "    }\n"
   ]
  },
  {
   "cell_type": "markdown",
   "id": "da26e20a-6112-408e-90c3-9af694e9bfb6",
   "metadata": {},
   "source": [
    "## Prior predictive\n",
    "\n",
    "`prior` distribution has three independent parameters. `generative` combines them into a new distribution."
   ]
  },
  {
   "cell_type": "code",
   "execution_count": 10,
   "id": "0621fc17-5c64-409b-9d08-d52b067b8dcd",
   "metadata": {},
   "outputs": [
    {
     "data": {
      "application/vnd.vegalite.v4+json": {
       "$schema": "https://vega.github.io/schema/vega-lite/v4.json",
       "data": {
        "values": [
         {
          "Outlier": "\"\\\"N/A\\\"\"",
          "X": -10,
          "Y": -30.9085296208903
         },
         {
          "Outlier": "\"\\\"N/A\\\"\"",
          "X": -9.9,
          "Y": -24.28595988856253
         },
         {
          "Outlier": "\"\\\"N/A\\\"\"",
          "X": -9.8,
          "Y": -33.9215440728534
         },
         {
          "Outlier": "\"\\\"N/A\\\"\"",
          "X": -9.700000000000001,
          "Y": -36.58529689946597
         },
         {
          "Outlier": "\"\\\"N/A\\\"\"",
          "X": -9.600000000000001,
          "Y": -36.271337262999026
         },
         {
          "Outlier": "\"\\\"N/A\\\"\"",
          "X": -9.500000000000002,
          "Y": -32.18605537508432
         },
         {
          "Outlier": "\"\\\"N/A\\\"\"",
          "X": -9.400000000000002,
          "Y": -27.34510995594927
         },
         {
          "Outlier": "\"\\\"N/A\\\"\"",
          "X": -9.300000000000002,
          "Y": -31.87147389214374
         },
         {
          "Outlier": "\"\\\"N/A\\\"\"",
          "X": -9.200000000000003,
          "Y": -33.58031934851327
         },
         {
          "Outlier": "\"\\\"N/A\\\"\"",
          "X": -9.100000000000003,
          "Y": -35.66748545269159
         },
         {
          "Outlier": "\"\\\"N/A\\\"\"",
          "X": -9.000000000000004,
          "Y": -34.22622645637519
         },
         {
          "Outlier": "\"\\\"N/A\\\"\"",
          "X": -8.900000000000004,
          "Y": -30.591291054262125
         },
         {
          "Outlier": "\"\\\"N/A\\\"\"",
          "X": -8.800000000000004,
          "Y": -30.526412617669013
         },
         {
          "Outlier": "\"\\\"N/A\\\"\"",
          "X": -8.700000000000005,
          "Y": -33.38302707234547
         },
         {
          "Outlier": "\"\\\"N/A\\\"\"",
          "X": -8.600000000000005,
          "Y": -24.725854480733844
         },
         {
          "Outlier": "\"\\\"N/A\\\"\"",
          "X": -8.500000000000005,
          "Y": -25.653507554232327
         },
         {
          "Outlier": "\"\\\"N/A\\\"\"",
          "X": -8.400000000000006,
          "Y": -23.507391163969753
         },
         {
          "Outlier": "\"\\\"N/A\\\"\"",
          "X": -8.300000000000006,
          "Y": -29.469458795547716
         },
         {
          "Outlier": "\"\\\"N/A\\\"\"",
          "X": -8.200000000000006,
          "Y": -39.25728746151984
         },
         {
          "Outlier": "\"\\\"N/A\\\"\"",
          "X": -8.100000000000007,
          "Y": -28.339040240231597
         },
         {
          "Outlier": "\"\\\"N/A\\\"\"",
          "X": -8.000000000000007,
          "Y": -23.031318074876687
         },
         {
          "Outlier": "\"\\\"N/A\\\"\"",
          "X": -7.9000000000000075,
          "Y": -28.669048577115856
         },
         {
          "Outlier": "\"\\\"N/A\\\"\"",
          "X": -7.800000000000008,
          "Y": -26.437141448502633
         },
         {
          "Outlier": "\"\\\"N/A\\\"\"",
          "X": -7.700000000000008,
          "Y": -30.63033434066741
         },
         {
          "Outlier": "\"\\\"N/A\\\"\"",
          "X": -7.6000000000000085,
          "Y": -29.421545700902342
         },
         {
          "Outlier": "\"\\\"N/A\\\"\"",
          "X": -7.500000000000009,
          "Y": -24.25216469840016
         },
         {
          "Outlier": "\"\\\"N/A\\\"\"",
          "X": -7.400000000000009,
          "Y": -29.290911217023282
         },
         {
          "Outlier": "\"\\\"N/A\\\"\"",
          "X": -7.30000000000001,
          "Y": -29.53563865486293
         },
         {
          "Outlier": "\"\\\"N/A\\\"\"",
          "X": -7.20000000000001,
          "Y": -23.176796421763374
         },
         {
          "Outlier": "\"\\\"N/A\\\"\"",
          "X": -7.10000000000001,
          "Y": -22.085804143981516
         },
         {
          "Outlier": "\"\\\"N/A\\\"\"",
          "X": -7.000000000000011,
          "Y": -26.441016850056084
         },
         {
          "Outlier": "\"\\\"N/A\\\"\"",
          "X": -6.900000000000011,
          "Y": -23.407195057033242
         },
         {
          "Outlier": "\"\\\"N/A\\\"\"",
          "X": -6.800000000000011,
          "Y": -30.45195940542697
         },
         {
          "Outlier": "\"\\\"N/A\\\"\"",
          "X": -6.700000000000012,
          "Y": -19.475947617783987
         },
         {
          "Outlier": "\"\\\"N/A\\\"\"",
          "X": -6.600000000000012,
          "Y": -18.139005763447532
         },
         {
          "Outlier": "\"\\\"N/A\\\"\"",
          "X": -6.500000000000012,
          "Y": -16.13116123359175
         },
         {
          "Outlier": "\"\\\"N/A\\\"\"",
          "X": -6.400000000000013,
          "Y": -21.393168841506306
         },
         {
          "Outlier": "\"\\\"N/A\\\"\"",
          "X": -6.300000000000013,
          "Y": -23.211180749728168
         },
         {
          "Outlier": "\"\\\"N/A\\\"\"",
          "X": -6.2000000000000135,
          "Y": -21.059465273534034
         },
         {
          "Outlier": "\"\\\"N/A\\\"\"",
          "X": -6.100000000000014,
          "Y": -15.276436141345503
         },
         {
          "Outlier": "\"\\\"N/A\\\"\"",
          "X": -6.000000000000014,
          "Y": -21.171636798055303
         },
         {
          "Outlier": "\"\\\"N/A\\\"\"",
          "X": -5.900000000000015,
          "Y": -21.478719468307844
         },
         {
          "Outlier": "\"\\\"N/A\\\"\"",
          "X": -5.800000000000015,
          "Y": -17.158797816934
         },
         {
          "Outlier": "\"\\\"N/A\\\"\"",
          "X": -5.700000000000015,
          "Y": -18.34866282308972
         },
         {
          "Outlier": "\"\\\"N/A\\\"\"",
          "X": -5.600000000000016,
          "Y": -20.496142592526287
         },
         {
          "Outlier": "\"\\\"N/A\\\"\"",
          "X": -5.500000000000016,
          "Y": -22.2478967617955
         },
         {
          "Outlier": "\"\\\"N/A\\\"\"",
          "X": -5.400000000000016,
          "Y": -20.557985195295473
         },
         {
          "Outlier": "\"\\\"N/A\\\"\"",
          "X": -5.300000000000017,
          "Y": -20.68673296053267
         },
         {
          "Outlier": "\"\\\"N/A\\\"\"",
          "X": -5.200000000000017,
          "Y": -21.389620604020106
         },
         {
          "Outlier": "\"\\\"N/A\\\"\"",
          "X": -5.100000000000017,
          "Y": -17.040039480465158
         },
         {
          "Outlier": "\"\\\"N/A\\\"\"",
          "X": -5.000000000000018,
          "Y": -16.66231790830265
         },
         {
          "Outlier": "\"\\\"N/A\\\"\"",
          "X": -4.900000000000018,
          "Y": -15.491532638397821
         },
         {
          "Outlier": "\"\\\"N/A\\\"\"",
          "X": -4.8000000000000185,
          "Y": -20.738970412090765
         },
         {
          "Outlier": "\"\\\"N/A\\\"\"",
          "X": -4.700000000000019,
          "Y": -24.39063031511322
         },
         {
          "Outlier": "\"\\\"N/A\\\"\"",
          "X": -4.600000000000019,
          "Y": -13.903878748643296
         },
         {
          "Outlier": "\"\\\"N/A\\\"\"",
          "X": -4.5000000000000195,
          "Y": -25.081947014774457
         },
         {
          "Outlier": "\"\\\"N/A\\\"\"",
          "X": -4.40000000000002,
          "Y": -19.47810025462818
         },
         {
          "Outlier": "\"\\\"N/A\\\"\"",
          "X": -4.30000000000002,
          "Y": -14.90105655954001
         },
         {
          "Outlier": "\"\\\"N/A\\\"\"",
          "X": -4.200000000000021,
          "Y": -12.627329915756562
         },
         {
          "Outlier": "\"\\\"N/A\\\"\"",
          "X": -4.100000000000021,
          "Y": -10.361076167227555
         },
         {
          "Outlier": "\"\\\"N/A\\\"\"",
          "X": -4.000000000000021,
          "Y": -15.089957367052383
         },
         {
          "Outlier": "\"\\\"N/A\\\"\"",
          "X": -3.9000000000000217,
          "Y": -14.533229117993459
         },
         {
          "Outlier": "\"\\\"N/A\\\"\"",
          "X": -3.800000000000022,
          "Y": -17.23056837588405
         },
         {
          "Outlier": "\"\\\"N/A\\\"\"",
          "X": -3.7000000000000224,
          "Y": -11.710909013539624
         },
         {
          "Outlier": "\"\\\"N/A\\\"\"",
          "X": -3.6000000000000227,
          "Y": -7.823705536561186
         },
         {
          "Outlier": "\"\\\"N/A\\\"\"",
          "X": -3.500000000000023,
          "Y": -10.705996713490737
         },
         {
          "Outlier": "\"\\\"N/A\\\"\"",
          "X": -3.4000000000000234,
          "Y": -11.420845756279318
         },
         {
          "Outlier": "\"\\\"N/A\\\"\"",
          "X": -3.300000000000024,
          "Y": -12.423948661471957
         },
         {
          "Outlier": "\"\\\"N/A\\\"\"",
          "X": -3.200000000000024,
          "Y": -10.429215161532541
         },
         {
          "Outlier": "\"\\\"N/A\\\"\"",
          "X": -3.1000000000000245,
          "Y": -13.593466933431886
         },
         {
          "Outlier": "\"\\\"N/A\\\"\"",
          "X": -3.000000000000025,
          "Y": -6.847917290107725
         },
         {
          "Outlier": "\"\\\"N/A\\\"\"",
          "X": -2.9000000000000252,
          "Y": -12.06125132874157
         },
         {
          "Outlier": "\"\\\"N/A\\\"\"",
          "X": -2.8000000000000256,
          "Y": -8.111645555525186
         },
         {
          "Outlier": "\"\\\"N/A\\\"\"",
          "X": -2.700000000000026,
          "Y": -6.17376769852037
         },
         {
          "Outlier": "\"\\\"N/A\\\"\"",
          "X": -2.6000000000000263,
          "Y": -11.948998882219117
         },
         {
          "Outlier": "\"\\\"N/A\\\"\"",
          "X": -2.5000000000000266,
          "Y": -4.590460090779178
         },
         {
          "Outlier": "\"\\\"N/A\\\"\"",
          "X": -2.400000000000027,
          "Y": -5.558019442710183
         },
         {
          "Outlier": "\"\\\"N/A\\\"\"",
          "X": -2.3000000000000274,
          "Y": -5.0368831521657125
         },
         {
          "Outlier": "\"\\\"N/A\\\"\"",
          "X": -2.2000000000000277,
          "Y": -2.9594602448624405
         },
         {
          "Outlier": "\"\\\"N/A\\\"\"",
          "X": -2.100000000000028,
          "Y": -5.631892054730662
         },
         {
          "Outlier": "\"\\\"N/A\\\"\"",
          "X": -2.0000000000000284,
          "Y": -11.360721270661253
         },
         {
          "Outlier": "\"\\\"N/A\\\"\"",
          "X": -1.9000000000000288,
          "Y": -8.896575935478923
         },
         {
          "Outlier": "\"\\\"N/A\\\"\"",
          "X": -1.8000000000000291,
          "Y": -3.311620471178684
         },
         {
          "Outlier": "\"\\\"N/A\\\"\"",
          "X": -1.7000000000000295,
          "Y": -6.4977930080422786
         },
         {
          "Outlier": "\"\\\"N/A\\\"\"",
          "X": -1.6000000000000298,
          "Y": -4.29176224395136
         },
         {
          "Outlier": "\"\\\"N/A\\\"\"",
          "X": -1.5000000000000302,
          "Y": -3.8502903244514295
         },
         {
          "Outlier": "\"\\\"N/A\\\"\"",
          "X": -1.4000000000000306,
          "Y": -2.378819837840402
         },
         {
          "Outlier": "\"\\\"N/A\\\"\"",
          "X": -1.300000000000031,
          "Y": -7.685273092401182
         },
         {
          "Outlier": "\"\\\"N/A\\\"\"",
          "X": -1.2000000000000313,
          "Y": -11.556095080693023
         },
         {
          "Outlier": "\"\\\"N/A\\\"\"",
          "X": -1.1000000000000316,
          "Y": -7.499577108959862
         },
         {
          "Outlier": "\"\\\"N/A\\\"\"",
          "X": -1.000000000000032,
          "Y": -9.851915348390301
         },
         {
          "Outlier": "\"\\\"N/A\\\"\"",
          "X": -0.9000000000000323,
          "Y": 0.5764879473690279
         },
         {
          "Outlier": "\"\\\"N/A\\\"\"",
          "X": -0.8000000000000327,
          "Y": 0.49548056976498644
         },
         {
          "Outlier": "\"\\\"N/A\\\"\"",
          "X": -0.700000000000033,
          "Y": -8.654542961537075
         },
         {
          "Outlier": "\"\\\"N/A\\\"\"",
          "X": -0.6000000000000334,
          "Y": -1.3932581633172705
         },
         {
          "Outlier": "\"\\\"N/A\\\"\"",
          "X": -0.5000000000000338,
          "Y": -0.8329344375442113
         },
         {
          "Outlier": "\"\\\"N/A\\\"\"",
          "X": -0.4000000000000341,
          "Y": -7.960588844644892
         },
         {
          "Outlier": "\"\\\"N/A\\\"\"",
          "X": -0.30000000000003446,
          "Y": -4.976843003857368
         },
         {
          "Outlier": "\"\\\"N/A\\\"\"",
          "X": -0.20000000000003482,
          "Y": 4.393471916172784
         },
         {
          "Outlier": "\"\\\"N/A\\\"\"",
          "X": -0.10000000000003517,
          "Y": 1.6088367530922207
         },
         {
          "Outlier": "\"\\\"N/A\\\"\"",
          "X": -3.552713678800501e-14,
          "Y": -7.807288856665283
         },
         {
          "Outlier": "\"\\\"N/A\\\"\"",
          "X": 0.09999999999996412,
          "Y": 7.600251203693003
         },
         {
          "Outlier": "\"\\\"N/A\\\"\"",
          "X": 0.19999999999996376,
          "Y": -3.028570882694396
         },
         {
          "Outlier": "\"\\\"N/A\\\"\"",
          "X": 0.2999999999999634,
          "Y": 6.162577519043602
         },
         {
          "Outlier": "\"\\\"N/A\\\"\"",
          "X": 0.39999999999996305,
          "Y": 2.413477373859468
         },
         {
          "Outlier": "\"\\\"N/A\\\"\"",
          "X": 0.4999999999999627,
          "Y": 3.827098579244858
         },
         {
          "Outlier": "\"\\\"N/A\\\"\"",
          "X": 0.5999999999999623,
          "Y": 6.214190147434758
         },
         {
          "Outlier": "\"\\\"N/A\\\"\"",
          "X": 0.699999999999962,
          "Y": 10.454635246423916
         },
         {
          "Outlier": "\"\\\"N/A\\\"\"",
          "X": 0.7999999999999616,
          "Y": 6.173725922620537
         },
         {
          "Outlier": "\"\\\"N/A\\\"\"",
          "X": 0.8999999999999613,
          "Y": 5.196103293883541
         },
         {
          "Outlier": "\"\\\"N/A\\\"\"",
          "X": 0.9999999999999609,
          "Y": -0.6390753683883545
         },
         {
          "Outlier": "\"\\\"N/A\\\"\"",
          "X": 1.0999999999999606,
          "Y": 3.8796888326773096
         },
         {
          "Outlier": "\"\\\"N/A\\\"\"",
          "X": 1.1999999999999602,
          "Y": 6.738937831970162
         },
         {
          "Outlier": "\"\\\"N/A\\\"\"",
          "X": 1.2999999999999599,
          "Y": 3.243218301498538
         },
         {
          "Outlier": "\"\\\"N/A\\\"\"",
          "X": 1.3999999999999595,
          "Y": 8.334339068272737
         },
         {
          "Outlier": "\"\\\"N/A\\\"\"",
          "X": 1.4999999999999591,
          "Y": 4.81822893409197
         },
         {
          "Outlier": "\"\\\"N/A\\\"\"",
          "X": 1.5999999999999588,
          "Y": 12.419441678803711
         },
         {
          "Outlier": "\"\\\"N/A\\\"\"",
          "X": 1.6999999999999584,
          "Y": 12.644067239099911
         },
         {
          "Outlier": "\"\\\"N/A\\\"\"",
          "X": 1.799999999999958,
          "Y": 8.89519866982423
         },
         {
          "Outlier": "\"\\\"N/A\\\"\"",
          "X": 1.8999999999999577,
          "Y": 4.3803126877805765
         },
         {
          "Outlier": "\"\\\"N/A\\\"\"",
          "X": 1.9999999999999574,
          "Y": 8.613274344627008
         },
         {
          "Outlier": "\"\\\"N/A\\\"\"",
          "X": 2.099999999999957,
          "Y": 13.090674747023254
         },
         {
          "Outlier": "\"\\\"N/A\\\"\"",
          "X": 2.1999999999999567,
          "Y": 11.88679450892485
         },
         {
          "Outlier": "\"\\\"N/A\\\"\"",
          "X": 2.2999999999999563,
          "Y": 9.020132214996728
         },
         {
          "Outlier": "\"\\\"N/A\\\"\"",
          "X": 2.399999999999956,
          "Y": 11.863779254097757
         },
         {
          "Outlier": "\"\\\"N/A\\\"\"",
          "X": 2.4999999999999556,
          "Y": 10.76897159605955
         },
         {
          "Outlier": "\"\\\"N/A\\\"\"",
          "X": 2.5999999999999552,
          "Y": 12.227441756860474
         },
         {
          "Outlier": "\"\\\"N/A\\\"\"",
          "X": 2.699999999999955,
          "Y": 8.671864620638402
         },
         {
          "Outlier": "\"\\\"N/A\\\"\"",
          "X": 2.7999999999999545,
          "Y": 14.359499394630102
         },
         {
          "Outlier": "\"\\\"N/A\\\"\"",
          "X": 2.899999999999954,
          "Y": 14.289589039984751
         },
         {
          "Outlier": "\"\\\"N/A\\\"\"",
          "X": 2.999999999999954,
          "Y": 9.814007664910886
         },
         {
          "Outlier": "\"\\\"N/A\\\"\"",
          "X": 3.0999999999999535,
          "Y": 9.300193090915798
         },
         {
          "Outlier": "\"\\\"N/A\\\"\"",
          "X": 3.199999999999953,
          "Y": 9.66009055085863
         },
         {
          "Outlier": "\"\\\"N/A\\\"\"",
          "X": 3.2999999999999527,
          "Y": 22.80197489328218
         },
         {
          "Outlier": "\"\\\"N/A\\\"\"",
          "X": 3.3999999999999524,
          "Y": 6.528537927529996
         },
         {
          "Outlier": "\"\\\"N/A\\\"\"",
          "X": 3.499999999999952,
          "Y": 11.719581704651276
         },
         {
          "Outlier": "\"\\\"N/A\\\"\"",
          "X": 3.5999999999999517,
          "Y": 12.768517067587108
         },
         {
          "Outlier": "\"\\\"N/A\\\"\"",
          "X": 3.6999999999999513,
          "Y": 9.471663162550328
         },
         {
          "Outlier": "\"\\\"N/A\\\"\"",
          "X": 3.799999999999951,
          "Y": 8.843255192321458
         },
         {
          "Outlier": "\"\\\"N/A\\\"\"",
          "X": 3.8999999999999506,
          "Y": 15.984537800503876
         },
         {
          "Outlier": "\"\\\"N/A\\\"\"",
          "X": 3.9999999999999503,
          "Y": 16.094885918442763
         },
         {
          "Outlier": "\"\\\"N/A\\\"\"",
          "X": 4.09999999999995,
          "Y": 21.39100628719514
         },
         {
          "Outlier": "\"\\\"N/A\\\"\"",
          "X": 4.1999999999999496,
          "Y": 10.918058364994135
         },
         {
          "Outlier": "\"\\\"N/A\\\"\"",
          "X": 4.299999999999949,
          "Y": 16.935525549548643
         },
         {
          "Outlier": "\"\\\"N/A\\\"\"",
          "X": 4.399999999999949,
          "Y": 18.170942640729336
         },
         {
          "Outlier": "\"\\\"N/A\\\"\"",
          "X": 4.4999999999999485,
          "Y": 19.541771588062414
         },
         {
          "Outlier": "\"\\\"N/A\\\"\"",
          "X": 4.599999999999948,
          "Y": 12.303443715668994
         },
         {
          "Outlier": "\"\\\"N/A\\\"\"",
          "X": 4.699999999999948,
          "Y": 12.324686609663779
         },
         {
          "Outlier": "\"\\\"N/A\\\"\"",
          "X": 4.799999999999947,
          "Y": 10.46330100585377
         },
         {
          "Outlier": "\"\\\"N/A\\\"\"",
          "X": 4.899999999999947,
          "Y": 15.194614016634194
         },
         {
          "Outlier": "\"\\\"N/A\\\"\"",
          "X": 4.999999999999947,
          "Y": 20.85824302988418
         },
         {
          "Outlier": "\"\\\"N/A\\\"\"",
          "X": 5.099999999999946,
          "Y": 22.533459942689504
         },
         {
          "Outlier": "\"\\\"N/A\\\"\"",
          "X": 5.199999999999946,
          "Y": 3.6160180635833292
         },
         {
          "Outlier": "\"\\\"N/A\\\"\"",
          "X": 5.299999999999946,
          "Y": 15.701586772600136
         },
         {
          "Outlier": "\"\\\"N/A\\\"\"",
          "X": 5.399999999999945,
          "Y": 18.3760201339785
         },
         {
          "Outlier": "\"\\\"N/A\\\"\"",
          "X": 5.499999999999945,
          "Y": 11.596335945646496
         },
         {
          "Outlier": "\"\\\"N/A\\\"\"",
          "X": 5.599999999999945,
          "Y": 18.811351465352434
         },
         {
          "Outlier": "\"\\\"N/A\\\"\"",
          "X": 5.699999999999944,
          "Y": 19.96172854885277
         },
         {
          "Outlier": "\"\\\"N/A\\\"\"",
          "X": 5.799999999999944,
          "Y": 20.08373594590073
         },
         {
          "Outlier": "\"\\\"N/A\\\"\"",
          "X": 5.8999999999999435,
          "Y": 23.546769335901224
         },
         {
          "Outlier": "\"\\\"N/A\\\"\"",
          "X": 5.999999999999943,
          "Y": 20.061211846930075
         },
         {
          "Outlier": "\"\\\"N/A\\\"\"",
          "X": 6.099999999999945,
          "Y": 24.413441987835537
         },
         {
          "Outlier": "\"\\\"N/A\\\"\"",
          "X": 6.1999999999999424,
          "Y": 16.50294212087978
         },
         {
          "Outlier": "\"\\\"N/A\\\"\"",
          "X": 6.29999999999994,
          "Y": 22.203224768844926
         },
         {
          "Outlier": "\"\\\"N/A\\\"\"",
          "X": 6.399999999999942,
          "Y": 25.138617915956175
         },
         {
          "Outlier": "\"\\\"N/A\\\"\"",
          "X": 6.499999999999943,
          "Y": 22.798015834654212
         },
         {
          "Outlier": "\"\\\"N/A\\\"\"",
          "X": 6.599999999999941,
          "Y": 26.510554046178335
         },
         {
          "Outlier": "\"\\\"N/A\\\"\"",
          "X": 6.699999999999939,
          "Y": 20.397677712147683
         },
         {
          "Outlier": "\"\\\"N/A\\\"\"",
          "X": 6.79999999999994,
          "Y": 28.171896030159445
         },
         {
          "Outlier": "\"\\\"N/A\\\"\"",
          "X": 6.899999999999942,
          "Y": 32.340736407379836
         },
         {
          "Outlier": "\"\\\"N/A\\\"\"",
          "X": 6.99999999999994,
          "Y": 24.802129624255166
         },
         {
          "Outlier": "\"\\\"N/A\\\"\"",
          "X": 7.0999999999999375,
          "Y": 24.687174652682288
         },
         {
          "Outlier": "\"\\\"N/A\\\"\"",
          "X": 7.199999999999939,
          "Y": 24.685730927244865
         },
         {
          "Outlier": "\"\\\"N/A\\\"\"",
          "X": 7.29999999999994,
          "Y": 18.162633746219498
         },
         {
          "Outlier": "\"\\\"N/A\\\"\"",
          "X": 7.399999999999938,
          "Y": 21.822660608078074
         },
         {
          "Outlier": "\"\\\"N/A\\\"\"",
          "X": 7.499999999999936,
          "Y": 30.47029687495677
         },
         {
          "Outlier": "\"\\\"N/A\\\"\"",
          "X": 7.5999999999999375,
          "Y": 30.58117327396921
         },
         {
          "Outlier": "\"\\\"N/A\\\"\"",
          "X": 7.699999999999939,
          "Y": 30.849749572486548
         },
         {
          "Outlier": "\"\\\"N/A\\\"\"",
          "X": 7.799999999999937,
          "Y": 30.945828315710553
         },
         {
          "Outlier": "\"\\\"N/A\\\"\"",
          "X": 7.899999999999935,
          "Y": 27.38543164351568
         },
         {
          "Outlier": "\"\\\"N/A\\\"\"",
          "X": 7.999999999999936,
          "Y": 21.075375786633813
         },
         {
          "Outlier": "\"\\\"N/A\\\"\"",
          "X": 8.099999999999937,
          "Y": 25.413677557407212
         },
         {
          "Outlier": "\"\\\"N/A\\\"\"",
          "X": 8.199999999999935,
          "Y": 38.60310164342809
         },
         {
          "Outlier": "\"\\\"N/A\\\"\"",
          "X": 8.299999999999933,
          "Y": 27.72606913164105
         },
         {
          "Outlier": "\"\\\"N/A\\\"\"",
          "X": 8.399999999999935,
          "Y": 33.54973915618205
         },
         {
          "Outlier": "\"\\\"N/A\\\"\"",
          "X": 8.499999999999936,
          "Y": 21.783535332054875
         },
         {
          "Outlier": "\"\\\"N/A\\\"\"",
          "X": 8.599999999999934,
          "Y": 32.09764053781133
         },
         {
          "Outlier": "\"\\\"N/A\\\"\"",
          "X": 8.699999999999932,
          "Y": 30.625175490196444
         },
         {
          "Outlier": "\"\\\"N/A\\\"\"",
          "X": 8.799999999999933,
          "Y": 29.767406273925044
         },
         {
          "Outlier": "\"\\\"N/A\\\"\"",
          "X": 8.899999999999935,
          "Y": 36.72537039108567
         },
         {
          "Outlier": "\"\\\"N/A\\\"\"",
          "X": 8.999999999999932,
          "Y": 31.213517679515412
         },
         {
          "Outlier": "\"\\\"N/A\\\"\"",
          "X": 9.09999999999993,
          "Y": 35.762433623006956
         },
         {
          "Outlier": "\"\\\"N/A\\\"\"",
          "X": 9.199999999999932,
          "Y": 31.53335578252737
         },
         {
          "Outlier": "\"\\\"N/A\\\"\"",
          "X": 9.299999999999933,
          "Y": 30.45795267907716
         },
         {
          "Outlier": "\"\\\"N/A\\\"\"",
          "X": 9.399999999999931,
          "Y": 35.86499216921437
         },
         {
          "Outlier": "\"\\\"N/A\\\"\"",
          "X": 9.499999999999929,
          "Y": 41.15477556345491
         },
         {
          "Outlier": "\"\\\"N/A\\\"\"",
          "X": 9.59999999999993,
          "Y": 34.912110596871514
         },
         {
          "Outlier": "\"\\\"N/A\\\"\"",
          "X": 9.699999999999932,
          "Y": 42.426188120955835
         },
         {
          "Outlier": "\"\\\"N/A\\\"\"",
          "X": 9.79999999999993,
          "Y": 34.501491370581626
         },
         {
          "Outlier": "\"\\\"N/A\\\"\"",
          "X": 9.899999999999928,
          "Y": 39.32227498999667
         },
         {
          "Outlier": "\"\\\"N/A\\\"\"",
          "X": 9.999999999999929,
          "Y": 41.46783152925668
         }
        ]
       },
       "encoding": {
        "color": {
         "field": "Outlier"
        },
        "x": {
         "field": "X",
         "type": "quantitative"
        },
        "y": {
         "field": "Y",
         "type": "quantitative"
        }
       },
       "height": 400,
       "mark": "circle",
       "width": 400
      },
      "image/png": "[encoded data removed]"
     },
     "metadata": {},
     "output_type": "display_data"
    }
   ],
   "source": [
    "ys <- sampler $ priorPredictive regression\n",
    "\n",
    "plot (fmap (second (T.pack . show)) (zip (zip range ys) (Prelude.repeat \"N/A\")))"
   ]
  },
  {
   "cell_type": "markdown",
   "id": "a9c0dd92-a771-4e98-a33e-327c788b4599",
   "metadata": {},
   "source": [
    "## Posterior predictive\n",
    "\n",
    "`posterior` distribution is computed base on the observed samples. Let's see what happens if the model sees samples of the same value only.\n",
    "\n",
    "To explore the space of possible parameters we use Monte Carlo Markov Chain inference algorithm."
   ]
  },
  {
   "cell_type": "code",
   "execution_count": 20,
   "id": "693d83bf-14c9-4e1b-870e-a15b8f8edc1d",
   "metadata": {},
   "outputs": [
    {
     "data": {
      "text/plain": []
     },
     "metadata": {},
     "output_type": "display_data"
    }
   ],
   "source": [
    "import Control.Monad.Bayes.Inference.MCMC\n",
    "\n",
    "observations = [replicate 100 1]\n",
    "\n",
    "ys <- sampleIOfixed $ mcmc MCMCConfig {numMCMCSteps = 5000, numBurnIn = 300, proposal = SingleSiteMH} \n",
    "    $ posteriorPredictive regression observations\n"
   ]
  },
  {
   "cell_type": "markdown",
   "id": "22fa414e-49ef-4f72-b684-23ed0c24a05e",
   "metadata": {},
   "source": [
    "`ys` is a **list of lists** containing values generated for arguments from `range`. Let's see how an example of generated samples look like:"
   ]
  },
  {
   "cell_type": "code",
   "execution_count": 21,
   "id": "a72a7dc0-209c-449c-9ffb-617328a7ffc5",
   "metadata": {},
   "outputs": [
    {
     "data": {
      "application/vnd.vegalite.v4+json": {
       "$schema": "https://vega.github.io/schema/vega-lite/v4.json",
       "data": {
        "values": [
         {
          "Outlier": "\"\\\"N/A\\\"\"",
          "X": -10,
          "Y": -5.17625056645207
         },
         {
          "Outlier": "\"\\\"N/A\\\"\"",
          "X": -9.9,
          "Y": -6.74198785888861
         },
         {
          "Outlier": "\"\\\"N/A\\\"\"",
          "X": -9.8,
          "Y": -4.46996514840461
         },
         {
          "Outlier": "\"\\\"N/A\\\"\"",
          "X": -9.700000000000001,
          "Y": -0.9145123000823716
         },
         {
          "Outlier": "\"\\\"N/A\\\"\"",
          "X": -9.600000000000001,
          "Y": -6.6376245868525885
         },
         {
          "Outlier": "\"\\\"N/A\\\"\"",
          "X": -9.500000000000002,
          "Y": -1.1877157127876954
         },
         {
          "Outlier": "\"\\\"N/A\\\"\"",
          "X": -9.400000000000002,
          "Y": -7.083563289259863
         },
         {
          "Outlier": "\"\\\"N/A\\\"\"",
          "X": -9.300000000000002,
          "Y": -7.59464378610835
         },
         {
          "Outlier": "\"\\\"N/A\\\"\"",
          "X": -9.200000000000003,
          "Y": -8.8143641113504
         },
         {
          "Outlier": "\"\\\"N/A\\\"\"",
          "X": -9.100000000000003,
          "Y": -7.189303776465281
         },
         {
          "Outlier": "\"\\\"N/A\\\"\"",
          "X": -9.000000000000004,
          "Y": -6.457479489578328
         },
         {
          "Outlier": "\"\\\"N/A\\\"\"",
          "X": -8.900000000000004,
          "Y": -13.743197427077128
         },
         {
          "Outlier": "\"\\\"N/A\\\"\"",
          "X": -8.800000000000004,
          "Y": 0.2498447171475906
         },
         {
          "Outlier": "\"\\\"N/A\\\"\"",
          "X": -8.700000000000005,
          "Y": -9.221283755583197
         },
         {
          "Outlier": "\"\\\"N/A\\\"\"",
          "X": -8.600000000000005,
          "Y": -1.7419194473527906
         },
         {
          "Outlier": "\"\\\"N/A\\\"\"",
          "X": -8.500000000000005,
          "Y": -2.7199972063866724
         },
         {
          "Outlier": "\"\\\"N/A\\\"\"",
          "X": -8.400000000000006,
          "Y": 0.7705292360894669
         },
         {
          "Outlier": "\"\\\"N/A\\\"\"",
          "X": -8.300000000000006,
          "Y": -4.6060190698938
         },
         {
          "Outlier": "\"\\\"N/A\\\"\"",
          "X": -8.200000000000006,
          "Y": -4.581555676499136
         },
         {
          "Outlier": "\"\\\"N/A\\\"\"",
          "X": -8.100000000000007,
          "Y": -5.722579265373266
         },
         {
          "Outlier": "\"\\\"N/A\\\"\"",
          "X": -8.000000000000007,
          "Y": -8.2120363115473
         },
         {
          "Outlier": "\"\\\"N/A\\\"\"",
          "X": -7.9000000000000075,
          "Y": -3.1004974386468875
         },
         {
          "Outlier": "\"\\\"N/A\\\"\"",
          "X": -7.800000000000008,
          "Y": -1.3487799605604054
         },
         {
          "Outlier": "\"\\\"N/A\\\"\"",
          "X": -7.700000000000008,
          "Y": -3.6654498865503182
         },
         {
          "Outlier": "\"\\\"N/A\\\"\"",
          "X": -7.6000000000000085,
          "Y": -4.9904538923435515
         },
         {
          "Outlier": "\"\\\"N/A\\\"\"",
          "X": -7.500000000000009,
          "Y": -6.854763496260949
         },
         {
          "Outlier": "\"\\\"N/A\\\"\"",
          "X": -7.400000000000009,
          "Y": -4.323421532043624
         },
         {
          "Outlier": "\"\\\"N/A\\\"\"",
          "X": -7.30000000000001,
          "Y": -2.03483996899133
         },
         {
          "Outlier": "\"\\\"N/A\\\"\"",
          "X": -7.20000000000001,
          "Y": -3.17169458392855
         },
         {
          "Outlier": "\"\\\"N/A\\\"\"",
          "X": -7.10000000000001,
          "Y": -6.922057391997367
         },
         {
          "Outlier": "\"\\\"N/A\\\"\"",
          "X": -7.000000000000011,
          "Y": -10.032064082188356
         },
         {
          "Outlier": "\"\\\"N/A\\\"\"",
          "X": -6.900000000000011,
          "Y": -4.046272839718915
         },
         {
          "Outlier": "\"\\\"N/A\\\"\"",
          "X": -6.800000000000011,
          "Y": 2.7473076505967553
         },
         {
          "Outlier": "\"\\\"N/A\\\"\"",
          "X": -6.700000000000012,
          "Y": -7.852385118535792
         },
         {
          "Outlier": "\"\\\"N/A\\\"\"",
          "X": -6.600000000000012,
          "Y": 0.14172754917420116
         },
         {
          "Outlier": "\"\\\"N/A\\\"\"",
          "X": -6.500000000000012,
          "Y": -4.32198723067437
         },
         {
          "Outlier": "\"\\\"N/A\\\"\"",
          "X": -6.400000000000013,
          "Y": -4.953825058020628
         },
         {
          "Outlier": "\"\\\"N/A\\\"\"",
          "X": -6.300000000000013,
          "Y": -2.7877595733046876
         },
         {
          "Outlier": "\"\\\"N/A\\\"\"",
          "X": -6.2000000000000135,
          "Y": -10.027152586262392
         },
         {
          "Outlier": "\"\\\"N/A\\\"\"",
          "X": -6.100000000000014,
          "Y": -4.477758517334158
         },
         {
          "Outlier": "\"\\\"N/A\\\"\"",
          "X": -6.000000000000014,
          "Y": -4.9159878914108965
         },
         {
          "Outlier": "\"\\\"N/A\\\"\"",
          "X": -5.900000000000015,
          "Y": -7.1469770912052635
         },
         {
          "Outlier": "\"\\\"N/A\\\"\"",
          "X": -5.800000000000015,
          "Y": 2.112997024380019
         },
         {
          "Outlier": "\"\\\"N/A\\\"\"",
          "X": -5.700000000000015,
          "Y": -1.8571837510706082
         },
         {
          "Outlier": "\"\\\"N/A\\\"\"",
          "X": -5.600000000000016,
          "Y": -0.22827753672871287
         },
         {
          "Outlier": "\"\\\"N/A\\\"\"",
          "X": -5.500000000000016,
          "Y": -3.626386684194655
         },
         {
          "Outlier": "\"\\\"N/A\\\"\"",
          "X": -5.400000000000016,
          "Y": 0.6090869856742809
         },
         {
          "Outlier": "\"\\\"N/A\\\"\"",
          "X": -5.300000000000017,
          "Y": -2.7227553911429068
         },
         {
          "Outlier": "\"\\\"N/A\\\"\"",
          "X": -5.200000000000017,
          "Y": -4.0874670462028
         },
         {
          "Outlier": "\"\\\"N/A\\\"\"",
          "X": -5.100000000000017,
          "Y": -6.247248288824204
         },
         {
          "Outlier": "\"\\\"N/A\\\"\"",
          "X": -5.000000000000018,
          "Y": 2.236653807265935
         },
         {
          "Outlier": "\"\\\"N/A\\\"\"",
          "X": -4.900000000000018,
          "Y": 2.9092838062669824
         },
         {
          "Outlier": "\"\\\"N/A\\\"\"",
          "X": -4.8000000000000185,
          "Y": 1.2021304587300752
         },
         {
          "Outlier": "\"\\\"N/A\\\"\"",
          "X": -4.700000000000019,
          "Y": 2.5975153753961857
         },
         {
          "Outlier": "\"\\\"N/A\\\"\"",
          "X": -4.600000000000019,
          "Y": 2.461936898176616
         },
         {
          "Outlier": "\"\\\"N/A\\\"\"",
          "X": -4.5000000000000195,
          "Y": -0.7845340844908039
         },
         {
          "Outlier": "\"\\\"N/A\\\"\"",
          "X": -4.40000000000002,
          "Y": -0.7670671298779603
         },
         {
          "Outlier": "\"\\\"N/A\\\"\"",
          "X": -4.30000000000002,
          "Y": -0.15192989948132352
         },
         {
          "Outlier": "\"\\\"N/A\\\"\"",
          "X": -4.200000000000021,
          "Y": 1.7064879395086088
         },
         {
          "Outlier": "\"\\\"N/A\\\"\"",
          "X": -4.100000000000021,
          "Y": -1.6996791293795637
         },
         {
          "Outlier": "\"\\\"N/A\\\"\"",
          "X": -4.000000000000021,
          "Y": 0.3554764109974138
         },
         {
          "Outlier": "\"\\\"N/A\\\"\"",
          "X": -3.9000000000000217,
          "Y": 1.358804127746921
         },
         {
          "Outlier": "\"\\\"N/A\\\"\"",
          "X": -3.800000000000022,
          "Y": -0.035656060154032276
         },
         {
          "Outlier": "\"\\\"N/A\\\"\"",
          "X": -3.7000000000000224,
          "Y": 5.535628846793199
         },
         {
          "Outlier": "\"\\\"N/A\\\"\"",
          "X": -3.6000000000000227,
          "Y": -1.2378477221745832
         },
         {
          "Outlier": "\"\\\"N/A\\\"\"",
          "X": -3.500000000000023,
          "Y": 0.8660235246768853
         },
         {
          "Outlier": "\"\\\"N/A\\\"\"",
          "X": -3.4000000000000234,
          "Y": -0.6788861027206263
         },
         {
          "Outlier": "\"\\\"N/A\\\"\"",
          "X": -3.300000000000024,
          "Y": -0.05257396604366652
         },
         {
          "Outlier": "\"\\\"N/A\\\"\"",
          "X": -3.200000000000024,
          "Y": -0.4120268364764729
         },
         {
          "Outlier": "\"\\\"N/A\\\"\"",
          "X": -3.1000000000000245,
          "Y": 1.2506447833544743
         },
         {
          "Outlier": "\"\\\"N/A\\\"\"",
          "X": -3.000000000000025,
          "Y": -0.2815836842423026
         },
         {
          "Outlier": "\"\\\"N/A\\\"\"",
          "X": -2.9000000000000252,
          "Y": -0.7076114080210056
         },
         {
          "Outlier": "\"\\\"N/A\\\"\"",
          "X": -2.8000000000000256,
          "Y": -1.6873575170045618
         },
         {
          "Outlier": "\"\\\"N/A\\\"\"",
          "X": -2.700000000000026,
          "Y": 2.224069228264313
         },
         {
          "Outlier": "\"\\\"N/A\\\"\"",
          "X": -2.6000000000000263,
          "Y": -1.9416158618364738
         },
         {
          "Outlier": "\"\\\"N/A\\\"\"",
          "X": -2.5000000000000266,
          "Y": -0.023422730951444537
         },
         {
          "Outlier": "\"\\\"N/A\\\"\"",
          "X": -2.400000000000027,
          "Y": -0.09214285162821245
         },
         {
          "Outlier": "\"\\\"N/A\\\"\"",
          "X": -2.3000000000000274,
          "Y": -0.538716149627507
         },
         {
          "Outlier": "\"\\\"N/A\\\"\"",
          "X": -2.2000000000000277,
          "Y": 3.2479158300787687
         },
         {
          "Outlier": "\"\\\"N/A\\\"\"",
          "X": -2.100000000000028,
          "Y": 9.180241759206082
         },
         {
          "Outlier": "\"\\\"N/A\\\"\"",
          "X": -2.0000000000000284,
          "Y": 5.00300068732531
         },
         {
          "Outlier": "\"\\\"N/A\\\"\"",
          "X": -1.9000000000000288,
          "Y": -1.0236500714956085
         },
         {
          "Outlier": "\"\\\"N/A\\\"\"",
          "X": -1.8000000000000291,
          "Y": 0.8534822715156205
         },
         {
          "Outlier": "\"\\\"N/A\\\"\"",
          "X": -1.7000000000000295,
          "Y": 2.9331000883958755
         },
         {
          "Outlier": "\"\\\"N/A\\\"\"",
          "X": -1.6000000000000298,
          "Y": -3.4994950826063462
         },
         {
          "Outlier": "\"\\\"N/A\\\"\"",
          "X": -1.5000000000000302,
          "Y": -6.324060883026326
         },
         {
          "Outlier": "\"\\\"N/A\\\"\"",
          "X": -1.4000000000000306,
          "Y": -3.9121683283550994
         },
         {
          "Outlier": "\"\\\"N/A\\\"\"",
          "X": -1.300000000000031,
          "Y": 1.8253885072217224
         },
         {
          "Outlier": "\"\\\"N/A\\\"\"",
          "X": -1.2000000000000313,
          "Y": -0.8524676805201556
         },
         {
          "Outlier": "\"\\\"N/A\\\"\"",
          "X": -1.1000000000000316,
          "Y": 3.4974242753111646
         },
         {
          "Outlier": "\"\\\"N/A\\\"\"",
          "X": -1.000000000000032,
          "Y": 11.40614255244902
         },
         {
          "Outlier": "\"\\\"N/A\\\"\"",
          "X": -0.9000000000000323,
          "Y": -4.656479782548988
         },
         {
          "Outlier": "\"\\\"N/A\\\"\"",
          "X": -0.8000000000000327,
          "Y": 6.292338705191222
         },
         {
          "Outlier": "\"\\\"N/A\\\"\"",
          "X": -0.700000000000033,
          "Y": 1.9865704673786286
         },
         {
          "Outlier": "\"\\\"N/A\\\"\"",
          "X": -0.6000000000000334,
          "Y": -0.7567695194357884
         },
         {
          "Outlier": "\"\\\"N/A\\\"\"",
          "X": -0.5000000000000338,
          "Y": -0.14908749626789985
         },
         {
          "Outlier": "\"\\\"N/A\\\"\"",
          "X": -0.4000000000000341,
          "Y": -0.8032689320157922
         },
         {
          "Outlier": "\"\\\"N/A\\\"\"",
          "X": -0.30000000000003446,
          "Y": -0.04581563857222459
         },
         {
          "Outlier": "\"\\\"N/A\\\"\"",
          "X": -0.20000000000003482,
          "Y": 3.9037999665042955
         },
         {
          "Outlier": "\"\\\"N/A\\\"\"",
          "X": -0.10000000000003517,
          "Y": 6.954410784799855
         },
         {
          "Outlier": "\"\\\"N/A\\\"\"",
          "X": -3.552713678800501e-14,
          "Y": 3.1290086055648576
         },
         {
          "Outlier": "\"\\\"N/A\\\"\"",
          "X": 0.09999999999996412,
          "Y": -3.2902600000697304
         },
         {
          "Outlier": "\"\\\"N/A\\\"\"",
          "X": 0.19999999999996376,
          "Y": 4.2142647787930185
         },
         {
          "Outlier": "\"\\\"N/A\\\"\"",
          "X": 0.2999999999999634,
          "Y": -1.963960848110677
         },
         {
          "Outlier": "\"\\\"N/A\\\"\"",
          "X": 0.39999999999996305,
          "Y": 3.4763117868643394
         },
         {
          "Outlier": "\"\\\"N/A\\\"\"",
          "X": 0.4999999999999627,
          "Y": 4.059504625211241
         },
         {
          "Outlier": "\"\\\"N/A\\\"\"",
          "X": 0.5999999999999623,
          "Y": -0.44764800660599935
         },
         {
          "Outlier": "\"\\\"N/A\\\"\"",
          "X": 0.699999999999962,
          "Y": 4.782648767426403
         },
         {
          "Outlier": "\"\\\"N/A\\\"\"",
          "X": 0.7999999999999616,
          "Y": 6.681911362779827
         },
         {
          "Outlier": "\"\\\"N/A\\\"\"",
          "X": 0.8999999999999613,
          "Y": 5.279049396925319
         },
         {
          "Outlier": "\"\\\"N/A\\\"\"",
          "X": 0.9999999999999609,
          "Y": 3.3213434528719357
         },
         {
          "Outlier": "\"\\\"N/A\\\"\"",
          "X": 1.0999999999999606,
          "Y": 1.9921686871831845
         },
         {
          "Outlier": "\"\\\"N/A\\\"\"",
          "X": 1.1999999999999602,
          "Y": 5.539169790758686
         },
         {
          "Outlier": "\"\\\"N/A\\\"\"",
          "X": 1.2999999999999599,
          "Y": 6.028876475541786
         },
         {
          "Outlier": "\"\\\"N/A\\\"\"",
          "X": 1.3999999999999595,
          "Y": 8.290037634450846
         },
         {
          "Outlier": "\"\\\"N/A\\\"\"",
          "X": 1.4999999999999591,
          "Y": 6.732232238157904
         },
         {
          "Outlier": "\"\\\"N/A\\\"\"",
          "X": 1.5999999999999588,
          "Y": 6.366514078646105
         },
         {
          "Outlier": "\"\\\"N/A\\\"\"",
          "X": 1.6999999999999584,
          "Y": 3.3111810467676595
         },
         {
          "Outlier": "\"\\\"N/A\\\"\"",
          "X": 1.799999999999958,
          "Y": 6.626677031782874
         },
         {
          "Outlier": "\"\\\"N/A\\\"\"",
          "X": 1.8999999999999577,
          "Y": 0.5225570638884749
         },
         {
          "Outlier": "\"\\\"N/A\\\"\"",
          "X": 1.9999999999999574,
          "Y": 7.270967385312421
         },
         {
          "Outlier": "\"\\\"N/A\\\"\"",
          "X": 2.099999999999957,
          "Y": 5.299908805015013
         },
         {
          "Outlier": "\"\\\"N/A\\\"\"",
          "X": 2.1999999999999567,
          "Y": 4.527777175927255
         },
         {
          "Outlier": "\"\\\"N/A\\\"\"",
          "X": 2.2999999999999563,
          "Y": 0.007799090015922161
         },
         {
          "Outlier": "\"\\\"N/A\\\"\"",
          "X": 2.399999999999956,
          "Y": 4.800813117419075
         },
         {
          "Outlier": "\"\\\"N/A\\\"\"",
          "X": 2.4999999999999556,
          "Y": 2.4473647327899632
         },
         {
          "Outlier": "\"\\\"N/A\\\"\"",
          "X": 2.5999999999999552,
          "Y": 7.02514440331092
         },
         {
          "Outlier": "\"\\\"N/A\\\"\"",
          "X": 2.699999999999955,
          "Y": 11.4047060781164
         },
         {
          "Outlier": "\"\\\"N/A\\\"\"",
          "X": 2.7999999999999545,
          "Y": 3.9759479492539893
         },
         {
          "Outlier": "\"\\\"N/A\\\"\"",
          "X": 2.899999999999954,
          "Y": 10.619939356516722
         },
         {
          "Outlier": "\"\\\"N/A\\\"\"",
          "X": 2.999999999999954,
          "Y": 0.8326485717768604
         },
         {
          "Outlier": "\"\\\"N/A\\\"\"",
          "X": 3.0999999999999535,
          "Y": 4.389378696040785
         },
         {
          "Outlier": "\"\\\"N/A\\\"\"",
          "X": 3.199999999999953,
          "Y": 11.608895400913633
         },
         {
          "Outlier": "\"\\\"N/A\\\"\"",
          "X": 3.2999999999999527,
          "Y": 0.8204624747684086
         },
         {
          "Outlier": "\"\\\"N/A\\\"\"",
          "X": 3.3999999999999524,
          "Y": 6.598297407357292
         },
         {
          "Outlier": "\"\\\"N/A\\\"\"",
          "X": 3.499999999999952,
          "Y": 4.747817248223881
         },
         {
          "Outlier": "\"\\\"N/A\\\"\"",
          "X": 3.5999999999999517,
          "Y": 9.072575719322346
         },
         {
          "Outlier": "\"\\\"N/A\\\"\"",
          "X": 3.6999999999999513,
          "Y": 9.577247559272129
         },
         {
          "Outlier": "\"\\\"N/A\\\"\"",
          "X": 3.799999999999951,
          "Y": 6.722104451236058
         },
         {
          "Outlier": "\"\\\"N/A\\\"\"",
          "X": 3.8999999999999506,
          "Y": 8.741040621583716
         },
         {
          "Outlier": "\"\\\"N/A\\\"\"",
          "X": 3.9999999999999503,
          "Y": 7.32485173582382
         },
         {
          "Outlier": "\"\\\"N/A\\\"\"",
          "X": 4.09999999999995,
          "Y": 9.244400583636214
         },
         {
          "Outlier": "\"\\\"N/A\\\"\"",
          "X": 4.1999999999999496,
          "Y": 11.906301064957326
         },
         {
          "Outlier": "\"\\\"N/A\\\"\"",
          "X": 4.299999999999949,
          "Y": 9.363329258428571
         },
         {
          "Outlier": "\"\\\"N/A\\\"\"",
          "X": 4.399999999999949,
          "Y": 8.966407025153561
         },
         {
          "Outlier": "\"\\\"N/A\\\"\"",
          "X": 4.4999999999999485,
          "Y": 2.5251367682053543
         },
         {
          "Outlier": "\"\\\"N/A\\\"\"",
          "X": 4.599999999999948,
          "Y": 7.169731951914051
         },
         {
          "Outlier": "\"\\\"N/A\\\"\"",
          "X": 4.699999999999948,
          "Y": 6.287824035082818
         },
         {
          "Outlier": "\"\\\"N/A\\\"\"",
          "X": 4.799999999999947,
          "Y": 4.560974852036324
         },
         {
          "Outlier": "\"\\\"N/A\\\"\"",
          "X": 4.899999999999947,
          "Y": 1.6202806580452247
         },
         {
          "Outlier": "\"\\\"N/A\\\"\"",
          "X": 4.999999999999947,
          "Y": 15.157703108721682
         },
         {
          "Outlier": "\"\\\"N/A\\\"\"",
          "X": 5.099999999999946,
          "Y": 6.537262710032024
         },
         {
          "Outlier": "\"\\\"N/A\\\"\"",
          "X": 5.199999999999946,
          "Y": 5.028946607403666
         },
         {
          "Outlier": "\"\\\"N/A\\\"\"",
          "X": 5.299999999999946,
          "Y": 13.87566718271566
         },
         {
          "Outlier": "\"\\\"N/A\\\"\"",
          "X": 5.399999999999945,
          "Y": 18.06905909274711
         },
         {
          "Outlier": "\"\\\"N/A\\\"\"",
          "X": 5.499999999999945,
          "Y": 4.286513087332971
         },
         {
          "Outlier": "\"\\\"N/A\\\"\"",
          "X": 5.599999999999945,
          "Y": 3.847412015791491
         },
         {
          "Outlier": "\"\\\"N/A\\\"\"",
          "X": 5.699999999999944,
          "Y": 9.85551453312075
         },
         {
          "Outlier": "\"\\\"N/A\\\"\"",
          "X": 5.799999999999944,
          "Y": 8.473275165706236
         },
         {
          "Outlier": "\"\\\"N/A\\\"\"",
          "X": 5.8999999999999435,
          "Y": 12.265452527287497
         },
         {
          "Outlier": "\"\\\"N/A\\\"\"",
          "X": 5.999999999999943,
          "Y": 11.525190450414279
         },
         {
          "Outlier": "\"\\\"N/A\\\"\"",
          "X": 6.099999999999945,
          "Y": 16.13291984478301
         },
         {
          "Outlier": "\"\\\"N/A\\\"\"",
          "X": 6.1999999999999424,
          "Y": 9.89259319386118
         },
         {
          "Outlier": "\"\\\"N/A\\\"\"",
          "X": 6.29999999999994,
          "Y": 9.379616950741632
         },
         {
          "Outlier": "\"\\\"N/A\\\"\"",
          "X": 6.399999999999942,
          "Y": 16.92620218414739
         },
         {
          "Outlier": "\"\\\"N/A\\\"\"",
          "X": 6.499999999999943,
          "Y": 12.974295234944249
         },
         {
          "Outlier": "\"\\\"N/A\\\"\"",
          "X": 6.599999999999941,
          "Y": 8.212353736992618
         },
         {
          "Outlier": "\"\\\"N/A\\\"\"",
          "X": 6.699999999999939,
          "Y": 9.422963783231628
         },
         {
          "Outlier": "\"\\\"N/A\\\"\"",
          "X": 6.79999999999994,
          "Y": 11.085897157743593
         },
         {
          "Outlier": "\"\\\"N/A\\\"\"",
          "X": 6.899999999999942,
          "Y": 4.144920281466468
         },
         {
          "Outlier": "\"\\\"N/A\\\"\"",
          "X": 6.99999999999994,
          "Y": 10.192109718231327
         },
         {
          "Outlier": "\"\\\"N/A\\\"\"",
          "X": 7.0999999999999375,
          "Y": 6.405515503864371
         },
         {
          "Outlier": "\"\\\"N/A\\\"\"",
          "X": 7.199999999999939,
          "Y": 8.795674422411013
         },
         {
          "Outlier": "\"\\\"N/A\\\"\"",
          "X": 7.29999999999994,
          "Y": 8.474547691225151
         },
         {
          "Outlier": "\"\\\"N/A\\\"\"",
          "X": 7.399999999999938,
          "Y": 9.733116273962844
         },
         {
          "Outlier": "\"\\\"N/A\\\"\"",
          "X": 7.499999999999936,
          "Y": 7.9346056603251025
         },
         {
          "Outlier": "\"\\\"N/A\\\"\"",
          "X": 7.5999999999999375,
          "Y": 4.262583016163337
         },
         {
          "Outlier": "\"\\\"N/A\\\"\"",
          "X": 7.699999999999939,
          "Y": 14.16220629504127
         },
         {
          "Outlier": "\"\\\"N/A\\\"\"",
          "X": 7.799999999999937,
          "Y": 8.499430686907544
         },
         {
          "Outlier": "\"\\\"N/A\\\"\"",
          "X": 7.899999999999935,
          "Y": 8.040945595498638
         },
         {
          "Outlier": "\"\\\"N/A\\\"\"",
          "X": 7.999999999999936,
          "Y": 10.26934577508566
         },
         {
          "Outlier": "\"\\\"N/A\\\"\"",
          "X": 8.099999999999937,
          "Y": 7.476732510658916
         },
         {
          "Outlier": "\"\\\"N/A\\\"\"",
          "X": 8.199999999999935,
          "Y": 13.25979119613538
         },
         {
          "Outlier": "\"\\\"N/A\\\"\"",
          "X": 8.299999999999933,
          "Y": 7.72167768418044
         },
         {
          "Outlier": "\"\\\"N/A\\\"\"",
          "X": 8.399999999999935,
          "Y": 17.676635606102522
         },
         {
          "Outlier": "\"\\\"N/A\\\"\"",
          "X": 8.499999999999936,
          "Y": 14.999377871971395
         },
         {
          "Outlier": "\"\\\"N/A\\\"\"",
          "X": 8.599999999999934,
          "Y": 4.346728328525292
         },
         {
          "Outlier": "\"\\\"N/A\\\"\"",
          "X": 8.699999999999932,
          "Y": 6.008369118820892
         },
         {
          "Outlier": "\"\\\"N/A\\\"\"",
          "X": 8.799999999999933,
          "Y": 20.75013082269247
         },
         {
          "Outlier": "\"\\\"N/A\\\"\"",
          "X": 8.899999999999935,
          "Y": 16.608071055134527
         },
         {
          "Outlier": "\"\\\"N/A\\\"\"",
          "X": 8.999999999999932,
          "Y": 13.774647248099143
         },
         {
          "Outlier": "\"\\\"N/A\\\"\"",
          "X": 9.09999999999993,
          "Y": 13.229869207551848
         },
         {
          "Outlier": "\"\\\"N/A\\\"\"",
          "X": 9.199999999999932,
          "Y": 15.295264674478819
         },
         {
          "Outlier": "\"\\\"N/A\\\"\"",
          "X": 9.299999999999933,
          "Y": 15.789827880287193
         },
         {
          "Outlier": "\"\\\"N/A\\\"\"",
          "X": 9.399999999999931,
          "Y": 14.634278015358738
         },
         {
          "Outlier": "\"\\\"N/A\\\"\"",
          "X": 9.499999999999929,
          "Y": 8.35853398606148
         },
         {
          "Outlier": "\"\\\"N/A\\\"\"",
          "X": 9.59999999999993,
          "Y": 13.0317043147681
         },
         {
          "Outlier": "\"\\\"N/A\\\"\"",
          "X": 9.699999999999932,
          "Y": 8.949309677231202
         },
         {
          "Outlier": "\"\\\"N/A\\\"\"",
          "X": 9.79999999999993,
          "Y": 8.574310183314578
         },
         {
          "Outlier": "\"\\\"N/A\\\"\"",
          "X": 9.899999999999928,
          "Y": 8.86781223853769
         },
         {
          "Outlier": "\"\\\"N/A\\\"\"",
          "X": 9.999999999999929,
          "Y": 12.19571432039153
         }
        ]
       },
       "encoding": {
        "color": {
         "field": "Outlier"
        },
        "x": {
         "field": "X",
         "type": "quantitative"
        },
        "y": {
         "field": "Y",
         "type": "quantitative"
        }
       },
       "height": 400,
       "mark": "circle",
       "width": 400
      },
      "image/png": "[encoded data removed]"
     },
     "metadata": {},
     "output_type": "display_data"
    }
   ],
   "source": [
    "plot (fmap (second (T.pack . show)) (zip (zip range $ head ys) (Prelude.repeat \"N/A\")))"
   ]
  },
  {
   "cell_type": "markdown",
   "id": "fde6d7a2-01bb-4d66-bd34-1ba72bba575a",
   "metadata": {},
   "source": [
    "Given the observations, we expect the model have average value of `slope` to be 0 and `intercept` 1."
   ]
  },
  {
   "cell_type": "code",
   "execution_count": 22,
   "id": "f1fc13c3-3062-4395-b3fd-6b82916b64f9",
   "metadata": {},
   "outputs": [],
   "source": [
    "avg l = Prelude.sum l / fromIntegral (length l)\n",
    "\n",
    "avX   = avg range\n",
    "avSqr = Prelude.sum $ map (\\a -> (a-avX)**2) range"
   ]
  },
  {
   "cell_type": "code",
   "execution_count": 23,
   "id": "90c589fb-3882-4f18-a5ae-37a474acbd8d",
   "metadata": {},
   "outputs": [
    {
     "data": {
      "text/plain": [
       "\"Average slope: 0.6482984353867459\""
      ]
     },
     "metadata": {},
     "output_type": "display_data"
    }
   ],
   "source": [
    "slopeValue l = covXY / avSqr\n",
    "  where\n",
    "    avY   = avg l\n",
    "    covXY = Prelude.sum $ (\\(x,y) -> (x - avX) * (y - avY)) <$> zip range l\n",
    "    \n",
    "interceptValue l = avg l - slopeValue l * avX"
   ]
  },
  {
   "cell_type": "code",
   "execution_count": 33,
   "id": "087733c4-feca-476c-8958-2fecbcd4ad52",
   "metadata": {},
   "outputs": [
    {
     "data": {
      "text/plain": [
       "\"Average slope for 100 observations: 0.6482984353867459\""
      ]
     },
     "metadata": {},
     "output_type": "display_data"
    },
    {
     "data": {
      "text/plain": [
       "\"Average intercept for 100 observations: 1.2220350681014394\""
      ]
     },
     "metadata": {},
     "output_type": "display_data"
    }
   ],
   "source": [
    "nObservations = length $ head observations\n",
    "\n",
    "print $ \"Average slope for \" <> show nObservations <> \" observations: \" <> (show . avg $ slopeValue <$> ys)\n",
    "\n",
    "print $ \"Average intercept for \" <> show nObservations <> \" observations: \" <> (show . avg $ interceptValue <$> ys)"
   ]
  },
  {
   "cell_type": "markdown",
   "id": "5a2d7a24-ef39-49b3-b4dc-2de622908604",
   "metadata": {},
   "source": [
    "Slope and intercept average values differ a bit from the expected 0 and 1. Let's how they behave given more observations of the same kind."
   ]
  },
  {
   "cell_type": "code",
   "execution_count": 37,
   "id": "31b3536b-a6bf-44f7-bd58-798a6d0f69cd",
   "metadata": {},
   "outputs": [
    {
     "data": {
      "text/plain": []
     },
     "metadata": {},
     "output_type": "display_data"
    }
   ],
   "source": [
    "observations1 = [replicate 200 1]\n",
    "\n",
    "ys1 <- sampleIOfixed $ mcmc MCMCConfig {numMCMCSteps = 5000, numBurnIn = 300, proposal = SingleSiteMH} \n",
    "    $ posteriorPredictive regression observations1\n"
   ]
  },
  {
   "cell_type": "code",
   "execution_count": 38,
   "id": "6a5aacc2-0ccb-4446-8bd1-678475278983",
   "metadata": {},
   "outputs": [
    {
     "data": {
      "text/plain": [
       "\"Average slope for 200 observations: 0.20039201335018098\""
      ]
     },
     "metadata": {},
     "output_type": "display_data"
    },
    {
     "data": {
      "text/plain": [
       "\"Average intercept for 200 observations: 1.1534663432408423\""
      ]
     },
     "metadata": {},
     "output_type": "display_data"
    }
   ],
   "source": [
    "nObservations = length $ head observations1\n",
    "\n",
    "print $ \"Average slope for \" <> show nObservations <> \" observations: \" <> (show . avg $ slopeValue <$> ys1)\n",
    "print $ \"Average intercept for \" <> show nObservations <> \" observations: \" <> (show . avg $ interceptValue <$> ys1)"
   ]
  },
  {
   "cell_type": "markdown",
   "id": "fbf34420-34d7-40c6-9377-8df70afd0255",
   "metadata": {},
   "source": [
    "### Excercise\n",
    "\n",
    "To better understand how the Bayesian model works here, you may do following:\n",
    "1. play with prior: change it to be constant, randomize `noise` only\n",
    "2. play with observations: empirically check the limit where new observations change posterior insignificantly given the inference parameters\n",
    "3. change inference paramers."
   ]
  },
  {
   "cell_type": "code",
   "execution_count": null,
   "id": "271502db-ff8f-4196-8f06-f733963a0fc6",
   "metadata": {},
   "outputs": [],
   "source": []
  }
 ],
 "metadata": {
  "kernelspec": {
   "display_name": "Haskell - nixpkgs",
   "language": "haskell",
   "name": "ihaskell_nixpkgs"
  },
  "language_info": {
   "codemirror_mode": "ihaskell",
   "file_extension": ".hs",
   "mimetype": "text/x-haskell",
   "name": "haskell",
   "pygments_lexer": "Haskell",
   "version": "9.0.2"
  }
 },
 "nbformat": 4,
 "nbformat_minor": 5
}
