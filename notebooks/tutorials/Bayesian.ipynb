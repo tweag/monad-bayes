{
 "cells": [
  {
   "cell_type": "code",
   "execution_count": 1,
   "id": "1323d9af-17b2-4e43-ba81-b5b3979b3528",
   "metadata": {},
   "outputs": [],
   "source": [
    ":e TupleSections\n",
    ":e BlockArguments \n",
    "\n",
    "import Control.Monad.Bayes.Class\n",
    "import Control.Monad.Bayes.Sampler.Strict\n",
    "import Control.Monad.Bayes.Weighted\n",
    "import Control.Monad.Bayes.Enumerator\n",
    "import Control.Monad\n",
    "import Control.Arrow\n",
    "import Data.Bifunctor (bimap)\n",
    "import Numeric.Log\n",
    "import qualified Data.Text as T\n",
    "\n",
    "\n",
    ":l ../plotting.hs"
   ]
  },
  {
   "cell_type": "markdown",
   "id": "bb6b1d04-808f-4700-9e5b-b880f64432bc",
   "metadata": {},
   "source": [
    "# Bayesian Models\n",
    "\n",
    "Monad-Bayes exports a `Bayesian` datatype to make using Bayesian models easier. The idea is that you specify your model as a prior, generative model and a likelihood. \n",
    "\n",
    "```\n",
    "data Bayesian m z o = Bayesian\n",
    "  { prior :: m z,                      -- prior over latent variable Z; p(z)\n",
    "    generative :: z -> m o,            -- distribution over observations given Z=z\n",
    "    likelihood :: z -> o -> Log Double -- p(o|z)\n",
    "  }\n",
    "```\n",
    "\n",
    "Likelihood is the PDF of the generative model and is a function from the problem domain to positive real numbers. Generative model allows for drawing samples from the distribution.\n",
    "Likelihood and generative model are separated because you can't always get the density from a distribution definition.\n",
    "\n",
    "\n",
    "Once you've defined Bayesian model, a number of standard operations, like obtaining the posterior or the posterior predictive, are automated for you.\n",
    "\n",
    "Here's a simple example:"
   ]
  },
  {
   "cell_type": "code",
   "execution_count": 2,
   "id": "5df6eb5a-8545-43fa-83d7-bd25f74804cc",
   "metadata": {},
   "outputs": [],
   "source": [
    "model :: MonadDistribution m => Bayesian m Bool Double\n",
    "model = Bayesian {\n",
    "    prior = bernoulli 0.5,\n",
    "    generative = \\x -> normal (if x then 2 else (-2)) 1,\n",
    "    likelihood  = \\x y -> normalPdf (if x then 2 else (-2)) 1 y\n",
    "    }"
   ]
  },
  {
   "cell_type": "markdown",
   "id": "a31299a8-2294-4182-823d-d85bd2136945",
   "metadata": {},
   "source": [
    "## Prior"
   ]
  },
  {
   "cell_type": "code",
   "execution_count": 3,
   "id": "07c4584c-8351-4e0b-814b-d3746b6b6962",
   "metadata": {},
   "outputs": [
    {
     "data": {
      "application/vnd.vegalite.v4+json": {
       "$schema": "https://vega.github.io/schema/vega-lite/v4.json",
       "data": {
        "values": [
         {
          "X": "True",
          "Y": 0.50094
         },
         {
          "X": "False",
          "Y": 0.49906
         }
        ]
       },
       "encoding": {
        "x": {
         "field": "X",
         "type": "nominal"
        },
        "y": {
         "field": "Y",
         "type": "quantitative"
        }
       },
       "height": 400,
       "mark": "bar",
       "width": 400
      },
      "image/png": "[encoded data removed]"
     },
     "metadata": {},
     "output_type": "display_data"
    }
   ],
   "source": [
    "sampler $ \n",
    "    plot . fmap (first (T.pack . show)) . toEmpirical <$> \n",
    "    replicateM 100000 (prior model)"
   ]
  },
  {
   "cell_type": "markdown",
   "id": "1730423b-8190-481b-a215-a129ea9fdbc9",
   "metadata": {},
   "source": [
    "## Prior predictive\n",
    "\n",
    "Prior predictive model is an application of the generative distribution to the prior distribution.\n",
    "\n",
    "Similarly as in `Sampling.ipynb` example we need to introduce a constant weight by mapping samples to a pair (value, score) with `(,constWeight) <$> `."
   ]
  },
  {
   "cell_type": "code",
   "execution_count": 4,
   "id": "c0de2347-77b2-4433-8bd0-e854791c23b8",
   "metadata": {},
   "outputs": [
    {
     "data": {
      "application/vnd.vegalite.v4+json": {
       "$schema": "https://vega.github.io/schema/vega-lite/v4.json",
       "data": {
        "values": [
         {
          "X": -5.990666102955002,
          "Y": 4
         },
         {
          "X": -5.871272770673965,
          "Y": 1
         },
         {
          "X": -5.751879438392927,
          "Y": 7
         },
         {
          "X": -5.63248610611189,
          "Y": 2
         },
         {
          "X": -5.513092773830853,
          "Y": 8
         },
         {
          "X": -5.393699441549815,
          "Y": 8
         },
         {
          "X": -5.274306109268778,
          "Y": 11
         },
         {
          "X": -5.154912776987741,
          "Y": 17
         },
         {
          "X": -5.035519444706703,
          "Y": 22
         },
         {
          "X": -4.916126112425666,
          "Y": 34
         },
         {
          "X": -4.796732780144629,
          "Y": 44
         },
         {
          "X": -4.6773394478635915,
          "Y": 70
         },
         {
          "X": -4.5579461155825545,
          "Y": 104
         },
         {
          "X": -4.4385527833015175,
          "Y": 131
         },
         {
          "X": -4.31915945102048,
          "Y": 169
         },
         {
          "X": -4.199766118739443,
          "Y": 203
         },
         {
          "X": -4.080372786458406,
          "Y": 318
         },
         {
          "X": -3.960979454177368,
          "Y": 349
         },
         {
          "X": -3.841586121896331,
          "Y": 443
         },
         {
          "X": -3.7221927896152938,
          "Y": 520
         },
         {
          "X": -3.6027994573342568,
          "Y": 662
         },
         {
          "X": -3.4834061250532193,
          "Y": 822
         },
         {
          "X": -3.364012792772182,
          "Y": 962
         },
         {
          "X": -3.244619460491145,
          "Y": 1103
         },
         {
          "X": -3.1252261282101075,
          "Y": 1185
         },
         {
          "X": -3.00583279592907,
          "Y": 1457
         },
         {
          "X": -2.886439463648033,
          "Y": 1551
         },
         {
          "X": -2.7670461313669956,
          "Y": 1827
         },
         {
          "X": -2.647652799085958,
          "Y": 1887
         },
         {
          "X": -2.528259466804921,
          "Y": 2082
         },
         {
          "X": -2.4088661345238838,
          "Y": 2209
         },
         {
          "X": -2.2894728022428468,
          "Y": 2328
         },
         {
          "X": -2.1700794699618093,
          "Y": 2355
         },
         {
          "X": -2.050686137680772,
          "Y": 2394
         },
         {
          "X": -1.9312928053997345,
          "Y": 2440
         },
         {
          "X": -1.8118994731186975,
          "Y": 2381
         },
         {
          "X": -1.6925061408376605,
          "Y": 2252
         },
         {
          "X": -1.5731128085566226,
          "Y": 2121
         },
         {
          "X": -1.4537194762755856,
          "Y": 2022
         },
         {
          "X": -1.3343261439945486,
          "Y": 1937
         },
         {
          "X": -1.2149328117135116,
          "Y": 1768
         },
         {
          "X": -1.0955394794324738,
          "Y": 1544
         },
         {
          "X": -0.9761461471514368,
          "Y": 1414
         },
         {
          "X": -0.8567528148703998,
          "Y": 1324
         },
         {
          "X": -0.7373594825893619,
          "Y": 1171
         },
         {
          "X": -0.6179661503083249,
          "Y": 999
         },
         {
          "X": -0.4985728180272879,
          "Y": 858
         },
         {
          "X": -0.37917948574625004,
          "Y": 782
         },
         {
          "X": -0.25978615346521305,
          "Y": 707
         },
         {
          "X": -0.14039282118417606,
          "Y": 669
         },
         {
          "X": -0.020999488903138186,
          "Y": 607
         },
         {
          "X": 0.0983938433778988,
          "Y": 640
         },
         {
          "X": 0.2177871756589358,
          "Y": 624
         },
         {
          "X": 0.3371805079399737,
          "Y": 739
         },
         {
          "X": 0.45657384022101066,
          "Y": 845
         },
         {
          "X": 0.5759671725020477,
          "Y": 947
         },
         {
          "X": 0.6953605047830855,
          "Y": 1102
         },
         {
          "X": 0.8147538370641225,
          "Y": 1243
         },
         {
          "X": 0.9341471693451595,
          "Y": 1433
         },
         {
          "X": 1.0535405016261965,
          "Y": 1539
         },
         {
          "X": 1.1729338339072344,
          "Y": 1692
         },
         {
          "X": 1.2923271661882714,
          "Y": 1830
         },
         {
          "X": 1.4117204984693084,
          "Y": 1934
         },
         {
          "X": 1.5311138307503462,
          "Y": 2166
         },
         {
          "X": 1.6505071630313832,
          "Y": 2309
         },
         {
          "X": 1.7699004953124202,
          "Y": 2269
         },
         {
          "X": 1.889293827593458,
          "Y": 2358
         },
         {
          "X": 2.008687159874495,
          "Y": 2471
         },
         {
          "X": 2.128080492155534,
          "Y": 2322
         },
         {
          "X": 2.247473824436571,
          "Y": 2363
         },
         {
          "X": 2.366867156717608,
          "Y": 2134
         },
         {
          "X": 2.486260488998645,
          "Y": 2122
         },
         {
          "X": 2.605653821279682,
          "Y": 1995
         },
         {
          "X": 2.725047153560719,
          "Y": 1837
         },
         {
          "X": 2.8444404858417576,
          "Y": 1745
         },
         {
          "X": 2.9638338181227946,
          "Y": 1526
         },
         {
          "X": 3.0832271504038316,
          "Y": 1270
         },
         {
          "X": 3.2026204826848685,
          "Y": 1117
         },
         {
          "X": 3.3220138149659055,
          "Y": 979
         },
         {
          "X": 3.4414071472469425,
          "Y": 858
         },
         {
          "X": 3.5608004795279795,
          "Y": 749
         },
         {
          "X": 3.6801938118090183,
          "Y": 568
         },
         {
          "X": 3.7995871440900553,
          "Y": 468
         },
         {
          "X": 3.9189804763710923,
          "Y": 341
         },
         {
          "X": 4.038373808652129,
          "Y": 298
         },
         {
          "X": 4.157767140933166,
          "Y": 242
         },
         {
          "X": 4.277160473214203,
          "Y": 163
         },
         {
          "X": 4.396553805495242,
          "Y": 139
         },
         {
          "X": 4.515947137776279,
          "Y": 92
         },
         {
          "X": 4.635340470057316,
          "Y": 76
         },
         {
          "X": 4.754733802338353,
          "Y": 58
         },
         {
          "X": 4.87412713461939,
          "Y": 28
         },
         {
          "X": 4.993520466900427,
          "Y": 26
         },
         {
          "X": 5.112913799181466,
          "Y": 18
         },
         {
          "X": 5.232307131462503,
          "Y": 14
         },
         {
          "X": 5.35170046374354,
          "Y": 10
         },
         {
          "X": 5.471093796024577,
          "Y": 7
         },
         {
          "X": 5.590487128305614,
          "Y": 5
         },
         {
          "X": 5.709880460586651,
          "Y": 3
         },
         {
          "X": 5.829273792867688,
          "Y": 0
         }
        ]
       },
       "encoding": {
        "x": {
         "field": "X",
         "type": "quantitative"
        },
        "y": {
         "field": "Y",
         "type": "quantitative"
        }
       },
       "height": 400,
       "mark": "bar",
       "width": 400
      },
      "image/png": "[encoded data removed]"
     },
     "metadata": {},
     "output_type": "display_data"
    }
   ],
   "source": [
    "constWeight = 1 :: Log Double\n",
    "\n",
    "sampler $ plot . histogramToList . histogram 100 <$> replicateM 100000 ((,constWeight) <$>  priorPredictive model)"
   ]
  },
  {
   "cell_type": "markdown",
   "id": "e43b4b99-dfa0-4fa7-86a8-37742e60cd25",
   "metadata": {},
   "source": [
    "## Posterior"
   ]
  },
  {
   "cell_type": "markdown",
   "id": "7b9fd255-e24a-47a9-a7e4-330db726b31c",
   "metadata": {},
   "source": [
    "Posterior distribution is computed using `likelihood` and observations $os = \\{o_{1}, \\dots o_{n} \\}$.\n",
    "Factors are computed for posterior for `model`, and in the considered example yield following: \n",
    "- $ \\prod_{i=1}^{n} \\text{likelihood}(\\text{True}, o_{i}) $ for `True` \n",
    "- $ \\prod_{i=1}^{n} \\text{likelihood}(\\text{False}, o_{i}) $ for `False`.\n",
    "\n",
    "Note that factors do not have to sum up to 1. Empirical distribution is obtained by normalizing factors to 1.\n"
   ]
  },
  {
   "cell_type": "markdown",
   "id": "5106188a-c959-455a-b155-e5a5e4a34cb0",
   "metadata": {},
   "source": [
    "### Observations\n",
    "\n",
    "In our example, we experiment how observed data change the a priori model given the likelihood function. Observations should be in the domain of the likelihood function."
   ]
  },
  {
   "cell_type": "markdown",
   "id": "bab96b4a-eba8-445f-b612-d1acbaac902c",
   "metadata": {},
   "source": [
    "Taking symmetrical and evenly distributed points, we do not change the posterior distribution:"
   ]
  },
  {
   "cell_type": "code",
   "execution_count": 5,
   "id": "e7de370d-616e-44b3-9fd3-ddea14e6d27e",
   "metadata": {},
   "outputs": [
    {
     "data": {
      "text/plain": [
       "[(True,0.5005199999999994),(False,0.49948000000000126)]"
      ]
     },
     "metadata": {},
     "output_type": "display_data"
    }
   ],
   "source": [
    "observations1 = [-3..3]\n",
    "sampler $ toEmpiricalWeighted <$> replicateM 100000 (weighted $ posterior model observations1)"
   ]
  },
  {
   "cell_type": "markdown",
   "id": "616dd80b-6d54-4044-abf0-eef08f31e525",
   "metadata": {},
   "source": [
    "On the other hand, if the observations are unevenly distributed adjustments to posterior are well visible:"
   ]
  },
  {
   "cell_type": "code",
   "execution_count": 6,
   "id": "cb53e65b-d75b-4c47-9ba4-14dbe4fecbea",
   "metadata": {},
   "outputs": [
    {
     "data": {
      "text/plain": [
       "[(True,0.7669770523099223),(False,0.23302294769007775)]"
      ]
     },
     "metadata": {},
     "output_type": "display_data"
    }
   ],
   "source": [
    "observations2 = [-2.3, -2, 0, 0.3, 2, 2.3]\n",
    "sampler $ toEmpiricalWeighted <$> replicateM 100000 (weighted $ posterior model observations2)"
   ]
  },
  {
   "cell_type": "code",
   "execution_count": 7,
   "id": "064ba891-8d4c-4a2f-9aa3-530c64cce610",
   "metadata": {},
   "outputs": [
    {
     "data": {
      "application/vnd.vegalite.v4+json": {
       "$schema": "https://vega.github.io/schema/vega-lite/v4.json",
       "data": {
        "values": [
         {
          "X": "True",
          "Y": 0.7858490286459617
         },
         {
          "X": "False",
          "Y": 0.21415097135403988
         }
        ]
       },
       "encoding": {
        "x": {
         "field": "X",
         "type": "nominal"
        },
        "y": {
         "field": "Y",
         "type": "quantitative"
        }
       },
       "height": 400,
       "mark": "bar",
       "width": 400
      },
      "image/png": "[encoded data removed]"
     },
     "metadata": {},
     "output_type": "display_data"
    }
   ],
   "source": [
    "sampler $ \n",
    "    plot . fmap (bimap (T.pack . show) (ln . exp)) . toEmpiricalWeighted <$> \n",
    "    replicateM 1000 (weighted $ posterior model observations2)"
   ]
  },
  {
   "cell_type": "markdown",
   "id": "22d6ba01-5509-4268-8888-280b40d7cb5c",
   "metadata": {},
   "source": [
    "### Excercise\n",
    "\n",
    "Change the observations lists and see how the posterior is affected.\n",
    "Change standard deviation of `likelihood` and see how posterior changes.\n"
   ]
  },
  {
   "cell_type": "markdown",
   "id": "dd0b08c8-e604-43be-9029-6708c61b4d1b",
   "metadata": {},
   "source": [
    "## Posterior predictive\n",
    "\n",
    "Analoguosly to prior predictive is generated by `generative` applied to `posterior`."
   ]
  },
  {
   "cell_type": "code",
   "execution_count": 8,
   "id": "3021a681-2370-4157-b5c7-fc9bbe2f7849",
   "metadata": {},
   "outputs": [
    {
     "data": {
      "application/vnd.vegalite.v4+json": {
       "$schema": "https://vega.github.io/schema/vega-lite/v4.json",
       "data": {
        "values": [
         {
          "X": -6.5236444797796205,
          "Y": 1.2000820346917839e-12
         },
         {
          "X": -6.396991310288549,
          "Y": 0
         },
         {
          "X": -6.270338140797477,
          "Y": 0
         },
         {
          "X": -6.143684971306406,
          "Y": 0
         },
         {
          "X": -6.017031801815335,
          "Y": 0
         },
         {
          "X": -5.890378632324263,
          "Y": 1.2000820346917839e-12
         },
         {
          "X": -5.763725462833192,
          "Y": 3.6002461040753516e-12
         },
         {
          "X": -5.637072293342121,
          "Y": 6.000410173458919e-12
         },
         {
          "X": -5.510419123851049,
          "Y": 4.8003281387671354e-12
         },
         {
          "X": -5.383765954359978,
          "Y": 3.6002461040753516e-12
         },
         {
          "X": -5.257112784868907,
          "Y": 1.0800738312226055e-11
         },
         {
          "X": -5.130459615377835,
          "Y": 2.2801558659143882e-11
         },
         {
          "X": -5.003806445886764,
          "Y": 4.320295324890418e-11
         },
         {
          "X": -4.877153276395693,
          "Y": 3.6002461040753487e-11
         },
         {
          "X": -4.750500106904621,
          "Y": 5.6403855630513785e-11
         },
         {
          "X": -4.62384693741355,
          "Y": 9.720664481003459e-11
         },
         {
          "X": -4.497193767922479,
          "Y": 1.57210746544624e-10
         },
         {
          "X": -4.370540598431408,
          "Y": 1.6561132078746653e-10
         },
         {
          "X": -4.2438874289403365,
          "Y": 2.5681755542404247e-10
         },
         {
          "X": -4.117234259449265,
          "Y": 3.4442354395654305e-10
         },
         {
          "X": -3.9905810899581935,
          "Y": 4.0562772772582427e-10
         },
         {
          "X": -3.863927920467122,
          "Y": 4.932337162583237e-10
         },
         {
          "X": -3.7372747509760504,
          "Y": 7.296498770925958e-10
         },
         {
          "X": -3.6106215814849794,
          "Y": 8.052550452781753e-10
         },
         {
          "X": -3.483968411993908,
          "Y": 1.008068909141079e-09
         },
         {
          "X": -3.3573152425028363,
          "Y": 1.226483839454975e-09
         },
         {
          "X": -3.2306620730117652,
          "Y": 1.3980955704158935e-09
         },
         {
          "X": -3.1040089035206937,
          "Y": 1.6429123054930078e-09
         },
         {
          "X": -2.977355734029622,
          "Y": 1.911730681263957e-09
         },
         {
          "X": -2.850702564538551,
          "Y": 2.1001435607105596e-09
         },
         {
          "X": -2.7240493950474796,
          "Y": 2.3377598035795235e-09
         },
         {
          "X": -2.5973962255564085,
          "Y": 2.5477741596505775e-09
         },
         {
          "X": -2.470743056065337,
          "Y": 2.7217860546808794e-09
         },
         {
          "X": -2.344089886574266,
          "Y": 2.906598688023407e-09
         },
         {
          "X": -2.217436717083194,
          "Y": 2.8861972934336473e-09
         },
         {
          "X": -2.090783547592123,
          "Y": 3.0170062352150467e-09
         },
         {
          "X": -1.9641303781010517,
          "Y": 3.1310140285107617e-09
         },
         {
          "X": -1.8374772086099798,
          "Y": 3.0109582427108273e-09
         },
         {
          "X": -1.7108240391189087,
          "Y": 2.941353484698706e-09
         },
         {
          "X": -1.5841708696278376,
          "Y": 2.762157094961661e-09
         },
         {
          "X": -1.4575177001367665,
          "Y": 2.604946348417043e-09
         },
         {
          "X": -1.3308645306456945,
          "Y": 2.4479294391173596e-09
         },
         {
          "X": -1.2042113611546235,
          "Y": 2.2530844005985607e-09
         },
         {
          "X": -1.0775581916635524,
          "Y": 2.1027375620248778e-09
         },
         {
          "X": -0.9509050221724804,
          "Y": 1.875109649923317e-09
         },
         {
          "X": -0.8242518526814093,
          "Y": 1.659336303254499e-09
         },
         {
          "X": -0.6975986831903382,
          "Y": 1.5367851887236598e-09
         },
         {
          "X": -0.5709455136992663,
          "Y": 1.5119235581542422e-09
         },
         {
          "X": -0.4442923442081952,
          "Y": 1.410834681177463e-09
         },
         {
          "X": -0.3176391747171241,
          "Y": 1.4613878894705825e-09
         },
         {
          "X": -0.19098600522605214,
          "Y": 1.540457572611739e-09
         },
         {
          "X": -0.06433283573498105,
          "Y": 1.576898798395013e-09
         },
         {
          "X": 0.06232033375609003,
          "Y": 1.7621061220711967e-09
         },
         {
          "X": 0.188973503247162,
          "Y": 2.3371603014648102e-09
         },
         {
          "X": 0.3156266727382331,
          "Y": 2.69897702940749e-09
         },
         {
          "X": 0.44227984222930417,
          "Y": 3.2753740378280713e-09
         },
         {
          "X": 0.5689330117203761,
          "Y": 3.581694482346584e-09
         },
         {
          "X": 0.6955861812114472,
          "Y": 4.3484798012282575e-09
         },
         {
          "X": 0.8222393507025183,
          "Y": 5.130913768891697e-09
         },
         {
          "X": 0.9488925201935894,
          "Y": 5.596226553724365e-09
         },
         {
          "X": 1.0755456896846614,
          "Y": 6.241701406596872e-09
         },
         {
          "X": 1.2021988591757324,
          "Y": 7.435009210711222e-09
         },
         {
          "X": 1.3288520286668035,
          "Y": 8.030607531686927e-09
         },
         {
          "X": 1.4555051981578755,
          "Y": 8.58684105717161e-09
         },
         {
          "X": 1.5821583676489466,
          "Y": 9.42635204894e-09
         },
         {
          "X": 1.7088115371400177,
          "Y": 9.668585306468487e-09
         },
         {
          "X": 1.8354647066310887,
          "Y": 9.818792905971791e-09
         },
         {
          "X": 1.9621178761221598,
          "Y": 9.891712416103428e-09
         },
         {
          "X": 2.0887710456132327,
          "Y": 1.0178590128491209e-08
         },
         {
          "X": 2.2154242151043038,
          "Y": 9.75504230321895e-09
         },
         {
          "X": 2.342077384595375,
          "Y": 9.729935745151944e-09
         },
         {
          "X": 2.468730554086446,
          "Y": 9.267743875193853e-09
         },
         {
          "X": 2.595383723577517,
          "Y": 8.40711073803051e-09
         },
         {
          "X": 2.722036893068588,
          "Y": 7.434914046049696e-09
         },
         {
          "X": 2.848690062559661,
          "Y": 6.9089715733387646e-09
         },
         {
          "X": 2.975343232050732,
          "Y": 6.402951163988095e-09
         },
         {
          "X": 3.101996401541803,
          "Y": 5.566224502857067e-09
         },
         {
          "X": 3.228649571032874,
          "Y": 4.8251237458553e-09
         },
         {
          "X": 3.3553027405239453,
          "Y": 3.836989403186276e-09
         },
         {
          "X": 3.4819559100150164,
          "Y": 3.470423437357471e-09
         },
         {
          "X": 3.6086090795060874,
          "Y": 2.637681188898582e-09
         },
         {
          "X": 3.7352622489971603,
          "Y": 2.3826787778872478e-09
         },
         {
          "X": 3.8619154184882314,
          "Y": 1.8368142418161086e-09
         },
         {
          "X": 3.9885685879793025,
          "Y": 1.466263863315244e-09
         },
         {
          "X": 4.1152217574703736,
          "Y": 9.881343426689672e-10
         },
         {
          "X": 4.241874926961445,
          "Y": 7.610228203619858e-10
         },
         {
          "X": 4.368528096452516,
          "Y": 6.33521614856312e-10
         },
         {
          "X": 4.495181265943589,
          "Y": 4.821139333183243e-10
         },
         {
          "X": 4.62183443543466,
          "Y": 2.9484653773186803e-10
         },
         {
          "X": 4.748487604925731,
          "Y": 2.2312710963492739e-10
         },
         {
          "X": 4.875140774416802,
          "Y": 1.354700308497772e-10
         },
         {
          "X": 5.001793943907873,
          "Y": 9.164149145720218e-11
         },
         {
          "X": 5.128447113398944,
          "Y": 5.976619008078404e-11
         },
         {
          "X": 5.255100282890017,
          "Y": 4.7812952064627226e-11
         },
         {
          "X": 5.381753452381088,
          "Y": 2.3906476032313613e-11
         },
         {
          "X": 5.508406621872159,
          "Y": 2.3906476032313613e-11
         },
         {
          "X": 5.63505979136323,
          "Y": 1.1953238016156808e-11
         },
         {
          "X": 5.761712960854301,
          "Y": 3.187530137641815e-11
         },
         {
          "X": 5.888366130345372,
          "Y": 7.968825344104538e-12
         },
         {
          "X": 6.015019299836443,
          "Y": 0
         }
        ]
       },
       "encoding": {
        "x": {
         "field": "X",
         "type": "quantitative"
        },
        "y": {
         "field": "Y",
         "type": "quantitative"
        }
       },
       "height": 400,
       "mark": "bar",
       "width": 400
      },
      "image/png": "[encoded data removed]"
     },
     "metadata": {},
     "output_type": "display_data"
    }
   ],
   "source": [
    "sampler $ plot . histogramToList . histogram 100 <$> replicateM 100000 (weighted $ posteriorPredictive model observations2)"
   ]
  },
  {
   "cell_type": "markdown",
   "id": "d3c062c3-e5f8-4a72-b631-0635a6730b25",
   "metadata": {},
   "source": [
    "# Regression\n",
    "\n",
    "The classical example of linear regression:"
   ]
  },
  {
   "cell_type": "code",
   "execution_count": 9,
   "id": "080d34a0-3324-4bf2-bb25-72b06db1f342",
   "metadata": {},
   "outputs": [],
   "source": [
    "range :: [Double]\n",
    "range = [-10,-9.9..10] \n",
    "\n",
    "\n",
    "regression :: MonadDistribution m => Bayesian m (Double, Double, Double) [Double]\n",
    "regression = Bayesian {\n",
    "    prior = do \n",
    "            slope <- normal 0 2\n",
    "            intercept <- normal 0 2\n",
    "            noise <- gamma 4 4\n",
    "            return (slope, intercept, noise),\n",
    "    \n",
    "    generative = \\(slope, intercept, noise) -> do\n",
    "            forM range \\x -> normal (x*slope + intercept) (sqrt noise),\n",
    "            \n",
    "    likelihood = \\(slope, intercept, noise) ys -> Prelude.sum [normalPdf (x*slope + intercept) (sqrt noise) y | (x,y) <- zip range ys] \n",
    "                \n",
    "    }\n"
   ]
  },
  {
   "cell_type": "markdown",
   "id": "da26e20a-6112-408e-90c3-9af694e9bfb6",
   "metadata": {},
   "source": [
    "## Prior predictive\n",
    "\n",
    "`prior` distribution has three independent parameters. `generative` combines them into a new distribution."
   ]
  },
  {
   "cell_type": "code",
   "execution_count": 10,
   "id": "0621fc17-5c64-409b-9d08-d52b067b8dcd",
   "metadata": {},
   "outputs": [
    {
     "data": {
      "application/vnd.vegalite.v4+json": {
       "$schema": "https://vega.github.io/schema/vega-lite/v4.json",
       "data": {
        "values": [
         {
          "Outlier": "\"\\\"N/A\\\"\"",
          "X": -10,
          "Y": -24.696066745861014
         },
         {
          "Outlier": "\"\\\"N/A\\\"\"",
          "X": -9.9,
          "Y": -21.381259313040246
         },
         {
          "Outlier": "\"\\\"N/A\\\"\"",
          "X": -9.8,
          "Y": -32.73005432786171
         },
         {
          "Outlier": "\"\\\"N/A\\\"\"",
          "X": -9.700000000000001,
          "Y": -22.657276541487107
         },
         {
          "Outlier": "\"\\\"N/A\\\"\"",
          "X": -9.600000000000001,
          "Y": -30.19731332469662
         },
         {
          "Outlier": "\"\\\"N/A\\\"\"",
          "X": -9.500000000000002,
          "Y": -26.94191144606625
         },
         {
          "Outlier": "\"\\\"N/A\\\"\"",
          "X": -9.400000000000002,
          "Y": -29.621782489998168
         },
         {
          "Outlier": "\"\\\"N/A\\\"\"",
          "X": -9.300000000000002,
          "Y": -20.473278582744076
         },
         {
          "Outlier": "\"\\\"N/A\\\"\"",
          "X": -9.200000000000003,
          "Y": -20.75628633100779
         },
         {
          "Outlier": "\"\\\"N/A\\\"\"",
          "X": -9.100000000000003,
          "Y": -26.689333441022768
         },
         {
          "Outlier": "\"\\\"N/A\\\"\"",
          "X": -9.000000000000004,
          "Y": -18.2370766625895
         },
         {
          "Outlier": "\"\\\"N/A\\\"\"",
          "X": -8.900000000000004,
          "Y": -20.800840383026074
         },
         {
          "Outlier": "\"\\\"N/A\\\"\"",
          "X": -8.800000000000004,
          "Y": -22.59667318866466
         },
         {
          "Outlier": "\"\\\"N/A\\\"\"",
          "X": -8.700000000000005,
          "Y": -20.657903522473575
         },
         {
          "Outlier": "\"\\\"N/A\\\"\"",
          "X": -8.600000000000005,
          "Y": -27.590236656692873
         },
         {
          "Outlier": "\"\\\"N/A\\\"\"",
          "X": -8.500000000000005,
          "Y": -20.060901971997946
         },
         {
          "Outlier": "\"\\\"N/A\\\"\"",
          "X": -8.400000000000006,
          "Y": -20.363465003267542
         },
         {
          "Outlier": "\"\\\"N/A\\\"\"",
          "X": -8.300000000000006,
          "Y": -17.976596844148816
         },
         {
          "Outlier": "\"\\\"N/A\\\"\"",
          "X": -8.200000000000006,
          "Y": -25.936642514956873
         },
         {
          "Outlier": "\"\\\"N/A\\\"\"",
          "X": -8.100000000000007,
          "Y": -20.84529549153013
         },
         {
          "Outlier": "\"\\\"N/A\\\"\"",
          "X": -8.000000000000007,
          "Y": -22.554423352626788
         },
         {
          "Outlier": "\"\\\"N/A\\\"\"",
          "X": -7.9000000000000075,
          "Y": -21.21360523641598
         },
         {
          "Outlier": "\"\\\"N/A\\\"\"",
          "X": -7.800000000000008,
          "Y": -14.3652122284511
         },
         {
          "Outlier": "\"\\\"N/A\\\"\"",
          "X": -7.700000000000008,
          "Y": -22.764237189775677
         },
         {
          "Outlier": "\"\\\"N/A\\\"\"",
          "X": -7.6000000000000085,
          "Y": -24.104606694350913
         },
         {
          "Outlier": "\"\\\"N/A\\\"\"",
          "X": -7.500000000000009,
          "Y": -16.19150562230182
         },
         {
          "Outlier": "\"\\\"N/A\\\"\"",
          "X": -7.400000000000009,
          "Y": -17.189187562495917
         },
         {
          "Outlier": "\"\\\"N/A\\\"\"",
          "X": -7.30000000000001,
          "Y": -13.36509411590376
         },
         {
          "Outlier": "\"\\\"N/A\\\"\"",
          "X": -7.20000000000001,
          "Y": -11.749890163374976
         },
         {
          "Outlier": "\"\\\"N/A\\\"\"",
          "X": -7.10000000000001,
          "Y": -7.8401043738294725
         },
         {
          "Outlier": "\"\\\"N/A\\\"\"",
          "X": -7.000000000000011,
          "Y": -11.80097376182295
         },
         {
          "Outlier": "\"\\\"N/A\\\"\"",
          "X": -6.900000000000011,
          "Y": -16.54381413023416
         },
         {
          "Outlier": "\"\\\"N/A\\\"\"",
          "X": -6.800000000000011,
          "Y": -9.447631219614676
         },
         {
          "Outlier": "\"\\\"N/A\\\"\"",
          "X": -6.700000000000012,
          "Y": -17.972692486597523
         },
         {
          "Outlier": "\"\\\"N/A\\\"\"",
          "X": -6.600000000000012,
          "Y": -7.215547942625641
         },
         {
          "Outlier": "\"\\\"N/A\\\"\"",
          "X": -6.500000000000012,
          "Y": -12.342877144768519
         },
         {
          "Outlier": "\"\\\"N/A\\\"\"",
          "X": -6.400000000000013,
          "Y": -14.417874954220588
         },
         {
          "Outlier": "\"\\\"N/A\\\"\"",
          "X": -6.300000000000013,
          "Y": -15.062932481636377
         },
         {
          "Outlier": "\"\\\"N/A\\\"\"",
          "X": -6.2000000000000135,
          "Y": -14.008502402456015
         },
         {
          "Outlier": "\"\\\"N/A\\\"\"",
          "X": -6.100000000000014,
          "Y": -21.609612064222155
         },
         {
          "Outlier": "\"\\\"N/A\\\"\"",
          "X": -6.000000000000014,
          "Y": -3.382078735201878
         },
         {
          "Outlier": "\"\\\"N/A\\\"\"",
          "X": -5.900000000000015,
          "Y": -13.116977497216707
         },
         {
          "Outlier": "\"\\\"N/A\\\"\"",
          "X": -5.800000000000015,
          "Y": -17.478757632067765
         },
         {
          "Outlier": "\"\\\"N/A\\\"\"",
          "X": -5.700000000000015,
          "Y": -16.27212080976474
         },
         {
          "Outlier": "\"\\\"N/A\\\"\"",
          "X": -5.600000000000016,
          "Y": -10.03953346938355
         },
         {
          "Outlier": "\"\\\"N/A\\\"\"",
          "X": -5.500000000000016,
          "Y": -9.12915901717275
         },
         {
          "Outlier": "\"\\\"N/A\\\"\"",
          "X": -5.400000000000016,
          "Y": -11.202335781461699
         },
         {
          "Outlier": "\"\\\"N/A\\\"\"",
          "X": -5.300000000000017,
          "Y": -12.770601823882581
         },
         {
          "Outlier": "\"\\\"N/A\\\"\"",
          "X": -5.200000000000017,
          "Y": -16.533469530786192
         },
         {
          "Outlier": "\"\\\"N/A\\\"\"",
          "X": -5.100000000000017,
          "Y": -20.400193136182107
         },
         {
          "Outlier": "\"\\\"N/A\\\"\"",
          "X": -5.000000000000018,
          "Y": -9.472177577814106
         },
         {
          "Outlier": "\"\\\"N/A\\\"\"",
          "X": -4.900000000000018,
          "Y": -18.19037863545404
         },
         {
          "Outlier": "\"\\\"N/A\\\"\"",
          "X": -4.8000000000000185,
          "Y": -11.436494344462007
         },
         {
          "Outlier": "\"\\\"N/A\\\"\"",
          "X": -4.700000000000019,
          "Y": -8.767450710978649
         },
         {
          "Outlier": "\"\\\"N/A\\\"\"",
          "X": -4.600000000000019,
          "Y": -2.26356720097605
         },
         {
          "Outlier": "\"\\\"N/A\\\"\"",
          "X": -4.5000000000000195,
          "Y": -12.186952681793706
         },
         {
          "Outlier": "\"\\\"N/A\\\"\"",
          "X": -4.40000000000002,
          "Y": -9.830370794113218
         },
         {
          "Outlier": "\"\\\"N/A\\\"\"",
          "X": -4.30000000000002,
          "Y": -0.9954506297705308
         },
         {
          "Outlier": "\"\\\"N/A\\\"\"",
          "X": -4.200000000000021,
          "Y": -11.964060798738288
         },
         {
          "Outlier": "\"\\\"N/A\\\"\"",
          "X": -4.100000000000021,
          "Y": -1.5320531197877703
         },
         {
          "Outlier": "\"\\\"N/A\\\"\"",
          "X": -4.000000000000021,
          "Y": -10.91854471730393
         },
         {
          "Outlier": "\"\\\"N/A\\\"\"",
          "X": -3.9000000000000217,
          "Y": -12.18235042465571
         },
         {
          "Outlier": "\"\\\"N/A\\\"\"",
          "X": -3.800000000000022,
          "Y": -6.377524604385539
         },
         {
          "Outlier": "\"\\\"N/A\\\"\"",
          "X": -3.7000000000000224,
          "Y": -10.706161682039268
         },
         {
          "Outlier": "\"\\\"N/A\\\"\"",
          "X": -3.6000000000000227,
          "Y": -8.20315270083335
         },
         {
          "Outlier": "\"\\\"N/A\\\"\"",
          "X": -3.500000000000023,
          "Y": -7.2747642197247435
         },
         {
          "Outlier": "\"\\\"N/A\\\"\"",
          "X": -3.4000000000000234,
          "Y": -14.1891288953255
         },
         {
          "Outlier": "\"\\\"N/A\\\"\"",
          "X": -3.300000000000024,
          "Y": -14.733617972023097
         },
         {
          "Outlier": "\"\\\"N/A\\\"\"",
          "X": -3.200000000000024,
          "Y": -4.517513125835107
         },
         {
          "Outlier": "\"\\\"N/A\\\"\"",
          "X": -3.1000000000000245,
          "Y": -8.233892536840202
         },
         {
          "Outlier": "\"\\\"N/A\\\"\"",
          "X": -3.000000000000025,
          "Y": -0.08440505904882123
         },
         {
          "Outlier": "\"\\\"N/A\\\"\"",
          "X": -2.9000000000000252,
          "Y": -9.383294890693119
         },
         {
          "Outlier": "\"\\\"N/A\\\"\"",
          "X": -2.8000000000000256,
          "Y": -10.443429838168191
         },
         {
          "Outlier": "\"\\\"N/A\\\"\"",
          "X": -2.700000000000026,
          "Y": 0.9517159555199584
         },
         {
          "Outlier": "\"\\\"N/A\\\"\"",
          "X": -2.6000000000000263,
          "Y": -0.03889378059487658
         },
         {
          "Outlier": "\"\\\"N/A\\\"\"",
          "X": -2.5000000000000266,
          "Y": -9.590716305496027
         },
         {
          "Outlier": "\"\\\"N/A\\\"\"",
          "X": -2.400000000000027,
          "Y": -5.24144084714031
         },
         {
          "Outlier": "\"\\\"N/A\\\"\"",
          "X": -2.3000000000000274,
          "Y": -3.416300048010222
         },
         {
          "Outlier": "\"\\\"N/A\\\"\"",
          "X": -2.2000000000000277,
          "Y": -5.921966234116257
         },
         {
          "Outlier": "\"\\\"N/A\\\"\"",
          "X": -2.100000000000028,
          "Y": -1.986713963352214
         },
         {
          "Outlier": "\"\\\"N/A\\\"\"",
          "X": -2.0000000000000284,
          "Y": -7.1783973322317465
         },
         {
          "Outlier": "\"\\\"N/A\\\"\"",
          "X": -1.9000000000000288,
          "Y": -4.421293274590913
         },
         {
          "Outlier": "\"\\\"N/A\\\"\"",
          "X": -1.8000000000000291,
          "Y": -1.3198522416368355
         },
         {
          "Outlier": "\"\\\"N/A\\\"\"",
          "X": -1.7000000000000295,
          "Y": -5.13330862095895
         },
         {
          "Outlier": "\"\\\"N/A\\\"\"",
          "X": -1.6000000000000298,
          "Y": -8.304718415284588
         },
         {
          "Outlier": "\"\\\"N/A\\\"\"",
          "X": -1.5000000000000302,
          "Y": 2.4322583648929665
         },
         {
          "Outlier": "\"\\\"N/A\\\"\"",
          "X": -1.4000000000000306,
          "Y": -0.9075133454733146
         },
         {
          "Outlier": "\"\\\"N/A\\\"\"",
          "X": -1.300000000000031,
          "Y": -3.4210367564944795
         },
         {
          "Outlier": "\"\\\"N/A\\\"\"",
          "X": -1.2000000000000313,
          "Y": -6.0185764726709134
         },
         {
          "Outlier": "\"\\\"N/A\\\"\"",
          "X": -1.1000000000000316,
          "Y": -2.653576919771158
         },
         {
          "Outlier": "\"\\\"N/A\\\"\"",
          "X": -1.000000000000032,
          "Y": -3.971966134615479
         },
         {
          "Outlier": "\"\\\"N/A\\\"\"",
          "X": -0.9000000000000323,
          "Y": 1.3931793752460457
         },
         {
          "Outlier": "\"\\\"N/A\\\"\"",
          "X": -0.8000000000000327,
          "Y": -1.6720322703456505
         },
         {
          "Outlier": "\"\\\"N/A\\\"\"",
          "X": -0.700000000000033,
          "Y": 5.464366619345535
         },
         {
          "Outlier": "\"\\\"N/A\\\"\"",
          "X": -0.6000000000000334,
          "Y": -1.9240571018418877
         },
         {
          "Outlier": "\"\\\"N/A\\\"\"",
          "X": -0.5000000000000338,
          "Y": -8.93628410392278
         },
         {
          "Outlier": "\"\\\"N/A\\\"\"",
          "X": -0.4000000000000341,
          "Y": -5.785500318757535
         },
         {
          "Outlier": "\"\\\"N/A\\\"\"",
          "X": -0.30000000000003446,
          "Y": -6.348760671441806
         },
         {
          "Outlier": "\"\\\"N/A\\\"\"",
          "X": -0.20000000000003482,
          "Y": 3.534102095700111
         },
         {
          "Outlier": "\"\\\"N/A\\\"\"",
          "X": -0.10000000000003517,
          "Y": 2.0474856290031456
         },
         {
          "Outlier": "\"\\\"N/A\\\"\"",
          "X": -3.552713678800501e-14,
          "Y": 5.8790228189787035
         },
         {
          "Outlier": "\"\\\"N/A\\\"\"",
          "X": 0.09999999999996412,
          "Y": -2.2907430777160593
         },
         {
          "Outlier": "\"\\\"N/A\\\"\"",
          "X": 0.19999999999996376,
          "Y": -5.668596585592506
         },
         {
          "Outlier": "\"\\\"N/A\\\"\"",
          "X": 0.2999999999999634,
          "Y": -0.15608673045361787
         },
         {
          "Outlier": "\"\\\"N/A\\\"\"",
          "X": 0.39999999999996305,
          "Y": 2.535293077355314
         },
         {
          "Outlier": "\"\\\"N/A\\\"\"",
          "X": 0.4999999999999627,
          "Y": 4.969692427138009
         },
         {
          "Outlier": "\"\\\"N/A\\\"\"",
          "X": 0.5999999999999623,
          "Y": -1.448339308781924
         },
         {
          "Outlier": "\"\\\"N/A\\\"\"",
          "X": 0.699999999999962,
          "Y": -0.31843594750021853
         },
         {
          "Outlier": "\"\\\"N/A\\\"\"",
          "X": 0.7999999999999616,
          "Y": 1.230794222807322
         },
         {
          "Outlier": "\"\\\"N/A\\\"\"",
          "X": 0.8999999999999613,
          "Y": 2.775401943795419
         },
         {
          "Outlier": "\"\\\"N/A\\\"\"",
          "X": 0.9999999999999609,
          "Y": 2.9746625486363563
         },
         {
          "Outlier": "\"\\\"N/A\\\"\"",
          "X": 1.0999999999999606,
          "Y": 4.7517860788276165
         },
         {
          "Outlier": "\"\\\"N/A\\\"\"",
          "X": 1.1999999999999602,
          "Y": -7.938683953155905
         },
         {
          "Outlier": "\"\\\"N/A\\\"\"",
          "X": 1.2999999999999599,
          "Y": 0.9392067152273382
         },
         {
          "Outlier": "\"\\\"N/A\\\"\"",
          "X": 1.3999999999999595,
          "Y": -1.9112693986647988
         },
         {
          "Outlier": "\"\\\"N/A\\\"\"",
          "X": 1.4999999999999591,
          "Y": 7.995758513407569
         },
         {
          "Outlier": "\"\\\"N/A\\\"\"",
          "X": 1.5999999999999588,
          "Y": 2.9420539907849754
         },
         {
          "Outlier": "\"\\\"N/A\\\"\"",
          "X": 1.6999999999999584,
          "Y": -0.5963301351835262
         },
         {
          "Outlier": "\"\\\"N/A\\\"\"",
          "X": 1.799999999999958,
          "Y": 0.7722775033874285
         },
         {
          "Outlier": "\"\\\"N/A\\\"\"",
          "X": 1.8999999999999577,
          "Y": 2.160919953802293
         },
         {
          "Outlier": "\"\\\"N/A\\\"\"",
          "X": 1.9999999999999574,
          "Y": 6.658270824728535
         },
         {
          "Outlier": "\"\\\"N/A\\\"\"",
          "X": 2.099999999999957,
          "Y": 2.4788217207966485
         },
         {
          "Outlier": "\"\\\"N/A\\\"\"",
          "X": 2.1999999999999567,
          "Y": 0.44219554899480995
         },
         {
          "Outlier": "\"\\\"N/A\\\"\"",
          "X": 2.2999999999999563,
          "Y": 2.1636696172205445
         },
         {
          "Outlier": "\"\\\"N/A\\\"\"",
          "X": 2.399999999999956,
          "Y": 11.088227243765683
         },
         {
          "Outlier": "\"\\\"N/A\\\"\"",
          "X": 2.4999999999999556,
          "Y": -1.6594851528379229
         },
         {
          "Outlier": "\"\\\"N/A\\\"\"",
          "X": 2.5999999999999552,
          "Y": 3.664345812260441
         },
         {
          "Outlier": "\"\\\"N/A\\\"\"",
          "X": 2.699999999999955,
          "Y": 1.6410871024421039
         },
         {
          "Outlier": "\"\\\"N/A\\\"\"",
          "X": 2.7999999999999545,
          "Y": 6.745395209778488
         },
         {
          "Outlier": "\"\\\"N/A\\\"\"",
          "X": 2.899999999999954,
          "Y": 2.081611836962877
         },
         {
          "Outlier": "\"\\\"N/A\\\"\"",
          "X": 2.999999999999954,
          "Y": 4.716006524790677
         },
         {
          "Outlier": "\"\\\"N/A\\\"\"",
          "X": 3.0999999999999535,
          "Y": 7.817608997573727
         },
         {
          "Outlier": "\"\\\"N/A\\\"\"",
          "X": 3.199999999999953,
          "Y": 6.9502956424929065
         },
         {
          "Outlier": "\"\\\"N/A\\\"\"",
          "X": 3.2999999999999527,
          "Y": 14.183825887851718
         },
         {
          "Outlier": "\"\\\"N/A\\\"\"",
          "X": 3.3999999999999524,
          "Y": 6.723951106137135
         },
         {
          "Outlier": "\"\\\"N/A\\\"\"",
          "X": 3.499999999999952,
          "Y": 4.598697838940964
         },
         {
          "Outlier": "\"\\\"N/A\\\"\"",
          "X": 3.5999999999999517,
          "Y": 4.184679977051012
         },
         {
          "Outlier": "\"\\\"N/A\\\"\"",
          "X": 3.6999999999999513,
          "Y": 4.834379380539673
         },
         {
          "Outlier": "\"\\\"N/A\\\"\"",
          "X": 3.799999999999951,
          "Y": 6.934437085966483
         },
         {
          "Outlier": "\"\\\"N/A\\\"\"",
          "X": 3.8999999999999506,
          "Y": 11.95622948079815
         },
         {
          "Outlier": "\"\\\"N/A\\\"\"",
          "X": 3.9999999999999503,
          "Y": 8.924504221156031
         },
         {
          "Outlier": "\"\\\"N/A\\\"\"",
          "X": 4.09999999999995,
          "Y": 7.318822344359841
         },
         {
          "Outlier": "\"\\\"N/A\\\"\"",
          "X": 4.1999999999999496,
          "Y": 8.980768639999756
         },
         {
          "Outlier": "\"\\\"N/A\\\"\"",
          "X": 4.299999999999949,
          "Y": 1.754130997966758
         },
         {
          "Outlier": "\"\\\"N/A\\\"\"",
          "X": 4.399999999999949,
          "Y": 14.077113306709183
         },
         {
          "Outlier": "\"\\\"N/A\\\"\"",
          "X": 4.4999999999999485,
          "Y": 5.229970296582034
         },
         {
          "Outlier": "\"\\\"N/A\\\"\"",
          "X": 4.599999999999948,
          "Y": 15.827885593655012
         },
         {
          "Outlier": "\"\\\"N/A\\\"\"",
          "X": 4.699999999999948,
          "Y": 12.973975802909859
         },
         {
          "Outlier": "\"\\\"N/A\\\"\"",
          "X": 4.799999999999947,
          "Y": 6.700514010279003
         },
         {
          "Outlier": "\"\\\"N/A\\\"\"",
          "X": 4.899999999999947,
          "Y": 16.76667139509806
         },
         {
          "Outlier": "\"\\\"N/A\\\"\"",
          "X": 4.999999999999947,
          "Y": 8.435014802876584
         },
         {
          "Outlier": "\"\\\"N/A\\\"\"",
          "X": 5.099999999999946,
          "Y": 10.07976788408538
         },
         {
          "Outlier": "\"\\\"N/A\\\"\"",
          "X": 5.199999999999946,
          "Y": 17.885265342077933
         },
         {
          "Outlier": "\"\\\"N/A\\\"\"",
          "X": 5.299999999999946,
          "Y": 11.349302586110902
         },
         {
          "Outlier": "\"\\\"N/A\\\"\"",
          "X": 5.399999999999945,
          "Y": 11.114806895058242
         },
         {
          "Outlier": "\"\\\"N/A\\\"\"",
          "X": 5.499999999999945,
          "Y": 8.667313872580895
         },
         {
          "Outlier": "\"\\\"N/A\\\"\"",
          "X": 5.599999999999945,
          "Y": 18.349935446393147
         },
         {
          "Outlier": "\"\\\"N/A\\\"\"",
          "X": 5.699999999999944,
          "Y": 10.657730791650907
         },
         {
          "Outlier": "\"\\\"N/A\\\"\"",
          "X": 5.799999999999944,
          "Y": 8.820069761153336
         },
         {
          "Outlier": "\"\\\"N/A\\\"\"",
          "X": 5.8999999999999435,
          "Y": 8.800472286449592
         },
         {
          "Outlier": "\"\\\"N/A\\\"\"",
          "X": 5.999999999999943,
          "Y": 7.37552442281961
         },
         {
          "Outlier": "\"\\\"N/A\\\"\"",
          "X": 6.099999999999945,
          "Y": 16.531044018723648
         },
         {
          "Outlier": "\"\\\"N/A\\\"\"",
          "X": 6.1999999999999424,
          "Y": 12.844810815162809
         },
         {
          "Outlier": "\"\\\"N/A\\\"\"",
          "X": 6.29999999999994,
          "Y": 16.98437916984567
         },
         {
          "Outlier": "\"\\\"N/A\\\"\"",
          "X": 6.399999999999942,
          "Y": 16.00921557272676
         },
         {
          "Outlier": "\"\\\"N/A\\\"\"",
          "X": 6.499999999999943,
          "Y": 17.04351123412836
         },
         {
          "Outlier": "\"\\\"N/A\\\"\"",
          "X": 6.599999999999941,
          "Y": 10.099819885019928
         },
         {
          "Outlier": "\"\\\"N/A\\\"\"",
          "X": 6.699999999999939,
          "Y": 13.311530286628537
         },
         {
          "Outlier": "\"\\\"N/A\\\"\"",
          "X": 6.79999999999994,
          "Y": 13.98160192264979
         },
         {
          "Outlier": "\"\\\"N/A\\\"\"",
          "X": 6.899999999999942,
          "Y": 18.482932402259515
         },
         {
          "Outlier": "\"\\\"N/A\\\"\"",
          "X": 6.99999999999994,
          "Y": 15.576864220558743
         },
         {
          "Outlier": "\"\\\"N/A\\\"\"",
          "X": 7.0999999999999375,
          "Y": 16.129895721765994
         },
         {
          "Outlier": "\"\\\"N/A\\\"\"",
          "X": 7.199999999999939,
          "Y": 14.764662452334697
         },
         {
          "Outlier": "\"\\\"N/A\\\"\"",
          "X": 7.29999999999994,
          "Y": 10.884328321195783
         },
         {
          "Outlier": "\"\\\"N/A\\\"\"",
          "X": 7.399999999999938,
          "Y": 14.830012347745212
         },
         {
          "Outlier": "\"\\\"N/A\\\"\"",
          "X": 7.499999999999936,
          "Y": 17.121410098573666
         },
         {
          "Outlier": "\"\\\"N/A\\\"\"",
          "X": 7.5999999999999375,
          "Y": 15.156932707079505
         },
         {
          "Outlier": "\"\\\"N/A\\\"\"",
          "X": 7.699999999999939,
          "Y": 16.22971683198343
         },
         {
          "Outlier": "\"\\\"N/A\\\"\"",
          "X": 7.799999999999937,
          "Y": 18.46429831454368
         },
         {
          "Outlier": "\"\\\"N/A\\\"\"",
          "X": 7.899999999999935,
          "Y": 13.684335970515946
         },
         {
          "Outlier": "\"\\\"N/A\\\"\"",
          "X": 7.999999999999936,
          "Y": 17.45623113177597
         },
         {
          "Outlier": "\"\\\"N/A\\\"\"",
          "X": 8.099999999999937,
          "Y": 18.052853709956302
         },
         {
          "Outlier": "\"\\\"N/A\\\"\"",
          "X": 8.199999999999935,
          "Y": 20.9522265576577
         },
         {
          "Outlier": "\"\\\"N/A\\\"\"",
          "X": 8.299999999999933,
          "Y": 17.792706420018572
         },
         {
          "Outlier": "\"\\\"N/A\\\"\"",
          "X": 8.399999999999935,
          "Y": 12.693025163426196
         },
         {
          "Outlier": "\"\\\"N/A\\\"\"",
          "X": 8.499999999999936,
          "Y": 18.608483628616618
         },
         {
          "Outlier": "\"\\\"N/A\\\"\"",
          "X": 8.599999999999934,
          "Y": 22.533013844212288
         },
         {
          "Outlier": "\"\\\"N/A\\\"\"",
          "X": 8.699999999999932,
          "Y": 19.063530901564054
         },
         {
          "Outlier": "\"\\\"N/A\\\"\"",
          "X": 8.799999999999933,
          "Y": 14.10848168296044
         },
         {
          "Outlier": "\"\\\"N/A\\\"\"",
          "X": 8.899999999999935,
          "Y": 17.273137735808355
         },
         {
          "Outlier": "\"\\\"N/A\\\"\"",
          "X": 8.999999999999932,
          "Y": 18.494979089256088
         },
         {
          "Outlier": "\"\\\"N/A\\\"\"",
          "X": 9.09999999999993,
          "Y": 19.79060185819667
         },
         {
          "Outlier": "\"\\\"N/A\\\"\"",
          "X": 9.199999999999932,
          "Y": 20.264105066531886
         },
         {
          "Outlier": "\"\\\"N/A\\\"\"",
          "X": 9.299999999999933,
          "Y": 22.546130321808807
         },
         {
          "Outlier": "\"\\\"N/A\\\"\"",
          "X": 9.399999999999931,
          "Y": 16.72624887015287
         },
         {
          "Outlier": "\"\\\"N/A\\\"\"",
          "X": 9.499999999999929,
          "Y": 25.425511145903716
         },
         {
          "Outlier": "\"\\\"N/A\\\"\"",
          "X": 9.59999999999993,
          "Y": 19.27111904716608
         },
         {
          "Outlier": "\"\\\"N/A\\\"\"",
          "X": 9.699999999999932,
          "Y": 16.306940960065084
         },
         {
          "Outlier": "\"\\\"N/A\\\"\"",
          "X": 9.79999999999993,
          "Y": 20.457019593367335
         },
         {
          "Outlier": "\"\\\"N/A\\\"\"",
          "X": 9.899999999999928,
          "Y": 20.01341122289898
         },
         {
          "Outlier": "\"\\\"N/A\\\"\"",
          "X": 9.999999999999929,
          "Y": 25.114459749239604
         }
        ]
       },
       "encoding": {
        "color": {
         "field": "Outlier"
        },
        "x": {
         "field": "X",
         "type": "quantitative"
        },
        "y": {
         "field": "Y",
         "type": "quantitative"
        }
       },
       "height": 400,
       "mark": "circle",
       "width": 400
      },
      "image/png": "[encoded data removed]"
     },
     "metadata": {},
     "output_type": "display_data"
    }
   ],
   "source": [
    "ys <- sampler $ priorPredictive regression\n",
    "\n",
    "plot (fmap (second (T.pack . show)) (zip (zip range ys) (Prelude.repeat \"N/A\")))"
   ]
  },
  {
   "cell_type": "markdown",
   "id": "a9c0dd92-a771-4e98-a33e-327c788b4599",
   "metadata": {},
   "source": [
    "## Posterior predictive\n",
    "\n",
    "`posterior` distribution is computed base on the observed samples. Let's see what happens if the model sees samples of the same value only.\n",
    "\n",
    "To explore the space of possible parameters we use Monte Carlo Markov Chain inference algorithm."
   ]
  },
  {
   "cell_type": "code",
   "execution_count": 11,
   "id": "693d83bf-14c9-4e1b-870e-a15b8f8edc1d",
   "metadata": {},
   "outputs": [
    {
     "data": {
      "text/plain": []
     },
     "metadata": {},
     "output_type": "display_data"
    }
   ],
   "source": [
    "import Control.Monad.Bayes.Inference.MCMC\n",
    "\n",
    "observations = [replicate 100 1]\n",
    "\n",
    "ys <- sampleIOfixed $ mcmc MCMCConfig {numMCMCSteps = 5000, numBurnIn = 300, proposal = SingleSiteMH} \n",
    "    $ posteriorPredictive regression observations\n"
   ]
  },
  {
   "cell_type": "markdown",
   "id": "22fa414e-49ef-4f72-b684-23ed0c24a05e",
   "metadata": {},
   "source": [
    "`ys` is a **list of lists** containing values generated for arguments from `range`. Let's see how an example of generated samples look like:"
   ]
  },
  {
   "cell_type": "code",
   "execution_count": 12,
   "id": "a72a7dc0-209c-449c-9ffb-617328a7ffc5",
   "metadata": {},
   "outputs": [
    {
     "data": {
      "application/vnd.vegalite.v4+json": {
       "$schema": "https://vega.github.io/schema/vega-lite/v4.json",
       "data": {
        "values": [
         {
          "Outlier": "\"\\\"N/A\\\"\"",
          "X": -10,
          "Y": -5.17625056645207
         },
         {
          "Outlier": "\"\\\"N/A\\\"\"",
          "X": -9.9,
          "Y": -6.74198785888861
         },
         {
          "Outlier": "\"\\\"N/A\\\"\"",
          "X": -9.8,
          "Y": -4.46996514840461
         },
         {
          "Outlier": "\"\\\"N/A\\\"\"",
          "X": -9.700000000000001,
          "Y": -0.9145123000823716
         },
         {
          "Outlier": "\"\\\"N/A\\\"\"",
          "X": -9.600000000000001,
          "Y": -6.6376245868525885
         },
         {
          "Outlier": "\"\\\"N/A\\\"\"",
          "X": -9.500000000000002,
          "Y": -1.1877157127876954
         },
         {
          "Outlier": "\"\\\"N/A\\\"\"",
          "X": -9.400000000000002,
          "Y": -7.083563289259863
         },
         {
          "Outlier": "\"\\\"N/A\\\"\"",
          "X": -9.300000000000002,
          "Y": -7.59464378610835
         },
         {
          "Outlier": "\"\\\"N/A\\\"\"",
          "X": -9.200000000000003,
          "Y": -8.8143641113504
         },
         {
          "Outlier": "\"\\\"N/A\\\"\"",
          "X": -9.100000000000003,
          "Y": -7.189303776465281
         },
         {
          "Outlier": "\"\\\"N/A\\\"\"",
          "X": -9.000000000000004,
          "Y": -6.457479489578328
         },
         {
          "Outlier": "\"\\\"N/A\\\"\"",
          "X": -8.900000000000004,
          "Y": -13.743197427077128
         },
         {
          "Outlier": "\"\\\"N/A\\\"\"",
          "X": -8.800000000000004,
          "Y": 0.2498447171475906
         },
         {
          "Outlier": "\"\\\"N/A\\\"\"",
          "X": -8.700000000000005,
          "Y": -9.221283755583197
         },
         {
          "Outlier": "\"\\\"N/A\\\"\"",
          "X": -8.600000000000005,
          "Y": -1.7419194473527906
         },
         {
          "Outlier": "\"\\\"N/A\\\"\"",
          "X": -8.500000000000005,
          "Y": -2.7199972063866724
         },
         {
          "Outlier": "\"\\\"N/A\\\"\"",
          "X": -8.400000000000006,
          "Y": 0.7705292360894669
         },
         {
          "Outlier": "\"\\\"N/A\\\"\"",
          "X": -8.300000000000006,
          "Y": -4.6060190698938
         },
         {
          "Outlier": "\"\\\"N/A\\\"\"",
          "X": -8.200000000000006,
          "Y": -4.581555676499136
         },
         {
          "Outlier": "\"\\\"N/A\\\"\"",
          "X": -8.100000000000007,
          "Y": -5.722579265373266
         },
         {
          "Outlier": "\"\\\"N/A\\\"\"",
          "X": -8.000000000000007,
          "Y": -8.2120363115473
         },
         {
          "Outlier": "\"\\\"N/A\\\"\"",
          "X": -7.9000000000000075,
          "Y": -3.1004974386468875
         },
         {
          "Outlier": "\"\\\"N/A\\\"\"",
          "X": -7.800000000000008,
          "Y": -1.3487799605604054
         },
         {
          "Outlier": "\"\\\"N/A\\\"\"",
          "X": -7.700000000000008,
          "Y": -3.6654498865503182
         },
         {
          "Outlier": "\"\\\"N/A\\\"\"",
          "X": -7.6000000000000085,
          "Y": -4.9904538923435515
         },
         {
          "Outlier": "\"\\\"N/A\\\"\"",
          "X": -7.500000000000009,
          "Y": -6.854763496260949
         },
         {
          "Outlier": "\"\\\"N/A\\\"\"",
          "X": -7.400000000000009,
          "Y": -4.323421532043624
         },
         {
          "Outlier": "\"\\\"N/A\\\"\"",
          "X": -7.30000000000001,
          "Y": -2.03483996899133
         },
         {
          "Outlier": "\"\\\"N/A\\\"\"",
          "X": -7.20000000000001,
          "Y": -3.17169458392855
         },
         {
          "Outlier": "\"\\\"N/A\\\"\"",
          "X": -7.10000000000001,
          "Y": -6.922057391997367
         },
         {
          "Outlier": "\"\\\"N/A\\\"\"",
          "X": -7.000000000000011,
          "Y": -10.032064082188356
         },
         {
          "Outlier": "\"\\\"N/A\\\"\"",
          "X": -6.900000000000011,
          "Y": -4.046272839718915
         },
         {
          "Outlier": "\"\\\"N/A\\\"\"",
          "X": -6.800000000000011,
          "Y": 2.7473076505967553
         },
         {
          "Outlier": "\"\\\"N/A\\\"\"",
          "X": -6.700000000000012,
          "Y": -7.852385118535792
         },
         {
          "Outlier": "\"\\\"N/A\\\"\"",
          "X": -6.600000000000012,
          "Y": 0.14172754917420116
         },
         {
          "Outlier": "\"\\\"N/A\\\"\"",
          "X": -6.500000000000012,
          "Y": -4.32198723067437
         },
         {
          "Outlier": "\"\\\"N/A\\\"\"",
          "X": -6.400000000000013,
          "Y": -4.953825058020628
         },
         {
          "Outlier": "\"\\\"N/A\\\"\"",
          "X": -6.300000000000013,
          "Y": -2.7877595733046876
         },
         {
          "Outlier": "\"\\\"N/A\\\"\"",
          "X": -6.2000000000000135,
          "Y": -10.027152586262392
         },
         {
          "Outlier": "\"\\\"N/A\\\"\"",
          "X": -6.100000000000014,
          "Y": -4.477758517334158
         },
         {
          "Outlier": "\"\\\"N/A\\\"\"",
          "X": -6.000000000000014,
          "Y": -4.9159878914108965
         },
         {
          "Outlier": "\"\\\"N/A\\\"\"",
          "X": -5.900000000000015,
          "Y": -7.1469770912052635
         },
         {
          "Outlier": "\"\\\"N/A\\\"\"",
          "X": -5.800000000000015,
          "Y": 2.112997024380019
         },
         {
          "Outlier": "\"\\\"N/A\\\"\"",
          "X": -5.700000000000015,
          "Y": -1.8571837510706082
         },
         {
          "Outlier": "\"\\\"N/A\\\"\"",
          "X": -5.600000000000016,
          "Y": -0.22827753672871287
         },
         {
          "Outlier": "\"\\\"N/A\\\"\"",
          "X": -5.500000000000016,
          "Y": -3.626386684194655
         },
         {
          "Outlier": "\"\\\"N/A\\\"\"",
          "X": -5.400000000000016,
          "Y": 0.6090869856742809
         },
         {
          "Outlier": "\"\\\"N/A\\\"\"",
          "X": -5.300000000000017,
          "Y": -2.7227553911429068
         },
         {
          "Outlier": "\"\\\"N/A\\\"\"",
          "X": -5.200000000000017,
          "Y": -4.0874670462028
         },
         {
          "Outlier": "\"\\\"N/A\\\"\"",
          "X": -5.100000000000017,
          "Y": -6.247248288824204
         },
         {
          "Outlier": "\"\\\"N/A\\\"\"",
          "X": -5.000000000000018,
          "Y": 2.236653807265935
         },
         {
          "Outlier": "\"\\\"N/A\\\"\"",
          "X": -4.900000000000018,
          "Y": 2.9092838062669824
         },
         {
          "Outlier": "\"\\\"N/A\\\"\"",
          "X": -4.8000000000000185,
          "Y": 1.2021304587300752
         },
         {
          "Outlier": "\"\\\"N/A\\\"\"",
          "X": -4.700000000000019,
          "Y": 2.5975153753961857
         },
         {
          "Outlier": "\"\\\"N/A\\\"\"",
          "X": -4.600000000000019,
          "Y": 2.461936898176616
         },
         {
          "Outlier": "\"\\\"N/A\\\"\"",
          "X": -4.5000000000000195,
          "Y": -0.7845340844908039
         },
         {
          "Outlier": "\"\\\"N/A\\\"\"",
          "X": -4.40000000000002,
          "Y": -0.7670671298779603
         },
         {
          "Outlier": "\"\\\"N/A\\\"\"",
          "X": -4.30000000000002,
          "Y": -0.15192989948132352
         },
         {
          "Outlier": "\"\\\"N/A\\\"\"",
          "X": -4.200000000000021,
          "Y": 1.7064879395086088
         },
         {
          "Outlier": "\"\\\"N/A\\\"\"",
          "X": -4.100000000000021,
          "Y": -1.6996791293795637
         },
         {
          "Outlier": "\"\\\"N/A\\\"\"",
          "X": -4.000000000000021,
          "Y": 0.3554764109974138
         },
         {
          "Outlier": "\"\\\"N/A\\\"\"",
          "X": -3.9000000000000217,
          "Y": 1.358804127746921
         },
         {
          "Outlier": "\"\\\"N/A\\\"\"",
          "X": -3.800000000000022,
          "Y": -0.035656060154032276
         },
         {
          "Outlier": "\"\\\"N/A\\\"\"",
          "X": -3.7000000000000224,
          "Y": 5.535628846793199
         },
         {
          "Outlier": "\"\\\"N/A\\\"\"",
          "X": -3.6000000000000227,
          "Y": -1.2378477221745832
         },
         {
          "Outlier": "\"\\\"N/A\\\"\"",
          "X": -3.500000000000023,
          "Y": 0.8660235246768853
         },
         {
          "Outlier": "\"\\\"N/A\\\"\"",
          "X": -3.4000000000000234,
          "Y": -0.6788861027206263
         },
         {
          "Outlier": "\"\\\"N/A\\\"\"",
          "X": -3.300000000000024,
          "Y": -0.05257396604366652
         },
         {
          "Outlier": "\"\\\"N/A\\\"\"",
          "X": -3.200000000000024,
          "Y": -0.4120268364764729
         },
         {
          "Outlier": "\"\\\"N/A\\\"\"",
          "X": -3.1000000000000245,
          "Y": 1.2506447833544743
         },
         {
          "Outlier": "\"\\\"N/A\\\"\"",
          "X": -3.000000000000025,
          "Y": -0.2815836842423026
         },
         {
          "Outlier": "\"\\\"N/A\\\"\"",
          "X": -2.9000000000000252,
          "Y": -0.7076114080210056
         },
         {
          "Outlier": "\"\\\"N/A\\\"\"",
          "X": -2.8000000000000256,
          "Y": -1.6873575170045618
         },
         {
          "Outlier": "\"\\\"N/A\\\"\"",
          "X": -2.700000000000026,
          "Y": 2.224069228264313
         },
         {
          "Outlier": "\"\\\"N/A\\\"\"",
          "X": -2.6000000000000263,
          "Y": -1.9416158618364738
         },
         {
          "Outlier": "\"\\\"N/A\\\"\"",
          "X": -2.5000000000000266,
          "Y": -0.023422730951444537
         },
         {
          "Outlier": "\"\\\"N/A\\\"\"",
          "X": -2.400000000000027,
          "Y": -0.09214285162821245
         },
         {
          "Outlier": "\"\\\"N/A\\\"\"",
          "X": -2.3000000000000274,
          "Y": -0.538716149627507
         },
         {
          "Outlier": "\"\\\"N/A\\\"\"",
          "X": -2.2000000000000277,
          "Y": 3.2479158300787687
         },
         {
          "Outlier": "\"\\\"N/A\\\"\"",
          "X": -2.100000000000028,
          "Y": 9.180241759206082
         },
         {
          "Outlier": "\"\\\"N/A\\\"\"",
          "X": -2.0000000000000284,
          "Y": 5.00300068732531
         },
         {
          "Outlier": "\"\\\"N/A\\\"\"",
          "X": -1.9000000000000288,
          "Y": -1.0236500714956085
         },
         {
          "Outlier": "\"\\\"N/A\\\"\"",
          "X": -1.8000000000000291,
          "Y": 0.8534822715156205
         },
         {
          "Outlier": "\"\\\"N/A\\\"\"",
          "X": -1.7000000000000295,
          "Y": 2.9331000883958755
         },
         {
          "Outlier": "\"\\\"N/A\\\"\"",
          "X": -1.6000000000000298,
          "Y": -3.4994950826063462
         },
         {
          "Outlier": "\"\\\"N/A\\\"\"",
          "X": -1.5000000000000302,
          "Y": -6.324060883026326
         },
         {
          "Outlier": "\"\\\"N/A\\\"\"",
          "X": -1.4000000000000306,
          "Y": -3.9121683283550994
         },
         {
          "Outlier": "\"\\\"N/A\\\"\"",
          "X": -1.300000000000031,
          "Y": 1.8253885072217224
         },
         {
          "Outlier": "\"\\\"N/A\\\"\"",
          "X": -1.2000000000000313,
          "Y": -0.8524676805201556
         },
         {
          "Outlier": "\"\\\"N/A\\\"\"",
          "X": -1.1000000000000316,
          "Y": 3.4974242753111646
         },
         {
          "Outlier": "\"\\\"N/A\\\"\"",
          "X": -1.000000000000032,
          "Y": 11.40614255244902
         },
         {
          "Outlier": "\"\\\"N/A\\\"\"",
          "X": -0.9000000000000323,
          "Y": -4.656479782548988
         },
         {
          "Outlier": "\"\\\"N/A\\\"\"",
          "X": -0.8000000000000327,
          "Y": 6.292338705191222
         },
         {
          "Outlier": "\"\\\"N/A\\\"\"",
          "X": -0.700000000000033,
          "Y": 1.9865704673786286
         },
         {
          "Outlier": "\"\\\"N/A\\\"\"",
          "X": -0.6000000000000334,
          "Y": -0.7567695194357884
         },
         {
          "Outlier": "\"\\\"N/A\\\"\"",
          "X": -0.5000000000000338,
          "Y": -0.14908749626789985
         },
         {
          "Outlier": "\"\\\"N/A\\\"\"",
          "X": -0.4000000000000341,
          "Y": -0.8032689320157922
         },
         {
          "Outlier": "\"\\\"N/A\\\"\"",
          "X": -0.30000000000003446,
          "Y": -0.04581563857222459
         },
         {
          "Outlier": "\"\\\"N/A\\\"\"",
          "X": -0.20000000000003482,
          "Y": 3.9037999665042955
         },
         {
          "Outlier": "\"\\\"N/A\\\"\"",
          "X": -0.10000000000003517,
          "Y": 6.954410784799855
         },
         {
          "Outlier": "\"\\\"N/A\\\"\"",
          "X": -3.552713678800501e-14,
          "Y": 3.1290086055648576
         },
         {
          "Outlier": "\"\\\"N/A\\\"\"",
          "X": 0.09999999999996412,
          "Y": -3.2902600000697304
         },
         {
          "Outlier": "\"\\\"N/A\\\"\"",
          "X": 0.19999999999996376,
          "Y": 4.2142647787930185
         },
         {
          "Outlier": "\"\\\"N/A\\\"\"",
          "X": 0.2999999999999634,
          "Y": -1.963960848110677
         },
         {
          "Outlier": "\"\\\"N/A\\\"\"",
          "X": 0.39999999999996305,
          "Y": 3.4763117868643394
         },
         {
          "Outlier": "\"\\\"N/A\\\"\"",
          "X": 0.4999999999999627,
          "Y": 4.059504625211241
         },
         {
          "Outlier": "\"\\\"N/A\\\"\"",
          "X": 0.5999999999999623,
          "Y": -0.44764800660599935
         },
         {
          "Outlier": "\"\\\"N/A\\\"\"",
          "X": 0.699999999999962,
          "Y": 4.782648767426403
         },
         {
          "Outlier": "\"\\\"N/A\\\"\"",
          "X": 0.7999999999999616,
          "Y": 6.681911362779827
         },
         {
          "Outlier": "\"\\\"N/A\\\"\"",
          "X": 0.8999999999999613,
          "Y": 5.279049396925319
         },
         {
          "Outlier": "\"\\\"N/A\\\"\"",
          "X": 0.9999999999999609,
          "Y": 3.3213434528719357
         },
         {
          "Outlier": "\"\\\"N/A\\\"\"",
          "X": 1.0999999999999606,
          "Y": 1.9921686871831845
         },
         {
          "Outlier": "\"\\\"N/A\\\"\"",
          "X": 1.1999999999999602,
          "Y": 5.539169790758686
         },
         {
          "Outlier": "\"\\\"N/A\\\"\"",
          "X": 1.2999999999999599,
          "Y": 6.028876475541786
         },
         {
          "Outlier": "\"\\\"N/A\\\"\"",
          "X": 1.3999999999999595,
          "Y": 8.290037634450846
         },
         {
          "Outlier": "\"\\\"N/A\\\"\"",
          "X": 1.4999999999999591,
          "Y": 6.732232238157904
         },
         {
          "Outlier": "\"\\\"N/A\\\"\"",
          "X": 1.5999999999999588,
          "Y": 6.366514078646105
         },
         {
          "Outlier": "\"\\\"N/A\\\"\"",
          "X": 1.6999999999999584,
          "Y": 3.3111810467676595
         },
         {
          "Outlier": "\"\\\"N/A\\\"\"",
          "X": 1.799999999999958,
          "Y": 6.626677031782874
         },
         {
          "Outlier": "\"\\\"N/A\\\"\"",
          "X": 1.8999999999999577,
          "Y": 0.5225570638884749
         },
         {
          "Outlier": "\"\\\"N/A\\\"\"",
          "X": 1.9999999999999574,
          "Y": 7.270967385312421
         },
         {
          "Outlier": "\"\\\"N/A\\\"\"",
          "X": 2.099999999999957,
          "Y": 5.299908805015013
         },
         {
          "Outlier": "\"\\\"N/A\\\"\"",
          "X": 2.1999999999999567,
          "Y": 4.527777175927255
         },
         {
          "Outlier": "\"\\\"N/A\\\"\"",
          "X": 2.2999999999999563,
          "Y": 0.007799090015922161
         },
         {
          "Outlier": "\"\\\"N/A\\\"\"",
          "X": 2.399999999999956,
          "Y": 4.800813117419075
         },
         {
          "Outlier": "\"\\\"N/A\\\"\"",
          "X": 2.4999999999999556,
          "Y": 2.4473647327899632
         },
         {
          "Outlier": "\"\\\"N/A\\\"\"",
          "X": 2.5999999999999552,
          "Y": 7.02514440331092
         },
         {
          "Outlier": "\"\\\"N/A\\\"\"",
          "X": 2.699999999999955,
          "Y": 11.4047060781164
         },
         {
          "Outlier": "\"\\\"N/A\\\"\"",
          "X": 2.7999999999999545,
          "Y": 3.9759479492539893
         },
         {
          "Outlier": "\"\\\"N/A\\\"\"",
          "X": 2.899999999999954,
          "Y": 10.619939356516722
         },
         {
          "Outlier": "\"\\\"N/A\\\"\"",
          "X": 2.999999999999954,
          "Y": 0.8326485717768604
         },
         {
          "Outlier": "\"\\\"N/A\\\"\"",
          "X": 3.0999999999999535,
          "Y": 4.389378696040785
         },
         {
          "Outlier": "\"\\\"N/A\\\"\"",
          "X": 3.199999999999953,
          "Y": 11.608895400913633
         },
         {
          "Outlier": "\"\\\"N/A\\\"\"",
          "X": 3.2999999999999527,
          "Y": 0.8204624747684086
         },
         {
          "Outlier": "\"\\\"N/A\\\"\"",
          "X": 3.3999999999999524,
          "Y": 6.598297407357292
         },
         {
          "Outlier": "\"\\\"N/A\\\"\"",
          "X": 3.499999999999952,
          "Y": 4.747817248223881
         },
         {
          "Outlier": "\"\\\"N/A\\\"\"",
          "X": 3.5999999999999517,
          "Y": 9.072575719322346
         },
         {
          "Outlier": "\"\\\"N/A\\\"\"",
          "X": 3.6999999999999513,
          "Y": 9.577247559272129
         },
         {
          "Outlier": "\"\\\"N/A\\\"\"",
          "X": 3.799999999999951,
          "Y": 6.722104451236058
         },
         {
          "Outlier": "\"\\\"N/A\\\"\"",
          "X": 3.8999999999999506,
          "Y": 8.741040621583716
         },
         {
          "Outlier": "\"\\\"N/A\\\"\"",
          "X": 3.9999999999999503,
          "Y": 7.32485173582382
         },
         {
          "Outlier": "\"\\\"N/A\\\"\"",
          "X": 4.09999999999995,
          "Y": 9.244400583636214
         },
         {
          "Outlier": "\"\\\"N/A\\\"\"",
          "X": 4.1999999999999496,
          "Y": 11.906301064957326
         },
         {
          "Outlier": "\"\\\"N/A\\\"\"",
          "X": 4.299999999999949,
          "Y": 9.363329258428571
         },
         {
          "Outlier": "\"\\\"N/A\\\"\"",
          "X": 4.399999999999949,
          "Y": 8.966407025153561
         },
         {
          "Outlier": "\"\\\"N/A\\\"\"",
          "X": 4.4999999999999485,
          "Y": 2.5251367682053543
         },
         {
          "Outlier": "\"\\\"N/A\\\"\"",
          "X": 4.599999999999948,
          "Y": 7.169731951914051
         },
         {
          "Outlier": "\"\\\"N/A\\\"\"",
          "X": 4.699999999999948,
          "Y": 6.287824035082818
         },
         {
          "Outlier": "\"\\\"N/A\\\"\"",
          "X": 4.799999999999947,
          "Y": 4.560974852036324
         },
         {
          "Outlier": "\"\\\"N/A\\\"\"",
          "X": 4.899999999999947,
          "Y": 1.6202806580452247
         },
         {
          "Outlier": "\"\\\"N/A\\\"\"",
          "X": 4.999999999999947,
          "Y": 15.157703108721682
         },
         {
          "Outlier": "\"\\\"N/A\\\"\"",
          "X": 5.099999999999946,
          "Y": 6.537262710032024
         },
         {
          "Outlier": "\"\\\"N/A\\\"\"",
          "X": 5.199999999999946,
          "Y": 5.028946607403666
         },
         {
          "Outlier": "\"\\\"N/A\\\"\"",
          "X": 5.299999999999946,
          "Y": 13.87566718271566
         },
         {
          "Outlier": "\"\\\"N/A\\\"\"",
          "X": 5.399999999999945,
          "Y": 18.06905909274711
         },
         {
          "Outlier": "\"\\\"N/A\\\"\"",
          "X": 5.499999999999945,
          "Y": 4.286513087332971
         },
         {
          "Outlier": "\"\\\"N/A\\\"\"",
          "X": 5.599999999999945,
          "Y": 3.847412015791491
         },
         {
          "Outlier": "\"\\\"N/A\\\"\"",
          "X": 5.699999999999944,
          "Y": 9.85551453312075
         },
         {
          "Outlier": "\"\\\"N/A\\\"\"",
          "X": 5.799999999999944,
          "Y": 8.473275165706236
         },
         {
          "Outlier": "\"\\\"N/A\\\"\"",
          "X": 5.8999999999999435,
          "Y": 12.265452527287497
         },
         {
          "Outlier": "\"\\\"N/A\\\"\"",
          "X": 5.999999999999943,
          "Y": 11.525190450414279
         },
         {
          "Outlier": "\"\\\"N/A\\\"\"",
          "X": 6.099999999999945,
          "Y": 16.13291984478301
         },
         {
          "Outlier": "\"\\\"N/A\\\"\"",
          "X": 6.1999999999999424,
          "Y": 9.89259319386118
         },
         {
          "Outlier": "\"\\\"N/A\\\"\"",
          "X": 6.29999999999994,
          "Y": 9.379616950741632
         },
         {
          "Outlier": "\"\\\"N/A\\\"\"",
          "X": 6.399999999999942,
          "Y": 16.92620218414739
         },
         {
          "Outlier": "\"\\\"N/A\\\"\"",
          "X": 6.499999999999943,
          "Y": 12.974295234944249
         },
         {
          "Outlier": "\"\\\"N/A\\\"\"",
          "X": 6.599999999999941,
          "Y": 8.212353736992618
         },
         {
          "Outlier": "\"\\\"N/A\\\"\"",
          "X": 6.699999999999939,
          "Y": 9.422963783231628
         },
         {
          "Outlier": "\"\\\"N/A\\\"\"",
          "X": 6.79999999999994,
          "Y": 11.085897157743593
         },
         {
          "Outlier": "\"\\\"N/A\\\"\"",
          "X": 6.899999999999942,
          "Y": 4.144920281466468
         },
         {
          "Outlier": "\"\\\"N/A\\\"\"",
          "X": 6.99999999999994,
          "Y": 10.192109718231327
         },
         {
          "Outlier": "\"\\\"N/A\\\"\"",
          "X": 7.0999999999999375,
          "Y": 6.405515503864371
         },
         {
          "Outlier": "\"\\\"N/A\\\"\"",
          "X": 7.199999999999939,
          "Y": 8.795674422411013
         },
         {
          "Outlier": "\"\\\"N/A\\\"\"",
          "X": 7.29999999999994,
          "Y": 8.474547691225151
         },
         {
          "Outlier": "\"\\\"N/A\\\"\"",
          "X": 7.399999999999938,
          "Y": 9.733116273962844
         },
         {
          "Outlier": "\"\\\"N/A\\\"\"",
          "X": 7.499999999999936,
          "Y": 7.9346056603251025
         },
         {
          "Outlier": "\"\\\"N/A\\\"\"",
          "X": 7.5999999999999375,
          "Y": 4.262583016163337
         },
         {
          "Outlier": "\"\\\"N/A\\\"\"",
          "X": 7.699999999999939,
          "Y": 14.16220629504127
         },
         {
          "Outlier": "\"\\\"N/A\\\"\"",
          "X": 7.799999999999937,
          "Y": 8.499430686907544
         },
         {
          "Outlier": "\"\\\"N/A\\\"\"",
          "X": 7.899999999999935,
          "Y": 8.040945595498638
         },
         {
          "Outlier": "\"\\\"N/A\\\"\"",
          "X": 7.999999999999936,
          "Y": 10.26934577508566
         },
         {
          "Outlier": "\"\\\"N/A\\\"\"",
          "X": 8.099999999999937,
          "Y": 7.476732510658916
         },
         {
          "Outlier": "\"\\\"N/A\\\"\"",
          "X": 8.199999999999935,
          "Y": 13.25979119613538
         },
         {
          "Outlier": "\"\\\"N/A\\\"\"",
          "X": 8.299999999999933,
          "Y": 7.72167768418044
         },
         {
          "Outlier": "\"\\\"N/A\\\"\"",
          "X": 8.399999999999935,
          "Y": 17.676635606102522
         },
         {
          "Outlier": "\"\\\"N/A\\\"\"",
          "X": 8.499999999999936,
          "Y": 14.999377871971395
         },
         {
          "Outlier": "\"\\\"N/A\\\"\"",
          "X": 8.599999999999934,
          "Y": 4.346728328525292
         },
         {
          "Outlier": "\"\\\"N/A\\\"\"",
          "X": 8.699999999999932,
          "Y": 6.008369118820892
         },
         {
          "Outlier": "\"\\\"N/A\\\"\"",
          "X": 8.799999999999933,
          "Y": 20.75013082269247
         },
         {
          "Outlier": "\"\\\"N/A\\\"\"",
          "X": 8.899999999999935,
          "Y": 16.608071055134527
         },
         {
          "Outlier": "\"\\\"N/A\\\"\"",
          "X": 8.999999999999932,
          "Y": 13.774647248099143
         },
         {
          "Outlier": "\"\\\"N/A\\\"\"",
          "X": 9.09999999999993,
          "Y": 13.229869207551848
         },
         {
          "Outlier": "\"\\\"N/A\\\"\"",
          "X": 9.199999999999932,
          "Y": 15.295264674478819
         },
         {
          "Outlier": "\"\\\"N/A\\\"\"",
          "X": 9.299999999999933,
          "Y": 15.789827880287193
         },
         {
          "Outlier": "\"\\\"N/A\\\"\"",
          "X": 9.399999999999931,
          "Y": 14.634278015358738
         },
         {
          "Outlier": "\"\\\"N/A\\\"\"",
          "X": 9.499999999999929,
          "Y": 8.35853398606148
         },
         {
          "Outlier": "\"\\\"N/A\\\"\"",
          "X": 9.59999999999993,
          "Y": 13.0317043147681
         },
         {
          "Outlier": "\"\\\"N/A\\\"\"",
          "X": 9.699999999999932,
          "Y": 8.949309677231202
         },
         {
          "Outlier": "\"\\\"N/A\\\"\"",
          "X": 9.79999999999993,
          "Y": 8.574310183314578
         },
         {
          "Outlier": "\"\\\"N/A\\\"\"",
          "X": 9.899999999999928,
          "Y": 8.86781223853769
         },
         {
          "Outlier": "\"\\\"N/A\\\"\"",
          "X": 9.999999999999929,
          "Y": 12.19571432039153
         }
        ]
       },
       "encoding": {
        "color": {
         "field": "Outlier"
        },
        "x": {
         "field": "X",
         "type": "quantitative"
        },
        "y": {
         "field": "Y",
         "type": "quantitative"
        }
       },
       "height": 400,
       "mark": "circle",
       "width": 400
      },
      "image/png": "[encoded data removed]"
     },
     "metadata": {},
     "output_type": "display_data"
    }
   ],
   "source": [
    "plot (fmap (second (T.pack . show)) (zip (zip range $ head ys) (Prelude.repeat \"N/A\")))"
   ]
  },
  {
   "cell_type": "markdown",
   "id": "fde6d7a2-01bb-4d66-bd34-1ba72bba575a",
   "metadata": {},
   "source": [
    "Given the observations, we expect the model have average value of `slope` to be 0 and `intercept` 1."
   ]
  },
  {
   "cell_type": "code",
   "execution_count": 13,
   "id": "f1fc13c3-3062-4395-b3fd-6b82916b64f9",
   "metadata": {},
   "outputs": [],
   "source": [
    "avg l = Prelude.sum l / fromIntegral (length l)\n",
    "\n",
    "avX   = avg range\n",
    "avSqr = Prelude.sum $ map (\\a -> (a-avX)**2) range"
   ]
  },
  {
   "cell_type": "code",
   "execution_count": 14,
   "id": "90c589fb-3882-4f18-a5ae-37a474acbd8d",
   "metadata": {},
   "outputs": [],
   "source": [
    "slopeValue l = covXY / avSqr\n",
    "  where\n",
    "    avY   = avg l\n",
    "    covXY = Prelude.sum $ (\\(x,y) -> (x - avX) * (y - avY)) <$> zip range l\n",
    "    \n",
    "interceptValue l = avg l - slopeValue l * avX"
   ]
  },
  {
   "cell_type": "code",
   "execution_count": 15,
   "id": "087733c4-feca-476c-8958-2fecbcd4ad52",
   "metadata": {},
   "outputs": [
    {
     "data": {
      "text/plain": [
       "\"Average slope for 100 observations: 0.6482984353867459\""
      ]
     },
     "metadata": {},
     "output_type": "display_data"
    },
    {
     "data": {
      "text/plain": [
       "\"Average intercept for 100 observations: 1.2220350681014394\""
      ]
     },
     "metadata": {},
     "output_type": "display_data"
    }
   ],
   "source": [
    "nObservations = length $ head observations\n",
    "\n",
    "print $ \"Average slope for \" <> show nObservations <> \" observations: \" <> (show . avg $ slopeValue <$> ys)\n",
    "\n",
    "print $ \"Average intercept for \" <> show nObservations <> \" observations: \" <> (show . avg $ interceptValue <$> ys)"
   ]
  },
  {
   "cell_type": "markdown",
   "id": "5a2d7a24-ef39-49b3-b4dc-2de622908604",
   "metadata": {},
   "source": [
    "Slope and intercept average values differ a bit from the expected 0 and 1. Let's how they behave given more observations of the same kind."
   ]
  },
  {
   "cell_type": "code",
   "execution_count": 16,
   "id": "31b3536b-a6bf-44f7-bd58-798a6d0f69cd",
   "metadata": {},
   "outputs": [
    {
     "data": {
      "text/plain": []
     },
     "metadata": {},
     "output_type": "display_data"
    }
   ],
   "source": [
    "observations1 = [replicate 200 1]\n",
    "\n",
    "ys1 <- sampleIOfixed $ mcmc MCMCConfig {numMCMCSteps = 5000, numBurnIn = 300, proposal = SingleSiteMH} \n",
    "    $ posteriorPredictive regression observations1\n"
   ]
  },
  {
   "cell_type": "code",
   "execution_count": 17,
   "id": "6a5aacc2-0ccb-4446-8bd1-678475278983",
   "metadata": {},
   "outputs": [
    {
     "data": {
      "text/plain": [
       "\"Average slope for 200 observations: 0.20039201335018098\""
      ]
     },
     "metadata": {},
     "output_type": "display_data"
    },
    {
     "data": {
      "text/plain": [
       "\"Average intercept for 200 observations: 1.1534663432408423\""
      ]
     },
     "metadata": {},
     "output_type": "display_data"
    }
   ],
   "source": [
    "nObservations = length $ head observations1\n",
    "\n",
    "print $ \"Average slope for \" <> show nObservations <> \" observations: \" <> (show . avg $ slopeValue <$> ys1)\n",
    "print $ \"Average intercept for \" <> show nObservations <> \" observations: \" <> (show . avg $ interceptValue <$> ys1)"
   ]
  },
  {
   "cell_type": "markdown",
   "id": "fbf34420-34d7-40c6-9377-8df70afd0255",
   "metadata": {},
   "source": [
    "### Excercise\n",
    "\n",
    "To better understand how the Bayesian model works here, you may do following:\n",
    "1. play with prior: change it to be constant, randomize `noise` only\n",
    "2. play with observations: empirically check the limit where new observations change posterior insignificantly given the inference parameters\n",
    "3. change inference paramers."
   ]
  },
  {
   "cell_type": "code",
   "execution_count": null,
   "id": "271502db-ff8f-4196-8f06-f733963a0fc6",
   "metadata": {},
   "outputs": [],
   "source": []
  }
 ],
 "metadata": {
  "kernelspec": {
   "display_name": "Haskell - nixpkgs",
   "language": "haskell",
   "name": "ihaskell_nixpkgs"
  },
  "language_info": {
   "codemirror_mode": "ihaskell",
   "file_extension": ".hs",
   "mimetype": "text/x-haskell",
   "name": "haskell",
   "pygments_lexer": "Haskell",
   "version": "9.0.2"
  }
 },
 "nbformat": 4,
 "nbformat_minor": 5
}
