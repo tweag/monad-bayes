{
 "cells": [
  {
   "cell_type": "code",
   "execution_count": 46,
   "id": "1323d9af-17b2-4e43-ba81-b5b3979b3528",
   "metadata": {},
   "outputs": [],
   "source": [
    "import Control.Monad.Bayes.Class\n",
    "import Control.Monad.Bayes.Sampler.Strict\n",
    "import Control.Monad.Bayes.Weighted\n",
    "import Control.Monad.Bayes.Enumerator\n",
    "import Control.Monad\n",
    "import Control.Arrow\n",
    "import Data.Bifunctor (bimap)\n",
    "import Numeric.Log\n",
    "import qualified Data.Text as T\n",
    "\n",
    ":e TupleSections\n",
    "\n",
    "\n",
    ":l ../plotting.hs"
   ]
  },
  {
   "cell_type": "markdown",
   "id": "bb6b1d04-808f-4700-9e5b-b880f64432bc",
   "metadata": {},
   "source": [
    "# Bayesian Models\n",
    "\n",
    "Monad-Bayes exports a `Bayesian` datatype to make using Bayesian models easier. The idea is that you specify your model as a prior, generative model and a likelihood (separate from the generative model because you can't always get the density of a sample from a distribution).\n",
    "\n",
    "Once you've done that, a number of standard operations, like obtaining the posterior or the posterior predictive, are automated for you.\n",
    "\n",
    "Here's a simple example:"
   ]
  },
  {
   "cell_type": "code",
   "execution_count": 143,
   "id": "5df6eb5a-8545-43fa-83d7-bd25f74804cc",
   "metadata": {},
   "outputs": [],
   "source": [
    "model :: MonadSample m => Bayesian m Bool Double\n",
    "model = Bayesian {\n",
    "    prior = bernoulli 0.5,\n",
    "    generative = \\x -> normal (if x then 2 else (-2)) 1,\n",
    "    likelihood  = \\x y -> normalPdf (if x then 2 else (-2)) 1 y\n",
    "    }"
   ]
  },
  {
   "cell_type": "code",
   "execution_count": 50,
   "id": "07c4584c-8351-4e0b-814b-d3746b6b6962",
   "metadata": {},
   "outputs": [
    {
     "data": {
      "application/vnd.vegalite.v4+json": {
       "$schema": "https://vega.github.io/schema/vega-lite/v4.json",
       "data": {
        "values": [
         {
          "X": "True",
          "Y": 0.50149
         },
         {
          "X": "False",
          "Y": 0.49851
         }
        ]
       },
       "encoding": {
        "x": {
         "field": "X",
         "type": "nominal"
        },
        "y": {
         "field": "Y",
         "type": "quantitative"
        }
       },
       "height": 400,
       "mark": "bar",
       "width": 400
      },
      "image/png": "[encoded data removed]"
     },
     "metadata": {},
     "output_type": "display_data"
    }
   ],
   "source": [
    "sampler $ \n",
    "    plot . fmap (first (T.pack . show)) . toEmpirical <$> \n",
    "    replicateM 100000 (prior model)"
   ]
  },
  {
   "cell_type": "markdown",
   "id": "1730423b-8190-481b-a215-a129ea9fdbc9",
   "metadata": {},
   "source": [
    "Prior predictive model is an application of prior distribution to a generative distribution.\n",
    "\n",
    "Similarly as in `Sampling.ipynb` example we need to introduce a constant weight by mapping samples to a pair (value, score) with `(,constWeight) <$> `."
   ]
  },
  {
   "cell_type": "code",
   "execution_count": 64,
   "id": "c0de2347-77b2-4433-8bd0-e854791c23b8",
   "metadata": {},
   "outputs": [
    {
     "data": {
      "application/vnd.vegalite.v4+json": {
       "$schema": "https://vega.github.io/schema/vega-lite/v4.json",
       "data": {
        "values": [
         {
          "X": -6.429528796335528,
          "Y": 1
         },
         {
          "X": -6.29921147074462,
          "Y": 0
         },
         {
          "X": -6.168894145153711,
          "Y": 2
         },
         {
          "X": -6.038576819562803,
          "Y": 1
         },
         {
          "X": -5.9082594939718955,
          "Y": 0
         },
         {
          "X": -5.777942168380987,
          "Y": 2
         },
         {
          "X": -5.647624842790079,
          "Y": 7
         },
         {
          "X": -5.51730751719917,
          "Y": 8
         },
         {
          "X": -5.3869901916082625,
          "Y": 8
         },
         {
          "X": -5.256672866017354,
          "Y": 17
         },
         {
          "X": -5.126355540426446,
          "Y": 18
         },
         {
          "X": -4.996038214835538,
          "Y": 30
         },
         {
          "X": -4.8657208892446295,
          "Y": 30
         },
         {
          "X": -4.735403563653721,
          "Y": 58
         },
         {
          "X": -4.605086238062813,
          "Y": 91
         },
         {
          "X": -4.474768912471905,
          "Y": 128
         },
         {
          "X": -4.3444515868809965,
          "Y": 165
         },
         {
          "X": -4.214134261290089,
          "Y": 206
         },
         {
          "X": -4.083816935699181,
          "Y": 295
         },
         {
          "X": -3.953499610108272,
          "Y": 367
         },
         {
          "X": -3.823182284517364,
          "Y": 495
         },
         {
          "X": -3.692864958926456,
          "Y": 616
         },
         {
          "X": -3.562547633335548,
          "Y": 772
         },
         {
          "X": -3.4322303077446397,
          "Y": 961
         },
         {
          "X": -3.3019129821537314,
          "Y": 1063
         },
         {
          "X": -3.171595656562823,
          "Y": 1329
         },
         {
          "X": -3.041278330971915,
          "Y": 1441
         },
         {
          "X": -2.9109610053810067,
          "Y": 1657
         },
         {
          "X": -2.780643679790099,
          "Y": 1959
         },
         {
          "X": -2.6503263541991906,
          "Y": 2192
         },
         {
          "X": -2.5200090286082824,
          "Y": 2280
         },
         {
          "X": -2.389691703017373,
          "Y": 2482
         },
         {
          "X": -2.2593743774264654,
          "Y": 2526
         },
         {
          "X": -2.1290570518355576,
          "Y": 2556
         },
         {
          "X": -1.998739726244649,
          "Y": 2562
         },
         {
          "X": -1.868422400653741,
          "Y": 2599
         },
         {
          "X": -1.7381050750628324,
          "Y": 2542
         },
         {
          "X": -1.6077877494719246,
          "Y": 2339
         },
         {
          "X": -1.477470423881016,
          "Y": 2165
         },
         {
          "X": -1.347153098290108,
          "Y": 2096
         },
         {
          "X": -1.2168357726991994,
          "Y": 1961
         },
         {
          "X": -1.0865184471082916,
          "Y": 1826
         },
         {
          "X": -0.9562011215173838,
          "Y": 1484
         },
         {
          "X": -0.8258837959264751,
          "Y": 1360
         },
         {
          "X": -0.6955664703355673,
          "Y": 1159
         },
         {
          "X": -0.5652491447446586,
          "Y": 1007
         },
         {
          "X": -0.4349318191537508,
          "Y": 833
         },
         {
          "X": -0.3046144935628421,
          "Y": 784
         },
         {
          "X": -0.17429716797193429,
          "Y": 734
         },
         {
          "X": -0.04397984238102648,
          "Y": 708
         },
         {
          "X": 0.08633748320988222,
          "Y": 677
         },
         {
          "X": 0.21665480880079002,
          "Y": 766
         },
         {
          "X": 0.3469721343916987,
          "Y": 833
         },
         {
          "X": 0.4772894599826065,
          "Y": 931
         },
         {
          "X": 0.6076067855735152,
          "Y": 1104
         },
         {
          "X": 0.737924111164423,
          "Y": 1178
         },
         {
          "X": 0.8682414367553308,
          "Y": 1393
         },
         {
          "X": 0.9985587623462395,
          "Y": 1626
         },
         {
          "X": 1.1288760879371473,
          "Y": 1794
         },
         {
          "X": 1.259193413528056,
          "Y": 2003
         },
         {
          "X": 1.3895107391189638,
          "Y": 2118
         },
         {
          "X": 1.5198280647098725,
          "Y": 2342
         },
         {
          "X": 1.6501453903007812,
          "Y": 2503
         },
         {
          "X": 1.7804627158916881,
          "Y": 2552
         },
         {
          "X": 1.9107800414825968,
          "Y": 2621
         },
         {
          "X": 2.0410973670735055,
          "Y": 2638
         },
         {
          "X": 2.1714146926644124,
          "Y": 2537
         },
         {
          "X": 2.301732018255321,
          "Y": 2463
         },
         {
          "X": 2.43204934384623,
          "Y": 2399
         },
         {
          "X": 2.5623666694371385,
          "Y": 2295
         },
         {
          "X": 2.6926839950280455,
          "Y": 2074
         },
         {
          "X": 2.823001320618954,
          "Y": 1921
         },
         {
          "X": 2.953318646209863,
          "Y": 1600
         },
         {
          "X": 3.0836359718007698,
          "Y": 1448
         },
         {
          "X": 3.2139532973916785,
          "Y": 1285
         },
         {
          "X": 3.344270622982587,
          "Y": 1040
         },
         {
          "X": 3.474587948573496,
          "Y": 860
         },
         {
          "X": 3.6049052741644028,
          "Y": 713
         },
         {
          "X": 3.7352225997553115,
          "Y": 542
         },
         {
          "X": 3.86553992534622,
          "Y": 457
         },
         {
          "X": 3.995857250937129,
          "Y": 389
         },
         {
          "X": 4.126174576528036,
          "Y": 284
         },
         {
          "X": 4.2564919021189445,
          "Y": 202
         },
         {
          "X": 4.386809227709853,
          "Y": 160
         },
         {
          "X": 4.51712655330076,
          "Y": 106
         },
         {
          "X": 4.647443878891669,
          "Y": 78
         },
         {
          "X": 4.7777612044825775,
          "Y": 50
         },
         {
          "X": 4.908078530073486,
          "Y": 29
         },
         {
          "X": 5.038395855664393,
          "Y": 25
         },
         {
          "X": 5.168713181255302,
          "Y": 14
         },
         {
          "X": 5.2990305068462105,
          "Y": 13
         },
         {
          "X": 5.429347832437117,
          "Y": 3
         },
         {
          "X": 5.559665158028026,
          "Y": 2
         },
         {
          "X": 5.689982483618935,
          "Y": 0
         },
         {
          "X": 5.8202998092098435,
          "Y": 7
         },
         {
          "X": 5.95061713480075,
          "Y": 0
         },
         {
          "X": 6.080934460391659,
          "Y": 2
         },
         {
          "X": 6.211251785982568,
          "Y": 0
         },
         {
          "X": 6.341569111573475,
          "Y": 0
         },
         {
          "X": 6.471886437164383,
          "Y": 0
         }
        ]
       },
       "encoding": {
        "x": {
         "field": "X",
         "type": "quantitative"
        },
        "y": {
         "field": "Y",
         "type": "quantitative"
        }
       },
       "height": 400,
       "mark": "bar",
       "width": 400
      },
      "image/png": "[encoded data removed]"
     },
     "metadata": {},
     "output_type": "display_data"
    }
   ],
   "source": [
    "constWeight = 1 :: Log Double\n",
    "\n",
    "sampler $ plot . histogramToList . histogram 100 <$> replicateM 100000 ((,constWeight) <$>  priorPredictive model)"
   ]
  },
  {
   "cell_type": "markdown",
   "id": "7b9fd255-e24a-47a9-a7e4-330db726b31c",
   "metadata": {},
   "source": [
    "priorPredictivePosterior model is "
   ]
  },
  {
   "cell_type": "code",
   "execution_count": 67,
   "id": "3738b1e4-c508-431c-b417-3feac3750cf7",
   "metadata": {},
   "outputs": [
    {
     "data": {},
     "metadata": {},
     "output_type": "display_data"
    },
    {
     "data": {
      "text/html": [
       "<div style='background: rgb(247, 247, 247);'><form><textarea id='code'>normalPdf :: Double -> Double -> Double -> Log Double \t-- Defined in ‘Control.Monad.Bayes.Class’\n",
       "</textarea></form></div><script>CodeMirror.fromTextArea(document.getElementById('code'), {mode: 'haskell', readOnly: 'nocursor'});</script>"
      ],
      "text/plain": [
       "normalPdf :: Double -> Double -> Double -> Log Double \t-- Defined in ‘Control.Monad.Bayes.Class’"
      ]
     },
     "metadata": {},
     "output_type": "display_data"
    }
   ],
   "source": [
    ":i normalPdf"
   ]
  },
  {
   "cell_type": "code",
   "execution_count": 124,
   "id": "064ba891-8d4c-4a2f-9aa3-530c64cce610",
   "metadata": {},
   "outputs": [
    {
     "data": {
      "application/vnd.vegalite.v4+json": {
       "$schema": "https://vega.github.io/schema/vega-lite/v4.json",
       "data": {
        "values": [
         {
          "X": "True",
          "Y": 0.6830875036397686
         },
         {
          "X": "False",
          "Y": 0.3169124963602282
         }
        ]
       },
       "encoding": {
        "x": {
         "field": "X",
         "type": "nominal"
        },
        "y": {
         "field": "Y",
         "type": "quantitative"
        }
       },
       "height": 400,
       "mark": "bar",
       "width": 400
      },
      "image/png": "[encoded data removed]"
     },
     "metadata": {},
     "output_type": "display_data"
    }
   ],
   "source": [
    "sampler $ \n",
    "    plot . fmap (bimap (T.pack . show) (ln . exp)) . toEmpiricalWeighted <$> \n",
    "    replicateM 1000 (weighted $ posterior model [3,3,3,3,-3,-2.8,-3,-3])"
   ]
  },
  {
   "cell_type": "code",
   "execution_count": 134,
   "id": "952bbcc4-b2e7-49cc-8b78-319a8c354cb3",
   "metadata": {},
   "outputs": [
    {
     "data": {
      "text/plain": [
       "[(True,6.278752612396416e-5),(False,2.106286851304267e-8),(True,6.278752612396416e-5)]"
      ]
     },
     "metadata": {},
     "output_type": "display_data"
    }
   ],
   "source": [
    " sampler $ replicateM 3 (weighted $ posterior model [0,2,0,0])"
   ]
  },
  {
   "cell_type": "code",
   "execution_count": 146,
   "id": "7dc9ebc9-8817-4c24-b116-6956a104cafe",
   "metadata": {},
   "outputs": [
    {
     "data": {
      "text/html": [
       "<style>/* Styles used for the Hoogle display in the pager */\n",
       ".hoogle-doc {\n",
       "display: block;\n",
       "padding-bottom: 1.3em;\n",
       "padding-left: 0.4em;\n",
       "}\n",
       ".hoogle-code {\n",
       "display: block;\n",
       "font-family: monospace;\n",
       "white-space: pre;\n",
       "}\n",
       ".hoogle-text {\n",
       "display: block;\n",
       "}\n",
       ".hoogle-name {\n",
       "color: green;\n",
       "font-weight: bold;\n",
       "}\n",
       ".hoogle-head {\n",
       "font-weight: bold;\n",
       "}\n",
       ".hoogle-sub {\n",
       "display: block;\n",
       "margin-left: 0.4em;\n",
       "}\n",
       ".hoogle-package {\n",
       "font-weight: bold;\n",
       "font-style: italic;\n",
       "}\n",
       ".hoogle-module {\n",
       "font-weight: bold;\n",
       "}\n",
       ".hoogle-class {\n",
       "font-weight: bold;\n",
       "}\n",
       ".get-type {\n",
       "color: green;\n",
       "font-weight: bold;\n",
       "font-family: monospace;\n",
       "display: block;\n",
       "white-space: pre-wrap;\n",
       "}\n",
       ".show-type {\n",
       "color: green;\n",
       "font-weight: bold;\n",
       "font-family: monospace;\n",
       "margin-left: 1em;\n",
       "}\n",
       ".mono {\n",
       "font-family: monospace;\n",
       "display: block;\n",
       "}\n",
       ".err-msg {\n",
       "color: red;\n",
       "font-style: italic;\n",
       "font-family: monospace;\n",
       "white-space: pre;\n",
       "display: block;\n",
       "}\n",
       "#unshowable {\n",
       "color: red;\n",
       "font-weight: bold;\n",
       "}\n",
       ".err-msg.in.collapse {\n",
       "padding-top: 0.7em;\n",
       "}\n",
       ".highlight-code {\n",
       "white-space: pre;\n",
       "font-family: monospace;\n",
       "}\n",
       ".suggestion-warning { \n",
       "font-weight: bold;\n",
       "color: rgb(200, 130, 0);\n",
       "}\n",
       ".suggestion-error { \n",
       "font-weight: bold;\n",
       "color: red;\n",
       "}\n",
       ".suggestion-name {\n",
       "font-weight: bold;\n",
       "}\n",
       "</style><div class=\"suggestion-name\" style=\"clear:both;\">Redundant bracket</div><div class=\"suggestion-row\" style=\"float: left;\"><div class=\"suggestion-warning\">Found:</div><div class=\"highlight-code\" id=\"haskell\">(likelihood model) True</div></div><div class=\"suggestion-row\" style=\"float: left;\"><div class=\"suggestion-warning\">Why Not:</div><div class=\"highlight-code\" id=\"haskell\">likelihood model True</div></div>"
      ],
      "text/plain": [
       "Line 1: Redundant bracket\n",
       "Found:\n",
       "(likelihood model) True\n",
       "Why not:\n",
       "likelihood model True"
      ]
     },
     "metadata": {},
     "output_type": "display_data"
    },
    {
     "ename": "",
     "evalue": "",
     "header": "MessageHeader {mhIdentifiers = [\"b09e3694-1c49-4d2d-82bc-d4e44e2bb8b2\"], mhParentHeader = Just (MessageHeader {mhIdentifiers = [\"b09e3694-1c49-4d2d-82bc-d4e44e2bb8b2\"], mhParentHeader = Nothing, mhMetadata = Metadata (fromList [(\"cellId\",String \"7dc9ebc9-8817-4c24-b116-6956a104cafe\"),(\"deletedCells\",Array []),(\"recordTiming\",Bool False)]), mhMessageId = UUID {uuidToString = \"bb8fc4f7-a94f-4fd3-851a-fa3669a6a40c\"}, mhSessionId = UUID {uuidToString = \"b09e3694-1c49-4d2d-82bc-d4e44e2bb8b2\"}, mhUsername = \"\", mhMsgType = ExecuteRequestMessage, mhBuffers = []}), mhMetadata = Metadata (fromList []), mhMessageId = UUID {uuidToString = \"8feb43ae-6d33-44f4-a81b-7754a1cf1a3f\"}, mhSessionId = UUID {uuidToString = \"b09e3694-1c49-4d2d-82bc-d4e44e2bb8b2\"}, mhUsername = \"\", mhMsgType = ExecuteErrorMessage, mhBuffers = []}",
     "output_type": "error",
     "traceback": [
      "<interactive>:1:13: error:\n    • Ambiguous type variable ‘m0’ arising from a use of ‘model’\n      prevents the constraint ‘(MonadSample m0)’ from being solved.\n      Probable fix: use a type annotation to specify what ‘m0’ should be.\n      These potential instances exist:\n        instance MonadSample Enumerator -- Defined in ‘Control.Monad.Bayes.Enumerator’\n        instance System.Random.Internal.StatefulGen g m => MonadSample (Sampler g m) -- Defined in ‘Control.Monad.Bayes.Sampler.Strict’\n        instance MonadSample m => MonadSample (Weighted m) -- Defined in ‘Control.Monad.Bayes.Weighted’\n        ...plus 8 instances involving out-of-scope types\n        (use -fprint-potential-instances to see them all)\n    • In the first argument of ‘likelihood’, namely ‘model’\n      In the expression: (likelihood model) True 0.1\n      In an equation for ‘it’: it = (likelihood model) True 0.1"
     ]
    }
   ],
   "source": [
    "(likelihood model) True 0.1"
   ]
  },
  {
   "cell_type": "code",
   "execution_count": 130,
   "id": "3021a681-2370-4157-b5c7-fc9bbe2f7849",
   "metadata": {},
   "outputs": [
    {
     "data": {
      "application/vnd.vegalite.v4+json": {
       "$schema": "https://vega.github.io/schema/vega-lite/v4.json",
       "data": {
        "values": [
         {
          "X": -6.06176841053674,
          "Y": 0.0019345567153694512
         },
         {
          "X": -5.938964140048163,
          "Y": 0
         },
         {
          "X": -5.816159869559586,
          "Y": 0.0038691134307389024
         },
         {
          "X": -5.693355599071008,
          "Y": 0.0038691134307389024
         },
         {
          "X": -5.570551328582431,
          "Y": 0.01741101043832506
         },
         {
          "X": -5.447747058093854,
          "Y": 0.015476453722955611
         },
         {
          "X": -5.324942787605276,
          "Y": 0.01741101043832506
         },
         {
          "X": -5.2021385171166985,
          "Y": 0.025149237299802868
         },
         {
          "X": -5.079334246628122,
          "Y": 0.04062569102275847
         },
         {
          "X": -4.956529976139544,
          "Y": 0.044494804453497364
         },
         {
          "X": -4.833725705650966,
          "Y": 0.07351315518403909
         },
         {
          "X": -4.71092143516239,
          "Y": 0.1257461864990142
         },
         {
          "X": -4.588117164673812,
          "Y": 0.17024099095251183
         },
         {
          "X": -4.465312894185234,
          "Y": 0.25149237299802923
         },
         {
          "X": -4.3425086236966575,
          "Y": 0.28051072372857117
         },
         {
          "X": -4.21970435320808,
          "Y": 0.39851868336610835
         },
         {
          "X": -4.096900082719502,
          "Y": 0.514592086288276
         },
         {
          "X": -3.974095812230925,
          "Y": 0.6519456130795078
         },
         {
          "X": -3.8512915417423472,
          "Y": 0.8415321711857151
         },
         {
          "X": -3.72848727125377,
          "Y": 1.0562679665917254
         },
         {
          "X": -3.6056830007651923,
          "Y": 1.4431793096656178
         },
         {
          "X": -3.482878730276615,
          "Y": 1.6791952289406922
         },
         {
          "X": -3.360074459788038,
          "Y": 1.9655096228153726
         },
         {
          "X": -3.23727018929946,
          "Y": 2.18604908836747
         },
         {
          "X": -3.114465918810883,
          "Y": 2.5110546165495022
         },
         {
          "X": -2.9916616483223057,
          "Y": 2.758677876116765
         },
         {
          "X": -2.868857377833728,
          "Y": 3.282942745981829
         },
         {
          "X": -2.746053107345151,
          "Y": 3.5847335935794304
         },
         {
          "X": -2.6232488368565736,
          "Y": 3.8188149561391085
         },
         {
          "X": -2.500444566367996,
          "Y": 4.190249845490003
         },
         {
          "X": -2.3776402958794187,
          "Y": 4.406920197611358
         },
         {
          "X": -2.254836025390841,
          "Y": 4.800507854266926
         },
         {
          "X": -2.132031754902264,
          "Y": 4.557815621410159
         },
         {
          "X": -2.009227484413686,
          "Y": 4.769118625103211
         },
         {
          "X": -1.8864232139251094,
          "Y": 4.610484974442934
         },
         {
          "X": -1.7636189434365317,
          "Y": 4.696041791636986
         },
         {
          "X": -1.640814672947954,
          "Y": 4.557815621410159
         },
         {
          "X": -1.5180104024593772,
          "Y": 4.1345840224621
         },
         {
          "X": -1.3952061319707996,
          "Y": 3.948677307942509
         },
         {
          "X": -1.272401861482222,
          "Y": 3.782610264323929
         },
         {
          "X": -1.1495975909936442,
          "Y": 3.4086152266957135
         },
         {
          "X": -1.0267933205050674,
          "Y": 3.019827108936012
         },
         {
          "X": -0.9039890500164898,
          "Y": 2.7255852183557403
         },
         {
          "X": -0.7811847795279121,
          "Y": 2.43333566652035
         },
         {
          "X": -0.6583805090393353,
          "Y": 2.2460462810622217
         },
         {
          "X": -0.5355762385507576,
          "Y": 2.1002552300624524
         },
         {
          "X": -0.41277196806218,
          "Y": 1.9992638174193498
         },
         {
          "X": -0.2899676975736032,
          "Y": 1.76691181797526
         },
         {
          "X": -0.16716342708502552,
          "Y": 1.9293827345550816
         },
         {
          "X": -0.044359156596447846,
          "Y": 2.0102237294010923
         },
         {
          "X": 0.07844511389212894,
          "Y": 2.2838210984369725
         },
         {
          "X": 0.2012493843807066,
          "Y": 2.600966922705624
         },
         {
          "X": 0.3240536548692843,
          "Y": 2.801939703748691
         },
         {
          "X": 0.44685792535786106,
          "Y": 3.433208947772571
         },
         {
          "X": 0.5696621958464387,
          "Y": 3.966762148533342
         },
         {
          "X": 0.6924664663350164,
          "Y": 4.184084026734962
         },
         {
          "X": 0.8152707368235932,
          "Y": 5.518579652939555
         },
         {
          "X": 0.9380750073121709,
          "Y": 6.141616566354577
         },
         {
          "X": 1.0608792778007485,
          "Y": 6.571534489647056
         },
         {
          "X": 1.1836835482893262,
          "Y": 7.529522701212922
         },
         {
          "X": 1.306487818777903,
          "Y": 8.158116232900426
         },
         {
          "X": 1.4292920892664807,
          "Y": 9.227173114893054
         },
         {
          "X": 1.5520963597550583,
          "Y": 9.63232034057411
         },
         {
          "X": 1.6749006302436351,
          "Y": 9.933700800972273
         },
         {
          "X": 1.7977049007322128,
          "Y": 10.450789340515502
         },
         {
          "X": 1.9205091712207896,
          "Y": 10.451225662233307
         },
         {
          "X": 2.0433134417093672,
          "Y": 10.496650892151935
         },
         {
          "X": 2.166117712197945,
          "Y": 10.255546523833404
         },
         {
          "X": 2.288921982686521,
          "Y": 10.02929301767588
         },
         {
          "X": 2.4117262531750985,
          "Y": 9.575287770363262
         },
         {
          "X": 2.534530523663676,
          "Y": 9.028497506498022
         },
         {
          "X": 2.657334794152254,
          "Y": 8.649619213426044
         },
         {
          "X": 2.7801390646408315,
          "Y": 8.12435612530353
         },
         {
          "X": 2.902943335129409,
          "Y": 7.2202147441091995
         },
         {
          "X": 3.025747605617985,
          "Y": 6.1223287812304
         },
         {
          "X": 3.1485518761065627,
          "Y": 5.110551521322487
         },
         {
          "X": 3.2713561465951404,
          "Y": 4.576677562902992
         },
         {
          "X": 3.394160417083718,
          "Y": 4.120301437157295
         },
         {
          "X": 3.5169646875722957,
          "Y": 3.2549089722998112
         },
         {
          "X": 3.6397689580608734,
          "Y": 2.8286708925938804
         },
         {
          "X": 3.762573228549451,
          "Y": 2.3120186747685096
         },
         {
          "X": 3.885377499038027,
          "Y": 1.8771697247654895
         },
         {
          "X": 4.008181769526605,
          "Y": 1.356212071791574
         },
         {
          "X": 4.130986040015182,
          "Y": 0.9902500841652699
         },
         {
          "X": 4.25379031050376,
          "Y": 0.8395598539662074
         },
         {
          "X": 4.376594580992338,
          "Y": 0.6845641886186001
         },
         {
          "X": 4.499398851480915,
          "Y": 0.43484895000301066
         },
         {
          "X": 4.622203121969491,
          "Y": 0.3444348118835731
         },
         {
          "X": 4.745007392458069,
          "Y": 0.27124241435831414
         },
         {
          "X": 4.867811662946647,
          "Y": 0.14638479505051877
         },
         {
          "X": 4.990615933435224,
          "Y": 0.12916305445634008
         },
         {
          "X": 5.113420203923802,
          "Y": 0.06888696237671466
         },
         {
          "X": 5.23622447441238,
          "Y": 0.05597065693108066
         },
         {
          "X": 5.3590287449009555,
          "Y": 0.07319239752525933
         },
         {
          "X": 5.481833015389533,
          "Y": 0.025832610891267996
         },
         {
          "X": 5.604637285878111,
          "Y": 0.008610870297089332
         },
         {
          "X": 5.7274415563666885,
          "Y": 0.008610870297089332
         },
         {
          "X": 5.850245826855266,
          "Y": 0
         },
         {
          "X": 5.973050097343844,
          "Y": 0.012916305445633998
         },
         {
          "X": 6.0958543678324215,
          "Y": 0
         }
        ]
       },
       "encoding": {
        "x": {
         "field": "X",
         "type": "quantitative"
        },
        "y": {
         "field": "Y",
         "type": "quantitative"
        }
       },
       "height": 400,
       "mark": "bar",
       "width": 400
      },
      "image/png": "[encoded data removed]"
     },
     "metadata": {},
     "output_type": "display_data"
    }
   ],
   "source": [
    "sampler $ plot . histogramToList . histogram 100 <$> replicateM 100000 (weighted $ posteriorPredictive model [0.1,0.1])"
   ]
  },
  {
   "cell_type": "markdown",
   "id": "d3c062c3-e5f8-4a72-b631-0635a6730b25",
   "metadata": {},
   "source": [
    "# Regression\n",
    "\n",
    "And now an example with a regression:"
   ]
  },
  {
   "cell_type": "code",
   "execution_count": 14,
   "id": "080d34a0-3324-4bf2-bb25-72b06db1f342",
   "metadata": {},
   "outputs": [],
   "source": [
    ":e BlockArguments \n",
    "\n",
    "range :: [Double]\n",
    "range = [-10,-9.9..10] \n",
    "\n",
    "\n",
    "regression :: MonadSample m => Bayesian m (Double, Double, Double) [Double]\n",
    "regression = Bayesian {\n",
    "    prior = do \n",
    "            slope <- normal 0 2\n",
    "            intercept <- normal 0 2\n",
    "            noise <- gamma 4 4\n",
    "            return (slope, intercept, noise),\n",
    "    \n",
    "    generative = \\(slope, intercept, noise) -> do\n",
    "            forM range \\x -> normal (x*slope + intercept) (sqrt noise),\n",
    "            \n",
    "    likelihood = \\(slope, intercept, noise) ys -> Prelude.sum [normalPdf (x*slope + intercept) (sqrt noise) y | (x,y) <- zip range ys] \n",
    "                \n",
    "    }\n"
   ]
  },
  {
   "cell_type": "code",
   "execution_count": 15,
   "id": "0621fc17-5c64-409b-9d08-d52b067b8dcd",
   "metadata": {},
   "outputs": [
    {
     "data": {
      "application/vnd.vegalite.v4+json": {
       "$schema": "https://vega.github.io/schema/vega-lite/v4.json",
       "data": {
        "values": [
         {
          "Outlier": "\"\\\"N/A\\\"\"",
          "X": -10,
          "Y": 18.949212789056954
         },
         {
          "Outlier": "\"\\\"N/A\\\"\"",
          "X": -9.9,
          "Y": 10.634523145662504
         },
         {
          "Outlier": "\"\\\"N/A\\\"\"",
          "X": -9.8,
          "Y": 9.727578494851917
         },
         {
          "Outlier": "\"\\\"N/A\\\"\"",
          "X": -9.700000000000001,
          "Y": 4.962249687922765
         },
         {
          "Outlier": "\"\\\"N/A\\\"\"",
          "X": -9.600000000000001,
          "Y": 12.77201542755289
         },
         {
          "Outlier": "\"\\\"N/A\\\"\"",
          "X": -9.500000000000002,
          "Y": 14.392315647836723
         },
         {
          "Outlier": "\"\\\"N/A\\\"\"",
          "X": -9.400000000000002,
          "Y": 11.554898135886498
         },
         {
          "Outlier": "\"\\\"N/A\\\"\"",
          "X": -9.300000000000002,
          "Y": 9.40903960562614
         },
         {
          "Outlier": "\"\\\"N/A\\\"\"",
          "X": -9.200000000000003,
          "Y": 8.117588722840338
         },
         {
          "Outlier": "\"\\\"N/A\\\"\"",
          "X": -9.100000000000003,
          "Y": 13.01752604211957
         },
         {
          "Outlier": "\"\\\"N/A\\\"\"",
          "X": -9.000000000000004,
          "Y": 7.459984093003861
         },
         {
          "Outlier": "\"\\\"N/A\\\"\"",
          "X": -8.900000000000004,
          "Y": 4.226179039802818
         },
         {
          "Outlier": "\"\\\"N/A\\\"\"",
          "X": -8.800000000000004,
          "Y": 9.315900679763754
         },
         {
          "Outlier": "\"\\\"N/A\\\"\"",
          "X": -8.700000000000005,
          "Y": 10.576235205423421
         },
         {
          "Outlier": "\"\\\"N/A\\\"\"",
          "X": -8.600000000000005,
          "Y": 7.235625485551911
         },
         {
          "Outlier": "\"\\\"N/A\\\"\"",
          "X": -8.500000000000005,
          "Y": 8.666639746968254
         },
         {
          "Outlier": "\"\\\"N/A\\\"\"",
          "X": -8.400000000000006,
          "Y": 5.548614486625997
         },
         {
          "Outlier": "\"\\\"N/A\\\"\"",
          "X": -8.300000000000006,
          "Y": 7.8762453036455655
         },
         {
          "Outlier": "\"\\\"N/A\\\"\"",
          "X": -8.200000000000006,
          "Y": 9.87482518368117
         },
         {
          "Outlier": "\"\\\"N/A\\\"\"",
          "X": -8.100000000000007,
          "Y": 4.7468234562481015
         },
         {
          "Outlier": "\"\\\"N/A\\\"\"",
          "X": -8.000000000000007,
          "Y": 6.422897400884549
         },
         {
          "Outlier": "\"\\\"N/A\\\"\"",
          "X": -7.9000000000000075,
          "Y": 2.96808735542648
         },
         {
          "Outlier": "\"\\\"N/A\\\"\"",
          "X": -7.800000000000008,
          "Y": 2.003175808533877
         },
         {
          "Outlier": "\"\\\"N/A\\\"\"",
          "X": -7.700000000000008,
          "Y": 11.61425930592704
         },
         {
          "Outlier": "\"\\\"N/A\\\"\"",
          "X": -7.6000000000000085,
          "Y": 7.851630313715923
         },
         {
          "Outlier": "\"\\\"N/A\\\"\"",
          "X": -7.500000000000009,
          "Y": 5.221861180147423
         },
         {
          "Outlier": "\"\\\"N/A\\\"\"",
          "X": -7.400000000000009,
          "Y": 6.970339041027328
         },
         {
          "Outlier": "\"\\\"N/A\\\"\"",
          "X": -7.30000000000001,
          "Y": 14.299822639436975
         },
         {
          "Outlier": "\"\\\"N/A\\\"\"",
          "X": -7.20000000000001,
          "Y": 11.133548685587439
         },
         {
          "Outlier": "\"\\\"N/A\\\"\"",
          "X": -7.10000000000001,
          "Y": 5.444648501068938
         },
         {
          "Outlier": "\"\\\"N/A\\\"\"",
          "X": -7.000000000000011,
          "Y": 5.82530600813414
         },
         {
          "Outlier": "\"\\\"N/A\\\"\"",
          "X": -6.900000000000011,
          "Y": 6.492114172830427
         },
         {
          "Outlier": "\"\\\"N/A\\\"\"",
          "X": -6.800000000000011,
          "Y": 9.25992447417693
         },
         {
          "Outlier": "\"\\\"N/A\\\"\"",
          "X": -6.700000000000012,
          "Y": 4.609222078879384
         },
         {
          "Outlier": "\"\\\"N/A\\\"\"",
          "X": -6.600000000000012,
          "Y": 8.574672535067988
         },
         {
          "Outlier": "\"\\\"N/A\\\"\"",
          "X": -6.500000000000012,
          "Y": 5.16748548585555
         },
         {
          "Outlier": "\"\\\"N/A\\\"\"",
          "X": -6.400000000000013,
          "Y": 4.677690507700051
         },
         {
          "Outlier": "\"\\\"N/A\\\"\"",
          "X": -6.300000000000013,
          "Y": 9.91338780019294
         },
         {
          "Outlier": "\"\\\"N/A\\\"\"",
          "X": -6.2000000000000135,
          "Y": 7.077152054839834
         },
         {
          "Outlier": "\"\\\"N/A\\\"\"",
          "X": -6.100000000000014,
          "Y": 12.938296461191495
         },
         {
          "Outlier": "\"\\\"N/A\\\"\"",
          "X": -6.000000000000014,
          "Y": 3.9847917434338314
         },
         {
          "Outlier": "\"\\\"N/A\\\"\"",
          "X": -5.900000000000015,
          "Y": -2.337149158119365
         },
         {
          "Outlier": "\"\\\"N/A\\\"\"",
          "X": -5.800000000000015,
          "Y": 2.3537064849779776
         },
         {
          "Outlier": "\"\\\"N/A\\\"\"",
          "X": -5.700000000000015,
          "Y": 4.89703703219746
         },
         {
          "Outlier": "\"\\\"N/A\\\"\"",
          "X": -5.600000000000016,
          "Y": -0.30296818679868487
         },
         {
          "Outlier": "\"\\\"N/A\\\"\"",
          "X": -5.500000000000016,
          "Y": 4.627411375167066
         },
         {
          "Outlier": "\"\\\"N/A\\\"\"",
          "X": -5.400000000000016,
          "Y": 5.9565158698467275
         },
         {
          "Outlier": "\"\\\"N/A\\\"\"",
          "X": -5.300000000000017,
          "Y": 7.513147157828975
         },
         {
          "Outlier": "\"\\\"N/A\\\"\"",
          "X": -5.200000000000017,
          "Y": 2.904771598654545
         },
         {
          "Outlier": "\"\\\"N/A\\\"\"",
          "X": -5.100000000000017,
          "Y": 6.905732722588438
         },
         {
          "Outlier": "\"\\\"N/A\\\"\"",
          "X": -5.000000000000018,
          "Y": 5.72885432473721
         },
         {
          "Outlier": "\"\\\"N/A\\\"\"",
          "X": -4.900000000000018,
          "Y": -2.9079204282414732
         },
         {
          "Outlier": "\"\\\"N/A\\\"\"",
          "X": -4.8000000000000185,
          "Y": 5.008542964545207
         },
         {
          "Outlier": "\"\\\"N/A\\\"\"",
          "X": -4.700000000000019,
          "Y": 8.198669336476229
         },
         {
          "Outlier": "\"\\\"N/A\\\"\"",
          "X": -4.600000000000019,
          "Y": 5.126761720253592
         },
         {
          "Outlier": "\"\\\"N/A\\\"\"",
          "X": -4.5000000000000195,
          "Y": 9.12004049805446
         },
         {
          "Outlier": "\"\\\"N/A\\\"\"",
          "X": -4.40000000000002,
          "Y": 9.03874001997295
         },
         {
          "Outlier": "\"\\\"N/A\\\"\"",
          "X": -4.30000000000002,
          "Y": 6.18465342053862
         },
         {
          "Outlier": "\"\\\"N/A\\\"\"",
          "X": -4.200000000000021,
          "Y": 7.633330892441292
         },
         {
          "Outlier": "\"\\\"N/A\\\"\"",
          "X": -4.100000000000021,
          "Y": 2.6211335848911403
         },
         {
          "Outlier": "\"\\\"N/A\\\"\"",
          "X": -4.000000000000021,
          "Y": 10.345459399728774
         },
         {
          "Outlier": "\"\\\"N/A\\\"\"",
          "X": -3.9000000000000217,
          "Y": 3.473972867909226
         },
         {
          "Outlier": "\"\\\"N/A\\\"\"",
          "X": -3.800000000000022,
          "Y": 6.970133955979765
         },
         {
          "Outlier": "\"\\\"N/A\\\"\"",
          "X": -3.7000000000000224,
          "Y": 6.444205549890993
         },
         {
          "Outlier": "\"\\\"N/A\\\"\"",
          "X": -3.6000000000000227,
          "Y": 3.2256934113336024
         },
         {
          "Outlier": "\"\\\"N/A\\\"\"",
          "X": -3.500000000000023,
          "Y": 5.526736906463649
         },
         {
          "Outlier": "\"\\\"N/A\\\"\"",
          "X": -3.4000000000000234,
          "Y": 12.101002865156975
         },
         {
          "Outlier": "\"\\\"N/A\\\"\"",
          "X": -3.300000000000024,
          "Y": 3.2482151138478756
         },
         {
          "Outlier": "\"\\\"N/A\\\"\"",
          "X": -3.200000000000024,
          "Y": 8.015791342572097
         },
         {
          "Outlier": "\"\\\"N/A\\\"\"",
          "X": -3.1000000000000245,
          "Y": 6.897757423263143
         },
         {
          "Outlier": "\"\\\"N/A\\\"\"",
          "X": -3.000000000000025,
          "Y": 1.7456177133870208
         },
         {
          "Outlier": "\"\\\"N/A\\\"\"",
          "X": -2.9000000000000252,
          "Y": 0.7177214124186442
         },
         {
          "Outlier": "\"\\\"N/A\\\"\"",
          "X": -2.8000000000000256,
          "Y": 4.4805287455058584
         },
         {
          "Outlier": "\"\\\"N/A\\\"\"",
          "X": -2.700000000000026,
          "Y": 2.3824374657593843
         },
         {
          "Outlier": "\"\\\"N/A\\\"\"",
          "X": -2.6000000000000263,
          "Y": 3.5594947093033444
         },
         {
          "Outlier": "\"\\\"N/A\\\"\"",
          "X": -2.5000000000000266,
          "Y": 1.466493797618929
         },
         {
          "Outlier": "\"\\\"N/A\\\"\"",
          "X": -2.400000000000027,
          "Y": 2.775644440775215
         },
         {
          "Outlier": "\"\\\"N/A\\\"\"",
          "X": -2.3000000000000274,
          "Y": 4.263569324291644
         },
         {
          "Outlier": "\"\\\"N/A\\\"\"",
          "X": -2.2000000000000277,
          "Y": -1.2095207751201045
         },
         {
          "Outlier": "\"\\\"N/A\\\"\"",
          "X": -2.100000000000028,
          "Y": 5.10064058821254
         },
         {
          "Outlier": "\"\\\"N/A\\\"\"",
          "X": -2.0000000000000284,
          "Y": 2.1610365297354615
         },
         {
          "Outlier": "\"\\\"N/A\\\"\"",
          "X": -1.9000000000000288,
          "Y": 10.107391343839232
         },
         {
          "Outlier": "\"\\\"N/A\\\"\"",
          "X": -1.8000000000000291,
          "Y": 1.778013439844006
         },
         {
          "Outlier": "\"\\\"N/A\\\"\"",
          "X": -1.7000000000000295,
          "Y": 0.34746520286261884
         },
         {
          "Outlier": "\"\\\"N/A\\\"\"",
          "X": -1.6000000000000298,
          "Y": 5.07123657483791
         },
         {
          "Outlier": "\"\\\"N/A\\\"\"",
          "X": -1.5000000000000302,
          "Y": 2.299233550437405
         },
         {
          "Outlier": "\"\\\"N/A\\\"\"",
          "X": -1.4000000000000306,
          "Y": 3.0160317876866998
         },
         {
          "Outlier": "\"\\\"N/A\\\"\"",
          "X": -1.300000000000031,
          "Y": 7.2824639078661235
         },
         {
          "Outlier": "\"\\\"N/A\\\"\"",
          "X": -1.2000000000000313,
          "Y": -0.11450199099783376
         },
         {
          "Outlier": "\"\\\"N/A\\\"\"",
          "X": -1.1000000000000316,
          "Y": -0.06340905168305033
         },
         {
          "Outlier": "\"\\\"N/A\\\"\"",
          "X": -1.000000000000032,
          "Y": 2.6419142115965384
         },
         {
          "Outlier": "\"\\\"N/A\\\"\"",
          "X": -0.9000000000000323,
          "Y": 7.281312240350219
         },
         {
          "Outlier": "\"\\\"N/A\\\"\"",
          "X": -0.8000000000000327,
          "Y": 11.41100265550823
         },
         {
          "Outlier": "\"\\\"N/A\\\"\"",
          "X": -0.700000000000033,
          "Y": -1.7910537702781246
         },
         {
          "Outlier": "\"\\\"N/A\\\"\"",
          "X": -0.6000000000000334,
          "Y": 2.929775734991223
         },
         {
          "Outlier": "\"\\\"N/A\\\"\"",
          "X": -0.5000000000000338,
          "Y": -3.012767265924517
         },
         {
          "Outlier": "\"\\\"N/A\\\"\"",
          "X": -0.4000000000000341,
          "Y": 1.1076008245143756
         },
         {
          "Outlier": "\"\\\"N/A\\\"\"",
          "X": -0.30000000000003446,
          "Y": 0.71099742512826
         },
         {
          "Outlier": "\"\\\"N/A\\\"\"",
          "X": -0.20000000000003482,
          "Y": 1.371713345874892
         },
         {
          "Outlier": "\"\\\"N/A\\\"\"",
          "X": -0.10000000000003517,
          "Y": 5.2938100383784406
         },
         {
          "Outlier": "\"\\\"N/A\\\"\"",
          "X": -3.552713678800501e-14,
          "Y": 1.559675260424148
         },
         {
          "Outlier": "\"\\\"N/A\\\"\"",
          "X": 0.09999999999996412,
          "Y": -2.471552085265268
         },
         {
          "Outlier": "\"\\\"N/A\\\"\"",
          "X": 0.19999999999996376,
          "Y": -1.1564136342987912
         },
         {
          "Outlier": "\"\\\"N/A\\\"\"",
          "X": 0.2999999999999634,
          "Y": 7.672579626074256
         },
         {
          "Outlier": "\"\\\"N/A\\\"\"",
          "X": 0.39999999999996305,
          "Y": -1.7070670573363484
         },
         {
          "Outlier": "\"\\\"N/A\\\"\"",
          "X": 0.4999999999999627,
          "Y": -1.7825970421554935
         },
         {
          "Outlier": "\"\\\"N/A\\\"\"",
          "X": 0.5999999999999623,
          "Y": 1.0617040869730652
         },
         {
          "Outlier": "\"\\\"N/A\\\"\"",
          "X": 0.699999999999962,
          "Y": -3.198875406337763
         },
         {
          "Outlier": "\"\\\"N/A\\\"\"",
          "X": 0.7999999999999616,
          "Y": -2.4906895779041545
         },
         {
          "Outlier": "\"\\\"N/A\\\"\"",
          "X": 0.8999999999999613,
          "Y": -2.6287109850731825
         },
         {
          "Outlier": "\"\\\"N/A\\\"\"",
          "X": 0.9999999999999609,
          "Y": 2.8019741410549845
         },
         {
          "Outlier": "\"\\\"N/A\\\"\"",
          "X": 1.0999999999999606,
          "Y": 2.8006654548518166
         },
         {
          "Outlier": "\"\\\"N/A\\\"\"",
          "X": 1.1999999999999602,
          "Y": 2.6718456089087503
         },
         {
          "Outlier": "\"\\\"N/A\\\"\"",
          "X": 1.2999999999999599,
          "Y": 2.295192239765462
         },
         {
          "Outlier": "\"\\\"N/A\\\"\"",
          "X": 1.3999999999999595,
          "Y": -2.2900334362528625
         },
         {
          "Outlier": "\"\\\"N/A\\\"\"",
          "X": 1.4999999999999591,
          "Y": -2.7401101142589326
         },
         {
          "Outlier": "\"\\\"N/A\\\"\"",
          "X": 1.5999999999999588,
          "Y": 5.800903772002211
         },
         {
          "Outlier": "\"\\\"N/A\\\"\"",
          "X": 1.6999999999999584,
          "Y": 1.3274725926791973
         },
         {
          "Outlier": "\"\\\"N/A\\\"\"",
          "X": 1.799999999999958,
          "Y": 3.364070241990323
         },
         {
          "Outlier": "\"\\\"N/A\\\"\"",
          "X": 1.8999999999999577,
          "Y": -2.8747363722899255
         },
         {
          "Outlier": "\"\\\"N/A\\\"\"",
          "X": 1.9999999999999574,
          "Y": 0.6106802075532155
         },
         {
          "Outlier": "\"\\\"N/A\\\"\"",
          "X": 2.099999999999957,
          "Y": -5.016552862731278
         },
         {
          "Outlier": "\"\\\"N/A\\\"\"",
          "X": 2.1999999999999567,
          "Y": -3.5524602736821107
         },
         {
          "Outlier": "\"\\\"N/A\\\"\"",
          "X": 2.2999999999999563,
          "Y": 1.1862106045138776
         },
         {
          "Outlier": "\"\\\"N/A\\\"\"",
          "X": 2.399999999999956,
          "Y": 0.4683594925473521
         },
         {
          "Outlier": "\"\\\"N/A\\\"\"",
          "X": 2.4999999999999556,
          "Y": 3.890560634598416
         },
         {
          "Outlier": "\"\\\"N/A\\\"\"",
          "X": 2.5999999999999552,
          "Y": -2.272662965672615
         },
         {
          "Outlier": "\"\\\"N/A\\\"\"",
          "X": 2.699999999999955,
          "Y": -2.0323516738831957
         },
         {
          "Outlier": "\"\\\"N/A\\\"\"",
          "X": 2.7999999999999545,
          "Y": -2.3950721231777816
         },
         {
          "Outlier": "\"\\\"N/A\\\"\"",
          "X": 2.899999999999954,
          "Y": 5.956091799851167
         },
         {
          "Outlier": "\"\\\"N/A\\\"\"",
          "X": 2.999999999999954,
          "Y": 6.254087902446326
         },
         {
          "Outlier": "\"\\\"N/A\\\"\"",
          "X": 3.0999999999999535,
          "Y": 0.32314375384962246
         },
         {
          "Outlier": "\"\\\"N/A\\\"\"",
          "X": 3.199999999999953,
          "Y": 0.043806437370940365
         },
         {
          "Outlier": "\"\\\"N/A\\\"\"",
          "X": 3.2999999999999527,
          "Y": -0.3075233048514624
         },
         {
          "Outlier": "\"\\\"N/A\\\"\"",
          "X": 3.3999999999999524,
          "Y": -1.9007113767837924
         },
         {
          "Outlier": "\"\\\"N/A\\\"\"",
          "X": 3.499999999999952,
          "Y": -3.3878758320877798
         },
         {
          "Outlier": "\"\\\"N/A\\\"\"",
          "X": 3.5999999999999517,
          "Y": -4.548580958518932
         },
         {
          "Outlier": "\"\\\"N/A\\\"\"",
          "X": 3.6999999999999513,
          "Y": 1.8094774049112439
         },
         {
          "Outlier": "\"\\\"N/A\\\"\"",
          "X": 3.799999999999951,
          "Y": -0.9825346309443944
         },
         {
          "Outlier": "\"\\\"N/A\\\"\"",
          "X": 3.8999999999999506,
          "Y": -2.6370437929492287
         },
         {
          "Outlier": "\"\\\"N/A\\\"\"",
          "X": 3.9999999999999503,
          "Y": -2.023692205633182
         },
         {
          "Outlier": "\"\\\"N/A\\\"\"",
          "X": 4.09999999999995,
          "Y": 1.6262639951259734
         },
         {
          "Outlier": "\"\\\"N/A\\\"\"",
          "X": 4.1999999999999496,
          "Y": 4.583930186030442
         },
         {
          "Outlier": "\"\\\"N/A\\\"\"",
          "X": 4.299999999999949,
          "Y": -6.2044549971814
         },
         {
          "Outlier": "\"\\\"N/A\\\"\"",
          "X": 4.399999999999949,
          "Y": -0.8856267981166919
         },
         {
          "Outlier": "\"\\\"N/A\\\"\"",
          "X": 4.4999999999999485,
          "Y": -0.9971478800261959
         },
         {
          "Outlier": "\"\\\"N/A\\\"\"",
          "X": 4.599999999999948,
          "Y": -5.283576444865826
         },
         {
          "Outlier": "\"\\\"N/A\\\"\"",
          "X": 4.699999999999948,
          "Y": -4.12012637546959
         },
         {
          "Outlier": "\"\\\"N/A\\\"\"",
          "X": 4.799999999999947,
          "Y": -1.6645832224306711
         },
         {
          "Outlier": "\"\\\"N/A\\\"\"",
          "X": 4.899999999999947,
          "Y": -6.148667480827736
         },
         {
          "Outlier": "\"\\\"N/A\\\"\"",
          "X": 4.999999999999947,
          "Y": -4.756908924724618
         },
         {
          "Outlier": "\"\\\"N/A\\\"\"",
          "X": 5.099999999999946,
          "Y": -9.485118611264447
         },
         {
          "Outlier": "\"\\\"N/A\\\"\"",
          "X": 5.199999999999946,
          "Y": -0.5897051078204276
         },
         {
          "Outlier": "\"\\\"N/A\\\"\"",
          "X": 5.299999999999946,
          "Y": -6.622801552907127
         },
         {
          "Outlier": "\"\\\"N/A\\\"\"",
          "X": 5.399999999999945,
          "Y": -1.0875748408472232
         },
         {
          "Outlier": "\"\\\"N/A\\\"\"",
          "X": 5.499999999999945,
          "Y": -2.2819282139475914
         },
         {
          "Outlier": "\"\\\"N/A\\\"\"",
          "X": 5.599999999999945,
          "Y": -1.8891219528763945
         },
         {
          "Outlier": "\"\\\"N/A\\\"\"",
          "X": 5.699999999999944,
          "Y": -6.966847186677552
         },
         {
          "Outlier": "\"\\\"N/A\\\"\"",
          "X": 5.799999999999944,
          "Y": -11.581027022173489
         },
         {
          "Outlier": "\"\\\"N/A\\\"\"",
          "X": 5.8999999999999435,
          "Y": 0.46904222025749087
         },
         {
          "Outlier": "\"\\\"N/A\\\"\"",
          "X": 5.999999999999943,
          "Y": 0.4373775094833885
         },
         {
          "Outlier": "\"\\\"N/A\\\"\"",
          "X": 6.099999999999945,
          "Y": -3.5685178735254337
         },
         {
          "Outlier": "\"\\\"N/A\\\"\"",
          "X": 6.1999999999999424,
          "Y": 2.0511072427468293
         },
         {
          "Outlier": "\"\\\"N/A\\\"\"",
          "X": 6.29999999999994,
          "Y": -8.30456695449779
         },
         {
          "Outlier": "\"\\\"N/A\\\"\"",
          "X": 6.399999999999942,
          "Y": -3.698452142783796
         },
         {
          "Outlier": "\"\\\"N/A\\\"\"",
          "X": 6.499999999999943,
          "Y": -7.182578755753479
         },
         {
          "Outlier": "\"\\\"N/A\\\"\"",
          "X": 6.599999999999941,
          "Y": 0.9941842592008459
         },
         {
          "Outlier": "\"\\\"N/A\\\"\"",
          "X": 6.699999999999939,
          "Y": -5.41116928506067
         },
         {
          "Outlier": "\"\\\"N/A\\\"\"",
          "X": 6.79999999999994,
          "Y": -1.2611168947890072
         },
         {
          "Outlier": "\"\\\"N/A\\\"\"",
          "X": 6.899999999999942,
          "Y": 0.8775057232196266
         },
         {
          "Outlier": "\"\\\"N/A\\\"\"",
          "X": 6.99999999999994,
          "Y": -8.032926041796765
         },
         {
          "Outlier": "\"\\\"N/A\\\"\"",
          "X": 7.0999999999999375,
          "Y": -5.413405227364713
         },
         {
          "Outlier": "\"\\\"N/A\\\"\"",
          "X": 7.199999999999939,
          "Y": -9.927587907274376
         },
         {
          "Outlier": "\"\\\"N/A\\\"\"",
          "X": 7.29999999999994,
          "Y": -4.468681417198477
         },
         {
          "Outlier": "\"\\\"N/A\\\"\"",
          "X": 7.399999999999938,
          "Y": -5.854752240273816
         },
         {
          "Outlier": "\"\\\"N/A\\\"\"",
          "X": 7.499999999999936,
          "Y": -6.411774324734785
         },
         {
          "Outlier": "\"\\\"N/A\\\"\"",
          "X": 7.5999999999999375,
          "Y": -5.293479223748562
         },
         {
          "Outlier": "\"\\\"N/A\\\"\"",
          "X": 7.699999999999939,
          "Y": -4.236187916909431
         },
         {
          "Outlier": "\"\\\"N/A\\\"\"",
          "X": 7.799999999999937,
          "Y": -10.283885816949446
         },
         {
          "Outlier": "\"\\\"N/A\\\"\"",
          "X": 7.899999999999935,
          "Y": -2.3039908807770075
         },
         {
          "Outlier": "\"\\\"N/A\\\"\"",
          "X": 7.999999999999936,
          "Y": -1.9689683742376003
         },
         {
          "Outlier": "\"\\\"N/A\\\"\"",
          "X": 8.099999999999937,
          "Y": -4.046812170003237
         },
         {
          "Outlier": "\"\\\"N/A\\\"\"",
          "X": 8.199999999999935,
          "Y": -12.008787361066526
         },
         {
          "Outlier": "\"\\\"N/A\\\"\"",
          "X": 8.299999999999933,
          "Y": -4.7597492186581425
         },
         {
          "Outlier": "\"\\\"N/A\\\"\"",
          "X": 8.399999999999935,
          "Y": -6.489115837719269
         },
         {
          "Outlier": "\"\\\"N/A\\\"\"",
          "X": 8.499999999999936,
          "Y": -7.243623508653637
         },
         {
          "Outlier": "\"\\\"N/A\\\"\"",
          "X": 8.599999999999934,
          "Y": -6.51046913603002
         },
         {
          "Outlier": "\"\\\"N/A\\\"\"",
          "X": 8.699999999999932,
          "Y": -13.51583081845428
         },
         {
          "Outlier": "\"\\\"N/A\\\"\"",
          "X": 8.799999999999933,
          "Y": -4.038522546164521
         },
         {
          "Outlier": "\"\\\"N/A\\\"\"",
          "X": 8.899999999999935,
          "Y": -4.944472123308085
         },
         {
          "Outlier": "\"\\\"N/A\\\"\"",
          "X": 8.999999999999932,
          "Y": -8.37723874756111
         },
         {
          "Outlier": "\"\\\"N/A\\\"\"",
          "X": 9.09999999999993,
          "Y": -7.788084201710713
         },
         {
          "Outlier": "\"\\\"N/A\\\"\"",
          "X": 9.199999999999932,
          "Y": -4.604566492893393
         },
         {
          "Outlier": "\"\\\"N/A\\\"\"",
          "X": 9.299999999999933,
          "Y": 0.8637995902256543
         },
         {
          "Outlier": "\"\\\"N/A\\\"\"",
          "X": 9.399999999999931,
          "Y": -3.6646888663271797
         },
         {
          "Outlier": "\"\\\"N/A\\\"\"",
          "X": 9.499999999999929,
          "Y": -10.427985878771441
         },
         {
          "Outlier": "\"\\\"N/A\\\"\"",
          "X": 9.59999999999993,
          "Y": -8.444195324737374
         },
         {
          "Outlier": "\"\\\"N/A\\\"\"",
          "X": 9.699999999999932,
          "Y": -4.5670513372537265
         },
         {
          "Outlier": "\"\\\"N/A\\\"\"",
          "X": 9.79999999999993,
          "Y": -10.45235819943483
         },
         {
          "Outlier": "\"\\\"N/A\\\"\"",
          "X": 9.899999999999928,
          "Y": -10.707703631220975
         },
         {
          "Outlier": "\"\\\"N/A\\\"\"",
          "X": 9.999999999999929,
          "Y": -3.1942061213666006
         }
        ]
       },
       "encoding": {
        "color": {
         "field": "Outlier"
        },
        "x": {
         "field": "X",
         "type": "quantitative"
        },
        "y": {
         "field": "Y",
         "type": "quantitative"
        }
       },
       "height": 400,
       "mark": "circle",
       "width": 400
      },
      "image/png": "[encoded data removed]"
     },
     "metadata": {},
     "output_type": "display_data"
    }
   ],
   "source": [
    "ys <- sampler $ priorPredictive regression\n",
    "\n",
    "plot (fmap (second (T.pack . show)) (zip (zip range ys) (Prelude.repeat \"N/A\")))"
   ]
  },
  {
   "cell_type": "code",
   "execution_count": 16,
   "id": "693d83bf-14c9-4e1b-870e-a15b8f8edc1d",
   "metadata": {},
   "outputs": [
    {
     "data": {
      "text/plain": []
     },
     "metadata": {},
     "output_type": "display_data"
    }
   ],
   "source": [
    "import Control.Monad.Bayes.Inference.MCMC\n",
    "\n",
    "ys <- sampleIOfixed $ mcmc MCMCConfig {numMCMCSteps = 5000, numBurnIn = 300, proposal = SingleSiteMH} \n",
    "    $ posteriorPredictive regression [take 200 $ repeat 1]\n"
   ]
  },
  {
   "cell_type": "code",
   "execution_count": 17,
   "id": "a72a7dc0-209c-449c-9ffb-617328a7ffc5",
   "metadata": {},
   "outputs": [
    {
     "data": {
      "text/html": [
       "<style>/* Styles used for the Hoogle display in the pager */\n",
       ".hoogle-doc {\n",
       "display: block;\n",
       "padding-bottom: 1.3em;\n",
       "padding-left: 0.4em;\n",
       "}\n",
       ".hoogle-code {\n",
       "display: block;\n",
       "font-family: monospace;\n",
       "white-space: pre;\n",
       "}\n",
       ".hoogle-text {\n",
       "display: block;\n",
       "}\n",
       ".hoogle-name {\n",
       "color: green;\n",
       "font-weight: bold;\n",
       "}\n",
       ".hoogle-head {\n",
       "font-weight: bold;\n",
       "}\n",
       ".hoogle-sub {\n",
       "display: block;\n",
       "margin-left: 0.4em;\n",
       "}\n",
       ".hoogle-package {\n",
       "font-weight: bold;\n",
       "font-style: italic;\n",
       "}\n",
       ".hoogle-module {\n",
       "font-weight: bold;\n",
       "}\n",
       ".hoogle-class {\n",
       "font-weight: bold;\n",
       "}\n",
       ".get-type {\n",
       "color: green;\n",
       "font-weight: bold;\n",
       "font-family: monospace;\n",
       "display: block;\n",
       "white-space: pre-wrap;\n",
       "}\n",
       ".show-type {\n",
       "color: green;\n",
       "font-weight: bold;\n",
       "font-family: monospace;\n",
       "margin-left: 1em;\n",
       "}\n",
       ".mono {\n",
       "font-family: monospace;\n",
       "display: block;\n",
       "}\n",
       ".err-msg {\n",
       "color: red;\n",
       "font-style: italic;\n",
       "font-family: monospace;\n",
       "white-space: pre;\n",
       "display: block;\n",
       "}\n",
       "#unshowable {\n",
       "color: red;\n",
       "font-weight: bold;\n",
       "}\n",
       ".err-msg.in.collapse {\n",
       "padding-top: 0.7em;\n",
       "}\n",
       ".highlight-code {\n",
       "white-space: pre;\n",
       "font-family: monospace;\n",
       "}\n",
       ".suggestion-warning { \n",
       "font-weight: bold;\n",
       "color: rgb(200, 130, 0);\n",
       "}\n",
       ".suggestion-error { \n",
       "font-weight: bold;\n",
       "color: red;\n",
       "}\n",
       ".suggestion-name {\n",
       "font-weight: bold;\n",
       "}\n",
       "</style><div class=\"suggestion-name\" style=\"clear:both;\">Use head</div><div class=\"suggestion-row\" style=\"float: left;\"><div class=\"suggestion-warning\">Found:</div><div class=\"highlight-code\" id=\"haskell\">ys !! 0</div></div><div class=\"suggestion-row\" style=\"float: left;\"><div class=\"suggestion-warning\">Why Not:</div><div class=\"highlight-code\" id=\"haskell\">head ys</div></div>"
      ],
      "text/plain": [
       "Line 1: Use head\n",
       "Found:\n",
       "ys !! 0\n",
       "Why not:\n",
       "head ys"
      ]
     },
     "metadata": {},
     "output_type": "display_data"
    },
    {
     "data": {
      "application/vnd.vegalite.v4+json": {
       "$schema": "https://vega.github.io/schema/vega-lite/v4.json",
       "data": {
        "values": [
         {
          "Outlier": "\"\\\"N/A\\\"\"",
          "X": -10,
          "Y": 7.170881864473735
         },
         {
          "Outlier": "\"\\\"N/A\\\"\"",
          "X": -9.9,
          "Y": 5.4816732477279375
         },
         {
          "Outlier": "\"\\\"N/A\\\"\"",
          "X": -9.8,
          "Y": 7.630224633902682
         },
         {
          "Outlier": "\"\\\"N/A\\\"\"",
          "X": -9.700000000000001,
          "Y": 11.06220615791566
         },
         {
          "Outlier": "\"\\\"N/A\\\"\"",
          "X": -9.600000000000001,
          "Y": 5.215622546836187
         },
         {
          "Outlier": "\"\\\"N/A\\\"\"",
          "X": -9.500000000000002,
          "Y": 10.542060096591822
         },
         {
          "Outlier": "\"\\\"N/A\\\"\"",
          "X": -9.400000000000002,
          "Y": 4.522741195810397
         },
         {
          "Outlier": "\"\\\"N/A\\\"\"",
          "X": -9.300000000000002,
          "Y": 3.888189374652652
         },
         {
          "Outlier": "\"\\\"N/A\\\"\"",
          "X": -9.200000000000003,
          "Y": 2.5449977251013447
         },
         {
          "Outlier": "\"\\\"N/A\\\"\"",
          "X": -9.100000000000003,
          "Y": 4.046586735677207
         },
         {
          "Outlier": "\"\\\"N/A\\\"\"",
          "X": -9.000000000000004,
          "Y": 4.654939698254902
         },
         {
          "Outlier": "\"\\\"N/A\\\"\"",
          "X": -8.900000000000004,
          "Y": -2.754249563553155
         },
         {
          "Outlier": "\"\\\"N/A\\\"\"",
          "X": -8.800000000000004,
          "Y": 11.115321256362304
         },
         {
          "Outlier": "\"\\\"N/A\\\"\"",
          "X": -8.700000000000005,
          "Y": 1.5207214593222602
         },
         {
          "Outlier": "\"\\\"N/A\\\"\"",
          "X": -8.600000000000005,
          "Y": 8.876614443243408
         },
         {
          "Outlier": "\"\\\"N/A\\\"\"",
          "X": -8.500000000000005,
          "Y": 7.775065359900268
         },
         {
          "Outlier": "\"\\\"N/A\\\"\"",
          "X": -8.400000000000006,
          "Y": 11.142120478067149
         },
         {
          "Outlier": "\"\\\"N/A\\\"\"",
          "X": -8.300000000000006,
          "Y": 5.642100847774627
         },
         {
          "Outlier": "\"\\\"N/A\\\"\"",
          "X": -8.200000000000006,
          "Y": 5.543092916860033
         },
         {
          "Outlier": "\"\\\"N/A\\\"\"",
          "X": -8.100000000000007,
          "Y": 4.2785980036766444
         },
         {
          "Outlier": "\"\\\"N/A\\\"\"",
          "X": -8.000000000000007,
          "Y": 1.6656696331933536
         },
         {
          "Outlier": "\"\\\"N/A\\\"\"",
          "X": -7.9000000000000075,
          "Y": 6.653737181784508
         },
         {
          "Outlier": "\"\\\"N/A\\\"\"",
          "X": -7.800000000000008,
          "Y": 8.281983335561733
         },
         {
          "Outlier": "\"\\\"N/A\\\"\"",
          "X": -7.700000000000008,
          "Y": 5.841842085262562
         },
         {
          "Outlier": "\"\\\"N/A\\\"\"",
          "X": -7.6000000000000085,
          "Y": 4.393366755160071
         },
         {
          "Outlier": "\"\\\"N/A\\\"\"",
          "X": -7.500000000000009,
          "Y": 2.405585826933416
         },
         {
          "Outlier": "\"\\\"N/A\\\"\"",
          "X": -7.400000000000009,
          "Y": 4.813456466841483
         },
         {
          "Outlier": "\"\\\"N/A\\\"\"",
          "X": -7.30000000000001,
          "Y": 6.9785667055845195
         },
         {
          "Outlier": "\"\\\"N/A\\\"\"",
          "X": -7.20000000000001,
          "Y": 5.718240766338043
         },
         {
          "Outlier": "\"\\\"N/A\\\"\"",
          "X": -7.10000000000001,
          "Y": 1.8444066339599683
         },
         {
          "Outlier": "\"\\\"N/A\\\"\"",
          "X": -7.000000000000011,
          "Y": -1.3890713805402788
         },
         {
          "Outlier": "\"\\\"N/A\\\"\"",
          "X": -6.900000000000011,
          "Y": 4.473248537619904
         },
         {
          "Outlier": "\"\\\"N/A\\\"\"",
          "X": -6.800000000000011,
          "Y": 11.143357703626318
         },
         {
          "Outlier": "\"\\\"N/A\\\"\"",
          "X": -6.700000000000012,
          "Y": 0.42019361018451207
         },
         {
          "Outlier": "\"\\\"N/A\\\"\"",
          "X": -6.600000000000012,
          "Y": 8.290834953585248
         },
         {
          "Outlier": "\"\\\"N/A\\\"\"",
          "X": -6.500000000000012,
          "Y": 3.703648849427418
         },
         {
          "Outlier": "\"\\\"N/A\\\"\"",
          "X": -6.400000000000013,
          "Y": 2.948339697771904
         },
         {
          "Outlier": "\"\\\"N/A\\\"\"",
          "X": -6.300000000000013,
          "Y": 4.990933858178586
         },
         {
          "Outlier": "\"\\\"N/A\\\"\"",
          "X": -6.2000000000000135,
          "Y": -2.371930479088377
         },
         {
          "Outlier": "\"\\\"N/A\\\"\"",
          "X": -6.100000000000014,
          "Y": 3.0539922655306
         },
         {
          "Outlier": "\"\\\"N/A\\\"\"",
          "X": -6.000000000000014,
          "Y": 2.4922915671446053
         },
         {
          "Outlier": "\"\\\"N/A\\\"\"",
          "X": -5.900000000000015,
          "Y": 0.13783104304097993
         },
         {
          "Outlier": "\"\\\"N/A\\\"\"",
          "X": -5.800000000000015,
          "Y": 9.274333834317005
         },
         {
          "Outlier": "\"\\\"N/A\\\"\"",
          "X": -5.700000000000015,
          "Y": 5.180681734557119
         },
         {
          "Outlier": "\"\\\"N/A\\\"\"",
          "X": -5.600000000000016,
          "Y": 6.686116624589758
         },
         {
          "Outlier": "\"\\\"N/A\\\"\"",
          "X": -5.500000000000016,
          "Y": 3.1645361528145575
         },
         {
          "Outlier": "\"\\\"N/A\\\"\"",
          "X": -5.400000000000016,
          "Y": 7.2765384983742365
         },
         {
          "Outlier": "\"\\\"N/A\\\"\"",
          "X": -5.300000000000017,
          "Y": 3.8212247972477913
         },
         {
          "Outlier": "\"\\\"N/A\\\"\"",
          "X": -5.200000000000017,
          "Y": 2.3330418178786405
         },
         {
          "Outlier": "\"\\\"N/A\\\"\"",
          "X": -5.100000000000017,
          "Y": 0.04978925094797848
         },
         {
          "Outlier": "\"\\\"N/A\\\"\"",
          "X": -5.000000000000018,
          "Y": 8.41022002272886
         },
         {
          "Outlier": "\"\\\"N/A\\\"\"",
          "X": -4.900000000000018,
          "Y": 8.95937869742065
         },
         {
          "Outlier": "\"\\\"N/A\\\"\"",
          "X": -4.8000000000000185,
          "Y": 7.128754025574484
         },
         {
          "Outlier": "\"\\\"N/A\\\"\"",
          "X": -4.700000000000019,
          "Y": 8.400667617931337
         },
         {
          "Outlier": "\"\\\"N/A\\\"\"",
          "X": -4.600000000000019,
          "Y": 8.14161781640251
         },
         {
          "Outlier": "\"\\\"N/A\\\"\"",
          "X": -4.5000000000000195,
          "Y": 4.771675509425833
         },
         {
          "Outlier": "\"\\\"N/A\\\"\"",
          "X": -4.40000000000002,
          "Y": 4.665671139729419
         },
         {
          "Outlier": "\"\\\"N/A\\\"\"",
          "X": -4.30000000000002,
          "Y": 5.1573370458167975
         },
         {
          "Outlier": "\"\\\"N/A\\\"\"",
          "X": -4.200000000000021,
          "Y": 6.892283560497473
         },
         {
          "Outlier": "\"\\\"N/A\\\"\"",
          "X": -4.100000000000021,
          "Y": 3.362645167300043
         },
         {
          "Outlier": "\"\\\"N/A\\\"\"",
          "X": -4.000000000000021,
          "Y": 5.294329383367762
         },
         {
          "Outlier": "\"\\\"N/A\\\"\"",
          "X": -3.9000000000000217,
          "Y": 6.174185775808012
         },
         {
          "Outlier": "\"\\\"N/A\\\"\"",
          "X": -3.800000000000022,
          "Y": 4.656254263597801
         },
         {
          "Outlier": "\"\\\"N/A\\\"\"",
          "X": -3.7000000000000224,
          "Y": 10.104067846235775
         },
         {
          "Outlier": "\"\\\"N/A\\\"\"",
          "X": -3.6000000000000227,
          "Y": 3.2071199529587346
         },
         {
          "Outlier": "\"\\\"N/A\\\"\"",
          "X": -3.500000000000023,
          "Y": 5.187519875500946
         },
         {
          "Outlier": "\"\\\"N/A\\\"\"",
          "X": -3.4000000000000234,
          "Y": 3.519138923794177
         },
         {
          "Outlier": "\"\\\"N/A\\\"\"",
          "X": -3.300000000000024,
          "Y": 4.021979736161879
         },
         {
          "Outlier": "\"\\\"N/A\\\"\"",
          "X": -3.200000000000024,
          "Y": 3.5390555414198146
         },
         {
          "Outlier": "\"\\\"N/A\\\"\"",
          "X": -3.1000000000000245,
          "Y": 5.078255836941504
         },
         {
          "Outlier": "\"\\\"N/A\\\"\"",
          "X": -3.000000000000025,
          "Y": 3.4225560450354697
         },
         {
          "Outlier": "\"\\\"N/A\\\"\"",
          "X": -2.9000000000000252,
          "Y": 2.8730569969475086
         },
         {
          "Outlier": "\"\\\"N/A\\\"\"",
          "X": -2.8000000000000256,
          "Y": 1.7698395636546955
         },
         {
          "Outlier": "\"\\\"N/A\\\"\"",
          "X": -2.700000000000026,
          "Y": 5.557794984614313
         },
         {
          "Outlier": "\"\\\"N/A\\\"\"",
          "X": -2.6000000000000263,
          "Y": 1.268638570204268
         },
         {
          "Outlier": "\"\\\"N/A\\\"\"",
          "X": -2.5000000000000266,
          "Y": 3.0633603767800395
         },
         {
          "Outlier": "\"\\\"N/A\\\"\"",
          "X": -2.400000000000027,
          "Y": 2.8711689317940143
         },
         {
          "Outlier": "\"\\\"N/A\\\"\"",
          "X": -2.3000000000000274,
          "Y": 2.301124309485462
         },
         {
          "Outlier": "\"\\\"N/A\\\"\"",
          "X": -2.2000000000000277,
          "Y": 5.96428496488248
         },
         {
          "Outlier": "\"\\\"N/A\\\"\"",
          "X": -2.100000000000028,
          "Y": 11.773139569700536
         },
         {
          "Outlier": "\"\\\"N/A\\\"\"",
          "X": -2.0000000000000284,
          "Y": 7.472427173510505
         },
         {
          "Outlier": "\"\\\"N/A\\\"\"",
          "X": -1.9000000000000288,
          "Y": 1.32230509038033
         },
         {
          "Outlier": "\"\\\"N/A\\\"\"",
          "X": -1.8000000000000291,
          "Y": 3.075966109082301
         },
         {
          "Outlier": "\"\\\"N/A\\\"\"",
          "X": -1.7000000000000295,
          "Y": 5.032112601653299
         },
         {
          "Outlier": "\"\\\"N/A\\\"\"",
          "X": -1.6000000000000298,
          "Y": -1.5239538936581805
         },
         {
          "Outlier": "\"\\\"N/A\\\"\"",
          "X": -1.5000000000000302,
          "Y": -4.471991018387418
         },
         {
          "Outlier": "\"\\\"N/A\\\"\"",
          "X": -1.4000000000000306,
          "Y": -2.1835697880254488
         },
         {
          "Outlier": "\"\\\"N/A\\\"\"",
          "X": -1.300000000000031,
          "Y": 3.4305157232421153
         },
         {
          "Outlier": "\"\\\"N/A\\\"\"",
          "X": -1.2000000000000313,
          "Y": 0.6291882111909795
         },
         {
          "Outlier": "\"\\\"N/A\\\"\"",
          "X": -1.1000000000000316,
          "Y": 4.855608842713043
         },
         {
          "Outlier": "\"\\\"N/A\\\"\"",
          "X": -1.000000000000032,
          "Y": 12.64085579554164
         },
         {
          "Outlier": "\"\\\"N/A\\\"\"",
          "X": -0.9000000000000323,
          "Y": -3.545237863765626
         },
         {
          "Outlier": "\"\\\"N/A\\\"\"",
          "X": -0.8000000000000327,
          "Y": 7.280109299665327
         },
         {
          "Outlier": "\"\\\"N/A\\\"\"",
          "X": -0.700000000000033,
          "Y": 2.850869737543476
         },
         {
          "Outlier": "\"\\\"N/A\\\"\"",
          "X": -0.6000000000000334,
          "Y": -0.015941573580199098
         },
         {
          "Outlier": "\"\\\"N/A\\\"\"",
          "X": -0.5000000000000338,
          "Y": 0.46826912527843234
         },
         {
          "Outlier": "\"\\\"N/A\\\"\"",
          "X": -0.4000000000000341,
          "Y": -0.309383634778718
         },
         {
          "Outlier": "\"\\\"N/A\\\"\"",
          "X": -0.30000000000003446,
          "Y": 0.32459833435559204
         },
         {
          "Outlier": "\"\\\"N/A\\\"\"",
          "X": -0.20000000000003482,
          "Y": 4.150742615122855
         },
         {
          "Outlier": "\"\\\"N/A\\\"\"",
          "X": -0.10000000000003517,
          "Y": 7.077882109109156
         },
         {
          "Outlier": "\"\\\"N/A\\\"\"",
          "X": -3.552713678800501e-14,
          "Y": 3.1290086055649016
         },
         {
          "Outlier": "\"\\\"N/A\\\"\"",
          "X": 0.09999999999996412,
          "Y": -3.413731324378944
         },
         {
          "Outlier": "\"\\\"N/A\\\"\"",
          "X": 0.19999999999996376,
          "Y": 3.9673221301745474
         },
         {
          "Outlier": "\"\\\"N/A\\\"\"",
          "X": 0.2999999999999634,
          "Y": -2.334374821038406
         },
         {
          "Outlier": "\"\\\"N/A\\\"\"",
          "X": 0.39999999999996305,
          "Y": 2.9824264896273527
         },
         {
          "Outlier": "\"\\\"N/A\\\"\"",
          "X": 0.4999999999999627,
          "Y": 3.442148003664996
         },
         {
          "Outlier": "\"\\\"N/A\\\"\"",
          "X": 0.5999999999999623,
          "Y": -1.1884759524615012
         },
         {
          "Outlier": "\"\\\"N/A\\\"\"",
          "X": 0.699999999999962,
          "Y": 3.918349497261644
         },
         {
          "Outlier": "\"\\\"N/A\\\"\"",
          "X": 0.7999999999999616,
          "Y": 5.69414076830581
         },
         {
          "Outlier": "\"\\\"N/A\\\"\"",
          "X": 0.8999999999999613,
          "Y": 4.167807478142045
         },
         {
          "Outlier": "\"\\\"N/A\\\"\"",
          "X": 0.9999999999999609,
          "Y": 2.086630209779403
         },
         {
          "Outlier": "\"\\\"N/A\\\"\"",
          "X": 1.0999999999999606,
          "Y": 0.6339841197813945
         },
         {
          "Outlier": "\"\\\"N/A\\\"\"",
          "X": 1.1999999999999602,
          "Y": 4.057513899047639
         },
         {
          "Outlier": "\"\\\"N/A\\\"\"",
          "X": 1.2999999999999599,
          "Y": 4.423749259521481
         },
         {
          "Outlier": "\"\\\"N/A\\\"\"",
          "X": 1.3999999999999595,
          "Y": 6.561439094121283
         },
         {
          "Outlier": "\"\\\"N/A\\\"\"",
          "X": 1.4999999999999591,
          "Y": 4.8801623735190836
         },
         {
          "Outlier": "\"\\\"N/A\\\"\"",
          "X": 1.5999999999999588,
          "Y": 4.390972889698028
         },
         {
          "Outlier": "\"\\\"N/A\\\"\"",
          "X": 1.6999999999999584,
          "Y": 1.212168533510324
         },
         {
          "Outlier": "\"\\\"N/A\\\"\"",
          "X": 1.799999999999958,
          "Y": 4.404193194216281
         },
         {
          "Outlier": "\"\\\"N/A\\\"\"",
          "X": 1.8999999999999577,
          "Y": -1.8233980979873765
         },
         {
          "Outlier": "\"\\\"N/A\\\"\"",
          "X": 1.9999999999999574,
          "Y": 4.801540899127312
         },
         {
          "Outlier": "\"\\\"N/A\\\"\"",
          "X": 2.099999999999957,
          "Y": 2.7070109945206466
         },
         {
          "Outlier": "\"\\\"N/A\\\"\"",
          "X": 2.1999999999999567,
          "Y": 1.8114080411236326
         },
         {
          "Outlier": "\"\\\"N/A\\\"\"",
          "X": 2.2999999999999563,
          "Y": -2.8320413690969586
         },
         {
          "Outlier": "\"\\\"N/A\\\"\"",
          "X": 2.399999999999956,
          "Y": 1.8375013339969368
         },
         {
          "Outlier": "\"\\\"N/A\\\"\"",
          "X": 2.4999999999999556,
          "Y": -0.6394183749414335
         },
         {
          "Outlier": "\"\\\"N/A\\\"\"",
          "X": 2.5999999999999552,
          "Y": 3.8148899712702655
         },
         {
          "Outlier": "\"\\\"N/A\\\"\"",
          "X": 2.699999999999955,
          "Y": 8.070980321766488
         },
         {
          "Outlier": "\"\\\"N/A\\\"\"",
          "X": 2.7999999999999545,
          "Y": 0.5187508685948199
         },
         {
          "Outlier": "\"\\\"N/A\\\"\"",
          "X": 2.899999999999954,
          "Y": 7.039270951548296
         },
         {
          "Outlier": "\"\\\"N/A\\\"\"",
          "X": 2.999999999999954,
          "Y": -2.8714911575008237
         },
         {
          "Outlier": "\"\\\"N/A\\\"\"",
          "X": 3.0999999999999535,
          "Y": 0.5617676424538423
         },
         {
          "Outlier": "\"\\\"N/A\\\"\"",
          "X": 3.199999999999953,
          "Y": 7.657813023017433
         },
         {
          "Outlier": "\"\\\"N/A\\\"\"",
          "X": 3.2999999999999527,
          "Y": -3.2540912274370495
         },
         {
          "Outlier": "\"\\\"N/A\\\"\"",
          "X": 3.3999999999999524,
          "Y": 2.400272380842577
         },
         {
          "Outlier": "\"\\\"N/A\\\"\"",
          "X": 3.499999999999952,
          "Y": 0.4263208973999082
         },
         {
          "Outlier": "\"\\\"N/A\\\"\"",
          "X": 3.5999999999999517,
          "Y": 4.627608044189117
         },
         {
          "Outlier": "\"\\\"N/A\\\"\"",
          "X": 3.6999999999999513,
          "Y": 5.0088085598296415
         },
         {
          "Outlier": "\"\\\"N/A\\\"\"",
          "X": 3.799999999999951,
          "Y": 2.0301941274843127
         },
         {
          "Outlier": "\"\\\"N/A\\\"\"",
          "X": 3.8999999999999506,
          "Y": 3.9256589735227125
         },
         {
          "Outlier": "\"\\\"N/A\\\"\"",
          "X": 3.9999999999999503,
          "Y": 2.3859987634535593
         },
         {
          "Outlier": "\"\\\"N/A\\\"\"",
          "X": 4.09999999999995,
          "Y": 4.182076286956695
         },
         {
          "Outlier": "\"\\\"N/A\\\"\"",
          "X": 4.1999999999999496,
          "Y": 6.72050544396855
         },
         {
          "Outlier": "\"\\\"N/A\\\"\"",
          "X": 4.299999999999949,
          "Y": 4.0540623131305376
         },
         {
          "Outlier": "\"\\\"N/A\\\"\"",
          "X": 4.399999999999949,
          "Y": 3.5336687555462714
         },
         {
          "Outlier": "\"\\\"N/A\\\"\"",
          "X": 4.4999999999999485,
          "Y": -3.0310728257111945
         },
         {
          "Outlier": "\"\\\"N/A\\\"\"",
          "X": 4.599999999999948,
          "Y": 1.4900510336882444
         },
         {
          "Outlier": "\"\\\"N/A\\\"\"",
          "X": 4.699999999999948,
          "Y": 0.48467179254775394
         },
         {
          "Outlier": "\"\\\"N/A\\\"\"",
          "X": 4.799999999999947,
          "Y": -1.3656487148079979
         },
         {
          "Outlier": "\"\\\"N/A\\\"\"",
          "X": 4.899999999999947,
          "Y": -4.429814233108355
         },
         {
          "Outlier": "\"\\\"N/A\\\"\"",
          "X": 4.999999999999947,
          "Y": 8.984136893258844
         },
         {
          "Outlier": "\"\\\"N/A\\\"\"",
          "X": 5.099999999999946,
          "Y": 0.24022517025992873
         },
         {
          "Outlier": "\"\\\"N/A\\\"\"",
          "X": 5.199999999999946,
          "Y": -1.3915622566776853
         },
         {
          "Outlier": "\"\\\"N/A\\\"\"",
          "X": 5.299999999999946,
          "Y": 7.33168699432505
         },
         {
          "Outlier": "\"\\\"N/A\\\"\"",
          "X": 5.399999999999945,
          "Y": 11.401607580047244
         },
         {
          "Outlier": "\"\\\"N/A\\\"\"",
          "X": 5.499999999999945,
          "Y": -2.504409749676152
         },
         {
          "Outlier": "\"\\\"N/A\\\"\"",
          "X": 5.599999999999945,
          "Y": -3.0669821455268904
         },
         {
          "Outlier": "\"\\\"N/A\\\"\"",
          "X": 5.699999999999944,
          "Y": 2.8176490474931115
         },
         {
          "Outlier": "\"\\\"N/A\\\"\"",
          "X": 5.799999999999944,
          "Y": 1.3119383557693376
         },
         {
          "Outlier": "\"\\\"N/A\\\"\"",
          "X": 5.8999999999999435,
          "Y": 4.980644393041342
         },
         {
          "Outlier": "\"\\\"N/A\\\"\"",
          "X": 5.999999999999943,
          "Y": 4.116910991858865
         },
         {
          "Outlier": "\"\\\"N/A\\\"\"",
          "X": 6.099999999999945,
          "Y": 8.60116906191834
         },
         {
          "Outlier": "\"\\\"N/A\\\"\"",
          "X": 6.1999999999999424,
          "Y": 2.2373710866872507
         },
         {
          "Outlier": "\"\\\"N/A\\\"\"",
          "X": 6.29999999999994,
          "Y": 1.60092351925845
         },
         {
          "Outlier": "\"\\\"N/A\\\"\"",
          "X": 6.399999999999942,
          "Y": 9.024037428354944
         },
         {
          "Outlier": "\"\\\"N/A\\\"\"",
          "X": 6.499999999999943,
          "Y": 4.948659154842545
         },
         {
          "Outlier": "\"\\\"N/A\\\"\"",
          "X": 6.599999999999941,
          "Y": 0.06324633258165924
         },
         {
          "Outlier": "\"\\\"N/A\\\"\"",
          "X": 6.699999999999939,
          "Y": 1.1503850545114138
         },
         {
          "Outlier": "\"\\\"N/A\\\"\"",
          "X": 6.79999999999994,
          "Y": 2.6898471047141186
         },
         {
          "Outlier": "\"\\\"N/A\\\"\"",
          "X": 6.899999999999942,
          "Y": -4.374601095872267
         },
         {
          "Outlier": "\"\\\"N/A\\\"\"",
          "X": 6.99999999999994,
          "Y": 1.5491170165833386
         },
         {
          "Outlier": "\"\\\"N/A\\\"\"",
          "X": 7.0999999999999375,
          "Y": -2.3609485220928743
         },
         {
          "Outlier": "\"\\\"N/A\\\"\"",
          "X": 7.199999999999939,
          "Y": -0.0942609278554909
         },
         {
          "Outlier": "\"\\\"N/A\\\"\"",
          "X": 7.29999999999994,
          "Y": -0.5388589833506128
         },
         {
          "Outlier": "\"\\\"N/A\\\"\"",
          "X": 7.399999999999938,
          "Y": 0.5962382750778243
         },
         {
          "Outlier": "\"\\\"N/A\\\"\"",
          "X": 7.499999999999936,
          "Y": -1.3257436628691723
         },
         {
          "Outlier": "\"\\\"N/A\\\"\"",
          "X": 7.5999999999999375,
          "Y": -5.121237631340199
         },
         {
          "Outlier": "\"\\\"N/A\\\"\"",
          "X": 7.699999999999939,
          "Y": 4.654914323228477
         },
         {
          "Outlier": "\"\\\"N/A\\\"\"",
          "X": 7.799999999999937,
          "Y": -1.1313326092145075
         },
         {
          "Outlier": "\"\\\"N/A\\\"\"",
          "X": 7.899999999999935,
          "Y": -1.7132890249326667
         },
         {
          "Outlier": "\"\\\"N/A\\\"\"",
          "X": 7.999999999999936,
          "Y": 0.3916398303450923
         },
         {
          "Outlier": "\"\\\"N/A\\\"\"",
          "X": 8.099999999999937,
          "Y": -2.524444758390908
         },
         {
          "Outlier": "\"\\\"N/A\\\"\"",
          "X": 8.199999999999935,
          "Y": 3.1351426027763005
         },
         {
          "Outlier": "\"\\\"N/A\\\"\"",
          "X": 8.299999999999933,
          "Y": -2.526442233487897
         },
         {
          "Outlier": "\"\\\"N/A\\\"\"",
          "X": 8.399999999999935,
          "Y": 7.305044364124927
         },
         {
          "Outlier": "\"\\\"N/A\\\"\"",
          "X": 8.499999999999936,
          "Y": 4.504315305684539
         },
         {
          "Outlier": "\"\\\"N/A\\\"\"",
          "X": 8.599999999999934,
          "Y": -6.271805562070819
         },
         {
          "Outlier": "\"\\\"N/A\\\"\"",
          "X": 8.699999999999932,
          "Y": -4.733636096084476
         },
         {
          "Outlier": "\"\\\"N/A\\\"\"",
          "X": 8.799999999999933,
          "Y": 9.884654283477841
         },
         {
          "Outlier": "\"\\\"N/A\\\"\"",
          "X": 8.899999999999935,
          "Y": 5.619123191610644
         },
         {
          "Outlier": "\"\\\"N/A\\\"\"",
          "X": 8.999999999999932,
          "Y": 2.662228060266002
         },
         {
          "Outlier": "\"\\\"N/A\\\"\"",
          "X": 9.09999999999993,
          "Y": 1.993978695409452
         },
         {
          "Outlier": "\"\\\"N/A\\\"\"",
          "X": 9.199999999999932,
          "Y": 3.9359028380271606
         },
         {
          "Outlier": "\"\\\"N/A\\\"\"",
          "X": 9.299999999999933,
          "Y": 4.306994719526277
         },
         {
          "Outlier": "\"\\\"N/A\\\"\"",
          "X": 9.399999999999931,
          "Y": 3.027973530288566
         },
         {
          "Outlier": "\"\\\"N/A\\\"\"",
          "X": 9.499999999999929,
          "Y": -3.371241823317948
         },
         {
          "Outlier": "\"\\\"N/A\\\"\"",
          "X": 9.59999999999993,
          "Y": 1.1784571810794127
         },
         {
          "Outlier": "\"\\\"N/A\\\"\"",
          "X": 9.699999999999932,
          "Y": -3.027408780766746
         },
         {
          "Outlier": "\"\\\"N/A\\\"\"",
          "X": 9.79999999999993,
          "Y": -3.525879598992623
         },
         {
          "Outlier": "\"\\\"N/A\\\"\"",
          "X": 9.899999999999928,
          "Y": -3.355848868078769
         },
         {
          "Outlier": "\"\\\"N/A\\\"\"",
          "X": 9.999999999999929,
          "Y": -0.15141811053418497
         }
        ]
       },
       "encoding": {
        "color": {
         "field": "Outlier"
        },
        "x": {
         "field": "X",
         "type": "quantitative"
        },
        "y": {
         "field": "Y",
         "type": "quantitative"
        }
       },
       "height": 400,
       "mark": "circle",
       "width": 400
      },
      "image/png": "[encoded data removed]"
     },
     "metadata": {},
     "output_type": "display_data"
    }
   ],
   "source": [
    "plot (fmap (second (T.pack . show)) (zip (zip range $ ys !! 0) (Prelude.repeat \"N/A\")))"
   ]
  },
  {
   "cell_type": "code",
   "execution_count": null,
   "id": "33fb2650-3936-4592-9052-a77aa2a5c207",
   "metadata": {},
   "outputs": [],
   "source": []
  }
 ],
 "metadata": {
  "kernelspec": {
   "display_name": "Haskell - nixpkgs",
   "language": "haskell",
   "name": "ihaskell_nixpkgs"
  },
  "language_info": {
   "codemirror_mode": "ihaskell",
   "file_extension": ".hs",
   "mimetype": "text/x-haskell",
   "name": "haskell",
   "pygments_lexer": "Haskell",
   "version": "9.0.2"
  }
 },
 "nbformat": 4,
 "nbformat_minor": 5
}
