{
 "cells": [
  {
   "cell_type": "code",
   "execution_count": 1,
   "id": "1323d9af-17b2-4e43-ba81-b5b3979b3528",
   "metadata": {},
   "outputs": [],
   "source": [
    "import Control.Monad.Bayes.Class\n",
    "import Control.Monad.Bayes.Sampler.Strict\n",
    "import Control.Monad.Bayes.Weighted\n",
    "import Control.Monad.Bayes.Enumerator\n",
    "import Control.Monad\n",
    "import Control.Arrow\n",
    "import Numeric.Log\n",
    "import qualified Data.Text as T\n",
    "\n",
    ":l ../Plotting.hs"
   ]
  },
  {
   "cell_type": "markdown",
   "id": "bb6b1d04-808f-4700-9e5b-b880f64432bc",
   "metadata": {},
   "source": [
    "# Bayesian Models\n",
    "\n",
    "Monad-Bayes exports a `Bayesian` datatype to make using Bayesian models easier. The idea is that you specify your model as a prior, generative model and a likelihood (separate from the generative model because you can't always get the density of a sample from a distribution).\n",
    "\n",
    "Once you've done that, a number of standard operations, like obtaining the posterior or the posterior predictive, are automated for you.\n",
    "\n",
    "Here's a simple example:"
   ]
  },
  {
   "cell_type": "code",
   "execution_count": 11,
   "id": "5df6eb5a-8545-43fa-83d7-bd25f74804cc",
   "metadata": {},
   "outputs": [],
   "source": [
    "model :: MonadDistribution m => Bayesian m Bool Double\n",
    "model = Bayesian {\n",
    "    prior = bernoulli 0.5,\n",
    "    generative = \\x -> normal (if x then 2 else (-2)) 1,\n",
    "    likelihood  = \\x y -> normalPdf (if x then 2 else (-2)) 1 y\n",
    "    }"
   ]
  },
  {
   "cell_type": "code",
   "execution_count": 13,
   "id": "07c4584c-8351-4e0b-814b-d3746b6b6962",
   "metadata": {},
   "outputs": [
    {
     "data": {
      "text/html": [
       "<style>/* Styles used for the Hoogle display in the pager */\n",
       ".hoogle-doc {\n",
       "display: block;\n",
       "padding-bottom: 1.3em;\n",
       "padding-left: 0.4em;\n",
       "}\n",
       ".hoogle-code {\n",
       "display: block;\n",
       "font-family: monospace;\n",
       "white-space: pre;\n",
       "}\n",
       ".hoogle-text {\n",
       "display: block;\n",
       "}\n",
       ".hoogle-name {\n",
       "color: green;\n",
       "font-weight: bold;\n",
       "}\n",
       ".hoogle-head {\n",
       "font-weight: bold;\n",
       "}\n",
       ".hoogle-sub {\n",
       "display: block;\n",
       "margin-left: 0.4em;\n",
       "}\n",
       ".hoogle-package {\n",
       "font-weight: bold;\n",
       "font-style: italic;\n",
       "}\n",
       ".hoogle-module {\n",
       "font-weight: bold;\n",
       "}\n",
       ".hoogle-class {\n",
       "font-weight: bold;\n",
       "}\n",
       ".get-type {\n",
       "color: green;\n",
       "font-weight: bold;\n",
       "font-family: monospace;\n",
       "display: block;\n",
       "white-space: pre-wrap;\n",
       "}\n",
       ".show-type {\n",
       "color: green;\n",
       "font-weight: bold;\n",
       "font-family: monospace;\n",
       "margin-left: 1em;\n",
       "}\n",
       ".mono {\n",
       "font-family: monospace;\n",
       "display: block;\n",
       "}\n",
       ".err-msg {\n",
       "color: red;\n",
       "font-style: italic;\n",
       "font-family: monospace;\n",
       "white-space: pre;\n",
       "display: block;\n",
       "}\n",
       "#unshowable {\n",
       "color: red;\n",
       "font-weight: bold;\n",
       "}\n",
       ".err-msg.in.collapse {\n",
       "padding-top: 0.7em;\n",
       "}\n",
       ".highlight-code {\n",
       "white-space: pre;\n",
       "font-family: monospace;\n",
       "}\n",
       ".suggestion-warning { \n",
       "font-weight: bold;\n",
       "color: rgb(200, 130, 0);\n",
       "}\n",
       ".suggestion-error { \n",
       "font-weight: bold;\n",
       "color: red;\n",
       "}\n",
       ".suggestion-name {\n",
       "font-weight: bold;\n",
       "}\n",
       "</style><div class=\"suggestion-name\" style=\"clear:both;\">Use bimap</div><div class=\"suggestion-row\" style=\"float: left;\"><div class=\"suggestion-warning\">Found:</div><div class=\"highlight-code\" id=\"haskell\">first (T.pack . show) . second (ln . exp)</div></div><div class=\"suggestion-row\" style=\"float: left;\"><div class=\"suggestion-warning\">Why Not:</div><div class=\"highlight-code\" id=\"haskell\">bimap (T.pack . show) (ln . exp)</div></div>"
      ],
      "text/plain": [
       "Line 2: Use bimap\n",
       "Found:\n",
       "first (T.pack . show) . second (ln . exp)\n",
       "Why not:\n",
       "bimap (T.pack . show) (ln . exp)"
      ]
     },
     "metadata": {},
     "output_type": "display_data"
    },
    {
     "data": {
      "application/vnd.vegalite.v4+json": {
       "$schema": "https://vega.github.io/schema/vega-lite/v4.json",
       "data": {
        "values": [
         {
          "X": "True",
          "Y": 0.5008899999999988
         },
         {
          "X": "False",
          "Y": 0.49911000000000205
         }
        ]
       },
       "encoding": {
        "x": {
         "field": "X",
         "type": "nominal"
        },
        "y": {
         "field": "Y",
         "type": "quantitative"
        }
       },
       "height": 400,
       "mark": "bar",
       "width": 400
      },
      "image/png": "[encoded data removed]"
     },
     "metadata": {},
     "output_type": "display_data"
    }
   ],
   "source": [
    "sampler $ \n",
    "    plot . fmap (first (T.pack . show) . second (ln . exp)) . toEmpiricalWeighted <$> \n",
    "    replicateM 100000 (weighted $ prior model)"
   ]
  },
  {
   "cell_type": "code",
   "execution_count": 14,
   "id": "c0de2347-77b2-4433-8bd0-e854791c23b8",
   "metadata": {},
   "outputs": [
    {
     "data": {
      "application/vnd.vegalite.v4+json": {
       "$schema": "https://vega.github.io/schema/vega-lite/v4.json",
       "data": {
        "values": [
         {
          "X": -6.489077662890821,
          "Y": 2
         },
         {
          "X": -6.353359291031308,
          "Y": 0
         },
         {
          "X": -6.217640919171794,
          "Y": 0
         },
         {
          "X": -6.0819225473122795,
          "Y": 0
         },
         {
          "X": -5.946204175452766,
          "Y": 0
         },
         {
          "X": -5.810485803593252,
          "Y": 0
         },
         {
          "X": -5.674767431733738,
          "Y": 2
         },
         {
          "X": -5.539049059874224,
          "Y": 4
         },
         {
          "X": -5.40333068801471,
          "Y": 3
         },
         {
          "X": -5.267612316155196,
          "Y": 8
         },
         {
          "X": -5.1318939442956815,
          "Y": 19
         },
         {
          "X": -4.996175572436168,
          "Y": 19
         },
         {
          "X": -4.860457200576654,
          "Y": 43
         },
         {
          "X": -4.72473882871714,
          "Y": 79
         },
         {
          "X": -4.589020456857626,
          "Y": 85
         },
         {
          "X": -4.453302084998112,
          "Y": 120
         },
         {
          "X": -4.317583713138598,
          "Y": 192
         },
         {
          "X": -4.181865341279084,
          "Y": 254
         },
         {
          "X": -4.046146969419571,
          "Y": 299
         },
         {
          "X": -3.9104285975600566,
          "Y": 456
         },
         {
          "X": -3.7747102257005425,
          "Y": 535
         },
         {
          "X": -3.6389918538410284,
          "Y": 798
         },
         {
          "X": -3.503273481981515,
          "Y": 885
         },
         {
          "X": -3.3675551101220007,
          "Y": 1053
         },
         {
          "X": -3.2318367382624866,
          "Y": 1273
         },
         {
          "X": -3.0961183664029726,
          "Y": 1455
         },
         {
          "X": -2.9603999945434585,
          "Y": 1700
         },
         {
          "X": -2.824681622683945,
          "Y": 1933
         },
         {
          "X": -2.6889632508244308,
          "Y": 2171
         },
         {
          "X": -2.5532448789649163,
          "Y": 2350
         },
         {
          "X": -2.4175265071054026,
          "Y": 2433
         },
         {
          "X": -2.281808135245888,
          "Y": 2604
         },
         {
          "X": -2.1460897633863745,
          "Y": 2704
         },
         {
          "X": -2.010371391526861,
          "Y": 2733
         },
         {
          "X": -1.8746530196673463,
          "Y": 2724
         },
         {
          "X": -1.7389346478078327,
          "Y": 2652
         },
         {
          "X": -1.6032162759483182,
          "Y": 2479
         },
         {
          "X": -1.4674979040888045,
          "Y": 2284
         },
         {
          "X": -1.331779532229291,
          "Y": 2288
         },
         {
          "X": -1.1960611603697764,
          "Y": 2000
         },
         {
          "X": -1.0603427885102628,
          "Y": 1793
         },
         {
          "X": -0.9246244166507491,
          "Y": 1631
         },
         {
          "X": -0.7889060447912346,
          "Y": 1386
         },
         {
          "X": -0.653187672931721,
          "Y": 1161
         },
         {
          "X": -0.5174693010722073,
          "Y": 1026
         },
         {
          "X": -0.3817509292126928,
          "Y": 859
         },
         {
          "X": -0.2460325573531792,
          "Y": 724
         },
         {
          "X": -0.11031418549366467,
          "Y": 730
         },
         {
          "X": 0.025404186365848958,
          "Y": 755
         },
         {
          "X": 0.1611225582253626,
          "Y": 804
         },
         {
          "X": 0.2968409300848771,
          "Y": 826
         },
         {
          "X": 0.43255930194439074,
          "Y": 951
         },
         {
          "X": 0.5682776738039053,
          "Y": 1073
         },
         {
          "X": 0.7039960456634189,
          "Y": 1245
         },
         {
          "X": 0.8397144175229325,
          "Y": 1423
         },
         {
          "X": 0.975432789382447,
          "Y": 1580
         },
         {
          "X": 1.1111511612419607,
          "Y": 1790
         },
         {
          "X": 1.2468695331014743,
          "Y": 2109
         },
         {
          "X": 1.3825879049609888,
          "Y": 2275
         },
         {
          "X": 1.5183062768205033,
          "Y": 2374
         },
         {
          "X": 1.654024648680016,
          "Y": 2508
         },
         {
          "X": 1.7897430205395306,
          "Y": 2591
         },
         {
          "X": 1.9254613923990451,
          "Y": 2703
         },
         {
          "X": 2.061179764258558,
          "Y": 2686
         },
         {
          "X": 2.1968981361180724,
          "Y": 2588
         },
         {
          "X": 2.332616507977587,
          "Y": 2611
         },
         {
          "X": 2.4683348798370996,
          "Y": 2426
         },
         {
          "X": 2.604053251696614,
          "Y": 2235
         },
         {
          "X": 2.7397716235561287,
          "Y": 2005
         },
         {
          "X": 2.8754899954156414,
          "Y": 1906
         },
         {
          "X": 3.011208367275156,
          "Y": 1715
         },
         {
          "X": 3.1469267391346705,
          "Y": 1398
         },
         {
          "X": 3.282645110994185,
          "Y": 1154
         },
         {
          "X": 3.4183634828536977,
          "Y": 1001
         },
         {
          "X": 3.5540818547132123,
          "Y": 745
         },
         {
          "X": 3.6898002265727268,
          "Y": 641
         },
         {
          "X": 3.8255185984322395,
          "Y": 503
         },
         {
          "X": 3.961236970291754,
          "Y": 395
         },
         {
          "X": 4.0969553421512686,
          "Y": 299
         },
         {
          "X": 4.232673714010781,
          "Y": 244
         },
         {
          "X": 4.368392085870296,
          "Y": 150
         },
         {
          "X": 4.50411045772981,
          "Y": 106
         },
         {
          "X": 4.639828829589323,
          "Y": 83
         },
         {
          "X": 4.775547201448838,
          "Y": 50
         },
         {
          "X": 4.911265573308352,
          "Y": 34
         },
         {
          "X": 5.046983945167865,
          "Y": 23
         },
         {
          "X": 5.182702317027379,
          "Y": 20
         },
         {
          "X": 5.318420688886894,
          "Y": 8
         },
         {
          "X": 5.454139060746407,
          "Y": 5
         },
         {
          "X": 5.589857432605921,
          "Y": 5
         },
         {
          "X": 5.725575804465436,
          "Y": 3
         },
         {
          "X": 5.86129417632495,
          "Y": 1
         },
         {
          "X": 5.997012548184463,
          "Y": 3
         },
         {
          "X": 6.1327309200439775,
          "Y": 0
         },
         {
          "X": 6.268449291903492,
          "Y": 0
         },
         {
          "X": 6.404167663763005,
          "Y": 0
         },
         {
          "X": 6.539886035622519,
          "Y": 0
         },
         {
          "X": 6.675604407482034,
          "Y": 0
         },
         {
          "X": 6.8113227793415465,
          "Y": 0
         },
         {
          "X": 6.947041151201061,
          "Y": 1
         }
        ]
       },
       "encoding": {
        "x": {
         "field": "X",
         "type": "quantitative"
        },
        "y": {
         "field": "Y",
         "type": "quantitative"
        }
       },
       "height": 400,
       "mark": "bar",
       "width": 400
      },
      "image/png": "[encoded data removed]"
     },
     "metadata": {},
     "output_type": "display_data"
    }
   ],
   "source": [
    "sampler $ plot . histogramToList . histogram 100 <$> replicateM 100000 (weighted $ priorPredictive model)"
   ]
  },
  {
   "cell_type": "code",
   "execution_count": 15,
   "id": "064ba891-8d4c-4a2f-9aa3-530c64cce610",
   "metadata": {},
   "outputs": [
    {
     "data": {
      "text/html": [
       "<style>/* Styles used for the Hoogle display in the pager */\n",
       ".hoogle-doc {\n",
       "display: block;\n",
       "padding-bottom: 1.3em;\n",
       "padding-left: 0.4em;\n",
       "}\n",
       ".hoogle-code {\n",
       "display: block;\n",
       "font-family: monospace;\n",
       "white-space: pre;\n",
       "}\n",
       ".hoogle-text {\n",
       "display: block;\n",
       "}\n",
       ".hoogle-name {\n",
       "color: green;\n",
       "font-weight: bold;\n",
       "}\n",
       ".hoogle-head {\n",
       "font-weight: bold;\n",
       "}\n",
       ".hoogle-sub {\n",
       "display: block;\n",
       "margin-left: 0.4em;\n",
       "}\n",
       ".hoogle-package {\n",
       "font-weight: bold;\n",
       "font-style: italic;\n",
       "}\n",
       ".hoogle-module {\n",
       "font-weight: bold;\n",
       "}\n",
       ".hoogle-class {\n",
       "font-weight: bold;\n",
       "}\n",
       ".get-type {\n",
       "color: green;\n",
       "font-weight: bold;\n",
       "font-family: monospace;\n",
       "display: block;\n",
       "white-space: pre-wrap;\n",
       "}\n",
       ".show-type {\n",
       "color: green;\n",
       "font-weight: bold;\n",
       "font-family: monospace;\n",
       "margin-left: 1em;\n",
       "}\n",
       ".mono {\n",
       "font-family: monospace;\n",
       "display: block;\n",
       "}\n",
       ".err-msg {\n",
       "color: red;\n",
       "font-style: italic;\n",
       "font-family: monospace;\n",
       "white-space: pre;\n",
       "display: block;\n",
       "}\n",
       "#unshowable {\n",
       "color: red;\n",
       "font-weight: bold;\n",
       "}\n",
       ".err-msg.in.collapse {\n",
       "padding-top: 0.7em;\n",
       "}\n",
       ".highlight-code {\n",
       "white-space: pre;\n",
       "font-family: monospace;\n",
       "}\n",
       ".suggestion-warning { \n",
       "font-weight: bold;\n",
       "color: rgb(200, 130, 0);\n",
       "}\n",
       ".suggestion-error { \n",
       "font-weight: bold;\n",
       "color: red;\n",
       "}\n",
       ".suggestion-name {\n",
       "font-weight: bold;\n",
       "}\n",
       "</style><div class=\"suggestion-name\" style=\"clear:both;\">Use bimap</div><div class=\"suggestion-row\" style=\"float: left;\"><div class=\"suggestion-warning\">Found:</div><div class=\"highlight-code\" id=\"haskell\">first (T.pack . show) . second (ln . exp)</div></div><div class=\"suggestion-row\" style=\"float: left;\"><div class=\"suggestion-warning\">Why Not:</div><div class=\"highlight-code\" id=\"haskell\">bimap (T.pack . show) (ln . exp)</div></div>"
      ],
      "text/plain": [
       "Line 1: Use bimap\n",
       "Found:\n",
       "first (T.pack . show) . second (ln . exp)\n",
       "Why not:\n",
       "bimap (T.pack . show) (ln . exp)"
      ]
     },
     "metadata": {},
     "output_type": "display_data"
    },
    {
     "data": {
      "application/vnd.vegalite.v4+json": {
       "$schema": "https://vega.github.io/schema/vega-lite/v4.json",
       "data": {
        "values": [
         {
          "X": "True",
          "Y": 0.6915466582567914
         },
         {
          "X": "False",
          "Y": 0.3084533417432087
         }
        ]
       },
       "encoding": {
        "x": {
         "field": "X",
         "type": "nominal"
        },
        "y": {
         "field": "Y",
         "type": "quantitative"
        }
       },
       "height": 400,
       "mark": "bar",
       "width": 400
      },
      "image/png": "[encoded data removed]"
     },
     "metadata": {},
     "output_type": "display_data"
    }
   ],
   "source": [
    "sampler $ plot . fmap (first (T.pack . show) . second (ln . exp)) . toEmpiricalWeighted <$> replicateM 100000 \n",
    "    (weighted $ posterior model [0.1, 0.1])"
   ]
  },
  {
   "cell_type": "code",
   "execution_count": 16,
   "id": "3021a681-2370-4157-b5c7-fc9bbe2f7849",
   "metadata": {},
   "outputs": [
    {
     "data": {
      "application/vnd.vegalite.v4+json": {
       "$schema": "https://vega.github.io/schema/vega-lite/v4.json",
       "data": {
        "values": [
         {
          "X": -6.599417918738275,
          "Y": 0.0019345567153694512
         },
         {
          "X": -6.466696934862769,
          "Y": 0
         },
         {
          "X": -6.333975950987263,
          "Y": 0
         },
         {
          "X": -6.201254967111757,
          "Y": 0
         },
         {
          "X": -6.068533983236251,
          "Y": 0
         },
         {
          "X": -5.935812999360746,
          "Y": 0
         },
         {
          "X": -5.803092015485239,
          "Y": 0
         },
         {
          "X": -5.670371031609733,
          "Y": 0.0038691134307389024
         },
         {
          "X": -5.537650047734227,
          "Y": 0.007738226861477805
         },
         {
          "X": -5.404929063858722,
          "Y": 0.01741101043832506
         },
         {
          "X": -5.272208079983216,
          "Y": 0.009672783576847256
         },
         {
          "X": -5.139487096107709,
          "Y": 0.05029847459960571
         },
         {
          "X": -5.006766112232204,
          "Y": 0.0657749283225613
         },
         {
          "X": -4.8740451283566975,
          "Y": 0.10059694919921136
         },
         {
          "X": -4.741324144481192,
          "Y": 0.1354189700758615
         },
         {
          "X": -4.608603160605686,
          "Y": 0.1508954237988172
         },
         {
          "X": -4.475882176730179,
          "Y": 0.2747070535824628
         },
         {
          "X": -4.343161192854674,
          "Y": 0.3095290744591131
         },
         {
          "X": -4.210440208979168,
          "Y": 0.4817046221269952
         },
         {
          "X": -4.077719225103662,
          "Y": 0.5726287877493599
         },
         {
          "X": -3.944998241228156,
          "Y": 0.7506080055633504
         },
         {
          "X": -3.81227725735265,
          "Y": 1.0137077188535972
         },
         {
          "X": -3.6795562734771443,
          "Y": 1.226508957544238
         },
         {
          "X": -3.5468352896016384,
          "Y": 1.5263652484265047
         },
         {
          "X": -3.414114305726132,
          "Y": 1.7855958482860126
         },
         {
          "X": -3.281393321850626,
          "Y": 2.21119832566727
         },
         {
          "X": -3.1486723379751203,
          "Y": 2.580698658302795
         },
         {
          "X": -3.0159513540996143,
          "Y": 2.911507856630935
         },
         {
          "X": -2.8832303702241084,
          "Y": 3.4299690563498912
         },
         {
          "X": -2.7505093863486025,
          "Y": 3.749170914385816
         },
         {
          "X": -2.6177884024730966,
          "Y": 4.238613763374234
         },
         {
          "X": -2.485067418597591,
          "Y": 4.5732920751331125
         },
         {
          "X": -2.352346434722085,
          "Y": 4.894428489884406
         },
         {
          "X": -2.2196254508465785,
          "Y": 4.858108234010197
         },
         {
          "X": -2.086904466971073,
          "Y": 5.142051749451669
         },
         {
          "X": -1.9541834830955667,
          "Y": 4.996959995798976
         },
         {
          "X": -1.8214624992200612,
          "Y": 5.1207716255826075
         },
         {
          "X": -1.6887415153445549,
          "Y": 4.943665051204249
         },
         {
          "X": -1.5560205314690494,
          "Y": 4.7590673018380745
         },
         {
          "X": -1.423299547593543,
          "Y": 4.337959529449533
         },
         {
          "X": -1.2905785637180376,
          "Y": 3.978379032264515
         },
         {
          "X": -1.1578575798425312,
          "Y": 3.6306529272453676
         },
         {
          "X": -1.0251365959670258,
          "Y": 3.282679770352568
         },
         {
          "X": -0.8924156120915194,
          "Y": 3.060074260270476
         },
         {
          "X": -0.759694628216014,
          "Y": 2.5653218448832633
         },
         {
          "X": -0.6269736443405076,
          "Y": 2.3782058055136766
         },
         {
          "X": -0.49425266046500216,
          "Y": 2.1976664394223837
         },
         {
          "X": -0.3615316765894958,
          "Y": 2.198186477688003
         },
         {
          "X": -0.22881069271398946,
          "Y": 2.1433614505844996
         },
         {
          "X": -0.096089708838484,
          "Y": 2.161934014606002
         },
         {
          "X": 0.03663127503702235,
          "Y": 2.3680689504776113
         },
         {
          "X": 0.1693522589125278,
          "Y": 2.657826146827921
         },
         {
          "X": 0.30207324278803416,
          "Y": 3.046229811906466
         },
         {
          "X": 0.4347942266635396,
          "Y": 3.6321316080412416
         },
         {
          "X": 0.567515210539046,
          "Y": 4.147401154928062
         },
         {
          "X": 0.7002361944145514,
          "Y": 4.975353668601989
         },
         {
          "X": 0.8329571782900578,
          "Y": 5.850287429221613
         },
         {
          "X": 0.9656781621655632,
          "Y": 6.575403603077795
         },
         {
          "X": 1.0983991460410696,
          "Y": 7.96156445106492
         },
         {
          "X": 1.231120129916575,
          "Y": 8.562827136863673
         },
         {
          "X": 1.3638411137920805,
          "Y": 9.435332237020786
         },
         {
          "X": 1.4965620976675869,
          "Y": 10.225161425919927
         },
         {
          "X": 1.6292830815430914,
          "Y": 10.55368346236278
         },
         {
          "X": 1.7620040654185978,
          "Y": 10.859805679627296
         },
         {
          "X": 1.8947250492941041,
          "Y": 10.956896131328467
         },
         {
          "X": 2.0274460331696105,
          "Y": 11.299396386496714
         },
         {
          "X": 2.160167017045117,
          "Y": 11.168298775324986
         },
         {
          "X": 2.2928880009206214,
          "Y": 11.13816072928517
         },
         {
          "X": 2.4256089847961277,
          "Y": 10.763587871361738
         },
         {
          "X": 2.558329968671634,
          "Y": 9.743199741156525
         },
         {
          "X": 2.6910509525471404,
          "Y": 8.989748590161115
         },
         {
          "X": 2.823771936422645,
          "Y": 8.14157786589771
         },
         {
          "X": 2.9564929202981514,
          "Y": 7.306323447080086
         },
         {
          "X": 3.0892139041736577,
          "Y": 6.423709241628502
         },
         {
          "X": 3.221934888049164,
          "Y": 5.394710241126411
         },
         {
          "X": 3.3546558719246686,
          "Y": 4.731673228250587
         },
         {
          "X": 3.487376855800175,
          "Y": 3.7629503198280925
         },
         {
          "X": 3.6200978396756813,
          "Y": 2.9320013361589545
         },
         {
          "X": 3.7528188235511877,
          "Y": 2.4196545534821285
         },
         {
          "X": 3.8855398074266922,
          "Y": 1.8427262435771314
         },
         {
          "X": 4.018260791302199,
          "Y": 1.5069023019906405
         },
         {
          "X": 4.150981775177705,
          "Y": 1.1538566198099705
         },
         {
          "X": 4.283702759053211,
          "Y": 0.8610870297089306
         },
         {
          "X": 4.416423742928718,
          "Y": 0.5683174396078947
         },
         {
          "X": 4.549144726804222,
          "Y": 0.44345982030009995
         },
         {
          "X": 4.681865710679729,
          "Y": 0.32721307128939453
         },
         {
          "X": 4.814586694555235,
          "Y": 0.27124241435831414
         },
         {
          "X": 4.947307678430741,
          "Y": 0.16360653564469746
         },
         {
          "X": 5.080028662306246,
          "Y": 0.14638479505051877
         },
         {
          "X": 5.212749646181752,
          "Y": 0.05166522178253599
         },
         {
          "X": 5.3454706300572585,
          "Y": 0.047359786633991326
         },
         {
          "X": 5.478191613932765,
          "Y": 0.02152717574272333
         },
         {
          "X": 5.6109125978082695,
          "Y": 0.012916305445633998
         },
         {
          "X": 5.743633581683776,
          "Y": 0.004305435148544666
         },
         {
          "X": 5.876354565559282,
          "Y": 0.012916305445633998
         },
         {
          "X": 6.0090755494347885,
          "Y": 0
         },
         {
          "X": 6.141796533310295,
          "Y": 0
         },
         {
          "X": 6.274517517185799,
          "Y": 0.004305435148544666
         },
         {
          "X": 6.407238501061306,
          "Y": 0
         },
         {
          "X": 6.539959484936812,
          "Y": 0.004305435148544666
         }
        ]
       },
       "encoding": {
        "x": {
         "field": "X",
         "type": "quantitative"
        },
        "y": {
         "field": "Y",
         "type": "quantitative"
        }
       },
       "height": 400,
       "mark": "bar",
       "width": 400
      },
      "image/png": "[encoded data removed]"
     },
     "metadata": {},
     "output_type": "display_data"
    }
   ],
   "source": [
    "sampler $ plot . histogramToList . histogram 100 <$> replicateM 100000 (weighted $ posteriorPredictive model [0.1,0.1])"
   ]
  },
  {
   "cell_type": "markdown",
   "id": "d3c062c3-e5f8-4a72-b631-0635a6730b25",
   "metadata": {},
   "source": [
    "# Regression\n",
    "\n",
    "And now an example with a regression:"
   ]
  },
  {
   "cell_type": "code",
   "execution_count": 18,
   "id": "080d34a0-3324-4bf2-bb25-72b06db1f342",
   "metadata": {},
   "outputs": [],
   "source": [
    ":e BlockArguments \n",
    "\n",
    "range :: [Double]\n",
    "range = [-10,-9.9..10] \n",
    "\n",
    "\n",
    "regression :: MonadDistribution m => Bayesian m (Double, Double, Double) [Double]\n",
    "regression = Bayesian {\n",
    "    prior = do \n",
    "            slope <- normal 0 2\n",
    "            intercept <- normal 0 2\n",
    "            noise <- gamma 4 4\n",
    "            return (slope, intercept, noise),\n",
    "    \n",
    "    generative = \\(slope, intercept, noise) -> do\n",
    "            forM range \\x -> normal (x*slope + intercept) (sqrt noise),\n",
    "            \n",
    "    likelihood = \\(slope, intercept, noise) ys -> Prelude.sum [normalPdf (x*slope + intercept) (sqrt noise) y | (x,y) <- zip range ys] \n",
    "                \n",
    "    }\n"
   ]
  },
  {
   "cell_type": "code",
   "execution_count": 19,
   "id": "0621fc17-5c64-409b-9d08-d52b067b8dcd",
   "metadata": {},
   "outputs": [
    {
     "data": {
      "application/vnd.vegalite.v4+json": {
       "$schema": "https://vega.github.io/schema/vega-lite/v4.json",
       "data": {
        "values": [
         {
          "Outlier": "\"\\\"N/A\\\"\"",
          "X": -10,
          "Y": 0.9149985362905646
         },
         {
          "Outlier": "\"\\\"N/A\\\"\"",
          "X": -9.9,
          "Y": -9.099601521172838
         },
         {
          "Outlier": "\"\\\"N/A\\\"\"",
          "X": -9.8,
          "Y": -6.991681637999146
         },
         {
          "Outlier": "\"\\\"N/A\\\"\"",
          "X": -9.700000000000001,
          "Y": -12.37317128350794
         },
         {
          "Outlier": "\"\\\"N/A\\\"\"",
          "X": -9.600000000000001,
          "Y": -6.597756475987049
         },
         {
          "Outlier": "\"\\\"N/A\\\"\"",
          "X": -9.500000000000002,
          "Y": -2.3695283726126535
         },
         {
          "Outlier": "\"\\\"N/A\\\"\"",
          "X": -9.400000000000002,
          "Y": -8.037941208363774
         },
         {
          "Outlier": "\"\\\"N/A\\\"\"",
          "X": -9.300000000000002,
          "Y": -9.977200071306209
         },
         {
          "Outlier": "\"\\\"N/A\\\"\"",
          "X": -9.200000000000003,
          "Y": -18.04196725010668
         },
         {
          "Outlier": "\"\\\"N/A\\\"\"",
          "X": -9.100000000000003,
          "Y": -7.219622449811464
         },
         {
          "Outlier": "\"\\\"N/A\\\"\"",
          "X": -9.000000000000004,
          "Y": -12.876599982349639
         },
         {
          "Outlier": "\"\\\"N/A\\\"\"",
          "X": -8.900000000000004,
          "Y": -4.67418924916319
         },
         {
          "Outlier": "\"\\\"N/A\\\"\"",
          "X": -8.800000000000004,
          "Y": -12.617683614528522
         },
         {
          "Outlier": "\"\\\"N/A\\\"\"",
          "X": -8.700000000000005,
          "Y": -5.612437079689643
         },
         {
          "Outlier": "\"\\\"N/A\\\"\"",
          "X": -8.600000000000005,
          "Y": -11.719542667267255
         },
         {
          "Outlier": "\"\\\"N/A\\\"\"",
          "X": -8.500000000000005,
          "Y": -5.489959153562279
         },
         {
          "Outlier": "\"\\\"N/A\\\"\"",
          "X": -8.400000000000006,
          "Y": -7.002968359605236
         },
         {
          "Outlier": "\"\\\"N/A\\\"\"",
          "X": -8.300000000000006,
          "Y": -4.457442295642288
         },
         {
          "Outlier": "\"\\\"N/A\\\"\"",
          "X": -8.200000000000006,
          "Y": -2.353493682724327
         },
         {
          "Outlier": "\"\\\"N/A\\\"\"",
          "X": -8.100000000000007,
          "Y": -7.605356473726589
         },
         {
          "Outlier": "\"\\\"N/A\\\"\"",
          "X": -8.000000000000007,
          "Y": -8.45142682155079
         },
         {
          "Outlier": "\"\\\"N/A\\\"\"",
          "X": -7.9000000000000075,
          "Y": -1.1091322860759796
         },
         {
          "Outlier": "\"\\\"N/A\\\"\"",
          "X": -7.800000000000008,
          "Y": -4.452778841193916
         },
         {
          "Outlier": "\"\\\"N/A\\\"\"",
          "X": -7.700000000000008,
          "Y": -6.669427014703762
         },
         {
          "Outlier": "\"\\\"N/A\\\"\"",
          "X": -7.6000000000000085,
          "Y": -9.094462854480069
         },
         {
          "Outlier": "\"\\\"N/A\\\"\"",
          "X": -7.500000000000009,
          "Y": -7.610779228030864
         },
         {
          "Outlier": "\"\\\"N/A\\\"\"",
          "X": -7.400000000000009,
          "Y": -2.276325853013667
         },
         {
          "Outlier": "\"\\\"N/A\\\"\"",
          "X": -7.30000000000001,
          "Y": -6.2440248087188115
         },
         {
          "Outlier": "\"\\\"N/A\\\"\"",
          "X": -7.20000000000001,
          "Y": -2.082394092928018
         },
         {
          "Outlier": "\"\\\"N/A\\\"\"",
          "X": -7.10000000000001,
          "Y": -3.3992831153724428
         },
         {
          "Outlier": "\"\\\"N/A\\\"\"",
          "X": -7.000000000000011,
          "Y": -6.3298737458691345
         },
         {
          "Outlier": "\"\\\"N/A\\\"\"",
          "X": -6.900000000000011,
          "Y": -3.869735250428709
         },
         {
          "Outlier": "\"\\\"N/A\\\"\"",
          "X": -6.800000000000011,
          "Y": -3.4760190437062843
         },
         {
          "Outlier": "\"\\\"N/A\\\"\"",
          "X": -6.700000000000012,
          "Y": -9.506262389015287
         },
         {
          "Outlier": "\"\\\"N/A\\\"\"",
          "X": -6.600000000000012,
          "Y": -4.987609567365924
         },
         {
          "Outlier": "\"\\\"N/A\\\"\"",
          "X": -6.500000000000012,
          "Y": -7.362799566915598
         },
         {
          "Outlier": "\"\\\"N/A\\\"\"",
          "X": -6.400000000000013,
          "Y": -9.809836004127963
         },
         {
          "Outlier": "\"\\\"N/A\\\"\"",
          "X": -6.300000000000013,
          "Y": -1.961060438638941
         },
         {
          "Outlier": "\"\\\"N/A\\\"\"",
          "X": -6.2000000000000135,
          "Y": -11.840390991730569
         },
         {
          "Outlier": "\"\\\"N/A\\\"\"",
          "X": -6.100000000000014,
          "Y": 0.49309302957154166
         },
         {
          "Outlier": "\"\\\"N/A\\\"\"",
          "X": -6.000000000000014,
          "Y": -1.7478677310238053
         },
         {
          "Outlier": "\"\\\"N/A\\\"\"",
          "X": -5.900000000000015,
          "Y": -5.913338711498875
         },
         {
          "Outlier": "\"\\\"N/A\\\"\"",
          "X": -5.800000000000015,
          "Y": -7.392893583259703
         },
         {
          "Outlier": "\"\\\"N/A\\\"\"",
          "X": -5.700000000000015,
          "Y": -7.5075049155832465
         },
         {
          "Outlier": "\"\\\"N/A\\\"\"",
          "X": -5.600000000000016,
          "Y": -1.0396954572842723
         },
         {
          "Outlier": "\"\\\"N/A\\\"\"",
          "X": -5.500000000000016,
          "Y": -1.9363768240671426
         },
         {
          "Outlier": "\"\\\"N/A\\\"\"",
          "X": -5.400000000000016,
          "Y": -2.4135025175717026
         },
         {
          "Outlier": "\"\\\"N/A\\\"\"",
          "X": -5.300000000000017,
          "Y": -1.4879281379564224
         },
         {
          "Outlier": "\"\\\"N/A\\\"\"",
          "X": -5.200000000000017,
          "Y": 2.988927060320486
         },
         {
          "Outlier": "\"\\\"N/A\\\"\"",
          "X": -5.100000000000017,
          "Y": -2.603401018932971
         },
         {
          "Outlier": "\"\\\"N/A\\\"\"",
          "X": -5.000000000000018,
          "Y": -0.8851932314445832
         },
         {
          "Outlier": "\"\\\"N/A\\\"\"",
          "X": -4.900000000000018,
          "Y": -10.883698455197257
         },
         {
          "Outlier": "\"\\\"N/A\\\"\"",
          "X": -4.8000000000000185,
          "Y": -5.449376064219731
         },
         {
          "Outlier": "\"\\\"N/A\\\"\"",
          "X": -4.700000000000019,
          "Y": -4.515598574987599
         },
         {
          "Outlier": "\"\\\"N/A\\\"\"",
          "X": -4.600000000000019,
          "Y": -3.4372664265988453
         },
         {
          "Outlier": "\"\\\"N/A\\\"\"",
          "X": -4.5000000000000195,
          "Y": -6.4388663756370565
         },
         {
          "Outlier": "\"\\\"N/A\\\"\"",
          "X": -4.40000000000002,
          "Y": -7.156037674930109
         },
         {
          "Outlier": "\"\\\"N/A\\\"\"",
          "X": -4.30000000000002,
          "Y": 0.984282637959009
         },
         {
          "Outlier": "\"\\\"N/A\\\"\"",
          "X": -4.200000000000021,
          "Y": 1.2183024284112989
         },
         {
          "Outlier": "\"\\\"N/A\\\"\"",
          "X": -4.100000000000021,
          "Y": -5.636739439780894
         },
         {
          "Outlier": "\"\\\"N/A\\\"\"",
          "X": -4.000000000000021,
          "Y": -1.528201322702852
         },
         {
          "Outlier": "\"\\\"N/A\\\"\"",
          "X": -3.9000000000000217,
          "Y": -2.0405466839353417
         },
         {
          "Outlier": "\"\\\"N/A\\\"\"",
          "X": -3.800000000000022,
          "Y": -5.949254984559852
         },
         {
          "Outlier": "\"\\\"N/A\\\"\"",
          "X": -3.7000000000000224,
          "Y": -8.010662504627986
         },
         {
          "Outlier": "\"\\\"N/A\\\"\"",
          "X": -3.6000000000000227,
          "Y": -2.785347770404277
         },
         {
          "Outlier": "\"\\\"N/A\\\"\"",
          "X": -3.500000000000023,
          "Y": -1.8703326752046163
         },
         {
          "Outlier": "\"\\\"N/A\\\"\"",
          "X": -3.4000000000000234,
          "Y": 7.728911369259278
         },
         {
          "Outlier": "\"\\\"N/A\\\"\"",
          "X": -3.300000000000024,
          "Y": -6.6514310158956125
         },
         {
          "Outlier": "\"\\\"N/A\\\"\"",
          "X": -3.200000000000024,
          "Y": -2.0548181224988222
         },
         {
          "Outlier": "\"\\\"N/A\\\"\"",
          "X": -3.1000000000000245,
          "Y": -0.1745603288125226
         },
         {
          "Outlier": "\"\\\"N/A\\\"\"",
          "X": -3.000000000000025,
          "Y": -0.8878959714147658
         },
         {
          "Outlier": "\"\\\"N/A\\\"\"",
          "X": -2.9000000000000252,
          "Y": 1.781591930603334
         },
         {
          "Outlier": "\"\\\"N/A\\\"\"",
          "X": -2.8000000000000256,
          "Y": -1.4526841057474764
         },
         {
          "Outlier": "\"\\\"N/A\\\"\"",
          "X": -2.700000000000026,
          "Y": -1.7839658464092576
         },
         {
          "Outlier": "\"\\\"N/A\\\"\"",
          "X": -2.6000000000000263,
          "Y": -2.893524489509729
         },
         {
          "Outlier": "\"\\\"N/A\\\"\"",
          "X": -2.5000000000000266,
          "Y": -1.5241606465441087
         },
         {
          "Outlier": "\"\\\"N/A\\\"\"",
          "X": -2.400000000000027,
          "Y": -1.9971923268915552
         },
         {
          "Outlier": "\"\\\"N/A\\\"\"",
          "X": -2.3000000000000274,
          "Y": -6.751668437323701
         },
         {
          "Outlier": "\"\\\"N/A\\\"\"",
          "X": -2.2000000000000277,
          "Y": 6.507965715308357
         },
         {
          "Outlier": "\"\\\"N/A\\\"\"",
          "X": -2.100000000000028,
          "Y": -9.286470259052395
         },
         {
          "Outlier": "\"\\\"N/A\\\"\"",
          "X": -2.0000000000000284,
          "Y": 2.994012929371919
         },
         {
          "Outlier": "\"\\\"N/A\\\"\"",
          "X": -1.9000000000000288,
          "Y": 0.1766264022904256
         },
         {
          "Outlier": "\"\\\"N/A\\\"\"",
          "X": -1.8000000000000291,
          "Y": -5.881782021348288
         },
         {
          "Outlier": "\"\\\"N/A\\\"\"",
          "X": -1.7000000000000295,
          "Y": 4.628248044591027
         },
         {
          "Outlier": "\"\\\"N/A\\\"\"",
          "X": -1.6000000000000298,
          "Y": -3.252982098265032
         },
         {
          "Outlier": "\"\\\"N/A\\\"\"",
          "X": -1.5000000000000302,
          "Y": -10.113771766190673
         },
         {
          "Outlier": "\"\\\"N/A\\\"\"",
          "X": -1.4000000000000306,
          "Y": 2.339042120457234
         },
         {
          "Outlier": "\"\\\"N/A\\\"\"",
          "X": -1.300000000000031,
          "Y": -2.9657320968611387
         },
         {
          "Outlier": "\"\\\"N/A\\\"\"",
          "X": -1.2000000000000313,
          "Y": -0.9590293247471461
         },
         {
          "Outlier": "\"\\\"N/A\\\"\"",
          "X": -1.1000000000000316,
          "Y": -0.6248691876435576
         },
         {
          "Outlier": "\"\\\"N/A\\\"\"",
          "X": -1.000000000000032,
          "Y": -1.7697792396063332
         },
         {
          "Outlier": "\"\\\"N/A\\\"\"",
          "X": -0.9000000000000323,
          "Y": -3.0973488612520077
         },
         {
          "Outlier": "\"\\\"N/A\\\"\"",
          "X": -0.8000000000000327,
          "Y": -5.8750284477036985
         },
         {
          "Outlier": "\"\\\"N/A\\\"\"",
          "X": -0.700000000000033,
          "Y": -3.8233344248251377
         },
         {
          "Outlier": "\"\\\"N/A\\\"\"",
          "X": -0.6000000000000334,
          "Y": 2.747503681832467
         },
         {
          "Outlier": "\"\\\"N/A\\\"\"",
          "X": -0.5000000000000338,
          "Y": 4.510395103381043
         },
         {
          "Outlier": "\"\\\"N/A\\\"\"",
          "X": -0.4000000000000341,
          "Y": -6.324432018438907
         },
         {
          "Outlier": "\"\\\"N/A\\\"\"",
          "X": -0.30000000000003446,
          "Y": 0.2482115762667585
         },
         {
          "Outlier": "\"\\\"N/A\\\"\"",
          "X": -0.20000000000003482,
          "Y": 1.4507810689239407
         },
         {
          "Outlier": "\"\\\"N/A\\\"\"",
          "X": -0.10000000000003517,
          "Y": -5.59153701576776
         },
         {
          "Outlier": "\"\\\"N/A\\\"\"",
          "X": -3.552713678800501e-14,
          "Y": 1.063777522389079
         },
         {
          "Outlier": "\"\\\"N/A\\\"\"",
          "X": 0.09999999999996412,
          "Y": 0.13539009394006396
         },
         {
          "Outlier": "\"\\\"N/A\\\"\"",
          "X": 0.19999999999996376,
          "Y": -2.218641543020304
         },
         {
          "Outlier": "\"\\\"N/A\\\"\"",
          "X": 0.2999999999999634,
          "Y": -4.749578911338322
         },
         {
          "Outlier": "\"\\\"N/A\\\"\"",
          "X": 0.39999999999996305,
          "Y": -0.9579708421973047
         },
         {
          "Outlier": "\"\\\"N/A\\\"\"",
          "X": 0.4999999999999627,
          "Y": 1.076882863641478
         },
         {
          "Outlier": "\"\\\"N/A\\\"\"",
          "X": 0.5999999999999623,
          "Y": -1.9376271561726484
         },
         {
          "Outlier": "\"\\\"N/A\\\"\"",
          "X": 0.699999999999962,
          "Y": -2.011527670739152
         },
         {
          "Outlier": "\"\\\"N/A\\\"\"",
          "X": 0.7999999999999616,
          "Y": 0.7503862212750775
         },
         {
          "Outlier": "\"\\\"N/A\\\"\"",
          "X": 0.8999999999999613,
          "Y": -3.592348797744693
         },
         {
          "Outlier": "\"\\\"N/A\\\"\"",
          "X": 0.9999999999999609,
          "Y": 1.989850363984503
         },
         {
          "Outlier": "\"\\\"N/A\\\"\"",
          "X": 1.0999999999999606,
          "Y": 0.22635328804493637
         },
         {
          "Outlier": "\"\\\"N/A\\\"\"",
          "X": 1.1999999999999602,
          "Y": -12.56900841060432
         },
         {
          "Outlier": "\"\\\"N/A\\\"\"",
          "X": 1.2999999999999599,
          "Y": 3.3894028985878055
         },
         {
          "Outlier": "\"\\\"N/A\\\"\"",
          "X": 1.3999999999999595,
          "Y": 4.383858481948211
         },
         {
          "Outlier": "\"\\\"N/A\\\"\"",
          "X": 1.4999999999999591,
          "Y": 1.1407628206369742
         },
         {
          "Outlier": "\"\\\"N/A\\\"\"",
          "X": 1.5999999999999588,
          "Y": 0.4091547999540429
         },
         {
          "Outlier": "\"\\\"N/A\\\"\"",
          "X": 1.6999999999999584,
          "Y": 0.48044317270223186
         },
         {
          "Outlier": "\"\\\"N/A\\\"\"",
          "X": 1.799999999999958,
          "Y": 6.129088231259668
         },
         {
          "Outlier": "\"\\\"N/A\\\"\"",
          "X": 1.8999999999999577,
          "Y": 1.800597619131442
         },
         {
          "Outlier": "\"\\\"N/A\\\"\"",
          "X": 1.9999999999999574,
          "Y": 1.4719599073130132
         },
         {
          "Outlier": "\"\\\"N/A\\\"\"",
          "X": 2.099999999999957,
          "Y": -3.9120587224966794
         },
         {
          "Outlier": "\"\\\"N/A\\\"\"",
          "X": 2.1999999999999567,
          "Y": 3.5824056328620033
         },
         {
          "Outlier": "\"\\\"N/A\\\"\"",
          "X": 2.2999999999999563,
          "Y": 3.230697032246899
         },
         {
          "Outlier": "\"\\\"N/A\\\"\"",
          "X": 2.399999999999956,
          "Y": 0.7605195611430632
         },
         {
          "Outlier": "\"\\\"N/A\\\"\"",
          "X": 2.4999999999999556,
          "Y": -0.6439897969047144
         },
         {
          "Outlier": "\"\\\"N/A\\\"\"",
          "X": 2.5999999999999552,
          "Y": -1.067296000309734
         },
         {
          "Outlier": "\"\\\"N/A\\\"\"",
          "X": 2.699999999999955,
          "Y": 6.089556820286518
         },
         {
          "Outlier": "\"\\\"N/A\\\"\"",
          "X": 2.7999999999999545,
          "Y": 4.26420075523084
         },
         {
          "Outlier": "\"\\\"N/A\\\"\"",
          "X": 2.899999999999954,
          "Y": 5.63364661305857
         },
         {
          "Outlier": "\"\\\"N/A\\\"\"",
          "X": 2.999999999999954,
          "Y": -0.9130451002644713
         },
         {
          "Outlier": "\"\\\"N/A\\\"\"",
          "X": 3.0999999999999535,
          "Y": 6.890721806255842
         },
         {
          "Outlier": "\"\\\"N/A\\\"\"",
          "X": 3.199999999999953,
          "Y": 4.196974500268628
         },
         {
          "Outlier": "\"\\\"N/A\\\"\"",
          "X": 3.2999999999999527,
          "Y": 1.6686942048934368
         },
         {
          "Outlier": "\"\\\"N/A\\\"\"",
          "X": 3.3999999999999524,
          "Y": 2.000728544567102
         },
         {
          "Outlier": "\"\\\"N/A\\\"\"",
          "X": 3.499999999999952,
          "Y": -2.052721165326269
         },
         {
          "Outlier": "\"\\\"N/A\\\"\"",
          "X": 3.5999999999999517,
          "Y": 3.533247218847841
         },
         {
          "Outlier": "\"\\\"N/A\\\"\"",
          "X": 3.6999999999999513,
          "Y": 3.572906549233019
         },
         {
          "Outlier": "\"\\\"N/A\\\"\"",
          "X": 3.799999999999951,
          "Y": 6.1533324217813705
         },
         {
          "Outlier": "\"\\\"N/A\\\"\"",
          "X": 3.8999999999999506,
          "Y": 7.338186920300952
         },
         {
          "Outlier": "\"\\\"N/A\\\"\"",
          "X": 3.9999999999999503,
          "Y": 1.81268475513764
         },
         {
          "Outlier": "\"\\\"N/A\\\"\"",
          "X": 4.09999999999995,
          "Y": 4.006266955189373
         },
         {
          "Outlier": "\"\\\"N/A\\\"\"",
          "X": 4.1999999999999496,
          "Y": -3.202937422834627
         },
         {
          "Outlier": "\"\\\"N/A\\\"\"",
          "X": 4.299999999999949,
          "Y": 6.903771419040778
         },
         {
          "Outlier": "\"\\\"N/A\\\"\"",
          "X": 4.399999999999949,
          "Y": 0.390389330500452
         },
         {
          "Outlier": "\"\\\"N/A\\\"\"",
          "X": 4.4999999999999485,
          "Y": -0.4032711650379528
         },
         {
          "Outlier": "\"\\\"N/A\\\"\"",
          "X": 4.599999999999948,
          "Y": -5.709976534408859
         },
         {
          "Outlier": "\"\\\"N/A\\\"\"",
          "X": 4.699999999999948,
          "Y": 0.2650973720031047
         },
         {
          "Outlier": "\"\\\"N/A\\\"\"",
          "X": 4.799999999999947,
          "Y": 0.9509968728692335
         },
         {
          "Outlier": "\"\\\"N/A\\\"\"",
          "X": 4.899999999999947,
          "Y": 1.5709896477332426
         },
         {
          "Outlier": "\"\\\"N/A\\\"\"",
          "X": 4.999999999999947,
          "Y": 1.5164518934182674
         },
         {
          "Outlier": "\"\\\"N/A\\\"\"",
          "X": 5.099999999999946,
          "Y": -0.8347849630961202
         },
         {
          "Outlier": "\"\\\"N/A\\\"\"",
          "X": 5.199999999999946,
          "Y": -1.98003339168848
         },
         {
          "Outlier": "\"\\\"N/A\\\"\"",
          "X": 5.299999999999946,
          "Y": 6.998372546749332
         },
         {
          "Outlier": "\"\\\"N/A\\\"\"",
          "X": 5.399999999999945,
          "Y": 5.200326211549772
         },
         {
          "Outlier": "\"\\\"N/A\\\"\"",
          "X": 5.499999999999945,
          "Y": 5.53474097673067
         },
         {
          "Outlier": "\"\\\"N/A\\\"\"",
          "X": 5.599999999999945,
          "Y": 2.3888108967252015
         },
         {
          "Outlier": "\"\\\"N/A\\\"\"",
          "X": 5.699999999999944,
          "Y": 2.507875443718864
         },
         {
          "Outlier": "\"\\\"N/A\\\"\"",
          "X": 5.799999999999944,
          "Y": 1.9679753094028887
         },
         {
          "Outlier": "\"\\\"N/A\\\"\"",
          "X": 5.8999999999999435,
          "Y": -6.689765282515641
         },
         {
          "Outlier": "\"\\\"N/A\\\"\"",
          "X": 5.999999999999943,
          "Y": 2.6492977408017913
         },
         {
          "Outlier": "\"\\\"N/A\\\"\"",
          "X": 6.099999999999945,
          "Y": 9.692841883729082
         },
         {
          "Outlier": "\"\\\"N/A\\\"\"",
          "X": 6.1999999999999424,
          "Y": 3.9329054965267423
         },
         {
          "Outlier": "\"\\\"N/A\\\"\"",
          "X": 6.29999999999994,
          "Y": 0.9590778991767599
         },
         {
          "Outlier": "\"\\\"N/A\\\"\"",
          "X": 6.399999999999942,
          "Y": 8.31563471518313
         },
         {
          "Outlier": "\"\\\"N/A\\\"\"",
          "X": 6.499999999999943,
          "Y": 6.563759075963176
         },
         {
          "Outlier": "\"\\\"N/A\\\"\"",
          "X": 6.599999999999941,
          "Y": 4.7190554197511565
         },
         {
          "Outlier": "\"\\\"N/A\\\"\"",
          "X": 6.699999999999939,
          "Y": 6.192610770645823
         },
         {
          "Outlier": "\"\\\"N/A\\\"\"",
          "X": 6.79999999999994,
          "Y": 6.532187289783664
         },
         {
          "Outlier": "\"\\\"N/A\\\"\"",
          "X": 6.899999999999942,
          "Y": -4.7579536798768665
         },
         {
          "Outlier": "\"\\\"N/A\\\"\"",
          "X": 6.99999999999994,
          "Y": 1.0382207657332705
         },
         {
          "Outlier": "\"\\\"N/A\\\"\"",
          "X": 7.0999999999999375,
          "Y": 2.5774788843061858
         },
         {
          "Outlier": "\"\\\"N/A\\\"\"",
          "X": 7.199999999999939,
          "Y": 5.533715036924792
         },
         {
          "Outlier": "\"\\\"N/A\\\"\"",
          "X": 7.29999999999994,
          "Y": 2.556778233175157
         },
         {
          "Outlier": "\"\\\"N/A\\\"\"",
          "X": 7.399999999999938,
          "Y": 3.267965579067964
         },
         {
          "Outlier": "\"\\\"N/A\\\"\"",
          "X": 7.499999999999936,
          "Y": 7.174773608841763
         },
         {
          "Outlier": "\"\\\"N/A\\\"\"",
          "X": 7.5999999999999375,
          "Y": -0.04471749692430649
         },
         {
          "Outlier": "\"\\\"N/A\\\"\"",
          "X": 7.699999999999939,
          "Y": 3.3021992575879997
         },
         {
          "Outlier": "\"\\\"N/A\\\"\"",
          "X": 7.799999999999937,
          "Y": 5.569206106896677
         },
         {
          "Outlier": "\"\\\"N/A\\\"\"",
          "X": 7.899999999999935,
          "Y": 1.7136920493131735
         },
         {
          "Outlier": "\"\\\"N/A\\\"\"",
          "X": 7.999999999999936,
          "Y": 9.696478841581367
         },
         {
          "Outlier": "\"\\\"N/A\\\"\"",
          "X": 8.099999999999937,
          "Y": 6.33385867201846
         },
         {
          "Outlier": "\"\\\"N/A\\\"\"",
          "X": 8.199999999999935,
          "Y": 4.684842479849334
         },
         {
          "Outlier": "\"\\\"N/A\\\"\"",
          "X": 8.299999999999933,
          "Y": -4.917284851593544
         },
         {
          "Outlier": "\"\\\"N/A\\\"\"",
          "X": 8.399999999999935,
          "Y": 7.628313313859472
         },
         {
          "Outlier": "\"\\\"N/A\\\"\"",
          "X": 8.499999999999936,
          "Y": 7.669699278392394
         },
         {
          "Outlier": "\"\\\"N/A\\\"\"",
          "X": 8.599999999999934,
          "Y": 3.726341837719022
         },
         {
          "Outlier": "\"\\\"N/A\\\"\"",
          "X": 8.699999999999932,
          "Y": 4.4137162415703495
         },
         {
          "Outlier": "\"\\\"N/A\\\"\"",
          "X": 8.799999999999933,
          "Y": 7.628454027788002
         },
         {
          "Outlier": "\"\\\"N/A\\\"\"",
          "X": 8.899999999999935,
          "Y": 0.05507300739281806
         },
         {
          "Outlier": "\"\\\"N/A\\\"\"",
          "X": 8.999999999999932,
          "Y": 2.4086256784654854
         },
         {
          "Outlier": "\"\\\"N/A\\\"\"",
          "X": 9.09999999999993,
          "Y": 10.751109763786522
         },
         {
          "Outlier": "\"\\\"N/A\\\"\"",
          "X": 9.199999999999932,
          "Y": 5.618568370008445
         },
         {
          "Outlier": "\"\\\"N/A\\\"\"",
          "X": 9.299999999999933,
          "Y": 3.5659706751354707
         },
         {
          "Outlier": "\"\\\"N/A\\\"\"",
          "X": 9.399999999999931,
          "Y": 10.006531845932752
         },
         {
          "Outlier": "\"\\\"N/A\\\"\"",
          "X": 9.499999999999929,
          "Y": -0.5854511271957996
         },
         {
          "Outlier": "\"\\\"N/A\\\"\"",
          "X": 9.59999999999993,
          "Y": 8.469760381187307
         },
         {
          "Outlier": "\"\\\"N/A\\\"\"",
          "X": 9.699999999999932,
          "Y": -0.4827656018729991
         },
         {
          "Outlier": "\"\\\"N/A\\\"\"",
          "X": 9.79999999999993,
          "Y": -3.1347837954437674
         },
         {
          "Outlier": "\"\\\"N/A\\\"\"",
          "X": 9.899999999999928,
          "Y": 7.308122651002963
         },
         {
          "Outlier": "\"\\\"N/A\\\"\"",
          "X": 9.999999999999929,
          "Y": 2.6942332911701214
         }
        ]
       },
       "encoding": {
        "color": {
         "field": "Outlier"
        },
        "x": {
         "field": "X",
         "type": "quantitative"
        },
        "y": {
         "field": "Y",
         "type": "quantitative"
        }
       },
       "height": 400,
       "mark": "circle",
       "width": 400
      },
      "image/png": "[encoded data removed]"
     },
     "metadata": {},
     "output_type": "display_data"
    }
   ],
   "source": [
    "ys <- sampler $ priorPredictive regression\n",
    "\n",
    "plot (fmap (second (T.pack . show)) (zip (zip range ys) (Prelude.repeat \"N/A\")))"
   ]
  },
  {
   "cell_type": "code",
   "execution_count": null,
   "id": "693d83bf-14c9-4e1b-870e-a15b8f8edc1d",
   "metadata": {},
   "outputs": [],
   "source": [
    "import Control.Monad.Bayes.Inference.MCMC\n",
    "\n",
    "ys <- sampleIOfixed $ mcmc MCMCConfig {numMCMCSteps = 5000, numBurnIn = 300, proposal = SingleSiteMH} \n",
    "    $ posteriorPredictive regression [take 200 $ repeat 1]\n"
   ]
  },
  {
   "cell_type": "code",
   "execution_count": null,
   "id": "a72a7dc0-209c-449c-9ffb-617328a7ffc5",
   "metadata": {},
   "outputs": [],
   "source": [
    "plot (fmap (second (T.pack . show)) (zip (zip range $ ys !! 0) (Prelude.repeat \"N/A\")))"
   ]
  }
 ],
 "metadata": {
  "kernelspec": {
   "display_name": "Haskell - nixpkgs",
   "language": "haskell",
   "name": "ihaskell_nixpkgs"
  },
  "language_info": {
   "codemirror_mode": "ihaskell",
   "file_extension": ".hs",
   "mimetype": "text/x-haskell",
   "name": "haskell",
   "pygments_lexer": "Haskell",
   "version": "9.0.2"
  }
 },
 "nbformat": 4,
 "nbformat_minor": 5
}
