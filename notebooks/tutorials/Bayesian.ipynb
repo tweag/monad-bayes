{
 "cells": [
  {
   "cell_type": "code",
   "execution_count": 1,
   "id": "1323d9af-17b2-4e43-ba81-b5b3979b3528",
   "metadata": {},
   "outputs": [],
   "source": [
    "import Control.Monad.Bayes.Class\n",
    "import Control.Monad.Bayes.Sampler.Strict\n",
    "import Control.Monad.Bayes.Weighted\n",
    "import Control.Monad.Bayes.Enumerator\n",
    "import Control.Monad\n",
    "import Control.Arrow\n",
    "import Data.Bifunctor (bimap)\n",
    "import Numeric.Log\n",
    "import qualified Data.Text as T\n",
    "\n",
    ":e TupleSections\n",
    "\n",
    "\n",
    ":l ../plotting.hs"
   ]
  },
  {
   "cell_type": "markdown",
   "id": "bb6b1d04-808f-4700-9e5b-b880f64432bc",
   "metadata": {},
   "source": [
    "# Bayesian Models\n",
    "\n",
    "Monad-Bayes exports a `Bayesian` datatype to make using Bayesian models easier. The idea is that you specify your model as a prior, generative model and a likelihood (separate from the generative model because you can't always get the density of a sample from a distribution).\n",
    "\n",
    "Once you've done that, a number of standard operations, like obtaining the posterior or the posterior predictive, are automated for you.\n",
    "\n",
    "Here's a simple example:"
   ]
  },
  {
   "cell_type": "code",
   "execution_count": 71,
   "id": "5df6eb5a-8545-43fa-83d7-bd25f74804cc",
   "metadata": {},
   "outputs": [],
   "source": [
    "model :: MonadSample m => Bayesian m Bool Double\n",
    "model = Bayesian {\n",
    "    prior = bernoulli 0.5,\n",
    "    generative = \\x -> normal (if x then 2 else (-2)) 1,\n",
    "    likelihood  = \\x y -> normalPdf (if x then 2 else (-2)) 1 y\n",
    "    }"
   ]
  },
  {
   "cell_type": "markdown",
   "id": "a31299a8-2294-4182-823d-d85bd2136945",
   "metadata": {},
   "source": [
    "## Prior"
   ]
  },
  {
   "cell_type": "code",
   "execution_count": 72,
   "id": "07c4584c-8351-4e0b-814b-d3746b6b6962",
   "metadata": {},
   "outputs": [
    {
     "data": {
      "application/vnd.vegalite.v4+json": {
       "$schema": "https://vega.github.io/schema/vega-lite/v4.json",
       "data": {
        "values": [
         {
          "X": "True",
          "Y": 0.50003
         },
         {
          "X": "False",
          "Y": 0.49997
         }
        ]
       },
       "encoding": {
        "x": {
         "field": "X",
         "type": "nominal"
        },
        "y": {
         "field": "Y",
         "type": "quantitative"
        }
       },
       "height": 400,
       "mark": "bar",
       "width": 400
      },
      "image/png": "[encoded data removed]"
     },
     "metadata": {},
     "output_type": "display_data"
    }
   ],
   "source": [
    "sampler $ \n",
    "    plot . fmap (first (T.pack . show)) . toEmpirical <$> \n",
    "    replicateM 100000 (prior model)"
   ]
  },
  {
   "cell_type": "markdown",
   "id": "1730423b-8190-481b-a215-a129ea9fdbc9",
   "metadata": {},
   "source": [
    "## Prior predictive\n",
    "\n",
    "Prior predictive model is an application of the generative distribution to the prior distribution.\n",
    "\n",
    "Similarly as in `Sampling.ipynb` example we need to introduce a constant weight by mapping samples to a pair (value, score) with `(,constWeight) <$> `."
   ]
  },
  {
   "cell_type": "code",
   "execution_count": 73,
   "id": "c0de2347-77b2-4433-8bd0-e854791c23b8",
   "metadata": {},
   "outputs": [
    {
     "data": {
      "application/vnd.vegalite.v4+json": {
       "$schema": "https://vega.github.io/schema/vega-lite/v4.json",
       "data": {
        "values": [
         {
          "X": -6.073319466952413,
          "Y": 1
         },
         {
          "X": -5.950211736764768,
          "Y": 0
         },
         {
          "X": -5.827104006577122,
          "Y": 1
         },
         {
          "X": -5.703996276389478,
          "Y": 1
         },
         {
          "X": -5.580888546201832,
          "Y": 3
         },
         {
          "X": -5.4577808160141865,
          "Y": 11
         },
         {
          "X": -5.334673085826541,
          "Y": 8
         },
         {
          "X": -5.211565355638896,
          "Y": 11
         },
         {
          "X": -5.088457625451251,
          "Y": 26
         },
         {
          "X": -4.965349895263605,
          "Y": 30
         },
         {
          "X": -4.842242165075961,
          "Y": 38
         },
         {
          "X": -4.719134434888315,
          "Y": 79
         },
         {
          "X": -4.5960267047006695,
          "Y": 94
         },
         {
          "X": -4.472918974513025,
          "Y": 133
         },
         {
          "X": -4.349811244325379,
          "Y": 144
         },
         {
          "X": -4.226703514137734,
          "Y": 223
         },
         {
          "X": -4.103595783950089,
          "Y": 297
         },
         {
          "X": -3.9804880537624436,
          "Y": 358
         },
         {
          "X": -3.857380323574798,
          "Y": 455
         },
         {
          "X": -3.734272593387153,
          "Y": 528
         },
         {
          "X": -3.6111648631995075,
          "Y": 681
         },
         {
          "X": -3.4880571330118624,
          "Y": 837
         },
         {
          "X": -3.3649494028242173,
          "Y": 965
         },
         {
          "X": -3.2418416726365717,
          "Y": 1115
         },
         {
          "X": -3.1187339424489267,
          "Y": 1302
         },
         {
          "X": -2.9956262122612816,
          "Y": 1525
         },
         {
          "X": -2.872518482073636,
          "Y": 1633
         },
         {
          "X": -2.749410751885991,
          "Y": 1851
         },
         {
          "X": -2.626303021698346,
          "Y": 2000
         },
         {
          "X": -2.5031952915107003,
          "Y": 2139
         },
         {
          "X": -2.380087561323055,
          "Y": 2202
         },
         {
          "X": -2.2569798311354097,
          "Y": 2473
         },
         {
          "X": -2.133872100947765,
          "Y": 2421
         },
         {
          "X": -2.0107643707601195,
          "Y": 2426
         },
         {
          "X": -1.8876566405724748,
          "Y": 2408
         },
         {
          "X": -1.7645489103848293,
          "Y": 2434
         },
         {
          "X": -1.6414411801971838,
          "Y": 2327
         },
         {
          "X": -1.5183334500095391,
          "Y": 2184
         },
         {
          "X": -1.3952257198218936,
          "Y": 2038
         },
         {
          "X": -1.272117989634248,
          "Y": 1902
         },
         {
          "X": -1.1490102594466025,
          "Y": 1698
         },
         {
          "X": -1.0259025292589579,
          "Y": 1634
         },
         {
          "X": -0.9027947990713123,
          "Y": 1322
         },
         {
          "X": -0.7796870688836668,
          "Y": 1257
         },
         {
          "X": -0.6565793386960221,
          "Y": 1070
         },
         {
          "X": -0.5334716085083766,
          "Y": 919
         },
         {
          "X": -0.41036387832073107,
          "Y": 808
         },
         {
          "X": -0.2872561481330864,
          "Y": 762
         },
         {
          "X": -0.16414841794544088,
          "Y": 707
         },
         {
          "X": -0.04104068775779535,
          "Y": 641
         },
         {
          "X": 0.0820670424298493,
          "Y": 651
         },
         {
          "X": 0.20517477261749484,
          "Y": 715
         },
         {
          "X": 0.3282825028051404,
          "Y": 797
         },
         {
          "X": 0.451390232992785,
          "Y": 797
         },
         {
          "X": 0.5744979631804306,
          "Y": 1025
         },
         {
          "X": 0.6976056933680761,
          "Y": 1147
         },
         {
          "X": 0.8207134235557207,
          "Y": 1279
         },
         {
          "X": 0.9438211537433663,
          "Y": 1490
         },
         {
          "X": 1.0669288839310118,
          "Y": 1601
         },
         {
          "X": 1.1900366141186574,
          "Y": 1775
         },
         {
          "X": 1.313144344306302,
          "Y": 1892
         },
         {
          "X": 1.4362520744939475,
          "Y": 2053
         },
         {
          "X": 1.559359804681593,
          "Y": 2170
         },
         {
          "X": 1.6824675348692377,
          "Y": 2302
         },
         {
          "X": 1.8055752650568833,
          "Y": 2383
         },
         {
          "X": 1.928682995244528,
          "Y": 2480
         },
         {
          "X": 2.0517907254321743,
          "Y": 2532
         },
         {
          "X": 2.174898455619819,
          "Y": 2425
         },
         {
          "X": 2.2980061858074636,
          "Y": 2308
         },
         {
          "X": 2.42111391599511,
          "Y": 2187
         },
         {
          "X": 2.5442216461827547,
          "Y": 2074
         },
         {
          "X": 2.6673293763703994,
          "Y": 1950
         },
         {
          "X": 2.7904371065580458,
          "Y": 1836
         },
         {
          "X": 2.9135448367456904,
          "Y": 1698
         },
         {
          "X": 3.036652566933335,
          "Y": 1455
         },
         {
          "X": 3.1597602971209815,
          "Y": 1256
         },
         {
          "X": 3.282868027308626,
          "Y": 1071
         },
         {
          "X": 3.405975757496271,
          "Y": 944
         },
         {
          "X": 3.529083487683917,
          "Y": 755
         },
         {
          "X": 3.652191217871562,
          "Y": 627
         },
         {
          "X": 3.7752989480592083,
          "Y": 511
         },
         {
          "X": 3.898406678246853,
          "Y": 416
         },
         {
          "X": 4.021514408434498,
          "Y": 339
         },
         {
          "X": 4.144622138622144,
          "Y": 272
         },
         {
          "X": 4.267729868809789,
          "Y": 193
         },
         {
          "X": 4.390837598997433,
          "Y": 133
         },
         {
          "X": 4.51394532918508,
          "Y": 108
         },
         {
          "X": 4.637053059372724,
          "Y": 66
         },
         {
          "X": 4.760160789560369,
          "Y": 53
         },
         {
          "X": 4.8832685197480155,
          "Y": 36
         },
         {
          "X": 5.00637624993566,
          "Y": 25
         },
         {
          "X": 5.129483980123305,
          "Y": 21
         },
         {
          "X": 5.252591710310951,
          "Y": 12
         },
         {
          "X": 5.375699440498596,
          "Y": 9
         },
         {
          "X": 5.4988071706862405,
          "Y": 3
         },
         {
          "X": 5.621914900873887,
          "Y": 1
         },
         {
          "X": 5.7450226310615315,
          "Y": 1
         },
         {
          "X": 5.868130361249176,
          "Y": 1
         },
         {
          "X": 5.991238091436823,
          "Y": 1
         },
         {
          "X": 6.114345821624467,
          "Y": 1
         }
        ]
       },
       "encoding": {
        "x": {
         "field": "X",
         "type": "quantitative"
        },
        "y": {
         "field": "Y",
         "type": "quantitative"
        }
       },
       "height": 400,
       "mark": "bar",
       "width": 400
      },
      "image/png": "[encoded data removed]"
     },
     "metadata": {},
     "output_type": "display_data"
    }
   ],
   "source": [
    "constWeight = 1 :: Log Double\n",
    "\n",
    "sampler $ plot . histogramToList . histogram 100 <$> replicateM 100000 ((,constWeight) <$>  priorPredictive model)"
   ]
  },
  {
   "cell_type": "markdown",
   "id": "e43b4b99-dfa0-4fa7-86a8-37742e60cd25",
   "metadata": {},
   "source": [
    "## Posterior"
   ]
  },
  {
   "cell_type": "markdown",
   "id": "7b9fd255-e24a-47a9-a7e4-330db726b31c",
   "metadata": {},
   "source": [
    "Posterior distribution is computed using `likelihood` and observations $os = \\{o_{1}, \\dots o_{n} \\}$.\n",
    "Factors are computed for posterior for `model`: \n",
    "- $ \\prod_{i=1}^{n} \\text{likelihood}(\\text{True}, o_{i}) $ for `True` value and\n",
    "- $ \\prod_{i=1}^{n} \\text{likelihood}(\\text{False}, o_{i}) $ for `False`.\n",
    "\n",
    "Note that factors do not have to sum up to 1. Empirical distribution is obtained by normalizing factors to 1.\n"
   ]
  },
  {
   "cell_type": "markdown",
   "id": "5106188a-c959-455a-b155-e5a5e4a34cb0",
   "metadata": {},
   "source": [
    "### Observations\n",
    "\n",
    "In our example, we may experiment how observed data change the a priori model given the likelihood function. Observations should be in the domain of the likelihood function."
   ]
  },
  {
   "cell_type": "markdown",
   "id": "bab96b4a-eba8-445f-b612-d1acbaac902c",
   "metadata": {},
   "source": [
    "Taking symmetrical and evenly distributed points, we do not change the posterior distribution:"
   ]
  },
  {
   "cell_type": "code",
   "execution_count": 74,
   "id": "e7de370d-616e-44b3-9fd3-ddea14e6d27e",
   "metadata": {},
   "outputs": [
    {
     "data": {
      "text/plain": [
       "[(False,0.5022899999999909),(True,0.4977100000000092)]"
      ]
     },
     "metadata": {},
     "output_type": "display_data"
    }
   ],
   "source": [
    "observations1 = [-3..3]\n",
    "sampler $ toEmpiricalWeighted <$> replicateM 100000 (weighted $ posterior model observations1)"
   ]
  },
  {
   "cell_type": "markdown",
   "id": "616dd80b-6d54-4044-abf0-eef08f31e525",
   "metadata": {},
   "source": [
    "On the other hand, if the observations are unevenly distributed adjustments to posterior are well visible:"
   ]
  },
  {
   "cell_type": "code",
   "execution_count": 75,
   "id": "cb53e65b-d75b-4c47-9ba4-14dbe4fecbea",
   "metadata": {},
   "outputs": [
    {
     "data": {
      "text/plain": [
       "[(True,0.7686741811309296),(False,0.23132581886907125)]"
      ]
     },
     "metadata": {},
     "output_type": "display_data"
    }
   ],
   "source": [
    "observations2 = [-2.3, -2, 0, 0.3, 2, 2.3]\n",
    "sampler $ toEmpiricalWeighted <$> replicateM 100000 (weighted $ posterior model observations2)"
   ]
  },
  {
   "cell_type": "code",
   "execution_count": 68,
   "id": "064ba891-8d4c-4a2f-9aa3-530c64cce610",
   "metadata": {},
   "outputs": [
    {
     "data": {
      "application/vnd.vegalite.v4+json": {
       "$schema": "https://vega.github.io/schema/vega-lite/v4.json",
       "data": {
        "values": [
         {
          "X": "True",
          "Y": 0.769944888357395
         },
         {
          "X": "False",
          "Y": 0.2300551116426065
         }
        ]
       },
       "encoding": {
        "x": {
         "field": "X",
         "type": "nominal"
        },
        "y": {
         "field": "Y",
         "type": "quantitative"
        }
       },
       "height": 400,
       "mark": "bar",
       "width": 400
      },
      "image/png": "[encoded data removed]"
     },
     "metadata": {},
     "output_type": "display_data"
    }
   ],
   "source": [
    "sampler $ \n",
    "    plot . fmap (bimap (T.pack . show) (ln . exp)) . toEmpiricalWeighted <$> \n",
    "    replicateM 1000 (weighted $ posterior model observations2)"
   ]
  },
  {
   "cell_type": "markdown",
   "id": "22d6ba01-5509-4268-8888-280b40d7cb5c",
   "metadata": {},
   "source": [
    "### Excercise\n",
    "\n",
    "Change the observations lists and see how the posterior is affected.\n",
    "Change standard deviation of `likelihood` and see how posterior changes.\n"
   ]
  },
  {
   "cell_type": "markdown",
   "id": "dd0b08c8-e604-43be-9029-6708c61b4d1b",
   "metadata": {},
   "source": [
    "## Posterior predictive\n",
    "\n",
    "Analoguosly to prior predictive is generated by `generative` applied to `posterior`."
   ]
  },
  {
   "cell_type": "code",
   "execution_count": 70,
   "id": "3021a681-2370-4157-b5c7-fc9bbe2f7849",
   "metadata": {},
   "outputs": [
    {
     "data": {
      "application/vnd.vegalite.v4+json": {
       "$schema": "https://vega.github.io/schema/vega-lite/v4.json",
       "data": {
        "values": [
         {
          "X": -6.444937771352104,
          "Y": 1.2000820346917839e-12
         },
         {
          "X": -6.319862029734145,
          "Y": 0
         },
         {
          "X": -6.194786288116185,
          "Y": 0
         },
         {
          "X": -6.069710546498225,
          "Y": 0
         },
         {
          "X": -5.944634804880265,
          "Y": 0
         },
         {
          "X": -5.8195590632623055,
          "Y": 1.2000820346917839e-12
         },
         {
          "X": -5.694483321644346,
          "Y": 2.4001640693835677e-12
         },
         {
          "X": -5.569407580026386,
          "Y": 3.6002461040753516e-12
         },
         {
          "X": -5.444331838408426,
          "Y": 1.0800738312226055e-11
         },
         {
          "X": -5.3192560967904665,
          "Y": 1.0800738312226055e-11
         },
         {
          "X": -5.194180355172506,
          "Y": 3.0002050867294575e-11
         },
         {
          "X": -5.069104613554547,
          "Y": 3.240221493667814e-11
         },
         {
          "X": -4.944028871936586,
          "Y": 3.4802379006061704e-11
         },
         {
          "X": -4.818953130318627,
          "Y": 6.120418376928093e-11
         },
         {
          "X": -4.693877388700667,
          "Y": 8.040549632434955e-11
         },
         {
          "X": -4.568801647082707,
          "Y": 1.068073010875689e-10
         },
         {
          "X": -4.443725905464747,
          "Y": 1.4280976212832255e-10
         },
         {
          "X": -4.318650163846788,
          "Y": 2.016137818282202e-10
         },
         {
          "X": -4.193574422228828,
          "Y": 2.340159967648985e-10
         },
         {
          "X": -4.068498680610867,
          "Y": 3.6362485651161167e-10
         },
         {
          "X": -3.943422938992908,
          "Y": 4.800328138767146e-10
         },
         {
          "X": -3.818347197374948,
          "Y": 5.424370796806849e-10
         },
         {
          "X": -3.6932714557569883,
          "Y": 7.392505333701297e-10
         },
         {
          "X": -3.5681957141390286,
          "Y": 8.97661361949439e-10
         },
         {
          "X": -3.443119972521069,
          "Y": 1.0632726827368988e-09
         },
         {
          "X": -3.3180442309031086,
          "Y": 1.2600861364263437e-09
         },
         {
          "X": -3.192968489285149,
          "Y": 1.3984797369838706e-09
         },
         {
          "X": -3.067892747667189,
          "Y": 1.7089168174010533e-09
         },
         {
          "X": -2.9428170060492294,
          "Y": 1.892529368708889e-09
         },
         {
          "X": -2.8177412644312696,
          "Y": 2.0797421661208e-09
         },
         {
          "X": -2.6926655228133094,
          "Y": 2.3833629208978095e-09
         },
         {
          "X": -2.5675897811953496,
          "Y": 2.554974651858728e-09
         },
         {
          "X": -2.4425140395773894,
          "Y": 2.6581817068422173e-09
         },
         {
          "X": -2.3174382979594297,
          "Y": 2.8441944222194366e-09
         },
         {
          "X": -2.19236255634147,
          "Y": 2.947401477202926e-09
         },
         {
          "X": -2.06728681472351,
          "Y": 2.8729963910520382e-09
         },
         {
          "X": -1.9422110731055504,
          "Y": 2.981387940742272e-09
         },
         {
          "X": -1.8171353314875907,
          "Y": 3.0962116495047013e-09
         },
         {
          "X": -1.69205958986963,
          "Y": 2.8909500392416536e-09
         },
         {
          "X": -1.5669838482516703,
          "Y": 2.7229385543848105e-09
         },
         {
          "X": -1.4419081066337105,
          "Y": 2.540862669348882e-09
         },
         {
          "X": -1.3168323650157507,
          "Y": 2.409190229770008e-09
         },
         {
          "X": -1.191756623397791,
          "Y": 2.2262984292673656e-09
         },
         {
          "X": -1.0666808817798312,
          "Y": 1.995450929707815e-09
         },
         {
          "X": -0.9416051401618715,
          "Y": 1.8659407425445195e-09
         },
         {
          "X": -0.8165293985439117,
          "Y": 1.6624537102071835e-09
         },
         {
          "X": -0.691453656925952,
          "Y": 1.5436526046164854e-09
         },
         {
          "X": -0.5663779153079922,
          "Y": 1.4032905888883133e-09
         },
         {
          "X": -0.44130217369003244,
          "Y": 1.3424300052000344e-09
         },
         {
          "X": -0.3162264320720718,
          "Y": 1.4132894434213904e-09
         },
         {
          "X": -0.19115069045411204,
          "Y": 1.470611395023922e-09
         },
         {
          "X": -0.06607494883615228,
          "Y": 1.5860201234430487e-09
         },
         {
          "X": 0.059000792781807476,
          "Y": 1.918171384755665e-09
         },
         {
          "X": 0.18407653439976723,
          "Y": 2.3148856563659277e-09
         },
         {
          "X": 0.309152276017727,
          "Y": 2.6653236421834703e-09
         },
         {
          "X": 0.43422801763568675,
          "Y": 3.0020813943899052e-09
         },
         {
          "X": 0.5593037592536465,
          "Y": 3.5032063109402337e-09
         },
         {
          "X": 0.6843795008716063,
          "Y": 4.31622033328386e-09
         },
         {
          "X": 0.809455242489566,
          "Y": 4.954831278185432e-09
         },
         {
          "X": 0.9345309841075267,
          "Y": 5.474341591824166e-09
         },
         {
          "X": 1.0596067257254864,
          "Y": 6.416199648700468e-09
         },
         {
          "X": 1.1846824673434462,
          "Y": 6.924956806357736e-09
         },
         {
          "X": 1.309758208961406,
          "Y": 8.07246765590886e-09
         },
         {
          "X": 1.4348339505793657,
          "Y": 8.633069760633572e-09
         },
         {
          "X": 1.5599096921973246,
          "Y": 9.109567450346444e-09
         },
         {
          "X": 1.6849854338152852,
          "Y": 9.319157073362559e-09
         },
         {
          "X": 1.810061175433244,
          "Y": 1.0220018503814404e-08
         },
         {
          "X": 1.9351369170512047,
          "Y": 9.713998094463734e-09
         },
         {
          "X": 2.0602126586691636,
          "Y": 9.809623998592995e-09
         },
         {
          "X": 2.1852884002871242,
          "Y": 1.0064626409604356e-08
         },
         {
          "X": 2.310364141905083,
          "Y": 9.694076031103472e-09
         },
         {
          "X": 2.4354398835230437,
          "Y": 9.116336193655857e-09
         },
         {
          "X": 2.5605156251410026,
          "Y": 8.26367188183662e-09
         },
         {
          "X": 2.6855913667589633,
          "Y": 8.132186263658886e-09
         },
         {
          "X": 2.810667108376922,
          "Y": 7.1958492857265456e-09
         },
         {
          "X": 2.9357428499948828,
          "Y": 6.37904468795578e-09
         },
         {
          "X": 3.0608185916128434,
          "Y": 5.359035043910337e-09
         },
         {
          "X": 3.1858943332308023,
          "Y": 4.976531427393295e-09
         },
         {
          "X": 3.310970074848763,
          "Y": 4.135820353590215e-09
         },
         {
          "X": 3.436045816466722,
          "Y": 3.502298738733888e-09
         },
         {
          "X": 3.5611215580846824,
          "Y": 2.824948584485031e-09
         },
         {
          "X": 3.6861972997026413,
          "Y": 2.2950216991021016e-09
         },
         {
          "X": 3.811273041320602,
          "Y": 2.028066050074611e-09
         },
         {
          "X": 3.936348782938561,
          "Y": 1.6256403701973363e-09
         },
         {
          "X": 4.0614245245565215,
          "Y": 1.3905600225462502e-09
         },
         {
          "X": 4.18650026617448,
          "Y": 9.164149145720258e-10
         },
         {
          "X": 4.311576007792441,
          "Y": 7.849292963942996e-10
         },
         {
          "X": 4.436651749410402,
          "Y": 5.498489487432135e-10
         },
         {
          "X": 4.5617274910283605,
          "Y": 3.944568545331744e-10
         },
         {
          "X": 4.686803232646321,
          "Y": 2.7492447437160676e-10
         },
         {
          "X": 4.81187897426428,
          "Y": 1.792985702423523e-10
         },
         {
          "X": 4.936954715882241,
          "Y": 1.5937650688209089e-10
         },
         {
          "X": 5.0620304575001995,
          "Y": 8.765707878514992e-11
         },
         {
          "X": 5.18710619911816,
          "Y": 7.171942809694084e-11
         },
         {
          "X": 5.312181940736119,
          "Y": 3.984412672052269e-11
         },
         {
          "X": 5.43725768235408,
          "Y": 2.789088870436588e-11
         },
         {
          "X": 5.562333423972039,
          "Y": 2.789088870436588e-11
         },
         {
          "X": 5.687409165589999,
          "Y": 0
         },
         {
          "X": 5.81248490720796,
          "Y": 7.968825344104538e-12
         },
         {
          "X": 5.937560648825919,
          "Y": 0
         }
        ]
       },
       "encoding": {
        "x": {
         "field": "X",
         "type": "quantitative"
        },
        "y": {
         "field": "Y",
         "type": "quantitative"
        }
       },
       "height": 400,
       "mark": "bar",
       "width": 400
      },
      "image/png": "[encoded data removed]"
     },
     "metadata": {},
     "output_type": "display_data"
    }
   ],
   "source": [
    "sampler $ plot . histogramToList . histogram 100 <$> replicateM 100000 (weighted $ posteriorPredictive model observations2)"
   ]
  },
  {
   "cell_type": "markdown",
   "id": "d3c062c3-e5f8-4a72-b631-0635a6730b25",
   "metadata": {},
   "source": [
    "# Regression\n",
    "\n",
    "And now an example with a regression:"
   ]
  },
  {
   "cell_type": "code",
   "execution_count": 14,
   "id": "080d34a0-3324-4bf2-bb25-72b06db1f342",
   "metadata": {},
   "outputs": [],
   "source": [
    ":e BlockArguments \n",
    "\n",
    "range :: [Double]\n",
    "range = [-10,-9.9..10] \n",
    "\n",
    "\n",
    "regression :: MonadSample m => Bayesian m (Double, Double, Double) [Double]\n",
    "regression = Bayesian {\n",
    "    prior = do \n",
    "            slope <- normal 0 2\n",
    "            intercept <- normal 0 2\n",
    "            noise <- gamma 4 4\n",
    "            return (slope, intercept, noise),\n",
    "    \n",
    "    generative = \\(slope, intercept, noise) -> do\n",
    "            forM range \\x -> normal (x*slope + intercept) (sqrt noise),\n",
    "            \n",
    "    likelihood = \\(slope, intercept, noise) ys -> Prelude.sum [normalPdf (x*slope + intercept) (sqrt noise) y | (x,y) <- zip range ys] \n",
    "                \n",
    "    }\n"
   ]
  },
  {
   "cell_type": "code",
   "execution_count": 15,
   "id": "0621fc17-5c64-409b-9d08-d52b067b8dcd",
   "metadata": {},
   "outputs": [
    {
     "data": {
      "application/vnd.vegalite.v4+json": {
       "$schema": "https://vega.github.io/schema/vega-lite/v4.json",
       "data": {
        "values": [
         {
          "Outlier": "\"\\\"N/A\\\"\"",
          "X": -10,
          "Y": 18.949212789056954
         },
         {
          "Outlier": "\"\\\"N/A\\\"\"",
          "X": -9.9,
          "Y": 10.634523145662504
         },
         {
          "Outlier": "\"\\\"N/A\\\"\"",
          "X": -9.8,
          "Y": 9.727578494851917
         },
         {
          "Outlier": "\"\\\"N/A\\\"\"",
          "X": -9.700000000000001,
          "Y": 4.962249687922765
         },
         {
          "Outlier": "\"\\\"N/A\\\"\"",
          "X": -9.600000000000001,
          "Y": 12.77201542755289
         },
         {
          "Outlier": "\"\\\"N/A\\\"\"",
          "X": -9.500000000000002,
          "Y": 14.392315647836723
         },
         {
          "Outlier": "\"\\\"N/A\\\"\"",
          "X": -9.400000000000002,
          "Y": 11.554898135886498
         },
         {
          "Outlier": "\"\\\"N/A\\\"\"",
          "X": -9.300000000000002,
          "Y": 9.40903960562614
         },
         {
          "Outlier": "\"\\\"N/A\\\"\"",
          "X": -9.200000000000003,
          "Y": 8.117588722840338
         },
         {
          "Outlier": "\"\\\"N/A\\\"\"",
          "X": -9.100000000000003,
          "Y": 13.01752604211957
         },
         {
          "Outlier": "\"\\\"N/A\\\"\"",
          "X": -9.000000000000004,
          "Y": 7.459984093003861
         },
         {
          "Outlier": "\"\\\"N/A\\\"\"",
          "X": -8.900000000000004,
          "Y": 4.226179039802818
         },
         {
          "Outlier": "\"\\\"N/A\\\"\"",
          "X": -8.800000000000004,
          "Y": 9.315900679763754
         },
         {
          "Outlier": "\"\\\"N/A\\\"\"",
          "X": -8.700000000000005,
          "Y": 10.576235205423421
         },
         {
          "Outlier": "\"\\\"N/A\\\"\"",
          "X": -8.600000000000005,
          "Y": 7.235625485551911
         },
         {
          "Outlier": "\"\\\"N/A\\\"\"",
          "X": -8.500000000000005,
          "Y": 8.666639746968254
         },
         {
          "Outlier": "\"\\\"N/A\\\"\"",
          "X": -8.400000000000006,
          "Y": 5.548614486625997
         },
         {
          "Outlier": "\"\\\"N/A\\\"\"",
          "X": -8.300000000000006,
          "Y": 7.8762453036455655
         },
         {
          "Outlier": "\"\\\"N/A\\\"\"",
          "X": -8.200000000000006,
          "Y": 9.87482518368117
         },
         {
          "Outlier": "\"\\\"N/A\\\"\"",
          "X": -8.100000000000007,
          "Y": 4.7468234562481015
         },
         {
          "Outlier": "\"\\\"N/A\\\"\"",
          "X": -8.000000000000007,
          "Y": 6.422897400884549
         },
         {
          "Outlier": "\"\\\"N/A\\\"\"",
          "X": -7.9000000000000075,
          "Y": 2.96808735542648
         },
         {
          "Outlier": "\"\\\"N/A\\\"\"",
          "X": -7.800000000000008,
          "Y": 2.003175808533877
         },
         {
          "Outlier": "\"\\\"N/A\\\"\"",
          "X": -7.700000000000008,
          "Y": 11.61425930592704
         },
         {
          "Outlier": "\"\\\"N/A\\\"\"",
          "X": -7.6000000000000085,
          "Y": 7.851630313715923
         },
         {
          "Outlier": "\"\\\"N/A\\\"\"",
          "X": -7.500000000000009,
          "Y": 5.221861180147423
         },
         {
          "Outlier": "\"\\\"N/A\\\"\"",
          "X": -7.400000000000009,
          "Y": 6.970339041027328
         },
         {
          "Outlier": "\"\\\"N/A\\\"\"",
          "X": -7.30000000000001,
          "Y": 14.299822639436975
         },
         {
          "Outlier": "\"\\\"N/A\\\"\"",
          "X": -7.20000000000001,
          "Y": 11.133548685587439
         },
         {
          "Outlier": "\"\\\"N/A\\\"\"",
          "X": -7.10000000000001,
          "Y": 5.444648501068938
         },
         {
          "Outlier": "\"\\\"N/A\\\"\"",
          "X": -7.000000000000011,
          "Y": 5.82530600813414
         },
         {
          "Outlier": "\"\\\"N/A\\\"\"",
          "X": -6.900000000000011,
          "Y": 6.492114172830427
         },
         {
          "Outlier": "\"\\\"N/A\\\"\"",
          "X": -6.800000000000011,
          "Y": 9.25992447417693
         },
         {
          "Outlier": "\"\\\"N/A\\\"\"",
          "X": -6.700000000000012,
          "Y": 4.609222078879384
         },
         {
          "Outlier": "\"\\\"N/A\\\"\"",
          "X": -6.600000000000012,
          "Y": 8.574672535067988
         },
         {
          "Outlier": "\"\\\"N/A\\\"\"",
          "X": -6.500000000000012,
          "Y": 5.16748548585555
         },
         {
          "Outlier": "\"\\\"N/A\\\"\"",
          "X": -6.400000000000013,
          "Y": 4.677690507700051
         },
         {
          "Outlier": "\"\\\"N/A\\\"\"",
          "X": -6.300000000000013,
          "Y": 9.91338780019294
         },
         {
          "Outlier": "\"\\\"N/A\\\"\"",
          "X": -6.2000000000000135,
          "Y": 7.077152054839834
         },
         {
          "Outlier": "\"\\\"N/A\\\"\"",
          "X": -6.100000000000014,
          "Y": 12.938296461191495
         },
         {
          "Outlier": "\"\\\"N/A\\\"\"",
          "X": -6.000000000000014,
          "Y": 3.9847917434338314
         },
         {
          "Outlier": "\"\\\"N/A\\\"\"",
          "X": -5.900000000000015,
          "Y": -2.337149158119365
         },
         {
          "Outlier": "\"\\\"N/A\\\"\"",
          "X": -5.800000000000015,
          "Y": 2.3537064849779776
         },
         {
          "Outlier": "\"\\\"N/A\\\"\"",
          "X": -5.700000000000015,
          "Y": 4.89703703219746
         },
         {
          "Outlier": "\"\\\"N/A\\\"\"",
          "X": -5.600000000000016,
          "Y": -0.30296818679868487
         },
         {
          "Outlier": "\"\\\"N/A\\\"\"",
          "X": -5.500000000000016,
          "Y": 4.627411375167066
         },
         {
          "Outlier": "\"\\\"N/A\\\"\"",
          "X": -5.400000000000016,
          "Y": 5.9565158698467275
         },
         {
          "Outlier": "\"\\\"N/A\\\"\"",
          "X": -5.300000000000017,
          "Y": 7.513147157828975
         },
         {
          "Outlier": "\"\\\"N/A\\\"\"",
          "X": -5.200000000000017,
          "Y": 2.904771598654545
         },
         {
          "Outlier": "\"\\\"N/A\\\"\"",
          "X": -5.100000000000017,
          "Y": 6.905732722588438
         },
         {
          "Outlier": "\"\\\"N/A\\\"\"",
          "X": -5.000000000000018,
          "Y": 5.72885432473721
         },
         {
          "Outlier": "\"\\\"N/A\\\"\"",
          "X": -4.900000000000018,
          "Y": -2.9079204282414732
         },
         {
          "Outlier": "\"\\\"N/A\\\"\"",
          "X": -4.8000000000000185,
          "Y": 5.008542964545207
         },
         {
          "Outlier": "\"\\\"N/A\\\"\"",
          "X": -4.700000000000019,
          "Y": 8.198669336476229
         },
         {
          "Outlier": "\"\\\"N/A\\\"\"",
          "X": -4.600000000000019,
          "Y": 5.126761720253592
         },
         {
          "Outlier": "\"\\\"N/A\\\"\"",
          "X": -4.5000000000000195,
          "Y": 9.12004049805446
         },
         {
          "Outlier": "\"\\\"N/A\\\"\"",
          "X": -4.40000000000002,
          "Y": 9.03874001997295
         },
         {
          "Outlier": "\"\\\"N/A\\\"\"",
          "X": -4.30000000000002,
          "Y": 6.18465342053862
         },
         {
          "Outlier": "\"\\\"N/A\\\"\"",
          "X": -4.200000000000021,
          "Y": 7.633330892441292
         },
         {
          "Outlier": "\"\\\"N/A\\\"\"",
          "X": -4.100000000000021,
          "Y": 2.6211335848911403
         },
         {
          "Outlier": "\"\\\"N/A\\\"\"",
          "X": -4.000000000000021,
          "Y": 10.345459399728774
         },
         {
          "Outlier": "\"\\\"N/A\\\"\"",
          "X": -3.9000000000000217,
          "Y": 3.473972867909226
         },
         {
          "Outlier": "\"\\\"N/A\\\"\"",
          "X": -3.800000000000022,
          "Y": 6.970133955979765
         },
         {
          "Outlier": "\"\\\"N/A\\\"\"",
          "X": -3.7000000000000224,
          "Y": 6.444205549890993
         },
         {
          "Outlier": "\"\\\"N/A\\\"\"",
          "X": -3.6000000000000227,
          "Y": 3.2256934113336024
         },
         {
          "Outlier": "\"\\\"N/A\\\"\"",
          "X": -3.500000000000023,
          "Y": 5.526736906463649
         },
         {
          "Outlier": "\"\\\"N/A\\\"\"",
          "X": -3.4000000000000234,
          "Y": 12.101002865156975
         },
         {
          "Outlier": "\"\\\"N/A\\\"\"",
          "X": -3.300000000000024,
          "Y": 3.2482151138478756
         },
         {
          "Outlier": "\"\\\"N/A\\\"\"",
          "X": -3.200000000000024,
          "Y": 8.015791342572097
         },
         {
          "Outlier": "\"\\\"N/A\\\"\"",
          "X": -3.1000000000000245,
          "Y": 6.897757423263143
         },
         {
          "Outlier": "\"\\\"N/A\\\"\"",
          "X": -3.000000000000025,
          "Y": 1.7456177133870208
         },
         {
          "Outlier": "\"\\\"N/A\\\"\"",
          "X": -2.9000000000000252,
          "Y": 0.7177214124186442
         },
         {
          "Outlier": "\"\\\"N/A\\\"\"",
          "X": -2.8000000000000256,
          "Y": 4.4805287455058584
         },
         {
          "Outlier": "\"\\\"N/A\\\"\"",
          "X": -2.700000000000026,
          "Y": 2.3824374657593843
         },
         {
          "Outlier": "\"\\\"N/A\\\"\"",
          "X": -2.6000000000000263,
          "Y": 3.5594947093033444
         },
         {
          "Outlier": "\"\\\"N/A\\\"\"",
          "X": -2.5000000000000266,
          "Y": 1.466493797618929
         },
         {
          "Outlier": "\"\\\"N/A\\\"\"",
          "X": -2.400000000000027,
          "Y": 2.775644440775215
         },
         {
          "Outlier": "\"\\\"N/A\\\"\"",
          "X": -2.3000000000000274,
          "Y": 4.263569324291644
         },
         {
          "Outlier": "\"\\\"N/A\\\"\"",
          "X": -2.2000000000000277,
          "Y": -1.2095207751201045
         },
         {
          "Outlier": "\"\\\"N/A\\\"\"",
          "X": -2.100000000000028,
          "Y": 5.10064058821254
         },
         {
          "Outlier": "\"\\\"N/A\\\"\"",
          "X": -2.0000000000000284,
          "Y": 2.1610365297354615
         },
         {
          "Outlier": "\"\\\"N/A\\\"\"",
          "X": -1.9000000000000288,
          "Y": 10.107391343839232
         },
         {
          "Outlier": "\"\\\"N/A\\\"\"",
          "X": -1.8000000000000291,
          "Y": 1.778013439844006
         },
         {
          "Outlier": "\"\\\"N/A\\\"\"",
          "X": -1.7000000000000295,
          "Y": 0.34746520286261884
         },
         {
          "Outlier": "\"\\\"N/A\\\"\"",
          "X": -1.6000000000000298,
          "Y": 5.07123657483791
         },
         {
          "Outlier": "\"\\\"N/A\\\"\"",
          "X": -1.5000000000000302,
          "Y": 2.299233550437405
         },
         {
          "Outlier": "\"\\\"N/A\\\"\"",
          "X": -1.4000000000000306,
          "Y": 3.0160317876866998
         },
         {
          "Outlier": "\"\\\"N/A\\\"\"",
          "X": -1.300000000000031,
          "Y": 7.2824639078661235
         },
         {
          "Outlier": "\"\\\"N/A\\\"\"",
          "X": -1.2000000000000313,
          "Y": -0.11450199099783376
         },
         {
          "Outlier": "\"\\\"N/A\\\"\"",
          "X": -1.1000000000000316,
          "Y": -0.06340905168305033
         },
         {
          "Outlier": "\"\\\"N/A\\\"\"",
          "X": -1.000000000000032,
          "Y": 2.6419142115965384
         },
         {
          "Outlier": "\"\\\"N/A\\\"\"",
          "X": -0.9000000000000323,
          "Y": 7.281312240350219
         },
         {
          "Outlier": "\"\\\"N/A\\\"\"",
          "X": -0.8000000000000327,
          "Y": 11.41100265550823
         },
         {
          "Outlier": "\"\\\"N/A\\\"\"",
          "X": -0.700000000000033,
          "Y": -1.7910537702781246
         },
         {
          "Outlier": "\"\\\"N/A\\\"\"",
          "X": -0.6000000000000334,
          "Y": 2.929775734991223
         },
         {
          "Outlier": "\"\\\"N/A\\\"\"",
          "X": -0.5000000000000338,
          "Y": -3.012767265924517
         },
         {
          "Outlier": "\"\\\"N/A\\\"\"",
          "X": -0.4000000000000341,
          "Y": 1.1076008245143756
         },
         {
          "Outlier": "\"\\\"N/A\\\"\"",
          "X": -0.30000000000003446,
          "Y": 0.71099742512826
         },
         {
          "Outlier": "\"\\\"N/A\\\"\"",
          "X": -0.20000000000003482,
          "Y": 1.371713345874892
         },
         {
          "Outlier": "\"\\\"N/A\\\"\"",
          "X": -0.10000000000003517,
          "Y": 5.2938100383784406
         },
         {
          "Outlier": "\"\\\"N/A\\\"\"",
          "X": -3.552713678800501e-14,
          "Y": 1.559675260424148
         },
         {
          "Outlier": "\"\\\"N/A\\\"\"",
          "X": 0.09999999999996412,
          "Y": -2.471552085265268
         },
         {
          "Outlier": "\"\\\"N/A\\\"\"",
          "X": 0.19999999999996376,
          "Y": -1.1564136342987912
         },
         {
          "Outlier": "\"\\\"N/A\\\"\"",
          "X": 0.2999999999999634,
          "Y": 7.672579626074256
         },
         {
          "Outlier": "\"\\\"N/A\\\"\"",
          "X": 0.39999999999996305,
          "Y": -1.7070670573363484
         },
         {
          "Outlier": "\"\\\"N/A\\\"\"",
          "X": 0.4999999999999627,
          "Y": -1.7825970421554935
         },
         {
          "Outlier": "\"\\\"N/A\\\"\"",
          "X": 0.5999999999999623,
          "Y": 1.0617040869730652
         },
         {
          "Outlier": "\"\\\"N/A\\\"\"",
          "X": 0.699999999999962,
          "Y": -3.198875406337763
         },
         {
          "Outlier": "\"\\\"N/A\\\"\"",
          "X": 0.7999999999999616,
          "Y": -2.4906895779041545
         },
         {
          "Outlier": "\"\\\"N/A\\\"\"",
          "X": 0.8999999999999613,
          "Y": -2.6287109850731825
         },
         {
          "Outlier": "\"\\\"N/A\\\"\"",
          "X": 0.9999999999999609,
          "Y": 2.8019741410549845
         },
         {
          "Outlier": "\"\\\"N/A\\\"\"",
          "X": 1.0999999999999606,
          "Y": 2.8006654548518166
         },
         {
          "Outlier": "\"\\\"N/A\\\"\"",
          "X": 1.1999999999999602,
          "Y": 2.6718456089087503
         },
         {
          "Outlier": "\"\\\"N/A\\\"\"",
          "X": 1.2999999999999599,
          "Y": 2.295192239765462
         },
         {
          "Outlier": "\"\\\"N/A\\\"\"",
          "X": 1.3999999999999595,
          "Y": -2.2900334362528625
         },
         {
          "Outlier": "\"\\\"N/A\\\"\"",
          "X": 1.4999999999999591,
          "Y": -2.7401101142589326
         },
         {
          "Outlier": "\"\\\"N/A\\\"\"",
          "X": 1.5999999999999588,
          "Y": 5.800903772002211
         },
         {
          "Outlier": "\"\\\"N/A\\\"\"",
          "X": 1.6999999999999584,
          "Y": 1.3274725926791973
         },
         {
          "Outlier": "\"\\\"N/A\\\"\"",
          "X": 1.799999999999958,
          "Y": 3.364070241990323
         },
         {
          "Outlier": "\"\\\"N/A\\\"\"",
          "X": 1.8999999999999577,
          "Y": -2.8747363722899255
         },
         {
          "Outlier": "\"\\\"N/A\\\"\"",
          "X": 1.9999999999999574,
          "Y": 0.6106802075532155
         },
         {
          "Outlier": "\"\\\"N/A\\\"\"",
          "X": 2.099999999999957,
          "Y": -5.016552862731278
         },
         {
          "Outlier": "\"\\\"N/A\\\"\"",
          "X": 2.1999999999999567,
          "Y": -3.5524602736821107
         },
         {
          "Outlier": "\"\\\"N/A\\\"\"",
          "X": 2.2999999999999563,
          "Y": 1.1862106045138776
         },
         {
          "Outlier": "\"\\\"N/A\\\"\"",
          "X": 2.399999999999956,
          "Y": 0.4683594925473521
         },
         {
          "Outlier": "\"\\\"N/A\\\"\"",
          "X": 2.4999999999999556,
          "Y": 3.890560634598416
         },
         {
          "Outlier": "\"\\\"N/A\\\"\"",
          "X": 2.5999999999999552,
          "Y": -2.272662965672615
         },
         {
          "Outlier": "\"\\\"N/A\\\"\"",
          "X": 2.699999999999955,
          "Y": -2.0323516738831957
         },
         {
          "Outlier": "\"\\\"N/A\\\"\"",
          "X": 2.7999999999999545,
          "Y": -2.3950721231777816
         },
         {
          "Outlier": "\"\\\"N/A\\\"\"",
          "X": 2.899999999999954,
          "Y": 5.956091799851167
         },
         {
          "Outlier": "\"\\\"N/A\\\"\"",
          "X": 2.999999999999954,
          "Y": 6.254087902446326
         },
         {
          "Outlier": "\"\\\"N/A\\\"\"",
          "X": 3.0999999999999535,
          "Y": 0.32314375384962246
         },
         {
          "Outlier": "\"\\\"N/A\\\"\"",
          "X": 3.199999999999953,
          "Y": 0.043806437370940365
         },
         {
          "Outlier": "\"\\\"N/A\\\"\"",
          "X": 3.2999999999999527,
          "Y": -0.3075233048514624
         },
         {
          "Outlier": "\"\\\"N/A\\\"\"",
          "X": 3.3999999999999524,
          "Y": -1.9007113767837924
         },
         {
          "Outlier": "\"\\\"N/A\\\"\"",
          "X": 3.499999999999952,
          "Y": -3.3878758320877798
         },
         {
          "Outlier": "\"\\\"N/A\\\"\"",
          "X": 3.5999999999999517,
          "Y": -4.548580958518932
         },
         {
          "Outlier": "\"\\\"N/A\\\"\"",
          "X": 3.6999999999999513,
          "Y": 1.8094774049112439
         },
         {
          "Outlier": "\"\\\"N/A\\\"\"",
          "X": 3.799999999999951,
          "Y": -0.9825346309443944
         },
         {
          "Outlier": "\"\\\"N/A\\\"\"",
          "X": 3.8999999999999506,
          "Y": -2.6370437929492287
         },
         {
          "Outlier": "\"\\\"N/A\\\"\"",
          "X": 3.9999999999999503,
          "Y": -2.023692205633182
         },
         {
          "Outlier": "\"\\\"N/A\\\"\"",
          "X": 4.09999999999995,
          "Y": 1.6262639951259734
         },
         {
          "Outlier": "\"\\\"N/A\\\"\"",
          "X": 4.1999999999999496,
          "Y": 4.583930186030442
         },
         {
          "Outlier": "\"\\\"N/A\\\"\"",
          "X": 4.299999999999949,
          "Y": -6.2044549971814
         },
         {
          "Outlier": "\"\\\"N/A\\\"\"",
          "X": 4.399999999999949,
          "Y": -0.8856267981166919
         },
         {
          "Outlier": "\"\\\"N/A\\\"\"",
          "X": 4.4999999999999485,
          "Y": -0.9971478800261959
         },
         {
          "Outlier": "\"\\\"N/A\\\"\"",
          "X": 4.599999999999948,
          "Y": -5.283576444865826
         },
         {
          "Outlier": "\"\\\"N/A\\\"\"",
          "X": 4.699999999999948,
          "Y": -4.12012637546959
         },
         {
          "Outlier": "\"\\\"N/A\\\"\"",
          "X": 4.799999999999947,
          "Y": -1.6645832224306711
         },
         {
          "Outlier": "\"\\\"N/A\\\"\"",
          "X": 4.899999999999947,
          "Y": -6.148667480827736
         },
         {
          "Outlier": "\"\\\"N/A\\\"\"",
          "X": 4.999999999999947,
          "Y": -4.756908924724618
         },
         {
          "Outlier": "\"\\\"N/A\\\"\"",
          "X": 5.099999999999946,
          "Y": -9.485118611264447
         },
         {
          "Outlier": "\"\\\"N/A\\\"\"",
          "X": 5.199999999999946,
          "Y": -0.5897051078204276
         },
         {
          "Outlier": "\"\\\"N/A\\\"\"",
          "X": 5.299999999999946,
          "Y": -6.622801552907127
         },
         {
          "Outlier": "\"\\\"N/A\\\"\"",
          "X": 5.399999999999945,
          "Y": -1.0875748408472232
         },
         {
          "Outlier": "\"\\\"N/A\\\"\"",
          "X": 5.499999999999945,
          "Y": -2.2819282139475914
         },
         {
          "Outlier": "\"\\\"N/A\\\"\"",
          "X": 5.599999999999945,
          "Y": -1.8891219528763945
         },
         {
          "Outlier": "\"\\\"N/A\\\"\"",
          "X": 5.699999999999944,
          "Y": -6.966847186677552
         },
         {
          "Outlier": "\"\\\"N/A\\\"\"",
          "X": 5.799999999999944,
          "Y": -11.581027022173489
         },
         {
          "Outlier": "\"\\\"N/A\\\"\"",
          "X": 5.8999999999999435,
          "Y": 0.46904222025749087
         },
         {
          "Outlier": "\"\\\"N/A\\\"\"",
          "X": 5.999999999999943,
          "Y": 0.4373775094833885
         },
         {
          "Outlier": "\"\\\"N/A\\\"\"",
          "X": 6.099999999999945,
          "Y": -3.5685178735254337
         },
         {
          "Outlier": "\"\\\"N/A\\\"\"",
          "X": 6.1999999999999424,
          "Y": 2.0511072427468293
         },
         {
          "Outlier": "\"\\\"N/A\\\"\"",
          "X": 6.29999999999994,
          "Y": -8.30456695449779
         },
         {
          "Outlier": "\"\\\"N/A\\\"\"",
          "X": 6.399999999999942,
          "Y": -3.698452142783796
         },
         {
          "Outlier": "\"\\\"N/A\\\"\"",
          "X": 6.499999999999943,
          "Y": -7.182578755753479
         },
         {
          "Outlier": "\"\\\"N/A\\\"\"",
          "X": 6.599999999999941,
          "Y": 0.9941842592008459
         },
         {
          "Outlier": "\"\\\"N/A\\\"\"",
          "X": 6.699999999999939,
          "Y": -5.41116928506067
         },
         {
          "Outlier": "\"\\\"N/A\\\"\"",
          "X": 6.79999999999994,
          "Y": -1.2611168947890072
         },
         {
          "Outlier": "\"\\\"N/A\\\"\"",
          "X": 6.899999999999942,
          "Y": 0.8775057232196266
         },
         {
          "Outlier": "\"\\\"N/A\\\"\"",
          "X": 6.99999999999994,
          "Y": -8.032926041796765
         },
         {
          "Outlier": "\"\\\"N/A\\\"\"",
          "X": 7.0999999999999375,
          "Y": -5.413405227364713
         },
         {
          "Outlier": "\"\\\"N/A\\\"\"",
          "X": 7.199999999999939,
          "Y": -9.927587907274376
         },
         {
          "Outlier": "\"\\\"N/A\\\"\"",
          "X": 7.29999999999994,
          "Y": -4.468681417198477
         },
         {
          "Outlier": "\"\\\"N/A\\\"\"",
          "X": 7.399999999999938,
          "Y": -5.854752240273816
         },
         {
          "Outlier": "\"\\\"N/A\\\"\"",
          "X": 7.499999999999936,
          "Y": -6.411774324734785
         },
         {
          "Outlier": "\"\\\"N/A\\\"\"",
          "X": 7.5999999999999375,
          "Y": -5.293479223748562
         },
         {
          "Outlier": "\"\\\"N/A\\\"\"",
          "X": 7.699999999999939,
          "Y": -4.236187916909431
         },
         {
          "Outlier": "\"\\\"N/A\\\"\"",
          "X": 7.799999999999937,
          "Y": -10.283885816949446
         },
         {
          "Outlier": "\"\\\"N/A\\\"\"",
          "X": 7.899999999999935,
          "Y": -2.3039908807770075
         },
         {
          "Outlier": "\"\\\"N/A\\\"\"",
          "X": 7.999999999999936,
          "Y": -1.9689683742376003
         },
         {
          "Outlier": "\"\\\"N/A\\\"\"",
          "X": 8.099999999999937,
          "Y": -4.046812170003237
         },
         {
          "Outlier": "\"\\\"N/A\\\"\"",
          "X": 8.199999999999935,
          "Y": -12.008787361066526
         },
         {
          "Outlier": "\"\\\"N/A\\\"\"",
          "X": 8.299999999999933,
          "Y": -4.7597492186581425
         },
         {
          "Outlier": "\"\\\"N/A\\\"\"",
          "X": 8.399999999999935,
          "Y": -6.489115837719269
         },
         {
          "Outlier": "\"\\\"N/A\\\"\"",
          "X": 8.499999999999936,
          "Y": -7.243623508653637
         },
         {
          "Outlier": "\"\\\"N/A\\\"\"",
          "X": 8.599999999999934,
          "Y": -6.51046913603002
         },
         {
          "Outlier": "\"\\\"N/A\\\"\"",
          "X": 8.699999999999932,
          "Y": -13.51583081845428
         },
         {
          "Outlier": "\"\\\"N/A\\\"\"",
          "X": 8.799999999999933,
          "Y": -4.038522546164521
         },
         {
          "Outlier": "\"\\\"N/A\\\"\"",
          "X": 8.899999999999935,
          "Y": -4.944472123308085
         },
         {
          "Outlier": "\"\\\"N/A\\\"\"",
          "X": 8.999999999999932,
          "Y": -8.37723874756111
         },
         {
          "Outlier": "\"\\\"N/A\\\"\"",
          "X": 9.09999999999993,
          "Y": -7.788084201710713
         },
         {
          "Outlier": "\"\\\"N/A\\\"\"",
          "X": 9.199999999999932,
          "Y": -4.604566492893393
         },
         {
          "Outlier": "\"\\\"N/A\\\"\"",
          "X": 9.299999999999933,
          "Y": 0.8637995902256543
         },
         {
          "Outlier": "\"\\\"N/A\\\"\"",
          "X": 9.399999999999931,
          "Y": -3.6646888663271797
         },
         {
          "Outlier": "\"\\\"N/A\\\"\"",
          "X": 9.499999999999929,
          "Y": -10.427985878771441
         },
         {
          "Outlier": "\"\\\"N/A\\\"\"",
          "X": 9.59999999999993,
          "Y": -8.444195324737374
         },
         {
          "Outlier": "\"\\\"N/A\\\"\"",
          "X": 9.699999999999932,
          "Y": -4.5670513372537265
         },
         {
          "Outlier": "\"\\\"N/A\\\"\"",
          "X": 9.79999999999993,
          "Y": -10.45235819943483
         },
         {
          "Outlier": "\"\\\"N/A\\\"\"",
          "X": 9.899999999999928,
          "Y": -10.707703631220975
         },
         {
          "Outlier": "\"\\\"N/A\\\"\"",
          "X": 9.999999999999929,
          "Y": -3.1942061213666006
         }
        ]
       },
       "encoding": {
        "color": {
         "field": "Outlier"
        },
        "x": {
         "field": "X",
         "type": "quantitative"
        },
        "y": {
         "field": "Y",
         "type": "quantitative"
        }
       },
       "height": 400,
       "mark": "circle",
       "width": 400
      },
      "image/png": "[encoded data removed]"
     },
     "metadata": {},
     "output_type": "display_data"
    }
   ],
   "source": [
    "ys <- sampler $ priorPredictive regression\n",
    "\n",
    "plot (fmap (second (T.pack . show)) (zip (zip range ys) (Prelude.repeat \"N/A\")))"
   ]
  },
  {
   "cell_type": "code",
   "execution_count": 16,
   "id": "693d83bf-14c9-4e1b-870e-a15b8f8edc1d",
   "metadata": {},
   "outputs": [
    {
     "data": {
      "text/plain": []
     },
     "metadata": {},
     "output_type": "display_data"
    }
   ],
   "source": [
    "import Control.Monad.Bayes.Inference.MCMC\n",
    "\n",
    "ys <- sampleIOfixed $ mcmc MCMCConfig {numMCMCSteps = 5000, numBurnIn = 300, proposal = SingleSiteMH} \n",
    "    $ posteriorPredictive regression [take 200 $ repeat 1]\n"
   ]
  },
  {
   "cell_type": "code",
   "execution_count": 17,
   "id": "a72a7dc0-209c-449c-9ffb-617328a7ffc5",
   "metadata": {},
   "outputs": [
    {
     "data": {
      "text/html": [
       "<style>/* Styles used for the Hoogle display in the pager */\n",
       ".hoogle-doc {\n",
       "display: block;\n",
       "padding-bottom: 1.3em;\n",
       "padding-left: 0.4em;\n",
       "}\n",
       ".hoogle-code {\n",
       "display: block;\n",
       "font-family: monospace;\n",
       "white-space: pre;\n",
       "}\n",
       ".hoogle-text {\n",
       "display: block;\n",
       "}\n",
       ".hoogle-name {\n",
       "color: green;\n",
       "font-weight: bold;\n",
       "}\n",
       ".hoogle-head {\n",
       "font-weight: bold;\n",
       "}\n",
       ".hoogle-sub {\n",
       "display: block;\n",
       "margin-left: 0.4em;\n",
       "}\n",
       ".hoogle-package {\n",
       "font-weight: bold;\n",
       "font-style: italic;\n",
       "}\n",
       ".hoogle-module {\n",
       "font-weight: bold;\n",
       "}\n",
       ".hoogle-class {\n",
       "font-weight: bold;\n",
       "}\n",
       ".get-type {\n",
       "color: green;\n",
       "font-weight: bold;\n",
       "font-family: monospace;\n",
       "display: block;\n",
       "white-space: pre-wrap;\n",
       "}\n",
       ".show-type {\n",
       "color: green;\n",
       "font-weight: bold;\n",
       "font-family: monospace;\n",
       "margin-left: 1em;\n",
       "}\n",
       ".mono {\n",
       "font-family: monospace;\n",
       "display: block;\n",
       "}\n",
       ".err-msg {\n",
       "color: red;\n",
       "font-style: italic;\n",
       "font-family: monospace;\n",
       "white-space: pre;\n",
       "display: block;\n",
       "}\n",
       "#unshowable {\n",
       "color: red;\n",
       "font-weight: bold;\n",
       "}\n",
       ".err-msg.in.collapse {\n",
       "padding-top: 0.7em;\n",
       "}\n",
       ".highlight-code {\n",
       "white-space: pre;\n",
       "font-family: monospace;\n",
       "}\n",
       ".suggestion-warning { \n",
       "font-weight: bold;\n",
       "color: rgb(200, 130, 0);\n",
       "}\n",
       ".suggestion-error { \n",
       "font-weight: bold;\n",
       "color: red;\n",
       "}\n",
       ".suggestion-name {\n",
       "font-weight: bold;\n",
       "}\n",
       "</style><div class=\"suggestion-name\" style=\"clear:both;\">Use head</div><div class=\"suggestion-row\" style=\"float: left;\"><div class=\"suggestion-warning\">Found:</div><div class=\"highlight-code\" id=\"haskell\">ys !! 0</div></div><div class=\"suggestion-row\" style=\"float: left;\"><div class=\"suggestion-warning\">Why Not:</div><div class=\"highlight-code\" id=\"haskell\">head ys</div></div>"
      ],
      "text/plain": [
       "Line 1: Use head\n",
       "Found:\n",
       "ys !! 0\n",
       "Why not:\n",
       "head ys"
      ]
     },
     "metadata": {},
     "output_type": "display_data"
    },
    {
     "data": {
      "application/vnd.vegalite.v4+json": {
       "$schema": "https://vega.github.io/schema/vega-lite/v4.json",
       "data": {
        "values": [
         {
          "Outlier": "\"\\\"N/A\\\"\"",
          "X": -10,
          "Y": 7.170881864473735
         },
         {
          "Outlier": "\"\\\"N/A\\\"\"",
          "X": -9.9,
          "Y": 5.4816732477279375
         },
         {
          "Outlier": "\"\\\"N/A\\\"\"",
          "X": -9.8,
          "Y": 7.630224633902682
         },
         {
          "Outlier": "\"\\\"N/A\\\"\"",
          "X": -9.700000000000001,
          "Y": 11.06220615791566
         },
         {
          "Outlier": "\"\\\"N/A\\\"\"",
          "X": -9.600000000000001,
          "Y": 5.215622546836187
         },
         {
          "Outlier": "\"\\\"N/A\\\"\"",
          "X": -9.500000000000002,
          "Y": 10.542060096591822
         },
         {
          "Outlier": "\"\\\"N/A\\\"\"",
          "X": -9.400000000000002,
          "Y": 4.522741195810397
         },
         {
          "Outlier": "\"\\\"N/A\\\"\"",
          "X": -9.300000000000002,
          "Y": 3.888189374652652
         },
         {
          "Outlier": "\"\\\"N/A\\\"\"",
          "X": -9.200000000000003,
          "Y": 2.5449977251013447
         },
         {
          "Outlier": "\"\\\"N/A\\\"\"",
          "X": -9.100000000000003,
          "Y": 4.046586735677207
         },
         {
          "Outlier": "\"\\\"N/A\\\"\"",
          "X": -9.000000000000004,
          "Y": 4.654939698254902
         },
         {
          "Outlier": "\"\\\"N/A\\\"\"",
          "X": -8.900000000000004,
          "Y": -2.754249563553155
         },
         {
          "Outlier": "\"\\\"N/A\\\"\"",
          "X": -8.800000000000004,
          "Y": 11.115321256362304
         },
         {
          "Outlier": "\"\\\"N/A\\\"\"",
          "X": -8.700000000000005,
          "Y": 1.5207214593222602
         },
         {
          "Outlier": "\"\\\"N/A\\\"\"",
          "X": -8.600000000000005,
          "Y": 8.876614443243408
         },
         {
          "Outlier": "\"\\\"N/A\\\"\"",
          "X": -8.500000000000005,
          "Y": 7.775065359900268
         },
         {
          "Outlier": "\"\\\"N/A\\\"\"",
          "X": -8.400000000000006,
          "Y": 11.142120478067149
         },
         {
          "Outlier": "\"\\\"N/A\\\"\"",
          "X": -8.300000000000006,
          "Y": 5.642100847774627
         },
         {
          "Outlier": "\"\\\"N/A\\\"\"",
          "X": -8.200000000000006,
          "Y": 5.543092916860033
         },
         {
          "Outlier": "\"\\\"N/A\\\"\"",
          "X": -8.100000000000007,
          "Y": 4.2785980036766444
         },
         {
          "Outlier": "\"\\\"N/A\\\"\"",
          "X": -8.000000000000007,
          "Y": 1.6656696331933536
         },
         {
          "Outlier": "\"\\\"N/A\\\"\"",
          "X": -7.9000000000000075,
          "Y": 6.653737181784508
         },
         {
          "Outlier": "\"\\\"N/A\\\"\"",
          "X": -7.800000000000008,
          "Y": 8.281983335561733
         },
         {
          "Outlier": "\"\\\"N/A\\\"\"",
          "X": -7.700000000000008,
          "Y": 5.841842085262562
         },
         {
          "Outlier": "\"\\\"N/A\\\"\"",
          "X": -7.6000000000000085,
          "Y": 4.393366755160071
         },
         {
          "Outlier": "\"\\\"N/A\\\"\"",
          "X": -7.500000000000009,
          "Y": 2.405585826933416
         },
         {
          "Outlier": "\"\\\"N/A\\\"\"",
          "X": -7.400000000000009,
          "Y": 4.813456466841483
         },
         {
          "Outlier": "\"\\\"N/A\\\"\"",
          "X": -7.30000000000001,
          "Y": 6.9785667055845195
         },
         {
          "Outlier": "\"\\\"N/A\\\"\"",
          "X": -7.20000000000001,
          "Y": 5.718240766338043
         },
         {
          "Outlier": "\"\\\"N/A\\\"\"",
          "X": -7.10000000000001,
          "Y": 1.8444066339599683
         },
         {
          "Outlier": "\"\\\"N/A\\\"\"",
          "X": -7.000000000000011,
          "Y": -1.3890713805402788
         },
         {
          "Outlier": "\"\\\"N/A\\\"\"",
          "X": -6.900000000000011,
          "Y": 4.473248537619904
         },
         {
          "Outlier": "\"\\\"N/A\\\"\"",
          "X": -6.800000000000011,
          "Y": 11.143357703626318
         },
         {
          "Outlier": "\"\\\"N/A\\\"\"",
          "X": -6.700000000000012,
          "Y": 0.42019361018451207
         },
         {
          "Outlier": "\"\\\"N/A\\\"\"",
          "X": -6.600000000000012,
          "Y": 8.290834953585248
         },
         {
          "Outlier": "\"\\\"N/A\\\"\"",
          "X": -6.500000000000012,
          "Y": 3.703648849427418
         },
         {
          "Outlier": "\"\\\"N/A\\\"\"",
          "X": -6.400000000000013,
          "Y": 2.948339697771904
         },
         {
          "Outlier": "\"\\\"N/A\\\"\"",
          "X": -6.300000000000013,
          "Y": 4.990933858178586
         },
         {
          "Outlier": "\"\\\"N/A\\\"\"",
          "X": -6.2000000000000135,
          "Y": -2.371930479088377
         },
         {
          "Outlier": "\"\\\"N/A\\\"\"",
          "X": -6.100000000000014,
          "Y": 3.0539922655306
         },
         {
          "Outlier": "\"\\\"N/A\\\"\"",
          "X": -6.000000000000014,
          "Y": 2.4922915671446053
         },
         {
          "Outlier": "\"\\\"N/A\\\"\"",
          "X": -5.900000000000015,
          "Y": 0.13783104304097993
         },
         {
          "Outlier": "\"\\\"N/A\\\"\"",
          "X": -5.800000000000015,
          "Y": 9.274333834317005
         },
         {
          "Outlier": "\"\\\"N/A\\\"\"",
          "X": -5.700000000000015,
          "Y": 5.180681734557119
         },
         {
          "Outlier": "\"\\\"N/A\\\"\"",
          "X": -5.600000000000016,
          "Y": 6.686116624589758
         },
         {
          "Outlier": "\"\\\"N/A\\\"\"",
          "X": -5.500000000000016,
          "Y": 3.1645361528145575
         },
         {
          "Outlier": "\"\\\"N/A\\\"\"",
          "X": -5.400000000000016,
          "Y": 7.2765384983742365
         },
         {
          "Outlier": "\"\\\"N/A\\\"\"",
          "X": -5.300000000000017,
          "Y": 3.8212247972477913
         },
         {
          "Outlier": "\"\\\"N/A\\\"\"",
          "X": -5.200000000000017,
          "Y": 2.3330418178786405
         },
         {
          "Outlier": "\"\\\"N/A\\\"\"",
          "X": -5.100000000000017,
          "Y": 0.04978925094797848
         },
         {
          "Outlier": "\"\\\"N/A\\\"\"",
          "X": -5.000000000000018,
          "Y": 8.41022002272886
         },
         {
          "Outlier": "\"\\\"N/A\\\"\"",
          "X": -4.900000000000018,
          "Y": 8.95937869742065
         },
         {
          "Outlier": "\"\\\"N/A\\\"\"",
          "X": -4.8000000000000185,
          "Y": 7.128754025574484
         },
         {
          "Outlier": "\"\\\"N/A\\\"\"",
          "X": -4.700000000000019,
          "Y": 8.400667617931337
         },
         {
          "Outlier": "\"\\\"N/A\\\"\"",
          "X": -4.600000000000019,
          "Y": 8.14161781640251
         },
         {
          "Outlier": "\"\\\"N/A\\\"\"",
          "X": -4.5000000000000195,
          "Y": 4.771675509425833
         },
         {
          "Outlier": "\"\\\"N/A\\\"\"",
          "X": -4.40000000000002,
          "Y": 4.665671139729419
         },
         {
          "Outlier": "\"\\\"N/A\\\"\"",
          "X": -4.30000000000002,
          "Y": 5.1573370458167975
         },
         {
          "Outlier": "\"\\\"N/A\\\"\"",
          "X": -4.200000000000021,
          "Y": 6.892283560497473
         },
         {
          "Outlier": "\"\\\"N/A\\\"\"",
          "X": -4.100000000000021,
          "Y": 3.362645167300043
         },
         {
          "Outlier": "\"\\\"N/A\\\"\"",
          "X": -4.000000000000021,
          "Y": 5.294329383367762
         },
         {
          "Outlier": "\"\\\"N/A\\\"\"",
          "X": -3.9000000000000217,
          "Y": 6.174185775808012
         },
         {
          "Outlier": "\"\\\"N/A\\\"\"",
          "X": -3.800000000000022,
          "Y": 4.656254263597801
         },
         {
          "Outlier": "\"\\\"N/A\\\"\"",
          "X": -3.7000000000000224,
          "Y": 10.104067846235775
         },
         {
          "Outlier": "\"\\\"N/A\\\"\"",
          "X": -3.6000000000000227,
          "Y": 3.2071199529587346
         },
         {
          "Outlier": "\"\\\"N/A\\\"\"",
          "X": -3.500000000000023,
          "Y": 5.187519875500946
         },
         {
          "Outlier": "\"\\\"N/A\\\"\"",
          "X": -3.4000000000000234,
          "Y": 3.519138923794177
         },
         {
          "Outlier": "\"\\\"N/A\\\"\"",
          "X": -3.300000000000024,
          "Y": 4.021979736161879
         },
         {
          "Outlier": "\"\\\"N/A\\\"\"",
          "X": -3.200000000000024,
          "Y": 3.5390555414198146
         },
         {
          "Outlier": "\"\\\"N/A\\\"\"",
          "X": -3.1000000000000245,
          "Y": 5.078255836941504
         },
         {
          "Outlier": "\"\\\"N/A\\\"\"",
          "X": -3.000000000000025,
          "Y": 3.4225560450354697
         },
         {
          "Outlier": "\"\\\"N/A\\\"\"",
          "X": -2.9000000000000252,
          "Y": 2.8730569969475086
         },
         {
          "Outlier": "\"\\\"N/A\\\"\"",
          "X": -2.8000000000000256,
          "Y": 1.7698395636546955
         },
         {
          "Outlier": "\"\\\"N/A\\\"\"",
          "X": -2.700000000000026,
          "Y": 5.557794984614313
         },
         {
          "Outlier": "\"\\\"N/A\\\"\"",
          "X": -2.6000000000000263,
          "Y": 1.268638570204268
         },
         {
          "Outlier": "\"\\\"N/A\\\"\"",
          "X": -2.5000000000000266,
          "Y": 3.0633603767800395
         },
         {
          "Outlier": "\"\\\"N/A\\\"\"",
          "X": -2.400000000000027,
          "Y": 2.8711689317940143
         },
         {
          "Outlier": "\"\\\"N/A\\\"\"",
          "X": -2.3000000000000274,
          "Y": 2.301124309485462
         },
         {
          "Outlier": "\"\\\"N/A\\\"\"",
          "X": -2.2000000000000277,
          "Y": 5.96428496488248
         },
         {
          "Outlier": "\"\\\"N/A\\\"\"",
          "X": -2.100000000000028,
          "Y": 11.773139569700536
         },
         {
          "Outlier": "\"\\\"N/A\\\"\"",
          "X": -2.0000000000000284,
          "Y": 7.472427173510505
         },
         {
          "Outlier": "\"\\\"N/A\\\"\"",
          "X": -1.9000000000000288,
          "Y": 1.32230509038033
         },
         {
          "Outlier": "\"\\\"N/A\\\"\"",
          "X": -1.8000000000000291,
          "Y": 3.075966109082301
         },
         {
          "Outlier": "\"\\\"N/A\\\"\"",
          "X": -1.7000000000000295,
          "Y": 5.032112601653299
         },
         {
          "Outlier": "\"\\\"N/A\\\"\"",
          "X": -1.6000000000000298,
          "Y": -1.5239538936581805
         },
         {
          "Outlier": "\"\\\"N/A\\\"\"",
          "X": -1.5000000000000302,
          "Y": -4.471991018387418
         },
         {
          "Outlier": "\"\\\"N/A\\\"\"",
          "X": -1.4000000000000306,
          "Y": -2.1835697880254488
         },
         {
          "Outlier": "\"\\\"N/A\\\"\"",
          "X": -1.300000000000031,
          "Y": 3.4305157232421153
         },
         {
          "Outlier": "\"\\\"N/A\\\"\"",
          "X": -1.2000000000000313,
          "Y": 0.6291882111909795
         },
         {
          "Outlier": "\"\\\"N/A\\\"\"",
          "X": -1.1000000000000316,
          "Y": 4.855608842713043
         },
         {
          "Outlier": "\"\\\"N/A\\\"\"",
          "X": -1.000000000000032,
          "Y": 12.64085579554164
         },
         {
          "Outlier": "\"\\\"N/A\\\"\"",
          "X": -0.9000000000000323,
          "Y": -3.545237863765626
         },
         {
          "Outlier": "\"\\\"N/A\\\"\"",
          "X": -0.8000000000000327,
          "Y": 7.280109299665327
         },
         {
          "Outlier": "\"\\\"N/A\\\"\"",
          "X": -0.700000000000033,
          "Y": 2.850869737543476
         },
         {
          "Outlier": "\"\\\"N/A\\\"\"",
          "X": -0.6000000000000334,
          "Y": -0.015941573580199098
         },
         {
          "Outlier": "\"\\\"N/A\\\"\"",
          "X": -0.5000000000000338,
          "Y": 0.46826912527843234
         },
         {
          "Outlier": "\"\\\"N/A\\\"\"",
          "X": -0.4000000000000341,
          "Y": -0.309383634778718
         },
         {
          "Outlier": "\"\\\"N/A\\\"\"",
          "X": -0.30000000000003446,
          "Y": 0.32459833435559204
         },
         {
          "Outlier": "\"\\\"N/A\\\"\"",
          "X": -0.20000000000003482,
          "Y": 4.150742615122855
         },
         {
          "Outlier": "\"\\\"N/A\\\"\"",
          "X": -0.10000000000003517,
          "Y": 7.077882109109156
         },
         {
          "Outlier": "\"\\\"N/A\\\"\"",
          "X": -3.552713678800501e-14,
          "Y": 3.1290086055649016
         },
         {
          "Outlier": "\"\\\"N/A\\\"\"",
          "X": 0.09999999999996412,
          "Y": -3.413731324378944
         },
         {
          "Outlier": "\"\\\"N/A\\\"\"",
          "X": 0.19999999999996376,
          "Y": 3.9673221301745474
         },
         {
          "Outlier": "\"\\\"N/A\\\"\"",
          "X": 0.2999999999999634,
          "Y": -2.334374821038406
         },
         {
          "Outlier": "\"\\\"N/A\\\"\"",
          "X": 0.39999999999996305,
          "Y": 2.9824264896273527
         },
         {
          "Outlier": "\"\\\"N/A\\\"\"",
          "X": 0.4999999999999627,
          "Y": 3.442148003664996
         },
         {
          "Outlier": "\"\\\"N/A\\\"\"",
          "X": 0.5999999999999623,
          "Y": -1.1884759524615012
         },
         {
          "Outlier": "\"\\\"N/A\\\"\"",
          "X": 0.699999999999962,
          "Y": 3.918349497261644
         },
         {
          "Outlier": "\"\\\"N/A\\\"\"",
          "X": 0.7999999999999616,
          "Y": 5.69414076830581
         },
         {
          "Outlier": "\"\\\"N/A\\\"\"",
          "X": 0.8999999999999613,
          "Y": 4.167807478142045
         },
         {
          "Outlier": "\"\\\"N/A\\\"\"",
          "X": 0.9999999999999609,
          "Y": 2.086630209779403
         },
         {
          "Outlier": "\"\\\"N/A\\\"\"",
          "X": 1.0999999999999606,
          "Y": 0.6339841197813945
         },
         {
          "Outlier": "\"\\\"N/A\\\"\"",
          "X": 1.1999999999999602,
          "Y": 4.057513899047639
         },
         {
          "Outlier": "\"\\\"N/A\\\"\"",
          "X": 1.2999999999999599,
          "Y": 4.423749259521481
         },
         {
          "Outlier": "\"\\\"N/A\\\"\"",
          "X": 1.3999999999999595,
          "Y": 6.561439094121283
         },
         {
          "Outlier": "\"\\\"N/A\\\"\"",
          "X": 1.4999999999999591,
          "Y": 4.8801623735190836
         },
         {
          "Outlier": "\"\\\"N/A\\\"\"",
          "X": 1.5999999999999588,
          "Y": 4.390972889698028
         },
         {
          "Outlier": "\"\\\"N/A\\\"\"",
          "X": 1.6999999999999584,
          "Y": 1.212168533510324
         },
         {
          "Outlier": "\"\\\"N/A\\\"\"",
          "X": 1.799999999999958,
          "Y": 4.404193194216281
         },
         {
          "Outlier": "\"\\\"N/A\\\"\"",
          "X": 1.8999999999999577,
          "Y": -1.8233980979873765
         },
         {
          "Outlier": "\"\\\"N/A\\\"\"",
          "X": 1.9999999999999574,
          "Y": 4.801540899127312
         },
         {
          "Outlier": "\"\\\"N/A\\\"\"",
          "X": 2.099999999999957,
          "Y": 2.7070109945206466
         },
         {
          "Outlier": "\"\\\"N/A\\\"\"",
          "X": 2.1999999999999567,
          "Y": 1.8114080411236326
         },
         {
          "Outlier": "\"\\\"N/A\\\"\"",
          "X": 2.2999999999999563,
          "Y": -2.8320413690969586
         },
         {
          "Outlier": "\"\\\"N/A\\\"\"",
          "X": 2.399999999999956,
          "Y": 1.8375013339969368
         },
         {
          "Outlier": "\"\\\"N/A\\\"\"",
          "X": 2.4999999999999556,
          "Y": -0.6394183749414335
         },
         {
          "Outlier": "\"\\\"N/A\\\"\"",
          "X": 2.5999999999999552,
          "Y": 3.8148899712702655
         },
         {
          "Outlier": "\"\\\"N/A\\\"\"",
          "X": 2.699999999999955,
          "Y": 8.070980321766488
         },
         {
          "Outlier": "\"\\\"N/A\\\"\"",
          "X": 2.7999999999999545,
          "Y": 0.5187508685948199
         },
         {
          "Outlier": "\"\\\"N/A\\\"\"",
          "X": 2.899999999999954,
          "Y": 7.039270951548296
         },
         {
          "Outlier": "\"\\\"N/A\\\"\"",
          "X": 2.999999999999954,
          "Y": -2.8714911575008237
         },
         {
          "Outlier": "\"\\\"N/A\\\"\"",
          "X": 3.0999999999999535,
          "Y": 0.5617676424538423
         },
         {
          "Outlier": "\"\\\"N/A\\\"\"",
          "X": 3.199999999999953,
          "Y": 7.657813023017433
         },
         {
          "Outlier": "\"\\\"N/A\\\"\"",
          "X": 3.2999999999999527,
          "Y": -3.2540912274370495
         },
         {
          "Outlier": "\"\\\"N/A\\\"\"",
          "X": 3.3999999999999524,
          "Y": 2.400272380842577
         },
         {
          "Outlier": "\"\\\"N/A\\\"\"",
          "X": 3.499999999999952,
          "Y": 0.4263208973999082
         },
         {
          "Outlier": "\"\\\"N/A\\\"\"",
          "X": 3.5999999999999517,
          "Y": 4.627608044189117
         },
         {
          "Outlier": "\"\\\"N/A\\\"\"",
          "X": 3.6999999999999513,
          "Y": 5.0088085598296415
         },
         {
          "Outlier": "\"\\\"N/A\\\"\"",
          "X": 3.799999999999951,
          "Y": 2.0301941274843127
         },
         {
          "Outlier": "\"\\\"N/A\\\"\"",
          "X": 3.8999999999999506,
          "Y": 3.9256589735227125
         },
         {
          "Outlier": "\"\\\"N/A\\\"\"",
          "X": 3.9999999999999503,
          "Y": 2.3859987634535593
         },
         {
          "Outlier": "\"\\\"N/A\\\"\"",
          "X": 4.09999999999995,
          "Y": 4.182076286956695
         },
         {
          "Outlier": "\"\\\"N/A\\\"\"",
          "X": 4.1999999999999496,
          "Y": 6.72050544396855
         },
         {
          "Outlier": "\"\\\"N/A\\\"\"",
          "X": 4.299999999999949,
          "Y": 4.0540623131305376
         },
         {
          "Outlier": "\"\\\"N/A\\\"\"",
          "X": 4.399999999999949,
          "Y": 3.5336687555462714
         },
         {
          "Outlier": "\"\\\"N/A\\\"\"",
          "X": 4.4999999999999485,
          "Y": -3.0310728257111945
         },
         {
          "Outlier": "\"\\\"N/A\\\"\"",
          "X": 4.599999999999948,
          "Y": 1.4900510336882444
         },
         {
          "Outlier": "\"\\\"N/A\\\"\"",
          "X": 4.699999999999948,
          "Y": 0.48467179254775394
         },
         {
          "Outlier": "\"\\\"N/A\\\"\"",
          "X": 4.799999999999947,
          "Y": -1.3656487148079979
         },
         {
          "Outlier": "\"\\\"N/A\\\"\"",
          "X": 4.899999999999947,
          "Y": -4.429814233108355
         },
         {
          "Outlier": "\"\\\"N/A\\\"\"",
          "X": 4.999999999999947,
          "Y": 8.984136893258844
         },
         {
          "Outlier": "\"\\\"N/A\\\"\"",
          "X": 5.099999999999946,
          "Y": 0.24022517025992873
         },
         {
          "Outlier": "\"\\\"N/A\\\"\"",
          "X": 5.199999999999946,
          "Y": -1.3915622566776853
         },
         {
          "Outlier": "\"\\\"N/A\\\"\"",
          "X": 5.299999999999946,
          "Y": 7.33168699432505
         },
         {
          "Outlier": "\"\\\"N/A\\\"\"",
          "X": 5.399999999999945,
          "Y": 11.401607580047244
         },
         {
          "Outlier": "\"\\\"N/A\\\"\"",
          "X": 5.499999999999945,
          "Y": -2.504409749676152
         },
         {
          "Outlier": "\"\\\"N/A\\\"\"",
          "X": 5.599999999999945,
          "Y": -3.0669821455268904
         },
         {
          "Outlier": "\"\\\"N/A\\\"\"",
          "X": 5.699999999999944,
          "Y": 2.8176490474931115
         },
         {
          "Outlier": "\"\\\"N/A\\\"\"",
          "X": 5.799999999999944,
          "Y": 1.3119383557693376
         },
         {
          "Outlier": "\"\\\"N/A\\\"\"",
          "X": 5.8999999999999435,
          "Y": 4.980644393041342
         },
         {
          "Outlier": "\"\\\"N/A\\\"\"",
          "X": 5.999999999999943,
          "Y": 4.116910991858865
         },
         {
          "Outlier": "\"\\\"N/A\\\"\"",
          "X": 6.099999999999945,
          "Y": 8.60116906191834
         },
         {
          "Outlier": "\"\\\"N/A\\\"\"",
          "X": 6.1999999999999424,
          "Y": 2.2373710866872507
         },
         {
          "Outlier": "\"\\\"N/A\\\"\"",
          "X": 6.29999999999994,
          "Y": 1.60092351925845
         },
         {
          "Outlier": "\"\\\"N/A\\\"\"",
          "X": 6.399999999999942,
          "Y": 9.024037428354944
         },
         {
          "Outlier": "\"\\\"N/A\\\"\"",
          "X": 6.499999999999943,
          "Y": 4.948659154842545
         },
         {
          "Outlier": "\"\\\"N/A\\\"\"",
          "X": 6.599999999999941,
          "Y": 0.06324633258165924
         },
         {
          "Outlier": "\"\\\"N/A\\\"\"",
          "X": 6.699999999999939,
          "Y": 1.1503850545114138
         },
         {
          "Outlier": "\"\\\"N/A\\\"\"",
          "X": 6.79999999999994,
          "Y": 2.6898471047141186
         },
         {
          "Outlier": "\"\\\"N/A\\\"\"",
          "X": 6.899999999999942,
          "Y": -4.374601095872267
         },
         {
          "Outlier": "\"\\\"N/A\\\"\"",
          "X": 6.99999999999994,
          "Y": 1.5491170165833386
         },
         {
          "Outlier": "\"\\\"N/A\\\"\"",
          "X": 7.0999999999999375,
          "Y": -2.3609485220928743
         },
         {
          "Outlier": "\"\\\"N/A\\\"\"",
          "X": 7.199999999999939,
          "Y": -0.0942609278554909
         },
         {
          "Outlier": "\"\\\"N/A\\\"\"",
          "X": 7.29999999999994,
          "Y": -0.5388589833506128
         },
         {
          "Outlier": "\"\\\"N/A\\\"\"",
          "X": 7.399999999999938,
          "Y": 0.5962382750778243
         },
         {
          "Outlier": "\"\\\"N/A\\\"\"",
          "X": 7.499999999999936,
          "Y": -1.3257436628691723
         },
         {
          "Outlier": "\"\\\"N/A\\\"\"",
          "X": 7.5999999999999375,
          "Y": -5.121237631340199
         },
         {
          "Outlier": "\"\\\"N/A\\\"\"",
          "X": 7.699999999999939,
          "Y": 4.654914323228477
         },
         {
          "Outlier": "\"\\\"N/A\\\"\"",
          "X": 7.799999999999937,
          "Y": -1.1313326092145075
         },
         {
          "Outlier": "\"\\\"N/A\\\"\"",
          "X": 7.899999999999935,
          "Y": -1.7132890249326667
         },
         {
          "Outlier": "\"\\\"N/A\\\"\"",
          "X": 7.999999999999936,
          "Y": 0.3916398303450923
         },
         {
          "Outlier": "\"\\\"N/A\\\"\"",
          "X": 8.099999999999937,
          "Y": -2.524444758390908
         },
         {
          "Outlier": "\"\\\"N/A\\\"\"",
          "X": 8.199999999999935,
          "Y": 3.1351426027763005
         },
         {
          "Outlier": "\"\\\"N/A\\\"\"",
          "X": 8.299999999999933,
          "Y": -2.526442233487897
         },
         {
          "Outlier": "\"\\\"N/A\\\"\"",
          "X": 8.399999999999935,
          "Y": 7.305044364124927
         },
         {
          "Outlier": "\"\\\"N/A\\\"\"",
          "X": 8.499999999999936,
          "Y": 4.504315305684539
         },
         {
          "Outlier": "\"\\\"N/A\\\"\"",
          "X": 8.599999999999934,
          "Y": -6.271805562070819
         },
         {
          "Outlier": "\"\\\"N/A\\\"\"",
          "X": 8.699999999999932,
          "Y": -4.733636096084476
         },
         {
          "Outlier": "\"\\\"N/A\\\"\"",
          "X": 8.799999999999933,
          "Y": 9.884654283477841
         },
         {
          "Outlier": "\"\\\"N/A\\\"\"",
          "X": 8.899999999999935,
          "Y": 5.619123191610644
         },
         {
          "Outlier": "\"\\\"N/A\\\"\"",
          "X": 8.999999999999932,
          "Y": 2.662228060266002
         },
         {
          "Outlier": "\"\\\"N/A\\\"\"",
          "X": 9.09999999999993,
          "Y": 1.993978695409452
         },
         {
          "Outlier": "\"\\\"N/A\\\"\"",
          "X": 9.199999999999932,
          "Y": 3.9359028380271606
         },
         {
          "Outlier": "\"\\\"N/A\\\"\"",
          "X": 9.299999999999933,
          "Y": 4.306994719526277
         },
         {
          "Outlier": "\"\\\"N/A\\\"\"",
          "X": 9.399999999999931,
          "Y": 3.027973530288566
         },
         {
          "Outlier": "\"\\\"N/A\\\"\"",
          "X": 9.499999999999929,
          "Y": -3.371241823317948
         },
         {
          "Outlier": "\"\\\"N/A\\\"\"",
          "X": 9.59999999999993,
          "Y": 1.1784571810794127
         },
         {
          "Outlier": "\"\\\"N/A\\\"\"",
          "X": 9.699999999999932,
          "Y": -3.027408780766746
         },
         {
          "Outlier": "\"\\\"N/A\\\"\"",
          "X": 9.79999999999993,
          "Y": -3.525879598992623
         },
         {
          "Outlier": "\"\\\"N/A\\\"\"",
          "X": 9.899999999999928,
          "Y": -3.355848868078769
         },
         {
          "Outlier": "\"\\\"N/A\\\"\"",
          "X": 9.999999999999929,
          "Y": -0.15141811053418497
         }
        ]
       },
       "encoding": {
        "color": {
         "field": "Outlier"
        },
        "x": {
         "field": "X",
         "type": "quantitative"
        },
        "y": {
         "field": "Y",
         "type": "quantitative"
        }
       },
       "height": 400,
       "mark": "circle",
       "width": 400
      },
      "image/png": "[encoded data removed]"
     },
     "metadata": {},
     "output_type": "display_data"
    }
   ],
   "source": [
    "plot (fmap (second (T.pack . show)) (zip (zip range $ ys !! 0) (Prelude.repeat \"N/A\")))"
   ]
  },
  {
   "cell_type": "code",
   "execution_count": null,
   "id": "33fb2650-3936-4592-9052-a77aa2a5c207",
   "metadata": {},
   "outputs": [],
   "source": []
  }
 ],
 "metadata": {
  "kernelspec": {
   "display_name": "Haskell - nixpkgs",
   "language": "haskell",
   "name": "ihaskell_nixpkgs"
  },
  "language_info": {
   "codemirror_mode": "ihaskell",
   "file_extension": ".hs",
   "mimetype": "text/x-haskell",
   "name": "haskell",
   "pygments_lexer": "Haskell",
   "version": "9.0.2"
  }
 },
 "nbformat": 4,
 "nbformat_minor": 5
}
