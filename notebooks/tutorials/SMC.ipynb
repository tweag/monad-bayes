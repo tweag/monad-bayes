{
 "cells": [
  {
   "cell_type": "code",
   "execution_count": 1,
   "metadata": {},
   "outputs": [],
   "source": [
    ":e ImportQualifiedPost\n",
    ":e FlexibleContexts\n",
    ":e BlockArguments\n",
    ":e TupleSections\n",
    ":e FlexibleContexts\n",
    ":e OverloadedStrings\n",
    ":e LambdaCase\n",
    ":e PackageImports\n",
    "\n",
    "\n",
    "import Control.Monad.Bayes.Class\n",
    "import Control.Monad.Bayes.Enumerator\n",
    "import Control.Monad.Bayes.Weighted\n",
    "import Control.Monad.Bayes.Sampler.Strict\n",
    "import Control.Monad.Bayes.Density.Free\n",
    "import Control.Monad.Bayes.Population\n",
    "import Control.Monad.Bayes.Sequential.Coroutine\n",
    "import Control.Monad.Bayes.Inference.SMC\n",
    "\n",
    "import qualified Graphics.Vega.VegaLite as VL\n",
    "import IHaskell.Display.Hvega (vlShow)\n",
    "import Control.Applicative\n",
    "import qualified Data.Text as T\n",
    "import Pipes (Producer, (>->))\n",
    "import qualified Pipes as P\n",
    "import Pipes.Prelude (unfoldr)\n",
    "import qualified Pipes.Prelude as P\n",
    "import Data.Ord\n",
    "import Data.List\n",
    "import Control.Monad\n",
    "import Control.Arrow (first)\n",
    "import Numeric.Log\n",
    "import Data.Vector qualified as V\n",
    "\n",
    "import \"matrix\" Data.Matrix hiding ((!))\n",
    "import Data.Vector.Generic as VG (Vector, map, mapM, null, sum, (!))\n",
    "\n",
    ":l ../plotting.hs"
   ]
  },
  {
   "cell_type": "markdown",
   "metadata": {},
   "source": [
    "# Sequential Inference\n",
    "\n",
    "This tutorial discusses particle filters, and sequential Monte Carlo more generally.\n",
    "\n",
    "These techniques are relevant when performing inference on models where there is a large series of factor statements, some of which can be performed earlier than others. This situation often arises in time series models where the factor statements are the result of incoming observations, but the technique works for *any* probabilistic program.\n",
    "\n",
    "As a motivating example, consider the following program:"
   ]
  },
  {
   "cell_type": "code",
   "execution_count": 2,
   "metadata": {},
   "outputs": [],
   "source": [
    "ex :: MonadMeasure m => Int -> m [Bool]\n",
    "ex n = replicateM n do\n",
    "    x <- bernoulli 0.5\n",
    "    condition x\n",
    "    return x"
   ]
  },
  {
   "cell_type": "markdown",
   "metadata": {},
   "source": [
    "What distribution does this represent? It is the distribution over all lists of Booleans of length $n$, which for e.g. $n=4$, places all the weight on the sequence `[True,True,True,True]`. Function `condition` give a default score of 1 if x else 0 and effectively filters out all `False` values.\n",
    "\n",
    "Function `normalForm` computes all possible combinations of discrete variable values, here a sequence of $n$ booleans, filters out ones with weight 0 and aggregates weights of equal values. "
   ]
  },
  {
   "cell_type": "code",
   "execution_count": 3,
   "metadata": {},
   "outputs": [
    {
     "data": {
      "text/plain": [
       "[([True,True,True,True],6.25e-2)]"
      ]
     },
     "metadata": {},
     "output_type": "display_data"
    }
   ],
   "source": [
    "normalForm $ ex 4"
   ]
  },
  {
   "cell_type": "code",
   "execution_count": 4,
   "metadata": {},
   "outputs": [
    {
     "data": {
      "text/plain": [
       "[([True,True],0.25),([True,False],0.0),([False,True],0.0),([False,False],0.0)]"
      ]
     },
     "metadata": {},
     "output_type": "display_data"
    }
   ],
   "source": [
    "explicit $ ex 2"
   ]
  },
  {
   "cell_type": "markdown",
   "metadata": {},
   "source": [
    "**This is inefficient**\n",
    "\n",
    "However, the naive approach to exactly inferring this distribution will not work. Why? Because it first constructs all $2^n$ possible solutions, and then throws away all but one. This has complexity exponential in $n$ and for e.g. $n=100$, it is hopeless. \n",
    "\n",
    "Now if we look at the structure of the program, it's clear that this is unnecessary. Each time a `condition` statement is made, we should throw away all possibilities with $0$ probability mass. If we do this, the size of the set of possible solutions never explodes.\n",
    "\n",
    "We can perform this *sequential enumeration* with monad-bayes, as follows:"
   ]
  },
  {
   "cell_type": "code",
   "execution_count": 5,
   "metadata": {},
   "outputs": [
    {
     "data": {
      "text/plain": [
       "[([True,True,True,True,True,True,True,True,True,True,True,True,True,True,True,True,True,True,True,True,True,True,True,True,True,True,True,True,True,True,True,True,True,True,True,True,True,True,True,True,True,True,True,True,True,True,True,True,True,True,True,True,True,True,True,True,True,True,True,True,True,True,True,True,True,True,True,True,True,True,True,True,True,True,True,True,True,True,True,True,True,True,True,True,True,True,True,True,True,True,True,True,True,True,True,True,True,True,True,True],1.0)]"
      ]
     },
     "metadata": {},
     "output_type": "display_data"
    }
   ],
   "source": [
    "enumerate $ sis removeZeros 100 $ ex 100"
   ]
  },
  {
   "cell_type": "markdown",
   "metadata": {},
   "source": [
    "`sis` (Sequential Importance Sampling) is an inference method which performs a step of inference at each `factor` statement in the program. In the present case, we have used it in conjunction with exact inference, but the idea generalizes naturally to approximate inference methods.\n"
   ]
  },
  {
   "cell_type": "markdown",
   "metadata": {},
   "source": [
    "## Random walk example\n",
    "\n",
    "To motivate sis with approximate inferece methods, let's examine a problem for which exact inference is no longer feasible, a non-linear state space model. Here we will make use of the [pipes](https://hackage.haskell.org/package/pipes-4.3.16/docs/Pipes-Prelude.html) library, which offers an elegant way to represent distributions over discrete random walks as infinite streams. See the `examples/Streaming` notebook for more info.\n",
    "\n",
    "A `Producer` represents a stream of data, and a `Pipe` maps one stream to another. Both are parametrized by a monad `m`, which in our case will be `MonadDistribution m => m`. \n",
    "\n",
    "For example, a 2D random walk with a Gaussian `transition` kernel can be written as follows:"
   ]
  },
  {
   "cell_type": "code",
   "execution_count": 6,
   "metadata": {},
   "outputs": [],
   "source": [
    "-- how to move from one latent state to the next \n",
    "-- for multivariate normal distribution\n",
    "transition :: MonadDistribution m => V.Vector Double -> m (V.Vector Double)\n",
    "transition vector = mvNormal (fmap (+0.5) vector) (identity (V.length vector))\n",
    "\n",
    "\n",
    "-- For 2D case: a Markovian random walk starting at (0,0),\n",
    "-- with `transition` as the kernel\n",
    "-- a Producer is an infinite stream of values\n",
    "prior :: MonadDistribution m => Producer (V.Vector Double) m r\n",
    "prior = P.unfoldr (\\s -> Right . (s,) <$> transition s) (V.fromList [0,0])"
   ]
  },
  {
   "cell_type": "markdown",
   "metadata": {},
   "source": [
    "It's straightforward to take the first `n` steps of this infinite stream, and convert it into a distribution over finite list, from which we can then sample:"
   ]
  },
  {
   "cell_type": "code",
   "execution_count": 7,
   "metadata": {},
   "outputs": [
    {
     "data": {
      "application/vnd.vegalite.v4+json": {
       "$schema": "https://vega.github.io/schema/vega-lite/v4.json",
       "data": {
        "values": [
         {
          "Outlier": "\"Latent\"",
          "X": 0,
          "Y": 0
         },
         {
          "Outlier": "\"Latent\"",
          "X": -0.976725852798596,
          "Y": 1.6137193880196077
         },
         {
          "Outlier": "\"Latent\"",
          "X": 0.20408138974710444,
          "Y": 1.7919034094222825
         },
         {
          "Outlier": "\"Latent\"",
          "X": 0.4831200523092556,
          "Y": 1.907099116274424
         },
         {
          "Outlier": "\"Latent\"",
          "X": -0.09176882753590254,
          "Y": 1.8955141804642897
         },
         {
          "Outlier": "\"Latent\"",
          "X": -1.2218589977848304,
          "Y": 2.1822412112642686
         },
         {
          "Outlier": "\"Latent\"",
          "X": -0.7668458940561108,
          "Y": 2.212530442551486
         },
         {
          "Outlier": "\"Latent\"",
          "X": -0.6690157871149474,
          "Y": 3.6065228326525913
         },
         {
          "Outlier": "\"Latent\"",
          "X": 0.11244333089173442,
          "Y": 2.9159986959761524
         },
         {
          "Outlier": "\"Latent\"",
          "X": 1.2687408682854557,
          "Y": 3.1217227285265796
         },
         {
          "Outlier": "\"Latent\"",
          "X": 2.9374928178780935,
          "Y": 4.807186806397708
         },
         {
          "Outlier": "\"Latent\"",
          "X": 1.7506468484445976,
          "Y": 6.528258479316207
         },
         {
          "Outlier": "\"Latent\"",
          "X": 2.736589222593742,
          "Y": 6.949265904332787
         },
         {
          "Outlier": "\"Latent\"",
          "X": 3.641180710652565,
          "Y": 6.681148574533908
         },
         {
          "Outlier": "\"Latent\"",
          "X": 3.256520244565894,
          "Y": 7.874942228007868
         },
         {
          "Outlier": "\"Latent\"",
          "X": 3.532287597906861,
          "Y": 8.830585157823975
         },
         {
          "Outlier": "\"Latent\"",
          "X": 2.1806733831668645,
          "Y": 8.017622208601368
         },
         {
          "Outlier": "\"Latent\"",
          "X": 2.009761220323491,
          "Y": 7.84268801368802
         },
         {
          "Outlier": "\"Latent\"",
          "X": 2.141654233585815,
          "Y": 7.1758683184915455
         },
         {
          "Outlier": "\"Latent\"",
          "X": 2.109134026193262,
          "Y": 6.295985176823156
         },
         {
          "Outlier": "\"Latent\"",
          "X": 2.405745472992563,
          "Y": 6.200693454492153
         },
         {
          "Outlier": "\"Latent\"",
          "X": -0.01763593390225182,
          "Y": 6.26472827677569
         },
         {
          "Outlier": "\"Latent\"",
          "X": -0.7129309873545127,
          "Y": 6.073043706411563
         },
         {
          "Outlier": "\"Latent\"",
          "X": -1.3881353873773867,
          "Y": 5.511813869639958
         },
         {
          "Outlier": "\"Latent\"",
          "X": -2.0112168014112006,
          "Y": 4.863763667368105
         },
         {
          "Outlier": "\"Latent\"",
          "X": -2.6313526403453142,
          "Y": 6.526587675025231
         },
         {
          "Outlier": "\"Latent\"",
          "X": -3.647308978418825,
          "Y": 9.059358389741346
         },
         {
          "Outlier": "\"Latent\"",
          "X": -3.522248228389822,
          "Y": 10.81130328807151
         },
         {
          "Outlier": "\"Latent\"",
          "X": -3.1756973573574925,
          "Y": 11.004220161318386
         },
         {
          "Outlier": "\"Latent\"",
          "X": 0.11010814466808982,
          "Y": 10.321234798745154
         },
         {
          "Outlier": "\"Latent\"",
          "X": -0.39187980161433855,
          "Y": 12.364011379280585
         },
         {
          "Outlier": "\"Latent\"",
          "X": 0.03081207681047786,
          "Y": 12.291837576109366
         },
         {
          "Outlier": "\"Latent\"",
          "X": -0.14240533533610533,
          "Y": 14.912448411461696
         },
         {
          "Outlier": "\"Latent\"",
          "X": 0.7434588861709679,
          "Y": 15.226819972736129
         },
         {
          "Outlier": "\"Latent\"",
          "X": -0.08616212989934202,
          "Y": 16.246907651854926
         },
         {
          "Outlier": "\"Latent\"",
          "X": -1.2965615882985957,
          "Y": 16.938548777168933
         },
         {
          "Outlier": "\"Latent\"",
          "X": -1.0233599219588343,
          "Y": 18.172882376939775
         },
         {
          "Outlier": "\"Latent\"",
          "X": -1.593063313624189,
          "Y": 17.761804204307506
         },
         {
          "Outlier": "\"Latent\"",
          "X": -0.9071992020452398,
          "Y": 16.80832237549457
         },
         {
          "Outlier": "\"Latent\"",
          "X": 1.537278546495295,
          "Y": 18.239554653824978
         },
         {
          "Outlier": "\"Latent\"",
          "X": 1.293986040876521,
          "Y": 18.531479436575104
         },
         {
          "Outlier": "\"Latent\"",
          "X": 0.33734706739165166,
          "Y": 19.17952773388102
         },
         {
          "Outlier": "\"Latent\"",
          "X": 1.5526873356861643,
          "Y": 19.89809726940538
         },
         {
          "Outlier": "\"Latent\"",
          "X": 0.9653041361138308,
          "Y": 18.978715147896484
         },
         {
          "Outlier": "\"Latent\"",
          "X": 2.1754309252424315,
          "Y": 20.733465934111884
         },
         {
          "Outlier": "\"Latent\"",
          "X": 1.9042944402780204,
          "Y": 21.96238995944239
         },
         {
          "Outlier": "\"Latent\"",
          "X": 1.1670764368639701,
          "Y": 20.42119386858742
         },
         {
          "Outlier": "\"Latent\"",
          "X": 1.3725692433059047,
          "Y": 20.078416515233386
         },
         {
          "Outlier": "\"Latent\"",
          "X": 2.685773076792982,
          "Y": 19.780304063644362
         },
         {
          "Outlier": "\"Latent\"",
          "X": 2.304412655375019,
          "Y": 18.3267445924497
         },
         {
          "Outlier": "\"Latent\"",
          "X": 3.3005017878405236,
          "Y": 19.282099858122923
         },
         {
          "Outlier": "\"Latent\"",
          "X": 5.293682460243824,
          "Y": 18.09075163407331
         },
         {
          "Outlier": "\"Latent\"",
          "X": 5.48617010881213,
          "Y": 18.88912742921528
         },
         {
          "Outlier": "\"Latent\"",
          "X": 5.460178753240708,
          "Y": 20.05661588255413
         },
         {
          "Outlier": "\"Latent\"",
          "X": 6.694373042710004,
          "Y": 21.28417138017432
         },
         {
          "Outlier": "\"Latent\"",
          "X": 7.176262338621055,
          "Y": 23.610823147215058
         },
         {
          "Outlier": "\"Latent\"",
          "X": 9.263967259279326,
          "Y": 23.793471620769253
         },
         {
          "Outlier": "\"Latent\"",
          "X": 9.570548244239397,
          "Y": 22.80525709268169
         },
         {
          "Outlier": "\"Latent\"",
          "X": 12.224205146716235,
          "Y": 23.467270848547056
         },
         {
          "Outlier": "\"Latent\"",
          "X": 12.998028549367675,
          "Y": 24.976179113989346
         },
         {
          "Outlier": "\"Latent\"",
          "X": 13.469190861482701,
          "Y": 25.033371366639106
         },
         {
          "Outlier": "\"Latent\"",
          "X": 15.202761232337336,
          "Y": 23.705490410204654
         },
         {
          "Outlier": "\"Latent\"",
          "X": 15.45147544674246,
          "Y": 23.62245393809943
         },
         {
          "Outlier": "\"Latent\"",
          "X": 15.948845956272837,
          "Y": 23.316292902745392
         },
         {
          "Outlier": "\"Latent\"",
          "X": 17.16913170577638,
          "Y": 24.777353392198744
         },
         {
          "Outlier": "\"Latent\"",
          "X": 17.210423055711384,
          "Y": 26.565764557732845
         },
         {
          "Outlier": "\"Latent\"",
          "X": 17.498127213076074,
          "Y": 26.891514119480085
         },
         {
          "Outlier": "\"Latent\"",
          "X": 16.154587096331557,
          "Y": 26.96269886332814
         },
         {
          "Outlier": "\"Latent\"",
          "X": 17.365461967568603,
          "Y": 27.809691065821152
         },
         {
          "Outlier": "\"Latent\"",
          "X": 17.798709082450195,
          "Y": 26.878326604248347
         },
         {
          "Outlier": "\"Latent\"",
          "X": 18.711785330404158,
          "Y": 27.40681326568193
         },
         {
          "Outlier": "\"Latent\"",
          "X": 19.69126789860091,
          "Y": 29.24772788318292
         },
         {
          "Outlier": "\"Latent\"",
          "X": 18.611842559840028,
          "Y": 29.623895863932383
         },
         {
          "Outlier": "\"Latent\"",
          "X": 18.839415485737106,
          "Y": 30.176998016059404
         },
         {
          "Outlier": "\"Latent\"",
          "X": 17.872071800282136,
          "Y": 31.31449032366575
         },
         {
          "Outlier": "\"Latent\"",
          "X": 17.234433457755895,
          "Y": 31.92462627820767
         },
         {
          "Outlier": "\"Latent\"",
          "X": 18.316980583807805,
          "Y": 31.971459033847758
         },
         {
          "Outlier": "\"Latent\"",
          "X": 18.20614845743506,
          "Y": 33.38337742068083
         },
         {
          "Outlier": "\"Latent\"",
          "X": 19.469906680607902,
          "Y": 35.00768028137768
         },
         {
          "Outlier": "\"Latent\"",
          "X": 21.166533013229724,
          "Y": 36.2275881565787
         },
         {
          "Outlier": "\"Latent\"",
          "X": 20.934551476362326,
          "Y": 37.71788456932134
         },
         {
          "Outlier": "\"Latent\"",
          "X": 23.091390514827275,
          "Y": 37.35456321648551
         },
         {
          "Outlier": "\"Latent\"",
          "X": 23.202579247316468,
          "Y": 38.33182657807645
         },
         {
          "Outlier": "\"Latent\"",
          "X": 24.814982095085746,
          "Y": 39.896259204044675
         },
         {
          "Outlier": "\"Latent\"",
          "X": 26.862289553534435,
          "Y": 41.594015899000084
         },
         {
          "Outlier": "\"Latent\"",
          "X": 29.13108856747485,
          "Y": 43.24237558248829
         },
         {
          "Outlier": "\"Latent\"",
          "X": 29.96573917639689,
          "Y": 43.08564704913662
         },
         {
          "Outlier": "\"Latent\"",
          "X": 30.38129760060132,
          "Y": 42.60313904655006
         },
         {
          "Outlier": "\"Latent\"",
          "X": 30.127208744625026,
          "Y": 43.46925607531138
         },
         {
          "Outlier": "\"Latent\"",
          "X": 30.55395052376439,
          "Y": 44.113573468167885
         },
         {
          "Outlier": "\"Latent\"",
          "X": 31.939391547518845,
          "Y": 43.2108558967726
         },
         {
          "Outlier": "\"Latent\"",
          "X": 32.61564963693414,
          "Y": 44.322174851055706
         },
         {
          "Outlier": "\"Latent\"",
          "X": 33.968317987343596,
          "Y": 43.58458105865007
         },
         {
          "Outlier": "\"Latent\"",
          "X": 33.869346145845,
          "Y": 44.815191784044025
         },
         {
          "Outlier": "\"Latent\"",
          "X": 35.656369696990275,
          "Y": 45.33590548300918
         },
         {
          "Outlier": "\"Latent\"",
          "X": 36.36554153078791,
          "Y": 43.511280010066635
         },
         {
          "Outlier": "\"Latent\"",
          "X": 38.89653663422507,
          "Y": 42.455163627123405
         },
         {
          "Outlier": "\"Latent\"",
          "X": 40.62441756480252,
          "Y": 41.727621228442274
         },
         {
          "Outlier": "\"Latent\"",
          "X": 41.91827352178923,
          "Y": 41.3009998512681
         },
         {
          "Outlier": "\"Latent\"",
          "X": 41.57668178338979,
          "Y": 41.469615373408814
         }
        ]
       },
       "encoding": {
        "color": {
         "field": "Outlier"
        },
        "x": {
         "field": "X",
         "type": "quantitative"
        },
        "y": {
         "field": "Y",
         "type": "quantitative"
        }
       },
       "height": 400,
       "mark": "circle",
       "width": 400
      },
      "image/png": "[encoded data removed]"
     },
     "metadata": {},
     "output_type": "display_data"
    }
   ],
   "source": [
    "-- convert the stream to a list, taking only the first 100 steps\n",
    "toList :: Monad m => P.Producer a m () -> m [a]\n",
    "toList prod = P.toListM (prod >-> P.take 100)\n",
    "\n",
    "randomWalkPrior <- sampleIOfixed $ toList prior\n",
    "\n",
    "plot \n",
    "    (zip \n",
    "        (fmap (\\v -> (v V.! 0, v V.! 1)) $ randomWalkPrior) \n",
    "        (replicate 100 (T.pack \"Latent\")))"
   ]
  },
  {
   "cell_type": "markdown",
   "metadata": {},
   "source": [
    "We can also produce a stream of observations from `prior`, each a noisy perturbation of the datapoint in question, by using a `Pipe`:"
   ]
  },
  {
   "cell_type": "code",
   "execution_count": 8,
   "metadata": {},
   "outputs": [],
   "source": [
    "observationModel = (`mvNormal` fromLists [[20,0],[0,20]])\n",
    "\n",
    "observations :: MonadDistribution m => P.Pipe (V.Vector Double) (V.Vector Double) m ()\n",
    "observations = P.mapM observationModel"
   ]
  },
  {
   "cell_type": "code",
   "execution_count": 9,
   "metadata": {},
   "outputs": [
    {
     "data": {
      "application/vnd.vegalite.v4+json": {
       "$schema": "https://vega.github.io/schema/vega-lite/v4.json",
       "data": {
        "values": [
         {
          "Outlier": "\"Prior\"",
          "X": 0,
          "Y": 0
         },
         {
          "Outlier": "\"Prior\"",
          "X": -0.976725852798596,
          "Y": 1.6137193880196077
         },
         {
          "Outlier": "\"Prior\"",
          "X": 0.20408138974710444,
          "Y": 1.7919034094222825
         },
         {
          "Outlier": "\"Prior\"",
          "X": 0.4831200523092556,
          "Y": 1.907099116274424
         },
         {
          "Outlier": "\"Prior\"",
          "X": -0.09176882753590254,
          "Y": 1.8955141804642897
         },
         {
          "Outlier": "\"Prior\"",
          "X": -1.2218589977848304,
          "Y": 2.1822412112642686
         },
         {
          "Outlier": "\"Prior\"",
          "X": -0.7668458940561108,
          "Y": 2.212530442551486
         },
         {
          "Outlier": "\"Prior\"",
          "X": -0.6690157871149474,
          "Y": 3.6065228326525913
         },
         {
          "Outlier": "\"Prior\"",
          "X": 0.11244333089173442,
          "Y": 2.9159986959761524
         },
         {
          "Outlier": "\"Prior\"",
          "X": 1.2687408682854557,
          "Y": 3.1217227285265796
         },
         {
          "Outlier": "\"Prior\"",
          "X": 2.9374928178780935,
          "Y": 4.807186806397708
         },
         {
          "Outlier": "\"Prior\"",
          "X": 1.7506468484445976,
          "Y": 6.528258479316207
         },
         {
          "Outlier": "\"Prior\"",
          "X": 2.736589222593742,
          "Y": 6.949265904332787
         },
         {
          "Outlier": "\"Prior\"",
          "X": 3.641180710652565,
          "Y": 6.681148574533908
         },
         {
          "Outlier": "\"Prior\"",
          "X": 3.256520244565894,
          "Y": 7.874942228007868
         },
         {
          "Outlier": "\"Prior\"",
          "X": 3.532287597906861,
          "Y": 8.830585157823975
         },
         {
          "Outlier": "\"Prior\"",
          "X": 2.1806733831668645,
          "Y": 8.017622208601368
         },
         {
          "Outlier": "\"Prior\"",
          "X": 2.009761220323491,
          "Y": 7.84268801368802
         },
         {
          "Outlier": "\"Prior\"",
          "X": 2.141654233585815,
          "Y": 7.1758683184915455
         },
         {
          "Outlier": "\"Prior\"",
          "X": 2.109134026193262,
          "Y": 6.295985176823156
         },
         {
          "Outlier": "\"Prior\"",
          "X": 2.405745472992563,
          "Y": 6.200693454492153
         },
         {
          "Outlier": "\"Prior\"",
          "X": -0.01763593390225182,
          "Y": 6.26472827677569
         },
         {
          "Outlier": "\"Prior\"",
          "X": -0.7129309873545127,
          "Y": 6.073043706411563
         },
         {
          "Outlier": "\"Prior\"",
          "X": -1.3881353873773867,
          "Y": 5.511813869639958
         },
         {
          "Outlier": "\"Prior\"",
          "X": -2.0112168014112006,
          "Y": 4.863763667368105
         },
         {
          "Outlier": "\"Prior\"",
          "X": -2.6313526403453142,
          "Y": 6.526587675025231
         },
         {
          "Outlier": "\"Prior\"",
          "X": -3.647308978418825,
          "Y": 9.059358389741346
         },
         {
          "Outlier": "\"Prior\"",
          "X": -3.522248228389822,
          "Y": 10.81130328807151
         },
         {
          "Outlier": "\"Prior\"",
          "X": -3.1756973573574925,
          "Y": 11.004220161318386
         },
         {
          "Outlier": "\"Prior\"",
          "X": 0.11010814466808982,
          "Y": 10.321234798745154
         },
         {
          "Outlier": "\"Prior\"",
          "X": -0.39187980161433855,
          "Y": 12.364011379280585
         },
         {
          "Outlier": "\"Prior\"",
          "X": 0.03081207681047786,
          "Y": 12.291837576109366
         },
         {
          "Outlier": "\"Prior\"",
          "X": -0.14240533533610533,
          "Y": 14.912448411461696
         },
         {
          "Outlier": "\"Prior\"",
          "X": 0.7434588861709679,
          "Y": 15.226819972736129
         },
         {
          "Outlier": "\"Prior\"",
          "X": -0.08616212989934202,
          "Y": 16.246907651854926
         },
         {
          "Outlier": "\"Prior\"",
          "X": -1.2965615882985957,
          "Y": 16.938548777168933
         },
         {
          "Outlier": "\"Prior\"",
          "X": -1.0233599219588343,
          "Y": 18.172882376939775
         },
         {
          "Outlier": "\"Prior\"",
          "X": -1.593063313624189,
          "Y": 17.761804204307506
         },
         {
          "Outlier": "\"Prior\"",
          "X": -0.9071992020452398,
          "Y": 16.80832237549457
         },
         {
          "Outlier": "\"Prior\"",
          "X": 1.537278546495295,
          "Y": 18.239554653824978
         },
         {
          "Outlier": "\"Prior\"",
          "X": 1.293986040876521,
          "Y": 18.531479436575104
         },
         {
          "Outlier": "\"Prior\"",
          "X": 0.33734706739165166,
          "Y": 19.17952773388102
         },
         {
          "Outlier": "\"Prior\"",
          "X": 1.5526873356861643,
          "Y": 19.89809726940538
         },
         {
          "Outlier": "\"Prior\"",
          "X": 0.9653041361138308,
          "Y": 18.978715147896484
         },
         {
          "Outlier": "\"Prior\"",
          "X": 2.1754309252424315,
          "Y": 20.733465934111884
         },
         {
          "Outlier": "\"Prior\"",
          "X": 1.9042944402780204,
          "Y": 21.96238995944239
         },
         {
          "Outlier": "\"Prior\"",
          "X": 1.1670764368639701,
          "Y": 20.42119386858742
         },
         {
          "Outlier": "\"Prior\"",
          "X": 1.3725692433059047,
          "Y": 20.078416515233386
         },
         {
          "Outlier": "\"Prior\"",
          "X": 2.685773076792982,
          "Y": 19.780304063644362
         },
         {
          "Outlier": "\"Prior\"",
          "X": 2.304412655375019,
          "Y": 18.3267445924497
         },
         {
          "Outlier": "\"Prior\"",
          "X": 3.3005017878405236,
          "Y": 19.282099858122923
         },
         {
          "Outlier": "\"Prior\"",
          "X": 5.293682460243824,
          "Y": 18.09075163407331
         },
         {
          "Outlier": "\"Prior\"",
          "X": 5.48617010881213,
          "Y": 18.88912742921528
         },
         {
          "Outlier": "\"Prior\"",
          "X": 5.460178753240708,
          "Y": 20.05661588255413
         },
         {
          "Outlier": "\"Prior\"",
          "X": 6.694373042710004,
          "Y": 21.28417138017432
         },
         {
          "Outlier": "\"Prior\"",
          "X": 7.176262338621055,
          "Y": 23.610823147215058
         },
         {
          "Outlier": "\"Prior\"",
          "X": 9.263967259279326,
          "Y": 23.793471620769253
         },
         {
          "Outlier": "\"Prior\"",
          "X": 9.570548244239397,
          "Y": 22.80525709268169
         },
         {
          "Outlier": "\"Prior\"",
          "X": 12.224205146716235,
          "Y": 23.467270848547056
         },
         {
          "Outlier": "\"Prior\"",
          "X": 12.998028549367675,
          "Y": 24.976179113989346
         },
         {
          "Outlier": "\"Prior\"",
          "X": 13.469190861482701,
          "Y": 25.033371366639106
         },
         {
          "Outlier": "\"Prior\"",
          "X": 15.202761232337336,
          "Y": 23.705490410204654
         },
         {
          "Outlier": "\"Prior\"",
          "X": 15.45147544674246,
          "Y": 23.62245393809943
         },
         {
          "Outlier": "\"Prior\"",
          "X": 15.948845956272837,
          "Y": 23.316292902745392
         },
         {
          "Outlier": "\"Prior\"",
          "X": 17.16913170577638,
          "Y": 24.777353392198744
         },
         {
          "Outlier": "\"Prior\"",
          "X": 17.210423055711384,
          "Y": 26.565764557732845
         },
         {
          "Outlier": "\"Prior\"",
          "X": 17.498127213076074,
          "Y": 26.891514119480085
         },
         {
          "Outlier": "\"Prior\"",
          "X": 16.154587096331557,
          "Y": 26.96269886332814
         },
         {
          "Outlier": "\"Prior\"",
          "X": 17.365461967568603,
          "Y": 27.809691065821152
         },
         {
          "Outlier": "\"Prior\"",
          "X": 17.798709082450195,
          "Y": 26.878326604248347
         },
         {
          "Outlier": "\"Prior\"",
          "X": 18.711785330404158,
          "Y": 27.40681326568193
         },
         {
          "Outlier": "\"Prior\"",
          "X": 19.69126789860091,
          "Y": 29.24772788318292
         },
         {
          "Outlier": "\"Prior\"",
          "X": 18.611842559840028,
          "Y": 29.623895863932383
         },
         {
          "Outlier": "\"Prior\"",
          "X": 18.839415485737106,
          "Y": 30.176998016059404
         },
         {
          "Outlier": "\"Prior\"",
          "X": 17.872071800282136,
          "Y": 31.31449032366575
         },
         {
          "Outlier": "\"Prior\"",
          "X": 17.234433457755895,
          "Y": 31.92462627820767
         },
         {
          "Outlier": "\"Prior\"",
          "X": 18.316980583807805,
          "Y": 31.971459033847758
         },
         {
          "Outlier": "\"Prior\"",
          "X": 18.20614845743506,
          "Y": 33.38337742068083
         },
         {
          "Outlier": "\"Prior\"",
          "X": 19.469906680607902,
          "Y": 35.00768028137768
         },
         {
          "Outlier": "\"Prior\"",
          "X": 21.166533013229724,
          "Y": 36.2275881565787
         },
         {
          "Outlier": "\"Prior\"",
          "X": 20.934551476362326,
          "Y": 37.71788456932134
         },
         {
          "Outlier": "\"Prior\"",
          "X": 23.091390514827275,
          "Y": 37.35456321648551
         },
         {
          "Outlier": "\"Prior\"",
          "X": 23.202579247316468,
          "Y": 38.33182657807645
         },
         {
          "Outlier": "\"Prior\"",
          "X": 24.814982095085746,
          "Y": 39.896259204044675
         },
         {
          "Outlier": "\"Prior\"",
          "X": 26.862289553534435,
          "Y": 41.594015899000084
         },
         {
          "Outlier": "\"Prior\"",
          "X": 29.13108856747485,
          "Y": 43.24237558248829
         },
         {
          "Outlier": "\"Prior\"",
          "X": 29.96573917639689,
          "Y": 43.08564704913662
         },
         {
          "Outlier": "\"Prior\"",
          "X": 30.38129760060132,
          "Y": 42.60313904655006
         },
         {
          "Outlier": "\"Prior\"",
          "X": 30.127208744625026,
          "Y": 43.46925607531138
         },
         {
          "Outlier": "\"Prior\"",
          "X": 30.55395052376439,
          "Y": 44.113573468167885
         },
         {
          "Outlier": "\"Prior\"",
          "X": 31.939391547518845,
          "Y": 43.2108558967726
         },
         {
          "Outlier": "\"Prior\"",
          "X": 32.61564963693414,
          "Y": 44.322174851055706
         },
         {
          "Outlier": "\"Prior\"",
          "X": 33.968317987343596,
          "Y": 43.58458105865007
         },
         {
          "Outlier": "\"Prior\"",
          "X": 33.869346145845,
          "Y": 44.815191784044025
         },
         {
          "Outlier": "\"Prior\"",
          "X": 35.656369696990275,
          "Y": 45.33590548300918
         },
         {
          "Outlier": "\"Prior\"",
          "X": 36.36554153078791,
          "Y": 43.511280010066635
         },
         {
          "Outlier": "\"Prior\"",
          "X": 38.89653663422507,
          "Y": 42.455163627123405
         },
         {
          "Outlier": "\"Prior\"",
          "X": 40.62441756480252,
          "Y": 41.727621228442274
         },
         {
          "Outlier": "\"Prior\"",
          "X": 41.91827352178923,
          "Y": 41.3009998512681
         },
         {
          "Outlier": "\"Prior\"",
          "X": 41.57668178338979,
          "Y": 41.469615373408814
         },
         {
          "Outlier": "\"Observed\"",
          "X": -6.604118781978018,
          "Y": 4.980704518942615
         },
         {
          "Outlier": "\"Observed\"",
          "X": 2.0679366950141507,
          "Y": 0.17451457924113445
         },
         {
          "Outlier": "\"Observed\"",
          "X": -0.784087752073494,
          "Y": 0.07100629439754713
         },
         {
          "Outlier": "\"Observed\"",
          "X": -4.323929154875499,
          "Y": -0.38077826919822977
         },
         {
          "Outlier": "\"Observed\"",
          "X": -7.381753687797518,
          "Y": 0.9417284666753574
         },
         {
          "Outlier": "\"Observed\"",
          "X": -1.42304651410346,
          "Y": 0.0816307940533405
         },
         {
          "Outlier": "\"Observed\"",
          "X": -2.5654043328228697,
          "Y": 6.210585953818649
         },
         {
          "Outlier": "\"Observed\"",
          "X": 0.5897076543852038,
          "Y": -1.7176629642729448
         },
         {
          "Outlier": "\"Observed\"",
          "X": 3.047495145047877,
          "Y": 1.5999565612526332
         },
         {
          "Outlier": "\"Observed\"",
          "X": 6.495558484534547,
          "Y": 8.423279254534474
         },
         {
          "Outlier": "\"Observed\"",
          "X": -4.606311692571564,
          "Y": 10.267985338488014
         },
         {
          "Outlier": "\"Observed\"",
          "X": 3.9238472119348433,
          "Y": 6.174992944554853
         },
         {
          "Outlier": "\"Observed\"",
          "X": 4.545977363428388,
          "Y": 3.5141407760809513
         },
         {
          "Outlier": "\"Observed\"",
          "X": -0.31514116770032263,
          "Y": 9.78388811758532
         },
         {
          "Outlier": "\"Observed\"",
          "X": 2.253721363157317,
          "Y": 9.91263935707983
         },
         {
          "Outlier": "\"Observed\"",
          "X": -4.748382906620191,
          "Y": 2.958836345023265
         },
         {
          "Outlier": "\"Observed\"",
          "X": -0.8197370229315197,
          "Y": 4.999224728270691
         },
         {
          "Outlier": "\"Observed\"",
          "X": 0.3635367296473775,
          "Y": 2.6245117017982134
         },
         {
          "Outlier": "\"Observed\"",
          "X": -0.23984853265825468,
          "Y": 1.0048433069385636
         },
         {
          "Outlier": "\"Observed\"",
          "X": 1.1995527645890707,
          "Y": 3.6337596616730496
         },
         {
          "Outlier": "\"Observed\"",
          "X": -10.668013626958995,
          "Y": 4.250997908098581
         },
         {
          "Outlier": "\"Observed\"",
          "X": -5.363157919279252,
          "Y": 3.1714208401318422
         },
         {
          "Outlier": "\"Observed\"",
          "X": -5.968604839170517,
          "Y": 1.327079596866934
         },
         {
          "Outlier": "\"Observed\"",
          "X": -6.410708159469776,
          "Y": 0.3775772819154639
         },
         {
          "Outlier": "\"Observed\"",
          "X": -7.0206165611920675,
          "Y": 10.064070721348244
         },
         {
          "Outlier": "\"Observed\"",
          "X": -9.41091548605336,
          "Y": 15.617414676577361
         },
         {
          "Outlier": "\"Observed\"",
          "X": -5.324088279154697,
          "Y": 14.65822618324197
         },
         {
          "Outlier": "\"Observed\"",
          "X": -4.20849359530951,
          "Y": 9.437985795745169
         },
         {
          "Outlier": "\"Observed\"",
          "X": 9.282803591886768,
          "Y": 5.713748787116422
         },
         {
          "Outlier": "\"Observed\"",
          "X": -4.370918176377746,
          "Y": 17.220741415088963
         },
         {
          "Outlier": "\"Observed\"",
          "X": -0.7376122317241958,
          "Y": 9.805172341609724
         },
         {
          "Outlier": "\"Observed\"",
          "X": -2.979907717582027,
          "Y": 21.775497539450214
         },
         {
          "Outlier": "\"Observed\"",
          "X": 1.5832319234135985,
          "Y": 14.082292796366653
         },
         {
          "Outlier": "\"Observed\"",
          "X": -5.2027870663201385,
          "Y": 17.552722782275595
         },
         {
          "Outlier": "\"Observed\"",
          "X": -7.735301045218452,
          "Y": 17.10395281882828
         },
         {
          "Outlier": "\"Observed\"",
          "X": -2.3108345707945404,
          "Y": 20.222588471668395
         },
         {
          "Outlier": "\"Observed\"",
          "X": -5.807218921010465,
          "Y": 14.098416923295684
         },
         {
          "Outlier": "\"Observed\"",
          "X": -0.7618537374879171,
          "Y": 11.261635857734632
         },
         {
          "Outlier": "\"Observed\"",
          "X": 7.788769650899518,
          "Y": 20.972919729872174
         },
         {
          "Outlier": "\"Observed\"",
          "X": -1.7868265929641516,
          "Y": 17.309013993417466
         },
         {
          "Outlier": "\"Observed\"",
          "X": -5.220301485898842,
          "Y": 19.193571550033354
         },
         {
          "Outlier": "\"Observed\"",
          "X": 3.5364460012905883,
          "Y": 20.15700041236707
         },
         {
          "Outlier": "\"Observed\"",
          "X": -3.310238167983752,
          "Y": 13.550427449921857
         },
         {
          "Outlier": "\"Observed\"",
          "X": 4.141087682384249,
          "Y": 24.590131253494373
         },
         {
          "Outlier": "\"Observed\"",
          "X": -1.2731962753789046,
          "Y": 23.993313276255467
         },
         {
          "Outlier": "\"Observed\"",
          "X": -3.6287126769627465,
          "Y": 12.833883530325284
         },
         {
          "Outlier": "\"Observed\"",
          "X": -0.1499997724530746,
          "Y": 16.652178964593464
         },
         {
          "Outlier": "\"Observed\"",
          "X": 5.009327345786954,
          "Y": 16.509149124349253
         },
         {
          "Outlier": "\"Observed\"",
          "X": -1.2557905531438727,
          "Y": 11.043720512284752
         },
         {
          "Outlier": "\"Observed\"",
          "X": 4.522990701558552,
          "Y": 20.363155248365302
         },
         {
          "Outlier": "\"Observed\"",
          "X": 9.978208760205773,
          "Y": 11.718160652925963
         },
         {
          "Outlier": "\"Observed\"",
          "X": 3.9184454167996794,
          "Y": 19.425128755629302
         },
         {
          "Outlier": "\"Observed\"",
          "X": 3.1338652555422057,
          "Y": 21.874226540939016
         },
         {
          "Outlier": "\"Observed\"",
          "X": 8.743595433131716,
          "Y": 23.310342982718993
         },
         {
          "Outlier": "\"Observed\"",
          "X": 6.613379511783457,
          "Y": 29.453206424820713
         },
         {
          "Outlier": "\"Observed\"",
          "X": 14.276694600226666,
          "Y": 22.191583975422777
         },
         {
          "Outlier": "\"Observed\"",
          "X": 8.398971127738657,
          "Y": 17.137973920956128
         },
         {
          "Outlier": "\"Observed\"",
          "X": 19.20199471253909,
          "Y": 23.52980463549172
         },
         {
          "Outlier": "\"Observed\"",
          "X": 13.448780631034062,
          "Y": 27.97924577772778
         },
         {
          "Outlier": "\"Observed\"",
          "X": 12.869062488518232,
          "Y": 22.99588266591196
         },
         {
          "Outlier": "\"Observed\"",
          "X": 18.985885270003877,
          "Y": 16.858839219909573
         },
         {
          "Outlier": "\"Observed\"",
          "X": 14.078977035598177,
          "Y": 21.098072040226764
         },
         {
          "Outlier": "\"Observed\"",
          "X": 15.439716007869933,
          "Y": 20.01719218637296
         },
         {
          "Outlier": "\"Observed\"",
          "X": 19.170061754501454,
          "Y": 27.614286072559228
         },
         {
          "Outlier": "\"Observed\"",
          "X": 15.117724258951394,
          "Y": 30.539303290406707
         },
         {
          "Outlier": "\"Observed\"",
          "X": 16.26100718476508,
          "Y": 25.78649290764824
         },
         {
          "Outlier": "\"Observed\"",
          "X": 9.253565172498794,
          "Y": 24.97379399439062
         },
         {
          "Outlier": "\"Observed\"",
          "X": 19.33371616749645,
          "Y": 28.514495168201634
         },
         {
          "Outlier": "\"Observed\"",
          "X": 17.066933989930615,
          "Y": 21.408434592512798
         },
         {
          "Outlier": "\"Observed\"",
          "X": 19.646042223081434,
          "Y": 27.00572282708338
         },
         {
          "Outlier": "\"Observed\"",
          "X": 20.856096563432388,
          "Y": 33.40356573919262
         },
         {
          "Outlier": "\"Observed\"",
          "X": 12.627863052890977,
          "Y": 28.69393425751238
         },
         {
          "Outlier": "\"Observed\"",
          "X": 17.39351164662902,
          "Y": 29.86137590774749
         },
         {
          "Outlier": "\"Observed\"",
          "X": 12.277255031672343,
          "Y": 33.02795028594141
         },
         {
          "Outlier": "\"Observed\"",
          "X": 12.784398464884404,
          "Y": 31.80703328591086
         },
         {
          "Outlier": "\"Observed\"",
          "X": 19.83966340565432,
          "Y": 29.898000751077628
         },
         {
          "Outlier": "\"Observed\"",
          "X": 15.5852562689874,
          "Y": 36.04968203962917
         },
         {
          "Outlier": "\"Observed\"",
          "X": 21.621779068212916,
          "Y": 38.41141266831211
         },
         {
          "Outlier": "\"Observed\"",
          "X": 24.821382327425248,
          "Y": 38.2272061743515
         },
         {
          "Outlier": "\"Observed\"",
          "X": 17.89301206380918,
          "Y": 40.65632835011219
         },
         {
          "Outlier": "\"Observed\"",
          "X": 28.344160911928352,
          "Y": 33.85699410658533
         },
         {
          "Outlier": "\"Observed\"",
          "X": 21.35257366568323,
          "Y": 39.48894985586034
         },
         {
          "Outlier": "\"Observed\"",
          "X": 28.177396019269384,
          "Y": 43.09211399634357
         },
         {
          "Outlier": "\"Observed\"",
          "X": 31.73475141345314,
          "Y": 45.252789984896225
         },
         {
          "Outlier": "\"Observed\"",
          "X": 34.772599220945175,
          "Y": 46.72963652879966
         },
         {
          "Outlier": "\"Observed\"",
          "X": 30.62769158799761,
          "Y": 40.30539629581213
         },
         {
          "Outlier": "\"Observed\"",
          "X": 29.588104969184702,
          "Y": 38.691737684694466
         },
         {
          "Outlier": "\"Observed\"",
          "X": 27.00890971452523,
          "Y": 44.24046417461117
         },
         {
          "Outlier": "\"Observed\"",
          "X": 29.79958802111487,
          "Y": 44.11466307683677
         },
         {
          "Outlier": "\"Observed\"",
          "X": 34.51376316212833,
          "Y": 37.84042978242134
         },
         {
          "Outlier": "\"Observed\"",
          "X": 32.727641686552495,
          "Y": 45.94475737219482
         },
         {
          "Outlier": "\"Observed\"",
          "X": 36.428898424490455,
          "Y": 38.7874871543542
         },
         {
          "Outlier": "\"Observed\"",
          "X": 31.289634478945427,
          "Y": 46.8519715527927
         },
         {
          "Outlier": "\"Observed\"",
          "X": 39.625090443853026,
          "Y": 44.90782626194713
         },
         {
          "Outlier": "\"Observed\"",
          "X": 36.59181457568985,
          "Y": 34.939864323554914
         },
         {
          "Outlier": "\"Observed\"",
          "X": 45.448427757297324,
          "Y": 36.55211598374231
         },
         {
          "Outlier": "\"Observed\"",
          "X": 44.387787092318824,
          "Y": 36.96542712969508
         },
         {
          "Outlier": "\"Observed\"",
          "X": 44.174649333133374,
          "Y": 37.583644450910434
         },
         {
          "Outlier": "\"Observed\"",
          "X": 38.154560849062484,
          "Y": 39.81900341290482
         },
         {
          "Outlier": "\"Observed\"",
          "X": 38.660476984766554,
          "Y": 43.314041616491615
         }
        ]
       },
       "encoding": {
        "color": {
         "field": "Outlier"
        },
        "x": {
         "field": "X",
         "type": "quantitative"
        },
        "y": {
         "field": "Y",
         "type": "quantitative"
        }
       },
       "height": 400,
       "mark": "circle",
       "width": 400
      },
      "image/png": "[encoded data removed]"
     },
     "metadata": {},
     "output_type": "display_data"
    }
   ],
   "source": [
    "randomWalkObserved <- sampleIOfixed $ toList $ P.each randomWalkPrior >-> observations\n",
    "\n",
    "\n",
    "plot \n",
    "    (zip \n",
    "        (fmap (\\v -> (v V.! 0, v V.! 1)) $ randomWalkPrior <> randomWalkObserved) \n",
    "        (replicate 100 (T.pack \"Prior\") <> replicate 100 (T.pack \"Observed\")))"
   ]
  },
  {
   "cell_type": "markdown",
   "metadata": {},
   "source": [
    "## Conditioning\n",
    "\n",
    "But most interestingly, we can update our prior, based on a stream of incoming observations. `conditioning` below takes two `Producer`s, the stream corresponding to the prior (see `prior` above) and the stream corresponding to the observations (`P.each observedVectors`, where `P.each` lifts a list to a stream), and a likelihood, and returns a posterior, also expressed as a stream.  "
   ]
  },
  {
   "cell_type": "code",
   "execution_count": 10,
   "metadata": {},
   "outputs": [],
   "source": [
    "-- take the original random walk as a prior and condition on the observations\n",
    "-- to obtain a posterior random walk\n",
    "conditioning :: MonadMeasure m => \n",
    "    P.Producer (V.Vector Double) m () -> \n",
    "    P.Producer (V.Vector Double) m () -> \n",
    "    ((V.Vector Double, V.Vector Double) -> m ()) ->\n",
    "    P.Producer (V.Vector Double) m ()\n",
    "conditioning prior observations observationModel = \n",
    "    P.zip prior observations\n",
    "    >-> P.chain observationModel\n",
    "    >-> P.map fst \n",
    "\n",
    "\n",
    "posterior :: MonadMeasure m => m [V.Vector Double]\n",
    "posterior = toList $ conditioning \n",
    "    prior\n",
    "    (P.each randomWalkObserved)\n",
    "    (\\(v, v') -> do\n",
    "        prediction <- observationModel v\n",
    "        let (x, y, x', y') = (prediction V.! 0, prediction V.! 1, v' V.! 0, v' V.! 1)\n",
    "        factor $ normalPdf x 2 x' * normalPdf y 2 y' )\n"
   ]
  },
  {
   "cell_type": "markdown",
   "metadata": {},
   "source": [
    "### Sequential Monte Carlo"
   ]
  },
  {
   "cell_type": "markdown",
   "metadata": {},
   "source": [
    "We can then use an inference method of our liking, but in this tutorial, we would like to see how SMC behaves.\n",
    "\n",
    "Following [Scibor et al](https://dl.acm.org/doi/pdf/10.1145/3236778):\n",
    "> Within the context of SMC, recall\n",
    "that a sample in a population is called a particle. The algorithm starts by initialising a population\n",
    "of size n, then repeatedly runs the program to the next `score`, resamples the population, runs to\n",
    "the next score and so on."
   ]
  },
  {
   "cell_type": "code",
   "execution_count": 11,
   "metadata": {
    "tags": []
   },
   "outputs": [
    {
     "data": {
      "text/plain": []
     },
     "metadata": {},
     "output_type": "display_data"
    }
   ],
   "source": [
    "particles <- sampleIOfixed $ runPopulation $ \n",
    "    smc SMCConfig {\n",
    "        numSteps = 100, \n",
    "        numParticles = 1000, \n",
    "        resampler = resampleMultinomial} \n",
    "    posterior"
   ]
  },
  {
   "cell_type": "markdown",
   "metadata": {},
   "source": [
    "Distribution is generated over whole paths. We may compare realizations of prior and inferred (here 5 paths) with the observed path."
   ]
  },
  {
   "cell_type": "code",
   "execution_count": 12,
   "metadata": {},
   "outputs": [
    {
     "data": {
      "application/vnd.vegalite.v4+json": {
       "$schema": "https://vega.github.io/schema/vega-lite/v4.json",
       "data": {
        "values": [
         {
          "Outlier": "\"Prior\"",
          "X": 0,
          "Y": 0
         },
         {
          "Outlier": "\"Prior\"",
          "X": -0.976725852798596,
          "Y": 1.6137193880196077
         },
         {
          "Outlier": "\"Prior\"",
          "X": 0.20408138974710444,
          "Y": 1.7919034094222825
         },
         {
          "Outlier": "\"Prior\"",
          "X": 0.4831200523092556,
          "Y": 1.907099116274424
         },
         {
          "Outlier": "\"Prior\"",
          "X": -0.09176882753590254,
          "Y": 1.8955141804642897
         },
         {
          "Outlier": "\"Prior\"",
          "X": -1.2218589977848304,
          "Y": 2.1822412112642686
         },
         {
          "Outlier": "\"Prior\"",
          "X": -0.7668458940561108,
          "Y": 2.212530442551486
         },
         {
          "Outlier": "\"Prior\"",
          "X": -0.6690157871149474,
          "Y": 3.6065228326525913
         },
         {
          "Outlier": "\"Prior\"",
          "X": 0.11244333089173442,
          "Y": 2.9159986959761524
         },
         {
          "Outlier": "\"Prior\"",
          "X": 1.2687408682854557,
          "Y": 3.1217227285265796
         },
         {
          "Outlier": "\"Prior\"",
          "X": 2.9374928178780935,
          "Y": 4.807186806397708
         },
         {
          "Outlier": "\"Prior\"",
          "X": 1.7506468484445976,
          "Y": 6.528258479316207
         },
         {
          "Outlier": "\"Prior\"",
          "X": 2.736589222593742,
          "Y": 6.949265904332787
         },
         {
          "Outlier": "\"Prior\"",
          "X": 3.641180710652565,
          "Y": 6.681148574533908
         },
         {
          "Outlier": "\"Prior\"",
          "X": 3.256520244565894,
          "Y": 7.874942228007868
         },
         {
          "Outlier": "\"Prior\"",
          "X": 3.532287597906861,
          "Y": 8.830585157823975
         },
         {
          "Outlier": "\"Prior\"",
          "X": 2.1806733831668645,
          "Y": 8.017622208601368
         },
         {
          "Outlier": "\"Prior\"",
          "X": 2.009761220323491,
          "Y": 7.84268801368802
         },
         {
          "Outlier": "\"Prior\"",
          "X": 2.141654233585815,
          "Y": 7.1758683184915455
         },
         {
          "Outlier": "\"Prior\"",
          "X": 2.109134026193262,
          "Y": 6.295985176823156
         },
         {
          "Outlier": "\"Prior\"",
          "X": 2.405745472992563,
          "Y": 6.200693454492153
         },
         {
          "Outlier": "\"Prior\"",
          "X": -0.01763593390225182,
          "Y": 6.26472827677569
         },
         {
          "Outlier": "\"Prior\"",
          "X": -0.7129309873545127,
          "Y": 6.073043706411563
         },
         {
          "Outlier": "\"Prior\"",
          "X": -1.3881353873773867,
          "Y": 5.511813869639958
         },
         {
          "Outlier": "\"Prior\"",
          "X": -2.0112168014112006,
          "Y": 4.863763667368105
         },
         {
          "Outlier": "\"Prior\"",
          "X": -2.6313526403453142,
          "Y": 6.526587675025231
         },
         {
          "Outlier": "\"Prior\"",
          "X": -3.647308978418825,
          "Y": 9.059358389741346
         },
         {
          "Outlier": "\"Prior\"",
          "X": -3.522248228389822,
          "Y": 10.81130328807151
         },
         {
          "Outlier": "\"Prior\"",
          "X": -3.1756973573574925,
          "Y": 11.004220161318386
         },
         {
          "Outlier": "\"Prior\"",
          "X": 0.11010814466808982,
          "Y": 10.321234798745154
         },
         {
          "Outlier": "\"Prior\"",
          "X": -0.39187980161433855,
          "Y": 12.364011379280585
         },
         {
          "Outlier": "\"Prior\"",
          "X": 0.03081207681047786,
          "Y": 12.291837576109366
         },
         {
          "Outlier": "\"Prior\"",
          "X": -0.14240533533610533,
          "Y": 14.912448411461696
         },
         {
          "Outlier": "\"Prior\"",
          "X": 0.7434588861709679,
          "Y": 15.226819972736129
         },
         {
          "Outlier": "\"Prior\"",
          "X": -0.08616212989934202,
          "Y": 16.246907651854926
         },
         {
          "Outlier": "\"Prior\"",
          "X": -1.2965615882985957,
          "Y": 16.938548777168933
         },
         {
          "Outlier": "\"Prior\"",
          "X": -1.0233599219588343,
          "Y": 18.172882376939775
         },
         {
          "Outlier": "\"Prior\"",
          "X": -1.593063313624189,
          "Y": 17.761804204307506
         },
         {
          "Outlier": "\"Prior\"",
          "X": -0.9071992020452398,
          "Y": 16.80832237549457
         },
         {
          "Outlier": "\"Prior\"",
          "X": 1.537278546495295,
          "Y": 18.239554653824978
         },
         {
          "Outlier": "\"Prior\"",
          "X": 1.293986040876521,
          "Y": 18.531479436575104
         },
         {
          "Outlier": "\"Prior\"",
          "X": 0.33734706739165166,
          "Y": 19.17952773388102
         },
         {
          "Outlier": "\"Prior\"",
          "X": 1.5526873356861643,
          "Y": 19.89809726940538
         },
         {
          "Outlier": "\"Prior\"",
          "X": 0.9653041361138308,
          "Y": 18.978715147896484
         },
         {
          "Outlier": "\"Prior\"",
          "X": 2.1754309252424315,
          "Y": 20.733465934111884
         },
         {
          "Outlier": "\"Prior\"",
          "X": 1.9042944402780204,
          "Y": 21.96238995944239
         },
         {
          "Outlier": "\"Prior\"",
          "X": 1.1670764368639701,
          "Y": 20.42119386858742
         },
         {
          "Outlier": "\"Prior\"",
          "X": 1.3725692433059047,
          "Y": 20.078416515233386
         },
         {
          "Outlier": "\"Prior\"",
          "X": 2.685773076792982,
          "Y": 19.780304063644362
         },
         {
          "Outlier": "\"Prior\"",
          "X": 2.304412655375019,
          "Y": 18.3267445924497
         },
         {
          "Outlier": "\"Prior\"",
          "X": 3.3005017878405236,
          "Y": 19.282099858122923
         },
         {
          "Outlier": "\"Prior\"",
          "X": 5.293682460243824,
          "Y": 18.09075163407331
         },
         {
          "Outlier": "\"Prior\"",
          "X": 5.48617010881213,
          "Y": 18.88912742921528
         },
         {
          "Outlier": "\"Prior\"",
          "X": 5.460178753240708,
          "Y": 20.05661588255413
         },
         {
          "Outlier": "\"Prior\"",
          "X": 6.694373042710004,
          "Y": 21.28417138017432
         },
         {
          "Outlier": "\"Prior\"",
          "X": 7.176262338621055,
          "Y": 23.610823147215058
         },
         {
          "Outlier": "\"Prior\"",
          "X": 9.263967259279326,
          "Y": 23.793471620769253
         },
         {
          "Outlier": "\"Prior\"",
          "X": 9.570548244239397,
          "Y": 22.80525709268169
         },
         {
          "Outlier": "\"Prior\"",
          "X": 12.224205146716235,
          "Y": 23.467270848547056
         },
         {
          "Outlier": "\"Prior\"",
          "X": 12.998028549367675,
          "Y": 24.976179113989346
         },
         {
          "Outlier": "\"Prior\"",
          "X": 13.469190861482701,
          "Y": 25.033371366639106
         },
         {
          "Outlier": "\"Prior\"",
          "X": 15.202761232337336,
          "Y": 23.705490410204654
         },
         {
          "Outlier": "\"Prior\"",
          "X": 15.45147544674246,
          "Y": 23.62245393809943
         },
         {
          "Outlier": "\"Prior\"",
          "X": 15.948845956272837,
          "Y": 23.316292902745392
         },
         {
          "Outlier": "\"Prior\"",
          "X": 17.16913170577638,
          "Y": 24.777353392198744
         },
         {
          "Outlier": "\"Prior\"",
          "X": 17.210423055711384,
          "Y": 26.565764557732845
         },
         {
          "Outlier": "\"Prior\"",
          "X": 17.498127213076074,
          "Y": 26.891514119480085
         },
         {
          "Outlier": "\"Prior\"",
          "X": 16.154587096331557,
          "Y": 26.96269886332814
         },
         {
          "Outlier": "\"Prior\"",
          "X": 17.365461967568603,
          "Y": 27.809691065821152
         },
         {
          "Outlier": "\"Prior\"",
          "X": 17.798709082450195,
          "Y": 26.878326604248347
         },
         {
          "Outlier": "\"Prior\"",
          "X": 18.711785330404158,
          "Y": 27.40681326568193
         },
         {
          "Outlier": "\"Prior\"",
          "X": 19.69126789860091,
          "Y": 29.24772788318292
         },
         {
          "Outlier": "\"Prior\"",
          "X": 18.611842559840028,
          "Y": 29.623895863932383
         },
         {
          "Outlier": "\"Prior\"",
          "X": 18.839415485737106,
          "Y": 30.176998016059404
         },
         {
          "Outlier": "\"Prior\"",
          "X": 17.872071800282136,
          "Y": 31.31449032366575
         },
         {
          "Outlier": "\"Prior\"",
          "X": 17.234433457755895,
          "Y": 31.92462627820767
         },
         {
          "Outlier": "\"Prior\"",
          "X": 18.316980583807805,
          "Y": 31.971459033847758
         },
         {
          "Outlier": "\"Prior\"",
          "X": 18.20614845743506,
          "Y": 33.38337742068083
         },
         {
          "Outlier": "\"Prior\"",
          "X": 19.469906680607902,
          "Y": 35.00768028137768
         },
         {
          "Outlier": "\"Prior\"",
          "X": 21.166533013229724,
          "Y": 36.2275881565787
         },
         {
          "Outlier": "\"Prior\"",
          "X": 20.934551476362326,
          "Y": 37.71788456932134
         },
         {
          "Outlier": "\"Prior\"",
          "X": 23.091390514827275,
          "Y": 37.35456321648551
         },
         {
          "Outlier": "\"Prior\"",
          "X": 23.202579247316468,
          "Y": 38.33182657807645
         },
         {
          "Outlier": "\"Prior\"",
          "X": 24.814982095085746,
          "Y": 39.896259204044675
         },
         {
          "Outlier": "\"Prior\"",
          "X": 26.862289553534435,
          "Y": 41.594015899000084
         },
         {
          "Outlier": "\"Prior\"",
          "X": 29.13108856747485,
          "Y": 43.24237558248829
         },
         {
          "Outlier": "\"Prior\"",
          "X": 29.96573917639689,
          "Y": 43.08564704913662
         },
         {
          "Outlier": "\"Prior\"",
          "X": 30.38129760060132,
          "Y": 42.60313904655006
         },
         {
          "Outlier": "\"Prior\"",
          "X": 30.127208744625026,
          "Y": 43.46925607531138
         },
         {
          "Outlier": "\"Prior\"",
          "X": 30.55395052376439,
          "Y": 44.113573468167885
         },
         {
          "Outlier": "\"Prior\"",
          "X": 31.939391547518845,
          "Y": 43.2108558967726
         },
         {
          "Outlier": "\"Prior\"",
          "X": 32.61564963693414,
          "Y": 44.322174851055706
         },
         {
          "Outlier": "\"Prior\"",
          "X": 33.968317987343596,
          "Y": 43.58458105865007
         },
         {
          "Outlier": "\"Prior\"",
          "X": 33.869346145845,
          "Y": 44.815191784044025
         },
         {
          "Outlier": "\"Prior\"",
          "X": 35.656369696990275,
          "Y": 45.33590548300918
         },
         {
          "Outlier": "\"Prior\"",
          "X": 36.36554153078791,
          "Y": 43.511280010066635
         },
         {
          "Outlier": "\"Prior\"",
          "X": 38.89653663422507,
          "Y": 42.455163627123405
         },
         {
          "Outlier": "\"Prior\"",
          "X": 40.62441756480252,
          "Y": 41.727621228442274
         },
         {
          "Outlier": "\"Prior\"",
          "X": 41.91827352178923,
          "Y": 41.3009998512681
         },
         {
          "Outlier": "\"Prior\"",
          "X": 41.57668178338979,
          "Y": 41.469615373408814
         },
         {
          "Outlier": "\"Observed\"",
          "X": -6.604118781978018,
          "Y": 4.980704518942615
         },
         {
          "Outlier": "\"Observed\"",
          "X": 2.0679366950141507,
          "Y": 0.17451457924113445
         },
         {
          "Outlier": "\"Observed\"",
          "X": -0.784087752073494,
          "Y": 0.07100629439754713
         },
         {
          "Outlier": "\"Observed\"",
          "X": -4.323929154875499,
          "Y": -0.38077826919822977
         },
         {
          "Outlier": "\"Observed\"",
          "X": -7.381753687797518,
          "Y": 0.9417284666753574
         },
         {
          "Outlier": "\"Observed\"",
          "X": -1.42304651410346,
          "Y": 0.0816307940533405
         },
         {
          "Outlier": "\"Observed\"",
          "X": -2.5654043328228697,
          "Y": 6.210585953818649
         },
         {
          "Outlier": "\"Observed\"",
          "X": 0.5897076543852038,
          "Y": -1.7176629642729448
         },
         {
          "Outlier": "\"Observed\"",
          "X": 3.047495145047877,
          "Y": 1.5999565612526332
         },
         {
          "Outlier": "\"Observed\"",
          "X": 6.495558484534547,
          "Y": 8.423279254534474
         },
         {
          "Outlier": "\"Observed\"",
          "X": -4.606311692571564,
          "Y": 10.267985338488014
         },
         {
          "Outlier": "\"Observed\"",
          "X": 3.9238472119348433,
          "Y": 6.174992944554853
         },
         {
          "Outlier": "\"Observed\"",
          "X": 4.545977363428388,
          "Y": 3.5141407760809513
         },
         {
          "Outlier": "\"Observed\"",
          "X": -0.31514116770032263,
          "Y": 9.78388811758532
         },
         {
          "Outlier": "\"Observed\"",
          "X": 2.253721363157317,
          "Y": 9.91263935707983
         },
         {
          "Outlier": "\"Observed\"",
          "X": -4.748382906620191,
          "Y": 2.958836345023265
         },
         {
          "Outlier": "\"Observed\"",
          "X": -0.8197370229315197,
          "Y": 4.999224728270691
         },
         {
          "Outlier": "\"Observed\"",
          "X": 0.3635367296473775,
          "Y": 2.6245117017982134
         },
         {
          "Outlier": "\"Observed\"",
          "X": -0.23984853265825468,
          "Y": 1.0048433069385636
         },
         {
          "Outlier": "\"Observed\"",
          "X": 1.1995527645890707,
          "Y": 3.6337596616730496
         },
         {
          "Outlier": "\"Observed\"",
          "X": -10.668013626958995,
          "Y": 4.250997908098581
         },
         {
          "Outlier": "\"Observed\"",
          "X": -5.363157919279252,
          "Y": 3.1714208401318422
         },
         {
          "Outlier": "\"Observed\"",
          "X": -5.968604839170517,
          "Y": 1.327079596866934
         },
         {
          "Outlier": "\"Observed\"",
          "X": -6.410708159469776,
          "Y": 0.3775772819154639
         },
         {
          "Outlier": "\"Observed\"",
          "X": -7.0206165611920675,
          "Y": 10.064070721348244
         },
         {
          "Outlier": "\"Observed\"",
          "X": -9.41091548605336,
          "Y": 15.617414676577361
         },
         {
          "Outlier": "\"Observed\"",
          "X": -5.324088279154697,
          "Y": 14.65822618324197
         },
         {
          "Outlier": "\"Observed\"",
          "X": -4.20849359530951,
          "Y": 9.437985795745169
         },
         {
          "Outlier": "\"Observed\"",
          "X": 9.282803591886768,
          "Y": 5.713748787116422
         },
         {
          "Outlier": "\"Observed\"",
          "X": -4.370918176377746,
          "Y": 17.220741415088963
         },
         {
          "Outlier": "\"Observed\"",
          "X": -0.7376122317241958,
          "Y": 9.805172341609724
         },
         {
          "Outlier": "\"Observed\"",
          "X": -2.979907717582027,
          "Y": 21.775497539450214
         },
         {
          "Outlier": "\"Observed\"",
          "X": 1.5832319234135985,
          "Y": 14.082292796366653
         },
         {
          "Outlier": "\"Observed\"",
          "X": -5.2027870663201385,
          "Y": 17.552722782275595
         },
         {
          "Outlier": "\"Observed\"",
          "X": -7.735301045218452,
          "Y": 17.10395281882828
         },
         {
          "Outlier": "\"Observed\"",
          "X": -2.3108345707945404,
          "Y": 20.222588471668395
         },
         {
          "Outlier": "\"Observed\"",
          "X": -5.807218921010465,
          "Y": 14.098416923295684
         },
         {
          "Outlier": "\"Observed\"",
          "X": -0.7618537374879171,
          "Y": 11.261635857734632
         },
         {
          "Outlier": "\"Observed\"",
          "X": 7.788769650899518,
          "Y": 20.972919729872174
         },
         {
          "Outlier": "\"Observed\"",
          "X": -1.7868265929641516,
          "Y": 17.309013993417466
         },
         {
          "Outlier": "\"Observed\"",
          "X": -5.220301485898842,
          "Y": 19.193571550033354
         },
         {
          "Outlier": "\"Observed\"",
          "X": 3.5364460012905883,
          "Y": 20.15700041236707
         },
         {
          "Outlier": "\"Observed\"",
          "X": -3.310238167983752,
          "Y": 13.550427449921857
         },
         {
          "Outlier": "\"Observed\"",
          "X": 4.141087682384249,
          "Y": 24.590131253494373
         },
         {
          "Outlier": "\"Observed\"",
          "X": -1.2731962753789046,
          "Y": 23.993313276255467
         },
         {
          "Outlier": "\"Observed\"",
          "X": -3.6287126769627465,
          "Y": 12.833883530325284
         },
         {
          "Outlier": "\"Observed\"",
          "X": -0.1499997724530746,
          "Y": 16.652178964593464
         },
         {
          "Outlier": "\"Observed\"",
          "X": 5.009327345786954,
          "Y": 16.509149124349253
         },
         {
          "Outlier": "\"Observed\"",
          "X": -1.2557905531438727,
          "Y": 11.043720512284752
         },
         {
          "Outlier": "\"Observed\"",
          "X": 4.522990701558552,
          "Y": 20.363155248365302
         },
         {
          "Outlier": "\"Observed\"",
          "X": 9.978208760205773,
          "Y": 11.718160652925963
         },
         {
          "Outlier": "\"Observed\"",
          "X": 3.9184454167996794,
          "Y": 19.425128755629302
         },
         {
          "Outlier": "\"Observed\"",
          "X": 3.1338652555422057,
          "Y": 21.874226540939016
         },
         {
          "Outlier": "\"Observed\"",
          "X": 8.743595433131716,
          "Y": 23.310342982718993
         },
         {
          "Outlier": "\"Observed\"",
          "X": 6.613379511783457,
          "Y": 29.453206424820713
         },
         {
          "Outlier": "\"Observed\"",
          "X": 14.276694600226666,
          "Y": 22.191583975422777
         },
         {
          "Outlier": "\"Observed\"",
          "X": 8.398971127738657,
          "Y": 17.137973920956128
         },
         {
          "Outlier": "\"Observed\"",
          "X": 19.20199471253909,
          "Y": 23.52980463549172
         },
         {
          "Outlier": "\"Observed\"",
          "X": 13.448780631034062,
          "Y": 27.97924577772778
         },
         {
          "Outlier": "\"Observed\"",
          "X": 12.869062488518232,
          "Y": 22.99588266591196
         },
         {
          "Outlier": "\"Observed\"",
          "X": 18.985885270003877,
          "Y": 16.858839219909573
         },
         {
          "Outlier": "\"Observed\"",
          "X": 14.078977035598177,
          "Y": 21.098072040226764
         },
         {
          "Outlier": "\"Observed\"",
          "X": 15.439716007869933,
          "Y": 20.01719218637296
         },
         {
          "Outlier": "\"Observed\"",
          "X": 19.170061754501454,
          "Y": 27.614286072559228
         },
         {
          "Outlier": "\"Observed\"",
          "X": 15.117724258951394,
          "Y": 30.539303290406707
         },
         {
          "Outlier": "\"Observed\"",
          "X": 16.26100718476508,
          "Y": 25.78649290764824
         },
         {
          "Outlier": "\"Observed\"",
          "X": 9.253565172498794,
          "Y": 24.97379399439062
         },
         {
          "Outlier": "\"Observed\"",
          "X": 19.33371616749645,
          "Y": 28.514495168201634
         },
         {
          "Outlier": "\"Observed\"",
          "X": 17.066933989930615,
          "Y": 21.408434592512798
         },
         {
          "Outlier": "\"Observed\"",
          "X": 19.646042223081434,
          "Y": 27.00572282708338
         },
         {
          "Outlier": "\"Observed\"",
          "X": 20.856096563432388,
          "Y": 33.40356573919262
         },
         {
          "Outlier": "\"Observed\"",
          "X": 12.627863052890977,
          "Y": 28.69393425751238
         },
         {
          "Outlier": "\"Observed\"",
          "X": 17.39351164662902,
          "Y": 29.86137590774749
         },
         {
          "Outlier": "\"Observed\"",
          "X": 12.277255031672343,
          "Y": 33.02795028594141
         },
         {
          "Outlier": "\"Observed\"",
          "X": 12.784398464884404,
          "Y": 31.80703328591086
         },
         {
          "Outlier": "\"Observed\"",
          "X": 19.83966340565432,
          "Y": 29.898000751077628
         },
         {
          "Outlier": "\"Observed\"",
          "X": 15.5852562689874,
          "Y": 36.04968203962917
         },
         {
          "Outlier": "\"Observed\"",
          "X": 21.621779068212916,
          "Y": 38.41141266831211
         },
         {
          "Outlier": "\"Observed\"",
          "X": 24.821382327425248,
          "Y": 38.2272061743515
         },
         {
          "Outlier": "\"Observed\"",
          "X": 17.89301206380918,
          "Y": 40.65632835011219
         },
         {
          "Outlier": "\"Observed\"",
          "X": 28.344160911928352,
          "Y": 33.85699410658533
         },
         {
          "Outlier": "\"Observed\"",
          "X": 21.35257366568323,
          "Y": 39.48894985586034
         },
         {
          "Outlier": "\"Observed\"",
          "X": 28.177396019269384,
          "Y": 43.09211399634357
         },
         {
          "Outlier": "\"Observed\"",
          "X": 31.73475141345314,
          "Y": 45.252789984896225
         },
         {
          "Outlier": "\"Observed\"",
          "X": 34.772599220945175,
          "Y": 46.72963652879966
         },
         {
          "Outlier": "\"Observed\"",
          "X": 30.62769158799761,
          "Y": 40.30539629581213
         },
         {
          "Outlier": "\"Observed\"",
          "X": 29.588104969184702,
          "Y": 38.691737684694466
         },
         {
          "Outlier": "\"Observed\"",
          "X": 27.00890971452523,
          "Y": 44.24046417461117
         },
         {
          "Outlier": "\"Observed\"",
          "X": 29.79958802111487,
          "Y": 44.11466307683677
         },
         {
          "Outlier": "\"Observed\"",
          "X": 34.51376316212833,
          "Y": 37.84042978242134
         },
         {
          "Outlier": "\"Observed\"",
          "X": 32.727641686552495,
          "Y": 45.94475737219482
         },
         {
          "Outlier": "\"Observed\"",
          "X": 36.428898424490455,
          "Y": 38.7874871543542
         },
         {
          "Outlier": "\"Observed\"",
          "X": 31.289634478945427,
          "Y": 46.8519715527927
         },
         {
          "Outlier": "\"Observed\"",
          "X": 39.625090443853026,
          "Y": 44.90782626194713
         },
         {
          "Outlier": "\"Observed\"",
          "X": 36.59181457568985,
          "Y": 34.939864323554914
         },
         {
          "Outlier": "\"Observed\"",
          "X": 45.448427757297324,
          "Y": 36.55211598374231
         },
         {
          "Outlier": "\"Observed\"",
          "X": 44.387787092318824,
          "Y": 36.96542712969508
         },
         {
          "Outlier": "\"Observed\"",
          "X": 44.174649333133374,
          "Y": 37.583644450910434
         },
         {
          "Outlier": "\"Observed\"",
          "X": 38.154560849062484,
          "Y": 39.81900341290482
         },
         {
          "Outlier": "\"Observed\"",
          "X": 38.660476984766554,
          "Y": 43.314041616491615
         },
         {
          "Outlier": "\"Inferred\"",
          "X": 0,
          "Y": 0
         },
         {
          "Outlier": "\"Inferred\"",
          "X": -1.4959834833661376,
          "Y": 1.3545122401020775
         },
         {
          "Outlier": "\"Inferred\"",
          "X": -0.46692867593012344,
          "Y": 1.2568136970723294
         },
         {
          "Outlier": "\"Inferred\"",
          "X": -1.866384280379635,
          "Y": -0.3790080315332305
         },
         {
          "Outlier": "\"Inferred\"",
          "X": -2.0216593626524055,
          "Y": 1.1571646856516027
         },
         {
          "Outlier": "\"Inferred\"",
          "X": -0.8117064980987132,
          "Y": 1.4925861552150301
         },
         {
          "Outlier": "\"Inferred\"",
          "X": -1.722727721700016,
          "Y": 3.4863260958686197
         },
         {
          "Outlier": "\"Inferred\"",
          "X": -0.37547781732650076,
          "Y": 2.5409261013823894
         },
         {
          "Outlier": "\"Inferred\"",
          "X": -0.2817038765883308,
          "Y": 4.159156266975698
         },
         {
          "Outlier": "\"Inferred\"",
          "X": 0.1667041295923471,
          "Y": 5.130870216791928
         },
         {
          "Outlier": "\"Inferred\"",
          "X": 0.3063259837784219,
          "Y": 6.0494478042882385
         },
         {
          "Outlier": "\"Inferred\"",
          "X": 0.9886298127833987,
          "Y": 6.241715204795343
         },
         {
          "Outlier": "\"Inferred\"",
          "X": 0.38496827432593106,
          "Y": 5.080720182682791
         },
         {
          "Outlier": "\"Inferred\"",
          "X": -0.0462180841414912,
          "Y": 5.942526622696139
         },
         {
          "Outlier": "\"Inferred\"",
          "X": -0.2251744493459894,
          "Y": 6.5612141945954665
         },
         {
          "Outlier": "\"Inferred\"",
          "X": -0.814146491805117,
          "Y": 6.9248379196231085
         },
         {
          "Outlier": "\"Inferred\"",
          "X": -0.7561087684322328,
          "Y": 6.62553822183286
         },
         {
          "Outlier": "\"Inferred\"",
          "X": 0.43914666664058133,
          "Y": 5.968357481439281
         },
         {
          "Outlier": "\"Inferred\"",
          "X": -0.12399654710156549,
          "Y": 6.12794282548626
         },
         {
          "Outlier": "\"Inferred\"",
          "X": -0.42208439701240297,
          "Y": 6.0998614517598835
         },
         {
          "Outlier": "\"Inferred\"",
          "X": -1.0537808269584867,
          "Y": 6.1962556328145055
         },
         {
          "Outlier": "\"Inferred\"",
          "X": -1.6736031774198217,
          "Y": 6.750007721251283
         },
         {
          "Outlier": "\"Inferred\"",
          "X": -1.7833668854997602,
          "Y": 7.681301119927426
         },
         {
          "Outlier": "\"Inferred\"",
          "X": -2.0611405381121775,
          "Y": 8.167752558749864
         },
         {
          "Outlier": "\"Inferred\"",
          "X": -2.2383582402513835,
          "Y": 9.359656490408558
         },
         {
          "Outlier": "\"Inferred\"",
          "X": -2.735982039185112,
          "Y": 10.804738228768336
         },
         {
          "Outlier": "\"Inferred\"",
          "X": -2.1205816100690718,
          "Y": 11.348794078362255
         },
         {
          "Outlier": "\"Inferred\"",
          "X": -1.0551680452461532,
          "Y": 11.034241068055147
         },
         {
          "Outlier": "\"Inferred\"",
          "X": -1.3524152565281415,
          "Y": 11.214208812917592
         },
         {
          "Outlier": "\"Inferred\"",
          "X": 0.38392332366332016,
          "Y": 12.52097689413072
         },
         {
          "Outlier": "\"Inferred\"",
          "X": -0.2673468302718842,
          "Y": 14.07716588278852
         },
         {
          "Outlier": "\"Inferred\"",
          "X": -1.4399510387629983,
          "Y": 15.953255031302792
         },
         {
          "Outlier": "\"Inferred\"",
          "X": -1.8232951752429258,
          "Y": 16.74054808359849
         },
         {
          "Outlier": "\"Inferred\"",
          "X": -2.1597296904624903,
          "Y": 14.680518334121674
         },
         {
          "Outlier": "\"Inferred\"",
          "X": -0.96472904813252,
          "Y": 15.13940147107535
         },
         {
          "Outlier": "\"Inferred\"",
          "X": -0.4250433824874331,
          "Y": 16.12393699144529
         },
         {
          "Outlier": "\"Inferred\"",
          "X": -0.4703277914016233,
          "Y": 14.578669365055553
         },
         {
          "Outlier": "\"Inferred\"",
          "X": 0.6564802222940759,
          "Y": 15.118393817361142
         },
         {
          "Outlier": "\"Inferred\"",
          "X": 1.2934887231854395,
          "Y": 15.847674814809938
         },
         {
          "Outlier": "\"Inferred\"",
          "X": 1.4154694944684096,
          "Y": 16.308982707174362
         },
         {
          "Outlier": "\"Inferred\"",
          "X": 2.2290237130424866,
          "Y": 16.07176229204904
         },
         {
          "Outlier": "\"Inferred\"",
          "X": 3.113541805788172,
          "Y": 16.39959240449963
         },
         {
          "Outlier": "\"Inferred\"",
          "X": 2.727374183344879,
          "Y": 16.539569187571324
         },
         {
          "Outlier": "\"Inferred\"",
          "X": 3.115556283090038,
          "Y": 18.66480697731124
         },
         {
          "Outlier": "\"Inferred\"",
          "X": 2.747380851426324,
          "Y": 18.083826913156145
         },
         {
          "Outlier": "\"Inferred\"",
          "X": 4.017539334489981,
          "Y": 17.34819318803999
         },
         {
          "Outlier": "\"Inferred\"",
          "X": 3.2106775079187786,
          "Y": 18.72699096758819
         },
         {
          "Outlier": "\"Inferred\"",
          "X": 4.064433069759858,
          "Y": 18.930938861615648
         },
         {
          "Outlier": "\"Inferred\"",
          "X": 4.886199754552055,
          "Y": 18.822292641259693
         },
         {
          "Outlier": "\"Inferred\"",
          "X": 5.693570082393493,
          "Y": 18.352523954726017
         },
         {
          "Outlier": "\"Inferred\"",
          "X": 4.764219023719597,
          "Y": 19.071723695171766
         },
         {
          "Outlier": "\"Inferred\"",
          "X": 5.109648787640866,
          "Y": 20.161076174063425
         },
         {
          "Outlier": "\"Inferred\"",
          "X": 6.684585131049911,
          "Y": 21.81265734233153
         },
         {
          "Outlier": "\"Inferred\"",
          "X": 8.07453949257289,
          "Y": 22.80841644425841
         },
         {
          "Outlier": "\"Inferred\"",
          "X": 7.412231069790365,
          "Y": 23.795701704568753
         },
         {
          "Outlier": "\"Inferred\"",
          "X": 8.875225307277638,
          "Y": 24.134979184688905
         },
         {
          "Outlier": "\"Inferred\"",
          "X": 9.786720807812639,
          "Y": 24.798570393123562
         },
         {
          "Outlier": "\"Inferred\"",
          "X": 10.839675266822008,
          "Y": 24.11060847582407
         },
         {
          "Outlier": "\"Inferred\"",
          "X": 11.951885850540787,
          "Y": 23.54370832545031
         },
         {
          "Outlier": "\"Inferred\"",
          "X": 12.362900938006847,
          "Y": 24.116558302935186
         },
         {
          "Outlier": "\"Inferred\"",
          "X": 13.403537769403211,
          "Y": 25.84854640696169
         },
         {
          "Outlier": "\"Inferred\"",
          "X": 13.087572364941128,
          "Y": 26.388585481883272
         },
         {
          "Outlier": "\"Inferred\"",
          "X": 15.123642440895985,
          "Y": 26.737432791961233
         },
         {
          "Outlier": "\"Inferred\"",
          "X": 16.27403404057166,
          "Y": 27.717366941234275
         },
         {
          "Outlier": "\"Inferred\"",
          "X": 17.54855755489548,
          "Y": 27.76578014438041
         },
         {
          "Outlier": "\"Inferred\"",
          "X": 17.02936531710395,
          "Y": 26.575680729713927
         },
         {
          "Outlier": "\"Inferred\"",
          "X": 17.846636670428634,
          "Y": 28.658403537125473
         },
         {
          "Outlier": "\"Inferred\"",
          "X": 17.75069874240183,
          "Y": 26.464358097759444
         },
         {
          "Outlier": "\"Inferred\"",
          "X": 18.642413159085244,
          "Y": 29.585749042045443
         },
         {
          "Outlier": "\"Inferred\"",
          "X": 18.114534945239527,
          "Y": 29.96056288469767
         },
         {
          "Outlier": "\"Inferred\"",
          "X": 17.89063941029048,
          "Y": 30.40967128533151
         },
         {
          "Outlier": "\"Inferred\"",
          "X": 19.177413425943513,
          "Y": 29.790316975358717
         },
         {
          "Outlier": "\"Inferred\"",
          "X": 19.421545582612655,
          "Y": 29.849565902325587
         },
         {
          "Outlier": "\"Inferred\"",
          "X": 20.428695873575105,
          "Y": 30.063955131069637
         },
         {
          "Outlier": "\"Inferred\"",
          "X": 20.271184767571977,
          "Y": 33.586006703235064
         },
         {
          "Outlier": "\"Inferred\"",
          "X": 21.23012653905654,
          "Y": 34.19202362990785
         },
         {
          "Outlier": "\"Inferred\"",
          "X": 22.383839376835358,
          "Y": 36.099918931011395
         },
         {
          "Outlier": "\"Inferred\"",
          "X": 24.849517743655664,
          "Y": 37.18137630871274
         },
         {
          "Outlier": "\"Inferred\"",
          "X": 23.018234864790475,
          "Y": 37.3878341474434
         },
         {
          "Outlier": "\"Inferred\"",
          "X": 25.368665864726108,
          "Y": 38.69565105530858
         },
         {
          "Outlier": "\"Inferred\"",
          "X": 26.194861372477984,
          "Y": 40.551406609263104
         },
         {
          "Outlier": "\"Inferred\"",
          "X": 27.776889871741783,
          "Y": 40.59409860728754
         },
         {
          "Outlier": "\"Inferred\"",
          "X": 27.309304890413063,
          "Y": 40.72390802396453
         },
         {
          "Outlier": "\"Inferred\"",
          "X": 30.788805704227972,
          "Y": 41.58481755616034
         },
         {
          "Outlier": "\"Inferred\"",
          "X": 32.244979307217676,
          "Y": 42.071660279644924
         },
         {
          "Outlier": "\"Inferred\"",
          "X": 30.32538655373424,
          "Y": 41.84495076984768
         },
         {
          "Outlier": "\"Inferred\"",
          "X": 30.893989422839287,
          "Y": 41.51912265716761
         },
         {
          "Outlier": "\"Inferred\"",
          "X": 31.430885488062984,
          "Y": 42.08569337266744
         },
         {
          "Outlier": "\"Inferred\"",
          "X": 32.793607076579164,
          "Y": 41.84192456391744
         },
         {
          "Outlier": "\"Inferred\"",
          "X": 34.7225274242704,
          "Y": 41.03590208891771
         },
         {
          "Outlier": "\"Inferred\"",
          "X": 35.117703749646374,
          "Y": 42.82520646262462
         },
         {
          "Outlier": "\"Inferred\"",
          "X": 35.668789570173224,
          "Y": 42.2452814758927
         },
         {
          "Outlier": "\"Inferred\"",
          "X": 37.080852175953844,
          "Y": 42.54964434552788
         },
         {
          "Outlier": "\"Inferred\"",
          "X": 36.70290290306099,
          "Y": 42.681481194621675
         },
         {
          "Outlier": "\"Inferred\"",
          "X": 38.1939543748931,
          "Y": 41.28917454255082
         },
         {
          "Outlier": "\"Inferred\"",
          "X": 38.599813330117975,
          "Y": 41.0425825970788
         },
         {
          "Outlier": "\"Inferred\"",
          "X": 38.43535967863466,
          "Y": 42.189364919518475
         },
         {
          "Outlier": "\"Inferred\"",
          "X": 39.571556813508664,
          "Y": 41.6516274116565
         },
         {
          "Outlier": "\"Inferred\"",
          "X": 41.86921905756014,
          "Y": 42.912380505387745
         },
         {
          "Outlier": "\"Inferred\"",
          "X": 40.56176494375606,
          "Y": 42.15780010331323
         },
         {
          "Outlier": "\"Inferred\"",
          "X": 0,
          "Y": 0
         },
         {
          "Outlier": "\"Inferred\"",
          "X": -1.4959834833661376,
          "Y": 1.3545122401020775
         },
         {
          "Outlier": "\"Inferred\"",
          "X": -0.46692867593012344,
          "Y": 1.2568136970723294
         },
         {
          "Outlier": "\"Inferred\"",
          "X": -1.866384280379635,
          "Y": -0.3790080315332305
         },
         {
          "Outlier": "\"Inferred\"",
          "X": -2.0216593626524055,
          "Y": 1.1571646856516027
         },
         {
          "Outlier": "\"Inferred\"",
          "X": -0.8117064980987132,
          "Y": 1.4925861552150301
         },
         {
          "Outlier": "\"Inferred\"",
          "X": -1.722727721700016,
          "Y": 3.4863260958686197
         },
         {
          "Outlier": "\"Inferred\"",
          "X": -0.37547781732650076,
          "Y": 2.5409261013823894
         },
         {
          "Outlier": "\"Inferred\"",
          "X": -0.2817038765883308,
          "Y": 4.159156266975698
         },
         {
          "Outlier": "\"Inferred\"",
          "X": 0.1667041295923471,
          "Y": 5.130870216791928
         },
         {
          "Outlier": "\"Inferred\"",
          "X": 0.3063259837784219,
          "Y": 6.0494478042882385
         },
         {
          "Outlier": "\"Inferred\"",
          "X": 0.9886298127833987,
          "Y": 6.241715204795343
         },
         {
          "Outlier": "\"Inferred\"",
          "X": 0.38496827432593106,
          "Y": 5.080720182682791
         },
         {
          "Outlier": "\"Inferred\"",
          "X": -0.0462180841414912,
          "Y": 5.942526622696139
         },
         {
          "Outlier": "\"Inferred\"",
          "X": -0.2251744493459894,
          "Y": 6.5612141945954665
         },
         {
          "Outlier": "\"Inferred\"",
          "X": -0.814146491805117,
          "Y": 6.9248379196231085
         },
         {
          "Outlier": "\"Inferred\"",
          "X": -0.7561087684322328,
          "Y": 6.62553822183286
         },
         {
          "Outlier": "\"Inferred\"",
          "X": 0.43914666664058133,
          "Y": 5.968357481439281
         },
         {
          "Outlier": "\"Inferred\"",
          "X": -0.12399654710156549,
          "Y": 6.12794282548626
         },
         {
          "Outlier": "\"Inferred\"",
          "X": -0.42208439701240297,
          "Y": 6.0998614517598835
         },
         {
          "Outlier": "\"Inferred\"",
          "X": -1.0537808269584867,
          "Y": 6.1962556328145055
         },
         {
          "Outlier": "\"Inferred\"",
          "X": -1.6736031774198217,
          "Y": 6.750007721251283
         },
         {
          "Outlier": "\"Inferred\"",
          "X": -1.7833668854997602,
          "Y": 7.681301119927426
         },
         {
          "Outlier": "\"Inferred\"",
          "X": -2.0611405381121775,
          "Y": 8.167752558749864
         },
         {
          "Outlier": "\"Inferred\"",
          "X": -2.2383582402513835,
          "Y": 9.359656490408558
         },
         {
          "Outlier": "\"Inferred\"",
          "X": -2.735982039185112,
          "Y": 10.804738228768336
         },
         {
          "Outlier": "\"Inferred\"",
          "X": -2.1205816100690718,
          "Y": 11.348794078362255
         },
         {
          "Outlier": "\"Inferred\"",
          "X": -1.0551680452461532,
          "Y": 11.034241068055147
         },
         {
          "Outlier": "\"Inferred\"",
          "X": -1.3524152565281415,
          "Y": 11.214208812917592
         },
         {
          "Outlier": "\"Inferred\"",
          "X": 0.38392332366332016,
          "Y": 12.52097689413072
         },
         {
          "Outlier": "\"Inferred\"",
          "X": -0.2673468302718842,
          "Y": 14.07716588278852
         },
         {
          "Outlier": "\"Inferred\"",
          "X": -1.4399510387629983,
          "Y": 15.953255031302792
         },
         {
          "Outlier": "\"Inferred\"",
          "X": -1.8232951752429258,
          "Y": 16.74054808359849
         },
         {
          "Outlier": "\"Inferred\"",
          "X": -2.1597296904624903,
          "Y": 14.680518334121674
         },
         {
          "Outlier": "\"Inferred\"",
          "X": -0.96472904813252,
          "Y": 15.13940147107535
         },
         {
          "Outlier": "\"Inferred\"",
          "X": -0.4250433824874331,
          "Y": 16.12393699144529
         },
         {
          "Outlier": "\"Inferred\"",
          "X": -0.4703277914016233,
          "Y": 14.578669365055553
         },
         {
          "Outlier": "\"Inferred\"",
          "X": 0.6564802222940759,
          "Y": 15.118393817361142
         },
         {
          "Outlier": "\"Inferred\"",
          "X": 1.2934887231854395,
          "Y": 15.847674814809938
         },
         {
          "Outlier": "\"Inferred\"",
          "X": 1.4154694944684096,
          "Y": 16.308982707174362
         },
         {
          "Outlier": "\"Inferred\"",
          "X": 2.2290237130424866,
          "Y": 16.07176229204904
         },
         {
          "Outlier": "\"Inferred\"",
          "X": 3.113541805788172,
          "Y": 16.39959240449963
         },
         {
          "Outlier": "\"Inferred\"",
          "X": 2.727374183344879,
          "Y": 16.539569187571324
         },
         {
          "Outlier": "\"Inferred\"",
          "X": 3.115556283090038,
          "Y": 18.66480697731124
         },
         {
          "Outlier": "\"Inferred\"",
          "X": 2.747380851426324,
          "Y": 18.083826913156145
         },
         {
          "Outlier": "\"Inferred\"",
          "X": 4.017539334489981,
          "Y": 17.34819318803999
         },
         {
          "Outlier": "\"Inferred\"",
          "X": 3.2106775079187786,
          "Y": 18.72699096758819
         },
         {
          "Outlier": "\"Inferred\"",
          "X": 4.064433069759858,
          "Y": 18.930938861615648
         },
         {
          "Outlier": "\"Inferred\"",
          "X": 4.886199754552055,
          "Y": 18.822292641259693
         },
         {
          "Outlier": "\"Inferred\"",
          "X": 5.693570082393493,
          "Y": 18.352523954726017
         },
         {
          "Outlier": "\"Inferred\"",
          "X": 4.764219023719597,
          "Y": 19.071723695171766
         },
         {
          "Outlier": "\"Inferred\"",
          "X": 5.109648787640866,
          "Y": 20.161076174063425
         },
         {
          "Outlier": "\"Inferred\"",
          "X": 6.684585131049911,
          "Y": 21.81265734233153
         },
         {
          "Outlier": "\"Inferred\"",
          "X": 8.07453949257289,
          "Y": 22.80841644425841
         },
         {
          "Outlier": "\"Inferred\"",
          "X": 7.412231069790365,
          "Y": 23.795701704568753
         },
         {
          "Outlier": "\"Inferred\"",
          "X": 8.875225307277638,
          "Y": 24.134979184688905
         },
         {
          "Outlier": "\"Inferred\"",
          "X": 9.786720807812639,
          "Y": 24.798570393123562
         },
         {
          "Outlier": "\"Inferred\"",
          "X": 10.839675266822008,
          "Y": 24.11060847582407
         },
         {
          "Outlier": "\"Inferred\"",
          "X": 11.951885850540787,
          "Y": 23.54370832545031
         },
         {
          "Outlier": "\"Inferred\"",
          "X": 12.362900938006847,
          "Y": 24.116558302935186
         },
         {
          "Outlier": "\"Inferred\"",
          "X": 13.403537769403211,
          "Y": 25.84854640696169
         },
         {
          "Outlier": "\"Inferred\"",
          "X": 13.087572364941128,
          "Y": 26.388585481883272
         },
         {
          "Outlier": "\"Inferred\"",
          "X": 15.123642440895985,
          "Y": 26.737432791961233
         },
         {
          "Outlier": "\"Inferred\"",
          "X": 16.27403404057166,
          "Y": 27.717366941234275
         },
         {
          "Outlier": "\"Inferred\"",
          "X": 17.54855755489548,
          "Y": 27.76578014438041
         },
         {
          "Outlier": "\"Inferred\"",
          "X": 17.02936531710395,
          "Y": 26.575680729713927
         },
         {
          "Outlier": "\"Inferred\"",
          "X": 17.846636670428634,
          "Y": 28.658403537125473
         },
         {
          "Outlier": "\"Inferred\"",
          "X": 17.75069874240183,
          "Y": 26.464358097759444
         },
         {
          "Outlier": "\"Inferred\"",
          "X": 18.642413159085244,
          "Y": 29.585749042045443
         },
         {
          "Outlier": "\"Inferred\"",
          "X": 18.114534945239527,
          "Y": 29.96056288469767
         },
         {
          "Outlier": "\"Inferred\"",
          "X": 17.89063941029048,
          "Y": 30.40967128533151
         },
         {
          "Outlier": "\"Inferred\"",
          "X": 19.177413425943513,
          "Y": 29.790316975358717
         },
         {
          "Outlier": "\"Inferred\"",
          "X": 19.421545582612655,
          "Y": 29.849565902325587
         },
         {
          "Outlier": "\"Inferred\"",
          "X": 20.428695873575105,
          "Y": 30.063955131069637
         },
         {
          "Outlier": "\"Inferred\"",
          "X": 20.271184767571977,
          "Y": 33.586006703235064
         },
         {
          "Outlier": "\"Inferred\"",
          "X": 21.23012653905654,
          "Y": 34.19202362990785
         },
         {
          "Outlier": "\"Inferred\"",
          "X": 22.383839376835358,
          "Y": 36.099918931011395
         },
         {
          "Outlier": "\"Inferred\"",
          "X": 24.849517743655664,
          "Y": 37.18137630871274
         },
         {
          "Outlier": "\"Inferred\"",
          "X": 23.018234864790475,
          "Y": 37.3878341474434
         },
         {
          "Outlier": "\"Inferred\"",
          "X": 25.368665864726108,
          "Y": 38.69565105530858
         },
         {
          "Outlier": "\"Inferred\"",
          "X": 26.194861372477984,
          "Y": 40.551406609263104
         },
         {
          "Outlier": "\"Inferred\"",
          "X": 27.776889871741783,
          "Y": 40.59409860728754
         },
         {
          "Outlier": "\"Inferred\"",
          "X": 27.309304890413063,
          "Y": 40.72390802396453
         },
         {
          "Outlier": "\"Inferred\"",
          "X": 30.788805704227972,
          "Y": 41.58481755616034
         },
         {
          "Outlier": "\"Inferred\"",
          "X": 32.244979307217676,
          "Y": 42.071660279644924
         },
         {
          "Outlier": "\"Inferred\"",
          "X": 30.32538655373424,
          "Y": 41.84495076984768
         },
         {
          "Outlier": "\"Inferred\"",
          "X": 31.38541255625376,
          "Y": 42.555891150999805
         },
         {
          "Outlier": "\"Inferred\"",
          "X": 32.126310224968,
          "Y": 42.5289072319434
         },
         {
          "Outlier": "\"Inferred\"",
          "X": 32.7961367160771,
          "Y": 43.6302990958513
         },
         {
          "Outlier": "\"Inferred\"",
          "X": 33.52062185359709,
          "Y": 41.838957567052745
         },
         {
          "Outlier": "\"Inferred\"",
          "X": 34.00499099918828,
          "Y": 41.4238466550717
         },
         {
          "Outlier": "\"Inferred\"",
          "X": 34.97176205418849,
          "Y": 41.582768517165796
         },
         {
          "Outlier": "\"Inferred\"",
          "X": 37.11733194220762,
          "Y": 40.388388912652786
         },
         {
          "Outlier": "\"Inferred\"",
          "X": 39.30399129001337,
          "Y": 41.02016527304278
         },
         {
          "Outlier": "\"Inferred\"",
          "X": 39.846536186239405,
          "Y": 41.76965920514953
         },
         {
          "Outlier": "\"Inferred\"",
          "X": 43.07081880036374,
          "Y": 41.728010760953346
         },
         {
          "Outlier": "\"Inferred\"",
          "X": 44.01200563791459,
          "Y": 40.49836682902172
         },
         {
          "Outlier": "\"Inferred\"",
          "X": 44.8445525967339,
          "Y": 39.042447260935184
         },
         {
          "Outlier": "\"Inferred\"",
          "X": 46.316377810937674,
          "Y": 37.8485091389301
         },
         {
          "Outlier": "\"Inferred\"",
          "X": 47.09604547880665,
          "Y": 37.378853477272365
         },
         {
          "Outlier": "\"Inferred\"",
          "X": 0,
          "Y": 0
         },
         {
          "Outlier": "\"Inferred\"",
          "X": -1.4959834833661376,
          "Y": 1.3545122401020775
         },
         {
          "Outlier": "\"Inferred\"",
          "X": -0.46692867593012344,
          "Y": 1.2568136970723294
         },
         {
          "Outlier": "\"Inferred\"",
          "X": -1.866384280379635,
          "Y": -0.3790080315332305
         },
         {
          "Outlier": "\"Inferred\"",
          "X": -2.0216593626524055,
          "Y": 1.1571646856516027
         },
         {
          "Outlier": "\"Inferred\"",
          "X": -0.8117064980987132,
          "Y": 1.4925861552150301
         },
         {
          "Outlier": "\"Inferred\"",
          "X": -1.722727721700016,
          "Y": 3.4863260958686197
         },
         {
          "Outlier": "\"Inferred\"",
          "X": -0.37547781732650076,
          "Y": 2.5409261013823894
         },
         {
          "Outlier": "\"Inferred\"",
          "X": -0.2817038765883308,
          "Y": 4.159156266975698
         },
         {
          "Outlier": "\"Inferred\"",
          "X": 0.1667041295923471,
          "Y": 5.130870216791928
         },
         {
          "Outlier": "\"Inferred\"",
          "X": 0.3063259837784219,
          "Y": 6.0494478042882385
         },
         {
          "Outlier": "\"Inferred\"",
          "X": 0.9886298127833987,
          "Y": 6.241715204795343
         },
         {
          "Outlier": "\"Inferred\"",
          "X": 0.38496827432593106,
          "Y": 5.080720182682791
         },
         {
          "Outlier": "\"Inferred\"",
          "X": -0.0462180841414912,
          "Y": 5.942526622696139
         },
         {
          "Outlier": "\"Inferred\"",
          "X": -0.2251744493459894,
          "Y": 6.5612141945954665
         },
         {
          "Outlier": "\"Inferred\"",
          "X": -0.814146491805117,
          "Y": 6.9248379196231085
         },
         {
          "Outlier": "\"Inferred\"",
          "X": -0.7561087684322328,
          "Y": 6.62553822183286
         },
         {
          "Outlier": "\"Inferred\"",
          "X": 0.43914666664058133,
          "Y": 5.968357481439281
         },
         {
          "Outlier": "\"Inferred\"",
          "X": -0.12399654710156549,
          "Y": 6.12794282548626
         },
         {
          "Outlier": "\"Inferred\"",
          "X": -0.42208439701240297,
          "Y": 6.0998614517598835
         },
         {
          "Outlier": "\"Inferred\"",
          "X": -1.0537808269584867,
          "Y": 6.1962556328145055
         },
         {
          "Outlier": "\"Inferred\"",
          "X": -1.6736031774198217,
          "Y": 6.750007721251283
         },
         {
          "Outlier": "\"Inferred\"",
          "X": -1.7833668854997602,
          "Y": 7.681301119927426
         },
         {
          "Outlier": "\"Inferred\"",
          "X": -2.0611405381121775,
          "Y": 8.167752558749864
         },
         {
          "Outlier": "\"Inferred\"",
          "X": -2.2383582402513835,
          "Y": 9.359656490408558
         },
         {
          "Outlier": "\"Inferred\"",
          "X": -2.735982039185112,
          "Y": 10.804738228768336
         },
         {
          "Outlier": "\"Inferred\"",
          "X": -2.1205816100690718,
          "Y": 11.348794078362255
         },
         {
          "Outlier": "\"Inferred\"",
          "X": -1.0551680452461532,
          "Y": 11.034241068055147
         },
         {
          "Outlier": "\"Inferred\"",
          "X": -1.3524152565281415,
          "Y": 11.214208812917592
         },
         {
          "Outlier": "\"Inferred\"",
          "X": 0.38392332366332016,
          "Y": 12.52097689413072
         },
         {
          "Outlier": "\"Inferred\"",
          "X": -0.2673468302718842,
          "Y": 14.07716588278852
         },
         {
          "Outlier": "\"Inferred\"",
          "X": -1.4399510387629983,
          "Y": 15.953255031302792
         },
         {
          "Outlier": "\"Inferred\"",
          "X": -1.8232951752429258,
          "Y": 16.74054808359849
         },
         {
          "Outlier": "\"Inferred\"",
          "X": -2.1597296904624903,
          "Y": 14.680518334121674
         },
         {
          "Outlier": "\"Inferred\"",
          "X": -0.96472904813252,
          "Y": 15.13940147107535
         },
         {
          "Outlier": "\"Inferred\"",
          "X": -0.4250433824874331,
          "Y": 16.12393699144529
         },
         {
          "Outlier": "\"Inferred\"",
          "X": -0.4703277914016233,
          "Y": 14.578669365055553
         },
         {
          "Outlier": "\"Inferred\"",
          "X": 0.6564802222940759,
          "Y": 15.118393817361142
         },
         {
          "Outlier": "\"Inferred\"",
          "X": 1.2934887231854395,
          "Y": 15.847674814809938
         },
         {
          "Outlier": "\"Inferred\"",
          "X": 1.4154694944684096,
          "Y": 16.308982707174362
         },
         {
          "Outlier": "\"Inferred\"",
          "X": 2.2290237130424866,
          "Y": 16.07176229204904
         },
         {
          "Outlier": "\"Inferred\"",
          "X": 3.113541805788172,
          "Y": 16.39959240449963
         },
         {
          "Outlier": "\"Inferred\"",
          "X": 2.727374183344879,
          "Y": 16.539569187571324
         },
         {
          "Outlier": "\"Inferred\"",
          "X": 3.115556283090038,
          "Y": 18.66480697731124
         },
         {
          "Outlier": "\"Inferred\"",
          "X": 2.747380851426324,
          "Y": 18.083826913156145
         },
         {
          "Outlier": "\"Inferred\"",
          "X": 4.017539334489981,
          "Y": 17.34819318803999
         },
         {
          "Outlier": "\"Inferred\"",
          "X": 3.2106775079187786,
          "Y": 18.72699096758819
         },
         {
          "Outlier": "\"Inferred\"",
          "X": 4.064433069759858,
          "Y": 18.930938861615648
         },
         {
          "Outlier": "\"Inferred\"",
          "X": 4.886199754552055,
          "Y": 18.822292641259693
         },
         {
          "Outlier": "\"Inferred\"",
          "X": 5.693570082393493,
          "Y": 18.352523954726017
         },
         {
          "Outlier": "\"Inferred\"",
          "X": 4.764219023719597,
          "Y": 19.071723695171766
         },
         {
          "Outlier": "\"Inferred\"",
          "X": 5.109648787640866,
          "Y": 20.161076174063425
         },
         {
          "Outlier": "\"Inferred\"",
          "X": 6.684585131049911,
          "Y": 21.81265734233153
         },
         {
          "Outlier": "\"Inferred\"",
          "X": 8.07453949257289,
          "Y": 22.80841644425841
         },
         {
          "Outlier": "\"Inferred\"",
          "X": 7.412231069790365,
          "Y": 23.795701704568753
         },
         {
          "Outlier": "\"Inferred\"",
          "X": 8.875225307277638,
          "Y": 24.134979184688905
         },
         {
          "Outlier": "\"Inferred\"",
          "X": 9.786720807812639,
          "Y": 24.798570393123562
         },
         {
          "Outlier": "\"Inferred\"",
          "X": 10.839675266822008,
          "Y": 24.11060847582407
         },
         {
          "Outlier": "\"Inferred\"",
          "X": 11.951885850540787,
          "Y": 23.54370832545031
         },
         {
          "Outlier": "\"Inferred\"",
          "X": 12.362900938006847,
          "Y": 24.116558302935186
         },
         {
          "Outlier": "\"Inferred\"",
          "X": 13.403537769403211,
          "Y": 25.84854640696169
         },
         {
          "Outlier": "\"Inferred\"",
          "X": 13.087572364941128,
          "Y": 26.388585481883272
         },
         {
          "Outlier": "\"Inferred\"",
          "X": 15.123642440895985,
          "Y": 26.737432791961233
         },
         {
          "Outlier": "\"Inferred\"",
          "X": 16.27403404057166,
          "Y": 27.717366941234275
         },
         {
          "Outlier": "\"Inferred\"",
          "X": 17.54855755489548,
          "Y": 27.76578014438041
         },
         {
          "Outlier": "\"Inferred\"",
          "X": 17.02936531710395,
          "Y": 26.575680729713927
         },
         {
          "Outlier": "\"Inferred\"",
          "X": 17.846636670428634,
          "Y": 28.658403537125473
         },
         {
          "Outlier": "\"Inferred\"",
          "X": 17.75069874240183,
          "Y": 26.464358097759444
         },
         {
          "Outlier": "\"Inferred\"",
          "X": 18.642413159085244,
          "Y": 29.585749042045443
         },
         {
          "Outlier": "\"Inferred\"",
          "X": 18.114534945239527,
          "Y": 29.96056288469767
         },
         {
          "Outlier": "\"Inferred\"",
          "X": 17.89063941029048,
          "Y": 30.40967128533151
         },
         {
          "Outlier": "\"Inferred\"",
          "X": 19.177413425943513,
          "Y": 29.790316975358717
         },
         {
          "Outlier": "\"Inferred\"",
          "X": 19.421545582612655,
          "Y": 29.849565902325587
         },
         {
          "Outlier": "\"Inferred\"",
          "X": 20.428695873575105,
          "Y": 30.063955131069637
         },
         {
          "Outlier": "\"Inferred\"",
          "X": 20.271184767571977,
          "Y": 33.586006703235064
         },
         {
          "Outlier": "\"Inferred\"",
          "X": 21.23012653905654,
          "Y": 34.19202362990785
         },
         {
          "Outlier": "\"Inferred\"",
          "X": 22.383839376835358,
          "Y": 36.099918931011395
         },
         {
          "Outlier": "\"Inferred\"",
          "X": 24.849517743655664,
          "Y": 37.18137630871274
         },
         {
          "Outlier": "\"Inferred\"",
          "X": 23.018234864790475,
          "Y": 37.3878341474434
         },
         {
          "Outlier": "\"Inferred\"",
          "X": 25.368665864726108,
          "Y": 38.69565105530858
         },
         {
          "Outlier": "\"Inferred\"",
          "X": 26.194861372477984,
          "Y": 40.551406609263104
         },
         {
          "Outlier": "\"Inferred\"",
          "X": 27.776889871741783,
          "Y": 40.59409860728754
         },
         {
          "Outlier": "\"Inferred\"",
          "X": 27.309304890413063,
          "Y": 40.72390802396453
         },
         {
          "Outlier": "\"Inferred\"",
          "X": 30.788805704227972,
          "Y": 41.58481755616034
         },
         {
          "Outlier": "\"Inferred\"",
          "X": 32.244979307217676,
          "Y": 42.071660279644924
         },
         {
          "Outlier": "\"Inferred\"",
          "X": 30.32538655373424,
          "Y": 41.84495076984768
         },
         {
          "Outlier": "\"Inferred\"",
          "X": 31.38541255625376,
          "Y": 42.555891150999805
         },
         {
          "Outlier": "\"Inferred\"",
          "X": 32.126310224968,
          "Y": 42.5289072319434
         },
         {
          "Outlier": "\"Inferred\"",
          "X": 32.7961367160771,
          "Y": 43.6302990958513
         },
         {
          "Outlier": "\"Inferred\"",
          "X": 33.52062185359709,
          "Y": 41.838957567052745
         },
         {
          "Outlier": "\"Inferred\"",
          "X": 34.00499099918828,
          "Y": 41.4238466550717
         },
         {
          "Outlier": "\"Inferred\"",
          "X": 34.97176205418849,
          "Y": 41.582768517165796
         },
         {
          "Outlier": "\"Inferred\"",
          "X": 37.11733194220762,
          "Y": 40.388388912652786
         },
         {
          "Outlier": "\"Inferred\"",
          "X": 39.30399129001337,
          "Y": 41.02016527304278
         },
         {
          "Outlier": "\"Inferred\"",
          "X": 39.846536186239405,
          "Y": 41.76965920514953
         },
         {
          "Outlier": "\"Inferred\"",
          "X": 41.41289090018148,
          "Y": 40.40980685025504
         },
         {
          "Outlier": "\"Inferred\"",
          "X": 41.341374038004815,
          "Y": 38.877159633685075
         },
         {
          "Outlier": "\"Inferred\"",
          "X": 42.151979000825584,
          "Y": 39.606699247527324
         },
         {
          "Outlier": "\"Inferred\"",
          "X": 42.68088796888283,
          "Y": 39.14346319779684
         },
         {
          "Outlier": "\"Inferred\"",
          "X": 43.925889140270286,
          "Y": 40.27833386283229
         },
         {
          "Outlier": "\"Inferred\"",
          "X": 0,
          "Y": 0
         },
         {
          "Outlier": "\"Inferred\"",
          "X": -1.4959834833661376,
          "Y": 1.3545122401020775
         },
         {
          "Outlier": "\"Inferred\"",
          "X": -0.46692867593012344,
          "Y": 1.2568136970723294
         },
         {
          "Outlier": "\"Inferred\"",
          "X": -1.866384280379635,
          "Y": -0.3790080315332305
         },
         {
          "Outlier": "\"Inferred\"",
          "X": -2.0216593626524055,
          "Y": 1.1571646856516027
         },
         {
          "Outlier": "\"Inferred\"",
          "X": -0.8117064980987132,
          "Y": 1.4925861552150301
         },
         {
          "Outlier": "\"Inferred\"",
          "X": -1.722727721700016,
          "Y": 3.4863260958686197
         },
         {
          "Outlier": "\"Inferred\"",
          "X": -0.37547781732650076,
          "Y": 2.5409261013823894
         },
         {
          "Outlier": "\"Inferred\"",
          "X": -0.2817038765883308,
          "Y": 4.159156266975698
         },
         {
          "Outlier": "\"Inferred\"",
          "X": 0.1667041295923471,
          "Y": 5.130870216791928
         },
         {
          "Outlier": "\"Inferred\"",
          "X": 0.3063259837784219,
          "Y": 6.0494478042882385
         },
         {
          "Outlier": "\"Inferred\"",
          "X": 0.9886298127833987,
          "Y": 6.241715204795343
         },
         {
          "Outlier": "\"Inferred\"",
          "X": 0.38496827432593106,
          "Y": 5.080720182682791
         },
         {
          "Outlier": "\"Inferred\"",
          "X": -0.0462180841414912,
          "Y": 5.942526622696139
         },
         {
          "Outlier": "\"Inferred\"",
          "X": -0.2251744493459894,
          "Y": 6.5612141945954665
         },
         {
          "Outlier": "\"Inferred\"",
          "X": -0.814146491805117,
          "Y": 6.9248379196231085
         },
         {
          "Outlier": "\"Inferred\"",
          "X": -0.7561087684322328,
          "Y": 6.62553822183286
         },
         {
          "Outlier": "\"Inferred\"",
          "X": 0.43914666664058133,
          "Y": 5.968357481439281
         },
         {
          "Outlier": "\"Inferred\"",
          "X": -0.12399654710156549,
          "Y": 6.12794282548626
         },
         {
          "Outlier": "\"Inferred\"",
          "X": -0.42208439701240297,
          "Y": 6.0998614517598835
         },
         {
          "Outlier": "\"Inferred\"",
          "X": -1.0537808269584867,
          "Y": 6.1962556328145055
         },
         {
          "Outlier": "\"Inferred\"",
          "X": -1.6736031774198217,
          "Y": 6.750007721251283
         },
         {
          "Outlier": "\"Inferred\"",
          "X": -1.7833668854997602,
          "Y": 7.681301119927426
         },
         {
          "Outlier": "\"Inferred\"",
          "X": -2.0611405381121775,
          "Y": 8.167752558749864
         },
         {
          "Outlier": "\"Inferred\"",
          "X": -2.2383582402513835,
          "Y": 9.359656490408558
         },
         {
          "Outlier": "\"Inferred\"",
          "X": -2.735982039185112,
          "Y": 10.804738228768336
         },
         {
          "Outlier": "\"Inferred\"",
          "X": -2.1205816100690718,
          "Y": 11.348794078362255
         },
         {
          "Outlier": "\"Inferred\"",
          "X": -1.0551680452461532,
          "Y": 11.034241068055147
         },
         {
          "Outlier": "\"Inferred\"",
          "X": -1.3524152565281415,
          "Y": 11.214208812917592
         },
         {
          "Outlier": "\"Inferred\"",
          "X": 0.38392332366332016,
          "Y": 12.52097689413072
         },
         {
          "Outlier": "\"Inferred\"",
          "X": -0.2673468302718842,
          "Y": 14.07716588278852
         },
         {
          "Outlier": "\"Inferred\"",
          "X": 0.024963119400584516,
          "Y": 13.93326448589509
         },
         {
          "Outlier": "\"Inferred\"",
          "X": 0.01668690681705276,
          "Y": 14.83684373655884
         },
         {
          "Outlier": "\"Inferred\"",
          "X": 2.17911547602422,
          "Y": 15.084074410502849
         },
         {
          "Outlier": "\"Inferred\"",
          "X": 1.9108705892057958,
          "Y": 13.887471102911695
         },
         {
          "Outlier": "\"Inferred\"",
          "X": 2.6784610809277485,
          "Y": 14.659133933032681
         },
         {
          "Outlier": "\"Inferred\"",
          "X": 2.4018452726915647,
          "Y": 15.608512892237467
         },
         {
          "Outlier": "\"Inferred\"",
          "X": 1.2912375493838337,
          "Y": 15.997567490220362
         },
         {
          "Outlier": "\"Inferred\"",
          "X": 1.1050679766955862,
          "Y": 15.752401275473284
         },
         {
          "Outlier": "\"Inferred\"",
          "X": 0.19917206731955894,
          "Y": 15.377820080513631
         },
         {
          "Outlier": "\"Inferred\"",
          "X": -0.9741543649500806,
          "Y": 13.614632058863588
         },
         {
          "Outlier": "\"Inferred\"",
          "X": -0.4990785318155075,
          "Y": 13.854551762050791
         },
         {
          "Outlier": "\"Inferred\"",
          "X": 0.2200996415571056,
          "Y": 15.738329159979111
         },
         {
          "Outlier": "\"Inferred\"",
          "X": 0.7352628450603202,
          "Y": 15.3303445791598
         },
         {
          "Outlier": "\"Inferred\"",
          "X": 1.094012160536499,
          "Y": 16.38408247206461
         },
         {
          "Outlier": "\"Inferred\"",
          "X": 1.5673766000647635,
          "Y": 16.97018692648492
         },
         {
          "Outlier": "\"Inferred\"",
          "X": 2.0469033151093625,
          "Y": 16.616370658076875
         },
         {
          "Outlier": "\"Inferred\"",
          "X": 2.3963907566016593,
          "Y": 18.314095401143472
         },
         {
          "Outlier": "\"Inferred\"",
          "X": 4.166301538985277,
          "Y": 19.69339124841146
         },
         {
          "Outlier": "\"Inferred\"",
          "X": 5.312289793343187,
          "Y": 20.895979091356306
         },
         {
          "Outlier": "\"Inferred\"",
          "X": 7.225390520072812,
          "Y": 20.05514728382199
         },
         {
          "Outlier": "\"Inferred\"",
          "X": 8.274950352304558,
          "Y": 21.748224816446445
         },
         {
          "Outlier": "\"Inferred\"",
          "X": 10.077144277369639,
          "Y": 22.20028425004137
         },
         {
          "Outlier": "\"Inferred\"",
          "X": 11.648130476884795,
          "Y": 22.14028530286502
         },
         {
          "Outlier": "\"Inferred\"",
          "X": 12.150662300936114,
          "Y": 22.530497385437407
         },
         {
          "Outlier": "\"Inferred\"",
          "X": 12.386758213852861,
          "Y": 21.407269138905697
         },
         {
          "Outlier": "\"Inferred\"",
          "X": 12.750381749456752,
          "Y": 21.999311217832176
         },
         {
          "Outlier": "\"Inferred\"",
          "X": 14.02714510943885,
          "Y": 23.182960884690576
         },
         {
          "Outlier": "\"Inferred\"",
          "X": 13.27298822179917,
          "Y": 23.531086350970302
         },
         {
          "Outlier": "\"Inferred\"",
          "X": 13.988745103331425,
          "Y": 24.324866195918368
         },
         {
          "Outlier": "\"Inferred\"",
          "X": 14.97399897741783,
          "Y": 23.871020803936624
         },
         {
          "Outlier": "\"Inferred\"",
          "X": 15.137869876167708,
          "Y": 24.144965731455162
         },
         {
          "Outlier": "\"Inferred\"",
          "X": 15.565176995801204,
          "Y": 25.12036070475441
         },
         {
          "Outlier": "\"Inferred\"",
          "X": 17.600256218729754,
          "Y": 24.678147688007876
         },
         {
          "Outlier": "\"Inferred\"",
          "X": 17.237482795901055,
          "Y": 26.542536752281652
         },
         {
          "Outlier": "\"Inferred\"",
          "X": 17.015954839425017,
          "Y": 28.450372658629945
         },
         {
          "Outlier": "\"Inferred\"",
          "X": 17.32787978081421,
          "Y": 26.75434260574275
         },
         {
          "Outlier": "\"Inferred\"",
          "X": 18.229555681882005,
          "Y": 27.282709577031078
         },
         {
          "Outlier": "\"Inferred\"",
          "X": 18.10563921397335,
          "Y": 27.752039881712587
         },
         {
          "Outlier": "\"Inferred\"",
          "X": 17.123756040356,
          "Y": 29.56098407271677
         },
         {
          "Outlier": "\"Inferred\"",
          "X": 15.460570214108486,
          "Y": 30.819617268587045
         },
         {
          "Outlier": "\"Inferred\"",
          "X": 16.315799863680635,
          "Y": 32.82542887662225
         },
         {
          "Outlier": "\"Inferred\"",
          "X": 16.901473532111954,
          "Y": 34.409088099712484
         },
         {
          "Outlier": "\"Inferred\"",
          "X": 17.42628716729539,
          "Y": 34.29954984262977
         },
         {
          "Outlier": "\"Inferred\"",
          "X": 18.4645589421396,
          "Y": 35.705103134817925
         },
         {
          "Outlier": "\"Inferred\"",
          "X": 19.854679777751464,
          "Y": 34.847546859528244
         },
         {
          "Outlier": "\"Inferred\"",
          "X": 21.061631904164262,
          "Y": 35.128817736081885
         },
         {
          "Outlier": "\"Inferred\"",
          "X": 21.742962935562577,
          "Y": 34.7043175359872
         },
         {
          "Outlier": "\"Inferred\"",
          "X": 22.665780613197352,
          "Y": 34.79885327766628
         },
         {
          "Outlier": "\"Inferred\"",
          "X": 22.948111911315912,
          "Y": 35.993516839684936
         },
         {
          "Outlier": "\"Inferred\"",
          "X": 23.387651560179787,
          "Y": 36.74307978279117
         },
         {
          "Outlier": "\"Inferred\"",
          "X": 23.653409918697086,
          "Y": 38.22971702186132
         },
         {
          "Outlier": "\"Inferred\"",
          "X": 26.070568899608688,
          "Y": 38.94807029034141
         },
         {
          "Outlier": "\"Inferred\"",
          "X": 27.878580768011403,
          "Y": 38.44185309899433
         },
         {
          "Outlier": "\"Inferred\"",
          "X": 29.191471700552917,
          "Y": 38.697472562659584
         },
         {
          "Outlier": "\"Inferred\"",
          "X": 29.348002508807642,
          "Y": 38.99777212620182
         },
         {
          "Outlier": "\"Inferred\"",
          "X": 30.66538491817076,
          "Y": 39.44463741855792
         },
         {
          "Outlier": "\"Inferred\"",
          "X": 31.838701070645463,
          "Y": 40.6532118676781
         },
         {
          "Outlier": "\"Inferred\"",
          "X": 32.54565337408032,
          "Y": 41.106613014512725
         },
         {
          "Outlier": "\"Inferred\"",
          "X": 35.80016973266396,
          "Y": 39.93602216733599
         },
         {
          "Outlier": "\"Inferred\"",
          "X": 37.024230065322435,
          "Y": 39.611212346613435
         },
         {
          "Outlier": "\"Inferred\"",
          "X": 37.22509072925038,
          "Y": 39.32867188584064
         },
         {
          "Outlier": "\"Inferred\"",
          "X": 38.60571810176744,
          "Y": 39.82400773293471
         },
         {
          "Outlier": "\"Inferred\"",
          "X": 38.01245930720338,
          "Y": 41.786165891712976
         },
         {
          "Outlier": "\"Inferred\"",
          "X": 40.33399764927648,
          "Y": 42.008472387625936
         },
         {
          "Outlier": "\"Inferred\"",
          "X": 39.79674808754906,
          "Y": 41.90460204710545
         },
         {
          "Outlier": "\"Inferred\"",
          "X": 41.21137926317559,
          "Y": 42.596290047005986
         },
         {
          "Outlier": "\"Inferred\"",
          "X": 42.18496312014487,
          "Y": 43.08261415850917
         },
         {
          "Outlier": "\"Inferred\"",
          "X": 43.63661001006544,
          "Y": 43.36339026973433
         },
         {
          "Outlier": "\"Inferred\"",
          "X": 44.29745808099413,
          "Y": 44.78221762225468
         },
         {
          "Outlier": "\"Inferred\"",
          "X": 0,
          "Y": 0
         },
         {
          "Outlier": "\"Inferred\"",
          "X": -1.4959834833661376,
          "Y": 1.3545122401020775
         },
         {
          "Outlier": "\"Inferred\"",
          "X": -0.46692867593012344,
          "Y": 1.2568136970723294
         },
         {
          "Outlier": "\"Inferred\"",
          "X": -1.866384280379635,
          "Y": -0.3790080315332305
         },
         {
          "Outlier": "\"Inferred\"",
          "X": -2.0216593626524055,
          "Y": 1.1571646856516027
         },
         {
          "Outlier": "\"Inferred\"",
          "X": -0.8117064980987132,
          "Y": 1.4925861552150301
         },
         {
          "Outlier": "\"Inferred\"",
          "X": -1.722727721700016,
          "Y": 3.4863260958686197
         },
         {
          "Outlier": "\"Inferred\"",
          "X": -0.37547781732650076,
          "Y": 2.5409261013823894
         },
         {
          "Outlier": "\"Inferred\"",
          "X": -0.2817038765883308,
          "Y": 4.159156266975698
         },
         {
          "Outlier": "\"Inferred\"",
          "X": 0.1667041295923471,
          "Y": 5.130870216791928
         },
         {
          "Outlier": "\"Inferred\"",
          "X": 0.3063259837784219,
          "Y": 6.0494478042882385
         },
         {
          "Outlier": "\"Inferred\"",
          "X": 0.9886298127833987,
          "Y": 6.241715204795343
         },
         {
          "Outlier": "\"Inferred\"",
          "X": 0.38496827432593106,
          "Y": 5.080720182682791
         },
         {
          "Outlier": "\"Inferred\"",
          "X": -0.0462180841414912,
          "Y": 5.942526622696139
         },
         {
          "Outlier": "\"Inferred\"",
          "X": -0.2251744493459894,
          "Y": 6.5612141945954665
         },
         {
          "Outlier": "\"Inferred\"",
          "X": -0.814146491805117,
          "Y": 6.9248379196231085
         },
         {
          "Outlier": "\"Inferred\"",
          "X": -0.7561087684322328,
          "Y": 6.62553822183286
         },
         {
          "Outlier": "\"Inferred\"",
          "X": 0.43914666664058133,
          "Y": 5.968357481439281
         },
         {
          "Outlier": "\"Inferred\"",
          "X": -0.12399654710156549,
          "Y": 6.12794282548626
         },
         {
          "Outlier": "\"Inferred\"",
          "X": -0.42208439701240297,
          "Y": 6.0998614517598835
         },
         {
          "Outlier": "\"Inferred\"",
          "X": -1.0537808269584867,
          "Y": 6.1962556328145055
         },
         {
          "Outlier": "\"Inferred\"",
          "X": -1.6736031774198217,
          "Y": 6.750007721251283
         },
         {
          "Outlier": "\"Inferred\"",
          "X": -1.7833668854997602,
          "Y": 7.681301119927426
         },
         {
          "Outlier": "\"Inferred\"",
          "X": -2.0611405381121775,
          "Y": 8.167752558749864
         },
         {
          "Outlier": "\"Inferred\"",
          "X": -2.2383582402513835,
          "Y": 9.359656490408558
         },
         {
          "Outlier": "\"Inferred\"",
          "X": -2.735982039185112,
          "Y": 10.804738228768336
         },
         {
          "Outlier": "\"Inferred\"",
          "X": -2.1205816100690718,
          "Y": 11.348794078362255
         },
         {
          "Outlier": "\"Inferred\"",
          "X": -1.0551680452461532,
          "Y": 11.034241068055147
         },
         {
          "Outlier": "\"Inferred\"",
          "X": -1.3524152565281415,
          "Y": 11.214208812917592
         },
         {
          "Outlier": "\"Inferred\"",
          "X": 0.38392332366332016,
          "Y": 12.52097689413072
         },
         {
          "Outlier": "\"Inferred\"",
          "X": -0.2673468302718842,
          "Y": 14.07716588278852
         },
         {
          "Outlier": "\"Inferred\"",
          "X": 0.024963119400584516,
          "Y": 13.93326448589509
         },
         {
          "Outlier": "\"Inferred\"",
          "X": 0.01668690681705276,
          "Y": 14.83684373655884
         },
         {
          "Outlier": "\"Inferred\"",
          "X": 2.17911547602422,
          "Y": 15.084074410502849
         },
         {
          "Outlier": "\"Inferred\"",
          "X": 1.9108705892057958,
          "Y": 13.887471102911695
         },
         {
          "Outlier": "\"Inferred\"",
          "X": 2.6784610809277485,
          "Y": 14.659133933032681
         },
         {
          "Outlier": "\"Inferred\"",
          "X": 2.4018452726915647,
          "Y": 15.608512892237467
         },
         {
          "Outlier": "\"Inferred\"",
          "X": 1.2912375493838337,
          "Y": 15.997567490220362
         },
         {
          "Outlier": "\"Inferred\"",
          "X": 1.1050679766955862,
          "Y": 15.752401275473284
         },
         {
          "Outlier": "\"Inferred\"",
          "X": 0.19917206731955894,
          "Y": 15.377820080513631
         },
         {
          "Outlier": "\"Inferred\"",
          "X": -0.9741543649500806,
          "Y": 13.614632058863588
         },
         {
          "Outlier": "\"Inferred\"",
          "X": -0.4990785318155075,
          "Y": 13.854551762050791
         },
         {
          "Outlier": "\"Inferred\"",
          "X": 0.2200996415571056,
          "Y": 15.738329159979111
         },
         {
          "Outlier": "\"Inferred\"",
          "X": 0.7352628450603202,
          "Y": 15.3303445791598
         },
         {
          "Outlier": "\"Inferred\"",
          "X": 1.094012160536499,
          "Y": 16.38408247206461
         },
         {
          "Outlier": "\"Inferred\"",
          "X": 1.5673766000647635,
          "Y": 16.97018692648492
         },
         {
          "Outlier": "\"Inferred\"",
          "X": 2.0469033151093625,
          "Y": 16.616370658076875
         },
         {
          "Outlier": "\"Inferred\"",
          "X": 2.3963907566016593,
          "Y": 18.314095401143472
         },
         {
          "Outlier": "\"Inferred\"",
          "X": 4.166301538985277,
          "Y": 19.69339124841146
         },
         {
          "Outlier": "\"Inferred\"",
          "X": 5.312289793343187,
          "Y": 20.895979091356306
         },
         {
          "Outlier": "\"Inferred\"",
          "X": 7.225390520072812,
          "Y": 20.05514728382199
         },
         {
          "Outlier": "\"Inferred\"",
          "X": 8.274950352304558,
          "Y": 21.748224816446445
         },
         {
          "Outlier": "\"Inferred\"",
          "X": 10.077144277369639,
          "Y": 22.20028425004137
         },
         {
          "Outlier": "\"Inferred\"",
          "X": 11.648130476884795,
          "Y": 22.14028530286502
         },
         {
          "Outlier": "\"Inferred\"",
          "X": 12.150662300936114,
          "Y": 22.530497385437407
         },
         {
          "Outlier": "\"Inferred\"",
          "X": 12.386758213852861,
          "Y": 21.407269138905697
         },
         {
          "Outlier": "\"Inferred\"",
          "X": 12.750381749456752,
          "Y": 21.999311217832176
         },
         {
          "Outlier": "\"Inferred\"",
          "X": 14.02714510943885,
          "Y": 23.182960884690576
         },
         {
          "Outlier": "\"Inferred\"",
          "X": 13.27298822179917,
          "Y": 23.531086350970302
         },
         {
          "Outlier": "\"Inferred\"",
          "X": 13.988745103331425,
          "Y": 24.324866195918368
         },
         {
          "Outlier": "\"Inferred\"",
          "X": 14.97399897741783,
          "Y": 23.871020803936624
         },
         {
          "Outlier": "\"Inferred\"",
          "X": 15.137869876167708,
          "Y": 24.144965731455162
         },
         {
          "Outlier": "\"Inferred\"",
          "X": 15.565176995801204,
          "Y": 25.12036070475441
         },
         {
          "Outlier": "\"Inferred\"",
          "X": 17.600256218729754,
          "Y": 24.678147688007876
         },
         {
          "Outlier": "\"Inferred\"",
          "X": 17.237482795901055,
          "Y": 26.542536752281652
         },
         {
          "Outlier": "\"Inferred\"",
          "X": 17.015954839425017,
          "Y": 28.450372658629945
         },
         {
          "Outlier": "\"Inferred\"",
          "X": 17.32787978081421,
          "Y": 26.75434260574275
         },
         {
          "Outlier": "\"Inferred\"",
          "X": 18.229555681882005,
          "Y": 27.282709577031078
         },
         {
          "Outlier": "\"Inferred\"",
          "X": 18.10563921397335,
          "Y": 27.752039881712587
         },
         {
          "Outlier": "\"Inferred\"",
          "X": 17.123756040356,
          "Y": 29.56098407271677
         },
         {
          "Outlier": "\"Inferred\"",
          "X": 15.460570214108486,
          "Y": 30.819617268587045
         },
         {
          "Outlier": "\"Inferred\"",
          "X": 16.315799863680635,
          "Y": 32.82542887662225
         },
         {
          "Outlier": "\"Inferred\"",
          "X": 16.901473532111954,
          "Y": 34.409088099712484
         },
         {
          "Outlier": "\"Inferred\"",
          "X": 17.42628716729539,
          "Y": 34.29954984262977
         },
         {
          "Outlier": "\"Inferred\"",
          "X": 18.4645589421396,
          "Y": 35.705103134817925
         },
         {
          "Outlier": "\"Inferred\"",
          "X": 19.854679777751464,
          "Y": 34.847546859528244
         },
         {
          "Outlier": "\"Inferred\"",
          "X": 21.061631904164262,
          "Y": 35.128817736081885
         },
         {
          "Outlier": "\"Inferred\"",
          "X": 22.265669317998004,
          "Y": 36.25282068300822
         },
         {
          "Outlier": "\"Inferred\"",
          "X": 22.35839233579931,
          "Y": 36.79521681982773
         },
         {
          "Outlier": "\"Inferred\"",
          "X": 23.530034470726942,
          "Y": 37.81481503722004
         },
         {
          "Outlier": "\"Inferred\"",
          "X": 24.79990792503274,
          "Y": 38.164587201161694
         },
         {
          "Outlier": "\"Inferred\"",
          "X": 25.800458739095653,
          "Y": 39.85911422057112
         },
         {
          "Outlier": "\"Inferred\"",
          "X": 24.796759275791104,
          "Y": 41.70901349837008
         },
         {
          "Outlier": "\"Inferred\"",
          "X": 27.333671371269205,
          "Y": 41.84934201926996
         },
         {
          "Outlier": "\"Inferred\"",
          "X": 28.69925643311348,
          "Y": 43.467359851059534
         },
         {
          "Outlier": "\"Inferred\"",
          "X": 28.916638028062533,
          "Y": 45.45708168972819
         },
         {
          "Outlier": "\"Inferred\"",
          "X": 29.973577906836102,
          "Y": 46.41633625757215
         },
         {
          "Outlier": "\"Inferred\"",
          "X": 32.05606284604073,
          "Y": 45.28473893333061
         },
         {
          "Outlier": "\"Inferred\"",
          "X": 32.88988156762814,
          "Y": 44.8538155889555
         },
         {
          "Outlier": "\"Inferred\"",
          "X": 31.19806934467899,
          "Y": 43.66015178077464
         },
         {
          "Outlier": "\"Inferred\"",
          "X": 32.81704478887686,
          "Y": 44.28486876827402
         },
         {
          "Outlier": "\"Inferred\"",
          "X": 32.52189150648387,
          "Y": 43.67878912795227
         },
         {
          "Outlier": "\"Inferred\"",
          "X": 33.63905056412499,
          "Y": 43.38602829802608
         },
         {
          "Outlier": "\"Inferred\"",
          "X": 34.2299330139971,
          "Y": 44.002045551626516
         },
         {
          "Outlier": "\"Inferred\"",
          "X": 34.5801094897995,
          "Y": 43.55850184725563
         },
         {
          "Outlier": "\"Inferred\"",
          "X": 35.61480024416932,
          "Y": 41.49485106639062
         },
         {
          "Outlier": "\"Inferred\"",
          "X": 37.1027658095741,
          "Y": 41.92963421495869
         },
         {
          "Outlier": "\"Inferred\"",
          "X": 41.14763144259741,
          "Y": 42.5867872280412
         },
         {
          "Outlier": "\"Inferred\"",
          "X": 40.25689869478788,
          "Y": 43.699882941801995
         },
         {
          "Outlier": "\"Inferred\"",
          "X": 41.73373040718483,
          "Y": 43.61522453002227
         }
        ]
       },
       "encoding": {
        "color": {
         "field": "Outlier"
        },
        "x": {
         "field": "X",
         "type": "quantitative"
        },
        "y": {
         "field": "Y",
         "type": "quantitative"
        }
       },
       "height": 400,
       "mark": "circle",
       "width": 400
      },
      "image/png": "[encoded data removed]"
     },
     "metadata": {},
     "output_type": "display_data"
    }
   ],
   "source": [
    "inferredVectors = fst =<< particles\n",
    "\n",
    "plot \n",
    "    (zip \n",
    "        (fmap (\\v -> (v V.! 0, v V.! 1)) $ randomWalkPrior <> randomWalkObserved <> inferredVectors) \n",
    "        (replicate 100 (T.pack \"Prior\") <> replicate 100 (T.pack \"Observed\") <> replicate 500 (T.pack \"Inferred\")))\n"
   ]
  },
  {
   "cell_type": "markdown",
   "metadata": {},
   "source": [
    "We can see here that `SMC` has done a pretty good job.\n",
    "\n",
    "The intuition of how SMC does well is that it is searching the space of solutions with some backtracking (because it has a whole population of guesses to rely on), and moreover, this search results in unbiased sampling from the distribution of interest. So if it makes a series of guesses the leads it astray, it can throw away this possiblity at a later stage. "
   ]
  }
 ],
 "metadata": {
  "kernelspec": {
   "display_name": "Haskell - nixpkgs",
   "language": "haskell",
   "name": "ihaskell_nixpkgs"
  },
  "language_info": {
   "codemirror_mode": "ihaskell",
   "file_extension": ".hs",
   "mimetype": "text/x-haskell",
   "name": "haskell",
   "pygments_lexer": "Haskell",
   "version": "9.0.2"
  }
 },
 "nbformat": 4,
 "nbformat_minor": 4
}
