{
 "cells": [
  {
   "cell_type": "code",
   "execution_count": 1,
   "metadata": {},
   "outputs": [],
   "source": [
    ":e ImportQualifiedPost\n",
    ":e FlexibleContexts\n",
    ":e BlockArguments\n",
    ":e TupleSections\n",
    ":e FlexibleContexts\n",
    ":e OverloadedStrings\n",
    ":e LambdaCase\n",
    "\n",
    "import Control.Monad.Bayes.Class\n",
    "import Control.Monad.Bayes.Enumerator\n",
    "import Control.Monad.Bayes.Weighted\n",
    "import Control.Monad.Bayes.Sampler.Strict\n",
    "\n",
    "import Control.Monad\n",
    "import Data.List\n",
    "import Data.Ord\n",
    "import Control.Arrow (first)\n",
    "import Data.Text (pack, Text)\n",
    "import Numeric.Log\n",
    "import Control.Arrow (second)\n",
    "\n",
    ":l ../plotting.hs"
   ]
  },
  {
   "cell_type": "markdown",
   "metadata": {
    "tags": []
   },
   "source": [
    "# Sampling\n",
    "\n",
    "Before discussing inference, we should understand how to sample from models. This notebook explains how to do that."
   ]
  },
  {
   "cell_type": "markdown",
   "metadata": {
    "tags": []
   },
   "source": [
    "## Discrete distribution\n",
    "We'll start with a very simple model, namely:"
   ]
  },
  {
   "cell_type": "code",
   "execution_count": 2,
   "metadata": {},
   "outputs": [],
   "source": [
    "model :: MonadSample m => m Bool\n",
    "model = bernoulli 0.7"
   ]
  },
  {
   "cell_type": "markdown",
   "metadata": {},
   "source": [
    "To take a sample, do:"
   ]
  },
  {
   "cell_type": "code",
   "execution_count": 3,
   "metadata": {},
   "outputs": [
    {
     "data": {
      "text/plain": [
       "True"
      ]
     },
     "metadata": {},
     "output_type": "display_data"
    }
   ],
   "source": [
    "sampler model"
   ]
  },
  {
   "cell_type": "markdown",
   "metadata": {},
   "source": [
    "Or with a fixed seed:"
   ]
  },
  {
   "cell_type": "code",
   "execution_count": 4,
   "metadata": {},
   "outputs": [
    {
     "data": {
      "text/plain": [
       "True"
      ]
     },
     "metadata": {},
     "output_type": "display_data"
    }
   ],
   "source": [
    "sampleIOfixed model"
   ]
  },
  {
   "cell_type": "markdown",
   "metadata": {},
   "source": [
    "To take multiple samples, you could rerun `sampler` many times, but it's somewhat more in the probabilistic programming spirit to instead define a distribution over multiple draws from `model` and then just sample once, as follows:"
   ]
  },
  {
   "cell_type": "code",
   "execution_count": 5,
   "metadata": {},
   "outputs": [
    {
     "data": {
      "text/plain": [
       "[True,True,True,True,True,True,True,True,True,True]"
      ]
     },
     "metadata": {},
     "output_type": "display_data"
    }
   ],
   "source": [
    "multipleDraws :: MonadSample m => m [Bool]\n",
    "multipleDraws = replicateM 10 model\n",
    "\n",
    "draws <- sampler multipleDraws\n",
    "\n",
    "draws"
   ]
  },
  {
   "cell_type": "markdown",
   "metadata": {},
   "source": [
    "We can write a function to convert a list of samples to an empirical distribution, like so:"
   ]
  },
  {
   "cell_type": "code",
   "execution_count": 6,
   "metadata": {},
   "outputs": [
    {
     "data": {
      "text/plain": [
       "[(True,1.0)]"
      ]
     },
     "metadata": {},
     "output_type": "display_data"
    }
   ],
   "source": [
    "emp = toEmpirical draws :: [(Bool, Double)]\n",
    "\n",
    "emp"
   ]
  },
  {
   "cell_type": "code",
   "execution_count": 7,
   "metadata": {},
   "outputs": [
    {
     "data": {
      "application/vnd.vegalite.v4+json": {
       "$schema": "https://vega.github.io/schema/vega-lite/v4.json",
       "data": {
        "values": [
         {
          "X": "True",
          "Y": 1
         }
        ]
       },
       "encoding": {
        "x": {
         "field": "X",
         "type": "nominal"
        },
        "y": {
         "field": "Y",
         "type": "quantitative"
        }
       },
       "height": 400,
       "mark": "bar",
       "width": 400
      },
      "image/png": "[encoded data removed]"
     },
     "metadata": {},
     "output_type": "display_data"
    }
   ],
   "source": [
    "plot $ first (pack . show) <$> emp"
   ]
  },
  {
   "cell_type": "markdown",
   "metadata": {},
   "source": [
    "In fact, we could lean even further into the spirit of probabilistic programming, and transform `model` into a distribution over plots, and sample from that:"
   ]
  },
  {
   "cell_type": "code",
   "execution_count": 8,
   "metadata": {},
   "outputs": [
    {
     "data": {
      "application/vnd.vegalite.v4+json": {
       "$schema": "https://vega.github.io/schema/vega-lite/v4.json",
       "data": {
        "values": [
         {
          "X": "True",
          "Y": 0.9
         },
         {
          "X": "False",
          "Y": 0.1
         }
        ]
       },
       "encoding": {
        "x": {
         "field": "X",
         "type": "nominal"
        },
        "y": {
         "field": "Y",
         "type": "quantitative"
        }
       },
       "height": 400,
       "mark": "bar",
       "width": 400
      },
      "image/png": "[encoded data removed]"
     },
     "metadata": {},
     "output_type": "display_data"
    }
   ],
   "source": [
    "distributionOverPlots :: MonadSample m => m VegaLiteLab -- the type of plots\n",
    "distributionOverPlots = plot . fmap (first (pack . show)) . toEmpirical <$> replicateM 10 model\n",
    "\n",
    "sampler distributionOverPlots\n"
   ]
  },
  {
   "cell_type": "markdown",
   "metadata": {
    "tags": []
   },
   "source": [
    "## Continuous distributions\n",
    "\n",
    "Consider normal distribution:"
   ]
  },
  {
   "cell_type": "code",
   "execution_count": 9,
   "metadata": {},
   "outputs": [],
   "source": [
    "model2 :: MonadSample m => m Double\n",
    "model2 = normal 0 1"
   ]
  },
  {
   "cell_type": "markdown",
   "metadata": {},
   "source": [
    "Sampling is no different to before:"
   ]
  },
  {
   "cell_type": "code",
   "execution_count": 10,
   "metadata": {},
   "outputs": [
    {
     "data": {
      "text/plain": [
       "-0.42248086034607285"
      ]
     },
     "metadata": {},
     "output_type": "display_data"
    }
   ],
   "source": [
    "sampler model2"
   ]
  },
  {
   "cell_type": "markdown",
   "metadata": {},
   "source": [
    "And as before, to obtain multiple draws:"
   ]
  },
  {
   "cell_type": "code",
   "execution_count": 11,
   "metadata": {},
   "outputs": [
    {
     "data": {
      "text/plain": [
       "[-0.6298331533642196,0.5426824263412585,0.15386678332481174,0.7554618435540722,-1.974486100467846e-2,0.8318368556611232,-1.0746630202842478,0.6945010970642304,-0.20060636653459119,-0.6851476854633729]"
      ]
     },
     "metadata": {},
     "output_type": "display_data"
    }
   ],
   "source": [
    "multipleDraws2 :: MonadSample m => m [Double]\n",
    "multipleDraws2 = replicateM 10 model2\n",
    "\n",
    "draws2 <- sampler multipleDraws2\n",
    "\n",
    "draws2"
   ]
  },
  {
   "cell_type": "markdown",
   "metadata": {},
   "source": [
    "We'd like to view a histogram of samples, which in the limit of many samples should tend to the PDF of a normal distribution.\n",
    "\n",
    "Again, we could generate a histogram from a drawn list of samples:"
   ]
  },
  {
   "cell_type": "code",
   "execution_count": 12,
   "metadata": {},
   "outputs": [
    {
     "data": {
      "application/vnd.vegalite.v4+json": {
       "$schema": "https://vega.github.io/schema/vega-lite/v4.json",
       "data": {
        "values": [
         {
          "X": -4.040726834724982,
          "Y": 3
         },
         {
          "X": -3.957206798220055,
          "Y": 0
         },
         {
          "X": -3.873686761715128,
          "Y": 2
         },
         {
          "X": -3.7901667252102014,
          "Y": 3
         },
         {
          "X": -3.7066466887052743,
          "Y": 5
         },
         {
          "X": -3.6231266522003476,
          "Y": 11
         },
         {
          "X": -3.539606615695421,
          "Y": 12
         },
         {
          "X": -3.456086579190494,
          "Y": 7
         },
         {
          "X": -3.372566542685567,
          "Y": 11
         },
         {
          "X": -3.28904650618064,
          "Y": 19
         },
         {
          "X": -3.2055264696757133,
          "Y": 19
         },
         {
          "X": -3.122006433170786,
          "Y": 25
         },
         {
          "X": -3.03848639666586,
          "Y": 38
         },
         {
          "X": -2.954966360160933,
          "Y": 39
         },
         {
          "X": -2.8714463236560057,
          "Y": 58
         },
         {
          "X": -2.787926287151079,
          "Y": 72
         },
         {
          "X": -2.7044062506461524,
          "Y": 91
         },
         {
          "X": -2.6208862141412252,
          "Y": 124
         },
         {
          "X": -2.537366177636298,
          "Y": 139
         },
         {
          "X": -2.4538461411313714,
          "Y": 150
         },
         {
          "X": -2.3703261046264448,
          "Y": 217
         },
         {
          "X": -2.2868060681215177,
          "Y": 265
         },
         {
          "X": -2.203286031616591,
          "Y": 278
         },
         {
          "X": -2.1197659951116643,
          "Y": 371
         },
         {
          "X": -2.036245958606737,
          "Y": 407
         },
         {
          "X": -1.95272592210181,
          "Y": 495
         },
         {
          "X": -1.8692058855968834,
          "Y": 632
         },
         {
          "X": -1.7856858490919563,
          "Y": 684
         },
         {
          "X": -1.7021658125870296,
          "Y": 813
         },
         {
          "X": -1.6186457760821025,
          "Y": 899
         },
         {
          "X": -1.5351257395771758,
          "Y": 968
         },
         {
          "X": -1.4516057030722487,
          "Y": 1104
         },
         {
          "X": -1.368085666567322,
          "Y": 1322
         },
         {
          "X": -1.2845656300623953,
          "Y": 1496
         },
         {
          "X": -1.2010455935574682,
          "Y": 1614
         },
         {
          "X": -1.1175255570525415,
          "Y": 1766
         },
         {
          "X": -1.0340055205476144,
          "Y": 1929
         },
         {
          "X": -0.9504854840426877,
          "Y": 2127
         },
         {
          "X": -0.8669654475377606,
          "Y": 2275
         },
         {
          "X": -0.7834454110328339,
          "Y": 2418
         },
         {
          "X": -0.6999253745279068,
          "Y": 2567
         },
         {
          "X": -0.6164053380229801,
          "Y": 2668
         },
         {
          "X": -0.5328853015180535,
          "Y": 2944
         },
         {
          "X": -0.44936526501312635,
          "Y": 3086
         },
         {
          "X": -0.36584522850819967,
          "Y": 3176
         },
         {
          "X": -0.28232519200327255,
          "Y": 3121
         },
         {
          "X": -0.19880515549834588,
          "Y": 3276
         },
         {
          "X": -0.11528511899341876,
          "Y": 3353
         },
         {
          "X": -0.031765082488492524,
          "Y": 3373
         },
         {
          "X": 0.051754954016434596,
          "Y": 3369
         },
         {
          "X": 0.13527499052136172,
          "Y": 3200
         },
         {
          "X": 0.21879502702628884,
          "Y": 3202
         },
         {
          "X": 0.30231506353121507,
          "Y": 3187
         },
         {
          "X": 0.3858351000361422,
          "Y": 3172
         },
         {
          "X": 0.4693551365410693,
          "Y": 2925
         },
         {
          "X": 0.5528751730459964,
          "Y": 2865
         },
         {
          "X": 0.6363952095509227,
          "Y": 2778
         },
         {
          "X": 0.7199152460558498,
          "Y": 2507
         },
         {
          "X": 0.8034352825607769,
          "Y": 2374
         },
         {
          "X": 0.8869553190657031,
          "Y": 2234
         },
         {
          "X": 0.9704753555706302,
          "Y": 2067
         },
         {
          "X": 1.0539953920755574,
          "Y": 1867
         },
         {
          "X": 1.1375154285804845,
          "Y": 1721
         },
         {
          "X": 1.2210354650854107,
          "Y": 1586
         },
         {
          "X": 1.3045555015903378,
          "Y": 1521
         },
         {
          "X": 1.388075538095265,
          "Y": 1279
         },
         {
          "X": 1.4715955746001912,
          "Y": 1165
         },
         {
          "X": 1.5551156111051183,
          "Y": 994
         },
         {
          "X": 1.6386356476100454,
          "Y": 877
         },
         {
          "X": 1.7221556841149726,
          "Y": 757
         },
         {
          "X": 1.8056757206198988,
          "Y": 666
         },
         {
          "X": 1.889195757124826,
          "Y": 554
         },
         {
          "X": 1.972715793629753,
          "Y": 453
         },
         {
          "X": 2.0562358301346793,
          "Y": 356
         },
         {
          "X": 2.1397558666396064,
          "Y": 386
         },
         {
          "X": 2.2232759031445335,
          "Y": 287
         },
         {
          "X": 2.3067959396494606,
          "Y": 221
         },
         {
          "X": 2.390315976154387,
          "Y": 209
         },
         {
          "X": 2.473836012659314,
          "Y": 145
         },
         {
          "X": 2.557356049164241,
          "Y": 133
         },
         {
          "X": 2.640876085669168,
          "Y": 106
         },
         {
          "X": 2.7243961221740944,
          "Y": 79
         },
         {
          "X": 2.8079161586790216,
          "Y": 67
         },
         {
          "X": 2.8914361951839487,
          "Y": 51
         },
         {
          "X": 2.974956231688875,
          "Y": 37
         },
         {
          "X": 3.058476268193802,
          "Y": 39
         },
         {
          "X": 3.141996304698729,
          "Y": 20
         },
         {
          "X": 3.2255163412036563,
          "Y": 18
         },
         {
          "X": 3.3090363777085825,
          "Y": 14
         },
         {
          "X": 3.3925564142135096,
          "Y": 6
         },
         {
          "X": 3.4760764507184367,
          "Y": 5
         },
         {
          "X": 3.559596487223363,
          "Y": 11
         },
         {
          "X": 3.64311652372829,
          "Y": 3
         },
         {
          "X": 3.726636560233217,
          "Y": 5
         },
         {
          "X": 3.8101565967381443,
          "Y": 2
         },
         {
          "X": 3.8936766332430706,
          "Y": 3
         },
         {
          "X": 3.977196669747996,
          "Y": 1
         },
         {
          "X": 4.060716706252923,
          "Y": 1
         },
         {
          "X": 4.14423674275785,
          "Y": 2
         },
         {
          "X": 4.227756779262777,
          "Y": 0
         }
        ]
       },
       "encoding": {
        "x": {
         "field": "X",
         "type": "quantitative"
        },
        "y": {
         "field": "Y",
         "type": "quantitative"
        }
       },
       "height": 400,
       "mark": "bar",
       "width": 400
      },
      "image/png": "[encoded data removed]"
     },
     "metadata": {},
     "output_type": "display_data"
    }
   ],
   "source": [
    "samples <- sampler $ replicateM 100000 (weighted model2)\n",
    "plot . histogramToList . histogram 100 $ samples"
   ]
  },
  {
   "cell_type": "code",
   "execution_count": 13,
   "metadata": {},
   "outputs": [
    {
     "data": {
      "text/html": [
       "<style>/* Styles used for the Hoogle display in the pager */\n",
       ".hoogle-doc {\n",
       "display: block;\n",
       "padding-bottom: 1.3em;\n",
       "padding-left: 0.4em;\n",
       "}\n",
       ".hoogle-code {\n",
       "display: block;\n",
       "font-family: monospace;\n",
       "white-space: pre;\n",
       "}\n",
       ".hoogle-text {\n",
       "display: block;\n",
       "}\n",
       ".hoogle-name {\n",
       "color: green;\n",
       "font-weight: bold;\n",
       "}\n",
       ".hoogle-head {\n",
       "font-weight: bold;\n",
       "}\n",
       ".hoogle-sub {\n",
       "display: block;\n",
       "margin-left: 0.4em;\n",
       "}\n",
       ".hoogle-package {\n",
       "font-weight: bold;\n",
       "font-style: italic;\n",
       "}\n",
       ".hoogle-module {\n",
       "font-weight: bold;\n",
       "}\n",
       ".hoogle-class {\n",
       "font-weight: bold;\n",
       "}\n",
       ".get-type {\n",
       "color: green;\n",
       "font-weight: bold;\n",
       "font-family: monospace;\n",
       "display: block;\n",
       "white-space: pre-wrap;\n",
       "}\n",
       ".show-type {\n",
       "color: green;\n",
       "font-weight: bold;\n",
       "font-family: monospace;\n",
       "margin-left: 1em;\n",
       "}\n",
       ".mono {\n",
       "font-family: monospace;\n",
       "display: block;\n",
       "}\n",
       ".err-msg {\n",
       "color: red;\n",
       "font-style: italic;\n",
       "font-family: monospace;\n",
       "white-space: pre;\n",
       "display: block;\n",
       "}\n",
       "#unshowable {\n",
       "color: red;\n",
       "font-weight: bold;\n",
       "}\n",
       ".err-msg.in.collapse {\n",
       "padding-top: 0.7em;\n",
       "}\n",
       ".highlight-code {\n",
       "white-space: pre;\n",
       "font-family: monospace;\n",
       "}\n",
       ".suggestion-warning { \n",
       "font-weight: bold;\n",
       "color: rgb(200, 130, 0);\n",
       "}\n",
       ".suggestion-error { \n",
       "font-weight: bold;\n",
       "color: red;\n",
       "}\n",
       ".suggestion-name {\n",
       "font-weight: bold;\n",
       "}\n",
       "</style><span class='get-type'>weighted :: forall {m :: * -> *} {a}. Weighted m a -> m (a, Log Double)</span>"
      ],
      "text/plain": [
       "weighted :: forall {m :: * -> *} {a}. Weighted m a -> m (a, Log Double)"
      ]
     },
     "metadata": {},
     "output_type": "display_data"
    }
   ],
   "source": [
    ":t weighted"
   ]
  },
  {
   "cell_type": "markdown",
   "metadata": {},
   "source": [
    "but it's nicer to apply a `histogram` function to multiple draws to define a distribution over histograms from which we'll sample.\\\n",
    "In that approach a distribution is composed and transformed first and the sampling is clearly split from the distribution definition."
   ]
  },
  {
   "cell_type": "code",
   "execution_count": 14,
   "metadata": {},
   "outputs": [
    {
     "data": {
      "application/vnd.vegalite.v4+json": {
       "$schema": "https://vega.github.io/schema/vega-lite/v4.json",
       "data": {
        "values": [
         {
          "X": -4.1761257702092225,
          "Y": 2
         },
         {
          "X": -4.091256712929489,
          "Y": 0
         },
         {
          "X": -4.006387655649756,
          "Y": 2
         },
         {
          "X": -3.921518598370022,
          "Y": 3
         },
         {
          "X": -3.8366495410902886,
          "Y": 2
         },
         {
          "X": -3.751780483810555,
          "Y": 8
         },
         {
          "X": -3.666911426530821,
          "Y": 5
         },
         {
          "X": -3.582042369251088,
          "Y": 1
         },
         {
          "X": -3.497173311971354,
          "Y": 10
         },
         {
          "X": -3.4123042546916205,
          "Y": 10
         },
         {
          "X": -3.327435197411887,
          "Y": 10
         },
         {
          "X": -3.2425661401321535,
          "Y": 23
         },
         {
          "X": -3.15769708285242,
          "Y": 23
         },
         {
          "X": -3.072828025572686,
          "Y": 24
         },
         {
          "X": -2.9879589682929524,
          "Y": 37
         },
         {
          "X": -2.903089911013219,
          "Y": 49
         },
         {
          "X": -2.8182208537334854,
          "Y": 57
         },
         {
          "X": -2.7333517964537517,
          "Y": 61
         },
         {
          "X": -2.6484827391740184,
          "Y": 118
         },
         {
          "X": -2.5636136818942847,
          "Y": 132
         },
         {
          "X": -2.478744624614551,
          "Y": 167
         },
         {
          "X": -2.3938755673348178,
          "Y": 204
         },
         {
          "X": -2.3090065100550836,
          "Y": 222
         },
         {
          "X": -2.2241374527753504,
          "Y": 281
         },
         {
          "X": -2.139268395495617,
          "Y": 336
         },
         {
          "X": -2.0543993382158834,
          "Y": 401
         },
         {
          "X": -1.9695302809361497,
          "Y": 488
         },
         {
          "X": -1.8846612236564164,
          "Y": 578
         },
         {
          "X": -1.7997921663766827,
          "Y": 618
         },
         {
          "X": -1.714923109096949,
          "Y": 797
         },
         {
          "X": -1.6300540518172153,
          "Y": 901
         },
         {
          "X": -1.545184994537482,
          "Y": 1050
         },
         {
          "X": -1.4603159372577483,
          "Y": 1139
         },
         {
          "X": -1.3754468799780146,
          "Y": 1360
         },
         {
          "X": -1.2905778226982814,
          "Y": 1479
         },
         {
          "X": -1.2057087654185477,
          "Y": 1716
         },
         {
          "X": -1.120839708138814,
          "Y": 1746
         },
         {
          "X": -1.0359706508590802,
          "Y": 1972
         },
         {
          "X": -0.951101593579347,
          "Y": 2165
         },
         {
          "X": -0.8662325362996133,
          "Y": 2348
         },
         {
          "X": -0.7813634790198796,
          "Y": 2407
         },
         {
          "X": -0.6964944217401463,
          "Y": 2597
         },
         {
          "X": -0.6116253644604126,
          "Y": 2841
         },
         {
          "X": -0.5267563071806789,
          "Y": 2965
         },
         {
          "X": -0.4418872499009452,
          "Y": 3142
         },
         {
          "X": -0.3570181926212119,
          "Y": 3115
         },
         {
          "X": -0.2721491353414782,
          "Y": 3215
         },
         {
          "X": -0.18728007806174407,
          "Y": 3277
         },
         {
          "X": -0.10241102078201081,
          "Y": 3427
         },
         {
          "X": -0.01754196350227666,
          "Y": 3382
         },
         {
          "X": 0.0673270937774566,
          "Y": 3370
         },
         {
          "X": 0.15219615105718987,
          "Y": 3349
         },
         {
          "X": 0.23706520833692402,
          "Y": 3320
         },
         {
          "X": 0.3219342656166573,
          "Y": 3132
         },
         {
          "X": 0.40680332289639054,
          "Y": 3119
         },
         {
          "X": 0.4916723801761247,
          "Y": 2931
         },
         {
          "X": 0.576541437455858,
          "Y": 2868
         },
         {
          "X": 0.6614104947355912,
          "Y": 2709
         },
         {
          "X": 0.7462795520153254,
          "Y": 2532
         },
         {
          "X": 0.8311486092950586,
          "Y": 2515
         },
         {
          "X": 0.9160176665747928,
          "Y": 2192
         },
         {
          "X": 1.000886723854526,
          "Y": 2022
         },
         {
          "X": 1.0857557811342593,
          "Y": 1850
         },
         {
          "X": 1.1706248384139935,
          "Y": 1736
         },
         {
          "X": 1.2554938956937267,
          "Y": 1533
         },
         {
          "X": 1.34036295297346,
          "Y": 1383
         },
         {
          "X": 1.4252320102531941,
          "Y": 1301
         },
         {
          "X": 1.5101010675329274,
          "Y": 1085
         },
         {
          "X": 1.5949701248126607,
          "Y": 944
         },
         {
          "X": 1.6798391820923948,
          "Y": 873
         },
         {
          "X": 1.764708239372128,
          "Y": 705
         },
         {
          "X": 1.8495772966518622,
          "Y": 626
         },
         {
          "X": 1.9344463539315955,
          "Y": 559
         },
         {
          "X": 2.0193154112113287,
          "Y": 481
         },
         {
          "X": 2.104184468491063,
          "Y": 366
         },
         {
          "X": 2.189053525770796,
          "Y": 277
         },
         {
          "X": 2.2739225830505294,
          "Y": 257
         },
         {
          "X": 2.3587916403302636,
          "Y": 233
         },
         {
          "X": 2.443660697609997,
          "Y": 184
         },
         {
          "X": 2.52852975488973,
          "Y": 118
         },
         {
          "X": 2.6133988121694642,
          "Y": 123
         },
         {
          "X": 2.6982678694491975,
          "Y": 76
         },
         {
          "X": 2.7831369267289308,
          "Y": 74
         },
         {
          "X": 2.868005984008665,
          "Y": 52
         },
         {
          "X": 2.952875041288398,
          "Y": 42
         },
         {
          "X": 3.0377440985681323,
          "Y": 45
         },
         {
          "X": 3.1226131558478656,
          "Y": 27
         },
         {
          "X": 3.207482213127599,
          "Y": 17
         },
         {
          "X": 3.292351270407333,
          "Y": 15
         },
         {
          "X": 3.3772203276870663,
          "Y": 6
         },
         {
          "X": 3.4620893849667995,
          "Y": 10
         },
         {
          "X": 3.5469584422465337,
          "Y": 7
         },
         {
          "X": 3.631827499526267,
          "Y": 11
         },
         {
          "X": 3.716696556806,
          "Y": 5
         },
         {
          "X": 3.8015656140857335,
          "Y": 4
         },
         {
          "X": 3.8864346713654676,
          "Y": 1
         },
         {
          "X": 3.9713037286452,
          "Y": 0
         },
         {
          "X": 4.056172785924934,
          "Y": 0
         },
         {
          "X": 4.141041843204668,
          "Y": 0
         },
         {
          "X": 4.225910900484401,
          "Y": 1
         }
        ]
       },
       "encoding": {
        "x": {
         "field": "X",
         "type": "quantitative"
        },
        "y": {
         "field": "Y",
         "type": "quantitative"
        }
       },
       "height": 400,
       "mark": "bar",
       "width": 400
      },
      "image/png": "[encoded data removed]"
     },
     "metadata": {},
     "output_type": "display_data"
    }
   ],
   "source": [
    "sampler $ plot . histogramToList . histogram 100 <$> replicateM 100000 (weighted model2)"
   ]
  },
  {
   "cell_type": "markdown",
   "metadata": {},
   "source": [
    "Mixture model:"
   ]
  },
  {
   "cell_type": "code",
   "execution_count": 15,
   "metadata": {},
   "outputs": [],
   "source": [
    "model3 = do\n",
    "    p <- bernoulli 0.7\n",
    "    if p then normal 0 1 else normal 3 1"
   ]
  },
  {
   "cell_type": "code",
   "execution_count": 16,
   "metadata": {},
   "outputs": [
    {
     "data": {
      "application/vnd.vegalite.v4+json": {
       "$schema": "https://vega.github.io/schema/vega-lite/v4.json",
       "data": {
        "values": [
         {
          "X": -4.157300216578324,
          "Y": 2
         },
         {
          "X": -4.098415377641705,
          "Y": 1
         },
         {
          "X": -4.039530538705085,
          "Y": 0
         },
         {
          "X": -3.9806456997684645,
          "Y": 0
         },
         {
          "X": -3.9217608608318444,
          "Y": 0
         },
         {
          "X": -3.8628760218952247,
          "Y": 0
         },
         {
          "X": -3.8039911829586046,
          "Y": 1
         },
         {
          "X": -3.7451063440219845,
          "Y": 1
         },
         {
          "X": -3.6862215050853644,
          "Y": 3
         },
         {
          "X": -3.6273366661487443,
          "Y": 6
         },
         {
          "X": -3.568451827212124,
          "Y": 4
         },
         {
          "X": -3.5095669882755045,
          "Y": 2
         },
         {
          "X": -3.4506821493388844,
          "Y": 1
         },
         {
          "X": -3.3917973104022643,
          "Y": 7
         },
         {
          "X": -3.332912471465644,
          "Y": 4
         },
         {
          "X": -3.274027632529024,
          "Y": 9
         },
         {
          "X": -3.2151427935924044,
          "Y": 13
         },
         {
          "X": -3.156257954655784,
          "Y": 13
         },
         {
          "X": -3.097373115719164,
          "Y": 10
         },
         {
          "X": -3.038488276782544,
          "Y": 15
         },
         {
          "X": -2.979603437845924,
          "Y": 17
         },
         {
          "X": -2.9207185989093043,
          "Y": 18
         },
         {
          "X": -2.8618337599726837,
          "Y": 25
         },
         {
          "X": -2.802948921036064,
          "Y": 35
         },
         {
          "X": -2.744064082099444,
          "Y": 48
         },
         {
          "X": -2.685179243162824,
          "Y": 34
         },
         {
          "X": -2.626294404226204,
          "Y": 56
         },
         {
          "X": -2.5674095652895836,
          "Y": 64
         },
         {
          "X": -2.508524726352964,
          "Y": 73
         },
         {
          "X": -2.449639887416344,
          "Y": 97
         },
         {
          "X": -2.3907550484797238,
          "Y": 91
         },
         {
          "X": -2.331870209543104,
          "Y": 92
         },
         {
          "X": -2.2729853706064835,
          "Y": 106
         },
         {
          "X": -2.214100531669864,
          "Y": 137
         },
         {
          "X": -2.1552156927332438,
          "Y": 152
         },
         {
          "X": -2.096330853796624,
          "Y": 203
         },
         {
          "X": -2.037446014860004,
          "Y": 217
         },
         {
          "X": -1.9785611759233839,
          "Y": 208
         },
         {
          "X": -1.9196763369867638,
          "Y": 280
         },
         {
          "X": -1.8607914980501437,
          "Y": 278
         },
         {
          "X": -1.801906659113524,
          "Y": 340
         },
         {
          "X": -1.7430218201769039,
          "Y": 333
         },
         {
          "X": -1.6841369812402838,
          "Y": 394
         },
         {
          "X": -1.6252521423036637,
          "Y": 459
         },
         {
          "X": -1.5663673033670436,
          "Y": 488
         },
         {
          "X": -1.5074824644304234,
          "Y": 559
         },
         {
          "X": -1.4485976254938038,
          "Y": 605
         },
         {
          "X": -1.3897127865571837,
          "Y": 614
         },
         {
          "X": -1.3308279476205636,
          "Y": 686
         },
         {
          "X": -1.2719431086839434,
          "Y": 720
         },
         {
          "X": -1.2130582697473233,
          "Y": 751
         },
         {
          "X": -1.1541734308107037,
          "Y": 832
         },
         {
          "X": -1.0952885918740836,
          "Y": 940
         },
         {
          "X": -1.0364037529374635,
          "Y": 1001
         },
         {
          "X": -0.9775189140008433,
          "Y": 966
         },
         {
          "X": -0.9186340750642232,
          "Y": 1042
         },
         {
          "X": -0.8597492361276031,
          "Y": 1208
         },
         {
          "X": -0.8008643971909835,
          "Y": 1190
         },
         {
          "X": -0.7419795582543633,
          "Y": 1225
         },
         {
          "X": -0.6830947193177432,
          "Y": 1258
         },
         {
          "X": -0.6242098803811231,
          "Y": 1338
         },
         {
          "X": -0.565325041444503,
          "Y": 1390
         },
         {
          "X": -0.5064402025078834,
          "Y": 1458
         },
         {
          "X": -0.44755536357126324,
          "Y": 1461
         },
         {
          "X": -0.38867052463464313,
          "Y": 1504
         },
         {
          "X": -0.329785685698023,
          "Y": 1576
         },
         {
          "X": -0.2709008467614029,
          "Y": 1585
         },
         {
          "X": -0.21201600782478325,
          "Y": 1648
         },
         {
          "X": -0.15313116888816225,
          "Y": 1612
         },
         {
          "X": -0.09424632995154258,
          "Y": 1638
         },
         {
          "X": -0.03536149101492292,
          "Y": 1673
         },
         {
          "X": 0.023523347921697635,
          "Y": 1654
         },
         {
          "X": 0.0824081868583173,
          "Y": 1698
         },
         {
          "X": 0.14129302579493785,
          "Y": 1678
         },
         {
          "X": 0.20017786473155752,
          "Y": 1615
         },
         {
          "X": 0.2590627036681772,
          "Y": 1562
         },
         {
          "X": 0.31794754260479774,
          "Y": 1571
         },
         {
          "X": 0.3768323815414174,
          "Y": 1570
         },
         {
          "X": 0.43571722047803796,
          "Y": 1539
         },
         {
          "X": 0.4946020594146576,
          "Y": 1545
         },
         {
          "X": 0.5534868983512773,
          "Y": 1475
         },
         {
          "X": 0.6123717372878978,
          "Y": 1383
         },
         {
          "X": 0.6712565762245175,
          "Y": 1409
         },
         {
          "X": 0.7301414151611381,
          "Y": 1296
         },
         {
          "X": 0.7890262540977577,
          "Y": 1272
         },
         {
          "X": 0.8479110930343783,
          "Y": 1189
         },
         {
          "X": 0.906795931970998,
          "Y": 1138
         },
         {
          "X": 0.9656807709076176,
          "Y": 1196
         },
         {
          "X": 1.0245656098442382,
          "Y": 1066
         },
         {
          "X": 1.0834504487808578,
          "Y": 967
         },
         {
          "X": 1.1423352877174784,
          "Y": 1022
         },
         {
          "X": 1.201220126654098,
          "Y": 925
         },
         {
          "X": 1.2601049655907177,
          "Y": 898
         },
         {
          "X": 1.3189898045273383,
          "Y": 884
         },
         {
          "X": 1.377874643463958,
          "Y": 802
         },
         {
          "X": 1.4367594824005785,
          "Y": 789
         },
         {
          "X": 1.4956443213371982,
          "Y": 727
         },
         {
          "X": 1.5545291602738178,
          "Y": 726
         },
         {
          "X": 1.6134139992104384,
          "Y": 731
         },
         {
          "X": 1.672298838147058,
          "Y": 689
         },
         {
          "X": 1.7311836770836786,
          "Y": 706
         },
         {
          "X": 1.7900685160202983,
          "Y": 656
         },
         {
          "X": 1.848953354956918,
          "Y": 655
         },
         {
          "X": 1.9078381938935385,
          "Y": 653
         },
         {
          "X": 1.9667230328301581,
          "Y": 662
         },
         {
          "X": 2.0256078717667787,
          "Y": 624
         },
         {
          "X": 2.0844927107033984,
          "Y": 676
         },
         {
          "X": 2.143377549640018,
          "Y": 663
         },
         {
          "X": 2.2022623885766386,
          "Y": 678
         },
         {
          "X": 2.2611472275132583,
          "Y": 667
         },
         {
          "X": 2.320032066449879,
          "Y": 688
         },
         {
          "X": 2.3789169053864985,
          "Y": 680
         },
         {
          "X": 2.437801744323119,
          "Y": 678
         },
         {
          "X": 2.4966865832597387,
          "Y": 690
         },
         {
          "X": 2.5555714221963584,
          "Y": 706
         },
         {
          "X": 2.614456261132979,
          "Y": 696
         },
         {
          "X": 2.6733411000695986,
          "Y": 715
         },
         {
          "X": 2.732225939006219,
          "Y": 702
         },
         {
          "X": 2.791110777942839,
          "Y": 723
         },
         {
          "X": 2.8499956168794585,
          "Y": 711
         },
         {
          "X": 2.908880455816079,
          "Y": 710
         },
         {
          "X": 2.9677652947526987,
          "Y": 771
         },
         {
          "X": 3.0266501336893192,
          "Y": 740
         },
         {
          "X": 3.085534972625939,
          "Y": 737
         },
         {
          "X": 3.1444198115625586,
          "Y": 707
         },
         {
          "X": 3.203304650499179,
          "Y": 612
         },
         {
          "X": 3.262189489435799,
          "Y": 682
         },
         {
          "X": 3.3210743283724193,
          "Y": 671
         },
         {
          "X": 3.379959167309039,
          "Y": 663
         },
         {
          "X": 3.4388440062456587,
          "Y": 601
         },
         {
          "X": 3.4977288451822792,
          "Y": 641
         },
         {
          "X": 3.556613684118899,
          "Y": 609
         },
         {
          "X": 3.6154985230555194,
          "Y": 586
         },
         {
          "X": 3.674383361992139,
          "Y": 572
         },
         {
          "X": 3.7332682009287588,
          "Y": 526
         },
         {
          "X": 3.7921530398653793,
          "Y": 525
         },
         {
          "X": 3.851037878802,
          "Y": 518
         },
         {
          "X": 3.9099227177386187,
          "Y": 459
         },
         {
          "X": 3.968807556675239,
          "Y": 431
         },
         {
          "X": 4.02769239561186,
          "Y": 401
         },
         {
          "X": 4.0865772345484785,
          "Y": 405
         },
         {
          "X": 4.145462073485099,
          "Y": 348
         },
         {
          "X": 4.20434691242172,
          "Y": 364
         },
         {
          "X": 4.26323175135834,
          "Y": 330
         },
         {
          "X": 4.322116590294959,
          "Y": 292
         },
         {
          "X": 4.3810014292315795,
          "Y": 247
         },
         {
          "X": 4.4398862681682,
          "Y": 277
         },
         {
          "X": 4.498771107104819,
          "Y": 263
         },
         {
          "X": 4.557655946041439,
          "Y": 214
         },
         {
          "X": 4.61654078497806,
          "Y": 188
         },
         {
          "X": 4.675425623914679,
          "Y": 153
         },
         {
          "X": 4.734310462851299,
          "Y": 150
         },
         {
          "X": 4.79319530178792,
          "Y": 152
         },
         {
          "X": 4.85208014072454,
          "Y": 129
         },
         {
          "X": 4.910964979661159,
          "Y": 129
         },
         {
          "X": 4.96984981859778,
          "Y": 90
         },
         {
          "X": 5.0287346575344,
          "Y": 91
         },
         {
          "X": 5.087619496471019,
          "Y": 72
         },
         {
          "X": 5.14650433540764,
          "Y": 78
         },
         {
          "X": 5.20538917434426,
          "Y": 50
         },
         {
          "X": 5.264274013280879,
          "Y": 51
         },
         {
          "X": 5.3231588522174995,
          "Y": 54
         },
         {
          "X": 5.38204369115412,
          "Y": 29
         },
         {
          "X": 5.440928530090741,
          "Y": 35
         },
         {
          "X": 5.499813369027359,
          "Y": 29
         },
         {
          "X": 5.55869820796398,
          "Y": 25
         },
         {
          "X": 5.6175830469006005,
          "Y": 17
         },
         {
          "X": 5.676467885837219,
          "Y": 12
         },
         {
          "X": 5.73535272477384,
          "Y": 13
         },
         {
          "X": 5.79423756371046,
          "Y": 23
         },
         {
          "X": 5.853122402647081,
          "Y": 9
         },
         {
          "X": 5.9120072415837,
          "Y": 6
         },
         {
          "X": 5.97089208052032,
          "Y": 11
         },
         {
          "X": 6.029776919456941,
          "Y": 7
         },
         {
          "X": 6.08866175839356,
          "Y": 11
         },
         {
          "X": 6.14754659733018,
          "Y": 4
         },
         {
          "X": 6.206431436266801,
          "Y": 4
         },
         {
          "X": 6.2653162752034195,
          "Y": 3
         },
         {
          "X": 6.32420111414004,
          "Y": 1
         },
         {
          "X": 6.383085953076661,
          "Y": 0
         },
         {
          "X": 6.441970792013281,
          "Y": 3
         },
         {
          "X": 6.5008556309499,
          "Y": 4
         },
         {
          "X": 6.5597404698865205,
          "Y": 0
         },
         {
          "X": 6.618625308823141,
          "Y": 0
         },
         {
          "X": 6.67751014775976,
          "Y": 2
         },
         {
          "X": 6.73639498669638,
          "Y": 0
         },
         {
          "X": 6.795279825633001,
          "Y": 0
         },
         {
          "X": 6.85416466456962,
          "Y": 0
         },
         {
          "X": 6.91304950350624,
          "Y": 0
         },
         {
          "X": 6.971934342442861,
          "Y": 0
         },
         {
          "X": 7.030819181379481,
          "Y": 0
         },
         {
          "X": 7.0897040203161,
          "Y": 0
         },
         {
          "X": 7.148588859252721,
          "Y": 0
         },
         {
          "X": 7.207473698189341,
          "Y": 0
         },
         {
          "X": 7.26635853712596,
          "Y": 0
         },
         {
          "X": 7.325243376062581,
          "Y": 0
         },
         {
          "X": 7.384128214999201,
          "Y": 0
         },
         {
          "X": 7.443013053935822,
          "Y": 0
         },
         {
          "X": 7.5018978928724405,
          "Y": 0
         },
         {
          "X": 7.560782731809061,
          "Y": 0
         }
        ]
       },
       "encoding": {
        "x": {
         "field": "X",
         "type": "quantitative"
        },
        "y": {
         "field": "Y",
         "type": "quantitative"
        }
       },
       "height": 400,
       "mark": "bar",
       "width": 400
      },
      "image/png": "[encoded data removed]"
     },
     "metadata": {},
     "output_type": "display_data"
    }
   ],
   "source": [
    "sampler $ \n",
    "    plot . histogramToList . histogram 200\n",
    "    <$> replicateM 100000 (weighted model3)\n"
   ]
  },
  {
   "cell_type": "markdown",
   "metadata": {},
   "source": [
    "# Weighted Sampling\n",
    "\n",
    "For models with factor statements, we cannot just sample. For example, consider a distribution which is conditioned to positive values only:"
   ]
  },
  {
   "cell_type": "code",
   "execution_count": 17,
   "metadata": {},
   "outputs": [],
   "source": [
    "model4 = do\n",
    "    p <- bernoulli 0.7\n",
    "    out <- if p then normal 0 1 else normal 3 1\n",
    "    condition (out > 0)\n",
    "    return out\n"
   ]
  },
  {
   "cell_type": "markdown",
   "metadata": {},
   "source": [
    "`condition` is a special case of `factor` statement for binary factors."
   ]
  },
  {
   "cell_type": "markdown",
   "metadata": {},
   "source": [
    "Here, we use `weighted` to convert `model4` into a distribution over pairs of numbers and their weights. We then sample from that. To view "
   ]
  },
  {
   "cell_type": "code",
   "execution_count": 18,
   "metadata": {},
   "outputs": [
    {
     "data": {
      "application/vnd.vegalite.v4+json": {
       "$schema": "https://vega.github.io/schema/vega-lite/v4.json",
       "data": {
        "values": [
         {
          "X": -4.157437734674872,
          "Y": 0
         },
         {
          "X": -4.102703360854787,
          "Y": 0
         },
         {
          "X": -4.047968987034702,
          "Y": 0
         },
         {
          "X": -3.9932346132146175,
          "Y": 0
         },
         {
          "X": -3.9385002393945325,
          "Y": 0
         },
         {
          "X": -3.883765865574448,
          "Y": 0
         },
         {
          "X": -3.829031491754363,
          "Y": 0
         },
         {
          "X": -3.7742971179342786,
          "Y": 0
         },
         {
          "X": -3.7195627441141936,
          "Y": 0
         },
         {
          "X": -3.664828370294109,
          "Y": 0
         },
         {
          "X": -3.610093996474024,
          "Y": 0
         },
         {
          "X": -3.5553596226539397,
          "Y": 0
         },
         {
          "X": -3.500625248833855,
          "Y": 0
         },
         {
          "X": -3.4458908750137702,
          "Y": 0
         },
         {
          "X": -3.3911565011936853,
          "Y": 0
         },
         {
          "X": -3.3364221273736008,
          "Y": 0
         },
         {
          "X": -3.2816877535535163,
          "Y": 0
         },
         {
          "X": -3.2269533797334313,
          "Y": 0
         },
         {
          "X": -3.1722190059133464,
          "Y": 0
         },
         {
          "X": -3.1174846320932623,
          "Y": 0
         },
         {
          "X": -3.0627502582731774,
          "Y": 0
         },
         {
          "X": -3.0080158844530924,
          "Y": 0
         },
         {
          "X": -2.953281510633008,
          "Y": 0
         },
         {
          "X": -2.8985471368129234,
          "Y": 0
         },
         {
          "X": -2.8438127629928385,
          "Y": 0
         },
         {
          "X": -2.7890783891727535,
          "Y": 0
         },
         {
          "X": -2.734344015352669,
          "Y": 0
         },
         {
          "X": -2.6796096415325845,
          "Y": 0
         },
         {
          "X": -2.6248752677124996,
          "Y": 0
         },
         {
          "X": -2.5701408938924146,
          "Y": 0
         },
         {
          "X": -2.51540652007233,
          "Y": 0
         },
         {
          "X": -2.4606721462522456,
          "Y": 0
         },
         {
          "X": -2.4059377724321607,
          "Y": 0
         },
         {
          "X": -2.3512033986120757,
          "Y": 0
         },
         {
          "X": -2.296469024791991,
          "Y": 0
         },
         {
          "X": -2.2417346509719067,
          "Y": 0
         },
         {
          "X": -2.1870002771518218,
          "Y": 0
         },
         {
          "X": -2.132265903331737,
          "Y": 0
         },
         {
          "X": -2.0775315295116523,
          "Y": 0
         },
         {
          "X": -2.0227971556915674,
          "Y": 0
         },
         {
          "X": -1.9680627818714829,
          "Y": 0
         },
         {
          "X": -1.913328408051398,
          "Y": 0
         },
         {
          "X": -1.8585940342313134,
          "Y": 0
         },
         {
          "X": -1.8038596604112285,
          "Y": 0
         },
         {
          "X": -1.749125286591144,
          "Y": 0
         },
         {
          "X": -1.694390912771059,
          "Y": 0
         },
         {
          "X": -1.6396565389509745,
          "Y": 0
         },
         {
          "X": -1.5849221651308896,
          "Y": 0
         },
         {
          "X": -1.530187791310805,
          "Y": 0
         },
         {
          "X": -1.4754534174907201,
          "Y": 0
         },
         {
          "X": -1.4207190436706356,
          "Y": 0
         },
         {
          "X": -1.3659846698505507,
          "Y": 0
         },
         {
          "X": -1.3112502960304662,
          "Y": 0
         },
         {
          "X": -1.2565159222103812,
          "Y": 0
         },
         {
          "X": -1.2017815483902967,
          "Y": 0
         },
         {
          "X": -1.1470471745702118,
          "Y": 0
         },
         {
          "X": -1.0923128007501273,
          "Y": 0
         },
         {
          "X": -1.0375784269300423,
          "Y": 0
         },
         {
          "X": -0.9828440531099578,
          "Y": 0
         },
         {
          "X": -0.9281096792898729,
          "Y": 0
         },
         {
          "X": -0.8733753054697884,
          "Y": 0
         },
         {
          "X": -0.8186409316497034,
          "Y": 0
         },
         {
          "X": -0.7639065578296189,
          "Y": 0
         },
         {
          "X": -0.709172184009534,
          "Y": 0
         },
         {
          "X": -0.6544378101894495,
          "Y": 0
         },
         {
          "X": -0.599703436369365,
          "Y": 0
         },
         {
          "X": -0.54496906254928,
          "Y": 0
         },
         {
          "X": -0.4902346887291955,
          "Y": 0
         },
         {
          "X": -0.43550031490911056,
          "Y": 0
         },
         {
          "X": -0.38076594108902606,
          "Y": 0
         },
         {
          "X": -0.3260315672689411,
          "Y": 0
         },
         {
          "X": -0.2712971934488566,
          "Y": 0
         },
         {
          "X": -0.21656281962877166,
          "Y": 0
         },
         {
          "X": -0.1618284458086876,
          "Y": 0
         },
         {
          "X": -0.10709407198860266,
          "Y": 0
         },
         {
          "X": -0.05235969816851771,
          "Y": 0
         },
         {
          "X": 0.002374675651566349,
          "Y": 868
         },
         {
          "X": 0.057109049471651296,
          "Y": 1599
         },
         {
          "X": 0.11184342329173624,
          "Y": 1493
         },
         {
          "X": 0.1665777971118212,
          "Y": 1529
         },
         {
          "X": 0.22131217093190525,
          "Y": 1564
         },
         {
          "X": 0.2760465447519902,
          "Y": 1503
         },
         {
          "X": 0.33078091857207514,
          "Y": 1507
         },
         {
          "X": 0.3855152923921601,
          "Y": 1439
         },
         {
          "X": 0.44024966621224415,
          "Y": 1409
         },
         {
          "X": 0.4949840400323291,
          "Y": 1368
         },
         {
          "X": 0.549718413852414,
          "Y": 1344
         },
         {
          "X": 0.604452787672499,
          "Y": 1273
         },
         {
          "X": 0.659187161492583,
          "Y": 1264
         },
         {
          "X": 0.713921535312668,
          "Y": 1221
         },
         {
          "X": 0.768655909132753,
          "Y": 1214
         },
         {
          "X": 0.8233902829528379,
          "Y": 1174
         },
         {
          "X": 0.878124656772922,
          "Y": 1105
         },
         {
          "X": 0.9328590305930069,
          "Y": 1107
         },
         {
          "X": 0.9875934044130918,
          "Y": 1054
         },
         {
          "X": 1.0423277782331768,
          "Y": 998
         },
         {
          "X": 1.0970621520532609,
          "Y": 918
         },
         {
          "X": 1.1517965258733458,
          "Y": 954
         },
         {
          "X": 1.2065308996934307,
          "Y": 920
         },
         {
          "X": 1.2612652735135148,
          "Y": 783
         },
         {
          "X": 1.3159996473335998,
          "Y": 781
         },
         {
          "X": 1.3707340211536847,
          "Y": 784
         },
         {
          "X": 1.4254683949737696,
          "Y": 734
         },
         {
          "X": 1.4802027687938537,
          "Y": 702
         },
         {
          "X": 1.5349371426139387,
          "Y": 648
         },
         {
          "X": 1.5896715164340236,
          "Y": 657
         },
         {
          "X": 1.6444058902541085,
          "Y": 634
         },
         {
          "X": 1.6991402640741926,
          "Y": 609
         },
         {
          "X": 1.7538746378942776,
          "Y": 616
         },
         {
          "X": 1.8086090117143625,
          "Y": 668
         },
         {
          "X": 1.8633433855344474,
          "Y": 545
         },
         {
          "X": 1.9180777593545315,
          "Y": 622
         },
         {
          "X": 1.9728121331746165,
          "Y": 589
         },
         {
          "X": 2.0275465069947014,
          "Y": 589
         },
         {
          "X": 2.0822808808147864,
          "Y": 603
         },
         {
          "X": 2.1370152546348704,
          "Y": 613
         },
         {
          "X": 2.1917496284549554,
          "Y": 611
         },
         {
          "X": 2.2464840022750403,
          "Y": 598
         },
         {
          "X": 2.3012183760951253,
          "Y": 592
         },
         {
          "X": 2.3559527499152093,
          "Y": 634
         },
         {
          "X": 2.4106871237352943,
          "Y": 618
         },
         {
          "X": 2.465421497555379,
          "Y": 644
         },
         {
          "X": 2.520155871375464,
          "Y": 567
         },
         {
          "X": 2.574890245195548,
          "Y": 676
         },
         {
          "X": 2.629624619015633,
          "Y": 651
         },
         {
          "X": 2.684358992835718,
          "Y": 679
         },
         {
          "X": 2.739093366655803,
          "Y": 690
         },
         {
          "X": 2.793827740475887,
          "Y": 661
         },
         {
          "X": 2.848562114295972,
          "Y": 707
         },
         {
          "X": 2.903296488116057,
          "Y": 611
         },
         {
          "X": 2.958030861936141,
          "Y": 662
         },
         {
          "X": 3.012765235756226,
          "Y": 675
         },
         {
          "X": 3.067499609576311,
          "Y": 635
         },
         {
          "X": 3.122233983396396,
          "Y": 691
         },
         {
          "X": 3.17696835721648,
          "Y": 659
         },
         {
          "X": 3.231702731036565,
          "Y": 651
         },
         {
          "X": 3.28643710485665,
          "Y": 644
         },
         {
          "X": 3.341171478676735,
          "Y": 590
         },
         {
          "X": 3.395905852496819,
          "Y": 590
         },
         {
          "X": 3.450640226316904,
          "Y": 621
         },
         {
          "X": 3.5053746001369888,
          "Y": 559
         },
         {
          "X": 3.5601089739570737,
          "Y": 554
         },
         {
          "X": 3.6148433477771578,
          "Y": 494
         },
         {
          "X": 3.6695777215972427,
          "Y": 494
         },
         {
          "X": 3.7243120954173277,
          "Y": 500
         },
         {
          "X": 3.7790464692374126,
          "Y": 476
         },
         {
          "X": 3.8337808430574976,
          "Y": 447
         },
         {
          "X": 3.8885152168775834,
          "Y": 433
         },
         {
          "X": 3.9432495906976675,
          "Y": 405
         },
         {
          "X": 3.9979839645177515,
          "Y": 394
         },
         {
          "X": 4.052718338337837,
          "Y": 358
         },
         {
          "X": 4.107452712157921,
          "Y": 345
         },
         {
          "X": 4.1621870859780055,
          "Y": 337
         },
         {
          "X": 4.216921459798091,
          "Y": 338
         },
         {
          "X": 4.271655833618175,
          "Y": 276
         },
         {
          "X": 4.326390207438261,
          "Y": 280
         },
         {
          "X": 4.381124581258345,
          "Y": 253
         },
         {
          "X": 4.435858955078429,
          "Y": 242
         },
         {
          "X": 4.490593328898515,
          "Y": 212
         },
         {
          "X": 4.545327702718599,
          "Y": 202
         },
         {
          "X": 4.600062076538683,
          "Y": 191
         },
         {
          "X": 4.654796450358769,
          "Y": 188
         },
         {
          "X": 4.709530824178853,
          "Y": 173
         },
         {
          "X": 4.764265197998937,
          "Y": 139
         },
         {
          "X": 4.818999571819023,
          "Y": 144
         },
         {
          "X": 4.873733945639107,
          "Y": 128
         },
         {
          "X": 4.928468319459193,
          "Y": 114
         },
         {
          "X": 4.983202693279277,
          "Y": 90
         },
         {
          "X": 5.037937067099361,
          "Y": 73
         },
         {
          "X": 5.092671440919447,
          "Y": 73
         },
         {
          "X": 5.147405814739531,
          "Y": 73
         },
         {
          "X": 5.202140188559615,
          "Y": 56
         },
         {
          "X": 5.256874562379701,
          "Y": 59
         },
         {
          "X": 5.311608936199785,
          "Y": 51
         },
         {
          "X": 5.366343310019871,
          "Y": 40
         },
         {
          "X": 5.421077683839955,
          "Y": 37
         },
         {
          "X": 5.475812057660039,
          "Y": 31
         },
         {
          "X": 5.530546431480125,
          "Y": 27
         },
         {
          "X": 5.585280805300209,
          "Y": 19
         },
         {
          "X": 5.640015179120293,
          "Y": 23
         },
         {
          "X": 5.694749552940379,
          "Y": 18
         },
         {
          "X": 5.749483926760463,
          "Y": 21
         },
         {
          "X": 5.8042183005805486,
          "Y": 12
         },
         {
          "X": 5.858952674400633,
          "Y": 10
         },
         {
          "X": 5.913687048220717,
          "Y": 13
         },
         {
          "X": 5.9684214220408025,
          "Y": 9
         },
         {
          "X": 6.023155795860887,
          "Y": 8
         },
         {
          "X": 6.077890169680971,
          "Y": 7
         },
         {
          "X": 6.1326245435010565,
          "Y": 6
         },
         {
          "X": 6.1873589173211405,
          "Y": 5
         },
         {
          "X": 6.242093291141226,
          "Y": 2
         },
         {
          "X": 6.29682766496131,
          "Y": 5
         },
         {
          "X": 6.3515620387813945,
          "Y": 2
         },
         {
          "X": 6.40629641260148,
          "Y": 4
         },
         {
          "X": 6.461030786421564,
          "Y": 4
         },
         {
          "X": 6.515765160241648,
          "Y": 1
         },
         {
          "X": 6.570499534061734,
          "Y": 0
         },
         {
          "X": 6.625233907881818,
          "Y": 2
         },
         {
          "X": 6.679968281701902,
          "Y": 1
         },
         {
          "X": 6.734702655521988,
          "Y": 1
         }
        ]
       },
       "encoding": {
        "x": {
         "field": "X",
         "type": "quantitative"
        },
        "y": {
         "field": "Y",
         "type": "quantitative"
        }
       },
       "height": 400,
       "mark": "bar",
       "width": 400
      },
      "image/png": "[encoded data removed]"
     },
     "metadata": {},
     "output_type": "display_data"
    }
   ],
   "source": [
    "sampler $ \n",
    "    plot . histogramToList . histogram 200\n",
    "    <$> replicateM 100000 (weighted model4)"
   ]
  },
  {
   "cell_type": "markdown",
   "metadata": {},
   "source": [
    "We could ignore the `condition` statement using `unweighted`, as in:"
   ]
  },
  {
   "cell_type": "code",
   "execution_count": 19,
   "metadata": {},
   "outputs": [
    {
     "data": {
      "application/vnd.vegalite.v4+json": {
       "$schema": "https://vega.github.io/schema/vega-lite/v4.json",
       "data": {
        "values": [
         {
          "X": -4.720541416489539,
          "Y": 2
         },
         {
          "X": -4.661995704191226,
          "Y": 0
         },
         {
          "X": -4.603449991892913,
          "Y": 0
         },
         {
          "X": -4.544904279594601,
          "Y": 0
         },
         {
          "X": -4.486358567296288,
          "Y": 0
         },
         {
          "X": -4.427812854997975,
          "Y": 0
         },
         {
          "X": -4.3692671426996625,
          "Y": 0
         },
         {
          "X": -4.310721430401349,
          "Y": 0
         },
         {
          "X": -4.252175718103037,
          "Y": 0
         },
         {
          "X": -4.1936300058047244,
          "Y": 0
         },
         {
          "X": -4.135084293506411,
          "Y": 1
         },
         {
          "X": -4.076538581208099,
          "Y": 0
         },
         {
          "X": -4.0179928689097855,
          "Y": 1
         },
         {
          "X": -3.959447156611473,
          "Y": 0
         },
         {
          "X": -3.90090144431316,
          "Y": 1
         },
         {
          "X": -3.8423557320148474,
          "Y": 2
         },
         {
          "X": -3.7838100197165345,
          "Y": 0
         },
         {
          "X": -3.7252643074182217,
          "Y": 2
         },
         {
          "X": -3.6667185951199093,
          "Y": 4
         },
         {
          "X": -3.608172882821596,
          "Y": 1
         },
         {
          "X": -3.5496271705232836,
          "Y": 4
         },
         {
          "X": -3.4910814582249707,
          "Y": 4
         },
         {
          "X": -3.432535745926658,
          "Y": 4
         },
         {
          "X": -3.373990033628345,
          "Y": 4
         },
         {
          "X": -3.315444321330032,
          "Y": 4
         },
         {
          "X": -3.25689860903172,
          "Y": 16
         },
         {
          "X": -3.1983528967334065,
          "Y": 9
         },
         {
          "X": -3.139807184435094,
          "Y": 14
         },
         {
          "X": -3.0812614721367813,
          "Y": 12
         },
         {
          "X": -3.0227157598384684,
          "Y": 15
         },
         {
          "X": -2.9641700475401556,
          "Y": 23
         },
         {
          "X": -2.9056243352418427,
          "Y": 19
         },
         {
          "X": -2.8470786229435303,
          "Y": 24
         },
         {
          "X": -2.788532910645217,
          "Y": 35
         },
         {
          "X": -2.7299871983469046,
          "Y": 44
         },
         {
          "X": -2.6714414860485918,
          "Y": 38
         },
         {
          "X": -2.6128957737502794,
          "Y": 62
         },
         {
          "X": -2.5543500614519665,
          "Y": 75
         },
         {
          "X": -2.4958043491536537,
          "Y": 80
         },
         {
          "X": -2.437258636855341,
          "Y": 75
         },
         {
          "X": -2.378712924557028,
          "Y": 86
         },
         {
          "X": -2.320167212258715,
          "Y": 106
         },
         {
          "X": -2.2616214999604027,
          "Y": 125
         },
         {
          "X": -2.20307578766209,
          "Y": 138
         },
         {
          "X": -2.144530075363777,
          "Y": 168
         },
         {
          "X": -2.085984363065464,
          "Y": 196
         },
         {
          "X": -2.0274386507671514,
          "Y": 233
         },
         {
          "X": -1.9688929384688385,
          "Y": 242
         },
         {
          "X": -1.910347226170526,
          "Y": 270
         },
         {
          "X": -1.8518015138722133,
          "Y": 310
         },
         {
          "X": -1.7932558015739004,
          "Y": 338
         },
         {
          "X": -1.7347100892755876,
          "Y": 372
         },
         {
          "X": -1.6761643769772747,
          "Y": 409
         },
         {
          "X": -1.6176186646789619,
          "Y": 444
         },
         {
          "X": -1.559072952380649,
          "Y": 465
         },
         {
          "X": -1.5005272400823366,
          "Y": 505
         },
         {
          "X": -1.4419815277840238,
          "Y": 610
         },
         {
          "X": -1.383435815485711,
          "Y": 576
         },
         {
          "X": -1.324890103187398,
          "Y": 656
         },
         {
          "X": -1.2663443908890852,
          "Y": 731
         },
         {
          "X": -1.2077986785907724,
          "Y": 839
         },
         {
          "X": -1.14925296629246,
          "Y": 875
         },
         {
          "X": -1.0907072539941471,
          "Y": 839
         },
         {
          "X": -1.0321615416958343,
          "Y": 1005
         },
         {
          "X": -0.9736158293975214,
          "Y": 1022
         },
         {
          "X": -0.9150701170992086,
          "Y": 1092
         },
         {
          "X": -0.8565244048008958,
          "Y": 1122
         },
         {
          "X": -0.7979786925025829,
          "Y": 1194
         },
         {
          "X": -0.7394329802042705,
          "Y": 1287
         },
         {
          "X": -0.6808872679059572,
          "Y": 1238
         },
         {
          "X": -0.6223415556076439,
          "Y": 1335
         },
         {
          "X": -0.5637958433093315,
          "Y": 1382
         },
         {
          "X": -0.5052501310110191,
          "Y": 1448
         },
         {
          "X": -0.44670441871270583,
          "Y": 1521
         },
         {
          "X": -0.38815870641439343,
          "Y": 1516
         },
         {
          "X": -0.32961299411608014,
          "Y": 1575
         },
         {
          "X": -0.27106728181776774,
          "Y": 1588
         },
         {
          "X": -0.21252156951945533,
          "Y": 1606
         },
         {
          "X": -0.15397585722114204,
          "Y": 1671
         },
         {
          "X": -0.09543014492282964,
          "Y": 1636
         },
         {
          "X": -0.03688443262451635,
          "Y": 1673
         },
         {
          "X": 0.021661279673796052,
          "Y": 1625
         },
         {
          "X": 0.08020699197210934,
          "Y": 1670
         },
         {
          "X": 0.13875270427042175,
          "Y": 1621
         },
         {
          "X": 0.19729841656873415,
          "Y": 1590
         },
         {
          "X": 0.25584412886704744,
          "Y": 1600
         },
         {
          "X": 0.31438984116535984,
          "Y": 1562
         },
         {
          "X": 0.37293555346367313,
          "Y": 1508
         },
         {
          "X": 0.43148126576198553,
          "Y": 1548
         },
         {
          "X": 0.4900269780602988,
          "Y": 1457
         },
         {
          "X": 0.5485726903586112,
          "Y": 1415
         },
         {
          "X": 0.6071184026569236,
          "Y": 1399
         },
         {
          "X": 0.6656641149552369,
          "Y": 1421
         },
         {
          "X": 0.7242098272535493,
          "Y": 1285
         },
         {
          "X": 0.7827555395518626,
          "Y": 1220
         },
         {
          "X": 0.841301251850175,
          "Y": 1198
         },
         {
          "X": 0.8998469641484874,
          "Y": 1152
         },
         {
          "X": 0.9583926764468007,
          "Y": 1147
         },
         {
          "X": 1.016938388745113,
          "Y": 1112
         },
         {
          "X": 1.0754841010434264,
          "Y": 1010
         },
         {
          "X": 1.1340298133417388,
          "Y": 927
         },
         {
          "X": 1.192575525640052,
          "Y": 889
         },
         {
          "X": 1.2511212379383645,
          "Y": 917
         },
         {
          "X": 1.309666950236677,
          "Y": 875
         },
         {
          "X": 1.3682126625349902,
          "Y": 822
         },
         {
          "X": 1.4267583748333026,
          "Y": 763
         },
         {
          "X": 1.4853040871316159,
          "Y": 743
         },
         {
          "X": 1.5438497994299283,
          "Y": 748
         },
         {
          "X": 1.6023955117282416,
          "Y": 709
         },
         {
          "X": 1.660941224026554,
          "Y": 705
         },
         {
          "X": 1.7194869363248664,
          "Y": 686
         },
         {
          "X": 1.7780326486231797,
          "Y": 671
         },
         {
          "X": 1.836578360921492,
          "Y": 649
         },
         {
          "X": 1.8951240732198054,
          "Y": 680
         },
         {
          "X": 1.9536697855181178,
          "Y": 649
         },
         {
          "X": 2.012215497816431,
          "Y": 651
         },
         {
          "X": 2.0707612101147435,
          "Y": 646
         },
         {
          "X": 2.129306922413056,
          "Y": 639
         },
         {
          "X": 2.187852634711369,
          "Y": 618
         },
         {
          "X": 2.2463983470096816,
          "Y": 665
         },
         {
          "X": 2.304944059307995,
          "Y": 624
         },
         {
          "X": 2.3634897716063072,
          "Y": 667
         },
         {
          "X": 2.4220354839046196,
          "Y": 696
         },
         {
          "X": 2.480581196202933,
          "Y": 712
         },
         {
          "X": 2.5391269085012453,
          "Y": 671
         },
         {
          "X": 2.5976726207995586,
          "Y": 686
         },
         {
          "X": 2.656218333097871,
          "Y": 728
         },
         {
          "X": 2.7147640453961843,
          "Y": 744
         },
         {
          "X": 2.7733097576944967,
          "Y": 738
         },
         {
          "X": 2.831855469992809,
          "Y": 731
         },
         {
          "X": 2.8904011822911224,
          "Y": 822
         },
         {
          "X": 2.948946894589435,
          "Y": 727
         },
         {
          "X": 3.007492606887748,
          "Y": 650
         },
         {
          "X": 3.0660383191860605,
          "Y": 677
         },
         {
          "X": 3.124584031484374,
          "Y": 693
         },
         {
          "X": 3.183129743782686,
          "Y": 719
         },
         {
          "X": 3.2416754560809986,
          "Y": 707
         },
         {
          "X": 3.30022116837931,
          "Y": 662
         },
         {
          "X": 3.3587668806776234,
          "Y": 656
         },
         {
          "X": 3.4173125929759367,
          "Y": 653
         },
         {
          "X": 3.47585830527425,
          "Y": 663
         },
         {
          "X": 3.5344040175725615,
          "Y": 587
         },
         {
          "X": 3.592949729870875,
          "Y": 590
         },
         {
          "X": 3.651495442169188,
          "Y": 557
         },
         {
          "X": 3.7100411544674996,
          "Y": 536
         },
         {
          "X": 3.768586866765813,
          "Y": 517
         },
         {
          "X": 3.827132579064126,
          "Y": 560
         },
         {
          "X": 3.8856782913624395,
          "Y": 462
         },
         {
          "X": 3.944224003660751,
          "Y": 462
         },
         {
          "X": 4.002769715959064,
          "Y": 457
         },
         {
          "X": 4.061315428257378,
          "Y": 380
         },
         {
          "X": 4.119861140555689,
          "Y": 370
         },
         {
          "X": 4.178406852854002,
          "Y": 348
         },
         {
          "X": 4.236952565152316,
          "Y": 335
         },
         {
          "X": 4.295498277450627,
          "Y": 326
         },
         {
          "X": 4.3540439897489405,
          "Y": 244
         },
         {
          "X": 4.412589702047254,
          "Y": 238
         },
         {
          "X": 4.471135414345567,
          "Y": 216
         },
         {
          "X": 4.529681126643879,
          "Y": 174
         },
         {
          "X": 4.588226838942192,
          "Y": 191
         },
         {
          "X": 4.646772551240505,
          "Y": 171
         },
         {
          "X": 4.705318263538817,
          "Y": 153
         },
         {
          "X": 4.76386397583713,
          "Y": 161
         },
         {
          "X": 4.822409688135443,
          "Y": 130
         },
         {
          "X": 4.8809554004337565,
          "Y": 114
         },
         {
          "X": 4.939501112732068,
          "Y": 114
         },
         {
          "X": 4.998046825030381,
          "Y": 97
         },
         {
          "X": 5.056592537328695,
          "Y": 79
         },
         {
          "X": 5.115138249627006,
          "Y": 74
         },
         {
          "X": 5.173683961925319,
          "Y": 82
         },
         {
          "X": 5.232229674223633,
          "Y": 66
         },
         {
          "X": 5.290775386521946,
          "Y": 39
         },
         {
          "X": 5.3493210988202575,
          "Y": 53
         },
         {
          "X": 5.407866811118571,
          "Y": 40
         },
         {
          "X": 5.466412523416884,
          "Y": 35
         },
         {
          "X": 5.524958235715196,
          "Y": 23
         },
         {
          "X": 5.583503948013509,
          "Y": 22
         },
         {
          "X": 5.642049660311822,
          "Y": 22
         },
         {
          "X": 5.7005953726101355,
          "Y": 23
         },
         {
          "X": 5.759141084908447,
          "Y": 23
         },
         {
          "X": 5.81768679720676,
          "Y": 16
         },
         {
          "X": 5.876232509505074,
          "Y": 10
         },
         {
          "X": 5.934778221803385,
          "Y": 14
         },
         {
          "X": 5.993323934101698,
          "Y": 10
         },
         {
          "X": 6.051869646400012,
          "Y": 3
         },
         {
          "X": 6.110415358698325,
          "Y": 10
         },
         {
          "X": 6.1689610709966365,
          "Y": 5
         },
         {
          "X": 6.22750678329495,
          "Y": 8
         },
         {
          "X": 6.286052495593263,
          "Y": 7
         },
         {
          "X": 6.344598207891575,
          "Y": 2
         },
         {
          "X": 6.403143920189888,
          "Y": 1
         },
         {
          "X": 6.461689632488201,
          "Y": 0
         },
         {
          "X": 6.520235344786513,
          "Y": 0
         },
         {
          "X": 6.578781057084826,
          "Y": 2
         },
         {
          "X": 6.637326769383139,
          "Y": 1
         },
         {
          "X": 6.6958724816814525,
          "Y": 1
         },
         {
          "X": 6.754418193979764,
          "Y": 1
         },
         {
          "X": 6.812963906278077,
          "Y": 0
         },
         {
          "X": 6.871509618576391,
          "Y": 0
         },
         {
          "X": 6.930055330874702,
          "Y": 0
         }
        ]
       },
       "encoding": {
        "x": {
         "field": "X",
         "type": "quantitative"
        },
        "y": {
         "field": "Y",
         "type": "quantitative"
        }
       },
       "height": 400,
       "mark": "bar",
       "width": 400
      },
      "image/png": "[encoded data removed]"
     },
     "metadata": {},
     "output_type": "display_data"
    }
   ],
   "source": [
    "sampler . unweighted $ plot . histogramToList . histogram 200 <$> replicateM 100000 (weighted $ unweighted model4)\n"
   ]
  },
  {
   "cell_type": "markdown",
   "metadata": {},
   "source": [
    "But obviously, we'd like to take samples from the posterior. We can do so as follows:"
   ]
  },
  {
   "cell_type": "code",
   "execution_count": 20,
   "metadata": {},
   "outputs": [
    {
     "data": {
      "text/plain": [
       "[(-0.8016735373234715,0.0),(3.3231803560732147,1.0),(2.3947312406224994,1.0),(1.2624529536091929,1.0),(0.7001960528810024,1.0),(2.0409636526746406,1.0),(-0.15091441390976792,0.0),(-0.7599524641552119,0.0),(1.0806327398434834,1.0),(-0.9655646185813256,0.0)]"
      ]
     },
     "metadata": {},
     "output_type": "display_data"
    }
   ],
   "source": [
    "draws4 <- sampler $ replicateM 10 $ weighted model4\n",
    "draws4"
   ]
  },
  {
   "cell_type": "code",
   "execution_count": 21,
   "metadata": {},
   "outputs": [
    {
     "data": {
      "application/vnd.vegalite.v4+json": {
       "$schema": "https://vega.github.io/schema/vega-lite/v4.json",
       "data": {
        "values": [
         {
          "X": -20.759413054188595,
          "Y": 0.6496169494233562
         },
         {
          "X": -20.545507791355192,
          "Y": 1.7277507476779816
         },
         {
          "X": -20.331602528521792,
          "Y": 0
         },
         {
          "X": -20.11769726568839,
          "Y": 0
         },
         {
          "X": -19.90379200285499,
          "Y": 1.6280280356860775
         },
         {
          "X": -19.689886740021585,
          "Y": 0
         },
         {
          "X": -19.475981477188185,
          "Y": 2.1776042860689064
         },
         {
          "X": -19.26207621435478,
          "Y": 4.979824296707144
         },
         {
          "X": -19.048170951521378,
          "Y": 2.7062653579289484
         },
         {
          "X": -18.834265688687978,
          "Y": 0
         },
         {
          "X": -18.620360425854575,
          "Y": 5.316732745352908
         },
         {
          "X": -18.406455163021175,
          "Y": 0
         },
         {
          "X": -18.19254990018777,
          "Y": 4.57976760590053
         },
         {
          "X": -17.97864463735437,
          "Y": 1.7511434810377562
         },
         {
          "X": -17.764739374520968,
          "Y": 9.69911267783332
         },
         {
          "X": -17.550834111687564,
          "Y": 2.7080791170265996
         },
         {
          "X": -17.336928848854164,
          "Y": 5.199404372838024
         },
         {
          "X": -17.123023586020764,
          "Y": 7.047578529925218
         },
         {
          "X": -16.90911832318736,
          "Y": 2.902993854997724
         },
         {
          "X": -16.695213060353957,
          "Y": 1.740805402109299
         },
         {
          "X": -16.481307797520557,
          "Y": 2.3568767086650952
         },
         {
          "X": -16.267402534687154,
          "Y": 1.7397467676258451
         },
         {
          "X": -16.053497271853754,
          "Y": 6.236486616689494
         },
         {
          "X": -15.83959200902035,
          "Y": 3.7142059926944206
         },
         {
          "X": -15.62568674618695,
          "Y": 3.7000391400401114
         },
         {
          "X": -15.411781483353547,
          "Y": 4.252295692310036
         },
         {
          "X": -15.197876220520145,
          "Y": 9.169559505656014
         },
         {
          "X": -14.983970957686743,
          "Y": 7.481320078191043
         },
         {
          "X": -14.770065694853342,
          "Y": 11.681306547066166
         },
         {
          "X": -14.55616043201994,
          "Y": 19.435058013829803
         },
         {
          "X": -14.342255169186537,
          "Y": 25.046559275846672
         },
         {
          "X": -14.128349906353137,
          "Y": 31.307193173861695
         },
         {
          "X": -13.914444643519733,
          "Y": 34.260903730427145
         },
         {
          "X": -13.700539380686333,
          "Y": 63.604224172625415
         },
         {
          "X": -13.48663411785293,
          "Y": 69.57465810057019
         },
         {
          "X": -13.272728855019528,
          "Y": 85.63438143920179
         },
         {
          "X": -13.058823592186126,
          "Y": 115.20392931647004
         },
         {
          "X": -12.844918329352724,
          "Y": 180.22870266233863
         },
         {
          "X": -12.631013066519321,
          "Y": 189.57707313541377
         },
         {
          "X": -12.41710780368592,
          "Y": 244.26232311736103
         },
         {
          "X": -12.203202540852518,
          "Y": 232.74007256616304
         },
         {
          "X": -11.989297278019116,
          "Y": 168.44357551654969
         },
         {
          "X": -11.775392015185714,
          "Y": 215.69329453679282
         },
         {
          "X": -11.561486752352312,
          "Y": 176.2808421972022
         },
         {
          "X": -11.34758148951891,
          "Y": 181.93904863274835
         },
         {
          "X": -11.133676226685509,
          "Y": 154.50695804935998
         },
         {
          "X": -10.919770963852107,
          "Y": 121.83853065611707
         },
         {
          "X": -10.705865701018705,
          "Y": 118.35339381713663
         },
         {
          "X": -10.491960438185304,
          "Y": 101.9059802534339
         },
         {
          "X": -10.2780551753519,
          "Y": 105.15659752001497
         },
         {
          "X": -10.064149912518499,
          "Y": 100.0537367819007
         },
         {
          "X": -9.850244649685097,
          "Y": 96.10019715115618
         },
         {
          "X": -9.636339386851695,
          "Y": 100.98717269317653
         },
         {
          "X": -9.422434124018293,
          "Y": 105.05734614666001
         },
         {
          "X": -9.208528861184892,
          "Y": 122.5587726455904
         },
         {
          "X": -8.99462359835149,
          "Y": 142.18770596584199
         },
         {
          "X": -8.780718335518088,
          "Y": 167.40089981185264
         },
         {
          "X": -8.566813072684687,
          "Y": 195.2250565858925
         },
         {
          "X": -8.352907809851285,
          "Y": 244.95690569266898
         },
         {
          "X": -8.139002547017881,
          "Y": 349.8358276666594
         },
         {
          "X": -7.92509728418448,
          "Y": 420.5087610546207
         },
         {
          "X": -7.711192021351078,
          "Y": 598.5975860309936
         },
         {
          "X": -7.497286758517676,
          "Y": 764.6940684678742
         },
         {
          "X": -7.283381495684274,
          "Y": 1123.0632013147358
         },
         {
          "X": -7.069476232850873,
          "Y": 1254.0309979431504
         },
         {
          "X": -6.855570970017471,
          "Y": 1577.4515815479485
         },
         {
          "X": -6.641665707184069,
          "Y": 1744.8015764847096
         },
         {
          "X": -6.4277604443506675,
          "Y": 1986.1751938877378
         },
         {
          "X": -6.213855181517266,
          "Y": 2270.957324056482
         },
         {
          "X": -5.999949918683864,
          "Y": 2297.9354742663877
         },
         {
          "X": -5.786044655850461,
          "Y": 2115.5590930816848
         },
         {
          "X": -5.572139393017059,
          "Y": 1948.1560967240573
         },
         {
          "X": -5.358234130183657,
          "Y": 1778.7428783325988
         },
         {
          "X": -5.144328867350255,
          "Y": 1558.9873821935043
         },
         {
          "X": -4.930423604516854,
          "Y": 1282.6676644183467
         },
         {
          "X": -4.716518341683454,
          "Y": 1127.8867047887243
         },
         {
          "X": -4.50261307885005,
          "Y": 905.6023561427114
         },
         {
          "X": -4.28870781601665,
          "Y": 824.6187328360771
         },
         {
          "X": -4.074802553183247,
          "Y": 682.5642801069314
         },
         {
          "X": -3.860897290349847,
          "Y": 599.5778101027947
         },
         {
          "X": -3.6469920275164434,
          "Y": 536.3420791436602
         },
         {
          "X": -3.4330867646830434,
          "Y": 511.0658542826322
         },
         {
          "X": -3.21918150184964,
          "Y": 529.4171507445145
         },
         {
          "X": -3.00527623901624,
          "Y": 523.6809232396852
         },
         {
          "X": -2.7913709761828365,
          "Y": 605.4438960118435
         },
         {
          "X": -2.5774657133494365,
          "Y": 650.250499583849
         },
         {
          "X": -2.363560450516033,
          "Y": 761.9991100331059
         },
         {
          "X": -2.1496551876826295,
          "Y": 857.8851314197124
         },
         {
          "X": -1.9357499248492296,
          "Y": 1130.2643995278647
         },
         {
          "X": -1.721844662015826,
          "Y": 1351.5387710582909
         },
         {
          "X": -1.5079393991824261,
          "Y": 1717.4477560247315
         },
         {
          "X": -1.2940341363490226,
          "Y": 2206.9742853854095
         },
         {
          "X": -1.0801288735156227,
          "Y": 2630.1713375725462
         },
         {
          "X": -0.8662236106822192,
          "Y": 3206.7985380608734
         },
         {
          "X": -0.6523183478488193,
          "Y": 3824.633052133245
         },
         {
          "X": -0.43841308501541576,
          "Y": 4014.224332498875
         },
         {
          "X": -0.22450782218201581,
          "Y": 4495.634645250776
         },
         {
          "X": -0.010602559348612317,
          "Y": 4720.79194427767
         },
         {
          "X": 0.20330270348479118,
          "Y": 4646.341915121527
         },
         {
          "X": 0.4172079663181911,
          "Y": 4292.1645508398215
         },
         {
          "X": 0.6311132291515946,
          "Y": 3896.9634188898963
         },
         {
          "X": 0.8450184919849946,
          "Y": 3281.11285309062
         },
         {
          "X": 1.058923754818398,
          "Y": 2732.0783151320984
         },
         {
          "X": 1.272829017651798,
          "Y": 2178.0600181719756
         },
         {
          "X": 1.4867342804852015,
          "Y": 1788.4354737075541
         },
         {
          "X": 1.7006395433186015,
          "Y": 1396.301551431011
         },
         {
          "X": 1.914544806152005,
          "Y": 1129.5139955658965
         },
         {
          "X": 2.1284500689854084,
          "Y": 922.9143826668243
         },
         {
          "X": 2.3423553318188084,
          "Y": 729.3184964884492
         },
         {
          "X": 2.556260594652212,
          "Y": 649.1922431807084
         },
         {
          "X": 2.770165857485612,
          "Y": 575.7945431205275
         },
         {
          "X": 2.9840711203190153,
          "Y": 540.2622858404742
         },
         {
          "X": 3.1979763831524153,
          "Y": 495.3033190717311
         },
         {
          "X": 3.411881645985819,
          "Y": 512.8166617873196
         },
         {
          "X": 3.6257869088192187,
          "Y": 590.1943706546795
         },
         {
          "X": 3.839692171652622,
          "Y": 563.011744202424
         },
         {
          "X": 4.053597434486022,
          "Y": 671.5566952412973
         },
         {
          "X": 4.267502697319426,
          "Y": 742.6568511297351
         },
         {
          "X": 4.481407960152829,
          "Y": 941.4455702306623
         },
         {
          "X": 4.695313222986229,
          "Y": 1059.0862896318977
         },
         {
          "X": 4.909218485819633,
          "Y": 1243.6151833406047
         },
         {
          "X": 5.1231237486530325,
          "Y": 1479.2654791320551
         },
         {
          "X": 5.337029011486436,
          "Y": 1692.9326763712916
         },
         {
          "X": 5.550934274319836,
          "Y": 1912.964002550727
         },
         {
          "X": 5.7648395371532395,
          "Y": 2082.527501624448
         },
         {
          "X": 5.978744799986639,
          "Y": 2104.506616789829
         },
         {
          "X": 6.192650062820043,
          "Y": 2100.0494205491445
         },
         {
          "X": 6.406555325653443,
          "Y": 2125.3211990742825
         },
         {
          "X": 6.620460588486846,
          "Y": 1847.7531852448312
         },
         {
          "X": 6.83436585132025,
          "Y": 1627.9281456657397
         },
         {
          "X": 7.04827111415365,
          "Y": 1336.9328716405396
         },
         {
          "X": 7.262176376987053,
          "Y": 1063.447223155622
         },
         {
          "X": 7.476081639820453,
          "Y": 884.6833159226253
         },
         {
          "X": 7.689986902653857,
          "Y": 617.8185430279607
         },
         {
          "X": 7.903892165487257,
          "Y": 430.57204428115654
         },
         {
          "X": 8.11779742832066,
          "Y": 336.07959320033035
         },
         {
          "X": 8.33170269115406,
          "Y": 257.95185541674215
         },
         {
          "X": 8.545607953987464,
          "Y": 187.04608245496158
         },
         {
          "X": 8.759513216820864,
          "Y": 165.3101664175984
         },
         {
          "X": 8.973418479654267,
          "Y": 144.15474721780402
         },
         {
          "X": 9.18732374248767,
          "Y": 125.12827983687323
         },
         {
          "X": 9.40122900532107,
          "Y": 111.70513352886721
         },
         {
          "X": 9.615134268154474,
          "Y": 97.15767459708113
         },
         {
          "X": 9.829039530987874,
          "Y": 101.91875148266081
         },
         {
          "X": 10.042944793821277,
          "Y": 99.49625621441352
         },
         {
          "X": 10.256850056654677,
          "Y": 107.89619854852613
         },
         {
          "X": 10.470755319488081,
          "Y": 116.94323736682314
         },
         {
          "X": 10.68466058232148,
          "Y": 132.99460792239668
         },
         {
          "X": 10.898565845154884,
          "Y": 142.16672573091807
         },
         {
          "X": 11.112471107988284,
          "Y": 141.98391770572843
         },
         {
          "X": 11.326376370821691,
          "Y": 151.4696151630088
         },
         {
          "X": 11.540281633655091,
          "Y": 251.82315218162285
         },
         {
          "X": 11.754186896488498,
          "Y": 226.3732147338848
         },
         {
          "X": 11.968092159321898,
          "Y": 269.5161872402242
         },
         {
          "X": 12.181997422155298,
          "Y": 232.35756474940337
         },
         {
          "X": 12.395902684988698,
          "Y": 275.4698707378849
         },
         {
          "X": 12.609807947822105,
          "Y": 149.0796706444241
         },
         {
          "X": 12.823713210655505,
          "Y": 154.77599926895732
         },
         {
          "X": 13.037618473488905,
          "Y": 150.8938576197268
         },
         {
          "X": 13.251523736322305,
          "Y": 151.25747415722924
         },
         {
          "X": 13.465428999155712,
          "Y": 76.60114368102934
         },
         {
          "X": 13.679334261989112,
          "Y": 60.864515131097235
         },
         {
          "X": 13.893239524822512,
          "Y": 38.69147393763568
         },
         {
          "X": 14.107144787655919,
          "Y": 39.27906213442707
         },
         {
          "X": 14.321050050489319,
          "Y": 26.317388858003053
         },
         {
          "X": 14.534955313322719,
          "Y": 20.96135810706653
         },
         {
          "X": 14.748860576156119,
          "Y": 10.780110739348295
         },
         {
          "X": 14.962765838989526,
          "Y": 10.100195973286342
         },
         {
          "X": 15.176671101822926,
          "Y": 6.793058130919476
         },
         {
          "X": 15.390576364656326,
          "Y": 4.67985338424306
         },
         {
          "X": 15.604481627489726,
          "Y": 4.445762478916085
         },
         {
          "X": 15.818386890323133,
          "Y": 3.3364285660523407
         },
         {
          "X": 16.032292153156533,
          "Y": 5.005685026816112
         },
         {
          "X": 16.246197415989933,
          "Y": 5.115777141099328
         },
         {
          "X": 16.46010267882334,
          "Y": 2.479446108744675
         },
         {
          "X": 16.67400794165674,
          "Y": 2.877450919831439
         },
         {
          "X": 16.88791320449014,
          "Y": 5.999858056580331
         },
         {
          "X": 17.10181846732354,
          "Y": 2.5500373416140274
         },
         {
          "X": 17.315723730156947,
          "Y": 6.338747135116012
         },
         {
          "X": 17.529628992990347,
          "Y": 2.5220569488214637
         },
         {
          "X": 17.743534255823747,
          "Y": 7.866465815686201
         },
         {
          "X": 17.957439518657146,
          "Y": 11.113884776793169
         },
         {
          "X": 18.171344781490554,
          "Y": 0
         },
         {
          "X": 18.385250044323953,
          "Y": 2.399946503241003
         },
         {
          "X": 18.599155307157353,
          "Y": 0
         },
         {
          "X": 18.81306056999076,
          "Y": 2.713404132715347
         },
         {
          "X": 19.02696583282416,
          "Y": 2.6948346582935443
         },
         {
          "X": 19.24087109565756,
          "Y": 0
         },
         {
          "X": 19.45477635849096,
          "Y": 6.628106826349944
         },
         {
          "X": 19.668681621324367,
          "Y": 2.1008915147364227
         },
         {
          "X": 19.882586884157767,
          "Y": 0
         },
         {
          "X": 20.096492146991167,
          "Y": 1.457838198921971
         },
         {
          "X": 20.310397409824567,
          "Y": 0
         },
         {
          "X": 20.524302672657974,
          "Y": 0
         },
         {
          "X": 20.738207935491374,
          "Y": 0
         },
         {
          "X": 20.952113198324774,
          "Y": 0
         },
         {
          "X": 21.16601846115818,
          "Y": 0.5290234627269935
         },
         {
          "X": 21.37992372399158,
          "Y": 0
         },
         {
          "X": 21.59382898682498,
          "Y": 0
         },
         {
          "X": 21.80773424965838,
          "Y": 0.37022500276855186
         }
        ]
       },
       "encoding": {
        "x": {
         "field": "X",
         "type": "quantitative"
        },
        "y": {
         "field": "Y",
         "type": "quantitative"
        }
       },
       "height": 400,
       "mark": "bar",
       "width": 400
      },
      "image/png": "[encoded data removed]"
     },
     "metadata": {},
     "output_type": "display_data"
    }
   ],
   "source": [
    "model5 :: MonadInfer m => m Double\n",
    "model5 = do\n",
    "    x <- normal 0 5\n",
    "    (factor . Exp) (cos x)\n",
    "    return x\n",
    "\n",
    "sampler $ \n",
    "    plot . histogramToList . histogram 200\n",
    "    <$> replicateM 100000 (weighted model5)"
   ]
  }
 ],
 "metadata": {
  "kernelspec": {
   "display_name": "Haskell - nixpkgs",
   "language": "haskell",
   "name": "ihaskell_nixpkgs"
  },
  "language_info": {
   "codemirror_mode": "ihaskell",
   "file_extension": ".hs",
   "mimetype": "text/x-haskell",
   "name": "haskell",
   "pygments_lexer": "Haskell",
   "version": "9.0.2"
  }
 },
 "nbformat": 4,
 "nbformat_minor": 4
}
