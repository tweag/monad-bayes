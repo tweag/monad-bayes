{
 "cells": [
  {
   "cell_type": "code",
   "execution_count": 1,
   "metadata": {},
   "outputs": [],
   "source": [
    ":e ImportQualifiedPost\n",
    ":e FlexibleContexts\n",
    ":e BlockArguments\n",
    ":e TupleSections\n",
    ":e FlexibleContexts\n",
    ":e OverloadedStrings\n",
    ":e LambdaCase\n",
    "\n",
    "import qualified Data.Text as T\n",
    "import Control.Arrow (first,second)\n",
    "import Control.Monad\n",
    "import Graphics.Vega.VegaLite hiding (density)\n",
    "import qualified Graphics.Vega.VegaLite as VL\n",
    "import IHaskell.Display.Hvega (vlShow)\n",
    "\n",
    "import Control.Monad.Bayes.Class\n",
    "import Control.Monad.Bayes.Enumerator\n",
    "import Control.Monad.Bayes.Weighted\n",
    "import Control.Monad.Bayes.Sampler.Strict\n",
    "import Control.Monad.Bayes.Traced.Static\n",
    "import Control.Monad.Bayes.Inference.MCMC\n",
    "\n",
    ":l ../Plotting.hs"
   ]
  },
  {
   "cell_type": "markdown",
   "metadata": {},
   "source": [
    "We'll start with the example of a simple regression"
   ]
  },
  {
   "cell_type": "code",
   "execution_count": 2,
   "metadata": {},
   "outputs": [],
   "source": [
    "paramPriorRegression = do\n",
    "    slope <- normal 0 2\n",
    "    intercept <- normal 0 2\n",
    "    noise <- gamma 4 4\n",
    "    return (slope, intercept, noise)\n",
    "\n",
    "\n",
    "regressionData :: (MonadDistribution m, Traversable t) => t Double -> m (t (Double, Double))\n",
    "regressionData xs = do\n",
    "    (slope, intercept, noise) <- paramPriorRegression\n",
    "    forM xs \\x -> do\n",
    "        y <- normal (x*slope + intercept) (sqrt noise)\n",
    "        return (x, y)"
   ]
  },
  {
   "cell_type": "code",
   "execution_count": 3,
   "metadata": {},
   "outputs": [],
   "source": [
    "range = [-10,-9.9..10] :: [Double]\n",
    "regressionSamples <- sampleIOfixed $ regressionData range"
   ]
  },
  {
   "cell_type": "code",
   "execution_count": 4,
   "metadata": {},
   "outputs": [
    {
     "data": {
      "application/vnd.vegalite.v4+json": {
       "$schema": "https://vega.github.io/schema/vega-lite/v4.json",
       "data": {
        "values": [
         {
          "Outlier": "\"\\\"N/A\\\"\"",
          "X": -10,
          "Y": 24.57864936391078
         },
         {
          "Outlier": "\"\\\"N/A\\\"\"",
          "X": -9.9,
          "Y": 38.294498409280365
         },
         {
          "Outlier": "\"\\\"N/A\\\"\"",
          "X": -9.8,
          "Y": 26.301690856119443
         },
         {
          "Outlier": "\"\\\"N/A\\\"\"",
          "X": -9.700000000000001,
          "Y": 28.558284447764866
         },
         {
          "Outlier": "\"\\\"N/A\\\"\"",
          "X": -9.600000000000001,
          "Y": 23.195769246319948
         },
         {
          "Outlier": "\"\\\"N/A\\\"\"",
          "X": -9.500000000000002,
          "Y": 29.319038347154173
         },
         {
          "Outlier": "\"\\\"N/A\\\"\"",
          "X": -9.400000000000002,
          "Y": 29.786080440510776
         },
         {
          "Outlier": "\"\\\"N/A\\\"\"",
          "X": -9.300000000000002,
          "Y": 27.56660652064134
         },
         {
          "Outlier": "\"\\\"N/A\\\"\"",
          "X": -9.200000000000003,
          "Y": 27.577242127315213
         },
         {
          "Outlier": "\"\\\"N/A\\\"\"",
          "X": -9.100000000000003,
          "Y": 33.153907631508574
         },
         {
          "Outlier": "\"\\\"N/A\\\"\"",
          "X": -9.000000000000004,
          "Y": 30.083599819996856
         },
         {
          "Outlier": "\"\\\"N/A\\\"\"",
          "X": -8.900000000000004,
          "Y": 23.119721320813433
         },
         {
          "Outlier": "\"\\\"N/A\\\"\"",
          "X": -8.800000000000004,
          "Y": 31.191041902991987
         },
         {
          "Outlier": "\"\\\"N/A\\\"\"",
          "X": -8.700000000000005,
          "Y": 26.589308682033725
         },
         {
          "Outlier": "\"\\\"N/A\\\"\"",
          "X": -8.600000000000005,
          "Y": 32.921926427807016
         },
         {
          "Outlier": "\"\\\"N/A\\\"\"",
          "X": -8.500000000000005,
          "Y": 32.70229229815947
         },
         {
          "Outlier": "\"\\\"N/A\\\"\"",
          "X": -8.400000000000006,
          "Y": 19.394506109909656
         },
         {
          "Outlier": "\"\\\"N/A\\\"\"",
          "X": -8.300000000000006,
          "Y": 32.27291522848526
         },
         {
          "Outlier": "\"\\\"N/A\\\"\"",
          "X": -8.200000000000006,
          "Y": 28.64721000519075
         },
         {
          "Outlier": "\"\\\"N/A\\\"\"",
          "X": -8.100000000000007,
          "Y": 25.79253712162261
         },
         {
          "Outlier": "\"\\\"N/A\\\"\"",
          "X": -8.000000000000007,
          "Y": 27.68797532534977
         },
         {
          "Outlier": "\"\\\"N/A\\\"\"",
          "X": -7.9000000000000075,
          "Y": 22.079901350454247
         },
         {
          "Outlier": "\"\\\"N/A\\\"\"",
          "X": -7.800000000000008,
          "Y": 21.25658020864288
         },
         {
          "Outlier": "\"\\\"N/A\\\"\"",
          "X": -7.700000000000008,
          "Y": 28.112113874853225
         },
         {
          "Outlier": "\"\\\"N/A\\\"\"",
          "X": -7.6000000000000085,
          "Y": 23.657829423215986
         },
         {
          "Outlier": "\"\\\"N/A\\\"\"",
          "X": -7.500000000000009,
          "Y": 26.44252808237886
         },
         {
          "Outlier": "\"\\\"N/A\\\"\"",
          "X": -7.400000000000009,
          "Y": 15.694603973012033
         },
         {
          "Outlier": "\"\\\"N/A\\\"\"",
          "X": -7.30000000000001,
          "Y": 17.839513408053318
         },
         {
          "Outlier": "\"\\\"N/A\\\"\"",
          "X": -7.20000000000001,
          "Y": 20.452854225610146
         },
         {
          "Outlier": "\"\\\"N/A\\\"\"",
          "X": -7.10000000000001,
          "Y": 20.139288022425166
         },
         {
          "Outlier": "\"\\\"N/A\\\"\"",
          "X": -7.000000000000011,
          "Y": 21.23396373514547
         },
         {
          "Outlier": "\"\\\"N/A\\\"\"",
          "X": -6.900000000000011,
          "Y": 17.320206263082085
         },
         {
          "Outlier": "\"\\\"N/A\\\"\"",
          "X": -6.800000000000011,
          "Y": 19.89843133273544
         },
         {
          "Outlier": "\"\\\"N/A\\\"\"",
          "X": -6.700000000000012,
          "Y": 15.764273491799775
         },
         {
          "Outlier": "\"\\\"N/A\\\"\"",
          "X": -6.600000000000012,
          "Y": 20.798807821690723
         },
         {
          "Outlier": "\"\\\"N/A\\\"\"",
          "X": -6.500000000000012,
          "Y": 18.728021703264186
         },
         {
          "Outlier": "\"\\\"N/A\\\"\"",
          "X": -6.400000000000013,
          "Y": 7.885719830482385
         },
         {
          "Outlier": "\"\\\"N/A\\\"\"",
          "X": -6.300000000000013,
          "Y": 18.85912922874157
         },
         {
          "Outlier": "\"\\\"N/A\\\"\"",
          "X": -6.2000000000000135,
          "Y": 15.123788006831436
         },
         {
          "Outlier": "\"\\\"N/A\\\"\"",
          "X": -6.100000000000014,
          "Y": 17.10995200455398
         },
         {
          "Outlier": "\"\\\"N/A\\\"\"",
          "X": -6.000000000000014,
          "Y": 14.624114456535843
         },
         {
          "Outlier": "\"\\\"N/A\\\"\"",
          "X": -5.900000000000015,
          "Y": 14.845108837556172
         },
         {
          "Outlier": "\"\\\"N/A\\\"\"",
          "X": -5.800000000000015,
          "Y": 14.269557147602468
         },
         {
          "Outlier": "\"\\\"N/A\\\"\"",
          "X": -5.700000000000015,
          "Y": 13.861095746942324
         },
         {
          "Outlier": "\"\\\"N/A\\\"\"",
          "X": -5.600000000000016,
          "Y": 13.692211160545364
         },
         {
          "Outlier": "\"\\\"N/A\\\"\"",
          "X": -5.500000000000016,
          "Y": 23.739370754539276
         },
         {
          "Outlier": "\"\\\"N/A\\\"\"",
          "X": -5.400000000000016,
          "Y": 11.308333171220132
         },
         {
          "Outlier": "\"\\\"N/A\\\"\"",
          "X": -5.300000000000017,
          "Y": 27.08980446608318
         },
         {
          "Outlier": "\"\\\"N/A\\\"\"",
          "X": -5.200000000000017,
          "Y": 15.88679842771568
         },
         {
          "Outlier": "\"\\\"N/A\\\"\"",
          "X": -5.100000000000017,
          "Y": 22.961734902847223
         },
         {
          "Outlier": "\"\\\"N/A\\\"\"",
          "X": -5.000000000000018,
          "Y": 16.299525923838925
         },
         {
          "Outlier": "\"\\\"N/A\\\"\"",
          "X": -4.900000000000018,
          "Y": 15.308171860934474
         },
         {
          "Outlier": "\"\\\"N/A\\\"\"",
          "X": -4.8000000000000185,
          "Y": 29.02455599307806
         },
         {
          "Outlier": "\"\\\"N/A\\\"\"",
          "X": -4.700000000000019,
          "Y": 10.749377104496931
         },
         {
          "Outlier": "\"\\\"N/A\\\"\"",
          "X": -4.600000000000019,
          "Y": 11.27400546222972
         },
         {
          "Outlier": "\"\\\"N/A\\\"\"",
          "X": -4.5000000000000195,
          "Y": 22.50722014898807
         },
         {
          "Outlier": "\"\\\"N/A\\\"\"",
          "X": -4.40000000000002,
          "Y": 14.872396898873859
         },
         {
          "Outlier": "\"\\\"N/A\\\"\"",
          "X": -4.30000000000002,
          "Y": 12.33515917932203
         },
         {
          "Outlier": "\"\\\"N/A\\\"\"",
          "X": -4.200000000000021,
          "Y": 11.582055626013798
         },
         {
          "Outlier": "\"\\\"N/A\\\"\"",
          "X": -4.100000000000021,
          "Y": 23.943604970811563
         },
         {
          "Outlier": "\"\\\"N/A\\\"\"",
          "X": -4.000000000000021,
          "Y": 15.789328270738938
         },
         {
          "Outlier": "\"\\\"N/A\\\"\"",
          "X": -3.9000000000000217,
          "Y": 12.904946954760849
         },
         {
          "Outlier": "\"\\\"N/A\\\"\"",
          "X": -3.800000000000022,
          "Y": 7.426966312329666
         },
         {
          "Outlier": "\"\\\"N/A\\\"\"",
          "X": -3.7000000000000224,
          "Y": 15.51136598116963
         },
         {
          "Outlier": "\"\\\"N/A\\\"\"",
          "X": -3.6000000000000227,
          "Y": 5.11123343053363
         },
         {
          "Outlier": "\"\\\"N/A\\\"\"",
          "X": -3.500000000000023,
          "Y": 13.432712523791547
         },
         {
          "Outlier": "\"\\\"N/A\\\"\"",
          "X": -3.4000000000000234,
          "Y": 11.241708914656906
         },
         {
          "Outlier": "\"\\\"N/A\\\"\"",
          "X": -3.300000000000024,
          "Y": 15.300584697969027
         },
         {
          "Outlier": "\"\\\"N/A\\\"\"",
          "X": -3.200000000000024,
          "Y": 6.832401443016748
         },
         {
          "Outlier": "\"\\\"N/A\\\"\"",
          "X": -3.1000000000000245,
          "Y": 7.255676920155957
         },
         {
          "Outlier": "\"\\\"N/A\\\"\"",
          "X": -3.000000000000025,
          "Y": 11.929815035881218
         },
         {
          "Outlier": "\"\\\"N/A\\\"\"",
          "X": -2.9000000000000252,
          "Y": 4.207732498665361
         },
         {
          "Outlier": "\"\\\"N/A\\\"\"",
          "X": -2.8000000000000256,
          "Y": 19.30618112216324
         },
         {
          "Outlier": "\"\\\"N/A\\\"\"",
          "X": -2.700000000000026,
          "Y": 14.42052477335049
         },
         {
          "Outlier": "\"\\\"N/A\\\"\"",
          "X": -2.6000000000000263,
          "Y": 6.5390713397756315
         },
         {
          "Outlier": "\"\\\"N/A\\\"\"",
          "X": -2.5000000000000266,
          "Y": 8.668423810434627
         },
         {
          "Outlier": "\"\\\"N/A\\\"\"",
          "X": -2.400000000000027,
          "Y": 2.7167038170804414
         },
         {
          "Outlier": "\"\\\"N/A\\\"\"",
          "X": -2.3000000000000274,
          "Y": 9.69108166357378
         },
         {
          "Outlier": "\"\\\"N/A\\\"\"",
          "X": -2.2000000000000277,
          "Y": 11.965742234290293
         },
         {
          "Outlier": "\"\\\"N/A\\\"\"",
          "X": -2.100000000000028,
          "Y": 9.419874051581413
         },
         {
          "Outlier": "\"\\\"N/A\\\"\"",
          "X": -2.0000000000000284,
          "Y": 3.2081644713774073
         },
         {
          "Outlier": "\"\\\"N/A\\\"\"",
          "X": -1.9000000000000288,
          "Y": 1.4087628728947221
         },
         {
          "Outlier": "\"\\\"N/A\\\"\"",
          "X": -1.8000000000000291,
          "Y": 10.760742900504018
         },
         {
          "Outlier": "\"\\\"N/A\\\"\"",
          "X": -1.7000000000000295,
          "Y": 12.93271063217119
         },
         {
          "Outlier": "\"\\\"N/A\\\"\"",
          "X": -1.6000000000000298,
          "Y": 3.45947791097803
         },
         {
          "Outlier": "\"\\\"N/A\\\"\"",
          "X": -1.5000000000000302,
          "Y": 9.959864604913854
         },
         {
          "Outlier": "\"\\\"N/A\\\"\"",
          "X": -1.4000000000000306,
          "Y": 0.757296063587316
         },
         {
          "Outlier": "\"\\\"N/A\\\"\"",
          "X": -1.300000000000031,
          "Y": -3.180315182028453
         },
         {
          "Outlier": "\"\\\"N/A\\\"\"",
          "X": -1.2000000000000313,
          "Y": 4.437373365223296
         },
         {
          "Outlier": "\"\\\"N/A\\\"\"",
          "X": -1.1000000000000316,
          "Y": 1.658197062714779
         },
         {
          "Outlier": "\"\\\"N/A\\\"\"",
          "X": -1.000000000000032,
          "Y": 8.864952001575826
         },
         {
          "Outlier": "\"\\\"N/A\\\"\"",
          "X": -0.9000000000000323,
          "Y": 1.2698523563653445
         },
         {
          "Outlier": "\"\\\"N/A\\\"\"",
          "X": -0.8000000000000327,
          "Y": 0.5973684788411564
         },
         {
          "Outlier": "\"\\\"N/A\\\"\"",
          "X": -0.700000000000033,
          "Y": -4.555365575462204
         },
         {
          "Outlier": "\"\\\"N/A\\\"\"",
          "X": -0.6000000000000334,
          "Y": 6.2469449541721325
         },
         {
          "Outlier": "\"\\\"N/A\\\"\"",
          "X": -0.5000000000000338,
          "Y": 5.767062936848807
         },
         {
          "Outlier": "\"\\\"N/A\\\"\"",
          "X": -0.4000000000000341,
          "Y": 10.173383557699086
         },
         {
          "Outlier": "\"\\\"N/A\\\"\"",
          "X": -0.30000000000003446,
          "Y": -4.548849292729719
         },
         {
          "Outlier": "\"\\\"N/A\\\"\"",
          "X": -0.20000000000003482,
          "Y": 1.425004325853201
         },
         {
          "Outlier": "\"\\\"N/A\\\"\"",
          "X": -0.10000000000003517,
          "Y": 3.8745173498347683
         },
         {
          "Outlier": "\"\\\"N/A\\\"\"",
          "X": -3.552713678800501e-14,
          "Y": -0.15546257425564614
         },
         {
          "Outlier": "\"\\\"N/A\\\"\"",
          "X": 0.09999999999996412,
          "Y": 4.956019987386602
         },
         {
          "Outlier": "\"\\\"N/A\\\"\"",
          "X": 0.19999999999996376,
          "Y": 4.962872610201469
         },
         {
          "Outlier": "\"\\\"N/A\\\"\"",
          "X": 0.2999999999999634,
          "Y": 4.637451686696391
         },
         {
          "Outlier": "\"\\\"N/A\\\"\"",
          "X": 0.39999999999996305,
          "Y": 0.9640110776827278
         },
         {
          "Outlier": "\"\\\"N/A\\\"\"",
          "X": 0.4999999999999627,
          "Y": 9.02600284216226
         },
         {
          "Outlier": "\"\\\"N/A\\\"\"",
          "X": 0.5999999999999623,
          "Y": 7.6481555413632805
         },
         {
          "Outlier": "\"\\\"N/A\\\"\"",
          "X": 0.699999999999962,
          "Y": -1.2776766744840604
         },
         {
          "Outlier": "\"\\\"N/A\\\"\"",
          "X": 0.7999999999999616,
          "Y": -1.011569749593121
         },
         {
          "Outlier": "\"\\\"N/A\\\"\"",
          "X": 0.8999999999999613,
          "Y": -7.172733709218706
         },
         {
          "Outlier": "\"\\\"N/A\\\"\"",
          "X": 0.9999999999999609,
          "Y": 9.030710040554313
         },
         {
          "Outlier": "\"\\\"N/A\\\"\"",
          "X": 1.0999999999999606,
          "Y": -0.2873863465351798
         },
         {
          "Outlier": "\"\\\"N/A\\\"\"",
          "X": 1.1999999999999602,
          "Y": -0.0761996977400099
         },
         {
          "Outlier": "\"\\\"N/A\\\"\"",
          "X": 1.2999999999999599,
          "Y": 2.958613875892526
         },
         {
          "Outlier": "\"\\\"N/A\\\"\"",
          "X": 1.3999999999999595,
          "Y": -2.0380371379167297
         },
         {
          "Outlier": "\"\\\"N/A\\\"\"",
          "X": 1.4999999999999591,
          "Y": -4.208793003410444
         },
         {
          "Outlier": "\"\\\"N/A\\\"\"",
          "X": 1.5999999999999588,
          "Y": 3.090366258779815
         },
         {
          "Outlier": "\"\\\"N/A\\\"\"",
          "X": 1.6999999999999584,
          "Y": -11.074287645445791
         },
         {
          "Outlier": "\"\\\"N/A\\\"\"",
          "X": 1.799999999999958,
          "Y": -4.227175584211664
         },
         {
          "Outlier": "\"\\\"N/A\\\"\"",
          "X": 1.8999999999999577,
          "Y": -6.025452600463005
         },
         {
          "Outlier": "\"\\\"N/A\\\"\"",
          "X": 1.9999999999999574,
          "Y": -3.6913770293879176
         },
         {
          "Outlier": "\"\\\"N/A\\\"\"",
          "X": 2.099999999999957,
          "Y": -7.62696530095745
         },
         {
          "Outlier": "\"\\\"N/A\\\"\"",
          "X": 2.1999999999999567,
          "Y": -1.0070407313158323
         },
         {
          "Outlier": "\"\\\"N/A\\\"\"",
          "X": 2.2999999999999563,
          "Y": -0.21160285598304895
         },
         {
          "Outlier": "\"\\\"N/A\\\"\"",
          "X": 2.399999999999956,
          "Y": -6.938935480005792
         },
         {
          "Outlier": "\"\\\"N/A\\\"\"",
          "X": 2.4999999999999556,
          "Y": 0.6807052586522895
         },
         {
          "Outlier": "\"\\\"N/A\\\"\"",
          "X": 2.5999999999999552,
          "Y": -6.413300609057294
         },
         {
          "Outlier": "\"\\\"N/A\\\"\"",
          "X": 2.699999999999955,
          "Y": -6.536288487970634
         },
         {
          "Outlier": "\"\\\"N/A\\\"\"",
          "X": 2.7999999999999545,
          "Y": -14.394025296298128
         },
         {
          "Outlier": "\"\\\"N/A\\\"\"",
          "X": 2.899999999999954,
          "Y": -8.28023513622189
         },
         {
          "Outlier": "\"\\\"N/A\\\"\"",
          "X": 2.999999999999954,
          "Y": -3.4124362461292495
         },
         {
          "Outlier": "\"\\\"N/A\\\"\"",
          "X": 3.0999999999999535,
          "Y": -5.3562809471748025
         },
         {
          "Outlier": "\"\\\"N/A\\\"\"",
          "X": 3.199999999999953,
          "Y": -7.526017621519014
         },
         {
          "Outlier": "\"\\\"N/A\\\"\"",
          "X": 3.2999999999999527,
          "Y": -14.00346965318624
         },
         {
          "Outlier": "\"\\\"N/A\\\"\"",
          "X": 3.3999999999999524,
          "Y": -5.942935566955495
         },
         {
          "Outlier": "\"\\\"N/A\\\"\"",
          "X": 3.499999999999952,
          "Y": -7.9805889243735315
         },
         {
          "Outlier": "\"\\\"N/A\\\"\"",
          "X": 3.5999999999999517,
          "Y": -6.232785013070575
         },
         {
          "Outlier": "\"\\\"N/A\\\"\"",
          "X": 3.6999999999999513,
          "Y": -2.6255801288971146
         },
         {
          "Outlier": "\"\\\"N/A\\\"\"",
          "X": 3.799999999999951,
          "Y": -16.150956461350795
         },
         {
          "Outlier": "\"\\\"N/A\\\"\"",
          "X": 3.8999999999999506,
          "Y": -9.852019711110866
         },
         {
          "Outlier": "\"\\\"N/A\\\"\"",
          "X": 3.9999999999999503,
          "Y": -10.820545824863508
         },
         {
          "Outlier": "\"\\\"N/A\\\"\"",
          "X": 4.09999999999995,
          "Y": -9.641144263319418
         },
         {
          "Outlier": "\"\\\"N/A\\\"\"",
          "X": 4.1999999999999496,
          "Y": -16.824573051695413
         },
         {
          "Outlier": "\"\\\"N/A\\\"\"",
          "X": 4.299999999999949,
          "Y": -7.584368869801537
         },
         {
          "Outlier": "\"\\\"N/A\\\"\"",
          "X": 4.399999999999949,
          "Y": -15.921597577697376
         },
         {
          "Outlier": "\"\\\"N/A\\\"\"",
          "X": 4.4999999999999485,
          "Y": -10.564144416396802
         },
         {
          "Outlier": "\"\\\"N/A\\\"\"",
          "X": 4.599999999999948,
          "Y": -8.719322820788562
         },
         {
          "Outlier": "\"\\\"N/A\\\"\"",
          "X": 4.699999999999948,
          "Y": -13.706770144040625
         },
         {
          "Outlier": "\"\\\"N/A\\\"\"",
          "X": 4.799999999999947,
          "Y": -14.71638534254468
         },
         {
          "Outlier": "\"\\\"N/A\\\"\"",
          "X": 4.899999999999947,
          "Y": -8.11320601142597
         },
         {
          "Outlier": "\"\\\"N/A\\\"\"",
          "X": 4.999999999999947,
          "Y": -9.079761935368413
         },
         {
          "Outlier": "\"\\\"N/A\\\"\"",
          "X": 5.099999999999946,
          "Y": -7.741729875490136
         },
         {
          "Outlier": "\"\\\"N/A\\\"\"",
          "X": 5.199999999999946,
          "Y": -7.709427648269321
         },
         {
          "Outlier": "\"\\\"N/A\\\"\"",
          "X": 5.299999999999946,
          "Y": -10.164452904568247
         },
         {
          "Outlier": "\"\\\"N/A\\\"\"",
          "X": 5.399999999999945,
          "Y": -17.037300164945133
         },
         {
          "Outlier": "\"\\\"N/A\\\"\"",
          "X": 5.499999999999945,
          "Y": -9.530200659868438
         },
         {
          "Outlier": "\"\\\"N/A\\\"\"",
          "X": 5.599999999999945,
          "Y": -6.805904336249347
         },
         {
          "Outlier": "\"\\\"N/A\\\"\"",
          "X": 5.699999999999944,
          "Y": -18.518345122128725
         },
         {
          "Outlier": "\"\\\"N/A\\\"\"",
          "X": 5.799999999999944,
          "Y": -16.66401480644169
         },
         {
          "Outlier": "\"\\\"N/A\\\"\"",
          "X": 5.8999999999999435,
          "Y": -13.035777619073194
         },
         {
          "Outlier": "\"\\\"N/A\\\"\"",
          "X": 5.999999999999943,
          "Y": -10.453747100452984
         },
         {
          "Outlier": "\"\\\"N/A\\\"\"",
          "X": 6.099999999999945,
          "Y": -10.966412014185101
         },
         {
          "Outlier": "\"\\\"N/A\\\"\"",
          "X": 6.1999999999999424,
          "Y": -9.074186841328956
         },
         {
          "Outlier": "\"\\\"N/A\\\"\"",
          "X": 6.29999999999994,
          "Y": -10.953103638117929
         },
         {
          "Outlier": "\"\\\"N/A\\\"\"",
          "X": 6.399999999999942,
          "Y": -8.6614528465355
         },
         {
          "Outlier": "\"\\\"N/A\\\"\"",
          "X": 6.499999999999943,
          "Y": -11.767577514991192
         },
         {
          "Outlier": "\"\\\"N/A\\\"\"",
          "X": 6.599999999999941,
          "Y": -15.749273101756014
         },
         {
          "Outlier": "\"\\\"N/A\\\"\"",
          "X": 6.699999999999939,
          "Y": -20.535868312369907
         },
         {
          "Outlier": "\"\\\"N/A\\\"\"",
          "X": 6.79999999999994,
          "Y": -18.238578928251155
         },
         {
          "Outlier": "\"\\\"N/A\\\"\"",
          "X": 6.899999999999942,
          "Y": -22.60243906276875
         },
         {
          "Outlier": "\"\\\"N/A\\\"\"",
          "X": 6.99999999999994,
          "Y": -21.86297579565081
         },
         {
          "Outlier": "\"\\\"N/A\\\"\"",
          "X": 7.0999999999999375,
          "Y": -17.08344647050758
         },
         {
          "Outlier": "\"\\\"N/A\\\"\"",
          "X": 7.199999999999939,
          "Y": -19.369295599963984
         },
         {
          "Outlier": "\"\\\"N/A\\\"\"",
          "X": 7.29999999999994,
          "Y": -18.678956845823837
         },
         {
          "Outlier": "\"\\\"N/A\\\"\"",
          "X": 7.399999999999938,
          "Y": -15.61678580989824
         },
         {
          "Outlier": "\"\\\"N/A\\\"\"",
          "X": 7.499999999999936,
          "Y": -26.27818766241228
         },
         {
          "Outlier": "\"\\\"N/A\\\"\"",
          "X": 7.5999999999999375,
          "Y": -19.420291255188108
         },
         {
          "Outlier": "\"\\\"N/A\\\"\"",
          "X": 7.699999999999939,
          "Y": -17.74467794634894
         },
         {
          "Outlier": "\"\\\"N/A\\\"\"",
          "X": 7.799999999999937,
          "Y": -16.946636703176477
         },
         {
          "Outlier": "\"\\\"N/A\\\"\"",
          "X": 7.899999999999935,
          "Y": -26.71150723727269
         },
         {
          "Outlier": "\"\\\"N/A\\\"\"",
          "X": 7.999999999999936,
          "Y": -24.113700090735545
         },
         {
          "Outlier": "\"\\\"N/A\\\"\"",
          "X": 8.099999999999937,
          "Y": -18.385630502824597
         },
         {
          "Outlier": "\"\\\"N/A\\\"\"",
          "X": 8.199999999999935,
          "Y": -16.16025577987224
         },
         {
          "Outlier": "\"\\\"N/A\\\"\"",
          "X": 8.299999999999933,
          "Y": -22.192371003190164
         },
         {
          "Outlier": "\"\\\"N/A\\\"\"",
          "X": 8.399999999999935,
          "Y": -21.633943313778616
         },
         {
          "Outlier": "\"\\\"N/A\\\"\"",
          "X": 8.499999999999936,
          "Y": -33.4081634879886
         },
         {
          "Outlier": "\"\\\"N/A\\\"\"",
          "X": 8.599999999999934,
          "Y": -13.971218302650211
         },
         {
          "Outlier": "\"\\\"N/A\\\"\"",
          "X": 8.699999999999932,
          "Y": -30.517273136049173
         },
         {
          "Outlier": "\"\\\"N/A\\\"\"",
          "X": 8.799999999999933,
          "Y": -18.20026092214388
         },
         {
          "Outlier": "\"\\\"N/A\\\"\"",
          "X": 8.899999999999935,
          "Y": -29.619423062052164
         },
         {
          "Outlier": "\"\\\"N/A\\\"\"",
          "X": 8.999999999999932,
          "Y": -20.757216839068352
         },
         {
          "Outlier": "\"\\\"N/A\\\"\"",
          "X": 9.09999999999993,
          "Y": -28.846849347810682
         },
         {
          "Outlier": "\"\\\"N/A\\\"\"",
          "X": 9.199999999999932,
          "Y": -28.75698430739407
         },
         {
          "Outlier": "\"\\\"N/A\\\"\"",
          "X": 9.299999999999933,
          "Y": -26.74093489476592
         },
         {
          "Outlier": "\"\\\"N/A\\\"\"",
          "X": 9.399999999999931,
          "Y": -28.4891432150645
         },
         {
          "Outlier": "\"\\\"N/A\\\"\"",
          "X": 9.499999999999929,
          "Y": -23.961935678746933
         },
         {
          "Outlier": "\"\\\"N/A\\\"\"",
          "X": 9.59999999999993,
          "Y": -31.757248852429687
         },
         {
          "Outlier": "\"\\\"N/A\\\"\"",
          "X": 9.699999999999932,
          "Y": -23.795671636576557
         },
         {
          "Outlier": "\"\\\"N/A\\\"\"",
          "X": 9.79999999999993,
          "Y": -25.698267857158072
         },
         {
          "Outlier": "\"\\\"N/A\\\"\"",
          "X": 9.899999999999928,
          "Y": -32.23329810811726
         },
         {
          "Outlier": "\"\\\"N/A\\\"\"",
          "X": 9.999999999999929,
          "Y": -27.44784410052699
         }
        ]
       },
       "encoding": {
        "color": {
         "field": "Outlier"
        },
        "x": {
         "field": "X",
         "type": "quantitative"
        },
        "y": {
         "field": "Y",
         "type": "quantitative"
        }
       },
       "height": 400,
       "mark": "circle",
       "width": 400
      },
      "image/png": "[encoded data removed]"
     },
     "metadata": {},
     "output_type": "display_data"
    }
   ],
   "source": [
    "plot (fmap (second (T.pack . show)) (zip regressionSamples (Prelude.repeat \"N/A\")))"
   ]
  },
  {
   "cell_type": "code",
   "execution_count": 5,
   "metadata": {},
   "outputs": [
    {
     "data": {
      "text/plain": []
     },
     "metadata": {},
     "output_type": "display_data"
    }
   ],
   "source": [
    "regression :: (MonadMeasure m) => [Double] -> [Double] -> m (Double, Double, Double)\n",
    "regression xs ys = do\n",
    "    params@(slope, intercept, noise) <- paramPriorRegression\n",
    "    forM (zip xs ys) \\(x, y) -> factor $ normalPdf (slope * x + intercept) (sqrt noise) y\n",
    "    return (slope, intercept, noise)\n",
    "\n",
    "mcmcConfig = MCMCConfig {numMCMCSteps = 1000, numBurnIn = 500, proposal = SingleSiteMH}\n",
    "mhRunsRegression <- sampleIOfixed $ unweighted $ mcmc mcmcConfig $ regression range (snd <$> regressionSamples)\n"
   ]
  },
  {
   "cell_type": "code",
   "execution_count": 6,
   "metadata": {},
   "outputs": [
    {
     "data": {
      "application/vnd.vegalite.v4+json": {
       "$schema": "https://vega.github.io/schema/vega-lite/v4.json",
       "data": {
        "values": [
         {
          "Outlier": 1,
          "X": -10,
          "Y": 29.998034856658208
         },
         {
          "Outlier": 1,
          "X": -9.9,
          "Y": 29.71567241207391
         },
         {
          "Outlier": 1,
          "X": -9.8,
          "Y": 29.433309967489613
         },
         {
          "Outlier": 1,
          "X": -9.700000000000001,
          "Y": 29.150947522905316
         },
         {
          "Outlier": 1,
          "X": -9.600000000000001,
          "Y": 28.86858507832102
         },
         {
          "Outlier": 1,
          "X": -9.500000000000002,
          "Y": 28.586222633736725
         },
         {
          "Outlier": 1,
          "X": -9.400000000000002,
          "Y": 28.303860189152427
         },
         {
          "Outlier": 1,
          "X": -9.300000000000002,
          "Y": 28.02149774456813
         },
         {
          "Outlier": 1,
          "X": -9.200000000000003,
          "Y": 27.739135299983833
         },
         {
          "Outlier": 1,
          "X": -9.100000000000003,
          "Y": 27.456772855399535
         },
         {
          "Outlier": 1,
          "X": -9.000000000000004,
          "Y": 27.17441041081524
         },
         {
          "Outlier": 1,
          "X": -8.900000000000004,
          "Y": 26.892047966230944
         },
         {
          "Outlier": 1,
          "X": -8.800000000000004,
          "Y": 26.609685521646647
         },
         {
          "Outlier": 1,
          "X": -8.700000000000005,
          "Y": 26.32732307706235
         },
         {
          "Outlier": 1,
          "X": -8.600000000000005,
          "Y": 26.044960632478052
         },
         {
          "Outlier": 1,
          "X": -8.500000000000005,
          "Y": 25.762598187893758
         },
         {
          "Outlier": 1,
          "X": -8.400000000000006,
          "Y": 25.48023574330946
         },
         {
          "Outlier": 1,
          "X": -8.300000000000006,
          "Y": 25.197873298725163
         },
         {
          "Outlier": 1,
          "X": -8.200000000000006,
          "Y": 24.915510854140866
         },
         {
          "Outlier": 1,
          "X": -8.100000000000007,
          "Y": 24.63314840955657
         },
         {
          "Outlier": 1,
          "X": -8.000000000000007,
          "Y": 24.350785964972275
         },
         {
          "Outlier": 1,
          "X": -7.9000000000000075,
          "Y": 24.068423520387977
         },
         {
          "Outlier": 1,
          "X": -7.800000000000008,
          "Y": 23.78606107580368
         },
         {
          "Outlier": 1,
          "X": -7.700000000000008,
          "Y": 23.503698631219383
         },
         {
          "Outlier": 1,
          "X": -7.6000000000000085,
          "Y": 23.221336186635085
         },
         {
          "Outlier": 1,
          "X": -7.500000000000009,
          "Y": 22.93897374205079
         },
         {
          "Outlier": 1,
          "X": -7.400000000000009,
          "Y": 22.656611297466494
         },
         {
          "Outlier": 1,
          "X": -7.30000000000001,
          "Y": 22.374248852882197
         },
         {
          "Outlier": 1,
          "X": -7.20000000000001,
          "Y": 22.0918864082979
         },
         {
          "Outlier": 1,
          "X": -7.10000000000001,
          "Y": 21.809523963713605
         },
         {
          "Outlier": 1,
          "X": -7.000000000000011,
          "Y": 21.527161519129308
         },
         {
          "Outlier": 1,
          "X": -6.900000000000011,
          "Y": 21.24479907454501
         },
         {
          "Outlier": 1,
          "X": -6.800000000000011,
          "Y": 20.962436629960713
         },
         {
          "Outlier": 1,
          "X": -6.700000000000012,
          "Y": 20.680074185376416
         },
         {
          "Outlier": 1,
          "X": -6.600000000000012,
          "Y": 20.397711740792122
         },
         {
          "Outlier": 1,
          "X": -6.500000000000012,
          "Y": 20.115349296207825
         },
         {
          "Outlier": 1,
          "X": -6.400000000000013,
          "Y": 19.832986851623527
         },
         {
          "Outlier": 1,
          "X": -6.300000000000013,
          "Y": 19.55062440703923
         },
         {
          "Outlier": 1,
          "X": -6.2000000000000135,
          "Y": 19.268261962454933
         },
         {
          "Outlier": 1,
          "X": -6.100000000000014,
          "Y": 18.98589951787064
         },
         {
          "Outlier": 1,
          "X": -6.000000000000014,
          "Y": 18.70353707328634
         },
         {
          "Outlier": 1,
          "X": -5.900000000000015,
          "Y": 18.421174628702044
         },
         {
          "Outlier": 1,
          "X": -5.800000000000015,
          "Y": 18.138812184117747
         },
         {
          "Outlier": 1,
          "X": -5.700000000000015,
          "Y": 17.85644973953345
         },
         {
          "Outlier": 1,
          "X": -5.600000000000016,
          "Y": 17.574087294949152
         },
         {
          "Outlier": 1,
          "X": -5.500000000000016,
          "Y": 17.291724850364858
         },
         {
          "Outlier": 1,
          "X": -5.400000000000016,
          "Y": 17.00936240578056
         },
         {
          "Outlier": 1,
          "X": -5.300000000000017,
          "Y": 16.726999961196263
         },
         {
          "Outlier": 1,
          "X": -5.200000000000017,
          "Y": 16.444637516611966
         },
         {
          "Outlier": 1,
          "X": -5.100000000000017,
          "Y": 16.16227507202767
         },
         {
          "Outlier": 1,
          "X": -5.000000000000018,
          "Y": 15.879912627443373
         },
         {
          "Outlier": 1,
          "X": -4.900000000000018,
          "Y": 15.597550182859075
         },
         {
          "Outlier": 1,
          "X": -4.8000000000000185,
          "Y": 15.31518773827478
         },
         {
          "Outlier": 1,
          "X": -4.700000000000019,
          "Y": 15.032825293690482
         },
         {
          "Outlier": 1,
          "X": -4.600000000000019,
          "Y": 14.750462849106185
         },
         {
          "Outlier": 1,
          "X": -4.5000000000000195,
          "Y": 14.46810040452189
         },
         {
          "Outlier": 1,
          "X": -4.40000000000002,
          "Y": 14.185737959937592
         },
         {
          "Outlier": 1,
          "X": -4.30000000000002,
          "Y": 13.903375515353297
         },
         {
          "Outlier": 1,
          "X": -4.200000000000021,
          "Y": 13.621013070769
         },
         {
          "Outlier": 1,
          "X": -4.100000000000021,
          "Y": 13.338650626184702
         },
         {
          "Outlier": 1,
          "X": -4.000000000000021,
          "Y": 13.056288181600406
         },
         {
          "Outlier": 1,
          "X": -3.9000000000000217,
          "Y": 12.773925737016109
         },
         {
          "Outlier": 1,
          "X": -3.800000000000022,
          "Y": 12.491563292431813
         },
         {
          "Outlier": 1,
          "X": -3.7000000000000224,
          "Y": 12.209200847847516
         },
         {
          "Outlier": 1,
          "X": -3.6000000000000227,
          "Y": 11.92683840326322
         },
         {
          "Outlier": 1,
          "X": -3.500000000000023,
          "Y": 11.644475958678923
         },
         {
          "Outlier": 1,
          "X": -3.4000000000000234,
          "Y": 11.362113514094625
         },
         {
          "Outlier": 1,
          "X": -3.300000000000024,
          "Y": 11.07975106951033
         },
         {
          "Outlier": 1,
          "X": -3.200000000000024,
          "Y": 10.797388624926032
         },
         {
          "Outlier": 1,
          "X": -3.1000000000000245,
          "Y": 10.515026180341737
         },
         {
          "Outlier": 1,
          "X": -3.000000000000025,
          "Y": 10.23266373575744
         },
         {
          "Outlier": 1,
          "X": -2.9000000000000252,
          "Y": 9.950301291173142
         },
         {
          "Outlier": 1,
          "X": -2.8000000000000256,
          "Y": 9.667938846588847
         },
         {
          "Outlier": 1,
          "X": -2.700000000000026,
          "Y": 9.385576402004551
         },
         {
          "Outlier": 1,
          "X": -2.6000000000000263,
          "Y": 9.103213957420254
         },
         {
          "Outlier": 1,
          "X": -2.5000000000000266,
          "Y": 8.820851512835956
         },
         {
          "Outlier": 1,
          "X": -2.400000000000027,
          "Y": 8.53848906825166
         },
         {
          "Outlier": 1,
          "X": -2.3000000000000274,
          "Y": 8.256126623667363
         },
         {
          "Outlier": 1,
          "X": -2.2000000000000277,
          "Y": 7.973764179083068
         },
         {
          "Outlier": 1,
          "X": -2.100000000000028,
          "Y": 7.691401734498771
         },
         {
          "Outlier": 1,
          "X": -2.0000000000000284,
          "Y": 7.409039289914474
         },
         {
          "Outlier": 1,
          "X": -1.9000000000000288,
          "Y": 7.126676845330177
         },
         {
          "Outlier": 1,
          "X": -1.8000000000000291,
          "Y": 6.844314400745881
         },
         {
          "Outlier": 1,
          "X": -1.7000000000000295,
          "Y": 6.561951956161584
         },
         {
          "Outlier": 1,
          "X": -1.6000000000000298,
          "Y": 6.279589511577288
         },
         {
          "Outlier": 1,
          "X": -1.5000000000000302,
          "Y": 5.997227066992991
         },
         {
          "Outlier": 1,
          "X": -1.4000000000000306,
          "Y": 5.714864622408694
         },
         {
          "Outlier": 1,
          "X": -1.300000000000031,
          "Y": 5.432502177824397
         },
         {
          "Outlier": 1,
          "X": -1.2000000000000313,
          "Y": 5.150139733240101
         },
         {
          "Outlier": 1,
          "X": -1.1000000000000316,
          "Y": 4.867777288655804
         },
         {
          "Outlier": 1,
          "X": -1.000000000000032,
          "Y": 4.585414844071507
         },
         {
          "Outlier": 1,
          "X": -0.9000000000000323,
          "Y": 4.3030523994872105
         },
         {
          "Outlier": 1,
          "X": -0.8000000000000327,
          "Y": 4.020689954902914
         },
         {
          "Outlier": 1,
          "X": -0.700000000000033,
          "Y": 3.7383275103186175
         },
         {
          "Outlier": 1,
          "X": -0.6000000000000334,
          "Y": 3.455965065734321
         },
         {
          "Outlier": 1,
          "X": -0.5000000000000338,
          "Y": 3.173602621150024
         },
         {
          "Outlier": 1,
          "X": -0.4000000000000341,
          "Y": 2.8912401765657276
         },
         {
          "Outlier": 1,
          "X": -0.30000000000003446,
          "Y": 2.6088777319814307
         },
         {
          "Outlier": 1,
          "X": -0.20000000000003482,
          "Y": 2.326515287397134
         },
         {
          "Outlier": 1,
          "X": -0.10000000000003517,
          "Y": 2.0441528428128377
         },
         {
          "Outlier": 1,
          "X": -3.552713678800501e-14,
          "Y": 1.761790398228541
         },
         {
          "Outlier": 1,
          "X": 0.09999999999996412,
          "Y": 1.4794279536442443
         },
         {
          "Outlier": 1,
          "X": 0.19999999999996376,
          "Y": 1.1970655090599478
         },
         {
          "Outlier": 1,
          "X": 0.2999999999999634,
          "Y": 0.914703064475651
         },
         {
          "Outlier": 1,
          "X": 0.39999999999996305,
          "Y": 0.6323406198913544
         },
         {
          "Outlier": 1,
          "X": 0.4999999999999627,
          "Y": 0.34997817530705766
         },
         {
          "Outlier": 1,
          "X": 0.5999999999999623,
          "Y": 0.06761573072276117
         },
         {
          "Outlier": 1,
          "X": 0.699999999999962,
          "Y": -0.21474671386153554
         },
         {
          "Outlier": 1,
          "X": 0.7999999999999616,
          "Y": -0.49710915844583226
         },
         {
          "Outlier": 1,
          "X": 0.8999999999999613,
          "Y": -0.7794716030301287
         },
         {
          "Outlier": 1,
          "X": 0.9999999999999609,
          "Y": -1.0618340476144257
         },
         {
          "Outlier": 1,
          "X": 1.0999999999999606,
          "Y": -1.3441964921987222
         },
         {
          "Outlier": 1,
          "X": 1.1999999999999602,
          "Y": -1.6265589367830187
         },
         {
          "Outlier": 1,
          "X": 1.2999999999999599,
          "Y": -1.9089213813673156
         },
         {
          "Outlier": 1,
          "X": 1.3999999999999595,
          "Y": -2.1912838259516123
         },
         {
          "Outlier": 1,
          "X": 1.4999999999999591,
          "Y": -2.473646270535909
         },
         {
          "Outlier": 1,
          "X": 1.5999999999999588,
          "Y": -2.7560087151202053
         },
         {
          "Outlier": 1,
          "X": 1.6999999999999584,
          "Y": -3.038371159704502
         },
         {
          "Outlier": 1,
          "X": 1.799999999999958,
          "Y": -3.3207336042887983
         },
         {
          "Outlier": 1,
          "X": 1.8999999999999577,
          "Y": -3.6030960488730948
         },
         {
          "Outlier": 1,
          "X": 1.9999999999999574,
          "Y": -3.8854584934573912
         },
         {
          "Outlier": 1,
          "X": 2.099999999999957,
          "Y": -4.167820938041689
         },
         {
          "Outlier": 1,
          "X": 2.1999999999999567,
          "Y": -4.450183382625985
         },
         {
          "Outlier": 1,
          "X": 2.2999999999999563,
          "Y": -4.732545827210282
         },
         {
          "Outlier": 1,
          "X": 2.399999999999956,
          "Y": -5.014908271794578
         },
         {
          "Outlier": 1,
          "X": 2.4999999999999556,
          "Y": -5.297270716378875
         },
         {
          "Outlier": 1,
          "X": 2.5999999999999552,
          "Y": -5.579633160963171
         },
         {
          "Outlier": 1,
          "X": 2.699999999999955,
          "Y": -5.8619956055474685
         },
         {
          "Outlier": 1,
          "X": 2.7999999999999545,
          "Y": -6.144358050131765
         },
         {
          "Outlier": 1,
          "X": 2.899999999999954,
          "Y": -6.426720494716062
         },
         {
          "Outlier": 1,
          "X": 2.999999999999954,
          "Y": -6.709082939300358
         },
         {
          "Outlier": 1,
          "X": 3.0999999999999535,
          "Y": -6.991445383884655
         },
         {
          "Outlier": 1,
          "X": 3.199999999999953,
          "Y": -7.273807828468951
         },
         {
          "Outlier": 1,
          "X": 3.2999999999999527,
          "Y": -7.556170273053248
         },
         {
          "Outlier": 1,
          "X": 3.3999999999999524,
          "Y": -7.838532717637544
         },
         {
          "Outlier": 1,
          "X": 3.499999999999952,
          "Y": -8.120895162221842
         },
         {
          "Outlier": 1,
          "X": 3.5999999999999517,
          "Y": -8.40325760680614
         },
         {
          "Outlier": 1,
          "X": 3.6999999999999513,
          "Y": -8.685620051390435
         },
         {
          "Outlier": 1,
          "X": 3.799999999999951,
          "Y": -8.967982495974733
         },
         {
          "Outlier": 1,
          "X": 3.8999999999999506,
          "Y": -9.250344940559028
         },
         {
          "Outlier": 1,
          "X": 3.9999999999999503,
          "Y": -9.532707385143325
         },
         {
          "Outlier": 1,
          "X": 4.09999999999995,
          "Y": -9.815069829727623
         },
         {
          "Outlier": 1,
          "X": 4.1999999999999496,
          "Y": -10.097432274311918
         },
         {
          "Outlier": 1,
          "X": 4.299999999999949,
          "Y": -10.379794718896216
         },
         {
          "Outlier": 1,
          "X": 4.399999999999949,
          "Y": -10.662157163480511
         },
         {
          "Outlier": 1,
          "X": 4.4999999999999485,
          "Y": -10.944519608064809
         },
         {
          "Outlier": 1,
          "X": 4.599999999999948,
          "Y": -11.226882052649104
         },
         {
          "Outlier": 1,
          "X": 4.699999999999948,
          "Y": -11.509244497233402
         },
         {
          "Outlier": 1,
          "X": 4.799999999999947,
          "Y": -11.7916069418177
         },
         {
          "Outlier": 1,
          "X": 4.899999999999947,
          "Y": -12.073969386401995
         },
         {
          "Outlier": 1,
          "X": 4.999999999999947,
          "Y": -12.356331830986292
         },
         {
          "Outlier": 1,
          "X": 5.099999999999946,
          "Y": -12.638694275570588
         },
         {
          "Outlier": 1,
          "X": 5.199999999999946,
          "Y": -12.921056720154885
         },
         {
          "Outlier": 1,
          "X": 5.299999999999946,
          "Y": -13.203419164739183
         },
         {
          "Outlier": 1,
          "X": 5.399999999999945,
          "Y": -13.485781609323478
         },
         {
          "Outlier": 1,
          "X": 5.499999999999945,
          "Y": -13.768144053907776
         },
         {
          "Outlier": 1,
          "X": 5.599999999999945,
          "Y": -14.050506498492071
         },
         {
          "Outlier": 1,
          "X": 5.699999999999944,
          "Y": -14.332868943076368
         },
         {
          "Outlier": 1,
          "X": 5.799999999999944,
          "Y": -14.615231387660666
         },
         {
          "Outlier": 1,
          "X": 5.8999999999999435,
          "Y": -14.897593832244963
         },
         {
          "Outlier": 1,
          "X": 5.999999999999943,
          "Y": -15.179956276829257
         },
         {
          "Outlier": 1,
          "X": 6.099999999999945,
          "Y": -15.462318721413562
         },
         {
          "Outlier": 1,
          "X": 6.1999999999999424,
          "Y": -15.744681165997852
         },
         {
          "Outlier": 1,
          "X": 6.29999999999994,
          "Y": -16.02704361058214
         },
         {
          "Outlier": 1,
          "X": 6.399999999999942,
          "Y": -16.30940605516644
         },
         {
          "Outlier": 1,
          "X": 6.499999999999943,
          "Y": -16.591768499750746
         },
         {
          "Outlier": 1,
          "X": 6.599999999999941,
          "Y": -16.874130944335036
         },
         {
          "Outlier": 1,
          "X": 6.699999999999939,
          "Y": -17.156493388919326
         },
         {
          "Outlier": 1,
          "X": 6.79999999999994,
          "Y": -17.43885583350363
         },
         {
          "Outlier": 1,
          "X": 6.899999999999942,
          "Y": -17.72121827808793
         },
         {
          "Outlier": 1,
          "X": 6.99999999999994,
          "Y": -18.003580722672222
         },
         {
          "Outlier": 1,
          "X": 7.0999999999999375,
          "Y": -18.285943167256516
         },
         {
          "Outlier": 1,
          "X": 7.199999999999939,
          "Y": -18.568305611840817
         },
         {
          "Outlier": 1,
          "X": 7.29999999999994,
          "Y": -18.850668056425118
         },
         {
          "Outlier": 1,
          "X": 7.399999999999938,
          "Y": -19.133030501009408
         },
         {
          "Outlier": 1,
          "X": 7.499999999999936,
          "Y": -19.4153929455937
         },
         {
          "Outlier": 1,
          "X": 7.5999999999999375,
          "Y": -19.697755390178003
         },
         {
          "Outlier": 1,
          "X": 7.699999999999939,
          "Y": -19.980117834762304
         },
         {
          "Outlier": 1,
          "X": 7.799999999999937,
          "Y": -20.262480279346597
         },
         {
          "Outlier": 1,
          "X": 7.899999999999935,
          "Y": -20.544842723930888
         },
         {
          "Outlier": 1,
          "X": 7.999999999999936,
          "Y": -20.82720516851519
         },
         {
          "Outlier": 1,
          "X": 8.099999999999937,
          "Y": -21.10956761309949
         },
         {
          "Outlier": 1,
          "X": 8.199999999999935,
          "Y": -21.391930057683783
         },
         {
          "Outlier": 1,
          "X": 8.299999999999933,
          "Y": -21.674292502268074
         },
         {
          "Outlier": 1,
          "X": 8.399999999999935,
          "Y": -21.956654946852375
         },
         {
          "Outlier": 1,
          "X": 8.499999999999936,
          "Y": -22.23901739143668
         },
         {
          "Outlier": 1,
          "X": 8.599999999999934,
          "Y": -22.52137983602097
         },
         {
          "Outlier": 1,
          "X": 8.699999999999932,
          "Y": -22.80374228060526
         },
         {
          "Outlier": 1,
          "X": 8.799999999999933,
          "Y": -23.086104725189564
         },
         {
          "Outlier": 1,
          "X": 8.899999999999935,
          "Y": -23.368467169773865
         },
         {
          "Outlier": 1,
          "X": 8.999999999999932,
          "Y": -23.650829614358155
         },
         {
          "Outlier": 1,
          "X": 9.09999999999993,
          "Y": -23.933192058942446
         },
         {
          "Outlier": 1,
          "X": 9.199999999999932,
          "Y": -24.21555450352675
         },
         {
          "Outlier": 1,
          "X": 9.299999999999933,
          "Y": -24.49791694811105
         },
         {
          "Outlier": 1,
          "X": 9.399999999999931,
          "Y": -24.78027939269534
         },
         {
          "Outlier": 1,
          "X": 9.499999999999929,
          "Y": -25.062641837279635
         },
         {
          "Outlier": 1,
          "X": 9.59999999999993,
          "Y": -25.345004281863936
         },
         {
          "Outlier": 1,
          "X": 9.699999999999932,
          "Y": -25.627366726448237
         },
         {
          "Outlier": 1,
          "X": 9.79999999999993,
          "Y": -25.909729171032527
         },
         {
          "Outlier": 1,
          "X": 9.899999999999928,
          "Y": -26.19209161561682
         },
         {
          "Outlier": 1,
          "X": 9.999999999999929,
          "Y": -26.474454060201122
         }
        ]
       },
       "encoding": {
        "color": {},
        "x": {
         "field": "X",
         "type": "quantitative"
        },
        "y": {
         "field": "Y",
         "type": "quantitative"
        }
       },
       "height": 400,
       "mark": "line",
       "width": 400
      },
      "image/png": "[encoded data removed]"
     },
     "metadata": {},
     "output_type": "display_data"
    }
   ],
   "source": [
    "plot (range, (\\(s,i,_) -> (s,i)) $ head mhRunsRegression) \n"
   ]
  },
  {
   "cell_type": "markdown",
   "metadata": {},
   "source": [
    "This is a sample from the MCMC walk. Since this is an easy inference problem, it wasn't hard to generate good samples.\n",
    "\n",
    "We can also view the posterior predictive, as follows:"
   ]
  },
  {
   "cell_type": "code",
   "execution_count": 7,
   "metadata": {},
   "outputs": [
    {
     "data": {
      "application/vnd.vegalite.v4+json": {
       "$schema": "https://vega.github.io/schema/vega-lite/v4.json",
       "data": {
        "values": [
         {
          "Outlier": "\"\\\"N/A\\\"\"",
          "X": -10,
          "Y": 34.309448102570165
         },
         {
          "Outlier": "\"\\\"N/A\\\"\"",
          "X": -9.9,
          "Y": 27.240851497085384
         },
         {
          "Outlier": "\"\\\"N/A\\\"\"",
          "X": -9.8,
          "Y": 38.50559473973897
         },
         {
          "Outlier": "\"\\\"N/A\\\"\"",
          "X": -9.700000000000001,
          "Y": 24.67093644412536
         },
         {
          "Outlier": "\"\\\"N/A\\\"\"",
          "X": -9.600000000000001,
          "Y": 21.81848534289527
         },
         {
          "Outlier": "\"\\\"N/A\\\"\"",
          "X": -9.500000000000002,
          "Y": 37.53521801611909
         },
         {
          "Outlier": "\"\\\"N/A\\\"\"",
          "X": -9.400000000000002,
          "Y": 24.818360339047842
         },
         {
          "Outlier": "\"\\\"N/A\\\"\"",
          "X": -9.300000000000002,
          "Y": 26.146851656821596
         },
         {
          "Outlier": "\"\\\"N/A\\\"\"",
          "X": -9.200000000000003,
          "Y": 46.21426014304069
         },
         {
          "Outlier": "\"\\\"N/A\\\"\"",
          "X": -9.100000000000003,
          "Y": 23.366630457628375
         },
         {
          "Outlier": "\"\\\"N/A\\\"\"",
          "X": -9.000000000000004,
          "Y": 17.261034402667683
         },
         {
          "Outlier": "\"\\\"N/A\\\"\"",
          "X": -8.900000000000004,
          "Y": 36.996524465235666
         },
         {
          "Outlier": "\"\\\"N/A\\\"\"",
          "X": -8.800000000000004,
          "Y": 40.52139121585679
         },
         {
          "Outlier": "\"\\\"N/A\\\"\"",
          "X": -8.700000000000005,
          "Y": 31.30239997365902
         },
         {
          "Outlier": "\"\\\"N/A\\\"\"",
          "X": -8.600000000000005,
          "Y": 23.95944065473956
         },
         {
          "Outlier": "\"\\\"N/A\\\"\"",
          "X": -8.500000000000005,
          "Y": 27.744375643498177
         },
         {
          "Outlier": "\"\\\"N/A\\\"\"",
          "X": -8.400000000000006,
          "Y": 18.9657949038624
         },
         {
          "Outlier": "\"\\\"N/A\\\"\"",
          "X": -8.300000000000006,
          "Y": 21.05853975178665
         },
         {
          "Outlier": "\"\\\"N/A\\\"\"",
          "X": -8.200000000000006,
          "Y": 37.814198368799225
         },
         {
          "Outlier": "\"\\\"N/A\\\"\"",
          "X": -8.100000000000007,
          "Y": 31.21592275610804
         },
         {
          "Outlier": "\"\\\"N/A\\\"\"",
          "X": -8.000000000000007,
          "Y": 24.904917774842033
         },
         {
          "Outlier": "\"\\\"N/A\\\"\"",
          "X": -7.9000000000000075,
          "Y": 37.0399759154341
         },
         {
          "Outlier": "\"\\\"N/A\\\"\"",
          "X": -7.800000000000008,
          "Y": 23.986058255244792
         },
         {
          "Outlier": "\"\\\"N/A\\\"\"",
          "X": -7.700000000000008,
          "Y": 20.637029484472357
         },
         {
          "Outlier": "\"\\\"N/A\\\"\"",
          "X": -7.6000000000000085,
          "Y": 17.834350368718596
         },
         {
          "Outlier": "\"\\\"N/A\\\"\"",
          "X": -7.500000000000009,
          "Y": 30.889289474711003
         },
         {
          "Outlier": "\"\\\"N/A\\\"\"",
          "X": -7.400000000000009,
          "Y": 25.559140945043005
         },
         {
          "Outlier": "\"\\\"N/A\\\"\"",
          "X": -7.30000000000001,
          "Y": 38.17677226102148
         },
         {
          "Outlier": "\"\\\"N/A\\\"\"",
          "X": -7.20000000000001,
          "Y": 23.96827725051875
         },
         {
          "Outlier": "\"\\\"N/A\\\"\"",
          "X": -7.10000000000001,
          "Y": 28.822417229203452
         },
         {
          "Outlier": "\"\\\"N/A\\\"\"",
          "X": -7.000000000000011,
          "Y": 13.757426417546313
         },
         {
          "Outlier": "\"\\\"N/A\\\"\"",
          "X": -6.900000000000011,
          "Y": 30.75120251034535
         },
         {
          "Outlier": "\"\\\"N/A\\\"\"",
          "X": -6.800000000000011,
          "Y": 26.87115331587546
         },
         {
          "Outlier": "\"\\\"N/A\\\"\"",
          "X": -6.700000000000012,
          "Y": 12.37861745653536
         },
         {
          "Outlier": "\"\\\"N/A\\\"\"",
          "X": -6.600000000000012,
          "Y": 33.1171941794684
         },
         {
          "Outlier": "\"\\\"N/A\\\"\"",
          "X": -6.500000000000012,
          "Y": 9.516020271152538
         },
         {
          "Outlier": "\"\\\"N/A\\\"\"",
          "X": -6.400000000000013,
          "Y": 17.63080313685567
         },
         {
          "Outlier": "\"\\\"N/A\\\"\"",
          "X": -6.300000000000013,
          "Y": 36.210847428712285
         },
         {
          "Outlier": "\"\\\"N/A\\\"\"",
          "X": -6.2000000000000135,
          "Y": 14.251021837486865
         },
         {
          "Outlier": "\"\\\"N/A\\\"\"",
          "X": -6.100000000000014,
          "Y": 20.062215187158685
         },
         {
          "Outlier": "\"\\\"N/A\\\"\"",
          "X": -6.000000000000014,
          "Y": 18.083116343489213
         },
         {
          "Outlier": "\"\\\"N/A\\\"\"",
          "X": -5.900000000000015,
          "Y": 15.287407043229617
         },
         {
          "Outlier": "\"\\\"N/A\\\"\"",
          "X": -5.800000000000015,
          "Y": 17.070638420024245
         },
         {
          "Outlier": "\"\\\"N/A\\\"\"",
          "X": -5.700000000000015,
          "Y": 13.511563137515209
         },
         {
          "Outlier": "\"\\\"N/A\\\"\"",
          "X": -5.600000000000016,
          "Y": 13.266580190057116
         },
         {
          "Outlier": "\"\\\"N/A\\\"\"",
          "X": -5.500000000000016,
          "Y": 23.608852195580432
         },
         {
          "Outlier": "\"\\\"N/A\\\"\"",
          "X": -5.400000000000016,
          "Y": 24.351497182639616
         },
         {
          "Outlier": "\"\\\"N/A\\\"\"",
          "X": -5.300000000000017,
          "Y": 21.70316858172543
         },
         {
          "Outlier": "\"\\\"N/A\\\"\"",
          "X": -5.200000000000017,
          "Y": 17.1774381779952
         },
         {
          "Outlier": "\"\\\"N/A\\\"\"",
          "X": -5.100000000000017,
          "Y": 14.187270317166154
         },
         {
          "Outlier": "\"\\\"N/A\\\"\"",
          "X": -5.000000000000018,
          "Y": 19.769260762954275
         },
         {
          "Outlier": "\"\\\"N/A\\\"\"",
          "X": -4.900000000000018,
          "Y": 13.718309147013098
         },
         {
          "Outlier": "\"\\\"N/A\\\"\"",
          "X": -4.8000000000000185,
          "Y": 20.042551878916264
         },
         {
          "Outlier": "\"\\\"N/A\\\"\"",
          "X": -4.700000000000019,
          "Y": 15.388665012999013
         },
         {
          "Outlier": "\"\\\"N/A\\\"\"",
          "X": -4.600000000000019,
          "Y": 16.719625210279844
         },
         {
          "Outlier": "\"\\\"N/A\\\"\"",
          "X": -4.5000000000000195,
          "Y": 12.68426818580046
         },
         {
          "Outlier": "\"\\\"N/A\\\"\"",
          "X": -4.40000000000002,
          "Y": 20.972001504282854
         },
         {
          "Outlier": "\"\\\"N/A\\\"\"",
          "X": -4.30000000000002,
          "Y": 26.949964928714074
         },
         {
          "Outlier": "\"\\\"N/A\\\"\"",
          "X": -4.200000000000021,
          "Y": 11.609092656178975
         },
         {
          "Outlier": "\"\\\"N/A\\\"\"",
          "X": -4.100000000000021,
          "Y": 13.175012961884828
         },
         {
          "Outlier": "\"\\\"N/A\\\"\"",
          "X": -4.000000000000021,
          "Y": 12.141710305404924
         },
         {
          "Outlier": "\"\\\"N/A\\\"\"",
          "X": -3.9000000000000217,
          "Y": 31.507775796370577
         },
         {
          "Outlier": "\"\\\"N/A\\\"\"",
          "X": -3.800000000000022,
          "Y": 10.122434264175409
         },
         {
          "Outlier": "\"\\\"N/A\\\"\"",
          "X": -3.7000000000000224,
          "Y": 14.394935513223766
         },
         {
          "Outlier": "\"\\\"N/A\\\"\"",
          "X": -3.6000000000000227,
          "Y": 17.805075465800098
         },
         {
          "Outlier": "\"\\\"N/A\\\"\"",
          "X": -3.500000000000023,
          "Y": 13.12812993791475
         },
         {
          "Outlier": "\"\\\"N/A\\\"\"",
          "X": -3.4000000000000234,
          "Y": 10.447725487357562
         },
         {
          "Outlier": "\"\\\"N/A\\\"\"",
          "X": -3.300000000000024,
          "Y": 2.3216247096763745
         },
         {
          "Outlier": "\"\\\"N/A\\\"\"",
          "X": -3.200000000000024,
          "Y": -2.393546333463801
         },
         {
          "Outlier": "\"\\\"N/A\\\"\"",
          "X": -3.1000000000000245,
          "Y": 19.17510884309199
         },
         {
          "Outlier": "\"\\\"N/A\\\"\"",
          "X": -3.000000000000025,
          "Y": 17.66358075057135
         },
         {
          "Outlier": "\"\\\"N/A\\\"\"",
          "X": -2.9000000000000252,
          "Y": 1.157165474981662
         },
         {
          "Outlier": "\"\\\"N/A\\\"\"",
          "X": -2.8000000000000256,
          "Y": 16.326339805358813
         },
         {
          "Outlier": "\"\\\"N/A\\\"\"",
          "X": -2.700000000000026,
          "Y": 9.01821962277669
         },
         {
          "Outlier": "\"\\\"N/A\\\"\"",
          "X": -2.6000000000000263,
          "Y": 12.50497599416714
         },
         {
          "Outlier": "\"\\\"N/A\\\"\"",
          "X": -2.5000000000000266,
          "Y": 14.12775355293637
         },
         {
          "Outlier": "\"\\\"N/A\\\"\"",
          "X": -2.400000000000027,
          "Y": 8.286012562357492
         },
         {
          "Outlier": "\"\\\"N/A\\\"\"",
          "X": -2.3000000000000274,
          "Y": 6.290269992341996
         },
         {
          "Outlier": "\"\\\"N/A\\\"\"",
          "X": -2.2000000000000277,
          "Y": 9.138818479389405
         },
         {
          "Outlier": "\"\\\"N/A\\\"\"",
          "X": -2.100000000000028,
          "Y": 16.526642178010842
         },
         {
          "Outlier": "\"\\\"N/A\\\"\"",
          "X": -2.0000000000000284,
          "Y": 10.581307935901794
         },
         {
          "Outlier": "\"\\\"N/A\\\"\"",
          "X": -1.9000000000000288,
          "Y": 14.932795437535695
         },
         {
          "Outlier": "\"\\\"N/A\\\"\"",
          "X": -1.8000000000000291,
          "Y": 4.7111464825733185
         },
         {
          "Outlier": "\"\\\"N/A\\\"\"",
          "X": -1.7000000000000295,
          "Y": 7.4168107546562485
         },
         {
          "Outlier": "\"\\\"N/A\\\"\"",
          "X": -1.6000000000000298,
          "Y": 7.505075500061507
         },
         {
          "Outlier": "\"\\\"N/A\\\"\"",
          "X": -1.5000000000000302,
          "Y": 12.042999790643961
         },
         {
          "Outlier": "\"\\\"N/A\\\"\"",
          "X": -1.4000000000000306,
          "Y": 12.465550257656759
         },
         {
          "Outlier": "\"\\\"N/A\\\"\"",
          "X": -1.300000000000031,
          "Y": 6.276329354089857
         },
         {
          "Outlier": "\"\\\"N/A\\\"\"",
          "X": -1.2000000000000313,
          "Y": 14.799162604951393
         },
         {
          "Outlier": "\"\\\"N/A\\\"\"",
          "X": -1.1000000000000316,
          "Y": 8.228323269351655
         },
         {
          "Outlier": "\"\\\"N/A\\\"\"",
          "X": -1.000000000000032,
          "Y": 7.924289350621528
         },
         {
          "Outlier": "\"\\\"N/A\\\"\"",
          "X": -0.9000000000000323,
          "Y": -3.9972541638114283
         },
         {
          "Outlier": "\"\\\"N/A\\\"\"",
          "X": -0.8000000000000327,
          "Y": -1.8524902509807575
         },
         {
          "Outlier": "\"\\\"N/A\\\"\"",
          "X": -0.700000000000033,
          "Y": 3.426322847759425
         },
         {
          "Outlier": "\"\\\"N/A\\\"\"",
          "X": -0.6000000000000334,
          "Y": -3.106050261897969
         },
         {
          "Outlier": "\"\\\"N/A\\\"\"",
          "X": -0.5000000000000338,
          "Y": -4.781485585909261
         },
         {
          "Outlier": "\"\\\"N/A\\\"\"",
          "X": -0.4000000000000341,
          "Y": 16.84527197689767
         },
         {
          "Outlier": "\"\\\"N/A\\\"\"",
          "X": -0.30000000000003446,
          "Y": 7.372377811427533
         },
         {
          "Outlier": "\"\\\"N/A\\\"\"",
          "X": -0.20000000000003482,
          "Y": -2.811600836706838
         },
         {
          "Outlier": "\"\\\"N/A\\\"\"",
          "X": -0.10000000000003517,
          "Y": 4.007360365629696
         },
         {
          "Outlier": "\"\\\"N/A\\\"\"",
          "X": -3.552713678800501e-14,
          "Y": 3.540259043365712
         },
         {
          "Outlier": "\"\\\"N/A\\\"\"",
          "X": 0.09999999999996412,
          "Y": 0.15385328307732538
         },
         {
          "Outlier": "\"\\\"N/A\\\"\"",
          "X": 0.19999999999996376,
          "Y": 2.9727983467794257
         },
         {
          "Outlier": "\"\\\"N/A\\\"\"",
          "X": 0.2999999999999634,
          "Y": -0.3615413178577144
         },
         {
          "Outlier": "\"\\\"N/A\\\"\"",
          "X": 0.39999999999996305,
          "Y": -3.658726657523924
         },
         {
          "Outlier": "\"\\\"N/A\\\"\"",
          "X": 0.4999999999999627,
          "Y": -3.4334709451498187
         },
         {
          "Outlier": "\"\\\"N/A\\\"\"",
          "X": 0.5999999999999623,
          "Y": -2.236111483844569
         },
         {
          "Outlier": "\"\\\"N/A\\\"\"",
          "X": 0.699999999999962,
          "Y": 8.592489656527107
         },
         {
          "Outlier": "\"\\\"N/A\\\"\"",
          "X": 0.7999999999999616,
          "Y": 3.8182716785839084
         },
         {
          "Outlier": "\"\\\"N/A\\\"\"",
          "X": 0.8999999999999613,
          "Y": -2.3942297748700665
         },
         {
          "Outlier": "\"\\\"N/A\\\"\"",
          "X": 0.9999999999999609,
          "Y": -10.141157923513601
         },
         {
          "Outlier": "\"\\\"N/A\\\"\"",
          "X": 1.0999999999999606,
          "Y": 0.7542522253411343
         },
         {
          "Outlier": "\"\\\"N/A\\\"\"",
          "X": 1.1999999999999602,
          "Y": -0.03861818723016319
         },
         {
          "Outlier": "\"\\\"N/A\\\"\"",
          "X": 1.2999999999999599,
          "Y": -4.726387546002521
         },
         {
          "Outlier": "\"\\\"N/A\\\"\"",
          "X": 1.3999999999999595,
          "Y": 1.3121290948912865
         },
         {
          "Outlier": "\"\\\"N/A\\\"\"",
          "X": 1.4999999999999591,
          "Y": -3.4784328610440016
         },
         {
          "Outlier": "\"\\\"N/A\\\"\"",
          "X": 1.5999999999999588,
          "Y": 0.9176670311917348
         },
         {
          "Outlier": "\"\\\"N/A\\\"\"",
          "X": 1.6999999999999584,
          "Y": -11.732814125277216
         },
         {
          "Outlier": "\"\\\"N/A\\\"\"",
          "X": 1.799999999999958,
          "Y": -3.9166271597503592
         },
         {
          "Outlier": "\"\\\"N/A\\\"\"",
          "X": 1.8999999999999577,
          "Y": -7.665840969827736
         },
         {
          "Outlier": "\"\\\"N/A\\\"\"",
          "X": 1.9999999999999574,
          "Y": -3.0064736806234325
         },
         {
          "Outlier": "\"\\\"N/A\\\"\"",
          "X": 2.099999999999957,
          "Y": -7.633426766279966
         },
         {
          "Outlier": "\"\\\"N/A\\\"\"",
          "X": 2.1999999999999567,
          "Y": -1.8353625186801557
         },
         {
          "Outlier": "\"\\\"N/A\\\"\"",
          "X": 2.2999999999999563,
          "Y": -12.96283828171172
         },
         {
          "Outlier": "\"\\\"N/A\\\"\"",
          "X": 2.399999999999956,
          "Y": -6.874329709778971
         },
         {
          "Outlier": "\"\\\"N/A\\\"\"",
          "X": 2.4999999999999556,
          "Y": -6.865995937830961
         },
         {
          "Outlier": "\"\\\"N/A\\\"\"",
          "X": 2.5999999999999552,
          "Y": -7.282490114073969
         },
         {
          "Outlier": "\"\\\"N/A\\\"\"",
          "X": 2.699999999999955,
          "Y": -10.940058951874153
         },
         {
          "Outlier": "\"\\\"N/A\\\"\"",
          "X": 2.7999999999999545,
          "Y": -2.863423834803531
         },
         {
          "Outlier": "\"\\\"N/A\\\"\"",
          "X": 2.899999999999954,
          "Y": -14.541059491980896
         },
         {
          "Outlier": "\"\\\"N/A\\\"\"",
          "X": 2.999999999999954,
          "Y": -6.903380049422232
         },
         {
          "Outlier": "\"\\\"N/A\\\"\"",
          "X": 3.0999999999999535,
          "Y": -0.020859891889068116
         },
         {
          "Outlier": "\"\\\"N/A\\\"\"",
          "X": 3.199999999999953,
          "Y": -17.265602718091117
         },
         {
          "Outlier": "\"\\\"N/A\\\"\"",
          "X": 3.2999999999999527,
          "Y": -7.852826303734025
         },
         {
          "Outlier": "\"\\\"N/A\\\"\"",
          "X": 3.3999999999999524,
          "Y": -7.180158292066604
         },
         {
          "Outlier": "\"\\\"N/A\\\"\"",
          "X": 3.499999999999952,
          "Y": 1.9056213946149967
         },
         {
          "Outlier": "\"\\\"N/A\\\"\"",
          "X": 3.5999999999999517,
          "Y": -20.565516571186564
         },
         {
          "Outlier": "\"\\\"N/A\\\"\"",
          "X": 3.6999999999999513,
          "Y": -9.40184128156832
         },
         {
          "Outlier": "\"\\\"N/A\\\"\"",
          "X": 3.799999999999951,
          "Y": -6.13461626454352
         },
         {
          "Outlier": "\"\\\"N/A\\\"\"",
          "X": 3.8999999999999506,
          "Y": -1.344224483494365
         },
         {
          "Outlier": "\"\\\"N/A\\\"\"",
          "X": 3.9999999999999503,
          "Y": -15.08419036718375
         },
         {
          "Outlier": "\"\\\"N/A\\\"\"",
          "X": 4.09999999999995,
          "Y": -5.634321124484244
         },
         {
          "Outlier": "\"\\\"N/A\\\"\"",
          "X": 4.1999999999999496,
          "Y": -6.399374422093153
         },
         {
          "Outlier": "\"\\\"N/A\\\"\"",
          "X": 4.299999999999949,
          "Y": -12.635575801687034
         },
         {
          "Outlier": "\"\\\"N/A\\\"\"",
          "X": 4.399999999999949,
          "Y": -17.973919455742806
         },
         {
          "Outlier": "\"\\\"N/A\\\"\"",
          "X": 4.4999999999999485,
          "Y": -6.065455879541104
         },
         {
          "Outlier": "\"\\\"N/A\\\"\"",
          "X": 4.599999999999948,
          "Y": -4.832412280989314
         },
         {
          "Outlier": "\"\\\"N/A\\\"\"",
          "X": 4.699999999999948,
          "Y": -23.242062543298523
         },
         {
          "Outlier": "\"\\\"N/A\\\"\"",
          "X": 4.799999999999947,
          "Y": -9.357452307456452
         },
         {
          "Outlier": "\"\\\"N/A\\\"\"",
          "X": 4.899999999999947,
          "Y": -21.825063199699834
         },
         {
          "Outlier": "\"\\\"N/A\\\"\"",
          "X": 4.999999999999947,
          "Y": -11.84396892860107
         },
         {
          "Outlier": "\"\\\"N/A\\\"\"",
          "X": 5.099999999999946,
          "Y": -17.082696538894467
         },
         {
          "Outlier": "\"\\\"N/A\\\"\"",
          "X": 5.199999999999946,
          "Y": -10.738847657227115
         },
         {
          "Outlier": "\"\\\"N/A\\\"\"",
          "X": 5.299999999999946,
          "Y": -13.587572774398545
         },
         {
          "Outlier": "\"\\\"N/A\\\"\"",
          "X": 5.399999999999945,
          "Y": -4.339898860449242
         },
         {
          "Outlier": "\"\\\"N/A\\\"\"",
          "X": 5.499999999999945,
          "Y": -11.82524383904828
         },
         {
          "Outlier": "\"\\\"N/A\\\"\"",
          "X": 5.599999999999945,
          "Y": -19.100335230738146
         },
         {
          "Outlier": "\"\\\"N/A\\\"\"",
          "X": 5.699999999999944,
          "Y": -13.909073281212022
         },
         {
          "Outlier": "\"\\\"N/A\\\"\"",
          "X": 5.799999999999944,
          "Y": -29.52318609515017
         },
         {
          "Outlier": "\"\\\"N/A\\\"\"",
          "X": 5.8999999999999435,
          "Y": -19.940887518753886
         },
         {
          "Outlier": "\"\\\"N/A\\\"\"",
          "X": 5.999999999999943,
          "Y": -24.13705348395853
         },
         {
          "Outlier": "\"\\\"N/A\\\"\"",
          "X": 6.099999999999945,
          "Y": -16.17741237243306
         },
         {
          "Outlier": "\"\\\"N/A\\\"\"",
          "X": 6.1999999999999424,
          "Y": -11.621861497627318
         },
         {
          "Outlier": "\"\\\"N/A\\\"\"",
          "X": 6.29999999999994,
          "Y": -14.597257000044214
         },
         {
          "Outlier": "\"\\\"N/A\\\"\"",
          "X": 6.399999999999942,
          "Y": -16.494691385755537
         },
         {
          "Outlier": "\"\\\"N/A\\\"\"",
          "X": 6.499999999999943,
          "Y": -17.891625269354947
         },
         {
          "Outlier": "\"\\\"N/A\\\"\"",
          "X": 6.599999999999941,
          "Y": -19.95361266364866
         },
         {
          "Outlier": "\"\\\"N/A\\\"\"",
          "X": 6.699999999999939,
          "Y": -26.736893263134274
         },
         {
          "Outlier": "\"\\\"N/A\\\"\"",
          "X": 6.79999999999994,
          "Y": -28.955337371377716
         },
         {
          "Outlier": "\"\\\"N/A\\\"\"",
          "X": 6.899999999999942,
          "Y": -11.224080374306547
         },
         {
          "Outlier": "\"\\\"N/A\\\"\"",
          "X": 6.99999999999994,
          "Y": -9.879582955928694
         },
         {
          "Outlier": "\"\\\"N/A\\\"\"",
          "X": 7.0999999999999375,
          "Y": -12.271446635835591
         },
         {
          "Outlier": "\"\\\"N/A\\\"\"",
          "X": 7.199999999999939,
          "Y": -18.11107393948856
         },
         {
          "Outlier": "\"\\\"N/A\\\"\"",
          "X": 7.29999999999994,
          "Y": -12.938979400261413
         },
         {
          "Outlier": "\"\\\"N/A\\\"\"",
          "X": 7.399999999999938,
          "Y": -18.422373819057228
         },
         {
          "Outlier": "\"\\\"N/A\\\"\"",
          "X": 7.499999999999936,
          "Y": -19.82481809318142
         },
         {
          "Outlier": "\"\\\"N/A\\\"\"",
          "X": 7.5999999999999375,
          "Y": -18.73494547646468
         },
         {
          "Outlier": "\"\\\"N/A\\\"\"",
          "X": 7.699999999999939,
          "Y": -30.514553276196345
         },
         {
          "Outlier": "\"\\\"N/A\\\"\"",
          "X": 7.799999999999937,
          "Y": -18.725778714438267
         },
         {
          "Outlier": "\"\\\"N/A\\\"\"",
          "X": 7.899999999999935,
          "Y": -22.826908504247562
         },
         {
          "Outlier": "\"\\\"N/A\\\"\"",
          "X": 7.999999999999936,
          "Y": -17.13314378191
         },
         {
          "Outlier": "\"\\\"N/A\\\"\"",
          "X": 8.099999999999937,
          "Y": -23.706409239116624
         },
         {
          "Outlier": "\"\\\"N/A\\\"\"",
          "X": 8.199999999999935,
          "Y": -22.33176135597409
         },
         {
          "Outlier": "\"\\\"N/A\\\"\"",
          "X": 8.299999999999933,
          "Y": -31.819280768193906
         },
         {
          "Outlier": "\"\\\"N/A\\\"\"",
          "X": 8.399999999999935,
          "Y": -26.620202580420756
         },
         {
          "Outlier": "\"\\\"N/A\\\"\"",
          "X": 8.499999999999936,
          "Y": -17.747629012694812
         },
         {
          "Outlier": "\"\\\"N/A\\\"\"",
          "X": 8.599999999999934,
          "Y": -28.821255778707965
         },
         {
          "Outlier": "\"\\\"N/A\\\"\"",
          "X": 8.699999999999932,
          "Y": -23.81083055029476
         },
         {
          "Outlier": "\"\\\"N/A\\\"\"",
          "X": 8.799999999999933,
          "Y": -23.161876110781723
         },
         {
          "Outlier": "\"\\\"N/A\\\"\"",
          "X": 8.899999999999935,
          "Y": -20.966647381889803
         },
         {
          "Outlier": "\"\\\"N/A\\\"\"",
          "X": 8.999999999999932,
          "Y": -25.161472279354452
         },
         {
          "Outlier": "\"\\\"N/A\\\"\"",
          "X": 9.09999999999993,
          "Y": -32.99039763218318
         },
         {
          "Outlier": "\"\\\"N/A\\\"\"",
          "X": 9.199999999999932,
          "Y": -29.317269421027184
         },
         {
          "Outlier": "\"\\\"N/A\\\"\"",
          "X": 9.299999999999933,
          "Y": -21.37808356283696
         },
         {
          "Outlier": "\"\\\"N/A\\\"\"",
          "X": 9.399999999999931,
          "Y": -23.734441578890138
         },
         {
          "Outlier": "\"\\\"N/A\\\"\"",
          "X": 9.499999999999929,
          "Y": -20.211595419760737
         },
         {
          "Outlier": "\"\\\"N/A\\\"\"",
          "X": 9.59999999999993,
          "Y": -25.08252171883225
         },
         {
          "Outlier": "\"\\\"N/A\\\"\"",
          "X": 9.699999999999932,
          "Y": -22.01958763862074
         },
         {
          "Outlier": "\"\\\"N/A\\\"\"",
          "X": 9.79999999999993,
          "Y": -29.517670888640136
         },
         {
          "Outlier": "\"\\\"N/A\\\"\"",
          "X": 9.899999999999928,
          "Y": -33.195771019929445
         },
         {
          "Outlier": "\"\\\"N/A\\\"\"",
          "X": 9.999999999999929,
          "Y": -35.382569991486605
         }
        ]
       },
       "encoding": {
        "color": {
         "field": "Outlier"
        },
        "x": {
         "field": "X",
         "type": "quantitative"
        },
        "y": {
         "field": "Y",
         "type": "quantitative"
        }
       },
       "height": 400,
       "mark": "circle",
       "width": 400
      },
      "image/png": "[encoded data removed]"
     },
     "metadata": {},
     "output_type": "display_data"
    }
   ],
   "source": [
    "posteriorPredictive :: MonadMeasure m => [Double] -> [Double] -> m [Double]\n",
    "posteriorPredictive xs ys = do\n",
    "    (slope, intercept, noise) <- regression xs ys\n",
    "    forM xs \\x -> do\n",
    "            let y' = x * slope + intercept\n",
    "            normal y' (sqrt noise)\n",
    "\n",
    "\n",
    "predictive <- head <$> (sampleIOfixed $ unweighted $ mcmc mcmcConfig $ posteriorPredictive range (snd <$> regressionSamples))\n",
    "plot (fmap (second (T.pack . show)) (zip (zip range predictive) (Prelude.repeat \"N/A\")))\n"
   ]
  },
  {
   "cell_type": "markdown",
   "metadata": {},
   "source": [
    "Inspired by the tutorials on probabilistic programming language Gen (https://www.gen.dev/tutorials/iterative-inference/tutorial), we'll make the inference problem harder by using the example of a regression with outliers. The idea is that each datapoint $(x,y)$ has $y$ either linearly dependent on $x$, or randomly sampler (an outlier). So the goal of inference is to *jointly* work out what the linear relationship is and which points flout it."
   ]
  },
  {
   "cell_type": "code",
   "execution_count": 8,
   "metadata": {},
   "outputs": [],
   "source": [
    "paramPrior = do\n",
    "    slope <- normal 0 2\n",
    "    intercept <- normal 0 2\n",
    "    noise <- gamma 4 4\n",
    "    prob_outlier <- uniform 0 0.5 \n",
    "    return (slope, intercept, noise, prob_outlier)\n",
    "\n",
    "forward (slope, intercept, noise, probOutlier) x = do\n",
    "    isOutlier <- bernoulli probOutlier\n",
    "    let meanParams = if isOutlier\n",
    "                    then (0, 20)\n",
    "                    else (x*slope + intercept, sqrt noise)\n",
    "    return (meanParams, isOutlier)\n",
    "\n",
    "regressionWithOutliersData :: (MonadDistribution m, Traversable t) => t Double -> m (t ((Double, Double), Bool))\n",
    "regressionWithOutliersData xs = do\n",
    "    params <- paramPrior\n",
    "\n",
    "    forM xs \\x -> do\n",
    "        ((mu, std), isOutlier) <- forward params x\n",
    "        y <- normal mu std\n",
    "        return ((x, y), isOutlier)"
   ]
  },
  {
   "cell_type": "markdown",
   "metadata": {},
   "source": [
    "This is our model. It describes a process for getting $y$ from $x$. Specifically, you start by drawing values for the slope $s$, bias $b$ and noise $n$. Then for each input $x$, you flip a coin. If it lands one way, you draw a $y$ value from a normal with mean $x*slope + bias$ and std $n$, and otherwise you draw from a centered normal with large variance.\n",
    "\n",
    "Given a list of $x$ values, this gives a distribution over lists of $y$ values, from which we can sample:\n",
    "\n",
    "\n"
   ]
  },
  {
   "cell_type": "code",
   "execution_count": 9,
   "metadata": {},
   "outputs": [
    {
     "data": {
      "application/vnd.vegalite.v4+json": {
       "$schema": "https://vega.github.io/schema/vega-lite/v4.json",
       "data": {
        "values": [
         {
          "Outlier": "\"True\"",
          "X": -10,
          "Y": 30.14316922289284
         },
         {
          "Outlier": "\"True\"",
          "X": -9.9,
          "Y": -0.26284958638081857
         },
         {
          "Outlier": "\"False\"",
          "X": -9.8,
          "Y": 23.786459587439385
         },
         {
          "Outlier": "\"True\"",
          "X": -9.700000000000001,
          "Y": -68.99193947945726
         },
         {
          "Outlier": "\"True\"",
          "X": -9.600000000000001,
          "Y": -8.043397861176732
         },
         {
          "Outlier": "\"False\"",
          "X": -9.500000000000002,
          "Y": 31.37356835946967
         },
         {
          "Outlier": "\"True\"",
          "X": -9.400000000000002,
          "Y": -23.81048273352878
         },
         {
          "Outlier": "\"False\"",
          "X": -9.300000000000002,
          "Y": 22.735033981928762
         },
         {
          "Outlier": "\"True\"",
          "X": -9.200000000000003,
          "Y": 23.375038991852755
         },
         {
          "Outlier": "\"False\"",
          "X": -9.100000000000003,
          "Y": 27.169089429019078
         },
         {
          "Outlier": "\"True\"",
          "X": -9.000000000000004,
          "Y": 24.42143345836998
         },
         {
          "Outlier": "\"False\"",
          "X": -8.900000000000004,
          "Y": 24.425641978269297
         },
         {
          "Outlier": "\"False\"",
          "X": -8.800000000000004,
          "Y": 30.050736689827513
         },
         {
          "Outlier": "\"True\"",
          "X": -8.700000000000005,
          "Y": 18.278561094651828
         },
         {
          "Outlier": "\"False\"",
          "X": -8.600000000000005,
          "Y": 30.770220409890687
         },
         {
          "Outlier": "\"True\"",
          "X": -8.500000000000005,
          "Y": 6.437669090883507
         },
         {
          "Outlier": "\"True\"",
          "X": -8.400000000000006,
          "Y": -37.03228429479993
         },
         {
          "Outlier": "\"True\"",
          "X": -8.300000000000006,
          "Y": 13.11298520672979
         },
         {
          "Outlier": "\"False\"",
          "X": -8.200000000000006,
          "Y": 23.38808489858207
         },
         {
          "Outlier": "\"True\"",
          "X": -8.100000000000007,
          "Y": 11.824928463235018
         },
         {
          "Outlier": "\"False\"",
          "X": -8.000000000000007,
          "Y": 23.442573379452057
         },
         {
          "Outlier": "\"True\"",
          "X": -7.9000000000000075,
          "Y": 29.057062960826705
         },
         {
          "Outlier": "\"False\"",
          "X": -7.800000000000008,
          "Y": 22.567508920540522
         },
         {
          "Outlier": "\"True\"",
          "X": -7.700000000000008,
          "Y": 8.660181503529154
         },
         {
          "Outlier": "\"False\"",
          "X": -7.6000000000000085,
          "Y": 19.25862039466749
         },
         {
          "Outlier": "\"True\"",
          "X": -7.500000000000009,
          "Y": 0.3644817992929184
         },
         {
          "Outlier": "\"True\"",
          "X": -7.400000000000009,
          "Y": -21.224596735432097
         },
         {
          "Outlier": "\"True\"",
          "X": -7.30000000000001,
          "Y": -5.08262280552811
         },
         {
          "Outlier": "\"True\"",
          "X": -7.20000000000001,
          "Y": -22.40271677868227
         },
         {
          "Outlier": "\"False\"",
          "X": -7.10000000000001,
          "Y": 27.315599934341897
         },
         {
          "Outlier": "\"True\"",
          "X": -7.000000000000011,
          "Y": 40.6554142943223
         },
         {
          "Outlier": "\"True\"",
          "X": -6.900000000000011,
          "Y": 0.7924834976117429
         },
         {
          "Outlier": "\"True\"",
          "X": -6.800000000000011,
          "Y": -3.0689825793534142
         },
         {
          "Outlier": "\"True\"",
          "X": -6.700000000000012,
          "Y": 2.0777625946734073
         },
         {
          "Outlier": "\"False\"",
          "X": -6.600000000000012,
          "Y": 16.360935345131573
         },
         {
          "Outlier": "\"True\"",
          "X": -6.500000000000012,
          "Y": 4.46724475614298
         },
         {
          "Outlier": "\"True\"",
          "X": -6.400000000000013,
          "Y": -1.5461624315036717
         },
         {
          "Outlier": "\"True\"",
          "X": -6.300000000000013,
          "Y": 24.71362894119821
         },
         {
          "Outlier": "\"True\"",
          "X": -6.2000000000000135,
          "Y": 42.412216707046596
         },
         {
          "Outlier": "\"False\"",
          "X": -6.100000000000014,
          "Y": 19.25819017706044
         },
         {
          "Outlier": "\"False\"",
          "X": -6.000000000000014,
          "Y": 13.924560064643464
         },
         {
          "Outlier": "\"False\"",
          "X": -5.900000000000015,
          "Y": 16.44450463396404
         },
         {
          "Outlier": "\"False\"",
          "X": -5.800000000000015,
          "Y": 20.22565144666506
         },
         {
          "Outlier": "\"True\"",
          "X": -5.700000000000015,
          "Y": 4.130260844964003
         },
         {
          "Outlier": "\"False\"",
          "X": -5.600000000000016,
          "Y": 13.920685536449982
         },
         {
          "Outlier": "\"True\"",
          "X": -5.500000000000016,
          "Y": 19.404328857643684
         },
         {
          "Outlier": "\"False\"",
          "X": -5.400000000000016,
          "Y": 11.591361762658316
         },
         {
          "Outlier": "\"False\"",
          "X": -5.300000000000017,
          "Y": 21.716931658828592
         },
         {
          "Outlier": "\"True\"",
          "X": -5.200000000000017,
          "Y": -14.86585011237548
         },
         {
          "Outlier": "\"True\"",
          "X": -5.100000000000017,
          "Y": -27.7443807834266
         },
         {
          "Outlier": "\"False\"",
          "X": -5.000000000000018,
          "Y": 17.665401268686168
         },
         {
          "Outlier": "\"False\"",
          "X": -4.900000000000018,
          "Y": 22.498750208363987
         },
         {
          "Outlier": "\"False\"",
          "X": -4.8000000000000185,
          "Y": 11.477829247049517
         },
         {
          "Outlier": "\"True\"",
          "X": -4.700000000000019,
          "Y": -2.236758643252085
         },
         {
          "Outlier": "\"True\"",
          "X": -4.600000000000019,
          "Y": 25.095015724308034
         },
         {
          "Outlier": "\"True\"",
          "X": -4.5000000000000195,
          "Y": 17.18991809253406
         },
         {
          "Outlier": "\"True\"",
          "X": -4.40000000000002,
          "Y": -24.744360068281004
         },
         {
          "Outlier": "\"True\"",
          "X": -4.30000000000002,
          "Y": -7.931801457689884
         },
         {
          "Outlier": "\"False\"",
          "X": -4.200000000000021,
          "Y": 10.813897350066041
         },
         {
          "Outlier": "\"False\"",
          "X": -4.100000000000021,
          "Y": 14.36412464187282
         },
         {
          "Outlier": "\"False\"",
          "X": -4.000000000000021,
          "Y": 10.048413936752135
         },
         {
          "Outlier": "\"True\"",
          "X": -3.9000000000000217,
          "Y": -7.806116027860427
         },
         {
          "Outlier": "\"False\"",
          "X": -3.800000000000022,
          "Y": 15.513453565319507
         },
         {
          "Outlier": "\"False\"",
          "X": -3.7000000000000224,
          "Y": 13.87073636869106
         },
         {
          "Outlier": "\"False\"",
          "X": -3.6000000000000227,
          "Y": 11.46674012488362
         },
         {
          "Outlier": "\"False\"",
          "X": -3.500000000000023,
          "Y": 16.059440743337102
         },
         {
          "Outlier": "\"False\"",
          "X": -3.4000000000000234,
          "Y": 15.293100956976737
         },
         {
          "Outlier": "\"False\"",
          "X": -3.300000000000024,
          "Y": 21.84763262761431
         },
         {
          "Outlier": "\"True\"",
          "X": -3.200000000000024,
          "Y": -0.36221408177898484
         },
         {
          "Outlier": "\"False\"",
          "X": -3.1000000000000245,
          "Y": 15.693632661329104
         },
         {
          "Outlier": "\"True\"",
          "X": -3.000000000000025,
          "Y": -6.3470305289160835
         },
         {
          "Outlier": "\"True\"",
          "X": -2.9000000000000252,
          "Y": 10.805876165134304
         },
         {
          "Outlier": "\"True\"",
          "X": -2.8000000000000256,
          "Y": 43.073138049536766
         },
         {
          "Outlier": "\"False\"",
          "X": -2.700000000000026,
          "Y": 16.743971720184916
         },
         {
          "Outlier": "\"True\"",
          "X": -2.6000000000000263,
          "Y": 20.17816530884579
         },
         {
          "Outlier": "\"False\"",
          "X": -2.5000000000000266,
          "Y": 10.185237062991554
         },
         {
          "Outlier": "\"True\"",
          "X": -2.400000000000027,
          "Y": 24.67140741709269
         },
         {
          "Outlier": "\"True\"",
          "X": -2.3000000000000274,
          "Y": 3.7143759689601357
         },
         {
          "Outlier": "\"False\"",
          "X": -2.2000000000000277,
          "Y": 6.083699392485441
         },
         {
          "Outlier": "\"False\"",
          "X": -2.100000000000028,
          "Y": 6.832165636012283
         },
         {
          "Outlier": "\"True\"",
          "X": -2.0000000000000284,
          "Y": 14.405714990070868
         },
         {
          "Outlier": "\"False\"",
          "X": -1.9000000000000288,
          "Y": 11.188926560244449
         },
         {
          "Outlier": "\"True\"",
          "X": -1.8000000000000291,
          "Y": 25.768223310681986
         },
         {
          "Outlier": "\"True\"",
          "X": -1.7000000000000295,
          "Y": -37.59090989382119
         },
         {
          "Outlier": "\"True\"",
          "X": -1.6000000000000298,
          "Y": 23.64144553913516
         },
         {
          "Outlier": "\"True\"",
          "X": -1.5000000000000302,
          "Y": -8.576305123038889
         },
         {
          "Outlier": "\"False\"",
          "X": -1.4000000000000306,
          "Y": -3.413990873751257
         },
         {
          "Outlier": "\"False\"",
          "X": -1.300000000000031,
          "Y": 5.764515053668303
         },
         {
          "Outlier": "\"True\"",
          "X": -1.2000000000000313,
          "Y": -4.881619552621354
         },
         {
          "Outlier": "\"False\"",
          "X": -1.1000000000000316,
          "Y": 5.6052889213735035
         },
         {
          "Outlier": "\"False\"",
          "X": -1.000000000000032,
          "Y": 4.303828323139834
         },
         {
          "Outlier": "\"True\"",
          "X": -0.9000000000000323,
          "Y": -31.588506775217645
         },
         {
          "Outlier": "\"True\"",
          "X": -0.8000000000000327,
          "Y": -4.276114964288603
         },
         {
          "Outlier": "\"False\"",
          "X": -0.700000000000033,
          "Y": 4.535423923547052
         },
         {
          "Outlier": "\"True\"",
          "X": -0.6000000000000334,
          "Y": 24.61942267029316
         },
         {
          "Outlier": "\"True\"",
          "X": -0.5000000000000338,
          "Y": -17.830933767956402
         },
         {
          "Outlier": "\"False\"",
          "X": -0.4000000000000341,
          "Y": -1.7450293908309056
         },
         {
          "Outlier": "\"False\"",
          "X": -0.30000000000003446,
          "Y": 3.3108205257662364
         },
         {
          "Outlier": "\"False\"",
          "X": -0.20000000000003482,
          "Y": 0.7651432133855662
         },
         {
          "Outlier": "\"True\"",
          "X": -0.10000000000003517,
          "Y": -11.881720947448017
         },
         {
          "Outlier": "\"True\"",
          "X": -3.552713678800501e-14,
          "Y": 15.275164463456829
         },
         {
          "Outlier": "\"False\"",
          "X": 0.09999999999996412,
          "Y": 2.6322100577194067
         },
         {
          "Outlier": "\"False\"",
          "X": 0.19999999999996376,
          "Y": 4.898150793977379
         },
         {
          "Outlier": "\"True\"",
          "X": 0.2999999999999634,
          "Y": 17.70645751790601
         },
         {
          "Outlier": "\"False\"",
          "X": 0.39999999999996305,
          "Y": 8.552044532855996
         },
         {
          "Outlier": "\"True\"",
          "X": 0.4999999999999627,
          "Y": 21.884620845377007
         },
         {
          "Outlier": "\"True\"",
          "X": 0.5999999999999623,
          "Y": 9.545267231818897
         },
         {
          "Outlier": "\"False\"",
          "X": 0.699999999999962,
          "Y": 2.2310373255180265
         },
         {
          "Outlier": "\"False\"",
          "X": 0.7999999999999616,
          "Y": 6.8744523688958274
         },
         {
          "Outlier": "\"False\"",
          "X": 0.8999999999999613,
          "Y": -1.783436689012548
         },
         {
          "Outlier": "\"False\"",
          "X": 0.9999999999999609,
          "Y": 4.47640686579331
         },
         {
          "Outlier": "\"False\"",
          "X": 1.0999999999999606,
          "Y": -2.229919825404161
         },
         {
          "Outlier": "\"True\"",
          "X": 1.1999999999999602,
          "Y": -1.6888315159113967
         },
         {
          "Outlier": "\"True\"",
          "X": 1.2999999999999599,
          "Y": -26.34560770532998
         },
         {
          "Outlier": "\"True\"",
          "X": 1.3999999999999595,
          "Y": 7.322340575226373
         },
         {
          "Outlier": "\"True\"",
          "X": 1.4999999999999591,
          "Y": 1.9729072168157065
         },
         {
          "Outlier": "\"False\"",
          "X": 1.5999999999999588,
          "Y": 1.513234082565413
         },
         {
          "Outlier": "\"True\"",
          "X": 1.6999999999999584,
          "Y": 13.227480313783765
         },
         {
          "Outlier": "\"True\"",
          "X": 1.799999999999958,
          "Y": 12.226379085662112
         },
         {
          "Outlier": "\"False\"",
          "X": 1.8999999999999577,
          "Y": 2.850573235675812
         },
         {
          "Outlier": "\"False\"",
          "X": 1.9999999999999574,
          "Y": -6.392989857152452
         },
         {
          "Outlier": "\"False\"",
          "X": 2.099999999999957,
          "Y": -5.3213737430909305
         },
         {
          "Outlier": "\"True\"",
          "X": 2.1999999999999567,
          "Y": 0.41427397930309406
         },
         {
          "Outlier": "\"False\"",
          "X": 2.2999999999999563,
          "Y": -5.750652275493272
         },
         {
          "Outlier": "\"False\"",
          "X": 2.399999999999956,
          "Y": 4.340182272052314
         },
         {
          "Outlier": "\"True\"",
          "X": 2.4999999999999556,
          "Y": 4.7901246139126625
         },
         {
          "Outlier": "\"False\"",
          "X": 2.5999999999999552,
          "Y": -11.012677316789915
         },
         {
          "Outlier": "\"False\"",
          "X": 2.699999999999955,
          "Y": -2.5092360333006916
         },
         {
          "Outlier": "\"False\"",
          "X": 2.7999999999999545,
          "Y": -9.854893391572105
         },
         {
          "Outlier": "\"True\"",
          "X": 2.899999999999954,
          "Y": -28.61214419700161
         },
         {
          "Outlier": "\"True\"",
          "X": 2.999999999999954,
          "Y": 8.248524918035386
         },
         {
          "Outlier": "\"True\"",
          "X": 3.0999999999999535,
          "Y": -3.622542781911439
         },
         {
          "Outlier": "\"True\"",
          "X": 3.199999999999953,
          "Y": 4.494708619120168
         },
         {
          "Outlier": "\"True\"",
          "X": 3.2999999999999527,
          "Y": 3.860145108336754
         },
         {
          "Outlier": "\"False\"",
          "X": 3.3999999999999524,
          "Y": -4.0035470084411795
         },
         {
          "Outlier": "\"False\"",
          "X": 3.499999999999952,
          "Y": -11.04990869937726
         },
         {
          "Outlier": "\"True\"",
          "X": 3.5999999999999517,
          "Y": -35.32932042223501
         },
         {
          "Outlier": "\"True\"",
          "X": 3.6999999999999513,
          "Y": 11.866841248128683
         },
         {
          "Outlier": "\"False\"",
          "X": 3.799999999999951,
          "Y": -10.162451780099051
         },
         {
          "Outlier": "\"True\"",
          "X": 3.8999999999999506,
          "Y": 9.661220540277904
         },
         {
          "Outlier": "\"False\"",
          "X": 3.9999999999999503,
          "Y": -10.73292544867606
         },
         {
          "Outlier": "\"False\"",
          "X": 4.09999999999995,
          "Y": -18.550653995894045
         },
         {
          "Outlier": "\"False\"",
          "X": 4.1999999999999496,
          "Y": -14.52608532847757
         },
         {
          "Outlier": "\"True\"",
          "X": 4.299999999999949,
          "Y": 21.41545900080303
         },
         {
          "Outlier": "\"True\"",
          "X": 4.399999999999949,
          "Y": 41.510023167064915
         },
         {
          "Outlier": "\"False\"",
          "X": 4.4999999999999485,
          "Y": -10.944888800178278
         },
         {
          "Outlier": "\"True\"",
          "X": 4.599999999999948,
          "Y": -17.678231065336824
         },
         {
          "Outlier": "\"True\"",
          "X": 4.699999999999948,
          "Y": -18.253167364985977
         },
         {
          "Outlier": "\"False\"",
          "X": 4.799999999999947,
          "Y": -10.446879435653443
         },
         {
          "Outlier": "\"True\"",
          "X": 4.899999999999947,
          "Y": -4.690038562027151
         },
         {
          "Outlier": "\"False\"",
          "X": 4.999999999999947,
          "Y": -5.757921683446889
         },
         {
          "Outlier": "\"True\"",
          "X": 5.099999999999946,
          "Y": 8.693733167616339
         },
         {
          "Outlier": "\"False\"",
          "X": 5.199999999999946,
          "Y": -12.216077387002828
         },
         {
          "Outlier": "\"True\"",
          "X": 5.299999999999946,
          "Y": 1.6720822524528287
         },
         {
          "Outlier": "\"False\"",
          "X": 5.399999999999945,
          "Y": -14.464965977547303
         },
         {
          "Outlier": "\"False\"",
          "X": 5.499999999999945,
          "Y": -12.869809983276069
         },
         {
          "Outlier": "\"True\"",
          "X": 5.599999999999945,
          "Y": 34.62535634020814
         },
         {
          "Outlier": "\"True\"",
          "X": 5.699999999999944,
          "Y": 39.28048699796905
         },
         {
          "Outlier": "\"True\"",
          "X": 5.799999999999944,
          "Y": -18.522573806115407
         },
         {
          "Outlier": "\"True\"",
          "X": 5.8999999999999435,
          "Y": 2.8254226810055205
         },
         {
          "Outlier": "\"True\"",
          "X": 5.999999999999943,
          "Y": -7.598929518634544
         },
         {
          "Outlier": "\"False\"",
          "X": 6.099999999999945,
          "Y": -17.140071943688035
         },
         {
          "Outlier": "\"False\"",
          "X": 6.1999999999999424,
          "Y": -21.78017043908215
         },
         {
          "Outlier": "\"True\"",
          "X": 6.29999999999994,
          "Y": 8.34770023404953
         },
         {
          "Outlier": "\"True\"",
          "X": 6.399999999999942,
          "Y": 2.6439493039811115
         },
         {
          "Outlier": "\"False\"",
          "X": 6.499999999999943,
          "Y": -20.126788491353174
         },
         {
          "Outlier": "\"True\"",
          "X": 6.599999999999941,
          "Y": -15.051462287577962
         },
         {
          "Outlier": "\"True\"",
          "X": 6.699999999999939,
          "Y": 4.3207686658048425
         },
         {
          "Outlier": "\"True\"",
          "X": 6.79999999999994,
          "Y": -8.60953644756132
         },
         {
          "Outlier": "\"False\"",
          "X": 6.899999999999942,
          "Y": -9.408044612231928
         },
         {
          "Outlier": "\"False\"",
          "X": 6.99999999999994,
          "Y": -19.056725876851928
         },
         {
          "Outlier": "\"False\"",
          "X": 7.0999999999999375,
          "Y": -20.094495666483716
         },
         {
          "Outlier": "\"True\"",
          "X": 7.199999999999939,
          "Y": -0.40330975452223106
         },
         {
          "Outlier": "\"True\"",
          "X": 7.29999999999994,
          "Y": -48.28017130034681
         },
         {
          "Outlier": "\"False\"",
          "X": 7.399999999999938,
          "Y": -19.705987406023656
         },
         {
          "Outlier": "\"True\"",
          "X": 7.499999999999936,
          "Y": -27.496292304878267
         },
         {
          "Outlier": "\"False\"",
          "X": 7.5999999999999375,
          "Y": -18.884286907276728
         },
         {
          "Outlier": "\"False\"",
          "X": 7.699999999999939,
          "Y": -22.442972670784375
         },
         {
          "Outlier": "\"True\"",
          "X": 7.799999999999937,
          "Y": 6.610475555129508
         },
         {
          "Outlier": "\"False\"",
          "X": 7.899999999999935,
          "Y": -28.406701583023757
         },
         {
          "Outlier": "\"True\"",
          "X": 7.999999999999936,
          "Y": 10.913894309977062
         },
         {
          "Outlier": "\"True\"",
          "X": 8.099999999999937,
          "Y": 22.467791024883127
         },
         {
          "Outlier": "\"True\"",
          "X": 8.199999999999935,
          "Y": 12.316122841847735
         },
         {
          "Outlier": "\"False\"",
          "X": 8.299999999999933,
          "Y": -18.61774741315339
         },
         {
          "Outlier": "\"False\"",
          "X": 8.399999999999935,
          "Y": -29.49760626562651
         },
         {
          "Outlier": "\"True\"",
          "X": 8.499999999999936,
          "Y": -25.738038864954476
         },
         {
          "Outlier": "\"False\"",
          "X": 8.599999999999934,
          "Y": -17.85703560203325
         },
         {
          "Outlier": "\"True\"",
          "X": 8.699999999999932,
          "Y": -9.172720756633
         },
         {
          "Outlier": "\"False\"",
          "X": 8.799999999999933,
          "Y": -20.500224282886077
         },
         {
          "Outlier": "\"False\"",
          "X": 8.899999999999935,
          "Y": -27.955994289017063
         },
         {
          "Outlier": "\"False\"",
          "X": 8.999999999999932,
          "Y": -23.309509588194302
         },
         {
          "Outlier": "\"True\"",
          "X": 9.09999999999993,
          "Y": 31.120217815149882
         },
         {
          "Outlier": "\"False\"",
          "X": 9.199999999999932,
          "Y": -24.086143061403874
         },
         {
          "Outlier": "\"False\"",
          "X": 9.299999999999933,
          "Y": -21.7596596113579
         },
         {
          "Outlier": "\"True\"",
          "X": 9.399999999999931,
          "Y": 1.3453810777338207
         },
         {
          "Outlier": "\"True\"",
          "X": 9.499999999999929,
          "Y": 30.106740007028108
         },
         {
          "Outlier": "\"True\"",
          "X": 9.59999999999993,
          "Y": -8.245762291377288
         },
         {
          "Outlier": "\"False\"",
          "X": 9.699999999999932,
          "Y": -29.313469546701562
         },
         {
          "Outlier": "\"False\"",
          "X": 9.79999999999993,
          "Y": -27.209848874368774
         },
         {
          "Outlier": "\"True\"",
          "X": 9.899999999999928,
          "Y": 7.612568009425738
         },
         {
          "Outlier": "\"True\"",
          "X": 9.999999999999929,
          "Y": -13.529703374498748
         }
        ]
       },
       "encoding": {
        "color": {
         "field": "Outlier"
        },
        "x": {
         "field": "X",
         "type": "quantitative"
        },
        "y": {
         "field": "Y",
         "type": "quantitative"
        }
       },
       "height": 400,
       "mark": "circle",
       "width": 400
      },
      "image/png": "[encoded data removed]"
     },
     "metadata": {},
     "output_type": "display_data"
    }
   ],
   "source": [
    "range = [-10,-9.9..10] :: [Double]\n",
    "samples <- sampleIOfixed $ regressionWithOutliersData range\n",
    "plot (fmap (second (T.pack . show)) samples)\n"
   ]
  },
  {
   "cell_type": "markdown",
   "metadata": {},
   "source": [
    "<!-- This is our dataset, with outliers shown in orange.\n",
    "\n",
    "Given this dataset of $(x,y)$ pairs, we now consider the problem of inference. That is, we want to infer the slope, bias, noise and *for each datapoint*, whether it's an outlier.\n",
    "\n",
    "Our first attempt will be to average a large number of samples, weighted by how likely they are. TODO: add the conditioning\n",
    " -->"
   ]
  },
  {
   "cell_type": "markdown",
   "metadata": {},
   "source": [
    "<!-- Why did this result in a bad guess? Simply because there are so many more bad guesses than good ones, so that even if you weight the good guesses higher, if you have almost none, then it doesn't matter.\n",
    "\n",
    "The classic solution to this problem (the solution space is too large for independent sampling) is to use a Markov Chain method, where each sample depends on the last. You can do so in a clever way, to obtain unbiased samples from the true posterior distribution in the limit of a sufficiently long chain. Monad-bayes implements the standard Markov Chain Monte Carlo approach with Metropolis Hastings transitions.\n",
    "\n",
    "Here's how it goes: -->"
   ]
  },
  {
   "cell_type": "code",
   "execution_count": 10,
   "metadata": {},
   "outputs": [],
   "source": [
    "regressionWithOutliers :: (MonadMeasure m) =>\n",
    "    [Double] -> [Double] -> m ((Double, Double, Double, Double), [Bool])\n",
    "regressionWithOutliers xs ys = do\n",
    "    params <- paramPrior\n",
    "    \n",
    "    outliers <- forM (zip xs ys) \\(x, y) -> do\n",
    "        ((mu, std), isOutlier) <- forward params x\n",
    "        factor $ normalPdf mu std y\n",
    "        return isOutlier\n",
    "    return (params, outliers)"
   ]
  },
  {
   "cell_type": "code",
   "execution_count": 11,
   "metadata": {},
   "outputs": [
    {
     "data": {
      "text/plain": []
     },
     "metadata": {},
     "output_type": "display_data"
    }
   ],
   "source": [
    "\n",
    "mhRuns <- sampleIOfixed $ unweighted $ mcmc mcmcConfig $ regressionWithOutliers range (snd . fst <$> samples)\n"
   ]
  },
  {
   "cell_type": "code",
   "execution_count": 12,
   "metadata": {},
   "outputs": [
    {
     "data": {
      "text/html": [
       "<style>/* Styles used for the Hoogle display in the pager */\n",
       ".hoogle-doc {\n",
       "display: block;\n",
       "padding-bottom: 1.3em;\n",
       "padding-left: 0.4em;\n",
       "}\n",
       ".hoogle-code {\n",
       "display: block;\n",
       "font-family: monospace;\n",
       "white-space: pre;\n",
       "}\n",
       ".hoogle-text {\n",
       "display: block;\n",
       "}\n",
       ".hoogle-name {\n",
       "color: green;\n",
       "font-weight: bold;\n",
       "}\n",
       ".hoogle-head {\n",
       "font-weight: bold;\n",
       "}\n",
       ".hoogle-sub {\n",
       "display: block;\n",
       "margin-left: 0.4em;\n",
       "}\n",
       ".hoogle-package {\n",
       "font-weight: bold;\n",
       "font-style: italic;\n",
       "}\n",
       ".hoogle-module {\n",
       "font-weight: bold;\n",
       "}\n",
       ".hoogle-class {\n",
       "font-weight: bold;\n",
       "}\n",
       ".get-type {\n",
       "color: green;\n",
       "font-weight: bold;\n",
       "font-family: monospace;\n",
       "display: block;\n",
       "white-space: pre-wrap;\n",
       "}\n",
       ".show-type {\n",
       "color: green;\n",
       "font-weight: bold;\n",
       "font-family: monospace;\n",
       "margin-left: 1em;\n",
       "}\n",
       ".mono {\n",
       "font-family: monospace;\n",
       "display: block;\n",
       "}\n",
       ".err-msg {\n",
       "color: red;\n",
       "font-style: italic;\n",
       "font-family: monospace;\n",
       "white-space: pre;\n",
       "display: block;\n",
       "}\n",
       "#unshowable {\n",
       "color: red;\n",
       "font-weight: bold;\n",
       "}\n",
       ".err-msg.in.collapse {\n",
       "padding-top: 0.7em;\n",
       "}\n",
       ".highlight-code {\n",
       "white-space: pre;\n",
       "font-family: monospace;\n",
       "}\n",
       ".suggestion-warning { \n",
       "font-weight: bold;\n",
       "color: rgb(200, 130, 0);\n",
       "}\n",
       ".suggestion-error { \n",
       "font-weight: bold;\n",
       "color: red;\n",
       "}\n",
       ".suggestion-name {\n",
       "font-weight: bold;\n",
       "}\n",
       "</style><div class=\"suggestion-name\" style=\"clear:both;\">Redundant bracket</div><div class=\"suggestion-row\" style=\"float: left;\"><div class=\"suggestion-warning\">Found:</div><div class=\"highlight-code\" id=\"haskell\">(foldr\n",
       "   \\ (_, lb) li\n",
       "     -> [if b then (num1 + 1, num2) else (num1, num2 + 1) |\n",
       "           (b, (num1, num2)) <- zip lb li])\n",
       "  (Prelude.repeat (0, 0))</div></div><div class=\"suggestion-row\" style=\"float: left;\"><div class=\"suggestion-warning\">Why Not:</div><div class=\"highlight-code\" id=\"haskell\">foldr\n",
       "  \\ (_, lb) li\n",
       "    -> [if b then (num1 + 1, num2) else (num1, num2 + 1) |\n",
       "          (b, (num1, num2)) <- zip lb li]\n",
       "  (Prelude.repeat (0, 0))</div></div>"
      ],
      "text/plain": [
       "Line 4: Redundant bracket\n",
       "Found:\n",
       "(foldr\n",
       "   \\ (_, lb) li\n",
       "     -> [if b then (num1 + 1, num2) else (num1, num2 + 1) |\n",
       "           (b, (num1, num2)) <- zip lb li])\n",
       "  (Prelude.repeat (0, 0))\n",
       "Why not:\n",
       "foldr\n",
       "  \\ (_, lb) li\n",
       "    -> [if b then (num1 + 1, num2) else (num1, num2 + 1) |\n",
       "          (b, (num1, num2)) <- zip lb li]\n",
       "  (Prelude.repeat (0, 0))"
      ]
     },
     "metadata": {},
     "output_type": "display_data"
    }
   ],
   "source": [
    "\n",
    "\n",
    "outlierProb s = (\\(x, y) ->  x / (x+y) )\n",
    "        <$> (foldr\n",
    "    \\(_,lb) li -> \n",
    "        [ if b then (num1+1, num2) else (num1,num2+1) | (b,(num1, num2)) <- zip lb li])\n",
    "    (Prelude.repeat (0,0)) s\n"
   ]
  },
  {
   "cell_type": "code",
   "execution_count": 13,
   "metadata": {},
   "outputs": [
    {
     "data": {
      "application/vnd.vegalite.v4+json": {
       "$schema": "https://vega.github.io/schema/vega-lite/v4.json",
       "data": {
        "values": [
         {
          "Outlier": 1,
          "X": -10,
          "Y": 30.14316922289284
         },
         {
          "Outlier": 1,
          "X": -9.9,
          "Y": -0.26284958638081857
         },
         {
          "Outlier": 0.7544910179640718,
          "X": -9.8,
          "Y": 23.786459587439385
         },
         {
          "Outlier": 1,
          "X": -9.700000000000001,
          "Y": -68.99193947945726
         },
         {
          "Outlier": 1,
          "X": -9.600000000000001,
          "Y": -8.043397861176732
         },
         {
          "Outlier": 0,
          "X": -9.500000000000002,
          "Y": 31.37356835946967
         },
         {
          "Outlier": 0.11776447105788423,
          "X": -9.400000000000002,
          "Y": -23.81048273352878
         },
         {
          "Outlier": 0.6926147704590818,
          "X": -9.300000000000002,
          "Y": 22.735033981928762
         },
         {
          "Outlier": 0.09780439121756487,
          "X": -9.200000000000003,
          "Y": 23.375038991852755
         },
         {
          "Outlier": 0,
          "X": -9.100000000000003,
          "Y": 27.169089429019078
         },
         {
          "Outlier": 0,
          "X": -9.000000000000004,
          "Y": 24.42143345836998
         },
         {
          "Outlier": 0,
          "X": -8.900000000000004,
          "Y": 24.425641978269297
         },
         {
          "Outlier": 0,
          "X": -8.800000000000004,
          "Y": 30.050736689827513
         },
         {
          "Outlier": 0.4810379241516966,
          "X": -8.700000000000005,
          "Y": 18.278561094651828
         },
         {
          "Outlier": 0,
          "X": -8.600000000000005,
          "Y": 30.770220409890687
         },
         {
          "Outlier": 1,
          "X": -8.500000000000005,
          "Y": 6.437669090883507
         },
         {
          "Outlier": 1,
          "X": -8.400000000000006,
          "Y": -37.03228429479993
         },
         {
          "Outlier": 1,
          "X": -8.300000000000006,
          "Y": 13.11298520672979
         },
         {
          "Outlier": 0.09181636726546906,
          "X": -8.200000000000006,
          "Y": 23.38808489858207
         },
         {
          "Outlier": 0,
          "X": -8.100000000000007,
          "Y": 11.824928463235018
         },
         {
          "Outlier": 0,
          "X": -8.000000000000007,
          "Y": 23.442573379452057
         },
         {
          "Outlier": 0,
          "X": -7.9000000000000075,
          "Y": 29.057062960826705
         },
         {
          "Outlier": 0,
          "X": -7.800000000000008,
          "Y": 22.567508920540522
         },
         {
          "Outlier": 1,
          "X": -7.700000000000008,
          "Y": 8.660181503529154
         },
         {
          "Outlier": 0,
          "X": -7.6000000000000085,
          "Y": 19.25862039466749
         },
         {
          "Outlier": 1,
          "X": -7.500000000000009,
          "Y": 0.3644817992929184
         },
         {
          "Outlier": 1,
          "X": -7.400000000000009,
          "Y": -21.224596735432097
         },
         {
          "Outlier": 0.9161676646706587,
          "X": -7.30000000000001,
          "Y": -5.08262280552811
         },
         {
          "Outlier": 0.8942115768463074,
          "X": -7.20000000000001,
          "Y": -22.40271677868227
         },
         {
          "Outlier": 0,
          "X": -7.10000000000001,
          "Y": 27.315599934341897
         },
         {
          "Outlier": 0,
          "X": -7.000000000000011,
          "Y": 40.6554142943223
         },
         {
          "Outlier": 0,
          "X": -6.900000000000011,
          "Y": 0.7924834976117429
         },
         {
          "Outlier": 0.7485029940119761,
          "X": -6.800000000000011,
          "Y": -3.0689825793534142
         },
         {
          "Outlier": 0,
          "X": -6.700000000000012,
          "Y": 2.0777625946734073
         },
         {
          "Outlier": 1,
          "X": -6.600000000000012,
          "Y": 16.360935345131573
         },
         {
          "Outlier": 0.4810379241516966,
          "X": -6.500000000000012,
          "Y": 4.46724475614298
         },
         {
          "Outlier": 1,
          "X": -6.400000000000013,
          "Y": -1.5461624315036717
         },
         {
          "Outlier": 0.4810379241516966,
          "X": -6.300000000000013,
          "Y": 24.71362894119821
         },
         {
          "Outlier": 1,
          "X": -6.2000000000000135,
          "Y": 42.412216707046596
         },
         {
          "Outlier": 0.34530938123752497,
          "X": -6.100000000000014,
          "Y": 19.25819017706044
         },
         {
          "Outlier": 0.47704590818363274,
          "X": -6.000000000000014,
          "Y": 13.924560064643464
         },
         {
          "Outlier": 0,
          "X": -5.900000000000015,
          "Y": 16.44450463396404
         },
         {
          "Outlier": 0,
          "X": -5.800000000000015,
          "Y": 20.22565144666506
         },
         {
          "Outlier": 0.35528942115768464,
          "X": -5.700000000000015,
          "Y": 4.130260844964003
         },
         {
          "Outlier": 0,
          "X": -5.600000000000016,
          "Y": 13.920685536449982
         },
         {
          "Outlier": 0,
          "X": -5.500000000000016,
          "Y": 19.404328857643684
         },
         {
          "Outlier": 0.06986027944111776,
          "X": -5.400000000000016,
          "Y": 11.591361762658316
         },
         {
          "Outlier": 0,
          "X": -5.300000000000017,
          "Y": 21.716931658828592
         },
         {
          "Outlier": 0,
          "X": -5.200000000000017,
          "Y": -14.86585011237548
         },
         {
          "Outlier": 1,
          "X": -5.100000000000017,
          "Y": -27.7443807834266
         },
         {
          "Outlier": 0,
          "X": -5.000000000000018,
          "Y": 17.665401268686168
         },
         {
          "Outlier": 0,
          "X": -4.900000000000018,
          "Y": 22.498750208363987
         },
         {
          "Outlier": 0,
          "X": -4.8000000000000185,
          "Y": 11.477829247049517
         },
         {
          "Outlier": 0,
          "X": -4.700000000000019,
          "Y": -2.236758643252085
         },
         {
          "Outlier": 0.4111776447105788,
          "X": -4.600000000000019,
          "Y": 25.095015724308034
         },
         {
          "Outlier": 0,
          "X": -4.5000000000000195,
          "Y": 17.18991809253406
         },
         {
          "Outlier": 1,
          "X": -4.40000000000002,
          "Y": -24.744360068281004
         },
         {
          "Outlier": 0,
          "X": -4.30000000000002,
          "Y": -7.931801457689884
         },
         {
          "Outlier": 0.4431137724550898,
          "X": -4.200000000000021,
          "Y": 10.813897350066041
         },
         {
          "Outlier": 0.2994011976047904,
          "X": -4.100000000000021,
          "Y": 14.36412464187282
         },
         {
          "Outlier": 0,
          "X": -4.000000000000021,
          "Y": 10.048413936752135
         },
         {
          "Outlier": 1,
          "X": -3.9000000000000217,
          "Y": -7.806116027860427
         },
         {
          "Outlier": 0,
          "X": -3.800000000000022,
          "Y": 15.513453565319507
         },
         {
          "Outlier": 0,
          "X": -3.7000000000000224,
          "Y": 13.87073636869106
         },
         {
          "Outlier": 0.0998003992015968,
          "X": -3.6000000000000227,
          "Y": 11.46674012488362
         },
         {
          "Outlier": 0.07385229540918163,
          "X": -3.500000000000023,
          "Y": 16.059440743337102
         },
         {
          "Outlier": 0,
          "X": -3.4000000000000234,
          "Y": 15.293100956976737
         },
         {
          "Outlier": 0.5249500998003992,
          "X": -3.300000000000024,
          "Y": 21.84763262761431
         },
         {
          "Outlier": 0,
          "X": -3.200000000000024,
          "Y": -0.36221408177898484
         },
         {
          "Outlier": 0,
          "X": -3.1000000000000245,
          "Y": 15.693632661329104
         },
         {
          "Outlier": 1,
          "X": -3.000000000000025,
          "Y": -6.3470305289160835
         },
         {
          "Outlier": 0.3932135728542914,
          "X": -2.9000000000000252,
          "Y": 10.805876165134304
         },
         {
          "Outlier": 0,
          "X": -2.8000000000000256,
          "Y": 43.073138049536766
         },
         {
          "Outlier": 0.23552894211576847,
          "X": -2.700000000000026,
          "Y": 16.743971720184916
         },
         {
          "Outlier": 0,
          "X": -2.6000000000000263,
          "Y": 20.17816530884579
         },
         {
          "Outlier": 0,
          "X": -2.5000000000000266,
          "Y": 10.185237062991554
         },
         {
          "Outlier": 0,
          "X": -2.400000000000027,
          "Y": 24.67140741709269
         },
         {
          "Outlier": 0,
          "X": -2.3000000000000274,
          "Y": 3.7143759689601357
         },
         {
          "Outlier": 0,
          "X": -2.2000000000000277,
          "Y": 6.083699392485441
         },
         {
          "Outlier": 0,
          "X": -2.100000000000028,
          "Y": 6.832165636012283
         },
         {
          "Outlier": 0,
          "X": -2.0000000000000284,
          "Y": 14.405714990070868
         },
         {
          "Outlier": 0.29740518962075846,
          "X": -1.9000000000000288,
          "Y": 11.188926560244449
         },
         {
          "Outlier": 1,
          "X": -1.8000000000000291,
          "Y": 25.768223310681986
         },
         {
          "Outlier": 1,
          "X": -1.7000000000000295,
          "Y": -37.59090989382119
         },
         {
          "Outlier": 0,
          "X": -1.6000000000000298,
          "Y": 23.64144553913516
         },
         {
          "Outlier": 0,
          "X": -1.5000000000000302,
          "Y": -8.576305123038889
         },
         {
          "Outlier": 0.24151696606786427,
          "X": -1.4000000000000306,
          "Y": -3.413990873751257
         },
         {
          "Outlier": 0,
          "X": -1.300000000000031,
          "Y": 5.764515053668303
         },
         {
          "Outlier": 0,
          "X": -1.2000000000000313,
          "Y": -4.881619552621354
         },
         {
          "Outlier": 0,
          "X": -1.1000000000000316,
          "Y": 5.6052889213735035
         },
         {
          "Outlier": 0.9840319361277445,
          "X": -1.000000000000032,
          "Y": 4.303828323139834
         },
         {
          "Outlier": 0.41317365269461076,
          "X": -0.9000000000000323,
          "Y": -31.588506775217645
         },
         {
          "Outlier": 0,
          "X": -0.8000000000000327,
          "Y": -4.276114964288603
         },
         {
          "Outlier": 0,
          "X": -0.700000000000033,
          "Y": 4.535423923547052
         },
         {
          "Outlier": 0.7944111776447106,
          "X": -0.6000000000000334,
          "Y": 24.61942267029316
         },
         {
          "Outlier": 1,
          "X": -0.5000000000000338,
          "Y": -17.830933767956402
         },
         {
          "Outlier": 0,
          "X": -0.4000000000000341,
          "Y": -1.7450293908309056
         },
         {
          "Outlier": 0,
          "X": -0.30000000000003446,
          "Y": 3.3108205257662364
         },
         {
          "Outlier": 0.4930139720558882,
          "X": -0.20000000000003482,
          "Y": 0.7651432133855662
         },
         {
          "Outlier": 0,
          "X": -0.10000000000003517,
          "Y": -11.881720947448017
         },
         {
          "Outlier": 0.9261477045908184,
          "X": -3.552713678800501e-14,
          "Y": 15.275164463456829
         },
         {
          "Outlier": 0,
          "X": 0.09999999999996412,
          "Y": 2.6322100577194067
         },
         {
          "Outlier": 0,
          "X": 0.19999999999996376,
          "Y": 4.898150793977379
         },
         {
          "Outlier": 1,
          "X": 0.2999999999999634,
          "Y": 17.70645751790601
         },
         {
          "Outlier": 0.4411177644710579,
          "X": 0.39999999999996305,
          "Y": 8.552044532855996
         },
         {
          "Outlier": 1,
          "X": 0.4999999999999627,
          "Y": 21.884620845377007
         },
         {
          "Outlier": 0,
          "X": 0.5999999999999623,
          "Y": 9.545267231818897
         },
         {
          "Outlier": 0,
          "X": 0.699999999999962,
          "Y": 2.2310373255180265
         },
         {
          "Outlier": 0,
          "X": 0.7999999999999616,
          "Y": 6.8744523688958274
         },
         {
          "Outlier": 0,
          "X": 0.8999999999999613,
          "Y": -1.783436689012548
         },
         {
          "Outlier": 0.1377245508982036,
          "X": 0.9999999999999609,
          "Y": 4.47640686579331
         },
         {
          "Outlier": 0,
          "X": 1.0999999999999606,
          "Y": -2.229919825404161
         },
         {
          "Outlier": 0,
          "X": 1.1999999999999602,
          "Y": -1.6888315159113967
         },
         {
          "Outlier": 0,
          "X": 1.2999999999999599,
          "Y": -26.34560770532998
         },
         {
          "Outlier": 0.1437125748502994,
          "X": 1.3999999999999595,
          "Y": 7.322340575226373
         },
         {
          "Outlier": 1,
          "X": 1.4999999999999591,
          "Y": 1.9729072168157065
         },
         {
          "Outlier": 0,
          "X": 1.5999999999999588,
          "Y": 1.513234082565413
         },
         {
          "Outlier": 0.405189620758483,
          "X": 1.6999999999999584,
          "Y": 13.227480313783765
         },
         {
          "Outlier": 1,
          "X": 1.799999999999958,
          "Y": 12.226379085662112
         },
         {
          "Outlier": 0,
          "X": 1.8999999999999577,
          "Y": 2.850573235675812
         },
         {
          "Outlier": 0,
          "X": 1.9999999999999574,
          "Y": -6.392989857152452
         },
         {
          "Outlier": 0,
          "X": 2.099999999999957,
          "Y": -5.3213737430909305
         },
         {
          "Outlier": 0,
          "X": 2.1999999999999567,
          "Y": 0.41427397930309406
         },
         {
          "Outlier": 0.2714570858283433,
          "X": 2.2999999999999563,
          "Y": -5.750652275493272
         },
         {
          "Outlier": 0,
          "X": 2.399999999999956,
          "Y": 4.340182272052314
         },
         {
          "Outlier": 1,
          "X": 2.4999999999999556,
          "Y": 4.7901246139126625
         },
         {
          "Outlier": 0,
          "X": 2.5999999999999552,
          "Y": -11.012677316789915
         },
         {
          "Outlier": 0.27345309381237526,
          "X": 2.699999999999955,
          "Y": -2.5092360333006916
         },
         {
          "Outlier": 0,
          "X": 2.7999999999999545,
          "Y": -9.854893391572105
         },
         {
          "Outlier": 1,
          "X": 2.899999999999954,
          "Y": -28.61214419700161
         },
         {
          "Outlier": 0,
          "X": 2.999999999999954,
          "Y": 8.248524918035386
         },
         {
          "Outlier": 0,
          "X": 3.0999999999999535,
          "Y": -3.622542781911439
         },
         {
          "Outlier": 0.3652694610778443,
          "X": 3.199999999999953,
          "Y": 4.494708619120168
         },
         {
          "Outlier": 0,
          "X": 3.2999999999999527,
          "Y": 3.860145108336754
         },
         {
          "Outlier": 0.02594810379241517,
          "X": 3.3999999999999524,
          "Y": -4.0035470084411795
         },
         {
          "Outlier": 0,
          "X": 3.499999999999952,
          "Y": -11.04990869937726
         },
         {
          "Outlier": 0,
          "X": 3.5999999999999517,
          "Y": -35.32932042223501
         },
         {
          "Outlier": 0.8802395209580839,
          "X": 3.6999999999999513,
          "Y": 11.866841248128683
         },
         {
          "Outlier": 0,
          "X": 3.799999999999951,
          "Y": -10.162451780099051
         },
         {
          "Outlier": 1,
          "X": 3.8999999999999506,
          "Y": 9.661220540277904
         },
         {
          "Outlier": 0,
          "X": 3.9999999999999503,
          "Y": -10.73292544867606
         },
         {
          "Outlier": 0.07784431137724551,
          "X": 4.09999999999995,
          "Y": -18.550653995894045
         },
         {
          "Outlier": 0,
          "X": 4.1999999999999496,
          "Y": -14.52608532847757
         },
         {
          "Outlier": 1,
          "X": 4.299999999999949,
          "Y": 21.41545900080303
         },
         {
          "Outlier": 0,
          "X": 4.399999999999949,
          "Y": 41.510023167064915
         },
         {
          "Outlier": 0,
          "X": 4.4999999999999485,
          "Y": -10.944888800178278
         },
         {
          "Outlier": 0,
          "X": 4.599999999999948,
          "Y": -17.678231065336824
         },
         {
          "Outlier": 0,
          "X": 4.699999999999948,
          "Y": -18.253167364985977
         },
         {
          "Outlier": 0,
          "X": 4.799999999999947,
          "Y": -10.446879435653443
         },
         {
          "Outlier": 0,
          "X": 4.899999999999947,
          "Y": -4.690038562027151
         },
         {
          "Outlier": 0,
          "X": 4.999999999999947,
          "Y": -5.757921683446889
         },
         {
          "Outlier": 1,
          "X": 5.099999999999946,
          "Y": 8.693733167616339
         },
         {
          "Outlier": 0.2654690618762475,
          "X": 5.199999999999946,
          "Y": -12.216077387002828
         },
         {
          "Outlier": 1,
          "X": 5.299999999999946,
          "Y": 1.6720822524528287
         },
         {
          "Outlier": 0,
          "X": 5.399999999999945,
          "Y": -14.464965977547303
         },
         {
          "Outlier": 0.12974051896207583,
          "X": 5.499999999999945,
          "Y": -12.869809983276069
         },
         {
          "Outlier": 1,
          "X": 5.599999999999945,
          "Y": 34.62535634020814
         },
         {
          "Outlier": 0.36127744510978044,
          "X": 5.699999999999944,
          "Y": 39.28048699796905
         },
         {
          "Outlier": 0,
          "X": 5.799999999999944,
          "Y": -18.522573806115407
         },
         {
          "Outlier": 0.08782435129740519,
          "X": 5.8999999999999435,
          "Y": 2.8254226810055205
         },
         {
          "Outlier": 0.16367265469061876,
          "X": 5.999999999999943,
          "Y": -7.598929518634544
         },
         {
          "Outlier": 0,
          "X": 6.099999999999945,
          "Y": -17.140071943688035
         },
         {
          "Outlier": 0,
          "X": 6.1999999999999424,
          "Y": -21.78017043908215
         },
         {
          "Outlier": 0.27944111776447106,
          "X": 6.29999999999994,
          "Y": 8.34770023404953
         },
         {
          "Outlier": 1,
          "X": 6.399999999999942,
          "Y": 2.6439493039811115
         },
         {
          "Outlier": 0,
          "X": 6.499999999999943,
          "Y": -20.126788491353174
         },
         {
          "Outlier": 0.2215568862275449,
          "X": 6.599999999999941,
          "Y": -15.051462287577962
         },
         {
          "Outlier": 0.6766467065868264,
          "X": 6.699999999999939,
          "Y": 4.3207686658048425
         },
         {
          "Outlier": 0.7904191616766467,
          "X": 6.79999999999994,
          "Y": -8.60953644756132
         },
         {
          "Outlier": 0,
          "X": 6.899999999999942,
          "Y": -9.408044612231928
         },
         {
          "Outlier": 0,
          "X": 6.99999999999994,
          "Y": -19.056725876851928
         },
         {
          "Outlier": 0.005988023952095809,
          "X": 7.0999999999999375,
          "Y": -20.094495666483716
         },
         {
          "Outlier": 0.4810379241516966,
          "X": 7.199999999999939,
          "Y": -0.40330975452223106
         },
         {
          "Outlier": 0,
          "X": 7.29999999999994,
          "Y": -48.28017130034681
         },
         {
          "Outlier": 0,
          "X": 7.399999999999938,
          "Y": -19.705987406023656
         },
         {
          "Outlier": 0.2754491017964072,
          "X": 7.499999999999936,
          "Y": -27.496292304878267
         },
         {
          "Outlier": 0.25948103792415167,
          "X": 7.5999999999999375,
          "Y": -18.884286907276728
         },
         {
          "Outlier": 0,
          "X": 7.699999999999939,
          "Y": -22.442972670784375
         },
         {
          "Outlier": 1,
          "X": 7.799999999999937,
          "Y": 6.610475555129508
         },
         {
          "Outlier": 0,
          "X": 7.899999999999935,
          "Y": -28.406701583023757
         },
         {
          "Outlier": 1,
          "X": 7.999999999999936,
          "Y": 10.913894309977062
         },
         {
          "Outlier": 0.31736526946107785,
          "X": 8.099999999999937,
          "Y": 22.467791024883127
         },
         {
          "Outlier": 0.5209580838323353,
          "X": 8.199999999999935,
          "Y": 12.316122841847735
         },
         {
          "Outlier": 0,
          "X": 8.299999999999933,
          "Y": -18.61774741315339
         },
         {
          "Outlier": 0,
          "X": 8.399999999999935,
          "Y": -29.49760626562651
         },
         {
          "Outlier": 0.06187624750499002,
          "X": 8.499999999999936,
          "Y": -25.738038864954476
         },
         {
          "Outlier": 0.17365269461077845,
          "X": 8.599999999999934,
          "Y": -17.85703560203325
         },
         {
          "Outlier": 0.8642714570858283,
          "X": 8.699999999999932,
          "Y": -9.172720756633
         },
         {
          "Outlier": 0.22554890219560877,
          "X": 8.799999999999933,
          "Y": -20.500224282886077
         },
         {
          "Outlier": 0,
          "X": 8.899999999999935,
          "Y": -27.955994289017063
         },
         {
          "Outlier": 0,
          "X": 8.999999999999932,
          "Y": -23.309509588194302
         },
         {
          "Outlier": 0.7924151696606786,
          "X": 9.09999999999993,
          "Y": 31.120217815149882
         },
         {
          "Outlier": 0,
          "X": 9.199999999999932,
          "Y": -24.086143061403874
         },
         {
          "Outlier": 0,
          "X": 9.299999999999933,
          "Y": -21.7596596113579
         },
         {
          "Outlier": 0.7704590818363274,
          "X": 9.399999999999931,
          "Y": 1.3453810777338207
         },
         {
          "Outlier": 0.562874251497006,
          "X": 9.499999999999929,
          "Y": 30.106740007028108
         },
         {
          "Outlier": 1,
          "X": 9.59999999999993,
          "Y": -8.245762291377288
         },
         {
          "Outlier": 0,
          "X": 9.699999999999932,
          "Y": -29.313469546701562
         },
         {
          "Outlier": 0,
          "X": 9.79999999999993,
          "Y": -27.209848874368774
         },
         {
          "Outlier": 1,
          "X": 9.899999999999928,
          "Y": 7.612568009425738
         },
         {
          "Outlier": 1,
          "X": 9.999999999999929,
          "Y": -13.529703374498748
         }
        ]
       },
       "encoding": {
        "color": {
         "field": "Outlier",
         "scale": {
          "scheme": "viridis"
         },
         "type": "quantitative"
        },
        "x": {
         "field": "X",
         "type": "quantitative"
        },
        "y": {
         "field": "Y",
         "type": "quantitative"
        }
       },
       "height": 400,
       "mark": "circle",
       "width": 400
      },
      "image/png": "[encoded data removed]"
     },
     "metadata": {},
     "output_type": "display_data"
    }
   ],
   "source": [
    "plot  $ take 5000 (zip (fst <$> samples) (outlierProb mhRuns))"
   ]
  },
  {
   "cell_type": "markdown",
   "metadata": {},
   "source": [
    "Running MCMC gives us a list of samples. The results make sense: points that are very near the line are probably not outliers and ones very far are. \n",
    "\n",
    "It would be nice to make our approach more sample efficient though. The `SingleSiteMH` proposal is very naive. Two ways to improve on this would be to use customizable proposals, as in `Gen`, or to use Hamiltonian Monte Carlo as in `Stan`."
   ]
  }
 ],
 "metadata": {
  "kernelspec": {
   "display_name": "Haskell - nixpkgs",
   "language": "haskell",
   "name": "ihaskell_nixpkgs"
  },
  "language_info": {
   "codemirror_mode": "ihaskell",
   "file_extension": ".hs",
   "mimetype": "text/x-haskell",
   "name": "haskell",
   "pygments_lexer": "Haskell",
   "version": "9.0.2"
  }
 },
 "nbformat": 4,
 "nbformat_minor": 4
}
