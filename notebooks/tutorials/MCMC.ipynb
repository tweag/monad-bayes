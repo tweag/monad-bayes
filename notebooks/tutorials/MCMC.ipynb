{
 "cells": [
  {
   "cell_type": "code",
   "execution_count": 1,
   "metadata": {},
   "outputs": [],
   "source": [
    ":e ImportQualifiedPost\n",
    ":e FlexibleContexts\n",
    ":e BlockArguments\n",
    ":e TupleSections\n",
    ":e FlexibleContexts\n",
    ":e OverloadedStrings\n",
    ":e LambdaCase\n",
    "\n",
    "import qualified Data.Text as T\n",
    "import Control.Arrow (first,second)\n",
    "import Control.Monad\n",
    "import Graphics.Vega.VegaLite hiding (density)\n",
    "import qualified Graphics.Vega.VegaLite as VL\n",
    "import IHaskell.Display.Hvega (vlShow)\n",
    "\n",
    "import Control.Monad.Bayes.Class\n",
    "import Control.Monad.Bayes.Enumerator\n",
    "\n",
    "import Control.Monad.Bayes.Weighted\n",
    "import Control.Monad.Bayes.Sampler.Strict\n",
    "import Control.Monad.Bayes.Traced.Static\n",
    "import Control.Monad.Bayes.Inference.MCMC\n",
    "\n",
    ":l ../plotting.hs"
   ]
  },
  {
   "cell_type": "markdown",
   "metadata": {},
   "source": [
    "# MCMC\n",
    "\n",
    "Following [wikipedia](https://en.wikipedia.org/wiki/Markov_chain_Monte_Carlo):\n",
    "\n",
    "> Markov chain Monte Carlo (MCMC) is a powerful class of methods to sample from probability distributions known only up to an (unknown) normalization constant.\n",
    "\n",
    "Markov Chain is a stochastic process where new state depends only on the previous state (Markov property for discrete-time process). Transition between states is governed by transition kernell $T$. In the limit of long simulation, probability distribution of steps of the Markov process converges to the stationary distribution $\\pi_{\\star}$. Reasonable  assumptions of existence of the stationary distribution, non-periodicy of MC and availibility of all states must be held.\n",
    "\n",
    "If we want to **sample** from a complicated distribution $\\pi$, we can construct a Markov process which stationary distribution $\\pi_{\\star} = \\pi$. The question is how to construct transition kernell to achieve $\\pi$ as a stationary distribution.\n",
    "\n",
    "## Metropolis-Hastings\n",
    "MH is a classical and most widely use algorithm with many flavours. Here we present a general outline.\n",
    "\n",
    "The algoritm is used to generate next point of the Markov Chain, namely $x_{i+1}$, in the space state.\n",
    "MH algorithms consist of proposal and acceptance/rejection steps:\n",
    "1. **Proposal**: draw next candidate\\\n",
    "    We construct transition kernel:\n",
    "\n",
    "    $$ \n",
    "    T(x_{i+1}|x_{i}) = q(x_{i+1}|x_{i})\\times p_{acc}(x_{i+1}|x_{i})\n",
    "    $$\n",
    "    where $q$ is proposal distribution for the next state of the chain and $p_{acc}$ is probability of sample being accepted.\n",
    "\n",
    "    Proposal distribution $q$ should be simple to draw from, for example uniform distribution around current point $\\mathcal{U}(x_i - \\delta, x_{i}+\\delta)$, where $\\delta$ is a small positive number. \n",
    " \n",
    "2. **Acceptance/rejection** assess if the candidate might have been drawn from sampled distribution $\\pi$\\\n",
    "    Having symmetric proposal distribution and adding constraint of microscopic reversibility on the transition kernell:\n",
    "\n",
    "    $$ \n",
    "    \\pi(x_{i})T(x_{i+1}|x_{i}) = \\pi(x_{i+1})T(x_{i}|x_{i+1})\n",
    "    $$\n",
    "\n",
    "    we have acceptance probability:\n",
    "    $$\n",
    "    p_{acc}(x_{i+1}|x_{i}) = min\\left\\{1, \\frac{\\pi_{x+1}}{\\pi_{x}}\\right\\}\n",
    "    $$\n",
    "\n",
    "For details on MCMC see the series of blog posts starting with https://www.tweag.io/blog/2019-10-25-mcmc-intro1/ or an online book https://bookdown.org/rdpeng/advstatcomp/markov-chain-monte-carlo.html.\n",
    "\n",
    "\n",
    "\n",
    "## `monad-bayes` implementation\n",
    "There are several versions of Metropolis-Hastings algorith for MCMC defined in monad-bayes. The standard version is found in `Control.Monad.Bayes.Inference.MCMC` - Traced MH.\n",
    "Implementatio of a single step of of MH algorithm is `mhTransWithBool`.\n",
    "\n"
   ]
  },
  {
   "cell_type": "markdown",
   "metadata": {},
   "source": [
    "# Linear regression\n",
    "\n",
    "We'll start with the example of a simple regression. Function `regressionData` defines a distribution of a linear regression values given a list of arguments."
   ]
  },
  {
   "cell_type": "code",
   "execution_count": 2,
   "metadata": {},
   "outputs": [],
   "source": [
    "paramPriorRegression = do\n",
    "    slope <- normal 0 2\n",
    "    intercept <- normal 0 2\n",
    "    noise <- gamma 4 4\n",
    "    return (slope, intercept, noise)\n",
    "\n",
    "\n",
    "regressionData :: (MonadDistribution m, Traversable t) => t Double -> m (t (Double, Double))\n",
    "regressionData xs = do\n",
    "    (slope, intercept, noise) <- paramPriorRegression\n",
    "    forM xs \\x -> do\n",
    "        y <- normal (x*slope + intercept) (sqrt noise)\n",
    "        return (x, y)"
   ]
  },
  {
   "cell_type": "code",
   "execution_count": 3,
   "metadata": {},
   "outputs": [],
   "source": [
    "range = [-10,-9.9..10] :: [Double]\n",
    "regressionSamples <- sampleIOfixed $ regressionData range"
   ]
  },
  {
   "cell_type": "code",
   "execution_count": 4,
   "metadata": {},
   "outputs": [
    {
     "data": {
      "application/vnd.vegalite.v4+json": {
       "$schema": "https://vega.github.io/schema/vega-lite/v4.json",
       "data": {
        "values": [
         {
          "Outlier": "\"N/A\"",
          "X": -10,
          "Y": 24.57864936391078
         },
         {
          "Outlier": "\"N/A\"",
          "X": -9.9,
          "Y": 38.294498409280365
         },
         {
          "Outlier": "\"N/A\"",
          "X": -9.8,
          "Y": 26.301690856119443
         },
         {
          "Outlier": "\"N/A\"",
          "X": -9.700000000000001,
          "Y": 28.558284447764866
         },
         {
          "Outlier": "\"N/A\"",
          "X": -9.600000000000001,
          "Y": 23.195769246319948
         },
         {
          "Outlier": "\"N/A\"",
          "X": -9.500000000000002,
          "Y": 29.319038347154173
         },
         {
          "Outlier": "\"N/A\"",
          "X": -9.400000000000002,
          "Y": 29.786080440510776
         },
         {
          "Outlier": "\"N/A\"",
          "X": -9.300000000000002,
          "Y": 27.56660652064134
         },
         {
          "Outlier": "\"N/A\"",
          "X": -9.200000000000003,
          "Y": 27.577242127315213
         },
         {
          "Outlier": "\"N/A\"",
          "X": -9.100000000000003,
          "Y": 33.153907631508574
         },
         {
          "Outlier": "\"N/A\"",
          "X": -9.000000000000004,
          "Y": 30.083599819996856
         },
         {
          "Outlier": "\"N/A\"",
          "X": -8.900000000000004,
          "Y": 23.119721320813433
         },
         {
          "Outlier": "\"N/A\"",
          "X": -8.800000000000004,
          "Y": 31.191041902991987
         },
         {
          "Outlier": "\"N/A\"",
          "X": -8.700000000000005,
          "Y": 26.589308682033725
         },
         {
          "Outlier": "\"N/A\"",
          "X": -8.600000000000005,
          "Y": 32.921926427807016
         },
         {
          "Outlier": "\"N/A\"",
          "X": -8.500000000000005,
          "Y": 32.70229229815947
         },
         {
          "Outlier": "\"N/A\"",
          "X": -8.400000000000006,
          "Y": 19.394506109909656
         },
         {
          "Outlier": "\"N/A\"",
          "X": -8.300000000000006,
          "Y": 32.27291522848526
         },
         {
          "Outlier": "\"N/A\"",
          "X": -8.200000000000006,
          "Y": 28.64721000519075
         },
         {
          "Outlier": "\"N/A\"",
          "X": -8.100000000000007,
          "Y": 25.79253712162261
         },
         {
          "Outlier": "\"N/A\"",
          "X": -8.000000000000007,
          "Y": 27.68797532534977
         },
         {
          "Outlier": "\"N/A\"",
          "X": -7.9000000000000075,
          "Y": 22.079901350454247
         },
         {
          "Outlier": "\"N/A\"",
          "X": -7.800000000000008,
          "Y": 21.25658020864288
         },
         {
          "Outlier": "\"N/A\"",
          "X": -7.700000000000008,
          "Y": 28.112113874853225
         },
         {
          "Outlier": "\"N/A\"",
          "X": -7.6000000000000085,
          "Y": 23.657829423215986
         },
         {
          "Outlier": "\"N/A\"",
          "X": -7.500000000000009,
          "Y": 26.44252808237886
         },
         {
          "Outlier": "\"N/A\"",
          "X": -7.400000000000009,
          "Y": 15.694603973012033
         },
         {
          "Outlier": "\"N/A\"",
          "X": -7.30000000000001,
          "Y": 17.839513408053318
         },
         {
          "Outlier": "\"N/A\"",
          "X": -7.20000000000001,
          "Y": 20.452854225610146
         },
         {
          "Outlier": "\"N/A\"",
          "X": -7.10000000000001,
          "Y": 20.139288022425166
         },
         {
          "Outlier": "\"N/A\"",
          "X": -7.000000000000011,
          "Y": 21.23396373514547
         },
         {
          "Outlier": "\"N/A\"",
          "X": -6.900000000000011,
          "Y": 17.320206263082085
         },
         {
          "Outlier": "\"N/A\"",
          "X": -6.800000000000011,
          "Y": 19.89843133273544
         },
         {
          "Outlier": "\"N/A\"",
          "X": -6.700000000000012,
          "Y": 15.764273491799775
         },
         {
          "Outlier": "\"N/A\"",
          "X": -6.600000000000012,
          "Y": 20.798807821690723
         },
         {
          "Outlier": "\"N/A\"",
          "X": -6.500000000000012,
          "Y": 18.728021703264186
         },
         {
          "Outlier": "\"N/A\"",
          "X": -6.400000000000013,
          "Y": 7.885719830482385
         },
         {
          "Outlier": "\"N/A\"",
          "X": -6.300000000000013,
          "Y": 18.85912922874157
         },
         {
          "Outlier": "\"N/A\"",
          "X": -6.2000000000000135,
          "Y": 15.123788006831436
         },
         {
          "Outlier": "\"N/A\"",
          "X": -6.100000000000014,
          "Y": 17.10995200455398
         },
         {
          "Outlier": "\"N/A\"",
          "X": -6.000000000000014,
          "Y": 14.624114456535843
         },
         {
          "Outlier": "\"N/A\"",
          "X": -5.900000000000015,
          "Y": 14.845108837556172
         },
         {
          "Outlier": "\"N/A\"",
          "X": -5.800000000000015,
          "Y": 14.269557147602468
         },
         {
          "Outlier": "\"N/A\"",
          "X": -5.700000000000015,
          "Y": 13.861095746942324
         },
         {
          "Outlier": "\"N/A\"",
          "X": -5.600000000000016,
          "Y": 13.692211160545364
         },
         {
          "Outlier": "\"N/A\"",
          "X": -5.500000000000016,
          "Y": 23.739370754539276
         },
         {
          "Outlier": "\"N/A\"",
          "X": -5.400000000000016,
          "Y": 11.308333171220132
         },
         {
          "Outlier": "\"N/A\"",
          "X": -5.300000000000017,
          "Y": 27.08980446608318
         },
         {
          "Outlier": "\"N/A\"",
          "X": -5.200000000000017,
          "Y": 15.88679842771568
         },
         {
          "Outlier": "\"N/A\"",
          "X": -5.100000000000017,
          "Y": 22.961734902847223
         },
         {
          "Outlier": "\"N/A\"",
          "X": -5.000000000000018,
          "Y": 16.299525923838925
         },
         {
          "Outlier": "\"N/A\"",
          "X": -4.900000000000018,
          "Y": 15.308171860934474
         },
         {
          "Outlier": "\"N/A\"",
          "X": -4.8000000000000185,
          "Y": 29.02455599307806
         },
         {
          "Outlier": "\"N/A\"",
          "X": -4.700000000000019,
          "Y": 10.749377104496931
         },
         {
          "Outlier": "\"N/A\"",
          "X": -4.600000000000019,
          "Y": 11.27400546222972
         },
         {
          "Outlier": "\"N/A\"",
          "X": -4.5000000000000195,
          "Y": 22.50722014898807
         },
         {
          "Outlier": "\"N/A\"",
          "X": -4.40000000000002,
          "Y": 14.872396898873859
         },
         {
          "Outlier": "\"N/A\"",
          "X": -4.30000000000002,
          "Y": 12.33515917932203
         },
         {
          "Outlier": "\"N/A\"",
          "X": -4.200000000000021,
          "Y": 11.582055626013798
         },
         {
          "Outlier": "\"N/A\"",
          "X": -4.100000000000021,
          "Y": 23.943604970811563
         },
         {
          "Outlier": "\"N/A\"",
          "X": -4.000000000000021,
          "Y": 15.789328270738938
         },
         {
          "Outlier": "\"N/A\"",
          "X": -3.9000000000000217,
          "Y": 12.904946954760849
         },
         {
          "Outlier": "\"N/A\"",
          "X": -3.800000000000022,
          "Y": 7.426966312329666
         },
         {
          "Outlier": "\"N/A\"",
          "X": -3.7000000000000224,
          "Y": 15.51136598116963
         },
         {
          "Outlier": "\"N/A\"",
          "X": -3.6000000000000227,
          "Y": 5.11123343053363
         },
         {
          "Outlier": "\"N/A\"",
          "X": -3.500000000000023,
          "Y": 13.432712523791547
         },
         {
          "Outlier": "\"N/A\"",
          "X": -3.4000000000000234,
          "Y": 11.241708914656906
         },
         {
          "Outlier": "\"N/A\"",
          "X": -3.300000000000024,
          "Y": 15.300584697969027
         },
         {
          "Outlier": "\"N/A\"",
          "X": -3.200000000000024,
          "Y": 6.832401443016748
         },
         {
          "Outlier": "\"N/A\"",
          "X": -3.1000000000000245,
          "Y": 7.255676920155957
         },
         {
          "Outlier": "\"N/A\"",
          "X": -3.000000000000025,
          "Y": 11.929815035881218
         },
         {
          "Outlier": "\"N/A\"",
          "X": -2.9000000000000252,
          "Y": 4.207732498665361
         },
         {
          "Outlier": "\"N/A\"",
          "X": -2.8000000000000256,
          "Y": 19.30618112216324
         },
         {
          "Outlier": "\"N/A\"",
          "X": -2.700000000000026,
          "Y": 14.42052477335049
         },
         {
          "Outlier": "\"N/A\"",
          "X": -2.6000000000000263,
          "Y": 6.5390713397756315
         },
         {
          "Outlier": "\"N/A\"",
          "X": -2.5000000000000266,
          "Y": 8.668423810434627
         },
         {
          "Outlier": "\"N/A\"",
          "X": -2.400000000000027,
          "Y": 2.7167038170804414
         },
         {
          "Outlier": "\"N/A\"",
          "X": -2.3000000000000274,
          "Y": 9.69108166357378
         },
         {
          "Outlier": "\"N/A\"",
          "X": -2.2000000000000277,
          "Y": 11.965742234290293
         },
         {
          "Outlier": "\"N/A\"",
          "X": -2.100000000000028,
          "Y": 9.419874051581413
         },
         {
          "Outlier": "\"N/A\"",
          "X": -2.0000000000000284,
          "Y": 3.2081644713774073
         },
         {
          "Outlier": "\"N/A\"",
          "X": -1.9000000000000288,
          "Y": 1.4087628728947221
         },
         {
          "Outlier": "\"N/A\"",
          "X": -1.8000000000000291,
          "Y": 10.760742900504018
         },
         {
          "Outlier": "\"N/A\"",
          "X": -1.7000000000000295,
          "Y": 12.93271063217119
         },
         {
          "Outlier": "\"N/A\"",
          "X": -1.6000000000000298,
          "Y": 3.45947791097803
         },
         {
          "Outlier": "\"N/A\"",
          "X": -1.5000000000000302,
          "Y": 9.959864604913854
         },
         {
          "Outlier": "\"N/A\"",
          "X": -1.4000000000000306,
          "Y": 0.757296063587316
         },
         {
          "Outlier": "\"N/A\"",
          "X": -1.300000000000031,
          "Y": -3.180315182028453
         },
         {
          "Outlier": "\"N/A\"",
          "X": -1.2000000000000313,
          "Y": 4.437373365223296
         },
         {
          "Outlier": "\"N/A\"",
          "X": -1.1000000000000316,
          "Y": 1.658197062714779
         },
         {
          "Outlier": "\"N/A\"",
          "X": -1.000000000000032,
          "Y": 8.864952001575826
         },
         {
          "Outlier": "\"N/A\"",
          "X": -0.9000000000000323,
          "Y": 1.2698523563653445
         },
         {
          "Outlier": "\"N/A\"",
          "X": -0.8000000000000327,
          "Y": 0.5973684788411564
         },
         {
          "Outlier": "\"N/A\"",
          "X": -0.700000000000033,
          "Y": -4.555365575462204
         },
         {
          "Outlier": "\"N/A\"",
          "X": -0.6000000000000334,
          "Y": 6.2469449541721325
         },
         {
          "Outlier": "\"N/A\"",
          "X": -0.5000000000000338,
          "Y": 5.767062936848807
         },
         {
          "Outlier": "\"N/A\"",
          "X": -0.4000000000000341,
          "Y": 10.173383557699086
         },
         {
          "Outlier": "\"N/A\"",
          "X": -0.30000000000003446,
          "Y": -4.548849292729719
         },
         {
          "Outlier": "\"N/A\"",
          "X": -0.20000000000003482,
          "Y": 1.425004325853201
         },
         {
          "Outlier": "\"N/A\"",
          "X": -0.10000000000003517,
          "Y": 3.8745173498347683
         },
         {
          "Outlier": "\"N/A\"",
          "X": -3.552713678800501e-14,
          "Y": -0.15546257425564614
         },
         {
          "Outlier": "\"N/A\"",
          "X": 0.09999999999996412,
          "Y": 4.956019987386602
         },
         {
          "Outlier": "\"N/A\"",
          "X": 0.19999999999996376,
          "Y": 4.962872610201469
         },
         {
          "Outlier": "\"N/A\"",
          "X": 0.2999999999999634,
          "Y": 4.637451686696391
         },
         {
          "Outlier": "\"N/A\"",
          "X": 0.39999999999996305,
          "Y": 0.9640110776827278
         },
         {
          "Outlier": "\"N/A\"",
          "X": 0.4999999999999627,
          "Y": 9.02600284216226
         },
         {
          "Outlier": "\"N/A\"",
          "X": 0.5999999999999623,
          "Y": 7.6481555413632805
         },
         {
          "Outlier": "\"N/A\"",
          "X": 0.699999999999962,
          "Y": -1.2776766744840604
         },
         {
          "Outlier": "\"N/A\"",
          "X": 0.7999999999999616,
          "Y": -1.011569749593121
         },
         {
          "Outlier": "\"N/A\"",
          "X": 0.8999999999999613,
          "Y": -7.172733709218706
         },
         {
          "Outlier": "\"N/A\"",
          "X": 0.9999999999999609,
          "Y": 9.030710040554313
         },
         {
          "Outlier": "\"N/A\"",
          "X": 1.0999999999999606,
          "Y": -0.2873863465351798
         },
         {
          "Outlier": "\"N/A\"",
          "X": 1.1999999999999602,
          "Y": -0.0761996977400099
         },
         {
          "Outlier": "\"N/A\"",
          "X": 1.2999999999999599,
          "Y": 2.958613875892526
         },
         {
          "Outlier": "\"N/A\"",
          "X": 1.3999999999999595,
          "Y": -2.0380371379167297
         },
         {
          "Outlier": "\"N/A\"",
          "X": 1.4999999999999591,
          "Y": -4.208793003410444
         },
         {
          "Outlier": "\"N/A\"",
          "X": 1.5999999999999588,
          "Y": 3.090366258779815
         },
         {
          "Outlier": "\"N/A\"",
          "X": 1.6999999999999584,
          "Y": -11.074287645445791
         },
         {
          "Outlier": "\"N/A\"",
          "X": 1.799999999999958,
          "Y": -4.227175584211664
         },
         {
          "Outlier": "\"N/A\"",
          "X": 1.8999999999999577,
          "Y": -6.025452600463005
         },
         {
          "Outlier": "\"N/A\"",
          "X": 1.9999999999999574,
          "Y": -3.6913770293879176
         },
         {
          "Outlier": "\"N/A\"",
          "X": 2.099999999999957,
          "Y": -7.62696530095745
         },
         {
          "Outlier": "\"N/A\"",
          "X": 2.1999999999999567,
          "Y": -1.0070407313158323
         },
         {
          "Outlier": "\"N/A\"",
          "X": 2.2999999999999563,
          "Y": -0.21160285598304895
         },
         {
          "Outlier": "\"N/A\"",
          "X": 2.399999999999956,
          "Y": -6.938935480005792
         },
         {
          "Outlier": "\"N/A\"",
          "X": 2.4999999999999556,
          "Y": 0.6807052586522895
         },
         {
          "Outlier": "\"N/A\"",
          "X": 2.5999999999999552,
          "Y": -6.413300609057294
         },
         {
          "Outlier": "\"N/A\"",
          "X": 2.699999999999955,
          "Y": -6.536288487970634
         },
         {
          "Outlier": "\"N/A\"",
          "X": 2.7999999999999545,
          "Y": -14.394025296298128
         },
         {
          "Outlier": "\"N/A\"",
          "X": 2.899999999999954,
          "Y": -8.28023513622189
         },
         {
          "Outlier": "\"N/A\"",
          "X": 2.999999999999954,
          "Y": -3.4124362461292495
         },
         {
          "Outlier": "\"N/A\"",
          "X": 3.0999999999999535,
          "Y": -5.3562809471748025
         },
         {
          "Outlier": "\"N/A\"",
          "X": 3.199999999999953,
          "Y": -7.526017621519014
         },
         {
          "Outlier": "\"N/A\"",
          "X": 3.2999999999999527,
          "Y": -14.00346965318624
         },
         {
          "Outlier": "\"N/A\"",
          "X": 3.3999999999999524,
          "Y": -5.942935566955495
         },
         {
          "Outlier": "\"N/A\"",
          "X": 3.499999999999952,
          "Y": -7.9805889243735315
         },
         {
          "Outlier": "\"N/A\"",
          "X": 3.5999999999999517,
          "Y": -6.232785013070575
         },
         {
          "Outlier": "\"N/A\"",
          "X": 3.6999999999999513,
          "Y": -2.6255801288971146
         },
         {
          "Outlier": "\"N/A\"",
          "X": 3.799999999999951,
          "Y": -16.150956461350795
         },
         {
          "Outlier": "\"N/A\"",
          "X": 3.8999999999999506,
          "Y": -9.852019711110866
         },
         {
          "Outlier": "\"N/A\"",
          "X": 3.9999999999999503,
          "Y": -10.820545824863508
         },
         {
          "Outlier": "\"N/A\"",
          "X": 4.09999999999995,
          "Y": -9.641144263319418
         },
         {
          "Outlier": "\"N/A\"",
          "X": 4.1999999999999496,
          "Y": -16.824573051695413
         },
         {
          "Outlier": "\"N/A\"",
          "X": 4.299999999999949,
          "Y": -7.584368869801537
         },
         {
          "Outlier": "\"N/A\"",
          "X": 4.399999999999949,
          "Y": -15.921597577697376
         },
         {
          "Outlier": "\"N/A\"",
          "X": 4.4999999999999485,
          "Y": -10.564144416396802
         },
         {
          "Outlier": "\"N/A\"",
          "X": 4.599999999999948,
          "Y": -8.719322820788562
         },
         {
          "Outlier": "\"N/A\"",
          "X": 4.699999999999948,
          "Y": -13.706770144040625
         },
         {
          "Outlier": "\"N/A\"",
          "X": 4.799999999999947,
          "Y": -14.71638534254468
         },
         {
          "Outlier": "\"N/A\"",
          "X": 4.899999999999947,
          "Y": -8.11320601142597
         },
         {
          "Outlier": "\"N/A\"",
          "X": 4.999999999999947,
          "Y": -9.079761935368413
         },
         {
          "Outlier": "\"N/A\"",
          "X": 5.099999999999946,
          "Y": -7.741729875490136
         },
         {
          "Outlier": "\"N/A\"",
          "X": 5.199999999999946,
          "Y": -7.709427648269321
         },
         {
          "Outlier": "\"N/A\"",
          "X": 5.299999999999946,
          "Y": -10.164452904568247
         },
         {
          "Outlier": "\"N/A\"",
          "X": 5.399999999999945,
          "Y": -17.037300164945133
         },
         {
          "Outlier": "\"N/A\"",
          "X": 5.499999999999945,
          "Y": -9.530200659868438
         },
         {
          "Outlier": "\"N/A\"",
          "X": 5.599999999999945,
          "Y": -6.805904336249347
         },
         {
          "Outlier": "\"N/A\"",
          "X": 5.699999999999944,
          "Y": -18.518345122128725
         },
         {
          "Outlier": "\"N/A\"",
          "X": 5.799999999999944,
          "Y": -16.66401480644169
         },
         {
          "Outlier": "\"N/A\"",
          "X": 5.8999999999999435,
          "Y": -13.035777619073194
         },
         {
          "Outlier": "\"N/A\"",
          "X": 5.999999999999943,
          "Y": -10.453747100452984
         },
         {
          "Outlier": "\"N/A\"",
          "X": 6.099999999999945,
          "Y": -10.966412014185101
         },
         {
          "Outlier": "\"N/A\"",
          "X": 6.1999999999999424,
          "Y": -9.074186841328956
         },
         {
          "Outlier": "\"N/A\"",
          "X": 6.29999999999994,
          "Y": -10.953103638117929
         },
         {
          "Outlier": "\"N/A\"",
          "X": 6.399999999999942,
          "Y": -8.6614528465355
         },
         {
          "Outlier": "\"N/A\"",
          "X": 6.499999999999943,
          "Y": -11.767577514991192
         },
         {
          "Outlier": "\"N/A\"",
          "X": 6.599999999999941,
          "Y": -15.749273101756014
         },
         {
          "Outlier": "\"N/A\"",
          "X": 6.699999999999939,
          "Y": -20.535868312369907
         },
         {
          "Outlier": "\"N/A\"",
          "X": 6.79999999999994,
          "Y": -18.238578928251155
         },
         {
          "Outlier": "\"N/A\"",
          "X": 6.899999999999942,
          "Y": -22.60243906276875
         },
         {
          "Outlier": "\"N/A\"",
          "X": 6.99999999999994,
          "Y": -21.86297579565081
         },
         {
          "Outlier": "\"N/A\"",
          "X": 7.0999999999999375,
          "Y": -17.08344647050758
         },
         {
          "Outlier": "\"N/A\"",
          "X": 7.199999999999939,
          "Y": -19.369295599963984
         },
         {
          "Outlier": "\"N/A\"",
          "X": 7.29999999999994,
          "Y": -18.678956845823837
         },
         {
          "Outlier": "\"N/A\"",
          "X": 7.399999999999938,
          "Y": -15.61678580989824
         },
         {
          "Outlier": "\"N/A\"",
          "X": 7.499999999999936,
          "Y": -26.27818766241228
         },
         {
          "Outlier": "\"N/A\"",
          "X": 7.5999999999999375,
          "Y": -19.420291255188108
         },
         {
          "Outlier": "\"N/A\"",
          "X": 7.699999999999939,
          "Y": -17.74467794634894
         },
         {
          "Outlier": "\"N/A\"",
          "X": 7.799999999999937,
          "Y": -16.946636703176477
         },
         {
          "Outlier": "\"N/A\"",
          "X": 7.899999999999935,
          "Y": -26.71150723727269
         },
         {
          "Outlier": "\"N/A\"",
          "X": 7.999999999999936,
          "Y": -24.113700090735545
         },
         {
          "Outlier": "\"N/A\"",
          "X": 8.099999999999937,
          "Y": -18.385630502824597
         },
         {
          "Outlier": "\"N/A\"",
          "X": 8.199999999999935,
          "Y": -16.16025577987224
         },
         {
          "Outlier": "\"N/A\"",
          "X": 8.299999999999933,
          "Y": -22.192371003190164
         },
         {
          "Outlier": "\"N/A\"",
          "X": 8.399999999999935,
          "Y": -21.633943313778616
         },
         {
          "Outlier": "\"N/A\"",
          "X": 8.499999999999936,
          "Y": -33.4081634879886
         },
         {
          "Outlier": "\"N/A\"",
          "X": 8.599999999999934,
          "Y": -13.971218302650211
         },
         {
          "Outlier": "\"N/A\"",
          "X": 8.699999999999932,
          "Y": -30.517273136049173
         },
         {
          "Outlier": "\"N/A\"",
          "X": 8.799999999999933,
          "Y": -18.20026092214388
         },
         {
          "Outlier": "\"N/A\"",
          "X": 8.899999999999935,
          "Y": -29.619423062052164
         },
         {
          "Outlier": "\"N/A\"",
          "X": 8.999999999999932,
          "Y": -20.757216839068352
         },
         {
          "Outlier": "\"N/A\"",
          "X": 9.09999999999993,
          "Y": -28.846849347810682
         },
         {
          "Outlier": "\"N/A\"",
          "X": 9.199999999999932,
          "Y": -28.75698430739407
         },
         {
          "Outlier": "\"N/A\"",
          "X": 9.299999999999933,
          "Y": -26.74093489476592
         },
         {
          "Outlier": "\"N/A\"",
          "X": 9.399999999999931,
          "Y": -28.4891432150645
         },
         {
          "Outlier": "\"N/A\"",
          "X": 9.499999999999929,
          "Y": -23.961935678746933
         },
         {
          "Outlier": "\"N/A\"",
          "X": 9.59999999999993,
          "Y": -31.757248852429687
         },
         {
          "Outlier": "\"N/A\"",
          "X": 9.699999999999932,
          "Y": -23.795671636576557
         },
         {
          "Outlier": "\"N/A\"",
          "X": 9.79999999999993,
          "Y": -25.698267857158072
         },
         {
          "Outlier": "\"N/A\"",
          "X": 9.899999999999928,
          "Y": -32.23329810811726
         },
         {
          "Outlier": "\"N/A\"",
          "X": 9.999999999999929,
          "Y": -27.44784410052699
         }
        ]
       },
       "encoding": {
        "color": {
         "field": "Outlier"
        },
        "x": {
         "field": "X",
         "type": "quantitative"
        },
        "y": {
         "field": "Y",
         "type": "quantitative"
        }
       },
       "height": 400,
       "mark": "circle",
       "width": 400
      },
      "image/png": "[encoded data removed]"
     },
     "metadata": {},
     "output_type": "display_data"
    }
   ],
   "source": [
    "plot (zip regressionSamples (Prelude.repeat $ T.pack \"N/A\"))"
   ]
  },
  {
   "cell_type": "markdown",
   "metadata": {},
   "source": [
    "Function`regression` computes paramteres of the model, namely `(slope, intercept, noise)` and their score."
   ]
  },
  {
   "cell_type": "code",
   "execution_count": 5,
   "metadata": {},
   "outputs": [],
   "source": [
    "regression :: (MonadMeasure m) => [Double] -> [Double] -> m (Double, Double, Double)\n",
    "regression xs ys = do\n",
    "    params@(slope, intercept, noise) <- paramPriorRegression\n",
    "    forM_ (zip xs ys) \\(x, y) -> factor $ normalPdf (slope * x + intercept) (sqrt noise) y\n",
    "    return (slope, intercept, noise)"
   ]
  },
  {
   "cell_type": "code",
   "execution_count": 6,
   "metadata": {},
   "outputs": [
    {
     "data": {
      "text/plain": []
     },
     "metadata": {},
     "output_type": "display_data"
    }
   ],
   "source": [
    "mcmcConfig = MCMCConfig {numMCMCSteps = 1000, numBurnIn = 0, proposal = SingleSiteMH}\n",
    "mhRunsRegression <- sampleIOfixed . unweighted . mcmc mcmcConfig $ uncurry regression (unzip regressionSamples)"
   ]
  },
  {
   "cell_type": "markdown",
   "metadata": {},
   "source": [
    "MCMC solver puts new points at the beginning of the list. Last (in the list, so first from the simulation start) `numBurnIn` points are removed as distributions from which they were drawn are not considered convergent to the stationary distribution $\\pi$.\n",
    "\n",
    "Let's se how the intercept and slope evolve during the simulations:"
   ]
  },
  {
   "cell_type": "code",
   "execution_count": 7,
   "metadata": {},
   "outputs": [
    {
     "data": {
      "text/plain": [
       "\"Slope\""
      ]
     },
     "metadata": {},
     "output_type": "display_data"
    },
    {
     "data": {
      "application/vnd.vegalite.v4+json": {
       "$schema": "https://vega.github.io/schema/vega-lite/v4.json",
       "data": {
        "values": [
         {
          "Outlier": 1,
          "X": 1001,
          "Y": -2.823624445842976
         },
         {
          "Outlier": 1,
          "X": 1000,
          "Y": -2.823624445842976
         },
         {
          "Outlier": 1,
          "X": 999,
          "Y": -2.823624445842976
         },
         {
          "Outlier": 1,
          "X": 998,
          "Y": -2.823624445842976
         },
         {
          "Outlier": 1,
          "X": 997,
          "Y": -2.823624445842976
         },
         {
          "Outlier": 1,
          "X": 996,
          "Y": -2.823624445842976
         },
         {
          "Outlier": 1,
          "X": 995,
          "Y": -2.823624445842976
         },
         {
          "Outlier": 1,
          "X": 994,
          "Y": -2.823624445842976
         },
         {
          "Outlier": 1,
          "X": 993,
          "Y": -2.823624445842976
         },
         {
          "Outlier": 1,
          "X": 992,
          "Y": -2.823624445842976
         },
         {
          "Outlier": 1,
          "X": 991,
          "Y": -2.823624445842976
         },
         {
          "Outlier": 1,
          "X": 990,
          "Y": -2.823624445842976
         },
         {
          "Outlier": 1,
          "X": 989,
          "Y": -2.823624445842976
         },
         {
          "Outlier": 1,
          "X": 988,
          "Y": -2.823624445842976
         },
         {
          "Outlier": 1,
          "X": 987,
          "Y": -2.823624445842976
         },
         {
          "Outlier": 1,
          "X": 986,
          "Y": -2.823624445842976
         },
         {
          "Outlier": 1,
          "X": 985,
          "Y": -2.823624445842976
         },
         {
          "Outlier": 1,
          "X": 984,
          "Y": -2.823624445842976
         },
         {
          "Outlier": 1,
          "X": 983,
          "Y": -2.823624445842976
         },
         {
          "Outlier": 1,
          "X": 982,
          "Y": -2.823624445842976
         },
         {
          "Outlier": 1,
          "X": 981,
          "Y": -2.823624445842976
         },
         {
          "Outlier": 1,
          "X": 980,
          "Y": -2.823624445842976
         },
         {
          "Outlier": 1,
          "X": 979,
          "Y": -2.823624445842976
         },
         {
          "Outlier": 1,
          "X": 978,
          "Y": -2.823624445842976
         },
         {
          "Outlier": 1,
          "X": 977,
          "Y": -2.823624445842976
         },
         {
          "Outlier": 1,
          "X": 976,
          "Y": -2.823624445842976
         },
         {
          "Outlier": 1,
          "X": 975,
          "Y": -2.823624445842976
         },
         {
          "Outlier": 1,
          "X": 974,
          "Y": -2.823624445842976
         },
         {
          "Outlier": 1,
          "X": 973,
          "Y": -2.823624445842976
         },
         {
          "Outlier": 1,
          "X": 972,
          "Y": -2.823624445842976
         },
         {
          "Outlier": 1,
          "X": 971,
          "Y": -2.823624445842976
         },
         {
          "Outlier": 1,
          "X": 970,
          "Y": -2.823624445842976
         },
         {
          "Outlier": 1,
          "X": 969,
          "Y": -2.823624445842976
         },
         {
          "Outlier": 1,
          "X": 968,
          "Y": -2.823624445842976
         },
         {
          "Outlier": 1,
          "X": 967,
          "Y": -2.823624445842976
         },
         {
          "Outlier": 1,
          "X": 966,
          "Y": -2.823624445842976
         },
         {
          "Outlier": 1,
          "X": 965,
          "Y": -2.823624445842976
         },
         {
          "Outlier": 1,
          "X": 964,
          "Y": -2.823624445842976
         },
         {
          "Outlier": 1,
          "X": 963,
          "Y": -2.823624445842976
         },
         {
          "Outlier": 1,
          "X": 962,
          "Y": -2.823624445842976
         },
         {
          "Outlier": 1,
          "X": 961,
          "Y": -2.823624445842976
         },
         {
          "Outlier": 1,
          "X": 960,
          "Y": -2.823624445842976
         },
         {
          "Outlier": 1,
          "X": 959,
          "Y": -2.823624445842976
         },
         {
          "Outlier": 1,
          "X": 958,
          "Y": -2.823624445842976
         },
         {
          "Outlier": 1,
          "X": 957,
          "Y": -2.823624445842976
         },
         {
          "Outlier": 1,
          "X": 956,
          "Y": -2.823624445842976
         },
         {
          "Outlier": 1,
          "X": 955,
          "Y": -2.823624445842976
         },
         {
          "Outlier": 1,
          "X": 954,
          "Y": -2.823624445842976
         },
         {
          "Outlier": 1,
          "X": 953,
          "Y": -2.823624445842976
         },
         {
          "Outlier": 1,
          "X": 952,
          "Y": -2.823624445842976
         },
         {
          "Outlier": 1,
          "X": 951,
          "Y": -2.823624445842976
         },
         {
          "Outlier": 1,
          "X": 950,
          "Y": -2.823624445842976
         },
         {
          "Outlier": 1,
          "X": 949,
          "Y": -2.823624445842976
         },
         {
          "Outlier": 1,
          "X": 948,
          "Y": -2.823624445842976
         },
         {
          "Outlier": 1,
          "X": 947,
          "Y": -2.823624445842976
         },
         {
          "Outlier": 1,
          "X": 946,
          "Y": -2.823624445842976
         },
         {
          "Outlier": 1,
          "X": 945,
          "Y": -2.823624445842976
         },
         {
          "Outlier": 1,
          "X": 944,
          "Y": -2.823624445842976
         },
         {
          "Outlier": 1,
          "X": 943,
          "Y": -2.823624445842976
         },
         {
          "Outlier": 1,
          "X": 942,
          "Y": -2.823624445842976
         },
         {
          "Outlier": 1,
          "X": 941,
          "Y": -2.823624445842976
         },
         {
          "Outlier": 1,
          "X": 940,
          "Y": -2.823624445842976
         },
         {
          "Outlier": 1,
          "X": 939,
          "Y": -2.823624445842976
         },
         {
          "Outlier": 1,
          "X": 938,
          "Y": -2.823624445842976
         },
         {
          "Outlier": 1,
          "X": 937,
          "Y": -2.823624445842976
         },
         {
          "Outlier": 1,
          "X": 936,
          "Y": -2.823624445842976
         },
         {
          "Outlier": 1,
          "X": 935,
          "Y": -2.823624445842976
         },
         {
          "Outlier": 1,
          "X": 934,
          "Y": -2.823624445842976
         },
         {
          "Outlier": 1,
          "X": 933,
          "Y": -2.823624445842976
         },
         {
          "Outlier": 1,
          "X": 932,
          "Y": -2.823624445842976
         },
         {
          "Outlier": 1,
          "X": 931,
          "Y": -2.823624445842976
         },
         {
          "Outlier": 1,
          "X": 930,
          "Y": -2.823624445842976
         },
         {
          "Outlier": 1,
          "X": 929,
          "Y": -2.823624445842976
         },
         {
          "Outlier": 1,
          "X": 928,
          "Y": -2.823624445842976
         },
         {
          "Outlier": 1,
          "X": 927,
          "Y": -2.823624445842976
         },
         {
          "Outlier": 1,
          "X": 926,
          "Y": -2.823624445842976
         },
         {
          "Outlier": 1,
          "X": 925,
          "Y": -2.823624445842976
         },
         {
          "Outlier": 1,
          "X": 924,
          "Y": -2.823624445842976
         },
         {
          "Outlier": 1,
          "X": 923,
          "Y": -2.823624445842976
         },
         {
          "Outlier": 1,
          "X": 922,
          "Y": -2.823624445842976
         },
         {
          "Outlier": 1,
          "X": 921,
          "Y": -2.823624445842976
         },
         {
          "Outlier": 1,
          "X": 920,
          "Y": -2.823624445842976
         },
         {
          "Outlier": 1,
          "X": 919,
          "Y": -2.823624445842976
         },
         {
          "Outlier": 1,
          "X": 918,
          "Y": -2.823624445842976
         },
         {
          "Outlier": 1,
          "X": 917,
          "Y": -2.823624445842976
         },
         {
          "Outlier": 1,
          "X": 916,
          "Y": -2.8121213968098955
         },
         {
          "Outlier": 1,
          "X": 915,
          "Y": -2.8121213968098955
         },
         {
          "Outlier": 1,
          "X": 914,
          "Y": -2.8121213968098955
         },
         {
          "Outlier": 1,
          "X": 913,
          "Y": -2.8121213968098955
         },
         {
          "Outlier": 1,
          "X": 912,
          "Y": -2.8121213968098955
         },
         {
          "Outlier": 1,
          "X": 911,
          "Y": -2.8121213968098955
         },
         {
          "Outlier": 1,
          "X": 910,
          "Y": -2.8121213968098955
         },
         {
          "Outlier": 1,
          "X": 909,
          "Y": -2.8121213968098955
         },
         {
          "Outlier": 1,
          "X": 908,
          "Y": -2.8121213968098955
         },
         {
          "Outlier": 1,
          "X": 907,
          "Y": -2.8121213968098955
         },
         {
          "Outlier": 1,
          "X": 906,
          "Y": -2.8121213968098955
         },
         {
          "Outlier": 1,
          "X": 905,
          "Y": -2.8121213968098955
         },
         {
          "Outlier": 1,
          "X": 904,
          "Y": -2.8121213968098955
         },
         {
          "Outlier": 1,
          "X": 903,
          "Y": -2.8121213968098955
         },
         {
          "Outlier": 1,
          "X": 902,
          "Y": -2.8121213968098955
         },
         {
          "Outlier": 1,
          "X": 901,
          "Y": -2.8121213968098955
         },
         {
          "Outlier": 1,
          "X": 900,
          "Y": -2.8121213968098955
         },
         {
          "Outlier": 1,
          "X": 899,
          "Y": -2.8121213968098955
         },
         {
          "Outlier": 1,
          "X": 898,
          "Y": -2.8121213968098955
         },
         {
          "Outlier": 1,
          "X": 897,
          "Y": -2.8121213968098955
         },
         {
          "Outlier": 1,
          "X": 896,
          "Y": -2.8121213968098955
         },
         {
          "Outlier": 1,
          "X": 895,
          "Y": -2.8121213968098955
         },
         {
          "Outlier": 1,
          "X": 894,
          "Y": -2.8121213968098955
         },
         {
          "Outlier": 1,
          "X": 893,
          "Y": -2.8121213968098955
         },
         {
          "Outlier": 1,
          "X": 892,
          "Y": -2.8121213968098955
         },
         {
          "Outlier": 1,
          "X": 891,
          "Y": -2.8121213968098955
         },
         {
          "Outlier": 1,
          "X": 890,
          "Y": -2.8121213968098955
         },
         {
          "Outlier": 1,
          "X": 889,
          "Y": -2.8121213968098955
         },
         {
          "Outlier": 1,
          "X": 888,
          "Y": -2.8121213968098955
         },
         {
          "Outlier": 1,
          "X": 887,
          "Y": -2.8121213968098955
         },
         {
          "Outlier": 1,
          "X": 886,
          "Y": -2.8121213968098955
         },
         {
          "Outlier": 1,
          "X": 885,
          "Y": -2.8121213968098955
         },
         {
          "Outlier": 1,
          "X": 884,
          "Y": -2.8121213968098955
         },
         {
          "Outlier": 1,
          "X": 883,
          "Y": -2.8121213968098955
         },
         {
          "Outlier": 1,
          "X": 882,
          "Y": -2.8121213968098955
         },
         {
          "Outlier": 1,
          "X": 881,
          "Y": -2.8121213968098955
         },
         {
          "Outlier": 1,
          "X": 880,
          "Y": -2.8121213968098955
         },
         {
          "Outlier": 1,
          "X": 879,
          "Y": -2.8121213968098955
         },
         {
          "Outlier": 1,
          "X": 878,
          "Y": -2.8121213968098955
         },
         {
          "Outlier": 1,
          "X": 877,
          "Y": -2.8121213968098955
         },
         {
          "Outlier": 1,
          "X": 876,
          "Y": -2.8121213968098955
         },
         {
          "Outlier": 1,
          "X": 875,
          "Y": -2.8121213968098955
         },
         {
          "Outlier": 1,
          "X": 874,
          "Y": -2.8121213968098955
         },
         {
          "Outlier": 1,
          "X": 873,
          "Y": -2.8121213968098955
         },
         {
          "Outlier": 1,
          "X": 872,
          "Y": -2.8121213968098955
         },
         {
          "Outlier": 1,
          "X": 871,
          "Y": -2.8121213968098955
         },
         {
          "Outlier": 1,
          "X": 870,
          "Y": -2.8121213968098955
         },
         {
          "Outlier": 1,
          "X": 869,
          "Y": -2.8121213968098955
         },
         {
          "Outlier": 1,
          "X": 868,
          "Y": -2.8121213968098955
         },
         {
          "Outlier": 1,
          "X": 867,
          "Y": -2.8121213968098955
         },
         {
          "Outlier": 1,
          "X": 866,
          "Y": -2.8121213968098955
         },
         {
          "Outlier": 1,
          "X": 865,
          "Y": -2.8121213968098955
         },
         {
          "Outlier": 1,
          "X": 864,
          "Y": -2.8121213968098955
         },
         {
          "Outlier": 1,
          "X": 863,
          "Y": -2.8121213968098955
         },
         {
          "Outlier": 1,
          "X": 862,
          "Y": -2.8121213968098955
         },
         {
          "Outlier": 1,
          "X": 861,
          "Y": -2.8121213968098955
         },
         {
          "Outlier": 1,
          "X": 860,
          "Y": -2.8121213968098955
         },
         {
          "Outlier": 1,
          "X": 859,
          "Y": -2.8121213968098955
         },
         {
          "Outlier": 1,
          "X": 858,
          "Y": -2.8121213968098955
         },
         {
          "Outlier": 1,
          "X": 857,
          "Y": -2.8121213968098955
         },
         {
          "Outlier": 1,
          "X": 856,
          "Y": -2.8121213968098955
         },
         {
          "Outlier": 1,
          "X": 855,
          "Y": -2.8121213968098955
         },
         {
          "Outlier": 1,
          "X": 854,
          "Y": -2.8121213968098955
         },
         {
          "Outlier": 1,
          "X": 853,
          "Y": -2.8121213968098955
         },
         {
          "Outlier": 1,
          "X": 852,
          "Y": -2.8121213968098955
         },
         {
          "Outlier": 1,
          "X": 851,
          "Y": -2.8121213968098955
         },
         {
          "Outlier": 1,
          "X": 850,
          "Y": -2.8121213968098955
         },
         {
          "Outlier": 1,
          "X": 849,
          "Y": -2.8121213968098955
         },
         {
          "Outlier": 1,
          "X": 848,
          "Y": -2.8121213968098955
         },
         {
          "Outlier": 1,
          "X": 847,
          "Y": -2.8121213968098955
         },
         {
          "Outlier": 1,
          "X": 846,
          "Y": -2.8121213968098955
         },
         {
          "Outlier": 1,
          "X": 845,
          "Y": -2.8121213968098955
         },
         {
          "Outlier": 1,
          "X": 844,
          "Y": -2.8121213968098955
         },
         {
          "Outlier": 1,
          "X": 843,
          "Y": -2.789610545041284
         },
         {
          "Outlier": 1,
          "X": 842,
          "Y": -2.789610545041284
         },
         {
          "Outlier": 1,
          "X": 841,
          "Y": -2.789610545041284
         },
         {
          "Outlier": 1,
          "X": 840,
          "Y": -2.789610545041284
         },
         {
          "Outlier": 1,
          "X": 839,
          "Y": -2.789610545041284
         },
         {
          "Outlier": 1,
          "X": 838,
          "Y": -2.789610545041284
         },
         {
          "Outlier": 1,
          "X": 837,
          "Y": -2.789610545041284
         },
         {
          "Outlier": 1,
          "X": 836,
          "Y": -2.789610545041284
         },
         {
          "Outlier": 1,
          "X": 835,
          "Y": -2.789610545041284
         },
         {
          "Outlier": 1,
          "X": 834,
          "Y": -2.789610545041284
         },
         {
          "Outlier": 1,
          "X": 833,
          "Y": -2.789610545041284
         },
         {
          "Outlier": 1,
          "X": 832,
          "Y": -2.789610545041284
         },
         {
          "Outlier": 1,
          "X": 831,
          "Y": -2.789610545041284
         },
         {
          "Outlier": 1,
          "X": 830,
          "Y": -2.789610545041284
         },
         {
          "Outlier": 1,
          "X": 829,
          "Y": -2.789610545041284
         },
         {
          "Outlier": 1,
          "X": 828,
          "Y": -2.789610545041284
         },
         {
          "Outlier": 1,
          "X": 827,
          "Y": -2.789610545041284
         },
         {
          "Outlier": 1,
          "X": 826,
          "Y": -2.789610545041284
         },
         {
          "Outlier": 1,
          "X": 825,
          "Y": -2.789610545041284
         },
         {
          "Outlier": 1,
          "X": 824,
          "Y": -2.789610545041284
         },
         {
          "Outlier": 1,
          "X": 823,
          "Y": -2.789610545041284
         },
         {
          "Outlier": 1,
          "X": 822,
          "Y": -2.789610545041284
         },
         {
          "Outlier": 1,
          "X": 821,
          "Y": -2.789610545041284
         },
         {
          "Outlier": 1,
          "X": 820,
          "Y": -2.789610545041284
         },
         {
          "Outlier": 1,
          "X": 819,
          "Y": -2.789610545041284
         },
         {
          "Outlier": 1,
          "X": 818,
          "Y": -2.789610545041284
         },
         {
          "Outlier": 1,
          "X": 817,
          "Y": -2.789610545041284
         },
         {
          "Outlier": 1,
          "X": 816,
          "Y": -2.789610545041284
         },
         {
          "Outlier": 1,
          "X": 815,
          "Y": -2.789610545041284
         },
         {
          "Outlier": 1,
          "X": 814,
          "Y": -2.789610545041284
         },
         {
          "Outlier": 1,
          "X": 813,
          "Y": -2.789610545041284
         },
         {
          "Outlier": 1,
          "X": 812,
          "Y": -2.789610545041284
         },
         {
          "Outlier": 1,
          "X": 811,
          "Y": -2.789610545041284
         },
         {
          "Outlier": 1,
          "X": 810,
          "Y": -2.789610545041284
         },
         {
          "Outlier": 1,
          "X": 809,
          "Y": -2.789610545041284
         },
         {
          "Outlier": 1,
          "X": 808,
          "Y": -2.789610545041284
         },
         {
          "Outlier": 1,
          "X": 807,
          "Y": -2.789610545041284
         },
         {
          "Outlier": 1,
          "X": 806,
          "Y": -2.789610545041284
         },
         {
          "Outlier": 1,
          "X": 805,
          "Y": -2.789610545041284
         },
         {
          "Outlier": 1,
          "X": 804,
          "Y": -2.789610545041284
         },
         {
          "Outlier": 1,
          "X": 803,
          "Y": -2.789610545041284
         },
         {
          "Outlier": 1,
          "X": 802,
          "Y": -2.789610545041284
         },
         {
          "Outlier": 1,
          "X": 801,
          "Y": -2.789610545041284
         },
         {
          "Outlier": 1,
          "X": 800,
          "Y": -2.789610545041284
         },
         {
          "Outlier": 1,
          "X": 799,
          "Y": -2.789610545041284
         },
         {
          "Outlier": 1,
          "X": 798,
          "Y": -2.789610545041284
         },
         {
          "Outlier": 1,
          "X": 797,
          "Y": -2.789610545041284
         },
         {
          "Outlier": 1,
          "X": 796,
          "Y": -2.789610545041284
         },
         {
          "Outlier": 1,
          "X": 795,
          "Y": -2.789610545041284
         },
         {
          "Outlier": 1,
          "X": 794,
          "Y": -2.789610545041284
         },
         {
          "Outlier": 1,
          "X": 793,
          "Y": -2.789610545041284
         },
         {
          "Outlier": 1,
          "X": 792,
          "Y": -2.789610545041284
         },
         {
          "Outlier": 1,
          "X": 791,
          "Y": -2.789610545041284
         },
         {
          "Outlier": 1,
          "X": 790,
          "Y": -2.789610545041284
         },
         {
          "Outlier": 1,
          "X": 789,
          "Y": -2.789610545041284
         },
         {
          "Outlier": 1,
          "X": 788,
          "Y": -2.789610545041284
         },
         {
          "Outlier": 1,
          "X": 787,
          "Y": -2.789610545041284
         },
         {
          "Outlier": 1,
          "X": 786,
          "Y": -2.789610545041284
         },
         {
          "Outlier": 1,
          "X": 785,
          "Y": -2.789610545041284
         },
         {
          "Outlier": 1,
          "X": 784,
          "Y": -2.789610545041284
         },
         {
          "Outlier": 1,
          "X": 783,
          "Y": -2.789610545041284
         },
         {
          "Outlier": 1,
          "X": 782,
          "Y": -2.789610545041284
         },
         {
          "Outlier": 1,
          "X": 781,
          "Y": -2.789610545041284
         },
         {
          "Outlier": 1,
          "X": 780,
          "Y": -2.789610545041284
         },
         {
          "Outlier": 1,
          "X": 779,
          "Y": -2.789610545041284
         },
         {
          "Outlier": 1,
          "X": 778,
          "Y": -2.789610545041284
         },
         {
          "Outlier": 1,
          "X": 777,
          "Y": -2.789610545041284
         },
         {
          "Outlier": 1,
          "X": 776,
          "Y": -2.789610545041284
         },
         {
          "Outlier": 1,
          "X": 775,
          "Y": -2.789610545041284
         },
         {
          "Outlier": 1,
          "X": 774,
          "Y": -2.789610545041284
         },
         {
          "Outlier": 1,
          "X": 773,
          "Y": -2.789610545041284
         },
         {
          "Outlier": 1,
          "X": 772,
          "Y": -2.789610545041284
         },
         {
          "Outlier": 1,
          "X": 771,
          "Y": -2.789610545041284
         },
         {
          "Outlier": 1,
          "X": 770,
          "Y": -2.789610545041284
         },
         {
          "Outlier": 1,
          "X": 769,
          "Y": -2.789610545041284
         },
         {
          "Outlier": 1,
          "X": 768,
          "Y": -2.789610545041284
         },
         {
          "Outlier": 1,
          "X": 767,
          "Y": -2.789610545041284
         },
         {
          "Outlier": 1,
          "X": 766,
          "Y": -2.789610545041284
         },
         {
          "Outlier": 1,
          "X": 765,
          "Y": -2.789610545041284
         },
         {
          "Outlier": 1,
          "X": 764,
          "Y": -2.789610545041284
         },
         {
          "Outlier": 1,
          "X": 763,
          "Y": -2.789610545041284
         },
         {
          "Outlier": 1,
          "X": 762,
          "Y": -2.789610545041284
         },
         {
          "Outlier": 1,
          "X": 761,
          "Y": -2.789610545041284
         },
         {
          "Outlier": 1,
          "X": 760,
          "Y": -2.789610545041284
         },
         {
          "Outlier": 1,
          "X": 759,
          "Y": -2.789610545041284
         },
         {
          "Outlier": 1,
          "X": 758,
          "Y": -2.789610545041284
         },
         {
          "Outlier": 1,
          "X": 757,
          "Y": -2.789610545041284
         },
         {
          "Outlier": 1,
          "X": 756,
          "Y": -2.789610545041284
         },
         {
          "Outlier": 1,
          "X": 755,
          "Y": -2.789610545041284
         },
         {
          "Outlier": 1,
          "X": 754,
          "Y": -2.789610545041284
         },
         {
          "Outlier": 1,
          "X": 753,
          "Y": -2.789610545041284
         },
         {
          "Outlier": 1,
          "X": 752,
          "Y": -2.789610545041284
         },
         {
          "Outlier": 1,
          "X": 751,
          "Y": -2.789610545041284
         },
         {
          "Outlier": 1,
          "X": 750,
          "Y": -2.789610545041284
         },
         {
          "Outlier": 1,
          "X": 749,
          "Y": -2.789610545041284
         },
         {
          "Outlier": 1,
          "X": 748,
          "Y": -2.789610545041284
         },
         {
          "Outlier": 1,
          "X": 747,
          "Y": -2.789610545041284
         },
         {
          "Outlier": 1,
          "X": 746,
          "Y": -2.789610545041284
         },
         {
          "Outlier": 1,
          "X": 745,
          "Y": -2.789610545041284
         },
         {
          "Outlier": 1,
          "X": 744,
          "Y": -2.789610545041284
         },
         {
          "Outlier": 1,
          "X": 743,
          "Y": -2.789610545041284
         },
         {
          "Outlier": 1,
          "X": 742,
          "Y": -2.789610545041284
         },
         {
          "Outlier": 1,
          "X": 741,
          "Y": -2.779155643098428
         },
         {
          "Outlier": 1,
          "X": 740,
          "Y": -2.779155643098428
         },
         {
          "Outlier": 1,
          "X": 739,
          "Y": -2.779155643098428
         },
         {
          "Outlier": 1,
          "X": 738,
          "Y": -2.779155643098428
         },
         {
          "Outlier": 1,
          "X": 737,
          "Y": -2.779155643098428
         },
         {
          "Outlier": 1,
          "X": 736,
          "Y": -2.779155643098428
         },
         {
          "Outlier": 1,
          "X": 735,
          "Y": -2.779155643098428
         },
         {
          "Outlier": 1,
          "X": 734,
          "Y": -2.779155643098428
         },
         {
          "Outlier": 1,
          "X": 733,
          "Y": -2.779155643098428
         },
         {
          "Outlier": 1,
          "X": 732,
          "Y": -2.779155643098428
         },
         {
          "Outlier": 1,
          "X": 731,
          "Y": -2.779155643098428
         },
         {
          "Outlier": 1,
          "X": 730,
          "Y": -2.779155643098428
         },
         {
          "Outlier": 1,
          "X": 729,
          "Y": -2.779155643098428
         },
         {
          "Outlier": 1,
          "X": 728,
          "Y": -2.779155643098428
         },
         {
          "Outlier": 1,
          "X": 727,
          "Y": -2.779155643098428
         },
         {
          "Outlier": 1,
          "X": 726,
          "Y": -2.779155643098428
         },
         {
          "Outlier": 1,
          "X": 725,
          "Y": -2.779155643098428
         },
         {
          "Outlier": 1,
          "X": 724,
          "Y": -2.779155643098428
         },
         {
          "Outlier": 1,
          "X": 723,
          "Y": -2.779155643098428
         },
         {
          "Outlier": 1,
          "X": 722,
          "Y": -2.779155643098428
         },
         {
          "Outlier": 1,
          "X": 721,
          "Y": -2.779155643098428
         },
         {
          "Outlier": 1,
          "X": 720,
          "Y": -2.779155643098428
         },
         {
          "Outlier": 1,
          "X": 719,
          "Y": -2.779155643098428
         },
         {
          "Outlier": 1,
          "X": 718,
          "Y": -2.779155643098428
         },
         {
          "Outlier": 1,
          "X": 717,
          "Y": -2.779155643098428
         },
         {
          "Outlier": 1,
          "X": 716,
          "Y": -2.779155643098428
         },
         {
          "Outlier": 1,
          "X": 715,
          "Y": -2.779155643098428
         },
         {
          "Outlier": 1,
          "X": 714,
          "Y": -2.779155643098428
         },
         {
          "Outlier": 1,
          "X": 713,
          "Y": -2.779155643098428
         },
         {
          "Outlier": 1,
          "X": 712,
          "Y": -2.779155643098428
         },
         {
          "Outlier": 1,
          "X": 711,
          "Y": -2.779155643098428
         },
         {
          "Outlier": 1,
          "X": 710,
          "Y": -2.779155643098428
         },
         {
          "Outlier": 1,
          "X": 709,
          "Y": -2.779155643098428
         },
         {
          "Outlier": 1,
          "X": 708,
          "Y": -2.779155643098428
         },
         {
          "Outlier": 1,
          "X": 707,
          "Y": -2.779155643098428
         },
         {
          "Outlier": 1,
          "X": 706,
          "Y": -2.779155643098428
         },
         {
          "Outlier": 1,
          "X": 705,
          "Y": -2.779155643098428
         },
         {
          "Outlier": 1,
          "X": 704,
          "Y": -2.779155643098428
         },
         {
          "Outlier": 1,
          "X": 703,
          "Y": -2.779155643098428
         },
         {
          "Outlier": 1,
          "X": 702,
          "Y": -2.779155643098428
         },
         {
          "Outlier": 1,
          "X": 701,
          "Y": -2.779155643098428
         },
         {
          "Outlier": 1,
          "X": 700,
          "Y": -2.779155643098428
         },
         {
          "Outlier": 1,
          "X": 699,
          "Y": -2.779155643098428
         },
         {
          "Outlier": 1,
          "X": 698,
          "Y": -2.779155643098428
         },
         {
          "Outlier": 1,
          "X": 697,
          "Y": -2.779155643098428
         },
         {
          "Outlier": 1,
          "X": 696,
          "Y": -2.779155643098428
         },
         {
          "Outlier": 1,
          "X": 695,
          "Y": -2.779155643098428
         },
         {
          "Outlier": 1,
          "X": 694,
          "Y": -2.779155643098428
         },
         {
          "Outlier": 1,
          "X": 693,
          "Y": -2.779155643098428
         },
         {
          "Outlier": 1,
          "X": 692,
          "Y": -2.779155643098428
         },
         {
          "Outlier": 1,
          "X": 691,
          "Y": -2.779155643098428
         },
         {
          "Outlier": 1,
          "X": 690,
          "Y": -2.779155643098428
         },
         {
          "Outlier": 1,
          "X": 689,
          "Y": -2.779155643098428
         },
         {
          "Outlier": 1,
          "X": 688,
          "Y": -2.779155643098428
         },
         {
          "Outlier": 1,
          "X": 687,
          "Y": -2.779155643098428
         },
         {
          "Outlier": 1,
          "X": 686,
          "Y": -2.779155643098428
         },
         {
          "Outlier": 1,
          "X": 685,
          "Y": -2.779155643098428
         },
         {
          "Outlier": 1,
          "X": 684,
          "Y": -2.779155643098428
         },
         {
          "Outlier": 1,
          "X": 683,
          "Y": -2.779155643098428
         },
         {
          "Outlier": 1,
          "X": 682,
          "Y": -2.779155643098428
         },
         {
          "Outlier": 1,
          "X": 681,
          "Y": -2.779155643098428
         },
         {
          "Outlier": 1,
          "X": 680,
          "Y": -2.779155643098428
         },
         {
          "Outlier": 1,
          "X": 679,
          "Y": -2.779155643098428
         },
         {
          "Outlier": 1,
          "X": 678,
          "Y": -2.779155643098428
         },
         {
          "Outlier": 1,
          "X": 677,
          "Y": -2.779155643098428
         },
         {
          "Outlier": 1,
          "X": 676,
          "Y": -2.779155643098428
         },
         {
          "Outlier": 1,
          "X": 675,
          "Y": -2.779155643098428
         },
         {
          "Outlier": 1,
          "X": 674,
          "Y": -2.779155643098428
         },
         {
          "Outlier": 1,
          "X": 673,
          "Y": -2.779155643098428
         },
         {
          "Outlier": 1,
          "X": 672,
          "Y": -2.779155643098428
         },
         {
          "Outlier": 1,
          "X": 671,
          "Y": -2.779155643098428
         },
         {
          "Outlier": 1,
          "X": 670,
          "Y": -2.779155643098428
         },
         {
          "Outlier": 1,
          "X": 669,
          "Y": -2.779155643098428
         },
         {
          "Outlier": 1,
          "X": 668,
          "Y": -2.779155643098428
         },
         {
          "Outlier": 1,
          "X": 667,
          "Y": -2.779155643098428
         },
         {
          "Outlier": 1,
          "X": 666,
          "Y": -2.779155643098428
         },
         {
          "Outlier": 1,
          "X": 665,
          "Y": -2.779155643098428
         },
         {
          "Outlier": 1,
          "X": 664,
          "Y": -2.779155643098428
         },
         {
          "Outlier": 1,
          "X": 663,
          "Y": -2.779155643098428
         },
         {
          "Outlier": 1,
          "X": 662,
          "Y": -2.779155643098428
         },
         {
          "Outlier": 1,
          "X": 661,
          "Y": -2.779155643098428
         },
         {
          "Outlier": 1,
          "X": 660,
          "Y": -2.779155643098428
         },
         {
          "Outlier": 1,
          "X": 659,
          "Y": -2.779155643098428
         },
         {
          "Outlier": 1,
          "X": 658,
          "Y": -2.779155643098428
         },
         {
          "Outlier": 1,
          "X": 657,
          "Y": -2.779155643098428
         },
         {
          "Outlier": 1,
          "X": 656,
          "Y": -2.779155643098428
         },
         {
          "Outlier": 1,
          "X": 655,
          "Y": -2.779155643098428
         },
         {
          "Outlier": 1,
          "X": 654,
          "Y": -2.779155643098428
         },
         {
          "Outlier": 1,
          "X": 653,
          "Y": -2.779155643098428
         },
         {
          "Outlier": 1,
          "X": 652,
          "Y": -2.779155643098428
         },
         {
          "Outlier": 1,
          "X": 651,
          "Y": -2.779155643098428
         },
         {
          "Outlier": 1,
          "X": 650,
          "Y": -2.779155643098428
         },
         {
          "Outlier": 1,
          "X": 649,
          "Y": -2.779155643098428
         },
         {
          "Outlier": 1,
          "X": 648,
          "Y": -2.779155643098428
         },
         {
          "Outlier": 1,
          "X": 647,
          "Y": -2.779155643098428
         },
         {
          "Outlier": 1,
          "X": 646,
          "Y": -2.779155643098428
         },
         {
          "Outlier": 1,
          "X": 645,
          "Y": -2.779155643098428
         },
         {
          "Outlier": 1,
          "X": 644,
          "Y": -2.779155643098428
         },
         {
          "Outlier": 1,
          "X": 643,
          "Y": -2.779155643098428
         },
         {
          "Outlier": 1,
          "X": 642,
          "Y": -2.779155643098428
         },
         {
          "Outlier": 1,
          "X": 641,
          "Y": -2.779155643098428
         },
         {
          "Outlier": 1,
          "X": 640,
          "Y": -2.779155643098428
         },
         {
          "Outlier": 1,
          "X": 639,
          "Y": -2.779155643098428
         },
         {
          "Outlier": 1,
          "X": 638,
          "Y": -2.779155643098428
         },
         {
          "Outlier": 1,
          "X": 637,
          "Y": -2.779155643098428
         },
         {
          "Outlier": 1,
          "X": 636,
          "Y": -2.779155643098428
         },
         {
          "Outlier": 1,
          "X": 635,
          "Y": -2.779155643098428
         },
         {
          "Outlier": 1,
          "X": 634,
          "Y": -2.779155643098428
         },
         {
          "Outlier": 1,
          "X": 633,
          "Y": -2.779155643098428
         },
         {
          "Outlier": 1,
          "X": 632,
          "Y": -2.779155643098428
         },
         {
          "Outlier": 1,
          "X": 631,
          "Y": -2.779155643098428
         },
         {
          "Outlier": 1,
          "X": 630,
          "Y": -2.779155643098428
         },
         {
          "Outlier": 1,
          "X": 629,
          "Y": -2.779155643098428
         },
         {
          "Outlier": 1,
          "X": 628,
          "Y": -2.779155643098428
         },
         {
          "Outlier": 1,
          "X": 627,
          "Y": -2.779155643098428
         },
         {
          "Outlier": 1,
          "X": 626,
          "Y": -2.779155643098428
         },
         {
          "Outlier": 1,
          "X": 625,
          "Y": -2.779155643098428
         },
         {
          "Outlier": 1,
          "X": 624,
          "Y": -2.779155643098428
         },
         {
          "Outlier": 1,
          "X": 623,
          "Y": -2.779155643098428
         },
         {
          "Outlier": 1,
          "X": 622,
          "Y": -2.779155643098428
         },
         {
          "Outlier": 1,
          "X": 621,
          "Y": -2.779155643098428
         },
         {
          "Outlier": 1,
          "X": 620,
          "Y": -2.779155643098428
         },
         {
          "Outlier": 1,
          "X": 619,
          "Y": -2.779155643098428
         },
         {
          "Outlier": 1,
          "X": 618,
          "Y": -2.779155643098428
         },
         {
          "Outlier": 1,
          "X": 617,
          "Y": -2.779155643098428
         },
         {
          "Outlier": 1,
          "X": 616,
          "Y": -2.779155643098428
         },
         {
          "Outlier": 1,
          "X": 615,
          "Y": -2.779155643098428
         },
         {
          "Outlier": 1,
          "X": 614,
          "Y": -2.779155643098428
         },
         {
          "Outlier": 1,
          "X": 613,
          "Y": -2.779155643098428
         },
         {
          "Outlier": 1,
          "X": 612,
          "Y": -2.779155643098428
         },
         {
          "Outlier": 1,
          "X": 611,
          "Y": -2.779155643098428
         },
         {
          "Outlier": 1,
          "X": 610,
          "Y": -2.779155643098428
         },
         {
          "Outlier": 1,
          "X": 609,
          "Y": -2.779155643098428
         },
         {
          "Outlier": 1,
          "X": 608,
          "Y": -2.779155643098428
         },
         {
          "Outlier": 1,
          "X": 607,
          "Y": -2.779155643098428
         },
         {
          "Outlier": 1,
          "X": 606,
          "Y": -2.779155643098428
         },
         {
          "Outlier": 1,
          "X": 605,
          "Y": -2.779155643098428
         },
         {
          "Outlier": 1,
          "X": 604,
          "Y": -2.779155643098428
         },
         {
          "Outlier": 1,
          "X": 603,
          "Y": -2.779155643098428
         },
         {
          "Outlier": 1,
          "X": 602,
          "Y": -2.779155643098428
         },
         {
          "Outlier": 1,
          "X": 601,
          "Y": -2.779155643098428
         },
         {
          "Outlier": 1,
          "X": 600,
          "Y": -2.779155643098428
         },
         {
          "Outlier": 1,
          "X": 599,
          "Y": -2.779155643098428
         },
         {
          "Outlier": 1,
          "X": 598,
          "Y": -2.779155643098428
         },
         {
          "Outlier": 1,
          "X": 597,
          "Y": -2.779155643098428
         },
         {
          "Outlier": 1,
          "X": 596,
          "Y": -2.779155643098428
         },
         {
          "Outlier": 1,
          "X": 595,
          "Y": -2.779155643098428
         },
         {
          "Outlier": 1,
          "X": 594,
          "Y": -2.779155643098428
         },
         {
          "Outlier": 1,
          "X": 593,
          "Y": -2.779155643098428
         },
         {
          "Outlier": 1,
          "X": 592,
          "Y": -2.779155643098428
         },
         {
          "Outlier": 1,
          "X": 591,
          "Y": -2.779155643098428
         },
         {
          "Outlier": 1,
          "X": 590,
          "Y": -2.779155643098428
         },
         {
          "Outlier": 1,
          "X": 589,
          "Y": -2.779155643098428
         },
         {
          "Outlier": 1,
          "X": 588,
          "Y": -2.779155643098428
         },
         {
          "Outlier": 1,
          "X": 587,
          "Y": -2.779155643098428
         },
         {
          "Outlier": 1,
          "X": 586,
          "Y": -2.779155643098428
         },
         {
          "Outlier": 1,
          "X": 585,
          "Y": -2.779155643098428
         },
         {
          "Outlier": 1,
          "X": 584,
          "Y": -2.779155643098428
         },
         {
          "Outlier": 1,
          "X": 583,
          "Y": -2.779155643098428
         },
         {
          "Outlier": 1,
          "X": 582,
          "Y": -2.779155643098428
         },
         {
          "Outlier": 1,
          "X": 581,
          "Y": -2.779155643098428
         },
         {
          "Outlier": 1,
          "X": 580,
          "Y": -2.779155643098428
         },
         {
          "Outlier": 1,
          "X": 579,
          "Y": -2.779155643098428
         },
         {
          "Outlier": 1,
          "X": 578,
          "Y": -2.779155643098428
         },
         {
          "Outlier": 1,
          "X": 577,
          "Y": -2.779155643098428
         },
         {
          "Outlier": 1,
          "X": 576,
          "Y": -2.779155643098428
         },
         {
          "Outlier": 1,
          "X": 575,
          "Y": -2.779155643098428
         },
         {
          "Outlier": 1,
          "X": 574,
          "Y": -2.779155643098428
         },
         {
          "Outlier": 1,
          "X": 573,
          "Y": -2.779155643098428
         },
         {
          "Outlier": 1,
          "X": 572,
          "Y": -2.779155643098428
         },
         {
          "Outlier": 1,
          "X": 571,
          "Y": -2.779155643098428
         },
         {
          "Outlier": 1,
          "X": 570,
          "Y": -2.779155643098428
         },
         {
          "Outlier": 1,
          "X": 569,
          "Y": -2.779155643098428
         },
         {
          "Outlier": 1,
          "X": 568,
          "Y": -2.779155643098428
         },
         {
          "Outlier": 1,
          "X": 567,
          "Y": -2.779155643098428
         },
         {
          "Outlier": 1,
          "X": 566,
          "Y": -2.779155643098428
         },
         {
          "Outlier": 1,
          "X": 565,
          "Y": -2.779155643098428
         },
         {
          "Outlier": 1,
          "X": 564,
          "Y": -2.779155643098428
         },
         {
          "Outlier": 1,
          "X": 563,
          "Y": -2.779155643098428
         },
         {
          "Outlier": 1,
          "X": 562,
          "Y": -2.779155643098428
         },
         {
          "Outlier": 1,
          "X": 561,
          "Y": -2.779155643098428
         },
         {
          "Outlier": 1,
          "X": 560,
          "Y": -2.779155643098428
         },
         {
          "Outlier": 1,
          "X": 559,
          "Y": -2.779155643098428
         },
         {
          "Outlier": 1,
          "X": 558,
          "Y": -2.779155643098428
         },
         {
          "Outlier": 1,
          "X": 557,
          "Y": -2.779155643098428
         },
         {
          "Outlier": 1,
          "X": 556,
          "Y": -2.779155643098428
         },
         {
          "Outlier": 1,
          "X": 555,
          "Y": -2.779155643098428
         },
         {
          "Outlier": 1,
          "X": 554,
          "Y": -2.779155643098428
         },
         {
          "Outlier": 1,
          "X": 553,
          "Y": -2.779155643098428
         },
         {
          "Outlier": 1,
          "X": 552,
          "Y": -2.779155643098428
         },
         {
          "Outlier": 1,
          "X": 551,
          "Y": -2.779155643098428
         },
         {
          "Outlier": 1,
          "X": 550,
          "Y": -2.779155643098428
         },
         {
          "Outlier": 1,
          "X": 549,
          "Y": -2.779155643098428
         },
         {
          "Outlier": 1,
          "X": 548,
          "Y": -2.779155643098428
         },
         {
          "Outlier": 1,
          "X": 547,
          "Y": -2.779155643098428
         },
         {
          "Outlier": 1,
          "X": 546,
          "Y": -2.779155643098428
         },
         {
          "Outlier": 1,
          "X": 545,
          "Y": -2.779155643098428
         },
         {
          "Outlier": 1,
          "X": 544,
          "Y": -2.779155643098428
         },
         {
          "Outlier": 1,
          "X": 543,
          "Y": -2.779155643098428
         },
         {
          "Outlier": 1,
          "X": 542,
          "Y": -2.779155643098428
         },
         {
          "Outlier": 1,
          "X": 541,
          "Y": -2.779155643098428
         },
         {
          "Outlier": 1,
          "X": 540,
          "Y": -2.779155643098428
         },
         {
          "Outlier": 1,
          "X": 539,
          "Y": -2.779155643098428
         },
         {
          "Outlier": 1,
          "X": 538,
          "Y": -2.779155643098428
         },
         {
          "Outlier": 1,
          "X": 537,
          "Y": -2.779155643098428
         },
         {
          "Outlier": 1,
          "X": 536,
          "Y": -2.779155643098428
         },
         {
          "Outlier": 1,
          "X": 535,
          "Y": -2.779155643098428
         },
         {
          "Outlier": 1,
          "X": 534,
          "Y": -2.779155643098428
         },
         {
          "Outlier": 1,
          "X": 533,
          "Y": -2.779155643098428
         },
         {
          "Outlier": 1,
          "X": 532,
          "Y": -2.779155643098428
         },
         {
          "Outlier": 1,
          "X": 531,
          "Y": -2.779155643098428
         },
         {
          "Outlier": 1,
          "X": 530,
          "Y": -2.779155643098428
         },
         {
          "Outlier": 1,
          "X": 529,
          "Y": -2.779155643098428
         },
         {
          "Outlier": 1,
          "X": 528,
          "Y": -2.779155643098428
         },
         {
          "Outlier": 1,
          "X": 527,
          "Y": -2.779155643098428
         },
         {
          "Outlier": 1,
          "X": 526,
          "Y": -2.779155643098428
         },
         {
          "Outlier": 1,
          "X": 525,
          "Y": -2.779155643098428
         },
         {
          "Outlier": 1,
          "X": 524,
          "Y": -2.779155643098428
         },
         {
          "Outlier": 1,
          "X": 523,
          "Y": -2.779155643098428
         },
         {
          "Outlier": 1,
          "X": 522,
          "Y": -2.779155643098428
         },
         {
          "Outlier": 1,
          "X": 521,
          "Y": -2.779155643098428
         },
         {
          "Outlier": 1,
          "X": 520,
          "Y": -2.779155643098428
         },
         {
          "Outlier": 1,
          "X": 519,
          "Y": -2.779155643098428
         },
         {
          "Outlier": 1,
          "X": 518,
          "Y": -2.779155643098428
         },
         {
          "Outlier": 1,
          "X": 517,
          "Y": -2.779155643098428
         },
         {
          "Outlier": 1,
          "X": 516,
          "Y": -2.779155643098428
         },
         {
          "Outlier": 1,
          "X": 515,
          "Y": -2.779155643098428
         },
         {
          "Outlier": 1,
          "X": 514,
          "Y": -2.779155643098428
         },
         {
          "Outlier": 1,
          "X": 513,
          "Y": -2.779155643098428
         },
         {
          "Outlier": 1,
          "X": 512,
          "Y": -2.779155643098428
         },
         {
          "Outlier": 1,
          "X": 511,
          "Y": -2.779155643098428
         },
         {
          "Outlier": 1,
          "X": 510,
          "Y": -2.779155643098428
         },
         {
          "Outlier": 1,
          "X": 509,
          "Y": -2.779155643098428
         },
         {
          "Outlier": 1,
          "X": 508,
          "Y": -2.779155643098428
         },
         {
          "Outlier": 1,
          "X": 507,
          "Y": -2.779155643098428
         },
         {
          "Outlier": 1,
          "X": 506,
          "Y": -2.779155643098428
         },
         {
          "Outlier": 1,
          "X": 505,
          "Y": -2.779155643098428
         },
         {
          "Outlier": 1,
          "X": 504,
          "Y": -2.779155643098428
         },
         {
          "Outlier": 1,
          "X": 503,
          "Y": -2.779155643098428
         },
         {
          "Outlier": 1,
          "X": 502,
          "Y": -2.779155643098428
         },
         {
          "Outlier": 1,
          "X": 501,
          "Y": -2.779155643098428
         },
         {
          "Outlier": 1,
          "X": 500,
          "Y": -2.779155643098428
         },
         {
          "Outlier": 1,
          "X": 499,
          "Y": -2.779155643098428
         },
         {
          "Outlier": 1,
          "X": 498,
          "Y": -2.779155643098428
         },
         {
          "Outlier": 1,
          "X": 497,
          "Y": -2.779155643098428
         },
         {
          "Outlier": 1,
          "X": 496,
          "Y": -2.779155643098428
         },
         {
          "Outlier": 1,
          "X": 495,
          "Y": -2.779155643098428
         },
         {
          "Outlier": 1,
          "X": 494,
          "Y": -2.779155643098428
         },
         {
          "Outlier": 1,
          "X": 493,
          "Y": -2.779155643098428
         },
         {
          "Outlier": 1,
          "X": 492,
          "Y": -2.779155643098428
         },
         {
          "Outlier": 1,
          "X": 491,
          "Y": -2.779155643098428
         },
         {
          "Outlier": 1,
          "X": 490,
          "Y": -2.779155643098428
         },
         {
          "Outlier": 1,
          "X": 489,
          "Y": -2.779155643098428
         },
         {
          "Outlier": 1,
          "X": 488,
          "Y": -2.779155643098428
         },
         {
          "Outlier": 1,
          "X": 487,
          "Y": -2.779155643098428
         },
         {
          "Outlier": 1,
          "X": 486,
          "Y": -2.779155643098428
         },
         {
          "Outlier": 1,
          "X": 485,
          "Y": -2.779155643098428
         },
         {
          "Outlier": 1,
          "X": 484,
          "Y": -2.779155643098428
         },
         {
          "Outlier": 1,
          "X": 483,
          "Y": -2.779155643098428
         },
         {
          "Outlier": 1,
          "X": 482,
          "Y": -2.779155643098428
         },
         {
          "Outlier": 1,
          "X": 481,
          "Y": -2.779155643098428
         },
         {
          "Outlier": 1,
          "X": 480,
          "Y": -2.779155643098428
         },
         {
          "Outlier": 1,
          "X": 479,
          "Y": -2.779155643098428
         },
         {
          "Outlier": 1,
          "X": 478,
          "Y": -2.779155643098428
         },
         {
          "Outlier": 1,
          "X": 477,
          "Y": -2.779155643098428
         },
         {
          "Outlier": 1,
          "X": 476,
          "Y": -2.779155643098428
         },
         {
          "Outlier": 1,
          "X": 475,
          "Y": -2.779155643098428
         },
         {
          "Outlier": 1,
          "X": 474,
          "Y": -2.779155643098428
         },
         {
          "Outlier": 1,
          "X": 473,
          "Y": -2.779155643098428
         },
         {
          "Outlier": 1,
          "X": 472,
          "Y": -2.779155643098428
         },
         {
          "Outlier": 1,
          "X": 471,
          "Y": -2.779155643098428
         },
         {
          "Outlier": 1,
          "X": 470,
          "Y": -2.779155643098428
         },
         {
          "Outlier": 1,
          "X": 469,
          "Y": -2.779155643098428
         },
         {
          "Outlier": 1,
          "X": 468,
          "Y": -2.779155643098428
         },
         {
          "Outlier": 1,
          "X": 467,
          "Y": -2.779155643098428
         },
         {
          "Outlier": 1,
          "X": 466,
          "Y": -2.779155643098428
         },
         {
          "Outlier": 1,
          "X": 465,
          "Y": -2.779155643098428
         },
         {
          "Outlier": 1,
          "X": 464,
          "Y": -2.779155643098428
         },
         {
          "Outlier": 1,
          "X": 463,
          "Y": -2.779155643098428
         },
         {
          "Outlier": 1,
          "X": 462,
          "Y": -2.779155643098428
         },
         {
          "Outlier": 1,
          "X": 461,
          "Y": -2.779155643098428
         },
         {
          "Outlier": 1,
          "X": 460,
          "Y": -2.779155643098428
         },
         {
          "Outlier": 1,
          "X": 459,
          "Y": -2.779155643098428
         },
         {
          "Outlier": 1,
          "X": 458,
          "Y": -2.779155643098428
         },
         {
          "Outlier": 1,
          "X": 457,
          "Y": -2.779155643098428
         },
         {
          "Outlier": 1,
          "X": 456,
          "Y": -2.779155643098428
         },
         {
          "Outlier": 1,
          "X": 455,
          "Y": -2.779155643098428
         },
         {
          "Outlier": 1,
          "X": 454,
          "Y": -2.779155643098428
         },
         {
          "Outlier": 1,
          "X": 453,
          "Y": -2.779155643098428
         },
         {
          "Outlier": 1,
          "X": 452,
          "Y": -2.779155643098428
         },
         {
          "Outlier": 1,
          "X": 451,
          "Y": -2.779155643098428
         },
         {
          "Outlier": 1,
          "X": 450,
          "Y": -2.779155643098428
         },
         {
          "Outlier": 1,
          "X": 449,
          "Y": -2.779155643098428
         },
         {
          "Outlier": 1,
          "X": 448,
          "Y": -2.779155643098428
         },
         {
          "Outlier": 1,
          "X": 447,
          "Y": -2.779155643098428
         },
         {
          "Outlier": 1,
          "X": 446,
          "Y": -2.779155643098428
         },
         {
          "Outlier": 1,
          "X": 445,
          "Y": -2.779155643098428
         },
         {
          "Outlier": 1,
          "X": 444,
          "Y": -2.779155643098428
         },
         {
          "Outlier": 1,
          "X": 443,
          "Y": -2.779155643098428
         },
         {
          "Outlier": 1,
          "X": 442,
          "Y": -2.779155643098428
         },
         {
          "Outlier": 1,
          "X": 441,
          "Y": -2.779155643098428
         },
         {
          "Outlier": 1,
          "X": 440,
          "Y": -2.779155643098428
         },
         {
          "Outlier": 1,
          "X": 439,
          "Y": -2.779155643098428
         },
         {
          "Outlier": 1,
          "X": 438,
          "Y": -2.779155643098428
         },
         {
          "Outlier": 1,
          "X": 437,
          "Y": -2.779155643098428
         },
         {
          "Outlier": 1,
          "X": 436,
          "Y": -2.779155643098428
         },
         {
          "Outlier": 1,
          "X": 435,
          "Y": -2.779155643098428
         },
         {
          "Outlier": 1,
          "X": 434,
          "Y": -2.779155643098428
         },
         {
          "Outlier": 1,
          "X": 433,
          "Y": -2.779155643098428
         },
         {
          "Outlier": 1,
          "X": 432,
          "Y": -2.779155643098428
         },
         {
          "Outlier": 1,
          "X": 431,
          "Y": -2.779155643098428
         },
         {
          "Outlier": 1,
          "X": 430,
          "Y": -2.779155643098428
         },
         {
          "Outlier": 1,
          "X": 429,
          "Y": -2.779155643098428
         },
         {
          "Outlier": 1,
          "X": 428,
          "Y": -2.779155643098428
         },
         {
          "Outlier": 1,
          "X": 427,
          "Y": -2.779155643098428
         },
         {
          "Outlier": 1,
          "X": 426,
          "Y": -2.779155643098428
         },
         {
          "Outlier": 1,
          "X": 425,
          "Y": -2.779155643098428
         },
         {
          "Outlier": 1,
          "X": 424,
          "Y": -2.779155643098428
         },
         {
          "Outlier": 1,
          "X": 423,
          "Y": -2.779155643098428
         },
         {
          "Outlier": 1,
          "X": 422,
          "Y": -2.779155643098428
         },
         {
          "Outlier": 1,
          "X": 421,
          "Y": -2.779155643098428
         },
         {
          "Outlier": 1,
          "X": 420,
          "Y": -2.779155643098428
         },
         {
          "Outlier": 1,
          "X": 419,
          "Y": -2.779155643098428
         },
         {
          "Outlier": 1,
          "X": 418,
          "Y": -2.779155643098428
         },
         {
          "Outlier": 1,
          "X": 417,
          "Y": -2.779155643098428
         },
         {
          "Outlier": 1,
          "X": 416,
          "Y": -2.779155643098428
         },
         {
          "Outlier": 1,
          "X": 415,
          "Y": -2.779155643098428
         },
         {
          "Outlier": 1,
          "X": 414,
          "Y": -2.779155643098428
         },
         {
          "Outlier": 1,
          "X": 413,
          "Y": -2.779155643098428
         },
         {
          "Outlier": 1,
          "X": 412,
          "Y": -2.779155643098428
         },
         {
          "Outlier": 1,
          "X": 411,
          "Y": -2.779155643098428
         },
         {
          "Outlier": 1,
          "X": 410,
          "Y": -2.779155643098428
         },
         {
          "Outlier": 1,
          "X": 409,
          "Y": -2.779155643098428
         },
         {
          "Outlier": 1,
          "X": 408,
          "Y": -2.779155643098428
         },
         {
          "Outlier": 1,
          "X": 407,
          "Y": -2.779155643098428
         },
         {
          "Outlier": 1,
          "X": 406,
          "Y": -2.779155643098428
         },
         {
          "Outlier": 1,
          "X": 405,
          "Y": -2.779155643098428
         },
         {
          "Outlier": 1,
          "X": 404,
          "Y": -2.779155643098428
         },
         {
          "Outlier": 1,
          "X": 403,
          "Y": -2.779155643098428
         },
         {
          "Outlier": 1,
          "X": 402,
          "Y": -2.779155643098428
         },
         {
          "Outlier": 1,
          "X": 401,
          "Y": -2.779155643098428
         },
         {
          "Outlier": 1,
          "X": 400,
          "Y": -2.779155643098428
         },
         {
          "Outlier": 1,
          "X": 399,
          "Y": -2.779155643098428
         },
         {
          "Outlier": 1,
          "X": 398,
          "Y": -2.779155643098428
         },
         {
          "Outlier": 1,
          "X": 397,
          "Y": -2.779155643098428
         },
         {
          "Outlier": 1,
          "X": 396,
          "Y": -2.779155643098428
         },
         {
          "Outlier": 1,
          "X": 395,
          "Y": -2.779155643098428
         },
         {
          "Outlier": 1,
          "X": 394,
          "Y": -2.779155643098428
         },
         {
          "Outlier": 1,
          "X": 393,
          "Y": -2.779155643098428
         },
         {
          "Outlier": 1,
          "X": 392,
          "Y": -2.779155643098428
         },
         {
          "Outlier": 1,
          "X": 391,
          "Y": -2.779155643098428
         },
         {
          "Outlier": 1,
          "X": 390,
          "Y": -2.779155643098428
         },
         {
          "Outlier": 1,
          "X": 389,
          "Y": -2.779155643098428
         },
         {
          "Outlier": 1,
          "X": 388,
          "Y": -2.779155643098428
         },
         {
          "Outlier": 1,
          "X": 387,
          "Y": -2.779155643098428
         },
         {
          "Outlier": 1,
          "X": 386,
          "Y": -2.779155643098428
         },
         {
          "Outlier": 1,
          "X": 385,
          "Y": -2.779155643098428
         },
         {
          "Outlier": 1,
          "X": 384,
          "Y": -2.779155643098428
         },
         {
          "Outlier": 1,
          "X": 383,
          "Y": -2.779155643098428
         },
         {
          "Outlier": 1,
          "X": 382,
          "Y": -2.779155643098428
         },
         {
          "Outlier": 1,
          "X": 381,
          "Y": -2.779155643098428
         },
         {
          "Outlier": 1,
          "X": 380,
          "Y": -2.779155643098428
         },
         {
          "Outlier": 1,
          "X": 379,
          "Y": -2.779155643098428
         },
         {
          "Outlier": 1,
          "X": 378,
          "Y": -2.779155643098428
         },
         {
          "Outlier": 1,
          "X": 377,
          "Y": -2.779155643098428
         },
         {
          "Outlier": 1,
          "X": 376,
          "Y": -2.779155643098428
         },
         {
          "Outlier": 1,
          "X": 375,
          "Y": -2.779155643098428
         },
         {
          "Outlier": 1,
          "X": 374,
          "Y": -2.779155643098428
         },
         {
          "Outlier": 1,
          "X": 373,
          "Y": -2.779155643098428
         },
         {
          "Outlier": 1,
          "X": 372,
          "Y": -2.779155643098428
         },
         {
          "Outlier": 1,
          "X": 371,
          "Y": -2.779155643098428
         },
         {
          "Outlier": 1,
          "X": 370,
          "Y": -2.779155643098428
         },
         {
          "Outlier": 1,
          "X": 369,
          "Y": -2.779155643098428
         },
         {
          "Outlier": 1,
          "X": 368,
          "Y": -2.779155643098428
         },
         {
          "Outlier": 1,
          "X": 367,
          "Y": -2.779155643098428
         },
         {
          "Outlier": 1,
          "X": 366,
          "Y": -2.779155643098428
         },
         {
          "Outlier": 1,
          "X": 365,
          "Y": -2.779155643098428
         },
         {
          "Outlier": 1,
          "X": 364,
          "Y": -2.779155643098428
         },
         {
          "Outlier": 1,
          "X": 363,
          "Y": -2.779155643098428
         },
         {
          "Outlier": 1,
          "X": 362,
          "Y": -2.779155643098428
         },
         {
          "Outlier": 1,
          "X": 361,
          "Y": -2.779155643098428
         },
         {
          "Outlier": 1,
          "X": 360,
          "Y": -2.779155643098428
         },
         {
          "Outlier": 1,
          "X": 359,
          "Y": -2.779155643098428
         },
         {
          "Outlier": 1,
          "X": 358,
          "Y": -2.779155643098428
         },
         {
          "Outlier": 1,
          "X": 357,
          "Y": -2.779155643098428
         },
         {
          "Outlier": 1,
          "X": 356,
          "Y": -2.779155643098428
         },
         {
          "Outlier": 1,
          "X": 355,
          "Y": -2.779155643098428
         },
         {
          "Outlier": 1,
          "X": 354,
          "Y": -2.779155643098428
         },
         {
          "Outlier": 1,
          "X": 353,
          "Y": -2.779155643098428
         },
         {
          "Outlier": 1,
          "X": 352,
          "Y": -2.779155643098428
         },
         {
          "Outlier": 1,
          "X": 351,
          "Y": -2.779155643098428
         },
         {
          "Outlier": 1,
          "X": 350,
          "Y": -2.779155643098428
         },
         {
          "Outlier": 1,
          "X": 349,
          "Y": -2.779155643098428
         },
         {
          "Outlier": 1,
          "X": 348,
          "Y": -2.779155643098428
         },
         {
          "Outlier": 1,
          "X": 347,
          "Y": -2.779155643098428
         },
         {
          "Outlier": 1,
          "X": 346,
          "Y": -2.779155643098428
         },
         {
          "Outlier": 1,
          "X": 345,
          "Y": -2.779155643098428
         },
         {
          "Outlier": 1,
          "X": 344,
          "Y": -2.779155643098428
         },
         {
          "Outlier": 1,
          "X": 343,
          "Y": -2.779155643098428
         },
         {
          "Outlier": 1,
          "X": 342,
          "Y": -2.779155643098428
         },
         {
          "Outlier": 1,
          "X": 341,
          "Y": -2.779155643098428
         },
         {
          "Outlier": 1,
          "X": 340,
          "Y": -2.779155643098428
         },
         {
          "Outlier": 1,
          "X": 339,
          "Y": -2.779155643098428
         },
         {
          "Outlier": 1,
          "X": 338,
          "Y": -2.779155643098428
         },
         {
          "Outlier": 1,
          "X": 337,
          "Y": -2.779155643098428
         },
         {
          "Outlier": 1,
          "X": 336,
          "Y": -2.779155643098428
         },
         {
          "Outlier": 1,
          "X": 335,
          "Y": -2.779155643098428
         },
         {
          "Outlier": 1,
          "X": 334,
          "Y": -2.779155643098428
         },
         {
          "Outlier": 1,
          "X": 333,
          "Y": -2.779155643098428
         },
         {
          "Outlier": 1,
          "X": 332,
          "Y": -2.779155643098428
         },
         {
          "Outlier": 1,
          "X": 331,
          "Y": -2.779155643098428
         },
         {
          "Outlier": 1,
          "X": 330,
          "Y": -2.779155643098428
         },
         {
          "Outlier": 1,
          "X": 329,
          "Y": -2.779155643098428
         },
         {
          "Outlier": 1,
          "X": 328,
          "Y": -2.779155643098428
         },
         {
          "Outlier": 1,
          "X": 327,
          "Y": -2.779155643098428
         },
         {
          "Outlier": 1,
          "X": 326,
          "Y": -2.779155643098428
         },
         {
          "Outlier": 1,
          "X": 325,
          "Y": -2.779155643098428
         },
         {
          "Outlier": 1,
          "X": 324,
          "Y": -2.779155643098428
         },
         {
          "Outlier": 1,
          "X": 323,
          "Y": -2.779155643098428
         },
         {
          "Outlier": 1,
          "X": 322,
          "Y": -2.779155643098428
         },
         {
          "Outlier": 1,
          "X": 321,
          "Y": -2.779155643098428
         },
         {
          "Outlier": 1,
          "X": 320,
          "Y": -2.779155643098428
         },
         {
          "Outlier": 1,
          "X": 319,
          "Y": -2.779155643098428
         },
         {
          "Outlier": 1,
          "X": 318,
          "Y": -2.779155643098428
         },
         {
          "Outlier": 1,
          "X": 317,
          "Y": -2.779155643098428
         },
         {
          "Outlier": 1,
          "X": 316,
          "Y": -2.779155643098428
         },
         {
          "Outlier": 1,
          "X": 315,
          "Y": -2.779155643098428
         },
         {
          "Outlier": 1,
          "X": 314,
          "Y": -2.779155643098428
         },
         {
          "Outlier": 1,
          "X": 313,
          "Y": -2.779155643098428
         },
         {
          "Outlier": 1,
          "X": 312,
          "Y": -2.779155643098428
         },
         {
          "Outlier": 1,
          "X": 311,
          "Y": -2.779155643098428
         },
         {
          "Outlier": 1,
          "X": 310,
          "Y": -2.779155643098428
         },
         {
          "Outlier": 1,
          "X": 309,
          "Y": -2.779155643098428
         },
         {
          "Outlier": 1,
          "X": 308,
          "Y": -2.779155643098428
         },
         {
          "Outlier": 1,
          "X": 307,
          "Y": -2.779155643098428
         },
         {
          "Outlier": 1,
          "X": 306,
          "Y": -2.779155643098428
         },
         {
          "Outlier": 1,
          "X": 305,
          "Y": -2.779155643098428
         },
         {
          "Outlier": 1,
          "X": 304,
          "Y": -2.779155643098428
         },
         {
          "Outlier": 1,
          "X": 303,
          "Y": -2.779155643098428
         },
         {
          "Outlier": 1,
          "X": 302,
          "Y": -2.779155643098428
         },
         {
          "Outlier": 1,
          "X": 301,
          "Y": -2.779155643098428
         },
         {
          "Outlier": 1,
          "X": 300,
          "Y": -2.779155643098428
         },
         {
          "Outlier": 1,
          "X": 299,
          "Y": -2.779155643098428
         },
         {
          "Outlier": 1,
          "X": 298,
          "Y": -2.779155643098428
         },
         {
          "Outlier": 1,
          "X": 297,
          "Y": -2.779155643098428
         },
         {
          "Outlier": 1,
          "X": 296,
          "Y": -2.779155643098428
         },
         {
          "Outlier": 1,
          "X": 295,
          "Y": -2.779155643098428
         },
         {
          "Outlier": 1,
          "X": 294,
          "Y": -2.779155643098428
         },
         {
          "Outlier": 1,
          "X": 293,
          "Y": -2.779155643098428
         },
         {
          "Outlier": 1,
          "X": 292,
          "Y": -2.779155643098428
         },
         {
          "Outlier": 1,
          "X": 291,
          "Y": -2.779155643098428
         },
         {
          "Outlier": 1,
          "X": 290,
          "Y": -2.779155643098428
         },
         {
          "Outlier": 1,
          "X": 289,
          "Y": -2.779155643098428
         },
         {
          "Outlier": 1,
          "X": 288,
          "Y": -2.779155643098428
         },
         {
          "Outlier": 1,
          "X": 287,
          "Y": -2.779155643098428
         },
         {
          "Outlier": 1,
          "X": 286,
          "Y": -2.779155643098428
         },
         {
          "Outlier": 1,
          "X": 285,
          "Y": -2.779155643098428
         },
         {
          "Outlier": 1,
          "X": 284,
          "Y": -2.779155643098428
         },
         {
          "Outlier": 1,
          "X": 283,
          "Y": -2.779155643098428
         },
         {
          "Outlier": 1,
          "X": 282,
          "Y": -2.779155643098428
         },
         {
          "Outlier": 1,
          "X": 281,
          "Y": -2.779155643098428
         },
         {
          "Outlier": 1,
          "X": 280,
          "Y": -2.779155643098428
         },
         {
          "Outlier": 1,
          "X": 279,
          "Y": -2.779155643098428
         },
         {
          "Outlier": 1,
          "X": 278,
          "Y": -2.779155643098428
         },
         {
          "Outlier": 1,
          "X": 277,
          "Y": -2.779155643098428
         },
         {
          "Outlier": 1,
          "X": 276,
          "Y": -2.779155643098428
         },
         {
          "Outlier": 1,
          "X": 275,
          "Y": -2.779155643098428
         },
         {
          "Outlier": 1,
          "X": 274,
          "Y": -2.779155643098428
         },
         {
          "Outlier": 1,
          "X": 273,
          "Y": -2.779155643098428
         },
         {
          "Outlier": 1,
          "X": 272,
          "Y": -2.779155643098428
         },
         {
          "Outlier": 1,
          "X": 271,
          "Y": -2.779155643098428
         },
         {
          "Outlier": 1,
          "X": 270,
          "Y": -2.779155643098428
         },
         {
          "Outlier": 1,
          "X": 269,
          "Y": -2.779155643098428
         },
         {
          "Outlier": 1,
          "X": 268,
          "Y": -2.779155643098428
         },
         {
          "Outlier": 1,
          "X": 267,
          "Y": -2.779155643098428
         },
         {
          "Outlier": 1,
          "X": 266,
          "Y": -2.779155643098428
         },
         {
          "Outlier": 1,
          "X": 265,
          "Y": -2.779155643098428
         },
         {
          "Outlier": 1,
          "X": 264,
          "Y": -2.779155643098428
         },
         {
          "Outlier": 1,
          "X": 263,
          "Y": -2.779155643098428
         },
         {
          "Outlier": 1,
          "X": 262,
          "Y": -2.779155643098428
         },
         {
          "Outlier": 1,
          "X": 261,
          "Y": -2.779155643098428
         },
         {
          "Outlier": 1,
          "X": 260,
          "Y": -2.779155643098428
         },
         {
          "Outlier": 1,
          "X": 259,
          "Y": -2.779155643098428
         },
         {
          "Outlier": 1,
          "X": 258,
          "Y": -2.779155643098428
         },
         {
          "Outlier": 1,
          "X": 257,
          "Y": -2.779155643098428
         },
         {
          "Outlier": 1,
          "X": 256,
          "Y": -2.779155643098428
         },
         {
          "Outlier": 1,
          "X": 255,
          "Y": -2.779155643098428
         },
         {
          "Outlier": 1,
          "X": 254,
          "Y": -2.779155643098428
         },
         {
          "Outlier": 1,
          "X": 253,
          "Y": -2.779155643098428
         },
         {
          "Outlier": 1,
          "X": 252,
          "Y": -2.779155643098428
         },
         {
          "Outlier": 1,
          "X": 251,
          "Y": -2.779155643098428
         },
         {
          "Outlier": 1,
          "X": 250,
          "Y": -2.779155643098428
         },
         {
          "Outlier": 1,
          "X": 249,
          "Y": -2.779155643098428
         },
         {
          "Outlier": 1,
          "X": 248,
          "Y": -2.779155643098428
         },
         {
          "Outlier": 1,
          "X": 247,
          "Y": -2.779155643098428
         },
         {
          "Outlier": 1,
          "X": 246,
          "Y": -2.779155643098428
         },
         {
          "Outlier": 1,
          "X": 245,
          "Y": -2.779155643098428
         },
         {
          "Outlier": 1,
          "X": 244,
          "Y": -2.779155643098428
         },
         {
          "Outlier": 1,
          "X": 243,
          "Y": -2.779155643098428
         },
         {
          "Outlier": 1,
          "X": 242,
          "Y": -2.779155643098428
         },
         {
          "Outlier": 1,
          "X": 241,
          "Y": -2.779155643098428
         },
         {
          "Outlier": 1,
          "X": 240,
          "Y": -2.779155643098428
         },
         {
          "Outlier": 1,
          "X": 239,
          "Y": -2.779155643098428
         },
         {
          "Outlier": 1,
          "X": 238,
          "Y": -2.779155643098428
         },
         {
          "Outlier": 1,
          "X": 237,
          "Y": -2.779155643098428
         },
         {
          "Outlier": 1,
          "X": 236,
          "Y": -2.779155643098428
         },
         {
          "Outlier": 1,
          "X": 235,
          "Y": -2.779155643098428
         },
         {
          "Outlier": 1,
          "X": 234,
          "Y": -2.779155643098428
         },
         {
          "Outlier": 1,
          "X": 233,
          "Y": -2.779155643098428
         },
         {
          "Outlier": 1,
          "X": 232,
          "Y": -2.779155643098428
         },
         {
          "Outlier": 1,
          "X": 231,
          "Y": -2.779155643098428
         },
         {
          "Outlier": 1,
          "X": 230,
          "Y": -2.779155643098428
         },
         {
          "Outlier": 1,
          "X": 229,
          "Y": -2.779155643098428
         },
         {
          "Outlier": 1,
          "X": 228,
          "Y": -2.779155643098428
         },
         {
          "Outlier": 1,
          "X": 227,
          "Y": -2.779155643098428
         },
         {
          "Outlier": 1,
          "X": 226,
          "Y": -2.779155643098428
         },
         {
          "Outlier": 1,
          "X": 225,
          "Y": -2.779155643098428
         },
         {
          "Outlier": 1,
          "X": 224,
          "Y": -2.779155643098428
         },
         {
          "Outlier": 1,
          "X": 223,
          "Y": -2.779155643098428
         },
         {
          "Outlier": 1,
          "X": 222,
          "Y": -2.779155643098428
         },
         {
          "Outlier": 1,
          "X": 221,
          "Y": -2.779155643098428
         },
         {
          "Outlier": 1,
          "X": 220,
          "Y": -2.779155643098428
         },
         {
          "Outlier": 1,
          "X": 219,
          "Y": -2.779155643098428
         },
         {
          "Outlier": 1,
          "X": 218,
          "Y": -2.779155643098428
         },
         {
          "Outlier": 1,
          "X": 217,
          "Y": -2.779155643098428
         },
         {
          "Outlier": 1,
          "X": 216,
          "Y": -2.779155643098428
         },
         {
          "Outlier": 1,
          "X": 215,
          "Y": -2.779155643098428
         },
         {
          "Outlier": 1,
          "X": 214,
          "Y": -2.779155643098428
         },
         {
          "Outlier": 1,
          "X": 213,
          "Y": -2.779155643098428
         },
         {
          "Outlier": 1,
          "X": 212,
          "Y": -2.779155643098428
         },
         {
          "Outlier": 1,
          "X": 211,
          "Y": -2.779155643098428
         },
         {
          "Outlier": 1,
          "X": 210,
          "Y": -2.779155643098428
         },
         {
          "Outlier": 1,
          "X": 209,
          "Y": -2.779155643098428
         },
         {
          "Outlier": 1,
          "X": 208,
          "Y": -2.779155643098428
         },
         {
          "Outlier": 1,
          "X": 207,
          "Y": -2.779155643098428
         },
         {
          "Outlier": 1,
          "X": 206,
          "Y": -2.779155643098428
         },
         {
          "Outlier": 1,
          "X": 205,
          "Y": -2.779155643098428
         },
         {
          "Outlier": 1,
          "X": 204,
          "Y": -2.779155643098428
         },
         {
          "Outlier": 1,
          "X": 203,
          "Y": -2.779155643098428
         },
         {
          "Outlier": 1,
          "X": 202,
          "Y": -2.779155643098428
         },
         {
          "Outlier": 1,
          "X": 201,
          "Y": -2.779155643098428
         },
         {
          "Outlier": 1,
          "X": 200,
          "Y": -2.779155643098428
         },
         {
          "Outlier": 1,
          "X": 199,
          "Y": -2.779155643098428
         },
         {
          "Outlier": 1,
          "X": 198,
          "Y": -2.779155643098428
         },
         {
          "Outlier": 1,
          "X": 197,
          "Y": -2.779155643098428
         },
         {
          "Outlier": 1,
          "X": 196,
          "Y": -2.779155643098428
         },
         {
          "Outlier": 1,
          "X": 195,
          "Y": -2.779155643098428
         },
         {
          "Outlier": 1,
          "X": 194,
          "Y": -2.779155643098428
         },
         {
          "Outlier": 1,
          "X": 193,
          "Y": -2.779155643098428
         },
         {
          "Outlier": 1,
          "X": 192,
          "Y": -2.779155643098428
         },
         {
          "Outlier": 1,
          "X": 191,
          "Y": -2.779155643098428
         },
         {
          "Outlier": 1,
          "X": 190,
          "Y": -2.779155643098428
         },
         {
          "Outlier": 1,
          "X": 189,
          "Y": -2.779155643098428
         },
         {
          "Outlier": 1,
          "X": 188,
          "Y": -2.779155643098428
         },
         {
          "Outlier": 1,
          "X": 187,
          "Y": -2.779155643098428
         },
         {
          "Outlier": 1,
          "X": 186,
          "Y": -2.779155643098428
         },
         {
          "Outlier": 1,
          "X": 185,
          "Y": -2.779155643098428
         },
         {
          "Outlier": 1,
          "X": 184,
          "Y": -2.779155643098428
         },
         {
          "Outlier": 1,
          "X": 183,
          "Y": -2.779155643098428
         },
         {
          "Outlier": 1,
          "X": 182,
          "Y": -2.779155643098428
         },
         {
          "Outlier": 1,
          "X": 181,
          "Y": -2.779155643098428
         },
         {
          "Outlier": 1,
          "X": 180,
          "Y": -2.779155643098428
         },
         {
          "Outlier": 1,
          "X": 179,
          "Y": -2.779155643098428
         },
         {
          "Outlier": 1,
          "X": 178,
          "Y": -2.779155643098428
         },
         {
          "Outlier": 1,
          "X": 177,
          "Y": -2.779155643098428
         },
         {
          "Outlier": 1,
          "X": 176,
          "Y": -2.779155643098428
         },
         {
          "Outlier": 1,
          "X": 175,
          "Y": -2.779155643098428
         },
         {
          "Outlier": 1,
          "X": 174,
          "Y": -2.779155643098428
         },
         {
          "Outlier": 1,
          "X": 173,
          "Y": -2.779155643098428
         },
         {
          "Outlier": 1,
          "X": 172,
          "Y": -2.779155643098428
         },
         {
          "Outlier": 1,
          "X": 171,
          "Y": -2.779155643098428
         },
         {
          "Outlier": 1,
          "X": 170,
          "Y": -2.779155643098428
         },
         {
          "Outlier": 1,
          "X": 169,
          "Y": -2.779155643098428
         },
         {
          "Outlier": 1,
          "X": 168,
          "Y": -2.779155643098428
         },
         {
          "Outlier": 1,
          "X": 167,
          "Y": -2.779155643098428
         },
         {
          "Outlier": 1,
          "X": 166,
          "Y": -2.779155643098428
         },
         {
          "Outlier": 1,
          "X": 165,
          "Y": -2.779155643098428
         },
         {
          "Outlier": 1,
          "X": 164,
          "Y": -2.779155643098428
         },
         {
          "Outlier": 1,
          "X": 163,
          "Y": -2.779155643098428
         },
         {
          "Outlier": 1,
          "X": 162,
          "Y": -2.779155643098428
         },
         {
          "Outlier": 1,
          "X": 161,
          "Y": -2.779155643098428
         },
         {
          "Outlier": 1,
          "X": 160,
          "Y": -2.779155643098428
         },
         {
          "Outlier": 1,
          "X": 159,
          "Y": -2.779155643098428
         },
         {
          "Outlier": 1,
          "X": 158,
          "Y": -2.779155643098428
         },
         {
          "Outlier": 1,
          "X": 157,
          "Y": -2.779155643098428
         },
         {
          "Outlier": 1,
          "X": 156,
          "Y": -2.779155643098428
         },
         {
          "Outlier": 1,
          "X": 155,
          "Y": -2.779155643098428
         },
         {
          "Outlier": 1,
          "X": 154,
          "Y": -2.779155643098428
         },
         {
          "Outlier": 1,
          "X": 153,
          "Y": -2.779155643098428
         },
         {
          "Outlier": 1,
          "X": 152,
          "Y": -2.779155643098428
         },
         {
          "Outlier": 1,
          "X": 151,
          "Y": -2.779155643098428
         },
         {
          "Outlier": 1,
          "X": 150,
          "Y": -2.779155643098428
         },
         {
          "Outlier": 1,
          "X": 149,
          "Y": -2.779155643098428
         },
         {
          "Outlier": 1,
          "X": 148,
          "Y": -2.779155643098428
         },
         {
          "Outlier": 1,
          "X": 147,
          "Y": -2.779155643098428
         },
         {
          "Outlier": 1,
          "X": 146,
          "Y": -2.779155643098428
         },
         {
          "Outlier": 1,
          "X": 145,
          "Y": -2.779155643098428
         },
         {
          "Outlier": 1,
          "X": 144,
          "Y": -2.779155643098428
         },
         {
          "Outlier": 1,
          "X": 143,
          "Y": -2.779155643098428
         },
         {
          "Outlier": 1,
          "X": 142,
          "Y": -2.779155643098428
         },
         {
          "Outlier": 1,
          "X": 141,
          "Y": -2.779155643098428
         },
         {
          "Outlier": 1,
          "X": 140,
          "Y": -2.779155643098428
         },
         {
          "Outlier": 1,
          "X": 139,
          "Y": -2.779155643098428
         },
         {
          "Outlier": 1,
          "X": 138,
          "Y": -2.779155643098428
         },
         {
          "Outlier": 1,
          "X": 137,
          "Y": -2.779155643098428
         },
         {
          "Outlier": 1,
          "X": 136,
          "Y": -2.779155643098428
         },
         {
          "Outlier": 1,
          "X": 135,
          "Y": -2.779155643098428
         },
         {
          "Outlier": 1,
          "X": 134,
          "Y": -2.779155643098428
         },
         {
          "Outlier": 1,
          "X": 133,
          "Y": -2.779155643098428
         },
         {
          "Outlier": 1,
          "X": 132,
          "Y": -2.779155643098428
         },
         {
          "Outlier": 1,
          "X": 131,
          "Y": -2.779155643098428
         },
         {
          "Outlier": 1,
          "X": 130,
          "Y": -2.779155643098428
         },
         {
          "Outlier": 1,
          "X": 129,
          "Y": -2.779155643098428
         },
         {
          "Outlier": 1,
          "X": 128,
          "Y": -2.779155643098428
         },
         {
          "Outlier": 1,
          "X": 127,
          "Y": -2.779155643098428
         },
         {
          "Outlier": 1,
          "X": 126,
          "Y": -2.779155643098428
         },
         {
          "Outlier": 1,
          "X": 125,
          "Y": -2.779155643098428
         },
         {
          "Outlier": 1,
          "X": 124,
          "Y": -2.779155643098428
         },
         {
          "Outlier": 1,
          "X": 123,
          "Y": -2.779155643098428
         },
         {
          "Outlier": 1,
          "X": 122,
          "Y": -2.779155643098428
         },
         {
          "Outlier": 1,
          "X": 121,
          "Y": -2.779155643098428
         },
         {
          "Outlier": 1,
          "X": 120,
          "Y": -2.779155643098428
         },
         {
          "Outlier": 1,
          "X": 119,
          "Y": -2.779155643098428
         },
         {
          "Outlier": 1,
          "X": 118,
          "Y": -2.779155643098428
         },
         {
          "Outlier": 1,
          "X": 117,
          "Y": -2.779155643098428
         },
         {
          "Outlier": 1,
          "X": 116,
          "Y": -2.779155643098428
         },
         {
          "Outlier": 1,
          "X": 115,
          "Y": -2.779155643098428
         },
         {
          "Outlier": 1,
          "X": 114,
          "Y": -2.779155643098428
         },
         {
          "Outlier": 1,
          "X": 113,
          "Y": -2.779155643098428
         },
         {
          "Outlier": 1,
          "X": 112,
          "Y": -2.779155643098428
         },
         {
          "Outlier": 1,
          "X": 111,
          "Y": -2.779155643098428
         },
         {
          "Outlier": 1,
          "X": 110,
          "Y": -2.779155643098428
         },
         {
          "Outlier": 1,
          "X": 109,
          "Y": -2.779155643098428
         },
         {
          "Outlier": 1,
          "X": 108,
          "Y": -2.779155643098428
         },
         {
          "Outlier": 1,
          "X": 107,
          "Y": -2.779155643098428
         },
         {
          "Outlier": 1,
          "X": 106,
          "Y": -2.779155643098428
         },
         {
          "Outlier": 1,
          "X": 105,
          "Y": -2.779155643098428
         },
         {
          "Outlier": 1,
          "X": 104,
          "Y": -2.779155643098428
         },
         {
          "Outlier": 1,
          "X": 103,
          "Y": -2.779155643098428
         },
         {
          "Outlier": 1,
          "X": 102,
          "Y": -2.779155643098428
         },
         {
          "Outlier": 1,
          "X": 101,
          "Y": -2.779155643098428
         },
         {
          "Outlier": 1,
          "X": 100,
          "Y": -2.779155643098428
         },
         {
          "Outlier": 1,
          "X": 99,
          "Y": -2.779155643098428
         },
         {
          "Outlier": 1,
          "X": 98,
          "Y": -2.779155643098428
         },
         {
          "Outlier": 1,
          "X": 97,
          "Y": -2.779155643098428
         },
         {
          "Outlier": 1,
          "X": 96,
          "Y": -2.779155643098428
         },
         {
          "Outlier": 1,
          "X": 95,
          "Y": -2.779155643098428
         },
         {
          "Outlier": 1,
          "X": 94,
          "Y": -2.779155643098428
         },
         {
          "Outlier": 1,
          "X": 93,
          "Y": -2.779155643098428
         },
         {
          "Outlier": 1,
          "X": 92,
          "Y": -2.779155643098428
         },
         {
          "Outlier": 1,
          "X": 91,
          "Y": -2.779155643098428
         },
         {
          "Outlier": 1,
          "X": 90,
          "Y": -2.779155643098428
         },
         {
          "Outlier": 1,
          "X": 89,
          "Y": -2.779155643098428
         },
         {
          "Outlier": 1,
          "X": 88,
          "Y": -2.779155643098428
         },
         {
          "Outlier": 1,
          "X": 87,
          "Y": -2.779155643098428
         },
         {
          "Outlier": 1,
          "X": 86,
          "Y": -2.779155643098428
         },
         {
          "Outlier": 1,
          "X": 85,
          "Y": -2.779155643098428
         },
         {
          "Outlier": 1,
          "X": 84,
          "Y": -2.779155643098428
         },
         {
          "Outlier": 1,
          "X": 83,
          "Y": -2.779155643098428
         },
         {
          "Outlier": 1,
          "X": 82,
          "Y": -2.779155643098428
         },
         {
          "Outlier": 1,
          "X": 81,
          "Y": -2.779155643098428
         },
         {
          "Outlier": 1,
          "X": 80,
          "Y": -2.779155643098428
         },
         {
          "Outlier": 1,
          "X": 79,
          "Y": -2.779155643098428
         },
         {
          "Outlier": 1,
          "X": 78,
          "Y": -2.779155643098428
         },
         {
          "Outlier": 1,
          "X": 77,
          "Y": -2.779155643098428
         },
         {
          "Outlier": 1,
          "X": 76,
          "Y": -2.779155643098428
         },
         {
          "Outlier": 1,
          "X": 75,
          "Y": -2.779155643098428
         },
         {
          "Outlier": 1,
          "X": 74,
          "Y": -2.779155643098428
         },
         {
          "Outlier": 1,
          "X": 73,
          "Y": -2.779155643098428
         },
         {
          "Outlier": 1,
          "X": 72,
          "Y": -2.779155643098428
         },
         {
          "Outlier": 1,
          "X": 71,
          "Y": -2.779155643098428
         },
         {
          "Outlier": 1,
          "X": 70,
          "Y": -2.779155643098428
         },
         {
          "Outlier": 1,
          "X": 69,
          "Y": -2.779155643098428
         },
         {
          "Outlier": 1,
          "X": 68,
          "Y": -2.779155643098428
         },
         {
          "Outlier": 1,
          "X": 67,
          "Y": -2.779155643098428
         },
         {
          "Outlier": 1,
          "X": 66,
          "Y": -2.779155643098428
         },
         {
          "Outlier": 1,
          "X": 65,
          "Y": -2.779155643098428
         },
         {
          "Outlier": 1,
          "X": 64,
          "Y": -2.779155643098428
         },
         {
          "Outlier": 1,
          "X": 63,
          "Y": -2.779155643098428
         },
         {
          "Outlier": 1,
          "X": 62,
          "Y": -2.8108182040295433
         },
         {
          "Outlier": 1,
          "X": 61,
          "Y": -2.8108182040295433
         },
         {
          "Outlier": 1,
          "X": 60,
          "Y": -2.8108182040295433
         },
         {
          "Outlier": 1,
          "X": 59,
          "Y": -2.8108182040295433
         },
         {
          "Outlier": 1,
          "X": 58,
          "Y": -2.8108182040295433
         },
         {
          "Outlier": 1,
          "X": 57,
          "Y": -2.8108182040295433
         },
         {
          "Outlier": 1,
          "X": 56,
          "Y": -2.8108182040295433
         },
         {
          "Outlier": 1,
          "X": 55,
          "Y": -2.8108182040295433
         },
         {
          "Outlier": 1,
          "X": 54,
          "Y": -2.8108182040295433
         },
         {
          "Outlier": 1,
          "X": 53,
          "Y": -2.8108182040295433
         },
         {
          "Outlier": 1,
          "X": 52,
          "Y": -2.8108182040295433
         },
         {
          "Outlier": 1,
          "X": 51,
          "Y": -2.8108182040295433
         },
         {
          "Outlier": 1,
          "X": 50,
          "Y": -2.8108182040295433
         },
         {
          "Outlier": 1,
          "X": 49,
          "Y": -2.8108182040295433
         },
         {
          "Outlier": 1,
          "X": 48,
          "Y": -2.8108182040295433
         },
         {
          "Outlier": 1,
          "X": 47,
          "Y": -2.8108182040295433
         },
         {
          "Outlier": 1,
          "X": 46,
          "Y": -2.8108182040295433
         },
         {
          "Outlier": 1,
          "X": 45,
          "Y": -2.8108182040295433
         },
         {
          "Outlier": 1,
          "X": 44,
          "Y": -2.8108182040295433
         },
         {
          "Outlier": 1,
          "X": 43,
          "Y": -2.8108182040295433
         },
         {
          "Outlier": 1,
          "X": 42,
          "Y": -2.8108182040295433
         },
         {
          "Outlier": 1,
          "X": 41,
          "Y": -2.8108182040295433
         },
         {
          "Outlier": 1,
          "X": 40,
          "Y": -2.8108182040295433
         },
         {
          "Outlier": 1,
          "X": 39,
          "Y": -2.8108182040295433
         },
         {
          "Outlier": 1,
          "X": 38,
          "Y": -2.8108182040295433
         },
         {
          "Outlier": 1,
          "X": 37,
          "Y": -2.8108182040295433
         },
         {
          "Outlier": 1,
          "X": 36,
          "Y": -2.8108182040295433
         },
         {
          "Outlier": 1,
          "X": 35,
          "Y": -2.8108182040295433
         },
         {
          "Outlier": 1,
          "X": 34,
          "Y": -2.8108182040295433
         },
         {
          "Outlier": 1,
          "X": 33,
          "Y": -2.8108182040295433
         },
         {
          "Outlier": 1,
          "X": 32,
          "Y": -2.8108182040295433
         },
         {
          "Outlier": 1,
          "X": 31,
          "Y": -2.8108182040295433
         },
         {
          "Outlier": 1,
          "X": 30,
          "Y": -2.8108182040295433
         },
         {
          "Outlier": 1,
          "X": 29,
          "Y": -2.8108182040295433
         },
         {
          "Outlier": 1,
          "X": 28,
          "Y": -2.8108182040295433
         },
         {
          "Outlier": 1,
          "X": 27,
          "Y": -2.8108182040295433
         },
         {
          "Outlier": 1,
          "X": 26,
          "Y": -2.8108182040295433
         },
         {
          "Outlier": 1,
          "X": 25,
          "Y": -2.8108182040295433
         },
         {
          "Outlier": 1,
          "X": 24,
          "Y": -2.8108182040295433
         },
         {
          "Outlier": 1,
          "X": 23,
          "Y": -3.351193305487453
         },
         {
          "Outlier": 1,
          "X": 22,
          "Y": -3.351193305487453
         },
         {
          "Outlier": 1,
          "X": 21,
          "Y": -3.351193305487453
         },
         {
          "Outlier": 1,
          "X": 20,
          "Y": -3.351193305487453
         },
         {
          "Outlier": 1,
          "X": 19,
          "Y": -3.351193305487453
         },
         {
          "Outlier": 1,
          "X": 18,
          "Y": -3.351193305487453
         },
         {
          "Outlier": 1,
          "X": 17,
          "Y": -3.351193305487453
         },
         {
          "Outlier": 1,
          "X": 16,
          "Y": -3.351193305487453
         },
         {
          "Outlier": 1,
          "X": 15,
          "Y": -3.351193305487453
         },
         {
          "Outlier": 1,
          "X": 14,
          "Y": -3.351193305487453
         },
         {
          "Outlier": 1,
          "X": 13,
          "Y": -3.351193305487453
         },
         {
          "Outlier": 1,
          "X": 12,
          "Y": -3.351193305487453
         },
         {
          "Outlier": 1,
          "X": 11,
          "Y": -3.351193305487453
         },
         {
          "Outlier": 1,
          "X": 10,
          "Y": -3.351193305487453
         },
         {
          "Outlier": 1,
          "X": 9,
          "Y": -3.351193305487453
         },
         {
          "Outlier": 1,
          "X": 8,
          "Y": -3.351193305487453
         },
         {
          "Outlier": 1,
          "X": 7,
          "Y": -3.351193305487453
         },
         {
          "Outlier": 1,
          "X": 6,
          "Y": -3.351193305487453
         },
         {
          "Outlier": 1,
          "X": 5,
          "Y": -3.351193305487453
         },
         {
          "Outlier": 1,
          "X": 4,
          "Y": -3.351193305487453
         },
         {
          "Outlier": 1,
          "X": 3,
          "Y": -3.351193305487453
         },
         {
          "Outlier": 1,
          "X": 2,
          "Y": -3.351193305487453
         },
         {
          "Outlier": 1,
          "X": 1,
          "Y": -3.351193305487453
         }
        ]
       },
       "encoding": {
        "color": {},
        "x": {
         "field": "X",
         "type": "quantitative"
        },
        "y": {
         "field": "Y",
         "type": "quantitative"
        }
       },
       "height": 400,
       "mark": "line",
       "width": 400
      },
      "image/png": "[encoded data removed]"
     },
     "metadata": {},
     "output_type": "display_data"
    }
   ],
   "source": [
    "print \"Slope\"\n",
    "l = length mhRunsRegression\n",
    "xs = reverse $ fromIntegral <$> [1..l] ::[Double]\n",
    "plot (xs, (\\(x,_,_) -> x) <$> mhRunsRegression) \n"
   ]
  },
  {
   "cell_type": "code",
   "execution_count": 8,
   "metadata": {},
   "outputs": [
    {
     "data": {
      "text/plain": [
       "\"Intercept\""
      ]
     },
     "metadata": {},
     "output_type": "display_data"
    },
    {
     "data": {
      "application/vnd.vegalite.v4+json": {
       "$schema": "https://vega.github.io/schema/vega-lite/v4.json",
       "data": {
        "values": [
         {
          "Outlier": 1,
          "X": 1001,
          "Y": 1.7617903982284406
         },
         {
          "Outlier": 1,
          "X": 1000,
          "Y": 1.7617903982284406
         },
         {
          "Outlier": 1,
          "X": 999,
          "Y": 1.7617903982284406
         },
         {
          "Outlier": 1,
          "X": 998,
          "Y": 1.7617903982284406
         },
         {
          "Outlier": 1,
          "X": 997,
          "Y": 1.7617903982284406
         },
         {
          "Outlier": 1,
          "X": 996,
          "Y": 1.7617903982284406
         },
         {
          "Outlier": 1,
          "X": 995,
          "Y": 1.7617903982284406
         },
         {
          "Outlier": 1,
          "X": 994,
          "Y": 1.7617903982284406
         },
         {
          "Outlier": 1,
          "X": 993,
          "Y": 1.7617903982284406
         },
         {
          "Outlier": 1,
          "X": 992,
          "Y": 1.7617903982284406
         },
         {
          "Outlier": 1,
          "X": 991,
          "Y": 1.7617903982284406
         },
         {
          "Outlier": 1,
          "X": 990,
          "Y": 1.7617903982284406
         },
         {
          "Outlier": 1,
          "X": 989,
          "Y": 1.7617903982284406
         },
         {
          "Outlier": 1,
          "X": 988,
          "Y": 1.7617903982284406
         },
         {
          "Outlier": 1,
          "X": 987,
          "Y": 1.7617903982284406
         },
         {
          "Outlier": 1,
          "X": 986,
          "Y": 1.7617903982284406
         },
         {
          "Outlier": 1,
          "X": 985,
          "Y": 1.7617903982284406
         },
         {
          "Outlier": 1,
          "X": 984,
          "Y": 1.7617903982284406
         },
         {
          "Outlier": 1,
          "X": 983,
          "Y": 1.7617903982284406
         },
         {
          "Outlier": 1,
          "X": 982,
          "Y": 1.7617903982284406
         },
         {
          "Outlier": 1,
          "X": 981,
          "Y": 1.7617903982284406
         },
         {
          "Outlier": 1,
          "X": 980,
          "Y": 1.7617903982284406
         },
         {
          "Outlier": 1,
          "X": 979,
          "Y": 1.7617903982284406
         },
         {
          "Outlier": 1,
          "X": 978,
          "Y": 1.7617903982284406
         },
         {
          "Outlier": 1,
          "X": 977,
          "Y": 1.7617903982284406
         },
         {
          "Outlier": 1,
          "X": 976,
          "Y": 1.7617903982284406
         },
         {
          "Outlier": 1,
          "X": 975,
          "Y": 1.8287906177483493
         },
         {
          "Outlier": 1,
          "X": 974,
          "Y": 1.8287906177483493
         },
         {
          "Outlier": 1,
          "X": 973,
          "Y": 1.8287906177483493
         },
         {
          "Outlier": 1,
          "X": 972,
          "Y": 1.8287906177483493
         },
         {
          "Outlier": 1,
          "X": 971,
          "Y": 1.8287906177483493
         },
         {
          "Outlier": 1,
          "X": 970,
          "Y": 1.8287906177483493
         },
         {
          "Outlier": 1,
          "X": 969,
          "Y": 1.8287906177483493
         },
         {
          "Outlier": 1,
          "X": 968,
          "Y": 1.8287906177483493
         },
         {
          "Outlier": 1,
          "X": 967,
          "Y": 1.8287906177483493
         },
         {
          "Outlier": 1,
          "X": 966,
          "Y": 1.8287906177483493
         },
         {
          "Outlier": 1,
          "X": 965,
          "Y": 1.8287906177483493
         },
         {
          "Outlier": 1,
          "X": 964,
          "Y": 1.8287906177483493
         },
         {
          "Outlier": 1,
          "X": 963,
          "Y": 1.8287906177483493
         },
         {
          "Outlier": 1,
          "X": 962,
          "Y": 1.8287906177483493
         },
         {
          "Outlier": 1,
          "X": 961,
          "Y": 1.8287906177483493
         },
         {
          "Outlier": 1,
          "X": 960,
          "Y": 1.8287906177483493
         },
         {
          "Outlier": 1,
          "X": 959,
          "Y": 1.8287906177483493
         },
         {
          "Outlier": 1,
          "X": 958,
          "Y": 1.8287906177483493
         },
         {
          "Outlier": 1,
          "X": 957,
          "Y": 1.8287906177483493
         },
         {
          "Outlier": 1,
          "X": 956,
          "Y": 1.8287906177483493
         },
         {
          "Outlier": 1,
          "X": 955,
          "Y": 1.8287906177483493
         },
         {
          "Outlier": 1,
          "X": 954,
          "Y": 1.8287906177483493
         },
         {
          "Outlier": 1,
          "X": 953,
          "Y": 1.8287906177483493
         },
         {
          "Outlier": 1,
          "X": 952,
          "Y": 1.8287906177483493
         },
         {
          "Outlier": 1,
          "X": 951,
          "Y": 1.8287906177483493
         },
         {
          "Outlier": 1,
          "X": 950,
          "Y": 1.8287906177483493
         },
         {
          "Outlier": 1,
          "X": 949,
          "Y": 1.8287906177483493
         },
         {
          "Outlier": 1,
          "X": 948,
          "Y": 1.8287906177483493
         },
         {
          "Outlier": 1,
          "X": 947,
          "Y": 1.8287906177483493
         },
         {
          "Outlier": 1,
          "X": 946,
          "Y": 1.8287906177483493
         },
         {
          "Outlier": 1,
          "X": 945,
          "Y": 1.8287906177483493
         },
         {
          "Outlier": 1,
          "X": 944,
          "Y": 1.8287906177483493
         },
         {
          "Outlier": 1,
          "X": 943,
          "Y": 1.8287906177483493
         },
         {
          "Outlier": 1,
          "X": 942,
          "Y": 1.8287906177483493
         },
         {
          "Outlier": 1,
          "X": 941,
          "Y": 1.8287906177483493
         },
         {
          "Outlier": 1,
          "X": 940,
          "Y": 1.8287906177483493
         },
         {
          "Outlier": 1,
          "X": 939,
          "Y": 1.8287906177483493
         },
         {
          "Outlier": 1,
          "X": 938,
          "Y": 1.8287906177483493
         },
         {
          "Outlier": 1,
          "X": 937,
          "Y": 1.8287906177483493
         },
         {
          "Outlier": 1,
          "X": 936,
          "Y": 1.8287906177483493
         },
         {
          "Outlier": 1,
          "X": 935,
          "Y": 1.7001514943530478
         },
         {
          "Outlier": 1,
          "X": 934,
          "Y": 1.7001514943530478
         },
         {
          "Outlier": 1,
          "X": 933,
          "Y": 1.7001514943530478
         },
         {
          "Outlier": 1,
          "X": 932,
          "Y": 1.7001514943530478
         },
         {
          "Outlier": 1,
          "X": 931,
          "Y": 1.7001514943530478
         },
         {
          "Outlier": 1,
          "X": 930,
          "Y": 1.7001514943530478
         },
         {
          "Outlier": 1,
          "X": 929,
          "Y": 1.7001514943530478
         },
         {
          "Outlier": 1,
          "X": 928,
          "Y": 1.7001514943530478
         },
         {
          "Outlier": 1,
          "X": 927,
          "Y": 1.7001514943530478
         },
         {
          "Outlier": 1,
          "X": 926,
          "Y": 1.7001514943530478
         },
         {
          "Outlier": 1,
          "X": 925,
          "Y": 1.7001514943530478
         },
         {
          "Outlier": 1,
          "X": 924,
          "Y": 1.7001514943530478
         },
         {
          "Outlier": 1,
          "X": 923,
          "Y": 1.7001514943530478
         },
         {
          "Outlier": 1,
          "X": 922,
          "Y": 1.7001514943530478
         },
         {
          "Outlier": 1,
          "X": 921,
          "Y": 1.7001514943530478
         },
         {
          "Outlier": 1,
          "X": 920,
          "Y": 1.7001514943530478
         },
         {
          "Outlier": 1,
          "X": 919,
          "Y": 1.7001514943530478
         },
         {
          "Outlier": 1,
          "X": 918,
          "Y": 1.7001514943530478
         },
         {
          "Outlier": 1,
          "X": 917,
          "Y": 1.7001514943530478
         },
         {
          "Outlier": 1,
          "X": 916,
          "Y": 1.7001514943530478
         },
         {
          "Outlier": 1,
          "X": 915,
          "Y": 2.017287381040768
         },
         {
          "Outlier": 1,
          "X": 914,
          "Y": 2.017287381040768
         },
         {
          "Outlier": 1,
          "X": 913,
          "Y": 2.017287381040768
         },
         {
          "Outlier": 1,
          "X": 912,
          "Y": 2.017287381040768
         },
         {
          "Outlier": 1,
          "X": 911,
          "Y": 2.017287381040768
         },
         {
          "Outlier": 1,
          "X": 910,
          "Y": 2.017287381040768
         },
         {
          "Outlier": 1,
          "X": 909,
          "Y": 2.017287381040768
         },
         {
          "Outlier": 1,
          "X": 908,
          "Y": 2.017287381040768
         },
         {
          "Outlier": 1,
          "X": 907,
          "Y": 2.017287381040768
         },
         {
          "Outlier": 1,
          "X": 906,
          "Y": 2.017287381040768
         },
         {
          "Outlier": 1,
          "X": 905,
          "Y": 2.017287381040768
         },
         {
          "Outlier": 1,
          "X": 904,
          "Y": 2.017287381040768
         },
         {
          "Outlier": 1,
          "X": 903,
          "Y": 2.017287381040768
         },
         {
          "Outlier": 1,
          "X": 902,
          "Y": 2.017287381040768
         },
         {
          "Outlier": 1,
          "X": 901,
          "Y": 2.017287381040768
         },
         {
          "Outlier": 1,
          "X": 900,
          "Y": 2.017287381040768
         },
         {
          "Outlier": 1,
          "X": 899,
          "Y": 2.017287381040768
         },
         {
          "Outlier": 1,
          "X": 898,
          "Y": 2.017287381040768
         },
         {
          "Outlier": 1,
          "X": 897,
          "Y": 2.017287381040768
         },
         {
          "Outlier": 1,
          "X": 896,
          "Y": 2.017287381040768
         },
         {
          "Outlier": 1,
          "X": 895,
          "Y": 2.017287381040768
         },
         {
          "Outlier": 1,
          "X": 894,
          "Y": 2.017287381040768
         },
         {
          "Outlier": 1,
          "X": 893,
          "Y": 2.017287381040768
         },
         {
          "Outlier": 1,
          "X": 892,
          "Y": 2.017287381040768
         },
         {
          "Outlier": 1,
          "X": 891,
          "Y": 2.017287381040768
         },
         {
          "Outlier": 1,
          "X": 890,
          "Y": 2.017287381040768
         },
         {
          "Outlier": 1,
          "X": 889,
          "Y": 2.017287381040768
         },
         {
          "Outlier": 1,
          "X": 888,
          "Y": 2.017287381040768
         },
         {
          "Outlier": 1,
          "X": 887,
          "Y": 2.017287381040768
         },
         {
          "Outlier": 1,
          "X": 886,
          "Y": 2.017287381040768
         },
         {
          "Outlier": 1,
          "X": 885,
          "Y": 2.017287381040768
         },
         {
          "Outlier": 1,
          "X": 884,
          "Y": 2.017287381040768
         },
         {
          "Outlier": 1,
          "X": 883,
          "Y": 2.017287381040768
         },
         {
          "Outlier": 1,
          "X": 882,
          "Y": 2.017287381040768
         },
         {
          "Outlier": 1,
          "X": 881,
          "Y": 2.017287381040768
         },
         {
          "Outlier": 1,
          "X": 880,
          "Y": 2.017287381040768
         },
         {
          "Outlier": 1,
          "X": 879,
          "Y": 2.017287381040768
         },
         {
          "Outlier": 1,
          "X": 878,
          "Y": 2.017287381040768
         },
         {
          "Outlier": 1,
          "X": 877,
          "Y": 2.017287381040768
         },
         {
          "Outlier": 1,
          "X": 876,
          "Y": 2.017287381040768
         },
         {
          "Outlier": 1,
          "X": 875,
          "Y": 2.017287381040768
         },
         {
          "Outlier": 1,
          "X": 874,
          "Y": 2.017287381040768
         },
         {
          "Outlier": 1,
          "X": 873,
          "Y": 2.017287381040768
         },
         {
          "Outlier": 1,
          "X": 872,
          "Y": 2.017287381040768
         },
         {
          "Outlier": 1,
          "X": 871,
          "Y": 2.017287381040768
         },
         {
          "Outlier": 1,
          "X": 870,
          "Y": 2.017287381040768
         },
         {
          "Outlier": 1,
          "X": 869,
          "Y": 2.017287381040768
         },
         {
          "Outlier": 1,
          "X": 868,
          "Y": 2.017287381040768
         },
         {
          "Outlier": 1,
          "X": 867,
          "Y": 2.017287381040768
         },
         {
          "Outlier": 1,
          "X": 866,
          "Y": 2.017287381040768
         },
         {
          "Outlier": 1,
          "X": 865,
          "Y": 1.6254911344857144
         },
         {
          "Outlier": 1,
          "X": 864,
          "Y": 1.6254911344857144
         },
         {
          "Outlier": 1,
          "X": 863,
          "Y": 1.6254911344857144
         },
         {
          "Outlier": 1,
          "X": 862,
          "Y": 1.6254911344857144
         },
         {
          "Outlier": 1,
          "X": 861,
          "Y": 1.6254911344857144
         },
         {
          "Outlier": 1,
          "X": 860,
          "Y": 1.6254911344857144
         },
         {
          "Outlier": 1,
          "X": 859,
          "Y": 1.6254911344857144
         },
         {
          "Outlier": 1,
          "X": 858,
          "Y": 1.6254911344857144
         },
         {
          "Outlier": 1,
          "X": 857,
          "Y": 1.6254911344857144
         },
         {
          "Outlier": 1,
          "X": 856,
          "Y": 1.6254911344857144
         },
         {
          "Outlier": 1,
          "X": 855,
          "Y": 1.6254911344857144
         },
         {
          "Outlier": 1,
          "X": 854,
          "Y": 1.6254911344857144
         },
         {
          "Outlier": 1,
          "X": 853,
          "Y": 1.6254911344857144
         },
         {
          "Outlier": 1,
          "X": 852,
          "Y": 1.6254911344857144
         },
         {
          "Outlier": 1,
          "X": 851,
          "Y": 1.6254911344857144
         },
         {
          "Outlier": 1,
          "X": 850,
          "Y": 1.6254911344857144
         },
         {
          "Outlier": 1,
          "X": 849,
          "Y": 1.6254911344857144
         },
         {
          "Outlier": 1,
          "X": 848,
          "Y": 1.6254911344857144
         },
         {
          "Outlier": 1,
          "X": 847,
          "Y": 1.6254911344857144
         },
         {
          "Outlier": 1,
          "X": 846,
          "Y": 1.6254911344857144
         },
         {
          "Outlier": 1,
          "X": 845,
          "Y": 1.6254911344857144
         },
         {
          "Outlier": 1,
          "X": 844,
          "Y": 1.6254911344857144
         },
         {
          "Outlier": 1,
          "X": 843,
          "Y": 1.6254911344857144
         },
         {
          "Outlier": 1,
          "X": 842,
          "Y": 1.6254911344857144
         },
         {
          "Outlier": 1,
          "X": 841,
          "Y": 1.6254911344857144
         },
         {
          "Outlier": 1,
          "X": 840,
          "Y": 1.6254911344857144
         },
         {
          "Outlier": 1,
          "X": 839,
          "Y": 1.6254911344857144
         },
         {
          "Outlier": 1,
          "X": 838,
          "Y": 1.6254911344857144
         },
         {
          "Outlier": 1,
          "X": 837,
          "Y": 1.6254911344857144
         },
         {
          "Outlier": 1,
          "X": 836,
          "Y": 1.6254911344857144
         },
         {
          "Outlier": 1,
          "X": 835,
          "Y": 1.6254911344857144
         },
         {
          "Outlier": 1,
          "X": 834,
          "Y": 1.6254911344857144
         },
         {
          "Outlier": 1,
          "X": 833,
          "Y": 1.6254911344857144
         },
         {
          "Outlier": 1,
          "X": 832,
          "Y": 1.6254911344857144
         },
         {
          "Outlier": 1,
          "X": 831,
          "Y": 1.6254911344857144
         },
         {
          "Outlier": 1,
          "X": 830,
          "Y": 1.6254911344857144
         },
         {
          "Outlier": 1,
          "X": 829,
          "Y": 1.6254911344857144
         },
         {
          "Outlier": 1,
          "X": 828,
          "Y": 1.6254911344857144
         },
         {
          "Outlier": 1,
          "X": 827,
          "Y": 1.6254911344857144
         },
         {
          "Outlier": 1,
          "X": 826,
          "Y": 1.4191618565767918
         },
         {
          "Outlier": 1,
          "X": 825,
          "Y": 1.4191618565767918
         },
         {
          "Outlier": 1,
          "X": 824,
          "Y": 1.4191618565767918
         },
         {
          "Outlier": 1,
          "X": 823,
          "Y": 2.47421581651972
         },
         {
          "Outlier": 1,
          "X": 822,
          "Y": 2.47421581651972
         },
         {
          "Outlier": 1,
          "X": 821,
          "Y": 2.47421581651972
         },
         {
          "Outlier": 1,
          "X": 820,
          "Y": 2.47421581651972
         },
         {
          "Outlier": 1,
          "X": 819,
          "Y": 2.47421581651972
         },
         {
          "Outlier": 1,
          "X": 818,
          "Y": 2.47421581651972
         },
         {
          "Outlier": 1,
          "X": 817,
          "Y": 2.47421581651972
         },
         {
          "Outlier": 1,
          "X": 816,
          "Y": 2.47421581651972
         },
         {
          "Outlier": 1,
          "X": 815,
          "Y": 2.47421581651972
         },
         {
          "Outlier": 1,
          "X": 814,
          "Y": 2.47421581651972
         },
         {
          "Outlier": 1,
          "X": 813,
          "Y": 2.47421581651972
         },
         {
          "Outlier": 1,
          "X": 812,
          "Y": 2.47421581651972
         },
         {
          "Outlier": 1,
          "X": 811,
          "Y": 2.47421581651972
         },
         {
          "Outlier": 1,
          "X": 810,
          "Y": 2.47421581651972
         },
         {
          "Outlier": 1,
          "X": 809,
          "Y": 2.47421581651972
         },
         {
          "Outlier": 1,
          "X": 808,
          "Y": 2.47421581651972
         },
         {
          "Outlier": 1,
          "X": 807,
          "Y": 2.47421581651972
         },
         {
          "Outlier": 1,
          "X": 806,
          "Y": 2.47421581651972
         },
         {
          "Outlier": 1,
          "X": 805,
          "Y": 2.47421581651972
         },
         {
          "Outlier": 1,
          "X": 804,
          "Y": 2.47421581651972
         },
         {
          "Outlier": 1,
          "X": 803,
          "Y": 2.47421581651972
         },
         {
          "Outlier": 1,
          "X": 802,
          "Y": 2.47421581651972
         },
         {
          "Outlier": 1,
          "X": 801,
          "Y": 2.47421581651972
         },
         {
          "Outlier": 1,
          "X": 800,
          "Y": 2.47421581651972
         },
         {
          "Outlier": 1,
          "X": 799,
          "Y": 2.47421581651972
         },
         {
          "Outlier": 1,
          "X": 798,
          "Y": 2.47421581651972
         },
         {
          "Outlier": 1,
          "X": 797,
          "Y": 2.47421581651972
         },
         {
          "Outlier": 1,
          "X": 796,
          "Y": 2.47421581651972
         },
         {
          "Outlier": 1,
          "X": 795,
          "Y": 2.47421581651972
         },
         {
          "Outlier": 1,
          "X": 794,
          "Y": 2.47421581651972
         },
         {
          "Outlier": 1,
          "X": 793,
          "Y": 2.47421581651972
         },
         {
          "Outlier": 1,
          "X": 792,
          "Y": 2.47421581651972
         },
         {
          "Outlier": 1,
          "X": 791,
          "Y": 2.47421581651972
         },
         {
          "Outlier": 1,
          "X": 790,
          "Y": 2.47421581651972
         },
         {
          "Outlier": 1,
          "X": 789,
          "Y": 2.47421581651972
         },
         {
          "Outlier": 1,
          "X": 788,
          "Y": 2.47421581651972
         },
         {
          "Outlier": 1,
          "X": 787,
          "Y": 2.47421581651972
         },
         {
          "Outlier": 1,
          "X": 786,
          "Y": 2.47421581651972
         },
         {
          "Outlier": 1,
          "X": 785,
          "Y": 2.47421581651972
         },
         {
          "Outlier": 1,
          "X": 784,
          "Y": 2.47421581651972
         },
         {
          "Outlier": 1,
          "X": 783,
          "Y": 1.4676519131057528
         },
         {
          "Outlier": 1,
          "X": 782,
          "Y": 1.4676519131057528
         },
         {
          "Outlier": 1,
          "X": 781,
          "Y": 1.4676519131057528
         },
         {
          "Outlier": 1,
          "X": 780,
          "Y": 1.4676519131057528
         },
         {
          "Outlier": 1,
          "X": 779,
          "Y": 1.4676519131057528
         },
         {
          "Outlier": 1,
          "X": 778,
          "Y": 1.4676519131057528
         },
         {
          "Outlier": 1,
          "X": 777,
          "Y": 1.4676519131057528
         },
         {
          "Outlier": 1,
          "X": 776,
          "Y": 1.4676519131057528
         },
         {
          "Outlier": 1,
          "X": 775,
          "Y": 1.4676519131057528
         },
         {
          "Outlier": 1,
          "X": 774,
          "Y": 1.4676519131057528
         },
         {
          "Outlier": 1,
          "X": 773,
          "Y": 1.4676519131057528
         },
         {
          "Outlier": 1,
          "X": 772,
          "Y": 1.4676519131057528
         },
         {
          "Outlier": 1,
          "X": 771,
          "Y": 1.4676519131057528
         },
         {
          "Outlier": 1,
          "X": 770,
          "Y": 1.4676519131057528
         },
         {
          "Outlier": 1,
          "X": 769,
          "Y": 1.4676519131057528
         },
         {
          "Outlier": 1,
          "X": 768,
          "Y": 1.4676519131057528
         },
         {
          "Outlier": 1,
          "X": 767,
          "Y": 1.4676519131057528
         },
         {
          "Outlier": 1,
          "X": 766,
          "Y": 1.4676519131057528
         },
         {
          "Outlier": 1,
          "X": 765,
          "Y": 1.4676519131057528
         },
         {
          "Outlier": 1,
          "X": 764,
          "Y": 1.4676519131057528
         },
         {
          "Outlier": 1,
          "X": 763,
          "Y": 1.4676519131057528
         },
         {
          "Outlier": 1,
          "X": 762,
          "Y": 1.4676519131057528
         },
         {
          "Outlier": 1,
          "X": 761,
          "Y": 1.4676519131057528
         },
         {
          "Outlier": 1,
          "X": 760,
          "Y": 1.4676519131057528
         },
         {
          "Outlier": 1,
          "X": 759,
          "Y": 1.4676519131057528
         },
         {
          "Outlier": 1,
          "X": 758,
          "Y": 1.4676519131057528
         },
         {
          "Outlier": 1,
          "X": 757,
          "Y": 1.4676519131057528
         },
         {
          "Outlier": 1,
          "X": 756,
          "Y": 1.4676519131057528
         },
         {
          "Outlier": 1,
          "X": 755,
          "Y": 1.4676519131057528
         },
         {
          "Outlier": 1,
          "X": 754,
          "Y": 1.4676519131057528
         },
         {
          "Outlier": 1,
          "X": 753,
          "Y": 1.4676519131057528
         },
         {
          "Outlier": 1,
          "X": 752,
          "Y": 1.4676519131057528
         },
         {
          "Outlier": 1,
          "X": 751,
          "Y": 1.4676519131057528
         },
         {
          "Outlier": 1,
          "X": 750,
          "Y": 1.4676519131057528
         },
         {
          "Outlier": 1,
          "X": 749,
          "Y": 1.4676519131057528
         },
         {
          "Outlier": 1,
          "X": 748,
          "Y": 1.4676519131057528
         },
         {
          "Outlier": 1,
          "X": 747,
          "Y": 1.4676519131057528
         },
         {
          "Outlier": 1,
          "X": 746,
          "Y": 1.4676519131057528
         },
         {
          "Outlier": 1,
          "X": 745,
          "Y": 1.4676519131057528
         },
         {
          "Outlier": 1,
          "X": 744,
          "Y": 2.048241495785841
         },
         {
          "Outlier": 1,
          "X": 743,
          "Y": 2.048241495785841
         },
         {
          "Outlier": 1,
          "X": 742,
          "Y": 2.048241495785841
         },
         {
          "Outlier": 1,
          "X": 741,
          "Y": 2.048241495785841
         },
         {
          "Outlier": 1,
          "X": 740,
          "Y": 2.048241495785841
         },
         {
          "Outlier": 1,
          "X": 739,
          "Y": 1.5017180402196402
         },
         {
          "Outlier": 1,
          "X": 738,
          "Y": 1.5017180402196402
         },
         {
          "Outlier": 1,
          "X": 737,
          "Y": 1.5017180402196402
         },
         {
          "Outlier": 1,
          "X": 736,
          "Y": 1.5017180402196402
         },
         {
          "Outlier": 1,
          "X": 735,
          "Y": 1.5017180402196402
         },
         {
          "Outlier": 1,
          "X": 734,
          "Y": 1.5017180402196402
         },
         {
          "Outlier": 1,
          "X": 733,
          "Y": 1.5017180402196402
         },
         {
          "Outlier": 1,
          "X": 732,
          "Y": 1.5017180402196402
         },
         {
          "Outlier": 1,
          "X": 731,
          "Y": 1.5017180402196402
         },
         {
          "Outlier": 1,
          "X": 730,
          "Y": 1.5017180402196402
         },
         {
          "Outlier": 1,
          "X": 729,
          "Y": 1.5017180402196402
         },
         {
          "Outlier": 1,
          "X": 728,
          "Y": 1.891843416488586
         },
         {
          "Outlier": 1,
          "X": 727,
          "Y": 1.891843416488586
         },
         {
          "Outlier": 1,
          "X": 726,
          "Y": 1.891843416488586
         },
         {
          "Outlier": 1,
          "X": 725,
          "Y": 1.891843416488586
         },
         {
          "Outlier": 1,
          "X": 724,
          "Y": 1.891843416488586
         },
         {
          "Outlier": 1,
          "X": 723,
          "Y": 1.891843416488586
         },
         {
          "Outlier": 1,
          "X": 722,
          "Y": 1.891843416488586
         },
         {
          "Outlier": 1,
          "X": 721,
          "Y": 1.7497018785898255
         },
         {
          "Outlier": 1,
          "X": 720,
          "Y": 1.7497018785898255
         },
         {
          "Outlier": 1,
          "X": 719,
          "Y": 1.7497018785898255
         },
         {
          "Outlier": 1,
          "X": 718,
          "Y": 1.7497018785898255
         },
         {
          "Outlier": 1,
          "X": 717,
          "Y": 1.7497018785898255
         },
         {
          "Outlier": 1,
          "X": 716,
          "Y": 1.7497018785898255
         },
         {
          "Outlier": 1,
          "X": 715,
          "Y": 1.7497018785898255
         },
         {
          "Outlier": 1,
          "X": 714,
          "Y": 1.7497018785898255
         },
         {
          "Outlier": 1,
          "X": 713,
          "Y": 1.7497018785898255
         },
         {
          "Outlier": 1,
          "X": 712,
          "Y": 1.7497018785898255
         },
         {
          "Outlier": 1,
          "X": 711,
          "Y": 1.7497018785898255
         },
         {
          "Outlier": 1,
          "X": 710,
          "Y": 2.2946001483092227
         },
         {
          "Outlier": 1,
          "X": 709,
          "Y": 2.2946001483092227
         },
         {
          "Outlier": 1,
          "X": 708,
          "Y": 2.2946001483092227
         },
         {
          "Outlier": 1,
          "X": 707,
          "Y": 2.2946001483092227
         },
         {
          "Outlier": 1,
          "X": 706,
          "Y": 2.2946001483092227
         },
         {
          "Outlier": 1,
          "X": 705,
          "Y": 2.2946001483092227
         },
         {
          "Outlier": 1,
          "X": 704,
          "Y": 1.658811912435686
         },
         {
          "Outlier": 1,
          "X": 703,
          "Y": 1.658811912435686
         },
         {
          "Outlier": 1,
          "X": 702,
          "Y": 1.658811912435686
         },
         {
          "Outlier": 1,
          "X": 701,
          "Y": 1.658811912435686
         },
         {
          "Outlier": 1,
          "X": 700,
          "Y": 1.658811912435686
         },
         {
          "Outlier": 1,
          "X": 699,
          "Y": 1.658811912435686
         },
         {
          "Outlier": 1,
          "X": 698,
          "Y": 1.658811912435686
         },
         {
          "Outlier": 1,
          "X": 697,
          "Y": 1.658811912435686
         },
         {
          "Outlier": 1,
          "X": 696,
          "Y": 1.7652097877311717
         },
         {
          "Outlier": 1,
          "X": 695,
          "Y": 1.7652097877311717
         },
         {
          "Outlier": 1,
          "X": 694,
          "Y": 1.7652097877311717
         },
         {
          "Outlier": 1,
          "X": 693,
          "Y": 1.7652097877311717
         },
         {
          "Outlier": 1,
          "X": 692,
          "Y": 1.7652097877311717
         },
         {
          "Outlier": 1,
          "X": 691,
          "Y": 1.7652097877311717
         },
         {
          "Outlier": 1,
          "X": 690,
          "Y": 1.7652097877311717
         },
         {
          "Outlier": 1,
          "X": 689,
          "Y": 1.7652097877311717
         },
         {
          "Outlier": 1,
          "X": 688,
          "Y": 1.7652097877311717
         },
         {
          "Outlier": 1,
          "X": 687,
          "Y": 1.7652097877311717
         },
         {
          "Outlier": 1,
          "X": 686,
          "Y": 1.7652097877311717
         },
         {
          "Outlier": 1,
          "X": 685,
          "Y": 1.7652097877311717
         },
         {
          "Outlier": 1,
          "X": 684,
          "Y": 1.7652097877311717
         },
         {
          "Outlier": 1,
          "X": 683,
          "Y": 1.7652097877311717
         },
         {
          "Outlier": 1,
          "X": 682,
          "Y": 1.7652097877311717
         },
         {
          "Outlier": 1,
          "X": 681,
          "Y": 1.7652097877311717
         },
         {
          "Outlier": 1,
          "X": 680,
          "Y": 1.7652097877311717
         },
         {
          "Outlier": 1,
          "X": 679,
          "Y": 1.7652097877311717
         },
         {
          "Outlier": 1,
          "X": 678,
          "Y": 1.7652097877311717
         },
         {
          "Outlier": 1,
          "X": 677,
          "Y": 1.7652097877311717
         },
         {
          "Outlier": 1,
          "X": 676,
          "Y": 1.7652097877311717
         },
         {
          "Outlier": 1,
          "X": 675,
          "Y": 1.7652097877311717
         },
         {
          "Outlier": 1,
          "X": 674,
          "Y": 1.7652097877311717
         },
         {
          "Outlier": 1,
          "X": 673,
          "Y": 1.7652097877311717
         },
         {
          "Outlier": 1,
          "X": 672,
          "Y": 1.7652097877311717
         },
         {
          "Outlier": 1,
          "X": 671,
          "Y": 1.7652097877311717
         },
         {
          "Outlier": 1,
          "X": 670,
          "Y": 1.8469835673638269
         },
         {
          "Outlier": 1,
          "X": 669,
          "Y": 1.8469835673638269
         },
         {
          "Outlier": 1,
          "X": 668,
          "Y": 1.8469835673638269
         },
         {
          "Outlier": 1,
          "X": 667,
          "Y": 1.8469835673638269
         },
         {
          "Outlier": 1,
          "X": 666,
          "Y": 1.8469835673638269
         },
         {
          "Outlier": 1,
          "X": 665,
          "Y": 1.8469835673638269
         },
         {
          "Outlier": 1,
          "X": 664,
          "Y": 1.8469835673638269
         },
         {
          "Outlier": 1,
          "X": 663,
          "Y": 1.8469835673638269
         },
         {
          "Outlier": 1,
          "X": 662,
          "Y": 1.8469835673638269
         },
         {
          "Outlier": 1,
          "X": 661,
          "Y": 1.8469835673638269
         },
         {
          "Outlier": 1,
          "X": 660,
          "Y": 1.8469835673638269
         },
         {
          "Outlier": 1,
          "X": 659,
          "Y": 1.8469835673638269
         },
         {
          "Outlier": 1,
          "X": 658,
          "Y": 1.8469835673638269
         },
         {
          "Outlier": 1,
          "X": 657,
          "Y": 1.8469835673638269
         },
         {
          "Outlier": 1,
          "X": 656,
          "Y": 1.8469835673638269
         },
         {
          "Outlier": 1,
          "X": 655,
          "Y": 1.8469835673638269
         },
         {
          "Outlier": 1,
          "X": 654,
          "Y": 1.8469835673638269
         },
         {
          "Outlier": 1,
          "X": 653,
          "Y": 1.8469835673638269
         },
         {
          "Outlier": 1,
          "X": 652,
          "Y": 1.8469835673638269
         },
         {
          "Outlier": 1,
          "X": 651,
          "Y": 1.8469835673638269
         },
         {
          "Outlier": 1,
          "X": 650,
          "Y": 1.8469835673638269
         },
         {
          "Outlier": 1,
          "X": 649,
          "Y": 1.8469835673638269
         },
         {
          "Outlier": 1,
          "X": 648,
          "Y": 1.8469835673638269
         },
         {
          "Outlier": 1,
          "X": 647,
          "Y": 1.8469835673638269
         },
         {
          "Outlier": 1,
          "X": 646,
          "Y": 1.8469835673638269
         },
         {
          "Outlier": 1,
          "X": 645,
          "Y": 2.087905156221181
         },
         {
          "Outlier": 1,
          "X": 644,
          "Y": 2.087905156221181
         },
         {
          "Outlier": 1,
          "X": 643,
          "Y": 2.087905156221181
         },
         {
          "Outlier": 1,
          "X": 642,
          "Y": 2.087905156221181
         },
         {
          "Outlier": 1,
          "X": 641,
          "Y": 2.087905156221181
         },
         {
          "Outlier": 1,
          "X": 640,
          "Y": 2.087905156221181
         },
         {
          "Outlier": 1,
          "X": 639,
          "Y": 2.087905156221181
         },
         {
          "Outlier": 1,
          "X": 638,
          "Y": 2.087905156221181
         },
         {
          "Outlier": 1,
          "X": 637,
          "Y": 2.087905156221181
         },
         {
          "Outlier": 1,
          "X": 636,
          "Y": 2.087905156221181
         },
         {
          "Outlier": 1,
          "X": 635,
          "Y": 2.087905156221181
         },
         {
          "Outlier": 1,
          "X": 634,
          "Y": 2.087905156221181
         },
         {
          "Outlier": 1,
          "X": 633,
          "Y": 2.087905156221181
         },
         {
          "Outlier": 1,
          "X": 632,
          "Y": 2.087905156221181
         },
         {
          "Outlier": 1,
          "X": 631,
          "Y": 2.087905156221181
         },
         {
          "Outlier": 1,
          "X": 630,
          "Y": 2.087905156221181
         },
         {
          "Outlier": 1,
          "X": 629,
          "Y": 2.087905156221181
         },
         {
          "Outlier": 1,
          "X": 628,
          "Y": 2.087905156221181
         },
         {
          "Outlier": 1,
          "X": 627,
          "Y": 2.087905156221181
         },
         {
          "Outlier": 1,
          "X": 626,
          "Y": 2.087905156221181
         },
         {
          "Outlier": 1,
          "X": 625,
          "Y": 2.087905156221181
         },
         {
          "Outlier": 1,
          "X": 624,
          "Y": 2.087905156221181
         },
         {
          "Outlier": 1,
          "X": 623,
          "Y": 2.087905156221181
         },
         {
          "Outlier": 1,
          "X": 622,
          "Y": 2.087905156221181
         },
         {
          "Outlier": 1,
          "X": 621,
          "Y": 2.087905156221181
         },
         {
          "Outlier": 1,
          "X": 620,
          "Y": 2.087905156221181
         },
         {
          "Outlier": 1,
          "X": 619,
          "Y": 2.087905156221181
         },
         {
          "Outlier": 1,
          "X": 618,
          "Y": 2.087905156221181
         },
         {
          "Outlier": 1,
          "X": 617,
          "Y": 2.087905156221181
         },
         {
          "Outlier": 1,
          "X": 616,
          "Y": 2.0388835361098283
         },
         {
          "Outlier": 1,
          "X": 615,
          "Y": 2.0388835361098283
         },
         {
          "Outlier": 1,
          "X": 614,
          "Y": 2.0388835361098283
         },
         {
          "Outlier": 1,
          "X": 613,
          "Y": 2.0388835361098283
         },
         {
          "Outlier": 1,
          "X": 612,
          "Y": 2.0388835361098283
         },
         {
          "Outlier": 1,
          "X": 611,
          "Y": 2.0388835361098283
         },
         {
          "Outlier": 1,
          "X": 610,
          "Y": 2.0388835361098283
         },
         {
          "Outlier": 1,
          "X": 609,
          "Y": 2.0388835361098283
         },
         {
          "Outlier": 1,
          "X": 608,
          "Y": 2.0388835361098283
         },
         {
          "Outlier": 1,
          "X": 607,
          "Y": 2.0388835361098283
         },
         {
          "Outlier": 1,
          "X": 606,
          "Y": 2.0388835361098283
         },
         {
          "Outlier": 1,
          "X": 605,
          "Y": 2.0388835361098283
         },
         {
          "Outlier": 1,
          "X": 604,
          "Y": 2.0388835361098283
         },
         {
          "Outlier": 1,
          "X": 603,
          "Y": 2.0388835361098283
         },
         {
          "Outlier": 1,
          "X": 602,
          "Y": 2.0388835361098283
         },
         {
          "Outlier": 1,
          "X": 601,
          "Y": 2.0388835361098283
         },
         {
          "Outlier": 1,
          "X": 600,
          "Y": 2.0388835361098283
         },
         {
          "Outlier": 1,
          "X": 599,
          "Y": 2.0388835361098283
         },
         {
          "Outlier": 1,
          "X": 598,
          "Y": 2.0388835361098283
         },
         {
          "Outlier": 1,
          "X": 597,
          "Y": 1.7160317487364638
         },
         {
          "Outlier": 1,
          "X": 596,
          "Y": 1.7160317487364638
         },
         {
          "Outlier": 1,
          "X": 595,
          "Y": 1.7160317487364638
         },
         {
          "Outlier": 1,
          "X": 594,
          "Y": 1.7160317487364638
         },
         {
          "Outlier": 1,
          "X": 593,
          "Y": 1.7160317487364638
         },
         {
          "Outlier": 1,
          "X": 592,
          "Y": 1.7160317487364638
         },
         {
          "Outlier": 1,
          "X": 591,
          "Y": 1.7160317487364638
         },
         {
          "Outlier": 1,
          "X": 590,
          "Y": 1.7160317487364638
         },
         {
          "Outlier": 1,
          "X": 589,
          "Y": 1.7160317487364638
         },
         {
          "Outlier": 1,
          "X": 588,
          "Y": 1.7160317487364638
         },
         {
          "Outlier": 1,
          "X": 587,
          "Y": 1.7160317487364638
         },
         {
          "Outlier": 1,
          "X": 586,
          "Y": 1.7160317487364638
         },
         {
          "Outlier": 1,
          "X": 585,
          "Y": 1.7160317487364638
         },
         {
          "Outlier": 1,
          "X": 584,
          "Y": 1.7160317487364638
         },
         {
          "Outlier": 1,
          "X": 583,
          "Y": 1.7160317487364638
         },
         {
          "Outlier": 1,
          "X": 582,
          "Y": 1.7160317487364638
         },
         {
          "Outlier": 1,
          "X": 581,
          "Y": 1.7160317487364638
         },
         {
          "Outlier": 1,
          "X": 580,
          "Y": 1.7160317487364638
         },
         {
          "Outlier": 1,
          "X": 579,
          "Y": 1.7160317487364638
         },
         {
          "Outlier": 1,
          "X": 578,
          "Y": 1.7160317487364638
         },
         {
          "Outlier": 1,
          "X": 577,
          "Y": 1.7160317487364638
         },
         {
          "Outlier": 1,
          "X": 576,
          "Y": 1.7160317487364638
         },
         {
          "Outlier": 1,
          "X": 575,
          "Y": 1.7160317487364638
         },
         {
          "Outlier": 1,
          "X": 574,
          "Y": 1.7160317487364638
         },
         {
          "Outlier": 1,
          "X": 573,
          "Y": 1.7160317487364638
         },
         {
          "Outlier": 1,
          "X": 572,
          "Y": 1.7160317487364638
         },
         {
          "Outlier": 1,
          "X": 571,
          "Y": 1.7160317487364638
         },
         {
          "Outlier": 1,
          "X": 570,
          "Y": 1.7160317487364638
         },
         {
          "Outlier": 1,
          "X": 569,
          "Y": 1.7160317487364638
         },
         {
          "Outlier": 1,
          "X": 568,
          "Y": 1.7160317487364638
         },
         {
          "Outlier": 1,
          "X": 567,
          "Y": 1.7160317487364638
         },
         {
          "Outlier": 1,
          "X": 566,
          "Y": 1.7160317487364638
         },
         {
          "Outlier": 1,
          "X": 565,
          "Y": 1.7160317487364638
         },
         {
          "Outlier": 1,
          "X": 564,
          "Y": 1.7160317487364638
         },
         {
          "Outlier": 1,
          "X": 563,
          "Y": 1.7160317487364638
         },
         {
          "Outlier": 1,
          "X": 562,
          "Y": 1.7160317487364638
         },
         {
          "Outlier": 1,
          "X": 561,
          "Y": 1.7160317487364638
         },
         {
          "Outlier": 1,
          "X": 560,
          "Y": 1.7160317487364638
         },
         {
          "Outlier": 1,
          "X": 559,
          "Y": 1.7160317487364638
         },
         {
          "Outlier": 1,
          "X": 558,
          "Y": 1.5493630413376596
         },
         {
          "Outlier": 1,
          "X": 557,
          "Y": 1.8671317303862804
         },
         {
          "Outlier": 1,
          "X": 556,
          "Y": 1.8671317303862804
         },
         {
          "Outlier": 1,
          "X": 555,
          "Y": 1.8671317303862804
         },
         {
          "Outlier": 1,
          "X": 554,
          "Y": 1.8671317303862804
         },
         {
          "Outlier": 1,
          "X": 553,
          "Y": 1.8671317303862804
         },
         {
          "Outlier": 1,
          "X": 552,
          "Y": 1.8671317303862804
         },
         {
          "Outlier": 1,
          "X": 551,
          "Y": 1.8671317303862804
         },
         {
          "Outlier": 1,
          "X": 550,
          "Y": 1.8671317303862804
         },
         {
          "Outlier": 1,
          "X": 549,
          "Y": 1.8671317303862804
         },
         {
          "Outlier": 1,
          "X": 548,
          "Y": 1.8671317303862804
         },
         {
          "Outlier": 1,
          "X": 547,
          "Y": 1.8671317303862804
         },
         {
          "Outlier": 1,
          "X": 546,
          "Y": 1.8671317303862804
         },
         {
          "Outlier": 1,
          "X": 545,
          "Y": 1.8671317303862804
         },
         {
          "Outlier": 1,
          "X": 544,
          "Y": 1.8671317303862804
         },
         {
          "Outlier": 1,
          "X": 543,
          "Y": 1.3142115128659677
         },
         {
          "Outlier": 1,
          "X": 542,
          "Y": 1.3142115128659677
         },
         {
          "Outlier": 1,
          "X": 541,
          "Y": 1.3142115128659677
         },
         {
          "Outlier": 1,
          "X": 540,
          "Y": 1.3142115128659677
         },
         {
          "Outlier": 1,
          "X": 539,
          "Y": 1.7552043632871244
         },
         {
          "Outlier": 1,
          "X": 538,
          "Y": 1.7552043632871244
         },
         {
          "Outlier": 1,
          "X": 537,
          "Y": 1.7552043632871244
         },
         {
          "Outlier": 1,
          "X": 536,
          "Y": 1.7552043632871244
         },
         {
          "Outlier": 1,
          "X": 535,
          "Y": 1.7552043632871244
         },
         {
          "Outlier": 1,
          "X": 534,
          "Y": 1.7552043632871244
         },
         {
          "Outlier": 1,
          "X": 533,
          "Y": 1.7552043632871244
         },
         {
          "Outlier": 1,
          "X": 532,
          "Y": 1.7552043632871244
         },
         {
          "Outlier": 1,
          "X": 531,
          "Y": 1.7552043632871244
         },
         {
          "Outlier": 1,
          "X": 530,
          "Y": 1.7552043632871244
         },
         {
          "Outlier": 1,
          "X": 529,
          "Y": 1.7552043632871244
         },
         {
          "Outlier": 1,
          "X": 528,
          "Y": 1.7552043632871244
         },
         {
          "Outlier": 1,
          "X": 527,
          "Y": 1.7552043632871244
         },
         {
          "Outlier": 1,
          "X": 526,
          "Y": 1.7552043632871244
         },
         {
          "Outlier": 1,
          "X": 525,
          "Y": 1.7552043632871244
         },
         {
          "Outlier": 1,
          "X": 524,
          "Y": 1.7552043632871244
         },
         {
          "Outlier": 1,
          "X": 523,
          "Y": 1.9093972904713568
         },
         {
          "Outlier": 1,
          "X": 522,
          "Y": 1.9093972904713568
         },
         {
          "Outlier": 1,
          "X": 521,
          "Y": 1.9093972904713568
         },
         {
          "Outlier": 1,
          "X": 520,
          "Y": 1.9093972904713568
         },
         {
          "Outlier": 1,
          "X": 519,
          "Y": 2.0013081290944768
         },
         {
          "Outlier": 1,
          "X": 518,
          "Y": 2.0013081290944768
         },
         {
          "Outlier": 1,
          "X": 517,
          "Y": 2.0013081290944768
         },
         {
          "Outlier": 1,
          "X": 516,
          "Y": 2.0013081290944768
         },
         {
          "Outlier": 1,
          "X": 515,
          "Y": 2.0013081290944768
         },
         {
          "Outlier": 1,
          "X": 514,
          "Y": 2.0013081290944768
         },
         {
          "Outlier": 1,
          "X": 513,
          "Y": 2.0013081290944768
         },
         {
          "Outlier": 1,
          "X": 512,
          "Y": 2.0013081290944768
         },
         {
          "Outlier": 1,
          "X": 511,
          "Y": 2.0013081290944768
         },
         {
          "Outlier": 1,
          "X": 510,
          "Y": 2.0013081290944768
         },
         {
          "Outlier": 1,
          "X": 509,
          "Y": 2.0013081290944768
         },
         {
          "Outlier": 1,
          "X": 508,
          "Y": 2.0013081290944768
         },
         {
          "Outlier": 1,
          "X": 507,
          "Y": 2.0013081290944768
         },
         {
          "Outlier": 1,
          "X": 506,
          "Y": 2.0013081290944768
         },
         {
          "Outlier": 1,
          "X": 505,
          "Y": 2.0013081290944768
         },
         {
          "Outlier": 1,
          "X": 504,
          "Y": 2.0013081290944768
         },
         {
          "Outlier": 1,
          "X": 503,
          "Y": 2.0013081290944768
         },
         {
          "Outlier": 1,
          "X": 502,
          "Y": 2.0013081290944768
         },
         {
          "Outlier": 1,
          "X": 501,
          "Y": 2.0013081290944768
         },
         {
          "Outlier": 1,
          "X": 500,
          "Y": 2.0013081290944768
         },
         {
          "Outlier": 1,
          "X": 499,
          "Y": 2.0013081290944768
         },
         {
          "Outlier": 1,
          "X": 498,
          "Y": 2.0013081290944768
         },
         {
          "Outlier": 1,
          "X": 497,
          "Y": 2.0013081290944768
         },
         {
          "Outlier": 1,
          "X": 496,
          "Y": 2.0013081290944768
         },
         {
          "Outlier": 1,
          "X": 495,
          "Y": 2.0013081290944768
         },
         {
          "Outlier": 1,
          "X": 494,
          "Y": 1.3485580071926517
         },
         {
          "Outlier": 1,
          "X": 493,
          "Y": 1.3485580071926517
         },
         {
          "Outlier": 1,
          "X": 492,
          "Y": 1.3485580071926517
         },
         {
          "Outlier": 1,
          "X": 491,
          "Y": 1.3485580071926517
         },
         {
          "Outlier": 1,
          "X": 490,
          "Y": 1.3485580071926517
         },
         {
          "Outlier": 1,
          "X": 489,
          "Y": 1.3485580071926517
         },
         {
          "Outlier": 1,
          "X": 488,
          "Y": 1.3485580071926517
         },
         {
          "Outlier": 1,
          "X": 487,
          "Y": 1.3485580071926517
         },
         {
          "Outlier": 1,
          "X": 486,
          "Y": 1.3485580071926517
         },
         {
          "Outlier": 1,
          "X": 485,
          "Y": 1.3485580071926517
         },
         {
          "Outlier": 1,
          "X": 484,
          "Y": 1.3267836505401627
         },
         {
          "Outlier": 1,
          "X": 483,
          "Y": 1.3267836505401627
         },
         {
          "Outlier": 1,
          "X": 482,
          "Y": 1.3267836505401627
         },
         {
          "Outlier": 1,
          "X": 481,
          "Y": 1.3267836505401627
         },
         {
          "Outlier": 1,
          "X": 480,
          "Y": 1.2269337425750118
         },
         {
          "Outlier": 1,
          "X": 479,
          "Y": 1.2269337425750118
         },
         {
          "Outlier": 1,
          "X": 478,
          "Y": 1.2269337425750118
         },
         {
          "Outlier": 1,
          "X": 477,
          "Y": 1.794878565178167
         },
         {
          "Outlier": 1,
          "X": 476,
          "Y": 1.794878565178167
         },
         {
          "Outlier": 1,
          "X": 475,
          "Y": 1.794878565178167
         },
         {
          "Outlier": 1,
          "X": 474,
          "Y": 1.794878565178167
         },
         {
          "Outlier": 1,
          "X": 473,
          "Y": 2.0665018567601443
         },
         {
          "Outlier": 1,
          "X": 472,
          "Y": 2.0665018567601443
         },
         {
          "Outlier": 1,
          "X": 471,
          "Y": 2.0665018567601443
         },
         {
          "Outlier": 1,
          "X": 470,
          "Y": 2.0665018567601443
         },
         {
          "Outlier": 1,
          "X": 469,
          "Y": 2.0665018567601443
         },
         {
          "Outlier": 1,
          "X": 468,
          "Y": 2.0665018567601443
         },
         {
          "Outlier": 1,
          "X": 467,
          "Y": 2.0665018567601443
         },
         {
          "Outlier": 1,
          "X": 466,
          "Y": 1.6433515625028146
         },
         {
          "Outlier": 1,
          "X": 465,
          "Y": 1.6433515625028146
         },
         {
          "Outlier": 1,
          "X": 464,
          "Y": 1.6433515625028146
         },
         {
          "Outlier": 1,
          "X": 463,
          "Y": 1.6433515625028146
         },
         {
          "Outlier": 1,
          "X": 462,
          "Y": 1.6433515625028146
         },
         {
          "Outlier": 1,
          "X": 461,
          "Y": 1.6433515625028146
         },
         {
          "Outlier": 1,
          "X": 460,
          "Y": 1.6433515625028146
         },
         {
          "Outlier": 1,
          "X": 459,
          "Y": 1.6433515625028146
         },
         {
          "Outlier": 1,
          "X": 458,
          "Y": 1.6433515625028146
         },
         {
          "Outlier": 1,
          "X": 457,
          "Y": 1.6433515625028146
         },
         {
          "Outlier": 1,
          "X": 456,
          "Y": 1.6433515625028146
         },
         {
          "Outlier": 1,
          "X": 455,
          "Y": 1.6433515625028146
         },
         {
          "Outlier": 1,
          "X": 454,
          "Y": 1.6433515625028146
         },
         {
          "Outlier": 1,
          "X": 453,
          "Y": 1.6433515625028146
         },
         {
          "Outlier": 1,
          "X": 452,
          "Y": 1.6433515625028146
         },
         {
          "Outlier": 1,
          "X": 451,
          "Y": 1.6433515625028146
         },
         {
          "Outlier": 1,
          "X": 450,
          "Y": 1.6433515625028146
         },
         {
          "Outlier": 1,
          "X": 449,
          "Y": 1.6433515625028146
         },
         {
          "Outlier": 1,
          "X": 448,
          "Y": 1.6433515625028146
         },
         {
          "Outlier": 1,
          "X": 447,
          "Y": 1.6433515625028146
         },
         {
          "Outlier": 1,
          "X": 446,
          "Y": 1.6433515625028146
         },
         {
          "Outlier": 1,
          "X": 445,
          "Y": 1.6433515625028146
         },
         {
          "Outlier": 1,
          "X": 444,
          "Y": 1.6433515625028146
         },
         {
          "Outlier": 1,
          "X": 443,
          "Y": 1.6433515625028146
         },
         {
          "Outlier": 1,
          "X": 442,
          "Y": 1.6433515625028146
         },
         {
          "Outlier": 1,
          "X": 441,
          "Y": 1.6433515625028146
         },
         {
          "Outlier": 1,
          "X": 440,
          "Y": 1.6433515625028146
         },
         {
          "Outlier": 1,
          "X": 439,
          "Y": 1.6433515625028146
         },
         {
          "Outlier": 1,
          "X": 438,
          "Y": 1.6433515625028146
         },
         {
          "Outlier": 1,
          "X": 437,
          "Y": 1.6433515625028146
         },
         {
          "Outlier": 1,
          "X": 436,
          "Y": 1.6433515625028146
         },
         {
          "Outlier": 1,
          "X": 435,
          "Y": 1.6433515625028146
         },
         {
          "Outlier": 1,
          "X": 434,
          "Y": 1.6433515625028146
         },
         {
          "Outlier": 1,
          "X": 433,
          "Y": 1.6433515625028146
         },
         {
          "Outlier": 1,
          "X": 432,
          "Y": 1.6433515625028146
         },
         {
          "Outlier": 1,
          "X": 431,
          "Y": 1.6433515625028146
         },
         {
          "Outlier": 1,
          "X": 430,
          "Y": 2.2296557820519336
         },
         {
          "Outlier": 1,
          "X": 429,
          "Y": 2.2296557820519336
         },
         {
          "Outlier": 1,
          "X": 428,
          "Y": 2.2296557820519336
         },
         {
          "Outlier": 1,
          "X": 427,
          "Y": 2.2296557820519336
         },
         {
          "Outlier": 1,
          "X": 426,
          "Y": 2.2296557820519336
         },
         {
          "Outlier": 1,
          "X": 425,
          "Y": 2.2296557820519336
         },
         {
          "Outlier": 1,
          "X": 424,
          "Y": 2.2296557820519336
         },
         {
          "Outlier": 1,
          "X": 423,
          "Y": 2.2296557820519336
         },
         {
          "Outlier": 1,
          "X": 422,
          "Y": 2.2296557820519336
         },
         {
          "Outlier": 1,
          "X": 421,
          "Y": 2.2296557820519336
         },
         {
          "Outlier": 1,
          "X": 420,
          "Y": 2.2296557820519336
         },
         {
          "Outlier": 1,
          "X": 419,
          "Y": 2.2296557820519336
         },
         {
          "Outlier": 1,
          "X": 418,
          "Y": 2.2296557820519336
         },
         {
          "Outlier": 1,
          "X": 417,
          "Y": 2.2296557820519336
         },
         {
          "Outlier": 1,
          "X": 416,
          "Y": 2.2296557820519336
         },
         {
          "Outlier": 1,
          "X": 415,
          "Y": 2.2296557820519336
         },
         {
          "Outlier": 1,
          "X": 414,
          "Y": 2.2296557820519336
         },
         {
          "Outlier": 1,
          "X": 413,
          "Y": 2.2296557820519336
         },
         {
          "Outlier": 1,
          "X": 412,
          "Y": 2.2296557820519336
         },
         {
          "Outlier": 1,
          "X": 411,
          "Y": 2.2296557820519336
         },
         {
          "Outlier": 1,
          "X": 410,
          "Y": 2.2296557820519336
         },
         {
          "Outlier": 1,
          "X": 409,
          "Y": 2.2296557820519336
         },
         {
          "Outlier": 1,
          "X": 408,
          "Y": 2.2296557820519336
         },
         {
          "Outlier": 1,
          "X": 407,
          "Y": 2.2296557820519336
         },
         {
          "Outlier": 1,
          "X": 406,
          "Y": 2.2296557820519336
         },
         {
          "Outlier": 1,
          "X": 405,
          "Y": 2.2296557820519336
         },
         {
          "Outlier": 1,
          "X": 404,
          "Y": 2.2296557820519336
         },
         {
          "Outlier": 1,
          "X": 403,
          "Y": 2.2296557820519336
         },
         {
          "Outlier": 1,
          "X": 402,
          "Y": 2.2296557820519336
         },
         {
          "Outlier": 1,
          "X": 401,
          "Y": 2.2296557820519336
         },
         {
          "Outlier": 1,
          "X": 400,
          "Y": 2.2296557820519336
         },
         {
          "Outlier": 1,
          "X": 399,
          "Y": 2.2296557820519336
         },
         {
          "Outlier": 1,
          "X": 398,
          "Y": 2.2296557820519336
         },
         {
          "Outlier": 1,
          "X": 397,
          "Y": 2.2296557820519336
         },
         {
          "Outlier": 1,
          "X": 396,
          "Y": 2.2296557820519336
         },
         {
          "Outlier": 1,
          "X": 395,
          "Y": 2.2296557820519336
         },
         {
          "Outlier": 1,
          "X": 394,
          "Y": 1.8147052322565385
         },
         {
          "Outlier": 1,
          "X": 393,
          "Y": 1.8147052322565385
         },
         {
          "Outlier": 1,
          "X": 392,
          "Y": 1.8147052322565385
         },
         {
          "Outlier": 1,
          "X": 391,
          "Y": 1.8147052322565385
         },
         {
          "Outlier": 1,
          "X": 390,
          "Y": 1.30462588195755
         },
         {
          "Outlier": 1,
          "X": 389,
          "Y": 1.30462588195755
         },
         {
          "Outlier": 1,
          "X": 388,
          "Y": 1.30462588195755
         },
         {
          "Outlier": 1,
          "X": 387,
          "Y": 1.30462588195755
         },
         {
          "Outlier": 1,
          "X": 386,
          "Y": 1.30462588195755
         },
         {
          "Outlier": 1,
          "X": 385,
          "Y": 1.6560496747938094
         },
         {
          "Outlier": 1,
          "X": 384,
          "Y": 1.6560496747938094
         },
         {
          "Outlier": 1,
          "X": 383,
          "Y": 1.6560496747938094
         },
         {
          "Outlier": 1,
          "X": 382,
          "Y": 1.6560496747938094
         },
         {
          "Outlier": 1,
          "X": 381,
          "Y": 1.6560496747938094
         },
         {
          "Outlier": 1,
          "X": 380,
          "Y": 1.6560496747938094
         },
         {
          "Outlier": 1,
          "X": 379,
          "Y": 1.6560496747938094
         },
         {
          "Outlier": 1,
          "X": 378,
          "Y": 1.6560496747938094
         },
         {
          "Outlier": 1,
          "X": 377,
          "Y": 1.6560496747938094
         },
         {
          "Outlier": 1,
          "X": 376,
          "Y": 1.6560496747938094
         },
         {
          "Outlier": 1,
          "X": 375,
          "Y": 1.6560496747938094
         },
         {
          "Outlier": 1,
          "X": 374,
          "Y": 1.6560496747938094
         },
         {
          "Outlier": 1,
          "X": 373,
          "Y": 1.6560496747938094
         },
         {
          "Outlier": 1,
          "X": 372,
          "Y": 1.6560496747938094
         },
         {
          "Outlier": 1,
          "X": 371,
          "Y": 1.6560496747938094
         },
         {
          "Outlier": 1,
          "X": 370,
          "Y": 1.6560496747938094
         },
         {
          "Outlier": 1,
          "X": 369,
          "Y": 1.6560496747938094
         },
         {
          "Outlier": 1,
          "X": 368,
          "Y": 1.6560496747938094
         },
         {
          "Outlier": 1,
          "X": 367,
          "Y": 1.6560496747938094
         },
         {
          "Outlier": 1,
          "X": 366,
          "Y": 1.6078459291993832
         },
         {
          "Outlier": 1,
          "X": 365,
          "Y": 1.7776754548531566
         },
         {
          "Outlier": 1,
          "X": 364,
          "Y": 1.7776754548531566
         },
         {
          "Outlier": 1,
          "X": 363,
          "Y": 1.7776754548531566
         },
         {
          "Outlier": 1,
          "X": 362,
          "Y": 1.7776754548531566
         },
         {
          "Outlier": 1,
          "X": 361,
          "Y": 1.7776754548531566
         },
         {
          "Outlier": 1,
          "X": 360,
          "Y": 1.7776754548531566
         },
         {
          "Outlier": 1,
          "X": 359,
          "Y": 1.7776754548531566
         },
         {
          "Outlier": 1,
          "X": 358,
          "Y": 1.7776754548531566
         },
         {
          "Outlier": 1,
          "X": 357,
          "Y": 1.7776754548531566
         },
         {
          "Outlier": 1,
          "X": 356,
          "Y": 1.7776754548531566
         },
         {
          "Outlier": 1,
          "X": 355,
          "Y": 1.7776754548531566
         },
         {
          "Outlier": 1,
          "X": 354,
          "Y": 1.7776754548531566
         },
         {
          "Outlier": 1,
          "X": 353,
          "Y": 1.7776754548531566
         },
         {
          "Outlier": 1,
          "X": 352,
          "Y": 1.52594575733393
         },
         {
          "Outlier": 1,
          "X": 351,
          "Y": 1.52594575733393
         },
         {
          "Outlier": 1,
          "X": 350,
          "Y": 2.489442576493648
         },
         {
          "Outlier": 1,
          "X": 349,
          "Y": 2.489442576493648
         },
         {
          "Outlier": 1,
          "X": 348,
          "Y": 2.489442576493648
         },
         {
          "Outlier": 1,
          "X": 347,
          "Y": 2.489442576493648
         },
         {
          "Outlier": 1,
          "X": 346,
          "Y": 2.489442576493648
         },
         {
          "Outlier": 1,
          "X": 345,
          "Y": 2.489442576493648
         },
         {
          "Outlier": 1,
          "X": 344,
          "Y": 2.489442576493648
         },
         {
          "Outlier": 1,
          "X": 343,
          "Y": 2.489442576493648
         },
         {
          "Outlier": 1,
          "X": 342,
          "Y": 2.489442576493648
         },
         {
          "Outlier": 1,
          "X": 341,
          "Y": 1.8828997947595156
         },
         {
          "Outlier": 1,
          "X": 340,
          "Y": 1.8828997947595156
         },
         {
          "Outlier": 1,
          "X": 339,
          "Y": 1.8828997947595156
         },
         {
          "Outlier": 1,
          "X": 338,
          "Y": 1.8828997947595156
         },
         {
          "Outlier": 1,
          "X": 337,
          "Y": 1.8828997947595156
         },
         {
          "Outlier": 1,
          "X": 336,
          "Y": 1.8828997947595156
         },
         {
          "Outlier": 1,
          "X": 335,
          "Y": 1.8828997947595156
         },
         {
          "Outlier": 1,
          "X": 334,
          "Y": 1.8828997947595156
         },
         {
          "Outlier": 1,
          "X": 333,
          "Y": 1.8828997947595156
         },
         {
          "Outlier": 1,
          "X": 332,
          "Y": 1.8828997947595156
         },
         {
          "Outlier": 1,
          "X": 331,
          "Y": 1.8828997947595156
         },
         {
          "Outlier": 1,
          "X": 330,
          "Y": 1.8828997947595156
         },
         {
          "Outlier": 1,
          "X": 329,
          "Y": 1.8828997947595156
         },
         {
          "Outlier": 1,
          "X": 328,
          "Y": 1.8828997947595156
         },
         {
          "Outlier": 1,
          "X": 327,
          "Y": 1.8828997947595156
         },
         {
          "Outlier": 1,
          "X": 326,
          "Y": 1.8828997947595156
         },
         {
          "Outlier": 1,
          "X": 325,
          "Y": 1.8828997947595156
         },
         {
          "Outlier": 1,
          "X": 324,
          "Y": 1.8828997947595156
         },
         {
          "Outlier": 1,
          "X": 323,
          "Y": 1.8828997947595156
         },
         {
          "Outlier": 1,
          "X": 322,
          "Y": 1.8828997947595156
         },
         {
          "Outlier": 1,
          "X": 321,
          "Y": 1.8828997947595156
         },
         {
          "Outlier": 1,
          "X": 320,
          "Y": 1.8828997947595156
         },
         {
          "Outlier": 1,
          "X": 319,
          "Y": 1.8828997947595156
         },
         {
          "Outlier": 1,
          "X": 318,
          "Y": 1.8828997947595156
         },
         {
          "Outlier": 1,
          "X": 317,
          "Y": 1.8828997947595156
         },
         {
          "Outlier": 1,
          "X": 316,
          "Y": 1.8828997947595156
         },
         {
          "Outlier": 1,
          "X": 315,
          "Y": 1.8828997947595156
         },
         {
          "Outlier": 1,
          "X": 314,
          "Y": 1.8828997947595156
         },
         {
          "Outlier": 1,
          "X": 313,
          "Y": 1.8828997947595156
         },
         {
          "Outlier": 1,
          "X": 312,
          "Y": 1.8828997947595156
         },
         {
          "Outlier": 1,
          "X": 311,
          "Y": 1.8828997947595156
         },
         {
          "Outlier": 1,
          "X": 310,
          "Y": 1.8828997947595156
         },
         {
          "Outlier": 1,
          "X": 309,
          "Y": 1.8828997947595156
         },
         {
          "Outlier": 1,
          "X": 308,
          "Y": 1.8828997947595156
         },
         {
          "Outlier": 1,
          "X": 307,
          "Y": 1.8828997947595156
         },
         {
          "Outlier": 1,
          "X": 306,
          "Y": 1.8828997947595156
         },
         {
          "Outlier": 1,
          "X": 305,
          "Y": 1.8828997947595156
         },
         {
          "Outlier": 1,
          "X": 304,
          "Y": 1.8828997947595156
         },
         {
          "Outlier": 1,
          "X": 303,
          "Y": 1.8828997947595156
         },
         {
          "Outlier": 1,
          "X": 302,
          "Y": 1.8828997947595156
         },
         {
          "Outlier": 1,
          "X": 301,
          "Y": 1.8828997947595156
         },
         {
          "Outlier": 1,
          "X": 300,
          "Y": 1.3422258844770831
         },
         {
          "Outlier": 1,
          "X": 299,
          "Y": 1.3422258844770831
         },
         {
          "Outlier": 1,
          "X": 298,
          "Y": 1.3422258844770831
         },
         {
          "Outlier": 1,
          "X": 297,
          "Y": 1.3422258844770831
         },
         {
          "Outlier": 1,
          "X": 296,
          "Y": 1.3422258844770831
         },
         {
          "Outlier": 1,
          "X": 295,
          "Y": 1.3422258844770831
         },
         {
          "Outlier": 1,
          "X": 294,
          "Y": 1.3422258844770831
         },
         {
          "Outlier": 1,
          "X": 293,
          "Y": 1.3422258844770831
         },
         {
          "Outlier": 1,
          "X": 292,
          "Y": 1.3422258844770831
         },
         {
          "Outlier": 1,
          "X": 291,
          "Y": 1.3422258844770831
         },
         {
          "Outlier": 1,
          "X": 290,
          "Y": 1.3422258844770831
         },
         {
          "Outlier": 1,
          "X": 289,
          "Y": 1.3422258844770831
         },
         {
          "Outlier": 1,
          "X": 288,
          "Y": 1.3422258844770831
         },
         {
          "Outlier": 1,
          "X": 287,
          "Y": 1.3422258844770831
         },
         {
          "Outlier": 1,
          "X": 286,
          "Y": 1.3422258844770831
         },
         {
          "Outlier": 1,
          "X": 285,
          "Y": 2.344535984885695
         },
         {
          "Outlier": 1,
          "X": 284,
          "Y": 2.344535984885695
         },
         {
          "Outlier": 1,
          "X": 283,
          "Y": 2.344535984885695
         },
         {
          "Outlier": 1,
          "X": 282,
          "Y": 2.344535984885695
         },
         {
          "Outlier": 1,
          "X": 281,
          "Y": 2.344535984885695
         },
         {
          "Outlier": 1,
          "X": 280,
          "Y": 2.344535984885695
         },
         {
          "Outlier": 1,
          "X": 279,
          "Y": 2.344535984885695
         },
         {
          "Outlier": 1,
          "X": 278,
          "Y": 2.344535984885695
         },
         {
          "Outlier": 1,
          "X": 277,
          "Y": 1.296164254389404
         },
         {
          "Outlier": 1,
          "X": 276,
          "Y": 1.296164254389404
         },
         {
          "Outlier": 1,
          "X": 275,
          "Y": 1.296164254389404
         },
         {
          "Outlier": 1,
          "X": 274,
          "Y": 1.296164254389404
         },
         {
          "Outlier": 1,
          "X": 273,
          "Y": 1.296164254389404
         },
         {
          "Outlier": 1,
          "X": 272,
          "Y": 1.296164254389404
         },
         {
          "Outlier": 1,
          "X": 271,
          "Y": 1.296164254389404
         },
         {
          "Outlier": 1,
          "X": 270,
          "Y": 1.296164254389404
         },
         {
          "Outlier": 1,
          "X": 269,
          "Y": 1.858996607673116
         },
         {
          "Outlier": 1,
          "X": 268,
          "Y": 1.858996607673116
         },
         {
          "Outlier": 1,
          "X": 267,
          "Y": 1.858996607673116
         },
         {
          "Outlier": 1,
          "X": 266,
          "Y": 1.858996607673116
         },
         {
          "Outlier": 1,
          "X": 265,
          "Y": 1.858996607673116
         },
         {
          "Outlier": 1,
          "X": 264,
          "Y": 1.858996607673116
         },
         {
          "Outlier": 1,
          "X": 263,
          "Y": 1.858996607673116
         },
         {
          "Outlier": 1,
          "X": 262,
          "Y": 1.858996607673116
         },
         {
          "Outlier": 1,
          "X": 261,
          "Y": 1.858996607673116
         },
         {
          "Outlier": 1,
          "X": 260,
          "Y": 1.858996607673116
         },
         {
          "Outlier": 1,
          "X": 259,
          "Y": 1.858996607673116
         },
         {
          "Outlier": 1,
          "X": 258,
          "Y": 1.858996607673116
         },
         {
          "Outlier": 1,
          "X": 257,
          "Y": 1.858996607673116
         },
         {
          "Outlier": 1,
          "X": 256,
          "Y": 1.858996607673116
         },
         {
          "Outlier": 1,
          "X": 255,
          "Y": 1.858996607673116
         },
         {
          "Outlier": 1,
          "X": 254,
          "Y": 1.858996607673116
         },
         {
          "Outlier": 1,
          "X": 253,
          "Y": 1.858996607673116
         },
         {
          "Outlier": 1,
          "X": 252,
          "Y": 1.858996607673116
         },
         {
          "Outlier": 1,
          "X": 251,
          "Y": 1.858996607673116
         },
         {
          "Outlier": 1,
          "X": 250,
          "Y": 1.858996607673116
         },
         {
          "Outlier": 1,
          "X": 249,
          "Y": 1.858996607673116
         },
         {
          "Outlier": 1,
          "X": 248,
          "Y": 1.858996607673116
         },
         {
          "Outlier": 1,
          "X": 247,
          "Y": 1.858996607673116
         },
         {
          "Outlier": 1,
          "X": 246,
          "Y": 1.858996607673116
         },
         {
          "Outlier": 1,
          "X": 245,
          "Y": 1.858996607673116
         },
         {
          "Outlier": 1,
          "X": 244,
          "Y": 1.858996607673116
         },
         {
          "Outlier": 1,
          "X": 243,
          "Y": 1.858996607673116
         },
         {
          "Outlier": 1,
          "X": 242,
          "Y": 1.858996607673116
         },
         {
          "Outlier": 1,
          "X": 241,
          "Y": 1.858996607673116
         },
         {
          "Outlier": 1,
          "X": 240,
          "Y": 1.858996607673116
         },
         {
          "Outlier": 1,
          "X": 239,
          "Y": 2.2333897375156417
         },
         {
          "Outlier": 1,
          "X": 238,
          "Y": 1.246649510892441
         },
         {
          "Outlier": 1,
          "X": 237,
          "Y": 1.246649510892441
         },
         {
          "Outlier": 1,
          "X": 236,
          "Y": 1.4201427917391793
         },
         {
          "Outlier": 1,
          "X": 235,
          "Y": 1.4201427917391793
         },
         {
          "Outlier": 1,
          "X": 234,
          "Y": 1.4201427917391793
         },
         {
          "Outlier": 1,
          "X": 233,
          "Y": 1.4201427917391793
         },
         {
          "Outlier": 1,
          "X": 232,
          "Y": 1.4201427917391793
         },
         {
          "Outlier": 1,
          "X": 231,
          "Y": 1.4201427917391793
         },
         {
          "Outlier": 1,
          "X": 230,
          "Y": 1.4201427917391793
         },
         {
          "Outlier": 1,
          "X": 229,
          "Y": 1.4201427917391793
         },
         {
          "Outlier": 1,
          "X": 228,
          "Y": 1.4201427917391793
         },
         {
          "Outlier": 1,
          "X": 227,
          "Y": 1.4201427917391793
         },
         {
          "Outlier": 1,
          "X": 226,
          "Y": 1.4201427917391793
         },
         {
          "Outlier": 1,
          "X": 225,
          "Y": 1.4201427917391793
         },
         {
          "Outlier": 1,
          "X": 224,
          "Y": 1.4201427917391793
         },
         {
          "Outlier": 1,
          "X": 223,
          "Y": 1.4201427917391793
         },
         {
          "Outlier": 1,
          "X": 222,
          "Y": 1.4201427917391793
         },
         {
          "Outlier": 1,
          "X": 221,
          "Y": 1.4201427917391793
         },
         {
          "Outlier": 1,
          "X": 220,
          "Y": 1.4201427917391793
         },
         {
          "Outlier": 1,
          "X": 219,
          "Y": 1.4201427917391793
         },
         {
          "Outlier": 1,
          "X": 218,
          "Y": 1.4201427917391793
         },
         {
          "Outlier": 1,
          "X": 217,
          "Y": 1.4201427917391793
         },
         {
          "Outlier": 1,
          "X": 216,
          "Y": 1.4201427917391793
         },
         {
          "Outlier": 1,
          "X": 215,
          "Y": 1.4201427917391793
         },
         {
          "Outlier": 1,
          "X": 214,
          "Y": 1.4201427917391793
         },
         {
          "Outlier": 1,
          "X": 213,
          "Y": 1.4201427917391793
         },
         {
          "Outlier": 1,
          "X": 212,
          "Y": 1.4201427917391793
         },
         {
          "Outlier": 1,
          "X": 211,
          "Y": 1.4201427917391793
         },
         {
          "Outlier": 1,
          "X": 210,
          "Y": 1.4201427917391793
         },
         {
          "Outlier": 1,
          "X": 209,
          "Y": 1.4201427917391793
         },
         {
          "Outlier": 1,
          "X": 208,
          "Y": 1.4201427917391793
         },
         {
          "Outlier": 1,
          "X": 207,
          "Y": 1.4201427917391793
         },
         {
          "Outlier": 1,
          "X": 206,
          "Y": 1.4201427917391793
         },
         {
          "Outlier": 1,
          "X": 205,
          "Y": 1.4201427917391793
         },
         {
          "Outlier": 1,
          "X": 204,
          "Y": 1.4201427917391793
         },
         {
          "Outlier": 1,
          "X": 203,
          "Y": 1.4201427917391793
         },
         {
          "Outlier": 1,
          "X": 202,
          "Y": 1.4201427917391793
         },
         {
          "Outlier": 1,
          "X": 201,
          "Y": 1.4201427917391793
         },
         {
          "Outlier": 1,
          "X": 200,
          "Y": 1.4201427917391793
         },
         {
          "Outlier": 1,
          "X": 199,
          "Y": 1.4201427917391793
         },
         {
          "Outlier": 1,
          "X": 198,
          "Y": 1.4201427917391793
         },
         {
          "Outlier": 1,
          "X": 197,
          "Y": 1.4201427917391793
         },
         {
          "Outlier": 1,
          "X": 196,
          "Y": 1.4201427917391793
         },
         {
          "Outlier": 1,
          "X": 195,
          "Y": 1.4201427917391793
         },
         {
          "Outlier": 1,
          "X": 194,
          "Y": 1.4201427917391793
         },
         {
          "Outlier": 1,
          "X": 193,
          "Y": 1.4201427917391793
         },
         {
          "Outlier": 1,
          "X": 192,
          "Y": 1.4201427917391793
         },
         {
          "Outlier": 1,
          "X": 191,
          "Y": 1.4201427917391793
         },
         {
          "Outlier": 1,
          "X": 190,
          "Y": 1.4201427917391793
         },
         {
          "Outlier": 1,
          "X": 189,
          "Y": 1.4201427917391793
         },
         {
          "Outlier": 1,
          "X": 188,
          "Y": 1.4201427917391793
         },
         {
          "Outlier": 1,
          "X": 187,
          "Y": 1.4201427917391793
         },
         {
          "Outlier": 1,
          "X": 186,
          "Y": 1.4201427917391793
         },
         {
          "Outlier": 1,
          "X": 185,
          "Y": 1.4201427917391793
         },
         {
          "Outlier": 1,
          "X": 184,
          "Y": 1.4201427917391793
         },
         {
          "Outlier": 1,
          "X": 183,
          "Y": 1.4201427917391793
         },
         {
          "Outlier": 1,
          "X": 182,
          "Y": 1.4201427917391793
         },
         {
          "Outlier": 1,
          "X": 181,
          "Y": 1.4201427917391793
         },
         {
          "Outlier": 1,
          "X": 180,
          "Y": 1.4201427917391793
         },
         {
          "Outlier": 1,
          "X": 179,
          "Y": 1.4201427917391793
         },
         {
          "Outlier": 1,
          "X": 178,
          "Y": 1.4201427917391793
         },
         {
          "Outlier": 1,
          "X": 177,
          "Y": 1.4201427917391793
         },
         {
          "Outlier": 1,
          "X": 176,
          "Y": 1.4201427917391793
         },
         {
          "Outlier": 1,
          "X": 175,
          "Y": 1.4201427917391793
         },
         {
          "Outlier": 1,
          "X": 174,
          "Y": 1.4201427917391793
         },
         {
          "Outlier": 1,
          "X": 173,
          "Y": 1.4201427917391793
         },
         {
          "Outlier": 1,
          "X": 172,
          "Y": 1.4201427917391793
         },
         {
          "Outlier": 1,
          "X": 171,
          "Y": 1.4201427917391793
         },
         {
          "Outlier": 1,
          "X": 170,
          "Y": 1.4201427917391793
         },
         {
          "Outlier": 1,
          "X": 169,
          "Y": 1.4201427917391793
         },
         {
          "Outlier": 1,
          "X": 168,
          "Y": 1.4201427917391793
         },
         {
          "Outlier": 1,
          "X": 167,
          "Y": 1.4201427917391793
         },
         {
          "Outlier": 1,
          "X": 166,
          "Y": 1.4201427917391793
         },
         {
          "Outlier": 1,
          "X": 165,
          "Y": 1.4201427917391793
         },
         {
          "Outlier": 1,
          "X": 164,
          "Y": 1.4201427917391793
         },
         {
          "Outlier": 1,
          "X": 163,
          "Y": 1.4201427917391793
         },
         {
          "Outlier": 1,
          "X": 162,
          "Y": 1.4201427917391793
         },
         {
          "Outlier": 1,
          "X": 161,
          "Y": 1.4201427917391793
         },
         {
          "Outlier": 1,
          "X": 160,
          "Y": 1.4201427917391793
         },
         {
          "Outlier": 1,
          "X": 159,
          "Y": 1.4201427917391793
         },
         {
          "Outlier": 1,
          "X": 158,
          "Y": 1.4201427917391793
         },
         {
          "Outlier": 1,
          "X": 157,
          "Y": 1.4201427917391793
         },
         {
          "Outlier": 1,
          "X": 156,
          "Y": 1.4201427917391793
         },
         {
          "Outlier": 1,
          "X": 155,
          "Y": 1.4201427917391793
         },
         {
          "Outlier": 1,
          "X": 154,
          "Y": 1.4201427917391793
         },
         {
          "Outlier": 1,
          "X": 153,
          "Y": 1.4201427917391793
         },
         {
          "Outlier": 1,
          "X": 152,
          "Y": 1.4201427917391793
         },
         {
          "Outlier": 1,
          "X": 151,
          "Y": 1.4201427917391793
         },
         {
          "Outlier": 1,
          "X": 150,
          "Y": 1.4201427917391793
         },
         {
          "Outlier": 1,
          "X": 149,
          "Y": 1.4201427917391793
         },
         {
          "Outlier": 1,
          "X": 148,
          "Y": 1.4201427917391793
         },
         {
          "Outlier": 1,
          "X": 147,
          "Y": 1.4201427917391793
         },
         {
          "Outlier": 1,
          "X": 146,
          "Y": 1.4201427917391793
         },
         {
          "Outlier": 1,
          "X": 145,
          "Y": 1.4201427917391793
         },
         {
          "Outlier": 1,
          "X": 144,
          "Y": 1.4201427917391793
         },
         {
          "Outlier": 1,
          "X": 143,
          "Y": 1.4201427917391793
         },
         {
          "Outlier": 1,
          "X": 142,
          "Y": 1.4201427917391793
         },
         {
          "Outlier": 1,
          "X": 141,
          "Y": 1.4201427917391793
         },
         {
          "Outlier": 1,
          "X": 140,
          "Y": 1.4201427917391793
         },
         {
          "Outlier": 1,
          "X": 139,
          "Y": 1.4201427917391793
         },
         {
          "Outlier": 1,
          "X": 138,
          "Y": 1.4201427917391793
         },
         {
          "Outlier": 1,
          "X": 137,
          "Y": 1.4201427917391793
         },
         {
          "Outlier": 1,
          "X": 136,
          "Y": 1.4201427917391793
         },
         {
          "Outlier": 1,
          "X": 135,
          "Y": 1.4201427917391793
         },
         {
          "Outlier": 1,
          "X": 134,
          "Y": 1.4201427917391793
         },
         {
          "Outlier": 1,
          "X": 133,
          "Y": 1.4201427917391793
         },
         {
          "Outlier": 1,
          "X": 132,
          "Y": 1.4201427917391793
         },
         {
          "Outlier": 1,
          "X": 131,
          "Y": 1.4201427917391793
         },
         {
          "Outlier": 1,
          "X": 130,
          "Y": 1.4201427917391793
         },
         {
          "Outlier": 1,
          "X": 129,
          "Y": 1.4201427917391793
         },
         {
          "Outlier": 1,
          "X": 128,
          "Y": 1.4201427917391793
         },
         {
          "Outlier": 1,
          "X": 127,
          "Y": 1.4201427917391793
         },
         {
          "Outlier": 1,
          "X": 126,
          "Y": 1.4201427917391793
         },
         {
          "Outlier": 1,
          "X": 125,
          "Y": 1.4201427917391793
         },
         {
          "Outlier": 1,
          "X": 124,
          "Y": 1.4201427917391793
         },
         {
          "Outlier": 1,
          "X": 123,
          "Y": 1.4201427917391793
         },
         {
          "Outlier": 1,
          "X": 122,
          "Y": 1.4201427917391793
         },
         {
          "Outlier": 1,
          "X": 121,
          "Y": 1.4201427917391793
         },
         {
          "Outlier": 1,
          "X": 120,
          "Y": 1.4201427917391793
         },
         {
          "Outlier": 1,
          "X": 119,
          "Y": 1.4201427917391793
         },
         {
          "Outlier": 1,
          "X": 118,
          "Y": 1.4201427917391793
         },
         {
          "Outlier": 1,
          "X": 117,
          "Y": 1.4201427917391793
         },
         {
          "Outlier": 1,
          "X": 116,
          "Y": 1.4201427917391793
         },
         {
          "Outlier": 1,
          "X": 115,
          "Y": 1.4201427917391793
         },
         {
          "Outlier": 1,
          "X": 114,
          "Y": 1.4201427917391793
         },
         {
          "Outlier": 1,
          "X": 113,
          "Y": 1.4201427917391793
         },
         {
          "Outlier": 1,
          "X": 112,
          "Y": 1.4201427917391793
         },
         {
          "Outlier": 1,
          "X": 111,
          "Y": 1.4201427917391793
         },
         {
          "Outlier": 1,
          "X": 110,
          "Y": 1.4201427917391793
         },
         {
          "Outlier": 1,
          "X": 109,
          "Y": 1.4201427917391793
         },
         {
          "Outlier": 1,
          "X": 108,
          "Y": 1.4201427917391793
         },
         {
          "Outlier": 1,
          "X": 107,
          "Y": 1.4201427917391793
         },
         {
          "Outlier": 1,
          "X": 106,
          "Y": 1.4201427917391793
         },
         {
          "Outlier": 1,
          "X": 105,
          "Y": 1.4201427917391793
         },
         {
          "Outlier": 1,
          "X": 104,
          "Y": 1.4201427917391793
         },
         {
          "Outlier": 1,
          "X": 103,
          "Y": 1.4201427917391793
         },
         {
          "Outlier": 1,
          "X": 102,
          "Y": 1.4201427917391793
         },
         {
          "Outlier": 1,
          "X": 101,
          "Y": 1.4201427917391793
         },
         {
          "Outlier": 1,
          "X": 100,
          "Y": 1.4201427917391793
         },
         {
          "Outlier": 1,
          "X": 99,
          "Y": 1.4201427917391793
         },
         {
          "Outlier": 1,
          "X": 98,
          "Y": 1.7142197811374518
         },
         {
          "Outlier": 1,
          "X": 97,
          "Y": 1.7142197811374518
         },
         {
          "Outlier": 1,
          "X": 96,
          "Y": 1.7142197811374518
         },
         {
          "Outlier": 1,
          "X": 95,
          "Y": 1.7142197811374518
         },
         {
          "Outlier": 1,
          "X": 94,
          "Y": 1.7142197811374518
         },
         {
          "Outlier": 1,
          "X": 93,
          "Y": 1.7142197811374518
         },
         {
          "Outlier": 1,
          "X": 92,
          "Y": 1.7142197811374518
         },
         {
          "Outlier": 1,
          "X": 91,
          "Y": 1.7142197811374518
         },
         {
          "Outlier": 1,
          "X": 90,
          "Y": 1.7142197811374518
         },
         {
          "Outlier": 1,
          "X": 89,
          "Y": 1.7142197811374518
         },
         {
          "Outlier": 1,
          "X": 88,
          "Y": 1.7142197811374518
         },
         {
          "Outlier": 1,
          "X": 87,
          "Y": 1.7142197811374518
         },
         {
          "Outlier": 1,
          "X": 86,
          "Y": 1.7142197811374518
         },
         {
          "Outlier": 1,
          "X": 85,
          "Y": 1.7142197811374518
         },
         {
          "Outlier": 1,
          "X": 84,
          "Y": 1.7142197811374518
         },
         {
          "Outlier": 1,
          "X": 83,
          "Y": 1.7142197811374518
         },
         {
          "Outlier": 1,
          "X": 82,
          "Y": 1.7142197811374518
         },
         {
          "Outlier": 1,
          "X": 81,
          "Y": 1.7142197811374518
         },
         {
          "Outlier": 1,
          "X": 80,
          "Y": 1.7142197811374518
         },
         {
          "Outlier": 1,
          "X": 79,
          "Y": 1.7142197811374518
         },
         {
          "Outlier": 1,
          "X": 78,
          "Y": 1.7142197811374518
         },
         {
          "Outlier": 1,
          "X": 77,
          "Y": 1.7142197811374518
         },
         {
          "Outlier": 1,
          "X": 76,
          "Y": 1.7142197811374518
         },
         {
          "Outlier": 1,
          "X": 75,
          "Y": 1.7142197811374518
         },
         {
          "Outlier": 1,
          "X": 74,
          "Y": 1.7142197811374518
         },
         {
          "Outlier": 1,
          "X": 73,
          "Y": 1.7142197811374518
         },
         {
          "Outlier": 1,
          "X": 72,
          "Y": 1.7142197811374518
         },
         {
          "Outlier": 1,
          "X": 71,
          "Y": 1.7142197811374518
         },
         {
          "Outlier": 1,
          "X": 70,
          "Y": 1.7142197811374518
         },
         {
          "Outlier": 1,
          "X": 69,
          "Y": 1.7142197811374518
         },
         {
          "Outlier": 1,
          "X": 68,
          "Y": 1.7142197811374518
         },
         {
          "Outlier": 1,
          "X": 67,
          "Y": 1.7142197811374518
         },
         {
          "Outlier": 1,
          "X": 66,
          "Y": 1.7142197811374518
         },
         {
          "Outlier": 1,
          "X": 65,
          "Y": 1.7142197811374518
         },
         {
          "Outlier": 1,
          "X": 64,
          "Y": 1.7142197811374518
         },
         {
          "Outlier": 1,
          "X": 63,
          "Y": 1.7142197811374518
         },
         {
          "Outlier": 1,
          "X": 62,
          "Y": 1.7142197811374518
         },
         {
          "Outlier": 1,
          "X": 61,
          "Y": 1.7142197811374518
         },
         {
          "Outlier": 1,
          "X": 60,
          "Y": 1.7142197811374518
         },
         {
          "Outlier": 1,
          "X": 59,
          "Y": 1.7142197811374518
         },
         {
          "Outlier": 1,
          "X": 58,
          "Y": 1.7142197811374518
         },
         {
          "Outlier": 1,
          "X": 57,
          "Y": 1.7142197811374518
         },
         {
          "Outlier": 1,
          "X": 56,
          "Y": 1.7142197811374518
         },
         {
          "Outlier": 1,
          "X": 55,
          "Y": 1.7142197811374518
         },
         {
          "Outlier": 1,
          "X": 54,
          "Y": 1.7142197811374518
         },
         {
          "Outlier": 1,
          "X": 53,
          "Y": 1.7142197811374518
         },
         {
          "Outlier": 1,
          "X": 52,
          "Y": 1.7142197811374518
         },
         {
          "Outlier": 1,
          "X": 51,
          "Y": 1.7142197811374518
         },
         {
          "Outlier": 1,
          "X": 50,
          "Y": 1.7142197811374518
         },
         {
          "Outlier": 1,
          "X": 49,
          "Y": 1.7142197811374518
         },
         {
          "Outlier": 1,
          "X": 48,
          "Y": 1.7142197811374518
         },
         {
          "Outlier": 1,
          "X": 47,
          "Y": 1.7142197811374518
         },
         {
          "Outlier": 1,
          "X": 46,
          "Y": 1.7142197811374518
         },
         {
          "Outlier": 1,
          "X": 45,
          "Y": 1.7142197811374518
         },
         {
          "Outlier": 1,
          "X": 44,
          "Y": 1.7142197811374518
         },
         {
          "Outlier": 1,
          "X": 43,
          "Y": 1.7142197811374518
         },
         {
          "Outlier": 1,
          "X": 42,
          "Y": 1.7142197811374518
         },
         {
          "Outlier": 1,
          "X": 41,
          "Y": 1.7142197811374518
         },
         {
          "Outlier": 1,
          "X": 40,
          "Y": 1.7142197811374518
         },
         {
          "Outlier": 1,
          "X": 39,
          "Y": 1.7142197811374518
         },
         {
          "Outlier": 1,
          "X": 38,
          "Y": 1.858600127811928
         },
         {
          "Outlier": 1,
          "X": 37,
          "Y": 1.858600127811928
         },
         {
          "Outlier": 1,
          "X": 36,
          "Y": 1.858600127811928
         },
         {
          "Outlier": 1,
          "X": 35,
          "Y": 1.858600127811928
         },
         {
          "Outlier": 1,
          "X": 34,
          "Y": 1.858600127811928
         },
         {
          "Outlier": 1,
          "X": 33,
          "Y": 1.858600127811928
         },
         {
          "Outlier": 1,
          "X": 32,
          "Y": 1.858600127811928
         },
         {
          "Outlier": 1,
          "X": 31,
          "Y": 1.858600127811928
         },
         {
          "Outlier": 1,
          "X": 30,
          "Y": 1.4431168371690295
         },
         {
          "Outlier": 1,
          "X": 29,
          "Y": 1.4431168371690295
         },
         {
          "Outlier": 1,
          "X": 28,
          "Y": 1.4431168371690295
         },
         {
          "Outlier": 1,
          "X": 27,
          "Y": 1.4431168371690295
         },
         {
          "Outlier": 1,
          "X": 26,
          "Y": 1.4431168371690295
         },
         {
          "Outlier": 1,
          "X": 25,
          "Y": 1.4431168371690295
         },
         {
          "Outlier": 1,
          "X": 24,
          "Y": 1.4431168371690295
         },
         {
          "Outlier": 1,
          "X": 23,
          "Y": 1.4431168371690295
         },
         {
          "Outlier": 1,
          "X": 22,
          "Y": 1.4431168371690295
         },
         {
          "Outlier": 1,
          "X": 21,
          "Y": 1.4431168371690295
         },
         {
          "Outlier": 1,
          "X": 20,
          "Y": 1.5802552971615031
         },
         {
          "Outlier": 1,
          "X": 19,
          "Y": 1.5802552971615031
         },
         {
          "Outlier": 1,
          "X": 18,
          "Y": 1.3145215619778121
         },
         {
          "Outlier": 1,
          "X": 17,
          "Y": 2.2234710547460788
         },
         {
          "Outlier": 1,
          "X": 16,
          "Y": 2.2234710547460788
         },
         {
          "Outlier": 1,
          "X": 15,
          "Y": 2.2234710547460788
         },
         {
          "Outlier": 1,
          "X": 14,
          "Y": 2.2234710547460788
         },
         {
          "Outlier": 1,
          "X": 13,
          "Y": 2.2234710547460788
         },
         {
          "Outlier": 1,
          "X": 12,
          "Y": 2.2234710547460788
         },
         {
          "Outlier": 1,
          "X": 11,
          "Y": 2.2234710547460788
         },
         {
          "Outlier": 1,
          "X": 10,
          "Y": 2.2234710547460788
         },
         {
          "Outlier": 1,
          "X": 9,
          "Y": 2.529685152521397
         },
         {
          "Outlier": 1,
          "X": 8,
          "Y": 2.529685152521397
         },
         {
          "Outlier": 1,
          "X": 7,
          "Y": 2.529685152521397
         },
         {
          "Outlier": 1,
          "X": 6,
          "Y": 2.529685152521397
         },
         {
          "Outlier": 1,
          "X": 5,
          "Y": 2.529685152521397
         },
         {
          "Outlier": 1,
          "X": 4,
          "Y": 2.529685152521397
         },
         {
          "Outlier": 1,
          "X": 3,
          "Y": 2.529685152521397
         },
         {
          "Outlier": 1,
          "X": 2,
          "Y": 2.529685152521397
         },
         {
          "Outlier": 1,
          "X": 1,
          "Y": 2.529685152521397
         }
        ]
       },
       "encoding": {
        "color": {},
        "x": {
         "field": "X",
         "type": "quantitative"
        },
        "y": {
         "field": "Y",
         "type": "quantitative"
        }
       },
       "height": 400,
       "mark": "line",
       "width": 400
      },
      "image/png": "[encoded data removed]"
     },
     "metadata": {},
     "output_type": "display_data"
    }
   ],
   "source": [
    "print \"Intercept\"\n",
    "l = length mhRunsRegression\n",
    "xs = reverse $ fromIntegral <$> [1..l] ::[Double]\n",
    "plot (xs, (\\(_,x,_) -> x) <$> mhRunsRegression) \n"
   ]
  },
  {
   "cell_type": "markdown",
   "metadata": {},
   "source": [
    "This is a sample from the MCMC walk. Since this is an easy inference problem, it wasn't hard to generate good samples.\n",
    "\n",
    "We can also view the posterior predictive, as follows:"
   ]
  },
  {
   "cell_type": "code",
   "execution_count": 9,
   "metadata": {},
   "outputs": [
    {
     "data": {
      "application/vnd.vegalite.v4+json": {
       "$schema": "https://vega.github.io/schema/vega-lite/v4.json",
       "data": {
        "values": [
         {
          "Outlier": "\"\\\"N/A\\\"\"",
          "X": -10,
          "Y": 34.30944810257017
         },
         {
          "Outlier": "\"\\\"N/A\\\"\"",
          "X": -9.9,
          "Y": 27.24085149708539
         },
         {
          "Outlier": "\"\\\"N/A\\\"\"",
          "X": -9.8,
          "Y": 38.505594739738974
         },
         {
          "Outlier": "\"\\\"N/A\\\"\"",
          "X": -9.700000000000001,
          "Y": 24.670936444125363
         },
         {
          "Outlier": "\"\\\"N/A\\\"\"",
          "X": -9.600000000000001,
          "Y": 21.818485342895272
         },
         {
          "Outlier": "\"\\\"N/A\\\"\"",
          "X": -9.500000000000002,
          "Y": 37.53521801611909
         },
         {
          "Outlier": "\"\\\"N/A\\\"\"",
          "X": -9.400000000000002,
          "Y": 24.81836033904785
         },
         {
          "Outlier": "\"\\\"N/A\\\"\"",
          "X": -9.300000000000002,
          "Y": 26.1468516568216
         },
         {
          "Outlier": "\"\\\"N/A\\\"\"",
          "X": -9.200000000000003,
          "Y": 46.21426014304069
         },
         {
          "Outlier": "\"\\\"N/A\\\"\"",
          "X": -9.100000000000003,
          "Y": 23.366630457628382
         },
         {
          "Outlier": "\"\\\"N/A\\\"\"",
          "X": -9.000000000000004,
          "Y": 17.26103440266769
         },
         {
          "Outlier": "\"\\\"N/A\\\"\"",
          "X": -8.900000000000004,
          "Y": 36.996524465235666
         },
         {
          "Outlier": "\"\\\"N/A\\\"\"",
          "X": -8.800000000000004,
          "Y": 40.521391215856795
         },
         {
          "Outlier": "\"\\\"N/A\\\"\"",
          "X": -8.700000000000005,
          "Y": 31.30239997365902
         },
         {
          "Outlier": "\"\\\"N/A\\\"\"",
          "X": -8.600000000000005,
          "Y": 23.959440654739563
         },
         {
          "Outlier": "\"\\\"N/A\\\"\"",
          "X": -8.500000000000005,
          "Y": 27.74437564349818
         },
         {
          "Outlier": "\"\\\"N/A\\\"\"",
          "X": -8.400000000000006,
          "Y": 18.965794903862403
         },
         {
          "Outlier": "\"\\\"N/A\\\"\"",
          "X": -8.300000000000006,
          "Y": 21.058539751786654
         },
         {
          "Outlier": "\"\\\"N/A\\\"\"",
          "X": -8.200000000000006,
          "Y": 37.814198368799225
         },
         {
          "Outlier": "\"\\\"N/A\\\"\"",
          "X": -8.100000000000007,
          "Y": 31.215922756108043
         },
         {
          "Outlier": "\"\\\"N/A\\\"\"",
          "X": -8.000000000000007,
          "Y": 24.90491777484204
         },
         {
          "Outlier": "\"\\\"N/A\\\"\"",
          "X": -7.9000000000000075,
          "Y": 37.0399759154341
         },
         {
          "Outlier": "\"\\\"N/A\\\"\"",
          "X": -7.800000000000008,
          "Y": 23.986058255244796
         },
         {
          "Outlier": "\"\\\"N/A\\\"\"",
          "X": -7.700000000000008,
          "Y": 20.63702948447236
         },
         {
          "Outlier": "\"\\\"N/A\\\"\"",
          "X": -7.6000000000000085,
          "Y": 17.834350368718596
         },
         {
          "Outlier": "\"\\\"N/A\\\"\"",
          "X": -7.500000000000009,
          "Y": 30.889289474711006
         },
         {
          "Outlier": "\"\\\"N/A\\\"\"",
          "X": -7.400000000000009,
          "Y": 25.55914094504301
         },
         {
          "Outlier": "\"\\\"N/A\\\"\"",
          "X": -7.30000000000001,
          "Y": 38.17677226102148
         },
         {
          "Outlier": "\"\\\"N/A\\\"\"",
          "X": -7.20000000000001,
          "Y": 23.968277250518753
         },
         {
          "Outlier": "\"\\\"N/A\\\"\"",
          "X": -7.10000000000001,
          "Y": 28.822417229203452
         },
         {
          "Outlier": "\"\\\"N/A\\\"\"",
          "X": -7.000000000000011,
          "Y": 13.757426417546313
         },
         {
          "Outlier": "\"\\\"N/A\\\"\"",
          "X": -6.900000000000011,
          "Y": 30.75120251034535
         },
         {
          "Outlier": "\"\\\"N/A\\\"\"",
          "X": -6.800000000000011,
          "Y": 26.871153315875464
         },
         {
          "Outlier": "\"\\\"N/A\\\"\"",
          "X": -6.700000000000012,
          "Y": 12.37861745653536
         },
         {
          "Outlier": "\"\\\"N/A\\\"\"",
          "X": -6.600000000000012,
          "Y": 33.117194179468406
         },
         {
          "Outlier": "\"\\\"N/A\\\"\"",
          "X": -6.500000000000012,
          "Y": 9.516020271152541
         },
         {
          "Outlier": "\"\\\"N/A\\\"\"",
          "X": -6.400000000000013,
          "Y": 17.630803136855665
         },
         {
          "Outlier": "\"\\\"N/A\\\"\"",
          "X": -6.300000000000013,
          "Y": 36.21084742871229
         },
         {
          "Outlier": "\"\\\"N/A\\\"\"",
          "X": -6.2000000000000135,
          "Y": 14.251021837486869
         },
         {
          "Outlier": "\"\\\"N/A\\\"\"",
          "X": -6.100000000000014,
          "Y": 20.062215187158685
         },
         {
          "Outlier": "\"\\\"N/A\\\"\"",
          "X": -6.000000000000014,
          "Y": 18.083116343489216
         },
         {
          "Outlier": "\"\\\"N/A\\\"\"",
          "X": -5.900000000000015,
          "Y": 15.28740704322962
         },
         {
          "Outlier": "\"\\\"N/A\\\"\"",
          "X": -5.800000000000015,
          "Y": 17.070638420024245
         },
         {
          "Outlier": "\"\\\"N/A\\\"\"",
          "X": -5.700000000000015,
          "Y": 13.511563137515212
         },
         {
          "Outlier": "\"\\\"N/A\\\"\"",
          "X": -5.600000000000016,
          "Y": 13.26658019005712
         },
         {
          "Outlier": "\"\\\"N/A\\\"\"",
          "X": -5.500000000000016,
          "Y": 23.608852195580432
         },
         {
          "Outlier": "\"\\\"N/A\\\"\"",
          "X": -5.400000000000016,
          "Y": 24.35149718263962
         },
         {
          "Outlier": "\"\\\"N/A\\\"\"",
          "X": -5.300000000000017,
          "Y": 21.703168581725432
         },
         {
          "Outlier": "\"\\\"N/A\\\"\"",
          "X": -5.200000000000017,
          "Y": 17.1774381779952
         },
         {
          "Outlier": "\"\\\"N/A\\\"\"",
          "X": -5.100000000000017,
          "Y": 14.187270317166158
         },
         {
          "Outlier": "\"\\\"N/A\\\"\"",
          "X": -5.000000000000018,
          "Y": 19.76926076295428
         },
         {
          "Outlier": "\"\\\"N/A\\\"\"",
          "X": -4.900000000000018,
          "Y": 13.718309147013098
         },
         {
          "Outlier": "\"\\\"N/A\\\"\"",
          "X": -4.8000000000000185,
          "Y": 20.042551878916267
         },
         {
          "Outlier": "\"\\\"N/A\\\"\"",
          "X": -4.700000000000019,
          "Y": 15.388665012999017
         },
         {
          "Outlier": "\"\\\"N/A\\\"\"",
          "X": -4.600000000000019,
          "Y": 16.719625210279844
         },
         {
          "Outlier": "\"\\\"N/A\\\"\"",
          "X": -4.5000000000000195,
          "Y": 12.684268185800466
         },
         {
          "Outlier": "\"\\\"N/A\\\"\"",
          "X": -4.40000000000002,
          "Y": 20.972001504282858
         },
         {
          "Outlier": "\"\\\"N/A\\\"\"",
          "X": -4.30000000000002,
          "Y": 26.949964928714074
         },
         {
          "Outlier": "\"\\\"N/A\\\"\"",
          "X": -4.200000000000021,
          "Y": 11.60909265617898
         },
         {
          "Outlier": "\"\\\"N/A\\\"\"",
          "X": -4.100000000000021,
          "Y": 13.175012961884832
         },
         {
          "Outlier": "\"\\\"N/A\\\"\"",
          "X": -4.000000000000021,
          "Y": 12.141710305404924
         },
         {
          "Outlier": "\"\\\"N/A\\\"\"",
          "X": -3.9000000000000217,
          "Y": 31.50777579637058
         },
         {
          "Outlier": "\"\\\"N/A\\\"\"",
          "X": -3.800000000000022,
          "Y": 10.122434264175412
         },
         {
          "Outlier": "\"\\\"N/A\\\"\"",
          "X": -3.7000000000000224,
          "Y": 14.394935513223766
         },
         {
          "Outlier": "\"\\\"N/A\\\"\"",
          "X": -3.6000000000000227,
          "Y": 17.8050754658001
         },
         {
          "Outlier": "\"\\\"N/A\\\"\"",
          "X": -3.500000000000023,
          "Y": 13.128129937914753
         },
         {
          "Outlier": "\"\\\"N/A\\\"\"",
          "X": -3.4000000000000234,
          "Y": 10.447725487357562
         },
         {
          "Outlier": "\"\\\"N/A\\\"\"",
          "X": -3.300000000000024,
          "Y": 2.3216247096763745
         },
         {
          "Outlier": "\"\\\"N/A\\\"\"",
          "X": -3.200000000000024,
          "Y": -2.3935463334637976
         },
         {
          "Outlier": "\"\\\"N/A\\\"\"",
          "X": -3.1000000000000245,
          "Y": 19.175108843091987
         },
         {
          "Outlier": "\"\\\"N/A\\\"\"",
          "X": -3.000000000000025,
          "Y": 17.66358075057135
         },
         {
          "Outlier": "\"\\\"N/A\\\"\"",
          "X": -2.9000000000000252,
          "Y": 1.1571654749816656
         },
         {
          "Outlier": "\"\\\"N/A\\\"\"",
          "X": -2.8000000000000256,
          "Y": 16.326339805358813
         },
         {
          "Outlier": "\"\\\"N/A\\\"\"",
          "X": -2.700000000000026,
          "Y": 9.01821962277669
         },
         {
          "Outlier": "\"\\\"N/A\\\"\"",
          "X": -2.6000000000000263,
          "Y": 12.504975994167143
         },
         {
          "Outlier": "\"\\\"N/A\\\"\"",
          "X": -2.5000000000000266,
          "Y": 14.12775355293637
         },
         {
          "Outlier": "\"\\\"N/A\\\"\"",
          "X": -2.400000000000027,
          "Y": 8.286012562357495
         },
         {
          "Outlier": "\"\\\"N/A\\\"\"",
          "X": -2.3000000000000274,
          "Y": 6.290269992341997
         },
         {
          "Outlier": "\"\\\"N/A\\\"\"",
          "X": -2.2000000000000277,
          "Y": 9.138818479389405
         },
         {
          "Outlier": "\"\\\"N/A\\\"\"",
          "X": -2.100000000000028,
          "Y": 16.526642178010842
         },
         {
          "Outlier": "\"\\\"N/A\\\"\"",
          "X": -2.0000000000000284,
          "Y": 10.581307935901794
         },
         {
          "Outlier": "\"\\\"N/A\\\"\"",
          "X": -1.9000000000000288,
          "Y": 14.932795437535695
         },
         {
          "Outlier": "\"\\\"N/A\\\"\"",
          "X": -1.8000000000000291,
          "Y": 4.71114648257332
         },
         {
          "Outlier": "\"\\\"N/A\\\"\"",
          "X": -1.7000000000000295,
          "Y": 7.416810754656249
         },
         {
          "Outlier": "\"\\\"N/A\\\"\"",
          "X": -1.6000000000000298,
          "Y": 7.5050755000615075
         },
         {
          "Outlier": "\"\\\"N/A\\\"\"",
          "X": -1.5000000000000302,
          "Y": 12.042999790643961
         },
         {
          "Outlier": "\"\\\"N/A\\\"\"",
          "X": -1.4000000000000306,
          "Y": 12.465550257656759
         },
         {
          "Outlier": "\"\\\"N/A\\\"\"",
          "X": -1.300000000000031,
          "Y": 6.2763293540898575
         },
         {
          "Outlier": "\"\\\"N/A\\\"\"",
          "X": -1.2000000000000313,
          "Y": 14.799162604951395
         },
         {
          "Outlier": "\"\\\"N/A\\\"\"",
          "X": -1.1000000000000316,
          "Y": 8.228323269351655
         },
         {
          "Outlier": "\"\\\"N/A\\\"\"",
          "X": -1.000000000000032,
          "Y": 7.924289350621528
         },
         {
          "Outlier": "\"\\\"N/A\\\"\"",
          "X": -0.9000000000000323,
          "Y": -3.997254163811429
         },
         {
          "Outlier": "\"\\\"N/A\\\"\"",
          "X": -0.8000000000000327,
          "Y": -1.8524902509807584
         },
         {
          "Outlier": "\"\\\"N/A\\\"\"",
          "X": -0.700000000000033,
          "Y": 3.426322847759426
         },
         {
          "Outlier": "\"\\\"N/A\\\"\"",
          "X": -0.6000000000000334,
          "Y": -3.106050261897967
         },
         {
          "Outlier": "\"\\\"N/A\\\"\"",
          "X": -0.5000000000000338,
          "Y": -4.781485585909262
         },
         {
          "Outlier": "\"\\\"N/A\\\"\"",
          "X": -0.4000000000000341,
          "Y": 16.84527197689767
         },
         {
          "Outlier": "\"\\\"N/A\\\"\"",
          "X": -0.30000000000003446,
          "Y": 7.372377811427535
         },
         {
          "Outlier": "\"\\\"N/A\\\"\"",
          "X": -0.20000000000003482,
          "Y": -2.8116008367068375
         },
         {
          "Outlier": "\"\\\"N/A\\\"\"",
          "X": -0.10000000000003517,
          "Y": 4.007360365629696
         },
         {
          "Outlier": "\"\\\"N/A\\\"\"",
          "X": -3.552713678800501e-14,
          "Y": 3.540259043365712
         },
         {
          "Outlier": "\"\\\"N/A\\\"\"",
          "X": 0.09999999999996412,
          "Y": 0.15385328307732515
         },
         {
          "Outlier": "\"\\\"N/A\\\"\"",
          "X": 0.19999999999996376,
          "Y": 2.9727983467794257
         },
         {
          "Outlier": "\"\\\"N/A\\\"\"",
          "X": 0.2999999999999634,
          "Y": -0.3615413178577145
         },
         {
          "Outlier": "\"\\\"N/A\\\"\"",
          "X": 0.39999999999996305,
          "Y": -3.6587266575239252
         },
         {
          "Outlier": "\"\\\"N/A\\\"\"",
          "X": 0.4999999999999627,
          "Y": -3.4334709451498187
         },
         {
          "Outlier": "\"\\\"N/A\\\"\"",
          "X": 0.5999999999999623,
          "Y": -2.236111483844569
         },
         {
          "Outlier": "\"\\\"N/A\\\"\"",
          "X": 0.699999999999962,
          "Y": 8.592489656527107
         },
         {
          "Outlier": "\"\\\"N/A\\\"\"",
          "X": 0.7999999999999616,
          "Y": 3.818271678583908
         },
         {
          "Outlier": "\"\\\"N/A\\\"\"",
          "X": 0.8999999999999613,
          "Y": -2.394229774870067
         },
         {
          "Outlier": "\"\\\"N/A\\\"\"",
          "X": 0.9999999999999609,
          "Y": -10.141157923513603
         },
         {
          "Outlier": "\"\\\"N/A\\\"\"",
          "X": 1.0999999999999606,
          "Y": 0.7542522253411339
         },
         {
          "Outlier": "\"\\\"N/A\\\"\"",
          "X": 1.1999999999999602,
          "Y": -0.038618187230164525
         },
         {
          "Outlier": "\"\\\"N/A\\\"\"",
          "X": 1.2999999999999599,
          "Y": -4.726387546002522
         },
         {
          "Outlier": "\"\\\"N/A\\\"\"",
          "X": 1.3999999999999595,
          "Y": 1.3121290948912852
         },
         {
          "Outlier": "\"\\\"N/A\\\"\"",
          "X": 1.4999999999999591,
          "Y": -3.478432861044001
         },
         {
          "Outlier": "\"\\\"N/A\\\"\"",
          "X": 1.5999999999999588,
          "Y": 0.9176670311917343
         },
         {
          "Outlier": "\"\\\"N/A\\\"\"",
          "X": 1.6999999999999584,
          "Y": -11.732814125277214
         },
         {
          "Outlier": "\"\\\"N/A\\\"\"",
          "X": 1.799999999999958,
          "Y": -3.91662715975036
         },
         {
          "Outlier": "\"\\\"N/A\\\"\"",
          "X": 1.8999999999999577,
          "Y": -7.6658409698277366
         },
         {
          "Outlier": "\"\\\"N/A\\\"\"",
          "X": 1.9999999999999574,
          "Y": -3.0064736806234347
         },
         {
          "Outlier": "\"\\\"N/A\\\"\"",
          "X": 2.099999999999957,
          "Y": -7.633426766279966
         },
         {
          "Outlier": "\"\\\"N/A\\\"\"",
          "X": 2.1999999999999567,
          "Y": -1.8353625186801565
         },
         {
          "Outlier": "\"\\\"N/A\\\"\"",
          "X": 2.2999999999999563,
          "Y": -12.962838281711724
         },
         {
          "Outlier": "\"\\\"N/A\\\"\"",
          "X": 2.399999999999956,
          "Y": -6.874329709778972
         },
         {
          "Outlier": "\"\\\"N/A\\\"\"",
          "X": 2.4999999999999556,
          "Y": -6.865995937830962
         },
         {
          "Outlier": "\"\\\"N/A\\\"\"",
          "X": 2.5999999999999552,
          "Y": -7.282490114073971
         },
         {
          "Outlier": "\"\\\"N/A\\\"\"",
          "X": 2.699999999999955,
          "Y": -10.940058951874157
         },
         {
          "Outlier": "\"\\\"N/A\\\"\"",
          "X": 2.7999999999999545,
          "Y": -2.8634238348035304
         },
         {
          "Outlier": "\"\\\"N/A\\\"\"",
          "X": 2.899999999999954,
          "Y": -14.5410594919809
         },
         {
          "Outlier": "\"\\\"N/A\\\"\"",
          "X": 2.999999999999954,
          "Y": -6.903380049422234
         },
         {
          "Outlier": "\"\\\"N/A\\\"\"",
          "X": 3.0999999999999535,
          "Y": -0.020859891889068116
         },
         {
          "Outlier": "\"\\\"N/A\\\"\"",
          "X": 3.199999999999953,
          "Y": -17.26560271809112
         },
         {
          "Outlier": "\"\\\"N/A\\\"\"",
          "X": 3.2999999999999527,
          "Y": -7.852826303734025
         },
         {
          "Outlier": "\"\\\"N/A\\\"\"",
          "X": 3.3999999999999524,
          "Y": -7.180158292066604
         },
         {
          "Outlier": "\"\\\"N/A\\\"\"",
          "X": 3.499999999999952,
          "Y": 1.9056213946149931
         },
         {
          "Outlier": "\"\\\"N/A\\\"\"",
          "X": 3.5999999999999517,
          "Y": -20.565516571186564
         },
         {
          "Outlier": "\"\\\"N/A\\\"\"",
          "X": 3.6999999999999513,
          "Y": -9.40184128156832
         },
         {
          "Outlier": "\"\\\"N/A\\\"\"",
          "X": 3.799999999999951,
          "Y": -6.134616264543523
         },
         {
          "Outlier": "\"\\\"N/A\\\"\"",
          "X": 3.8999999999999506,
          "Y": -1.344224483494365
         },
         {
          "Outlier": "\"\\\"N/A\\\"\"",
          "X": 3.9999999999999503,
          "Y": -15.08419036718375
         },
         {
          "Outlier": "\"\\\"N/A\\\"\"",
          "X": 4.09999999999995,
          "Y": -5.634321124484247
         },
         {
          "Outlier": "\"\\\"N/A\\\"\"",
          "X": 4.1999999999999496,
          "Y": -6.399374422093152
         },
         {
          "Outlier": "\"\\\"N/A\\\"\"",
          "X": 4.299999999999949,
          "Y": -12.635575801687034
         },
         {
          "Outlier": "\"\\\"N/A\\\"\"",
          "X": 4.399999999999949,
          "Y": -17.97391945574281
         },
         {
          "Outlier": "\"\\\"N/A\\\"\"",
          "X": 4.4999999999999485,
          "Y": -6.065455879541104
         },
         {
          "Outlier": "\"\\\"N/A\\\"\"",
          "X": 4.599999999999948,
          "Y": -4.832412280989314
         },
         {
          "Outlier": "\"\\\"N/A\\\"\"",
          "X": 4.699999999999948,
          "Y": -23.24206254329853
         },
         {
          "Outlier": "\"\\\"N/A\\\"\"",
          "X": 4.799999999999947,
          "Y": -9.357452307456455
         },
         {
          "Outlier": "\"\\\"N/A\\\"\"",
          "X": 4.899999999999947,
          "Y": -21.82506319969983
         },
         {
          "Outlier": "\"\\\"N/A\\\"\"",
          "X": 4.999999999999947,
          "Y": -11.843968928601074
         },
         {
          "Outlier": "\"\\\"N/A\\\"\"",
          "X": 5.099999999999946,
          "Y": -17.08269653889447
         },
         {
          "Outlier": "\"\\\"N/A\\\"\"",
          "X": 5.199999999999946,
          "Y": -10.738847657227115
         },
         {
          "Outlier": "\"\\\"N/A\\\"\"",
          "X": 5.299999999999946,
          "Y": -13.587572774398549
         },
         {
          "Outlier": "\"\\\"N/A\\\"\"",
          "X": 5.399999999999945,
          "Y": -4.339898860449246
         },
         {
          "Outlier": "\"\\\"N/A\\\"\"",
          "X": 5.499999999999945,
          "Y": -11.825243839048284
         },
         {
          "Outlier": "\"\\\"N/A\\\"\"",
          "X": 5.599999999999945,
          "Y": -19.100335230738146
         },
         {
          "Outlier": "\"\\\"N/A\\\"\"",
          "X": 5.699999999999944,
          "Y": -13.909073281212025
         },
         {
          "Outlier": "\"\\\"N/A\\\"\"",
          "X": 5.799999999999944,
          "Y": -29.523186095150173
         },
         {
          "Outlier": "\"\\\"N/A\\\"\"",
          "X": 5.8999999999999435,
          "Y": -19.940887518753886
         },
         {
          "Outlier": "\"\\\"N/A\\\"\"",
          "X": 5.999999999999943,
          "Y": -24.137053483958532
         },
         {
          "Outlier": "\"\\\"N/A\\\"\"",
          "X": 6.099999999999945,
          "Y": -16.177412372433064
         },
         {
          "Outlier": "\"\\\"N/A\\\"\"",
          "X": 6.1999999999999424,
          "Y": -11.621861497627325
         },
         {
          "Outlier": "\"\\\"N/A\\\"\"",
          "X": 6.29999999999994,
          "Y": -14.597257000044214
         },
         {
          "Outlier": "\"\\\"N/A\\\"\"",
          "X": 6.399999999999942,
          "Y": -16.49469138575554
         },
         {
          "Outlier": "\"\\\"N/A\\\"\"",
          "X": 6.499999999999943,
          "Y": -17.89162526935495
         },
         {
          "Outlier": "\"\\\"N/A\\\"\"",
          "X": 6.599999999999941,
          "Y": -19.953612663648663
         },
         {
          "Outlier": "\"\\\"N/A\\\"\"",
          "X": 6.699999999999939,
          "Y": -26.736893263134277
         },
         {
          "Outlier": "\"\\\"N/A\\\"\"",
          "X": 6.79999999999994,
          "Y": -28.95533737137772
         },
         {
          "Outlier": "\"\\\"N/A\\\"\"",
          "X": 6.899999999999942,
          "Y": -11.224080374306551
         },
         {
          "Outlier": "\"\\\"N/A\\\"\"",
          "X": 6.99999999999994,
          "Y": -9.879582955928694
         },
         {
          "Outlier": "\"\\\"N/A\\\"\"",
          "X": 7.0999999999999375,
          "Y": -12.271446635835595
         },
         {
          "Outlier": "\"\\\"N/A\\\"\"",
          "X": 7.199999999999939,
          "Y": -18.111073939488563
         },
         {
          "Outlier": "\"\\\"N/A\\\"\"",
          "X": 7.29999999999994,
          "Y": -12.938979400261417
         },
         {
          "Outlier": "\"\\\"N/A\\\"\"",
          "X": 7.399999999999938,
          "Y": -18.42237381905723
         },
         {
          "Outlier": "\"\\\"N/A\\\"\"",
          "X": 7.499999999999936,
          "Y": -19.824818093181428
         },
         {
          "Outlier": "\"\\\"N/A\\\"\"",
          "X": 7.5999999999999375,
          "Y": -18.734945476464684
         },
         {
          "Outlier": "\"\\\"N/A\\\"\"",
          "X": 7.699999999999939,
          "Y": -30.514553276196345
         },
         {
          "Outlier": "\"\\\"N/A\\\"\"",
          "X": 7.799999999999937,
          "Y": -18.72577871443827
         },
         {
          "Outlier": "\"\\\"N/A\\\"\"",
          "X": 7.899999999999935,
          "Y": -22.826908504247566
         },
         {
          "Outlier": "\"\\\"N/A\\\"\"",
          "X": 7.999999999999936,
          "Y": -17.13314378191
         },
         {
          "Outlier": "\"\\\"N/A\\\"\"",
          "X": 8.099999999999937,
          "Y": -23.706409239116628
         },
         {
          "Outlier": "\"\\\"N/A\\\"\"",
          "X": 8.199999999999935,
          "Y": -22.3317613559741
         },
         {
          "Outlier": "\"\\\"N/A\\\"\"",
          "X": 8.299999999999933,
          "Y": -31.81928076819391
         },
         {
          "Outlier": "\"\\\"N/A\\\"\"",
          "X": 8.399999999999935,
          "Y": -26.620202580420756
         },
         {
          "Outlier": "\"\\\"N/A\\\"\"",
          "X": 8.499999999999936,
          "Y": -17.747629012694816
         },
         {
          "Outlier": "\"\\\"N/A\\\"\"",
          "X": 8.599999999999934,
          "Y": -28.82125577870797
         },
         {
          "Outlier": "\"\\\"N/A\\\"\"",
          "X": 8.699999999999932,
          "Y": -23.810830550294764
         },
         {
          "Outlier": "\"\\\"N/A\\\"\"",
          "X": 8.799999999999933,
          "Y": -23.161876110781726
         },
         {
          "Outlier": "\"\\\"N/A\\\"\"",
          "X": 8.899999999999935,
          "Y": -20.966647381889807
         },
         {
          "Outlier": "\"\\\"N/A\\\"\"",
          "X": 8.999999999999932,
          "Y": -25.161472279354456
         },
         {
          "Outlier": "\"\\\"N/A\\\"\"",
          "X": 9.09999999999993,
          "Y": -32.99039763218319
         },
         {
          "Outlier": "\"\\\"N/A\\\"\"",
          "X": 9.199999999999932,
          "Y": -29.31726942102719
         },
         {
          "Outlier": "\"\\\"N/A\\\"\"",
          "X": 9.299999999999933,
          "Y": -21.378083562836963
         },
         {
          "Outlier": "\"\\\"N/A\\\"\"",
          "X": 9.399999999999931,
          "Y": -23.73444157889014
         },
         {
          "Outlier": "\"\\\"N/A\\\"\"",
          "X": 9.499999999999929,
          "Y": -20.21159541976074
         },
         {
          "Outlier": "\"\\\"N/A\\\"\"",
          "X": 9.59999999999993,
          "Y": -25.082521718832254
         },
         {
          "Outlier": "\"\\\"N/A\\\"\"",
          "X": 9.699999999999932,
          "Y": -22.019587638620745
         },
         {
          "Outlier": "\"\\\"N/A\\\"\"",
          "X": 9.79999999999993,
          "Y": -29.517670888640144
         },
         {
          "Outlier": "\"\\\"N/A\\\"\"",
          "X": 9.899999999999928,
          "Y": -33.19577101992945
         },
         {
          "Outlier": "\"\\\"N/A\\\"\"",
          "X": 9.999999999999929,
          "Y": -35.382569991486605
         }
        ]
       },
       "encoding": {
        "color": {
         "field": "Outlier"
        },
        "x": {
         "field": "X",
         "type": "quantitative"
        },
        "y": {
         "field": "Y",
         "type": "quantitative"
        }
       },
       "height": 400,
       "mark": "circle",
       "width": 400
      },
      "image/png": "[encoded data removed]"
     },
     "metadata": {},
     "output_type": "display_data"
    }
   ],
   "source": [
    "posteriorPredictive :: MonadMeasure m => [Double] -> [Double] -> m [Double]\n",
    "posteriorPredictive xs ys = do\n",
    "    (slope, intercept, noise) <- regression xs ys\n",
    "    forM xs \\x -> do\n",
    "            let y' = x * slope + intercept\n",
    "            normal y' (sqrt noise)\n",
    "\n",
    "\n",
    "predictive <- head <$> (sampleIOfixed . unweighted . mcmc mcmcConfig $ uncurry posteriorPredictive (unzip regressionSamples))\n",
    "plot (fmap (second (T.pack . show)) (zip (zip range predictive) (Prelude.repeat \"N/A\")))\n"
   ]
  },
  {
   "cell_type": "markdown",
   "metadata": {},
   "source": [
    "# Linear regression with outliers\n",
    "\n",
    "Inspired by the tutorials on probabilistic programming language Gen (https://www.gen.dev/tutorials/iterative-inference/tutorial), we'll make the inference problem harder by using the example of a regression with outliers. The idea is that each datapoint $(x,y)$ has $y$ either linearly dependent on $x$, or randomly sampler (an outlier). So the goal of inference is to *jointly* work out what the linear relationship is and which points flout it."
   ]
  },
  {
   "cell_type": "code",
   "execution_count": 10,
   "metadata": {},
   "outputs": [],
   "source": [
    "paramPrior = do\n",
    "    slope <- normal 0 2\n",
    "    intercept <- normal 0 2\n",
    "    noise <- gamma 4 4\n",
    "    prob_outlier <- uniform 0 0.5 \n",
    "    return (slope, intercept, noise, prob_outlier)\n",
    "\n",
    "forward (slope, intercept, noise, probOutlier) x = do\n",
    "    isOutlier <- bernoulli probOutlier\n",
    "    let meanParams = if isOutlier\n",
    "                    then (0, 20)\n",
    "                    else (x*slope + intercept, sqrt noise)\n",
    "    return (meanParams, isOutlier)\n",
    "\n",
    "regressionWithOutliersData :: (MonadDistribution m, Traversable t) => t Double -> m (t ((Double, Double), Bool))\n",
    "regressionWithOutliersData xs = do\n",
    "    params <- paramPrior\n",
    "\n",
    "    forM xs \\x -> do\n",
    "        ((mu, std), isOutlier) <- forward params x\n",
    "        y <- normal mu std\n",
    "        return ((x, y), isOutlier)"
   ]
  },
  {
   "cell_type": "markdown",
   "metadata": {},
   "source": [
    "This is our model. It describes a process for getting $y$ from $x$. Specifically, you start by drawing values for the slope $s$, bias $b$ and noise $n$. Then for each input $x$, you flip a coin. If it lands one way, you draw a $y$ value from a normal with mean $x*slope + bias$ and std $n$, and otherwise you draw from a centered normal with large variance.\n",
    "\n",
    "Given a list of $x$ values, this gives a distribution over lists of $y$ values, from which we can sample:\n",
    "\n",
    "\n"
   ]
  },
  {
   "cell_type": "code",
   "execution_count": 11,
   "metadata": {},
   "outputs": [
    {
     "data": {
      "application/vnd.vegalite.v4+json": {
       "$schema": "https://vega.github.io/schema/vega-lite/v4.json",
       "data": {
        "values": [
         {
          "Outlier": "\"True\"",
          "X": -10,
          "Y": 30.14316922289284
         },
         {
          "Outlier": "\"True\"",
          "X": -9.9,
          "Y": -0.26284958638081857
         },
         {
          "Outlier": "\"False\"",
          "X": -9.8,
          "Y": 23.786459587439385
         },
         {
          "Outlier": "\"True\"",
          "X": -9.700000000000001,
          "Y": -68.99193947945726
         },
         {
          "Outlier": "\"True\"",
          "X": -9.600000000000001,
          "Y": -8.043397861176732
         },
         {
          "Outlier": "\"False\"",
          "X": -9.500000000000002,
          "Y": 31.37356835946967
         },
         {
          "Outlier": "\"True\"",
          "X": -9.400000000000002,
          "Y": -23.81048273352878
         },
         {
          "Outlier": "\"False\"",
          "X": -9.300000000000002,
          "Y": 22.735033981928762
         },
         {
          "Outlier": "\"True\"",
          "X": -9.200000000000003,
          "Y": 23.375038991852755
         },
         {
          "Outlier": "\"False\"",
          "X": -9.100000000000003,
          "Y": 27.169089429019078
         },
         {
          "Outlier": "\"True\"",
          "X": -9.000000000000004,
          "Y": 24.42143345836998
         },
         {
          "Outlier": "\"False\"",
          "X": -8.900000000000004,
          "Y": 24.425641978269297
         },
         {
          "Outlier": "\"False\"",
          "X": -8.800000000000004,
          "Y": 30.050736689827513
         },
         {
          "Outlier": "\"True\"",
          "X": -8.700000000000005,
          "Y": 18.278561094651828
         },
         {
          "Outlier": "\"False\"",
          "X": -8.600000000000005,
          "Y": 30.770220409890687
         },
         {
          "Outlier": "\"True\"",
          "X": -8.500000000000005,
          "Y": 6.437669090883507
         },
         {
          "Outlier": "\"True\"",
          "X": -8.400000000000006,
          "Y": -37.03228429479993
         },
         {
          "Outlier": "\"True\"",
          "X": -8.300000000000006,
          "Y": 13.11298520672979
         },
         {
          "Outlier": "\"False\"",
          "X": -8.200000000000006,
          "Y": 23.38808489858207
         },
         {
          "Outlier": "\"True\"",
          "X": -8.100000000000007,
          "Y": 11.824928463235018
         },
         {
          "Outlier": "\"False\"",
          "X": -8.000000000000007,
          "Y": 23.442573379452057
         },
         {
          "Outlier": "\"True\"",
          "X": -7.9000000000000075,
          "Y": 29.057062960826705
         },
         {
          "Outlier": "\"False\"",
          "X": -7.800000000000008,
          "Y": 22.567508920540522
         },
         {
          "Outlier": "\"True\"",
          "X": -7.700000000000008,
          "Y": 8.660181503529154
         },
         {
          "Outlier": "\"False\"",
          "X": -7.6000000000000085,
          "Y": 19.25862039466749
         },
         {
          "Outlier": "\"True\"",
          "X": -7.500000000000009,
          "Y": 0.3644817992929184
         },
         {
          "Outlier": "\"True\"",
          "X": -7.400000000000009,
          "Y": -21.224596735432097
         },
         {
          "Outlier": "\"True\"",
          "X": -7.30000000000001,
          "Y": -5.08262280552811
         },
         {
          "Outlier": "\"True\"",
          "X": -7.20000000000001,
          "Y": -22.40271677868227
         },
         {
          "Outlier": "\"False\"",
          "X": -7.10000000000001,
          "Y": 27.315599934341897
         },
         {
          "Outlier": "\"True\"",
          "X": -7.000000000000011,
          "Y": 40.6554142943223
         },
         {
          "Outlier": "\"True\"",
          "X": -6.900000000000011,
          "Y": 0.7924834976117429
         },
         {
          "Outlier": "\"True\"",
          "X": -6.800000000000011,
          "Y": -3.0689825793534142
         },
         {
          "Outlier": "\"True\"",
          "X": -6.700000000000012,
          "Y": 2.0777625946734073
         },
         {
          "Outlier": "\"False\"",
          "X": -6.600000000000012,
          "Y": 16.360935345131573
         },
         {
          "Outlier": "\"True\"",
          "X": -6.500000000000012,
          "Y": 4.46724475614298
         },
         {
          "Outlier": "\"True\"",
          "X": -6.400000000000013,
          "Y": -1.5461624315036717
         },
         {
          "Outlier": "\"True\"",
          "X": -6.300000000000013,
          "Y": 24.71362894119821
         },
         {
          "Outlier": "\"True\"",
          "X": -6.2000000000000135,
          "Y": 42.412216707046596
         },
         {
          "Outlier": "\"False\"",
          "X": -6.100000000000014,
          "Y": 19.25819017706044
         },
         {
          "Outlier": "\"False\"",
          "X": -6.000000000000014,
          "Y": 13.924560064643464
         },
         {
          "Outlier": "\"False\"",
          "X": -5.900000000000015,
          "Y": 16.44450463396404
         },
         {
          "Outlier": "\"False\"",
          "X": -5.800000000000015,
          "Y": 20.22565144666506
         },
         {
          "Outlier": "\"True\"",
          "X": -5.700000000000015,
          "Y": 4.130260844964003
         },
         {
          "Outlier": "\"False\"",
          "X": -5.600000000000016,
          "Y": 13.920685536449982
         },
         {
          "Outlier": "\"True\"",
          "X": -5.500000000000016,
          "Y": 19.404328857643684
         },
         {
          "Outlier": "\"False\"",
          "X": -5.400000000000016,
          "Y": 11.591361762658316
         },
         {
          "Outlier": "\"False\"",
          "X": -5.300000000000017,
          "Y": 21.716931658828592
         },
         {
          "Outlier": "\"True\"",
          "X": -5.200000000000017,
          "Y": -14.86585011237548
         },
         {
          "Outlier": "\"True\"",
          "X": -5.100000000000017,
          "Y": -27.7443807834266
         },
         {
          "Outlier": "\"False\"",
          "X": -5.000000000000018,
          "Y": 17.665401268686168
         },
         {
          "Outlier": "\"False\"",
          "X": -4.900000000000018,
          "Y": 22.498750208363987
         },
         {
          "Outlier": "\"False\"",
          "X": -4.8000000000000185,
          "Y": 11.477829247049517
         },
         {
          "Outlier": "\"True\"",
          "X": -4.700000000000019,
          "Y": -2.236758643252085
         },
         {
          "Outlier": "\"True\"",
          "X": -4.600000000000019,
          "Y": 25.095015724308034
         },
         {
          "Outlier": "\"True\"",
          "X": -4.5000000000000195,
          "Y": 17.18991809253406
         },
         {
          "Outlier": "\"True\"",
          "X": -4.40000000000002,
          "Y": -24.744360068281004
         },
         {
          "Outlier": "\"True\"",
          "X": -4.30000000000002,
          "Y": -7.931801457689884
         },
         {
          "Outlier": "\"False\"",
          "X": -4.200000000000021,
          "Y": 10.813897350066041
         },
         {
          "Outlier": "\"False\"",
          "X": -4.100000000000021,
          "Y": 14.36412464187282
         },
         {
          "Outlier": "\"False\"",
          "X": -4.000000000000021,
          "Y": 10.048413936752135
         },
         {
          "Outlier": "\"True\"",
          "X": -3.9000000000000217,
          "Y": -7.806116027860427
         },
         {
          "Outlier": "\"False\"",
          "X": -3.800000000000022,
          "Y": 15.513453565319507
         },
         {
          "Outlier": "\"False\"",
          "X": -3.7000000000000224,
          "Y": 13.87073636869106
         },
         {
          "Outlier": "\"False\"",
          "X": -3.6000000000000227,
          "Y": 11.46674012488362
         },
         {
          "Outlier": "\"False\"",
          "X": -3.500000000000023,
          "Y": 16.059440743337102
         },
         {
          "Outlier": "\"False\"",
          "X": -3.4000000000000234,
          "Y": 15.293100956976737
         },
         {
          "Outlier": "\"False\"",
          "X": -3.300000000000024,
          "Y": 21.84763262761431
         },
         {
          "Outlier": "\"True\"",
          "X": -3.200000000000024,
          "Y": -0.36221408177898484
         },
         {
          "Outlier": "\"False\"",
          "X": -3.1000000000000245,
          "Y": 15.693632661329104
         },
         {
          "Outlier": "\"True\"",
          "X": -3.000000000000025,
          "Y": -6.3470305289160835
         },
         {
          "Outlier": "\"True\"",
          "X": -2.9000000000000252,
          "Y": 10.805876165134304
         },
         {
          "Outlier": "\"True\"",
          "X": -2.8000000000000256,
          "Y": 43.073138049536766
         },
         {
          "Outlier": "\"False\"",
          "X": -2.700000000000026,
          "Y": 16.743971720184916
         },
         {
          "Outlier": "\"True\"",
          "X": -2.6000000000000263,
          "Y": 20.17816530884579
         },
         {
          "Outlier": "\"False\"",
          "X": -2.5000000000000266,
          "Y": 10.185237062991554
         },
         {
          "Outlier": "\"True\"",
          "X": -2.400000000000027,
          "Y": 24.67140741709269
         },
         {
          "Outlier": "\"True\"",
          "X": -2.3000000000000274,
          "Y": 3.7143759689601357
         },
         {
          "Outlier": "\"False\"",
          "X": -2.2000000000000277,
          "Y": 6.083699392485441
         },
         {
          "Outlier": "\"False\"",
          "X": -2.100000000000028,
          "Y": 6.832165636012283
         },
         {
          "Outlier": "\"True\"",
          "X": -2.0000000000000284,
          "Y": 14.405714990070868
         },
         {
          "Outlier": "\"False\"",
          "X": -1.9000000000000288,
          "Y": 11.188926560244449
         },
         {
          "Outlier": "\"True\"",
          "X": -1.8000000000000291,
          "Y": 25.768223310681986
         },
         {
          "Outlier": "\"True\"",
          "X": -1.7000000000000295,
          "Y": -37.59090989382119
         },
         {
          "Outlier": "\"True\"",
          "X": -1.6000000000000298,
          "Y": 23.64144553913516
         },
         {
          "Outlier": "\"True\"",
          "X": -1.5000000000000302,
          "Y": -8.576305123038889
         },
         {
          "Outlier": "\"False\"",
          "X": -1.4000000000000306,
          "Y": -3.413990873751257
         },
         {
          "Outlier": "\"False\"",
          "X": -1.300000000000031,
          "Y": 5.764515053668303
         },
         {
          "Outlier": "\"True\"",
          "X": -1.2000000000000313,
          "Y": -4.881619552621354
         },
         {
          "Outlier": "\"False\"",
          "X": -1.1000000000000316,
          "Y": 5.6052889213735035
         },
         {
          "Outlier": "\"False\"",
          "X": -1.000000000000032,
          "Y": 4.303828323139834
         },
         {
          "Outlier": "\"True\"",
          "X": -0.9000000000000323,
          "Y": -31.588506775217645
         },
         {
          "Outlier": "\"True\"",
          "X": -0.8000000000000327,
          "Y": -4.276114964288603
         },
         {
          "Outlier": "\"False\"",
          "X": -0.700000000000033,
          "Y": 4.535423923547052
         },
         {
          "Outlier": "\"True\"",
          "X": -0.6000000000000334,
          "Y": 24.61942267029316
         },
         {
          "Outlier": "\"True\"",
          "X": -0.5000000000000338,
          "Y": -17.830933767956402
         },
         {
          "Outlier": "\"False\"",
          "X": -0.4000000000000341,
          "Y": -1.7450293908309056
         },
         {
          "Outlier": "\"False\"",
          "X": -0.30000000000003446,
          "Y": 3.3108205257662364
         },
         {
          "Outlier": "\"False\"",
          "X": -0.20000000000003482,
          "Y": 0.7651432133855662
         },
         {
          "Outlier": "\"True\"",
          "X": -0.10000000000003517,
          "Y": -11.881720947448017
         },
         {
          "Outlier": "\"True\"",
          "X": -3.552713678800501e-14,
          "Y": 15.275164463456829
         },
         {
          "Outlier": "\"False\"",
          "X": 0.09999999999996412,
          "Y": 2.6322100577194067
         },
         {
          "Outlier": "\"False\"",
          "X": 0.19999999999996376,
          "Y": 4.898150793977379
         },
         {
          "Outlier": "\"True\"",
          "X": 0.2999999999999634,
          "Y": 17.70645751790601
         },
         {
          "Outlier": "\"False\"",
          "X": 0.39999999999996305,
          "Y": 8.552044532855996
         },
         {
          "Outlier": "\"True\"",
          "X": 0.4999999999999627,
          "Y": 21.884620845377007
         },
         {
          "Outlier": "\"True\"",
          "X": 0.5999999999999623,
          "Y": 9.545267231818897
         },
         {
          "Outlier": "\"False\"",
          "X": 0.699999999999962,
          "Y": 2.2310373255180265
         },
         {
          "Outlier": "\"False\"",
          "X": 0.7999999999999616,
          "Y": 6.8744523688958274
         },
         {
          "Outlier": "\"False\"",
          "X": 0.8999999999999613,
          "Y": -1.783436689012548
         },
         {
          "Outlier": "\"False\"",
          "X": 0.9999999999999609,
          "Y": 4.47640686579331
         },
         {
          "Outlier": "\"False\"",
          "X": 1.0999999999999606,
          "Y": -2.229919825404161
         },
         {
          "Outlier": "\"True\"",
          "X": 1.1999999999999602,
          "Y": -1.6888315159113967
         },
         {
          "Outlier": "\"True\"",
          "X": 1.2999999999999599,
          "Y": -26.34560770532998
         },
         {
          "Outlier": "\"True\"",
          "X": 1.3999999999999595,
          "Y": 7.322340575226373
         },
         {
          "Outlier": "\"True\"",
          "X": 1.4999999999999591,
          "Y": 1.9729072168157065
         },
         {
          "Outlier": "\"False\"",
          "X": 1.5999999999999588,
          "Y": 1.513234082565413
         },
         {
          "Outlier": "\"True\"",
          "X": 1.6999999999999584,
          "Y": 13.227480313783765
         },
         {
          "Outlier": "\"True\"",
          "X": 1.799999999999958,
          "Y": 12.226379085662112
         },
         {
          "Outlier": "\"False\"",
          "X": 1.8999999999999577,
          "Y": 2.850573235675812
         },
         {
          "Outlier": "\"False\"",
          "X": 1.9999999999999574,
          "Y": -6.392989857152452
         },
         {
          "Outlier": "\"False\"",
          "X": 2.099999999999957,
          "Y": -5.3213737430909305
         },
         {
          "Outlier": "\"True\"",
          "X": 2.1999999999999567,
          "Y": 0.41427397930309406
         },
         {
          "Outlier": "\"False\"",
          "X": 2.2999999999999563,
          "Y": -5.750652275493272
         },
         {
          "Outlier": "\"False\"",
          "X": 2.399999999999956,
          "Y": 4.340182272052314
         },
         {
          "Outlier": "\"True\"",
          "X": 2.4999999999999556,
          "Y": 4.7901246139126625
         },
         {
          "Outlier": "\"False\"",
          "X": 2.5999999999999552,
          "Y": -11.012677316789915
         },
         {
          "Outlier": "\"False\"",
          "X": 2.699999999999955,
          "Y": -2.5092360333006916
         },
         {
          "Outlier": "\"False\"",
          "X": 2.7999999999999545,
          "Y": -9.854893391572105
         },
         {
          "Outlier": "\"True\"",
          "X": 2.899999999999954,
          "Y": -28.61214419700161
         },
         {
          "Outlier": "\"True\"",
          "X": 2.999999999999954,
          "Y": 8.248524918035386
         },
         {
          "Outlier": "\"True\"",
          "X": 3.0999999999999535,
          "Y": -3.622542781911439
         },
         {
          "Outlier": "\"True\"",
          "X": 3.199999999999953,
          "Y": 4.494708619120168
         },
         {
          "Outlier": "\"True\"",
          "X": 3.2999999999999527,
          "Y": 3.860145108336754
         },
         {
          "Outlier": "\"False\"",
          "X": 3.3999999999999524,
          "Y": -4.0035470084411795
         },
         {
          "Outlier": "\"False\"",
          "X": 3.499999999999952,
          "Y": -11.04990869937726
         },
         {
          "Outlier": "\"True\"",
          "X": 3.5999999999999517,
          "Y": -35.32932042223501
         },
         {
          "Outlier": "\"True\"",
          "X": 3.6999999999999513,
          "Y": 11.866841248128683
         },
         {
          "Outlier": "\"False\"",
          "X": 3.799999999999951,
          "Y": -10.162451780099051
         },
         {
          "Outlier": "\"True\"",
          "X": 3.8999999999999506,
          "Y": 9.661220540277904
         },
         {
          "Outlier": "\"False\"",
          "X": 3.9999999999999503,
          "Y": -10.73292544867606
         },
         {
          "Outlier": "\"False\"",
          "X": 4.09999999999995,
          "Y": -18.550653995894045
         },
         {
          "Outlier": "\"False\"",
          "X": 4.1999999999999496,
          "Y": -14.52608532847757
         },
         {
          "Outlier": "\"True\"",
          "X": 4.299999999999949,
          "Y": 21.41545900080303
         },
         {
          "Outlier": "\"True\"",
          "X": 4.399999999999949,
          "Y": 41.510023167064915
         },
         {
          "Outlier": "\"False\"",
          "X": 4.4999999999999485,
          "Y": -10.944888800178278
         },
         {
          "Outlier": "\"True\"",
          "X": 4.599999999999948,
          "Y": -17.678231065336824
         },
         {
          "Outlier": "\"True\"",
          "X": 4.699999999999948,
          "Y": -18.253167364985977
         },
         {
          "Outlier": "\"False\"",
          "X": 4.799999999999947,
          "Y": -10.446879435653443
         },
         {
          "Outlier": "\"True\"",
          "X": 4.899999999999947,
          "Y": -4.690038562027151
         },
         {
          "Outlier": "\"False\"",
          "X": 4.999999999999947,
          "Y": -5.757921683446889
         },
         {
          "Outlier": "\"True\"",
          "X": 5.099999999999946,
          "Y": 8.693733167616339
         },
         {
          "Outlier": "\"False\"",
          "X": 5.199999999999946,
          "Y": -12.216077387002828
         },
         {
          "Outlier": "\"True\"",
          "X": 5.299999999999946,
          "Y": 1.6720822524528287
         },
         {
          "Outlier": "\"False\"",
          "X": 5.399999999999945,
          "Y": -14.464965977547303
         },
         {
          "Outlier": "\"False\"",
          "X": 5.499999999999945,
          "Y": -12.869809983276069
         },
         {
          "Outlier": "\"True\"",
          "X": 5.599999999999945,
          "Y": 34.62535634020814
         },
         {
          "Outlier": "\"True\"",
          "X": 5.699999999999944,
          "Y": 39.28048699796905
         },
         {
          "Outlier": "\"True\"",
          "X": 5.799999999999944,
          "Y": -18.522573806115407
         },
         {
          "Outlier": "\"True\"",
          "X": 5.8999999999999435,
          "Y": 2.8254226810055205
         },
         {
          "Outlier": "\"True\"",
          "X": 5.999999999999943,
          "Y": -7.598929518634544
         },
         {
          "Outlier": "\"False\"",
          "X": 6.099999999999945,
          "Y": -17.140071943688035
         },
         {
          "Outlier": "\"False\"",
          "X": 6.1999999999999424,
          "Y": -21.78017043908215
         },
         {
          "Outlier": "\"True\"",
          "X": 6.29999999999994,
          "Y": 8.34770023404953
         },
         {
          "Outlier": "\"True\"",
          "X": 6.399999999999942,
          "Y": 2.6439493039811115
         },
         {
          "Outlier": "\"False\"",
          "X": 6.499999999999943,
          "Y": -20.126788491353174
         },
         {
          "Outlier": "\"True\"",
          "X": 6.599999999999941,
          "Y": -15.051462287577962
         },
         {
          "Outlier": "\"True\"",
          "X": 6.699999999999939,
          "Y": 4.3207686658048425
         },
         {
          "Outlier": "\"True\"",
          "X": 6.79999999999994,
          "Y": -8.60953644756132
         },
         {
          "Outlier": "\"False\"",
          "X": 6.899999999999942,
          "Y": -9.408044612231928
         },
         {
          "Outlier": "\"False\"",
          "X": 6.99999999999994,
          "Y": -19.056725876851928
         },
         {
          "Outlier": "\"False\"",
          "X": 7.0999999999999375,
          "Y": -20.094495666483716
         },
         {
          "Outlier": "\"True\"",
          "X": 7.199999999999939,
          "Y": -0.40330975452223106
         },
         {
          "Outlier": "\"True\"",
          "X": 7.29999999999994,
          "Y": -48.28017130034681
         },
         {
          "Outlier": "\"False\"",
          "X": 7.399999999999938,
          "Y": -19.705987406023656
         },
         {
          "Outlier": "\"True\"",
          "X": 7.499999999999936,
          "Y": -27.496292304878267
         },
         {
          "Outlier": "\"False\"",
          "X": 7.5999999999999375,
          "Y": -18.884286907276728
         },
         {
          "Outlier": "\"False\"",
          "X": 7.699999999999939,
          "Y": -22.442972670784375
         },
         {
          "Outlier": "\"True\"",
          "X": 7.799999999999937,
          "Y": 6.610475555129508
         },
         {
          "Outlier": "\"False\"",
          "X": 7.899999999999935,
          "Y": -28.406701583023757
         },
         {
          "Outlier": "\"True\"",
          "X": 7.999999999999936,
          "Y": 10.913894309977062
         },
         {
          "Outlier": "\"True\"",
          "X": 8.099999999999937,
          "Y": 22.467791024883127
         },
         {
          "Outlier": "\"True\"",
          "X": 8.199999999999935,
          "Y": 12.316122841847735
         },
         {
          "Outlier": "\"False\"",
          "X": 8.299999999999933,
          "Y": -18.61774741315339
         },
         {
          "Outlier": "\"False\"",
          "X": 8.399999999999935,
          "Y": -29.49760626562651
         },
         {
          "Outlier": "\"True\"",
          "X": 8.499999999999936,
          "Y": -25.738038864954476
         },
         {
          "Outlier": "\"False\"",
          "X": 8.599999999999934,
          "Y": -17.85703560203325
         },
         {
          "Outlier": "\"True\"",
          "X": 8.699999999999932,
          "Y": -9.172720756633
         },
         {
          "Outlier": "\"False\"",
          "X": 8.799999999999933,
          "Y": -20.500224282886077
         },
         {
          "Outlier": "\"False\"",
          "X": 8.899999999999935,
          "Y": -27.955994289017063
         },
         {
          "Outlier": "\"False\"",
          "X": 8.999999999999932,
          "Y": -23.309509588194302
         },
         {
          "Outlier": "\"True\"",
          "X": 9.09999999999993,
          "Y": 31.120217815149882
         },
         {
          "Outlier": "\"False\"",
          "X": 9.199999999999932,
          "Y": -24.086143061403874
         },
         {
          "Outlier": "\"False\"",
          "X": 9.299999999999933,
          "Y": -21.7596596113579
         },
         {
          "Outlier": "\"True\"",
          "X": 9.399999999999931,
          "Y": 1.3453810777338207
         },
         {
          "Outlier": "\"True\"",
          "X": 9.499999999999929,
          "Y": 30.106740007028108
         },
         {
          "Outlier": "\"True\"",
          "X": 9.59999999999993,
          "Y": -8.245762291377288
         },
         {
          "Outlier": "\"False\"",
          "X": 9.699999999999932,
          "Y": -29.313469546701562
         },
         {
          "Outlier": "\"False\"",
          "X": 9.79999999999993,
          "Y": -27.209848874368774
         },
         {
          "Outlier": "\"True\"",
          "X": 9.899999999999928,
          "Y": 7.612568009425738
         },
         {
          "Outlier": "\"True\"",
          "X": 9.999999999999929,
          "Y": -13.529703374498748
         }
        ]
       },
       "encoding": {
        "color": {
         "field": "Outlier"
        },
        "x": {
         "field": "X",
         "type": "quantitative"
        },
        "y": {
         "field": "Y",
         "type": "quantitative"
        }
       },
       "height": 400,
       "mark": "circle",
       "width": 400
      },
      "image/png": "[encoded data removed]"
     },
     "metadata": {},
     "output_type": "display_data"
    }
   ],
   "source": [
    "range = [-10,-9.9..10] :: [Double]\n",
    "samples <- sampleIOfixed $ regressionWithOutliersData range\n",
    "plot (fmap (second (T.pack . show)) samples)\n"
   ]
  },
  {
   "cell_type": "markdown",
   "metadata": {},
   "source": [
    "<!-- This is our dataset, with outliers shown in orange.\n",
    "\n",
    "Given this dataset of $(x,y)$ pairs, we now consider the problem of inference. That is, we want to infer the slope, bias, noise and *for each datapoint*, whether it's an outlier.\n",
    "\n",
    "Our first attempt will be to average a large number of samples, weighted by how likely they are. TODO: add the conditioning\n",
    " -->"
   ]
  },
  {
   "cell_type": "markdown",
   "metadata": {},
   "source": [
    "<!-- Why did this result in a bad guess? Simply because there are so many more bad guesses than good ones, so that even if you weight the good guesses higher, if you have almost none, then it doesn't matter.\n",
    "\n",
    "The classic solution to this problem (the solution space is too large for independent sampling) is to use a Markov Chain method, where each sample depends on the last. You can do so in a clever way, to obtain unbiased samples from the true posterior distribution in the limit of a sufficiently long chain. Monad-bayes implements the standard Markov Chain Monte Carlo approach with Metropolis Hastings transitions.\n",
    "\n",
    "Here's how it goes: -->"
   ]
  },
  {
   "cell_type": "code",
   "execution_count": 12,
   "metadata": {},
   "outputs": [],
   "source": [
    "regressionWithOutliers :: (MonadMeasure m) =>\n",
    "    [Double] -> [Double] -> m ((Double, Double, Double, Double), [Bool])\n",
    "regressionWithOutliers xs ys = do\n",
    "    params <- paramPrior\n",
    "    \n",
    "    outliers <- forM (zip xs ys) \\(x, y) -> do\n",
    "        ((mu, std), isOutlier) <- forward params x\n",
    "        factor $ normalPdf mu std y\n",
    "        return isOutlier\n",
    "    return (params, outliers)"
   ]
  },
  {
   "cell_type": "code",
   "execution_count": 13,
   "metadata": {},
   "outputs": [
    {
     "data": {
      "text/plain": []
     },
     "metadata": {},
     "output_type": "display_data"
    }
   ],
   "source": [
    "\n",
    "mhRuns <- sampleIOfixed . unweighted . mcmc mcmcConfig $ regressionWithOutliers range (snd . fst <$> samples)\n"
   ]
  },
  {
   "cell_type": "code",
   "execution_count": 14,
   "metadata": {},
   "outputs": [],
   "source": [
    "outlierProb s = (\\(x, y) ->  x / (x+y) ) <$> \n",
    "  foldr \n",
    "    (\\(_,lb) li -> [ if b then (num1+1, num2) else (num1,num2+1) | (b,(num1, num2)) <- zip lb li]) \n",
    "    (Prelude.repeat (0,0)) s\n"
   ]
  },
  {
   "cell_type": "code",
   "execution_count": 15,
   "metadata": {},
   "outputs": [
    {
     "data": {
      "application/vnd.vegalite.v4+json": {
       "$schema": "https://vega.github.io/schema/vega-lite/v4.json",
       "data": {
        "values": [
         {
          "Outlier": 0.7472527472527473,
          "X": -10,
          "Y": 30.14316922289284
         },
         {
          "Outlier": 0.6463536463536463,
          "X": -9.9,
          "Y": -0.26284958638081857
         },
         {
          "Outlier": 0.8171828171828172,
          "X": -9.8,
          "Y": 23.786459587439385
         },
         {
          "Outlier": 1,
          "X": -9.700000000000001,
          "Y": -68.99193947945726
         },
         {
          "Outlier": 0.7112887112887113,
          "X": -9.600000000000001,
          "Y": -8.043397861176732
         },
         {
          "Outlier": 0,
          "X": -9.500000000000002,
          "Y": 31.37356835946967
         },
         {
          "Outlier": 0.058941058941058944,
          "X": -9.400000000000002,
          "Y": -23.81048273352878
         },
         {
          "Outlier": 0.34665334665334663,
          "X": -9.300000000000002,
          "Y": 22.735033981928762
         },
         {
          "Outlier": 0.12687312687312688,
          "X": -9.200000000000003,
          "Y": 23.375038991852755
         },
         {
          "Outlier": 0,
          "X": -9.100000000000003,
          "Y": 27.169089429019078
         },
         {
          "Outlier": 0,
          "X": -9.000000000000004,
          "Y": 24.42143345836998
         },
         {
          "Outlier": 0,
          "X": -8.900000000000004,
          "Y": 24.425641978269297
         },
         {
          "Outlier": 0.4355644355644356,
          "X": -8.800000000000004,
          "Y": 30.050736689827513
         },
         {
          "Outlier": 0.41858141858141856,
          "X": -8.700000000000005,
          "Y": 18.278561094651828
         },
         {
          "Outlier": 0,
          "X": -8.600000000000005,
          "Y": 30.770220409890687
         },
         {
          "Outlier": 1,
          "X": -8.500000000000005,
          "Y": 6.437669090883507
         },
         {
          "Outlier": 0.5364635364635365,
          "X": -8.400000000000006,
          "Y": -37.03228429479993
         },
         {
          "Outlier": 0.8561438561438561,
          "X": -8.300000000000006,
          "Y": 13.11298520672979
         },
         {
          "Outlier": 0.04595404595404595,
          "X": -8.200000000000006,
          "Y": 23.38808489858207
         },
         {
          "Outlier": 0,
          "X": -8.100000000000007,
          "Y": 11.824928463235018
         },
         {
          "Outlier": 0,
          "X": -8.000000000000007,
          "Y": 23.442573379452057
         },
         {
          "Outlier": 0,
          "X": -7.9000000000000075,
          "Y": 29.057062960826705
         },
         {
          "Outlier": 0.0969030969030969,
          "X": -7.800000000000008,
          "Y": 22.567508920540522
         },
         {
          "Outlier": 0.7472527472527473,
          "X": -7.700000000000008,
          "Y": 8.660181503529154
         },
         {
          "Outlier": 0,
          "X": -7.6000000000000085,
          "Y": 19.25862039466749
         },
         {
          "Outlier": 1,
          "X": -7.500000000000009,
          "Y": 0.3644817992929184
         },
         {
          "Outlier": 1,
          "X": -7.400000000000009,
          "Y": -21.224596735432097
         },
         {
          "Outlier": 0.45854145854145856,
          "X": -7.30000000000001,
          "Y": -5.08262280552811
         },
         {
          "Outlier": 0.44755244755244755,
          "X": -7.20000000000001,
          "Y": -22.40271677868227
         },
         {
          "Outlier": 0.19480519480519481,
          "X": -7.10000000000001,
          "Y": 27.315599934341897
         },
         {
          "Outlier": 0,
          "X": -7.000000000000011,
          "Y": 40.6554142943223
         },
         {
          "Outlier": 0,
          "X": -6.900000000000011,
          "Y": 0.7924834976117429
         },
         {
          "Outlier": 0.37462537462537465,
          "X": -6.800000000000011,
          "Y": -3.0689825793534142
         },
         {
          "Outlier": 0,
          "X": -6.700000000000012,
          "Y": 2.0777625946734073
         },
         {
          "Outlier": 0.6943056943056943,
          "X": -6.600000000000012,
          "Y": 16.360935345131573
         },
         {
          "Outlier": 0.24075924075924077,
          "X": -6.500000000000012,
          "Y": 4.46724475614298
         },
         {
          "Outlier": 1,
          "X": -6.400000000000013,
          "Y": -1.5461624315036717
         },
         {
          "Outlier": 0.24075924075924077,
          "X": -6.300000000000013,
          "Y": 24.71362894119821
         },
         {
          "Outlier": 0.5194805194805194,
          "X": -6.2000000000000135,
          "Y": 42.412216707046596
         },
         {
          "Outlier": 0.4955044955044955,
          "X": -6.100000000000014,
          "Y": 19.25819017706044
         },
         {
          "Outlier": 0.2597402597402597,
          "X": -6.000000000000014,
          "Y": 13.924560064643464
         },
         {
          "Outlier": 0.16383616383616384,
          "X": -5.900000000000015,
          "Y": 16.44450463396404
         },
         {
          "Outlier": 0,
          "X": -5.800000000000015,
          "Y": 20.22565144666506
         },
         {
          "Outlier": 0.17782217782217782,
          "X": -5.700000000000015,
          "Y": 4.130260844964003
         },
         {
          "Outlier": 0,
          "X": -5.600000000000016,
          "Y": 13.920685536449982
         },
         {
          "Outlier": 0,
          "X": -5.500000000000016,
          "Y": 19.404328857643684
         },
         {
          "Outlier": 0.03496503496503497,
          "X": -5.400000000000016,
          "Y": 11.591361762658316
         },
         {
          "Outlier": 0.06493506493506493,
          "X": -5.300000000000017,
          "Y": 21.716931658828592
         },
         {
          "Outlier": 0,
          "X": -5.200000000000017,
          "Y": -14.86585011237548
         },
         {
          "Outlier": 0.995004995004995,
          "X": -5.100000000000017,
          "Y": -27.7443807834266
         },
         {
          "Outlier": 0,
          "X": -5.000000000000018,
          "Y": 17.665401268686168
         },
         {
          "Outlier": 0.09290709290709291,
          "X": -4.900000000000018,
          "Y": 22.498750208363987
         },
         {
          "Outlier": 0,
          "X": -4.8000000000000185,
          "Y": 11.477829247049517
         },
         {
          "Outlier": 0,
          "X": -4.700000000000019,
          "Y": -2.236758643252085
         },
         {
          "Outlier": 0.2057942057942058,
          "X": -4.600000000000019,
          "Y": 25.095015724308034
         },
         {
          "Outlier": 0.18081918081918083,
          "X": -4.5000000000000195,
          "Y": 17.18991809253406
         },
         {
          "Outlier": 1,
          "X": -4.40000000000002,
          "Y": -24.744360068281004
         },
         {
          "Outlier": 0,
          "X": -4.30000000000002,
          "Y": -7.931801457689884
         },
         {
          "Outlier": 0.7212787212787213,
          "X": -4.200000000000021,
          "Y": 10.813897350066041
         },
         {
          "Outlier": 0.14985014985014986,
          "X": -4.100000000000021,
          "Y": 14.36412464187282
         },
         {
          "Outlier": 0,
          "X": -4.000000000000021,
          "Y": 10.048413936752135
         },
         {
          "Outlier": 0.7472527472527473,
          "X": -3.9000000000000217,
          "Y": -7.806116027860427
         },
         {
          "Outlier": 0,
          "X": -3.800000000000022,
          "Y": 15.513453565319507
         },
         {
          "Outlier": 0,
          "X": -3.7000000000000224,
          "Y": 13.87073636869106
         },
         {
          "Outlier": 0.2867132867132867,
          "X": -3.6000000000000227,
          "Y": 11.46674012488362
         },
         {
          "Outlier": 0.03696303696303696,
          "X": -3.500000000000023,
          "Y": 16.059440743337102
         },
         {
          "Outlier": 0.15184815184815184,
          "X": -3.4000000000000234,
          "Y": 15.293100956976737
         },
         {
          "Outlier": 0.2977022977022977,
          "X": -3.300000000000024,
          "Y": 21.84763262761431
         },
         {
          "Outlier": 0,
          "X": -3.200000000000024,
          "Y": -0.36221408177898484
         },
         {
          "Outlier": 0,
          "X": -3.1000000000000245,
          "Y": 15.693632661329104
         },
         {
          "Outlier": 1,
          "X": -3.000000000000025,
          "Y": -6.3470305289160835
         },
         {
          "Outlier": 0.1968031968031968,
          "X": -2.9000000000000252,
          "Y": 10.805876165134304
         },
         {
          "Outlier": 0,
          "X": -2.8000000000000256,
          "Y": 43.073138049536766
         },
         {
          "Outlier": 0.14985014985014986,
          "X": -2.700000000000026,
          "Y": 16.743971720184916
         },
         {
          "Outlier": 0.17482517482517482,
          "X": -2.6000000000000263,
          "Y": 20.17816530884579
         },
         {
          "Outlier": 0,
          "X": -2.5000000000000266,
          "Y": 10.185237062991554
         },
         {
          "Outlier": 0.3336663336663337,
          "X": -2.400000000000027,
          "Y": 24.67140741709269
         },
         {
          "Outlier": 0,
          "X": -2.3000000000000274,
          "Y": 3.7143759689601357
         },
         {
          "Outlier": 0,
          "X": -2.2000000000000277,
          "Y": 6.083699392485441
         },
         {
          "Outlier": 0.17082917082917082,
          "X": -2.100000000000028,
          "Y": 6.832165636012283
         },
         {
          "Outlier": 0.2987012987012987,
          "X": -2.0000000000000284,
          "Y": 14.405714990070868
         },
         {
          "Outlier": 0.16283716283716285,
          "X": -1.9000000000000288,
          "Y": 11.188926560244449
         },
         {
          "Outlier": 1,
          "X": -1.8000000000000291,
          "Y": 25.768223310681986
         },
         {
          "Outlier": 0.6873126873126874,
          "X": -1.7000000000000295,
          "Y": -37.59090989382119
         },
         {
          "Outlier": 0,
          "X": -1.6000000000000298,
          "Y": 23.64144553913516
         },
         {
          "Outlier": 0,
          "X": -1.5000000000000302,
          "Y": -8.576305123038889
         },
         {
          "Outlier": 0.34765234765234765,
          "X": -1.4000000000000306,
          "Y": -3.413990873751257
         },
         {
          "Outlier": 0.23476523476523475,
          "X": -1.300000000000031,
          "Y": 5.764515053668303
         },
         {
          "Outlier": 0,
          "X": -1.2000000000000313,
          "Y": -4.881619552621354
         },
         {
          "Outlier": 0,
          "X": -1.1000000000000316,
          "Y": 5.6052889213735035
         },
         {
          "Outlier": 0.5154845154845155,
          "X": -1.000000000000032,
          "Y": 4.303828323139834
         },
         {
          "Outlier": 0.20679320679320679,
          "X": -0.9000000000000323,
          "Y": -31.588506775217645
         },
         {
          "Outlier": 0,
          "X": -0.8000000000000327,
          "Y": -4.276114964288603
         },
         {
          "Outlier": 0.15584415584415584,
          "X": -0.700000000000033,
          "Y": 4.535423923547052
         },
         {
          "Outlier": 0.39760239760239763,
          "X": -0.6000000000000334,
          "Y": 24.61942267029316
         },
         {
          "Outlier": 0.5614385614385614,
          "X": -0.5000000000000338,
          "Y": -17.830933767956402
         },
         {
          "Outlier": 0.1798201798201798,
          "X": -0.4000000000000341,
          "Y": -1.7450293908309056
         },
         {
          "Outlier": 0.11388611388611389,
          "X": -0.30000000000003446,
          "Y": 3.3108205257662364
         },
         {
          "Outlier": 0.6753246753246753,
          "X": -0.20000000000003482,
          "Y": 0.7651432133855662
         },
         {
          "Outlier": 0,
          "X": -0.10000000000003517,
          "Y": -11.881720947448017
         },
         {
          "Outlier": 0.6413586413586414,
          "X": -3.552713678800501e-14,
          "Y": 15.275164463456829
         },
         {
          "Outlier": 0,
          "X": 0.09999999999996412,
          "Y": 2.6322100577194067
         },
         {
          "Outlier": 0,
          "X": 0.19999999999996376,
          "Y": 4.898150793977379
         },
         {
          "Outlier": 0.7932067932067932,
          "X": 0.2999999999999634,
          "Y": 17.70645751790601
         },
         {
          "Outlier": 0.22077922077922077,
          "X": 0.39999999999996305,
          "Y": 8.552044532855996
         },
         {
          "Outlier": 0.9300699300699301,
          "X": 0.4999999999999627,
          "Y": 21.884620845377007
         },
         {
          "Outlier": 0,
          "X": 0.5999999999999623,
          "Y": 9.545267231818897
         },
         {
          "Outlier": 0,
          "X": 0.699999999999962,
          "Y": 2.2310373255180265
         },
         {
          "Outlier": 0,
          "X": 0.7999999999999616,
          "Y": 6.8744523688958274
         },
         {
          "Outlier": 0,
          "X": 0.8999999999999613,
          "Y": -1.783436689012548
         },
         {
          "Outlier": 0.5304695304695305,
          "X": 0.9999999999999609,
          "Y": 4.47640686579331
         },
         {
          "Outlier": 0,
          "X": 1.0999999999999606,
          "Y": -2.229919825404161
         },
         {
          "Outlier": 0.04995004995004995,
          "X": 1.1999999999999602,
          "Y": -1.6888315159113967
         },
         {
          "Outlier": 0,
          "X": 1.2999999999999599,
          "Y": -26.34560770532998
         },
         {
          "Outlier": 0.07192807192807193,
          "X": 1.3999999999999595,
          "Y": 7.322340575226373
         },
         {
          "Outlier": 0.6753246753246753,
          "X": 1.4999999999999591,
          "Y": 1.9729072168157065
         },
         {
          "Outlier": 0,
          "X": 1.5999999999999588,
          "Y": 1.513234082565413
         },
         {
          "Outlier": 0.20279720279720279,
          "X": 1.6999999999999584,
          "Y": 13.227480313783765
         },
         {
          "Outlier": 1,
          "X": 1.799999999999958,
          "Y": 12.226379085662112
         },
         {
          "Outlier": 0,
          "X": 1.8999999999999577,
          "Y": 2.850573235675812
         },
         {
          "Outlier": 0.11288711288711288,
          "X": 1.9999999999999574,
          "Y": -6.392989857152452
         },
         {
          "Outlier": 0,
          "X": 2.099999999999957,
          "Y": -5.3213737430909305
         },
         {
          "Outlier": 0,
          "X": 2.1999999999999567,
          "Y": 0.41427397930309406
         },
         {
          "Outlier": 0.13586413586413587,
          "X": 2.2999999999999563,
          "Y": -5.750652275493272
         },
         {
          "Outlier": 0,
          "X": 2.399999999999956,
          "Y": 4.340182272052314
         },
         {
          "Outlier": 0.5794205794205795,
          "X": 2.4999999999999556,
          "Y": 4.7901246139126625
         },
         {
          "Outlier": 0,
          "X": 2.5999999999999552,
          "Y": -11.012677316789915
         },
         {
          "Outlier": 0.13686313686313686,
          "X": 2.699999999999955,
          "Y": -2.5092360333006916
         },
         {
          "Outlier": 0.38461538461538464,
          "X": 2.7999999999999545,
          "Y": -9.854893391572105
         },
         {
          "Outlier": 1,
          "X": 2.899999999999954,
          "Y": -28.61214419700161
         },
         {
          "Outlier": 0.10589410589410589,
          "X": 2.999999999999954,
          "Y": 8.248524918035386
         },
         {
          "Outlier": 0,
          "X": 3.0999999999999535,
          "Y": -3.622542781911439
         },
         {
          "Outlier": 0.5264735264735265,
          "X": 3.199999999999953,
          "Y": 4.494708619120168
         },
         {
          "Outlier": 0,
          "X": 3.2999999999999527,
          "Y": 3.860145108336754
         },
         {
          "Outlier": 0.07292707292707293,
          "X": 3.3999999999999524,
          "Y": -4.0035470084411795
         },
         {
          "Outlier": 0,
          "X": 3.499999999999952,
          "Y": -11.04990869937726
         },
         {
          "Outlier": 0,
          "X": 3.5999999999999517,
          "Y": -35.32932042223501
         },
         {
          "Outlier": 0.4405594405594406,
          "X": 3.6999999999999513,
          "Y": 11.866841248128683
         },
         {
          "Outlier": 0,
          "X": 3.799999999999951,
          "Y": -10.162451780099051
         },
         {
          "Outlier": 0.981018981018981,
          "X": 3.8999999999999506,
          "Y": 9.661220540277904
         },
         {
          "Outlier": 0.45354645354645357,
          "X": 3.9999999999999503,
          "Y": -10.73292544867606
         },
         {
          "Outlier": 0.03896103896103896,
          "X": 4.09999999999995,
          "Y": -18.550653995894045
         },
         {
          "Outlier": 0.04795204795204795,
          "X": 4.1999999999999496,
          "Y": -14.52608532847757
         },
         {
          "Outlier": 0.6403596403596403,
          "X": 4.299999999999949,
          "Y": 21.41545900080303
         },
         {
          "Outlier": 0,
          "X": 4.399999999999949,
          "Y": 41.510023167064915
         },
         {
          "Outlier": 0,
          "X": 4.4999999999999485,
          "Y": -10.944888800178278
         },
         {
          "Outlier": 0.1088911088911089,
          "X": 4.599999999999948,
          "Y": -17.678231065336824
         },
         {
          "Outlier": 0,
          "X": 4.699999999999948,
          "Y": -18.253167364985977
         },
         {
          "Outlier": 0,
          "X": 4.799999999999947,
          "Y": -10.446879435653443
         },
         {
          "Outlier": 0,
          "X": 4.899999999999947,
          "Y": -4.690038562027151
         },
         {
          "Outlier": 0.11688311688311688,
          "X": 4.999999999999947,
          "Y": -5.757921683446889
         },
         {
          "Outlier": 1,
          "X": 5.099999999999946,
          "Y": 8.693733167616339
         },
         {
          "Outlier": 0.13286713286713286,
          "X": 5.199999999999946,
          "Y": -12.216077387002828
         },
         {
          "Outlier": 0.8861138861138861,
          "X": 5.299999999999946,
          "Y": 1.6720822524528287
         },
         {
          "Outlier": 0,
          "X": 5.399999999999945,
          "Y": -14.464965977547303
         },
         {
          "Outlier": 0.1878121878121878,
          "X": 5.499999999999945,
          "Y": -12.869809983276069
         },
         {
          "Outlier": 0.7472527472527473,
          "X": 5.599999999999945,
          "Y": 34.62535634020814
         },
         {
          "Outlier": 0.18081918081918083,
          "X": 5.699999999999944,
          "Y": 39.28048699796905
         },
         {
          "Outlier": 0,
          "X": 5.799999999999944,
          "Y": -18.522573806115407
         },
         {
          "Outlier": 0.04395604395604396,
          "X": 5.8999999999999435,
          "Y": 2.8254226810055205
         },
         {
          "Outlier": 0.08191808191808192,
          "X": 5.999999999999943,
          "Y": -7.598929518634544
         },
         {
          "Outlier": 0,
          "X": 6.099999999999945,
          "Y": -17.140071943688035
         },
         {
          "Outlier": 0,
          "X": 6.1999999999999424,
          "Y": -21.78017043908215
         },
         {
          "Outlier": 0.13986013986013987,
          "X": 6.29999999999994,
          "Y": 8.34770023404953
         },
         {
          "Outlier": 1,
          "X": 6.399999999999942,
          "Y": 2.6439493039811115
         },
         {
          "Outlier": 0,
          "X": 6.499999999999943,
          "Y": -20.126788491353174
         },
         {
          "Outlier": 0.1108891108891109,
          "X": 6.599999999999941,
          "Y": -15.051462287577962
         },
         {
          "Outlier": 0.3386613386613387,
          "X": 6.699999999999939,
          "Y": 4.3207686658048425
         },
         {
          "Outlier": 0.6513486513486514,
          "X": 6.79999999999994,
          "Y": -8.60953644756132
         },
         {
          "Outlier": 0,
          "X": 6.899999999999942,
          "Y": -9.408044612231928
         },
         {
          "Outlier": 0,
          "X": 6.99999999999994,
          "Y": -19.056725876851928
         },
         {
          "Outlier": 0.06493506493506493,
          "X": 7.0999999999999375,
          "Y": -20.094495666483716
         },
         {
          "Outlier": 0.24075924075924077,
          "X": 7.199999999999939,
          "Y": -0.40330975452223106
         },
         {
          "Outlier": 0,
          "X": 7.29999999999994,
          "Y": -48.28017130034681
         },
         {
          "Outlier": 0,
          "X": 7.399999999999938,
          "Y": -19.705987406023656
         },
         {
          "Outlier": 0.38461538461538464,
          "X": 7.499999999999936,
          "Y": -27.496292304878267
         },
         {
          "Outlier": 0.25774225774225773,
          "X": 7.5999999999999375,
          "Y": -18.884286907276728
         },
         {
          "Outlier": 0.06493506493506493,
          "X": 7.699999999999939,
          "Y": -22.442972670784375
         },
         {
          "Outlier": 1,
          "X": 7.799999999999937,
          "Y": 6.610475555129508
         },
         {
          "Outlier": 0,
          "X": 7.899999999999935,
          "Y": -28.406701583023757
         },
         {
          "Outlier": 0.5174825174825175,
          "X": 7.999999999999936,
          "Y": 10.913894309977062
         },
         {
          "Outlier": 0.15884115884115885,
          "X": 8.099999999999937,
          "Y": 22.467791024883127
         },
         {
          "Outlier": 0.26073926073926074,
          "X": 8.199999999999935,
          "Y": 12.316122841847735
         },
         {
          "Outlier": 0,
          "X": 8.299999999999933,
          "Y": -18.61774741315339
         },
         {
          "Outlier": 0,
          "X": 8.399999999999935,
          "Y": -29.49760626562651
         },
         {
          "Outlier": 0.030969030969030968,
          "X": 8.499999999999936,
          "Y": -25.738038864954476
         },
         {
          "Outlier": 0.08691308691308691,
          "X": 8.599999999999934,
          "Y": -17.85703560203325
         },
         {
          "Outlier": 0.4325674325674326,
          "X": 8.699999999999932,
          "Y": -9.172720756633
         },
         {
          "Outlier": 0.3596403596403596,
          "X": 8.799999999999933,
          "Y": -20.500224282886077
         },
         {
          "Outlier": 0,
          "X": 8.899999999999935,
          "Y": -27.955994289017063
         },
         {
          "Outlier": 0,
          "X": 8.999999999999932,
          "Y": -23.309509588194302
         },
         {
          "Outlier": 0.3966033966033966,
          "X": 9.09999999999993,
          "Y": 31.120217815149882
         },
         {
          "Outlier": 0,
          "X": 9.199999999999932,
          "Y": -24.086143061403874
         },
         {
          "Outlier": 0,
          "X": 9.299999999999933,
          "Y": -21.7596596113579
         },
         {
          "Outlier": 0.3856143856143856,
          "X": 9.399999999999931,
          "Y": 1.3453810777338207
         },
         {
          "Outlier": 0.2817182817182817,
          "X": 9.499999999999929,
          "Y": 30.106740007028108
         },
         {
          "Outlier": 0.7592407592407593,
          "X": 9.59999999999993,
          "Y": -8.245762291377288
         },
         {
          "Outlier": 0,
          "X": 9.699999999999932,
          "Y": -29.313469546701562
         },
         {
          "Outlier": 0.23276723276723277,
          "X": 9.79999999999993,
          "Y": -27.209848874368774
         },
         {
          "Outlier": 0.6093906093906094,
          "X": 9.899999999999928,
          "Y": 7.612568009425738
         },
         {
          "Outlier": 0.9590409590409591,
          "X": 9.999999999999929,
          "Y": -13.529703374498748
         }
        ]
       },
       "encoding": {
        "color": {
         "field": "Outlier",
         "scale": {
          "scheme": "viridis"
         },
         "type": "quantitative"
        },
        "x": {
         "field": "X",
         "type": "quantitative"
        },
        "y": {
         "field": "Y",
         "type": "quantitative"
        }
       },
       "height": 400,
       "mark": "circle",
       "width": 400
      },
      "image/png": "[encoded data removed]"
     },
     "metadata": {},
     "output_type": "display_data"
    }
   ],
   "source": [
    "plot  $ take 5000 (zip (fst <$> samples) (outlierProb mhRuns))"
   ]
  },
  {
   "cell_type": "markdown",
   "metadata": {},
   "source": [
    "Running MCMC gives us a list of samples. The results make sense: points that are very near the line are probably not outliers and ones very far are. \n",
    "\n",
    "It would be nice to make our approach more sample efficient though. The `SingleSiteMH` proposal is very naive. Two ways to improve on this would be to use customizable proposals, as in `Gen`, or to use Hamiltonian Monte Carlo as in `Stan`."
   ]
  },
  {
   "cell_type": "code",
   "execution_count": null,
   "metadata": {},
   "outputs": [],
   "source": []
  }
 ],
 "metadata": {
  "kernelspec": {
   "display_name": "Haskell - nixpkgs",
   "language": "haskell",
   "name": "ihaskell_nixpkgs"
  },
  "language_info": {
   "codemirror_mode": "ihaskell",
   "file_extension": ".hs",
   "mimetype": "text/x-haskell",
   "name": "haskell",
   "pygments_lexer": "Haskell",
   "version": "9.0.2"
  }
 },
 "nbformat": 4,
 "nbformat_minor": 4
}
