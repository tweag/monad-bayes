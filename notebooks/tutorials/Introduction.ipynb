{
 "cells": [
  {
   "cell_type": "code",
   "execution_count": 11,
   "metadata": {},
   "outputs": [],
   "source": [
    ":e ImportQualifiedPost\n",
    ":e FlexibleContexts\n",
    ":e BlockArguments\n",
    ":e TupleSections\n",
    ":e FlexibleContexts\n",
    ":e OverloadedStrings\n",
    ":e LambdaCase\n",
    "\n",
    "import Control.Arrow (first)\n",
    "import Data.Text (pack)\n",
    "import Control.Monad\n",
    "import Numeric.Log\n",
    "\n",
    "import Control.Monad.Bayes.Class\n",
    "import Control.Monad.Bayes.Enumerator\n",
    "import Control.Monad.Bayes.Weighted\n",
    "import Control.Monad.Bayes.Sampler.Strict\n",
    "import Control.Monad.Bayes.Integrator\n",
    "\n",
    ":l ../Plotting.hs"
   ]
  },
  {
   "cell_type": "markdown",
   "metadata": {},
   "source": [
    "# Introduction to Monad-Bayes\n",
    "\n",
    "This serves as an interactive alternative to [the user guide](https://monad-bayes.netlify.app/probprog.html). This isn't intended as a tutorial to Haskell, but if you're familiar with probabilistic programming, the general flow of the code should look familiar.\n",
    "\n",
    "To get a sense of how probabilistic programming with monad-bayes works, consider the following:"
   ]
  },
  {
   "cell_type": "code",
   "execution_count": 21,
   "metadata": {},
   "outputs": [],
   "source": [
    "model :: MonadInfer m => Double -> m Double\n",
    "model observation = do\n",
    "    mean <- uniformD [-1, 0, 1]\n",
    "    factor (normalPdf mean 1 observation)\n",
    "    return mean"
   ]
  },
  {
   "cell_type": "markdown",
   "metadata": {},
   "source": [
    "The idea of monad-bayes, and probabilistic programming languages in general is to define distributions as programs. `model` corresponds to the distribution that you would express mathematically as:\n",
    "\n",
    "$$ P(m | o) = \\frac{P(m)P(o|m)}{P(o)} = \\frac{1/3 * \\mathbb{N}(o; m, 1)}{\\sum_{m' \\in \\{-1,0,1\\}} 1/3 * \\mathbb{N}(o; m', 1) } $$\n",
    "\n",
    "As a program, you can think of `model` as doing the following:\n",
    "\n",
    "- first draw from the prior over possible values of `mean` (that's the line `mean <- uniformD [-1, 0, 1]`)\n",
    "- then score a draw higher according to the likelihood placed on `observation` (the argument to `model`) by a normal with $\\mu$=`mean`\n",
    "\n",
    "- then return the `mean`\n",
    "\n",
    "To orient you on the relationship between the mathematical view of a distribution and the programming one, here are some notes:\n",
    "\n",
    "- a distribution over values of type `a` has type `MonadInfer m => m a`\n",
    "- a joint distribution over values of types `a` and `b` is a distribution over a tuple: `MonadInfer m => m (a, b)`\n",
    "- a conditional distribution over values of type `a` conditioned on values of type `b` is a function into a distribution: \n",
    "    `MonadInfer m => b -> m a`\n",
    "\n",
    "\n",
    "\n",
    "For example, if the value observed is $0.3$, then we can calculate the distribution over the mean:\n",
    "\n"
   ]
  },
  {
   "cell_type": "code",
   "execution_count": 3,
   "metadata": {},
   "outputs": [
    {
     "data": {
      "text/plain": [
       "[(0.0,0.44090549839518783),(1.0,0.36098289073731515),(-1.0,0.198111610867497)]"
      ]
     },
     "metadata": {},
     "output_type": "display_data"
    }
   ],
   "source": [
    "inferredDistribution = enumerator $ model 0.3\n",
    "inferredDistribution"
   ]
  },
  {
   "cell_type": "code",
   "execution_count": 4,
   "metadata": {
    "tags": []
   },
   "outputs": [
    {
     "data": {
      "application/vnd.vegalite.v4+json": {
       "$schema": "https://vega.github.io/schema/vega-lite/v4.json",
       "data": {
        "values": [
         {
          "X": "0.0",
          "Y": 0.44090549839518783
         },
         {
          "X": "1.0",
          "Y": 0.36098289073731515
         },
         {
          "X": "-1.0",
          "Y": 0.198111610867497
         }
        ]
       },
       "encoding": {
        "x": {
         "field": "X",
         "type": "nominal"
        },
        "y": {
         "field": "Y",
         "type": "quantitative"
        }
       },
       "height": 400,
       "mark": "bar",
       "width": 400
      },
      "image/png": "[encoded data removed]"
     },
     "metadata": {},
     "output_type": "display_data"
    }
   ],
   "source": [
    "plot (first (pack . show) <$> inferredDistribution)"
   ]
  },
  {
   "cell_type": "markdown",
   "metadata": {},
   "source": [
    "To produce this plot, we performed *inference*, to obtain the exact form of the distribution represented by `model`. Because the only random variable in `model` had a support that was small and discrete (the set $\\{-1, 0, 1\\}$), performing this inference exactly was straightforward.\n",
    "\n",
    "`enumerate` is an exact inference method offered by monad-bayes targeted as discrete distributions.\n",
    "\n",
    "You are encouraged to change `model` in a number of ways and observe how the results change:\n",
    "- try changing the prior (currently `uniformD [-1, 0, 1]`)\n",
    "- try changing the score (currently `factor (normalPdf mean 1 observation)`)\n",
    "- try changing the types of the observation and latent variable (i.e. `mean`)"
   ]
  },
  {
   "cell_type": "markdown",
   "metadata": {},
   "source": [
    "# Distributions as programs\n",
    "\n",
    "If you are familiar with Haskell, then it should be clear that the class of distributions you can express in this way is very broad, since we have monadic control flow. For example, you could build:"
   ]
  },
  {
   "cell_type": "code",
   "execution_count": 5,
   "metadata": {},
   "outputs": [],
   "source": [
    "lengthDist :: MonadInfer m => Double -> m Int\n",
    "lengthDist observation = do\n",
    "    means <- replicateM 3 (model observation)\n",
    "    return (length $ filter (>=1) means)"
   ]
  },
  {
   "cell_type": "markdown",
   "metadata": {},
   "source": [
    "# Exact inference for continuous distributions\n",
    "\n",
    "`enumerate` only works for discrete random variables (like categorical or bernoulli distributions).\n",
    "\n",
    "For continuous distributions, there is almost a (near) exact inference algorithm, which performs numerical integration. It is defined in `Control.Monad.Bayes.Integrator`, which also provides `histogram`:\n"
   ]
  },
  {
   "cell_type": "markdown",
   "metadata": {},
   "source": [
    "Given an observation, this is the probability on how many (out of 3) independent draws from the posterior of the model conditioned on the observation will be greater or equal to 1. Consider the hassle of defining this with an equation, and you'll see why probabilistic programming is appealing as a way of accelerating modelling and inference."
   ]
  },
  {
   "cell_type": "code",
   "execution_count": 6,
   "metadata": {},
   "outputs": [
    {
     "data": {
      "text/plain": [
       "[(1,0.4228030765220977),(2,0.3090938161626379),(0,0.19278121201287118),(3,7.532189530239404e-2)]"
      ]
     },
     "metadata": {},
     "output_type": "display_data"
    }
   ],
   "source": [
    "enumerator $ lengthDist 0.5"
   ]
  },
  {
   "cell_type": "code",
   "execution_count": 13,
   "metadata": {},
   "outputs": [
    {
     "data": {
      "application/vnd.vegalite.v4+json": {
       "$schema": "https://vega.github.io/schema/vega-lite/v4.json",
       "data": {
        "values": [
         {
          "X": -4.3,
          "Y": 1.130592323995006e-05
         },
         {
          "X": -4.1000000000000005,
          "Y": 2.6962655231994744e-05
         },
         {
          "X": -3.9000000000000004,
          "Y": 6.453120955372455e-05
         },
         {
          "X": -3.7,
          "Y": 0.00011893668061056686
         },
         {
          "X": -3.5,
          "Y": 0.00025201490031562045
         },
         {
          "X": -3.3000000000000003,
          "Y": 0.0004717412175174998
         },
         {
          "X": -3.1,
          "Y": 0.0009386806724130974
         },
         {
          "X": -2.9000000000000004,
          "Y": 0.0016579159951963904
         },
         {
          "X": -2.7,
          "Y": 0.0027804948691254813
         },
         {
          "X": -2.5,
          "Y": 0.004448368834902848
         },
         {
          "X": -2.3000000000000003,
          "Y": 0.00681568286985589
         },
         {
          "X": -2.1,
          "Y": 0.011045176260450752
         },
         {
          "X": -1.9000000000000001,
          "Y": 0.01607186189903378
         },
         {
          "X": -1.7000000000000002,
          "Y": 0.022441046003227313
         },
         {
          "X": -1.5,
          "Y": 0.03011723227393387
         },
         {
          "X": -1.3,
          "Y": 0.03888527634021224
         },
         {
          "X": -1.1,
          "Y": 0.04831693653557609
         },
         {
          "X": -0.9,
          "Y": 0.05777073830312829
         },
         {
          "X": -0.7000000000000001,
          "Y": 0.06644067264567828
         },
         {
          "X": -0.5,
          "Y": 0.07345895150629281
         },
         {
          "X": -0.30000000000000004,
          "Y": 0.07803999760903894
         },
         {
          "X": -0.1,
          "Y": 0.07963311467629174
         },
         {
          "X": 0.1,
          "Y": 0.07803999760903894
         },
         {
          "X": 0.30000000000000004,
          "Y": 0.07345895150629281
         },
         {
          "X": 0.5,
          "Y": 0.06644067264567828
         },
         {
          "X": 0.7000000000000001,
          "Y": 0.05777073830312829
         },
         {
          "X": 0.9,
          "Y": 0.04831693653557609
         },
         {
          "X": 1.1,
          "Y": 0.03888527634021224
         },
         {
          "X": 1.3,
          "Y": 0.03011723227393387
         },
         {
          "X": 1.5,
          "Y": 0.022441046003227313
         },
         {
          "X": 1.7000000000000002,
          "Y": 0.01607186189903378
         },
         {
          "X": 1.9000000000000001,
          "Y": 0.011045176260450752
         },
         {
          "X": 2.1,
          "Y": 0.00681568286985589
         },
         {
          "X": 2.3000000000000003,
          "Y": 0.004448368834902848
         },
         {
          "X": 2.5,
          "Y": 0.0027804948691254813
         },
         {
          "X": 2.7,
          "Y": 0.0016579159951963904
         },
         {
          "X": 2.9000000000000004,
          "Y": 0.0009386806724130974
         },
         {
          "X": 3.1,
          "Y": 0.0004717412175174998
         },
         {
          "X": 3.3000000000000003,
          "Y": 0.00025201490031562045
         },
         {
          "X": 3.5,
          "Y": 0.00011893668061056686
         },
         {
          "X": 3.7,
          "Y": 6.453120955372455e-05
         },
         {
          "X": 3.9000000000000004,
          "Y": 2.6962655231994744e-05
         },
         {
          "X": 4.1000000000000005,
          "Y": 1.130592323995006e-05
         },
         {
          "X": 4.3,
          "Y": 5.5621114130316836e-06
         },
         {
          "X": 4.5,
          "Y": 2.05165127372887e-06
         }
        ]
       },
       "encoding": {
        "x": {
         "field": "X",
         "type": "quantitative"
        },
        "y": {
         "field": "Y",
         "type": "quantitative"
        }
       },
       "height": 400,
       "mark": "bar",
       "width": 400
      },
      "image/png": "[encoded data removed]"
     },
     "metadata": {},
     "output_type": "display_data"
    }
   ],
   "source": [
    "import Data.List\n",
    "import Data.Ord\n",
    "import qualified Data.Text as T\n",
    "\n",
    "plot $ Control.Monad.Bayes.Integrator.histogram 45 0.2 (normal 0 1)"
   ]
  },
  {
   "cell_type": "markdown",
   "metadata": {},
   "source": [
    "This will work for any distribution in principle, but in practice it is unfeasibly slow for complex distributions. That said, quite a few interesting distributions can be expressed, like this mixture of Gaussians:"
   ]
  },
  {
   "cell_type": "code",
   "execution_count": 14,
   "metadata": {},
   "outputs": [
    {
     "data": {
      "application/vnd.vegalite.v4+json": {
       "$schema": "https://vega.github.io/schema/vega-lite/v4.json",
       "data": {
        "values": [
         {
          "X": -24.8,
          "Y": 5.3095963671804324e-06
         },
         {
          "X": -24.6,
          "Y": 6.165627647681546e-06
         },
         {
          "X": -24.400000000000002,
          "Y": 7.142426872944732e-06
         },
         {
          "X": -24.200000000000003,
          "Y": 8.254377982243924e-06
         },
         {
          "X": -24,
          "Y": 9.517217568292708e-06
         },
         {
          "X": -23.8,
          "Y": 1.0948119678973923e-05
         },
         {
          "X": -23.6,
          "Y": 1.951916511397483e-05
         },
         {
          "X": -23.400000000000002,
          "Y": 1.53873326738432e-05
         },
         {
          "X": -23.200000000000003,
          "Y": 1.756447251953682e-05
         },
         {
          "X": -23,
          "Y": 2.0007057866674773e-05
         },
         {
          "X": -22.8,
          "Y": 2.2741709649609795e-05
         },
         {
          "X": -22.6,
          "Y": 2.5797043317974205e-05
         },
         {
          "X": -22.400000000000002,
          "Y": 2.920375038464111e-05
         },
         {
          "X": -22.200000000000003,
          "Y": 5.1043211362140733e-05
         },
         {
          "X": -22,
          "Y": 3.947883961364423e-05
         },
         {
          "X": -21.8,
          "Y": 4.438883568868708e-05
         },
         {
          "X": -21.6,
          "Y": 4.981604384789415e-05
         },
         {
          "X": -21.400000000000002,
          "Y": 5.5803886480783915e-05
         },
         {
          "X": -21.200000000000003,
          "Y": 9.627310649706154e-05
         },
         {
          "X": -21,
          "Y": 7.353406698112101e-05
         },
         {
          "X": -20.8,
          "Y": 8.186283113755633e-05
         },
         {
          "X": -20.6,
          "Y": 9.097940195119327e-05
         },
         {
          "X": -20.400000000000002,
          "Y": 0.00015542877950402179
         },
         {
          "X": -20.200000000000003,
          "Y": 0.0001176030725961721
         },
         {
          "X": -20,
          "Y": 0.00012994936307383746
         },
         {
          "X": -19.8,
          "Y": 0.00022043035575747914
         },
         {
          "X": -19.6,
          "Y": 0.0001656444511166623
         },
         {
          "X": -19.400000000000002,
          "Y": 0.00018204250426452149
         },
         {
          "X": -19.200000000000003,
          "Y": 0.00030672846672537724
         },
         {
          "X": -19,
          "Y": 0.00022900418687446427
         },
         {
          "X": -18.8,
          "Y": 0.00025038660506084855
         },
         {
          "X": -18.6,
          "Y": 0.0004192169646104488
         },
         {
          "X": -18.400000000000002,
          "Y": 0.00031107530922898813
         },
         {
          "X": -18.2,
          "Y": 0.0005185837672412176
         },
         {
          "X": -18,
          "Y": 0.0003832048398221772
         },
         {
          "X": -17.8,
          "Y": 0.00041558110144749964
         },
         {
          "X": -17.6,
          "Y": 0.0006888181760479613
         },
         {
          "X": -17.400000000000002,
          "Y": 0.0005061612922303652
         },
         {
          "X": -17.2,
          "Y": 0.000835656696506249
         },
         {
          "X": -17,
          "Y": 0.0006117199264780828
         },
         {
          "X": -16.8,
          "Y": 0.001006103121920774
         },
         {
          "X": -16.6,
          "Y": 0.0007337779924051356
         },
         {
          "X": -16.400000000000002,
          "Y": 0.0012024350560064876
         },
         {
          "X": -16.2,
          "Y": 0.0008738440118643176
         },
         {
          "X": -16,
          "Y": 0.0014268870141138828
         },
         {
          "X": -15.8,
          "Y": 0.0010333804232739619
         },
         {
          "X": -15.600000000000001,
          "Y": 0.0016815964699223697
         },
         {
          "X": -15.4,
          "Y": 0.0012137652729090045
         },
         {
          "X": -15.200000000000001,
          "Y": 0.0019685429326754145
         },
         {
          "X": -15,
          "Y": 0.0014162493419906026
         },
         {
          "X": -14.8,
          "Y": 0.0022894803727306276
         },
         {
          "X": -14.600000000000001,
          "Y": 0.0016419090158662855
         },
         {
          "X": -14.4,
          "Y": 0.002645863614316109
         },
         {
          "X": -14.200000000000001,
          "Y": 0.0018915954247418377
         },
         {
          "X": -14,
          "Y": 0.0030387696830687394
         },
         {
          "X": -13.8,
          "Y": 0.003292322586302597
         },
         {
          "X": -13.600000000000001,
          "Y": 0.002342373597746243
         },
         {
          "X": -13.4,
          "Y": 0.00374472560044742
         },
         {
          "X": -13.200000000000001,
          "Y": 0.0026563505776088787
         },
         {
          "X": -13,
          "Y": 0.004234089126490092
         },
         {
          "X": -12.8,
          "Y": 0.004545075472352339
         },
         {
          "X": -12.600000000000001,
          "Y": 0.003209076685363121
         },
         {
          "X": -12.4,
          "Y": 0.0050912499414268765
         },
         {
          "X": -12.200000000000001,
          "Y": 0.0035843756991705495
         },
         {
          "X": -12,
          "Y": 0.005670273981989368
         },
         {
          "X": -11.8,
          "Y": 0.006032222334389711
         },
         {
          "X": -11.600000000000001,
          "Y": 0.004227504911733166
         },
         {
          "X": -11.4,
          "Y": 0.006657082448059182
         },
         {
          "X": -11.200000000000001,
          "Y": 0.004652199290268652
         },
         {
          "X": -11,
          "Y": 0.007304984998232411
         },
         {
          "X": -10.8,
          "Y": 0.007702575045606567
         },
         {
          "X": -10.600000000000001,
          "Y": 0.005358481300238634
         },
         {
          "X": -10.4,
          "Y": 0.008375725553296841
         },
         {
          "X": -10.200000000000001,
          "Y": 0.005810273443431885
         },
         {
          "X": -10,
          "Y": 0.009056025256592605
         },
         {
          "X": -9.8,
          "Y": 0.009464504364960952
         },
         {
          "X": -9.600000000000001,
          "Y": 0.0065357322362273405
         },
         {
          "X": -9.4,
          "Y": 0.010140142190877145
         },
         {
          "X": -9.200000000000001,
          "Y": 0.006982288056300124
         },
         {
          "X": -9,
          "Y": 0.010801803976785741
         },
         {
          "X": -8.8,
          "Y": 0.011188334576243604
         },
         {
          "X": -8.6,
          "Y": 0.007668627394691908
         },
         {
          "X": -8.4,
          "Y": 0.011808672869082982
         },
         {
          "X": -8.200000000000001,
          "Y": 0.008070364799286928
         },
         {
          "X": -8,
          "Y": 0.012391059176428562
         },
         {
          "X": -7.800000000000001,
          "Y": 0.012718425893634153
         },
         {
          "X": -7.6000000000000005,
          "Y": 0.008651553198501605
         },
         {
          "X": -7.4,
          "Y": 0.013221056792861181
         },
         {
          "X": -7.2,
          "Y": 0.008967019281621344
         },
         {
          "X": -7,
          "Y": 0.013662649695284454
         },
         {
          "X": -6.800000000000001,
          "Y": 0.013895057367178457
         },
         {
          "X": -6.6000000000000005,
          "Y": 0.009379571751890135
         },
         {
          "X": -6.4,
          "Y": 0.014223355365981644
         },
         {
          "X": -6.2,
          "Y": 0.009572616707840676
         },
         {
          "X": -6,
          "Y": 0.014472770164764372
         },
         {
          "X": -5.800000000000001,
          "Y": 0.014582570750033136
         },
         {
          "X": -5.6000000000000005,
          "Y": 0.009767512178953679
         },
         {
          "X": -5.4,
          "Y": 0.014696779267426735
         },
         {
          "X": -5.2,
          "Y": 0.009814530455681262
         },
         {
          "X": -5,
          "Y": 0.014723268976915527
         },
         {
          "X": -4.800000000000001,
          "Y": 0.014696779267426735
         },
         {
          "X": -4.6000000000000005,
          "Y": 0.009767512178953679
         },
         {
          "X": -4.4,
          "Y": 0.014582570750033136
         },
         {
          "X": -4.2,
          "Y": 0.014472770164764372
         },
         {
          "X": -4,
          "Y": 0.009572616707840676
         },
         {
          "X": -3.8000000000000003,
          "Y": 0.014223355365981644
         },
         {
          "X": -3.6,
          "Y": 0.009379571751890135
         },
         {
          "X": -3.4000000000000004,
          "Y": 0.013895057367178457
         },
         {
          "X": -3.2,
          "Y": 0.013662649695284454
         },
         {
          "X": -3,
          "Y": 0.008967019281621344
         },
         {
          "X": -2.8000000000000003,
          "Y": 0.013221056792861181
         },
         {
          "X": -2.6,
          "Y": 0.008651553198501605
         },
         {
          "X": -2.4000000000000004,
          "Y": 0.012718425893634153
         },
         {
          "X": -2.2,
          "Y": 0.012391059176428562
         },
         {
          "X": -2,
          "Y": 0.008070364799286928
         },
         {
          "X": -1.8,
          "Y": 0.011808672869082982
         },
         {
          "X": -1.6,
          "Y": 0.007668627394691908
         },
         {
          "X": -1.4000000000000001,
          "Y": 0.011188334576243604
         },
         {
          "X": -1.2000000000000002,
          "Y": 0.010801803976785741
         },
         {
          "X": -1,
          "Y": 0.006982288056300124
         },
         {
          "X": -0.8,
          "Y": 0.010140142190877145
         },
         {
          "X": -0.6000000000000001,
          "Y": 0.0065357322362273405
         },
         {
          "X": -0.4,
          "Y": 0.009464504364960952
         },
         {
          "X": -0.2,
          "Y": 0.009056025256592605
         },
         {
          "X": 0,
          "Y": 0.005810273443431885
         },
         {
          "X": 0.2,
          "Y": 0.008375725553296841
         },
         {
          "X": 0.4,
          "Y": 0.005358481300238634
         },
         {
          "X": 0.6000000000000001,
          "Y": 0.007702575045606567
         },
         {
          "X": 0.8,
          "Y": 0.007304984998232411
         },
         {
          "X": 1,
          "Y": 0.004652199290268652
         },
         {
          "X": 1.2000000000000002,
          "Y": 0.006657082448059182
         },
         {
          "X": 1.4000000000000001,
          "Y": 0.004227504911733166
         },
         {
          "X": 1.6,
          "Y": 0.006032222334389711
         },
         {
          "X": 1.8,
          "Y": 0.005670273981989368
         },
         {
          "X": 2,
          "Y": 0.0035843756991705495
         },
         {
          "X": 2.2,
          "Y": 0.0050912499414268765
         },
         {
          "X": 2.4000000000000004,
          "Y": 0.0032090766853715828
         },
         {
          "X": 2.6,
          "Y": 0.004545075472404506
         },
         {
          "X": 2.8000000000000003,
          "Y": 0.004234089126669467
         },
         {
          "X": 3,
          "Y": 0.002656350578426903
         },
         {
          "X": 3.2,
          "Y": 0.0037447256036590893
         },
         {
          "X": 3.4000000000000004,
          "Y": 0.0023423736094486908
         },
         {
          "X": 3.6,
          "Y": 0.0032923226260335938
         },
         {
          "X": 3.8000000000000003,
          "Y": 0.0030387698092297524
         },
         {
          "X": 4,
          "Y": 0.0018915958944567674
         },
         {
          "X": 4.2,
          "Y": 0.0026458651255221624
         },
         {
          "X": 4.4,
          "Y": 0.0016419135353878634
         },
         {
          "X": 4.6000000000000005,
          "Y": 0.0022894929933032497
         },
         {
          "X": 4.800000000000001,
          "Y": 0.0014162890889872167
         },
         {
          "X": 5,
          "Y": 0.0019686515763010747
         },
         {
          "X": 5.2,
          "Y": 0.0012140419610368388
         },
         {
          "X": 5.4,
          "Y": 0.001682256247895249
         },
         {
          "X": 5.6000000000000005,
          "Y": 0.0010348602959120942
         },
         {
          "X": 5.800000000000001,
          "Y": 0.0014305303394102473
         },
         {
          "X": 6,
          "Y": 0.0008817023236705112
         },
         {
          "X": 6.2,
          "Y": 0.001220669132895143
         },
         {
          "X": 6.4,
          "Y": 0.0007709761855503958
         },
         {
          "X": 6.6000000000000005,
          "Y": 0.0010775432999527918
         },
         {
          "X": 6.800000000000001,
          "Y": 0.0007415719645205989
         },
         {
          "X": 7,
          "Y": 0.0010868554817407183
         },
         {
          "X": 7.2,
          "Y": 0.0009382280004843571
         },
         {
          "X": 7.4,
          "Y": 0.0013961737025615243
         },
         {
          "X": 7.6000000000000005,
          "Y": 0.001522551128616199
         },
         {
          "X": 7.800000000000001,
          "Y": 0.0022142478680458356
         },
         {
          "X": 8,
          "Y": 0.0029898582096525832
         },
         {
          "X": 8.200000000000001,
          "Y": 0.0040797108205224576
         },
         {
          "X": 8.4,
          "Y": 0.005585183695811193
         },
         {
          "X": 8.6,
          "Y": 0.007060207346670868
         },
         {
          "X": 8.8,
          "Y": 0.008867014272076047
         },
         {
          "X": 9,
          "Y": 0.01085140149296492
         },
         {
          "X": 9.200000000000001,
          "Y": 0.012566493408287312
         },
         {
          "X": 9.4,
          "Y": 0.014152923036878371
         },
         {
          "X": 9.600000000000001,
          "Y": 0.01540374307780132
         },
         {
          "X": 9.8,
          "Y": 0.015963490067288637
         },
         {
          "X": 10,
          "Y": 0.017178328407119536
         },
         {
          "X": 10.200000000000001,
          "Y": 0.015338741501547862
         },
         {
          "X": 10.4,
          "Y": 0.014078257987712901
         },
         {
          "X": 10.600000000000001,
          "Y": 0.012466313735160347
         },
         {
          "X": 10.8,
          "Y": 0.010618207093220663
         },
         {
          "X": 11,
          "Y": 0.008734283191698645
         },
         {
          "X": 11.200000000000001,
          "Y": 0.006865624628090803
         },
         {
          "X": 11.4,
          "Y": 0.0052157827750486385
         },
         {
          "X": 11.600000000000001,
          "Y": 0.0038130243469821565
         },
         {
          "X": 11.8,
          "Y": 0.00251075328202501
         },
         {
          "X": 12,
          "Y": 0.0018820862395857992
         },
         {
          "X": 12.200000000000001,
          "Y": 0.0011361737775533406
         },
         {
          "X": 12.4,
          "Y": 0.0007331525698315374
         },
         {
          "X": 12.600000000000001,
          "Y": 0.0004548084179036016
         },
         {
          "X": 12.8,
          "Y": 0.0002712058431011442
         },
         {
          "X": 13,
          "Y": 0.00014741651056205293
         },
         {
          "X": 13.200000000000001,
          "Y": 8.682751070586094e-05
         },
         {
          "X": 13.4,
          "Y": 5.671735825923499e-05
         },
         {
          "X": 13.600000000000001,
          "Y": 2.918219656762929e-05
         },
         {
          "X": 13.8,
          "Y": 1.7375529374486354e-05
         },
         {
          "X": 14,
          "Y": 1.1897703278608336e-05
         },
         {
          "X": 14.200000000000001,
          "Y": 8.622299511077096e-06
         },
         {
          "X": 14.4,
          "Y": 6.825405620560989e-06
         },
         {
          "X": 14.600000000000001,
          "Y": 5.586284495014563e-06
         },
         {
          "X": 14.8,
          "Y": 4.669861980384239e-06
         },
         {
          "X": 15,
          "Y": 3.948313554694825e-06
         },
         {
          "X": 15.200000000000001,
          "Y": 3.3534425460400294e-06
         },
         {
          "X": 15.4,
          "Y": 2.8527159283821076e-06
         },
         {
          "X": 15.600000000000001,
          "Y": 2.4233690209484857e-06
         },
         {
          "X": 15.8,
          "Y": 2.054328147189825e-06
         },
         {
          "X": 16,
          "Y": 1.7371920198927467e-06
         },
         {
          "X": 16.2,
          "Y": 1.46513697892469e-06
         },
         {
          "X": 16.400000000000002,
          "Y": 6.430045608227638e-07
         },
         {
          "X": 16.6,
          "Y": 1.1289058668345064e-06
         },
         {
          "X": 16.8,
          "Y": 9.45432750205755e-07
         },
         {
          "X": 17,
          "Y": 7.894740185842172e-07
         },
         {
          "X": 17.2,
          "Y": 6.572915930046536e-07
         },
         {
          "X": 17.400000000000002,
          "Y": 5.455944919957147e-07
         },
         {
          "X": 17.6,
          "Y": 4.5149403031157523e-07
         },
         {
          "X": 17.8,
          "Y": 1.9525799762733373e-07
         },
         {
          "X": 18,
          "Y": 3.378964915674886e-07
         },
         {
          "X": 18.2,
          "Y": 2.774244639758001e-07
         },
         {
          "X": 18.400000000000002,
          "Y": 2.270377464987253e-07
         },
         {
          "X": 18.6,
          "Y": 1.8519131251684698e-07
         },
         {
          "X": 18.8,
          "Y": 7.920249677766002e-08
         },
         {
          "X": 19,
          "Y": 1.3557216891866329e-07
         },
         {
          "X": 19.200000000000003,
          "Y": 1.0965115492621583e-07
         },
         {
          "X": 19.400000000000002,
          "Y": 8.837751973876313e-08
         },
         {
          "X": 19.6,
          "Y": 7.097930240632512e-08
         },
         {
          "X": 19.8,
          "Y": 2.999435665118401e-08
         },
         {
          "X": 20,
          "Y": 5.074307876946539e-08
         },
         {
          "X": 20.200000000000003,
          "Y": 4.03840509672416e-08
         },
         {
          "X": 20.400000000000002,
          "Y": 1.6945424661950835e-08
         },
         {
          "X": 20.6,
          "Y": 2.8470764678943016e-08
         },
         {
          "X": 20.8,
          "Y": 2.244466737896972e-08
         },
         {
          "X": 21,
          "Y": 9.348942461918773e-09
         },
         {
          "X": 21.200000000000003,
          "Y": 1.5595477957054267e-08
         },
         {
          "X": 21.400000000000002,
          "Y": 1.2173775578461567e-08
         },
         {
          "X": 21.6,
          "Y": 5.032087529533858e-09
         },
         {
          "X": 21.8,
          "Y": 8.332006961460162e-09
         },
         {
          "X": 22,
          "Y": 6.437450105521275e-09
         },
         {
          "X": 22.200000000000003,
          "Y": 2.6398048870269847e-09
         },
         {
          "X": 22.400000000000002,
          "Y": 4.337201860213885e-09
         },
         {
          "X": 22.6,
          "Y": 1.7697821375641629e-09
         },
         {
          "X": 22.8,
          "Y": 2.8938473215601114e-09
         },
         {
          "X": 23,
          "Y": 2.197451537277538e-09
         },
         {
          "X": 23.200000000000003,
          "Y": 8.890601143487822e-10
         },
         {
          "X": 23.400000000000002,
          "Y": 1.4418071583810853e-09
         },
         {
          "X": 23.6,
          "Y": 5.802653553133105e-10
         },
         {
          "X": 23.8,
          "Y": 9.362400492222958e-10
         },
         {
          "X": 24,
          "Y": 3.747638369657277e-10
         },
         {
          "X": 24.200000000000003,
          "Y": 6.015208610865836e-10
         },
         {
          "X": 24.400000000000002,
          "Y": 2.3944960617131523e-10
         },
         {
          "X": 24.6,
          "Y": 3.822842156214353e-10
         },
         {
          "X": 24.8,
          "Y": 2.8084119923931763e-10
         },
         {
          "X": 25,
          "Y": 1.1073367866069837e-10
         }
        ]
       },
       "encoding": {
        "x": {
         "field": "X",
         "type": "quantitative"
        },
        "y": {
         "field": "Y",
         "type": "quantitative"
        }
       },
       "height": 400,
       "mark": "bar",
       "width": 400
      },
      "image/png": "[encoded data removed]"
     },
     "metadata": {},
     "output_type": "display_data"
    }
   ],
   "source": [
    "model2 = do\n",
    "    p <- bernoulli 0.2\n",
    "    if p then normal 10 1 else normal (-5) 5\n",
    "\n",
    "plot $ Control.Monad.Bayes.Integrator.histogram 250 0.2 model2"
   ]
  },
  {
   "cell_type": "markdown",
   "metadata": {},
   "source": [
    "Or this normal distribution restricted to the positive reals (i.e. $p(x) \\propto N(x;0,4)\\cdot I[x>0]$)"
   ]
  },
  {
   "cell_type": "code",
   "execution_count": 15,
   "metadata": {},
   "outputs": [
    {
     "data": {
      "application/vnd.vegalite.v4+json": {
       "$schema": "https://vega.github.io/schema/vega-lite/v4.json",
       "data": {
        "values": [
         {
          "X": -24.5,
          "Y": 0
         },
         {
          "X": -24,
          "Y": 0
         },
         {
          "X": -23.5,
          "Y": 0
         },
         {
          "X": -23,
          "Y": 0
         },
         {
          "X": -22.5,
          "Y": 0
         },
         {
          "X": -22,
          "Y": 0
         },
         {
          "X": -21.5,
          "Y": 0
         },
         {
          "X": -21,
          "Y": 0
         },
         {
          "X": -20.5,
          "Y": 0
         },
         {
          "X": -20,
          "Y": 0
         },
         {
          "X": -19.5,
          "Y": 0
         },
         {
          "X": -19,
          "Y": 0
         },
         {
          "X": -18.5,
          "Y": 0
         },
         {
          "X": -18,
          "Y": 0
         },
         {
          "X": -17.5,
          "Y": 0
         },
         {
          "X": -17,
          "Y": 0
         },
         {
          "X": -16.5,
          "Y": 0
         },
         {
          "X": -16,
          "Y": 0
         },
         {
          "X": -15.5,
          "Y": 0
         },
         {
          "X": -15,
          "Y": 0
         },
         {
          "X": -14.5,
          "Y": 0
         },
         {
          "X": -14,
          "Y": 0
         },
         {
          "X": -13.5,
          "Y": 0
         },
         {
          "X": -13,
          "Y": 0
         },
         {
          "X": -12.5,
          "Y": 0
         },
         {
          "X": -12,
          "Y": 0
         },
         {
          "X": -11.5,
          "Y": 0
         },
         {
          "X": -11,
          "Y": 0
         },
         {
          "X": -10.5,
          "Y": 0
         },
         {
          "X": -10,
          "Y": 0
         },
         {
          "X": -9.5,
          "Y": 0
         },
         {
          "X": -9,
          "Y": 0
         },
         {
          "X": -8.5,
          "Y": 0
         },
         {
          "X": -8,
          "Y": 0
         },
         {
          "X": -7.5,
          "Y": 0
         },
         {
          "X": -7,
          "Y": 0
         },
         {
          "X": -6.5,
          "Y": 0
         },
         {
          "X": -6,
          "Y": 0
         },
         {
          "X": -5.5,
          "Y": 0
         },
         {
          "X": -5,
          "Y": 0
         },
         {
          "X": -4.5,
          "Y": 0
         },
         {
          "X": -4,
          "Y": 0
         },
         {
          "X": -3.5,
          "Y": 0
         },
         {
          "X": -3,
          "Y": 0
         },
         {
          "X": -2.5,
          "Y": 0
         },
         {
          "X": -2,
          "Y": 0
         },
         {
          "X": -1.5,
          "Y": 0
         },
         {
          "X": -1,
          "Y": 0
         },
         {
          "X": -0.5,
          "Y": 0
         },
         {
          "X": 0,
          "Y": 0.09847923259850619
         },
         {
          "X": 0.5,
          "Y": 0.09688712321071996
         },
         {
          "X": 1,
          "Y": 0.0938735457320932
         },
         {
          "X": 1.5,
          "Y": 0.08957959553646837
         },
         {
          "X": 2,
          "Y": 0.08419940071719337
         },
         {
          "X": 2.5,
          "Y": 0.07796444369864483
         },
         {
          "X": 3,
          "Y": 0.07112607677780432
         },
         {
          "X": 3.5,
          "Y": 0.07141720800224513
         },
         {
          "X": 4,
          "Y": 0.055733279426873776
         },
         {
          "X": 4.5,
          "Y": 0.04857122789700993
         },
         {
          "X": 5,
          "Y": 0.04171858464689489
         },
         {
          "X": 5.5,
          "Y": 0.035313819914731925
         },
         {
          "X": 6,
          "Y": 0.029455693707741988
         },
         {
          "X": 6.5,
          "Y": 0.02420521543207655
         },
         {
          "X": 7,
          "Y": 0.01958961252353236
         },
         {
          "X": 7.5,
          "Y": 0.015607537144417724
         },
         {
          "X": 8,
          "Y": 0.012234833688048747
         },
         {
          "X": 8.5,
          "Y": 0.009430329724680782
         },
         {
          "X": 9,
          "Y": 0.0071412649856702265
         },
         {
          "X": 9.5,
          "Y": 0.0047307925595266595
         },
         {
          "X": 10,
          "Y": 0.004029192470264292
         },
         {
          "X": 10.5,
          "Y": 0.00257568309521291
         },
         {
          "X": 11,
          "Y": 0.002113460657256411
         },
         {
          "X": 11.5,
          "Y": 0.0012980250065589738
         },
         {
          "X": 12,
          "Y": 0.0009156464715116446
         },
         {
          "X": 12.5,
          "Y": 0.0006330594154629887
         },
         {
          "X": 13,
          "Y": 0.00042845707476134315
         },
         {
          "X": 13.5,
          "Y": 0.00028350200739059056
         },
         {
          "X": 14,
          "Y": 0.0001831453366031207
         },
         {
          "X": 14.5,
          "Y": 0.00010205277856315487
         },
         {
          "X": 15,
          "Y": 6.730544243028251e-05
         },
         {
          "X": 15.5,
          "Y": 4.899427881498245e-05
         },
         {
          "X": 16,
          "Y": 2.5399813650379086e-05
         },
         {
          "X": 16.5,
          "Y": 1.5627846530421348e-05
         },
         {
          "X": 17,
          "Y": 9.384658289544393e-06
         },
         {
          "X": 17.5,
          "Y": 5.493599502781822e-06
         },
         {
          "X": 18,
          "Y": 3.130827261430701e-06
         },
         {
          "X": 18.5,
          "Y": 1.5138117814231015e-06
         },
         {
          "X": 19,
          "Y": 1.0370383982854682e-06
         },
         {
          "X": 19.5,
          "Y": 4.7630049019556284e-07
         },
         {
          "X": 20,
          "Y": 3.0976739338026207e-07
         },
         {
          "X": 20.5,
          "Y": 1.344913840194566e-07
         },
         {
          "X": 21,
          "Y": 7.28402989686893e-08
         },
         {
          "X": 21.5,
          "Y": 3.846088400234724e-08
         },
         {
          "X": 22,
          "Y": 1.977832080262644e-08
         },
         {
          "X": 22.5,
          "Y": 9.89503402994438e-09
         },
         {
          "X": 23,
          "Y": 4.810830756000415e-09
         },
         {
          "X": 23.5,
          "Y": 2.2703683583527174e-09
         },
         {
          "X": 24,
          "Y": 8.918881098938926e-10
         },
         {
          "X": 24.5,
          "Y": 5.430293326052203e-10
         },
         {
          "X": 25,
          "Y": 2.0204098332974636e-10
         }
        ]
       },
       "encoding": {
        "x": {
         "field": "X",
         "type": "quantitative"
        },
        "y": {
         "field": "Y",
         "type": "quantitative"
        }
       },
       "height": 400,
       "mark": "bar",
       "width": 400
      },
      "image/png": "[encoded data removed]"
     },
     "metadata": {},
     "output_type": "display_data"
    }
   ],
   "source": [
    "model3 :: MonadInfer m => m Double\n",
    "model3 = do\n",
    "\n",
    "    x <- normal 0 4\n",
    "    condition (x > 0)\n",
    "    return x\n",
    "\n",
    "plot $ Control.Monad.Bayes.Integrator.histogram 100 0.5 model3"
   ]
  },
  {
   "cell_type": "markdown",
   "metadata": {},
   "source": [
    "Or this unusual distribution with $p(x) \\propto N(x;0,4)*e^{cos(x)}$:"
   ]
  },
  {
   "cell_type": "code",
   "execution_count": 16,
   "metadata": {},
   "outputs": [
    {
     "data": {
      "application/vnd.vegalite.v4+json": {
       "$schema": "https://vega.github.io/schema/vega-lite/v4.json",
       "data": {
        "values": [
         {
          "X": -19.900000000000002,
          "Y": 0.0011562628868415322
         },
         {
          "X": -19.8,
          "Y": 0.001354012903533711
         },
         {
          "X": -19.700000000000003,
          "Y": 0
         },
         {
          "X": -19.6,
          "Y": 0.001559897607835027
         },
         {
          "X": -19.5,
          "Y": 0.0017632040272647215
         },
         {
          "X": -19.400000000000002,
          "Y": 0
         },
         {
          "X": -19.3,
          "Y": 0.0019510745222390542
         },
         {
          "X": -19.200000000000003,
          "Y": 0
         },
         {
          "X": -19.1,
          "Y": 0.0021099366662723574
         },
         {
          "X": -19,
          "Y": 0.0022273741829151312
         },
         {
          "X": -18.900000000000002,
          "Y": 0
         },
         {
          "X": -18.8,
          "Y": 0.0022940565660306152
         },
         {
          "X": -18.7,
          "Y": 0.0023052637037866866
         },
         {
          "X": -18.6,
          "Y": 0
         },
         {
          "X": -18.5,
          "Y": 0.0022616139288856303
         },
         {
          "X": -18.400000000000002,
          "Y": 0.002168816633316807
         },
         {
          "X": -18.3,
          "Y": 0
         },
         {
          "X": -18.2,
          "Y": 0.002036545448992282
         },
         {
          "X": -18.1,
          "Y": 0
         },
         {
          "X": -18,
          "Y": 0.0018767582502326869
         },
         {
          "X": -17.900000000000002,
          "Y": 0.0017018942662864515
         },
         {
          "X": -17.8,
          "Y": 0
         },
         {
          "X": -17.7,
          "Y": 0.0015233365030816446
         },
         {
          "X": -17.6,
          "Y": 0.0013503812612617446
         },
         {
          "X": -17.5,
          "Y": 0
         },
         {
          "X": -17.400000000000002,
          "Y": 0.0011897784691130646
         },
         {
          "X": -17.3,
          "Y": 0.0010457619300073022
         },
         {
          "X": -17.2,
          "Y": 0
         },
         {
          "X": -17.1,
          "Y": 0.0009204108174068763
         },
         {
          "X": -17,
          "Y": 0.0008141722022182503
         },
         {
          "X": -16.900000000000002,
          "Y": 0
         },
         {
          "X": -16.8,
          "Y": 0.0007264072729664775
         },
         {
          "X": -16.7,
          "Y": 0
         },
         {
          "X": -16.6,
          "Y": 0.0006558745411511613
         },
         {
          "X": -16.5,
          "Y": 0.0006011113365011508
         },
         {
          "X": -16.400000000000002,
          "Y": 0
         },
         {
          "X": -16.3,
          "Y": 0.0005607099351321821
         },
         {
          "X": -16.2,
          "Y": 0.0005335047831996469
         },
         {
          "X": -16.1,
          "Y": 0
         },
         {
          "X": -16,
          "Y": 0.0005186952975732349
         },
         {
          "X": -15.9,
          "Y": 0.0005159289268464203
         },
         {
          "X": -15.8,
          "Y": 0
         },
         {
          "X": -15.700000000000001,
          "Y": 0.0005253652835879648
         },
         {
          "X": -15.600000000000001,
          "Y": 0.0005477366276902919
         },
         {
          "X": -15.5,
          "Y": 0
         },
         {
          "X": -15.4,
          "Y": 0.0005844138495995049
         },
         {
          "X": -15.3,
          "Y": 0.0006374803669493953
         },
         {
          "X": -15.200000000000001,
          "Y": 0
         },
         {
          "X": -15.100000000000001,
          "Y": 0.0007098083145886207
         },
         {
          "X": -15,
          "Y": 0
         },
         {
          "X": -14.9,
          "Y": 0.0008051210901373439
         },
         {
          "X": -14.8,
          "Y": 0.000928012938393844
         },
         {
          "X": -14.700000000000001,
          "Y": 0
         },
         {
          "X": -14.600000000000001,
          "Y": 0.0010838799877914427
         },
         {
          "X": -14.5,
          "Y": 0.0012787001576731313
         },
         {
          "X": -14.4,
          "Y": 0
         },
         {
          "X": -14.3,
          "Y": 0.0015185870291939056
         },
         {
          "X": -14.200000000000001,
          "Y": 0.0018090445807295672
         },
         {
          "X": -14.100000000000001,
          "Y": 0
         },
         {
          "X": -14,
          "Y": 0.002153878515478716
         },
         {
          "X": -13.9,
          "Y": 0.0025537884202021465
         },
         {
          "X": -13.8,
          "Y": 0
         },
         {
          "X": -13.700000000000001,
          "Y": 0.003004778027023026
         },
         {
          "X": -13.600000000000001,
          "Y": 0.00349666494480839
         },
         {
          "X": -13.5,
          "Y": 0
         },
         {
          "X": -13.4,
          "Y": 0.004012106116885055
         },
         {
          "X": -13.3,
          "Y": 0.00452661566441389
         },
         {
          "X": -13.200000000000001,
          "Y": 0
         },
         {
          "X": -13.100000000000001,
          "Y": 0.005009967305289209
         },
         {
          "X": -13,
          "Y": 0
         },
         {
          "X": -12.9,
          "Y": 0.005429106369633846
         },
         {
          "X": -12.8,
          "Y": 0.005752281429944367
         },
         {
          "X": -12.700000000000001,
          "Y": 0
         },
         {
          "X": -12.600000000000001,
          "Y": 0.005953665306063445
         },
         {
          "X": -12.5,
          "Y": 0.006017446312588967
         },
         {
          "X": -12.4,
          "Y": 0
         },
         {
          "X": -12.3,
          "Y": 0.005940384294264232
         },
         {
          "X": -12.200000000000001,
          "Y": 0.005732181546606908
         },
         {
          "X": -12.100000000000001,
          "Y": 0
         },
         {
          "X": -12,
          "Y": 0.005413605491718831
         },
         {
          "X": -11.9,
          "Y": 0.005012900245328253
         },
         {
          "X": -11.8,
          "Y": 0
         },
         {
          "X": -11.700000000000001,
          "Y": 0.004561417551090552
         },
         {
          "X": -11.600000000000001,
          "Y": 0.004089464998123661
         },
         {
          "X": -11.5,
          "Y": 0
         },
         {
          "X": -11.4,
          "Y": 0.00362313686739169
         },
         {
          "X": -11.3,
          "Y": 0.003182496379494974
         },
         {
          "X": -11.200000000000001,
          "Y": 0
         },
         {
          "X": -11.100000000000001,
          "Y": 0.0027810828451118427
         },
         {
          "X": -11,
          "Y": 0.0024264431601303906
         },
         {
          "X": -10.9,
          "Y": 0
         },
         {
          "X": -10.8,
          "Y": 0.0021212756920568595
         },
         {
          "X": -10.700000000000001,
          "Y": 0
         },
         {
          "X": -10.600000000000001,
          "Y": 0.0018648000123744756
         },
         {
          "X": -10.5,
          "Y": 0.0016540694218177816
         },
         {
          "X": -10.4,
          "Y": 0
         },
         {
          "X": -10.3,
          "Y": 0.0014850666765360019
         },
         {
          "X": -10.200000000000001,
          "Y": 0.0013535280645435388
         },
         {
          "X": -10.100000000000001,
          "Y": 0
         },
         {
          "X": -10,
          "Y": 0.0012555110061351724
         },
         {
          "X": -9.9,
          "Y": 0.0011877562727703834
         },
         {
          "X": -9.8,
          "Y": 0
         },
         {
          "X": -9.700000000000001,
          "Y": 0.001147906473887453
         },
         {
          "X": -9.600000000000001,
          "Y": 0.0011346378543831768
         },
         {
          "X": -9.5,
          "Y": 0
         },
         {
          "X": -9.4,
          "Y": 0.001147750755339695
         },
         {
          "X": -9.3,
          "Y": 0.0011882501735408166
         },
         {
          "X": -9.200000000000001,
          "Y": 0
         },
         {
          "X": -9.1,
          "Y": 0.0012584336498282214
         },
         {
          "X": -9,
          "Y": 0.00136198905895988
         },
         {
          "X": -8.9,
          "Y": 0
         },
         {
          "X": -8.8,
          "Y": 0.0015040883772681308
         },
         {
          "X": -8.700000000000001,
          "Y": 0.0016914434285901121
         },
         {
          "X": -8.6,
          "Y": 0
         },
         {
          "X": -8.5,
          "Y": 0.0019322648854741822
         },
         {
          "X": -8.4,
          "Y": 0
         },
         {
          "X": -8.3,
          "Y": 0.002236037444414715
         },
         {
          "X": -8.200000000000001,
          "Y": 0.002612997065618441
         },
         {
          "X": -8.1,
          "Y": 0
         },
         {
          "X": -8,
          "Y": 0.003073181354569292
         },
         {
          "X": -7.9,
          "Y": 0.003624939290830119
         },
         {
          "X": -7.800000000000001,
          "Y": 0
         },
         {
          "X": -7.7,
          "Y": 0.004272853956866561
         },
         {
          "X": -7.6000000000000005,
          "Y": 0.005015170968237787
         },
         {
          "X": -7.5,
          "Y": 0
         },
         {
          "X": -7.4,
          "Y": 0.005841037743875682
         },
         {
          "X": -7.300000000000001,
          "Y": 0.0067281109272287545
         },
         {
          "X": -7.2,
          "Y": 0
         },
         {
          "X": -7.1000000000000005,
          "Y": 0.007641300256573751
         },
         {
          "X": -7,
          "Y": 0.008533467933319785
         },
         {
          "X": -6.9,
          "Y": 0
         },
         {
          "X": -6.800000000000001,
          "Y": 0.009348677639421031
         },
         {
          "X": -6.7,
          "Y": 0.010028044267644585
         },
         {
          "X": -6.6000000000000005,
          "Y": 0
         },
         {
          "X": -6.5,
          "Y": 0.010517469503292456
         },
         {
          "X": -6.4,
          "Y": 0.010775804195815735
         },
         {
          "X": -6.300000000000001,
          "Y": 0
         },
         {
          "X": -6.2,
          "Y": 0.010781572042988954
         },
         {
          "X": -6.1000000000000005,
          "Y": 0
         },
         {
          "X": -6,
          "Y": 0.01053655811755493
         },
         {
          "X": -5.9,
          "Y": 0.010065325178841346
         },
         {
          "X": -5.800000000000001,
          "Y": 0
         },
         {
          "X": -5.7,
          "Y": 0.009410820878581316
         },
         {
          "X": -5.6000000000000005,
          "Y": 0.008627269450974492
         },
         {
          "X": -5.5,
          "Y": 0
         },
         {
          "X": -5.4,
          "Y": 0.007772128772908579
         },
         {
          "X": -5.300000000000001,
          "Y": 0.006898875367178013
         },
         {
          "X": -5.2,
          "Y": 0
         },
         {
          "X": -5.1000000000000005,
          "Y": 0.006051855421235255
         },
         {
          "X": -5,
          "Y": 0.005263683779545635
         },
         {
          "X": -4.9,
          "Y": 0
         },
         {
          "X": -4.800000000000001,
          "Y": 0.004554981264913133
         },
         {
          "X": -4.7,
          "Y": 0.003935805483336923
         },
         {
          "X": -4.6000000000000005,
          "Y": 0
         },
         {
          "X": -4.5,
          "Y": 0.0034079960551787677
         },
         {
          "X": -4.4,
          "Y": 0.002967753044932618
         },
         {
          "X": -4.3,
          "Y": 0
         },
         {
          "X": -4.2,
          "Y": 0.0026079822422704563
         },
         {
          "X": -4.1000000000000005,
          "Y": 0
         },
         {
          "X": -4,
          "Y": 0.0023201700810518205
         },
         {
          "X": -3.9000000000000004,
          "Y": 0.0020957322192641206
         },
         {
          "X": -3.8000000000000003,
          "Y": 0
         },
         {
          "X": -3.7,
          "Y": 0.0019268924639906837
         },
         {
          "X": -3.6,
          "Y": 0.0018071998276895224
         },
         {
          "X": -3.5,
          "Y": 0
         },
         {
          "X": -3.4000000000000004,
          "Y": 0.0017317998237324009
         },
         {
          "X": -3.3000000000000003,
          "Y": 0.0016975608408589555
         },
         {
          "X": -3.2,
          "Y": 0
         },
         {
          "X": -3.1,
          "Y": 0.0017031317296692908
         },
         {
          "X": -3,
          "Y": 0.001748980593888839
         },
         {
          "X": -2.9000000000000004,
          "Y": 0
         },
         {
          "X": -2.8000000000000003,
          "Y": 0.0018374401513802645
         },
         {
          "X": -2.7,
          "Y": 0.0019727615305498536
         },
         {
          "X": -2.6,
          "Y": 0
         },
         {
          "X": -2.5,
          "Y": 0.002161153921626808
         },
         {
          "X": -2.4000000000000004,
          "Y": 0.002410759810361162
         },
         {
          "X": -2.3000000000000003,
          "Y": 0
         },
         {
          "X": -2.2,
          "Y": 0.00273148361079767
         },
         {
          "X": -2.1,
          "Y": 0
         },
         {
          "X": -2,
          "Y": 0.003134557664074396
         },
         {
          "X": -1.9000000000000001,
          "Y": 0.0036317016381808166
         },
         {
          "X": -1.8,
          "Y": 0
         },
         {
          "X": -1.7000000000000002,
          "Y": 0.004233724850104972
         },
         {
          "X": -1.6,
          "Y": 0.0049484592108053555
         },
         {
          "X": -1.5,
          "Y": 0
         },
         {
          "X": -1.4000000000000001,
          "Y": 0.005778019902262647
         },
         {
          "X": -1.3,
          "Y": 0.006715589496673224
         },
         {
          "X": -1.2000000000000002,
          "Y": 0
         },
         {
          "X": -1.1,
          "Y": 0.007742199105428651
         },
         {
          "X": -1,
          "Y": 0.008824278705883445
         },
         {
          "X": -0.9,
          "Y": 0
         },
         {
          "X": -0.8,
          "Y": 0.00991295251426776
         },
         {
          "X": -0.7000000000000001,
          "Y": 0.01094601424605473
         },
         {
          "X": -0.6000000000000001,
          "Y": 0
         },
         {
          "X": -0.5,
          "Y": 0.011853110223874705
         },
         {
          "X": -0.4,
          "Y": 0.012563881609900492
         },
         {
          "X": -0.30000000000000004,
          "Y": 0
         },
         {
          "X": -0.2,
          "Y": 0.013017849545896219
         },
         {
          "X": -0.1,
          "Y": 0
         },
         {
          "X": 0,
          "Y": 0.013174013056315293
         },
         {
          "X": 0.1,
          "Y": 0.013017849545896219
         },
         {
          "X": 0.2,
          "Y": 0
         },
         {
          "X": 0.30000000000000004,
          "Y": 0.012563881609900492
         },
         {
          "X": 0.4,
          "Y": 0.011853110223874712
         },
         {
          "X": 0.5,
          "Y": 0
         },
         {
          "X": 0.6000000000000001,
          "Y": 0.01094601424605473
         },
         {
          "X": 0.7000000000000001,
          "Y": 0.00991295251426776
         },
         {
          "X": 0.8,
          "Y": 0
         },
         {
          "X": 0.9,
          "Y": 0.008824278705883445
         },
         {
          "X": 1,
          "Y": 0.007742199105428651
         },
         {
          "X": 1.1,
          "Y": 0
         },
         {
          "X": 1.2000000000000002,
          "Y": 0.006715589496673224
         },
         {
          "X": 1.3,
          "Y": 0.005778019902262657
         },
         {
          "X": 1.4000000000000001,
          "Y": 0
         },
         {
          "X": 1.5,
          "Y": 0.0049484592108053555
         },
         {
          "X": 1.6,
          "Y": 0.004233724850104972
         },
         {
          "X": 1.7000000000000002,
          "Y": 0
         },
         {
          "X": 1.8,
          "Y": 0.0036317016381808166
         },
         {
          "X": 1.9000000000000001,
          "Y": 0.003134557664074396
         },
         {
          "X": 2,
          "Y": 0
         },
         {
          "X": 2.1,
          "Y": 0.0027314836107976688
         },
         {
          "X": 2.2,
          "Y": 0
         },
         {
          "X": 2.3000000000000003,
          "Y": 0.002410759810361159
         },
         {
          "X": 2.4000000000000004,
          "Y": 0.002161153921626807
         },
         {
          "X": 2.5,
          "Y": 0
         },
         {
          "X": 2.6,
          "Y": 0.0019727615305498566
         },
         {
          "X": 2.7,
          "Y": 0.0018374401513802645
         },
         {
          "X": 2.8000000000000003,
          "Y": 0
         },
         {
          "X": 2.9000000000000004,
          "Y": 0.0017489805938888383
         },
         {
          "X": 3,
          "Y": 0.0017031317296692908
         },
         {
          "X": 3.1,
          "Y": 0
         },
         {
          "X": 3.2,
          "Y": 0.0016975608408589555
         },
         {
          "X": 3.3000000000000003,
          "Y": 0.0017317998237324009
         },
         {
          "X": 3.4000000000000004,
          "Y": 0
         },
         {
          "X": 3.5,
          "Y": 0.0018071998276895224
         },
         {
          "X": 3.6,
          "Y": 0.0019268924639906837
         },
         {
          "X": 3.7,
          "Y": 0
         },
         {
          "X": 3.8000000000000003,
          "Y": 0.0020957322192641206
         },
         {
          "X": 3.9000000000000004,
          "Y": 0.0023201700810518205
         },
         {
          "X": 4,
          "Y": 0
         },
         {
          "X": 4.1000000000000005,
          "Y": 0.0026079822422704563
         },
         {
          "X": 4.2,
          "Y": 0
         },
         {
          "X": 4.3,
          "Y": 0.002967753044932618
         },
         {
          "X": 4.4,
          "Y": 0.0034079960551787677
         },
         {
          "X": 4.5,
          "Y": 0
         },
         {
          "X": 4.6000000000000005,
          "Y": 0.003935805483336923
         },
         {
          "X": 4.7,
          "Y": 0.004554981264913133
         },
         {
          "X": 4.800000000000001,
          "Y": 0
         },
         {
          "X": 4.9,
          "Y": 0.005263683779545635
         },
         {
          "X": 5,
          "Y": 0.006051855421235255
         },
         {
          "X": 5.1000000000000005,
          "Y": 0
         },
         {
          "X": 5.2,
          "Y": 0.006898875367178013
         },
         {
          "X": 5.300000000000001,
          "Y": 0.007772128772908579
         },
         {
          "X": 5.4,
          "Y": 0
         },
         {
          "X": 5.5,
          "Y": 0.008627269450974492
         },
         {
          "X": 5.6000000000000005,
          "Y": 0.009410820878581305
         },
         {
          "X": 5.7,
          "Y": 0
         },
         {
          "X": 5.800000000000001,
          "Y": 0.010065325178841346
         },
         {
          "X": 5.9,
          "Y": 0.01053655811755493
         },
         {
          "X": 6,
          "Y": 0
         },
         {
          "X": 6.1000000000000005,
          "Y": 0.010781572042988954
         },
         {
          "X": 6.2,
          "Y": 0
         },
         {
          "X": 6.300000000000001,
          "Y": 0.010775804195815735
         },
         {
          "X": 6.4,
          "Y": 0.010517469503292461
         },
         {
          "X": 6.5,
          "Y": 0
         },
         {
          "X": 6.6000000000000005,
          "Y": 0.010028044267644585
         },
         {
          "X": 6.7,
          "Y": 0.009348677639421028
         },
         {
          "X": 6.800000000000001,
          "Y": 0
         },
         {
          "X": 6.9,
          "Y": 0.008533467933319785
         },
         {
          "X": 7,
          "Y": 0.007641300256573751
         },
         {
          "X": 7.1000000000000005,
          "Y": 0
         },
         {
          "X": 7.2,
          "Y": 0.0067281109272287545
         },
         {
          "X": 7.300000000000001,
          "Y": 0.005841037743875682
         },
         {
          "X": 7.4,
          "Y": 0
         },
         {
          "X": 7.5,
          "Y": 0.005015170968237787
         },
         {
          "X": 7.6000000000000005,
          "Y": 0.004272853956866565
         },
         {
          "X": 7.7,
          "Y": 0
         },
         {
          "X": 7.800000000000001,
          "Y": 0.003624939290830119
         },
         {
          "X": 7.9,
          "Y": 0.003073181354569292
         },
         {
          "X": 8,
          "Y": 0
         },
         {
          "X": 8.1,
          "Y": 0.0026129970656184453
         },
         {
          "X": 8.200000000000001,
          "Y": 0.002236037444414715
         },
         {
          "X": 8.3,
          "Y": 0
         },
         {
          "X": 8.4,
          "Y": 0.0019322648854741822
         },
         {
          "X": 8.5,
          "Y": 0
         },
         {
          "X": 8.6,
          "Y": 0.0016914434285901121
         },
         {
          "X": 8.700000000000001,
          "Y": 0.0015040883772681293
         },
         {
          "X": 8.8,
          "Y": 0
         },
         {
          "X": 8.9,
          "Y": 0.0013619890589598776
         },
         {
          "X": 9,
          "Y": 0.0012584336498282214
         },
         {
          "X": 9.1,
          "Y": 0
         },
         {
          "X": 9.200000000000001,
          "Y": 0.0011882501735408166
         },
         {
          "X": 9.3,
          "Y": 0.001147750755339695
         },
         {
          "X": 9.4,
          "Y": 0
         },
         {
          "X": 9.5,
          "Y": 0.0011346378543831766
         },
         {
          "X": 9.600000000000001,
          "Y": 0.0011479064738874536
         },
         {
          "X": 9.700000000000001,
          "Y": 0
         },
         {
          "X": 9.8,
          "Y": 0.0011877562727703834
         },
         {
          "X": 9.9,
          "Y": 0.001255511006135171
         },
         {
          "X": 10,
          "Y": 0
         },
         {
          "X": 10.100000000000001,
          "Y": 0.0013535280645435388
         },
         {
          "X": 10.200000000000001,
          "Y": 0.0014850666765359997
         },
         {
          "X": 10.3,
          "Y": 0
         },
         {
          "X": 10.4,
          "Y": 0.0016540694218177888
         },
         {
          "X": 10.5,
          "Y": 0.0018648000123744756
         },
         {
          "X": 10.600000000000001,
          "Y": 0
         },
         {
          "X": 10.700000000000001,
          "Y": 0.0021212756920568595
         },
         {
          "X": 10.8,
          "Y": 0
         },
         {
          "X": 10.9,
          "Y": 0.0024264431601303906
         },
         {
          "X": 11,
          "Y": 0.0027810828451118328
         },
         {
          "X": 11.100000000000001,
          "Y": 0
         },
         {
          "X": 11.200000000000001,
          "Y": 0.003182496379494974
         },
         {
          "X": 11.3,
          "Y": 0.0036231368673916844
         },
         {
          "X": 11.4,
          "Y": 0
         },
         {
          "X": 11.5,
          "Y": 0.004089464998123667
         },
         {
          "X": 11.600000000000001,
          "Y": 0.004561417551090545
         },
         {
          "X": 11.700000000000001,
          "Y": 0
         },
         {
          "X": 11.8,
          "Y": 0.005012900245328253
         },
         {
          "X": 11.9,
          "Y": 0.005413605491718831
         },
         {
          "X": 12,
          "Y": 0
         },
         {
          "X": 12.100000000000001,
          "Y": 0.005732181546606899
         },
         {
          "X": 12.200000000000001,
          "Y": 0.005940384294264232
         },
         {
          "X": 12.3,
          "Y": 0
         },
         {
          "X": 12.4,
          "Y": 0.006017446312588967
         },
         {
          "X": 12.5,
          "Y": 0.005953665306063445
         },
         {
          "X": 12.600000000000001,
          "Y": 0
         },
         {
          "X": 12.700000000000001,
          "Y": 0.005752281429944364
         },
         {
          "X": 12.8,
          "Y": 0.005429106369633852
         },
         {
          "X": 12.9,
          "Y": 0
         },
         {
          "X": 13,
          "Y": 0.0050099673052892224
         },
         {
          "X": 13.100000000000001,
          "Y": 0
         },
         {
          "X": 13.200000000000001,
          "Y": 0.00452661566441389
         },
         {
          "X": 13.3,
          "Y": 0.004012106116885045
         },
         {
          "X": 13.4,
          "Y": 0
         },
         {
          "X": 13.5,
          "Y": 0.0034966649448084
         },
         {
          "X": 13.600000000000001,
          "Y": 0.003004778027023026
         },
         {
          "X": 13.700000000000001,
          "Y": 0
         },
         {
          "X": 13.8,
          "Y": 0.0025537884202021465
         },
         {
          "X": 13.9,
          "Y": 0.0021538785154787197
         },
         {
          "X": 14,
          "Y": 0
         },
         {
          "X": 14.100000000000001,
          "Y": 0.0018090445807295767
         },
         {
          "X": 14.200000000000001,
          "Y": 0.0015185870291939002
         },
         {
          "X": 14.3,
          "Y": 0
         },
         {
          "X": 14.4,
          "Y": 0.0012787001576731313
         },
         {
          "X": 14.5,
          "Y": 0.0010838799877914427
         },
         {
          "X": 14.600000000000001,
          "Y": 0
         },
         {
          "X": 14.700000000000001,
          "Y": 0.0009280129383938468
         },
         {
          "X": 14.8,
          "Y": 0.0008051210901373397
         },
         {
          "X": 14.9,
          "Y": 0
         },
         {
          "X": 15,
          "Y": 0.0007098083145886207
         },
         {
          "X": 15.100000000000001,
          "Y": 0
         },
         {
          "X": 15.200000000000001,
          "Y": 0.0006374803669493943
         },
         {
          "X": 15.3,
          "Y": 0.0005844138495995055
         },
         {
          "X": 15.4,
          "Y": 0
         },
         {
          "X": 15.5,
          "Y": 0.0005477366276902927
         },
         {
          "X": 15.600000000000001,
          "Y": 0.0005253652835879646
         },
         {
          "X": 15.700000000000001,
          "Y": 0
         },
         {
          "X": 15.8,
          "Y": 0.0005159289268464207
         },
         {
          "X": 15.9,
          "Y": 0.0005186952975732349
         },
         {
          "X": 16,
          "Y": 0
         },
         {
          "X": 16.1,
          "Y": 0.0005335047831996485
         },
         {
          "X": 16.2,
          "Y": 0.0005607099351321832
         },
         {
          "X": 16.3,
          "Y": 0
         },
         {
          "X": 16.400000000000002,
          "Y": 0.0006011113365011508
         },
         {
          "X": 16.5,
          "Y": 0.0006558745411511613
         },
         {
          "X": 16.6,
          "Y": 0
         },
         {
          "X": 16.7,
          "Y": 0.000726407272966482
         },
         {
          "X": 16.8,
          "Y": 0
         },
         {
          "X": 16.900000000000002,
          "Y": 0.0008141722022182559
         },
         {
          "X": 17,
          "Y": 0.0009204108174068763
         },
         {
          "X": 17.1,
          "Y": 0
         },
         {
          "X": 17.2,
          "Y": 0.0010457619300073022
         },
         {
          "X": 17.3,
          "Y": 0.0011897784691130646
         },
         {
          "X": 17.400000000000002,
          "Y": 0
         },
         {
          "X": 17.5,
          "Y": 0.0013503812612617446
         },
         {
          "X": 17.6,
          "Y": 0.0015233365030816344
         },
         {
          "X": 17.7,
          "Y": 0
         },
         {
          "X": 17.8,
          "Y": 0.0017018942662864515
         },
         {
          "X": 17.900000000000002,
          "Y": 0.0018767582502326869
         },
         {
          "X": 18,
          "Y": 0
         },
         {
          "X": 18.1,
          "Y": 0.0020365454489922915
         },
         {
          "X": 18.2,
          "Y": 0
         },
         {
          "X": 18.3,
          "Y": 0.002168816633316807
         },
         {
          "X": 18.400000000000002,
          "Y": 0.0022616139288856394
         },
         {
          "X": 18.5,
          "Y": 0
         },
         {
          "X": 18.6,
          "Y": 0.002305263703786688
         },
         {
          "X": 18.7,
          "Y": 0.002294056566030617
         },
         {
          "X": 18.8,
          "Y": 0
         },
         {
          "X": 18.900000000000002,
          "Y": 0.0022273741829151312
         },
         {
          "X": 19,
          "Y": 0.0021099366662723574
         },
         {
          "X": 19.1,
          "Y": 0
         },
         {
          "X": 19.200000000000003,
          "Y": 0.0019510745222390542
         },
         {
          "X": 19.3,
          "Y": 0
         },
         {
          "X": 19.400000000000002,
          "Y": 0.0017632040272647215
         },
         {
          "X": 19.5,
          "Y": 0.0015598976078350345
         },
         {
          "X": 19.6,
          "Y": 0
         },
         {
          "X": 19.700000000000003,
          "Y": 0.0013540129035337185
         },
         {
          "X": 19.8,
          "Y": 0.0011562628868415216
         },
         {
          "X": 19.900000000000002,
          "Y": 0
         },
         {
          "X": 20,
          "Y": 0.0009744269454590605
         }
        ]
       },
       "encoding": {
        "x": {
         "field": "X",
         "type": "quantitative"
        },
        "y": {
         "field": "Y",
         "type": "quantitative"
        }
       },
       "height": 400,
       "mark": "bar",
       "width": 400
      },
      "image/png": "[encoded data removed]"
     },
     "metadata": {},
     "output_type": "display_data"
    }
   ],
   "source": [
    "\n",
    "model4 :: MonadInfer m => m Double\n",
    "model4 = do\n",
    "\n",
    "    x <- normal 0 10\n",
    "    factor $ Exp (cos x )\n",
    "    return x\n",
    "\n",
    "plot $ Control.Monad.Bayes.Integrator.histogram 400 0.1 model4\n",
    "\n"
   ]
  },
  {
   "cell_type": "markdown",
   "metadata": {},
   "source": [
    "We can also plot CDFs, as in:"
   ]
  },
  {
   "cell_type": "code",
   "execution_count": 80,
   "metadata": {},
   "outputs": [
    {
     "data": {
      "application/vnd.vegalite.v4+json": {
       "$schema": "https://vega.github.io/schema/vega-lite/v4.json",
       "data": {
        "values": [
         {
          "X": "-3.4000000000000004",
          "Y": 6.950317017405424e-05
         },
         {
          "X": "-3.3000000000000003",
          "Y": 0.00010164148887630666
         },
         {
          "X": "-3.2",
          "Y": 0.00014714278717500919
         },
         {
          "X": "-3.1",
          "Y": 0.0002116359331091854
         },
         {
          "X": "-3.0",
          "Y": 0.0003008830961431438
         },
         {
          "X": "-2.9000000000000004",
          "Y": 0.0004245565559178024
         },
         {
          "X": "-2.8000000000000003",
          "Y": 0.000592958914929261
         },
         {
          "X": "-2.7",
          "Y": 0.0008210921898807828
         },
         {
          "X": "-2.6",
          "Y": 0.0011295218764828085
         },
         {
          "X": "-2.5",
          "Y": 0.0015370833432355548
         },
         {
          "X": "-2.4000000000000004",
          "Y": 0.0020767346995768524
         },
         {
          "X": "-2.3000000000000003",
          "Y": 0.0027750550507635594
         },
         {
          "X": "-2.2",
          "Y": 0.003682003095772265
         },
         {
          "X": "-2.1",
          "Y": 0.004836377479561093
         },
         {
          "X": "-2.0",
          "Y": 0.0063037376968154545
         },
         {
          "X": "-1.9000000000000001",
          "Y": 0.00815563985387498
         },
         {
          "X": "-1.8",
          "Y": 0.010445470950775741
         },
         {
          "X": "-1.7000000000000002",
          "Y": 0.013287292043947026
         },
         {
          "X": "-1.6",
          "Y": 0.016729364345415422
         },
         {
          "X": "-1.5",
          "Y": 0.020920698541232886
         },
         {
          "X": "-1.4000000000000001",
          "Y": 0.025949070122595248
         },
         {
          "X": "-1.3",
          "Y": 0.0319278845185567
         },
         {
          "X": "-1.2000000000000002",
          "Y": 0.038977618089017146
         },
         {
          "X": "-1.1",
          "Y": 0.04717377520148923
         },
         {
          "X": "-1.0",
          "Y": 0.05669628899414307
         },
         {
          "X": "-0.9",
          "Y": 0.06763582816867231
         },
         {
          "X": "-0.8",
          "Y": 0.07996363197165399
         },
         {
          "X": "-0.7000000000000001",
          "Y": 0.09399792755350353
         },
         {
          "X": "-0.6000000000000001",
          "Y": 0.10961956296236852
         },
         {
          "X": "-0.5",
          "Y": 0.1270642721005723
         },
         {
          "X": "-0.4",
          "Y": 0.14594054174594856
         },
         {
          "X": "-0.30000000000000004",
          "Y": 0.1667455754322485
         },
         {
          "X": "-0.2",
          "Y": 0.18898965850078664
         },
         {
          "X": "-0.1",
          "Y": 0.21300741023510444
         },
         {
          "X": "0.0",
          "Y": 0.23837738025618643
         },
         {
          "X": "0.1",
          "Y": 0.26529176788222536
         },
         {
          "X": "0.2",
          "Y": 0.29324552125305514
         },
         {
          "X": "0.30000000000000004",
          "Y": 0.32243763790607055
         },
         {
          "X": "0.4",
          "Y": 0.3522145494355974
         },
         {
          "X": "0.5",
          "Y": 0.38302771430139804
         },
         {
          "X": "0.6000000000000001",
          "Y": 0.41380020335761064
         },
         {
          "X": "0.7000000000000001",
          "Y": 0.4453312940716577
         },
         {
          "X": "0.8",
          "Y": 0.47627118275475033
         },
         {
          "X": "0.9",
          "Y": 0.5076247482728029
         },
         {
          "X": "1.0",
          "Y": 0.5378594530580645
         },
         {
          "X": "1.1",
          "Y": 0.5681276391528831
         },
         {
          "X": "1.2000000000000002",
          "Y": 0.597067457157867
         },
         {
          "X": "1.3",
          "Y": 0.6256058513648695
         },
         {
          "X": "1.4000000000000001",
          "Y": 0.6525978918543351
         },
         {
          "X": "1.5",
          "Y": 0.6788978994261632
         },
         {
          "X": "1.6",
          "Y": 0.7035287765151896
         },
         {
          "X": "1.7000000000000002",
          "Y": 0.7270983751452831
         },
         {
          "X": "1.8",
          "Y": 0.7491904916216832
         },
         {
          "X": "1.9000000000000001",
          "Y": 0.7700751600787092
         },
         {
          "X": "2.0",
          "Y": 0.7895590499347593
         },
         {
          "X": "2.1",
          "Y": 0.8076546744364452
         },
         {
          "X": "2.2",
          "Y": 0.8244722667497988
         },
         {
          "X": "2.3000000000000003",
          "Y": 0.8399754533832623
         },
         {
          "X": "2.4000000000000004",
          "Y": 0.854374010814152
         },
         {
          "X": "2.5",
          "Y": 0.8675029404443491
         },
         {
          "X": "2.6",
          "Y": 0.8796500039536462
         },
         {
          "X": "2.7",
          "Y": 0.8906621206366212
         },
         {
          "X": "2.8000000000000003",
          "Y": 0.9008027011551201
         },
         {
          "X": "2.9000000000000004",
          "Y": 0.9099942009284938
         },
         {
          "X": "3.0",
          "Y": 0.918454890673649
         },
         {
          "X": "3.1",
          "Y": 0.9260988435620305
         },
         {
          "X": "3.2",
          "Y": 0.9330649684929808
         },
         {
          "X": "3.3000000000000003",
          "Y": 0.939388711836513
         },
         {
          "X": "3.4000000000000004",
          "Y": 0.9451029311503909
         },
         {
          "X": "3.5",
          "Y": 0.9503124607308405
         }
        ]
       },
       "encoding": {
        "x": {
         "field": "X",
         "type": "quantitative"
        },
        "y": {
         "field": "Y",
         "type": "quantitative"
        }
       },
       "height": 200,
       "mark": "bar",
       "width": 200
      },
      "image/png": "[encoded data removed]"
     },
     "metadata": {},
     "output_type": "display_data"
    }
   ],
   "source": [
    "plot $ plotCdf 70 0.1 (normal 0 1 + gamma 1 1)"
   ]
  },
  {
   "cell_type": "markdown",
   "metadata": {},
   "source": [
    "# Expressing distributions with code\n",
    "\n",
    "If you are familiar with Haskell, then it should be clear that the class of distributions you can express by writing probabilistic programs is very broad, since `m` is a monad. For example, you can use `fmap` to apply a function to the support of the distribution, like:"
   ]
  },
  {
   "cell_type": "code",
   "execution_count": 22,
   "metadata": {},
   "outputs": [],
   "source": [
    "mapped :: MonadInfer m => m Bool\n",
    "mapped = fmap (> 0) (model 0.5)"
   ]
  },
  {
   "cell_type": "markdown",
   "metadata": {},
   "source": [
    "And you can use the standard set of monadic and applicative combinators, like `when`, `filterM` or `replicateM`:"
   ]
  },
  {
   "cell_type": "code",
   "execution_count": 23,
   "metadata": {},
   "outputs": [],
   "source": [
    "lengthDist :: MonadInfer m => Double -> m Int\n",
    "lengthDist observation = do\n",
    "    means <- replicateM 3 (model observation)\n",
    "    return (length $ filter (>=1) means)"
   ]
  },
  {
   "cell_type": "markdown",
   "metadata": {},
   "source": [
    "Given an observation, this is the probability on how many (out of 3) independent draws from the posterior of the model conditioned on the observation will be greater or equal to 1. Consider the hassle of defining this with an equation, and you'll see why probabilistic programming is appealing as a way of accelerating modelling and inference."
   ]
  },
  {
   "cell_type": "code",
   "execution_count": 24,
   "metadata": {},
   "outputs": [
    {
     "data": {
      "text/plain": [
       "[(1,0.4228030765220977),(2,0.3090938161626379),(0,0.19278121201287118),(3,7.532189530239404e-2)]"
      ]
     },
     "metadata": {},
     "output_type": "display_data"
    }
   ],
   "source": [
    "enumerate $ lengthDist 0.5"
   ]
  },
  {
   "cell_type": "code",
   "execution_count": 25,
   "metadata": {},
   "outputs": [
    {
     "data": {
      "application/vnd.vegalite.v4+json": {
       "$schema": "https://vega.github.io/schema/vega-lite/v4.json",
       "data": {
        "values": [
         {
          "X": "2",
          "Y": 0.4197137519723297
         },
         {
          "X": "1",
          "Y": 0.31507728008413355
         },
         {
          "X": "3",
          "Y": 0.18636658869600853
         },
         {
          "X": "0",
          "Y": 0.07884237924752768
         }
        ]
       },
       "encoding": {
        "x": {
         "field": "X",
         "type": "nominal"
        },
        "y": {
         "field": "Y",
         "type": "quantitative"
        }
       },
       "height": 400,
       "mark": "bar",
       "width": 400
      },
      "image/png": "[encoded data removed]"
     },
     "metadata": {},
     "output_type": "display_data"
    }
   ],
   "source": [
    "plot $ fmap (first (pack . show)) $ enumerate $ lengthDist 0.99"
   ]
  },
  {
   "cell_type": "code",
   "execution_count": 26,
   "metadata": {},
   "outputs": [
    {
     "data": {
      "application/vnd.vegalite.v4+json": {
       "$schema": "https://vega.github.io/schema/vega-lite/v4.json",
       "data": {
        "values": [
         {
          "X": "1",
          "Y": 0.43338893548101054
         },
         {
          "X": "0",
          "Y": 0.38211546660576284
         },
         {
          "X": "2",
          "Y": 0.16384748050615444
         },
         {
          "X": "3",
          "Y": 0.020648117407072838
         }
        ]
       },
       "encoding": {
        "x": {
         "field": "X",
         "type": "nominal"
        },
        "y": {
         "field": "Y",
         "type": "quantitative"
        }
       },
       "height": 400,
       "mark": "bar",
       "width": 400
      },
      "image/png": "[encoded data removed]"
     },
     "metadata": {},
     "output_type": "display_data"
    }
   ],
   "source": [
    "plot $ fmap (first (pack . show)) $ enumerator $ lengthDist 0.001"
   ]
  },
  {
   "cell_type": "markdown",
   "metadata": {},
   "source": [
    "Exact sampling is pretty limited. For models with continuous random variables, or large discrete ones, it is a no-go. \n",
    "\n",
    "The broader goal is to be able to define your distribution of interest, like `model`, and then apply different inference technique, usually approximate, to it. This is what monad-bayes (and other probabilistic programming languages) enable. See the following tutorials for details."
   ]
  }
 ],
 "metadata": {
  "kernelspec": {
   "display_name": "Haskell - nixpkgs",
   "language": "haskell",
   "name": "ihaskell_nixpkgs"
  },
  "language_info": {
   "codemirror_mode": "ihaskell",
   "file_extension": ".hs",
   "mimetype": "text/x-haskell",
   "name": "haskell",
   "pygments_lexer": "Haskell",
   "version": "9.0.2"
  }
 },
 "nbformat": 4,
 "nbformat_minor": 4
}
