{
 "cells": [
  {
   "cell_type": "code",
   "execution_count": null,
   "id": "1323d9af-17b2-4e43-ba81-b5b3979b3528",
   "metadata": {},
   "outputs": [],
   "source": [
    "import Control.Monad.Bayes.Class\n",
    "import Control.Monad.Bayes.Sampler.Strict\n",
    "import Control.Monad.Bayes.Weighted\n",
    "import Control.Monad.Bayes.Enumerator\n",
    "import Control.Monad\n",
    "import Control.Arrow\n",
    "import Numeric.Log\n",
    "import qualified Data.Text as T\n",
    "\n",
    ":l ../Plotting.hs"
   ]
  },
  {
   "cell_type": "markdown",
   "id": "bb6b1d04-808f-4700-9e5b-b880f64432bc",
   "metadata": {},
   "source": [
    "# Bayesian Models\n",
    "\n",
    "Monad-Bayes exports a `Bayesian` datatype to make using Bayesian models easier. The idea is that you specify your model as a prior, generative model and a likelihood (separate from the generative model because you can't always get the density of a sample from a distribution).\n",
    "\n",
    "Once you've done that, a number of standard operations, like obtaining the posterior or the posterior predictive, are automated for you.\n",
    "\n",
    "Here's a simple example:"
   ]
  },
  {
   "cell_type": "code",
   "execution_count": 52,
   "id": "5df6eb5a-8545-43fa-83d7-bd25f74804cc",
   "metadata": {},
   "outputs": [],
   "source": [
    "model :: MonadSample m => Bayesian m Bool Double\n",
    "model = Bayesian {\n",
    "    latent = bernoulli 0.5,\n",
    "    generative = \\x -> normal (if x then 2 else (-2)) 1,\n",
    "    likelihood  = \\x y -> normalPdf (if x then 2 else (-2)) 1 y\n",
    "    }"
   ]
  },
  {
   "cell_type": "code",
   "execution_count": 54,
   "id": "07c4584c-8351-4e0b-814b-d3746b6b6962",
   "metadata": {},
   "outputs": [
    {
     "data": {
      "text/html": [
       "<style>/* Styles used for the Hoogle display in the pager */\n",
       ".hoogle-doc {\n",
       "display: block;\n",
       "padding-bottom: 1.3em;\n",
       "padding-left: 0.4em;\n",
       "}\n",
       ".hoogle-code {\n",
       "display: block;\n",
       "font-family: monospace;\n",
       "white-space: pre;\n",
       "}\n",
       ".hoogle-text {\n",
       "display: block;\n",
       "}\n",
       ".hoogle-name {\n",
       "color: green;\n",
       "font-weight: bold;\n",
       "}\n",
       ".hoogle-head {\n",
       "font-weight: bold;\n",
       "}\n",
       ".hoogle-sub {\n",
       "display: block;\n",
       "margin-left: 0.4em;\n",
       "}\n",
       ".hoogle-package {\n",
       "font-weight: bold;\n",
       "font-style: italic;\n",
       "}\n",
       ".hoogle-module {\n",
       "font-weight: bold;\n",
       "}\n",
       ".hoogle-class {\n",
       "font-weight: bold;\n",
       "}\n",
       ".get-type {\n",
       "color: green;\n",
       "font-weight: bold;\n",
       "font-family: monospace;\n",
       "display: block;\n",
       "white-space: pre-wrap;\n",
       "}\n",
       ".show-type {\n",
       "color: green;\n",
       "font-weight: bold;\n",
       "font-family: monospace;\n",
       "margin-left: 1em;\n",
       "}\n",
       ".mono {\n",
       "font-family: monospace;\n",
       "display: block;\n",
       "}\n",
       ".err-msg {\n",
       "color: red;\n",
       "font-style: italic;\n",
       "font-family: monospace;\n",
       "white-space: pre;\n",
       "display: block;\n",
       "}\n",
       "#unshowable {\n",
       "color: red;\n",
       "font-weight: bold;\n",
       "}\n",
       ".err-msg.in.collapse {\n",
       "padding-top: 0.7em;\n",
       "}\n",
       ".highlight-code {\n",
       "white-space: pre;\n",
       "font-family: monospace;\n",
       "}\n",
       ".suggestion-warning { \n",
       "font-weight: bold;\n",
       "color: rgb(200, 130, 0);\n",
       "}\n",
       ".suggestion-error { \n",
       "font-weight: bold;\n",
       "color: red;\n",
       "}\n",
       ".suggestion-name {\n",
       "font-weight: bold;\n",
       "}\n",
       "</style><div class=\"suggestion-name\" style=\"clear:both;\">Use bimap</div><div class=\"suggestion-row\" style=\"float: left;\"><div class=\"suggestion-warning\">Found:</div><div class=\"highlight-code\" id=\"haskell\">first (T.pack . show) . second (ln . exp)</div></div><div class=\"suggestion-row\" style=\"float: left;\"><div class=\"suggestion-warning\">Why Not:</div><div class=\"highlight-code\" id=\"haskell\">bimap (T.pack . show) (ln . exp)</div></div>"
      ],
      "text/plain": [
       "Line 1: Use bimap\n",
       "Found:\n",
       "first (T.pack . show) . second (ln . exp)\n",
       "Why not:\n",
       "bimap (T.pack . show) (ln . exp)"
      ]
     },
     "metadata": {},
     "output_type": "display_data"
    },
    {
     "data": {
      "application/vnd.vegalite.v4+json": {
       "$schema": "https://vega.github.io/schema/vega-lite/v4.json",
       "data": {
        "values": [
         {
          "X": "True",
          "Y": 0.5013600000000001
         },
         {
          "X": "False",
          "Y": 0.4986399999999992
         }
        ]
       },
       "encoding": {
        "x": {
         "field": "X",
         "type": "nominal"
        },
        "y": {
         "field": "Y",
         "type": "quantitative"
        }
       },
       "height": 400,
       "mark": "bar",
       "width": 400
      },
      "image/png": "[encoded data removed]"
     },
     "metadata": {},
     "output_type": "display_data"
    }
   ],
   "source": [
    "sampler $ plot . fmap (first (T.pack . show) . second (ln . exp)) . toEmpiricalWeighted <$> replicateM 100000 (weighted $ latent model)"
   ]
  },
  {
   "cell_type": "code",
   "execution_count": 46,
   "id": "c0de2347-77b2-4433-8bd0-e854791c23b8",
   "metadata": {},
   "outputs": [
    {
     "data": {
      "application/vnd.vegalite.v4+json": {
       "$schema": "https://vega.github.io/schema/vega-lite/v4.json",
       "data": {
        "values": [
         {
          "X": -6.1815303551571175,
          "Y": 2
         },
         {
          "X": -6.058429063741024,
          "Y": 1
         },
         {
          "X": -5.935327772324931,
          "Y": 1
         },
         {
          "X": -5.812226480908838,
          "Y": 0
         },
         {
          "X": -5.689125189492745,
          "Y": 3
         },
         {
          "X": -5.566023898076652,
          "Y": 5
         },
         {
          "X": -5.4429226066605585,
          "Y": 12
         },
         {
          "X": -5.319821315244465,
          "Y": 10
         },
         {
          "X": -5.196720023828371,
          "Y": 16
         },
         {
          "X": -5.073618732412278,
          "Y": 20
         },
         {
          "X": -4.950517440996185,
          "Y": 39
         },
         {
          "X": -4.827416149580092,
          "Y": 50
         },
         {
          "X": -4.704314858163999,
          "Y": 63
         },
         {
          "X": -4.5812135667479055,
          "Y": 72
         },
         {
          "X": -4.458112275331812,
          "Y": 136
         },
         {
          "X": -4.335010983915719,
          "Y": 164
         },
         {
          "X": -4.211909692499626,
          "Y": 224
         },
         {
          "X": -4.088808401083533,
          "Y": 263
         },
         {
          "X": -3.9657071096674397,
          "Y": 316
         },
         {
          "X": -3.8426058182513465,
          "Y": 445
         },
         {
          "X": -3.7195045268352533,
          "Y": 523
         },
         {
          "X": -3.59640323541916,
          "Y": 602
         },
         {
          "X": -3.473301944003067,
          "Y": 815
         },
         {
          "X": -3.350200652586974,
          "Y": 984
         },
         {
          "X": -3.2270993611708807,
          "Y": 1107
         },
         {
          "X": -3.1039980697547875,
          "Y": 1322
         },
         {
          "X": -2.9808967783386944,
          "Y": 1563
         },
         {
          "X": -2.8577954869226008,
          "Y": 1755
         },
         {
          "X": -2.7346941955065076,
          "Y": 1890
         },
         {
          "X": -2.6115929040904144,
          "Y": 2126
         },
         {
          "X": -2.4884916126743213,
          "Y": 2236
         },
         {
          "X": -2.365390321258228,
          "Y": 2301
         },
         {
          "X": -2.2422890298421345,
          "Y": 2376
         },
         {
          "X": -2.1191877384260414,
          "Y": 2504
         },
         {
          "X": -1.9960864470099482,
          "Y": 2502
         },
         {
          "X": -1.872985155593855,
          "Y": 2370
         },
         {
          "X": -1.7498838641777619,
          "Y": 2385
         },
         {
          "X": -1.6267825727616687,
          "Y": 2275
         },
         {
          "X": -1.5036812813455755,
          "Y": 2199
         },
         {
          "X": -1.3805799899294824,
          "Y": 2025
         },
         {
          "X": -1.2574786985133892,
          "Y": 1829
         },
         {
          "X": -1.134377407097296,
          "Y": 1767
         },
         {
          "X": -1.011276115681203,
          "Y": 1550
         },
         {
          "X": -0.8881748242651097,
          "Y": 1370
         },
         {
          "X": -0.7650735328490166,
          "Y": 1216
         },
         {
          "X": -0.6419722414329234,
          "Y": 1104
         },
         {
          "X": -0.5188709500168303,
          "Y": 943
         },
         {
          "X": -0.3957696586007371,
          "Y": 784
         },
         {
          "X": -0.27266836718464393,
          "Y": 703
         },
         {
          "X": -0.14956707576855077,
          "Y": 683
         },
         {
          "X": -0.02646578435245761,
          "Y": 680
         },
         {
          "X": 0.09663550706363555,
          "Y": 636
         },
         {
          "X": 0.2197367984797287,
          "Y": 675
         },
         {
          "X": 0.3428380898958219,
          "Y": 787
         },
         {
          "X": 0.4659393813119159,
          "Y": 912
         },
         {
          "X": 0.5890406727280091,
          "Y": 1011
         },
         {
          "X": 0.7121419641441022,
          "Y": 1136
         },
         {
          "X": 0.8352432555601954,
          "Y": 1352
         },
         {
          "X": 0.9583445469762886,
          "Y": 1441
         },
         {
          "X": 1.0814458383923817,
          "Y": 1555
         },
         {
          "X": 1.204547129808475,
          "Y": 1730
         },
         {
          "X": 1.327648421224568,
          "Y": 2033
         },
         {
          "X": 1.4507497126406612,
          "Y": 2090
         },
         {
          "X": 1.5738510040567544,
          "Y": 2172
         },
         {
          "X": 1.6969522954728475,
          "Y": 2303
         },
         {
          "X": 1.8200535868889425,
          "Y": 2428
         },
         {
          "X": 1.9431548783050356,
          "Y": 2543
         },
         {
          "X": 2.066256169721129,
          "Y": 2521
         },
         {
          "X": 2.189357461137222,
          "Y": 2392
         },
         {
          "X": 2.312458752553315,
          "Y": 2263
         },
         {
          "X": 2.4355600439694083,
          "Y": 2212
         },
         {
          "X": 2.5586613353855014,
          "Y": 2069
         },
         {
          "X": 2.6817626268015946,
          "Y": 1916
         },
         {
          "X": 2.8048639182176878,
          "Y": 1827
         },
         {
          "X": 2.927965209633781,
          "Y": 1594
         },
         {
          "X": 3.051066501049874,
          "Y": 1432
         },
         {
          "X": 3.1741677924659673,
          "Y": 1213
         },
         {
          "X": 3.2972690838820604,
          "Y": 1095
         },
         {
          "X": 3.4203703752981536,
          "Y": 896
         },
         {
          "X": 3.5434716667142467,
          "Y": 749
         },
         {
          "X": 3.66657295813034,
          "Y": 635
         },
         {
          "X": 3.789674249546433,
          "Y": 475
         },
         {
          "X": 3.912775540962526,
          "Y": 385
         },
         {
          "X": 4.035876832378619,
          "Y": 308
         },
         {
          "X": 4.1589781237947125,
          "Y": 226
         },
         {
          "X": 4.282079415210806,
          "Y": 178
         },
         {
          "X": 4.405180706626899,
          "Y": 132
         },
         {
          "X": 4.528281998042992,
          "Y": 110
         },
         {
          "X": 4.651383289459085,
          "Y": 76
         },
         {
          "X": 4.774484580875178,
          "Y": 52
         },
         {
          "X": 4.8975858722912715,
          "Y": 45
         },
         {
          "X": 5.020687163707365,
          "Y": 20
         },
         {
          "X": 5.143788455123458,
          "Y": 13
         },
         {
          "X": 5.266889746539551,
          "Y": 10
         },
         {
          "X": 5.389991037955644,
          "Y": 8
         },
         {
          "X": 5.513092329371737,
          "Y": 5
         },
         {
          "X": 5.6361936207878305,
          "Y": 2
         },
         {
          "X": 5.759294912203924,
          "Y": 5
         },
         {
          "X": 5.882396203620017,
          "Y": 0
         },
         {
          "X": 6.00549749503611,
          "Y": 0
         }
        ]
       },
       "encoding": {
        "x": {
         "field": "X",
         "type": "quantitative"
        },
        "y": {
         "field": "Y",
         "type": "quantitative"
        }
       },
       "height": 400,
       "mark": "bar",
       "width": 400
      },
      "image/png": "[encoded data removed]"
     },
     "metadata": {},
     "output_type": "display_data"
    }
   ],
   "source": [
    "sampler $ plot . histogramToList . histogram 100 <$> replicateM 100000 (weighted $ priorPredictive model)"
   ]
  },
  {
   "cell_type": "code",
   "execution_count": 55,
   "id": "064ba891-8d4c-4a2f-9aa3-530c64cce610",
   "metadata": {},
   "outputs": [
    {
     "data": {
      "text/html": [
       "<style>/* Styles used for the Hoogle display in the pager */\n",
       ".hoogle-doc {\n",
       "display: block;\n",
       "padding-bottom: 1.3em;\n",
       "padding-left: 0.4em;\n",
       "}\n",
       ".hoogle-code {\n",
       "display: block;\n",
       "font-family: monospace;\n",
       "white-space: pre;\n",
       "}\n",
       ".hoogle-text {\n",
       "display: block;\n",
       "}\n",
       ".hoogle-name {\n",
       "color: green;\n",
       "font-weight: bold;\n",
       "}\n",
       ".hoogle-head {\n",
       "font-weight: bold;\n",
       "}\n",
       ".hoogle-sub {\n",
       "display: block;\n",
       "margin-left: 0.4em;\n",
       "}\n",
       ".hoogle-package {\n",
       "font-weight: bold;\n",
       "font-style: italic;\n",
       "}\n",
       ".hoogle-module {\n",
       "font-weight: bold;\n",
       "}\n",
       ".hoogle-class {\n",
       "font-weight: bold;\n",
       "}\n",
       ".get-type {\n",
       "color: green;\n",
       "font-weight: bold;\n",
       "font-family: monospace;\n",
       "display: block;\n",
       "white-space: pre-wrap;\n",
       "}\n",
       ".show-type {\n",
       "color: green;\n",
       "font-weight: bold;\n",
       "font-family: monospace;\n",
       "margin-left: 1em;\n",
       "}\n",
       ".mono {\n",
       "font-family: monospace;\n",
       "display: block;\n",
       "}\n",
       ".err-msg {\n",
       "color: red;\n",
       "font-style: italic;\n",
       "font-family: monospace;\n",
       "white-space: pre;\n",
       "display: block;\n",
       "}\n",
       "#unshowable {\n",
       "color: red;\n",
       "font-weight: bold;\n",
       "}\n",
       ".err-msg.in.collapse {\n",
       "padding-top: 0.7em;\n",
       "}\n",
       ".highlight-code {\n",
       "white-space: pre;\n",
       "font-family: monospace;\n",
       "}\n",
       ".suggestion-warning { \n",
       "font-weight: bold;\n",
       "color: rgb(200, 130, 0);\n",
       "}\n",
       ".suggestion-error { \n",
       "font-weight: bold;\n",
       "color: red;\n",
       "}\n",
       ".suggestion-name {\n",
       "font-weight: bold;\n",
       "}\n",
       "</style><div class=\"suggestion-name\" style=\"clear:both;\">Use bimap</div><div class=\"suggestion-row\" style=\"float: left;\"><div class=\"suggestion-warning\">Found:</div><div class=\"highlight-code\" id=\"haskell\">first (T.pack . show) . second (ln . exp)</div></div><div class=\"suggestion-row\" style=\"float: left;\"><div class=\"suggestion-warning\">Why Not:</div><div class=\"highlight-code\" id=\"haskell\">bimap (T.pack . show) (ln . exp)</div></div>"
      ],
      "text/plain": [
       "Line 1: Use bimap\n",
       "Found:\n",
       "first (T.pack . show) . second (ln . exp)\n",
       "Why not:\n",
       "bimap (T.pack . show) (ln . exp)"
      ]
     },
     "metadata": {},
     "output_type": "display_data"
    },
    {
     "data": {
      "application/vnd.vegalite.v4+json": {
       "$schema": "https://vega.github.io/schema/vega-lite/v4.json",
       "data": {
        "values": [
         {
          "X": "True",
          "Y": 0.6888010343620087
         },
         {
          "X": "False",
          "Y": 0.3111989656379913
         }
        ]
       },
       "encoding": {
        "x": {
         "field": "X",
         "type": "nominal"
        },
        "y": {
         "field": "Y",
         "type": "quantitative"
        }
       },
       "height": 400,
       "mark": "bar",
       "width": 400
      },
      "image/png": "[encoded data removed]"
     },
     "metadata": {},
     "output_type": "display_data"
    }
   ],
   "source": [
    "sampler $ plot . fmap (first (T.pack . show) . second (ln . exp)) . toEmpiricalWeighted <$> replicateM 100000 \n",
    "    (weighted $ posterior model [0.1, 0.1])"
   ]
  },
  {
   "cell_type": "code",
   "execution_count": 48,
   "id": "3021a681-2370-4157-b5c7-fc9bbe2f7849",
   "metadata": {},
   "outputs": [
    {
     "data": {
      "application/vnd.vegalite.v4+json": {
       "$schema": "https://vega.github.io/schema/vega-lite/v4.json",
       "data": {
        "values": [
         {
          "X": -6.2416908051533975,
          "Y": 0.0019345567153694512
         },
         {
          "X": -6.114033965119486,
          "Y": 0
         },
         {
          "X": -5.986377125085575,
          "Y": 0.0019345567153694512
         },
         {
          "X": -5.858720285051663,
          "Y": 0
         },
         {
          "X": -5.731063445017751,
          "Y": 0.009672783576847256
         },
         {
          "X": -5.6034066049838405,
          "Y": 0.007738226861477805
         },
         {
          "X": -5.475749764949929,
          "Y": 0.005803670146108353
         },
         {
          "X": -5.348092924916018,
          "Y": 0.021280123869063965
         },
         {
          "X": -5.220436084882106,
          "Y": 0.023214680584433416
         },
         {
          "X": -5.092779244848195,
          "Y": 0.025149237299802868
         },
         {
          "X": -4.9651224048142835,
          "Y": 0.05029847459960571
         },
         {
          "X": -4.837465564780372,
          "Y": 0.09866239248384191
         },
         {
          "X": -4.709808724746461,
          "Y": 0.15863365066029506
         },
         {
          "X": -4.58215188471255,
          "Y": 0.15863365066029506
         },
         {
          "X": -4.454495044678638,
          "Y": 0.26116515657487654
         },
         {
          "X": -4.3268382046447265,
          "Y": 0.313398187889852
         },
         {
          "X": -4.199181364610816,
          "Y": 0.43334070424275867
         },
         {
          "X": -4.071524524576904,
          "Y": 0.514592086288276
         },
         {
          "X": -3.9438676845429925,
          "Y": 0.7273933249789168
         },
         {
          "X": -3.816210844509081,
          "Y": 0.8976343159314295
         },
         {
          "X": -3.68855400447517,
          "Y": 1.1413884620679817
         },
         {
          "X": -3.560897164441258,
          "Y": 1.3948153917813813
         },
         {
          "X": -3.433240324407347,
          "Y": 1.737231930401776
         },
         {
          "X": -3.3055834843734355,
          "Y": 1.992593416830545
         },
         {
          "X": -3.177926644339524,
          "Y": 2.540072967280041
         },
         {
          "X": -3.050269804305613,
          "Y": 2.8128454641471037
         },
         {
          "X": -2.9226129642717016,
          "Y": 3.1997568072209517
         },
         {
          "X": -2.7949561242377903,
          "Y": 3.6079482741638613
         },
         {
          "X": -2.6672992842038785,
          "Y": 4.054830875414156
         },
         {
          "X": -2.539642444169967,
          "Y": 4.205726299212957
         },
         {
          "X": -2.411985604136056,
          "Y": 4.6293942198788205
         },
         {
          "X": -2.2843287641021446,
          "Y": 4.894428489884406
         },
         {
          "X": -2.1566719240682337,
          "Y": 4.675823581047682
         },
         {
          "X": -2.029015084034322,
          "Y": 4.962574296640136
         },
         {
          "X": -1.901358244000411,
          "Y": 4.85960646900776
         },
         {
          "X": -1.7737014039664993,
          "Y": 4.913774057038099
         },
         {
          "X": -1.6460445639325885,
          "Y": 4.722499994090205
         },
         {
          "X": -1.5183877238986767,
          "Y": 4.353435983172485
         },
         {
          "X": -1.3907308838647658,
          "Y": 4.210715107952968
         },
         {
          "X": -1.263074043830854,
          "Y": 3.8971854322485227
         },
         {
          "X": -1.1354172037969432,
          "Y": 3.508528802303448
         },
         {
          "X": -1.0077603637630315,
          "Y": 3.0058488902106215
         },
         {
          "X": -0.8801035237291197,
          "Y": 2.9418770307888065
         },
         {
          "X": -0.7524466836952088,
          "Y": 2.4604772425650325
         },
         {
          "X": -0.6247898436612971,
          "Y": 2.2461040630917344
         },
         {
          "X": -0.4971330036273862,
          "Y": 2.0171848553606
         },
         {
          "X": -0.36947616359347446,
          "Y": 1.9325425398760563
         },
         {
          "X": -0.2418193235595636,
          "Y": 1.9850485575829913
         },
         {
          "X": -0.11416248352565184,
          "Y": 1.9799123372727407
         },
         {
          "X": 0.01349435650825992,
          "Y": 2.342919713177812
         },
         {
          "X": 0.1411511965421708,
          "Y": 2.5622339301243247
         },
         {
          "X": 0.26880803657608254,
          "Y": 2.848500552732188
         },
         {
          "X": 0.3964648766099934,
          "Y": 3.428467190906219
         },
         {
          "X": 0.5241217166439052,
          "Y": 3.7153016230465252
         },
         {
          "X": 0.651778556677816,
          "Y": 4.395865210419729
         },
         {
          "X": 0.7794353967117278,
          "Y": 5.209213913806315
         },
         {
          "X": 0.9070922367456395,
          "Y": 6.1925984145456425
         },
         {
          "X": 1.0347490767795504,
          "Y": 6.736639260289304
         },
         {
          "X": 1.1624059168134622,
          "Y": 7.8735211913786625
         },
         {
          "X": 1.290062756847373,
          "Y": 8.41731498524875
         },
         {
          "X": 1.4177195968812848,
          "Y": 9.476452031790869
         },
         {
          "X": 1.5453764369151957,
          "Y": 9.294561842272213
         },
         {
          "X": 1.6730332769491074,
          "Y": 10.560796097662308
         },
         {
          "X": 1.8006901169830192,
          "Y": 11.11619723182464
         },
         {
          "X": 1.92834695701693,
          "Y": 11.000386804531724
         },
         {
          "X": 2.056003797050841,
          "Y": 10.296229996885682
         },
         {
          "X": 2.1836606370847536,
          "Y": 10.774133298374199
         },
         {
          "X": 2.3113174771186644,
          "Y": 10.389015013438305
         },
         {
          "X": 2.4389743171525753,
          "Y": 10.358876967398489
         },
         {
          "X": 2.566631157186486,
          "Y": 9.717367130265254
         },
         {
          "X": 2.694287997220399,
          "Y": 8.43004202085024
         },
         {
          "X": 2.8219448372543097,
          "Y": 7.732561526785973
         },
         {
          "X": 2.9496016772882205,
          "Y": 6.996332116384895
         },
         {
          "X": 3.077258517322133,
          "Y": 6.277324446577995
         },
         {
          "X": 3.204915357356044,
          "Y": 5.407626546572044
         },
         {
          "X": 3.332572197389955,
          "Y": 4.5852884332000805
         },
         {
          "X": 3.460229037423866,
          "Y": 3.7672557549766372
         },
         {
          "X": 3.5878858774577784,
          "Y": 3.186022009923095
         },
         {
          "X": 3.7155427174916893,
          "Y": 2.3722947668481362
         },
         {
          "X": 3.8431995575256,
          "Y": 1.9891110386276531
         },
         {
          "X": 3.970856397559511,
          "Y": 1.5198186074362747
         },
         {
          "X": 4.098513237593424,
          "Y": 1.2571870633750446
         },
         {
          "X": 4.2261700776273345,
          "Y": 0.9385848623827342
         },
         {
          "X": 4.353826917661245,
          "Y": 0.6587315777273323
         },
         {
          "X": 4.481483757695158,
          "Y": 0.47359786633991247
         },
         {
          "X": 4.609140597729069,
          "Y": 0.37887829307193027
         },
         {
          "X": 4.73679743776298,
          "Y": 0.3056858955466713
         },
         {
          "X": 4.864454277796891,
          "Y": 0.16360653564469746
         },
         {
          "X": 4.992111117830803,
          "Y": 0.1248576193077954
         },
         {
          "X": 5.119767957864714,
          "Y": 0.06888696237671466
         },
         {
          "X": 5.247424797898625,
          "Y": 0.07319239752525933
         },
         {
          "X": 5.375081637932538,
          "Y": 0.03444348118835733
         },
         {
          "X": 5.5027384779664485,
          "Y": 0.038748916336901994
         },
         {
          "X": 5.630395318000359,
          "Y": 0.017221740594178664
         },
         {
          "X": 5.75805215803427,
          "Y": 0
         },
         {
          "X": 5.885708998068183,
          "Y": 0.008610870297089332
         },
         {
          "X": 6.013365838102094,
          "Y": 0.004305435148544666
         },
         {
          "X": 6.141022678136005,
          "Y": 0
         },
         {
          "X": 6.268679518169917,
          "Y": 0
         },
         {
          "X": 6.396336358203828,
          "Y": 0
         }
        ]
       },
       "encoding": {
        "x": {
         "field": "X",
         "type": "quantitative"
        },
        "y": {
         "field": "Y",
         "type": "quantitative"
        }
       },
       "height": 400,
       "mark": "bar",
       "width": 400
      },
      "image/png": "[encoded data removed]"
     },
     "metadata": {},
     "output_type": "display_data"
    }
   ],
   "source": [
    "sampler $ plot . histogramToList . histogram 100 <$> replicateM 100000 (weighted $ posteriorPredictive model [0.1,0.1])"
   ]
  },
  {
   "cell_type": "markdown",
   "id": "d3c062c3-e5f8-4a72-b631-0635a6730b25",
   "metadata": {},
   "source": [
    "# Regression\n",
    "\n",
    "And now an example with a regression:"
   ]
  },
  {
   "cell_type": "code",
   "execution_count": 69,
   "id": "080d34a0-3324-4bf2-bb25-72b06db1f342",
   "metadata": {},
   "outputs": [],
   "source": [
    ":e BlockArguments \n",
    "\n",
    "range :: [Double]\n",
    "range = [-10,-9.9..10] \n",
    "\n",
    "\n",
    "regression :: MonadSample m => Bayesian m (Double, Double, Double) [Double]\n",
    "regression = Bayesian {\n",
    "    latent = do \n",
    "            slope <- normal 0 2\n",
    "            intercept <- normal 0 2\n",
    "            noise <- gamma 4 4\n",
    "            return (slope, intercept, noise),\n",
    "    \n",
    "    generative = \\(slope, intercept, noise) -> do\n",
    "            forM range \\x -> normal (x*slope + intercept) (sqrt noise),\n",
    "            \n",
    "    likelihood = \\(slope, intercept, noise) ys -> Prelude.sum [normalPdf (x*slope + intercept) (sqrt noise) y | (x,y) <- zip range ys] \n",
    "                \n",
    "    }\n"
   ]
  },
  {
   "cell_type": "code",
   "execution_count": 72,
   "id": "0621fc17-5c64-409b-9d08-d52b067b8dcd",
   "metadata": {},
   "outputs": [
    {
     "data": {
      "application/vnd.vegalite.v4+json": {
       "$schema": "https://vega.github.io/schema/vega-lite/v4.json",
       "data": {
        "values": [
         {
          "Outlier": "\"\\\"N/A\\\"\"",
          "X": -10,
          "Y": -17.406309854205368
         },
         {
          "Outlier": "\"\\\"N/A\\\"\"",
          "X": -9.9,
          "Y": -22.463440242522907
         },
         {
          "Outlier": "\"\\\"N/A\\\"\"",
          "X": -9.8,
          "Y": -17.983855424707937
         },
         {
          "Outlier": "\"\\\"N/A\\\"\"",
          "X": -9.700000000000001,
          "Y": -16.49340662736394
         },
         {
          "Outlier": "\"\\\"N/A\\\"\"",
          "X": -9.600000000000001,
          "Y": -6.817916116625778
         },
         {
          "Outlier": "\"\\\"N/A\\\"\"",
          "X": -9.500000000000002,
          "Y": -8.729589079243192
         },
         {
          "Outlier": "\"\\\"N/A\\\"\"",
          "X": -9.400000000000002,
          "Y": -10.997319241498609
         },
         {
          "Outlier": "\"\\\"N/A\\\"\"",
          "X": -9.300000000000002,
          "Y": -18.495368679694423
         },
         {
          "Outlier": "\"\\\"N/A\\\"\"",
          "X": -9.200000000000003,
          "Y": -22.153938901612484
         },
         {
          "Outlier": "\"\\\"N/A\\\"\"",
          "X": -9.100000000000003,
          "Y": -15.814215369995887
         },
         {
          "Outlier": "\"\\\"N/A\\\"\"",
          "X": -9.000000000000004,
          "Y": -12.683834492291663
         },
         {
          "Outlier": "\"\\\"N/A\\\"\"",
          "X": -8.900000000000004,
          "Y": -8.62612472984096
         },
         {
          "Outlier": "\"\\\"N/A\\\"\"",
          "X": -8.800000000000004,
          "Y": -16.506555091132196
         },
         {
          "Outlier": "\"\\\"N/A\\\"\"",
          "X": -8.700000000000005,
          "Y": -21.495015364911506
         },
         {
          "Outlier": "\"\\\"N/A\\\"\"",
          "X": -8.600000000000005,
          "Y": -9.248226614411486
         },
         {
          "Outlier": "\"\\\"N/A\\\"\"",
          "X": -8.500000000000005,
          "Y": -16.122349457577375
         },
         {
          "Outlier": "\"\\\"N/A\\\"\"",
          "X": -8.400000000000006,
          "Y": -15.301769720660644
         },
         {
          "Outlier": "\"\\\"N/A\\\"\"",
          "X": -8.300000000000006,
          "Y": -12.392825615366414
         },
         {
          "Outlier": "\"\\\"N/A\\\"\"",
          "X": -8.200000000000006,
          "Y": -21.488791995087908
         },
         {
          "Outlier": "\"\\\"N/A\\\"\"",
          "X": -8.100000000000007,
          "Y": -10.377340167116909
         },
         {
          "Outlier": "\"\\\"N/A\\\"\"",
          "X": -8.000000000000007,
          "Y": -11.112618599403278
         },
         {
          "Outlier": "\"\\\"N/A\\\"\"",
          "X": -7.9000000000000075,
          "Y": -15.203410207951997
         },
         {
          "Outlier": "\"\\\"N/A\\\"\"",
          "X": -7.800000000000008,
          "Y": -11.131893003007866
         },
         {
          "Outlier": "\"\\\"N/A\\\"\"",
          "X": -7.700000000000008,
          "Y": -9.695672579733719
         },
         {
          "Outlier": "\"\\\"N/A\\\"\"",
          "X": -7.6000000000000085,
          "Y": -1.5084026054951956
         },
         {
          "Outlier": "\"\\\"N/A\\\"\"",
          "X": -7.500000000000009,
          "Y": -13.373097307717028
         },
         {
          "Outlier": "\"\\\"N/A\\\"\"",
          "X": -7.400000000000009,
          "Y": -15.18597678981935
         },
         {
          "Outlier": "\"\\\"N/A\\\"\"",
          "X": -7.30000000000001,
          "Y": -2.040350672857395
         },
         {
          "Outlier": "\"\\\"N/A\\\"\"",
          "X": -7.20000000000001,
          "Y": -9.388197203786476
         },
         {
          "Outlier": "\"\\\"N/A\\\"\"",
          "X": -7.10000000000001,
          "Y": -4.142933431621253
         },
         {
          "Outlier": "\"\\\"N/A\\\"\"",
          "X": -7.000000000000011,
          "Y": -7.552436587968656
         },
         {
          "Outlier": "\"\\\"N/A\\\"\"",
          "X": -6.900000000000011,
          "Y": -8.786071177339071
         },
         {
          "Outlier": "\"\\\"N/A\\\"\"",
          "X": -6.800000000000011,
          "Y": -19.422418087979885
         },
         {
          "Outlier": "\"\\\"N/A\\\"\"",
          "X": -6.700000000000012,
          "Y": -17.36534048467623
         },
         {
          "Outlier": "\"\\\"N/A\\\"\"",
          "X": -6.600000000000012,
          "Y": -10.088082525186486
         },
         {
          "Outlier": "\"\\\"N/A\\\"\"",
          "X": -6.500000000000012,
          "Y": -11.650541739743108
         },
         {
          "Outlier": "\"\\\"N/A\\\"\"",
          "X": -6.400000000000013,
          "Y": -14.558255264531306
         },
         {
          "Outlier": "\"\\\"N/A\\\"\"",
          "X": -6.300000000000013,
          "Y": -13.197981316252777
         },
         {
          "Outlier": "\"\\\"N/A\\\"\"",
          "X": -6.2000000000000135,
          "Y": -8.172469049008368
         },
         {
          "Outlier": "\"\\\"N/A\\\"\"",
          "X": -6.100000000000014,
          "Y": -9.12079846374441
         },
         {
          "Outlier": "\"\\\"N/A\\\"\"",
          "X": -6.000000000000014,
          "Y": -14.006838641877211
         },
         {
          "Outlier": "\"\\\"N/A\\\"\"",
          "X": -5.900000000000015,
          "Y": -7.086787374704438
         },
         {
          "Outlier": "\"\\\"N/A\\\"\"",
          "X": -5.800000000000015,
          "Y": -5.8150048884042915
         },
         {
          "Outlier": "\"\\\"N/A\\\"\"",
          "X": -5.700000000000015,
          "Y": -11.849523100471373
         },
         {
          "Outlier": "\"\\\"N/A\\\"\"",
          "X": -5.600000000000016,
          "Y": -10.627094915767117
         },
         {
          "Outlier": "\"\\\"N/A\\\"\"",
          "X": -5.500000000000016,
          "Y": -10.824830891047016
         },
         {
          "Outlier": "\"\\\"N/A\\\"\"",
          "X": -5.400000000000016,
          "Y": -4.0865280819462395
         },
         {
          "Outlier": "\"\\\"N/A\\\"\"",
          "X": -5.300000000000017,
          "Y": -7.248094013584554
         },
         {
          "Outlier": "\"\\\"N/A\\\"\"",
          "X": -5.200000000000017,
          "Y": -14.829224340963854
         },
         {
          "Outlier": "\"\\\"N/A\\\"\"",
          "X": -5.100000000000017,
          "Y": -13.274991576733068
         },
         {
          "Outlier": "\"\\\"N/A\\\"\"",
          "X": -5.000000000000018,
          "Y": -9.211768687028226
         },
         {
          "Outlier": "\"\\\"N/A\\\"\"",
          "X": -4.900000000000018,
          "Y": -5.061967021186928
         },
         {
          "Outlier": "\"\\\"N/A\\\"\"",
          "X": -4.8000000000000185,
          "Y": 4.575117804591945
         },
         {
          "Outlier": "\"\\\"N/A\\\"\"",
          "X": -4.700000000000019,
          "Y": -4.973094828331756
         },
         {
          "Outlier": "\"\\\"N/A\\\"\"",
          "X": -4.600000000000019,
          "Y": -8.71159704060053
         },
         {
          "Outlier": "\"\\\"N/A\\\"\"",
          "X": -4.5000000000000195,
          "Y": 0.36780134706504164
         },
         {
          "Outlier": "\"\\\"N/A\\\"\"",
          "X": -4.40000000000002,
          "Y": -0.5712452304385689
         },
         {
          "Outlier": "\"\\\"N/A\\\"\"",
          "X": -4.30000000000002,
          "Y": -3.7694085109228324
         },
         {
          "Outlier": "\"\\\"N/A\\\"\"",
          "X": -4.200000000000021,
          "Y": -9.588774971169638
         },
         {
          "Outlier": "\"\\\"N/A\\\"\"",
          "X": -4.100000000000021,
          "Y": -6.03913158390989
         },
         {
          "Outlier": "\"\\\"N/A\\\"\"",
          "X": -4.000000000000021,
          "Y": 0.3658216785015682
         },
         {
          "Outlier": "\"\\\"N/A\\\"\"",
          "X": -3.9000000000000217,
          "Y": -1.0419290374237464
         },
         {
          "Outlier": "\"\\\"N/A\\\"\"",
          "X": -3.800000000000022,
          "Y": -11.705733859389884
         },
         {
          "Outlier": "\"\\\"N/A\\\"\"",
          "X": -3.7000000000000224,
          "Y": 2.1638652390812876
         },
         {
          "Outlier": "\"\\\"N/A\\\"\"",
          "X": -3.6000000000000227,
          "Y": -8.043069410524055
         },
         {
          "Outlier": "\"\\\"N/A\\\"\"",
          "X": -3.500000000000023,
          "Y": 1.5391241489766916
         },
         {
          "Outlier": "\"\\\"N/A\\\"\"",
          "X": -3.4000000000000234,
          "Y": -5.145331153256316
         },
         {
          "Outlier": "\"\\\"N/A\\\"\"",
          "X": -3.300000000000024,
          "Y": -4.112717234666307
         },
         {
          "Outlier": "\"\\\"N/A\\\"\"",
          "X": -3.200000000000024,
          "Y": -3.0010130610464856
         },
         {
          "Outlier": "\"\\\"N/A\\\"\"",
          "X": -3.1000000000000245,
          "Y": -7.72110266720626
         },
         {
          "Outlier": "\"\\\"N/A\\\"\"",
          "X": -3.000000000000025,
          "Y": 1.0184192752625245
         },
         {
          "Outlier": "\"\\\"N/A\\\"\"",
          "X": -2.9000000000000252,
          "Y": -7.962028290629559
         },
         {
          "Outlier": "\"\\\"N/A\\\"\"",
          "X": -2.8000000000000256,
          "Y": 4.24592496275712
         },
         {
          "Outlier": "\"\\\"N/A\\\"\"",
          "X": -2.700000000000026,
          "Y": 6.320853830671179
         },
         {
          "Outlier": "\"\\\"N/A\\\"\"",
          "X": -2.6000000000000263,
          "Y": 3.5315759359409595
         },
         {
          "Outlier": "\"\\\"N/A\\\"\"",
          "X": -2.5000000000000266,
          "Y": -6.7950107876638635
         },
         {
          "Outlier": "\"\\\"N/A\\\"\"",
          "X": -2.400000000000027,
          "Y": -1.2005224334462419
         },
         {
          "Outlier": "\"\\\"N/A\\\"\"",
          "X": -2.3000000000000274,
          "Y": 3.85690645036102
         },
         {
          "Outlier": "\"\\\"N/A\\\"\"",
          "X": -2.2000000000000277,
          "Y": 2.2451787291780927
         },
         {
          "Outlier": "\"\\\"N/A\\\"\"",
          "X": -2.100000000000028,
          "Y": 2.558263535448403
         },
         {
          "Outlier": "\"\\\"N/A\\\"\"",
          "X": -2.0000000000000284,
          "Y": -5.119524950329021
         },
         {
          "Outlier": "\"\\\"N/A\\\"\"",
          "X": -1.9000000000000288,
          "Y": -1.4822230939062435
         },
         {
          "Outlier": "\"\\\"N/A\\\"\"",
          "X": -1.8000000000000291,
          "Y": 0.35374962674771415
         },
         {
          "Outlier": "\"\\\"N/A\\\"\"",
          "X": -1.7000000000000295,
          "Y": 4.423547934483263
         },
         {
          "Outlier": "\"\\\"N/A\\\"\"",
          "X": -1.6000000000000298,
          "Y": -8.586253076343276
         },
         {
          "Outlier": "\"\\\"N/A\\\"\"",
          "X": -1.5000000000000302,
          "Y": -3.7948472480562825
         },
         {
          "Outlier": "\"\\\"N/A\\\"\"",
          "X": -1.4000000000000306,
          "Y": -8.744363058405987
         },
         {
          "Outlier": "\"\\\"N/A\\\"\"",
          "X": -1.300000000000031,
          "Y": 1.1060481296851365
         },
         {
          "Outlier": "\"\\\"N/A\\\"\"",
          "X": -1.2000000000000313,
          "Y": -0.603585695522336
         },
         {
          "Outlier": "\"\\\"N/A\\\"\"",
          "X": -1.1000000000000316,
          "Y": 3.1745830046868306
         },
         {
          "Outlier": "\"\\\"N/A\\\"\"",
          "X": -1.000000000000032,
          "Y": -6.619564771889913
         },
         {
          "Outlier": "\"\\\"N/A\\\"\"",
          "X": -0.9000000000000323,
          "Y": -1.5771458973366386
         },
         {
          "Outlier": "\"\\\"N/A\\\"\"",
          "X": -0.8000000000000327,
          "Y": 2.5340709206624603
         },
         {
          "Outlier": "\"\\\"N/A\\\"\"",
          "X": -0.700000000000033,
          "Y": 5.47104055409431
         },
         {
          "Outlier": "\"\\\"N/A\\\"\"",
          "X": -0.6000000000000334,
          "Y": 8.174707932639595
         },
         {
          "Outlier": "\"\\\"N/A\\\"\"",
          "X": -0.5000000000000338,
          "Y": 3.209615254075798
         },
         {
          "Outlier": "\"\\\"N/A\\\"\"",
          "X": -0.4000000000000341,
          "Y": -6.461417737257875
         },
         {
          "Outlier": "\"\\\"N/A\\\"\"",
          "X": -0.30000000000003446,
          "Y": 3.6719552007666367
         },
         {
          "Outlier": "\"\\\"N/A\\\"\"",
          "X": -0.20000000000003482,
          "Y": 13.521063383228045
         },
         {
          "Outlier": "\"\\\"N/A\\\"\"",
          "X": -0.10000000000003517,
          "Y": -2.9643660392225386
         },
         {
          "Outlier": "\"\\\"N/A\\\"\"",
          "X": -3.552713678800501e-14,
          "Y": 7.360972815623295
         },
         {
          "Outlier": "\"\\\"N/A\\\"\"",
          "X": 0.09999999999996412,
          "Y": 5.030977206836335
         },
         {
          "Outlier": "\"\\\"N/A\\\"\"",
          "X": 0.19999999999996376,
          "Y": 3.7212236027928847
         },
         {
          "Outlier": "\"\\\"N/A\\\"\"",
          "X": 0.2999999999999634,
          "Y": 2.076240975533245
         },
         {
          "Outlier": "\"\\\"N/A\\\"\"",
          "X": 0.39999999999996305,
          "Y": -3.947136750964156
         },
         {
          "Outlier": "\"\\\"N/A\\\"\"",
          "X": 0.4999999999999627,
          "Y": 5.697646115925522
         },
         {
          "Outlier": "\"\\\"N/A\\\"\"",
          "X": 0.5999999999999623,
          "Y": 5.658587952096192
         },
         {
          "Outlier": "\"\\\"N/A\\\"\"",
          "X": 0.699999999999962,
          "Y": 7.935205756075305
         },
         {
          "Outlier": "\"\\\"N/A\\\"\"",
          "X": 0.7999999999999616,
          "Y": 11.052093325003337
         },
         {
          "Outlier": "\"\\\"N/A\\\"\"",
          "X": 0.8999999999999613,
          "Y": -2.3014883180808132
         },
         {
          "Outlier": "\"\\\"N/A\\\"\"",
          "X": 0.9999999999999609,
          "Y": 0.5291911695706251
         },
         {
          "Outlier": "\"\\\"N/A\\\"\"",
          "X": 1.0999999999999606,
          "Y": 10.510233271944783
         },
         {
          "Outlier": "\"\\\"N/A\\\"\"",
          "X": 1.1999999999999602,
          "Y": 8.70649998939216
         },
         {
          "Outlier": "\"\\\"N/A\\\"\"",
          "X": 1.2999999999999599,
          "Y": 3.663716206736692
         },
         {
          "Outlier": "\"\\\"N/A\\\"\"",
          "X": 1.3999999999999595,
          "Y": 11.605656955299766
         },
         {
          "Outlier": "\"\\\"N/A\\\"\"",
          "X": 1.4999999999999591,
          "Y": 17.13265702408068
         },
         {
          "Outlier": "\"\\\"N/A\\\"\"",
          "X": 1.5999999999999588,
          "Y": 13.473109586859334
         },
         {
          "Outlier": "\"\\\"N/A\\\"\"",
          "X": 1.6999999999999584,
          "Y": 5.077693616474384
         },
         {
          "Outlier": "\"\\\"N/A\\\"\"",
          "X": 1.799999999999958,
          "Y": 11.35237069428912
         },
         {
          "Outlier": "\"\\\"N/A\\\"\"",
          "X": 1.8999999999999577,
          "Y": 10.280861247333304
         },
         {
          "Outlier": "\"\\\"N/A\\\"\"",
          "X": 1.9999999999999574,
          "Y": 2.5815260997759077
         },
         {
          "Outlier": "\"\\\"N/A\\\"\"",
          "X": 2.099999999999957,
          "Y": 11.313633290489367
         },
         {
          "Outlier": "\"\\\"N/A\\\"\"",
          "X": 2.1999999999999567,
          "Y": 15.901267967069009
         },
         {
          "Outlier": "\"\\\"N/A\\\"\"",
          "X": 2.2999999999999563,
          "Y": 8.623998742382721
         },
         {
          "Outlier": "\"\\\"N/A\\\"\"",
          "X": 2.399999999999956,
          "Y": 11.14186905018578
         },
         {
          "Outlier": "\"\\\"N/A\\\"\"",
          "X": 2.4999999999999556,
          "Y": 11.689424909319383
         },
         {
          "Outlier": "\"\\\"N/A\\\"\"",
          "X": 2.5999999999999552,
          "Y": 12.053137921888958
         },
         {
          "Outlier": "\"\\\"N/A\\\"\"",
          "X": 2.699999999999955,
          "Y": 9.532240500013069
         },
         {
          "Outlier": "\"\\\"N/A\\\"\"",
          "X": 2.7999999999999545,
          "Y": 1.2227167394417737
         },
         {
          "Outlier": "\"\\\"N/A\\\"\"",
          "X": 2.899999999999954,
          "Y": 3.1963871175305814
         },
         {
          "Outlier": "\"\\\"N/A\\\"\"",
          "X": 2.999999999999954,
          "Y": 6.2488512633949025
         },
         {
          "Outlier": "\"\\\"N/A\\\"\"",
          "X": 3.0999999999999535,
          "Y": 10.690591975074872
         },
         {
          "Outlier": "\"\\\"N/A\\\"\"",
          "X": 3.199999999999953,
          "Y": 1.9116107569492886
         },
         {
          "Outlier": "\"\\\"N/A\\\"\"",
          "X": 3.2999999999999527,
          "Y": 17.831872093741936
         },
         {
          "Outlier": "\"\\\"N/A\\\"\"",
          "X": 3.3999999999999524,
          "Y": 7.596141689832246
         },
         {
          "Outlier": "\"\\\"N/A\\\"\"",
          "X": 3.499999999999952,
          "Y": 12.118409736355158
         },
         {
          "Outlier": "\"\\\"N/A\\\"\"",
          "X": 3.5999999999999517,
          "Y": 13.534965954829671
         },
         {
          "Outlier": "\"\\\"N/A\\\"\"",
          "X": 3.6999999999999513,
          "Y": 12.37287577850573
         },
         {
          "Outlier": "\"\\\"N/A\\\"\"",
          "X": 3.799999999999951,
          "Y": 19.96886718418318
         },
         {
          "Outlier": "\"\\\"N/A\\\"\"",
          "X": 3.8999999999999506,
          "Y": 17.13981436729799
         },
         {
          "Outlier": "\"\\\"N/A\\\"\"",
          "X": 3.9999999999999503,
          "Y": 16.7268972474757
         },
         {
          "Outlier": "\"\\\"N/A\\\"\"",
          "X": 4.09999999999995,
          "Y": 14.952193240351962
         },
         {
          "Outlier": "\"\\\"N/A\\\"\"",
          "X": 4.1999999999999496,
          "Y": 14.921892629175098
         },
         {
          "Outlier": "\"\\\"N/A\\\"\"",
          "X": 4.299999999999949,
          "Y": 9.41502969336174
         },
         {
          "Outlier": "\"\\\"N/A\\\"\"",
          "X": 4.399999999999949,
          "Y": 8.65648541419517
         },
         {
          "Outlier": "\"\\\"N/A\\\"\"",
          "X": 4.4999999999999485,
          "Y": 7.2097282666259455
         },
         {
          "Outlier": "\"\\\"N/A\\\"\"",
          "X": 4.599999999999948,
          "Y": 11.447547097958129
         },
         {
          "Outlier": "\"\\\"N/A\\\"\"",
          "X": 4.699999999999948,
          "Y": 19.233665112327735
         },
         {
          "Outlier": "\"\\\"N/A\\\"\"",
          "X": 4.799999999999947,
          "Y": 16.9619055478073
         },
         {
          "Outlier": "\"\\\"N/A\\\"\"",
          "X": 4.899999999999947,
          "Y": 9.185479297252588
         },
         {
          "Outlier": "\"\\\"N/A\\\"\"",
          "X": 4.999999999999947,
          "Y": 14.366822455671647
         },
         {
          "Outlier": "\"\\\"N/A\\\"\"",
          "X": 5.099999999999946,
          "Y": 12.843979209031382
         },
         {
          "Outlier": "\"\\\"N/A\\\"\"",
          "X": 5.199999999999946,
          "Y": 13.90070325432
         },
         {
          "Outlier": "\"\\\"N/A\\\"\"",
          "X": 5.299999999999946,
          "Y": 17.033731478153037
         },
         {
          "Outlier": "\"\\\"N/A\\\"\"",
          "X": 5.399999999999945,
          "Y": 12.723007397469775
         },
         {
          "Outlier": "\"\\\"N/A\\\"\"",
          "X": 5.499999999999945,
          "Y": 15.988147224336183
         },
         {
          "Outlier": "\"\\\"N/A\\\"\"",
          "X": 5.599999999999945,
          "Y": 8.135758120284908
         },
         {
          "Outlier": "\"\\\"N/A\\\"\"",
          "X": 5.699999999999944,
          "Y": 2.6841460005004603
         },
         {
          "Outlier": "\"\\\"N/A\\\"\"",
          "X": 5.799999999999944,
          "Y": 13.269711862020092
         },
         {
          "Outlier": "\"\\\"N/A\\\"\"",
          "X": 5.8999999999999435,
          "Y": 3.895625725628612
         },
         {
          "Outlier": "\"\\\"N/A\\\"\"",
          "X": 5.999999999999943,
          "Y": 11.40647797820281
         },
         {
          "Outlier": "\"\\\"N/A\\\"\"",
          "X": 6.099999999999945,
          "Y": 23.36470917926268
         },
         {
          "Outlier": "\"\\\"N/A\\\"\"",
          "X": 6.1999999999999424,
          "Y": 31.512142269796172
         },
         {
          "Outlier": "\"\\\"N/A\\\"\"",
          "X": 6.29999999999994,
          "Y": 23.510057806189828
         },
         {
          "Outlier": "\"\\\"N/A\\\"\"",
          "X": 6.399999999999942,
          "Y": 23.208800576131708
         },
         {
          "Outlier": "\"\\\"N/A\\\"\"",
          "X": 6.499999999999943,
          "Y": 16.07871766857163
         },
         {
          "Outlier": "\"\\\"N/A\\\"\"",
          "X": 6.599999999999941,
          "Y": 18.5822944962139
         },
         {
          "Outlier": "\"\\\"N/A\\\"\"",
          "X": 6.699999999999939,
          "Y": 18.614544596981695
         },
         {
          "Outlier": "\"\\\"N/A\\\"\"",
          "X": 6.79999999999994,
          "Y": 14.12347417843927
         },
         {
          "Outlier": "\"\\\"N/A\\\"\"",
          "X": 6.899999999999942,
          "Y": 16.46228078763636
         },
         {
          "Outlier": "\"\\\"N/A\\\"\"",
          "X": 6.99999999999994,
          "Y": 14.234716323959322
         },
         {
          "Outlier": "\"\\\"N/A\\\"\"",
          "X": 7.0999999999999375,
          "Y": 27.361887882229194
         },
         {
          "Outlier": "\"\\\"N/A\\\"\"",
          "X": 7.199999999999939,
          "Y": 19.149944607915206
         },
         {
          "Outlier": "\"\\\"N/A\\\"\"",
          "X": 7.29999999999994,
          "Y": 16.6364023041563
         },
         {
          "Outlier": "\"\\\"N/A\\\"\"",
          "X": 7.399999999999938,
          "Y": 13.848179276061241
         },
         {
          "Outlier": "\"\\\"N/A\\\"\"",
          "X": 7.499999999999936,
          "Y": 20.574261577973243
         },
         {
          "Outlier": "\"\\\"N/A\\\"\"",
          "X": 7.5999999999999375,
          "Y": 26.468307809289882
         },
         {
          "Outlier": "\"\\\"N/A\\\"\"",
          "X": 7.699999999999939,
          "Y": 17.27437596434192
         },
         {
          "Outlier": "\"\\\"N/A\\\"\"",
          "X": 7.799999999999937,
          "Y": 14.190788780621983
         },
         {
          "Outlier": "\"\\\"N/A\\\"\"",
          "X": 7.899999999999935,
          "Y": 25.01064623180183
         },
         {
          "Outlier": "\"\\\"N/A\\\"\"",
          "X": 7.999999999999936,
          "Y": 13.21270574883239
         },
         {
          "Outlier": "\"\\\"N/A\\\"\"",
          "X": 8.099999999999937,
          "Y": 22.24214476770218
         },
         {
          "Outlier": "\"\\\"N/A\\\"\"",
          "X": 8.199999999999935,
          "Y": 28.39617102371707
         },
         {
          "Outlier": "\"\\\"N/A\\\"\"",
          "X": 8.299999999999933,
          "Y": 20.409800951062614
         },
         {
          "Outlier": "\"\\\"N/A\\\"\"",
          "X": 8.399999999999935,
          "Y": 29.13801769821134
         },
         {
          "Outlier": "\"\\\"N/A\\\"\"",
          "X": 8.499999999999936,
          "Y": 19.374991347058007
         },
         {
          "Outlier": "\"\\\"N/A\\\"\"",
          "X": 8.599999999999934,
          "Y": 27.960844185413045
         },
         {
          "Outlier": "\"\\\"N/A\\\"\"",
          "X": 8.699999999999932,
          "Y": 21.62606829685585
         },
         {
          "Outlier": "\"\\\"N/A\\\"\"",
          "X": 8.799999999999933,
          "Y": 23.693673487044716
         },
         {
          "Outlier": "\"\\\"N/A\\\"\"",
          "X": 8.899999999999935,
          "Y": 16.848472486848223
         },
         {
          "Outlier": "\"\\\"N/A\\\"\"",
          "X": 8.999999999999932,
          "Y": 23.465981631238755
         },
         {
          "Outlier": "\"\\\"N/A\\\"\"",
          "X": 9.09999999999993,
          "Y": 26.31837233039017
         },
         {
          "Outlier": "\"\\\"N/A\\\"\"",
          "X": 9.199999999999932,
          "Y": 17.773715277386646
         },
         {
          "Outlier": "\"\\\"N/A\\\"\"",
          "X": 9.299999999999933,
          "Y": 30.15221135858652
         },
         {
          "Outlier": "\"\\\"N/A\\\"\"",
          "X": 9.399999999999931,
          "Y": 9.928616127165267
         },
         {
          "Outlier": "\"\\\"N/A\\\"\"",
          "X": 9.499999999999929,
          "Y": 19.588166704526415
         },
         {
          "Outlier": "\"\\\"N/A\\\"\"",
          "X": 9.59999999999993,
          "Y": 30.455552085166442
         },
         {
          "Outlier": "\"\\\"N/A\\\"\"",
          "X": 9.699999999999932,
          "Y": 25.637542049867633
         },
         {
          "Outlier": "\"\\\"N/A\\\"\"",
          "X": 9.79999999999993,
          "Y": 24.71095730376502
         },
         {
          "Outlier": "\"\\\"N/A\\\"\"",
          "X": 9.899999999999928,
          "Y": 20.28461761251163
         },
         {
          "Outlier": "\"\\\"N/A\\\"\"",
          "X": 9.999999999999929,
          "Y": 32.10414703757168
         }
        ]
       },
       "encoding": {
        "color": {
         "field": "Outlier"
        },
        "x": {
         "field": "X",
         "type": "quantitative"
        },
        "y": {
         "field": "Y",
         "type": "quantitative"
        }
       },
       "height": 400,
       "mark": "circle",
       "width": 400
      },
      "image/png": "[encoded data removed]"
     },
     "metadata": {},
     "output_type": "display_data"
    }
   ],
   "source": [
    "ys <- sampler $ priorPredictive regression\n",
    "\n",
    "plot (fmap (second (T.pack . show)) (zip (zip range ys) (Prelude.repeat \"N/A\")))"
   ]
  },
  {
   "cell_type": "code",
   "execution_count": null,
   "id": "693d83bf-14c9-4e1b-870e-a15b8f8edc1d",
   "metadata": {},
   "outputs": [],
   "source": [
    "import Control.Monad.Bayes.Inference.MCMC\n",
    "\n",
    "ys <- sampler $ mcmc MCMCConfig {numMCMCSteps = 5000, numBurnIn = 25, proposal = SingleSiteMH} \n",
    "    $ posteriorPredictive regression [take 200 $ repeat 1]\n"
   ]
  },
  {
   "cell_type": "code",
   "execution_count": null,
   "id": "a72a7dc0-209c-449c-9ffb-617328a7ffc5",
   "metadata": {},
   "outputs": [],
   "source": [
    "plot (fmap (second (T.pack . show)) (zip (zip range $ ys !! 0) (Prelude.repeat \"N/A\")))"
   ]
  },
  {
   "cell_type": "code",
   "execution_count": null,
   "id": "d9d80d4d-f903-445e-9376-508c15b32277",
   "metadata": {},
   "outputs": [],
   "source": []
  }
 ],
 "metadata": {
  "kernelspec": {
   "display_name": "Haskell - nixpkgs",
   "language": "haskell",
   "name": "ihaskell_nixpkgs"
  },
  "language_info": {
   "codemirror_mode": "ihaskell",
   "file_extension": ".hs",
   "mimetype": "text/x-haskell",
   "name": "haskell",
   "pygments_lexer": "Haskell",
   "version": "9.0.2"
  }
 },
 "nbformat": 4,
 "nbformat_minor": 5
}
