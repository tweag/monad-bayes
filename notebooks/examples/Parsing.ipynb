{
 "cells": [
  {
   "cell_type": "markdown",
   "id": "2a798ffe-30c0-43ec-9614-c84c2a433da5",
   "metadata": {},
   "source": [
    "# Probabilistic Parser Combinators"
   ]
  },
  {
   "cell_type": "code",
   "execution_count": 1,
   "id": "b14be2d4-ec16-46d3-8cd9-810a25f70495",
   "metadata": {},
   "outputs": [],
   "source": [
    "import Text.Megaparsec\n",
    "import Text.Megaparsec.Char\n",
    "import Data.Char\n",
    "import qualified Data.Text as T\n",
    "import Control.Monad.Bayes.Class\n",
    "import Control.Monad.Bayes.Sampler.Strict\n",
    "import Control.Monad.Bayes.Weighted\n",
    "import Control.Monad.Bayes.Population\n",
    "import Control.Monad.Bayes.Enumerator\n",
    "import Control.Monad.Bayes.Inference.SMC\n",
    "import Control.Monad.Trans (lift)\n",
    "import Control.Monad (join, replicateM)\n",
    "import Data.Void\n",
    "import Control.Monad.Bayes.Enumerator\n",
    "import Text.Pretty.Simple\n",
    "\n",
    ":e OverloadedStrings\n",
    ":e FlexibleContexts\n",
    ":e GADTs\n",
    ":e LambdaCase"
   ]
  },
  {
   "cell_type": "markdown",
   "id": "97f7ae67-5a7f-4650-8530-72385d84b019",
   "metadata": {},
   "source": [
    "Probability interfaces nicely with parser combinators from libraries like `megaparsec`. A parser in this setting is roughly a function `[Char] -> m (a, [Char])`, in other words a function which (monadically) strips off a prefix of the input string and returns a result. \n",
    "\n",
    "To make this probabilistic, we simply set `m` to a probability monad. The result of parsing is then a distribution over possible parses (and possible parse failures).\n"
   ]
  },
  {
   "cell_type": "code",
   "execution_count": 2,
   "id": "5aec194f-b147-456b-8be0-46c12f4ed495",
   "metadata": {},
   "outputs": [],
   "source": [
    "alphabet = map (: []) ['h', 'i', 'x']\n",
    "\n",
    "noise x = do\n",
    "    perturb <- lift $ bernoulli 0.1\n",
    "    if perturb then lift $ uniformD alphabet else return x\n",
    "\n",
    "letter = do\n",
    "    true <-  lift $ uniformD [\"h\", \"i\",\"x\"]\n",
    "    predicted <- noise true\n",
    "    observed <- lookAhead (foldr1 (<|>) [\"h\",\"i\", \"x\"])\n",
    "    lift . condition $ predicted == observed\n",
    "    string observed\n",
    "    return $ head true \n",
    "    \n",
    "word = (do \n",
    "    wd <- some letter\n",
    "    lift $ factor (if wd `elem` [\"hi\", \"goodbye\"] then 100 else 1)\n",
    "    return wd\n",
    "    ) <* eof\n",
    "\n",
    "errorBundlePretty' :: (TraversableStream s, VisualStream s) => ParseErrorBundle s Void -> String \n",
    "errorBundlePretty' = errorBundlePretty\n",
    "\n",
    "\n",
    "run parser input = either (T.pack . errorBundlePretty' ) (T.pack . show) <$> runParserT parser \"\" input"
   ]
  },
  {
   "cell_type": "code",
   "execution_count": 3,
   "id": "e64782da-ddcc-41bd-aa29-b8f2dcd27184",
   "metadata": {},
   "outputs": [
    {
     "data": {
      "text/plain": [
       "[\n",
       "  ( \"\"hi\"\", 0.7563333333333333 )\n",
       ",\n",
       "  ( \"\"hx\"\", 0.20799999999999993 )\n",
       ",\n",
       "  ( \"\"xx\"\", 1.5000000000000038 e- 2 )\n",
       ",\n",
       "  ( \"\"hh\"\", 1.06666666666667 e- 2 )\n",
       ",\n",
       "  ( \"\"ix\"\", 1.0000000000000014 e- 2 )\n",
       "]"
      ]
     },
     "metadata": {},
     "output_type": "display_data"
    }
   ],
   "source": [
    "pPrintCustom = pPrintOpt CheckColorTty defaultOutputOptionsNoColor {outputOptionsCompact = True, outputOptionsIndentAmount = 2} \n",
    "\n",
    "runWordParser w = do\n",
    "    x <- sampler \n",
    "        . population \n",
    "        . smc SMCConfig {numSteps = 5, numParticles = 3000, resampler = resampleMultinomial} \n",
    "        $ run word w\n",
    "    pPrintCustom $ toEmpiricalWeighted x\n",
    "    \n",
    "runWordParser \"hx\""
   ]
  },
  {
   "cell_type": "code",
   "execution_count": 4,
   "id": "bff38aec-9249-4d0e-b173-20ccecda9ab3",
   "metadata": {},
   "outputs": [
    {
     "data": {
      "text/plain": [
       "[\n",
       "  ( \"\"hi\"\", 0.7813333333333331 )\n",
       ",\n",
       "  ( \"\"ii\"\", 0.2046666666666667 )\n",
       ",\n",
       "  ( \"\"xi\"\", 6.66666666666668 e- 3 )\n",
       ",\n",
       "  ( \"\"ix\"\", 4.333333333333346 e- 3 )\n",
       ",\n",
       "  ( \"\"ih\"\", 1.6666666666666711 e- 3 )\n",
       ",\n",
       "  ( \"\"xh\"\", 1.0000000000000028 e- 3 )\n",
       ",\n",
       "  ( \"\"xx\"\", 3.333333333333342 e- 4 )\n",
       "]"
      ]
     },
     "metadata": {},
     "output_type": "display_data"
    }
   ],
   "source": [
    "runWordParser \"ii\""
   ]
  },
  {
   "cell_type": "code",
   "execution_count": 5,
   "id": "7ad652ee-3e29-4cce-8d50-e1fd2e5c26ea",
   "metadata": {},
   "outputs": [
    {
     "data": {
      "text/plain": [
       "[\n",
       "  ( \"\"hii\"\", 0.8063333333333336 )\n",
       ",\n",
       "  ( \"\"xii\"\", 3.9333333333333186 e- 2 )\n",
       ",\n",
       "  ( \"\"hhi\"\", 3.533333333333321 e- 2 )\n",
       ",\n",
       "  ( \"\"hix\"\", 2.966666666666659 e- 2 )\n",
       ",\n",
       "  ( \"\"hih\"\", 2.8999999999999908 e- 2 )\n",
       ",\n",
       "  ( \"\"hxi\"\", 2.633333333333325 e- 2 )\n",
       ",\n",
       "  ( \"\"iii\"\", 1.666666666666663 e- 2 )\n",
       ",\n",
       "  ( \"\"hxx\"\", 4.333333333333327 e- 3 )\n",
       ",\n",
       "  ( \"\"xih\"\", 3.999999999999995 e- 3 )\n",
       ",\n",
       "  ( \"\"ixi\"\", 3.6666666666666636 e- 3 )\n",
       ",\n",
       "  ( \"\"hhx\"\", 2.666666666666665 e- 3 )\n",
       ",\n",
       "  ( \"\"xxi\"\", 2.3333333333333314 e- 3 )\n",
       ",\n",
       "  ( \"\"hhh\"\", 3.333333333333324 e- 4 )\n",
       "]"
      ]
     },
     "metadata": {},
     "output_type": "display_data"
    }
   ],
   "source": [
    "runWordParser \"hii\""
   ]
  }
 ],
 "metadata": {
  "kernelspec": {
   "display_name": "Haskell - nixpkgs",
   "language": "haskell",
   "name": "ihaskell_nixpkgs"
  },
  "language_info": {
   "codemirror_mode": "ihaskell",
   "file_extension": ".hs",
   "mimetype": "text/x-haskell",
   "name": "haskell",
   "pygments_lexer": "Haskell",
   "version": "9.0.2"
  }
 },
 "nbformat": 4,
 "nbformat_minor": 5
}
