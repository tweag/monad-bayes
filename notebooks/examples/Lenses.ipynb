{
 "cells": [
  {
   "cell_type": "code",
   "execution_count": 2,
   "id": "51f00092-2847-4e33-8976-733d2b6db324",
   "metadata": {},
   "outputs": [
    {
     "ename": "",
     "evalue": "",
     "header": "MessageHeader {mhIdentifiers = [\"e4518eb9-0e86-4b6a-be6d-3afc83e0c1b0\"], mhParentHeader = Just (MessageHeader {mhIdentifiers = [\"e4518eb9-0e86-4b6a-be6d-3afc83e0c1b0\"], mhParentHeader = Nothing, mhMetadata = Metadata (fromList [(\"cellId\",String \"51f00092-2847-4e33-8976-733d2b6db324\"),(\"deletedCells\",Array []),(\"recordTiming\",Bool False)]), mhMessageId = UUID {uuidToString = \"255b9269-fdaa-4d52-b800-48ea9be2fd54\"}, mhSessionId = UUID {uuidToString = \"e4518eb9-0e86-4b6a-be6d-3afc83e0c1b0\"}, mhUsername = \"\", mhMsgType = ExecuteRequestMessage, mhBuffers = []}), mhMetadata = Metadata (fromList []), mhMessageId = UUID {uuidToString = \"e2a929de-e919-4797-9763-b6fc22a51a5c\"}, mhSessionId = UUID {uuidToString = \"e4518eb9-0e86-4b6a-be6d-3afc83e0c1b0\"}, mhUsername = \"\", mhMsgType = ExecuteErrorMessage, mhBuffers = []}",
     "output_type": "error",
     "traceback": [
      "<interactive>:1:1: error:\n    Could not find module ‘Data.Aeson.Lens’\n    Perhaps you meant\n      Data.Aeson.Key (from aeson-2.0.3.0)\n      Data.Aeson.Text (from aeson-2.0.3.0)\n      Data.Aeson.TH (from aeson-2.0.3.0)\n    Use -v (or `:set -v` in ghci) to see a list of the files searched for."
     ]
    }
   ],
   "source": [
    ":e BlockArguments\n",
    ":e LambdaCase\n",
    ":e OverloadedStrings\n",
    "\n",
    "import Data.Aeson.Lens\n",
    "import Control.Lens hiding (nth, (#))\n",
    "import Data.Aeson\n",
    "import Data.Maybe (fromMaybe)\n",
    "import Control.Monad.Bayes.Class\n",
    "import Control.Monad.Bayes.Sampler\n",
    "import Data.Monoid \n",
    "import qualified Data.ByteString.Lazy as B\n",
    "import Text.Pretty.Simple"
   ]
  },
  {
   "cell_type": "code",
   "execution_count": 3,
   "id": "834e9c3d-87b4-4ef5-ae61-0f411f5199f2",
   "metadata": {},
   "outputs": [
    {
     "ename": "",
     "evalue": "",
     "header": "MessageHeader {mhIdentifiers = [\"e4518eb9-0e86-4b6a-be6d-3afc83e0c1b0\"], mhParentHeader = Just (MessageHeader {mhIdentifiers = [\"e4518eb9-0e86-4b6a-be6d-3afc83e0c1b0\"], mhParentHeader = Nothing, mhMetadata = Metadata (fromList [(\"cellId\",String \"834e9c3d-87b4-4ef5-ae61-0f411f5199f2\"),(\"deletedCells\",Array []),(\"recordTiming\",Bool False)]), mhMessageId = UUID {uuidToString = \"a1d83087-9669-4425-b2bf-2830a4ee6767\"}, mhSessionId = UUID {uuidToString = \"e4518eb9-0e86-4b6a-be6d-3afc83e0c1b0\"}, mhUsername = \"\", mhMsgType = ExecuteRequestMessage, mhBuffers = []}), mhMetadata = Metadata (fromList []), mhMessageId = UUID {uuidToString = \"8bfc7d5b-e868-4196-899a-095a1949c948\"}, mhSessionId = UUID {uuidToString = \"e4518eb9-0e86-4b6a-be6d-3afc83e0c1b0\"}, mhUsername = \"\", mhMsgType = ExecuteErrorMessage, mhBuffers = []}",
     "output_type": "error",
     "traceback": [
      "<interactive>:1:71: error: Not in scope: type constructor or class ‘Value’\n<interactive>:1:42: error:\n    Not in scope: ‘B.readFile’\n    No module named ‘B’ is imported."
     ]
    }
   ],
   "source": [
    "json <- fromMaybe undefined . decode <$> B.readFile \"file.json\" :: IO Value\n",
    "\n",
    "\n",
    "pPrint json"
   ]
  },
  {
   "cell_type": "code",
   "execution_count": null,
   "id": "ef68efea-f0c9-4161-9b1f-510678195c6e",
   "metadata": {},
   "outputs": [],
   "source": [
    "-- noisifyString :: T.Text -> Distribution T.Text\n",
    "noisifyString t = fmap T.pack $ forM (T.unpack t) $ \\letter -> do\n",
    "    x <- bernoulli 0.2\n",
    "    if x then uniformD \"abcdefghijklmnopqrstuvwxyz\" else return letter\n",
    "\n",
    "jsonDist :: Distribution Value\n",
    "jsonDist = \n",
    "    ((transformM . _Double) (\\case x -> normal x 0.001) >=>\n",
    "    (transformM . _Bool) (\\case x -> bernoulli 0.9 ) >=>\n",
    "    (transformM . _String) noisifyString\n",
    "    )\n",
    "    \n",
    "    json"
   ]
  }
 ],
 "metadata": {
  "kernelspec": {
   "display_name": "Haskell - nixpkgs",
   "language": "haskell",
   "name": "ihaskell_nixpkgs"
  },
  "language_info": {
   "codemirror_mode": "ihaskell",
   "file_extension": ".hs",
   "mimetype": "text/x-haskell",
   "name": "haskell",
   "pygments_lexer": "Haskell",
   "version": "9.0.2"
  }
 },
 "nbformat": 4,
 "nbformat_minor": 5
}
