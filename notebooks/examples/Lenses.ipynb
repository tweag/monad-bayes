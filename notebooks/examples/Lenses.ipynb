{
 "cells": [
  {
   "cell_type": "markdown",
   "id": "46d2f1ea-9998-43d3-9e85-6ea21ea32956",
   "metadata": {},
   "source": [
    "# Lenses and probability"
   ]
  },
  {
   "cell_type": "code",
   "execution_count": 1,
   "id": "51f00092-2847-4e33-8976-733d2b6db324",
   "metadata": {},
   "outputs": [],
   "source": [
    ":e BlockArguments\n",
    ":e LambdaCase\n",
    ":e OverloadedStrings\n",
    "\n",
    "import Data.Aeson.Lens\n",
    "import Control.Lens hiding (nth, (#))\n",
    "import Data.Aeson\n",
    "import Data.Maybe (fromMaybe)\n",
    "import Control.Monad.Bayes.Class\n",
    "import Control.Monad.Bayes.Sampler.Strict\n",
    "import Control.Monad.Bayes.Weighted\n",
    "import Data.Monoid \n",
    "import qualified Data.ByteString.Lazy as B\n",
    "import Text.Pretty.Simple\n",
    "import qualified Data.Text as T\n",
    "import Control.Monad"
   ]
  },
  {
   "cell_type": "markdown",
   "id": "c7eba945-6bda-41ff-9a77-7e9962f3b739",
   "metadata": {},
   "source": [
    "Lenses are *getters* and *setters*, i.e. ways of extracting a value from inside a data structure or updating that value.\n",
    "\n",
    "Because of their type in the Haskell `lens` library, namely `forall f. (a -> f b) -> (c -> f d)`, we can specialize `f` to `MonadSample m => m`, and so use any lens to **probabilistically update** a data structure's elements in complex ways.\n",
    "\n",
    "As an example of how easy and extensible this, we provide some examples using lenses to manipulate a JSON file. This relies on the `aeson` and `lens-aeson` packages."
   ]
  },
  {
   "cell_type": "code",
   "execution_count": 2,
   "id": "834e9c3d-87b4-4ef5-ae61-0f411f5199f2",
   "metadata": {},
   "outputs": [
    {
     "data": {
      "text/plain": [
       "Object\n",
       "    ( fromList\n",
       "        [\n",
       "            ( \"address\"\n",
       "            , Object\n",
       "                ( fromList\n",
       "                    [\n",
       "                        ( \"id\"\n",
       "                        , Number 5.4\n",
       "                        )\n",
       "                    ,\n",
       "                        ( \"streetAddress\"\n",
       "                        , String \"21 2nd Street\"\n",
       "                        )\n",
       "                    ]\n",
       "                )\n",
       "            )\n",
       "        ,\n",
       "            ( \"age\"\n",
       "            , Number 27.0\n",
       "            )\n",
       "        ,\n",
       "            ( \"height\"\n",
       "            , Number 1.5\n",
       "            )\n",
       "        ,\n",
       "            ( \"isAlive\"\n",
       "            , Bool True\n",
       "            )\n",
       "        ,\n",
       "            ( \"name\"\n",
       "            , String \"John\"\n",
       "            )\n",
       "        ]\n",
       "    )"
      ]
     },
     "metadata": {},
     "output_type": "display_data"
    }
   ],
   "source": [
    "json <- fromMaybe undefined . decode <$> B.readFile \"../file.json\" :: IO Value\n",
    "\n",
    "\n",
    "pPrint json"
   ]
  },
  {
   "cell_type": "markdown",
   "id": "1f862322-d071-44d4-a874-0a7002550b56",
   "metadata": {},
   "source": [
    "For example, if I have a function that randomly flips a boolean or a function that puts noise into a string, like"
   ]
  },
  {
   "cell_type": "code",
   "execution_count": 3,
   "id": "52b5b2e7-6faf-41a9-9e96-b57a6dc30a48",
   "metadata": {},
   "outputs": [],
   "source": [
    "randomlyFlip :: MonadSample m => Bool -> m Bool\n",
    "randomlyFlip True = bernoulli 0.01\n",
    "randomlyFlip False = bernoulli 0.9"
   ]
  },
  {
   "cell_type": "code",
   "execution_count": 4,
   "id": "514ffd97-35fb-470d-8bf9-8aa38eec0119",
   "metadata": {},
   "outputs": [],
   "source": [
    "noisifyString :: MonadSample m => T.Text -> m T.Text\n",
    "noisifyString t = fmap T.pack $ forM (T.unpack t) $ \\letter -> do\n",
    "    x <- bernoulli 0.2\n",
    "    if x then uniformD \"abcdefghijklmnopqrstuvwxyz\" else return letter"
   ]
  },
  {
   "cell_type": "markdown",
   "id": "60d0dabd-52b6-4919-8520-b982efe0a979",
   "metadata": {},
   "source": [
    "then I can use it to update the \"isAlive\" value as follows, using the lens `(_Object . traverse . _Bool)` which points to the json object's list of element's boolean element:"
   ]
  },
  {
   "cell_type": "code",
   "execution_count": 5,
   "id": "0ce3c580-a097-47ff-8292-f8570ed6aebb",
   "metadata": {},
   "outputs": [
    {
     "data": {
      "text/plain": [
       "Object\n",
       "    ( fromList\n",
       "        [\n",
       "            ( \"address\"\n",
       "            , Object\n",
       "                ( fromList\n",
       "                    [\n",
       "                        ( \"id\"\n",
       "                        , Number 5.4\n",
       "                        )\n",
       "                    ,\n",
       "                        ( \"streetAddress\"\n",
       "                        , String \"21 2nd Street\"\n",
       "                        )\n",
       "                    ]\n",
       "                )\n",
       "            )\n",
       "        ,\n",
       "            ( \"age\"\n",
       "            , Number 27.0\n",
       "            )\n",
       "        ,\n",
       "            ( \"height\"\n",
       "            , Number 1.5\n",
       "            )\n",
       "        ,\n",
       "            ( \"isAlive\"\n",
       "            , Bool False\n",
       "            )\n",
       "        ,\n",
       "            ( \"name\"\n",
       "            , String \"John\"\n",
       "            )\n",
       "        ]\n",
       "    )"
      ]
     },
     "metadata": {},
     "output_type": "display_data"
    }
   ],
   "source": [
    "pPrint =<< sampleIOfixed ((_Object . traverse . _Bool) randomlyFlip json)"
   ]
  },
  {
   "cell_type": "markdown",
   "id": "5ffa03fb-8a44-40dd-a034-79c2bf3e3054",
   "metadata": {},
   "source": [
    "Using the `Plated` instance of json values, I can do more powerful operations, like updating all doubles, bools and strings at arbitrarily nested positions in the json"
   ]
  },
  {
   "cell_type": "code",
   "execution_count": 6,
   "id": "ef68efea-f0c9-4161-9b1f-510678195c6e",
   "metadata": {},
   "outputs": [],
   "source": [
    "jsonDist :: Distribution Value\n",
    "jsonDist = \n",
    "    ((transformM . _Double) (\\case x -> normal x 0.001) >=>\n",
    "    (transformM . _Bool) randomlyFlip >=>\n",
    "    (transformM . _String) noisifyString\n",
    "    )\n",
    "    \n",
    "    json"
   ]
  },
  {
   "cell_type": "code",
   "execution_count": 7,
   "id": "abd5a2af-f4a6-4cbf-b242-9d79bc18004e",
   "metadata": {},
   "outputs": [
    {
     "data": {
      "text/plain": [
       "Object\n",
       "    ( fromList\n",
       "        [\n",
       "            ( \"address\"\n",
       "            , Object\n",
       "                ( fromList\n",
       "                    [\n",
       "                        ( \"id\"\n",
       "                        , Number 5.398324403347256605911752558313310146331787109375\n",
       "                        )\n",
       "                    ,\n",
       "                        ( \"streetAddress\"\n",
       "                        , String \"21 fnd Stredt\"\n",
       "                        )\n",
       "                    ]\n",
       "                )\n",
       "            )\n",
       "        ,\n",
       "            ( \"age\"\n",
       "            , Number 27.001264842576262026341282762587070465087890625\n",
       "            )\n",
       "        ,\n",
       "            ( \"height\"\n",
       "            , Number 1.5021398495523310412380624256911687552928924560546875\n",
       "            )\n",
       "        ,\n",
       "            ( \"isAlive\"\n",
       "            , Bool False\n",
       "            )\n",
       "        ,\n",
       "            ( \"name\"\n",
       "            , String \"lohn\"\n",
       "            )\n",
       "        ]\n",
       "    )"
      ]
     },
     "metadata": {},
     "output_type": "display_data"
    }
   ],
   "source": [
    "pPrint =<< sampleIOfixed (unweighted jsonDist)"
   ]
  }
 ],
 "metadata": {
  "kernelspec": {
   "display_name": "Haskell - nixpkgs",
   "language": "haskell",
   "name": "ihaskell_nixpkgs"
  },
  "language_info": {
   "codemirror_mode": "ihaskell",
   "file_extension": ".hs",
   "mimetype": "text/x-haskell",
   "name": "haskell",
   "pygments_lexer": "Haskell",
   "version": "9.0.2"
  }
 },
 "nbformat": 4,
 "nbformat_minor": 5
}
