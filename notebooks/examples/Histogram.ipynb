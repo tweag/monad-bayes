{
 "cells": [
  {
   "cell_type": "code",
   "execution_count": 95,
   "id": "d9f736cc-ee3f-4567-966e-9c15a5122ea6",
   "metadata": {},
   "outputs": [],
   "source": [
    "import Data.Histogram\n",
    "import Data.Histogram.Fill\n",
    "import Data.Histogram.Bin\n",
    "import Prelude \n",
    "import Data.Vector.Unboxed (fromList, Unbox)\n",
    "\n",
    "import Control.Monad.Bayes.Class\n",
    "import Control.Monad.Bayes.Enumerator\n",
    "import Control.Monad.Bayes.Weighted\n",
    "import Control.Monad.Bayes.Sampler.Strict\n",
    "import Control.Monad\n",
    "\n",
    ":l ../Plotting.hs\n"
   ]
  },
  {
   "cell_type": "code",
   "execution_count": null,
   "id": "19ed64c9-530b-4261-bf17-cb862ea00e41",
   "metadata": {},
   "outputs": [],
   "source": []
  },
  {
   "cell_type": "code",
   "execution_count": 99,
   "id": "4736a0ef-fc95-4f58-b41d-1f20c2067fd8",
   "metadata": {},
   "outputs": [],
   "source": [
    "histogram :: (Foldable v) =>\n",
    "         Int\n",
    "      -> v Double\n",
    "      -> [(Double, Double)]\n",
    "histogram n v = asList $ fillBuilder buildr v\n",
    "  where\n",
    "    mi = Prelude.minimum v\n",
    "    ma = Prelude.maximum v\n",
    "    bins = binD mi n ma\n",
    "    buildr = mkSimple bins"
   ]
  },
  {
   "cell_type": "code",
   "execution_count": 100,
   "id": "25701ef8-c671-48d9-a161-009f1dd7e1c2",
   "metadata": {},
   "outputs": [],
   "source": [
    "-- toHistogram 3 [1,2,2]"
   ]
  },
  {
   "cell_type": "code",
   "execution_count": 112,
   "id": "01e82e4f-e5a2-4fbb-8fad-5e4ab3a253c6",
   "metadata": {},
   "outputs": [],
   "source": [
    "model :: MonadSample m => m Double\n",
    "model = do\n",
    "    x <- bernoulli 0.5\n",
    "    normal (if x then 0 else 1) 1\n",
    "    \n",
    "image :: MonadSample m => m Plot\n",
    "image = fmap (plot . histogram 100) (replicateM 100000 model)\n"
   ]
  },
  {
   "cell_type": "code",
   "execution_count": 113,
   "id": "ace53904-ff25-419c-95b8-e3ee6debea48",
   "metadata": {},
   "outputs": [
    {
     "data": {
      "application/vnd.vegalite.v4+json": {
       "$schema": "https://vega.github.io/schema/vega-lite/v4.json",
       "data": {
        "values": [
         {
          "X": -4.052652426365952,
          "Y": 1
         },
         {
          "X": -3.9619144247619023,
          "Y": 1
         },
         {
          "X": -3.871176423157853,
          "Y": 1
         },
         {
          "X": -3.7804384215538036,
          "Y": 2
         },
         {
          "X": -3.689700419949754,
          "Y": 5
         },
         {
          "X": -3.5989624183457045,
          "Y": 1
         },
         {
          "X": -3.5082244167416547,
          "Y": 2
         },
         {
          "X": -3.4174864151376054,
          "Y": 7
         },
         {
          "X": -3.326748413533556,
          "Y": 6
         },
         {
          "X": -3.2360104119295063,
          "Y": 9
         },
         {
          "X": -3.145272410325457,
          "Y": 10
         },
         {
          "X": -3.0545344087214077,
          "Y": 17
         },
         {
          "X": -2.963796407117358,
          "Y": 27
         },
         {
          "X": -2.8730584055133086,
          "Y": 24
         },
         {
          "X": -2.7823204039092593,
          "Y": 43
         },
         {
          "X": -2.69158240230521,
          "Y": 49
         },
         {
          "X": -2.60084440070116,
          "Y": 72
         },
         {
          "X": -2.5101063990971104,
          "Y": 72
         },
         {
          "X": -2.419368397493061,
          "Y": 128
         },
         {
          "X": -2.3286303958890118,
          "Y": 132
         },
         {
          "X": -2.2378923942849624,
          "Y": 181
         },
         {
          "X": -2.1471543926809127,
          "Y": 212
         },
         {
          "X": -2.0564163910768634,
          "Y": 207
         },
         {
          "X": -1.9656783894728136,
          "Y": 309
         },
         {
          "X": -1.8749403878687643,
          "Y": 338
         },
         {
          "X": -1.784202386264715,
          "Y": 382
         },
         {
          "X": -1.6934643846606652,
          "Y": 492
         },
         {
          "X": -1.6027263830566159,
          "Y": 561
         },
         {
          "X": -1.5119883814525665,
          "Y": 636
         },
         {
          "X": -1.4212503798485168,
          "Y": 725
         },
         {
          "X": -1.3305123782444674,
          "Y": 888
         },
         {
          "X": -1.2397743766404177,
          "Y": 982
         },
         {
          "X": -1.1490363750363684,
          "Y": 1169
         },
         {
          "X": -1.058298373432319,
          "Y": 1243
         },
         {
          "X": -0.9675603718282693,
          "Y": 1395
         },
         {
          "X": -0.8768223702242199,
          "Y": 1453
         },
         {
          "X": -0.7860843686201702,
          "Y": 1725
         },
         {
          "X": -0.6953463670161208,
          "Y": 1832
         },
         {
          "X": -0.6046083654120715,
          "Y": 1938
         },
         {
          "X": -0.5138703638080218,
          "Y": 2176
         },
         {
          "X": -0.42313236220397243,
          "Y": 2313
         },
         {
          "X": -0.3323943605999231,
          "Y": 2381
         },
         {
          "X": -0.24165635899587334,
          "Y": 2677
         },
         {
          "X": -0.15091835739182402,
          "Y": 2709
         },
         {
          "X": -0.06018035578777425,
          "Y": 2888
         },
         {
          "X": 0.03055764581627507,
          "Y": 2869
         },
         {
          "X": 0.12129564742032528,
          "Y": 3142
         },
         {
          "X": 0.2120336490243746,
          "Y": 3182
         },
         {
          "X": 0.3027716506284239,
          "Y": 3149
         },
         {
          "X": 0.39350965223247325,
          "Y": 3228
         },
         {
          "X": 0.4842476538365226,
          "Y": 3180
         },
         {
          "X": 0.5749856554405728,
          "Y": 3199
         },
         {
          "X": 0.6657236570446221,
          "Y": 3121
         },
         {
          "X": 0.7564616586486714,
          "Y": 3087
         },
         {
          "X": 0.8471996602527208,
          "Y": 3094
         },
         {
          "X": 0.9379376618567701,
          "Y": 3001
         },
         {
          "X": 1.0286756634608194,
          "Y": 2865
         },
         {
          "X": 1.1194136650648696,
          "Y": 2773
         },
         {
          "X": 1.210151666668919,
          "Y": 2645
         },
         {
          "X": 1.3008896682729683,
          "Y": 2509
         },
         {
          "X": 1.3916276698770176,
          "Y": 2336
         },
         {
          "X": 1.482365671481067,
          "Y": 2210
         },
         {
          "X": 1.5731036730851171,
          "Y": 2052
         },
         {
          "X": 1.6638416746891664,
          "Y": 1972
         },
         {
          "X": 1.7545796762932158,
          "Y": 1746
         },
         {
          "X": 1.845317677897265,
          "Y": 1603
         },
         {
          "X": 1.9360556795013144,
          "Y": 1371
         },
         {
          "X": 2.0267936811053646,
          "Y": 1283
         },
         {
          "X": 2.117531682709414,
          "Y": 1183
         },
         {
          "X": 2.2082696843134633,
          "Y": 1097
         },
         {
          "X": 2.2990076859175126,
          "Y": 860
         },
         {
          "X": 2.389745687521562,
          "Y": 753
         },
         {
          "X": 2.480483689125612,
          "Y": 643
         },
         {
          "X": 2.5712216907296614,
          "Y": 590
         },
         {
          "X": 2.6619596923337108,
          "Y": 519
         },
         {
          "X": 2.75269769393776,
          "Y": 420
         },
         {
          "X": 2.8434356955418094,
          "Y": 351
         },
         {
          "X": 2.9341736971458587,
          "Y": 296
         },
         {
          "X": 3.024911698749909,
          "Y": 246
         },
         {
          "X": 3.1156497003539583,
          "Y": 207
         },
         {
          "X": 3.2063877019580076,
          "Y": 172
         },
         {
          "X": 3.297125703562057,
          "Y": 136
         },
         {
          "X": 3.3878637051661062,
          "Y": 106
         },
         {
          "X": 3.4786017067701565,
          "Y": 100
         },
         {
          "X": 3.5693397083742058,
          "Y": 71
         },
         {
          "X": 3.660077709978255,
          "Y": 50
         },
         {
          "X": 3.7508157115823044,
          "Y": 38
         },
         {
          "X": 3.8415537131863537,
          "Y": 29
         },
         {
          "X": 3.932291714790402,
          "Y": 21
         },
         {
          "X": 4.023029716394452,
          "Y": 23
         },
         {
          "X": 4.113767717998501,
          "Y": 16
         },
         {
          "X": 4.204505719602551,
          "Y": 9
         },
         {
          "X": 4.295243721206601,
          "Y": 4
         },
         {
          "X": 4.38598172281065,
          "Y": 3
         },
         {
          "X": 4.4767197244147,
          "Y": 2
         },
         {
          "X": 4.567457726018748,
          "Y": 5
         },
         {
          "X": 4.6581957276227985,
          "Y": 5
         },
         {
          "X": 4.748933729226849,
          "Y": 5
         },
         {
          "X": 4.839671730830897,
          "Y": 1
         },
         {
          "X": 4.930409732434947,
          "Y": 1
         }
        ]
       },
       "encoding": {
        "x": {
         "field": "X",
         "type": "quantitative"
        },
        "y": {
         "field": "Y",
         "type": "quantitative"
        }
       },
       "height": 400,
       "mark": "bar",
       "width": 400
      },
      "image/png": "[encoded data removed]"
     },
     "metadata": {},
     "output_type": "display_data"
    }
   ],
   "source": [
    "sampler image"
   ]
  },
  {
   "cell_type": "code",
   "execution_count": null,
   "id": "26beabf5-9f6b-4807-b2db-bd0198e997c0",
   "metadata": {},
   "outputs": [],
   "source": []
  }
 ],
 "metadata": {
  "kernelspec": {
   "display_name": "Haskell - nixpkgs",
   "language": "haskell",
   "name": "ihaskell_nixpkgs"
  },
  "language_info": {
   "codemirror_mode": "ihaskell",
   "file_extension": ".hs",
   "mimetype": "text/x-haskell",
   "name": "haskell",
   "pygments_lexer": "Haskell",
   "version": "9.0.2"
  }
 },
 "nbformat": 4,
 "nbformat_minor": 5
}
