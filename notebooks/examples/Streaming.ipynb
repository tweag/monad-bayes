{
 "cells": [
  {
   "cell_type": "markdown",
   "id": "8fbdbe43-ea41-4693-9e33-01be36977a43",
   "metadata": {},
   "source": [
    "# Probabilistic Streaming\n",
    "\n",
    "Streaming libraries in Haskell exist to represent streams of data where each incoming datapoint may involve a side-effect. \n",
    "\n",
    "In this notebook, we'll use the `pipes` library, which is not the fastest streaming library, but is simple and easy to use."
   ]
  },
  {
   "cell_type": "code",
   "execution_count": 1,
   "id": "748a7e61-e214-4a92-9d84-0ab8fc62da22",
   "metadata": {},
   "outputs": [],
   "source": [
    ":e ImportQualifiedPost\n",
    ":e FlexibleContexts\n",
    ":e BlockArguments\n",
    ":e TupleSections\n",
    ":e FlexibleContexts\n",
    ":e OverloadedStrings\n",
    ":e LambdaCase\n",
    "\n",
    "\n",
    "import Control.Monad.Bayes.Class\n",
    "import Control.Monad.Bayes.Enumerator\n",
    "import Control.Monad.Bayes.Weighted\n",
    "import Control.Monad.Bayes.Sampler.Strict\n",
    "import Control.Monad.Bayes.Density.Free\n",
    "import Control.Monad.Bayes.Population\n",
    "import Control.Monad.Bayes.Sequential.Coroutine\n",
    "import Control.Monad.Bayes.Inference.SMC\n",
    "\n",
    "import qualified Graphics.Vega.VegaLite as VL\n",
    "import IHaskell.Display.Hvega (vlShow)\n",
    "import Control.Applicative\n",
    "import qualified Data.Text as T\n",
    "import Pipes (Producer, (>->))\n",
    "import qualified Pipes as P\n",
    "import Pipes.Prelude (unfoldr)\n",
    "import qualified Pipes.Prelude as P\n",
    "import Data.Ord\n",
    "import Data.List\n",
    "import Control.Monad\n",
    "import Control.Arrow (first)\n",
    "import Numeric.Log\n",
    "import Data.Vector qualified as V\n",
    "\n",
    ":e PackageImports\n",
    "import \"matrix\" Data.Matrix hiding ((!))\n",
    "import Data.Vector.Generic as VG (Vector, map, mapM, null, sum, (!))\n",
    "\n",
    ":l ../plotting.hs"
   ]
  },
  {
   "cell_type": "markdown",
   "id": "feb44c2e-d5ff-46d3-b393-37fb3b316d12",
   "metadata": {},
   "source": [
    "A `Producer` represents a stream of data, and a `Pipe` maps one stream to another. Both are parametrized by a monad `m`, which in our case will be `MonadDistribution m => m`. \n",
    "\n",
    "For example, a random walk with a Gaussian `transition` kernel can be written as follows:"
   ]
  },
  {
   "cell_type": "code",
   "execution_count": 2,
   "id": "44083303-1d6c-4ba8-9cec-40f5af9455a4",
   "metadata": {},
   "outputs": [],
   "source": [
    "-- how to move from one latent state to the next\n",
    "transition :: MonadDistribution m => V.Vector Double -> m (V.Vector Double)\n",
    "transition vector = mvNormal (fmap (+0.5) vector) (fromLists [[1,0], [0,1]])\n",
    "    -- (normal (x+0.5) 1) (normal (y+0.5) 1)\n",
    "\n",
    "-- a Markovian random walk starting at (0,0), with latentTransition as the kernel\n",
    "-- a Producer is an infinite stream of values\n",
    "prior :: MonadDistribution m => Producer (V.Vector Double) m r\n",
    "prior = flip P.unfoldr (V.fromList [0,0]) $ \\s ->\n",
    "    Right <$> do\n",
    "        new <- transition s\n",
    "        return (new, new)"
   ]
  },
  {
   "cell_type": "markdown",
   "id": "e2138945-588b-4956-81a1-91a0072506f2",
   "metadata": {},
   "source": [
    "It's straightforward to take the first `n` steps of this infinite stream, and convert it into a distribution over finite list, from which we can then sample:"
   ]
  },
  {
   "cell_type": "code",
   "execution_count": 3,
   "id": "22553f70-df63-4819-8836-7f420a4ca451",
   "metadata": {},
   "outputs": [
    {
     "data": {
      "application/vnd.vegalite.v4+json": {
       "$schema": "https://vega.github.io/schema/vega-lite/v4.json",
       "data": {
        "values": [
         {
          "Outlier": "\"Latent\"",
          "X": -0.976725852798596,
          "Y": 1.6137193880196077
         },
         {
          "Outlier": "\"Latent\"",
          "X": 0.20408138974710444,
          "Y": 1.7919034094222825
         },
         {
          "Outlier": "\"Latent\"",
          "X": 0.4831200523092556,
          "Y": 1.907099116274424
         },
         {
          "Outlier": "\"Latent\"",
          "X": -0.09176882753590254,
          "Y": 1.8955141804642897
         },
         {
          "Outlier": "\"Latent\"",
          "X": -1.2218589977848304,
          "Y": 2.1822412112642686
         },
         {
          "Outlier": "\"Latent\"",
          "X": -0.7668458940561108,
          "Y": 2.212530442551486
         },
         {
          "Outlier": "\"Latent\"",
          "X": -0.6690157871149474,
          "Y": 3.6065228326525913
         },
         {
          "Outlier": "\"Latent\"",
          "X": 0.11244333089173442,
          "Y": 2.9159986959761524
         },
         {
          "Outlier": "\"Latent\"",
          "X": 1.2687408682854557,
          "Y": 3.1217227285265796
         },
         {
          "Outlier": "\"Latent\"",
          "X": 2.9374928178780935,
          "Y": 4.807186806397708
         },
         {
          "Outlier": "\"Latent\"",
          "X": 1.7506468484445976,
          "Y": 6.528258479316207
         },
         {
          "Outlier": "\"Latent\"",
          "X": 2.736589222593742,
          "Y": 6.949265904332787
         },
         {
          "Outlier": "\"Latent\"",
          "X": 3.641180710652565,
          "Y": 6.681148574533908
         },
         {
          "Outlier": "\"Latent\"",
          "X": 3.256520244565894,
          "Y": 7.874942228007868
         },
         {
          "Outlier": "\"Latent\"",
          "X": 3.532287597906861,
          "Y": 8.830585157823975
         },
         {
          "Outlier": "\"Latent\"",
          "X": 2.1806733831668645,
          "Y": 8.017622208601368
         },
         {
          "Outlier": "\"Latent\"",
          "X": 2.009761220323491,
          "Y": 7.84268801368802
         },
         {
          "Outlier": "\"Latent\"",
          "X": 2.141654233585815,
          "Y": 7.1758683184915455
         },
         {
          "Outlier": "\"Latent\"",
          "X": 2.109134026193262,
          "Y": 6.295985176823156
         },
         {
          "Outlier": "\"Latent\"",
          "X": 2.405745472992563,
          "Y": 6.200693454492153
         },
         {
          "Outlier": "\"Latent\"",
          "X": -0.01763593390225182,
          "Y": 6.26472827677569
         },
         {
          "Outlier": "\"Latent\"",
          "X": -0.7129309873545127,
          "Y": 6.073043706411563
         },
         {
          "Outlier": "\"Latent\"",
          "X": -1.3881353873773867,
          "Y": 5.511813869639958
         },
         {
          "Outlier": "\"Latent\"",
          "X": -2.0112168014112006,
          "Y": 4.863763667368105
         },
         {
          "Outlier": "\"Latent\"",
          "X": -2.6313526403453142,
          "Y": 6.526587675025231
         },
         {
          "Outlier": "\"Latent\"",
          "X": -3.647308978418825,
          "Y": 9.059358389741346
         },
         {
          "Outlier": "\"Latent\"",
          "X": -3.522248228389822,
          "Y": 10.81130328807151
         },
         {
          "Outlier": "\"Latent\"",
          "X": -3.1756973573574925,
          "Y": 11.004220161318386
         },
         {
          "Outlier": "\"Latent\"",
          "X": 0.11010814466808982,
          "Y": 10.321234798745154
         },
         {
          "Outlier": "\"Latent\"",
          "X": -0.39187980161433855,
          "Y": 12.364011379280585
         },
         {
          "Outlier": "\"Latent\"",
          "X": 0.03081207681047786,
          "Y": 12.291837576109366
         },
         {
          "Outlier": "\"Latent\"",
          "X": -0.14240533533610533,
          "Y": 14.912448411461696
         },
         {
          "Outlier": "\"Latent\"",
          "X": 0.7434588861709679,
          "Y": 15.226819972736129
         },
         {
          "Outlier": "\"Latent\"",
          "X": -0.08616212989934202,
          "Y": 16.246907651854926
         },
         {
          "Outlier": "\"Latent\"",
          "X": -1.2965615882985957,
          "Y": 16.938548777168933
         },
         {
          "Outlier": "\"Latent\"",
          "X": -1.0233599219588343,
          "Y": 18.172882376939775
         },
         {
          "Outlier": "\"Latent\"",
          "X": -1.593063313624189,
          "Y": 17.761804204307506
         },
         {
          "Outlier": "\"Latent\"",
          "X": -0.9071992020452398,
          "Y": 16.80832237549457
         },
         {
          "Outlier": "\"Latent\"",
          "X": 1.537278546495295,
          "Y": 18.239554653824978
         },
         {
          "Outlier": "\"Latent\"",
          "X": 1.293986040876521,
          "Y": 18.531479436575104
         },
         {
          "Outlier": "\"Latent\"",
          "X": 0.33734706739165166,
          "Y": 19.17952773388102
         },
         {
          "Outlier": "\"Latent\"",
          "X": 1.5526873356861643,
          "Y": 19.89809726940538
         },
         {
          "Outlier": "\"Latent\"",
          "X": 0.9653041361138308,
          "Y": 18.978715147896484
         },
         {
          "Outlier": "\"Latent\"",
          "X": 2.1754309252424315,
          "Y": 20.733465934111884
         },
         {
          "Outlier": "\"Latent\"",
          "X": 1.9042944402780204,
          "Y": 21.96238995944239
         },
         {
          "Outlier": "\"Latent\"",
          "X": 1.1670764368639701,
          "Y": 20.42119386858742
         },
         {
          "Outlier": "\"Latent\"",
          "X": 1.3725692433059047,
          "Y": 20.078416515233386
         },
         {
          "Outlier": "\"Latent\"",
          "X": 2.685773076792982,
          "Y": 19.780304063644362
         },
         {
          "Outlier": "\"Latent\"",
          "X": 2.304412655375019,
          "Y": 18.3267445924497
         },
         {
          "Outlier": "\"Latent\"",
          "X": 3.3005017878405236,
          "Y": 19.282099858122923
         },
         {
          "Outlier": "\"Latent\"",
          "X": 5.293682460243824,
          "Y": 18.09075163407331
         },
         {
          "Outlier": "\"Latent\"",
          "X": 5.48617010881213,
          "Y": 18.88912742921528
         },
         {
          "Outlier": "\"Latent\"",
          "X": 5.460178753240708,
          "Y": 20.05661588255413
         },
         {
          "Outlier": "\"Latent\"",
          "X": 6.694373042710004,
          "Y": 21.28417138017432
         },
         {
          "Outlier": "\"Latent\"",
          "X": 7.176262338621055,
          "Y": 23.610823147215058
         },
         {
          "Outlier": "\"Latent\"",
          "X": 9.263967259279326,
          "Y": 23.793471620769253
         },
         {
          "Outlier": "\"Latent\"",
          "X": 9.570548244239397,
          "Y": 22.80525709268169
         },
         {
          "Outlier": "\"Latent\"",
          "X": 12.224205146716235,
          "Y": 23.467270848547056
         },
         {
          "Outlier": "\"Latent\"",
          "X": 12.998028549367675,
          "Y": 24.976179113989346
         },
         {
          "Outlier": "\"Latent\"",
          "X": 13.469190861482701,
          "Y": 25.033371366639106
         },
         {
          "Outlier": "\"Latent\"",
          "X": 15.202761232337336,
          "Y": 23.705490410204654
         },
         {
          "Outlier": "\"Latent\"",
          "X": 15.45147544674246,
          "Y": 23.62245393809943
         },
         {
          "Outlier": "\"Latent\"",
          "X": 15.948845956272837,
          "Y": 23.316292902745392
         },
         {
          "Outlier": "\"Latent\"",
          "X": 17.16913170577638,
          "Y": 24.777353392198744
         },
         {
          "Outlier": "\"Latent\"",
          "X": 17.210423055711384,
          "Y": 26.565764557732845
         },
         {
          "Outlier": "\"Latent\"",
          "X": 17.498127213076074,
          "Y": 26.891514119480085
         },
         {
          "Outlier": "\"Latent\"",
          "X": 16.154587096331557,
          "Y": 26.96269886332814
         },
         {
          "Outlier": "\"Latent\"",
          "X": 17.365461967568603,
          "Y": 27.809691065821152
         },
         {
          "Outlier": "\"Latent\"",
          "X": 17.798709082450195,
          "Y": 26.878326604248347
         },
         {
          "Outlier": "\"Latent\"",
          "X": 18.711785330404158,
          "Y": 27.40681326568193
         },
         {
          "Outlier": "\"Latent\"",
          "X": 19.69126789860091,
          "Y": 29.24772788318292
         },
         {
          "Outlier": "\"Latent\"",
          "X": 18.611842559840028,
          "Y": 29.623895863932383
         },
         {
          "Outlier": "\"Latent\"",
          "X": 18.839415485737106,
          "Y": 30.176998016059404
         },
         {
          "Outlier": "\"Latent\"",
          "X": 17.872071800282136,
          "Y": 31.31449032366575
         },
         {
          "Outlier": "\"Latent\"",
          "X": 17.234433457755895,
          "Y": 31.92462627820767
         },
         {
          "Outlier": "\"Latent\"",
          "X": 18.316980583807805,
          "Y": 31.971459033847758
         },
         {
          "Outlier": "\"Latent\"",
          "X": 18.20614845743506,
          "Y": 33.38337742068083
         },
         {
          "Outlier": "\"Latent\"",
          "X": 19.469906680607902,
          "Y": 35.00768028137768
         },
         {
          "Outlier": "\"Latent\"",
          "X": 21.166533013229724,
          "Y": 36.2275881565787
         },
         {
          "Outlier": "\"Latent\"",
          "X": 20.934551476362326,
          "Y": 37.71788456932134
         },
         {
          "Outlier": "\"Latent\"",
          "X": 23.091390514827275,
          "Y": 37.35456321648551
         },
         {
          "Outlier": "\"Latent\"",
          "X": 23.202579247316468,
          "Y": 38.33182657807645
         },
         {
          "Outlier": "\"Latent\"",
          "X": 24.814982095085746,
          "Y": 39.896259204044675
         },
         {
          "Outlier": "\"Latent\"",
          "X": 26.862289553534435,
          "Y": 41.594015899000084
         },
         {
          "Outlier": "\"Latent\"",
          "X": 29.13108856747485,
          "Y": 43.24237558248829
         },
         {
          "Outlier": "\"Latent\"",
          "X": 29.96573917639689,
          "Y": 43.08564704913662
         },
         {
          "Outlier": "\"Latent\"",
          "X": 30.38129760060132,
          "Y": 42.60313904655006
         },
         {
          "Outlier": "\"Latent\"",
          "X": 30.127208744625026,
          "Y": 43.46925607531138
         },
         {
          "Outlier": "\"Latent\"",
          "X": 30.55395052376439,
          "Y": 44.113573468167885
         },
         {
          "Outlier": "\"Latent\"",
          "X": 31.939391547518845,
          "Y": 43.2108558967726
         },
         {
          "Outlier": "\"Latent\"",
          "X": 32.61564963693414,
          "Y": 44.322174851055706
         },
         {
          "Outlier": "\"Latent\"",
          "X": 33.968317987343596,
          "Y": 43.58458105865007
         },
         {
          "Outlier": "\"Latent\"",
          "X": 33.869346145845,
          "Y": 44.815191784044025
         },
         {
          "Outlier": "\"Latent\"",
          "X": 35.656369696990275,
          "Y": 45.33590548300918
         },
         {
          "Outlier": "\"Latent\"",
          "X": 36.36554153078791,
          "Y": 43.511280010066635
         },
         {
          "Outlier": "\"Latent\"",
          "X": 38.89653663422507,
          "Y": 42.455163627123405
         },
         {
          "Outlier": "\"Latent\"",
          "X": 40.62441756480252,
          "Y": 41.727621228442274
         },
         {
          "Outlier": "\"Latent\"",
          "X": 41.91827352178923,
          "Y": 41.3009998512681
         },
         {
          "Outlier": "\"Latent\"",
          "X": 41.57668178338979,
          "Y": 41.469615373408814
         },
         {
          "Outlier": "\"Latent\"",
          "X": 41.42459856678652,
          "Y": 42.382041619310584
         }
        ]
       },
       "encoding": {
        "color": {
         "field": "Outlier"
        },
        "x": {
         "field": "X",
         "type": "quantitative"
        },
        "y": {
         "field": "Y",
         "type": "quantitative"
        }
       },
       "height": 400,
       "mark": "circle",
       "width": 400
      },
      "image/png": "[encoded data removed]"
     },
     "metadata": {},
     "output_type": "display_data"
    }
   ],
   "source": [
    "-- convert the stream to a list, taking only the first 100 steps\n",
    "toList :: Monad m => P.Producer a m () -> m [a]\n",
    "toList prod = P.toListM (prod >-> P.take 100)\n",
    "\n",
    "trueVectors <- sampleIOfixed $ toList prior\n",
    "\n",
    "plot \n",
    "    (zip \n",
    "        (fmap (\\v -> (v V.! 0, v V.! 1)) $ trueVectors) \n",
    "        (replicate 100 (T.pack \"Latent\")))"
   ]
  },
  {
   "cell_type": "markdown",
   "id": "618f1d07-cd05-41da-929c-94499e1e856c",
   "metadata": {},
   "source": [
    "We can also produce a stream of observations from `prior`, each a noisy perturbation of the datapoint in question, by using a `Pipe`:"
   ]
  },
  {
   "cell_type": "code",
   "execution_count": 4,
   "id": "8ff7849d-4acc-48be-83ab-a3ecd5392094",
   "metadata": {},
   "outputs": [],
   "source": [
    "observationModel = (`mvNormal` fromLists [[20,0],[0,20]])\n",
    "\n",
    "observations :: MonadDistribution m => P.Pipe (V.Vector Double) (V.Vector Double) m ()\n",
    "observations = P.mapM observationModel"
   ]
  },
  {
   "cell_type": "code",
   "execution_count": 5,
   "id": "dad1d7a2-784f-481d-89a5-5ce14c9dcc9b",
   "metadata": {},
   "outputs": [
    {
     "data": {
      "application/vnd.vegalite.v4+json": {
       "$schema": "https://vega.github.io/schema/vega-lite/v4.json",
       "data": {
        "values": [
         {
          "Outlier": "\"Latent\"",
          "X": -0.976725852798596,
          "Y": 1.6137193880196077
         },
         {
          "Outlier": "\"Latent\"",
          "X": 0.20408138974710444,
          "Y": 1.7919034094222825
         },
         {
          "Outlier": "\"Latent\"",
          "X": 0.4831200523092556,
          "Y": 1.907099116274424
         },
         {
          "Outlier": "\"Latent\"",
          "X": -0.09176882753590254,
          "Y": 1.8955141804642897
         },
         {
          "Outlier": "\"Latent\"",
          "X": -1.2218589977848304,
          "Y": 2.1822412112642686
         },
         {
          "Outlier": "\"Latent\"",
          "X": -0.7668458940561108,
          "Y": 2.212530442551486
         },
         {
          "Outlier": "\"Latent\"",
          "X": -0.6690157871149474,
          "Y": 3.6065228326525913
         },
         {
          "Outlier": "\"Latent\"",
          "X": 0.11244333089173442,
          "Y": 2.9159986959761524
         },
         {
          "Outlier": "\"Latent\"",
          "X": 1.2687408682854557,
          "Y": 3.1217227285265796
         },
         {
          "Outlier": "\"Latent\"",
          "X": 2.9374928178780935,
          "Y": 4.807186806397708
         },
         {
          "Outlier": "\"Latent\"",
          "X": 1.7506468484445976,
          "Y": 6.528258479316207
         },
         {
          "Outlier": "\"Latent\"",
          "X": 2.736589222593742,
          "Y": 6.949265904332787
         },
         {
          "Outlier": "\"Latent\"",
          "X": 3.641180710652565,
          "Y": 6.681148574533908
         },
         {
          "Outlier": "\"Latent\"",
          "X": 3.256520244565894,
          "Y": 7.874942228007868
         },
         {
          "Outlier": "\"Latent\"",
          "X": 3.532287597906861,
          "Y": 8.830585157823975
         },
         {
          "Outlier": "\"Latent\"",
          "X": 2.1806733831668645,
          "Y": 8.017622208601368
         },
         {
          "Outlier": "\"Latent\"",
          "X": 2.009761220323491,
          "Y": 7.84268801368802
         },
         {
          "Outlier": "\"Latent\"",
          "X": 2.141654233585815,
          "Y": 7.1758683184915455
         },
         {
          "Outlier": "\"Latent\"",
          "X": 2.109134026193262,
          "Y": 6.295985176823156
         },
         {
          "Outlier": "\"Latent\"",
          "X": 2.405745472992563,
          "Y": 6.200693454492153
         },
         {
          "Outlier": "\"Latent\"",
          "X": -0.01763593390225182,
          "Y": 6.26472827677569
         },
         {
          "Outlier": "\"Latent\"",
          "X": -0.7129309873545127,
          "Y": 6.073043706411563
         },
         {
          "Outlier": "\"Latent\"",
          "X": -1.3881353873773867,
          "Y": 5.511813869639958
         },
         {
          "Outlier": "\"Latent\"",
          "X": -2.0112168014112006,
          "Y": 4.863763667368105
         },
         {
          "Outlier": "\"Latent\"",
          "X": -2.6313526403453142,
          "Y": 6.526587675025231
         },
         {
          "Outlier": "\"Latent\"",
          "X": -3.647308978418825,
          "Y": 9.059358389741346
         },
         {
          "Outlier": "\"Latent\"",
          "X": -3.522248228389822,
          "Y": 10.81130328807151
         },
         {
          "Outlier": "\"Latent\"",
          "X": -3.1756973573574925,
          "Y": 11.004220161318386
         },
         {
          "Outlier": "\"Latent\"",
          "X": 0.11010814466808982,
          "Y": 10.321234798745154
         },
         {
          "Outlier": "\"Latent\"",
          "X": -0.39187980161433855,
          "Y": 12.364011379280585
         },
         {
          "Outlier": "\"Latent\"",
          "X": 0.03081207681047786,
          "Y": 12.291837576109366
         },
         {
          "Outlier": "\"Latent\"",
          "X": -0.14240533533610533,
          "Y": 14.912448411461696
         },
         {
          "Outlier": "\"Latent\"",
          "X": 0.7434588861709679,
          "Y": 15.226819972736129
         },
         {
          "Outlier": "\"Latent\"",
          "X": -0.08616212989934202,
          "Y": 16.246907651854926
         },
         {
          "Outlier": "\"Latent\"",
          "X": -1.2965615882985957,
          "Y": 16.938548777168933
         },
         {
          "Outlier": "\"Latent\"",
          "X": -1.0233599219588343,
          "Y": 18.172882376939775
         },
         {
          "Outlier": "\"Latent\"",
          "X": -1.593063313624189,
          "Y": 17.761804204307506
         },
         {
          "Outlier": "\"Latent\"",
          "X": -0.9071992020452398,
          "Y": 16.80832237549457
         },
         {
          "Outlier": "\"Latent\"",
          "X": 1.537278546495295,
          "Y": 18.239554653824978
         },
         {
          "Outlier": "\"Latent\"",
          "X": 1.293986040876521,
          "Y": 18.531479436575104
         },
         {
          "Outlier": "\"Latent\"",
          "X": 0.33734706739165166,
          "Y": 19.17952773388102
         },
         {
          "Outlier": "\"Latent\"",
          "X": 1.5526873356861643,
          "Y": 19.89809726940538
         },
         {
          "Outlier": "\"Latent\"",
          "X": 0.9653041361138308,
          "Y": 18.978715147896484
         },
         {
          "Outlier": "\"Latent\"",
          "X": 2.1754309252424315,
          "Y": 20.733465934111884
         },
         {
          "Outlier": "\"Latent\"",
          "X": 1.9042944402780204,
          "Y": 21.96238995944239
         },
         {
          "Outlier": "\"Latent\"",
          "X": 1.1670764368639701,
          "Y": 20.42119386858742
         },
         {
          "Outlier": "\"Latent\"",
          "X": 1.3725692433059047,
          "Y": 20.078416515233386
         },
         {
          "Outlier": "\"Latent\"",
          "X": 2.685773076792982,
          "Y": 19.780304063644362
         },
         {
          "Outlier": "\"Latent\"",
          "X": 2.304412655375019,
          "Y": 18.3267445924497
         },
         {
          "Outlier": "\"Latent\"",
          "X": 3.3005017878405236,
          "Y": 19.282099858122923
         },
         {
          "Outlier": "\"Latent\"",
          "X": 5.293682460243824,
          "Y": 18.09075163407331
         },
         {
          "Outlier": "\"Latent\"",
          "X": 5.48617010881213,
          "Y": 18.88912742921528
         },
         {
          "Outlier": "\"Latent\"",
          "X": 5.460178753240708,
          "Y": 20.05661588255413
         },
         {
          "Outlier": "\"Latent\"",
          "X": 6.694373042710004,
          "Y": 21.28417138017432
         },
         {
          "Outlier": "\"Latent\"",
          "X": 7.176262338621055,
          "Y": 23.610823147215058
         },
         {
          "Outlier": "\"Latent\"",
          "X": 9.263967259279326,
          "Y": 23.793471620769253
         },
         {
          "Outlier": "\"Latent\"",
          "X": 9.570548244239397,
          "Y": 22.80525709268169
         },
         {
          "Outlier": "\"Latent\"",
          "X": 12.224205146716235,
          "Y": 23.467270848547056
         },
         {
          "Outlier": "\"Latent\"",
          "X": 12.998028549367675,
          "Y": 24.976179113989346
         },
         {
          "Outlier": "\"Latent\"",
          "X": 13.469190861482701,
          "Y": 25.033371366639106
         },
         {
          "Outlier": "\"Latent\"",
          "X": 15.202761232337336,
          "Y": 23.705490410204654
         },
         {
          "Outlier": "\"Latent\"",
          "X": 15.45147544674246,
          "Y": 23.62245393809943
         },
         {
          "Outlier": "\"Latent\"",
          "X": 15.948845956272837,
          "Y": 23.316292902745392
         },
         {
          "Outlier": "\"Latent\"",
          "X": 17.16913170577638,
          "Y": 24.777353392198744
         },
         {
          "Outlier": "\"Latent\"",
          "X": 17.210423055711384,
          "Y": 26.565764557732845
         },
         {
          "Outlier": "\"Latent\"",
          "X": 17.498127213076074,
          "Y": 26.891514119480085
         },
         {
          "Outlier": "\"Latent\"",
          "X": 16.154587096331557,
          "Y": 26.96269886332814
         },
         {
          "Outlier": "\"Latent\"",
          "X": 17.365461967568603,
          "Y": 27.809691065821152
         },
         {
          "Outlier": "\"Latent\"",
          "X": 17.798709082450195,
          "Y": 26.878326604248347
         },
         {
          "Outlier": "\"Latent\"",
          "X": 18.711785330404158,
          "Y": 27.40681326568193
         },
         {
          "Outlier": "\"Latent\"",
          "X": 19.69126789860091,
          "Y": 29.24772788318292
         },
         {
          "Outlier": "\"Latent\"",
          "X": 18.611842559840028,
          "Y": 29.623895863932383
         },
         {
          "Outlier": "\"Latent\"",
          "X": 18.839415485737106,
          "Y": 30.176998016059404
         },
         {
          "Outlier": "\"Latent\"",
          "X": 17.872071800282136,
          "Y": 31.31449032366575
         },
         {
          "Outlier": "\"Latent\"",
          "X": 17.234433457755895,
          "Y": 31.92462627820767
         },
         {
          "Outlier": "\"Latent\"",
          "X": 18.316980583807805,
          "Y": 31.971459033847758
         },
         {
          "Outlier": "\"Latent\"",
          "X": 18.20614845743506,
          "Y": 33.38337742068083
         },
         {
          "Outlier": "\"Latent\"",
          "X": 19.469906680607902,
          "Y": 35.00768028137768
         },
         {
          "Outlier": "\"Latent\"",
          "X": 21.166533013229724,
          "Y": 36.2275881565787
         },
         {
          "Outlier": "\"Latent\"",
          "X": 20.934551476362326,
          "Y": 37.71788456932134
         },
         {
          "Outlier": "\"Latent\"",
          "X": 23.091390514827275,
          "Y": 37.35456321648551
         },
         {
          "Outlier": "\"Latent\"",
          "X": 23.202579247316468,
          "Y": 38.33182657807645
         },
         {
          "Outlier": "\"Latent\"",
          "X": 24.814982095085746,
          "Y": 39.896259204044675
         },
         {
          "Outlier": "\"Latent\"",
          "X": 26.862289553534435,
          "Y": 41.594015899000084
         },
         {
          "Outlier": "\"Latent\"",
          "X": 29.13108856747485,
          "Y": 43.24237558248829
         },
         {
          "Outlier": "\"Latent\"",
          "X": 29.96573917639689,
          "Y": 43.08564704913662
         },
         {
          "Outlier": "\"Latent\"",
          "X": 30.38129760060132,
          "Y": 42.60313904655006
         },
         {
          "Outlier": "\"Latent\"",
          "X": 30.127208744625026,
          "Y": 43.46925607531138
         },
         {
          "Outlier": "\"Latent\"",
          "X": 30.55395052376439,
          "Y": 44.113573468167885
         },
         {
          "Outlier": "\"Latent\"",
          "X": 31.939391547518845,
          "Y": 43.2108558967726
         },
         {
          "Outlier": "\"Latent\"",
          "X": 32.61564963693414,
          "Y": 44.322174851055706
         },
         {
          "Outlier": "\"Latent\"",
          "X": 33.968317987343596,
          "Y": 43.58458105865007
         },
         {
          "Outlier": "\"Latent\"",
          "X": 33.869346145845,
          "Y": 44.815191784044025
         },
         {
          "Outlier": "\"Latent\"",
          "X": 35.656369696990275,
          "Y": 45.33590548300918
         },
         {
          "Outlier": "\"Latent\"",
          "X": 36.36554153078791,
          "Y": 43.511280010066635
         },
         {
          "Outlier": "\"Latent\"",
          "X": 38.89653663422507,
          "Y": 42.455163627123405
         },
         {
          "Outlier": "\"Latent\"",
          "X": 40.62441756480252,
          "Y": 41.727621228442274
         },
         {
          "Outlier": "\"Latent\"",
          "X": 41.91827352178923,
          "Y": 41.3009998512681
         },
         {
          "Outlier": "\"Latent\"",
          "X": 41.57668178338979,
          "Y": 41.469615373408814
         },
         {
          "Outlier": "\"Latent\"",
          "X": 41.42459856678652,
          "Y": 42.382041619310584
         },
         {
          "Outlier": "\"Observed\"",
          "X": -7.580844634776614,
          "Y": 6.5944239069622235
         },
         {
          "Outlier": "\"Observed\"",
          "X": 3.248743937559851,
          "Y": 0.3526986006438093
         },
         {
          "Outlier": "\"Observed\"",
          "X": -0.5050490895113429,
          "Y": 0.18620200124968855
         },
         {
          "Outlier": "\"Observed\"",
          "X": -4.898818034720657,
          "Y": -0.3923632050083641
         },
         {
          "Outlier": "\"Observed\"",
          "X": -8.511843858046447,
          "Y": 1.2284554974753363
         },
         {
          "Outlier": "\"Observed\"",
          "X": -0.9680334103747406,
          "Y": 0.11192002534055767
         },
         {
          "Outlier": "\"Observed\"",
          "X": -2.467574225881706,
          "Y": 7.604578343919755
         },
         {
          "Outlier": "\"Observed\"",
          "X": 1.3711667723918857,
          "Y": -2.408187100949384
         },
         {
          "Outlier": "\"Observed\"",
          "X": 4.203792682441598,
          "Y": 1.8056805938030605
         },
         {
          "Outlier": "\"Observed\"",
          "X": 8.164310434127184,
          "Y": 10.108743332405604
         },
         {
          "Outlier": "\"Observed\"",
          "X": -5.79315766200506,
          "Y": 11.989057011406512
         },
         {
          "Outlier": "\"Observed\"",
          "X": 4.909789586083988,
          "Y": 6.596000369571432
         },
         {
          "Outlier": "\"Observed\"",
          "X": 5.450568851487211,
          "Y": 3.2460234462820723
         },
         {
          "Outlier": "\"Observed\"",
          "X": -0.6998016337869939,
          "Y": 10.977681771059281
         },
         {
          "Outlier": "\"Observed\"",
          "X": 2.5294887164982844,
          "Y": 10.868282286895937
         },
         {
          "Outlier": "\"Observed\"",
          "X": -6.099997121360188,
          "Y": 2.145873395800658
         },
         {
          "Outlier": "\"Observed\"",
          "X": -0.9906491857748931,
          "Y": 4.824290533357343
         },
         {
          "Outlier": "\"Observed\"",
          "X": 0.49542974290970143,
          "Y": 1.9576920066017385
         },
         {
          "Outlier": "\"Observed\"",
          "X": -0.2723687400508079,
          "Y": 0.12496016527017417
         },
         {
          "Outlier": "\"Observed\"",
          "X": 1.4961642113883717,
          "Y": 3.538467939342046
         },
         {
          "Outlier": "\"Observed\"",
          "X": -13.091395033853809,
          "Y": 4.31503273038212
         },
         {
          "Outlier": "\"Observed\"",
          "X": -6.058452972731513,
          "Y": 2.979736269767715
         },
         {
          "Outlier": "\"Observed\"",
          "X": -6.643809239193391,
          "Y": 0.7658497600953291
         },
         {
          "Outlier": "\"Observed\"",
          "X": -7.033789573503589,
          "Y": -0.27047292035638915
         },
         {
          "Outlier": "\"Observed\"",
          "X": -7.640752400126181,
          "Y": 11.726894729005371
         },
         {
          "Outlier": "\"Observed\"",
          "X": -10.42687182412687,
          "Y": 18.150185391293476
         },
         {
          "Outlier": "\"Observed\"",
          "X": -5.199027529125694,
          "Y": 16.410171081572134
         },
         {
          "Outlier": "\"Observed\"",
          "X": -3.8619427242771804,
          "Y": 9.630902668992045
         },
         {
          "Outlier": "\"Observed\"",
          "X": 12.56860909391235,
          "Y": 5.030763424543189
         },
         {
          "Outlier": "\"Observed\"",
          "X": -4.872906122660174,
          "Y": 19.263517995624394
         },
         {
          "Outlier": "\"Observed\"",
          "X": -0.3149203532993794,
          "Y": 9.732998538438505
         },
         {
          "Outlier": "\"Observed\"",
          "X": -3.1531251297286103,
          "Y": 24.396108374802544
         },
         {
          "Outlier": "\"Observed\"",
          "X": 2.469096144920672,
          "Y": 14.396664357641086
         },
         {
          "Outlier": "\"Observed\"",
          "X": -6.0324080823904485,
          "Y": 18.57281046139439
         },
         {
          "Outlier": "\"Observed\"",
          "X": -8.945700503617706,
          "Y": 17.795593944142286
         },
         {
          "Outlier": "\"Observed\"",
          "X": -2.037632904454779,
          "Y": 21.456922071439237
         },
         {
          "Outlier": "\"Observed\"",
          "X": -6.376922312675819,
          "Y": 13.687338750663415
         },
         {
          "Outlier": "\"Observed\"",
          "X": -0.07598962590896796,
          "Y": 10.308154028921695
         },
         {
          "Outlier": "\"Observed\"",
          "X": 10.233247399440053,
          "Y": 22.404152008202583
         },
         {
          "Outlier": "\"Observed\"",
          "X": -2.030119098582926,
          "Y": 17.60093877616759
         },
         {
          "Outlier": "\"Observed\"",
          "X": -6.176940459383712,
          "Y": 19.84161984733927
         },
         {
          "Outlier": "\"Observed\"",
          "X": 4.751786269585101,
          "Y": 20.875569947891428
         },
         {
          "Outlier": "\"Observed\"",
          "X": -3.897621367556085,
          "Y": 12.631045328412961
         },
         {
          "Outlier": "\"Observed\"",
          "X": 5.351214471512851,
          "Y": 26.344882039709773
         },
         {
          "Outlier": "\"Observed\"",
          "X": -1.5443327603433157,
          "Y": 25.222237301585974
         },
         {
          "Outlier": "\"Observed\"",
          "X": -4.365930680376797,
          "Y": 11.292687439470313
         },
         {
          "Outlier": "\"Observed\"",
          "X": 0.05549303398885996,
          "Y": 16.30940161123943
         },
         {
          "Outlier": "\"Observed\"",
          "X": 6.32253117927403,
          "Y": 16.21103667276023
         },
         {
          "Outlier": "\"Observed\"",
          "X": -1.6371509745618358,
          "Y": 9.59016104109009
         },
         {
          "Outlier": "\"Observed\"",
          "X": 5.5190798340240566,
          "Y": 21.318510514038525
         },
         {
          "Outlier": "\"Observed\"",
          "X": 11.971389432609072,
          "Y": 10.526812428876351
         },
         {
          "Outlier": "\"Observed\"",
          "X": 4.110933065367986,
          "Y": 20.22350455077127
         },
         {
          "Outlier": "\"Observed\"",
          "X": 3.1078738999707833,
          "Y": 23.041714994277868
         },
         {
          "Outlier": "\"Observed\"",
          "X": 9.977789722601011,
          "Y": 24.537898480339187
         },
         {
          "Outlier": "\"Observed\"",
          "X": 7.095268807694508,
          "Y": 31.77985819186145
         },
         {
          "Outlier": "\"Observed\"",
          "X": 16.364399520884938,
          "Y": 22.374232448976972
         },
         {
          "Outlier": "\"Observed\"",
          "X": 8.705552112698728,
          "Y": 16.149759392868564
         },
         {
          "Outlier": "\"Observed\"",
          "X": 21.85565161501593,
          "Y": 24.191818391357085
         },
         {
          "Outlier": "\"Observed\"",
          "X": 14.222604033685503,
          "Y": 29.48815404317007
         },
         {
          "Outlier": "\"Observed\"",
          "X": 13.340224800633258,
          "Y": 23.05307491856172
         },
         {
          "Outlier": "\"Observed\"",
          "X": 20.719455640858513,
          "Y": 15.53095826347512
         },
         {
          "Outlier": "\"Observed\"",
          "X": 14.327691250003301,
          "Y": 21.01503556812154
         },
         {
          "Outlier": "\"Observed\"",
          "X": 15.93708651740031,
          "Y": 19.711031151018922
         },
         {
          "Outlier": "\"Observed\"",
          "X": 20.390347504004996,
          "Y": 29.07534656201258
         },
         {
          "Outlier": "\"Observed\"",
          "X": 15.1590156088864,
          "Y": 32.32771445594081
         },
         {
          "Outlier": "\"Observed\"",
          "X": 16.54871134212977,
          "Y": 26.11224246939548
         },
         {
          "Outlier": "\"Observed\"",
          "X": 7.910025055754277,
          "Y": 25.044978738238672
         },
         {
          "Outlier": "\"Observed\"",
          "X": 20.544591038733497,
          "Y": 29.361487370694647
         },
         {
          "Outlier": "\"Observed\"",
          "X": 17.500181104812206,
          "Y": 20.477070130939993
         },
         {
          "Outlier": "\"Observed\"",
          "X": 20.559118471035397,
          "Y": 27.53420948851696
         },
         {
          "Outlier": "\"Observed\"",
          "X": 21.83557913162914,
          "Y": 35.244480356693614
         },
         {
          "Outlier": "\"Observed\"",
          "X": 11.548437714130095,
          "Y": 29.070102238261843
         },
         {
          "Outlier": "\"Observed\"",
          "X": 17.621084572526097,
          "Y": 30.41447805987451
         },
         {
          "Outlier": "\"Observed\"",
          "X": 11.309911346217373,
          "Y": 34.16544259354775
         },
         {
          "Outlier": "\"Observed\"",
          "X": 12.146760122358163,
          "Y": 32.41716924045278
         },
         {
          "Outlier": "\"Observed\"",
          "X": 20.922210531706227,
          "Y": 29.944833506717718
         },
         {
          "Outlier": "\"Observed\"",
          "X": 15.474424142614655,
          "Y": 37.46160042646224
         },
         {
          "Outlier": "\"Observed\"",
          "X": 22.88553729138576,
          "Y": 40.03571552900896
         },
         {
          "Outlier": "\"Observed\"",
          "X": 26.518008660047066,
          "Y": 39.44711404955252
         },
         {
          "Outlier": "\"Observed\"",
          "X": 17.661030526941786,
          "Y": 42.146624762854835
         },
         {
          "Outlier": "\"Observed\"",
          "X": 30.5009999503933,
          "Y": 33.49367275374949
         },
         {
          "Outlier": "\"Observed\"",
          "X": 21.463762398172424,
          "Y": 40.46621321745128
         },
         {
          "Outlier": "\"Observed\"",
          "X": 29.789798867038662,
          "Y": 44.656546622311794
         },
         {
          "Outlier": "\"Observed\"",
          "X": 33.782058871901825,
          "Y": 46.950546679851634
         },
         {
          "Outlier": "\"Observed\"",
          "X": 37.04139823488559,
          "Y": 48.37799621228787
         },
         {
          "Outlier": "\"Observed\"",
          "X": 31.46234219691965,
          "Y": 40.148667762460455
         },
         {
          "Outlier": "\"Observed\"",
          "X": 30.003663393389132,
          "Y": 38.20922968210791
         },
         {
          "Outlier": "\"Observed\"",
          "X": 26.754820858548936,
          "Y": 45.106581203372485
         },
         {
          "Outlier": "\"Observed\"",
          "X": 30.226329800254234,
          "Y": 44.75898046969328
         },
         {
          "Outlier": "\"Observed\"",
          "X": 35.89920418588279,
          "Y": 36.93771221102605
         },
         {
          "Outlier": "\"Observed\"",
          "X": 33.40389977596779,
          "Y": 47.05607632647793
         },
         {
          "Outlier": "\"Observed\"",
          "X": 37.781566774899915,
          "Y": 38.04989336194857
         },
         {
          "Outlier": "\"Observed\"",
          "X": 31.19066263744683,
          "Y": 48.08258227818665
         },
         {
          "Outlier": "\"Observed\"",
          "X": 41.4121139949983,
          "Y": 45.42853996091228
         },
         {
          "Outlier": "\"Observed\"",
          "X": 37.300986409487486,
          "Y": 33.11523885061237
         },
         {
          "Outlier": "\"Observed\"",
          "X": 47.97942286073449,
          "Y": 35.49599960079908
         },
         {
          "Outlier": "\"Observed\"",
          "X": 46.11566802289627,
          "Y": 36.23788473101395
         },
         {
          "Outlier": "\"Observed\"",
          "X": 45.468505290120085,
          "Y": 37.15702307373626
         },
         {
          "Outlier": "\"Observed\"",
          "X": 37.81296911066304,
          "Y": 39.98761893504553
         },
         {
          "Outlier": "\"Observed\"",
          "X": 38.50839376816329,
          "Y": 44.226467862393385
         }
        ]
       },
       "encoding": {
        "color": {
         "field": "Outlier"
        },
        "x": {
         "field": "X",
         "type": "quantitative"
        },
        "y": {
         "field": "Y",
         "type": "quantitative"
        }
       },
       "height": 400,
       "mark": "circle",
       "width": 400
      },
      "image/png": "[encoded data removed]"
     },
     "metadata": {},
     "output_type": "display_data"
    }
   ],
   "source": [
    "observedVectors <- sampleIOfixed $ toList $ P.each trueVectors >-> observations\n",
    "\n",
    "\n",
    "plot \n",
    "    (zip \n",
    "        (fmap (\\v -> (v V.! 0, v V.! 1)) $ trueVectors <> observedVectors) \n",
    "        (replicate 100 (T.pack \"Latent\") <> replicate 100 (T.pack \"Observed\")))"
   ]
  },
  {
   "cell_type": "markdown",
   "id": "e48ded8f-26c7-4b8c-a423-072381fbf741",
   "metadata": {},
   "source": [
    "## Conditioning\n",
    "\n",
    "But most interestingly, we can update our prior, based on a stream of incoming observations. `conditioning` below takes two `Producer`s, the stream corresponding to the prior (see `prior` above) and the stream corresponding to the observations (`P.each observedVectors`, where `P.each` lifts a list to a stream), and a likelihood, and returns a posterior, also expressed as a stream.  "
   ]
  },
  {
   "cell_type": "code",
   "execution_count": 6,
   "id": "29063963-1733-48f5-b71e-05dd727ee664",
   "metadata": {},
   "outputs": [],
   "source": [
    "-- take the original random walk as a prior and condition on the observations\n",
    "-- to obtain a posterior random walk\n",
    "conditioning :: MonadMeasure m => \n",
    "    P.Producer (V.Vector Double) m () -> \n",
    "    P.Producer (V.Vector Double) m () -> \n",
    "    ((V.Vector Double, V.Vector Double) -> m ()) ->\n",
    "    P.Producer (V.Vector Double) m ()\n",
    "conditioning prior observations observationModel = \n",
    "    P.zip prior observations\n",
    "    >-> P.chain observationModel\n",
    "    >-> P.map fst \n",
    "\n",
    "\n",
    "posterior :: MonadMeasure m => m [V.Vector Double]\n",
    "posterior = toList $ conditioning \n",
    "    prior\n",
    "    (P.each observedVectors)\n",
    "    (\\(v, v') -> do\n",
    "        prediction <- observationModel v\n",
    "        let (x, y, x', y') = (prediction V.! 0, prediction V.! 1, v' V.! 0, v' V.! 1)\n",
    "        factor $ normalPdf x 2 x' * normalPdf y 2 y' )\n"
   ]
  },
  {
   "cell_type": "markdown",
   "id": "53c196ce-a76b-486a-af09-07dad9100abe",
   "metadata": {},
   "source": [
    "We can then use an inference method of our liking:"
   ]
  },
  {
   "cell_type": "code",
   "execution_count": 7,
   "id": "38c2337a-4c9f-4ef8-85b3-691fc691ff51",
   "metadata": {
    "tags": []
   },
   "outputs": [
    {
     "data": {
      "text/plain": []
     },
     "metadata": {},
     "output_type": "display_data"
    }
   ],
   "source": [
    "particles <- sampleIOfixed $ runPopulation $ \n",
    "    smc SMCConfig {\n",
    "        numSteps = 100, \n",
    "        numParticles = 1000, \n",
    "        resampler = resampleMultinomial} \n",
    "    posterior"
   ]
  },
  {
   "cell_type": "code",
   "execution_count": 8,
   "id": "ddd48970-cf80-4945-9b13-ceb33b5ef362",
   "metadata": {},
   "outputs": [
    {
     "data": {
      "application/vnd.vegalite.v4+json": {
       "$schema": "https://vega.github.io/schema/vega-lite/v4.json",
       "data": {
        "values": [
         {
          "Outlier": "\"True\"",
          "X": -0.976725852798596,
          "Y": 1.6137193880196077
         },
         {
          "Outlier": "\"True\"",
          "X": 0.20408138974710444,
          "Y": 1.7919034094222825
         },
         {
          "Outlier": "\"True\"",
          "X": 0.4831200523092556,
          "Y": 1.907099116274424
         },
         {
          "Outlier": "\"True\"",
          "X": -0.09176882753590254,
          "Y": 1.8955141804642897
         },
         {
          "Outlier": "\"True\"",
          "X": -1.2218589977848304,
          "Y": 2.1822412112642686
         },
         {
          "Outlier": "\"True\"",
          "X": -0.7668458940561108,
          "Y": 2.212530442551486
         },
         {
          "Outlier": "\"True\"",
          "X": -0.6690157871149474,
          "Y": 3.6065228326525913
         },
         {
          "Outlier": "\"True\"",
          "X": 0.11244333089173442,
          "Y": 2.9159986959761524
         },
         {
          "Outlier": "\"True\"",
          "X": 1.2687408682854557,
          "Y": 3.1217227285265796
         },
         {
          "Outlier": "\"True\"",
          "X": 2.9374928178780935,
          "Y": 4.807186806397708
         },
         {
          "Outlier": "\"True\"",
          "X": 1.7506468484445976,
          "Y": 6.528258479316207
         },
         {
          "Outlier": "\"True\"",
          "X": 2.736589222593742,
          "Y": 6.949265904332787
         },
         {
          "Outlier": "\"True\"",
          "X": 3.641180710652565,
          "Y": 6.681148574533908
         },
         {
          "Outlier": "\"True\"",
          "X": 3.256520244565894,
          "Y": 7.874942228007868
         },
         {
          "Outlier": "\"True\"",
          "X": 3.532287597906861,
          "Y": 8.830585157823975
         },
         {
          "Outlier": "\"True\"",
          "X": 2.1806733831668645,
          "Y": 8.017622208601368
         },
         {
          "Outlier": "\"True\"",
          "X": 2.009761220323491,
          "Y": 7.84268801368802
         },
         {
          "Outlier": "\"True\"",
          "X": 2.141654233585815,
          "Y": 7.1758683184915455
         },
         {
          "Outlier": "\"True\"",
          "X": 2.109134026193262,
          "Y": 6.295985176823156
         },
         {
          "Outlier": "\"True\"",
          "X": 2.405745472992563,
          "Y": 6.200693454492153
         },
         {
          "Outlier": "\"True\"",
          "X": -0.01763593390225182,
          "Y": 6.26472827677569
         },
         {
          "Outlier": "\"True\"",
          "X": -0.7129309873545127,
          "Y": 6.073043706411563
         },
         {
          "Outlier": "\"True\"",
          "X": -1.3881353873773867,
          "Y": 5.511813869639958
         },
         {
          "Outlier": "\"True\"",
          "X": -2.0112168014112006,
          "Y": 4.863763667368105
         },
         {
          "Outlier": "\"True\"",
          "X": -2.6313526403453142,
          "Y": 6.526587675025231
         },
         {
          "Outlier": "\"True\"",
          "X": -3.647308978418825,
          "Y": 9.059358389741346
         },
         {
          "Outlier": "\"True\"",
          "X": -3.522248228389822,
          "Y": 10.81130328807151
         },
         {
          "Outlier": "\"True\"",
          "X": -3.1756973573574925,
          "Y": 11.004220161318386
         },
         {
          "Outlier": "\"True\"",
          "X": 0.11010814466808982,
          "Y": 10.321234798745154
         },
         {
          "Outlier": "\"True\"",
          "X": -0.39187980161433855,
          "Y": 12.364011379280585
         },
         {
          "Outlier": "\"True\"",
          "X": 0.03081207681047786,
          "Y": 12.291837576109366
         },
         {
          "Outlier": "\"True\"",
          "X": -0.14240533533610533,
          "Y": 14.912448411461696
         },
         {
          "Outlier": "\"True\"",
          "X": 0.7434588861709679,
          "Y": 15.226819972736129
         },
         {
          "Outlier": "\"True\"",
          "X": -0.08616212989934202,
          "Y": 16.246907651854926
         },
         {
          "Outlier": "\"True\"",
          "X": -1.2965615882985957,
          "Y": 16.938548777168933
         },
         {
          "Outlier": "\"True\"",
          "X": -1.0233599219588343,
          "Y": 18.172882376939775
         },
         {
          "Outlier": "\"True\"",
          "X": -1.593063313624189,
          "Y": 17.761804204307506
         },
         {
          "Outlier": "\"True\"",
          "X": -0.9071992020452398,
          "Y": 16.80832237549457
         },
         {
          "Outlier": "\"True\"",
          "X": 1.537278546495295,
          "Y": 18.239554653824978
         },
         {
          "Outlier": "\"True\"",
          "X": 1.293986040876521,
          "Y": 18.531479436575104
         },
         {
          "Outlier": "\"True\"",
          "X": 0.33734706739165166,
          "Y": 19.17952773388102
         },
         {
          "Outlier": "\"True\"",
          "X": 1.5526873356861643,
          "Y": 19.89809726940538
         },
         {
          "Outlier": "\"True\"",
          "X": 0.9653041361138308,
          "Y": 18.978715147896484
         },
         {
          "Outlier": "\"True\"",
          "X": 2.1754309252424315,
          "Y": 20.733465934111884
         },
         {
          "Outlier": "\"True\"",
          "X": 1.9042944402780204,
          "Y": 21.96238995944239
         },
         {
          "Outlier": "\"True\"",
          "X": 1.1670764368639701,
          "Y": 20.42119386858742
         },
         {
          "Outlier": "\"True\"",
          "X": 1.3725692433059047,
          "Y": 20.078416515233386
         },
         {
          "Outlier": "\"True\"",
          "X": 2.685773076792982,
          "Y": 19.780304063644362
         },
         {
          "Outlier": "\"True\"",
          "X": 2.304412655375019,
          "Y": 18.3267445924497
         },
         {
          "Outlier": "\"True\"",
          "X": 3.3005017878405236,
          "Y": 19.282099858122923
         },
         {
          "Outlier": "\"True\"",
          "X": 5.293682460243824,
          "Y": 18.09075163407331
         },
         {
          "Outlier": "\"True\"",
          "X": 5.48617010881213,
          "Y": 18.88912742921528
         },
         {
          "Outlier": "\"True\"",
          "X": 5.460178753240708,
          "Y": 20.05661588255413
         },
         {
          "Outlier": "\"True\"",
          "X": 6.694373042710004,
          "Y": 21.28417138017432
         },
         {
          "Outlier": "\"True\"",
          "X": 7.176262338621055,
          "Y": 23.610823147215058
         },
         {
          "Outlier": "\"True\"",
          "X": 9.263967259279326,
          "Y": 23.793471620769253
         },
         {
          "Outlier": "\"True\"",
          "X": 9.570548244239397,
          "Y": 22.80525709268169
         },
         {
          "Outlier": "\"True\"",
          "X": 12.224205146716235,
          "Y": 23.467270848547056
         },
         {
          "Outlier": "\"True\"",
          "X": 12.998028549367675,
          "Y": 24.976179113989346
         },
         {
          "Outlier": "\"True\"",
          "X": 13.469190861482701,
          "Y": 25.033371366639106
         },
         {
          "Outlier": "\"True\"",
          "X": 15.202761232337336,
          "Y": 23.705490410204654
         },
         {
          "Outlier": "\"True\"",
          "X": 15.45147544674246,
          "Y": 23.62245393809943
         },
         {
          "Outlier": "\"True\"",
          "X": 15.948845956272837,
          "Y": 23.316292902745392
         },
         {
          "Outlier": "\"True\"",
          "X": 17.16913170577638,
          "Y": 24.777353392198744
         },
         {
          "Outlier": "\"True\"",
          "X": 17.210423055711384,
          "Y": 26.565764557732845
         },
         {
          "Outlier": "\"True\"",
          "X": 17.498127213076074,
          "Y": 26.891514119480085
         },
         {
          "Outlier": "\"True\"",
          "X": 16.154587096331557,
          "Y": 26.96269886332814
         },
         {
          "Outlier": "\"True\"",
          "X": 17.365461967568603,
          "Y": 27.809691065821152
         },
         {
          "Outlier": "\"True\"",
          "X": 17.798709082450195,
          "Y": 26.878326604248347
         },
         {
          "Outlier": "\"True\"",
          "X": 18.711785330404158,
          "Y": 27.40681326568193
         },
         {
          "Outlier": "\"True\"",
          "X": 19.69126789860091,
          "Y": 29.24772788318292
         },
         {
          "Outlier": "\"True\"",
          "X": 18.611842559840028,
          "Y": 29.623895863932383
         },
         {
          "Outlier": "\"True\"",
          "X": 18.839415485737106,
          "Y": 30.176998016059404
         },
         {
          "Outlier": "\"True\"",
          "X": 17.872071800282136,
          "Y": 31.31449032366575
         },
         {
          "Outlier": "\"True\"",
          "X": 17.234433457755895,
          "Y": 31.92462627820767
         },
         {
          "Outlier": "\"True\"",
          "X": 18.316980583807805,
          "Y": 31.971459033847758
         },
         {
          "Outlier": "\"True\"",
          "X": 18.20614845743506,
          "Y": 33.38337742068083
         },
         {
          "Outlier": "\"True\"",
          "X": 19.469906680607902,
          "Y": 35.00768028137768
         },
         {
          "Outlier": "\"True\"",
          "X": 21.166533013229724,
          "Y": 36.2275881565787
         },
         {
          "Outlier": "\"True\"",
          "X": 20.934551476362326,
          "Y": 37.71788456932134
         },
         {
          "Outlier": "\"True\"",
          "X": 23.091390514827275,
          "Y": 37.35456321648551
         },
         {
          "Outlier": "\"True\"",
          "X": 23.202579247316468,
          "Y": 38.33182657807645
         },
         {
          "Outlier": "\"True\"",
          "X": 24.814982095085746,
          "Y": 39.896259204044675
         },
         {
          "Outlier": "\"True\"",
          "X": 26.862289553534435,
          "Y": 41.594015899000084
         },
         {
          "Outlier": "\"True\"",
          "X": 29.13108856747485,
          "Y": 43.24237558248829
         },
         {
          "Outlier": "\"True\"",
          "X": 29.96573917639689,
          "Y": 43.08564704913662
         },
         {
          "Outlier": "\"True\"",
          "X": 30.38129760060132,
          "Y": 42.60313904655006
         },
         {
          "Outlier": "\"True\"",
          "X": 30.127208744625026,
          "Y": 43.46925607531138
         },
         {
          "Outlier": "\"True\"",
          "X": 30.55395052376439,
          "Y": 44.113573468167885
         },
         {
          "Outlier": "\"True\"",
          "X": 31.939391547518845,
          "Y": 43.2108558967726
         },
         {
          "Outlier": "\"True\"",
          "X": 32.61564963693414,
          "Y": 44.322174851055706
         },
         {
          "Outlier": "\"True\"",
          "X": 33.968317987343596,
          "Y": 43.58458105865007
         },
         {
          "Outlier": "\"True\"",
          "X": 33.869346145845,
          "Y": 44.815191784044025
         },
         {
          "Outlier": "\"True\"",
          "X": 35.656369696990275,
          "Y": 45.33590548300918
         },
         {
          "Outlier": "\"True\"",
          "X": 36.36554153078791,
          "Y": 43.511280010066635
         },
         {
          "Outlier": "\"True\"",
          "X": 38.89653663422507,
          "Y": 42.455163627123405
         },
         {
          "Outlier": "\"True\"",
          "X": 40.62441756480252,
          "Y": 41.727621228442274
         },
         {
          "Outlier": "\"True\"",
          "X": 41.91827352178923,
          "Y": 41.3009998512681
         },
         {
          "Outlier": "\"True\"",
          "X": 41.57668178338979,
          "Y": 41.469615373408814
         },
         {
          "Outlier": "\"True\"",
          "X": 41.42459856678652,
          "Y": 42.382041619310584
         },
         {
          "Outlier": "\"Inferred\"",
          "X": -1.3672224100432464,
          "Y": 0.48810911351361935
         },
         {
          "Outlier": "\"Inferred\"",
          "X": -1.362481961988402,
          "Y": 0.7076446081740262
         },
         {
          "Outlier": "\"Inferred\"",
          "X": -0.8715888597202504,
          "Y": 0.5387869363321125
         },
         {
          "Outlier": "\"Inferred\"",
          "X": -1.7846730243034472,
          "Y": 0.10506846798668501
         },
         {
          "Outlier": "\"Inferred\"",
          "X": -1.7248963513441793,
          "Y": 1.7527964620207235
         },
         {
          "Outlier": "\"Inferred\"",
          "X": -2.4584252971562393,
          "Y": 2.228366920830615
         },
         {
          "Outlier": "\"Inferred\"",
          "X": -1.1279224722940642,
          "Y": 3.443210568179678
         },
         {
          "Outlier": "\"Inferred\"",
          "X": -1.479008906435281,
          "Y": 3.6908288290815645
         },
         {
          "Outlier": "\"Inferred\"",
          "X": 0.3615054073081352,
          "Y": 4.27972153425087
         },
         {
          "Outlier": "\"Inferred\"",
          "X": 0.8486611255806581,
          "Y": 4.592720222548362
         },
         {
          "Outlier": "\"Inferred\"",
          "X": 0.32944348639832954,
          "Y": 4.596809693227079
         },
         {
          "Outlier": "\"Inferred\"",
          "X": -0.21925626392848585,
          "Y": 5.163907931661737
         },
         {
          "Outlier": "\"Inferred\"",
          "X": -0.21992193392391401,
          "Y": 4.118185761295895
         },
         {
          "Outlier": "\"Inferred\"",
          "X": 0.4150919011751638,
          "Y": 5.538117360209408
         },
         {
          "Outlier": "\"Inferred\"",
          "X": -0.7892140966783031,
          "Y": 5.695449583765478
         },
         {
          "Outlier": "\"Inferred\"",
          "X": 1.1404372527748952,
          "Y": 5.866232913939554
         },
         {
          "Outlier": "\"Inferred\"",
          "X": 1.8380893328893904,
          "Y": 6.364770313736374
         },
         {
          "Outlier": "\"Inferred\"",
          "X": 1.649053221222315,
          "Y": 6.512174927857027
         },
         {
          "Outlier": "\"Inferred\"",
          "X": 1.737182974826292,
          "Y": 5.77836967516248
         },
         {
          "Outlier": "\"Inferred\"",
          "X": -0.11560529994996305,
          "Y": 7.5367062800404945
         },
         {
          "Outlier": "\"Inferred\"",
          "X": -0.2298973114533206,
          "Y": 7.989511766138773
         },
         {
          "Outlier": "\"Inferred\"",
          "X": 1.57161291446925,
          "Y": 6.901917929677629
         },
         {
          "Outlier": "\"Inferred\"",
          "X": 2.1801023491411033,
          "Y": 8.860615665751432
         },
         {
          "Outlier": "\"Inferred\"",
          "X": -0.1784410881273133,
          "Y": 9.923272270828765
         },
         {
          "Outlier": "\"Inferred\"",
          "X": -0.7917192002889752,
          "Y": 11.753085534646807
         },
         {
          "Outlier": "\"Inferred\"",
          "X": -1.7648020508226134,
          "Y": 10.25041393399106
         },
         {
          "Outlier": "\"Inferred\"",
          "X": -1.5234743284293881,
          "Y": 11.775350954803978
         },
         {
          "Outlier": "\"Inferred\"",
          "X": 0.05357856804105787,
          "Y": 12.024349478829999
         },
         {
          "Outlier": "\"Inferred\"",
          "X": 0.4184332014913338,
          "Y": 14.340893261404778
         },
         {
          "Outlier": "\"Inferred\"",
          "X": 0.7969379235979688,
          "Y": 14.997540083518635
         },
         {
          "Outlier": "\"Inferred\"",
          "X": -0.7096426760664147,
          "Y": 14.162334925784382
         },
         {
          "Outlier": "\"Inferred\"",
          "X": -1.1397135872644253,
          "Y": 14.5137914003321
         },
         {
          "Outlier": "\"Inferred\"",
          "X": 0.31644446775231205,
          "Y": 17.969278373643117
         },
         {
          "Outlier": "\"Inferred\"",
          "X": 0.6438733418570133,
          "Y": 18.422304921183187
         },
         {
          "Outlier": "\"Inferred\"",
          "X": 1.1175523451407152,
          "Y": 18.713873184030778
         },
         {
          "Outlier": "\"Inferred\"",
          "X": 1.9686962872665608,
          "Y": 18.74605534641339
         },
         {
          "Outlier": "\"Inferred\"",
          "X": 2.001348574224465,
          "Y": 18.21984280700007
         },
         {
          "Outlier": "\"Inferred\"",
          "X": 1.2367693402425317,
          "Y": 17.359669921367168
         },
         {
          "Outlier": "\"Inferred\"",
          "X": 0.2995047254719734,
          "Y": 17.419198206704273
         },
         {
          "Outlier": "\"Inferred\"",
          "X": 0.8622826020639092,
          "Y": 18.53931366111848
         },
         {
          "Outlier": "\"Inferred\"",
          "X": 1.0735971282483163,
          "Y": 17.975531013733278
         },
         {
          "Outlier": "\"Inferred\"",
          "X": 1.2451588531584312,
          "Y": 18.79352133226893
         },
         {
          "Outlier": "\"Inferred\"",
          "X": 0.7834409223822317,
          "Y": 17.519317572506424
         },
         {
          "Outlier": "\"Inferred\"",
          "X": 0.022324380796899135,
          "Y": 18.666677816733223
         },
         {
          "Outlier": "\"Inferred\"",
          "X": 0.25037506894952266,
          "Y": 18.291326001784068
         },
         {
          "Outlier": "\"Inferred\"",
          "X": 0.4904983920693601,
          "Y": 17.539516184689955
         },
         {
          "Outlier": "\"Inferred\"",
          "X": 2.718080349400857,
          "Y": 18.155677211910415
         },
         {
          "Outlier": "\"Inferred\"",
          "X": 3.3596451377280476,
          "Y": 18.220928966901553
         },
         {
          "Outlier": "\"Inferred\"",
          "X": 3.3573249852732205,
          "Y": 17.474933199455286
         },
         {
          "Outlier": "\"Inferred\"",
          "X": 4.407756003985588,
          "Y": 19.226227061730217
         },
         {
          "Outlier": "\"Inferred\"",
          "X": 4.025326796779369,
          "Y": 20.335740872647136
         },
         {
          "Outlier": "\"Inferred\"",
          "X": 4.136009675859851,
          "Y": 20.372922008281094
         },
         {
          "Outlier": "\"Inferred\"",
          "X": 5.113886810674396,
          "Y": 21.700707769054723
         },
         {
          "Outlier": "\"Inferred\"",
          "X": 6.363757913621467,
          "Y": 21.700884276542915
         },
         {
          "Outlier": "\"Inferred\"",
          "X": 8.380513986552057,
          "Y": 22.53312193721249
         },
         {
          "Outlier": "\"Inferred\"",
          "X": 9.507495481737594,
          "Y": 23.947165773969388
         },
         {
          "Outlier": "\"Inferred\"",
          "X": 10.705051024174601,
          "Y": 23.72928746015251
         },
         {
          "Outlier": "\"Inferred\"",
          "X": 11.765533446012132,
          "Y": 24.62943086593668
         },
         {
          "Outlier": "\"Inferred\"",
          "X": 10.817092153370208,
          "Y": 24.983992747919615
         },
         {
          "Outlier": "\"Inferred\"",
          "X": 12.839903740647154,
          "Y": 24.945670025253797
         },
         {
          "Outlier": "\"Inferred\"",
          "X": 12.855560416110526,
          "Y": 24.66026185817934
         },
         {
          "Outlier": "\"Inferred\"",
          "X": 14.891630492065383,
          "Y": 25.0091091682573
         },
         {
          "Outlier": "\"Inferred\"",
          "X": 15.110979638937462,
          "Y": 25.382025977889217
         },
         {
          "Outlier": "\"Inferred\"",
          "X": 15.175315840723284,
          "Y": 25.279189038539325
         },
         {
          "Outlier": "\"Inferred\"",
          "X": 14.852563449400975,
          "Y": 26.018139606634307
         },
         {
          "Outlier": "\"Inferred\"",
          "X": 15.917435832583863,
          "Y": 27.146710919741135
         },
         {
          "Outlier": "\"Inferred\"",
          "X": 14.7687201873816,
          "Y": 26.501965148446903
         },
         {
          "Outlier": "\"Inferred\"",
          "X": 14.335633120183564,
          "Y": 27.417137424621757
         },
         {
          "Outlier": "\"Inferred\"",
          "X": 15.89298811356995,
          "Y": 29.928059673411973
         },
         {
          "Outlier": "\"Inferred\"",
          "X": 14.932265711934539,
          "Y": 30.17466234904125
         },
         {
          "Outlier": "\"Inferred\"",
          "X": 12.594058543048224,
          "Y": 29.645958436715073
         },
         {
          "Outlier": "\"Inferred\"",
          "X": 14.420555656807428,
          "Y": 29.81173518026478
         },
         {
          "Outlier": "\"Inferred\"",
          "X": 15.421965217753142,
          "Y": 31.288824931313332
         },
         {
          "Outlier": "\"Inferred\"",
          "X": 16.719885419922207,
          "Y": 31.768289549055897
         },
         {
          "Outlier": "\"Inferred\"",
          "X": 16.977312283523595,
          "Y": 33.692246596923425
         },
         {
          "Outlier": "\"Inferred\"",
          "X": 17.24846897951622,
          "Y": 33.579691656810056
         },
         {
          "Outlier": "\"Inferred\"",
          "X": 17.55970934625396,
          "Y": 34.71815458258916
         },
         {
          "Outlier": "\"Inferred\"",
          "X": 18.857404869889844,
          "Y": 37.086689719432165
         },
         {
          "Outlier": "\"Inferred\"",
          "X": 20.167204798700876,
          "Y": 37.04991765209162
         },
         {
          "Outlier": "\"Inferred\"",
          "X": 20.45696123231277,
          "Y": 38.41671597334564
         },
         {
          "Outlier": "\"Inferred\"",
          "X": 21.33683630179494,
          "Y": 37.52199058052792
         },
         {
          "Outlier": "\"Inferred\"",
          "X": 24.379793053083965,
          "Y": 38.510208714498376
         },
         {
          "Outlier": "\"Inferred\"",
          "X": 25.9118914603695,
          "Y": 40.00458672337111
         },
         {
          "Outlier": "\"Inferred\"",
          "X": 26.472021004401107,
          "Y": 41.16434149906598
         },
         {
          "Outlier": "\"Inferred\"",
          "X": 28.00143245255418,
          "Y": 41.34628621369594
         },
         {
          "Outlier": "\"Inferred\"",
          "X": 28.623048075222574,
          "Y": 41.24911218583916
         },
         {
          "Outlier": "\"Inferred\"",
          "X": 29.093924172752153,
          "Y": 43.33013794916392
         },
         {
          "Outlier": "\"Inferred\"",
          "X": 29.465159428401815,
          "Y": 43.13527487211388
         },
         {
          "Outlier": "\"Inferred\"",
          "X": 30.847921308558476,
          "Y": 43.6008633497382
         },
         {
          "Outlier": "\"Inferred\"",
          "X": 32.57186656276913,
          "Y": 42.62515709471449
         },
         {
          "Outlier": "\"Inferred\"",
          "X": 34.482945010545,
          "Y": 42.518897466883935
         },
         {
          "Outlier": "\"Inferred\"",
          "X": 34.17363173007262,
          "Y": 41.861459922001316
         },
         {
          "Outlier": "\"Inferred\"",
          "X": 35.27052242714312,
          "Y": 42.76006934967258
         },
         {
          "Outlier": "\"Inferred\"",
          "X": 35.98082394808923,
          "Y": 42.90941628061991
         },
         {
          "Outlier": "\"Inferred\"",
          "X": 38.027476041690825,
          "Y": 43.141604485103805
         },
         {
          "Outlier": "\"Inferred\"",
          "X": 39.41165420651421,
          "Y": 41.57184901265951
         },
         {
          "Outlier": "\"Inferred\"",
          "X": 39.650445873702225,
          "Y": 41.23521114741483
         },
         {
          "Outlier": "\"Inferred\"",
          "X": 39.099143849909865,
          "Y": 41.108285841788685
         },
         {
          "Outlier": "\"Inferred\"",
          "X": 40.276439391113776,
          "Y": 42.94205135331792
         },
         {
          "Outlier": "\"Inferred\"",
          "X": 39.48522961995993,
          "Y": 42.081363043446665
         },
         {
          "Outlier": "\"Inferred\"",
          "X": -1.3672224100432464,
          "Y": 0.48810911351361935
         },
         {
          "Outlier": "\"Inferred\"",
          "X": -1.362481961988402,
          "Y": 0.7076446081740262
         },
         {
          "Outlier": "\"Inferred\"",
          "X": -0.8715888597202504,
          "Y": 0.5387869363321125
         },
         {
          "Outlier": "\"Inferred\"",
          "X": -1.7846730243034472,
          "Y": 0.10506846798668501
         },
         {
          "Outlier": "\"Inferred\"",
          "X": -1.7248963513441793,
          "Y": 1.7527964620207235
         },
         {
          "Outlier": "\"Inferred\"",
          "X": -2.4584252971562393,
          "Y": 2.228366920830615
         },
         {
          "Outlier": "\"Inferred\"",
          "X": -1.1279224722940642,
          "Y": 3.443210568179678
         },
         {
          "Outlier": "\"Inferred\"",
          "X": -1.479008906435281,
          "Y": 3.6908288290815645
         },
         {
          "Outlier": "\"Inferred\"",
          "X": 0.3615054073081352,
          "Y": 4.27972153425087
         },
         {
          "Outlier": "\"Inferred\"",
          "X": 0.8486611255806581,
          "Y": 4.592720222548362
         },
         {
          "Outlier": "\"Inferred\"",
          "X": 0.32944348639832954,
          "Y": 4.596809693227079
         },
         {
          "Outlier": "\"Inferred\"",
          "X": -0.21925626392848585,
          "Y": 5.163907931661737
         },
         {
          "Outlier": "\"Inferred\"",
          "X": -0.21992193392391401,
          "Y": 4.118185761295895
         },
         {
          "Outlier": "\"Inferred\"",
          "X": 0.4150919011751638,
          "Y": 5.538117360209408
         },
         {
          "Outlier": "\"Inferred\"",
          "X": -0.7892140966783031,
          "Y": 5.695449583765478
         },
         {
          "Outlier": "\"Inferred\"",
          "X": 1.1404372527748952,
          "Y": 5.866232913939554
         },
         {
          "Outlier": "\"Inferred\"",
          "X": 1.8380893328893904,
          "Y": 6.364770313736374
         },
         {
          "Outlier": "\"Inferred\"",
          "X": 1.649053221222315,
          "Y": 6.512174927857027
         },
         {
          "Outlier": "\"Inferred\"",
          "X": 1.737182974826292,
          "Y": 5.77836967516248
         },
         {
          "Outlier": "\"Inferred\"",
          "X": -0.11560529994996305,
          "Y": 7.5367062800404945
         },
         {
          "Outlier": "\"Inferred\"",
          "X": -0.2298973114533206,
          "Y": 7.989511766138773
         },
         {
          "Outlier": "\"Inferred\"",
          "X": 1.57161291446925,
          "Y": 6.901917929677629
         },
         {
          "Outlier": "\"Inferred\"",
          "X": 2.1801023491411033,
          "Y": 8.860615665751432
         },
         {
          "Outlier": "\"Inferred\"",
          "X": -0.1784410881273133,
          "Y": 9.923272270828765
         },
         {
          "Outlier": "\"Inferred\"",
          "X": -0.7917192002889752,
          "Y": 11.753085534646807
         },
         {
          "Outlier": "\"Inferred\"",
          "X": -1.7648020508226134,
          "Y": 10.25041393399106
         },
         {
          "Outlier": "\"Inferred\"",
          "X": -1.5234743284293881,
          "Y": 11.775350954803978
         },
         {
          "Outlier": "\"Inferred\"",
          "X": 0.05357856804105787,
          "Y": 12.024349478829999
         },
         {
          "Outlier": "\"Inferred\"",
          "X": 0.4184332014913338,
          "Y": 14.340893261404778
         },
         {
          "Outlier": "\"Inferred\"",
          "X": 0.7969379235979688,
          "Y": 14.997540083518635
         },
         {
          "Outlier": "\"Inferred\"",
          "X": -0.7096426760664147,
          "Y": 14.162334925784382
         },
         {
          "Outlier": "\"Inferred\"",
          "X": -1.1397135872644253,
          "Y": 14.5137914003321
         },
         {
          "Outlier": "\"Inferred\"",
          "X": 0.31644446775231205,
          "Y": 17.969278373643117
         },
         {
          "Outlier": "\"Inferred\"",
          "X": 0.6438733418570133,
          "Y": 18.422304921183187
         },
         {
          "Outlier": "\"Inferred\"",
          "X": 1.1175523451407152,
          "Y": 18.713873184030778
         },
         {
          "Outlier": "\"Inferred\"",
          "X": 1.9686962872665608,
          "Y": 18.74605534641339
         },
         {
          "Outlier": "\"Inferred\"",
          "X": 2.001348574224465,
          "Y": 18.21984280700007
         },
         {
          "Outlier": "\"Inferred\"",
          "X": 1.2367693402425317,
          "Y": 17.359669921367168
         },
         {
          "Outlier": "\"Inferred\"",
          "X": 0.2995047254719734,
          "Y": 17.419198206704273
         },
         {
          "Outlier": "\"Inferred\"",
          "X": 0.8622826020639092,
          "Y": 18.53931366111848
         },
         {
          "Outlier": "\"Inferred\"",
          "X": 1.0735971282483163,
          "Y": 17.975531013733278
         },
         {
          "Outlier": "\"Inferred\"",
          "X": 1.2451588531584312,
          "Y": 18.79352133226893
         },
         {
          "Outlier": "\"Inferred\"",
          "X": 0.7834409223822317,
          "Y": 17.519317572506424
         },
         {
          "Outlier": "\"Inferred\"",
          "X": 0.022324380796899135,
          "Y": 18.666677816733223
         },
         {
          "Outlier": "\"Inferred\"",
          "X": -0.7061071858531587,
          "Y": 17.365038139967538
         },
         {
          "Outlier": "\"Inferred\"",
          "X": 1.0408194778375142,
          "Y": 16.453328413776028
         },
         {
          "Outlier": "\"Inferred\"",
          "X": 1.5405091660502246,
          "Y": 17.549414850528695
         },
         {
          "Outlier": "\"Inferred\"",
          "X": 3.9338660225548883,
          "Y": 18.810585449009046
         },
         {
          "Outlier": "\"Inferred\"",
          "X": 5.934341937148822,
          "Y": 19.291644715457366
         },
         {
          "Outlier": "\"Inferred\"",
          "X": 5.860698325850149,
          "Y": 18.481355238954116
         },
         {
          "Outlier": "\"Inferred\"",
          "X": 5.705451214097312,
          "Y": 19.045493557223
         },
         {
          "Outlier": "\"Inferred\"",
          "X": 6.967486968545026,
          "Y": 20.43685475506132
         },
         {
          "Outlier": "\"Inferred\"",
          "X": 7.850876988134879,
          "Y": 20.85970235656663
         },
         {
          "Outlier": "\"Inferred\"",
          "X": 8.392808772137586,
          "Y": 23.32121753848475
         },
         {
          "Outlier": "\"Inferred\"",
          "X": 8.372631457732883,
          "Y": 23.550505259601916
         },
         {
          "Outlier": "\"Inferred\"",
          "X": 9.871662866734457,
          "Y": 23.307490436256916
         },
         {
          "Outlier": "\"Inferred\"",
          "X": 10.314173898117193,
          "Y": 22.949374682117536
         },
         {
          "Outlier": "\"Inferred\"",
          "X": 10.32563322222216,
          "Y": 22.80572929728597
         },
         {
          "Outlier": "\"Inferred\"",
          "X": 11.975182162138363,
          "Y": 22.756945025950817
         },
         {
          "Outlier": "\"Inferred\"",
          "X": 13.534798358225013,
          "Y": 23.922399218838915
         },
         {
          "Outlier": "\"Inferred\"",
          "X": 13.939544608950607,
          "Y": 24.9043680997103
         },
         {
          "Outlier": "\"Inferred\"",
          "X": 14.852997836030292,
          "Y": 24.505991407121257
         },
         {
          "Outlier": "\"Inferred\"",
          "X": 14.722821358543685,
          "Y": 24.594075915773587
         },
         {
          "Outlier": "\"Inferred\"",
          "X": 14.103015251522454,
          "Y": 25.337305991383168
         },
         {
          "Outlier": "\"Inferred\"",
          "X": 12.613805810396606,
          "Y": 24.313422106066636
         },
         {
          "Outlier": "\"Inferred\"",
          "X": 13.080486829217792,
          "Y": 25.777670422612843
         },
         {
          "Outlier": "\"Inferred\"",
          "X": 11.503005763094693,
          "Y": 26.751491443530828
         },
         {
          "Outlier": "\"Inferred\"",
          "X": 12.268003621078462,
          "Y": 27.23493393620551
         },
         {
          "Outlier": "\"Inferred\"",
          "X": 13.107978224639371,
          "Y": 26.92306508382835
         },
         {
          "Outlier": "\"Inferred\"",
          "X": 13.28221444777585,
          "Y": 29.395602706911507
         },
         {
          "Outlier": "\"Inferred\"",
          "X": 14.801724593495212,
          "Y": 31.014010268316014
         },
         {
          "Outlier": "\"Inferred\"",
          "X": 14.27581330599868,
          "Y": 32.454234349787356
         },
         {
          "Outlier": "\"Inferred\"",
          "X": 14.029469444313813,
          "Y": 32.87117959294212
         },
         {
          "Outlier": "\"Inferred\"",
          "X": 15.19015709218286,
          "Y": 32.86952476370945
         },
         {
          "Outlier": "\"Inferred\"",
          "X": 15.773016432325253,
          "Y": 32.73681053907679
         },
         {
          "Outlier": "\"Inferred\"",
          "X": 17.51929695827333,
          "Y": 34.48234688075527
         },
         {
          "Outlier": "\"Inferred\"",
          "X": 18.517892728110063,
          "Y": 36.48035168551525
         },
         {
          "Outlier": "\"Inferred\"",
          "X": 19.204987885038665,
          "Y": 39.88678266817718
         },
         {
          "Outlier": "\"Inferred\"",
          "X": 21.442417253877316,
          "Y": 41.08072121114131
         },
         {
          "Outlier": "\"Inferred\"",
          "X": 23.00537003178552,
          "Y": 40.67876253519744
         },
         {
          "Outlier": "\"Inferred\"",
          "X": 24.77068463689155,
          "Y": 39.644754539327785
         },
         {
          "Outlier": "\"Inferred\"",
          "X": 26.841222405457636,
          "Y": 40.610556540600946
         },
         {
          "Outlier": "\"Inferred\"",
          "X": 27.866274921957416,
          "Y": 40.70386345163607
         },
         {
          "Outlier": "\"Inferred\"",
          "X": 28.440999181920027,
          "Y": 41.26333519355627
         },
         {
          "Outlier": "\"Inferred\"",
          "X": 29.415990440563707,
          "Y": 41.53555764534253
         },
         {
          "Outlier": "\"Inferred\"",
          "X": 29.311058090188595,
          "Y": 42.16967838673546
         },
         {
          "Outlier": "\"Inferred\"",
          "X": 30.282831663472386,
          "Y": 43.0424291894592
         },
         {
          "Outlier": "\"Inferred\"",
          "X": 30.293365662434958,
          "Y": 42.438015235063844
         },
         {
          "Outlier": "\"Inferred\"",
          "X": 31.068088386419674,
          "Y": 42.2623529357851
         },
         {
          "Outlier": "\"Inferred\"",
          "X": 30.43196031201329,
          "Y": 39.82537011905435
         },
         {
          "Outlier": "\"Inferred\"",
          "X": 32.64091621401201,
          "Y": 40.45746585540844
         },
         {
          "Outlier": "\"Inferred\"",
          "X": 34.41602785548827,
          "Y": 40.00534774705635
         },
         {
          "Outlier": "\"Inferred\"",
          "X": 35.08714623791322,
          "Y": 41.56836269107095
         },
         {
          "Outlier": "\"Inferred\"",
          "X": 35.32292828665068,
          "Y": 41.9525104837474
         },
         {
          "Outlier": "\"Inferred\"",
          "X": 35.32395767902641,
          "Y": 42.46841137513841
         },
         {
          "Outlier": "\"Inferred\"",
          "X": 36.34356272388683,
          "Y": 42.603824984142584
         },
         {
          "Outlier": "\"Inferred\"",
          "X": 37.2337481055561,
          "Y": 41.48813504823372
         },
         {
          "Outlier": "\"Inferred\"",
          "X": 36.767323082024035,
          "Y": 43.16868445004919
         },
         {
          "Outlier": "\"Inferred\"",
          "X": 37.33470777201462,
          "Y": 42.692084291783516
         },
         {
          "Outlier": "\"Inferred\"",
          "X": 38.36005025576521,
          "Y": 44.10347570499716
         },
         {
          "Outlier": "\"Inferred\"",
          "X": -1.3672224100432464,
          "Y": 0.48810911351361935
         },
         {
          "Outlier": "\"Inferred\"",
          "X": -1.362481961988402,
          "Y": 0.7076446081740262
         },
         {
          "Outlier": "\"Inferred\"",
          "X": -0.8715888597202504,
          "Y": 0.5387869363321125
         },
         {
          "Outlier": "\"Inferred\"",
          "X": -1.7846730243034472,
          "Y": 0.10506846798668501
         },
         {
          "Outlier": "\"Inferred\"",
          "X": -1.7248963513441793,
          "Y": 1.7527964620207235
         },
         {
          "Outlier": "\"Inferred\"",
          "X": -2.4584252971562393,
          "Y": 2.228366920830615
         },
         {
          "Outlier": "\"Inferred\"",
          "X": -1.1279224722940642,
          "Y": 3.443210568179678
         },
         {
          "Outlier": "\"Inferred\"",
          "X": -1.479008906435281,
          "Y": 3.6908288290815645
         },
         {
          "Outlier": "\"Inferred\"",
          "X": 0.3615054073081352,
          "Y": 4.27972153425087
         },
         {
          "Outlier": "\"Inferred\"",
          "X": 0.8486611255806581,
          "Y": 4.592720222548362
         },
         {
          "Outlier": "\"Inferred\"",
          "X": 0.32944348639832954,
          "Y": 4.596809693227079
         },
         {
          "Outlier": "\"Inferred\"",
          "X": -0.21925626392848585,
          "Y": 5.163907931661737
         },
         {
          "Outlier": "\"Inferred\"",
          "X": -0.21992193392391401,
          "Y": 4.118185761295895
         },
         {
          "Outlier": "\"Inferred\"",
          "X": 0.4150919011751638,
          "Y": 5.538117360209408
         },
         {
          "Outlier": "\"Inferred\"",
          "X": -0.7892140966783031,
          "Y": 5.695449583765478
         },
         {
          "Outlier": "\"Inferred\"",
          "X": 1.1404372527748952,
          "Y": 5.866232913939554
         },
         {
          "Outlier": "\"Inferred\"",
          "X": 1.8380893328893904,
          "Y": 6.364770313736374
         },
         {
          "Outlier": "\"Inferred\"",
          "X": 1.649053221222315,
          "Y": 6.512174927857027
         },
         {
          "Outlier": "\"Inferred\"",
          "X": 1.737182974826292,
          "Y": 5.77836967516248
         },
         {
          "Outlier": "\"Inferred\"",
          "X": -0.11560529994996305,
          "Y": 7.5367062800404945
         },
         {
          "Outlier": "\"Inferred\"",
          "X": -0.2298973114533206,
          "Y": 7.989511766138773
         },
         {
          "Outlier": "\"Inferred\"",
          "X": 1.57161291446925,
          "Y": 6.901917929677629
         },
         {
          "Outlier": "\"Inferred\"",
          "X": 2.1801023491411033,
          "Y": 8.860615665751432
         },
         {
          "Outlier": "\"Inferred\"",
          "X": -0.1784410881273133,
          "Y": 9.923272270828765
         },
         {
          "Outlier": "\"Inferred\"",
          "X": -0.7917192002889752,
          "Y": 11.753085534646807
         },
         {
          "Outlier": "\"Inferred\"",
          "X": -1.7648020508226134,
          "Y": 10.25041393399106
         },
         {
          "Outlier": "\"Inferred\"",
          "X": -1.5234743284293881,
          "Y": 11.775350954803978
         },
         {
          "Outlier": "\"Inferred\"",
          "X": 0.05357856804105787,
          "Y": 12.024349478829999
         },
         {
          "Outlier": "\"Inferred\"",
          "X": 0.4184332014913338,
          "Y": 14.340893261404778
         },
         {
          "Outlier": "\"Inferred\"",
          "X": 0.7969379235979688,
          "Y": 14.997540083518635
         },
         {
          "Outlier": "\"Inferred\"",
          "X": -0.7096426760664147,
          "Y": 14.162334925784382
         },
         {
          "Outlier": "\"Inferred\"",
          "X": -1.1397135872644253,
          "Y": 14.5137914003321
         },
         {
          "Outlier": "\"Inferred\"",
          "X": 0.31644446775231205,
          "Y": 17.969278373643117
         },
         {
          "Outlier": "\"Inferred\"",
          "X": 0.6438733418570133,
          "Y": 18.422304921183187
         },
         {
          "Outlier": "\"Inferred\"",
          "X": 1.1175523451407152,
          "Y": 18.713873184030778
         },
         {
          "Outlier": "\"Inferred\"",
          "X": 1.9686962872665608,
          "Y": 18.74605534641339
         },
         {
          "Outlier": "\"Inferred\"",
          "X": 2.001348574224465,
          "Y": 18.21984280700007
         },
         {
          "Outlier": "\"Inferred\"",
          "X": 1.2367693402425317,
          "Y": 17.359669921367168
         },
         {
          "Outlier": "\"Inferred\"",
          "X": 0.2995047254719734,
          "Y": 17.419198206704273
         },
         {
          "Outlier": "\"Inferred\"",
          "X": 0.8622826020639092,
          "Y": 18.53931366111848
         },
         {
          "Outlier": "\"Inferred\"",
          "X": 1.0735971282483163,
          "Y": 17.975531013733278
         },
         {
          "Outlier": "\"Inferred\"",
          "X": 1.2451588531584312,
          "Y": 18.79352133226893
         },
         {
          "Outlier": "\"Inferred\"",
          "X": 0.7834409223822317,
          "Y": 17.519317572506424
         },
         {
          "Outlier": "\"Inferred\"",
          "X": 0.022324380796899135,
          "Y": 18.666677816733223
         },
         {
          "Outlier": "\"Inferred\"",
          "X": -0.7061071858531587,
          "Y": 17.365038139967538
         },
         {
          "Outlier": "\"Inferred\"",
          "X": 1.0408194778375142,
          "Y": 16.453328413776028
         },
         {
          "Outlier": "\"Inferred\"",
          "X": 1.5405091660502246,
          "Y": 17.549414850528695
         },
         {
          "Outlier": "\"Inferred\"",
          "X": 3.9338660225548883,
          "Y": 18.810585449009046
         },
         {
          "Outlier": "\"Inferred\"",
          "X": 5.934341937148822,
          "Y": 19.291644715457366
         },
         {
          "Outlier": "\"Inferred\"",
          "X": 5.860698325850149,
          "Y": 18.481355238954116
         },
         {
          "Outlier": "\"Inferred\"",
          "X": 5.705451214097312,
          "Y": 19.045493557223
         },
         {
          "Outlier": "\"Inferred\"",
          "X": 6.967486968545026,
          "Y": 20.43685475506132
         },
         {
          "Outlier": "\"Inferred\"",
          "X": 7.850876988134879,
          "Y": 20.85970235656663
         },
         {
          "Outlier": "\"Inferred\"",
          "X": 8.392808772137586,
          "Y": 23.32121753848475
         },
         {
          "Outlier": "\"Inferred\"",
          "X": 8.372631457732883,
          "Y": 23.550505259601916
         },
         {
          "Outlier": "\"Inferred\"",
          "X": 9.871662866734457,
          "Y": 23.307490436256916
         },
         {
          "Outlier": "\"Inferred\"",
          "X": 10.314173898117193,
          "Y": 22.949374682117536
         },
         {
          "Outlier": "\"Inferred\"",
          "X": 10.32563322222216,
          "Y": 22.80572929728597
         },
         {
          "Outlier": "\"Inferred\"",
          "X": 11.975182162138363,
          "Y": 22.756945025950817
         },
         {
          "Outlier": "\"Inferred\"",
          "X": 13.534798358225013,
          "Y": 23.922399218838915
         },
         {
          "Outlier": "\"Inferred\"",
          "X": 13.939544608950607,
          "Y": 24.9043680997103
         },
         {
          "Outlier": "\"Inferred\"",
          "X": 14.852997836030292,
          "Y": 24.505991407121257
         },
         {
          "Outlier": "\"Inferred\"",
          "X": 14.722821358543685,
          "Y": 24.594075915773587
         },
         {
          "Outlier": "\"Inferred\"",
          "X": 14.103015251522454,
          "Y": 25.337305991383168
         },
         {
          "Outlier": "\"Inferred\"",
          "X": 12.613805810396606,
          "Y": 24.313422106066636
         },
         {
          "Outlier": "\"Inferred\"",
          "X": 13.080486829217792,
          "Y": 25.777670422612843
         },
         {
          "Outlier": "\"Inferred\"",
          "X": 11.503005763094693,
          "Y": 26.751491443530828
         },
         {
          "Outlier": "\"Inferred\"",
          "X": 12.268003621078462,
          "Y": 27.23493393620551
         },
         {
          "Outlier": "\"Inferred\"",
          "X": 13.107978224639371,
          "Y": 26.92306508382835
         },
         {
          "Outlier": "\"Inferred\"",
          "X": 13.28221444777585,
          "Y": 29.395602706911507
         },
         {
          "Outlier": "\"Inferred\"",
          "X": 14.801724593495212,
          "Y": 31.014010268316014
         },
         {
          "Outlier": "\"Inferred\"",
          "X": 14.27581330599868,
          "Y": 32.454234349787356
         },
         {
          "Outlier": "\"Inferred\"",
          "X": 14.029469444313813,
          "Y": 32.87117959294212
         },
         {
          "Outlier": "\"Inferred\"",
          "X": 15.19015709218286,
          "Y": 32.86952476370945
         },
         {
          "Outlier": "\"Inferred\"",
          "X": 15.773016432325253,
          "Y": 32.73681053907679
         },
         {
          "Outlier": "\"Inferred\"",
          "X": 17.51929695827333,
          "Y": 34.48234688075527
         },
         {
          "Outlier": "\"Inferred\"",
          "X": 18.517892728110063,
          "Y": 36.48035168551525
         },
         {
          "Outlier": "\"Inferred\"",
          "X": 19.204987885038665,
          "Y": 39.88678266817718
         },
         {
          "Outlier": "\"Inferred\"",
          "X": 21.442417253877316,
          "Y": 41.08072121114131
         },
         {
          "Outlier": "\"Inferred\"",
          "X": 23.00537003178552,
          "Y": 40.67876253519744
         },
         {
          "Outlier": "\"Inferred\"",
          "X": 24.77068463689155,
          "Y": 39.644754539327785
         },
         {
          "Outlier": "\"Inferred\"",
          "X": 26.841222405457636,
          "Y": 40.610556540600946
         },
         {
          "Outlier": "\"Inferred\"",
          "X": 27.866274921957416,
          "Y": 40.70386345163607
         },
         {
          "Outlier": "\"Inferred\"",
          "X": 28.916950242086248,
          "Y": 41.28456229329697
         },
         {
          "Outlier": "\"Inferred\"",
          "X": 30.94026908912259,
          "Y": 40.70140875415903
         },
         {
          "Outlier": "\"Inferred\"",
          "X": 30.038866630751038,
          "Y": 39.818984693557866
         },
         {
          "Outlier": "\"Inferred\"",
          "X": 31.22226611843761,
          "Y": 40.73133733059518
         },
         {
          "Outlier": "\"Inferred\"",
          "X": 32.59389188003861,
          "Y": 39.65332936503432
         },
         {
          "Outlier": "\"Inferred\"",
          "X": 32.4663340160892,
          "Y": 40.09740529655399
         },
         {
          "Outlier": "\"Inferred\"",
          "X": 33.37503831069919,
          "Y": 41.42950937314977
         },
         {
          "Outlier": "\"Inferred\"",
          "X": 34.73118899157602,
          "Y": 42.78168258862689
         },
         {
          "Outlier": "\"Inferred\"",
          "X": 35.66436590227478,
          "Y": 42.83057238033694
         },
         {
          "Outlier": "\"Inferred\"",
          "X": 38.553890594846315,
          "Y": 43.39277641890018
         },
         {
          "Outlier": "\"Inferred\"",
          "X": 38.70345011625045,
          "Y": 44.54318027243104
         },
         {
          "Outlier": "\"Inferred\"",
          "X": 41.23517242356548,
          "Y": 44.7490902467863
         },
         {
          "Outlier": "\"Inferred\"",
          "X": 41.163655561388815,
          "Y": 43.21644303021634
         },
         {
          "Outlier": "\"Inferred\"",
          "X": 42.42113565444212,
          "Y": 43.02494482051242
         },
         {
          "Outlier": "\"Inferred\"",
          "X": 42.99773197244849,
          "Y": 42.20056737363797
         },
         {
          "Outlier": "\"Inferred\"",
          "X": 41.690277858644414,
          "Y": 41.44598697156346
         },
         {
          "Outlier": "\"Inferred\"",
          "X": 42.51786496796608,
          "Y": 41.74514370591297
         },
         {
          "Outlier": "\"Inferred\"",
          "X": -1.3672224100432464,
          "Y": 0.48810911351361935
         },
         {
          "Outlier": "\"Inferred\"",
          "X": -1.362481961988402,
          "Y": 0.7076446081740262
         },
         {
          "Outlier": "\"Inferred\"",
          "X": -0.8715888597202504,
          "Y": 0.5387869363321125
         },
         {
          "Outlier": "\"Inferred\"",
          "X": -1.7846730243034472,
          "Y": 0.10506846798668501
         },
         {
          "Outlier": "\"Inferred\"",
          "X": -1.7248963513441793,
          "Y": 1.7527964620207235
         },
         {
          "Outlier": "\"Inferred\"",
          "X": -2.4584252971562393,
          "Y": 2.228366920830615
         },
         {
          "Outlier": "\"Inferred\"",
          "X": -1.1279224722940642,
          "Y": 3.443210568179678
         },
         {
          "Outlier": "\"Inferred\"",
          "X": -1.479008906435281,
          "Y": 3.6908288290815645
         },
         {
          "Outlier": "\"Inferred\"",
          "X": 0.3615054073081352,
          "Y": 4.27972153425087
         },
         {
          "Outlier": "\"Inferred\"",
          "X": 0.8486611255806581,
          "Y": 4.592720222548362
         },
         {
          "Outlier": "\"Inferred\"",
          "X": 0.32944348639832954,
          "Y": 4.596809693227079
         },
         {
          "Outlier": "\"Inferred\"",
          "X": -0.21925626392848585,
          "Y": 5.163907931661737
         },
         {
          "Outlier": "\"Inferred\"",
          "X": -0.21992193392391401,
          "Y": 4.118185761295895
         },
         {
          "Outlier": "\"Inferred\"",
          "X": 0.4150919011751638,
          "Y": 5.538117360209408
         },
         {
          "Outlier": "\"Inferred\"",
          "X": -0.7892140966783031,
          "Y": 5.695449583765478
         },
         {
          "Outlier": "\"Inferred\"",
          "X": 1.1404372527748952,
          "Y": 5.866232913939554
         },
         {
          "Outlier": "\"Inferred\"",
          "X": 1.8380893328893904,
          "Y": 6.364770313736374
         },
         {
          "Outlier": "\"Inferred\"",
          "X": 1.649053221222315,
          "Y": 6.512174927857027
         },
         {
          "Outlier": "\"Inferred\"",
          "X": 1.737182974826292,
          "Y": 5.77836967516248
         },
         {
          "Outlier": "\"Inferred\"",
          "X": -0.11560529994996305,
          "Y": 7.5367062800404945
         },
         {
          "Outlier": "\"Inferred\"",
          "X": -0.2298973114533206,
          "Y": 7.989511766138773
         },
         {
          "Outlier": "\"Inferred\"",
          "X": 1.57161291446925,
          "Y": 6.901917929677629
         },
         {
          "Outlier": "\"Inferred\"",
          "X": 2.1801023491411033,
          "Y": 8.860615665751432
         },
         {
          "Outlier": "\"Inferred\"",
          "X": -0.1784410881273133,
          "Y": 9.923272270828765
         },
         {
          "Outlier": "\"Inferred\"",
          "X": -0.7917192002889752,
          "Y": 11.753085534646807
         },
         {
          "Outlier": "\"Inferred\"",
          "X": -1.7648020508226134,
          "Y": 10.25041393399106
         },
         {
          "Outlier": "\"Inferred\"",
          "X": -1.5234743284293881,
          "Y": 11.775350954803978
         },
         {
          "Outlier": "\"Inferred\"",
          "X": 0.05357856804105787,
          "Y": 12.024349478829999
         },
         {
          "Outlier": "\"Inferred\"",
          "X": 0.4184332014913338,
          "Y": 14.340893261404778
         },
         {
          "Outlier": "\"Inferred\"",
          "X": 0.7969379235979688,
          "Y": 14.997540083518635
         },
         {
          "Outlier": "\"Inferred\"",
          "X": -0.7096426760664147,
          "Y": 14.162334925784382
         },
         {
          "Outlier": "\"Inferred\"",
          "X": -1.1397135872644253,
          "Y": 14.5137914003321
         },
         {
          "Outlier": "\"Inferred\"",
          "X": 0.31644446775231205,
          "Y": 17.969278373643117
         },
         {
          "Outlier": "\"Inferred\"",
          "X": 0.6438733418570133,
          "Y": 18.422304921183187
         },
         {
          "Outlier": "\"Inferred\"",
          "X": 1.1175523451407152,
          "Y": 18.713873184030778
         },
         {
          "Outlier": "\"Inferred\"",
          "X": 1.9686962872665608,
          "Y": 18.74605534641339
         },
         {
          "Outlier": "\"Inferred\"",
          "X": 2.001348574224465,
          "Y": 18.21984280700007
         },
         {
          "Outlier": "\"Inferred\"",
          "X": 1.2367693402425317,
          "Y": 17.359669921367168
         },
         {
          "Outlier": "\"Inferred\"",
          "X": 0.2995047254719734,
          "Y": 17.419198206704273
         },
         {
          "Outlier": "\"Inferred\"",
          "X": 0.8622826020639092,
          "Y": 18.53931366111848
         },
         {
          "Outlier": "\"Inferred\"",
          "X": 1.0735971282483163,
          "Y": 17.975531013733278
         },
         {
          "Outlier": "\"Inferred\"",
          "X": 1.2451588531584312,
          "Y": 18.79352133226893
         },
         {
          "Outlier": "\"Inferred\"",
          "X": 0.7834409223822317,
          "Y": 17.519317572506424
         },
         {
          "Outlier": "\"Inferred\"",
          "X": 0.022324380796899135,
          "Y": 18.666677816733223
         },
         {
          "Outlier": "\"Inferred\"",
          "X": -0.7061071858531587,
          "Y": 17.365038139967538
         },
         {
          "Outlier": "\"Inferred\"",
          "X": 1.0408194778375142,
          "Y": 16.453328413776028
         },
         {
          "Outlier": "\"Inferred\"",
          "X": 1.5405091660502246,
          "Y": 17.549414850528695
         },
         {
          "Outlier": "\"Inferred\"",
          "X": 3.9338660225548883,
          "Y": 18.810585449009046
         },
         {
          "Outlier": "\"Inferred\"",
          "X": 5.934341937148822,
          "Y": 19.291644715457366
         },
         {
          "Outlier": "\"Inferred\"",
          "X": 5.860698325850149,
          "Y": 18.481355238954116
         },
         {
          "Outlier": "\"Inferred\"",
          "X": 5.705451214097312,
          "Y": 19.045493557223
         },
         {
          "Outlier": "\"Inferred\"",
          "X": 6.967486968545026,
          "Y": 20.43685475506132
         },
         {
          "Outlier": "\"Inferred\"",
          "X": 7.850876988134879,
          "Y": 20.85970235656663
         },
         {
          "Outlier": "\"Inferred\"",
          "X": 8.392808772137586,
          "Y": 23.32121753848475
         },
         {
          "Outlier": "\"Inferred\"",
          "X": 8.372631457732883,
          "Y": 23.550505259601916
         },
         {
          "Outlier": "\"Inferred\"",
          "X": 9.871662866734457,
          "Y": 23.307490436256916
         },
         {
          "Outlier": "\"Inferred\"",
          "X": 10.314173898117193,
          "Y": 22.949374682117536
         },
         {
          "Outlier": "\"Inferred\"",
          "X": 10.32563322222216,
          "Y": 22.80572929728597
         },
         {
          "Outlier": "\"Inferred\"",
          "X": 11.975182162138363,
          "Y": 22.756945025950817
         },
         {
          "Outlier": "\"Inferred\"",
          "X": 13.534798358225013,
          "Y": 23.922399218838915
         },
         {
          "Outlier": "\"Inferred\"",
          "X": 13.939544608950607,
          "Y": 24.9043680997103
         },
         {
          "Outlier": "\"Inferred\"",
          "X": 14.852997836030292,
          "Y": 24.505991407121257
         },
         {
          "Outlier": "\"Inferred\"",
          "X": 14.722821358543685,
          "Y": 24.594075915773587
         },
         {
          "Outlier": "\"Inferred\"",
          "X": 14.103015251522454,
          "Y": 25.337305991383168
         },
         {
          "Outlier": "\"Inferred\"",
          "X": 12.613805810396606,
          "Y": 24.313422106066636
         },
         {
          "Outlier": "\"Inferred\"",
          "X": 13.080486829217792,
          "Y": 25.777670422612843
         },
         {
          "Outlier": "\"Inferred\"",
          "X": 11.503005763094693,
          "Y": 26.751491443530828
         },
         {
          "Outlier": "\"Inferred\"",
          "X": 12.268003621078462,
          "Y": 27.23493393620551
         },
         {
          "Outlier": "\"Inferred\"",
          "X": 13.107978224639371,
          "Y": 26.92306508382835
         },
         {
          "Outlier": "\"Inferred\"",
          "X": 13.28221444777585,
          "Y": 29.395602706911507
         },
         {
          "Outlier": "\"Inferred\"",
          "X": 14.801724593495212,
          "Y": 31.014010268316014
         },
         {
          "Outlier": "\"Inferred\"",
          "X": 14.27581330599868,
          "Y": 32.454234349787356
         },
         {
          "Outlier": "\"Inferred\"",
          "X": 14.029469444313813,
          "Y": 32.87117959294212
         },
         {
          "Outlier": "\"Inferred\"",
          "X": 15.19015709218286,
          "Y": 32.86952476370945
         },
         {
          "Outlier": "\"Inferred\"",
          "X": 15.773016432325253,
          "Y": 32.73681053907679
         },
         {
          "Outlier": "\"Inferred\"",
          "X": 17.51929695827333,
          "Y": 34.48234688075527
         },
         {
          "Outlier": "\"Inferred\"",
          "X": 20.037100194311396,
          "Y": 34.946070338043754
         },
         {
          "Outlier": "\"Inferred\"",
          "X": 21.818139030888776,
          "Y": 35.85262831787663
         },
         {
          "Outlier": "\"Inferred\"",
          "X": 21.732369533022062,
          "Y": 38.285815587214415
         },
         {
          "Outlier": "\"Inferred\"",
          "X": 22.57036154565432,
          "Y": 39.26475493081164
         },
         {
          "Outlier": "\"Inferred\"",
          "X": 22.65428937960439,
          "Y": 38.16420139841805
         },
         {
          "Outlier": "\"Inferred\"",
          "X": 24.780585362838643,
          "Y": 39.91054354562683
         },
         {
          "Outlier": "\"Inferred\"",
          "X": 25.38354438220824,
          "Y": 39.24486197722906
         },
         {
          "Outlier": "\"Inferred\"",
          "X": 27.164442953314957,
          "Y": 40.251417386922114
         },
         {
          "Outlier": "\"Inferred\"",
          "X": 28.28179394365139,
          "Y": 40.646152553616645
         },
         {
          "Outlier": "\"Inferred\"",
          "X": 28.30913626904519,
          "Y": 41.02315352290143
         },
         {
          "Outlier": "\"Inferred\"",
          "X": 29.883021734981654,
          "Y": 41.74567007600542
         },
         {
          "Outlier": "\"Inferred\"",
          "X": 31.777263046995003,
          "Y": 41.57505095385209
         },
         {
          "Outlier": "\"Inferred\"",
          "X": 32.06844181937742,
          "Y": 42.277030586291964
         },
         {
          "Outlier": "\"Inferred\"",
          "X": 34.001286580375854,
          "Y": 44.064459055471616
         },
         {
          "Outlier": "\"Inferred\"",
          "X": 35.46263684098056,
          "Y": 44.39313681002709
         },
         {
          "Outlier": "\"Inferred\"",
          "X": 35.91657596164125,
          "Y": 43.94958775308008
         },
         {
          "Outlier": "\"Inferred\"",
          "X": 36.54973787601623,
          "Y": 42.1580021668003
         },
         {
          "Outlier": "\"Inferred\"",
          "X": 37.3930776154532,
          "Y": 41.48314238427116
         },
         {
          "Outlier": "\"Inferred\"",
          "X": 38.38432519062528,
          "Y": 42.29679000879268
         },
         {
          "Outlier": "\"Inferred\"",
          "X": 38.91123441323717,
          "Y": 41.26209411757374
         },
         {
          "Outlier": "\"Inferred\"",
          "X": 40.26594826553113,
          "Y": 41.8782209368717
         },
         {
          "Outlier": "\"Inferred\"",
          "X": 39.4284901166666,
          "Y": 41.68026687276266
         },
         {
          "Outlier": "\"Inferred\"",
          "X": 40.12485821299953,
          "Y": 40.82370707767209
         },
         {
          "Outlier": "\"Inferred\"",
          "X": 40.09959115483099,
          "Y": 40.61801492575557
         },
         {
          "Outlier": "\"Inferred\"",
          "X": -1.3672224100432464,
          "Y": 0.48810911351361935
         },
         {
          "Outlier": "\"Inferred\"",
          "X": -1.362481961988402,
          "Y": 0.7076446081740262
         },
         {
          "Outlier": "\"Inferred\"",
          "X": -0.8715888597202504,
          "Y": 0.5387869363321125
         },
         {
          "Outlier": "\"Inferred\"",
          "X": -1.7846730243034472,
          "Y": 0.10506846798668501
         },
         {
          "Outlier": "\"Inferred\"",
          "X": -1.7248963513441793,
          "Y": 1.7527964620207235
         },
         {
          "Outlier": "\"Inferred\"",
          "X": -2.4584252971562393,
          "Y": 2.228366920830615
         },
         {
          "Outlier": "\"Inferred\"",
          "X": -1.1279224722940642,
          "Y": 3.443210568179678
         },
         {
          "Outlier": "\"Inferred\"",
          "X": -1.479008906435281,
          "Y": 3.6908288290815645
         },
         {
          "Outlier": "\"Inferred\"",
          "X": 0.3615054073081352,
          "Y": 4.27972153425087
         },
         {
          "Outlier": "\"Inferred\"",
          "X": 0.8486611255806581,
          "Y": 4.592720222548362
         },
         {
          "Outlier": "\"Inferred\"",
          "X": 0.32944348639832954,
          "Y": 4.596809693227079
         },
         {
          "Outlier": "\"Inferred\"",
          "X": -0.21925626392848585,
          "Y": 5.163907931661737
         },
         {
          "Outlier": "\"Inferred\"",
          "X": -0.21992193392391401,
          "Y": 4.118185761295895
         },
         {
          "Outlier": "\"Inferred\"",
          "X": 0.4150919011751638,
          "Y": 5.538117360209408
         },
         {
          "Outlier": "\"Inferred\"",
          "X": -0.7892140966783031,
          "Y": 5.695449583765478
         },
         {
          "Outlier": "\"Inferred\"",
          "X": 1.1404372527748952,
          "Y": 5.866232913939554
         },
         {
          "Outlier": "\"Inferred\"",
          "X": 1.8380893328893904,
          "Y": 6.364770313736374
         },
         {
          "Outlier": "\"Inferred\"",
          "X": 1.649053221222315,
          "Y": 6.512174927857027
         },
         {
          "Outlier": "\"Inferred\"",
          "X": 1.737182974826292,
          "Y": 5.77836967516248
         },
         {
          "Outlier": "\"Inferred\"",
          "X": -0.11560529994996305,
          "Y": 7.5367062800404945
         },
         {
          "Outlier": "\"Inferred\"",
          "X": -0.2298973114533206,
          "Y": 7.989511766138773
         },
         {
          "Outlier": "\"Inferred\"",
          "X": 1.57161291446925,
          "Y": 6.901917929677629
         },
         {
          "Outlier": "\"Inferred\"",
          "X": 2.1801023491411033,
          "Y": 8.860615665751432
         },
         {
          "Outlier": "\"Inferred\"",
          "X": -0.1784410881273133,
          "Y": 9.923272270828765
         },
         {
          "Outlier": "\"Inferred\"",
          "X": -0.7917192002889752,
          "Y": 11.753085534646807
         },
         {
          "Outlier": "\"Inferred\"",
          "X": -1.7648020508226134,
          "Y": 10.25041393399106
         },
         {
          "Outlier": "\"Inferred\"",
          "X": -1.5234743284293881,
          "Y": 11.775350954803978
         },
         {
          "Outlier": "\"Inferred\"",
          "X": 0.05357856804105787,
          "Y": 12.024349478829999
         },
         {
          "Outlier": "\"Inferred\"",
          "X": 0.4184332014913338,
          "Y": 14.340893261404778
         },
         {
          "Outlier": "\"Inferred\"",
          "X": 0.7969379235979688,
          "Y": 14.997540083518635
         },
         {
          "Outlier": "\"Inferred\"",
          "X": -0.7096426760664147,
          "Y": 14.162334925784382
         },
         {
          "Outlier": "\"Inferred\"",
          "X": -1.1397135872644253,
          "Y": 14.5137914003321
         },
         {
          "Outlier": "\"Inferred\"",
          "X": 0.31644446775231205,
          "Y": 17.969278373643117
         },
         {
          "Outlier": "\"Inferred\"",
          "X": 0.6438733418570133,
          "Y": 18.422304921183187
         },
         {
          "Outlier": "\"Inferred\"",
          "X": 1.1175523451407152,
          "Y": 18.713873184030778
         },
         {
          "Outlier": "\"Inferred\"",
          "X": 1.9686962872665608,
          "Y": 18.74605534641339
         },
         {
          "Outlier": "\"Inferred\"",
          "X": 2.001348574224465,
          "Y": 18.21984280700007
         },
         {
          "Outlier": "\"Inferred\"",
          "X": 1.2367693402425317,
          "Y": 17.359669921367168
         },
         {
          "Outlier": "\"Inferred\"",
          "X": 0.2995047254719734,
          "Y": 17.419198206704273
         },
         {
          "Outlier": "\"Inferred\"",
          "X": 0.8622826020639092,
          "Y": 18.53931366111848
         },
         {
          "Outlier": "\"Inferred\"",
          "X": 1.0735971282483163,
          "Y": 17.975531013733278
         },
         {
          "Outlier": "\"Inferred\"",
          "X": 1.2451588531584312,
          "Y": 18.79352133226893
         },
         {
          "Outlier": "\"Inferred\"",
          "X": 0.7834409223822317,
          "Y": 17.519317572506424
         },
         {
          "Outlier": "\"Inferred\"",
          "X": 0.022324380796899135,
          "Y": 18.666677816733223
         },
         {
          "Outlier": "\"Inferred\"",
          "X": -0.7061071858531587,
          "Y": 17.365038139967538
         },
         {
          "Outlier": "\"Inferred\"",
          "X": 1.0408194778375142,
          "Y": 16.453328413776028
         },
         {
          "Outlier": "\"Inferred\"",
          "X": 1.5405091660502246,
          "Y": 17.549414850528695
         },
         {
          "Outlier": "\"Inferred\"",
          "X": 3.9338660225548883,
          "Y": 18.810585449009046
         },
         {
          "Outlier": "\"Inferred\"",
          "X": 5.934341937148822,
          "Y": 19.291644715457366
         },
         {
          "Outlier": "\"Inferred\"",
          "X": 5.860698325850149,
          "Y": 18.481355238954116
         },
         {
          "Outlier": "\"Inferred\"",
          "X": 5.705451214097312,
          "Y": 19.045493557223
         },
         {
          "Outlier": "\"Inferred\"",
          "X": 6.967486968545026,
          "Y": 20.43685475506132
         },
         {
          "Outlier": "\"Inferred\"",
          "X": 7.850876988134879,
          "Y": 20.85970235656663
         },
         {
          "Outlier": "\"Inferred\"",
          "X": 8.392808772137586,
          "Y": 23.32121753848475
         },
         {
          "Outlier": "\"Inferred\"",
          "X": 8.372631457732883,
          "Y": 23.550505259601916
         },
         {
          "Outlier": "\"Inferred\"",
          "X": 9.871662866734457,
          "Y": 23.307490436256916
         },
         {
          "Outlier": "\"Inferred\"",
          "X": 10.314173898117193,
          "Y": 22.949374682117536
         },
         {
          "Outlier": "\"Inferred\"",
          "X": 10.32563322222216,
          "Y": 22.80572929728597
         },
         {
          "Outlier": "\"Inferred\"",
          "X": 11.975182162138363,
          "Y": 22.756945025950817
         },
         {
          "Outlier": "\"Inferred\"",
          "X": 13.534798358225013,
          "Y": 23.922399218838915
         },
         {
          "Outlier": "\"Inferred\"",
          "X": 13.939544608950607,
          "Y": 24.9043680997103
         },
         {
          "Outlier": "\"Inferred\"",
          "X": 14.852997836030292,
          "Y": 24.505991407121257
         },
         {
          "Outlier": "\"Inferred\"",
          "X": 14.722821358543685,
          "Y": 24.594075915773587
         },
         {
          "Outlier": "\"Inferred\"",
          "X": 14.103015251522454,
          "Y": 25.337305991383168
         },
         {
          "Outlier": "\"Inferred\"",
          "X": 12.613805810396606,
          "Y": 24.313422106066636
         },
         {
          "Outlier": "\"Inferred\"",
          "X": 13.080486829217792,
          "Y": 25.777670422612843
         },
         {
          "Outlier": "\"Inferred\"",
          "X": 11.503005763094693,
          "Y": 26.751491443530828
         },
         {
          "Outlier": "\"Inferred\"",
          "X": 12.268003621078462,
          "Y": 27.23493393620551
         },
         {
          "Outlier": "\"Inferred\"",
          "X": 13.107978224639371,
          "Y": 26.92306508382835
         },
         {
          "Outlier": "\"Inferred\"",
          "X": 13.28221444777585,
          "Y": 29.395602706911507
         },
         {
          "Outlier": "\"Inferred\"",
          "X": 14.801724593495212,
          "Y": 31.014010268316014
         },
         {
          "Outlier": "\"Inferred\"",
          "X": 14.27581330599868,
          "Y": 32.454234349787356
         },
         {
          "Outlier": "\"Inferred\"",
          "X": 14.029469444313813,
          "Y": 32.87117959294212
         },
         {
          "Outlier": "\"Inferred\"",
          "X": 15.19015709218286,
          "Y": 32.86952476370945
         },
         {
          "Outlier": "\"Inferred\"",
          "X": 15.773016432325253,
          "Y": 32.73681053907679
         },
         {
          "Outlier": "\"Inferred\"",
          "X": 17.51929695827333,
          "Y": 34.48234688075527
         },
         {
          "Outlier": "\"Inferred\"",
          "X": 20.037100194311396,
          "Y": 34.946070338043754
         },
         {
          "Outlier": "\"Inferred\"",
          "X": 21.818139030888776,
          "Y": 35.85262831787663
         },
         {
          "Outlier": "\"Inferred\"",
          "X": 21.732369533022062,
          "Y": 38.285815587214415
         },
         {
          "Outlier": "\"Inferred\"",
          "X": 22.57036154565432,
          "Y": 39.26475493081164
         },
         {
          "Outlier": "\"Inferred\"",
          "X": 22.65428937960439,
          "Y": 38.16420139841805
         },
         {
          "Outlier": "\"Inferred\"",
          "X": 24.780585362838643,
          "Y": 39.91054354562683
         },
         {
          "Outlier": "\"Inferred\"",
          "X": 25.38354438220824,
          "Y": 39.24486197722906
         },
         {
          "Outlier": "\"Inferred\"",
          "X": 27.164442953314957,
          "Y": 40.251417386922114
         },
         {
          "Outlier": "\"Inferred\"",
          "X": 28.28179394365139,
          "Y": 40.646152553616645
         },
         {
          "Outlier": "\"Inferred\"",
          "X": 28.30913626904519,
          "Y": 41.02315352290143
         },
         {
          "Outlier": "\"Inferred\"",
          "X": 29.883021734981654,
          "Y": 41.74567007600542
         },
         {
          "Outlier": "\"Inferred\"",
          "X": 31.777263046995003,
          "Y": 41.57505095385209
         },
         {
          "Outlier": "\"Inferred\"",
          "X": 32.06844181937742,
          "Y": 42.277030586291964
         },
         {
          "Outlier": "\"Inferred\"",
          "X": 34.001286580375854,
          "Y": 44.064459055471616
         },
         {
          "Outlier": "\"Inferred\"",
          "X": 35.46263684098056,
          "Y": 44.39313681002709
         },
         {
          "Outlier": "\"Inferred\"",
          "X": 35.91657596164125,
          "Y": 43.94958775308008
         },
         {
          "Outlier": "\"Inferred\"",
          "X": 36.54973787601623,
          "Y": 42.1580021668003
         },
         {
          "Outlier": "\"Inferred\"",
          "X": 37.3930776154532,
          "Y": 41.48314238427116
         },
         {
          "Outlier": "\"Inferred\"",
          "X": 38.38432519062528,
          "Y": 42.29679000879268
         },
         {
          "Outlier": "\"Inferred\"",
          "X": 38.91123441323717,
          "Y": 41.26209411757374
         },
         {
          "Outlier": "\"Inferred\"",
          "X": 40.166021193732696,
          "Y": 40.759603208035806
         },
         {
          "Outlier": "\"Inferred\"",
          "X": 40.50605107857945,
          "Y": 41.098319086440625
         },
         {
          "Outlier": "\"Inferred\"",
          "X": 41.47828444799129,
          "Y": 42.79761600201785
         },
         {
          "Outlier": "\"Inferred\"",
          "X": 41.18248674870844,
          "Y": 42.65921546057904
         },
         {
          "Outlier": "\"Inferred\"",
          "X": -1.3672224100432464,
          "Y": 0.48810911351361935
         },
         {
          "Outlier": "\"Inferred\"",
          "X": -1.362481961988402,
          "Y": 0.7076446081740262
         },
         {
          "Outlier": "\"Inferred\"",
          "X": -0.8715888597202504,
          "Y": 0.5387869363321125
         },
         {
          "Outlier": "\"Inferred\"",
          "X": -1.7846730243034472,
          "Y": 0.10506846798668501
         },
         {
          "Outlier": "\"Inferred\"",
          "X": -1.7248963513441793,
          "Y": 1.7527964620207235
         },
         {
          "Outlier": "\"Inferred\"",
          "X": -2.4584252971562393,
          "Y": 2.228366920830615
         },
         {
          "Outlier": "\"Inferred\"",
          "X": -1.1279224722940642,
          "Y": 3.443210568179678
         },
         {
          "Outlier": "\"Inferred\"",
          "X": -1.479008906435281,
          "Y": 3.6908288290815645
         },
         {
          "Outlier": "\"Inferred\"",
          "X": 0.3615054073081352,
          "Y": 4.27972153425087
         },
         {
          "Outlier": "\"Inferred\"",
          "X": 0.8486611255806581,
          "Y": 4.592720222548362
         },
         {
          "Outlier": "\"Inferred\"",
          "X": 0.32944348639832954,
          "Y": 4.596809693227079
         },
         {
          "Outlier": "\"Inferred\"",
          "X": -0.21925626392848585,
          "Y": 5.163907931661737
         },
         {
          "Outlier": "\"Inferred\"",
          "X": -0.21992193392391401,
          "Y": 4.118185761295895
         },
         {
          "Outlier": "\"Inferred\"",
          "X": 0.4150919011751638,
          "Y": 5.538117360209408
         },
         {
          "Outlier": "\"Inferred\"",
          "X": -0.7892140966783031,
          "Y": 5.695449583765478
         },
         {
          "Outlier": "\"Inferred\"",
          "X": 1.1404372527748952,
          "Y": 5.866232913939554
         },
         {
          "Outlier": "\"Inferred\"",
          "X": 1.8380893328893904,
          "Y": 6.364770313736374
         },
         {
          "Outlier": "\"Inferred\"",
          "X": 1.649053221222315,
          "Y": 6.512174927857027
         },
         {
          "Outlier": "\"Inferred\"",
          "X": 1.737182974826292,
          "Y": 5.77836967516248
         },
         {
          "Outlier": "\"Inferred\"",
          "X": -0.11560529994996305,
          "Y": 7.5367062800404945
         },
         {
          "Outlier": "\"Inferred\"",
          "X": -0.2298973114533206,
          "Y": 7.989511766138773
         },
         {
          "Outlier": "\"Inferred\"",
          "X": 1.57161291446925,
          "Y": 6.901917929677629
         },
         {
          "Outlier": "\"Inferred\"",
          "X": 2.1801023491411033,
          "Y": 8.860615665751432
         },
         {
          "Outlier": "\"Inferred\"",
          "X": -0.1784410881273133,
          "Y": 9.923272270828765
         },
         {
          "Outlier": "\"Inferred\"",
          "X": -0.7917192002889752,
          "Y": 11.753085534646807
         },
         {
          "Outlier": "\"Inferred\"",
          "X": -1.7648020508226134,
          "Y": 10.25041393399106
         },
         {
          "Outlier": "\"Inferred\"",
          "X": -1.5234743284293881,
          "Y": 11.775350954803978
         },
         {
          "Outlier": "\"Inferred\"",
          "X": 0.05357856804105787,
          "Y": 12.024349478829999
         },
         {
          "Outlier": "\"Inferred\"",
          "X": 0.4184332014913338,
          "Y": 14.340893261404778
         },
         {
          "Outlier": "\"Inferred\"",
          "X": 0.7969379235979688,
          "Y": 14.997540083518635
         },
         {
          "Outlier": "\"Inferred\"",
          "X": -0.7096426760664147,
          "Y": 14.162334925784382
         },
         {
          "Outlier": "\"Inferred\"",
          "X": -1.1397135872644253,
          "Y": 14.5137914003321
         },
         {
          "Outlier": "\"Inferred\"",
          "X": 0.31644446775231205,
          "Y": 17.969278373643117
         },
         {
          "Outlier": "\"Inferred\"",
          "X": 0.6438733418570133,
          "Y": 18.422304921183187
         },
         {
          "Outlier": "\"Inferred\"",
          "X": 1.1175523451407152,
          "Y": 18.713873184030778
         },
         {
          "Outlier": "\"Inferred\"",
          "X": 1.9686962872665608,
          "Y": 18.74605534641339
         },
         {
          "Outlier": "\"Inferred\"",
          "X": 2.001348574224465,
          "Y": 18.21984280700007
         },
         {
          "Outlier": "\"Inferred\"",
          "X": 1.2367693402425317,
          "Y": 17.359669921367168
         },
         {
          "Outlier": "\"Inferred\"",
          "X": 0.2995047254719734,
          "Y": 17.419198206704273
         },
         {
          "Outlier": "\"Inferred\"",
          "X": 0.8622826020639092,
          "Y": 18.53931366111848
         },
         {
          "Outlier": "\"Inferred\"",
          "X": 1.0735971282483163,
          "Y": 17.975531013733278
         },
         {
          "Outlier": "\"Inferred\"",
          "X": 1.2451588531584312,
          "Y": 18.79352133226893
         },
         {
          "Outlier": "\"Inferred\"",
          "X": 0.7834409223822317,
          "Y": 17.519317572506424
         },
         {
          "Outlier": "\"Inferred\"",
          "X": 0.022324380796899135,
          "Y": 18.666677816733223
         },
         {
          "Outlier": "\"Inferred\"",
          "X": -0.7061071858531587,
          "Y": 17.365038139967538
         },
         {
          "Outlier": "\"Inferred\"",
          "X": 1.0408194778375142,
          "Y": 16.453328413776028
         },
         {
          "Outlier": "\"Inferred\"",
          "X": 1.5405091660502246,
          "Y": 17.549414850528695
         },
         {
          "Outlier": "\"Inferred\"",
          "X": 3.9338660225548883,
          "Y": 18.810585449009046
         },
         {
          "Outlier": "\"Inferred\"",
          "X": 5.934341937148822,
          "Y": 19.291644715457366
         },
         {
          "Outlier": "\"Inferred\"",
          "X": 5.860698325850149,
          "Y": 18.481355238954116
         },
         {
          "Outlier": "\"Inferred\"",
          "X": 5.705451214097312,
          "Y": 19.045493557223
         },
         {
          "Outlier": "\"Inferred\"",
          "X": 6.967486968545026,
          "Y": 20.43685475506132
         },
         {
          "Outlier": "\"Inferred\"",
          "X": 7.850876988134879,
          "Y": 20.85970235656663
         },
         {
          "Outlier": "\"Inferred\"",
          "X": 8.392808772137586,
          "Y": 23.32121753848475
         },
         {
          "Outlier": "\"Inferred\"",
          "X": 8.372631457732883,
          "Y": 23.550505259601916
         },
         {
          "Outlier": "\"Inferred\"",
          "X": 9.871662866734457,
          "Y": 23.307490436256916
         },
         {
          "Outlier": "\"Inferred\"",
          "X": 10.314173898117193,
          "Y": 22.949374682117536
         },
         {
          "Outlier": "\"Inferred\"",
          "X": 10.32563322222216,
          "Y": 22.80572929728597
         },
         {
          "Outlier": "\"Inferred\"",
          "X": 11.975182162138363,
          "Y": 22.756945025950817
         },
         {
          "Outlier": "\"Inferred\"",
          "X": 13.534798358225013,
          "Y": 23.922399218838915
         },
         {
          "Outlier": "\"Inferred\"",
          "X": 13.939544608950607,
          "Y": 24.9043680997103
         },
         {
          "Outlier": "\"Inferred\"",
          "X": 14.852997836030292,
          "Y": 24.505991407121257
         },
         {
          "Outlier": "\"Inferred\"",
          "X": 14.722821358543685,
          "Y": 24.594075915773587
         },
         {
          "Outlier": "\"Inferred\"",
          "X": 14.103015251522454,
          "Y": 25.337305991383168
         },
         {
          "Outlier": "\"Inferred\"",
          "X": 12.613805810396606,
          "Y": 24.313422106066636
         },
         {
          "Outlier": "\"Inferred\"",
          "X": 13.080486829217792,
          "Y": 25.777670422612843
         },
         {
          "Outlier": "\"Inferred\"",
          "X": 11.503005763094693,
          "Y": 26.751491443530828
         },
         {
          "Outlier": "\"Inferred\"",
          "X": 12.268003621078462,
          "Y": 27.23493393620551
         },
         {
          "Outlier": "\"Inferred\"",
          "X": 13.107978224639371,
          "Y": 26.92306508382835
         },
         {
          "Outlier": "\"Inferred\"",
          "X": 13.28221444777585,
          "Y": 29.395602706911507
         },
         {
          "Outlier": "\"Inferred\"",
          "X": 14.801724593495212,
          "Y": 31.014010268316014
         },
         {
          "Outlier": "\"Inferred\"",
          "X": 14.27581330599868,
          "Y": 32.454234349787356
         },
         {
          "Outlier": "\"Inferred\"",
          "X": 14.029469444313813,
          "Y": 32.87117959294212
         },
         {
          "Outlier": "\"Inferred\"",
          "X": 15.19015709218286,
          "Y": 32.86952476370945
         },
         {
          "Outlier": "\"Inferred\"",
          "X": 15.773016432325253,
          "Y": 32.73681053907679
         },
         {
          "Outlier": "\"Inferred\"",
          "X": 17.51929695827333,
          "Y": 34.48234688075527
         },
         {
          "Outlier": "\"Inferred\"",
          "X": 20.037100194311396,
          "Y": 34.946070338043754
         },
         {
          "Outlier": "\"Inferred\"",
          "X": 21.818139030888776,
          "Y": 35.85262831787663
         },
         {
          "Outlier": "\"Inferred\"",
          "X": 21.732369533022062,
          "Y": 38.285815587214415
         },
         {
          "Outlier": "\"Inferred\"",
          "X": 22.57036154565432,
          "Y": 39.26475493081164
         },
         {
          "Outlier": "\"Inferred\"",
          "X": 22.65428937960439,
          "Y": 38.16420139841805
         },
         {
          "Outlier": "\"Inferred\"",
          "X": 24.780585362838643,
          "Y": 39.91054354562683
         },
         {
          "Outlier": "\"Inferred\"",
          "X": 25.38354438220824,
          "Y": 39.24486197722906
         },
         {
          "Outlier": "\"Inferred\"",
          "X": 27.164442953314957,
          "Y": 40.251417386922114
         },
         {
          "Outlier": "\"Inferred\"",
          "X": 28.28179394365139,
          "Y": 40.646152553616645
         },
         {
          "Outlier": "\"Inferred\"",
          "X": 28.30913626904519,
          "Y": 41.02315352290143
         },
         {
          "Outlier": "\"Inferred\"",
          "X": 29.883021734981654,
          "Y": 41.74567007600542
         },
         {
          "Outlier": "\"Inferred\"",
          "X": 31.777263046995003,
          "Y": 41.57505095385209
         },
         {
          "Outlier": "\"Inferred\"",
          "X": 32.06844181937742,
          "Y": 42.277030586291964
         },
         {
          "Outlier": "\"Inferred\"",
          "X": 34.001286580375854,
          "Y": 44.064459055471616
         },
         {
          "Outlier": "\"Inferred\"",
          "X": 35.46263684098056,
          "Y": 44.39313681002709
         },
         {
          "Outlier": "\"Inferred\"",
          "X": 35.91657596164125,
          "Y": 43.94958775308008
         },
         {
          "Outlier": "\"Inferred\"",
          "X": 36.54973787601623,
          "Y": 42.1580021668003
         },
         {
          "Outlier": "\"Inferred\"",
          "X": 37.3930776154532,
          "Y": 41.48314238427116
         },
         {
          "Outlier": "\"Inferred\"",
          "X": 38.38432519062528,
          "Y": 42.29679000879268
         },
         {
          "Outlier": "\"Inferred\"",
          "X": 38.91123441323717,
          "Y": 41.26209411757374
         },
         {
          "Outlier": "\"Inferred\"",
          "X": 40.166021193732696,
          "Y": 40.759603208035806
         },
         {
          "Outlier": "\"Inferred\"",
          "X": 40.50605107857945,
          "Y": 41.098319086440625
         },
         {
          "Outlier": "\"Inferred\"",
          "X": 41.47828444799129,
          "Y": 42.79761600201785
         },
         {
          "Outlier": "\"Inferred\"",
          "X": 41.953536690486416,
          "Y": 44.50060661126623
         },
         {
          "Outlier": "\"Inferred\"",
          "X": -1.3672224100432464,
          "Y": 0.48810911351361935
         },
         {
          "Outlier": "\"Inferred\"",
          "X": -1.362481961988402,
          "Y": 0.7076446081740262
         },
         {
          "Outlier": "\"Inferred\"",
          "X": -0.8715888597202504,
          "Y": 0.5387869363321125
         },
         {
          "Outlier": "\"Inferred\"",
          "X": -1.7846730243034472,
          "Y": 0.10506846798668501
         },
         {
          "Outlier": "\"Inferred\"",
          "X": -1.7248963513441793,
          "Y": 1.7527964620207235
         },
         {
          "Outlier": "\"Inferred\"",
          "X": -2.4584252971562393,
          "Y": 2.228366920830615
         },
         {
          "Outlier": "\"Inferred\"",
          "X": -1.1279224722940642,
          "Y": 3.443210568179678
         },
         {
          "Outlier": "\"Inferred\"",
          "X": -1.479008906435281,
          "Y": 3.6908288290815645
         },
         {
          "Outlier": "\"Inferred\"",
          "X": 0.3615054073081352,
          "Y": 4.27972153425087
         },
         {
          "Outlier": "\"Inferred\"",
          "X": 0.8486611255806581,
          "Y": 4.592720222548362
         },
         {
          "Outlier": "\"Inferred\"",
          "X": 0.32944348639832954,
          "Y": 4.596809693227079
         },
         {
          "Outlier": "\"Inferred\"",
          "X": -0.21925626392848585,
          "Y": 5.163907931661737
         },
         {
          "Outlier": "\"Inferred\"",
          "X": -0.21992193392391401,
          "Y": 4.118185761295895
         },
         {
          "Outlier": "\"Inferred\"",
          "X": 0.4150919011751638,
          "Y": 5.538117360209408
         },
         {
          "Outlier": "\"Inferred\"",
          "X": -0.7892140966783031,
          "Y": 5.695449583765478
         },
         {
          "Outlier": "\"Inferred\"",
          "X": 1.1404372527748952,
          "Y": 5.866232913939554
         },
         {
          "Outlier": "\"Inferred\"",
          "X": 1.8380893328893904,
          "Y": 6.364770313736374
         },
         {
          "Outlier": "\"Inferred\"",
          "X": 1.649053221222315,
          "Y": 6.512174927857027
         },
         {
          "Outlier": "\"Inferred\"",
          "X": 1.737182974826292,
          "Y": 5.77836967516248
         },
         {
          "Outlier": "\"Inferred\"",
          "X": -0.11560529994996305,
          "Y": 7.5367062800404945
         },
         {
          "Outlier": "\"Inferred\"",
          "X": -0.2298973114533206,
          "Y": 7.989511766138773
         },
         {
          "Outlier": "\"Inferred\"",
          "X": 1.57161291446925,
          "Y": 6.901917929677629
         },
         {
          "Outlier": "\"Inferred\"",
          "X": 2.1801023491411033,
          "Y": 8.860615665751432
         },
         {
          "Outlier": "\"Inferred\"",
          "X": -0.1784410881273133,
          "Y": 9.923272270828765
         },
         {
          "Outlier": "\"Inferred\"",
          "X": -0.7917192002889752,
          "Y": 11.753085534646807
         },
         {
          "Outlier": "\"Inferred\"",
          "X": -1.7648020508226134,
          "Y": 10.25041393399106
         },
         {
          "Outlier": "\"Inferred\"",
          "X": -1.5234743284293881,
          "Y": 11.775350954803978
         },
         {
          "Outlier": "\"Inferred\"",
          "X": 0.05357856804105787,
          "Y": 12.024349478829999
         },
         {
          "Outlier": "\"Inferred\"",
          "X": 0.4184332014913338,
          "Y": 14.340893261404778
         },
         {
          "Outlier": "\"Inferred\"",
          "X": 0.7969379235979688,
          "Y": 14.997540083518635
         },
         {
          "Outlier": "\"Inferred\"",
          "X": -0.7096426760664147,
          "Y": 14.162334925784382
         },
         {
          "Outlier": "\"Inferred\"",
          "X": -1.1397135872644253,
          "Y": 14.5137914003321
         },
         {
          "Outlier": "\"Inferred\"",
          "X": 0.31644446775231205,
          "Y": 17.969278373643117
         },
         {
          "Outlier": "\"Inferred\"",
          "X": 0.6438733418570133,
          "Y": 18.422304921183187
         },
         {
          "Outlier": "\"Inferred\"",
          "X": 1.1175523451407152,
          "Y": 18.713873184030778
         },
         {
          "Outlier": "\"Inferred\"",
          "X": 1.9686962872665608,
          "Y": 18.74605534641339
         },
         {
          "Outlier": "\"Inferred\"",
          "X": 2.001348574224465,
          "Y": 18.21984280700007
         },
         {
          "Outlier": "\"Inferred\"",
          "X": 1.2367693402425317,
          "Y": 17.359669921367168
         },
         {
          "Outlier": "\"Inferred\"",
          "X": 0.2995047254719734,
          "Y": 17.419198206704273
         },
         {
          "Outlier": "\"Inferred\"",
          "X": 0.8622826020639092,
          "Y": 18.53931366111848
         },
         {
          "Outlier": "\"Inferred\"",
          "X": 1.0735971282483163,
          "Y": 17.975531013733278
         },
         {
          "Outlier": "\"Inferred\"",
          "X": 1.2451588531584312,
          "Y": 18.79352133226893
         },
         {
          "Outlier": "\"Inferred\"",
          "X": 0.7834409223822317,
          "Y": 17.519317572506424
         },
         {
          "Outlier": "\"Inferred\"",
          "X": 0.022324380796899135,
          "Y": 18.666677816733223
         },
         {
          "Outlier": "\"Inferred\"",
          "X": -0.7061071858531587,
          "Y": 17.365038139967538
         },
         {
          "Outlier": "\"Inferred\"",
          "X": 1.0408194778375142,
          "Y": 16.453328413776028
         },
         {
          "Outlier": "\"Inferred\"",
          "X": 1.5405091660502246,
          "Y": 17.549414850528695
         },
         {
          "Outlier": "\"Inferred\"",
          "X": 3.9338660225548883,
          "Y": 18.810585449009046
         },
         {
          "Outlier": "\"Inferred\"",
          "X": 5.934341937148822,
          "Y": 19.291644715457366
         },
         {
          "Outlier": "\"Inferred\"",
          "X": 5.860698325850149,
          "Y": 18.481355238954116
         },
         {
          "Outlier": "\"Inferred\"",
          "X": 5.705451214097312,
          "Y": 19.045493557223
         },
         {
          "Outlier": "\"Inferred\"",
          "X": 6.967486968545026,
          "Y": 20.43685475506132
         },
         {
          "Outlier": "\"Inferred\"",
          "X": 7.850876988134879,
          "Y": 20.85970235656663
         },
         {
          "Outlier": "\"Inferred\"",
          "X": 8.392808772137586,
          "Y": 23.32121753848475
         },
         {
          "Outlier": "\"Inferred\"",
          "X": 8.372631457732883,
          "Y": 23.550505259601916
         },
         {
          "Outlier": "\"Inferred\"",
          "X": 9.871662866734457,
          "Y": 23.307490436256916
         },
         {
          "Outlier": "\"Inferred\"",
          "X": 10.314173898117193,
          "Y": 22.949374682117536
         },
         {
          "Outlier": "\"Inferred\"",
          "X": 10.32563322222216,
          "Y": 22.80572929728597
         },
         {
          "Outlier": "\"Inferred\"",
          "X": 11.975182162138363,
          "Y": 22.756945025950817
         },
         {
          "Outlier": "\"Inferred\"",
          "X": 13.534798358225013,
          "Y": 23.922399218838915
         },
         {
          "Outlier": "\"Inferred\"",
          "X": 13.939544608950607,
          "Y": 24.9043680997103
         },
         {
          "Outlier": "\"Inferred\"",
          "X": 14.852997836030292,
          "Y": 24.505991407121257
         },
         {
          "Outlier": "\"Inferred\"",
          "X": 14.722821358543685,
          "Y": 24.594075915773587
         },
         {
          "Outlier": "\"Inferred\"",
          "X": 14.103015251522454,
          "Y": 25.337305991383168
         },
         {
          "Outlier": "\"Inferred\"",
          "X": 12.613805810396606,
          "Y": 24.313422106066636
         },
         {
          "Outlier": "\"Inferred\"",
          "X": 13.080486829217792,
          "Y": 25.777670422612843
         },
         {
          "Outlier": "\"Inferred\"",
          "X": 11.503005763094693,
          "Y": 26.751491443530828
         },
         {
          "Outlier": "\"Inferred\"",
          "X": 12.268003621078462,
          "Y": 27.23493393620551
         },
         {
          "Outlier": "\"Inferred\"",
          "X": 13.107978224639371,
          "Y": 26.92306508382835
         },
         {
          "Outlier": "\"Inferred\"",
          "X": 13.28221444777585,
          "Y": 29.395602706911507
         },
         {
          "Outlier": "\"Inferred\"",
          "X": 14.801724593495212,
          "Y": 31.014010268316014
         },
         {
          "Outlier": "\"Inferred\"",
          "X": 14.27581330599868,
          "Y": 32.454234349787356
         },
         {
          "Outlier": "\"Inferred\"",
          "X": 14.029469444313813,
          "Y": 32.87117959294212
         },
         {
          "Outlier": "\"Inferred\"",
          "X": 15.19015709218286,
          "Y": 32.86952476370945
         },
         {
          "Outlier": "\"Inferred\"",
          "X": 15.773016432325253,
          "Y": 32.73681053907679
         },
         {
          "Outlier": "\"Inferred\"",
          "X": 17.51929695827333,
          "Y": 34.48234688075527
         },
         {
          "Outlier": "\"Inferred\"",
          "X": 20.037100194311396,
          "Y": 34.946070338043754
         },
         {
          "Outlier": "\"Inferred\"",
          "X": 21.818139030888776,
          "Y": 35.85262831787663
         },
         {
          "Outlier": "\"Inferred\"",
          "X": 21.732369533022062,
          "Y": 38.285815587214415
         },
         {
          "Outlier": "\"Inferred\"",
          "X": 22.57036154565432,
          "Y": 39.26475493081164
         },
         {
          "Outlier": "\"Inferred\"",
          "X": 22.65428937960439,
          "Y": 38.16420139841805
         },
         {
          "Outlier": "\"Inferred\"",
          "X": 24.780585362838643,
          "Y": 39.91054354562683
         },
         {
          "Outlier": "\"Inferred\"",
          "X": 25.38354438220824,
          "Y": 39.24486197722906
         },
         {
          "Outlier": "\"Inferred\"",
          "X": 27.164442953314957,
          "Y": 40.251417386922114
         },
         {
          "Outlier": "\"Inferred\"",
          "X": 28.28179394365139,
          "Y": 40.646152553616645
         },
         {
          "Outlier": "\"Inferred\"",
          "X": 28.30913626904519,
          "Y": 41.02315352290143
         },
         {
          "Outlier": "\"Inferred\"",
          "X": 29.883021734981654,
          "Y": 41.74567007600542
         },
         {
          "Outlier": "\"Inferred\"",
          "X": 31.777263046995003,
          "Y": 41.57505095385209
         },
         {
          "Outlier": "\"Inferred\"",
          "X": 32.06844181937742,
          "Y": 42.277030586291964
         },
         {
          "Outlier": "\"Inferred\"",
          "X": 34.001286580375854,
          "Y": 44.064459055471616
         },
         {
          "Outlier": "\"Inferred\"",
          "X": 35.46263684098056,
          "Y": 44.39313681002709
         },
         {
          "Outlier": "\"Inferred\"",
          "X": 35.91657596164125,
          "Y": 43.94958775308008
         },
         {
          "Outlier": "\"Inferred\"",
          "X": 36.54973787601623,
          "Y": 42.1580021668003
         },
         {
          "Outlier": "\"Inferred\"",
          "X": 37.3930776154532,
          "Y": 41.48314238427116
         },
         {
          "Outlier": "\"Inferred\"",
          "X": 38.38432519062528,
          "Y": 42.29679000879268
         },
         {
          "Outlier": "\"Inferred\"",
          "X": 38.91123441323717,
          "Y": 41.26209411757374
         },
         {
          "Outlier": "\"Inferred\"",
          "X": 39.52098004401935,
          "Y": 40.99541891009436
         },
         {
          "Outlier": "\"Inferred\"",
          "X": 40.31056007737459,
          "Y": 41.773538622098734
         },
         {
          "Outlier": "\"Inferred\"",
          "X": 40.49512318630572,
          "Y": 41.23779202277633
         },
         {
          "Outlier": "\"Inferred\"",
          "X": 41.97362812691924,
          "Y": 40.64697990298612
         },
         {
          "Outlier": "\"Inferred\"",
          "X": -1.3672224100432464,
          "Y": 0.48810911351361935
         },
         {
          "Outlier": "\"Inferred\"",
          "X": -1.362481961988402,
          "Y": 0.7076446081740262
         },
         {
          "Outlier": "\"Inferred\"",
          "X": -0.8715888597202504,
          "Y": 0.5387869363321125
         },
         {
          "Outlier": "\"Inferred\"",
          "X": -1.7846730243034472,
          "Y": 0.10506846798668501
         },
         {
          "Outlier": "\"Inferred\"",
          "X": -1.7248963513441793,
          "Y": 1.7527964620207235
         },
         {
          "Outlier": "\"Inferred\"",
          "X": -2.4584252971562393,
          "Y": 2.228366920830615
         },
         {
          "Outlier": "\"Inferred\"",
          "X": -1.1279224722940642,
          "Y": 3.443210568179678
         },
         {
          "Outlier": "\"Inferred\"",
          "X": -1.479008906435281,
          "Y": 3.6908288290815645
         },
         {
          "Outlier": "\"Inferred\"",
          "X": 0.3615054073081352,
          "Y": 4.27972153425087
         },
         {
          "Outlier": "\"Inferred\"",
          "X": 0.8486611255806581,
          "Y": 4.592720222548362
         },
         {
          "Outlier": "\"Inferred\"",
          "X": 0.32944348639832954,
          "Y": 4.596809693227079
         },
         {
          "Outlier": "\"Inferred\"",
          "X": -0.21925626392848585,
          "Y": 5.163907931661737
         },
         {
          "Outlier": "\"Inferred\"",
          "X": -0.21992193392391401,
          "Y": 4.118185761295895
         },
         {
          "Outlier": "\"Inferred\"",
          "X": 0.4150919011751638,
          "Y": 5.538117360209408
         },
         {
          "Outlier": "\"Inferred\"",
          "X": -0.7892140966783031,
          "Y": 5.695449583765478
         },
         {
          "Outlier": "\"Inferred\"",
          "X": 1.1404372527748952,
          "Y": 5.866232913939554
         },
         {
          "Outlier": "\"Inferred\"",
          "X": 1.8380893328893904,
          "Y": 6.364770313736374
         },
         {
          "Outlier": "\"Inferred\"",
          "X": 1.649053221222315,
          "Y": 6.512174927857027
         },
         {
          "Outlier": "\"Inferred\"",
          "X": 1.737182974826292,
          "Y": 5.77836967516248
         },
         {
          "Outlier": "\"Inferred\"",
          "X": -0.11560529994996305,
          "Y": 7.5367062800404945
         },
         {
          "Outlier": "\"Inferred\"",
          "X": -0.2298973114533206,
          "Y": 7.989511766138773
         },
         {
          "Outlier": "\"Inferred\"",
          "X": 1.57161291446925,
          "Y": 6.901917929677629
         },
         {
          "Outlier": "\"Inferred\"",
          "X": 2.1801023491411033,
          "Y": 8.860615665751432
         },
         {
          "Outlier": "\"Inferred\"",
          "X": -0.1784410881273133,
          "Y": 9.923272270828765
         },
         {
          "Outlier": "\"Inferred\"",
          "X": -0.7917192002889752,
          "Y": 11.753085534646807
         },
         {
          "Outlier": "\"Inferred\"",
          "X": -1.7648020508226134,
          "Y": 10.25041393399106
         },
         {
          "Outlier": "\"Inferred\"",
          "X": -1.5234743284293881,
          "Y": 11.775350954803978
         },
         {
          "Outlier": "\"Inferred\"",
          "X": 0.05357856804105787,
          "Y": 12.024349478829999
         },
         {
          "Outlier": "\"Inferred\"",
          "X": 0.4184332014913338,
          "Y": 14.340893261404778
         },
         {
          "Outlier": "\"Inferred\"",
          "X": 0.7969379235979688,
          "Y": 14.997540083518635
         },
         {
          "Outlier": "\"Inferred\"",
          "X": -0.7096426760664147,
          "Y": 14.162334925784382
         },
         {
          "Outlier": "\"Inferred\"",
          "X": -1.1397135872644253,
          "Y": 14.5137914003321
         },
         {
          "Outlier": "\"Inferred\"",
          "X": 0.31644446775231205,
          "Y": 17.969278373643117
         },
         {
          "Outlier": "\"Inferred\"",
          "X": 0.6438733418570133,
          "Y": 18.422304921183187
         },
         {
          "Outlier": "\"Inferred\"",
          "X": 1.1175523451407152,
          "Y": 18.713873184030778
         },
         {
          "Outlier": "\"Inferred\"",
          "X": 1.9686962872665608,
          "Y": 18.74605534641339
         },
         {
          "Outlier": "\"Inferred\"",
          "X": 2.001348574224465,
          "Y": 18.21984280700007
         },
         {
          "Outlier": "\"Inferred\"",
          "X": 1.2367693402425317,
          "Y": 17.359669921367168
         },
         {
          "Outlier": "\"Inferred\"",
          "X": 0.2995047254719734,
          "Y": 17.419198206704273
         },
         {
          "Outlier": "\"Inferred\"",
          "X": 0.8622826020639092,
          "Y": 18.53931366111848
         },
         {
          "Outlier": "\"Inferred\"",
          "X": 1.0735971282483163,
          "Y": 17.975531013733278
         },
         {
          "Outlier": "\"Inferred\"",
          "X": 1.2451588531584312,
          "Y": 18.79352133226893
         },
         {
          "Outlier": "\"Inferred\"",
          "X": 0.7834409223822317,
          "Y": 17.519317572506424
         },
         {
          "Outlier": "\"Inferred\"",
          "X": 0.022324380796899135,
          "Y": 18.666677816733223
         },
         {
          "Outlier": "\"Inferred\"",
          "X": -0.7061071858531587,
          "Y": 17.365038139967538
         },
         {
          "Outlier": "\"Inferred\"",
          "X": 1.0408194778375142,
          "Y": 16.453328413776028
         },
         {
          "Outlier": "\"Inferred\"",
          "X": 1.5405091660502246,
          "Y": 17.549414850528695
         },
         {
          "Outlier": "\"Inferred\"",
          "X": 3.9338660225548883,
          "Y": 18.810585449009046
         },
         {
          "Outlier": "\"Inferred\"",
          "X": 5.934341937148822,
          "Y": 19.291644715457366
         },
         {
          "Outlier": "\"Inferred\"",
          "X": 5.860698325850149,
          "Y": 18.481355238954116
         },
         {
          "Outlier": "\"Inferred\"",
          "X": 5.705451214097312,
          "Y": 19.045493557223
         },
         {
          "Outlier": "\"Inferred\"",
          "X": 6.967486968545026,
          "Y": 20.43685475506132
         },
         {
          "Outlier": "\"Inferred\"",
          "X": 7.850876988134879,
          "Y": 20.85970235656663
         },
         {
          "Outlier": "\"Inferred\"",
          "X": 8.392808772137586,
          "Y": 23.32121753848475
         },
         {
          "Outlier": "\"Inferred\"",
          "X": 8.372631457732883,
          "Y": 23.550505259601916
         },
         {
          "Outlier": "\"Inferred\"",
          "X": 9.871662866734457,
          "Y": 23.307490436256916
         },
         {
          "Outlier": "\"Inferred\"",
          "X": 10.314173898117193,
          "Y": 22.949374682117536
         },
         {
          "Outlier": "\"Inferred\"",
          "X": 10.32563322222216,
          "Y": 22.80572929728597
         },
         {
          "Outlier": "\"Inferred\"",
          "X": 11.975182162138363,
          "Y": 22.756945025950817
         },
         {
          "Outlier": "\"Inferred\"",
          "X": 13.534798358225013,
          "Y": 23.922399218838915
         },
         {
          "Outlier": "\"Inferred\"",
          "X": 13.939544608950607,
          "Y": 24.9043680997103
         },
         {
          "Outlier": "\"Inferred\"",
          "X": 14.852997836030292,
          "Y": 24.505991407121257
         },
         {
          "Outlier": "\"Inferred\"",
          "X": 14.722821358543685,
          "Y": 24.594075915773587
         },
         {
          "Outlier": "\"Inferred\"",
          "X": 14.103015251522454,
          "Y": 25.337305991383168
         },
         {
          "Outlier": "\"Inferred\"",
          "X": 12.613805810396606,
          "Y": 24.313422106066636
         },
         {
          "Outlier": "\"Inferred\"",
          "X": 13.080486829217792,
          "Y": 25.777670422612843
         },
         {
          "Outlier": "\"Inferred\"",
          "X": 11.503005763094693,
          "Y": 26.751491443530828
         },
         {
          "Outlier": "\"Inferred\"",
          "X": 12.268003621078462,
          "Y": 27.23493393620551
         },
         {
          "Outlier": "\"Inferred\"",
          "X": 13.107978224639371,
          "Y": 26.92306508382835
         },
         {
          "Outlier": "\"Inferred\"",
          "X": 13.28221444777585,
          "Y": 29.395602706911507
         },
         {
          "Outlier": "\"Inferred\"",
          "X": 14.801724593495212,
          "Y": 31.014010268316014
         },
         {
          "Outlier": "\"Inferred\"",
          "X": 14.27581330599868,
          "Y": 32.454234349787356
         },
         {
          "Outlier": "\"Inferred\"",
          "X": 14.029469444313813,
          "Y": 32.87117959294212
         },
         {
          "Outlier": "\"Inferred\"",
          "X": 15.19015709218286,
          "Y": 32.86952476370945
         },
         {
          "Outlier": "\"Inferred\"",
          "X": 15.773016432325253,
          "Y": 32.73681053907679
         },
         {
          "Outlier": "\"Inferred\"",
          "X": 17.51929695827333,
          "Y": 34.48234688075527
         },
         {
          "Outlier": "\"Inferred\"",
          "X": 20.037100194311396,
          "Y": 34.946070338043754
         },
         {
          "Outlier": "\"Inferred\"",
          "X": 21.818139030888776,
          "Y": 35.85262831787663
         },
         {
          "Outlier": "\"Inferred\"",
          "X": 21.732369533022062,
          "Y": 38.285815587214415
         },
         {
          "Outlier": "\"Inferred\"",
          "X": 22.57036154565432,
          "Y": 39.26475493081164
         },
         {
          "Outlier": "\"Inferred\"",
          "X": 22.65428937960439,
          "Y": 38.16420139841805
         },
         {
          "Outlier": "\"Inferred\"",
          "X": 24.780585362838643,
          "Y": 39.91054354562683
         },
         {
          "Outlier": "\"Inferred\"",
          "X": 25.38354438220824,
          "Y": 39.24486197722906
         },
         {
          "Outlier": "\"Inferred\"",
          "X": 27.164442953314957,
          "Y": 40.251417386922114
         },
         {
          "Outlier": "\"Inferred\"",
          "X": 26.560669601746632,
          "Y": 39.735256602104684
         },
         {
          "Outlier": "\"Inferred\"",
          "X": 27.68676596745725,
          "Y": 39.29922370466575
         },
         {
          "Outlier": "\"Inferred\"",
          "X": 28.952704273061375,
          "Y": 38.57956299703587
         },
         {
          "Outlier": "\"Inferred\"",
          "X": 30.85994523760473,
          "Y": 38.58780878001739
         },
         {
          "Outlier": "\"Inferred\"",
          "X": 31.71173182195131,
          "Y": 41.00963032424547
         },
         {
          "Outlier": "\"Inferred\"",
          "X": 32.25996671802696,
          "Y": 42.62987372674458
         },
         {
          "Outlier": "\"Inferred\"",
          "X": 32.13901643341855,
          "Y": 42.64956953142973
         },
         {
          "Outlier": "\"Inferred\"",
          "X": 32.51223380321943,
          "Y": 42.002610122649294
         },
         {
          "Outlier": "\"Inferred\"",
          "X": 34.35299124605617,
          "Y": 41.24064784804826
         },
         {
          "Outlier": "\"Inferred\"",
          "X": 35.844122036634836,
          "Y": 42.1810784481577
         },
         {
          "Outlier": "\"Inferred\"",
          "X": 37.9081438014521,
          "Y": 42.22351955942152
         },
         {
          "Outlier": "\"Inferred\"",
          "X": 38.894510433125106,
          "Y": 43.06239427926112
         },
         {
          "Outlier": "\"Inferred\"",
          "X": 38.91558178103346,
          "Y": 42.185826893594445
         },
         {
          "Outlier": "\"Inferred\"",
          "X": 39.14616660606475,
          "Y": 41.82351594693451
         },
         {
          "Outlier": "\"Inferred\"",
          "X": 39.517857227969024,
          "Y": 43.242523449616634
         },
         {
          "Outlier": "\"Inferred\"",
          "X": 39.33222642368304,
          "Y": 44.853212976568145
         },
         {
          "Outlier": "\"Inferred\"",
          "X": -1.3672224100432464,
          "Y": 0.48810911351361935
         },
         {
          "Outlier": "\"Inferred\"",
          "X": -1.362481961988402,
          "Y": 0.7076446081740262
         },
         {
          "Outlier": "\"Inferred\"",
          "X": -0.8715888597202504,
          "Y": 0.5387869363321125
         },
         {
          "Outlier": "\"Inferred\"",
          "X": -1.7846730243034472,
          "Y": 0.10506846798668501
         },
         {
          "Outlier": "\"Inferred\"",
          "X": -1.7248963513441793,
          "Y": 1.7527964620207235
         },
         {
          "Outlier": "\"Inferred\"",
          "X": -2.4584252971562393,
          "Y": 2.228366920830615
         },
         {
          "Outlier": "\"Inferred\"",
          "X": -1.1279224722940642,
          "Y": 3.443210568179678
         },
         {
          "Outlier": "\"Inferred\"",
          "X": -1.479008906435281,
          "Y": 3.6908288290815645
         },
         {
          "Outlier": "\"Inferred\"",
          "X": 0.3615054073081352,
          "Y": 4.27972153425087
         },
         {
          "Outlier": "\"Inferred\"",
          "X": 0.8486611255806581,
          "Y": 4.592720222548362
         },
         {
          "Outlier": "\"Inferred\"",
          "X": 0.32944348639832954,
          "Y": 4.596809693227079
         },
         {
          "Outlier": "\"Inferred\"",
          "X": -0.21925626392848585,
          "Y": 5.163907931661737
         },
         {
          "Outlier": "\"Inferred\"",
          "X": -0.21992193392391401,
          "Y": 4.118185761295895
         },
         {
          "Outlier": "\"Inferred\"",
          "X": 0.4150919011751638,
          "Y": 5.538117360209408
         },
         {
          "Outlier": "\"Inferred\"",
          "X": -0.7892140966783031,
          "Y": 5.695449583765478
         },
         {
          "Outlier": "\"Inferred\"",
          "X": 1.1404372527748952,
          "Y": 5.866232913939554
         },
         {
          "Outlier": "\"Inferred\"",
          "X": 1.8380893328893904,
          "Y": 6.364770313736374
         },
         {
          "Outlier": "\"Inferred\"",
          "X": 1.649053221222315,
          "Y": 6.512174927857027
         },
         {
          "Outlier": "\"Inferred\"",
          "X": 1.737182974826292,
          "Y": 5.77836967516248
         },
         {
          "Outlier": "\"Inferred\"",
          "X": -0.11560529994996305,
          "Y": 7.5367062800404945
         },
         {
          "Outlier": "\"Inferred\"",
          "X": -0.2298973114533206,
          "Y": 7.989511766138773
         },
         {
          "Outlier": "\"Inferred\"",
          "X": 1.57161291446925,
          "Y": 6.901917929677629
         },
         {
          "Outlier": "\"Inferred\"",
          "X": 2.1801023491411033,
          "Y": 8.860615665751432
         },
         {
          "Outlier": "\"Inferred\"",
          "X": -0.1784410881273133,
          "Y": 9.923272270828765
         },
         {
          "Outlier": "\"Inferred\"",
          "X": -0.7917192002889752,
          "Y": 11.753085534646807
         },
         {
          "Outlier": "\"Inferred\"",
          "X": -1.7648020508226134,
          "Y": 10.25041393399106
         },
         {
          "Outlier": "\"Inferred\"",
          "X": -1.5234743284293881,
          "Y": 11.775350954803978
         },
         {
          "Outlier": "\"Inferred\"",
          "X": 0.05357856804105787,
          "Y": 12.024349478829999
         },
         {
          "Outlier": "\"Inferred\"",
          "X": 0.4184332014913338,
          "Y": 14.340893261404778
         },
         {
          "Outlier": "\"Inferred\"",
          "X": 0.7969379235979688,
          "Y": 14.997540083518635
         },
         {
          "Outlier": "\"Inferred\"",
          "X": -0.7096426760664147,
          "Y": 14.162334925784382
         },
         {
          "Outlier": "\"Inferred\"",
          "X": -1.1397135872644253,
          "Y": 14.5137914003321
         },
         {
          "Outlier": "\"Inferred\"",
          "X": 0.31644446775231205,
          "Y": 17.969278373643117
         },
         {
          "Outlier": "\"Inferred\"",
          "X": 0.6438733418570133,
          "Y": 18.422304921183187
         },
         {
          "Outlier": "\"Inferred\"",
          "X": 1.1175523451407152,
          "Y": 18.713873184030778
         },
         {
          "Outlier": "\"Inferred\"",
          "X": 1.9686962872665608,
          "Y": 18.74605534641339
         },
         {
          "Outlier": "\"Inferred\"",
          "X": 2.001348574224465,
          "Y": 18.21984280700007
         },
         {
          "Outlier": "\"Inferred\"",
          "X": 1.2367693402425317,
          "Y": 17.359669921367168
         },
         {
          "Outlier": "\"Inferred\"",
          "X": 0.2995047254719734,
          "Y": 17.419198206704273
         },
         {
          "Outlier": "\"Inferred\"",
          "X": 0.8622826020639092,
          "Y": 18.53931366111848
         },
         {
          "Outlier": "\"Inferred\"",
          "X": 1.0735971282483163,
          "Y": 17.975531013733278
         },
         {
          "Outlier": "\"Inferred\"",
          "X": 1.2451588531584312,
          "Y": 18.79352133226893
         },
         {
          "Outlier": "\"Inferred\"",
          "X": 0.7834409223822317,
          "Y": 17.519317572506424
         },
         {
          "Outlier": "\"Inferred\"",
          "X": 0.022324380796899135,
          "Y": 18.666677816733223
         },
         {
          "Outlier": "\"Inferred\"",
          "X": -0.7061071858531587,
          "Y": 17.365038139967538
         },
         {
          "Outlier": "\"Inferred\"",
          "X": 1.0408194778375142,
          "Y": 16.453328413776028
         },
         {
          "Outlier": "\"Inferred\"",
          "X": 1.5405091660502246,
          "Y": 17.549414850528695
         },
         {
          "Outlier": "\"Inferred\"",
          "X": 3.9338660225548883,
          "Y": 18.810585449009046
         },
         {
          "Outlier": "\"Inferred\"",
          "X": 5.934341937148822,
          "Y": 19.291644715457366
         },
         {
          "Outlier": "\"Inferred\"",
          "X": 5.860698325850149,
          "Y": 18.481355238954116
         },
         {
          "Outlier": "\"Inferred\"",
          "X": 5.705451214097312,
          "Y": 19.045493557223
         },
         {
          "Outlier": "\"Inferred\"",
          "X": 6.967486968545026,
          "Y": 20.43685475506132
         },
         {
          "Outlier": "\"Inferred\"",
          "X": 7.850876988134879,
          "Y": 20.85970235656663
         },
         {
          "Outlier": "\"Inferred\"",
          "X": 8.392808772137586,
          "Y": 23.32121753848475
         },
         {
          "Outlier": "\"Inferred\"",
          "X": 8.372631457732883,
          "Y": 23.550505259601916
         },
         {
          "Outlier": "\"Inferred\"",
          "X": 9.871662866734457,
          "Y": 23.307490436256916
         },
         {
          "Outlier": "\"Inferred\"",
          "X": 10.314173898117193,
          "Y": 22.949374682117536
         },
         {
          "Outlier": "\"Inferred\"",
          "X": 10.32563322222216,
          "Y": 22.80572929728597
         },
         {
          "Outlier": "\"Inferred\"",
          "X": 11.975182162138363,
          "Y": 22.756945025950817
         },
         {
          "Outlier": "\"Inferred\"",
          "X": 13.534798358225013,
          "Y": 23.922399218838915
         },
         {
          "Outlier": "\"Inferred\"",
          "X": 13.939544608950607,
          "Y": 24.9043680997103
         },
         {
          "Outlier": "\"Inferred\"",
          "X": 14.852997836030292,
          "Y": 24.505991407121257
         },
         {
          "Outlier": "\"Inferred\"",
          "X": 14.722821358543685,
          "Y": 24.594075915773587
         },
         {
          "Outlier": "\"Inferred\"",
          "X": 14.103015251522454,
          "Y": 25.337305991383168
         },
         {
          "Outlier": "\"Inferred\"",
          "X": 12.613805810396606,
          "Y": 24.313422106066636
         },
         {
          "Outlier": "\"Inferred\"",
          "X": 13.080486829217792,
          "Y": 25.777670422612843
         },
         {
          "Outlier": "\"Inferred\"",
          "X": 11.503005763094693,
          "Y": 26.751491443530828
         },
         {
          "Outlier": "\"Inferred\"",
          "X": 12.268003621078462,
          "Y": 27.23493393620551
         },
         {
          "Outlier": "\"Inferred\"",
          "X": 13.107978224639371,
          "Y": 26.92306508382835
         },
         {
          "Outlier": "\"Inferred\"",
          "X": 13.28221444777585,
          "Y": 29.395602706911507
         },
         {
          "Outlier": "\"Inferred\"",
          "X": 14.801724593495212,
          "Y": 31.014010268316014
         },
         {
          "Outlier": "\"Inferred\"",
          "X": 14.27581330599868,
          "Y": 32.454234349787356
         },
         {
          "Outlier": "\"Inferred\"",
          "X": 14.029469444313813,
          "Y": 32.87117959294212
         },
         {
          "Outlier": "\"Inferred\"",
          "X": 15.19015709218286,
          "Y": 32.86952476370945
         },
         {
          "Outlier": "\"Inferred\"",
          "X": 15.773016432325253,
          "Y": 32.73681053907679
         },
         {
          "Outlier": "\"Inferred\"",
          "X": 17.51929695827333,
          "Y": 34.48234688075527
         },
         {
          "Outlier": "\"Inferred\"",
          "X": 20.037100194311396,
          "Y": 34.946070338043754
         },
         {
          "Outlier": "\"Inferred\"",
          "X": 21.818139030888776,
          "Y": 35.85262831787663
         },
         {
          "Outlier": "\"Inferred\"",
          "X": 21.732369533022062,
          "Y": 38.285815587214415
         },
         {
          "Outlier": "\"Inferred\"",
          "X": 22.57036154565432,
          "Y": 39.26475493081164
         },
         {
          "Outlier": "\"Inferred\"",
          "X": 22.65428937960439,
          "Y": 38.16420139841805
         },
         {
          "Outlier": "\"Inferred\"",
          "X": 24.780585362838643,
          "Y": 39.91054354562683
         },
         {
          "Outlier": "\"Inferred\"",
          "X": 25.38354438220824,
          "Y": 39.24486197722906
         },
         {
          "Outlier": "\"Inferred\"",
          "X": 27.164442953314957,
          "Y": 40.251417386922114
         },
         {
          "Outlier": "\"Inferred\"",
          "X": 28.28179394365139,
          "Y": 40.646152553616645
         },
         {
          "Outlier": "\"Inferred\"",
          "X": 28.30913626904519,
          "Y": 41.02315352290143
         },
         {
          "Outlier": "\"Inferred\"",
          "X": 29.883021734981654,
          "Y": 41.74567007600542
         },
         {
          "Outlier": "\"Inferred\"",
          "X": 31.777263046995003,
          "Y": 41.57505095385209
         },
         {
          "Outlier": "\"Inferred\"",
          "X": 32.06844181937742,
          "Y": 42.277030586291964
         },
         {
          "Outlier": "\"Inferred\"",
          "X": 34.001286580375854,
          "Y": 44.064459055471616
         },
         {
          "Outlier": "\"Inferred\"",
          "X": 35.46263684098056,
          "Y": 44.39313681002709
         },
         {
          "Outlier": "\"Inferred\"",
          "X": 35.91657596164125,
          "Y": 43.94958775308008
         },
         {
          "Outlier": "\"Inferred\"",
          "X": 36.54973787601623,
          "Y": 42.1580021668003
         },
         {
          "Outlier": "\"Inferred\"",
          "X": 37.3930776154532,
          "Y": 41.48314238427116
         },
         {
          "Outlier": "\"Inferred\"",
          "X": 38.38432519062528,
          "Y": 42.29679000879268
         },
         {
          "Outlier": "\"Inferred\"",
          "X": 39.898957888172944,
          "Y": 42.09404055571683
         },
         {
          "Outlier": "\"Inferred\"",
          "X": 41.46989633031488,
          "Y": 42.94971882423167
         },
         {
          "Outlier": "\"Inferred\"",
          "X": 41.64092592263666,
          "Y": 42.01241395939619
         },
         {
          "Outlier": "\"Inferred\"",
          "X": 41.17027081443124,
          "Y": 43.06694784486476
         },
         {
          "Outlier": "\"Inferred\"",
          "X": 41.634263968098416,
          "Y": 41.98798231318356
         },
         {
          "Outlier": "\"Inferred\"",
          "X": -1.3672224100432464,
          "Y": 0.48810911351361935
         },
         {
          "Outlier": "\"Inferred\"",
          "X": -1.362481961988402,
          "Y": 0.7076446081740262
         },
         {
          "Outlier": "\"Inferred\"",
          "X": -0.8715888597202504,
          "Y": 0.5387869363321125
         },
         {
          "Outlier": "\"Inferred\"",
          "X": -1.7846730243034472,
          "Y": 0.10506846798668501
         },
         {
          "Outlier": "\"Inferred\"",
          "X": -1.7248963513441793,
          "Y": 1.7527964620207235
         },
         {
          "Outlier": "\"Inferred\"",
          "X": -2.4584252971562393,
          "Y": 2.228366920830615
         },
         {
          "Outlier": "\"Inferred\"",
          "X": -1.1279224722940642,
          "Y": 3.443210568179678
         },
         {
          "Outlier": "\"Inferred\"",
          "X": -1.479008906435281,
          "Y": 3.6908288290815645
         },
         {
          "Outlier": "\"Inferred\"",
          "X": 0.3615054073081352,
          "Y": 4.27972153425087
         },
         {
          "Outlier": "\"Inferred\"",
          "X": 0.8486611255806581,
          "Y": 4.592720222548362
         },
         {
          "Outlier": "\"Inferred\"",
          "X": 0.32944348639832954,
          "Y": 4.596809693227079
         },
         {
          "Outlier": "\"Inferred\"",
          "X": -0.21925626392848585,
          "Y": 5.163907931661737
         },
         {
          "Outlier": "\"Inferred\"",
          "X": -0.21992193392391401,
          "Y": 4.118185761295895
         },
         {
          "Outlier": "\"Inferred\"",
          "X": 0.4150919011751638,
          "Y": 5.538117360209408
         },
         {
          "Outlier": "\"Inferred\"",
          "X": -0.7892140966783031,
          "Y": 5.695449583765478
         },
         {
          "Outlier": "\"Inferred\"",
          "X": 1.1404372527748952,
          "Y": 5.866232913939554
         },
         {
          "Outlier": "\"Inferred\"",
          "X": 1.8380893328893904,
          "Y": 6.364770313736374
         },
         {
          "Outlier": "\"Inferred\"",
          "X": 1.649053221222315,
          "Y": 6.512174927857027
         },
         {
          "Outlier": "\"Inferred\"",
          "X": 1.737182974826292,
          "Y": 5.77836967516248
         },
         {
          "Outlier": "\"Inferred\"",
          "X": -0.11560529994996305,
          "Y": 7.5367062800404945
         },
         {
          "Outlier": "\"Inferred\"",
          "X": -0.2298973114533206,
          "Y": 7.989511766138773
         },
         {
          "Outlier": "\"Inferred\"",
          "X": 1.57161291446925,
          "Y": 6.901917929677629
         },
         {
          "Outlier": "\"Inferred\"",
          "X": 2.1801023491411033,
          "Y": 8.860615665751432
         },
         {
          "Outlier": "\"Inferred\"",
          "X": -0.1784410881273133,
          "Y": 9.923272270828765
         },
         {
          "Outlier": "\"Inferred\"",
          "X": -0.7917192002889752,
          "Y": 11.753085534646807
         },
         {
          "Outlier": "\"Inferred\"",
          "X": -1.7648020508226134,
          "Y": 10.25041393399106
         },
         {
          "Outlier": "\"Inferred\"",
          "X": -1.5234743284293881,
          "Y": 11.775350954803978
         },
         {
          "Outlier": "\"Inferred\"",
          "X": 0.05357856804105787,
          "Y": 12.024349478829999
         },
         {
          "Outlier": "\"Inferred\"",
          "X": 0.4184332014913338,
          "Y": 14.340893261404778
         },
         {
          "Outlier": "\"Inferred\"",
          "X": 0.7969379235979688,
          "Y": 14.997540083518635
         },
         {
          "Outlier": "\"Inferred\"",
          "X": -0.7096426760664147,
          "Y": 14.162334925784382
         },
         {
          "Outlier": "\"Inferred\"",
          "X": -1.1397135872644253,
          "Y": 14.5137914003321
         },
         {
          "Outlier": "\"Inferred\"",
          "X": 0.31644446775231205,
          "Y": 17.969278373643117
         },
         {
          "Outlier": "\"Inferred\"",
          "X": 0.6438733418570133,
          "Y": 18.422304921183187
         },
         {
          "Outlier": "\"Inferred\"",
          "X": 1.1175523451407152,
          "Y": 18.713873184030778
         },
         {
          "Outlier": "\"Inferred\"",
          "X": 1.9686962872665608,
          "Y": 18.74605534641339
         },
         {
          "Outlier": "\"Inferred\"",
          "X": 2.001348574224465,
          "Y": 18.21984280700007
         },
         {
          "Outlier": "\"Inferred\"",
          "X": 1.2367693402425317,
          "Y": 17.359669921367168
         },
         {
          "Outlier": "\"Inferred\"",
          "X": 0.2995047254719734,
          "Y": 17.419198206704273
         },
         {
          "Outlier": "\"Inferred\"",
          "X": 0.8622826020639092,
          "Y": 18.53931366111848
         },
         {
          "Outlier": "\"Inferred\"",
          "X": 1.0735971282483163,
          "Y": 17.975531013733278
         },
         {
          "Outlier": "\"Inferred\"",
          "X": 1.2451588531584312,
          "Y": 18.79352133226893
         },
         {
          "Outlier": "\"Inferred\"",
          "X": 0.7834409223822317,
          "Y": 17.519317572506424
         },
         {
          "Outlier": "\"Inferred\"",
          "X": 0.022324380796899135,
          "Y": 18.666677816733223
         },
         {
          "Outlier": "\"Inferred\"",
          "X": -0.7061071858531587,
          "Y": 17.365038139967538
         },
         {
          "Outlier": "\"Inferred\"",
          "X": 1.0408194778375142,
          "Y": 16.453328413776028
         },
         {
          "Outlier": "\"Inferred\"",
          "X": 1.5405091660502246,
          "Y": 17.549414850528695
         },
         {
          "Outlier": "\"Inferred\"",
          "X": 3.9338660225548883,
          "Y": 18.810585449009046
         },
         {
          "Outlier": "\"Inferred\"",
          "X": 5.934341937148822,
          "Y": 19.291644715457366
         },
         {
          "Outlier": "\"Inferred\"",
          "X": 5.860698325850149,
          "Y": 18.481355238954116
         },
         {
          "Outlier": "\"Inferred\"",
          "X": 5.705451214097312,
          "Y": 19.045493557223
         },
         {
          "Outlier": "\"Inferred\"",
          "X": 6.967486968545026,
          "Y": 20.43685475506132
         },
         {
          "Outlier": "\"Inferred\"",
          "X": 7.850876988134879,
          "Y": 20.85970235656663
         },
         {
          "Outlier": "\"Inferred\"",
          "X": 8.392808772137586,
          "Y": 23.32121753848475
         },
         {
          "Outlier": "\"Inferred\"",
          "X": 8.372631457732883,
          "Y": 23.550505259601916
         },
         {
          "Outlier": "\"Inferred\"",
          "X": 9.871662866734457,
          "Y": 23.307490436256916
         },
         {
          "Outlier": "\"Inferred\"",
          "X": 10.314173898117193,
          "Y": 22.949374682117536
         },
         {
          "Outlier": "\"Inferred\"",
          "X": 10.32563322222216,
          "Y": 22.80572929728597
         },
         {
          "Outlier": "\"Inferred\"",
          "X": 11.975182162138363,
          "Y": 22.756945025950817
         },
         {
          "Outlier": "\"Inferred\"",
          "X": 13.534798358225013,
          "Y": 23.922399218838915
         },
         {
          "Outlier": "\"Inferred\"",
          "X": 13.939544608950607,
          "Y": 24.9043680997103
         },
         {
          "Outlier": "\"Inferred\"",
          "X": 14.852997836030292,
          "Y": 24.505991407121257
         },
         {
          "Outlier": "\"Inferred\"",
          "X": 14.722821358543685,
          "Y": 24.594075915773587
         },
         {
          "Outlier": "\"Inferred\"",
          "X": 14.103015251522454,
          "Y": 25.337305991383168
         },
         {
          "Outlier": "\"Inferred\"",
          "X": 12.613805810396606,
          "Y": 24.313422106066636
         },
         {
          "Outlier": "\"Inferred\"",
          "X": 13.080486829217792,
          "Y": 25.777670422612843
         },
         {
          "Outlier": "\"Inferred\"",
          "X": 11.503005763094693,
          "Y": 26.751491443530828
         },
         {
          "Outlier": "\"Inferred\"",
          "X": 12.268003621078462,
          "Y": 27.23493393620551
         },
         {
          "Outlier": "\"Inferred\"",
          "X": 13.107978224639371,
          "Y": 26.92306508382835
         },
         {
          "Outlier": "\"Inferred\"",
          "X": 13.28221444777585,
          "Y": 29.395602706911507
         },
         {
          "Outlier": "\"Inferred\"",
          "X": 14.801724593495212,
          "Y": 31.014010268316014
         },
         {
          "Outlier": "\"Inferred\"",
          "X": 14.27581330599868,
          "Y": 32.454234349787356
         },
         {
          "Outlier": "\"Inferred\"",
          "X": 14.029469444313813,
          "Y": 32.87117959294212
         },
         {
          "Outlier": "\"Inferred\"",
          "X": 15.19015709218286,
          "Y": 32.86952476370945
         },
         {
          "Outlier": "\"Inferred\"",
          "X": 15.773016432325253,
          "Y": 32.73681053907679
         },
         {
          "Outlier": "\"Inferred\"",
          "X": 17.51929695827333,
          "Y": 34.48234688075527
         },
         {
          "Outlier": "\"Inferred\"",
          "X": 18.517892728110063,
          "Y": 36.48035168551525
         },
         {
          "Outlier": "\"Inferred\"",
          "X": 19.204987885038665,
          "Y": 39.88678266817718
         },
         {
          "Outlier": "\"Inferred\"",
          "X": 21.442417253877316,
          "Y": 41.08072121114131
         },
         {
          "Outlier": "\"Inferred\"",
          "X": 23.00537003178552,
          "Y": 40.67876253519744
         },
         {
          "Outlier": "\"Inferred\"",
          "X": 24.77068463689155,
          "Y": 39.644754539327785
         },
         {
          "Outlier": "\"Inferred\"",
          "X": 26.841222405457636,
          "Y": 40.610556540600946
         },
         {
          "Outlier": "\"Inferred\"",
          "X": 27.866274921957416,
          "Y": 40.70386345163607
         },
         {
          "Outlier": "\"Inferred\"",
          "X": 28.440999181920027,
          "Y": 41.26333519355627
         },
         {
          "Outlier": "\"Inferred\"",
          "X": 29.415990440563707,
          "Y": 41.53555764534253
         },
         {
          "Outlier": "\"Inferred\"",
          "X": 29.311058090188595,
          "Y": 42.16967838673546
         },
         {
          "Outlier": "\"Inferred\"",
          "X": 30.282831663472386,
          "Y": 43.0424291894592
         },
         {
          "Outlier": "\"Inferred\"",
          "X": 30.293365662434958,
          "Y": 42.438015235063844
         },
         {
          "Outlier": "\"Inferred\"",
          "X": 31.068088386419674,
          "Y": 42.2623529357851
         },
         {
          "Outlier": "\"Inferred\"",
          "X": 30.43196031201329,
          "Y": 39.82537011905435
         },
         {
          "Outlier": "\"Inferred\"",
          "X": 32.64091621401201,
          "Y": 40.45746585540844
         },
         {
          "Outlier": "\"Inferred\"",
          "X": 34.41602785548827,
          "Y": 40.00534774705635
         },
         {
          "Outlier": "\"Inferred\"",
          "X": 35.08714623791322,
          "Y": 41.56836269107095
         },
         {
          "Outlier": "\"Inferred\"",
          "X": 35.85003087316117,
          "Y": 42.44067187392689
         },
         {
          "Outlier": "\"Inferred\"",
          "X": 35.37660646007298,
          "Y": 40.60848049122916
         },
         {
          "Outlier": "\"Inferred\"",
          "X": 37.356787408662605,
          "Y": 39.767933934314186
         },
         {
          "Outlier": "\"Inferred\"",
          "X": 39.74513735869365,
          "Y": 38.194836342145834
         },
         {
          "Outlier": "\"Inferred\"",
          "X": 37.94004385048179,
          "Y": 38.336382378021625
         },
         {
          "Outlier": "\"Inferred\"",
          "X": 37.758549528236486,
          "Y": 38.273403209139026
         },
         {
          "Outlier": "\"Inferred\"",
          "X": 37.048338160833765,
          "Y": 40.01044901766141
         }
        ]
       },
       "encoding": {
        "color": {
         "field": "Outlier"
        },
        "x": {
         "field": "X",
         "type": "quantitative"
        },
        "y": {
         "field": "Y",
         "type": "quantitative"
        }
       },
       "height": 400,
       "mark": "circle",
       "width": 400
      },
      "image/png": "[encoded data removed]"
     },
     "metadata": {},
     "output_type": "display_data"
    }
   ],
   "source": [
    "inferredVectors = fst =<< particles\n",
    "\n",
    "\n",
    "plot \n",
    "    (zip \n",
    "        (fmap (\\v -> (v V.! 0, v V.! 1)) $ trueVectors <> inferredVectors) \n",
    "        (replicate 100 (T.pack \"True\") <> replicate 1000 (T.pack \"Inferred\")))\n"
   ]
  }
 ],
 "metadata": {
  "kernelspec": {
   "display_name": "Haskell - nixpkgs",
   "language": "haskell",
   "name": "ihaskell_nixpkgs"
  },
  "language_info": {
   "codemirror_mode": "ihaskell",
   "file_extension": ".hs",
   "mimetype": "text/x-haskell",
   "name": "haskell",
   "pygments_lexer": "Haskell",
   "version": "9.0.2"
  }
 },
 "nbformat": 4,
 "nbformat_minor": 5
}
