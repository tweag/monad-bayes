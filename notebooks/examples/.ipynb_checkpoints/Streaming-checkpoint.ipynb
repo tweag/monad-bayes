{
 "cells": [
  {
   "cell_type": "markdown",
   "id": "8fbdbe43-ea41-4693-9e33-01be36977a43",
   "metadata": {},
   "source": [
    "# Probabilistic Streaming\n",
    "\n",
    "Streaming libraries in Haskell exist to represent streams of data where each incoming datapoint may involve a side-effect. \n",
    "\n",
    "In this notebook, we'll use the `pipes` library, which is not the fastest streaming library, but is simple and easy to use."
   ]
  },
  {
   "cell_type": "code",
   "execution_count": 27,
   "id": "748a7e61-e214-4a92-9d84-0ab8fc62da22",
   "metadata": {},
   "outputs": [],
   "source": [
    ":e ImportQualifiedPost\n",
    ":e FlexibleContexts\n",
    ":e BlockArguments\n",
    ":e TupleSections\n",
    ":e FlexibleContexts\n",
    ":e OverloadedStrings\n",
    ":e LambdaCase\n",
    "\n",
    "\n",
    "import Control.Monad.Bayes.Class\n",
    "import Control.Monad.Bayes.Enumerator\n",
    "import Control.Monad.Bayes.Weighted\n",
    "import Control.Monad.Bayes.Sampler.Strict\n",
    "import Control.Monad.Bayes.Density.Free\n",
    "import Control.Monad.Bayes.Population\n",
    "import Control.Monad.Bayes.Sequential.Coroutine\n",
    "import Control.Monad.Bayes.Inference.SMC\n",
    "\n",
    "import qualified Graphics.Vega.VegaLite as VL\n",
    "import IHaskell.Display.Hvega (vlShow)\n",
    "import Control.Applicative\n",
    "import qualified Data.Text as T\n",
    "import Pipes (Producer, (>->))\n",
    "import qualified Pipes as P\n",
    "import Pipes.Prelude (unfoldr)\n",
    "import qualified Pipes.Prelude as P\n",
    "import Data.Ord\n",
    "import Data.List\n",
    "import Control.Monad\n",
    "import Control.Arrow (first)\n",
    "import Numeric.Log\n",
    "import Data.Vector qualified as V\n",
    "\n",
    ":e PackageImports\n",
    "import \"matrix\" Data.Matrix hiding ((!))\n",
    "import Data.Vector.Generic as VG (Vector, map, mapM, null, sum, (!))\n",
    "\n",
    ":l ../Plotting.hs"
   ]
  },
  {
   "cell_type": "markdown",
   "id": "feb44c2e-d5ff-46d3-b393-37fb3b316d12",
   "metadata": {},
   "source": [
    "A `Producer` represents a stream of data, and a `Pipe` maps one stream to another. Both are parametrized by a monad `m`, which in our case will be `MonadSample m => m`. \n",
    "\n",
    "For example, a random walk with a Gaussian `transition` kernel can be written as follows:"
   ]
  },
  {
   "cell_type": "code",
   "execution_count": 89,
   "id": "44083303-1d6c-4ba8-9cec-40f5af9455a4",
   "metadata": {},
   "outputs": [],
   "source": [
    "-- how to move from one latent state to the next\n",
    "transition :: MonadSample m => V.Vector Double -> m (V.Vector Double)\n",
    "transition vector = mvNormal (fmap (+0.5) vector) (fromLists [[1,0], [0,1]])\n",
    "    -- (normal (x+0.5) 1) (normal (y+0.5) 1)\n",
    "\n",
    "-- a Markovian random walk starting at (0,0), with latentTransition as the kernel\n",
    "-- a Producer is an infinite stream of values\n",
    "prior :: MonadSample m => Producer (V.Vector Double) m r\n",
    "prior = flip P.unfoldr (V.fromList [0,0]) $ \\s ->\n",
    "    Right <$> do\n",
    "        new <- transition s\n",
    "        return (new, new)"
   ]
  },
  {
   "cell_type": "markdown",
   "id": "e2138945-588b-4956-81a1-91a0072506f2",
   "metadata": {},
   "source": [
    "It's straightforward to take the first `n` steps of this infinite stream, and convert it into a distribution over finite list, from which we can then sample:"
   ]
  },
  {
   "cell_type": "code",
   "execution_count": 92,
   "id": "22553f70-df63-4819-8836-7f420a4ca451",
   "metadata": {},
   "outputs": [
    {
     "data": {
      "application/vnd.vegalite.v4+json": {
       "$schema": "https://vega.github.io/schema/vega-lite/v4.json",
       "data": {
        "values": [
         {
          "Outlier": "\"Latent\"",
          "X": -0.976725852798596,
          "Y": 1.6137193880196077
         },
         {
          "Outlier": "\"Latent\"",
          "X": 0.20408138974710444,
          "Y": 1.7919034094222825
         },
         {
          "Outlier": "\"Latent\"",
          "X": 0.4831200523092556,
          "Y": 1.907099116274424
         },
         {
          "Outlier": "\"Latent\"",
          "X": -0.09176882753590254,
          "Y": 1.8955141804642897
         },
         {
          "Outlier": "\"Latent\"",
          "X": -1.2218589977848304,
          "Y": 2.1822412112642686
         },
         {
          "Outlier": "\"Latent\"",
          "X": -0.7668458940561108,
          "Y": 2.212530442551486
         },
         {
          "Outlier": "\"Latent\"",
          "X": -0.6690157871149474,
          "Y": 3.6065228326525913
         },
         {
          "Outlier": "\"Latent\"",
          "X": 0.11244333089173442,
          "Y": 2.9159986959761524
         },
         {
          "Outlier": "\"Latent\"",
          "X": 1.2687408682854557,
          "Y": 3.1217227285265796
         },
         {
          "Outlier": "\"Latent\"",
          "X": 2.9374928178780935,
          "Y": 4.807186806397708
         },
         {
          "Outlier": "\"Latent\"",
          "X": 1.7506468484445976,
          "Y": 6.528258479316207
         },
         {
          "Outlier": "\"Latent\"",
          "X": 2.736589222593742,
          "Y": 6.949265904332787
         },
         {
          "Outlier": "\"Latent\"",
          "X": 3.641180710652565,
          "Y": 6.681148574533908
         },
         {
          "Outlier": "\"Latent\"",
          "X": 3.256520244565894,
          "Y": 7.874942228007868
         },
         {
          "Outlier": "\"Latent\"",
          "X": 3.532287597906861,
          "Y": 8.830585157823975
         },
         {
          "Outlier": "\"Latent\"",
          "X": 2.1806733831668645,
          "Y": 8.017622208601368
         },
         {
          "Outlier": "\"Latent\"",
          "X": 2.009761220323491,
          "Y": 7.84268801368802
         },
         {
          "Outlier": "\"Latent\"",
          "X": 2.141654233585815,
          "Y": 7.1758683184915455
         },
         {
          "Outlier": "\"Latent\"",
          "X": 2.109134026193262,
          "Y": 6.295985176823156
         },
         {
          "Outlier": "\"Latent\"",
          "X": 2.405745472992563,
          "Y": 6.200693454492153
         },
         {
          "Outlier": "\"Latent\"",
          "X": -0.01763593390225182,
          "Y": 6.26472827677569
         },
         {
          "Outlier": "\"Latent\"",
          "X": -0.7129309873545127,
          "Y": 6.073043706411563
         },
         {
          "Outlier": "\"Latent\"",
          "X": -1.3881353873773867,
          "Y": 5.511813869639958
         },
         {
          "Outlier": "\"Latent\"",
          "X": -2.0112168014112006,
          "Y": 4.863763667368105
         },
         {
          "Outlier": "\"Latent\"",
          "X": -2.6313526403453142,
          "Y": 6.526587675025231
         },
         {
          "Outlier": "\"Latent\"",
          "X": -3.647308978418825,
          "Y": 9.059358389741346
         },
         {
          "Outlier": "\"Latent\"",
          "X": -3.522248228389822,
          "Y": 10.81130328807151
         },
         {
          "Outlier": "\"Latent\"",
          "X": -3.1756973573574925,
          "Y": 11.004220161318386
         },
         {
          "Outlier": "\"Latent\"",
          "X": 0.11010814466808982,
          "Y": 10.321234798745154
         },
         {
          "Outlier": "\"Latent\"",
          "X": -0.39187980161433855,
          "Y": 12.364011379280585
         },
         {
          "Outlier": "\"Latent\"",
          "X": 0.03081207681047786,
          "Y": 12.291837576109366
         },
         {
          "Outlier": "\"Latent\"",
          "X": -0.14240533533610533,
          "Y": 14.912448411461696
         },
         {
          "Outlier": "\"Latent\"",
          "X": 0.7434588861709679,
          "Y": 15.226819972736129
         },
         {
          "Outlier": "\"Latent\"",
          "X": -0.08616212989934202,
          "Y": 16.246907651854926
         },
         {
          "Outlier": "\"Latent\"",
          "X": -1.2965615882985957,
          "Y": 16.938548777168933
         },
         {
          "Outlier": "\"Latent\"",
          "X": -1.0233599219588343,
          "Y": 18.172882376939775
         },
         {
          "Outlier": "\"Latent\"",
          "X": -1.593063313624189,
          "Y": 17.761804204307506
         },
         {
          "Outlier": "\"Latent\"",
          "X": -0.9071992020452398,
          "Y": 16.80832237549457
         },
         {
          "Outlier": "\"Latent\"",
          "X": 1.537278546495295,
          "Y": 18.239554653824978
         },
         {
          "Outlier": "\"Latent\"",
          "X": 1.293986040876521,
          "Y": 18.531479436575104
         },
         {
          "Outlier": "\"Latent\"",
          "X": 0.33734706739165166,
          "Y": 19.17952773388102
         },
         {
          "Outlier": "\"Latent\"",
          "X": 1.5526873356861643,
          "Y": 19.89809726940538
         },
         {
          "Outlier": "\"Latent\"",
          "X": 0.9653041361138308,
          "Y": 18.978715147896484
         },
         {
          "Outlier": "\"Latent\"",
          "X": 2.1754309252424315,
          "Y": 20.733465934111884
         },
         {
          "Outlier": "\"Latent\"",
          "X": 1.9042944402780204,
          "Y": 21.96238995944239
         },
         {
          "Outlier": "\"Latent\"",
          "X": 1.1670764368639701,
          "Y": 20.42119386858742
         },
         {
          "Outlier": "\"Latent\"",
          "X": 1.3725692433059047,
          "Y": 20.078416515233386
         },
         {
          "Outlier": "\"Latent\"",
          "X": 2.685773076792982,
          "Y": 19.780304063644362
         },
         {
          "Outlier": "\"Latent\"",
          "X": 2.304412655375019,
          "Y": 18.3267445924497
         },
         {
          "Outlier": "\"Latent\"",
          "X": 3.3005017878405236,
          "Y": 19.282099858122923
         },
         {
          "Outlier": "\"Latent\"",
          "X": 5.293682460243824,
          "Y": 18.09075163407331
         },
         {
          "Outlier": "\"Latent\"",
          "X": 5.48617010881213,
          "Y": 18.88912742921528
         },
         {
          "Outlier": "\"Latent\"",
          "X": 5.460178753240708,
          "Y": 20.05661588255413
         },
         {
          "Outlier": "\"Latent\"",
          "X": 6.694373042710004,
          "Y": 21.28417138017432
         },
         {
          "Outlier": "\"Latent\"",
          "X": 7.176262338621055,
          "Y": 23.610823147215058
         },
         {
          "Outlier": "\"Latent\"",
          "X": 9.263967259279326,
          "Y": 23.793471620769253
         },
         {
          "Outlier": "\"Latent\"",
          "X": 9.570548244239397,
          "Y": 22.80525709268169
         },
         {
          "Outlier": "\"Latent\"",
          "X": 12.224205146716235,
          "Y": 23.467270848547056
         },
         {
          "Outlier": "\"Latent\"",
          "X": 12.998028549367675,
          "Y": 24.976179113989346
         },
         {
          "Outlier": "\"Latent\"",
          "X": 13.469190861482701,
          "Y": 25.033371366639106
         },
         {
          "Outlier": "\"Latent\"",
          "X": 15.202761232337336,
          "Y": 23.705490410204654
         },
         {
          "Outlier": "\"Latent\"",
          "X": 15.45147544674246,
          "Y": 23.62245393809943
         },
         {
          "Outlier": "\"Latent\"",
          "X": 15.948845956272837,
          "Y": 23.316292902745392
         },
         {
          "Outlier": "\"Latent\"",
          "X": 17.16913170577638,
          "Y": 24.777353392198744
         },
         {
          "Outlier": "\"Latent\"",
          "X": 17.210423055711384,
          "Y": 26.565764557732845
         },
         {
          "Outlier": "\"Latent\"",
          "X": 17.498127213076074,
          "Y": 26.891514119480085
         },
         {
          "Outlier": "\"Latent\"",
          "X": 16.154587096331557,
          "Y": 26.96269886332814
         },
         {
          "Outlier": "\"Latent\"",
          "X": 17.365461967568603,
          "Y": 27.809691065821152
         },
         {
          "Outlier": "\"Latent\"",
          "X": 17.798709082450195,
          "Y": 26.878326604248347
         },
         {
          "Outlier": "\"Latent\"",
          "X": 18.711785330404158,
          "Y": 27.40681326568193
         },
         {
          "Outlier": "\"Latent\"",
          "X": 19.69126789860091,
          "Y": 29.24772788318292
         },
         {
          "Outlier": "\"Latent\"",
          "X": 18.611842559840028,
          "Y": 29.623895863932383
         },
         {
          "Outlier": "\"Latent\"",
          "X": 18.839415485737106,
          "Y": 30.176998016059404
         },
         {
          "Outlier": "\"Latent\"",
          "X": 17.872071800282136,
          "Y": 31.31449032366575
         },
         {
          "Outlier": "\"Latent\"",
          "X": 17.234433457755895,
          "Y": 31.92462627820767
         },
         {
          "Outlier": "\"Latent\"",
          "X": 18.316980583807805,
          "Y": 31.971459033847758
         },
         {
          "Outlier": "\"Latent\"",
          "X": 18.20614845743506,
          "Y": 33.38337742068083
         },
         {
          "Outlier": "\"Latent\"",
          "X": 19.469906680607902,
          "Y": 35.00768028137768
         },
         {
          "Outlier": "\"Latent\"",
          "X": 21.166533013229724,
          "Y": 36.2275881565787
         },
         {
          "Outlier": "\"Latent\"",
          "X": 20.934551476362326,
          "Y": 37.71788456932134
         },
         {
          "Outlier": "\"Latent\"",
          "X": 23.091390514827275,
          "Y": 37.35456321648551
         },
         {
          "Outlier": "\"Latent\"",
          "X": 23.202579247316468,
          "Y": 38.33182657807645
         },
         {
          "Outlier": "\"Latent\"",
          "X": 24.814982095085746,
          "Y": 39.896259204044675
         },
         {
          "Outlier": "\"Latent\"",
          "X": 26.862289553534435,
          "Y": 41.594015899000084
         },
         {
          "Outlier": "\"Latent\"",
          "X": 29.13108856747485,
          "Y": 43.24237558248829
         },
         {
          "Outlier": "\"Latent\"",
          "X": 29.96573917639689,
          "Y": 43.08564704913662
         },
         {
          "Outlier": "\"Latent\"",
          "X": 30.38129760060132,
          "Y": 42.60313904655006
         },
         {
          "Outlier": "\"Latent\"",
          "X": 30.127208744625026,
          "Y": 43.46925607531138
         },
         {
          "Outlier": "\"Latent\"",
          "X": 30.55395052376439,
          "Y": 44.113573468167885
         },
         {
          "Outlier": "\"Latent\"",
          "X": 31.939391547518845,
          "Y": 43.2108558967726
         },
         {
          "Outlier": "\"Latent\"",
          "X": 32.61564963693414,
          "Y": 44.322174851055706
         },
         {
          "Outlier": "\"Latent\"",
          "X": 33.968317987343596,
          "Y": 43.58458105865007
         },
         {
          "Outlier": "\"Latent\"",
          "X": 33.869346145845,
          "Y": 44.815191784044025
         },
         {
          "Outlier": "\"Latent\"",
          "X": 35.656369696990275,
          "Y": 45.33590548300918
         },
         {
          "Outlier": "\"Latent\"",
          "X": 36.36554153078791,
          "Y": 43.511280010066635
         },
         {
          "Outlier": "\"Latent\"",
          "X": 38.89653663422507,
          "Y": 42.455163627123405
         },
         {
          "Outlier": "\"Latent\"",
          "X": 40.62441756480252,
          "Y": 41.727621228442274
         },
         {
          "Outlier": "\"Latent\"",
          "X": 41.91827352178923,
          "Y": 41.3009998512681
         },
         {
          "Outlier": "\"Latent\"",
          "X": 41.57668178338979,
          "Y": 41.469615373408814
         },
         {
          "Outlier": "\"Latent\"",
          "X": 41.42459856678652,
          "Y": 42.382041619310584
         }
        ]
       },
       "encoding": {
        "color": {
         "field": "Outlier"
        },
        "x": {
         "field": "X",
         "type": "quantitative"
        },
        "y": {
         "field": "Y",
         "type": "quantitative"
        }
       },
       "height": 400,
       "mark": "circle",
       "width": 400
      },
      "image/png": "[encoded data removed]"
     },
     "metadata": {},
     "output_type": "display_data"
    }
   ],
   "source": [
    "-- convert the stream to a list, taking only the first 100 steps\n",
    "toList :: Monad m => P.Producer a m () -> m [a]\n",
    "toList prod = P.toListM (prod >-> P.take 100)\n",
    "\n",
    "trueVectors <- sampleIOfixed $ toList prior\n",
    "\n",
    "plot \n",
    "    (zip \n",
    "        (fmap (\\v -> (v V.! 0, v V.! 1)) $ trueVectors) \n",
    "        (replicate 100 (T.pack \"Latent\")))"
   ]
  },
  {
   "cell_type": "markdown",
   "id": "618f1d07-cd05-41da-929c-94499e1e856c",
   "metadata": {},
   "source": [
    "We can also produce a stream of observations from `prior`, each a noisy perturbation of the datapoint in question, by using a `Pipe`:"
   ]
  },
  {
   "cell_type": "code",
   "execution_count": null,
   "id": "8ff7849d-4acc-48be-83ab-a3ecd5392094",
   "metadata": {},
   "outputs": [],
   "source": [
    "observations :: MonadSample m => P.Pipe (V.Vector Double) (V.Vector Double) m ()\n",
    "observations = P.mapM (`mvNormal` fromLists [[2,0],[0,2]])"
   ]
  },
  {
   "cell_type": "code",
   "execution_count": 93,
   "id": "dad1d7a2-784f-481d-89a5-5ce14c9dcc9b",
   "metadata": {},
   "outputs": [
    {
     "data": {
      "application/vnd.vegalite.v4+json": {
       "$schema": "https://vega.github.io/schema/vega-lite/v4.json",
       "data": {
        "values": [
         {
          "Outlier": "\"Latent\"",
          "X": -0.976725852798596,
          "Y": 1.6137193880196077
         },
         {
          "Outlier": "\"Latent\"",
          "X": 0.20408138974710444,
          "Y": 1.7919034094222825
         },
         {
          "Outlier": "\"Latent\"",
          "X": 0.4831200523092556,
          "Y": 1.907099116274424
         },
         {
          "Outlier": "\"Latent\"",
          "X": -0.09176882753590254,
          "Y": 1.8955141804642897
         },
         {
          "Outlier": "\"Latent\"",
          "X": -1.2218589977848304,
          "Y": 2.1822412112642686
         },
         {
          "Outlier": "\"Latent\"",
          "X": -0.7668458940561108,
          "Y": 2.212530442551486
         },
         {
          "Outlier": "\"Latent\"",
          "X": -0.6690157871149474,
          "Y": 3.6065228326525913
         },
         {
          "Outlier": "\"Latent\"",
          "X": 0.11244333089173442,
          "Y": 2.9159986959761524
         },
         {
          "Outlier": "\"Latent\"",
          "X": 1.2687408682854557,
          "Y": 3.1217227285265796
         },
         {
          "Outlier": "\"Latent\"",
          "X": 2.9374928178780935,
          "Y": 4.807186806397708
         },
         {
          "Outlier": "\"Latent\"",
          "X": 1.7506468484445976,
          "Y": 6.528258479316207
         },
         {
          "Outlier": "\"Latent\"",
          "X": 2.736589222593742,
          "Y": 6.949265904332787
         },
         {
          "Outlier": "\"Latent\"",
          "X": 3.641180710652565,
          "Y": 6.681148574533908
         },
         {
          "Outlier": "\"Latent\"",
          "X": 3.256520244565894,
          "Y": 7.874942228007868
         },
         {
          "Outlier": "\"Latent\"",
          "X": 3.532287597906861,
          "Y": 8.830585157823975
         },
         {
          "Outlier": "\"Latent\"",
          "X": 2.1806733831668645,
          "Y": 8.017622208601368
         },
         {
          "Outlier": "\"Latent\"",
          "X": 2.009761220323491,
          "Y": 7.84268801368802
         },
         {
          "Outlier": "\"Latent\"",
          "X": 2.141654233585815,
          "Y": 7.1758683184915455
         },
         {
          "Outlier": "\"Latent\"",
          "X": 2.109134026193262,
          "Y": 6.295985176823156
         },
         {
          "Outlier": "\"Latent\"",
          "X": 2.405745472992563,
          "Y": 6.200693454492153
         },
         {
          "Outlier": "\"Latent\"",
          "X": -0.01763593390225182,
          "Y": 6.26472827677569
         },
         {
          "Outlier": "\"Latent\"",
          "X": -0.7129309873545127,
          "Y": 6.073043706411563
         },
         {
          "Outlier": "\"Latent\"",
          "X": -1.3881353873773867,
          "Y": 5.511813869639958
         },
         {
          "Outlier": "\"Latent\"",
          "X": -2.0112168014112006,
          "Y": 4.863763667368105
         },
         {
          "Outlier": "\"Latent\"",
          "X": -2.6313526403453142,
          "Y": 6.526587675025231
         },
         {
          "Outlier": "\"Latent\"",
          "X": -3.647308978418825,
          "Y": 9.059358389741346
         },
         {
          "Outlier": "\"Latent\"",
          "X": -3.522248228389822,
          "Y": 10.81130328807151
         },
         {
          "Outlier": "\"Latent\"",
          "X": -3.1756973573574925,
          "Y": 11.004220161318386
         },
         {
          "Outlier": "\"Latent\"",
          "X": 0.11010814466808982,
          "Y": 10.321234798745154
         },
         {
          "Outlier": "\"Latent\"",
          "X": -0.39187980161433855,
          "Y": 12.364011379280585
         },
         {
          "Outlier": "\"Latent\"",
          "X": 0.03081207681047786,
          "Y": 12.291837576109366
         },
         {
          "Outlier": "\"Latent\"",
          "X": -0.14240533533610533,
          "Y": 14.912448411461696
         },
         {
          "Outlier": "\"Latent\"",
          "X": 0.7434588861709679,
          "Y": 15.226819972736129
         },
         {
          "Outlier": "\"Latent\"",
          "X": -0.08616212989934202,
          "Y": 16.246907651854926
         },
         {
          "Outlier": "\"Latent\"",
          "X": -1.2965615882985957,
          "Y": 16.938548777168933
         },
         {
          "Outlier": "\"Latent\"",
          "X": -1.0233599219588343,
          "Y": 18.172882376939775
         },
         {
          "Outlier": "\"Latent\"",
          "X": -1.593063313624189,
          "Y": 17.761804204307506
         },
         {
          "Outlier": "\"Latent\"",
          "X": -0.9071992020452398,
          "Y": 16.80832237549457
         },
         {
          "Outlier": "\"Latent\"",
          "X": 1.537278546495295,
          "Y": 18.239554653824978
         },
         {
          "Outlier": "\"Latent\"",
          "X": 1.293986040876521,
          "Y": 18.531479436575104
         },
         {
          "Outlier": "\"Latent\"",
          "X": 0.33734706739165166,
          "Y": 19.17952773388102
         },
         {
          "Outlier": "\"Latent\"",
          "X": 1.5526873356861643,
          "Y": 19.89809726940538
         },
         {
          "Outlier": "\"Latent\"",
          "X": 0.9653041361138308,
          "Y": 18.978715147896484
         },
         {
          "Outlier": "\"Latent\"",
          "X": 2.1754309252424315,
          "Y": 20.733465934111884
         },
         {
          "Outlier": "\"Latent\"",
          "X": 1.9042944402780204,
          "Y": 21.96238995944239
         },
         {
          "Outlier": "\"Latent\"",
          "X": 1.1670764368639701,
          "Y": 20.42119386858742
         },
         {
          "Outlier": "\"Latent\"",
          "X": 1.3725692433059047,
          "Y": 20.078416515233386
         },
         {
          "Outlier": "\"Latent\"",
          "X": 2.685773076792982,
          "Y": 19.780304063644362
         },
         {
          "Outlier": "\"Latent\"",
          "X": 2.304412655375019,
          "Y": 18.3267445924497
         },
         {
          "Outlier": "\"Latent\"",
          "X": 3.3005017878405236,
          "Y": 19.282099858122923
         },
         {
          "Outlier": "\"Latent\"",
          "X": 5.293682460243824,
          "Y": 18.09075163407331
         },
         {
          "Outlier": "\"Latent\"",
          "X": 5.48617010881213,
          "Y": 18.88912742921528
         },
         {
          "Outlier": "\"Latent\"",
          "X": 5.460178753240708,
          "Y": 20.05661588255413
         },
         {
          "Outlier": "\"Latent\"",
          "X": 6.694373042710004,
          "Y": 21.28417138017432
         },
         {
          "Outlier": "\"Latent\"",
          "X": 7.176262338621055,
          "Y": 23.610823147215058
         },
         {
          "Outlier": "\"Latent\"",
          "X": 9.263967259279326,
          "Y": 23.793471620769253
         },
         {
          "Outlier": "\"Latent\"",
          "X": 9.570548244239397,
          "Y": 22.80525709268169
         },
         {
          "Outlier": "\"Latent\"",
          "X": 12.224205146716235,
          "Y": 23.467270848547056
         },
         {
          "Outlier": "\"Latent\"",
          "X": 12.998028549367675,
          "Y": 24.976179113989346
         },
         {
          "Outlier": "\"Latent\"",
          "X": 13.469190861482701,
          "Y": 25.033371366639106
         },
         {
          "Outlier": "\"Latent\"",
          "X": 15.202761232337336,
          "Y": 23.705490410204654
         },
         {
          "Outlier": "\"Latent\"",
          "X": 15.45147544674246,
          "Y": 23.62245393809943
         },
         {
          "Outlier": "\"Latent\"",
          "X": 15.948845956272837,
          "Y": 23.316292902745392
         },
         {
          "Outlier": "\"Latent\"",
          "X": 17.16913170577638,
          "Y": 24.777353392198744
         },
         {
          "Outlier": "\"Latent\"",
          "X": 17.210423055711384,
          "Y": 26.565764557732845
         },
         {
          "Outlier": "\"Latent\"",
          "X": 17.498127213076074,
          "Y": 26.891514119480085
         },
         {
          "Outlier": "\"Latent\"",
          "X": 16.154587096331557,
          "Y": 26.96269886332814
         },
         {
          "Outlier": "\"Latent\"",
          "X": 17.365461967568603,
          "Y": 27.809691065821152
         },
         {
          "Outlier": "\"Latent\"",
          "X": 17.798709082450195,
          "Y": 26.878326604248347
         },
         {
          "Outlier": "\"Latent\"",
          "X": 18.711785330404158,
          "Y": 27.40681326568193
         },
         {
          "Outlier": "\"Latent\"",
          "X": 19.69126789860091,
          "Y": 29.24772788318292
         },
         {
          "Outlier": "\"Latent\"",
          "X": 18.611842559840028,
          "Y": 29.623895863932383
         },
         {
          "Outlier": "\"Latent\"",
          "X": 18.839415485737106,
          "Y": 30.176998016059404
         },
         {
          "Outlier": "\"Latent\"",
          "X": 17.872071800282136,
          "Y": 31.31449032366575
         },
         {
          "Outlier": "\"Latent\"",
          "X": 17.234433457755895,
          "Y": 31.92462627820767
         },
         {
          "Outlier": "\"Latent\"",
          "X": 18.316980583807805,
          "Y": 31.971459033847758
         },
         {
          "Outlier": "\"Latent\"",
          "X": 18.20614845743506,
          "Y": 33.38337742068083
         },
         {
          "Outlier": "\"Latent\"",
          "X": 19.469906680607902,
          "Y": 35.00768028137768
         },
         {
          "Outlier": "\"Latent\"",
          "X": 21.166533013229724,
          "Y": 36.2275881565787
         },
         {
          "Outlier": "\"Latent\"",
          "X": 20.934551476362326,
          "Y": 37.71788456932134
         },
         {
          "Outlier": "\"Latent\"",
          "X": 23.091390514827275,
          "Y": 37.35456321648551
         },
         {
          "Outlier": "\"Latent\"",
          "X": 23.202579247316468,
          "Y": 38.33182657807645
         },
         {
          "Outlier": "\"Latent\"",
          "X": 24.814982095085746,
          "Y": 39.896259204044675
         },
         {
          "Outlier": "\"Latent\"",
          "X": 26.862289553534435,
          "Y": 41.594015899000084
         },
         {
          "Outlier": "\"Latent\"",
          "X": 29.13108856747485,
          "Y": 43.24237558248829
         },
         {
          "Outlier": "\"Latent\"",
          "X": 29.96573917639689,
          "Y": 43.08564704913662
         },
         {
          "Outlier": "\"Latent\"",
          "X": 30.38129760060132,
          "Y": 42.60313904655006
         },
         {
          "Outlier": "\"Latent\"",
          "X": 30.127208744625026,
          "Y": 43.46925607531138
         },
         {
          "Outlier": "\"Latent\"",
          "X": 30.55395052376439,
          "Y": 44.113573468167885
         },
         {
          "Outlier": "\"Latent\"",
          "X": 31.939391547518845,
          "Y": 43.2108558967726
         },
         {
          "Outlier": "\"Latent\"",
          "X": 32.61564963693414,
          "Y": 44.322174851055706
         },
         {
          "Outlier": "\"Latent\"",
          "X": 33.968317987343596,
          "Y": 43.58458105865007
         },
         {
          "Outlier": "\"Latent\"",
          "X": 33.869346145845,
          "Y": 44.815191784044025
         },
         {
          "Outlier": "\"Latent\"",
          "X": 35.656369696990275,
          "Y": 45.33590548300918
         },
         {
          "Outlier": "\"Latent\"",
          "X": 36.36554153078791,
          "Y": 43.511280010066635
         },
         {
          "Outlier": "\"Latent\"",
          "X": 38.89653663422507,
          "Y": 42.455163627123405
         },
         {
          "Outlier": "\"Latent\"",
          "X": 40.62441756480252,
          "Y": 41.727621228442274
         },
         {
          "Outlier": "\"Latent\"",
          "X": 41.91827352178923,
          "Y": 41.3009998512681
         },
         {
          "Outlier": "\"Latent\"",
          "X": 41.57668178338979,
          "Y": 41.469615373408814
         },
         {
          "Outlier": "\"Latent\"",
          "X": 41.42459856678652,
          "Y": 42.382041619310584
         },
         {
          "Outlier": "\"Observed\"",
          "X": -3.065131581733345,
          "Y": 3.1887564512348003
         },
         {
          "Outlier": "\"Observed\"",
          "X": 1.1668882255170634,
          "Y": 1.3367868879015754
         },
         {
          "Outlier": "\"Observed\"",
          "X": 0.17063353214455185,
          "Y": 1.3629036660453304
         },
         {
          "Outlier": "\"Observed\"",
          "X": -1.6118912594569494,
          "Y": 1.1720238259358284
         },
         {
          "Outlier": "\"Observed\"",
          "X": -3.527154624441932,
          "Y": 1.8806276857340194
         },
         {
          "Outlier": "\"Observed\"",
          "X": -0.8304669728920272,
          "Y": 1.5482591030451762
         },
         {
          "Outlier": "\"Observed\"",
          "X": -1.2377699042568913,
          "Y": 4.870818995391914
         },
         {
          "Outlier": "\"Observed\"",
          "X": 0.5104866328303532,
          "Y": 1.232343315555812
         },
         {
          "Outlier": "\"Observed\"",
          "X": 2.1968857466197202,
          "Y": 2.7055536642789306
         },
         {
          "Outlier": "\"Observed\"",
          "X": 4.5903576760419975,
          "Y": 6.483686183029173
         },
         {
          "Outlier": "\"Observed\"",
          "X": -0.6349135991626438,
          "Y": 8.255114599787152
         },
         {
          "Outlier": "\"Observed\"",
          "X": 3.4238155186472428,
          "Y": 6.83755353346446
         },
         {
          "Outlier": "\"Observed\"",
          "X": 4.213359480286065,
          "Y": 5.594866629238526
         },
         {
          "Outlier": "\"Observed\"",
          "X": 2.00542141533082,
          "Y": 8.85611462223912
         },
         {
          "Outlier": "\"Observed\"",
          "X": 3.2151747478748427,
          "Y": 9.474961568769325
         },
         {
          "Outlier": "\"Observed\"",
          "X": -0.43790455160124697,
          "Y": 6.160812198917379
         },
         {
          "Outlier": "\"Observed\"",
          "X": 1.0609481404693257,
          "Y": 6.888186921532197
         },
         {
          "Outlier": "\"Observed\"",
          "X": 1.6210723405371008,
          "Y": 5.52573608070065
         },
         {
          "Outlier": "\"Observed\"",
          "X": 1.3560367266609799,
          "Y": 4.344535723385725
         },
         {
          "Outlier": "\"Observed\"",
          "X": 2.1181106226246924,
          "Y": 5.358823827203209
         },
         {
          "Outlier": "\"Observed\"",
          "X": -4.151921567522239,
          "Y": 5.648180409726673
         },
         {
          "Outlier": "\"Observed\"",
          "X": -2.4033334629841736,
          "Y": 5.094854006118408
         },
         {
          "Outlier": "\"Observed\"",
          "X": -3.0501253884502715,
          "Y": 4.0110082416825685
         },
         {
          "Outlier": "\"Observed\"",
          "X": -3.5994937687869735,
          "Y": 3.2401755010300755
         },
         {
          "Outlier": "\"Observed\"",
          "X": -4.2154639354661025,
          "Y": 8.171069157306976
         },
         {
          "Outlier": "\"Observed\"",
          "X": -5.791194991687837,
          "Y": 11.934130303687725
         },
         {
          "Outlier": "\"Observed\"",
          "X": -4.052492400764803,
          "Y": 12.581820742633836
         },
         {
          "Outlier": "\"Observed\"",
          "X": -3.3927071966779105,
          "Y": 10.569939038688181
         },
         {
          "Outlier": "\"Observed\"",
          "X": 4.049832067766257,
          "Y": 8.648240854905236
         },
         {
          "Outlier": "\"Observed\"",
          "X": -1.8089047445813131,
          "Y": 14.54582694318538
         },
         {
          "Outlier": "\"Observed\"",
          "X": -0.07851811720273486,
          "Y": 11.482661623630033
         },
         {
          "Outlier": "\"Observed\"",
          "X": -1.0944785300195208,
          "Y": 17.911445015332298
         },
         {
          "Outlier": "\"Observed\"",
          "X": 1.2891533014608068,
          "Y": 14.96430171712829
         },
         {
          "Outlier": "\"Observed\"",
          "X": -1.9665302036422694,
          "Y": 16.982422701287877
         },
         {
          "Outlier": "\"Observed\"",
          "X": -3.7154316994424166,
          "Y": 17.209570255696445
         },
         {
          "Outlier": "\"Observed\"",
          "X": -1.3441012013447624,
          "Y": 19.21138691304196
         },
         {
          "Outlier": "\"Observed\"",
          "X": -3.1058523578338324,
          "Y": 16.47334509618885
         },
         {
          "Outlier": "\"Observed\"",
          "X": -0.6443476546918638,
          "Y": 14.752788660524466
         },
         {
          "Outlier": "\"Observed\"",
          "X": 4.2871853502140205,
          "Y": 19.556515971559442
         },
         {
          "Outlier": "\"Observed\"",
          "X": 0.2428116986201707,
          "Y": 18.237216642346603
         },
         {
          "Outlier": "\"Observed\"",
          "X": -1.7226515243918739,
          "Y": 19.38889964381729
         },
         {
          "Outlier": "\"Observed\"",
          "X": 2.564331244819873,
          "Y": 20.207201270865518
         },
         {
          "Outlier": "\"Observed\"",
          "X": -0.5724879322180132,
          "Y": 16.971405701468704
         },
         {
          "Outlier": "\"Observed\"",
          "X": 3.1797018614325574,
          "Y": 22.50795151337601
         },
         {
          "Outlier": "\"Observed\"",
          "X": 0.8137427648006337,
          "Y": 22.993244202004384
         },
         {
          "Outlier": "\"Observed\"",
          "X": -0.5826140431763422,
          "Y": 17.534506673437374
         },
         {
          "Outlier": "\"Observed\"",
          "X": 0.9560731759596504,
          "Y": 18.88654935205921
         },
         {
          "Outlier": "\"Observed\"",
          "X": 3.8358169670841984,
          "Y": 18.651602610308323
         },
         {
          "Outlier": "\"Observed\"",
          "X": 1.0579807940668688,
          "Y": 15.563994293383798
         },
         {
          "Outlier": "\"Observed\"",
          "X": 4.002077767119143,
          "Y": 19.926069450535998
         },
         {
          "Outlier": "\"Observed\"",
          "X": 7.405358818229949,
          "Y": 15.698824036926698
         },
         {
          "Outlier": "\"Observed\"",
          "X": 5.051281970820187,
          "Y": 19.311094525388906
         },
         {
          "Outlier": "\"Observed\"",
          "X": 4.716314644500594,
          "Y": 21.000587105993375
         },
         {
          "Outlier": "\"Observed\"",
          "X": 7.732680564294361,
          "Y": 22.3130902322879
         },
         {
          "Outlier": "\"Observed\"",
          "X": 7.150649935274338,
          "Y": 26.194098849896847
         },
         {
          "Outlier": "\"Observed\"",
          "X": 11.509321091120754,
          "Y": 23.344668788029793
         },
         {
          "Outlier": "\"Observed\"",
          "X": 9.297012449949085,
          "Y": 20.70060392333958
         },
         {
          "Outlier": "\"Observed\"",
          "X": 15.26993594689741,
          "Y": 23.69639289938286
         },
         {
          "Outlier": "\"Observed\"",
          "X": 13.385273319092489,
          "Y": 26.402990866168146
         },
         {
          "Outlier": "\"Observed\"",
          "X": 13.428408212168291,
          "Y": 24.407146644812514
         },
         {
          "Outlier": "\"Observed\"",
          "X": 16.947293180941568,
          "Y": 21.120476371211545
         },
         {
          "Outlier": "\"Observed\"",
          "X": 15.09610368072261,
          "Y": 22.797915851890057
         },
         {
          "Outlier": "\"Observed\"",
          "X": 15.945127295188566,
          "Y": 22.176209033090977
         },
         {
          "Outlier": "\"Observed\"",
          "X": 18.18776958150836,
          "Y": 26.1364981706446
         },
         {
          "Outlier": "\"Observed\"",
          "X": 16.561711061611614,
          "Y": 28.387853101944096
         },
         {
          "Outlier": "\"Observed\"",
          "X": 17.197895553185795,
          "Y": 26.645086786453575
         },
         {
          "Outlier": "\"Observed\"",
          "X": 13.54742766045258,
          "Y": 26.356262512325568
         },
         {
          "Outlier": "\"Observed\"",
          "X": 18.370790851622264,
          "Y": 28.30041214462448
         },
         {
          "Outlier": "\"Observed\"",
          "X": 17.70430624698821,
          "Y": 24.854071569993224
         },
         {
          "Outlier": "\"Observed\"",
          "X": 19.295963362554843,
          "Y": 27.447099488628034
         },
         {
          "Outlier": "\"Observed\"",
          "X": 20.369358649466236,
          "Y": 31.144067521237154
         },
         {
          "Outlier": "\"Observed\"",
          "X": 16.37819782500867,
          "Y": 29.448770942852224
         },
         {
          "Outlier": "\"Observed\"",
          "X": 18.454145422783135,
          "Y": 30.252095799788638
         },
         {
          "Outlier": "\"Observed\"",
          "X": 15.796934459649197,
          "Y": 32.21604059099117
         },
         {
          "Outlier": "\"Observed\"",
          "X": 15.625569884679635,
          "Y": 32.08038203882575
         },
         {
          "Outlier": "\"Observed\"",
          "X": 19.140826630191885,
          "Y": 31.33058377085073
         },
         {
          "Outlier": "\"Observed\"",
          "X": 17.342301379985525,
          "Y": 34.67302477111756
         },
         {
          "Outlier": "\"Observed\"",
          "X": 20.550023918192913,
          "Y": 36.59768463519004
         },
         {
          "Outlier": "\"Observed\"",
          "X": 22.858818201916286,
          "Y": 37.24569163734717
         },
         {
          "Outlier": "\"Observed\"",
          "X": 19.899373259517752,
          "Y": 39.118375186991415
         },
         {
          "Outlier": "\"Observed\"",
          "X": 25.434514753693602,
          "Y": 36.13364245061879
         },
         {
          "Outlier": "\"Observed\"",
          "X": 22.65271707959921,
          "Y": 39.006778896862144
         },
         {
          "Outlier": "\"Observed\"",
          "X": 26.388157289223514,
          "Y": 41.401594259921346
         },
         {
          "Outlier": "\"Observed\"",
          "X": 29.05051274643361,
          "Y": 43.2878996614292
         },
         {
          "Outlier": "\"Observed\"",
          "X": 31.632548122101547,
          "Y": 44.8664014213598
         },
         {
          "Outlier": "\"Observed\"",
          "X": 30.439006606190855,
          "Y": 42.15689265047329
         },
         {
          "Outlier": "\"Observed\"",
          "X": 30.26187917888307,
          "Y": 41.21366290415206
         },
         {
          "Outlier": "\"Observed\"",
          "X": 29.06076605726894,
          "Y": 43.98702374280138
         },
         {
          "Outlier": "\"Observed\"",
          "X": 30.450347754267952,
          "Y": 44.317669082431884
         },
         {
          "Outlier": "\"Observed\"",
          "X": 33.19159425199391,
          "Y": 41.22711368312633
         },
         {
          "Outlier": "\"Observed\"",
          "X": 32.86491621746321,
          "Y": 45.18671040713861
         },
         {
          "Outlier": "\"Observed\"",
          "X": 35.17417313269895,
          "Y": 41.834359132721275
         },
         {
          "Outlier": "\"Observed\"",
          "X": 33.022272044118104,
          "Y": 45.848431380711396
         },
         {
          "Outlier": "\"Observed\"",
          "X": 37.47649585811351,
          "Y": 45.36519907701261
         },
         {
          "Outlier": "\"Observed\"",
          "X": 36.66135517501097,
          "Y": 40.223763138793316
         },
         {
          "Outlier": "\"Observed\"",
          "X": 41.76879745461925,
          "Y": 40.25448273373412
         },
         {
          "Outlier": "\"Observed\"",
          "X": 42.360903429804445,
          "Y": 39.99161411983941
         },
         {
          "Outlier": "\"Observed\"",
          "X": 43.04095538273051,
          "Y": 39.99055933248355
         },
         {
          "Outlier": "\"Observed\"",
          "X": 40.38649133296415,
          "Y": 41.00096695046028
         },
         {
          "Outlier": "\"Observed\"",
          "X": 40.502413638070315,
          "Y": 42.965300409743485
         }
        ]
       },
       "encoding": {
        "color": {
         "field": "Outlier"
        },
        "x": {
         "field": "X",
         "type": "quantitative"
        },
        "y": {
         "field": "Y",
         "type": "quantitative"
        }
       },
       "height": 400,
       "mark": "circle",
       "width": 400
      },
      "image/png": "[encoded data removed]"
     },
     "metadata": {},
     "output_type": "display_data"
    }
   ],
   "source": [
    "observedVectors <- sampleIOfixed $ toList $ P.each trueVectors >-> observations\n",
    "\n",
    "\n",
    "plot \n",
    "    (zip \n",
    "        (fmap (\\v -> (v V.! 0, v V.! 1)) $ trueVectors <> observedVectors) \n",
    "        (replicate 100 (T.pack \"Latent\") <> replicate 100 (T.pack \"Observed\")))"
   ]
  },
  {
   "cell_type": "markdown",
   "id": "e48ded8f-26c7-4b8c-a423-072381fbf741",
   "metadata": {},
   "source": [
    "## Conditioning\n",
    "\n",
    "But most interestingly, we can update our prior, based on a stream of incoming observations. `conditioning` below takes two `Producer`s, the stream corresponding to the prior (see `prior` above) and the stream corresponding to the observations (`P.each observedVectors`, where `P.each` lifts a list to a stream), and a likelihood, and returns a posterior, also expressed as a stream.  "
   ]
  },
  {
   "cell_type": "code",
   "execution_count": 94,
   "id": "29063963-1733-48f5-b71e-05dd727ee664",
   "metadata": {},
   "outputs": [],
   "source": [
    "-- take the original random walk as a prior and condition on the observations\n",
    "-- to obtain a posterior random walk\n",
    "conditioning :: MonadInfer m => \n",
    "    P.Producer (V.Vector Double) m () -> \n",
    "    P.Producer (V.Vector Double) m () -> \n",
    "    ((V.Vector Double, V.Vector Double) -> Log Double) ->\n",
    "    P.Producer (V.Vector Double) m ()\n",
    "conditioning prior observations observationModel = \n",
    "    P.zip prior observations\n",
    "    >-> P.chain (factor . observationModel)\n",
    "    >-> P.map fst \n",
    "\n",
    "\n",
    "posterior :: MonadInfer m => m [V.Vector Double]\n",
    "posterior = toList $ conditioning \n",
    "    (prior >-> observations)\n",
    "    (P.each observedVectors)\n",
    "    (\\(v, v') -> \n",
    "        let (x, y, x', y') = (v V.! 0, v V.! 1, v' V.! 0, v' V.! 1)\n",
    "        in normalPdf x 2 x' * normalPdf y 2 y' )\n"
   ]
  },
  {
   "cell_type": "markdown",
   "id": "53c196ce-a76b-486a-af09-07dad9100abe",
   "metadata": {},
   "source": [
    "We can then use an inference method of our liking:"
   ]
  },
  {
   "cell_type": "code",
   "execution_count": 99,
   "id": "38c2337a-4c9f-4ef8-85b3-691fc691ff51",
   "metadata": {},
   "outputs": [
    {
     "data": {
      "text/plain": []
     },
     "metadata": {},
     "output_type": "display_data"
    }
   ],
   "source": [
    "particles <- sampleIOfixed $ runPopulation $ \n",
    "    smc SMCConfig {\n",
    "        numSteps = 100, \n",
    "        numParticles = 1000, \n",
    "        resampler = resampleMultinomial} \n",
    "    posterior"
   ]
  },
  {
   "cell_type": "code",
   "execution_count": 109,
   "id": "ddd48970-cf80-4945-9b13-ceb33b5ef362",
   "metadata": {},
   "outputs": [
    {
     "data": {
      "application/vnd.vegalite.v4+json": {
       "$schema": "https://vega.github.io/schema/vega-lite/v4.json",
       "data": {
        "values": [
         {
          "Outlier": "\"True\"",
          "X": -0.976725852798596,
          "Y": 1.6137193880196077
         },
         {
          "Outlier": "\"True\"",
          "X": 0.20408138974710444,
          "Y": 1.7919034094222825
         },
         {
          "Outlier": "\"True\"",
          "X": 0.4831200523092556,
          "Y": 1.907099116274424
         },
         {
          "Outlier": "\"True\"",
          "X": -0.09176882753590254,
          "Y": 1.8955141804642897
         },
         {
          "Outlier": "\"True\"",
          "X": -1.2218589977848304,
          "Y": 2.1822412112642686
         },
         {
          "Outlier": "\"True\"",
          "X": -0.7668458940561108,
          "Y": 2.212530442551486
         },
         {
          "Outlier": "\"True\"",
          "X": -0.6690157871149474,
          "Y": 3.6065228326525913
         },
         {
          "Outlier": "\"True\"",
          "X": 0.11244333089173442,
          "Y": 2.9159986959761524
         },
         {
          "Outlier": "\"True\"",
          "X": 1.2687408682854557,
          "Y": 3.1217227285265796
         },
         {
          "Outlier": "\"True\"",
          "X": 2.9374928178780935,
          "Y": 4.807186806397708
         },
         {
          "Outlier": "\"True\"",
          "X": 1.7506468484445976,
          "Y": 6.528258479316207
         },
         {
          "Outlier": "\"True\"",
          "X": 2.736589222593742,
          "Y": 6.949265904332787
         },
         {
          "Outlier": "\"True\"",
          "X": 3.641180710652565,
          "Y": 6.681148574533908
         },
         {
          "Outlier": "\"True\"",
          "X": 3.256520244565894,
          "Y": 7.874942228007868
         },
         {
          "Outlier": "\"True\"",
          "X": 3.532287597906861,
          "Y": 8.830585157823975
         },
         {
          "Outlier": "\"True\"",
          "X": 2.1806733831668645,
          "Y": 8.017622208601368
         },
         {
          "Outlier": "\"True\"",
          "X": 2.009761220323491,
          "Y": 7.84268801368802
         },
         {
          "Outlier": "\"True\"",
          "X": 2.141654233585815,
          "Y": 7.1758683184915455
         },
         {
          "Outlier": "\"True\"",
          "X": 2.109134026193262,
          "Y": 6.295985176823156
         },
         {
          "Outlier": "\"True\"",
          "X": 2.405745472992563,
          "Y": 6.200693454492153
         },
         {
          "Outlier": "\"True\"",
          "X": -0.01763593390225182,
          "Y": 6.26472827677569
         },
         {
          "Outlier": "\"True\"",
          "X": -0.7129309873545127,
          "Y": 6.073043706411563
         },
         {
          "Outlier": "\"True\"",
          "X": -1.3881353873773867,
          "Y": 5.511813869639958
         },
         {
          "Outlier": "\"True\"",
          "X": -2.0112168014112006,
          "Y": 4.863763667368105
         },
         {
          "Outlier": "\"True\"",
          "X": -2.6313526403453142,
          "Y": 6.526587675025231
         },
         {
          "Outlier": "\"True\"",
          "X": -3.647308978418825,
          "Y": 9.059358389741346
         },
         {
          "Outlier": "\"True\"",
          "X": -3.522248228389822,
          "Y": 10.81130328807151
         },
         {
          "Outlier": "\"True\"",
          "X": -3.1756973573574925,
          "Y": 11.004220161318386
         },
         {
          "Outlier": "\"True\"",
          "X": 0.11010814466808982,
          "Y": 10.321234798745154
         },
         {
          "Outlier": "\"True\"",
          "X": -0.39187980161433855,
          "Y": 12.364011379280585
         },
         {
          "Outlier": "\"True\"",
          "X": 0.03081207681047786,
          "Y": 12.291837576109366
         },
         {
          "Outlier": "\"True\"",
          "X": -0.14240533533610533,
          "Y": 14.912448411461696
         },
         {
          "Outlier": "\"True\"",
          "X": 0.7434588861709679,
          "Y": 15.226819972736129
         },
         {
          "Outlier": "\"True\"",
          "X": -0.08616212989934202,
          "Y": 16.246907651854926
         },
         {
          "Outlier": "\"True\"",
          "X": -1.2965615882985957,
          "Y": 16.938548777168933
         },
         {
          "Outlier": "\"True\"",
          "X": -1.0233599219588343,
          "Y": 18.172882376939775
         },
         {
          "Outlier": "\"True\"",
          "X": -1.593063313624189,
          "Y": 17.761804204307506
         },
         {
          "Outlier": "\"True\"",
          "X": -0.9071992020452398,
          "Y": 16.80832237549457
         },
         {
          "Outlier": "\"True\"",
          "X": 1.537278546495295,
          "Y": 18.239554653824978
         },
         {
          "Outlier": "\"True\"",
          "X": 1.293986040876521,
          "Y": 18.531479436575104
         },
         {
          "Outlier": "\"True\"",
          "X": 0.33734706739165166,
          "Y": 19.17952773388102
         },
         {
          "Outlier": "\"True\"",
          "X": 1.5526873356861643,
          "Y": 19.89809726940538
         },
         {
          "Outlier": "\"True\"",
          "X": 0.9653041361138308,
          "Y": 18.978715147896484
         },
         {
          "Outlier": "\"True\"",
          "X": 2.1754309252424315,
          "Y": 20.733465934111884
         },
         {
          "Outlier": "\"True\"",
          "X": 1.9042944402780204,
          "Y": 21.96238995944239
         },
         {
          "Outlier": "\"True\"",
          "X": 1.1670764368639701,
          "Y": 20.42119386858742
         },
         {
          "Outlier": "\"True\"",
          "X": 1.3725692433059047,
          "Y": 20.078416515233386
         },
         {
          "Outlier": "\"True\"",
          "X": 2.685773076792982,
          "Y": 19.780304063644362
         },
         {
          "Outlier": "\"True\"",
          "X": 2.304412655375019,
          "Y": 18.3267445924497
         },
         {
          "Outlier": "\"True\"",
          "X": 3.3005017878405236,
          "Y": 19.282099858122923
         },
         {
          "Outlier": "\"True\"",
          "X": 5.293682460243824,
          "Y": 18.09075163407331
         },
         {
          "Outlier": "\"True\"",
          "X": 5.48617010881213,
          "Y": 18.88912742921528
         },
         {
          "Outlier": "\"True\"",
          "X": 5.460178753240708,
          "Y": 20.05661588255413
         },
         {
          "Outlier": "\"True\"",
          "X": 6.694373042710004,
          "Y": 21.28417138017432
         },
         {
          "Outlier": "\"True\"",
          "X": 7.176262338621055,
          "Y": 23.610823147215058
         },
         {
          "Outlier": "\"True\"",
          "X": 9.263967259279326,
          "Y": 23.793471620769253
         },
         {
          "Outlier": "\"True\"",
          "X": 9.570548244239397,
          "Y": 22.80525709268169
         },
         {
          "Outlier": "\"True\"",
          "X": 12.224205146716235,
          "Y": 23.467270848547056
         },
         {
          "Outlier": "\"True\"",
          "X": 12.998028549367675,
          "Y": 24.976179113989346
         },
         {
          "Outlier": "\"True\"",
          "X": 13.469190861482701,
          "Y": 25.033371366639106
         },
         {
          "Outlier": "\"True\"",
          "X": 15.202761232337336,
          "Y": 23.705490410204654
         },
         {
          "Outlier": "\"True\"",
          "X": 15.45147544674246,
          "Y": 23.62245393809943
         },
         {
          "Outlier": "\"True\"",
          "X": 15.948845956272837,
          "Y": 23.316292902745392
         },
         {
          "Outlier": "\"True\"",
          "X": 17.16913170577638,
          "Y": 24.777353392198744
         },
         {
          "Outlier": "\"True\"",
          "X": 17.210423055711384,
          "Y": 26.565764557732845
         },
         {
          "Outlier": "\"True\"",
          "X": 17.498127213076074,
          "Y": 26.891514119480085
         },
         {
          "Outlier": "\"True\"",
          "X": 16.154587096331557,
          "Y": 26.96269886332814
         },
         {
          "Outlier": "\"True\"",
          "X": 17.365461967568603,
          "Y": 27.809691065821152
         },
         {
          "Outlier": "\"True\"",
          "X": 17.798709082450195,
          "Y": 26.878326604248347
         },
         {
          "Outlier": "\"True\"",
          "X": 18.711785330404158,
          "Y": 27.40681326568193
         },
         {
          "Outlier": "\"True\"",
          "X": 19.69126789860091,
          "Y": 29.24772788318292
         },
         {
          "Outlier": "\"True\"",
          "X": 18.611842559840028,
          "Y": 29.623895863932383
         },
         {
          "Outlier": "\"True\"",
          "X": 18.839415485737106,
          "Y": 30.176998016059404
         },
         {
          "Outlier": "\"True\"",
          "X": 17.872071800282136,
          "Y": 31.31449032366575
         },
         {
          "Outlier": "\"True\"",
          "X": 17.234433457755895,
          "Y": 31.92462627820767
         },
         {
          "Outlier": "\"True\"",
          "X": 18.316980583807805,
          "Y": 31.971459033847758
         },
         {
          "Outlier": "\"True\"",
          "X": 18.20614845743506,
          "Y": 33.38337742068083
         },
         {
          "Outlier": "\"True\"",
          "X": 19.469906680607902,
          "Y": 35.00768028137768
         },
         {
          "Outlier": "\"True\"",
          "X": 21.166533013229724,
          "Y": 36.2275881565787
         },
         {
          "Outlier": "\"True\"",
          "X": 20.934551476362326,
          "Y": 37.71788456932134
         },
         {
          "Outlier": "\"True\"",
          "X": 23.091390514827275,
          "Y": 37.35456321648551
         },
         {
          "Outlier": "\"True\"",
          "X": 23.202579247316468,
          "Y": 38.33182657807645
         },
         {
          "Outlier": "\"True\"",
          "X": 24.814982095085746,
          "Y": 39.896259204044675
         },
         {
          "Outlier": "\"True\"",
          "X": 26.862289553534435,
          "Y": 41.594015899000084
         },
         {
          "Outlier": "\"True\"",
          "X": 29.13108856747485,
          "Y": 43.24237558248829
         },
         {
          "Outlier": "\"True\"",
          "X": 29.96573917639689,
          "Y": 43.08564704913662
         },
         {
          "Outlier": "\"True\"",
          "X": 30.38129760060132,
          "Y": 42.60313904655006
         },
         {
          "Outlier": "\"True\"",
          "X": 30.127208744625026,
          "Y": 43.46925607531138
         },
         {
          "Outlier": "\"True\"",
          "X": 30.55395052376439,
          "Y": 44.113573468167885
         },
         {
          "Outlier": "\"True\"",
          "X": 31.939391547518845,
          "Y": 43.2108558967726
         },
         {
          "Outlier": "\"True\"",
          "X": 32.61564963693414,
          "Y": 44.322174851055706
         },
         {
          "Outlier": "\"True\"",
          "X": 33.968317987343596,
          "Y": 43.58458105865007
         },
         {
          "Outlier": "\"True\"",
          "X": 33.869346145845,
          "Y": 44.815191784044025
         },
         {
          "Outlier": "\"True\"",
          "X": 35.656369696990275,
          "Y": 45.33590548300918
         },
         {
          "Outlier": "\"True\"",
          "X": 36.36554153078791,
          "Y": 43.511280010066635
         },
         {
          "Outlier": "\"True\"",
          "X": 38.89653663422507,
          "Y": 42.455163627123405
         },
         {
          "Outlier": "\"True\"",
          "X": 40.62441756480252,
          "Y": 41.727621228442274
         },
         {
          "Outlier": "\"True\"",
          "X": 41.91827352178923,
          "Y": 41.3009998512681
         },
         {
          "Outlier": "\"True\"",
          "X": 41.57668178338979,
          "Y": 41.469615373408814
         },
         {
          "Outlier": "\"True\"",
          "X": 41.42459856678652,
          "Y": 42.382041619310584
         },
         {
          "Outlier": "\"Inferred\"",
          "X": -1.0577120685363202,
          "Y": 1.3311665130021177
         },
         {
          "Outlier": "\"Inferred\"",
          "X": 0.5187449111042508,
          "Y": 1.384208569791998
         },
         {
          "Outlier": "\"Inferred\"",
          "X": -0.8359699315815046,
          "Y": 3.1539853357405616
         },
         {
          "Outlier": "\"Inferred\"",
          "X": -2.1877453858545657,
          "Y": 2.595384784475209
         },
         {
          "Outlier": "\"Inferred\"",
          "X": -0.16867700137480535,
          "Y": 0.27496446623764914
         },
         {
          "Outlier": "\"Inferred\"",
          "X": -0.7511427590794194,
          "Y": 1.203915831753831
         },
         {
          "Outlier": "\"Inferred\"",
          "X": -1.1304340030603823,
          "Y": 4.406806799725376
         },
         {
          "Outlier": "\"Inferred\"",
          "X": -1.2824700743677044,
          "Y": 3.6654619962530113
         },
         {
          "Outlier": "\"Inferred\"",
          "X": 0.3816187637329622,
          "Y": 3.682189844040436
         },
         {
          "Outlier": "\"Inferred\"",
          "X": 3.1803081944671736,
          "Y": 3.1356646766729415
         },
         {
          "Outlier": "\"Inferred\"",
          "X": -1.0218461160080148,
          "Y": 6.4487650815174815
         },
         {
          "Outlier": "\"Inferred\"",
          "X": 2.0550636462783096,
          "Y": 8.026978886181793
         },
         {
          "Outlier": "\"Inferred\"",
          "X": 2.4799407067423567,
          "Y": 5.108922045454836
         },
         {
          "Outlier": "\"Inferred\"",
          "X": -0.144439876733776,
          "Y": 5.719658548828151
         },
         {
          "Outlier": "\"Inferred\"",
          "X": 2.603480338964233,
          "Y": 5.9952585247952115
         },
         {
          "Outlier": "\"Inferred\"",
          "X": 2.425993594751608,
          "Y": 8.82052976920178
         },
         {
          "Outlier": "\"Inferred\"",
          "X": 2.7929141242720594,
          "Y": 6.161335737699147
         },
         {
          "Outlier": "\"Inferred\"",
          "X": -0.18996085901325044,
          "Y": 10.101337189955292
         },
         {
          "Outlier": "\"Inferred\"",
          "X": 2.286847344578952,
          "Y": 4.2522597981104555
         },
         {
          "Outlier": "\"Inferred\"",
          "X": -0.298956939905914,
          "Y": 6.593708007693254
         },
         {
          "Outlier": "\"Inferred\"",
          "X": -3.205602402189394,
          "Y": 5.132434849926451
         },
         {
          "Outlier": "\"Inferred\"",
          "X": -2.265250200536654,
          "Y": 3.3848948388106557
         },
         {
          "Outlier": "\"Inferred\"",
          "X": -1.947926784523691,
          "Y": 3.570633407460644
         },
         {
          "Outlier": "\"Inferred\"",
          "X": -4.435285794682148,
          "Y": 3.5121290171718176
         },
         {
          "Outlier": "\"Inferred\"",
          "X": -3.9652539262684705,
          "Y": 7.6403003562997105
         },
         {
          "Outlier": "\"Inferred\"",
          "X": -4.430199330058449,
          "Y": 9.209546993621395
         },
         {
          "Outlier": "\"Inferred\"",
          "X": -4.334438583579075,
          "Y": 11.249827213896296
         },
         {
          "Outlier": "\"Inferred\"",
          "X": -0.5727445394846633,
          "Y": 9.99518327507299
         },
         {
          "Outlier": "\"Inferred\"",
          "X": 1.0643805305017426,
          "Y": 14.050378664607212
         },
         {
          "Outlier": "\"Inferred\"",
          "X": -0.7440546176493747,
          "Y": 12.471971282229795
         },
         {
          "Outlier": "\"Inferred\"",
          "X": -3.570602316347743,
          "Y": 13.14288607196317
         },
         {
          "Outlier": "\"Inferred\"",
          "X": -3.956830215595157,
          "Y": 15.086824437844113
         },
         {
          "Outlier": "\"Inferred\"",
          "X": -2.138066530007651,
          "Y": 15.019393771615972
         },
         {
          "Outlier": "\"Inferred\"",
          "X": -2.251827618278055,
          "Y": 16.599997447118817
         },
         {
          "Outlier": "\"Inferred\"",
          "X": -2.807644848369149,
          "Y": 17.713657955044997
         },
         {
          "Outlier": "\"Inferred\"",
          "X": -2.3880869982680184,
          "Y": 18.404602812375092
         },
         {
          "Outlier": "\"Inferred\"",
          "X": -0.29449740199469937,
          "Y": 16.928291478923846
         },
         {
          "Outlier": "\"Inferred\"",
          "X": 1.244171395384246,
          "Y": 16.47484686050343
         },
         {
          "Outlier": "\"Inferred\"",
          "X": 3.9518076151899755,
          "Y": 19.73464688050008
         },
         {
          "Outlier": "\"Inferred\"",
          "X": -1.3345880833297998,
          "Y": 19.15984864007499
         },
         {
          "Outlier": "\"Inferred\"",
          "X": 1.851358566281288,
          "Y": 19.569533477050037
         },
         {
          "Outlier": "\"Inferred\"",
          "X": 3.2595422980566173,
          "Y": 21.77707726028481
         },
         {
          "Outlier": "\"Inferred\"",
          "X": 2.1753162637409944,
          "Y": 20.36642507441463
         },
         {
          "Outlier": "\"Inferred\"",
          "X": 0.4506526434133333,
          "Y": 21.382441740611412
         },
         {
          "Outlier": "\"Inferred\"",
          "X": 0.8120285551502904,
          "Y": 19.60115189025198
         },
         {
          "Outlier": "\"Inferred\"",
          "X": 1.6569642522016306,
          "Y": 18.502678951265597
         },
         {
          "Outlier": "\"Inferred\"",
          "X": -0.444739473560524,
          "Y": 18.230643631942463
         },
         {
          "Outlier": "\"Inferred\"",
          "X": 1.6428136814474865,
          "Y": 19.94364845612486
         },
         {
          "Outlier": "\"Inferred\"",
          "X": 2.258750276587056,
          "Y": 19.475989364585477
         },
         {
          "Outlier": "\"Inferred\"",
          "X": 2.5157590779198262,
          "Y": 18.86084677527472
         },
         {
          "Outlier": "\"Inferred\"",
          "X": 4.884335772421402,
          "Y": 17.59800563446385
         },
         {
          "Outlier": "\"Inferred\"",
          "X": 7.607637679832416,
          "Y": 19.01684124911639
         },
         {
          "Outlier": "\"Inferred\"",
          "X": 6.508890765203282,
          "Y": 20.60607402273017
         },
         {
          "Outlier": "\"Inferred\"",
          "X": 8.531730182825378,
          "Y": 19.829041833452212
         },
         {
          "Outlier": "\"Inferred\"",
          "X": 6.619085397128721,
          "Y": 23.500281525318293
         },
         {
          "Outlier": "\"Inferred\"",
          "X": 8.806591103428428,
          "Y": 24.19951174991294
         },
         {
          "Outlier": "\"Inferred\"",
          "X": 9.724641251921597,
          "Y": 22.263368355154693
         },
         {
          "Outlier": "\"Inferred\"",
          "X": 14.240500415544096,
          "Y": 23.5421576653696
         },
         {
          "Outlier": "\"Inferred\"",
          "X": 13.740510054880344,
          "Y": 24.749434804388567
         },
         {
          "Outlier": "\"Inferred\"",
          "X": 15.82453668680294,
          "Y": 22.99446121042568
         },
         {
          "Outlier": "\"Inferred\"",
          "X": 16.271307864335235,
          "Y": 24.848536831378613
         },
         {
          "Outlier": "\"Inferred\"",
          "X": 16.11229592823138,
          "Y": 24.028128546138433
         },
         {
          "Outlier": "\"Inferred\"",
          "X": 17.307687674050023,
          "Y": 26.131856130319765
         },
         {
          "Outlier": "\"Inferred\"",
          "X": 18.145073171599925,
          "Y": 25.214412494206062
         },
         {
          "Outlier": "\"Inferred\"",
          "X": 18.80746348595955,
          "Y": 26.782157503182134
         },
         {
          "Outlier": "\"Inferred\"",
          "X": 17.94034588281265,
          "Y": 27.308712855207055
         },
         {
          "Outlier": "\"Inferred\"",
          "X": 15.684938884355352,
          "Y": 26.582610386534874
         },
         {
          "Outlier": "\"Inferred\"",
          "X": 17.654360676028695,
          "Y": 26.941097901171883
         },
         {
          "Outlier": "\"Inferred\"",
          "X": 15.36205274392794,
          "Y": 25.17843264221973
         },
         {
          "Outlier": "\"Inferred\"",
          "X": 17.251704769144215,
          "Y": 25.35060661316931
         },
         {
          "Outlier": "\"Inferred\"",
          "X": 18.273625717291107,
          "Y": 29.18299184548813
         },
         {
          "Outlier": "\"Inferred\"",
          "X": 17.696592064067936,
          "Y": 28.93925165591833
         },
         {
          "Outlier": "\"Inferred\"",
          "X": 18.445902049378006,
          "Y": 30.87595240693941
         },
         {
          "Outlier": "\"Inferred\"",
          "X": 15.828383103875437,
          "Y": 32.51652086577314
         },
         {
          "Outlier": "\"Inferred\"",
          "X": 18.026551627915932,
          "Y": 35.57517785422122
         },
         {
          "Outlier": "\"Inferred\"",
          "X": 19.98589459593528,
          "Y": 32.08290613172422
         },
         {
          "Outlier": "\"Inferred\"",
          "X": 18.448715970625734,
          "Y": 34.20001907620851
         },
         {
          "Outlier": "\"Inferred\"",
          "X": 19.698012415780077,
          "Y": 37.71411928309972
         },
         {
          "Outlier": "\"Inferred\"",
          "X": 22.646171815426232,
          "Y": 36.820885026876695
         },
         {
          "Outlier": "\"Inferred\"",
          "X": 19.762850548981405,
          "Y": 38.757583228775374
         },
         {
          "Outlier": "\"Inferred\"",
          "X": 22.05892517422398,
          "Y": 39.46438705556796
         },
         {
          "Outlier": "\"Inferred\"",
          "X": 22.336107100252367,
          "Y": 37.22067794147434
         },
         {
          "Outlier": "\"Inferred\"",
          "X": 26.789686978341408,
          "Y": 38.85467517157313
         },
         {
          "Outlier": "\"Inferred\"",
          "X": 28.581113740008462,
          "Y": 41.45815892941772
         },
         {
          "Outlier": "\"Inferred\"",
          "X": 28.48962301149913,
          "Y": 42.604390320341494
         },
         {
          "Outlier": "\"Inferred\"",
          "X": 30.438628894570247,
          "Y": 42.504147486094176
         },
         {
          "Outlier": "\"Inferred\"",
          "X": 28.428850700590232,
          "Y": 43.82872128237601
         },
         {
          "Outlier": "\"Inferred\"",
          "X": 28.34170448409455,
          "Y": 40.71356901623144
         },
         {
          "Outlier": "\"Inferred\"",
          "X": 31.890846214923023,
          "Y": 41.20751738255827
         },
         {
          "Outlier": "\"Inferred\"",
          "X": 31.325844886644457,
          "Y": 40.23383260003149
         },
         {
          "Outlier": "\"Inferred\"",
          "X": 33.356522104025245,
          "Y": 42.27685485134381
         },
         {
          "Outlier": "\"Inferred\"",
          "X": 34.54961142851479,
          "Y": 42.967414208556434
         },
         {
          "Outlier": "\"Inferred\"",
          "X": 32.4456152196733,
          "Y": 44.911085494205906
         },
         {
          "Outlier": "\"Inferred\"",
          "X": 34.84362420178905,
          "Y": 40.66477180352434
         },
         {
          "Outlier": "\"Inferred\"",
          "X": 35.763404179397156,
          "Y": 40.66888436350706
         },
         {
          "Outlier": "\"Inferred\"",
          "X": 39.552362995276766,
          "Y": 42.21684795569472
         },
         {
          "Outlier": "\"Inferred\"",
          "X": 40.922920306252784,
          "Y": 40.40975287781089
         },
         {
          "Outlier": "\"Inferred\"",
          "X": 42.27189336774657,
          "Y": 41.95068720949838
         },
         {
          "Outlier": "\"Inferred\"",
          "X": 42.641804965086024,
          "Y": 42.92955371544243
         },
         {
          "Outlier": "\"Inferred\"",
          "X": 38.76438679533967,
          "Y": 43.048556065288864
         },
         {
          "Outlier": "\"Inferred\"",
          "X": -1.0577120685363202,
          "Y": 1.3311665130021177
         },
         {
          "Outlier": "\"Inferred\"",
          "X": 0.5187449111042508,
          "Y": 1.384208569791998
         },
         {
          "Outlier": "\"Inferred\"",
          "X": -0.8359699315815046,
          "Y": 3.1539853357405616
         },
         {
          "Outlier": "\"Inferred\"",
          "X": -2.1877453858545657,
          "Y": 2.595384784475209
         },
         {
          "Outlier": "\"Inferred\"",
          "X": -0.16867700137480535,
          "Y": 0.27496446623764914
         },
         {
          "Outlier": "\"Inferred\"",
          "X": -0.7511427590794194,
          "Y": 1.203915831753831
         },
         {
          "Outlier": "\"Inferred\"",
          "X": -1.1304340030603823,
          "Y": 4.406806799725376
         },
         {
          "Outlier": "\"Inferred\"",
          "X": -1.2824700743677044,
          "Y": 3.6654619962530113
         },
         {
          "Outlier": "\"Inferred\"",
          "X": 0.3816187637329622,
          "Y": 3.682189844040436
         },
         {
          "Outlier": "\"Inferred\"",
          "X": 3.1803081944671736,
          "Y": 3.1356646766729415
         },
         {
          "Outlier": "\"Inferred\"",
          "X": -1.0218461160080148,
          "Y": 6.4487650815174815
         },
         {
          "Outlier": "\"Inferred\"",
          "X": 2.0550636462783096,
          "Y": 8.026978886181793
         },
         {
          "Outlier": "\"Inferred\"",
          "X": 2.4799407067423567,
          "Y": 5.108922045454836
         },
         {
          "Outlier": "\"Inferred\"",
          "X": -0.144439876733776,
          "Y": 5.719658548828151
         },
         {
          "Outlier": "\"Inferred\"",
          "X": 2.603480338964233,
          "Y": 5.9952585247952115
         },
         {
          "Outlier": "\"Inferred\"",
          "X": 2.425993594751608,
          "Y": 8.82052976920178
         },
         {
          "Outlier": "\"Inferred\"",
          "X": 2.7929141242720594,
          "Y": 6.161335737699147
         },
         {
          "Outlier": "\"Inferred\"",
          "X": -0.18996085901325044,
          "Y": 10.101337189955292
         },
         {
          "Outlier": "\"Inferred\"",
          "X": 2.286847344578952,
          "Y": 4.2522597981104555
         },
         {
          "Outlier": "\"Inferred\"",
          "X": -0.298956939905914,
          "Y": 6.593708007693254
         },
         {
          "Outlier": "\"Inferred\"",
          "X": -3.205602402189394,
          "Y": 5.132434849926451
         },
         {
          "Outlier": "\"Inferred\"",
          "X": -2.265250200536654,
          "Y": 3.3848948388106557
         },
         {
          "Outlier": "\"Inferred\"",
          "X": -1.947926784523691,
          "Y": 3.570633407460644
         },
         {
          "Outlier": "\"Inferred\"",
          "X": -4.435285794682148,
          "Y": 3.5121290171718176
         },
         {
          "Outlier": "\"Inferred\"",
          "X": -3.9652539262684705,
          "Y": 7.6403003562997105
         },
         {
          "Outlier": "\"Inferred\"",
          "X": -4.430199330058449,
          "Y": 9.209546993621395
         },
         {
          "Outlier": "\"Inferred\"",
          "X": -4.334438583579075,
          "Y": 11.249827213896296
         },
         {
          "Outlier": "\"Inferred\"",
          "X": -0.5727445394846633,
          "Y": 9.99518327507299
         },
         {
          "Outlier": "\"Inferred\"",
          "X": 1.0643805305017426,
          "Y": 14.050378664607212
         },
         {
          "Outlier": "\"Inferred\"",
          "X": -0.7440546176493747,
          "Y": 12.471971282229795
         },
         {
          "Outlier": "\"Inferred\"",
          "X": -3.570602316347743,
          "Y": 13.14288607196317
         },
         {
          "Outlier": "\"Inferred\"",
          "X": -3.956830215595157,
          "Y": 15.086824437844113
         },
         {
          "Outlier": "\"Inferred\"",
          "X": -2.138066530007651,
          "Y": 15.019393771615972
         },
         {
          "Outlier": "\"Inferred\"",
          "X": -2.251827618278055,
          "Y": 16.599997447118817
         },
         {
          "Outlier": "\"Inferred\"",
          "X": -2.807644848369149,
          "Y": 17.713657955044997
         },
         {
          "Outlier": "\"Inferred\"",
          "X": -2.3880869982680184,
          "Y": 18.404602812375092
         },
         {
          "Outlier": "\"Inferred\"",
          "X": -0.29449740199469937,
          "Y": 16.928291478923846
         },
         {
          "Outlier": "\"Inferred\"",
          "X": 1.244171395384246,
          "Y": 16.47484686050343
         },
         {
          "Outlier": "\"Inferred\"",
          "X": 3.9518076151899755,
          "Y": 19.73464688050008
         },
         {
          "Outlier": "\"Inferred\"",
          "X": -1.3345880833297998,
          "Y": 19.15984864007499
         },
         {
          "Outlier": "\"Inferred\"",
          "X": 1.851358566281288,
          "Y": 19.569533477050037
         },
         {
          "Outlier": "\"Inferred\"",
          "X": 3.2595422980566173,
          "Y": 21.77707726028481
         },
         {
          "Outlier": "\"Inferred\"",
          "X": 2.1753162637409944,
          "Y": 20.36642507441463
         },
         {
          "Outlier": "\"Inferred\"",
          "X": 0.4506526434133333,
          "Y": 21.382441740611412
         },
         {
          "Outlier": "\"Inferred\"",
          "X": 0.8120285551502904,
          "Y": 19.60115189025198
         },
         {
          "Outlier": "\"Inferred\"",
          "X": 1.6569642522016306,
          "Y": 18.502678951265597
         },
         {
          "Outlier": "\"Inferred\"",
          "X": -0.444739473560524,
          "Y": 18.230643631942463
         },
         {
          "Outlier": "\"Inferred\"",
          "X": 1.6428136814474865,
          "Y": 19.94364845612486
         },
         {
          "Outlier": "\"Inferred\"",
          "X": 2.258750276587056,
          "Y": 19.475989364585477
         },
         {
          "Outlier": "\"Inferred\"",
          "X": 2.5157590779198262,
          "Y": 18.86084677527472
         },
         {
          "Outlier": "\"Inferred\"",
          "X": 4.884335772421402,
          "Y": 17.59800563446385
         },
         {
          "Outlier": "\"Inferred\"",
          "X": 7.607637679832416,
          "Y": 19.01684124911639
         },
         {
          "Outlier": "\"Inferred\"",
          "X": 6.508890765203282,
          "Y": 20.60607402273017
         },
         {
          "Outlier": "\"Inferred\"",
          "X": 8.531730182825378,
          "Y": 19.829041833452212
         },
         {
          "Outlier": "\"Inferred\"",
          "X": 6.619085397128721,
          "Y": 23.500281525318293
         },
         {
          "Outlier": "\"Inferred\"",
          "X": 8.806591103428428,
          "Y": 24.19951174991294
         },
         {
          "Outlier": "\"Inferred\"",
          "X": 9.724641251921597,
          "Y": 22.263368355154693
         },
         {
          "Outlier": "\"Inferred\"",
          "X": 14.240500415544096,
          "Y": 23.5421576653696
         },
         {
          "Outlier": "\"Inferred\"",
          "X": 13.740510054880344,
          "Y": 24.749434804388567
         },
         {
          "Outlier": "\"Inferred\"",
          "X": 15.82453668680294,
          "Y": 22.99446121042568
         },
         {
          "Outlier": "\"Inferred\"",
          "X": 16.271307864335235,
          "Y": 24.848536831378613
         },
         {
          "Outlier": "\"Inferred\"",
          "X": 16.11229592823138,
          "Y": 24.028128546138433
         },
         {
          "Outlier": "\"Inferred\"",
          "X": 17.307687674050023,
          "Y": 26.131856130319765
         },
         {
          "Outlier": "\"Inferred\"",
          "X": 18.145073171599925,
          "Y": 25.214412494206062
         },
         {
          "Outlier": "\"Inferred\"",
          "X": 18.80746348595955,
          "Y": 26.782157503182134
         },
         {
          "Outlier": "\"Inferred\"",
          "X": 17.94034588281265,
          "Y": 27.308712855207055
         },
         {
          "Outlier": "\"Inferred\"",
          "X": 15.684938884355352,
          "Y": 26.582610386534874
         },
         {
          "Outlier": "\"Inferred\"",
          "X": 17.654360676028695,
          "Y": 26.941097901171883
         },
         {
          "Outlier": "\"Inferred\"",
          "X": 15.36205274392794,
          "Y": 25.17843264221973
         },
         {
          "Outlier": "\"Inferred\"",
          "X": 17.251704769144215,
          "Y": 25.35060661316931
         },
         {
          "Outlier": "\"Inferred\"",
          "X": 18.273625717291107,
          "Y": 29.18299184548813
         },
         {
          "Outlier": "\"Inferred\"",
          "X": 17.696592064067936,
          "Y": 28.93925165591833
         },
         {
          "Outlier": "\"Inferred\"",
          "X": 18.445902049378006,
          "Y": 30.87595240693941
         },
         {
          "Outlier": "\"Inferred\"",
          "X": 15.828383103875437,
          "Y": 32.51652086577314
         },
         {
          "Outlier": "\"Inferred\"",
          "X": 18.026551627915932,
          "Y": 35.57517785422122
         },
         {
          "Outlier": "\"Inferred\"",
          "X": 19.898148418701922,
          "Y": 32.08775202103365
         },
         {
          "Outlier": "\"Inferred\"",
          "X": 18.070144825532253,
          "Y": 34.79111427614206
         },
         {
          "Outlier": "\"Inferred\"",
          "X": 21.694713560512746,
          "Y": 36.77195130476913
         },
         {
          "Outlier": "\"Inferred\"",
          "X": 23.76558700646221,
          "Y": 37.553516690591735
         },
         {
          "Outlier": "\"Inferred\"",
          "X": 22.24762486746468,
          "Y": 39.0228360285859
         },
         {
          "Outlier": "\"Inferred\"",
          "X": 23.00439999703433,
          "Y": 37.78984862853283
         },
         {
          "Outlier": "\"Inferred\"",
          "X": 22.95038382612562,
          "Y": 38.84878944607566
         },
         {
          "Outlier": "\"Inferred\"",
          "X": 25.554540237416848,
          "Y": 38.70924246881371
         },
         {
          "Outlier": "\"Inferred\"",
          "X": 29.803578041638847,
          "Y": 42.952499908143174
         },
         {
          "Outlier": "\"Inferred\"",
          "X": 30.543565562522414,
          "Y": 42.78784706570976
         },
         {
          "Outlier": "\"Inferred\"",
          "X": 30.825736499878477,
          "Y": 40.16842235466758
         },
         {
          "Outlier": "\"Inferred\"",
          "X": 31.57218258555324,
          "Y": 41.8726139497357
         },
         {
          "Outlier": "\"Inferred\"",
          "X": 27.835465652019394,
          "Y": 42.47435723185818
         },
         {
          "Outlier": "\"Inferred\"",
          "X": 31.997644888165258,
          "Y": 45.40356454909638
         },
         {
          "Outlier": "\"Inferred\"",
          "X": 33.447020849353365,
          "Y": 42.465523608807395
         },
         {
          "Outlier": "\"Inferred\"",
          "X": 34.802205760618946,
          "Y": 44.22355501893415
         },
         {
          "Outlier": "\"Inferred\"",
          "X": 36.455468856913946,
          "Y": 42.420507589381394
         },
         {
          "Outlier": "\"Inferred\"",
          "X": 34.42326623840902,
          "Y": 45.766294230922256
         },
         {
          "Outlier": "\"Inferred\"",
          "X": 39.401412562846126,
          "Y": 42.49775759727786
         },
         {
          "Outlier": "\"Inferred\"",
          "X": 37.2422907354705,
          "Y": 44.33938683208916
         },
         {
          "Outlier": "\"Inferred\"",
          "X": 39.352918615073186,
          "Y": 40.35145235945814
         },
         {
          "Outlier": "\"Inferred\"",
          "X": 40.959497666913144,
          "Y": 42.45669390735901
         },
         {
          "Outlier": "\"Inferred\"",
          "X": 41.827089869341805,
          "Y": 42.03120317424873
         },
         {
          "Outlier": "\"Inferred\"",
          "X": 40.812194616690306,
          "Y": 40.76300528271895
         },
         {
          "Outlier": "\"Inferred\"",
          "X": 41.4057764007092,
          "Y": 43.919651081300145
         },
         {
          "Outlier": "\"Inferred\"",
          "X": -1.0577120685363202,
          "Y": 1.3311665130021177
         },
         {
          "Outlier": "\"Inferred\"",
          "X": 0.5187449111042508,
          "Y": 1.384208569791998
         },
         {
          "Outlier": "\"Inferred\"",
          "X": -0.8359699315815046,
          "Y": 3.1539853357405616
         },
         {
          "Outlier": "\"Inferred\"",
          "X": -2.1877453858545657,
          "Y": 2.595384784475209
         },
         {
          "Outlier": "\"Inferred\"",
          "X": -0.16867700137480535,
          "Y": 0.27496446623764914
         },
         {
          "Outlier": "\"Inferred\"",
          "X": -0.7511427590794194,
          "Y": 1.203915831753831
         },
         {
          "Outlier": "\"Inferred\"",
          "X": -1.1304340030603823,
          "Y": 4.406806799725376
         },
         {
          "Outlier": "\"Inferred\"",
          "X": -1.2824700743677044,
          "Y": 3.6654619962530113
         },
         {
          "Outlier": "\"Inferred\"",
          "X": 0.3816187637329622,
          "Y": 3.682189844040436
         },
         {
          "Outlier": "\"Inferred\"",
          "X": 3.1803081944671736,
          "Y": 3.1356646766729415
         },
         {
          "Outlier": "\"Inferred\"",
          "X": -1.0218461160080148,
          "Y": 6.4487650815174815
         },
         {
          "Outlier": "\"Inferred\"",
          "X": 2.0550636462783096,
          "Y": 8.026978886181793
         },
         {
          "Outlier": "\"Inferred\"",
          "X": 2.4799407067423567,
          "Y": 5.108922045454836
         },
         {
          "Outlier": "\"Inferred\"",
          "X": -0.144439876733776,
          "Y": 5.719658548828151
         },
         {
          "Outlier": "\"Inferred\"",
          "X": 2.603480338964233,
          "Y": 5.9952585247952115
         },
         {
          "Outlier": "\"Inferred\"",
          "X": 2.425993594751608,
          "Y": 8.82052976920178
         },
         {
          "Outlier": "\"Inferred\"",
          "X": 2.7929141242720594,
          "Y": 6.161335737699147
         },
         {
          "Outlier": "\"Inferred\"",
          "X": -0.18996085901325044,
          "Y": 10.101337189955292
         },
         {
          "Outlier": "\"Inferred\"",
          "X": 2.286847344578952,
          "Y": 4.2522597981104555
         },
         {
          "Outlier": "\"Inferred\"",
          "X": -0.298956939905914,
          "Y": 6.593708007693254
         },
         {
          "Outlier": "\"Inferred\"",
          "X": -4.4879558951472,
          "Y": 5.6877756414625935
         },
         {
          "Outlier": "\"Inferred\"",
          "X": 0.43628931097410006,
          "Y": 4.819960990524554
         },
         {
          "Outlier": "\"Inferred\"",
          "X": -1.113313347016728,
          "Y": 5.377757029485098
         },
         {
          "Outlier": "\"Inferred\"",
          "X": -4.51527249669266,
          "Y": 7.607270719967191
         },
         {
          "Outlier": "\"Inferred\"",
          "X": -1.8755501857814487,
          "Y": 6.680325173978792
         },
         {
          "Outlier": "\"Inferred\"",
          "X": -6.108483617177275,
          "Y": 9.637292221436681
         },
         {
          "Outlier": "\"Inferred\"",
          "X": -0.7919986187233876,
          "Y": 10.717416115569515
         },
         {
          "Outlier": "\"Inferred\"",
          "X": -4.008899061413354,
          "Y": 11.77891834259643
         },
         {
          "Outlier": "\"Inferred\"",
          "X": 0.8567806308552346,
          "Y": 11.48212333406595
         },
         {
          "Outlier": "\"Inferred\"",
          "X": -2.7808077934449096,
          "Y": 16.203920676865735
         },
         {
          "Outlier": "\"Inferred\"",
          "X": -2.790169292406911,
          "Y": 12.439620502800627
         },
         {
          "Outlier": "\"Inferred\"",
          "X": -3.162639727174056,
          "Y": 17.436158191648186
         },
         {
          "Outlier": "\"Inferred\"",
          "X": -0.19800419024179106,
          "Y": 17.874734640072226
         },
         {
          "Outlier": "\"Inferred\"",
          "X": -2.4622093201269593,
          "Y": 15.043593199712015
         },
         {
          "Outlier": "\"Inferred\"",
          "X": -0.4902367653553015,
          "Y": 18.15596169122994
         },
         {
          "Outlier": "\"Inferred\"",
          "X": -0.5771821492966264,
          "Y": 19.069088651918737
         },
         {
          "Outlier": "\"Inferred\"",
          "X": -2.4529956620604443,
          "Y": 16.138600560176634
         },
         {
          "Outlier": "\"Inferred\"",
          "X": -0.31711655228100566,
          "Y": 16.529381578443672
         },
         {
          "Outlier": "\"Inferred\"",
          "X": 2.9147634774627758,
          "Y": 17.505488938809545
         },
         {
          "Outlier": "\"Inferred\"",
          "X": 0.4210415116813455,
          "Y": 18.294541407582646
         },
         {
          "Outlier": "\"Inferred\"",
          "X": 0.028748890542095396,
          "Y": 18.463127857858186
         },
         {
          "Outlier": "\"Inferred\"",
          "X": 2.58743978654645,
          "Y": 19.724487198745404
         },
         {
          "Outlier": "\"Inferred\"",
          "X": 1.2807168495110504,
          "Y": 20.214851943043136
         },
         {
          "Outlier": "\"Inferred\"",
          "X": 3.826548267121339,
          "Y": 19.26799235459425
         },
         {
          "Outlier": "\"Inferred\"",
          "X": 0.7615776135460113,
          "Y": 20.89095958034132
         },
         {
          "Outlier": "\"Inferred\"",
          "X": 2.708765870632674,
          "Y": 18.48019230647683
         },
         {
          "Outlier": "\"Inferred\"",
          "X": 3.983072642915391,
          "Y": 18.48824404400035
         },
         {
          "Outlier": "\"Inferred\"",
          "X": 4.264499139133712,
          "Y": 17.516447230521262
         },
         {
          "Outlier": "\"Inferred\"",
          "X": 2.318367144680507,
          "Y": 19.292063841044808
         },
         {
          "Outlier": "\"Inferred\"",
          "X": 3.1270204855206547,
          "Y": 17.745129397297294
         },
         {
          "Outlier": "\"Inferred\"",
          "X": 5.981227099521574,
          "Y": 17.672442397964666
         },
         {
          "Outlier": "\"Inferred\"",
          "X": 5.720861144134063,
          "Y": 17.733471771053683
         },
         {
          "Outlier": "\"Inferred\"",
          "X": 6.923525507735202,
          "Y": 17.58612711597998
         },
         {
          "Outlier": "\"Inferred\"",
          "X": 8.337062382474613,
          "Y": 19.543848901061807
         },
         {
          "Outlier": "\"Inferred\"",
          "X": 7.763960784441056,
          "Y": 23.668871468212995
         },
         {
          "Outlier": "\"Inferred\"",
          "X": 12.71005679713761,
          "Y": 24.222749467787317
         },
         {
          "Outlier": "\"Inferred\"",
          "X": 7.1499581304902495,
          "Y": 20.744426979066727
         },
         {
          "Outlier": "\"Inferred\"",
          "X": 10.844107807014261,
          "Y": 23.044385800451227
         },
         {
          "Outlier": "\"Inferred\"",
          "X": 12.898805673106688,
          "Y": 24.53555274141373
         },
         {
          "Outlier": "\"Inferred\"",
          "X": 12.526956318051237,
          "Y": 25.765752015369014
         },
         {
          "Outlier": "\"Inferred\"",
          "X": 15.462852677427808,
          "Y": 21.4670859828413
         },
         {
          "Outlier": "\"Inferred\"",
          "X": 19.756353103197124,
          "Y": 24.35978754940284
         },
         {
          "Outlier": "\"Inferred\"",
          "X": 16.99720242199732,
          "Y": 22.76253334614677
         },
         {
          "Outlier": "\"Inferred\"",
          "X": 19.38588729763539,
          "Y": 24.90905600908993
         },
         {
          "Outlier": "\"Inferred\"",
          "X": 15.615477942117195,
          "Y": 23.608193298726903
         },
         {
          "Outlier": "\"Inferred\"",
          "X": 18.273417215794563,
          "Y": 25.73905850905275
         },
         {
          "Outlier": "\"Inferred\"",
          "X": 13.622607743052365,
          "Y": 26.162823038363303
         },
         {
          "Outlier": "\"Inferred\"",
          "X": 16.523178284186244,
          "Y": 27.94540983904185
         },
         {
          "Outlier": "\"Inferred\"",
          "X": 17.388254668569946,
          "Y": 27.67509920425639
         },
         {
          "Outlier": "\"Inferred\"",
          "X": 19.36869565161414,
          "Y": 27.441794784982775
         },
         {
          "Outlier": "\"Inferred\"",
          "X": 18.907748642263023,
          "Y": 29.499550530460333
         },
         {
          "Outlier": "\"Inferred\"",
          "X": 17.91416322630905,
          "Y": 27.908333560049382
         },
         {
          "Outlier": "\"Inferred\"",
          "X": 17.890496023434324,
          "Y": 28.611702897626806
         },
         {
          "Outlier": "\"Inferred\"",
          "X": 18.454601089301,
          "Y": 31.522502589009445
         },
         {
          "Outlier": "\"Inferred\"",
          "X": 16.378671179102206,
          "Y": 32.95833125023815
         },
         {
          "Outlier": "\"Inferred\"",
          "X": 18.849836408770486,
          "Y": 34.52645975627013
         },
         {
          "Outlier": "\"Inferred\"",
          "X": 20.02021023691536,
          "Y": 34.91915269987759
         },
         {
          "Outlier": "\"Inferred\"",
          "X": 21.347170166260835,
          "Y": 34.14441716412282
         },
         {
          "Outlier": "\"Inferred\"",
          "X": 18.56550465750003,
          "Y": 34.702431690422635
         },
         {
          "Outlier": "\"Inferred\"",
          "X": 22.474190063733488,
          "Y": 38.83221615149235
         },
         {
          "Outlier": "\"Inferred\"",
          "X": 25.168441658863667,
          "Y": 38.546503787322926
         },
         {
          "Outlier": "\"Inferred\"",
          "X": 23.01087067660463,
          "Y": 40.424548051288
         },
         {
          "Outlier": "\"Inferred\"",
          "X": 28.81177721862783,
          "Y": 42.3167171372007
         },
         {
          "Outlier": "\"Inferred\"",
          "X": 29.397245400889275,
          "Y": 40.93426828266963
         },
         {
          "Outlier": "\"Inferred\"",
          "X": 28.887571260591407,
          "Y": 44.503925481706986
         },
         {
          "Outlier": "\"Inferred\"",
          "X": 31.323106548382974,
          "Y": 41.155965981858444
         },
         {
          "Outlier": "\"Inferred\"",
          "X": 29.34775975146809,
          "Y": 41.62808774115799
         },
         {
          "Outlier": "\"Inferred\"",
          "X": 31.03167539233238,
          "Y": 43.07403234742165
         },
         {
          "Outlier": "\"Inferred\"",
          "X": 31.7655182044447,
          "Y": 44.86618919573421
         },
         {
          "Outlier": "\"Inferred\"",
          "X": 30.420530905132765,
          "Y": 42.45015768433053
         },
         {
          "Outlier": "\"Inferred\"",
          "X": 31.703782359114168,
          "Y": 41.545391866723286
         },
         {
          "Outlier": "\"Inferred\"",
          "X": 33.93332508228344,
          "Y": 43.734765373375126
         },
         {
          "Outlier": "\"Inferred\"",
          "X": 33.46279408427724,
          "Y": 47.44006662072649
         },
         {
          "Outlier": "\"Inferred\"",
          "X": 38.51995996183792,
          "Y": 43.402105719494394
         },
         {
          "Outlier": "\"Inferred\"",
          "X": 38.60474932400775,
          "Y": 37.10111974517052
         },
         {
          "Outlier": "\"Inferred\"",
          "X": 41.74421525745765,
          "Y": 38.856735111126845
         },
         {
          "Outlier": "\"Inferred\"",
          "X": 39.90445467729755,
          "Y": 40.71057356965601
         },
         {
          "Outlier": "\"Inferred\"",
          "X": 42.409081244785334,
          "Y": 42.481208537576705
         },
         {
          "Outlier": "\"Inferred\"",
          "X": 41.553162436729956,
          "Y": 42.39988226093372
         },
         {
          "Outlier": "\"Inferred\"",
          "X": 38.515662121407054,
          "Y": 42.165852318328476
         },
         {
          "Outlier": "\"Inferred\"",
          "X": -1.0577120685363202,
          "Y": 1.3311665130021177
         },
         {
          "Outlier": "\"Inferred\"",
          "X": 0.5187449111042508,
          "Y": 1.384208569791998
         },
         {
          "Outlier": "\"Inferred\"",
          "X": -0.8359699315815046,
          "Y": 3.1539853357405616
         },
         {
          "Outlier": "\"Inferred\"",
          "X": -2.1877453858545657,
          "Y": 2.595384784475209
         },
         {
          "Outlier": "\"Inferred\"",
          "X": -0.16867700137480535,
          "Y": 0.27496446623764914
         },
         {
          "Outlier": "\"Inferred\"",
          "X": -0.7511427590794194,
          "Y": 1.203915831753831
         },
         {
          "Outlier": "\"Inferred\"",
          "X": -1.1304340030603823,
          "Y": 4.406806799725376
         },
         {
          "Outlier": "\"Inferred\"",
          "X": -1.2824700743677044,
          "Y": 3.6654619962530113
         },
         {
          "Outlier": "\"Inferred\"",
          "X": 0.3816187637329622,
          "Y": 3.682189844040436
         },
         {
          "Outlier": "\"Inferred\"",
          "X": 3.1803081944671736,
          "Y": 3.1356646766729415
         },
         {
          "Outlier": "\"Inferred\"",
          "X": -1.0218461160080148,
          "Y": 6.4487650815174815
         },
         {
          "Outlier": "\"Inferred\"",
          "X": 2.0550636462783096,
          "Y": 8.026978886181793
         },
         {
          "Outlier": "\"Inferred\"",
          "X": 2.4799407067423567,
          "Y": 5.108922045454836
         },
         {
          "Outlier": "\"Inferred\"",
          "X": -0.144439876733776,
          "Y": 5.719658548828151
         },
         {
          "Outlier": "\"Inferred\"",
          "X": 2.603480338964233,
          "Y": 5.9952585247952115
         },
         {
          "Outlier": "\"Inferred\"",
          "X": 2.425993594751608,
          "Y": 8.82052976920178
         },
         {
          "Outlier": "\"Inferred\"",
          "X": 2.7929141242720594,
          "Y": 6.161335737699147
         },
         {
          "Outlier": "\"Inferred\"",
          "X": -0.18996085901325044,
          "Y": 10.101337189955292
         },
         {
          "Outlier": "\"Inferred\"",
          "X": 2.286847344578952,
          "Y": 4.2522597981104555
         },
         {
          "Outlier": "\"Inferred\"",
          "X": -0.298956939905914,
          "Y": 6.593708007693254
         },
         {
          "Outlier": "\"Inferred\"",
          "X": -4.4879558951472,
          "Y": 5.6877756414625935
         },
         {
          "Outlier": "\"Inferred\"",
          "X": 0.43628931097410006,
          "Y": 4.819960990524554
         },
         {
          "Outlier": "\"Inferred\"",
          "X": -1.113313347016728,
          "Y": 5.377757029485098
         },
         {
          "Outlier": "\"Inferred\"",
          "X": -4.51527249669266,
          "Y": 7.607270719967191
         },
         {
          "Outlier": "\"Inferred\"",
          "X": -1.8755501857814487,
          "Y": 6.680325173978792
         },
         {
          "Outlier": "\"Inferred\"",
          "X": -6.108483617177275,
          "Y": 9.637292221436681
         },
         {
          "Outlier": "\"Inferred\"",
          "X": -0.7919986187233876,
          "Y": 10.717416115569515
         },
         {
          "Outlier": "\"Inferred\"",
          "X": -4.008899061413354,
          "Y": 11.77891834259643
         },
         {
          "Outlier": "\"Inferred\"",
          "X": 0.8567806308552346,
          "Y": 11.48212333406595
         },
         {
          "Outlier": "\"Inferred\"",
          "X": -2.7808077934449096,
          "Y": 16.203920676865735
         },
         {
          "Outlier": "\"Inferred\"",
          "X": -2.790169292406911,
          "Y": 12.439620502800627
         },
         {
          "Outlier": "\"Inferred\"",
          "X": -3.162639727174056,
          "Y": 17.436158191648186
         },
         {
          "Outlier": "\"Inferred\"",
          "X": -0.19800419024179106,
          "Y": 17.874734640072226
         },
         {
          "Outlier": "\"Inferred\"",
          "X": -2.4622093201269593,
          "Y": 15.043593199712015
         },
         {
          "Outlier": "\"Inferred\"",
          "X": -0.4902367653553015,
          "Y": 18.15596169122994
         },
         {
          "Outlier": "\"Inferred\"",
          "X": -0.5771821492966264,
          "Y": 19.069088651918737
         },
         {
          "Outlier": "\"Inferred\"",
          "X": -2.4529956620604443,
          "Y": 16.138600560176634
         },
         {
          "Outlier": "\"Inferred\"",
          "X": -0.31711655228100566,
          "Y": 16.529381578443672
         },
         {
          "Outlier": "\"Inferred\"",
          "X": 2.9147634774627758,
          "Y": 17.505488938809545
         },
         {
          "Outlier": "\"Inferred\"",
          "X": 0.4210415116813455,
          "Y": 18.294541407582646
         },
         {
          "Outlier": "\"Inferred\"",
          "X": 0.028748890542095396,
          "Y": 18.463127857858186
         },
         {
          "Outlier": "\"Inferred\"",
          "X": 2.58743978654645,
          "Y": 19.724487198745404
         },
         {
          "Outlier": "\"Inferred\"",
          "X": 1.2807168495110504,
          "Y": 20.214851943043136
         },
         {
          "Outlier": "\"Inferred\"",
          "X": 3.826548267121339,
          "Y": 19.26799235459425
         },
         {
          "Outlier": "\"Inferred\"",
          "X": 0.7615776135460113,
          "Y": 20.89095958034132
         },
         {
          "Outlier": "\"Inferred\"",
          "X": 2.708765870632674,
          "Y": 18.48019230647683
         },
         {
          "Outlier": "\"Inferred\"",
          "X": 3.983072642915391,
          "Y": 18.48824404400035
         },
         {
          "Outlier": "\"Inferred\"",
          "X": 4.264499139133712,
          "Y": 17.516447230521262
         },
         {
          "Outlier": "\"Inferred\"",
          "X": 2.318367144680507,
          "Y": 19.292063841044808
         },
         {
          "Outlier": "\"Inferred\"",
          "X": 3.1270204855206547,
          "Y": 17.745129397297294
         },
         {
          "Outlier": "\"Inferred\"",
          "X": 5.981227099521574,
          "Y": 17.672442397964666
         },
         {
          "Outlier": "\"Inferred\"",
          "X": 5.720861144134063,
          "Y": 17.733471771053683
         },
         {
          "Outlier": "\"Inferred\"",
          "X": 6.923525507735202,
          "Y": 17.58612711597998
         },
         {
          "Outlier": "\"Inferred\"",
          "X": 8.337062382474613,
          "Y": 19.543848901061807
         },
         {
          "Outlier": "\"Inferred\"",
          "X": 7.763960784441056,
          "Y": 23.668871468212995
         },
         {
          "Outlier": "\"Inferred\"",
          "X": 12.71005679713761,
          "Y": 24.222749467787317
         },
         {
          "Outlier": "\"Inferred\"",
          "X": 7.1499581304902495,
          "Y": 20.744426979066727
         },
         {
          "Outlier": "\"Inferred\"",
          "X": 10.844107807014261,
          "Y": 23.044385800451227
         },
         {
          "Outlier": "\"Inferred\"",
          "X": 12.898805673106688,
          "Y": 24.53555274141373
         },
         {
          "Outlier": "\"Inferred\"",
          "X": 12.526956318051237,
          "Y": 25.765752015369014
         },
         {
          "Outlier": "\"Inferred\"",
          "X": 15.462852677427808,
          "Y": 21.4670859828413
         },
         {
          "Outlier": "\"Inferred\"",
          "X": 19.756353103197124,
          "Y": 24.35978754940284
         },
         {
          "Outlier": "\"Inferred\"",
          "X": 16.99720242199732,
          "Y": 22.76253334614677
         },
         {
          "Outlier": "\"Inferred\"",
          "X": 19.38588729763539,
          "Y": 24.90905600908993
         },
         {
          "Outlier": "\"Inferred\"",
          "X": 15.615477942117195,
          "Y": 23.608193298726903
         },
         {
          "Outlier": "\"Inferred\"",
          "X": 18.273417215794563,
          "Y": 25.73905850905275
         },
         {
          "Outlier": "\"Inferred\"",
          "X": 13.622607743052365,
          "Y": 26.162823038363303
         },
         {
          "Outlier": "\"Inferred\"",
          "X": 16.523178284186244,
          "Y": 27.94540983904185
         },
         {
          "Outlier": "\"Inferred\"",
          "X": 17.388254668569946,
          "Y": 27.67509920425639
         },
         {
          "Outlier": "\"Inferred\"",
          "X": 19.36869565161414,
          "Y": 27.441794784982775
         },
         {
          "Outlier": "\"Inferred\"",
          "X": 18.907748642263023,
          "Y": 29.499550530460333
         },
         {
          "Outlier": "\"Inferred\"",
          "X": 17.91416322630905,
          "Y": 27.908333560049382
         },
         {
          "Outlier": "\"Inferred\"",
          "X": 17.890496023434324,
          "Y": 28.611702897626806
         },
         {
          "Outlier": "\"Inferred\"",
          "X": 18.454601089301,
          "Y": 31.522502589009445
         },
         {
          "Outlier": "\"Inferred\"",
          "X": 16.378671179102206,
          "Y": 32.95833125023815
         },
         {
          "Outlier": "\"Inferred\"",
          "X": 18.849836408770486,
          "Y": 34.52645975627013
         },
         {
          "Outlier": "\"Inferred\"",
          "X": 20.02021023691536,
          "Y": 34.91915269987759
         },
         {
          "Outlier": "\"Inferred\"",
          "X": 21.347170166260835,
          "Y": 34.14441716412282
         },
         {
          "Outlier": "\"Inferred\"",
          "X": 18.56550465750003,
          "Y": 34.702431690422635
         },
         {
          "Outlier": "\"Inferred\"",
          "X": 22.474190063733488,
          "Y": 38.83221615149235
         },
         {
          "Outlier": "\"Inferred\"",
          "X": 25.168441658863667,
          "Y": 38.546503787322926
         },
         {
          "Outlier": "\"Inferred\"",
          "X": 23.01087067660463,
          "Y": 40.424548051288
         },
         {
          "Outlier": "\"Inferred\"",
          "X": 28.81177721862783,
          "Y": 42.3167171372007
         },
         {
          "Outlier": "\"Inferred\"",
          "X": 29.397245400889275,
          "Y": 40.93426828266963
         },
         {
          "Outlier": "\"Inferred\"",
          "X": 28.887571260591407,
          "Y": 44.503925481706986
         },
         {
          "Outlier": "\"Inferred\"",
          "X": 31.323106548382974,
          "Y": 41.155965981858444
         },
         {
          "Outlier": "\"Inferred\"",
          "X": 29.34775975146809,
          "Y": 41.62808774115799
         },
         {
          "Outlier": "\"Inferred\"",
          "X": 31.03167539233238,
          "Y": 43.07403234742165
         },
         {
          "Outlier": "\"Inferred\"",
          "X": 31.7655182044447,
          "Y": 44.86618919573421
         },
         {
          "Outlier": "\"Inferred\"",
          "X": 30.420530905132765,
          "Y": 42.45015768433053
         },
         {
          "Outlier": "\"Inferred\"",
          "X": 31.703782359114168,
          "Y": 41.545391866723286
         },
         {
          "Outlier": "\"Inferred\"",
          "X": 33.93332508228344,
          "Y": 43.734765373375126
         },
         {
          "Outlier": "\"Inferred\"",
          "X": 33.46279408427724,
          "Y": 47.44006662072649
         },
         {
          "Outlier": "\"Inferred\"",
          "X": 38.51995996183792,
          "Y": 43.402105719494394
         },
         {
          "Outlier": "\"Inferred\"",
          "X": 38.75889054074411,
          "Y": 42.077285350462105
         },
         {
          "Outlier": "\"Inferred\"",
          "X": 39.40215676374354,
          "Y": 40.91324826100149
         },
         {
          "Outlier": "\"Inferred\"",
          "X": 39.46003100709703,
          "Y": 38.89925611044909
         },
         {
          "Outlier": "\"Inferred\"",
          "X": 40.5112074680253,
          "Y": 40.149243623884644
         },
         {
          "Outlier": "\"Inferred\"",
          "X": 40.40208833581473,
          "Y": 43.468687038413385
         },
         {
          "Outlier": "\"Inferred\"",
          "X": 39.165484352458506,
          "Y": 43.38880882395359
         },
         {
          "Outlier": "\"Inferred\"",
          "X": -1.0577120685363202,
          "Y": 1.3311665130021177
         },
         {
          "Outlier": "\"Inferred\"",
          "X": 0.5187449111042508,
          "Y": 1.384208569791998
         },
         {
          "Outlier": "\"Inferred\"",
          "X": -0.8359699315815046,
          "Y": 3.1539853357405616
         },
         {
          "Outlier": "\"Inferred\"",
          "X": -2.1877453858545657,
          "Y": 2.595384784475209
         },
         {
          "Outlier": "\"Inferred\"",
          "X": -0.16867700137480535,
          "Y": 0.27496446623764914
         },
         {
          "Outlier": "\"Inferred\"",
          "X": -0.7511427590794194,
          "Y": 1.203915831753831
         },
         {
          "Outlier": "\"Inferred\"",
          "X": -1.1304340030603823,
          "Y": 4.406806799725376
         },
         {
          "Outlier": "\"Inferred\"",
          "X": -1.2824700743677044,
          "Y": 3.6654619962530113
         },
         {
          "Outlier": "\"Inferred\"",
          "X": 0.3816187637329622,
          "Y": 3.682189844040436
         },
         {
          "Outlier": "\"Inferred\"",
          "X": 3.1803081944671736,
          "Y": 3.1356646766729415
         },
         {
          "Outlier": "\"Inferred\"",
          "X": -1.0218461160080148,
          "Y": 6.4487650815174815
         },
         {
          "Outlier": "\"Inferred\"",
          "X": 2.0550636462783096,
          "Y": 8.026978886181793
         },
         {
          "Outlier": "\"Inferred\"",
          "X": 2.4799407067423567,
          "Y": 5.108922045454836
         },
         {
          "Outlier": "\"Inferred\"",
          "X": -0.144439876733776,
          "Y": 5.719658548828151
         },
         {
          "Outlier": "\"Inferred\"",
          "X": 2.603480338964233,
          "Y": 5.9952585247952115
         },
         {
          "Outlier": "\"Inferred\"",
          "X": 2.425993594751608,
          "Y": 8.82052976920178
         },
         {
          "Outlier": "\"Inferred\"",
          "X": 2.7929141242720594,
          "Y": 6.161335737699147
         },
         {
          "Outlier": "\"Inferred\"",
          "X": -0.18996085901325044,
          "Y": 10.101337189955292
         },
         {
          "Outlier": "\"Inferred\"",
          "X": 2.286847344578952,
          "Y": 4.2522597981104555
         },
         {
          "Outlier": "\"Inferred\"",
          "X": -0.298956939905914,
          "Y": 6.593708007693254
         },
         {
          "Outlier": "\"Inferred\"",
          "X": -4.4879558951472,
          "Y": 5.6877756414625935
         },
         {
          "Outlier": "\"Inferred\"",
          "X": 0.43628931097410006,
          "Y": 4.819960990524554
         },
         {
          "Outlier": "\"Inferred\"",
          "X": -1.113313347016728,
          "Y": 5.377757029485098
         },
         {
          "Outlier": "\"Inferred\"",
          "X": -4.51527249669266,
          "Y": 7.607270719967191
         },
         {
          "Outlier": "\"Inferred\"",
          "X": -1.8755501857814487,
          "Y": 6.680325173978792
         },
         {
          "Outlier": "\"Inferred\"",
          "X": -6.108483617177275,
          "Y": 9.637292221436681
         },
         {
          "Outlier": "\"Inferred\"",
          "X": -0.7919986187233876,
          "Y": 10.717416115569515
         },
         {
          "Outlier": "\"Inferred\"",
          "X": -4.008899061413354,
          "Y": 11.77891834259643
         },
         {
          "Outlier": "\"Inferred\"",
          "X": 0.8567806308552346,
          "Y": 11.48212333406595
         },
         {
          "Outlier": "\"Inferred\"",
          "X": -2.7808077934449096,
          "Y": 16.203920676865735
         },
         {
          "Outlier": "\"Inferred\"",
          "X": -2.790169292406911,
          "Y": 12.439620502800627
         },
         {
          "Outlier": "\"Inferred\"",
          "X": -3.162639727174056,
          "Y": 17.436158191648186
         },
         {
          "Outlier": "\"Inferred\"",
          "X": -0.19800419024179106,
          "Y": 17.874734640072226
         },
         {
          "Outlier": "\"Inferred\"",
          "X": -2.4622093201269593,
          "Y": 15.043593199712015
         },
         {
          "Outlier": "\"Inferred\"",
          "X": -0.4902367653553015,
          "Y": 18.15596169122994
         },
         {
          "Outlier": "\"Inferred\"",
          "X": -0.5771821492966264,
          "Y": 19.069088651918737
         },
         {
          "Outlier": "\"Inferred\"",
          "X": -2.4529956620604443,
          "Y": 16.138600560176634
         },
         {
          "Outlier": "\"Inferred\"",
          "X": -0.31711655228100566,
          "Y": 16.529381578443672
         },
         {
          "Outlier": "\"Inferred\"",
          "X": 2.9147634774627758,
          "Y": 17.505488938809545
         },
         {
          "Outlier": "\"Inferred\"",
          "X": 0.4210415116813455,
          "Y": 18.294541407582646
         },
         {
          "Outlier": "\"Inferred\"",
          "X": 0.028748890542095396,
          "Y": 18.463127857858186
         },
         {
          "Outlier": "\"Inferred\"",
          "X": 2.58743978654645,
          "Y": 19.724487198745404
         },
         {
          "Outlier": "\"Inferred\"",
          "X": 1.2807168495110504,
          "Y": 20.214851943043136
         },
         {
          "Outlier": "\"Inferred\"",
          "X": 3.826548267121339,
          "Y": 19.26799235459425
         },
         {
          "Outlier": "\"Inferred\"",
          "X": 0.7615776135460113,
          "Y": 20.89095958034132
         },
         {
          "Outlier": "\"Inferred\"",
          "X": 2.708765870632674,
          "Y": 18.48019230647683
         },
         {
          "Outlier": "\"Inferred\"",
          "X": 3.983072642915391,
          "Y": 18.48824404400035
         },
         {
          "Outlier": "\"Inferred\"",
          "X": 4.264499139133712,
          "Y": 17.516447230521262
         },
         {
          "Outlier": "\"Inferred\"",
          "X": 2.318367144680507,
          "Y": 19.292063841044808
         },
         {
          "Outlier": "\"Inferred\"",
          "X": 3.1270204855206547,
          "Y": 17.745129397297294
         },
         {
          "Outlier": "\"Inferred\"",
          "X": 5.981227099521574,
          "Y": 17.672442397964666
         },
         {
          "Outlier": "\"Inferred\"",
          "X": 5.720861144134063,
          "Y": 17.733471771053683
         },
         {
          "Outlier": "\"Inferred\"",
          "X": 6.923525507735202,
          "Y": 17.58612711597998
         },
         {
          "Outlier": "\"Inferred\"",
          "X": 8.337062382474613,
          "Y": 19.543848901061807
         },
         {
          "Outlier": "\"Inferred\"",
          "X": 7.763960784441056,
          "Y": 23.668871468212995
         },
         {
          "Outlier": "\"Inferred\"",
          "X": 12.71005679713761,
          "Y": 24.222749467787317
         },
         {
          "Outlier": "\"Inferred\"",
          "X": 7.1499581304902495,
          "Y": 20.744426979066727
         },
         {
          "Outlier": "\"Inferred\"",
          "X": 10.844107807014261,
          "Y": 23.044385800451227
         },
         {
          "Outlier": "\"Inferred\"",
          "X": 12.898805673106688,
          "Y": 24.53555274141373
         },
         {
          "Outlier": "\"Inferred\"",
          "X": 12.526956318051237,
          "Y": 25.765752015369014
         },
         {
          "Outlier": "\"Inferred\"",
          "X": 15.462852677427808,
          "Y": 21.4670859828413
         },
         {
          "Outlier": "\"Inferred\"",
          "X": 19.756353103197124,
          "Y": 24.35978754940284
         },
         {
          "Outlier": "\"Inferred\"",
          "X": 16.99720242199732,
          "Y": 22.76253334614677
         },
         {
          "Outlier": "\"Inferred\"",
          "X": 19.38588729763539,
          "Y": 24.90905600908993
         },
         {
          "Outlier": "\"Inferred\"",
          "X": 15.615477942117195,
          "Y": 23.608193298726903
         },
         {
          "Outlier": "\"Inferred\"",
          "X": 18.273417215794563,
          "Y": 25.73905850905275
         },
         {
          "Outlier": "\"Inferred\"",
          "X": 13.622607743052365,
          "Y": 26.162823038363303
         },
         {
          "Outlier": "\"Inferred\"",
          "X": 16.523178284186244,
          "Y": 27.94540983904185
         },
         {
          "Outlier": "\"Inferred\"",
          "X": 17.388254668569946,
          "Y": 27.67509920425639
         },
         {
          "Outlier": "\"Inferred\"",
          "X": 19.36869565161414,
          "Y": 27.441794784982775
         },
         {
          "Outlier": "\"Inferred\"",
          "X": 18.907748642263023,
          "Y": 29.499550530460333
         },
         {
          "Outlier": "\"Inferred\"",
          "X": 17.91416322630905,
          "Y": 27.908333560049382
         },
         {
          "Outlier": "\"Inferred\"",
          "X": 17.890496023434324,
          "Y": 28.611702897626806
         },
         {
          "Outlier": "\"Inferred\"",
          "X": 18.454601089301,
          "Y": 31.522502589009445
         },
         {
          "Outlier": "\"Inferred\"",
          "X": 16.378671179102206,
          "Y": 32.95833125023815
         },
         {
          "Outlier": "\"Inferred\"",
          "X": 18.849836408770486,
          "Y": 34.52645975627013
         },
         {
          "Outlier": "\"Inferred\"",
          "X": 20.02021023691536,
          "Y": 34.91915269987759
         },
         {
          "Outlier": "\"Inferred\"",
          "X": 21.347170166260835,
          "Y": 34.14441716412282
         },
         {
          "Outlier": "\"Inferred\"",
          "X": 18.56550465750003,
          "Y": 34.702431690422635
         },
         {
          "Outlier": "\"Inferred\"",
          "X": 22.474190063733488,
          "Y": 38.83221615149235
         },
         {
          "Outlier": "\"Inferred\"",
          "X": 25.168441658863667,
          "Y": 38.546503787322926
         },
         {
          "Outlier": "\"Inferred\"",
          "X": 23.01087067660463,
          "Y": 40.424548051288
         },
         {
          "Outlier": "\"Inferred\"",
          "X": 28.81177721862783,
          "Y": 42.3167171372007
         },
         {
          "Outlier": "\"Inferred\"",
          "X": 29.397245400889275,
          "Y": 40.93426828266963
         },
         {
          "Outlier": "\"Inferred\"",
          "X": 28.887571260591407,
          "Y": 44.503925481706986
         },
         {
          "Outlier": "\"Inferred\"",
          "X": 31.323106548382974,
          "Y": 41.155965981858444
         },
         {
          "Outlier": "\"Inferred\"",
          "X": 29.34775975146809,
          "Y": 41.62808774115799
         },
         {
          "Outlier": "\"Inferred\"",
          "X": 31.03167539233238,
          "Y": 43.07403234742165
         },
         {
          "Outlier": "\"Inferred\"",
          "X": 31.7655182044447,
          "Y": 44.86618919573421
         },
         {
          "Outlier": "\"Inferred\"",
          "X": 30.420530905132765,
          "Y": 42.45015768433053
         },
         {
          "Outlier": "\"Inferred\"",
          "X": 31.703782359114168,
          "Y": 41.545391866723286
         },
         {
          "Outlier": "\"Inferred\"",
          "X": 33.93332508228344,
          "Y": 43.734765373375126
         },
         {
          "Outlier": "\"Inferred\"",
          "X": 33.46279408427724,
          "Y": 47.44006662072649
         },
         {
          "Outlier": "\"Inferred\"",
          "X": 38.51995996183792,
          "Y": 43.402105719494394
         },
         {
          "Outlier": "\"Inferred\"",
          "X": 38.60474932400775,
          "Y": 37.10111974517052
         },
         {
          "Outlier": "\"Inferred\"",
          "X": 41.74421525745765,
          "Y": 38.856735111126845
         },
         {
          "Outlier": "\"Inferred\"",
          "X": 41.88641145043595,
          "Y": 38.74223874732897
         },
         {
          "Outlier": "\"Inferred\"",
          "X": 41.062377183150645,
          "Y": 39.13904459803488
         },
         {
          "Outlier": "\"Inferred\"",
          "X": 38.901666960716476,
          "Y": 39.059251074592495
         },
         {
          "Outlier": "\"Inferred\"",
          "X": 39.84510408356792,
          "Y": 44.80761536114031
         },
         {
          "Outlier": "\"Inferred\"",
          "X": -2.1015899966283627,
          "Y": 3.042912527270046
         },
         {
          "Outlier": "\"Inferred\"",
          "X": 0.6947848368433989,
          "Y": -1.3586684257777253
         },
         {
          "Outlier": "\"Inferred\"",
          "X": 0.30927306785771824,
          "Y": -2.0946356253957723
         },
         {
          "Outlier": "\"Inferred\"",
          "X": -1.1321496169939549,
          "Y": -0.18529387868266928
         },
         {
          "Outlier": "\"Inferred\"",
          "X": -0.30753341218775776,
          "Y": -1.3795196989883114
         },
         {
          "Outlier": "\"Inferred\"",
          "X": -0.5952785367961002,
          "Y": -0.6663904404418652
         },
         {
          "Outlier": "\"Inferred\"",
          "X": 0.21097555722819322,
          "Y": 2.979225527359512
         },
         {
          "Outlier": "\"Inferred\"",
          "X": 0.7844329766281688,
          "Y": 2.4254135936848407
         },
         {
          "Outlier": "\"Inferred\"",
          "X": 2.597787432055692,
          "Y": 2.023294119709038
         },
         {
          "Outlier": "\"Inferred\"",
          "X": 0.6430972640621567,
          "Y": 6.147280625156327
         },
         {
          "Outlier": "\"Inferred\"",
          "X": -0.11944832788405635,
          "Y": 7.402250477680855
         },
         {
          "Outlier": "\"Inferred\"",
          "X": 0.11659673771155821,
          "Y": 7.011821253584791
         },
         {
          "Outlier": "\"Inferred\"",
          "X": 2.4452779020257527,
          "Y": 4.061664122034725
         },
         {
          "Outlier": "\"Inferred\"",
          "X": 1.0171174575909532,
          "Y": 8.708968453826966
         },
         {
          "Outlier": "\"Inferred\"",
          "X": 2.945812980252066,
          "Y": 10.085682362360352
         },
         {
          "Outlier": "\"Inferred\"",
          "X": 1.5996129309347846,
          "Y": 7.588253022918414
         },
         {
          "Outlier": "\"Inferred\"",
          "X": 0.14963748114872133,
          "Y": 8.457912990385557
         },
         {
          "Outlier": "\"Inferred\"",
          "X": 0.5931043355535895,
          "Y": 7.777879134331259
         },
         {
          "Outlier": "\"Inferred\"",
          "X": 3.112227728214053,
          "Y": 3.1673775684607266
         },
         {
          "Outlier": "\"Inferred\"",
          "X": 1.6173601228308128,
          "Y": 6.408046562423369
         },
         {
          "Outlier": "\"Inferred\"",
          "X": -2.30784159017759,
          "Y": 4.628372600120545
         },
         {
          "Outlier": "\"Inferred\"",
          "X": 1.0617092950625395,
          "Y": 4.2790812484513125
         },
         {
          "Outlier": "\"Inferred\"",
          "X": -3.770477676846048,
          "Y": 4.6514531937758825
         },
         {
          "Outlier": "\"Inferred\"",
          "X": -2.924897119841773,
          "Y": 3.3857530351241567
         },
         {
          "Outlier": "\"Inferred\"",
          "X": -2.5933957123813838,
          "Y": 7.31792751702921
         },
         {
          "Outlier": "\"Inferred\"",
          "X": -1.882239496811256,
          "Y": 9.128063076847562
         },
         {
          "Outlier": "\"Inferred\"",
          "X": -4.837089325854729,
          "Y": 9.523245358829033
         },
         {
          "Outlier": "\"Inferred\"",
          "X": -4.0356238664005,
          "Y": 10.750704294488033
         },
         {
          "Outlier": "\"Inferred\"",
          "X": 0.019155736311947003,
          "Y": 11.851146715114428
         },
         {
          "Outlier": "\"Inferred\"",
          "X": 0.2258758387155072,
          "Y": 12.839684395099052
         },
         {
          "Outlier": "\"Inferred\"",
          "X": -2.2979175220125976,
          "Y": 12.015220246805605
         },
         {
          "Outlier": "\"Inferred\"",
          "X": 0.23610520989416933,
          "Y": 14.681097572656043
         },
         {
          "Outlier": "\"Inferred\"",
          "X": 1.190711149931689,
          "Y": 13.997210590146704
         },
         {
          "Outlier": "\"Inferred\"",
          "X": -1.9138358247491345,
          "Y": 16.159033365584627
         },
         {
          "Outlier": "\"Inferred\"",
          "X": -0.37126826411722025,
          "Y": 17.128079784773476
         },
         {
          "Outlier": "\"Inferred\"",
          "X": -0.5974893218192406,
          "Y": 19.631988214981977
         },
         {
          "Outlier": "\"Inferred\"",
          "X": -1.7503736333875053,
          "Y": 16.29379989491621
         },
         {
          "Outlier": "\"Inferred\"",
          "X": 1.3106161590067502,
          "Y": 14.977879709030423
         },
         {
          "Outlier": "\"Inferred\"",
          "X": 2.1567716213593147,
          "Y": 17.470990206800433
         },
         {
          "Outlier": "\"Inferred\"",
          "X": -0.666254336267776,
          "Y": 19.200910933723993
         },
         {
          "Outlier": "\"Inferred\"",
          "X": 0.2863781007910825,
          "Y": 16.81216757555585
         },
         {
          "Outlier": "\"Inferred\"",
          "X": 0.9802061133965296,
          "Y": 19.490423259725098
         },
         {
          "Outlier": "\"Inferred\"",
          "X": 0.8205279086770467,
          "Y": 18.787924816226106
         },
         {
          "Outlier": "\"Inferred\"",
          "X": 3.816799548096956,
          "Y": 19.416978822177143
         },
         {
          "Outlier": "\"Inferred\"",
          "X": 3.6911522545465694,
          "Y": 22.41262189284261
         },
         {
          "Outlier": "\"Inferred\"",
          "X": 1.5106605309170735,
          "Y": 19.488592012789546
         },
         {
          "Outlier": "\"Inferred\"",
          "X": 0.2671613046697452,
          "Y": 20.175516804603113
         },
         {
          "Outlier": "\"Inferred\"",
          "X": 4.829662061905805,
          "Y": 21.08834976130375
         },
         {
          "Outlier": "\"Inferred\"",
          "X": 1.064093326871172,
          "Y": 18.98310748079691
         },
         {
          "Outlier": "\"Inferred\"",
          "X": 3.9755208176916383,
          "Y": 19.357955639018964
         },
         {
          "Outlier": "\"Inferred\"",
          "X": 7.53356620876561,
          "Y": 18.84449745910482
         },
         {
          "Outlier": "\"Inferred\"",
          "X": 3.7851462900465,
          "Y": 19.27996546207181
         },
         {
          "Outlier": "\"Inferred\"",
          "X": 5.282599188243445,
          "Y": 20.933100536159756
         },
         {
          "Outlier": "\"Inferred\"",
          "X": 6.326406896564528,
          "Y": 21.925477186880116
         },
         {
          "Outlier": "\"Inferred\"",
          "X": 7.756456682946792,
          "Y": 23.01632376322803
         },
         {
          "Outlier": "\"Inferred\"",
          "X": 10.97921528291824,
          "Y": 20.95199459204172
         },
         {
          "Outlier": "\"Inferred\"",
          "X": 12.204790256847234,
          "Y": 22.337565784168287
         },
         {
          "Outlier": "\"Inferred\"",
          "X": 13.362014954289137,
          "Y": 22.775219521125173
         },
         {
          "Outlier": "\"Inferred\"",
          "X": 11.329167459541134,
          "Y": 23.723310698589568
         },
         {
          "Outlier": "\"Inferred\"",
          "X": 13.37523229899906,
          "Y": 24.26443829791318
         },
         {
          "Outlier": "\"Inferred\"",
          "X": 14.577705141273086,
          "Y": 23.1244771444776
         },
         {
          "Outlier": "\"Inferred\"",
          "X": 16.90710171028734,
          "Y": 24.258381074772924
         },
         {
          "Outlier": "\"Inferred\"",
          "X": 15.710267490271637,
          "Y": 23.38384762960494
         },
         {
          "Outlier": "\"Inferred\"",
          "X": 16.135394250534496,
          "Y": 28.24841736222291
         },
         {
          "Outlier": "\"Inferred\"",
          "X": 15.987349160808979,
          "Y": 28.214488758346945
         },
         {
          "Outlier": "\"Inferred\"",
          "X": 16.476770025028447,
          "Y": 26.789363879765443
         },
         {
          "Outlier": "\"Inferred\"",
          "X": 15.362882028084394,
          "Y": 26.967931326671785
         },
         {
          "Outlier": "\"Inferred\"",
          "X": 17.180634618566348,
          "Y": 29.29598204293771
         },
         {
          "Outlier": "\"Inferred\"",
          "X": 19.69789245515924,
          "Y": 26.222017756542147
         },
         {
          "Outlier": "\"Inferred\"",
          "X": 19.25455333249155,
          "Y": 27.99417286945961
         },
         {
          "Outlier": "\"Inferred\"",
          "X": 21.07692850560902,
          "Y": 29.84377990007131
         },
         {
          "Outlier": "\"Inferred\"",
          "X": 18.12811885836677,
          "Y": 29.991407520484586
         },
         {
          "Outlier": "\"Inferred\"",
          "X": 17.129030279638577,
          "Y": 30.64236363347555
         },
         {
          "Outlier": "\"Inferred\"",
          "X": 20.350413491905087,
          "Y": 34.754205871773294
         },
         {
          "Outlier": "\"Inferred\"",
          "X": 17.497320865177503,
          "Y": 32.26039008680321
         },
         {
          "Outlier": "\"Inferred\"",
          "X": 20.790034982626416,
          "Y": 33.07460251651395
         },
         {
          "Outlier": "\"Inferred\"",
          "X": 18.947184953289973,
          "Y": 32.282574659218135
         },
         {
          "Outlier": "\"Inferred\"",
          "X": 20.186409638182287,
          "Y": 35.648195198223824
         },
         {
          "Outlier": "\"Inferred\"",
          "X": 21.981799393239385,
          "Y": 36.455416877960225
         },
         {
          "Outlier": "\"Inferred\"",
          "X": 21.725851112676583,
          "Y": 38.207503394274234
         },
         {
          "Outlier": "\"Inferred\"",
          "X": 24.86639873686273,
          "Y": 35.90136792652058
         },
         {
          "Outlier": "\"Inferred\"",
          "X": 25.600466778063346,
          "Y": 38.87387446825273
         },
         {
          "Outlier": "\"Inferred\"",
          "X": 28.801847724941034,
          "Y": 38.88744712844998
         },
         {
          "Outlier": "\"Inferred\"",
          "X": 28.84565584732704,
          "Y": 42.3085518225441
         },
         {
          "Outlier": "\"Inferred\"",
          "X": 31.1726071488953,
          "Y": 43.78107115477103
         },
         {
          "Outlier": "\"Inferred\"",
          "X": 32.14577754731088,
          "Y": 40.12943948085962
         },
         {
          "Outlier": "\"Inferred\"",
          "X": 33.32461343722875,
          "Y": 41.53516077195338
         },
         {
          "Outlier": "\"Inferred\"",
          "X": 27.432352426663353,
          "Y": 43.68499994134772
         },
         {
          "Outlier": "\"Inferred\"",
          "X": 32.35782307245904,
          "Y": 43.54832024740956
         },
         {
          "Outlier": "\"Inferred\"",
          "X": 29.986762974274324,
          "Y": 44.18080335167986
         },
         {
          "Outlier": "\"Inferred\"",
          "X": 33.01209500078237,
          "Y": 42.94651705909768
         },
         {
          "Outlier": "\"Inferred\"",
          "X": 33.65872211510238,
          "Y": 44.31400663802013
         },
         {
          "Outlier": "\"Inferred\"",
          "X": 33.78328627764444,
          "Y": 43.06802896919319
         },
         {
          "Outlier": "\"Inferred\"",
          "X": 34.5184533585534,
          "Y": 43.464082214626615
         },
         {
          "Outlier": "\"Inferred\"",
          "X": 36.04313070609648,
          "Y": 41.95243786103135
         },
         {
          "Outlier": "\"Inferred\"",
          "X": 40.16018622677856,
          "Y": 44.23086223296459
         },
         {
          "Outlier": "\"Inferred\"",
          "X": 42.433725027042975,
          "Y": 38.08167475024202
         },
         {
          "Outlier": "\"Inferred\"",
          "X": 40.96215072257013,
          "Y": 41.08448566806532
         },
         {
          "Outlier": "\"Inferred\"",
          "X": 42.78793059752138,
          "Y": 40.282834046056394
         },
         {
          "Outlier": "\"Inferred\"",
          "X": 43.93311496241388,
          "Y": 40.57083240249827
         },
         {
          "Outlier": "\"Inferred\"",
          "X": -1.0577120685363202,
          "Y": 1.3311665130021177
         },
         {
          "Outlier": "\"Inferred\"",
          "X": 0.5187449111042508,
          "Y": 1.384208569791998
         },
         {
          "Outlier": "\"Inferred\"",
          "X": -0.8359699315815046,
          "Y": 3.1539853357405616
         },
         {
          "Outlier": "\"Inferred\"",
          "X": -2.1877453858545657,
          "Y": 2.595384784475209
         },
         {
          "Outlier": "\"Inferred\"",
          "X": -0.16867700137480535,
          "Y": 0.27496446623764914
         },
         {
          "Outlier": "\"Inferred\"",
          "X": -0.7511427590794194,
          "Y": 1.203915831753831
         },
         {
          "Outlier": "\"Inferred\"",
          "X": -1.1304340030603823,
          "Y": 4.406806799725376
         },
         {
          "Outlier": "\"Inferred\"",
          "X": -1.2824700743677044,
          "Y": 3.6654619962530113
         },
         {
          "Outlier": "\"Inferred\"",
          "X": 0.3816187637329622,
          "Y": 3.682189844040436
         },
         {
          "Outlier": "\"Inferred\"",
          "X": 3.1803081944671736,
          "Y": 3.1356646766729415
         },
         {
          "Outlier": "\"Inferred\"",
          "X": -1.0218461160080148,
          "Y": 6.4487650815174815
         },
         {
          "Outlier": "\"Inferred\"",
          "X": 2.0550636462783096,
          "Y": 8.026978886181793
         },
         {
          "Outlier": "\"Inferred\"",
          "X": 2.4799407067423567,
          "Y": 5.108922045454836
         },
         {
          "Outlier": "\"Inferred\"",
          "X": -0.144439876733776,
          "Y": 5.719658548828151
         },
         {
          "Outlier": "\"Inferred\"",
          "X": 2.603480338964233,
          "Y": 5.9952585247952115
         },
         {
          "Outlier": "\"Inferred\"",
          "X": 2.425993594751608,
          "Y": 8.82052976920178
         },
         {
          "Outlier": "\"Inferred\"",
          "X": 2.7929141242720594,
          "Y": 6.161335737699147
         },
         {
          "Outlier": "\"Inferred\"",
          "X": -0.18996085901325044,
          "Y": 10.101337189955292
         },
         {
          "Outlier": "\"Inferred\"",
          "X": 2.286847344578952,
          "Y": 4.2522597981104555
         },
         {
          "Outlier": "\"Inferred\"",
          "X": -0.298956939905914,
          "Y": 6.593708007693254
         },
         {
          "Outlier": "\"Inferred\"",
          "X": -4.4879558951472,
          "Y": 5.6877756414625935
         },
         {
          "Outlier": "\"Inferred\"",
          "X": 0.43628931097410006,
          "Y": 4.819960990524554
         },
         {
          "Outlier": "\"Inferred\"",
          "X": -1.113313347016728,
          "Y": 5.377757029485098
         },
         {
          "Outlier": "\"Inferred\"",
          "X": -4.51527249669266,
          "Y": 7.607270719967191
         },
         {
          "Outlier": "\"Inferred\"",
          "X": -1.8755501857814487,
          "Y": 6.680325173978792
         },
         {
          "Outlier": "\"Inferred\"",
          "X": -6.108483617177275,
          "Y": 9.637292221436681
         },
         {
          "Outlier": "\"Inferred\"",
          "X": -0.7919986187233876,
          "Y": 10.717416115569515
         },
         {
          "Outlier": "\"Inferred\"",
          "X": -4.008899061413354,
          "Y": 11.77891834259643
         },
         {
          "Outlier": "\"Inferred\"",
          "X": 0.8567806308552346,
          "Y": 11.48212333406595
         },
         {
          "Outlier": "\"Inferred\"",
          "X": -2.7808077934449096,
          "Y": 16.203920676865735
         },
         {
          "Outlier": "\"Inferred\"",
          "X": -2.790169292406911,
          "Y": 12.439620502800627
         },
         {
          "Outlier": "\"Inferred\"",
          "X": -3.162639727174056,
          "Y": 17.436158191648186
         },
         {
          "Outlier": "\"Inferred\"",
          "X": -0.19800419024179106,
          "Y": 17.874734640072226
         },
         {
          "Outlier": "\"Inferred\"",
          "X": -2.4622093201269593,
          "Y": 15.043593199712015
         },
         {
          "Outlier": "\"Inferred\"",
          "X": -0.4902367653553015,
          "Y": 18.15596169122994
         },
         {
          "Outlier": "\"Inferred\"",
          "X": -0.5771821492966264,
          "Y": 19.069088651918737
         },
         {
          "Outlier": "\"Inferred\"",
          "X": -2.4529956620604443,
          "Y": 16.138600560176634
         },
         {
          "Outlier": "\"Inferred\"",
          "X": -0.31711655228100566,
          "Y": 16.529381578443672
         },
         {
          "Outlier": "\"Inferred\"",
          "X": 2.9147634774627758,
          "Y": 17.505488938809545
         },
         {
          "Outlier": "\"Inferred\"",
          "X": 0.4210415116813455,
          "Y": 18.294541407582646
         },
         {
          "Outlier": "\"Inferred\"",
          "X": 0.028748890542095396,
          "Y": 18.463127857858186
         },
         {
          "Outlier": "\"Inferred\"",
          "X": 2.58743978654645,
          "Y": 19.724487198745404
         },
         {
          "Outlier": "\"Inferred\"",
          "X": 1.2807168495110504,
          "Y": 20.214851943043136
         },
         {
          "Outlier": "\"Inferred\"",
          "X": 3.826548267121339,
          "Y": 19.26799235459425
         },
         {
          "Outlier": "\"Inferred\"",
          "X": 0.7615776135460113,
          "Y": 20.89095958034132
         },
         {
          "Outlier": "\"Inferred\"",
          "X": 2.708765870632674,
          "Y": 18.48019230647683
         },
         {
          "Outlier": "\"Inferred\"",
          "X": 3.983072642915391,
          "Y": 18.48824404400035
         },
         {
          "Outlier": "\"Inferred\"",
          "X": 4.264499139133712,
          "Y": 17.516447230521262
         },
         {
          "Outlier": "\"Inferred\"",
          "X": 2.318367144680507,
          "Y": 19.292063841044808
         },
         {
          "Outlier": "\"Inferred\"",
          "X": 3.1270204855206547,
          "Y": 17.745129397297294
         },
         {
          "Outlier": "\"Inferred\"",
          "X": 5.981227099521574,
          "Y": 17.672442397964666
         },
         {
          "Outlier": "\"Inferred\"",
          "X": 5.720861144134063,
          "Y": 17.733471771053683
         },
         {
          "Outlier": "\"Inferred\"",
          "X": 6.923525507735202,
          "Y": 17.58612711597998
         },
         {
          "Outlier": "\"Inferred\"",
          "X": 8.337062382474613,
          "Y": 19.543848901061807
         },
         {
          "Outlier": "\"Inferred\"",
          "X": 7.763960784441056,
          "Y": 23.668871468212995
         },
         {
          "Outlier": "\"Inferred\"",
          "X": 12.71005679713761,
          "Y": 24.222749467787317
         },
         {
          "Outlier": "\"Inferred\"",
          "X": 7.1499581304902495,
          "Y": 20.744426979066727
         },
         {
          "Outlier": "\"Inferred\"",
          "X": 10.844107807014261,
          "Y": 23.044385800451227
         },
         {
          "Outlier": "\"Inferred\"",
          "X": 12.898805673106688,
          "Y": 24.53555274141373
         },
         {
          "Outlier": "\"Inferred\"",
          "X": 12.526956318051237,
          "Y": 25.765752015369014
         },
         {
          "Outlier": "\"Inferred\"",
          "X": 15.462852677427808,
          "Y": 21.4670859828413
         },
         {
          "Outlier": "\"Inferred\"",
          "X": 19.756353103197124,
          "Y": 24.35978754940284
         },
         {
          "Outlier": "\"Inferred\"",
          "X": 16.99720242199732,
          "Y": 22.76253334614677
         },
         {
          "Outlier": "\"Inferred\"",
          "X": 19.38588729763539,
          "Y": 24.90905600908993
         },
         {
          "Outlier": "\"Inferred\"",
          "X": 15.615477942117195,
          "Y": 23.608193298726903
         },
         {
          "Outlier": "\"Inferred\"",
          "X": 18.273417215794563,
          "Y": 25.73905850905275
         },
         {
          "Outlier": "\"Inferred\"",
          "X": 13.622607743052365,
          "Y": 26.162823038363303
         },
         {
          "Outlier": "\"Inferred\"",
          "X": 16.523178284186244,
          "Y": 27.94540983904185
         },
         {
          "Outlier": "\"Inferred\"",
          "X": 17.388254668569946,
          "Y": 27.67509920425639
         },
         {
          "Outlier": "\"Inferred\"",
          "X": 19.36869565161414,
          "Y": 27.441794784982775
         },
         {
          "Outlier": "\"Inferred\"",
          "X": 18.907748642263023,
          "Y": 29.499550530460333
         },
         {
          "Outlier": "\"Inferred\"",
          "X": 17.91416322630905,
          "Y": 27.908333560049382
         },
         {
          "Outlier": "\"Inferred\"",
          "X": 17.890496023434324,
          "Y": 28.611702897626806
         },
         {
          "Outlier": "\"Inferred\"",
          "X": 18.454601089301,
          "Y": 31.522502589009445
         },
         {
          "Outlier": "\"Inferred\"",
          "X": 16.378671179102206,
          "Y": 32.95833125023815
         },
         {
          "Outlier": "\"Inferred\"",
          "X": 18.849836408770486,
          "Y": 34.52645975627013
         },
         {
          "Outlier": "\"Inferred\"",
          "X": 20.02021023691536,
          "Y": 34.91915269987759
         },
         {
          "Outlier": "\"Inferred\"",
          "X": 21.347170166260835,
          "Y": 34.14441716412282
         },
         {
          "Outlier": "\"Inferred\"",
          "X": 18.56550465750003,
          "Y": 34.702431690422635
         },
         {
          "Outlier": "\"Inferred\"",
          "X": 22.474190063733488,
          "Y": 38.83221615149235
         },
         {
          "Outlier": "\"Inferred\"",
          "X": 25.168441658863667,
          "Y": 38.546503787322926
         },
         {
          "Outlier": "\"Inferred\"",
          "X": 23.01087067660463,
          "Y": 40.424548051288
         },
         {
          "Outlier": "\"Inferred\"",
          "X": 28.81177721862783,
          "Y": 42.3167171372007
         },
         {
          "Outlier": "\"Inferred\"",
          "X": 29.397245400889275,
          "Y": 40.93426828266963
         },
         {
          "Outlier": "\"Inferred\"",
          "X": 28.887571260591407,
          "Y": 44.503925481706986
         },
         {
          "Outlier": "\"Inferred\"",
          "X": 31.323106548382974,
          "Y": 41.155965981858444
         },
         {
          "Outlier": "\"Inferred\"",
          "X": 29.34775975146809,
          "Y": 41.62808774115799
         },
         {
          "Outlier": "\"Inferred\"",
          "X": 31.03167539233238,
          "Y": 43.07403234742165
         },
         {
          "Outlier": "\"Inferred\"",
          "X": 31.7655182044447,
          "Y": 44.86618919573421
         },
         {
          "Outlier": "\"Inferred\"",
          "X": 30.420530905132765,
          "Y": 42.45015768433053
         },
         {
          "Outlier": "\"Inferred\"",
          "X": 31.703782359114168,
          "Y": 41.545391866723286
         },
         {
          "Outlier": "\"Inferred\"",
          "X": 33.93332508228344,
          "Y": 43.734765373375126
         },
         {
          "Outlier": "\"Inferred\"",
          "X": 33.46279408427724,
          "Y": 47.44006662072649
         },
         {
          "Outlier": "\"Inferred\"",
          "X": 38.51995996183792,
          "Y": 43.402105719494394
         },
         {
          "Outlier": "\"Inferred\"",
          "X": 38.60474932400775,
          "Y": 37.10111974517052
         },
         {
          "Outlier": "\"Inferred\"",
          "X": 40.29698381462361,
          "Y": 38.838386068005136
         },
         {
          "Outlier": "\"Inferred\"",
          "X": 42.34964330603384,
          "Y": 42.87237765775033
         },
         {
          "Outlier": "\"Inferred\"",
          "X": 41.1744490620224,
          "Y": 42.29701083421196
         },
         {
          "Outlier": "\"Inferred\"",
          "X": 43.170480112391836,
          "Y": 43.059172098626924
         },
         {
          "Outlier": "\"Inferred\"",
          "X": 38.5369661387162,
          "Y": 41.925432995431386
         },
         {
          "Outlier": "\"Inferred\"",
          "X": -2.1015899966283627,
          "Y": 3.042912527270046
         },
         {
          "Outlier": "\"Inferred\"",
          "X": 0.6947848368433989,
          "Y": -1.3586684257777253
         },
         {
          "Outlier": "\"Inferred\"",
          "X": 0.30927306785771824,
          "Y": -2.0946356253957723
         },
         {
          "Outlier": "\"Inferred\"",
          "X": -1.1321496169939549,
          "Y": -0.18529387868266928
         },
         {
          "Outlier": "\"Inferred\"",
          "X": -0.30753341218775776,
          "Y": -1.3795196989883114
         },
         {
          "Outlier": "\"Inferred\"",
          "X": -0.5952785367961002,
          "Y": -0.6663904404418652
         },
         {
          "Outlier": "\"Inferred\"",
          "X": 0.21097555722819322,
          "Y": 2.979225527359512
         },
         {
          "Outlier": "\"Inferred\"",
          "X": 0.7844329766281688,
          "Y": 2.4254135936848407
         },
         {
          "Outlier": "\"Inferred\"",
          "X": 2.597787432055692,
          "Y": 2.023294119709038
         },
         {
          "Outlier": "\"Inferred\"",
          "X": 0.6430972640621567,
          "Y": 6.147280625156327
         },
         {
          "Outlier": "\"Inferred\"",
          "X": -0.11944832788405635,
          "Y": 7.402250477680855
         },
         {
          "Outlier": "\"Inferred\"",
          "X": 0.11659673771155821,
          "Y": 7.011821253584791
         },
         {
          "Outlier": "\"Inferred\"",
          "X": 2.4452779020257527,
          "Y": 4.061664122034725
         },
         {
          "Outlier": "\"Inferred\"",
          "X": 1.0171174575909532,
          "Y": 8.708968453826966
         },
         {
          "Outlier": "\"Inferred\"",
          "X": 2.945812980252066,
          "Y": 10.085682362360352
         },
         {
          "Outlier": "\"Inferred\"",
          "X": 1.5996129309347846,
          "Y": 7.588253022918414
         },
         {
          "Outlier": "\"Inferred\"",
          "X": 0.14963748114872133,
          "Y": 8.457912990385557
         },
         {
          "Outlier": "\"Inferred\"",
          "X": 0.5931043355535895,
          "Y": 7.777879134331259
         },
         {
          "Outlier": "\"Inferred\"",
          "X": 3.112227728214053,
          "Y": 3.1673775684607266
         },
         {
          "Outlier": "\"Inferred\"",
          "X": 1.6173601228308128,
          "Y": 6.408046562423369
         },
         {
          "Outlier": "\"Inferred\"",
          "X": -2.30784159017759,
          "Y": 4.628372600120545
         },
         {
          "Outlier": "\"Inferred\"",
          "X": 1.0617092950625395,
          "Y": 4.2790812484513125
         },
         {
          "Outlier": "\"Inferred\"",
          "X": -3.770477676846048,
          "Y": 4.6514531937758825
         },
         {
          "Outlier": "\"Inferred\"",
          "X": -2.924897119841773,
          "Y": 3.3857530351241567
         },
         {
          "Outlier": "\"Inferred\"",
          "X": -2.5933957123813838,
          "Y": 7.31792751702921
         },
         {
          "Outlier": "\"Inferred\"",
          "X": -1.882239496811256,
          "Y": 9.128063076847562
         },
         {
          "Outlier": "\"Inferred\"",
          "X": -4.837089325854729,
          "Y": 9.523245358829033
         },
         {
          "Outlier": "\"Inferred\"",
          "X": -4.0356238664005,
          "Y": 10.750704294488033
         },
         {
          "Outlier": "\"Inferred\"",
          "X": 0.019155736311947003,
          "Y": 11.851146715114428
         },
         {
          "Outlier": "\"Inferred\"",
          "X": 0.2258758387155072,
          "Y": 12.839684395099052
         },
         {
          "Outlier": "\"Inferred\"",
          "X": -2.2979175220125976,
          "Y": 12.015220246805605
         },
         {
          "Outlier": "\"Inferred\"",
          "X": 0.23610520989416933,
          "Y": 14.681097572656043
         },
         {
          "Outlier": "\"Inferred\"",
          "X": 1.190711149931689,
          "Y": 13.997210590146704
         },
         {
          "Outlier": "\"Inferred\"",
          "X": -1.9138358247491345,
          "Y": 16.159033365584627
         },
         {
          "Outlier": "\"Inferred\"",
          "X": -0.37126826411722025,
          "Y": 17.128079784773476
         },
         {
          "Outlier": "\"Inferred\"",
          "X": -0.5974893218192406,
          "Y": 19.631988214981977
         },
         {
          "Outlier": "\"Inferred\"",
          "X": -1.7503736333875053,
          "Y": 16.29379989491621
         },
         {
          "Outlier": "\"Inferred\"",
          "X": 1.3106161590067502,
          "Y": 14.977879709030423
         },
         {
          "Outlier": "\"Inferred\"",
          "X": 2.1567716213593147,
          "Y": 17.470990206800433
         },
         {
          "Outlier": "\"Inferred\"",
          "X": -0.666254336267776,
          "Y": 19.200910933723993
         },
         {
          "Outlier": "\"Inferred\"",
          "X": 0.2863781007910825,
          "Y": 16.81216757555585
         },
         {
          "Outlier": "\"Inferred\"",
          "X": 0.9802061133965296,
          "Y": 19.490423259725098
         },
         {
          "Outlier": "\"Inferred\"",
          "X": 0.8205279086770467,
          "Y": 18.787924816226106
         },
         {
          "Outlier": "\"Inferred\"",
          "X": 3.816799548096956,
          "Y": 19.416978822177143
         },
         {
          "Outlier": "\"Inferred\"",
          "X": 3.6911522545465694,
          "Y": 22.41262189284261
         },
         {
          "Outlier": "\"Inferred\"",
          "X": 1.5106605309170735,
          "Y": 19.488592012789546
         },
         {
          "Outlier": "\"Inferred\"",
          "X": 0.2671613046697452,
          "Y": 20.175516804603113
         },
         {
          "Outlier": "\"Inferred\"",
          "X": 4.829662061905805,
          "Y": 21.08834976130375
         },
         {
          "Outlier": "\"Inferred\"",
          "X": 1.064093326871172,
          "Y": 18.98310748079691
         },
         {
          "Outlier": "\"Inferred\"",
          "X": 3.9755208176916383,
          "Y": 19.357955639018964
         },
         {
          "Outlier": "\"Inferred\"",
          "X": 7.53356620876561,
          "Y": 18.84449745910482
         },
         {
          "Outlier": "\"Inferred\"",
          "X": 3.7851462900465,
          "Y": 19.27996546207181
         },
         {
          "Outlier": "\"Inferred\"",
          "X": 5.282599188243445,
          "Y": 20.933100536159756
         },
         {
          "Outlier": "\"Inferred\"",
          "X": 6.326406896564528,
          "Y": 21.925477186880116
         },
         {
          "Outlier": "\"Inferred\"",
          "X": 7.756456682946792,
          "Y": 23.01632376322803
         },
         {
          "Outlier": "\"Inferred\"",
          "X": 10.97921528291824,
          "Y": 20.95199459204172
         },
         {
          "Outlier": "\"Inferred\"",
          "X": 12.204790256847234,
          "Y": 22.337565784168287
         },
         {
          "Outlier": "\"Inferred\"",
          "X": 13.362014954289137,
          "Y": 22.775219521125173
         },
         {
          "Outlier": "\"Inferred\"",
          "X": 11.329167459541134,
          "Y": 23.723310698589568
         },
         {
          "Outlier": "\"Inferred\"",
          "X": 13.37523229899906,
          "Y": 24.26443829791318
         },
         {
          "Outlier": "\"Inferred\"",
          "X": 14.577705141273086,
          "Y": 23.1244771444776
         },
         {
          "Outlier": "\"Inferred\"",
          "X": 16.90710171028734,
          "Y": 24.258381074772924
         },
         {
          "Outlier": "\"Inferred\"",
          "X": 15.710267490271637,
          "Y": 23.38384762960494
         },
         {
          "Outlier": "\"Inferred\"",
          "X": 16.135394250534496,
          "Y": 28.24841736222291
         },
         {
          "Outlier": "\"Inferred\"",
          "X": 15.987349160808979,
          "Y": 28.214488758346945
         },
         {
          "Outlier": "\"Inferred\"",
          "X": 16.476770025028447,
          "Y": 26.789363879765443
         },
         {
          "Outlier": "\"Inferred\"",
          "X": 15.362882028084394,
          "Y": 26.967931326671785
         },
         {
          "Outlier": "\"Inferred\"",
          "X": 17.180634618566348,
          "Y": 29.29598204293771
         },
         {
          "Outlier": "\"Inferred\"",
          "X": 19.69789245515924,
          "Y": 26.222017756542147
         },
         {
          "Outlier": "\"Inferred\"",
          "X": 17.539439261582107,
          "Y": 30.07855870667011
         },
         {
          "Outlier": "\"Inferred\"",
          "X": 19.923861126307898,
          "Y": 32.34796869694384
         },
         {
          "Outlier": "\"Inferred\"",
          "X": 16.79278595376273,
          "Y": 32.057380681809136
         },
         {
          "Outlier": "\"Inferred\"",
          "X": 17.732958968402205,
          "Y": 30.76646431208852
         },
         {
          "Outlier": "\"Inferred\"",
          "X": 18.051718454489727,
          "Y": 31.220625643227716
         },
         {
          "Outlier": "\"Inferred\"",
          "X": 17.521025884428678,
          "Y": 31.52067777213275
         },
         {
          "Outlier": "\"Inferred\"",
          "X": 20.41879063490015,
          "Y": 32.919922130623455
         },
         {
          "Outlier": "\"Inferred\"",
          "X": 19.42979926875975,
          "Y": 30.839540510754734
         },
         {
          "Outlier": "\"Inferred\"",
          "X": 22.92514703537818,
          "Y": 35.203891586633134
         },
         {
          "Outlier": "\"Inferred\"",
          "X": 23.093598573064384,
          "Y": 35.215303614008036
         },
         {
          "Outlier": "\"Inferred\"",
          "X": 20.97632988623428,
          "Y": 37.367692627856705
         },
         {
          "Outlier": "\"Inferred\"",
          "X": 26.138489343685183,
          "Y": 37.43487651549445
         },
         {
          "Outlier": "\"Inferred\"",
          "X": 23.24501330003562,
          "Y": 37.22641875554821
         },
         {
          "Outlier": "\"Inferred\"",
          "X": 27.84240142497727,
          "Y": 41.00897634047137
         },
         {
          "Outlier": "\"Inferred\"",
          "X": 28.94038427414089,
          "Y": 42.83352736284066
         },
         {
          "Outlier": "\"Inferred\"",
          "X": 31.542835669143845,
          "Y": 43.5868116701189
         },
         {
          "Outlier": "\"Inferred\"",
          "X": 29.887833206275538,
          "Y": 41.184688494385405
         },
         {
          "Outlier": "\"Inferred\"",
          "X": 30.285093109472548,
          "Y": 43.24200060482226
         },
         {
          "Outlier": "\"Inferred\"",
          "X": 30.198216746586617,
          "Y": 41.73618448134926
         },
         {
          "Outlier": "\"Inferred\"",
          "X": 32.04455399740429,
          "Y": 43.90509641982714
         },
         {
          "Outlier": "\"Inferred\"",
          "X": 31.83763280546078,
          "Y": 40.985737865416304
         },
         {
          "Outlier": "\"Inferred\"",
          "X": 34.13431012721588,
          "Y": 43.03454884208159
         },
         {
          "Outlier": "\"Inferred\"",
          "X": 32.30989678383304,
          "Y": 44.45867474965389
         },
         {
          "Outlier": "\"Inferred\"",
          "X": 33.21652333814868,
          "Y": 44.12343076773133
         },
         {
          "Outlier": "\"Inferred\"",
          "X": 35.214568094596814,
          "Y": 43.631158611591054
         },
         {
          "Outlier": "\"Inferred\"",
          "X": 35.794988544617006,
          "Y": 39.478670573566475
         },
         {
          "Outlier": "\"Inferred\"",
          "X": 39.84398283916475,
          "Y": 40.98892962073282
         },
         {
          "Outlier": "\"Inferred\"",
          "X": 40.69151633505376,
          "Y": 39.1577797660941
         },
         {
          "Outlier": "\"Inferred\"",
          "X": 45.062696372145105,
          "Y": 42.05302093997088
         },
         {
          "Outlier": "\"Inferred\"",
          "X": 42.00287400991379,
          "Y": 42.20402498817353
         },
         {
          "Outlier": "\"Inferred\"",
          "X": 41.67651565256904,
          "Y": 44.04908061702021
         },
         {
          "Outlier": "\"Inferred\"",
          "X": -2.1015899966283627,
          "Y": 3.042912527270046
         },
         {
          "Outlier": "\"Inferred\"",
          "X": 0.6947848368433989,
          "Y": -1.3586684257777253
         },
         {
          "Outlier": "\"Inferred\"",
          "X": 0.30927306785771824,
          "Y": -2.0946356253957723
         },
         {
          "Outlier": "\"Inferred\"",
          "X": -1.1321496169939549,
          "Y": -0.18529387868266928
         },
         {
          "Outlier": "\"Inferred\"",
          "X": -0.30753341218775776,
          "Y": -1.3795196989883114
         },
         {
          "Outlier": "\"Inferred\"",
          "X": -0.5952785367961002,
          "Y": -0.6663904404418652
         },
         {
          "Outlier": "\"Inferred\"",
          "X": 0.21097555722819322,
          "Y": 2.979225527359512
         },
         {
          "Outlier": "\"Inferred\"",
          "X": 0.7844329766281688,
          "Y": 2.4254135936848407
         },
         {
          "Outlier": "\"Inferred\"",
          "X": 2.597787432055692,
          "Y": 2.023294119709038
         },
         {
          "Outlier": "\"Inferred\"",
          "X": 0.6430972640621567,
          "Y": 6.147280625156327
         },
         {
          "Outlier": "\"Inferred\"",
          "X": -0.11944832788405635,
          "Y": 7.402250477680855
         },
         {
          "Outlier": "\"Inferred\"",
          "X": 0.11659673771155821,
          "Y": 7.011821253584791
         },
         {
          "Outlier": "\"Inferred\"",
          "X": 2.4452779020257527,
          "Y": 4.061664122034725
         },
         {
          "Outlier": "\"Inferred\"",
          "X": 1.0171174575909532,
          "Y": 8.708968453826966
         },
         {
          "Outlier": "\"Inferred\"",
          "X": 2.945812980252066,
          "Y": 10.085682362360352
         },
         {
          "Outlier": "\"Inferred\"",
          "X": 1.5996129309347846,
          "Y": 7.588253022918414
         },
         {
          "Outlier": "\"Inferred\"",
          "X": 0.14963748114872133,
          "Y": 8.457912990385557
         },
         {
          "Outlier": "\"Inferred\"",
          "X": 0.5931043355535895,
          "Y": 7.777879134331259
         },
         {
          "Outlier": "\"Inferred\"",
          "X": 3.112227728214053,
          "Y": 3.1673775684607266
         },
         {
          "Outlier": "\"Inferred\"",
          "X": 1.6173601228308128,
          "Y": 6.408046562423369
         },
         {
          "Outlier": "\"Inferred\"",
          "X": -2.30784159017759,
          "Y": 4.628372600120545
         },
         {
          "Outlier": "\"Inferred\"",
          "X": 1.0617092950625395,
          "Y": 4.2790812484513125
         },
         {
          "Outlier": "\"Inferred\"",
          "X": -3.770477676846048,
          "Y": 4.6514531937758825
         },
         {
          "Outlier": "\"Inferred\"",
          "X": -2.924897119841773,
          "Y": 3.3857530351241567
         },
         {
          "Outlier": "\"Inferred\"",
          "X": -2.5933957123813838,
          "Y": 7.31792751702921
         },
         {
          "Outlier": "\"Inferred\"",
          "X": -1.882239496811256,
          "Y": 9.128063076847562
         },
         {
          "Outlier": "\"Inferred\"",
          "X": -4.837089325854729,
          "Y": 9.523245358829033
         },
         {
          "Outlier": "\"Inferred\"",
          "X": -4.0356238664005,
          "Y": 10.750704294488033
         },
         {
          "Outlier": "\"Inferred\"",
          "X": 0.019155736311947003,
          "Y": 11.851146715114428
         },
         {
          "Outlier": "\"Inferred\"",
          "X": 0.2258758387155072,
          "Y": 12.839684395099052
         },
         {
          "Outlier": "\"Inferred\"",
          "X": -2.2979175220125976,
          "Y": 12.015220246805605
         },
         {
          "Outlier": "\"Inferred\"",
          "X": 0.23610520989416933,
          "Y": 14.681097572656043
         },
         {
          "Outlier": "\"Inferred\"",
          "X": 1.190711149931689,
          "Y": 13.997210590146704
         },
         {
          "Outlier": "\"Inferred\"",
          "X": -1.9138358247491345,
          "Y": 16.159033365584627
         },
         {
          "Outlier": "\"Inferred\"",
          "X": -0.37126826411722025,
          "Y": 17.128079784773476
         },
         {
          "Outlier": "\"Inferred\"",
          "X": -0.5974893218192406,
          "Y": 19.631988214981977
         },
         {
          "Outlier": "\"Inferred\"",
          "X": -1.7503736333875053,
          "Y": 16.29379989491621
         },
         {
          "Outlier": "\"Inferred\"",
          "X": 1.3106161590067502,
          "Y": 14.977879709030423
         },
         {
          "Outlier": "\"Inferred\"",
          "X": 2.1567716213593147,
          "Y": 17.470990206800433
         },
         {
          "Outlier": "\"Inferred\"",
          "X": -0.666254336267776,
          "Y": 19.200910933723993
         },
         {
          "Outlier": "\"Inferred\"",
          "X": 0.2863781007910825,
          "Y": 16.81216757555585
         },
         {
          "Outlier": "\"Inferred\"",
          "X": 0.9802061133965296,
          "Y": 19.490423259725098
         },
         {
          "Outlier": "\"Inferred\"",
          "X": 0.8205279086770467,
          "Y": 18.787924816226106
         },
         {
          "Outlier": "\"Inferred\"",
          "X": 3.816799548096956,
          "Y": 19.416978822177143
         },
         {
          "Outlier": "\"Inferred\"",
          "X": 3.6911522545465694,
          "Y": 22.41262189284261
         },
         {
          "Outlier": "\"Inferred\"",
          "X": 1.5106605309170735,
          "Y": 19.488592012789546
         },
         {
          "Outlier": "\"Inferred\"",
          "X": 0.2671613046697452,
          "Y": 20.175516804603113
         },
         {
          "Outlier": "\"Inferred\"",
          "X": 4.829662061905805,
          "Y": 21.08834976130375
         },
         {
          "Outlier": "\"Inferred\"",
          "X": 1.064093326871172,
          "Y": 18.98310748079691
         },
         {
          "Outlier": "\"Inferred\"",
          "X": 3.9755208176916383,
          "Y": 19.357955639018964
         },
         {
          "Outlier": "\"Inferred\"",
          "X": 7.53356620876561,
          "Y": 18.84449745910482
         },
         {
          "Outlier": "\"Inferred\"",
          "X": 3.7851462900465,
          "Y": 19.27996546207181
         },
         {
          "Outlier": "\"Inferred\"",
          "X": 5.282599188243445,
          "Y": 20.933100536159756
         },
         {
          "Outlier": "\"Inferred\"",
          "X": 6.326406896564528,
          "Y": 21.925477186880116
         },
         {
          "Outlier": "\"Inferred\"",
          "X": 7.756456682946792,
          "Y": 23.01632376322803
         },
         {
          "Outlier": "\"Inferred\"",
          "X": 10.97921528291824,
          "Y": 20.95199459204172
         },
         {
          "Outlier": "\"Inferred\"",
          "X": 12.204790256847234,
          "Y": 22.337565784168287
         },
         {
          "Outlier": "\"Inferred\"",
          "X": 13.362014954289137,
          "Y": 22.775219521125173
         },
         {
          "Outlier": "\"Inferred\"",
          "X": 11.329167459541134,
          "Y": 23.723310698589568
         },
         {
          "Outlier": "\"Inferred\"",
          "X": 13.37523229899906,
          "Y": 24.26443829791318
         },
         {
          "Outlier": "\"Inferred\"",
          "X": 14.577705141273086,
          "Y": 23.1244771444776
         },
         {
          "Outlier": "\"Inferred\"",
          "X": 16.90710171028734,
          "Y": 24.258381074772924
         },
         {
          "Outlier": "\"Inferred\"",
          "X": 15.710267490271637,
          "Y": 23.38384762960494
         },
         {
          "Outlier": "\"Inferred\"",
          "X": 16.135394250534496,
          "Y": 28.24841736222291
         },
         {
          "Outlier": "\"Inferred\"",
          "X": 15.987349160808979,
          "Y": 28.214488758346945
         },
         {
          "Outlier": "\"Inferred\"",
          "X": 16.476770025028447,
          "Y": 26.789363879765443
         },
         {
          "Outlier": "\"Inferred\"",
          "X": 15.362882028084394,
          "Y": 26.967931326671785
         },
         {
          "Outlier": "\"Inferred\"",
          "X": 17.180634618566348,
          "Y": 29.29598204293771
         },
         {
          "Outlier": "\"Inferred\"",
          "X": 19.69789245515924,
          "Y": 26.222017756542147
         },
         {
          "Outlier": "\"Inferred\"",
          "X": 19.25455333249155,
          "Y": 27.99417286945961
         },
         {
          "Outlier": "\"Inferred\"",
          "X": 21.07692850560902,
          "Y": 29.84377990007131
         },
         {
          "Outlier": "\"Inferred\"",
          "X": 18.12811885836677,
          "Y": 29.991407520484586
         },
         {
          "Outlier": "\"Inferred\"",
          "X": 17.129030279638577,
          "Y": 30.64236363347555
         },
         {
          "Outlier": "\"Inferred\"",
          "X": 16.0415914354587,
          "Y": 33.19405243900327
         },
         {
          "Outlier": "\"Inferred\"",
          "X": 20.283784518348707,
          "Y": 33.37304193447602
         },
         {
          "Outlier": "\"Inferred\"",
          "X": 19.094093007854106,
          "Y": 32.99265170133583
         },
         {
          "Outlier": "\"Inferred\"",
          "X": 18.896583693311662,
          "Y": 35.55480741115392
         },
         {
          "Outlier": "\"Inferred\"",
          "X": 21.295478146165564,
          "Y": 36.68407983941675
         },
         {
          "Outlier": "\"Inferred\"",
          "X": 21.5808441794496,
          "Y": 34.60669930879981
         },
         {
          "Outlier": "\"Inferred\"",
          "X": 21.141249638500476,
          "Y": 36.49602176387231
         },
         {
          "Outlier": "\"Inferred\"",
          "X": 26.736827906451637,
          "Y": 38.65559202276372
         },
         {
          "Outlier": "\"Inferred\"",
          "X": 23.3104216834488,
          "Y": 40.21971041849633
         },
         {
          "Outlier": "\"Inferred\"",
          "X": 28.096124915045056,
          "Y": 40.74912616292844
         },
         {
          "Outlier": "\"Inferred\"",
          "X": 28.044559179864606,
          "Y": 41.70288662964848
         },
         {
          "Outlier": "\"Inferred\"",
          "X": 29.058012658739436,
          "Y": 43.255391671101926
         },
         {
          "Outlier": "\"Inferred\"",
          "X": 31.241425812764184,
          "Y": 43.5527694841338
         },
         {
          "Outlier": "\"Inferred\"",
          "X": 31.327801181034136,
          "Y": 42.96872930925128
         },
         {
          "Outlier": "\"Inferred\"",
          "X": 31.790785722772227,
          "Y": 44.05791270027203
         },
         {
          "Outlier": "\"Inferred\"",
          "X": 31.30560453230428,
          "Y": 41.83723436959963
         },
         {
          "Outlier": "\"Inferred\"",
          "X": 31.457371609474784,
          "Y": 42.015583692767954
         },
         {
          "Outlier": "\"Inferred\"",
          "X": 34.65808670608634,
          "Y": 42.507819862610106
         },
         {
          "Outlier": "\"Inferred\"",
          "X": 35.49890790805636,
          "Y": 42.51646122601277
         },
         {
          "Outlier": "\"Inferred\"",
          "X": 34.30719417374591,
          "Y": 42.15331407561657
         },
         {
          "Outlier": "\"Inferred\"",
          "X": 35.75379147262293,
          "Y": 42.43069304609764
         },
         {
          "Outlier": "\"Inferred\"",
          "X": 36.63394205415047,
          "Y": 40.26374227955515
         },
         {
          "Outlier": "\"Inferred\"",
          "X": 38.91891612275481,
          "Y": 41.3334199734351
         },
         {
          "Outlier": "\"Inferred\"",
          "X": 41.08782739132098,
          "Y": 40.41496179504696
         },
         {
          "Outlier": "\"Inferred\"",
          "X": 41.50299996625684,
          "Y": 41.57544250651916
         },
         {
          "Outlier": "\"Inferred\"",
          "X": 41.47508536321082,
          "Y": 41.79849928167037
         },
         {
          "Outlier": "\"Inferred\"",
          "X": 40.90213443503306,
          "Y": 42.721970753248314
         },
         {
          "Outlier": "\"Inferred\"",
          "X": -1.0577120685363202,
          "Y": 1.3311665130021177
         },
         {
          "Outlier": "\"Inferred\"",
          "X": 0.5187449111042508,
          "Y": 1.384208569791998
         },
         {
          "Outlier": "\"Inferred\"",
          "X": -0.8359699315815046,
          "Y": 3.1539853357405616
         },
         {
          "Outlier": "\"Inferred\"",
          "X": -2.1877453858545657,
          "Y": 2.595384784475209
         },
         {
          "Outlier": "\"Inferred\"",
          "X": -0.16867700137480535,
          "Y": 0.27496446623764914
         },
         {
          "Outlier": "\"Inferred\"",
          "X": -0.7511427590794194,
          "Y": 1.203915831753831
         },
         {
          "Outlier": "\"Inferred\"",
          "X": -1.1304340030603823,
          "Y": 4.406806799725376
         },
         {
          "Outlier": "\"Inferred\"",
          "X": -1.2824700743677044,
          "Y": 3.6654619962530113
         },
         {
          "Outlier": "\"Inferred\"",
          "X": 0.3816187637329622,
          "Y": 3.682189844040436
         },
         {
          "Outlier": "\"Inferred\"",
          "X": 3.1803081944671736,
          "Y": 3.1356646766729415
         },
         {
          "Outlier": "\"Inferred\"",
          "X": -1.0218461160080148,
          "Y": 6.4487650815174815
         },
         {
          "Outlier": "\"Inferred\"",
          "X": 2.0550636462783096,
          "Y": 8.026978886181793
         },
         {
          "Outlier": "\"Inferred\"",
          "X": 2.4799407067423567,
          "Y": 5.108922045454836
         },
         {
          "Outlier": "\"Inferred\"",
          "X": -0.144439876733776,
          "Y": 5.719658548828151
         },
         {
          "Outlier": "\"Inferred\"",
          "X": 2.603480338964233,
          "Y": 5.9952585247952115
         },
         {
          "Outlier": "\"Inferred\"",
          "X": 2.425993594751608,
          "Y": 8.82052976920178
         },
         {
          "Outlier": "\"Inferred\"",
          "X": 2.7929141242720594,
          "Y": 6.161335737699147
         },
         {
          "Outlier": "\"Inferred\"",
          "X": -0.18996085901325044,
          "Y": 10.101337189955292
         },
         {
          "Outlier": "\"Inferred\"",
          "X": 2.286847344578952,
          "Y": 4.2522597981104555
         },
         {
          "Outlier": "\"Inferred\"",
          "X": -0.298956939905914,
          "Y": 6.593708007693254
         },
         {
          "Outlier": "\"Inferred\"",
          "X": -4.4879558951472,
          "Y": 5.6877756414625935
         },
         {
          "Outlier": "\"Inferred\"",
          "X": 0.43628931097410006,
          "Y": 4.819960990524554
         },
         {
          "Outlier": "\"Inferred\"",
          "X": -1.113313347016728,
          "Y": 5.377757029485098
         },
         {
          "Outlier": "\"Inferred\"",
          "X": -4.51527249669266,
          "Y": 7.607270719967191
         },
         {
          "Outlier": "\"Inferred\"",
          "X": -1.8755501857814487,
          "Y": 6.680325173978792
         },
         {
          "Outlier": "\"Inferred\"",
          "X": -6.108483617177275,
          "Y": 9.637292221436681
         },
         {
          "Outlier": "\"Inferred\"",
          "X": -0.7919986187233876,
          "Y": 10.717416115569515
         },
         {
          "Outlier": "\"Inferred\"",
          "X": -4.008899061413354,
          "Y": 11.77891834259643
         },
         {
          "Outlier": "\"Inferred\"",
          "X": 0.8567806308552346,
          "Y": 11.48212333406595
         },
         {
          "Outlier": "\"Inferred\"",
          "X": -2.7808077934449096,
          "Y": 16.203920676865735
         },
         {
          "Outlier": "\"Inferred\"",
          "X": -2.790169292406911,
          "Y": 12.439620502800627
         },
         {
          "Outlier": "\"Inferred\"",
          "X": -3.162639727174056,
          "Y": 17.436158191648186
         },
         {
          "Outlier": "\"Inferred\"",
          "X": -0.19800419024179106,
          "Y": 17.874734640072226
         },
         {
          "Outlier": "\"Inferred\"",
          "X": -2.4622093201269593,
          "Y": 15.043593199712015
         },
         {
          "Outlier": "\"Inferred\"",
          "X": -0.4902367653553015,
          "Y": 18.15596169122994
         },
         {
          "Outlier": "\"Inferred\"",
          "X": -0.5771821492966264,
          "Y": 19.069088651918737
         },
         {
          "Outlier": "\"Inferred\"",
          "X": -2.4529956620604443,
          "Y": 16.138600560176634
         },
         {
          "Outlier": "\"Inferred\"",
          "X": -0.31711655228100566,
          "Y": 16.529381578443672
         },
         {
          "Outlier": "\"Inferred\"",
          "X": 2.9147634774627758,
          "Y": 17.505488938809545
         },
         {
          "Outlier": "\"Inferred\"",
          "X": 0.4210415116813455,
          "Y": 18.294541407582646
         },
         {
          "Outlier": "\"Inferred\"",
          "X": 0.028748890542095396,
          "Y": 18.463127857858186
         },
         {
          "Outlier": "\"Inferred\"",
          "X": 2.58743978654645,
          "Y": 19.724487198745404
         },
         {
          "Outlier": "\"Inferred\"",
          "X": 1.2807168495110504,
          "Y": 20.214851943043136
         },
         {
          "Outlier": "\"Inferred\"",
          "X": 3.826548267121339,
          "Y": 19.26799235459425
         },
         {
          "Outlier": "\"Inferred\"",
          "X": 0.7615776135460113,
          "Y": 20.89095958034132
         },
         {
          "Outlier": "\"Inferred\"",
          "X": 2.708765870632674,
          "Y": 18.48019230647683
         },
         {
          "Outlier": "\"Inferred\"",
          "X": 3.983072642915391,
          "Y": 18.48824404400035
         },
         {
          "Outlier": "\"Inferred\"",
          "X": 4.264499139133712,
          "Y": 17.516447230521262
         },
         {
          "Outlier": "\"Inferred\"",
          "X": 2.318367144680507,
          "Y": 19.292063841044808
         },
         {
          "Outlier": "\"Inferred\"",
          "X": 3.1270204855206547,
          "Y": 17.745129397297294
         },
         {
          "Outlier": "\"Inferred\"",
          "X": 5.981227099521574,
          "Y": 17.672442397964666
         },
         {
          "Outlier": "\"Inferred\"",
          "X": 5.720861144134063,
          "Y": 17.733471771053683
         },
         {
          "Outlier": "\"Inferred\"",
          "X": 6.923525507735202,
          "Y": 17.58612711597998
         },
         {
          "Outlier": "\"Inferred\"",
          "X": 8.337062382474613,
          "Y": 19.543848901061807
         },
         {
          "Outlier": "\"Inferred\"",
          "X": 7.763960784441056,
          "Y": 23.668871468212995
         },
         {
          "Outlier": "\"Inferred\"",
          "X": 12.71005679713761,
          "Y": 24.222749467787317
         },
         {
          "Outlier": "\"Inferred\"",
          "X": 7.1499581304902495,
          "Y": 20.744426979066727
         },
         {
          "Outlier": "\"Inferred\"",
          "X": 10.844107807014261,
          "Y": 23.044385800451227
         },
         {
          "Outlier": "\"Inferred\"",
          "X": 12.898805673106688,
          "Y": 24.53555274141373
         },
         {
          "Outlier": "\"Inferred\"",
          "X": 12.526956318051237,
          "Y": 25.765752015369014
         },
         {
          "Outlier": "\"Inferred\"",
          "X": 15.462852677427808,
          "Y": 21.4670859828413
         },
         {
          "Outlier": "\"Inferred\"",
          "X": 19.756353103197124,
          "Y": 24.35978754940284
         },
         {
          "Outlier": "\"Inferred\"",
          "X": 16.99720242199732,
          "Y": 22.76253334614677
         },
         {
          "Outlier": "\"Inferred\"",
          "X": 19.38588729763539,
          "Y": 24.90905600908993
         },
         {
          "Outlier": "\"Inferred\"",
          "X": 15.615477942117195,
          "Y": 23.608193298726903
         },
         {
          "Outlier": "\"Inferred\"",
          "X": 18.273417215794563,
          "Y": 25.73905850905275
         },
         {
          "Outlier": "\"Inferred\"",
          "X": 13.622607743052365,
          "Y": 26.162823038363303
         },
         {
          "Outlier": "\"Inferred\"",
          "X": 16.523178284186244,
          "Y": 27.94540983904185
         },
         {
          "Outlier": "\"Inferred\"",
          "X": 17.388254668569946,
          "Y": 27.67509920425639
         },
         {
          "Outlier": "\"Inferred\"",
          "X": 19.36869565161414,
          "Y": 27.441794784982775
         },
         {
          "Outlier": "\"Inferred\"",
          "X": 18.907748642263023,
          "Y": 29.499550530460333
         },
         {
          "Outlier": "\"Inferred\"",
          "X": 17.91416322630905,
          "Y": 27.908333560049382
         },
         {
          "Outlier": "\"Inferred\"",
          "X": 17.890496023434324,
          "Y": 28.611702897626806
         },
         {
          "Outlier": "\"Inferred\"",
          "X": 18.454601089301,
          "Y": 31.522502589009445
         },
         {
          "Outlier": "\"Inferred\"",
          "X": 16.378671179102206,
          "Y": 32.95833125023815
         },
         {
          "Outlier": "\"Inferred\"",
          "X": 18.849836408770486,
          "Y": 34.52645975627013
         },
         {
          "Outlier": "\"Inferred\"",
          "X": 20.02021023691536,
          "Y": 34.91915269987759
         },
         {
          "Outlier": "\"Inferred\"",
          "X": 21.347170166260835,
          "Y": 34.14441716412282
         },
         {
          "Outlier": "\"Inferred\"",
          "X": 18.56550465750003,
          "Y": 34.702431690422635
         },
         {
          "Outlier": "\"Inferred\"",
          "X": 22.474190063733488,
          "Y": 38.83221615149235
         },
         {
          "Outlier": "\"Inferred\"",
          "X": 25.168441658863667,
          "Y": 38.546503787322926
         },
         {
          "Outlier": "\"Inferred\"",
          "X": 23.01087067660463,
          "Y": 40.424548051288
         },
         {
          "Outlier": "\"Inferred\"",
          "X": 28.81177721862783,
          "Y": 42.3167171372007
         },
         {
          "Outlier": "\"Inferred\"",
          "X": 29.397245400889275,
          "Y": 40.93426828266963
         },
         {
          "Outlier": "\"Inferred\"",
          "X": 28.887571260591407,
          "Y": 44.503925481706986
         },
         {
          "Outlier": "\"Inferred\"",
          "X": 31.323106548382974,
          "Y": 41.155965981858444
         },
         {
          "Outlier": "\"Inferred\"",
          "X": 29.34775975146809,
          "Y": 41.62808774115799
         },
         {
          "Outlier": "\"Inferred\"",
          "X": 31.03167539233238,
          "Y": 43.07403234742165
         },
         {
          "Outlier": "\"Inferred\"",
          "X": 31.7655182044447,
          "Y": 44.86618919573421
         },
         {
          "Outlier": "\"Inferred\"",
          "X": 30.553633661332672,
          "Y": 41.630056891698295
         },
         {
          "Outlier": "\"Inferred\"",
          "X": 31.816143810010647,
          "Y": 43.590219558195514
         },
         {
          "Outlier": "\"Inferred\"",
          "X": 33.508078459890115,
          "Y": 41.67569446866203
         },
         {
          "Outlier": "\"Inferred\"",
          "X": 33.37265320631756,
          "Y": 43.3586074920393
         },
         {
          "Outlier": "\"Inferred\"",
          "X": 36.52460924845764,
          "Y": 42.911102275034246
         },
         {
          "Outlier": "\"Inferred\"",
          "X": 36.59982314657801,
          "Y": 41.02398269034132
         },
         {
          "Outlier": "\"Inferred\"",
          "X": 39.528154841404216,
          "Y": 40.787992869876064
         },
         {
          "Outlier": "\"Inferred\"",
          "X": 41.971266595607595,
          "Y": 41.01181085149675
         },
         {
          "Outlier": "\"Inferred\"",
          "X": 41.54146655374399,
          "Y": 41.667883879804755
         },
         {
          "Outlier": "\"Inferred\"",
          "X": 38.020472121695704,
          "Y": 41.1332495691439
         },
         {
          "Outlier": "\"Inferred\"",
          "X": 41.950461458727865,
          "Y": 44.74015506890989
         }
        ]
       },
       "encoding": {
        "color": {
         "field": "Outlier"
        },
        "x": {
         "field": "X",
         "type": "quantitative"
        },
        "y": {
         "field": "Y",
         "type": "quantitative"
        }
       },
       "height": 400,
       "mark": "circle",
       "width": 400
      },
      "image/png": "[encoded data removed]"
     },
     "metadata": {},
     "output_type": "display_data"
    }
   ],
   "source": [
    "inferredVectors = fst =<< particles\n",
    "\n",
    "\n",
    "plot \n",
    "    (zip \n",
    "        (fmap (\\v -> (v V.! 0, v V.! 1)) $ trueVectors <> inferredVectors) \n",
    "        (replicate 100 (T.pack \"True\") <> replicate 1000 (T.pack \"Inferred\")))\n"
   ]
  },
  {
   "cell_type": "code",
   "execution_count": null,
   "id": "728ec6d8-ee4e-4ed7-8c55-9f597c36f072",
   "metadata": {},
   "outputs": [],
   "source": []
  }
 ],
 "metadata": {
  "kernelspec": {
   "display_name": "Haskell - nixpkgs",
   "language": "haskell",
   "name": "ihaskell_nixpkgs"
  },
  "language_info": {
   "codemirror_mode": "ihaskell",
   "file_extension": ".hs",
   "mimetype": "text/x-haskell",
   "name": "haskell",
   "pygments_lexer": "Haskell",
   "version": "9.0.2"
  }
 },
 "nbformat": 4,
 "nbformat_minor": 5
}
