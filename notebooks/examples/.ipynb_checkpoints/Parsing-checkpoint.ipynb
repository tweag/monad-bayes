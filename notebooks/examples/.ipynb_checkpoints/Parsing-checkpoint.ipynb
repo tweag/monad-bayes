{
 "cells": [
  {
   "cell_type": "markdown",
   "id": "2a798ffe-30c0-43ec-9614-c84c2a433da5",
   "metadata": {},
   "source": [
    "# Probabilistic Parser Combinators"
   ]
  },
  {
   "cell_type": "code",
   "execution_count": 1,
   "id": "b14be2d4-ec16-46d3-8cd9-810a25f70495",
   "metadata": {},
   "outputs": [],
   "source": [
    "import Text.Megaparsec\n",
    "import Text.Megaparsec.Char\n",
    "import Data.Char\n",
    "import qualified Data.Text as T\n",
    "import Control.Monad.Bayes.Class\n",
    "import Control.Monad.Bayes.Sampler.Strict\n",
    "import Control.Monad.Bayes.Weighted\n",
    "import Control.Monad.Bayes.Population\n",
    "import Control.Monad.Bayes.Enumerator\n",
    "import Control.Monad.Bayes.Inference.SMC\n",
    "import Control.Monad.Trans (lift)\n",
    "import Control.Monad (join, replicateM)\n",
    "import Data.Void\n",
    "import Control.Monad.Bayes.Enumerator\n",
    "import Text.Pretty.Simple\n",
    "\n",
    ":e OverloadedStrings\n",
    ":e FlexibleContexts\n",
    ":e GADTs\n",
    ":e LambdaCase"
   ]
  },
  {
   "cell_type": "markdown",
   "id": "97f7ae67-5a7f-4650-8530-72385d84b019",
   "metadata": {},
   "source": [
    "Probability interfaces nicely with parser combinators from libraries like `megaparsec`. A parser in this setting is roughly a function `[Char] -> m (a, [Char])`, in other words a function which (monadically) strips off a prefix of the input string and returns a result. \n",
    "\n",
    "To make this probabilistic, we simply set `m` to a probability monad. The result of parsing is then a distribution over possible parses (and possible parse failures).\n"
   ]
  },
  {
   "cell_type": "code",
   "execution_count": 2,
   "id": "5aec194f-b147-456b-8be0-46c12f4ed495",
   "metadata": {},
   "outputs": [],
   "source": [
    "alphabet = map (: []) ['h', 'i', 'x']\n",
    "\n",
    "noise x = do\n",
    "    perturb <- lift $ bernoulli 0.1\n",
    "    if perturb then lift $ uniformD alphabet else return x\n",
    "\n",
    "letter = do\n",
    "    true <-  lift $ uniformD [\"h\", \"i\",\"x\"]\n",
    "    predicted <- noise true\n",
    "    observed <- lookAhead (foldr1 (<|>) [\"h\",\"i\", \"x\"])\n",
    "    lift $ condition $ predicted == observed\n",
    "    string observed\n",
    "    return $ head true \n",
    "    \n",
    "word = (do \n",
    "    wd <- some letter\n",
    "    lift $ factor (if wd `elem` [\"hi\", \"goodbye\"] then 100 else 1)\n",
    "    return wd\n",
    "    ) <* eof\n",
    "\n",
    "errorBundlePretty' :: (TraversableStream s, VisualStream s) => ParseErrorBundle s Void -> String \n",
    "errorBundlePretty' = errorBundlePretty\n",
    "\n",
    "\n",
    "run parser input = either (T.pack . errorBundlePretty' ) (T.pack . show) <$> runParserT parser \"\" input"
   ]
  },
  {
   "cell_type": "code",
   "execution_count": 3,
   "id": "e64782da-ddcc-41bd-aa29-b8f2dcd27184",
   "metadata": {},
   "outputs": [
    {
     "data": {
      "text/plain": [
       "[\n",
       "    ( \"\"hi\"\"\n",
       "    , 0.7989999999999997\n",
       "    )\n",
       ",\n",
       "    ( \"\"hx\"\"\n",
       "    , 0.1815000000000003\n",
       "    )\n",
       ",\n",
       "    ( \"\"xx\"\"\n",
       "    , 9.500000000000017 e- 3\n",
       "    )\n",
       ",\n",
       "    ( \"\"hh\"\"\n",
       "    , 8.500000000000016 e- 3\n",
       "    )\n",
       ",\n",
       "    ( \"\"ix\"\"\n",
       "    , 1.5000000000000033 e- 3\n",
       "    )\n",
       "]"
      ]
     },
     "metadata": {},
     "output_type": "display_data"
    }
   ],
   "source": [
    "x <- sampler $ population \n",
    "    $ smc SMCConfig {numSteps = 7, numParticles = 2000, resampler = resampleMultinomial} \n",
    "    $ run word \"hx\"\n",
    "pPrint $ toEmpiricalWeighted x\n",
    "\n"
   ]
  }
 ],
 "metadata": {
  "kernelspec": {
   "display_name": "Haskell - nixpkgs",
   "language": "haskell",
   "name": "ihaskell_nixpkgs"
  },
  "language_info": {
   "codemirror_mode": "ihaskell",
   "file_extension": ".hs",
   "mimetype": "text/x-haskell",
   "name": "haskell",
   "pygments_lexer": "Haskell",
   "version": "9.0.2"
  }
 },
 "nbformat": 4,
 "nbformat_minor": 5
}
