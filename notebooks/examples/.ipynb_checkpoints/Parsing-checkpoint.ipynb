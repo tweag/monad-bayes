{
 "cells": [
  {
   "cell_type": "markdown",
   "id": "2a798ffe-30c0-43ec-9614-c84c2a433da5",
   "metadata": {},
   "source": [
    "# Probabilistic Parser Combinators"
   ]
  },
  {
   "cell_type": "code",
   "execution_count": 7,
   "id": "b14be2d4-ec16-46d3-8cd9-810a25f70495",
   "metadata": {},
   "outputs": [],
   "source": [
    "import Text.Megaparsec\n",
    "import Text.Megaparsec.Char\n",
    "import Data.Char\n",
    "import qualified Data.Text as T\n",
    "import Control.Monad.Bayes.Class\n",
    "import Control.Monad.Bayes.Sampler.Strict\n",
    "import Control.Monad.Bayes.Weighted\n",
    "import Control.Monad.Bayes.Population\n",
    "import Control.Monad.Bayes.Enumerator\n",
    "import Control.Monad.Bayes.Inference.SMC\n",
    "import Control.Monad.Trans (lift)\n",
    "import Control.Monad (join, replicateM)\n",
    "import Data.Void\n",
    "import Control.Monad.Bayes.Enumerator\n",
    "import Text.Pretty.Simple\n",
    "\n",
    ":e OverloadedStrings\n",
    ":e FlexibleContexts\n",
    ":e GADTs\n",
    ":e LambdaCase"
   ]
  },
  {
   "cell_type": "markdown",
   "id": "97f7ae67-5a7f-4650-8530-72385d84b019",
   "metadata": {},
   "source": [
    "Probability interfaces nicely with parser combinators from libraries like `megaparsec`. A parser in this setting is roughly a function `[Char] -> m (a, [Char])`, in other words a function which (monadically) strips off a prefix of the input string and returns a result. \n",
    "\n",
    "To make this probabilistic, we simply set `m` to a probability monad. The result of parsing is then a distribution over possible parses (and possible parse failures).\n"
   ]
  },
  {
   "cell_type": "code",
   "execution_count": 52,
   "id": "5aec194f-b147-456b-8be0-46c12f4ed495",
   "metadata": {},
   "outputs": [
    {
     "data": {
      "text/html": [
       "<style>/* Styles used for the Hoogle display in the pager */\n",
       ".hoogle-doc {\n",
       "display: block;\n",
       "padding-bottom: 1.3em;\n",
       "padding-left: 0.4em;\n",
       "}\n",
       ".hoogle-code {\n",
       "display: block;\n",
       "font-family: monospace;\n",
       "white-space: pre;\n",
       "}\n",
       ".hoogle-text {\n",
       "display: block;\n",
       "}\n",
       ".hoogle-name {\n",
       "color: green;\n",
       "font-weight: bold;\n",
       "}\n",
       ".hoogle-head {\n",
       "font-weight: bold;\n",
       "}\n",
       ".hoogle-sub {\n",
       "display: block;\n",
       "margin-left: 0.4em;\n",
       "}\n",
       ".hoogle-package {\n",
       "font-weight: bold;\n",
       "font-style: italic;\n",
       "}\n",
       ".hoogle-module {\n",
       "font-weight: bold;\n",
       "}\n",
       ".hoogle-class {\n",
       "font-weight: bold;\n",
       "}\n",
       ".get-type {\n",
       "color: green;\n",
       "font-weight: bold;\n",
       "font-family: monospace;\n",
       "display: block;\n",
       "white-space: pre-wrap;\n",
       "}\n",
       ".show-type {\n",
       "color: green;\n",
       "font-weight: bold;\n",
       "font-family: monospace;\n",
       "margin-left: 1em;\n",
       "}\n",
       ".mono {\n",
       "font-family: monospace;\n",
       "display: block;\n",
       "}\n",
       ".err-msg {\n",
       "color: red;\n",
       "font-style: italic;\n",
       "font-family: monospace;\n",
       "white-space: pre;\n",
       "display: block;\n",
       "}\n",
       "#unshowable {\n",
       "color: red;\n",
       "font-weight: bold;\n",
       "}\n",
       ".err-msg.in.collapse {\n",
       "padding-top: 0.7em;\n",
       "}\n",
       ".highlight-code {\n",
       "white-space: pre;\n",
       "font-family: monospace;\n",
       "}\n",
       ".suggestion-warning { \n",
       "font-weight: bold;\n",
       "color: rgb(200, 130, 0);\n",
       "}\n",
       ".suggestion-error { \n",
       "font-weight: bold;\n",
       "color: red;\n",
       "}\n",
       ".suggestion-name {\n",
       "font-weight: bold;\n",
       "}\n",
       "</style><div class=\"suggestion-name\" style=\"clear:both;\">Use :</div><div class=\"suggestion-row\" style=\"float: left;\"><div class=\"suggestion-warning\">Found:</div><div class=\"highlight-code\" id=\"haskell\">\\ x -> [x]</div></div><div class=\"suggestion-row\" style=\"float: left;\"><div class=\"suggestion-warning\">Why Not:</div><div class=\"highlight-code\" id=\"haskell\">(: [])</div></div>"
      ],
      "text/plain": [
       "Line 3: Use :\n",
       "Found:\n",
       "\\ x -> [x]\n",
       "Why not:\n",
       "(: [])"
      ]
     },
     "metadata": {},
     "output_type": "display_data"
    }
   ],
   "source": [
    "noise x = do\n",
    "    perturb <- lift $ bernoulli 0.5\n",
    "    if perturb then lift $ uniformD (map (\\x -> [x]) ['a'..'z']) else return x\n",
    "\n",
    "letter = do\n",
    "    true <-  lift $ uniformD [\"h\", \"e\", \"l\", \"o\", \"x\"]\n",
    "    predicted <- noise true\n",
    "    observed <- lookAhead (\"h\" <|> \"e\" <|> \"l\" <|> \"o\" <|> \"x\")\n",
    "    lift $ condition $ predicted == observed\n",
    "    string observed\n",
    "    return $ head true \n",
    "    \n",
    "word = (do \n",
    "    wd <- some letter\n",
    "    lift $ factor (if wd `elem` [\"hello\", \"goodbye\"] then 10 else 1)\n",
    "    return wd\n",
    "    ) <* eof\n",
    "\n",
    "errorBundlePretty' :: (TraversableStream s, VisualStream s) => ParseErrorBundle s Void -> String \n",
    "errorBundlePretty' = errorBundlePretty\n",
    "\n",
    "\n",
    "run parser input = either (T.pack . errorBundlePretty' ) (T.pack . show) <$> runParserT parser \"\" input"
   ]
  },
  {
   "cell_type": "code",
   "execution_count": null,
   "id": "e64782da-ddcc-41bd-aa29-b8f2dcd27184",
   "metadata": {},
   "outputs": [],
   "source": [
    "x <- sampler $ population \n",
    "    $ smc SMCConfig {numSteps = 5, numParticles = 10000, resampler = resampleMultinomial} \n",
    "    $ run word \"hxllo\"\n",
    "pPrint $ toEmpiricalWeighted x"
   ]
  },
  {
   "cell_type": "code",
   "execution_count": 4,
   "id": "596bd3d7-9b32-40af-8c13-041cc9e8e267",
   "metadata": {},
   "outputs": [],
   "source": [
    "import Debug.Trace\n",
    "\n",
    "two = do\n",
    "    x <- parser\n",
    "    y <- parser\n",
    "    lift $ factor $ case (x,y) of ('h','g') -> 1; _ -> 0.5\n",
    "    return [x ,y]\n",
    "    \n",
    "duplicate = do\n",
    "    -- x <- parser\n",
    "    b <- lift $ bernoulli 0.5\n",
    "    if b then \"h\" else \"g\"\n",
    "    -- char x\n",
    "    -- lift $ factor $ case (x,y) of ('h','g') -> 1; _ -> 0.5\n",
    "    -- return x\n",
    "    \n"
   ]
  },
  {
   "cell_type": "code",
   "execution_count": 5,
   "id": "3743b28f-0358-42ce-9dd8-d32cfdcd3e4b",
   "metadata": {},
   "outputs": [
    {
     "ename": "",
     "evalue": "",
     "header": "MessageHeader {mhIdentifiers = [\"2da2790d-bec5-4b14-9c94-a2d418b52d3e\"], mhParentHeader = Just (MessageHeader {mhIdentifiers = [\"2da2790d-bec5-4b14-9c94-a2d418b52d3e\"], mhParentHeader = Nothing, mhMetadata = Metadata (fromList [(\"cellId\",String \"3743b28f-0358-42ce-9dd8-d32cfdcd3e4b\"),(\"deletedCells\",Array []),(\"recordTiming\",Bool False)]), mhMessageId = UUID {uuidToString = \"23792c11-588b-492d-8172-a43ce7163e34\"}, mhSessionId = UUID {uuidToString = \"2da2790d-bec5-4b14-9c94-a2d418b52d3e\"}, mhUsername = \"\", mhMsgType = ExecuteRequestMessage, mhBuffers = []}), mhMetadata = Metadata (fromList []), mhMessageId = UUID {uuidToString = \"8da72e2d-e7eb-4b4c-b6a2-452dcdd5a5bc\"}, mhSessionId = UUID {uuidToString = \"2da2790d-bec5-4b14-9c94-a2d418b52d3e\"}, mhUsername = \"\", mhMsgType = ExecuteErrorMessage, mhBuffers = []}",
     "output_type": "error",
     "traceback": [
      "<interactive>:1:33: error:\n    • Variable not in scope: smcMultinomial :: t0 -> t1 -> f0 T.Text -> Population (Sampler (System.Random.Stateful.IOGenM System.Random.Internal.StdGen) IO) a0\n    • Perhaps you meant ‘multinomial’ (imported from Control.Monad.Bayes.Population)"
     ]
    }
   ],
   "source": [
    "x <- sampleIO $ runPopulation $ smcMultinomial 2 100 $ run (duplicate) \"hg\"\n",
    "pPrint $ toEmpiricalWeighted x"
   ]
  },
  {
   "cell_type": "code",
   "execution_count": 6,
   "id": "45652aea-3299-4c01-8da9-adccf0d19be2",
   "metadata": {},
   "outputs": [
    {
     "ename": "",
     "evalue": "",
     "header": "MessageHeader {mhIdentifiers = [\"2da2790d-bec5-4b14-9c94-a2d418b52d3e\"], mhParentHeader = Just (MessageHeader {mhIdentifiers = [\"2da2790d-bec5-4b14-9c94-a2d418b52d3e\"], mhParentHeader = Nothing, mhMetadata = Metadata (fromList [(\"cellId\",String \"45652aea-3299-4c01-8da9-adccf0d19be2\"),(\"deletedCells\",Array []),(\"recordTiming\",Bool False)]), mhMessageId = UUID {uuidToString = \"04254986-90b1-4b27-823a-beda3268ba25\"}, mhSessionId = UUID {uuidToString = \"2da2790d-bec5-4b14-9c94-a2d418b52d3e\"}, mhUsername = \"\", mhMsgType = ExecuteRequestMessage, mhBuffers = []}), mhMetadata = Metadata (fromList []), mhMessageId = UUID {uuidToString = \"7ae720b3-c3d5-4db8-8818-c6e05bc6e68e\"}, mhSessionId = UUID {uuidToString = \"2da2790d-bec5-4b14-9c94-a2d418b52d3e\"}, mhUsername = \"\", mhMsgType = ExecuteErrorMessage, mhBuffers = []}",
     "output_type": "error",
     "traceback": [
      "<interactive>:1:33: error:\n    • Variable not in scope: smcMultinomial :: t0 -> t1 -> f0 T.Text -> Population (Sampler (System.Random.Stateful.IOGenM System.Random.Internal.StdGen) IO) a0\n    • Perhaps you meant ‘multinomial’ (imported from Control.Monad.Bayes.Population)"
     ]
    }
   ],
   "source": [
    "p = do \n",
    "    x <- lift (uniformD ['a', 'b'])\n",
    "    lift $ condition (x == 'a')\n",
    "    char x\n",
    "    -- char =<< lift (uniformD ['a', 'b'])\n",
    "    -- lift $ uniformD ['a', 'b']\n",
    "\n",
    "x <- sampleIO $ runPopulation $ smcMultinomial 2 100 $ run p \"aa\"\n",
    "pPrint $ toEmpiricalWeighted x"
   ]
  }
 ],
 "metadata": {
  "kernelspec": {
   "display_name": "Haskell - nixpkgs",
   "language": "haskell",
   "name": "ihaskell_nixpkgs"
  },
  "language_info": {
   "codemirror_mode": "ihaskell",
   "file_extension": ".hs",
   "mimetype": "text/x-haskell",
   "name": "haskell",
   "pygments_lexer": "Haskell",
   "version": "9.0.2"
  }
 },
 "nbformat": 4,
 "nbformat_minor": 5
}
