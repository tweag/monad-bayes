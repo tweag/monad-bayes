{
 "cells": [
  {
   "cell_type": "code",
   "execution_count": 1,
   "id": "b14be2d4-ec16-46d3-8cd9-810a25f70495",
   "metadata": {},
   "outputs": [],
   "source": [
    "import Text.Megaparsec\n",
    "import Text.Megaparsec.Char\n",
    "import Data.Char\n",
    "import qualified Data.Text as T\n",
    "import Control.Monad.Bayes.Class\n",
    "import Control.Monad.Bayes.Sampler\n",
    "import Control.Monad.Bayes.Weighted\n",
    "import Control.Monad.Bayes.Population\n",
    "import Control.Monad.Bayes.Inference.SMC\n",
    "import Control.Monad.Trans (lift)\n",
    "import Control.Monad (join, replicateM)\n",
    "import Data.Void\n",
    "import Text.Pretty.Simple\n",
    ":e OverloadedStrings\n",
    ":e FlexibleContexts\n",
    ":e GADTs\n",
    ":e LambdaCase"
   ]
  },
  {
   "cell_type": "code",
   "execution_count": 84,
   "id": "5aec194f-b147-456b-8be0-46c12f4ed495",
   "metadata": {},
   "outputs": [
    {
     "data": {
      "text/html": [
       "<style>/* Styles used for the Hoogle display in the pager */\n",
       ".hoogle-doc {\n",
       "display: block;\n",
       "padding-bottom: 1.3em;\n",
       "padding-left: 0.4em;\n",
       "}\n",
       ".hoogle-code {\n",
       "display: block;\n",
       "font-family: monospace;\n",
       "white-space: pre;\n",
       "}\n",
       ".hoogle-text {\n",
       "display: block;\n",
       "}\n",
       ".hoogle-name {\n",
       "color: green;\n",
       "font-weight: bold;\n",
       "}\n",
       ".hoogle-head {\n",
       "font-weight: bold;\n",
       "}\n",
       ".hoogle-sub {\n",
       "display: block;\n",
       "margin-left: 0.4em;\n",
       "}\n",
       ".hoogle-package {\n",
       "font-weight: bold;\n",
       "font-style: italic;\n",
       "}\n",
       ".hoogle-module {\n",
       "font-weight: bold;\n",
       "}\n",
       ".hoogle-class {\n",
       "font-weight: bold;\n",
       "}\n",
       ".get-type {\n",
       "color: green;\n",
       "font-weight: bold;\n",
       "font-family: monospace;\n",
       "display: block;\n",
       "white-space: pre-wrap;\n",
       "}\n",
       ".show-type {\n",
       "color: green;\n",
       "font-weight: bold;\n",
       "font-family: monospace;\n",
       "margin-left: 1em;\n",
       "}\n",
       ".mono {\n",
       "font-family: monospace;\n",
       "display: block;\n",
       "}\n",
       ".err-msg {\n",
       "color: red;\n",
       "font-style: italic;\n",
       "font-family: monospace;\n",
       "white-space: pre;\n",
       "display: block;\n",
       "}\n",
       "#unshowable {\n",
       "color: red;\n",
       "font-weight: bold;\n",
       "}\n",
       ".err-msg.in.collapse {\n",
       "padding-top: 0.7em;\n",
       "}\n",
       ".highlight-code {\n",
       "white-space: pre;\n",
       "font-family: monospace;\n",
       "}\n",
       ".suggestion-warning { \n",
       "font-weight: bold;\n",
       "color: rgb(200, 130, 0);\n",
       "}\n",
       ".suggestion-error { \n",
       "font-weight: bold;\n",
       "color: red;\n",
       "}\n",
       ".suggestion-name {\n",
       "font-weight: bold;\n",
       "}\n",
       "</style><div class=\"suggestion-name\" style=\"clear:both;\">Redundant bracket</div><div class=\"suggestion-row\" style=\"float: left;\"><div class=\"suggestion-warning\">Found:</div><div class=\"highlight-code\" id=\"haskell\">(either (T.pack . errorBundlePretty') (T.pack . show))\n",
       "  <$> runParserT parser \"\" input</div></div><div class=\"suggestion-row\" style=\"float: left;\"><div class=\"suggestion-warning\">Why Not:</div><div class=\"highlight-code\" id=\"haskell\">either (T.pack . errorBundlePretty') (T.pack . show)\n",
       "  <$> runParserT parser \"\" input</div></div>"
      ],
      "text/plain": [
       "Line 18: Redundant bracket\n",
       "Found:\n",
       "(either (T.pack . errorBundlePretty') (T.pack . show))\n",
       "  <$> runParserT parser \"\" input\n",
       "Why not:\n",
       "either (T.pack . errorBundlePretty') (T.pack . show)\n",
       "  <$> runParserT parser \"\" input"
      ]
     },
     "metadata": {},
     "output_type": "display_data"
    }
   ],
   "source": [
    "noise = \\case\n",
    "    \"g\" -> lift $ uniformD [\"g\",\"h\"]\n",
    "    \"h\" -> return \"h\"\n",
    "\n",
    "parser = do\n",
    "    true <- lift $ uniformD [\"g\", \"h\"]\n",
    "    predicted <- noise true\n",
    "    observed <- lookAhead (\"g\" <|> \"h\")\n",
    "    lift $ condition $ predicted == observed\n",
    "    string observed\n",
    "    return $ head true \n",
    "\n",
    "errorBundlePretty' :: (TraversableStream s, VisualStream s) => ParseErrorBundle s Void -> String \n",
    "errorBundlePretty' = errorBundlePretty\n",
    "\n",
    "-- foo :: MonadInfer m => m T.Text\n",
    "\n",
    "run parser input = (either (T.pack . errorBundlePretty' ) (T.pack . show) ) <$> runParserT parser \"\" input"
   ]
  },
  {
   "cell_type": "code",
   "execution_count": 73,
   "id": "e64782da-ddcc-41bd-aa29-b8f2dcd27184",
   "metadata": {},
   "outputs": [
    {
     "data": {
      "text/plain": [
       "[\n",
       "    ( \"hh\"\n",
       "    , 0.57\n",
       "    )\n",
       ",\n",
       "    ( \"gh\"\n",
       "    , 0.21\n",
       "    )\n",
       ",\n",
       "    ( \"hg\"\n",
       "    , 0.11999999999999995\n",
       "    )\n",
       ",\n",
       "    ( \"gg\"\n",
       "    , 9.999999999999998 e- 2\n",
       "    )\n",
       "]"
      ]
     },
     "metadata": {},
     "output_type": "display_data"
    }
   ],
   "source": [
    "x <- sampleIO $ runPopulation $ smcMultinomial 2 100 $ run (some parser <* eof) \"hh\"\n",
    "pPrint $ toEmpiricalWeighted x "
   ]
  },
  {
   "cell_type": "code",
   "execution_count": 4,
   "id": "596bd3d7-9b32-40af-8c13-041cc9e8e267",
   "metadata": {},
   "outputs": [],
   "source": [
    "import Debug.Trace\n",
    "\n",
    "two = do\n",
    "    x <- parser\n",
    "    y <- parser\n",
    "    lift $ factor $ case (x,y) of ('h','g') -> 1; _ -> 0.5\n",
    "    return [x ,y]\n",
    "    \n",
    "duplicate = do\n",
    "    -- x <- parser\n",
    "    b <- lift $ bernoulli 0.5\n",
    "    if b then \"h\" else \"g\"\n",
    "    -- char x\n",
    "    -- lift $ factor $ case (x,y) of ('h','g') -> 1; _ -> 0.5\n",
    "    -- return x\n",
    "    \n"
   ]
  },
  {
   "cell_type": "code",
   "execution_count": 7,
   "id": "3743b28f-0358-42ce-9dd8-d32cfdcd3e4b",
   "metadata": {},
   "outputs": [
    {
     "data": {
      "text/plain": [
       "[\n",
       "    ( \"\"h\"\"\n",
       "    , 0.7000000000000001\n",
       "    )\n",
       ",\n",
       "    ( \"1:1:\n",
       "        |\n",
       "      1 | hg\n",
       "        | ^\n",
       "      unexpected 'h'\n",
       "      expecting 'g'\n",
       "      \"\n",
       "    , 0.3\n",
       "    )\n",
       "]"
      ]
     },
     "metadata": {},
     "output_type": "display_data"
    }
   ],
   "source": [
    "import Control.Monad.Bayes.Enumerator\n",
    "\n",
    "x <- sampleIO $ runPopulation $ smcMultinomial 2 100 $ run (duplicate) \"hg\"\n",
    "pPrint $ toEmpiricalWeighted x"
   ]
  },
  {
   "cell_type": "code",
   "execution_count": 28,
   "id": "45652aea-3299-4c01-8da9-adccf0d19be2",
   "metadata": {},
   "outputs": [
    {
     "data": {
      "text/plain": [
       "[\n",
       "    ( \"'a'\"\n",
       "    , 1.0\n",
       "    )\n",
       "]"
      ]
     },
     "metadata": {},
     "output_type": "display_data"
    }
   ],
   "source": [
    "p = do \n",
    "    x <- lift (uniformD ['a', 'b'])\n",
    "    lift $ condition (x == 'a')\n",
    "    char x\n",
    "    -- char =<< lift (uniformD ['a', 'b'])\n",
    "    -- lift $ uniformD ['a', 'b']\n",
    "\n",
    "x <- sampleIO $ runPopulation $ smcMultinomial 2 100 $ run p \"aa\"\n",
    "pPrint $ toEmpiricalWeighted x"
   ]
  },
  {
   "cell_type": "code",
   "execution_count": 90,
   "id": "456f0269-2b1f-480c-9b94-60389f5ad66d",
   "metadata": {},
   "outputs": [
    {
     "data": {
      "text/plain": [
       "[\n",
       "    ( \"[True,True]\"\n",
       "    , 0.85\n",
       "    )\n",
       ",\n",
       "    ( \"[True,False]\"\n",
       "    , 0.14999999999999994\n",
       "    )\n",
       "]"
      ]
     },
     "metadata": {},
     "output_type": "display_data"
    }
   ],
   "source": [
    "noise = \\case\n",
    "    True -> lift $ uniformD [\"g\",\"h\"]\n",
    "    False -> return \"h\"\n",
    "\n",
    "parser = do\n",
    "    true <- lift $ bernoulli 0.9\n",
    "    predicted <- noise true\n",
    "    observed <- lookAhead (\"g\" <|> \"h\")\n",
    "    lift $ condition $ predicted == observed\n",
    "    string observed\n",
    "    return true \n",
    "\n",
    "errorBundlePretty' :: (TraversableStream s, VisualStream s) => ParseErrorBundle s Void -> String \n",
    "errorBundlePretty' = errorBundlePretty\n",
    "\n",
    "\n",
    "x <- sampleIO $ runPopulation $ smcMultinomial 2 100 $ run (some parser) \"gh\"\n",
    "pPrint $ toEmpiricalWeighted x"
   ]
  },
  {
   "cell_type": "code",
   "execution_count": null,
   "id": "702e0b55-6850-4b23-9cbb-835cca65a119",
   "metadata": {},
   "outputs": [],
   "source": [
    "-- parser: inferring state of the world: parse sentence, infer state."
   ]
  },
  {
   "cell_type": "code",
   "execution_count": null,
   "id": "a0dcf8e1-e359-4cda-a73c-560146eb3fee",
   "metadata": {},
   "outputs": [],
   "source": [
    "ex = do\n",
    "     "
   ]
  }
 ],
 "metadata": {
  "kernelspec": {
   "display_name": "Haskell - nixpkgs",
   "language": "haskell",
   "name": "ihaskell_nixpkgs"
  },
  "language_info": {
   "codemirror_mode": "ihaskell",
   "file_extension": ".hs",
   "mimetype": "text/x-haskell",
   "name": "haskell",
   "pygments_lexer": "Haskell",
   "version": "9.0.2"
  }
 },
 "nbformat": 4,
 "nbformat_minor": 5
}
