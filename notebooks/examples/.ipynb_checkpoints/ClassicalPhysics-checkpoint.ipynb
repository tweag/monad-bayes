{
 "cells": [
  {
   "cell_type": "markdown",
   "id": "dcc50eb1-32fa-4619-b677-c1e1b81a9202",
   "metadata": {},
   "source": [
    "# Physics simulator with uncertainty"
   ]
  },
  {
   "cell_type": "code",
   "execution_count": 1,
   "id": "dea0401b-5fdb-47a3-b3ae-5d1dff9d5898",
   "metadata": {},
   "outputs": [],
   "source": [
    "import Numeric.Hamilton (stepHam, System, Phase (Phs, phsPositions, phsMomenta), mkSystem', Config (cfgPositions, cfgVelocities, Cfg), toPhase)\n",
    "import GHC.TypeLits (KnownNat)\n",
    "import Numeric.LinearAlgebra.Static hiding ((#))\n",
    "import qualified Data.Vector.Sized                   as V\n",
    "import Control.Monad.Bayes.Class\n",
    "import Data.Maybe (fromMaybe)\n",
    "import Control.Monad.Bayes.Sampler.Strict\n",
    "import Control.Monad\n",
    "import Diagrams.Prelude hiding (normal)\n",
    "import Diagrams.Prelude (V2(..), (#))\n",
    "import qualified Diagrams.Backend.Cairo as C\n",
    "import Data.List\n",
    "\n",
    "\n",
    ":e PatternSynonyms\n",
    ":e ViewPatterns\n",
    ":e RankNTypes\n",
    ":e DataKinds\n",
    ":e FlexibleContexts\n",
    ":e GADTs\n",
    "\n",
    "\n"
   ]
  },
  {
   "cell_type": "code",
   "execution_count": 2,
   "id": "30af4ead-38c3-4ca3-b5a9-d157edd00951",
   "metadata": {},
   "outputs": [],
   "source": [
    "\n",
    "pattern V1 :: a -> V.Vector 1 a\n",
    "pattern V1 x <- (V.head->x)\n",
    "  where\n",
    "    V1 x = V.singleton x\n",
    "\n",
    "type V2 = V.Vector 2\n",
    "pattern V2 :: a -> a -> V2 a\n",
    "pattern V2 x y <- (V.toList->[x,y])\n",
    "  where\n",
    "    V2 x y = V.fromTuple (x, y)\n",
    "\n",
    "fromDouble :: Double -> R 1\n",
    "fromDouble = fromList  . (:[])\n",
    "\n",
    "-- couldn't find the right conversion function...\n",
    "toDouble :: R 1 -> Double \n",
    "toDouble = read . take 8 . tail . show"
   ]
  },
  {
   "cell_type": "markdown",
   "id": "c8139623-cfd8-4423-97ad-2a88011d21b7",
   "metadata": {},
   "source": [
    "There's a number of ways a physics simulator could be used in a probabilistic context. The simplest is to have a prior over initial states, and evolve a system forward.\n",
    "\n",
    "As an example, here we use the `hamilton` classical physics engine in Haskell, which is a very simple, but coordinate independent, physics simulator.\n",
    "\n",
    "We can define a 1D harmonic oscillator like:"
   ]
  },
  {
   "cell_type": "code",
   "execution_count": 3,
   "id": "3cae8752-1b16-4998-9b4c-0e0e6c0471ff",
   "metadata": {},
   "outputs": [],
   "source": [
    "system1 :: (System 1 1)\n",
    "system1 = mkSystem' 1 \n",
    "        id \n",
    "    \n",
    "        (\\(V1 x) -> x ** 2 / 2)\n",
    "        \n",
    "system2 :: (System 1 1)\n",
    "system2 = mkSystem' 1 \n",
    "        id \n",
    "    \n",
    "        (\\(V1 x) -> x ** 2)\n",
    "    \n",
    "-- we could have uncertainty over the Hamiltonian itself, but let's not for now\n",
    "system = uniformD [system1]"
   ]
  },
  {
   "cell_type": "markdown",
   "id": "53bc8bc9-19a5-4b2b-bf81-e83e296f90b6",
   "metadata": {},
   "source": [
    "and an initial distribution over phase space:"
   ]
  },
  {
   "cell_type": "code",
   "execution_count": 4,
   "id": "9406bef5-212c-4175-a56c-659aaa3f6657",
   "metadata": {},
   "outputs": [],
   "source": [
    "phase :: MonadSample m => m (Phase 1)\n",
    "phase = do\n",
    "  pos <- (20*) <$> random\n",
    "  return $ Phs {phsPositions = fromDouble pos, phsMomenta = 10}"
   ]
  },
  {
   "cell_type": "markdown",
   "id": "91019986-f4d6-46ff-b7e1-8e9a148e30f0",
   "metadata": {},
   "source": [
    "`pushforward` is then a distribution over paths of the system, numerically evolved forward according to the oscillator Hamiltonian."
   ]
  },
  {
   "cell_type": "code",
   "execution_count": 5,
   "id": "af70a4e0-4095-4e9f-91d0-4d8b10bb44dd",
   "metadata": {},
   "outputs": [],
   "source": [
    "pushforward :: MonadSample m => m [Double]\n",
    "pushforward = do\n",
    "    initial <- phase\n",
    "    sys <- system\n",
    "    let new = [stepHam stepSize sys initial | stepSize <- [0.1,0.2..10]]\n",
    "    return (toDouble . phsPositions <$> initial:new)\n",
    "    \n",
    "pairs <- sampler $ replicateM 30 pushforward"
   ]
  },
  {
   "cell_type": "code",
   "execution_count": null,
   "id": "d3c167ca-fae2-4b69-bcdb-07f2f30eb9eb",
   "metadata": {},
   "outputs": [],
   "source": [
    "toD x = translateX x $ circle 1\n",
    "diagram $ vsep 0.1 $ [mconcat $ toD <$> x | x <- transpose pairs]"
   ]
  },
  {
   "cell_type": "markdown",
   "id": "19b4ab08-2274-42f9-a461-e1512f8dacf5",
   "metadata": {},
   "source": [
    "Time is the y-axis of this diagram, going downwards. Each circle is a sampled position of the oscillating particle. You can see that this has the nice property that all the uncertainty disappears at certain points, which is exactly what you'd expect from an oscillator."
   ]
  },
  {
   "cell_type": "markdown",
   "id": "41685e86-7e6a-4d75-a376-7d1a2be262fa",
   "metadata": {},
   "source": [
    "<!-- ## Chaotic systems\n",
    "\n",
    "Looking at the evolution of a distribution is a good way to visualize chaos. For example, if we evolve a double pendulum forward in time, from a low variance distribution, we end up with a high variance distribution quickly. -->"
   ]
  }
 ],
 "metadata": {
  "kernelspec": {
   "display_name": "Haskell - nixpkgs",
   "language": "haskell",
   "name": "ihaskell_nixpkgs"
  },
  "language_info": {
   "codemirror_mode": "ihaskell",
   "file_extension": ".hs",
   "mimetype": "text/x-haskell",
   "name": "haskell",
   "pygments_lexer": "Haskell",
   "version": "9.0.2"
  }
 },
 "nbformat": 4,
 "nbformat_minor": 5
}
