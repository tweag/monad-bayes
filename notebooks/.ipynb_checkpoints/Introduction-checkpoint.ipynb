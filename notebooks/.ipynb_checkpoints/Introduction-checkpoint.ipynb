{
 "cells": [
  {
   "cell_type": "code",
   "execution_count": 1,
   "metadata": {},
   "outputs": [],
   "source": [
    ":e ImportQualifiedPost\n",
    ":e FlexibleContexts\n",
    ":e BlockArguments\n",
    ":e TupleSections\n",
    ":e FlexibleContexts\n",
    ":e OverloadedStrings\n",
    ":e LambdaCase\n",
    "\n",
    "import Control.Arrow (first)\n",
    "import Data.Text (pack)\n",
    "import Control.Monad\n",
    "import Numeric.Log\n",
    "\n",
    "import Control.Monad.Bayes.Class\n",
    "import Control.Monad.Bayes.Enumerator\n",
    "import Control.Monad.Bayes.Weighted\n",
    "import Control.Monad.Bayes.Sampler\n",
    "import Control.Monad.Bayes.Integrator\n",
    "\n",
    ":l Plotting.hs\n"
   ]
  },
  {
   "cell_type": "markdown",
   "metadata": {},
   "source": [
    "# Introduction to Monad-Bayes\n",
    "\n",
    "This serves as an interactive alternative to [the user guide](https://monad-bayes.netlify.app/probprog.html). This isn't intended as a tutorial to Haskell, but if you're familiar with probabilistic programming, the general flow of the code should look familiar.\n",
    "\n",
    "To get a sense of how probabilistic programming with monad-bayes works, consider the following:"
   ]
  },
  {
   "cell_type": "code",
   "execution_count": 3,
   "metadata": {},
   "outputs": [],
   "source": [
    "model :: MonadInfer m => Double -> m Double\n",
    "model observation = do\n",
    "    mean <- uniformD [-1, 0, 1]\n",
    "    factor (normalPdf mean 1 observation)\n",
    "    return mean"
   ]
  },
  {
   "cell_type": "markdown",
   "metadata": {},
   "source": [
    "The idea of monad-bayes, and probabilistic programming languages in general is to define distributions as programs. `model` corresponds to the distribution that you would express mathematically as:\n",
    "\n",
    "$$ P(m | o) = \\frac{P(m)P(o|m)}{P(o)} = \\frac{1/3 * \\mathbb{N}(o; m, 1)}{\\sum_{m' \\in \\{-1,0,1\\}} 1/3 * \\mathbb{N}(o; m', 1) } $$\n",
    "\n",
    "As a program, you can think of `model` as doing the following:\n",
    "\n",
    "- first draw from the prior over possible values of `mean` (that's the line `mean <- uniformD [-1, 0, 1]`)\n",
    "- then score a draw higher according to the likelihood placed on `observation` (the argument to `model`) by a normal with $\\mu$=`mean`\n",
    "\n",
    "- then return the `mean`\n",
    "\n",
    "To orient you on the relationship between the mathematical view of a distribution and the programming one, here are some notes:\n",
    "\n",
    "- a distribution over values of type `a` has type `MonadInfer m => m a`\n",
    "- a joint distribution over values of types `a` and `b` is a distribution over a tuple: `MonadInfer m => m (a, b)`\n",
    "- a conditional distribution over values of type `a` conditioned on values of type `b` is a function into a distribution: \n",
    "    `MonadInfer m => b -> m a`\n",
    "\n",
    "\n",
    "\n",
    "For example, if the value observed is $0.3$, then we can calculate the distribution over the mean:\n",
    "\n"
   ]
  },
  {
   "cell_type": "code",
   "execution_count": 4,
   "metadata": {},
   "outputs": [
    {
     "data": {
      "text/plain": [
       "[(0.0,0.44090549839518783),(1.0,0.36098289073731515),(-1.0,0.198111610867497)]"
      ]
     },
     "metadata": {},
     "output_type": "display_data"
    }
   ],
   "source": [
    "inferredDistribution = enumerate $ model 0.3\n",
    "inferredDistribution"
   ]
  },
  {
   "cell_type": "code",
   "execution_count": 5,
   "metadata": {
    "jupyter": {
     "source_hidden": true
    },
    "tags": []
   },
   "outputs": [
    {
     "data": {
      "application/vnd.vegalite.v4+json": {
       "$schema": "https://vega.github.io/schema/vega-lite/v4.json",
       "data": {
        "values": [
         {
          "X": "0.0",
          "Y": 0.44090549839518783
         },
         {
          "X": "1.0",
          "Y": 0.36098289073731515
         },
         {
          "X": "-1.0",
          "Y": 0.198111610867497
         }
        ]
       },
       "encoding": {
        "x": {
         "field": "X",
         "type": "nominal"
        },
        "y": {
         "field": "Y",
         "type": "quantitative"
        }
       },
       "height": 200,
       "mark": "bar",
       "width": 200
      },
      "image/png": "[encoded data removed]"
     },
     "metadata": {},
     "output_type": "display_data"
    }
   ],
   "source": [
    "plotVega (first (pack . show) <$> inferredDistribution)"
   ]
  },
  {
   "cell_type": "markdown",
   "metadata": {},
   "source": [
    "To produce this plot, we performed *inference*, to obtain the exact form of the distribution represented by `model`. Because the only random variable in `model` had a support that was small and discrete (the set $\\{-1, 0, 1\\}$), performing this inference exactly was straightforward.\n",
    "\n",
    "`enumerate` is an exact inference method offered by monad-bayes targeted as discrete distributions.\n",
    "\n",
    "You are encouraged to change `model` in a number of ways and observe how the results change:\n",
    "- try changing the prior (currently `uniformD [-1, 0, 1]`)\n",
    "- try changing the score (currently `factor (normalPdf mean 1 observation)`)\n",
    "- try changing the types of the observation and latent variable (i.e. `mean`)"
   ]
  },
  {
   "cell_type": "markdown",
   "metadata": {},
   "source": [
    "# Distributions as programs\n",
    "\n",
    "If you are familiar with Haskell, then it should be clear that the class of distributions you can express in this way is very broad, since we have monadic control flow. For example, you could build:"
   ]
  },
  {
   "cell_type": "code",
   "execution_count": 4,
   "metadata": {},
   "outputs": [],
   "source": [
    "lengthDist :: MonadInfer m => Double -> m Int\n",
    "lengthDist observation = do\n",
    "    means <- replicateM 3 (model observation)\n",
    "    return (length $ filter (>=1) means)"
   ]
  },
  {
   "cell_type": "markdown",
   "metadata": {},
   "source": [
    "# Exact inference for continuous distributions\n",
    "\n",
    "`enumerate` only works for discrete random variables (like categorical or bernoulli distributions).\n",
    "\n",
    "For continuous distributions, there is almost a (near) exact inference algorithm, which performs numerical integration. It is defined in `Control.Monad.Bayes.Integrator`, which also provides `histogram`:\n"
   ]
  },
  {
   "cell_type": "markdown",
   "metadata": {},
   "source": [
    "Given an observation, this is the probability on how many (out of 3) independent draws from the posterior of the model conditioned on the observation will be greater or equal to 1. Consider the hassle of defining this with an equation, and you'll see why probabilistic programming is appealing as a way of accelerating modelling and inference."
   ]
  },
  {
   "cell_type": "code",
   "execution_count": 7,
   "metadata": {},
   "outputs": [
    {
     "data": {
      "text/plain": [
       "[(1,0.4228030765220977),(2,0.3090938161626379),(0,0.19278121201287118),(3,7.532189530239404e-2)]"
      ]
     },
     "metadata": {},
     "output_type": "display_data"
    }
   ],
   "source": [
    "enumerate $ lengthDist 0.5"
   ]
  },
  {
   "cell_type": "code",
   "execution_count": 8,
   "metadata": {},
   "outputs": [
    {
     "data": {
      "application/vnd.vegalite.v4+json": {
       "$schema": "https://vega.github.io/schema/vega-lite/v4.json",
       "data": {
        "values": [
         {
          "X": -4.3,
          "Y": 1.130592323995006e-05
         },
         {
          "X": -4.1000000000000005,
          "Y": 2.6962655231994744e-05
         },
         {
          "X": -3.9000000000000004,
          "Y": 6.453120955372455e-05
         },
         {
          "X": -3.7,
          "Y": 0.00011893668061056686
         },
         {
          "X": -3.5,
          "Y": 0.00025201490031562045
         },
         {
          "X": -3.3000000000000003,
          "Y": 0.0004717412175174998
         },
         {
          "X": -3.1,
          "Y": 0.0009386806724130974
         },
         {
          "X": -2.9000000000000004,
          "Y": 0.0016579159951963904
         },
         {
          "X": -2.7,
          "Y": 0.0027804948691254813
         },
         {
          "X": -2.5,
          "Y": 0.004448368834902848
         },
         {
          "X": -2.3000000000000003,
          "Y": 0.00681568286985589
         },
         {
          "X": -2.1,
          "Y": 0.011045176260450752
         },
         {
          "X": -1.9000000000000001,
          "Y": 0.01607186189903378
         },
         {
          "X": -1.7000000000000002,
          "Y": 0.022441046003227313
         },
         {
          "X": -1.5,
          "Y": 0.03011723227393387
         },
         {
          "X": -1.3,
          "Y": 0.03888527634021224
         },
         {
          "X": -1.1,
          "Y": 0.04831693653557609
         },
         {
          "X": -0.9,
          "Y": 0.05777073830312829
         },
         {
          "X": -0.7000000000000001,
          "Y": 0.06644067264567828
         },
         {
          "X": -0.5,
          "Y": 0.07345895150629281
         },
         {
          "X": -0.30000000000000004,
          "Y": 0.07803999760903894
         },
         {
          "X": -0.1,
          "Y": 0.07963311467629174
         },
         {
          "X": 0.1,
          "Y": 0.07803999760903894
         },
         {
          "X": 0.30000000000000004,
          "Y": 0.07345895150629281
         },
         {
          "X": 0.5,
          "Y": 0.06644067264567828
         },
         {
          "X": 0.7000000000000001,
          "Y": 0.05777073830312829
         },
         {
          "X": 0.9,
          "Y": 0.04831693653557609
         },
         {
          "X": 1.1,
          "Y": 0.03888527634021224
         },
         {
          "X": 1.3,
          "Y": 0.03011723227393387
         },
         {
          "X": 1.5,
          "Y": 0.022441046003227313
         },
         {
          "X": 1.7000000000000002,
          "Y": 0.01607186189903378
         },
         {
          "X": 1.9000000000000001,
          "Y": 0.011045176260450752
         },
         {
          "X": 2.1,
          "Y": 0.00681568286985589
         },
         {
          "X": 2.3000000000000003,
          "Y": 0.004448368834902848
         },
         {
          "X": 2.5,
          "Y": 0.0027804948691254813
         },
         {
          "X": 2.7,
          "Y": 0.0016579159951963904
         },
         {
          "X": 2.9000000000000004,
          "Y": 0.0009386806724130974
         },
         {
          "X": 3.1,
          "Y": 0.0004717412175174998
         },
         {
          "X": 3.3000000000000003,
          "Y": 0.00025201490031562045
         },
         {
          "X": 3.5,
          "Y": 0.00011893668061056686
         },
         {
          "X": 3.7,
          "Y": 6.453120955372455e-05
         },
         {
          "X": 3.9000000000000004,
          "Y": 2.6962655231994744e-05
         },
         {
          "X": 4.1000000000000005,
          "Y": 1.130592323995006e-05
         },
         {
          "X": 4.3,
          "Y": 5.5621114130316836e-06
         },
         {
          "X": 4.5,
          "Y": 2.05165127372887e-06
         }
        ]
       },
       "encoding": {
        "x": {
         "field": "X",
         "type": "quantitative"
        },
        "y": {
         "field": "Y",
         "type": "quantitative"
        }
       },
       "height": 200,
       "mark": "bar",
       "width": 200
      },
      "image/png": "[encoded data removed]"
     },
     "metadata": {},
     "output_type": "display_data"
    }
   ],
   "source": [
    "import Data.List\n",
    "import Data.Ord\n",
    "import qualified Data.Text as T\n",
    "\n",
    "plotVega $ histogram 45 0.2 (normal 0 1)"
   ]
  },
  {
   "cell_type": "markdown",
   "metadata": {},
   "source": [
    "This will work for any distribution in principle, but in practice it is unfeasibly slow for complex distributions. That said, quite a few interesting distributions can be expressed, like this mixture of Gaussians:"
   ]
  },
  {
   "cell_type": "code",
   "execution_count": 21,
   "metadata": {},
   "outputs": [
    {
     "data": {
      "application/vnd.vegalite.v4+json": {
       "$schema": "https://vega.github.io/schema/vega-lite/v4.json",
       "data": {
        "values": [
         {
          "X": -24.8,
          "Y": 5.3095963671804324e-06
         },
         {
          "X": -24.6,
          "Y": 6.165627647681546e-06
         },
         {
          "X": -24.400000000000002,
          "Y": 7.142426872944732e-06
         },
         {
          "X": -24.200000000000003,
          "Y": 8.254377982243924e-06
         },
         {
          "X": -24,
          "Y": 9.517217568292708e-06
         },
         {
          "X": -23.8,
          "Y": 1.0948119678973923e-05
         },
         {
          "X": -23.6,
          "Y": 1.951916511397483e-05
         },
         {
          "X": -23.400000000000002,
          "Y": 1.53873326738432e-05
         },
         {
          "X": -23.200000000000003,
          "Y": 1.756447251953682e-05
         },
         {
          "X": -23,
          "Y": 2.0007057866674773e-05
         },
         {
          "X": -22.8,
          "Y": 2.2741709649609795e-05
         },
         {
          "X": -22.6,
          "Y": 2.5797043317974205e-05
         },
         {
          "X": -22.400000000000002,
          "Y": 2.920375038464111e-05
         },
         {
          "X": -22.200000000000003,
          "Y": 5.1043211362140733e-05
         },
         {
          "X": -22,
          "Y": 3.947883961364423e-05
         },
         {
          "X": -21.8,
          "Y": 4.438883568868708e-05
         },
         {
          "X": -21.6,
          "Y": 4.981604384789415e-05
         },
         {
          "X": -21.400000000000002,
          "Y": 5.5803886480783915e-05
         },
         {
          "X": -21.200000000000003,
          "Y": 9.627310649706154e-05
         },
         {
          "X": -21,
          "Y": 7.353406698112101e-05
         },
         {
          "X": -20.8,
          "Y": 8.186283113755633e-05
         },
         {
          "X": -20.6,
          "Y": 9.097940195119327e-05
         },
         {
          "X": -20.400000000000002,
          "Y": 0.00015542877950402179
         },
         {
          "X": -20.200000000000003,
          "Y": 0.0001176030725961721
         },
         {
          "X": -20,
          "Y": 0.00012994936307383746
         },
         {
          "X": -19.8,
          "Y": 0.00022043035575747914
         },
         {
          "X": -19.6,
          "Y": 0.0001656444511166623
         },
         {
          "X": -19.400000000000002,
          "Y": 0.00018204250426452149
         },
         {
          "X": -19.200000000000003,
          "Y": 0.00030672846672537724
         },
         {
          "X": -19,
          "Y": 0.00022900418687446427
         },
         {
          "X": -18.8,
          "Y": 0.00025038660506084855
         },
         {
          "X": -18.6,
          "Y": 0.0004192169646104488
         },
         {
          "X": -18.400000000000002,
          "Y": 0.00031107530922898813
         },
         {
          "X": -18.2,
          "Y": 0.0005185837672412176
         },
         {
          "X": -18,
          "Y": 0.0003832048398221772
         },
         {
          "X": -17.8,
          "Y": 0.00041558110144749964
         },
         {
          "X": -17.6,
          "Y": 0.0006888181760479613
         },
         {
          "X": -17.400000000000002,
          "Y": 0.0005061612922303652
         },
         {
          "X": -17.2,
          "Y": 0.000835656696506249
         },
         {
          "X": -17,
          "Y": 0.0006117199264780828
         },
         {
          "X": -16.8,
          "Y": 0.001006103121920774
         },
         {
          "X": -16.6,
          "Y": 0.0007337779924051356
         },
         {
          "X": -16.400000000000002,
          "Y": 0.0012024350560064876
         },
         {
          "X": -16.2,
          "Y": 0.0008738440118643176
         },
         {
          "X": -16,
          "Y": 0.0014268870141138828
         },
         {
          "X": -15.8,
          "Y": 0.0010333804232739619
         },
         {
          "X": -15.600000000000001,
          "Y": 0.0016815964699223697
         },
         {
          "X": -15.4,
          "Y": 0.0012137652729090045
         },
         {
          "X": -15.200000000000001,
          "Y": 0.0019685429326754145
         },
         {
          "X": -15,
          "Y": 0.0014162493419906026
         },
         {
          "X": -14.8,
          "Y": 0.0022894803727306276
         },
         {
          "X": -14.600000000000001,
          "Y": 0.0016419090158662855
         },
         {
          "X": -14.4,
          "Y": 0.002645863614316109
         },
         {
          "X": -14.200000000000001,
          "Y": 0.0018915954247418377
         },
         {
          "X": -14,
          "Y": 0.0030387696830687394
         },
         {
          "X": -13.8,
          "Y": 0.003292322586302597
         },
         {
          "X": -13.600000000000001,
          "Y": 0.002342373597746243
         },
         {
          "X": -13.4,
          "Y": 0.00374472560044742
         },
         {
          "X": -13.200000000000001,
          "Y": 0.0026563505776088787
         },
         {
          "X": -13,
          "Y": 0.004234089126490092
         },
         {
          "X": -12.8,
          "Y": 0.004545075472352339
         },
         {
          "X": -12.600000000000001,
          "Y": 0.003209076685363121
         },
         {
          "X": -12.4,
          "Y": 0.0050912499414268765
         },
         {
          "X": -12.200000000000001,
          "Y": 0.0035843756991705495
         },
         {
          "X": -12,
          "Y": 0.005670273981989368
         },
         {
          "X": -11.8,
          "Y": 0.006032222334389711
         },
         {
          "X": -11.600000000000001,
          "Y": 0.004227504911733166
         },
         {
          "X": -11.4,
          "Y": 0.006657082448059182
         },
         {
          "X": -11.200000000000001,
          "Y": 0.004652199290268652
         },
         {
          "X": -11,
          "Y": 0.007304984998232411
         },
         {
          "X": -10.8,
          "Y": 0.007702575045606567
         },
         {
          "X": -10.600000000000001,
          "Y": 0.005358481300238634
         },
         {
          "X": -10.4,
          "Y": 0.008375725553296841
         },
         {
          "X": -10.200000000000001,
          "Y": 0.005810273443431885
         },
         {
          "X": -10,
          "Y": 0.009056025256592605
         },
         {
          "X": -9.8,
          "Y": 0.009464504364960952
         },
         {
          "X": -9.600000000000001,
          "Y": 0.0065357322362273405
         },
         {
          "X": -9.4,
          "Y": 0.010140142190877145
         },
         {
          "X": -9.200000000000001,
          "Y": 0.006982288056300124
         },
         {
          "X": -9,
          "Y": 0.010801803976785741
         },
         {
          "X": -8.8,
          "Y": 0.011188334576243604
         },
         {
          "X": -8.6,
          "Y": 0.007668627394691908
         },
         {
          "X": -8.4,
          "Y": 0.011808672869082982
         },
         {
          "X": -8.200000000000001,
          "Y": 0.008070364799286928
         },
         {
          "X": -8,
          "Y": 0.012391059176428562
         },
         {
          "X": -7.800000000000001,
          "Y": 0.012718425893634153
         },
         {
          "X": -7.6000000000000005,
          "Y": 0.008651553198501605
         },
         {
          "X": -7.4,
          "Y": 0.013221056792861181
         },
         {
          "X": -7.2,
          "Y": 0.008967019281621344
         },
         {
          "X": -7,
          "Y": 0.013662649695284454
         },
         {
          "X": -6.800000000000001,
          "Y": 0.013895057367178457
         },
         {
          "X": -6.6000000000000005,
          "Y": 0.009379571751890135
         },
         {
          "X": -6.4,
          "Y": 0.014223355365981644
         },
         {
          "X": -6.2,
          "Y": 0.009572616707840676
         },
         {
          "X": -6,
          "Y": 0.014472770164764372
         },
         {
          "X": -5.800000000000001,
          "Y": 0.014582570750033136
         },
         {
          "X": -5.6000000000000005,
          "Y": 0.009767512178953679
         },
         {
          "X": -5.4,
          "Y": 0.014696779267426735
         },
         {
          "X": -5.2,
          "Y": 0.009814530455681262
         },
         {
          "X": -5,
          "Y": 0.014723268976915527
         },
         {
          "X": -4.800000000000001,
          "Y": 0.014696779267426735
         },
         {
          "X": -4.6000000000000005,
          "Y": 0.009767512178953679
         },
         {
          "X": -4.4,
          "Y": 0.014582570750033136
         },
         {
          "X": -4.2,
          "Y": 0.014472770164764372
         },
         {
          "X": -4,
          "Y": 0.009572616707840676
         },
         {
          "X": -3.8000000000000003,
          "Y": 0.014223355365981644
         },
         {
          "X": -3.6,
          "Y": 0.009379571751890135
         },
         {
          "X": -3.4000000000000004,
          "Y": 0.013895057367178457
         },
         {
          "X": -3.2,
          "Y": 0.013662649695284454
         },
         {
          "X": -3,
          "Y": 0.008967019281621344
         },
         {
          "X": -2.8000000000000003,
          "Y": 0.013221056792861181
         },
         {
          "X": -2.6,
          "Y": 0.008651553198501605
         },
         {
          "X": -2.4000000000000004,
          "Y": 0.012718425893634153
         },
         {
          "X": -2.2,
          "Y": 0.012391059176428562
         },
         {
          "X": -2,
          "Y": 0.008070364799286928
         },
         {
          "X": -1.8,
          "Y": 0.011808672869082982
         },
         {
          "X": -1.6,
          "Y": 0.007668627394691908
         },
         {
          "X": -1.4000000000000001,
          "Y": 0.011188334576243604
         },
         {
          "X": -1.2000000000000002,
          "Y": 0.010801803976785741
         },
         {
          "X": -1,
          "Y": 0.006982288056300124
         },
         {
          "X": -0.8,
          "Y": 0.010140142190877145
         },
         {
          "X": -0.6000000000000001,
          "Y": 0.0065357322362273405
         },
         {
          "X": -0.4,
          "Y": 0.009464504364960952
         },
         {
          "X": -0.2,
          "Y": 0.009056025256592605
         },
         {
          "X": 0,
          "Y": 0.005810273443431885
         },
         {
          "X": 0.2,
          "Y": 0.008375725553296841
         },
         {
          "X": 0.4,
          "Y": 0.005358481300238634
         },
         {
          "X": 0.6000000000000001,
          "Y": 0.007702575045606567
         },
         {
          "X": 0.8,
          "Y": 0.007304984998232411
         },
         {
          "X": 1,
          "Y": 0.004652199290268652
         },
         {
          "X": 1.2000000000000002,
          "Y": 0.006657082448059182
         },
         {
          "X": 1.4000000000000001,
          "Y": 0.004227504911733166
         },
         {
          "X": 1.6,
          "Y": 0.006032222334389711
         },
         {
          "X": 1.8,
          "Y": 0.005670273981989368
         },
         {
          "X": 2,
          "Y": 0.0035843756991705495
         },
         {
          "X": 2.2,
          "Y": 0.0050912499414268765
         },
         {
          "X": 2.4000000000000004,
          "Y": 0.0032090766853715828
         },
         {
          "X": 2.6,
          "Y": 0.004545075472404506
         },
         {
          "X": 2.8000000000000003,
          "Y": 0.004234089126669467
         },
         {
          "X": 3,
          "Y": 0.002656350578426903
         },
         {
          "X": 3.2,
          "Y": 0.0037447256036590893
         },
         {
          "X": 3.4000000000000004,
          "Y": 0.0023423736094486908
         },
         {
          "X": 3.6,
          "Y": 0.0032923226260335938
         },
         {
          "X": 3.8000000000000003,
          "Y": 0.0030387698092297524
         },
         {
          "X": 4,
          "Y": 0.0018915958944567674
         },
         {
          "X": 4.2,
          "Y": 0.0026458651255221624
         },
         {
          "X": 4.4,
          "Y": 0.0016419135353878634
         },
         {
          "X": 4.6000000000000005,
          "Y": 0.0022894929933032497
         },
         {
          "X": 4.800000000000001,
          "Y": 0.0014162890889872167
         },
         {
          "X": 5,
          "Y": 0.0019686515763010747
         },
         {
          "X": 5.2,
          "Y": 0.0012140419610368388
         },
         {
          "X": 5.4,
          "Y": 0.001682256247895249
         },
         {
          "X": 5.6000000000000005,
          "Y": 0.0010348602959120942
         },
         {
          "X": 5.800000000000001,
          "Y": 0.0014305303394102473
         },
         {
          "X": 6,
          "Y": 0.0008817023236705112
         },
         {
          "X": 6.2,
          "Y": 0.001220669132895143
         },
         {
          "X": 6.4,
          "Y": 0.0007709761855503958
         },
         {
          "X": 6.6000000000000005,
          "Y": 0.0010775432999527918
         },
         {
          "X": 6.800000000000001,
          "Y": 0.0007415719645205989
         },
         {
          "X": 7,
          "Y": 0.0010868554817407183
         },
         {
          "X": 7.2,
          "Y": 0.0009382280004843571
         },
         {
          "X": 7.4,
          "Y": 0.0013961737025615243
         },
         {
          "X": 7.6000000000000005,
          "Y": 0.001522551128616199
         },
         {
          "X": 7.800000000000001,
          "Y": 0.0022142478680458356
         },
         {
          "X": 8,
          "Y": 0.0029898582096525832
         },
         {
          "X": 8.200000000000001,
          "Y": 0.0040797108205224576
         },
         {
          "X": 8.4,
          "Y": 0.005585183695811193
         },
         {
          "X": 8.6,
          "Y": 0.007060207346670868
         },
         {
          "X": 8.8,
          "Y": 0.008867014272076047
         },
         {
          "X": 9,
          "Y": 0.01085140149296492
         },
         {
          "X": 9.200000000000001,
          "Y": 0.012566493408287312
         },
         {
          "X": 9.4,
          "Y": 0.014152923036878371
         },
         {
          "X": 9.600000000000001,
          "Y": 0.01540374307780132
         },
         {
          "X": 9.8,
          "Y": 0.015963490067288637
         },
         {
          "X": 10,
          "Y": 0.017178328407119536
         },
         {
          "X": 10.200000000000001,
          "Y": 0.015338741501547862
         },
         {
          "X": 10.4,
          "Y": 0.014078257987712901
         },
         {
          "X": 10.600000000000001,
          "Y": 0.012466313735160347
         },
         {
          "X": 10.8,
          "Y": 0.010618207093220663
         },
         {
          "X": 11,
          "Y": 0.008734283191698645
         },
         {
          "X": 11.200000000000001,
          "Y": 0.006865624628090803
         },
         {
          "X": 11.4,
          "Y": 0.0052157827750486385
         },
         {
          "X": 11.600000000000001,
          "Y": 0.0038130243469821565
         },
         {
          "X": 11.8,
          "Y": 0.00251075328202501
         },
         {
          "X": 12,
          "Y": 0.0018820862395857992
         },
         {
          "X": 12.200000000000001,
          "Y": 0.0011361737775533406
         },
         {
          "X": 12.4,
          "Y": 0.0007331525698315374
         },
         {
          "X": 12.600000000000001,
          "Y": 0.0004548084179036016
         },
         {
          "X": 12.8,
          "Y": 0.0002712058431011442
         },
         {
          "X": 13,
          "Y": 0.00014741651056205293
         },
         {
          "X": 13.200000000000001,
          "Y": 8.682751070586094e-05
         },
         {
          "X": 13.4,
          "Y": 5.671735825923499e-05
         },
         {
          "X": 13.600000000000001,
          "Y": 2.918219656762929e-05
         },
         {
          "X": 13.8,
          "Y": 1.7375529374486354e-05
         },
         {
          "X": 14,
          "Y": 1.1897703278608336e-05
         },
         {
          "X": 14.200000000000001,
          "Y": 8.622299511077096e-06
         },
         {
          "X": 14.4,
          "Y": 6.825405620560989e-06
         },
         {
          "X": 14.600000000000001,
          "Y": 5.586284495014563e-06
         },
         {
          "X": 14.8,
          "Y": 4.669861980384239e-06
         },
         {
          "X": 15,
          "Y": 3.948313554694825e-06
         },
         {
          "X": 15.200000000000001,
          "Y": 3.3534425460400294e-06
         },
         {
          "X": 15.4,
          "Y": 2.8527159283821076e-06
         },
         {
          "X": 15.600000000000001,
          "Y": 2.4233690209484857e-06
         },
         {
          "X": 15.8,
          "Y": 2.054328147189825e-06
         },
         {
          "X": 16,
          "Y": 1.7371920198927467e-06
         },
         {
          "X": 16.2,
          "Y": 1.46513697892469e-06
         },
         {
          "X": 16.400000000000002,
          "Y": 6.430045608227638e-07
         },
         {
          "X": 16.6,
          "Y": 1.1289058668345064e-06
         },
         {
          "X": 16.8,
          "Y": 9.45432750205755e-07
         },
         {
          "X": 17,
          "Y": 7.894740185842172e-07
         },
         {
          "X": 17.2,
          "Y": 6.572915930046536e-07
         },
         {
          "X": 17.400000000000002,
          "Y": 5.455944919957147e-07
         },
         {
          "X": 17.6,
          "Y": 4.5149403031157523e-07
         },
         {
          "X": 17.8,
          "Y": 1.9525799762733373e-07
         },
         {
          "X": 18,
          "Y": 3.378964915674886e-07
         },
         {
          "X": 18.2,
          "Y": 2.774244639758001e-07
         },
         {
          "X": 18.400000000000002,
          "Y": 2.270377464987253e-07
         },
         {
          "X": 18.6,
          "Y": 1.8519131251684698e-07
         },
         {
          "X": 18.8,
          "Y": 7.920249677766002e-08
         },
         {
          "X": 19,
          "Y": 1.3557216891866329e-07
         },
         {
          "X": 19.200000000000003,
          "Y": 1.0965115492621583e-07
         },
         {
          "X": 19.400000000000002,
          "Y": 8.837751973876313e-08
         },
         {
          "X": 19.6,
          "Y": 7.097930240632512e-08
         },
         {
          "X": 19.8,
          "Y": 2.999435665118401e-08
         },
         {
          "X": 20,
          "Y": 5.074307876946539e-08
         },
         {
          "X": 20.200000000000003,
          "Y": 4.03840509672416e-08
         },
         {
          "X": 20.400000000000002,
          "Y": 1.6945424661950835e-08
         },
         {
          "X": 20.6,
          "Y": 2.8470764678943016e-08
         },
         {
          "X": 20.8,
          "Y": 2.244466737896972e-08
         },
         {
          "X": 21,
          "Y": 9.348942461918773e-09
         },
         {
          "X": 21.200000000000003,
          "Y": 1.5595477957054267e-08
         },
         {
          "X": 21.400000000000002,
          "Y": 1.2173775578461567e-08
         },
         {
          "X": 21.6,
          "Y": 5.032087529533858e-09
         },
         {
          "X": 21.8,
          "Y": 8.332006961460162e-09
         },
         {
          "X": 22,
          "Y": 6.437450105521275e-09
         },
         {
          "X": 22.200000000000003,
          "Y": 2.6398048870269847e-09
         },
         {
          "X": 22.400000000000002,
          "Y": 4.337201860213885e-09
         },
         {
          "X": 22.6,
          "Y": 1.7697821375641629e-09
         },
         {
          "X": 22.8,
          "Y": 2.8938473215601114e-09
         },
         {
          "X": 23,
          "Y": 2.197451537277538e-09
         },
         {
          "X": 23.200000000000003,
          "Y": 8.890601143487822e-10
         },
         {
          "X": 23.400000000000002,
          "Y": 1.4418071583810853e-09
         },
         {
          "X": 23.6,
          "Y": 5.802653553133105e-10
         },
         {
          "X": 23.8,
          "Y": 9.362400492222958e-10
         },
         {
          "X": 24,
          "Y": 3.747638369657277e-10
         },
         {
          "X": 24.200000000000003,
          "Y": 6.015208610865836e-10
         },
         {
          "X": 24.400000000000002,
          "Y": 2.3944960617131523e-10
         },
         {
          "X": 24.6,
          "Y": 3.822842156214353e-10
         },
         {
          "X": 24.8,
          "Y": 2.8084119923931763e-10
         },
         {
          "X": 25,
          "Y": 1.1073367866069837e-10
         }
        ]
       },
       "encoding": {
        "x": {
         "field": "X",
         "type": "quantitative"
        },
        "y": {
         "field": "Y",
         "type": "quantitative"
        }
       },
       "height": 200,
       "mark": "bar",
       "width": 200
      },
      "image/png": "[encoded data removed]"
     },
     "metadata": {},
     "output_type": "display_data"
    }
   ],
   "source": [
    "model2 = do\n",
    "    p <- bernoulli 0.2\n",
    "    if p then normal 10 1 else normal (-5) 5\n",
    "\n",
    "plotVega $ histogram 250 0.2 model2"
   ]
  },
  {
   "cell_type": "markdown",
   "metadata": {},
   "source": [
    "Or this normal distribution restricted to the positive reals (i.e. $p(x) \\propto N(x;0,4)\\cdot I[x>0]$)"
   ]
  },
  {
   "cell_type": "code",
   "execution_count": 30,
   "metadata": {},
   "outputs": [
    {
     "data": {
      "application/vnd.vegalite.v4+json": {
       "$schema": "https://vega.github.io/schema/vega-lite/v4.json",
       "data": {
        "values": [
         {
          "X": -24.5,
          "Y": 0
         },
         {
          "X": -24,
          "Y": 0
         },
         {
          "X": -23.5,
          "Y": 0
         },
         {
          "X": -23,
          "Y": 0
         },
         {
          "X": -22.5,
          "Y": 0
         },
         {
          "X": -22,
          "Y": 0
         },
         {
          "X": -21.5,
          "Y": 0
         },
         {
          "X": -21,
          "Y": 0
         },
         {
          "X": -20.5,
          "Y": 0
         },
         {
          "X": -20,
          "Y": 0
         },
         {
          "X": -19.5,
          "Y": 0
         },
         {
          "X": -19,
          "Y": 0
         },
         {
          "X": -18.5,
          "Y": 0
         },
         {
          "X": -18,
          "Y": 0
         },
         {
          "X": -17.5,
          "Y": 0
         },
         {
          "X": -17,
          "Y": 0
         },
         {
          "X": -16.5,
          "Y": 0
         },
         {
          "X": -16,
          "Y": 0
         },
         {
          "X": -15.5,
          "Y": 0
         },
         {
          "X": -15,
          "Y": 0
         },
         {
          "X": -14.5,
          "Y": 0
         },
         {
          "X": -14,
          "Y": 0
         },
         {
          "X": -13.5,
          "Y": 0
         },
         {
          "X": -13,
          "Y": 0
         },
         {
          "X": -12.5,
          "Y": 0
         },
         {
          "X": -12,
          "Y": 0
         },
         {
          "X": -11.5,
          "Y": 0
         },
         {
          "X": -11,
          "Y": 0
         },
         {
          "X": -10.5,
          "Y": 0
         },
         {
          "X": -10,
          "Y": 0
         },
         {
          "X": -9.5,
          "Y": 0
         },
         {
          "X": -9,
          "Y": 0
         },
         {
          "X": -8.5,
          "Y": 0
         },
         {
          "X": -8,
          "Y": 0
         },
         {
          "X": -7.5,
          "Y": 0
         },
         {
          "X": -7,
          "Y": 0
         },
         {
          "X": -6.5,
          "Y": 0
         },
         {
          "X": -6,
          "Y": 0
         },
         {
          "X": -5.5,
          "Y": 0
         },
         {
          "X": -5,
          "Y": 0
         },
         {
          "X": -4.5,
          "Y": 0
         },
         {
          "X": -4,
          "Y": 0
         },
         {
          "X": -3.5,
          "Y": 0
         },
         {
          "X": -3,
          "Y": 0
         },
         {
          "X": -2.5,
          "Y": 0
         },
         {
          "X": -2,
          "Y": 0
         },
         {
          "X": -1.5,
          "Y": 0
         },
         {
          "X": -1,
          "Y": 0
         },
         {
          "X": -0.5,
          "Y": 0
         },
         {
          "X": 0,
          "Y": 0.09847923259850619
         },
         {
          "X": 0.5,
          "Y": 0.09688712321071996
         },
         {
          "X": 1,
          "Y": 0.0938735457320932
         },
         {
          "X": 1.5,
          "Y": 0.08957959553646837
         },
         {
          "X": 2,
          "Y": 0.08419940071719337
         },
         {
          "X": 2.5,
          "Y": 0.07796444369864483
         },
         {
          "X": 3,
          "Y": 0.07112607677780432
         },
         {
          "X": 3.5,
          "Y": 0.07141720800224513
         },
         {
          "X": 4,
          "Y": 0.055733279426873776
         },
         {
          "X": 4.5,
          "Y": 0.04857122789700993
         },
         {
          "X": 5,
          "Y": 0.04171858464689489
         },
         {
          "X": 5.5,
          "Y": 0.035313819914731925
         },
         {
          "X": 6,
          "Y": 0.029455693707741988
         },
         {
          "X": 6.5,
          "Y": 0.02420521543207655
         },
         {
          "X": 7,
          "Y": 0.01958961252353236
         },
         {
          "X": 7.5,
          "Y": 0.015607537144417724
         },
         {
          "X": 8,
          "Y": 0.012234833688048747
         },
         {
          "X": 8.5,
          "Y": 0.009430329724680782
         },
         {
          "X": 9,
          "Y": 0.0071412649856702265
         },
         {
          "X": 9.5,
          "Y": 0.0047307925595266595
         },
         {
          "X": 10,
          "Y": 0.004029192470264292
         },
         {
          "X": 10.5,
          "Y": 0.00257568309521291
         },
         {
          "X": 11,
          "Y": 0.002113460657256411
         },
         {
          "X": 11.5,
          "Y": 0.0012980250065589738
         },
         {
          "X": 12,
          "Y": 0.0009156464715116446
         },
         {
          "X": 12.5,
          "Y": 0.0006330594154629887
         },
         {
          "X": 13,
          "Y": 0.00042845707476134315
         },
         {
          "X": 13.5,
          "Y": 0.00028350200739059056
         },
         {
          "X": 14,
          "Y": 0.0001831453366031207
         },
         {
          "X": 14.5,
          "Y": 0.00010205277856315487
         },
         {
          "X": 15,
          "Y": 6.730544243028251e-05
         },
         {
          "X": 15.5,
          "Y": 4.899427881498245e-05
         },
         {
          "X": 16,
          "Y": 2.5399813650379086e-05
         },
         {
          "X": 16.5,
          "Y": 1.5627846530421348e-05
         },
         {
          "X": 17,
          "Y": 9.384658289544393e-06
         },
         {
          "X": 17.5,
          "Y": 5.493599502781822e-06
         },
         {
          "X": 18,
          "Y": 3.130827261430701e-06
         },
         {
          "X": 18.5,
          "Y": 1.5138117814231015e-06
         },
         {
          "X": 19,
          "Y": 1.0370383982854682e-06
         },
         {
          "X": 19.5,
          "Y": 4.7630049019556284e-07
         },
         {
          "X": 20,
          "Y": 3.0976739338026207e-07
         },
         {
          "X": 20.5,
          "Y": 1.344913840194566e-07
         },
         {
          "X": 21,
          "Y": 7.28402989686893e-08
         },
         {
          "X": 21.5,
          "Y": 3.846088400234724e-08
         },
         {
          "X": 22,
          "Y": 1.977832080262644e-08
         },
         {
          "X": 22.5,
          "Y": 9.89503402994438e-09
         },
         {
          "X": 23,
          "Y": 4.810830756000415e-09
         },
         {
          "X": 23.5,
          "Y": 2.2703683583527174e-09
         },
         {
          "X": 24,
          "Y": 8.918881098938926e-10
         },
         {
          "X": 24.5,
          "Y": 5.430293326052203e-10
         },
         {
          "X": 25,
          "Y": 2.0204098332974636e-10
         }
        ]
       },
       "encoding": {
        "x": {
         "field": "X",
         "type": "quantitative"
        },
        "y": {
         "field": "Y",
         "type": "quantitative"
        }
       },
       "height": 200,
       "mark": "bar",
       "width": 200
      },
      "image/png": "[encoded data removed]"
     },
     "metadata": {},
     "output_type": "display_data"
    }
   ],
   "source": [
    "model3 :: MonadInfer m => m Double\n",
    "model3 = do\n",
    "\n",
    "    x <- normal 0 4\n",
    "    condition (x > 0)\n",
    "    return x\n",
    "\n",
    "plotVega $ histogram 100 0.5 model3"
   ]
  },
  {
   "cell_type": "markdown",
   "metadata": {},
   "source": [
    "Or this unusual distribution with $p(x) \\propto N(x;0,4)*e^{sin(x)}$:"
   ]
  },
  {
   "cell_type": "code",
   "execution_count": 77,
   "metadata": {},
   "outputs": [
    {
     "data": {
      "text/html": [
       "<style>/* Styles used for the Hoogle display in the pager */\n",
       ".hoogle-doc {\n",
       "display: block;\n",
       "padding-bottom: 1.3em;\n",
       "padding-left: 0.4em;\n",
       "}\n",
       ".hoogle-code {\n",
       "display: block;\n",
       "font-family: monospace;\n",
       "white-space: pre;\n",
       "}\n",
       ".hoogle-text {\n",
       "display: block;\n",
       "}\n",
       ".hoogle-name {\n",
       "color: green;\n",
       "font-weight: bold;\n",
       "}\n",
       ".hoogle-head {\n",
       "font-weight: bold;\n",
       "}\n",
       ".hoogle-sub {\n",
       "display: block;\n",
       "margin-left: 0.4em;\n",
       "}\n",
       ".hoogle-package {\n",
       "font-weight: bold;\n",
       "font-style: italic;\n",
       "}\n",
       ".hoogle-module {\n",
       "font-weight: bold;\n",
       "}\n",
       ".hoogle-class {\n",
       "font-weight: bold;\n",
       "}\n",
       ".get-type {\n",
       "color: green;\n",
       "font-weight: bold;\n",
       "font-family: monospace;\n",
       "display: block;\n",
       "white-space: pre-wrap;\n",
       "}\n",
       ".show-type {\n",
       "color: green;\n",
       "font-weight: bold;\n",
       "font-family: monospace;\n",
       "margin-left: 1em;\n",
       "}\n",
       ".mono {\n",
       "font-family: monospace;\n",
       "display: block;\n",
       "}\n",
       ".err-msg {\n",
       "color: red;\n",
       "font-style: italic;\n",
       "font-family: monospace;\n",
       "white-space: pre;\n",
       "display: block;\n",
       "}\n",
       "#unshowable {\n",
       "color: red;\n",
       "font-weight: bold;\n",
       "}\n",
       ".err-msg.in.collapse {\n",
       "padding-top: 0.7em;\n",
       "}\n",
       ".highlight-code {\n",
       "white-space: pre;\n",
       "font-family: monospace;\n",
       "}\n",
       ".suggestion-warning { \n",
       "font-weight: bold;\n",
       "color: rgb(200, 130, 0);\n",
       "}\n",
       ".suggestion-error { \n",
       "font-weight: bold;\n",
       "color: red;\n",
       "}\n",
       ".suggestion-name {\n",
       "font-weight: bold;\n",
       "}\n",
       "</style><div class=\"suggestion-name\" style=\"clear:both;\">Redundant bracket</div><div class=\"suggestion-row\" style=\"float: left;\"><div class=\"suggestion-warning\">Found:</div><div class=\"highlight-code\" id=\"haskell\">(model4)</div></div><div class=\"suggestion-row\" style=\"float: left;\"><div class=\"suggestion-warning\">Why Not:</div><div class=\"highlight-code\" id=\"haskell\">model4</div></div>"
      ],
      "text/plain": [
       "Line 9: Redundant bracket\n",
       "Found:\n",
       "(model4)\n",
       "Why not:\n",
       "model4"
      ]
     },
     "metadata": {},
     "output_type": "display_data"
    },
    {
     "data": {
      "application/vnd.vegalite.v4+json": {
       "$schema": "https://vega.github.io/schema/vega-lite/v4.json",
       "data": {
        "values": [
         {
          "X": "-1.99e1",
          "Y": 0.00029278614673228915
         },
         {
          "X": "-1.98e1",
          "Y": 0.0003307928816618114
         },
         {
          "X": "-1.97e1",
          "Y": 0
         },
         {
          "X": "-1.96e1",
          "Y": 0.0003807159360839182
         },
         {
          "X": "-1.95e1",
          "Y": 0.0004451225536465381
         },
         {
          "X": "-1.94e1",
          "Y": 0
         },
         {
          "X": "-1.93e1",
          "Y": 0.0005270129850471065
         },
         {
          "X": "-1.92e1",
          "Y": 0
         },
         {
          "X": "-1.91e1",
          "Y": 0.0006296879648647502
         },
         {
          "X": "-1.90e1",
          "Y": 0.0007564810640219495
         },
         {
          "X": "-1.89e1",
          "Y": 0
         },
         {
          "X": "-1.88e1",
          "Y": 0.0009103154827914876
         },
         {
          "X": "-1.87e1",
          "Y": 0.0010930657972259253
         },
         {
          "X": "-1.86e1",
          "Y": 0
         },
         {
          "X": "-1.85e1",
          "Y": 0.0013047506969207396
         },
         {
          "X": "-1.84e1",
          "Y": 0.0015426535590947518
         },
         {
          "X": "-1.83e1",
          "Y": 0
         },
         {
          "X": "-1.82e1",
          "Y": 0.0018005518313018128
         },
         {
          "X": "-1.81e1",
          "Y": 0
         },
         {
          "X": "-1.80e1",
          "Y": 0.002068305146972597
         },
         {
          "X": "-1.79e1",
          "Y": 0.002332064983220687
         },
         {
          "X": "-1.78e1",
          "Y": 0
         },
         {
          "X": "-1.77e1",
          "Y": 0.0025752880551341965
         },
         {
          "X": "-1.76e1",
          "Y": 0.002780551980684083
         },
         {
          "X": "-1.75e1",
          "Y": 0
         },
         {
          "X": "-1.74e1",
          "Y": 0.002931923763151346
         },
         {
          "X": "-1.73e1",
          "Y": 0.0030174052950173104
         },
         {
          "X": "-1.72e1",
          "Y": 0
         },
         {
          "X": "-1.71e1",
          "Y": 0.0030308768684629934
         },
         {
          "X": "-1.70e1",
          "Y": 0.002973044807330186
         },
         {
          "X": "-1.69e1",
          "Y": 0
         },
         {
          "X": "-1.68e1",
          "Y": 0.002851159690869041
         },
         {
          "X": "-1.67e1",
          "Y": 0
         },
         {
          "X": "-1.66e1",
          "Y": 0.002677613318960602
         },
         {
          "X": "-1.65e1",
          "Y": 0.0024678145785384064
         },
         {
          "X": "-1.64e1",
          "Y": 0
         },
         {
          "X": "-1.63e1",
          "Y": 0.002237883396789567
         },
         {
          "X": "-1.62e1",
          "Y": 0.002002658781571433
         },
         {
          "X": "-1.61e1",
          "Y": 0
         },
         {
          "X": "-1.60e1",
          "Y": 0.0017743392253686504
         },
         {
          "X": "-1.59e1",
          "Y": 0.0015618502624832702
         },
         {
          "X": "-1.58e1",
          "Y": 0
         },
         {
          "X": "-1.57e1",
          "Y": 0.0013708473368770969
         },
         {
          "X": "-1.56e1",
          "Y": 0.001204157331559428
         },
         {
          "X": "-1.55e1",
          "Y": 0
         },
         {
          "X": "-1.54e1",
          "Y": 0.0010624414699537254
         },
         {
          "X": "-1.53e1",
          "Y": 0.0009449002281651666
         },
         {
          "X": "-1.52e1",
          "Y": 0
         },
         {
          "X": "-1.51e1",
          "Y": 0.0008499040223189485
         },
         {
          "X": "-1.50e1",
          "Y": 0
         },
         {
          "X": "-1.49e1",
          "Y": 0.0007754952194456454
         },
         {
          "X": "-1.48e1",
          "Y": 0.0007197532521635906
         },
         {
          "X": "-1.47e1",
          "Y": 0
         },
         {
          "X": "-1.46e1",
          "Y": 0.0006810419419039944
         },
         {
          "X": "-1.45e1",
          "Y": 0.0006581696529029908
         },
         {
          "X": "-1.44e1",
          "Y": 0
         },
         {
          "X": "-1.43e1",
          "Y": 0.0006504939425406988
         },
         {
          "X": "-1.42e1",
          "Y": 0.0006579978177517654
         },
         {
          "X": "-1.41e1",
          "Y": 0
         },
         {
          "X": "-1.40e1",
          "Y": 0.0006813578348025568
         },
         {
          "X": "-1.39e1",
          "Y": 0.0007220166623351764
         },
         {
          "X": "-1.38e1",
          "Y": 0
         },
         {
          "X": "-1.37e1",
          "Y": 0.0007822645664803567
         },
         {
          "X": "-1.36e1",
          "Y": 0.0008653248640498344
         },
         {
          "X": "-1.35e1",
          "Y": 0
         },
         {
          "X": "-1.34e1",
          "Y": 0.0009754265884130402
         },
         {
          "X": "-1.33e1",
          "Y": 0.0011178324267628692
         },
         {
          "X": "-1.32e1",
          "Y": 0
         },
         {
          "X": "-1.31e1",
          "Y": 0.0012987713725196982
         },
         {
          "X": "-1.30e1",
          "Y": 0
         },
         {
          "X": "-1.29e1",
          "Y": 0.0015252055625456361
         },
         {
          "X": "-1.28e1",
          "Y": 0.0018043450352173258
         },
         {
          "X": "-1.27e1",
          "Y": 0
         },
         {
          "X": "-1.26e1",
          "Y": 0.0021428229000969483
         },
         {
          "X": "-1.25e1",
          "Y": 0.002545471187133063
         },
         {
          "X": "-1.24e1",
          "Y": 0
         },
         {
          "X": "-1.23e1",
          "Y": 0.003013709732307123
         },
         {
          "X": "-1.22e1",
          "Y": 0.003543684845952239
         },
         {
          "X": "-1.21e1",
          "Y": 0
         },
         {
          "X": "-1.20e1",
          "Y": 0.004124460008947253
         },
         {
          "X": "-1.19e1",
          "Y": 0.004736726122427009
         },
         {
          "X": "-1.18e1",
          "Y": 0
         },
         {
          "X": "-1.17e1",
          "Y": 0.005352591540973818
         },
         {
          "X": "-1.16e1",
          "Y": 0.0059369478635517255
         },
         {
          "X": "-1.15e1",
          "Y": 0
         },
         {
          "X": "-1.14e1",
          "Y": 0.006450630849396643
         },
         {
          "X": "-1.13e1",
          "Y": 0.006855129228925031
         },
         {
          "X": "-1.12e1",
          "Y": 0
         },
         {
          "X": "-1.11e1",
          "Y": 0.007118063696012755
         },
         {
          "X": "-1.10e1",
          "Y": 0.007218266369567873
         },
         {
          "X": "-1.09e1",
          "Y": 0
         },
         {
          "X": "-1.08e1",
          "Y": 0.00714923072500078
         },
         {
          "X": "-1.07e1",
          "Y": 0
         },
         {
          "X": "-1.06e1",
          "Y": 0.006920051920195616
         },
         {
          "X": "-1.05e1",
          "Y": 0.0065536403459770425
         },
         {
          "X": "-1.04e1",
          "Y": 0
         },
         {
          "X": "-1.03e1",
          "Y": 0.006082725370900058
         },
         {
          "X": "-1.02e1",
          "Y": 0.005544699183124572
         },
         {
          "X": "-1.01e1",
          "Y": 0
         },
         {
          "X": "-1.00e1",
          "Y": 0.004976509568726622
         },
         {
          "X": "-9.90e0",
          "Y": 0.004410592337707068
         },
         {
          "X": "-9.80e0",
          "Y": 0
         },
         {
          "X": "-9.70e0",
          "Y": 0.0038723817511617698
         },
         {
          "X": "-9.60e0",
          "Y": 0.003379449433707547
         },
         {
          "X": "-9.50e0",
          "Y": 0
         },
         {
          "X": "-9.40e0",
          "Y": 0.002941958278354606
         },
         {
          "X": "-9.30e0",
          "Y": 0.002563946620861855
         },
         {
          "X": "-9.20e0",
          "Y": 0
         },
         {
          "X": "-9.10e0",
          "Y": 0.00224496172250804
         },
         {
          "X": "-9.00e0",
          "Y": 0.001981674103660399
         },
         {
          "X": "-8.90e0",
          "Y": 0
         },
         {
          "X": "-8.80e0",
          "Y": 0.0017692530153613265
         },
         {
          "X": "-8.70e0",
          "Y": 0.0016024162846479677
         },
         {
          "X": "-8.60e0",
          "Y": 0
         },
         {
          "X": "-8.50e0",
          "Y": 0.0014761606183094195
         },
         {
          "X": "-8.40e0",
          "Y": 0
         },
         {
          "X": "-8.30e0",
          "Y": 0.0013862288508042842
         },
         {
          "X": "-8.20e0",
          "Y": 0.0013293879921331166
         },
         {
          "X": "-8.10e0",
          "Y": 0
         },
         {
          "X": "-8.00e0",
          "Y": 0.0013035887569184457
         },
         {
          "X": "-7.90e0",
          "Y": 0.0013080640307647881
         },
         {
          "X": "-7.80e0",
          "Y": 0
         },
         {
          "X": "-7.70e0",
          "Y": 0.0013434071466490048
         },
         {
          "X": "-7.60e0",
          "Y": 0.0014116539421594808
         },
         {
          "X": "-7.50e0",
          "Y": 0
         },
         {
          "X": "-7.40e0",
          "Y": 0.0015163756740116357
         },
         {
          "X": "-7.30e0",
          "Y": 0.0016627716623604126
         },
         {
          "X": "-7.20e0",
          "Y": 0
         },
         {
          "X": "-7.10e0",
          "Y": 0.0018577290871159338
         },
         {
          "X": "-7.00e0",
          "Y": 0.0021097912188287192
         },
         {
          "X": "-6.90e0",
          "Y": 0
         },
         {
          "X": "-6.80e0",
          "Y": 0.0024289450483783287
         },
         {
          "X": "-6.70e0",
          "Y": 0.002826109197587669
         },
         {
          "X": "-6.60e0",
          "Y": 0
         },
         {
          "X": "-6.50e0",
          "Y": 0.0033121836370591452
         },
         {
          "X": "-6.40e0",
          "Y": 0.003896532008533679
         },
         {
          "X": "-6.30e0",
          "Y": 0
         },
         {
          "X": "-6.20e0",
          "Y": 0.004584828993854739
         },
         {
          "X": "-6.10e0",
          "Y": 0
         },
         {
          "X": "-6.00e0",
          "Y": 0.005376341645764042
         },
         {
          "X": "-5.90e0",
          "Y": 0.0062609316706455035
         },
         {
          "X": "-5.80e0",
          "Y": 0
         },
         {
          "X": "-5.70e0",
          "Y": 0.007216337046126357
         },
         {
          "X": "-5.60e0",
          "Y": 0.0082065374821847
         },
         {
          "X": "-5.50e0",
          "Y": 0
         },
         {
          "X": "-5.40e0",
          "Y": 0.009182104650108462
         },
         {
          "X": "-5.30e0",
          "Y": 0.010083253116817455
         },
         {
          "X": "-5.20e0",
          "Y": 0
         },
         {
          "X": "-5.10e0",
          "Y": 0.010845774362841114
         },
         {
          "X": "-5.00e0",
          "Y": 0.011409227356104942
         },
         {
          "X": "-4.90e0",
          "Y": 0
         },
         {
          "X": "-4.80e0",
          "Y": 0.011725915962255517
         },
         {
          "X": "-4.70e0",
          "Y": 0.011768648701177107
         },
         {
          "X": "-4.60e0",
          "Y": 0
         },
         {
          "X": "-4.50e0",
          "Y": 0.011535339854472863
         },
         {
          "X": "-4.40e0",
          "Y": 0.011049241596482367
         },
         {
          "X": "-4.30e0",
          "Y": 0
         },
         {
          "X": "-4.20e0",
          "Y": 0.010354769190473189
         },
         {
          "X": "-4.10e0",
          "Y": 0
         },
         {
          "X": "-4.00e0",
          "Y": 0.009510061230451665
         },
         {
          "X": "-3.90e0",
          "Y": 0.008578169099827398
         },
         {
          "X": "-3.80e0",
          "Y": 0
         },
         {
          "X": "-3.70e0",
          "Y": 0.00761886475903428
         },
         {
          "X": "-3.60e0",
          "Y": 0.006682555308915265
         },
         {
          "X": "-3.50e0",
          "Y": 0
         },
         {
          "X": "-3.40e0",
          "Y": 0.0058069773013934576
         },
         {
          "X": "-3.30e0",
          "Y": 0.005016548752438501
         },
         {
          "X": "-3.20e0",
          "Y": 0
         },
         {
          "X": "-3.10e0",
          "Y": 0.00432372081109409
         },
         {
          "X": "-3.00e0",
          "Y": 0.003731470602410801
         },
         {
          "X": "-2.90e0",
          "Y": 0
         },
         {
          "X": "-2.80e0",
          "Y": 0.003236151811796985
         },
         {
          "X": "-2.70e0",
          "Y": 0.002830145778388142
         },
         {
          "X": "-2.60e0",
          "Y": 0
         },
         {
          "X": "-2.50e0",
          "Y": 0.0025040135978706985
         },
         {
          "X": "-2.40e0",
          "Y": 0.002248061788970743
         },
         {
          "X": "-2.30e0",
          "Y": 0
         },
         {
          "X": "-2.20e0",
          "Y": 0.002053370848270782
         },
         {
          "X": "-2.10e0",
          "Y": 0
         },
         {
          "X": "-2.00e0",
          "Y": 0.0019124017337383223
         },
         {
          "X": "-1.90e0",
          "Y": 0.001819309935791818
         },
         {
          "X": "-1.80e0",
          "Y": 0
         },
         {
          "X": "-1.70e0",
          "Y": 0.0017700822702720962
         },
         {
          "X": "-1.60e0",
          "Y": 0.0017625847515974982
         },
         {
          "X": "-1.50e0",
          "Y": 0
         },
         {
          "X": "-1.40e0",
          "Y": 0.001796580888783392
         },
         {
          "X": "-1.30e0",
          "Y": 0.0018737526250816546
         },
         {
          "X": "-1.20e0",
          "Y": 0
         },
         {
          "X": "-1.10e0",
          "Y": 0.0019977310822349654
         },
         {
          "X": "-1.00e0",
          "Y": 0.002174119337942453
         },
         {
          "X": "-9.00e-1",
          "Y": 0
         },
         {
          "X": "-8.00e-1",
          "Y": 0.002410462224268341
         },
         {
          "X": "-7.00e-1",
          "Y": 0.0027160872109128946
         },
         {
          "X": "-6.00e-1",
          "Y": 0
         },
         {
          "X": "-5.00e-1",
          "Y": 0.0031017073601648927
         },
         {
          "X": "-4.00e-1",
          "Y": 0.0035786487657576507
         },
         {
          "X": "-3.00e-1",
          "Y": 0
         },
         {
          "X": "-2.00e-1",
          "Y": 0.00415755470258164
         },
         {
          "X": "-1.00e-1",
          "Y": 0
         },
         {
          "X": "0.00e0",
          "Y": 0.004846448561142492
         },
         {
          "X": "1.00e-1",
          "Y": 0.005648133364173988
         },
         {
          "X": "2.00e-1",
          "Y": 0
         },
         {
          "X": "3.00e-1",
          "Y": 0.0065570869448551995
         },
         {
          "X": "4.00e-1",
          "Y": 0.007556274333013558
         },
         {
          "X": "5.00e-1",
          "Y": 0
         },
         {
          "X": "6.00e-1",
          "Y": 0.008614593386764685
         },
         {
          "X": "7.00e-1",
          "Y": 0.009685891226238032
         },
         {
          "X": "8.00e-1",
          "Y": 0
         },
         {
          "X": "9.00e-1",
          "Y": 0.010710493117894026
         },
         {
          "X": "1.00e0",
          "Y": 0.011619844000895272
         },
         {
          "X": "1.10e0",
          "Y": 0
         },
         {
          "X": "1.20e0",
          "Y": 0.012344148972265443
         },
         {
          "X": "1.30e0",
          "Y": 0.012821959038477637
         },
         {
          "X": "1.40e0",
          "Y": 0
         },
         {
          "X": "1.50e0",
          "Y": 0.013009800676565085
         },
         {
          "X": "1.60e0",
          "Y": 0.012889572316947115
         },
         {
          "X": "1.70e0",
          "Y": 0
         },
         {
          "X": "1.80e0",
          "Y": 0.012471781116945801
         },
         {
          "X": "1.90e0",
          "Y": 0.011793731962431806
         },
         {
          "X": "2.00e0",
          "Y": 0
         },
         {
          "X": "2.10e0",
          "Y": 0.010913154429785472
         },
         {
          "X": "2.20e0",
          "Y": 0
         },
         {
          "X": "2.30e0",
          "Y": 0.009898946337735753
         },
         {
          "X": "2.40e0",
          "Y": 0.008821295665457298
         },
         {
          "X": "2.50e0",
          "Y": 0
         },
         {
          "X": "2.60e0",
          "Y": 0.007743272699846673
         },
         {
          "X": "2.70e0",
          "Y": 0.006715237161752527
         },
         {
          "X": "2.80e0",
          "Y": 0
         },
         {
          "X": "2.90e0",
          "Y": 0.005772445207374664
         },
         {
          "X": "3.00e0",
          "Y": 0.004935426260549918
         },
         {
          "X": "3.10e0",
          "Y": 0
         },
         {
          "X": "3.20e0",
          "Y": 0.0042122365965144275
         },
         {
          "X": "3.30e0",
          "Y": 0.0036016070134040137
         },
         {
          "X": "3.40e0",
          "Y": 0
         },
         {
          "X": "3.50e0",
          "Y": 0.003096177748254121
         },
         {
          "X": "3.60e0",
          "Y": 0.00268530539787883
         },
         {
          "X": "3.70e0",
          "Y": 0
         },
         {
          "X": "3.80e0",
          "Y": 0.002357211389574412
         },
         {
          "X": "3.90e0",
          "Y": 0.002100452516140515
         },
         {
          "X": "4.00e0",
          "Y": 0
         },
         {
          "X": "4.10e0",
          "Y": 0.0019048152259503394
         },
         {
          "X": "4.20e0",
          "Y": 0
         },
         {
          "X": "4.30e0",
          "Y": 0.0017617818890305348
         },
         {
          "X": "4.40e0",
          "Y": 0.001664715351373076
         },
         {
          "X": "4.50e0",
          "Y": 0
         },
         {
          "X": "4.60e0",
          "Y": 0.0016088819535795785
         },
         {
          "X": "4.70e0",
          "Y": 0.0015913995810679068
         },
         {
          "X": "4.80e0",
          "Y": 0
         },
         {
          "X": "4.90e0",
          "Y": 0.0016111651630491353
         },
         {
          "X": "5.00e0",
          "Y": 0.0016687883807765126
         },
         {
          "X": "5.10e0",
          "Y": 0
         },
         {
          "X": "5.20e0",
          "Y": 0.0017665346714342152
         },
         {
          "X": "5.30e0",
          "Y": 0.0019082588438021856
         },
         {
          "X": "5.40e0",
          "Y": 0
         },
         {
          "X": "5.50e0",
          "Y": 0.0020992886370712702
         },
         {
          "X": "5.60e0",
          "Y": 0.0023461945332786272
         },
         {
          "X": "5.70e0",
          "Y": 0
         },
         {
          "X": "5.80e0",
          "Y": 0.0026563599681212256
         },
         {
          "X": "5.90e0",
          "Y": 0.003037250888782007
         },
         {
          "X": "6.00e0",
          "Y": 0
         },
         {
          "X": "6.10e0",
          "Y": 0.0034952868149870945
         },
         {
          "X": "6.20e0",
          "Y": 0
         },
         {
          "X": "6.30e0",
          "Y": 0.004034253381894373
         },
         {
          "X": "6.40e0",
          "Y": 0.0046532857676740945
         },
         {
          "X": "6.50e0",
          "Y": 0
         },
         {
          "X": "6.60e0",
          "Y": 0.005344602180805885
         },
         {
          "X": "6.70e0",
          "Y": 0.006091363712337192
         },
         {
          "X": "6.80e0",
          "Y": 0
         },
         {
          "X": "6.90e0",
          "Y": 0.006866233569509138
         },
         {
          "X": "7.00e0",
          "Y": 0.007631319967096985
         },
         {
          "X": "7.10e0",
          "Y": 0
         },
         {
          "X": "7.20e0",
          "Y": 0.00834011048652079
         },
         {
          "X": "7.30e0",
          "Y": 0.008941669018158157
         },
         {
          "X": "7.40e0",
          "Y": 0
         },
         {
          "X": "7.50e0",
          "Y": 0.009386786943892169
         },
         {
          "X": "7.60e0",
          "Y": 0.00963510392173868
         },
         {
          "X": "7.70e0",
          "Y": 0
         },
         {
          "X": "7.80e0",
          "Y": 0.009661691484575541
         },
         {
          "X": "7.90e0",
          "Y": 0.009461481544159375
         },
         {
          "X": "8.00e0",
          "Y": 0
         },
         {
          "X": "8.10e0",
          "Y": 0.009050347713257663
         },
         {
          "X": "8.20e0",
          "Y": 0.008462510727691748
         },
         {
          "X": "8.30e0",
          "Y": 0
         },
         {
          "X": "8.40e0",
          "Y": 0.007744935129470174
         },
         {
          "X": "8.50e0",
          "Y": 0
         },
         {
          "X": "8.60e0",
          "Y": 0.006950140169754738
         },
         {
          "X": "8.70e0",
          "Y": 0.006129103471363787
         },
         {
          "X": "8.80e0",
          "Y": 0
         },
         {
          "X": "8.90e0",
          "Y": 0.005325658354279821
         },
         {
          "X": "9.00e0",
          "Y": 0.004573156551385838
         },
         {
          "X": "9.10e0",
          "Y": 0
         },
         {
          "X": "9.20e0",
          "Y": 0.003893467088789019
         },
         {
          "X": "9.30e0",
          "Y": 0.003297847940220151
         },
         {
          "X": "9.40e0",
          "Y": 0
         },
         {
          "X": "9.50e0",
          "Y": 0.002788972052617934
         },
         {
          "X": "9.60e0",
          "Y": 0.0023633955236916078
         },
         {
          "X": "9.70e0",
          "Y": 0
         },
         {
          "X": "9.80e0",
          "Y": 0.002013927054962884
         },
         {
          "X": "9.90e0",
          "Y": 0.0017315843427301773
         },
         {
          "X": "1.00e1",
          "Y": 0
         },
         {
          "X": "1.01e1",
          "Y": 0.0015070241994200604
         },
         {
          "X": "1.02e1",
          "Y": 0.0013314710498752002
         },
         {
          "X": "1.03e1",
          "Y": 0
         },
         {
          "X": "1.04e1",
          "Y": 0.001197239841840878
         },
         {
          "X": "1.05e1",
          "Y": 0.0010979699249810259
         },
         {
          "X": "1.06e1",
          "Y": 0
         },
         {
          "X": "1.07e1",
          "Y": 0.0010286764723753264
         },
         {
          "X": "1.08e1",
          "Y": 0
         },
         {
          "X": "1.09e1",
          "Y": 0.0009857026072344391
         },
         {
          "X": "1.10e1",
          "Y": 0.0009666295365189784
         },
         {
          "X": "1.11e1",
          "Y": 0
         },
         {
          "X": "1.12e1",
          "Y": 0.0009701790501894411
         },
         {
          "X": "1.13e1",
          "Y": 0.0009961241839039183
         },
         {
          "X": "1.14e1",
          "Y": 0
         },
         {
          "X": "1.15e1",
          "Y": 0.0010452089736265446
         },
         {
          "X": "1.16e1",
          "Y": 0.00111906555126902
         },
         {
          "X": "1.17e1",
          "Y": 0
         },
         {
          "X": "1.18e1",
          "Y": 0.0012201049780714813
         },
         {
          "X": "1.19e1",
          "Y": 0.0013513467094583415
         },
         {
          "X": "1.20e1",
          "Y": 0
         },
         {
          "X": "1.21e1",
          "Y": 0.001516141555669952
         },
         {
          "X": "1.22e1",
          "Y": 0.0017177378598582814
         },
         {
          "X": "1.23e1",
          "Y": 0
         },
         {
          "X": "1.24e1",
          "Y": 0.0019586464299137045
         },
         {
          "X": "1.25e1",
          "Y": 0.0022397846528356856
         },
         {
          "X": "1.26e1",
          "Y": 0
         },
         {
          "X": "1.27e1",
          "Y": 0.0025594318849802454
         },
         {
          "X": "1.28e1",
          "Y": 0.0029121089405270044
         },
         {
          "X": "1.29e1",
          "Y": 0
         },
         {
          "X": "1.30e1",
          "Y": 0.0032875943311287134
         },
         {
          "X": "1.31e1",
          "Y": 0
         },
         {
          "X": "1.32e1",
          "Y": 0.0036703808332834644
         },
         {
          "X": "1.33e1",
          "Y": 0.0040399125894048605
         },
         {
          "X": "1.34e1",
          "Y": 0
         },
         {
          "X": "1.35e1",
          "Y": 0.004371875267226251
         },
         {
          "X": "1.36e1",
          "Y": 0.004640610903198387
         },
         {
          "X": "1.37e1",
          "Y": 0
         },
         {
          "X": "1.38e1",
          "Y": 0.004822416858138996
         },
         {
          "X": "1.39e1",
          "Y": 0.004899152274568589
         },
         {
          "X": "1.40e1",
          "Y": 0
         },
         {
          "X": "1.41e1",
          "Y": 0.004861348982295415
         },
         {
          "X": "1.42e1",
          "Y": 0.0047100296350895
         },
         {
          "X": "1.43e1",
          "Y": 0
         },
         {
          "X": "1.44e1",
          "Y": 0.0044567164169511935
         },
         {
          "X": "1.45e1",
          "Y": 0.004121591805302338
         },
         {
          "X": "1.46e1",
          "Y": 0
         },
         {
          "X": "1.47e1",
          "Y": 0.0037302754142273203
         },
         {
          "X": "1.48e1",
          "Y": 0.003310019042136072
         },
         {
          "X": "1.49e1",
          "Y": 0
         },
         {
          "X": "1.50e1",
          "Y": 0.0028861829270115775
         },
         {
          "X": "1.51e1",
          "Y": 0
         },
         {
          "X": "1.52e1",
          "Y": 0.0024796510745016373
         },
         {
          "X": "1.53e1",
          "Y": 0.002105487079046761
         },
         {
          "X": "1.54e1",
          "Y": 0
         },
         {
          "X": "1.55e1",
          "Y": 0.0017727736835113867
         },
         {
          "X": "1.56e1",
          "Y": 0.0014853329306575114
         },
         {
          "X": "1.57e1",
          "Y": 0
         },
         {
          "X": "1.58e1",
          "Y": 0.0012429305506896856
         },
         {
          "X": "1.59e1",
          "Y": 0.0010426041956781513
         },
         {
          "X": "1.60e1",
          "Y": 0
         },
         {
          "X": "1.61e1",
          "Y": 0.0008798629667077504
         },
         {
          "X": "1.62e1",
          "Y": 0.0007496281955824968
         },
         {
          "X": "1.63e1",
          "Y": 0
         },
         {
          "X": "1.64e1",
          "Y": 0.0006468851229359115
         },
         {
          "X": "1.65e1",
          "Y": 0.0005670776603250439
         },
         {
          "X": "1.66e1",
          "Y": 0
         },
         {
          "X": "1.67e1",
          "Y": 0.0005063063417188192
         },
         {
          "X": "1.68e1",
          "Y": 0
         },
         {
          "X": "1.69e1",
          "Y": 0.0004613931660949406
         },
         {
          "X": "1.70e1",
          "Y": 0.0004298674688051109
         },
         {
          "X": "1.71e1",
          "Y": 0
         },
         {
          "X": "1.72e1",
          "Y": 0.00040991271311895615
         },
         {
          "X": "1.73e1",
          "Y": 0.00040030014371188996
         },
         {
          "X": "1.74e1",
          "Y": 0
         },
         {
          "X": "1.75e1",
          "Y": 0.0004003236990239567
         },
         {
          "X": "1.76e1",
          "Y": 0.0004097417265530929
         },
         {
          "X": "1.77e1",
          "Y": 0
         },
         {
          "X": "1.78e1",
          "Y": 0.00042872428049864884
         },
         {
          "X": "1.79e1",
          "Y": 0.00045779926722093857
         },
         {
          "X": "1.80e1",
          "Y": 0
         },
         {
          "X": "1.81e1",
          "Y": 0.000497785806895848
         },
         {
          "X": "1.82e1",
          "Y": 0
         },
         {
          "X": "1.83e1",
          "Y": 0.0005496988002559783
         },
         {
          "X": "1.84e1",
          "Y": 0.0006146055637024349
         },
         {
          "X": "1.85e1",
          "Y": 0
         },
         {
          "X": "1.86e1",
          "Y": 0.0006934153395922278
         },
         {
          "X": "1.87e1",
          "Y": 0.000786588398465757
         },
         {
          "X": "1.88e1",
          "Y": 0
         },
         {
          "X": "1.89e1",
          "Y": 0.0008937667256001548
         },
         {
          "X": "1.90e1",
          "Y": 0.0010133552791609947
         },
         {
          "X": "1.91e1",
          "Y": 0
         },
         {
          "X": "1.92e1",
          "Y": 0.0011421202179817897
         },
         {
          "X": "1.93e1",
          "Y": 0
         },
         {
          "X": "1.94e1",
          "Y": 0.001274910391917711
         },
         {
          "X": "1.95e1",
          "Y": 0.0014046347671183132
         },
         {
          "X": "1.96e1",
          "Y": 0
         },
         {
          "X": "1.97e1",
          "Y": 0.0015226200558712546
         },
         {
          "X": "1.98e1",
          "Y": 0.0016194119692557402
         },
         {
          "X": "1.99e1",
          "Y": 0
         },
         {
          "X": "2.00e1",
          "Y": 0.0016859693488316244
         }
        ]
       },
       "encoding": {
        "x": {
         "field": "X",
         "type": "quantitative"
        },
        "y": {
         "field": "Y",
         "type": "quantitative"
        }
       },
       "height": 200,
       "mark": "bar",
       "width": 200
      },
      "image/png": "[encoded data removed]"
     },
     "metadata": {},
     "output_type": "display_data"
    }
   ],
   "source": [
    "\n",
    "model4 :: MonadInfer m => m Double\n",
    "model4 = do\n",
    "\n",
    "    x <- normal 0 10\n",
    "    factor $ Exp (sin x )\n",
    "    return x\n",
    "\n",
    "plotVega $ histogram 400 0.1 (model4)\n",
    "\n"
   ]
  },
  {
   "cell_type": "markdown",
   "metadata": {},
   "source": [
    "We can also plot the CDF, as in:"
   ]
  },
  {
   "cell_type": "code",
   "execution_count": 78,
   "metadata": {},
   "outputs": [
    {
     "data": {
      "application/vnd.vegalite.v4+json": {
       "$schema": "https://vega.github.io/schema/vega-lite/v4.json",
       "data": {
        "values": [
         {
          "X": "-3.4000000000000004",
          "Y": 0.0003475896968846559
         },
         {
          "X": "-3.3000000000000003",
          "Y": 0.00048266882627062897
         },
         {
          "X": "-3.2",
          "Y": 0.000704790587044729
         },
         {
          "X": "-3.1",
          "Y": 0.0009544100437881077
         },
         {
          "X": "-3.0",
          "Y": 0.0013540507772572814
         },
         {
          "X": "-2.9000000000000004",
          "Y": 0.0018930907162011644
         },
         {
          "X": "-2.8000000000000003",
          "Y": 0.0026100447034295747
         },
         {
          "X": "-2.7",
          "Y": 0.003551006711397484
         },
         {
          "X": "-2.6",
          "Y": 0.004770378244699442
         },
         {
          "X": "-2.5",
          "Y": 0.006331501580522845
         },
         {
          "X": "-2.4000000000000004",
          "Y": 0.008307155877267096
         },
         {
          "X": "-2.3000000000000003",
          "Y": 0.010779870415425495
         },
         {
          "X": "-2.2",
          "Y": 0.013842006013110359
         },
         {
          "X": "-2.1",
          "Y": 0.017595553285281097
         },
         {
          "X": "-2.0",
          "Y": 0.02299722115422826
         },
         {
          "X": "-1.9000000000000001",
          "Y": 0.02864072954573137
         },
         {
          "X": "-1.8",
          "Y": 0.03535359336628454
         },
         {
          "X": "-1.7000000000000002",
          "Y": 0.04471259144476443
         },
         {
          "X": "-1.6",
          "Y": 0.05419677092275107
         },
         {
          "X": "-1.5",
          "Y": 0.06715363744799083
         },
         {
          "X": "-1.4000000000000001",
          "Y": 0.08002660457875374
         },
         {
          "X": "-1.3",
          "Y": 0.09727086972192343
         },
         {
          "X": "-1.2000000000000002",
          "Y": 0.1140757082868024
         },
         {
          "X": "-1.1",
          "Y": 0.13615614606213394
         },
         {
          "X": "-1.0",
          "Y": 0.1572657587128084
         },
         {
          "X": "-0.9",
          "Y": 0.18447308259770795
         },
         {
          "X": "-0.8",
          "Y": 0.20998912384400384
         },
         {
          "X": "-0.7000000000000001",
          "Y": 0.24224382090083374
         },
         {
          "X": "-0.6000000000000001",
          "Y": 0.27191137836411516
         },
         {
          "X": "-0.5",
          "Y": 0.3086844935465092
         },
         {
          "X": "-0.4",
          "Y": 0.34184777129292077
         },
         {
          "X": "-0.30000000000000004",
          "Y": 0.38214344505279874
         },
         {
          "X": "-0.2",
          "Y": 0.4177643349031366
         },
         {
          "X": "-0.1",
          "Y": 0.4601834426618343
         },
         {
          "X": "0.0",
          "Y": 0.5030679615757497
         },
         {
          "X": "0.1",
          "Y": 0.5398165573381224
         },
         {
          "X": "0.2",
          "Y": 0.5822356650968201
         },
         {
          "X": "0.30000000000000004",
          "Y": 0.617856554947158
         },
         {
          "X": "0.4",
          "Y": 0.658152228707036
         },
         {
          "X": "0.5",
          "Y": 0.6913155064534476
         },
         {
          "X": "0.6000000000000001",
          "Y": 0.7280886216358415
         },
         {
          "X": "0.7000000000000001",
          "Y": 0.757756179099123
         },
         {
          "X": "0.8",
          "Y": 0.7900108761559529
         },
         {
          "X": "0.9",
          "Y": 0.8155269174022488
         },
         {
          "X": "1.0",
          "Y": 0.8427342412871484
         },
         {
          "X": "1.1",
          "Y": 0.8638438539378228
         },
         {
          "X": "1.2000000000000002",
          "Y": 0.8859242917131545
         },
         {
          "X": "1.3",
          "Y": 0.9027291302780333
         },
         {
          "X": "1.4000000000000001",
          "Y": 0.9199733954212028
         },
         {
          "X": "1.5",
          "Y": 0.9328463625519657
         },
         {
          "X": "1.6",
          "Y": 0.9458032290772054
         },
         {
          "X": "1.7000000000000002",
          "Y": 0.9552874085551921
         },
         {
          "X": "1.8",
          "Y": 0.964646406633672
         },
         {
          "X": "1.9000000000000001",
          "Y": 0.9713592704542252
         },
         {
          "X": "2.0",
          "Y": 0.9770027788457283
         },
         {
          "X": "2.1",
          "Y": 0.9824044467146755
         },
         {
          "X": "2.2",
          "Y": 0.9861579939868463
         },
         {
          "X": "2.3000000000000003",
          "Y": 0.9892201295845311
         },
         {
          "X": "2.4000000000000004",
          "Y": 0.9916928441226894
         },
         {
          "X": "2.5",
          "Y": 0.9936684984194337
         },
         {
          "X": "2.6",
          "Y": 0.9952296217552572
         },
         {
          "X": "2.7",
          "Y": 0.9964489932885592
         },
         {
          "X": "2.8000000000000003",
          "Y": 0.9973899552965271
         },
         {
          "X": "2.9000000000000004",
          "Y": 0.9981069092837556
         },
         {
          "X": "3.0",
          "Y": 0.9986459492226994
         },
         {
          "X": "3.1",
          "Y": 0.9990455899561685
         },
         {
          "X": "3.2",
          "Y": 0.9992952094129119
         },
         {
          "X": "3.3000000000000003",
          "Y": 0.9995173311736862
         },
         {
          "X": "3.4000000000000004",
          "Y": 0.9996524103030721
         },
         {
          "X": "3.5",
          "Y": 0.9997693460740017
         }
        ]
       },
       "encoding": {
        "x": {
         "field": "X",
         "type": "quantitative"
        },
        "y": {
         "field": "Y",
         "type": "quantitative"
        }
       },
       "height": 200,
       "mark": "bar",
       "width": 200
      },
      "image/png": "[encoded data removed]"
     },
     "metadata": {},
     "output_type": "display_data"
    }
   ],
   "source": [
    "plotVega $ plotCdf 70 0.1 (normal 0 1)"
   ]
  },
  {
   "cell_type": "code",
   "execution_count": 81,
   "metadata": {},
   "outputs": [
    {
     "data": {
      "application/vnd.vegalite.v4+json": {
       "$schema": "https://vega.github.io/schema/vega-lite/v4.json",
       "data": {
        "values": [
         {
          "X": "-34.9",
          "Y": 0.00032849126547843577
         },
         {
          "X": "-34.800000000000004",
          "Y": 0.00032849126547843577
         },
         {
          "X": "-34.7",
          "Y": 0.0003453044828141736
         },
         {
          "X": "-34.6",
          "Y": 0.0003453044828141736
         },
         {
          "X": "-34.5",
          "Y": 0.00036017863568474026
         },
         {
          "X": "-34.4",
          "Y": 0.00036017863568474026
         },
         {
          "X": "-34.300000000000004",
          "Y": 0.00037333667706538384
         },
         {
          "X": "-34.2",
          "Y": 0.00037333667706538384
         },
         {
          "X": "-34.1",
          "Y": 0.0003850486221101474
         },
         {
          "X": "-34.0",
          "Y": 0.00039560012948055385
         },
         {
          "X": "-33.9",
          "Y": 0.00039560012948055385
         },
         {
          "X": "-33.800000000000004",
          "Y": 0.0004052740100729382
         },
         {
          "X": "-33.7",
          "Y": 0.0004052740100729382
         },
         {
          "X": "-33.6",
          "Y": 0.0004143428195830654
         },
         {
          "X": "-33.5",
          "Y": 0.0004143428195830654
         },
         {
          "X": "-33.4",
          "Y": 0.0004230699642036504
         },
         {
          "X": "-33.300000000000004",
          "Y": 0.0004230699642036504
         },
         {
          "X": "-33.2",
          "Y": 0.00043171708859826726
         },
         {
          "X": "-33.1",
          "Y": 0.00043171708859826726
         },
         {
          "X": "-33.0",
          "Y": 0.00044055632607137383
         },
         {
          "X": "-32.9",
          "Y": 0.000449886880539217
         },
         {
          "X": "-32.800000000000004",
          "Y": 0.000449886880539217
         },
         {
          "X": "-32.7",
          "Y": 0.0004600561694140516
         },
         {
          "X": "-32.6",
          "Y": 0.0004600561694140516
         },
         {
          "X": "-32.5",
          "Y": 0.00047148627010530354
         },
         {
          "X": "-32.4",
          "Y": 0.00047148627010530354
         },
         {
          "X": "-32.300000000000004",
          "Y": 0.00048470656287687863
         },
         {
          "X": "-32.2",
          "Y": 0.00048470656287687863
         },
         {
          "X": "-32.1",
          "Y": 0.0005003930550688434
         },
         {
          "X": "-32.0",
          "Y": 0.0005194135971427624
         },
         {
          "X": "-31.900000000000002",
          "Y": 0.0005194135971427624
         },
         {
          "X": "-31.8",
          "Y": 0.0005428756633347976
         },
         {
          "X": "-31.700000000000003",
          "Y": 0.0005428756633347976
         },
         {
          "X": "-31.6",
          "Y": 0.0005721692322139518
         },
         {
          "X": "-31.5",
          "Y": 0.0005721692322139518
         },
         {
          "X": "-31.400000000000002",
          "Y": 0.0006089916146545237
         },
         {
          "X": "-31.3",
          "Y": 0.0006553347846471106
         },
         {
          "X": "-31.200000000000003",
          "Y": 0.0006553347846471106
         },
         {
          "X": "-31.1",
          "Y": 0.0007134112430298139
         },
         {
          "X": "-31.0",
          "Y": 0.0007134112430298139
         },
         {
          "X": "-30.900000000000002",
          "Y": 0.0007854955889646966
         },
         {
          "X": "-30.8",
          "Y": 0.0007854955889646966
         },
         {
          "X": "-30.700000000000003",
          "Y": 0.0008736702601774183
         },
         {
          "X": "-30.6",
          "Y": 0.000979487899811323
         },
         {
          "X": "-30.5",
          "Y": 0.000979487899811323
         },
         {
          "X": "-30.400000000000002",
          "Y": 0.0011035967554304791
         },
         {
          "X": "-30.3",
          "Y": 0.0011035967554304791
         },
         {
          "X": "-30.200000000000003",
          "Y": 0.0012454090211943014
         },
         {
          "X": "-30.1",
          "Y": 0.0012454090211943014
         },
         {
          "X": "-30.0",
          "Y": 0.0014029088216653165
         },
         {
          "X": "-29.900000000000002",
          "Y": 0.0015726816838775135
         },
         {
          "X": "-29.8",
          "Y": 0.0015726816838775135
         },
         {
          "X": "-29.700000000000003",
          "Y": 0.0017501973214469504
         },
         {
          "X": "-29.6",
          "Y": 0.0017501973214469504
         },
         {
          "X": "-29.5",
          "Y": 0.0019303063595493915
         },
         {
          "X": "-29.400000000000002",
          "Y": 0.0019303063595493915
         },
         {
          "X": "-29.3",
          "Y": 0.002107846854752556
         },
         {
          "X": "-29.200000000000003",
          "Y": 0.0022782255985186912
         },
         {
          "X": "-29.1",
          "Y": 0.0022782255985186912
         },
         {
          "X": "-29.0",
          "Y": 0.002437854450459055
         },
         {
          "X": "-28.900000000000002",
          "Y": 0.002437854450459055
         },
         {
          "X": "-28.8",
          "Y": 0.002584373979632496
         },
         {
          "X": "-28.700000000000003",
          "Y": 0.002584373979632496
         },
         {
          "X": "-28.6",
          "Y": 0.002716661193274201
         },
         {
          "X": "-28.5",
          "Y": 0.0028346699220794633
         },
         {
          "X": "-28.400000000000002",
          "Y": 0.0028346699220794633
         },
         {
          "X": "-28.3",
          "Y": 0.0029391772863002433
         },
         {
          "X": "-28.200000000000003",
          "Y": 0.0029391772863002433
         },
         {
          "X": "-28.1",
          "Y": 0.003031507622697444
         },
         {
          "X": "-28.0",
          "Y": 0.0031132860283057
         },
         {
          "X": "-27.900000000000002",
          "Y": 0.0031132860283057
         },
         {
          "X": "-27.8",
          "Y": 0.0031862492832609116
         },
         {
          "X": "-27.700000000000003",
          "Y": 0.0031862492832609116
         },
         {
          "X": "-27.6",
          "Y": 0.003252121185572698
         },
         {
          "X": "-27.5",
          "Y": 0.0033125461345088975
         },
         {
          "X": "-27.400000000000002",
          "Y": 0.0033125461345088975
         },
         {
          "X": "-27.3",
          "Y": 0.0033690690330926048
         },
         {
          "X": "-27.200000000000003",
          "Y": 0.0033690690330926048
         },
         {
          "X": "-27.1",
          "Y": 0.0034231491536396534
         },
         {
          "X": "-27.0",
          "Y": 0.003476198104737107
         },
         {
          "X": "-26.900000000000002",
          "Y": 0.003476198104737107
         },
         {
          "X": "-26.8",
          "Y": 0.003529635576636563
         },
         {
          "X": "-26.700000000000003",
          "Y": 0.003529635576636563
         },
         {
          "X": "-26.6",
          "Y": 0.003584959987366656
         },
         {
          "X": "-26.5",
          "Y": 0.003643833938110132
         },
         {
          "X": "-26.400000000000002",
          "Y": 0.003643833938110132
         },
         {
          "X": "-26.3",
          "Y": 0.003708186237139122
         },
         {
          "X": "-26.200000000000003",
          "Y": 0.003708186237139122
         },
         {
          "X": "-26.1",
          "Y": 0.0037803329180096487
         },
         {
          "X": "-26.0",
          "Y": 0.0038631187456288963
         },
         {
          "X": "-25.900000000000002",
          "Y": 0.0038631187456288963
         },
         {
          "X": "-25.8",
          "Y": 0.003960077491693722
         },
         {
          "X": "-25.700000000000003",
          "Y": 0.003960077491693722
         },
         {
          "X": "-25.6",
          "Y": 0.0040756028512756075
         },
         {
          "X": "-25.5",
          "Y": 0.004215111363170727
         },
         {
          "X": "-25.400000000000002",
          "Y": 0.004215111363170727
         },
         {
          "X": "-25.3",
          "Y": 0.004385163789808606
         },
         {
          "X": "-25.200000000000003",
          "Y": 0.004385163789808606
         },
         {
          "X": "-25.1",
          "Y": 0.004593493400368247
         },
         {
          "X": "-25.0",
          "Y": 0.004848872598477533
         },
         {
          "X": "-24.900000000000002",
          "Y": 0.004848872598477533
         },
         {
          "X": "-24.8",
          "Y": 0.005160741179200828
         },
         {
          "X": "-24.700000000000003",
          "Y": 0.005160741179200828
         },
         {
          "X": "-24.6",
          "Y": 0.005538531214739568
         },
         {
          "X": "-24.5",
          "Y": 0.0059906661345114735
         },
         {
          "X": "-24.400000000000002",
          "Y": 0.0059906661345114735
         },
         {
          "X": "-24.3",
          "Y": 0.00652328950508101
         },
         {
          "X": "-24.200000000000003",
          "Y": 0.00652328950508101
         },
         {
          "X": "-24.1",
          "Y": 0.0071388825394414586
         },
         {
          "X": "-24.0",
          "Y": 0.007835029727457435
         },
         {
          "X": "-23.900000000000002",
          "Y": 0.007835029727457435
         },
         {
          "X": "-23.8",
          "Y": 0.008603646010658177
         },
         {
          "X": "-23.700000000000003",
          "Y": 0.009430945626512763
         },
         {
          "X": "-23.6",
          "Y": 0.009430945626512763
         },
         {
          "X": "-23.5",
          "Y": 0.010298296907503286
         },
         {
          "X": "-23.400000000000002",
          "Y": 0.010298296907503286
         },
         {
          "X": "-23.3",
          "Y": 0.011183896836011308
         },
         {
          "X": "-23.200000000000003",
          "Y": 0.012064981823573049
         },
         {
          "X": "-23.1",
          "Y": 0.012064981823573049
         },
         {
          "X": "-23.0",
          "Y": 0.012920147326929636
         },
         {
          "X": "-22.900000000000002",
          "Y": 0.012920147326929636
         },
         {
          "X": "-22.8",
          "Y": 0.013731332887133053
         },
         {
          "X": "-22.700000000000003",
          "Y": 0.014485142539308849
         },
         {
          "X": "-22.6",
          "Y": 0.014485142539308849
         },
         {
          "X": "-22.5",
          "Y": 0.015173363355520284
         },
         {
          "X": "-22.400000000000002",
          "Y": 0.015792743165288253
         },
         {
          "X": "-22.3",
          "Y": 0.015792743165288253
         },
         {
          "X": "-22.200000000000003",
          "Y": 0.016344229634486375
         },
         {
          "X": "-22.1",
          "Y": 0.016344229634486375
         },
         {
          "X": "-22.0",
          "Y": 0.016831928796077138
         },
         {
          "X": "-21.900000000000002",
          "Y": 0.01726202017286566
         },
         {
          "X": "-21.8",
          "Y": 0.01726202017286566
         },
         {
          "X": "-21.700000000000003",
          "Y": 0.017641798280321277
         },
         {
          "X": "-21.6",
          "Y": 0.017978930559601917
         },
         {
          "X": "-21.5",
          "Y": 0.017978930559601917
         },
         {
          "X": "-21.400000000000002",
          "Y": 0.01828095426062653
         },
         {
          "X": "-21.3",
          "Y": 0.01828095426062653
         },
         {
          "X": "-21.200000000000003",
          "Y": 0.018554990532518433
         },
         {
          "X": "-21.1",
          "Y": 0.018807633046046907
         },
         {
          "X": "-21.0",
          "Y": 0.018807633046046907
         },
         {
          "X": "-20.900000000000002",
          "Y": 0.01904496503107801
         },
         {
          "X": "-20.8",
          "Y": 0.019272665432202615
         },
         {
          "X": "-20.700000000000003",
          "Y": 0.019272665432202615
         },
         {
          "X": "-20.6",
          "Y": 0.019496175974915826
         },
         {
          "X": "-20.5",
          "Y": 0.01972091238847237
         },
         {
          "X": "-20.400000000000002",
          "Y": 0.01972091238847237
         },
         {
          "X": "-20.3",
          "Y": 0.01995251279129623
         },
         {
          "X": "-20.200000000000003",
          "Y": 0.01995251279129623
         },
         {
          "X": "-20.1",
          "Y": 0.020197123421623726
         },
         {
          "X": "-20.0",
          "Y": 0.020461726068311863
         },
         {
          "X": "-19.900000000000002",
          "Y": 0.020461726068311863
         },
         {
          "X": "-19.8",
          "Y": 0.020754512215044152
         },
         {
          "X": "-19.700000000000003",
          "Y": 0.02108530509670596
         },
         {
          "X": "-19.6",
          "Y": 0.02108530509670596
         },
         {
          "X": "-19.5",
          "Y": 0.021466021032789884
         },
         {
          "X": "-19.400000000000002",
          "Y": 0.02191114358643642
         },
         {
          "X": "-19.3",
          "Y": 0.02191114358643642
         },
         {
          "X": "-19.200000000000003",
          "Y": 0.022438156571483528
         },
         {
          "X": "-19.1",
          "Y": 0.022438156571483528
         },
         {
          "X": "-19.0",
          "Y": 0.02306784453634828
         },
         {
          "X": "-18.900000000000002",
          "Y": 0.02382432560037023
         },
         {
          "X": "-18.8",
          "Y": 0.02382432560037023
         },
         {
          "X": "-18.7",
          "Y": 0.024734641083161715
         },
         {
          "X": "-18.6",
          "Y": 0.02582770688038764
         },
         {
          "X": "-18.5",
          "Y": 0.02582770688038764
         },
         {
          "X": "-18.400000000000002",
          "Y": 0.02713245757730838
         },
         {
          "X": "-18.3",
          "Y": 0.02867511113640313
         },
         {
          "X": "-18.2",
          "Y": 0.02867511113640313
         },
         {
          "X": "-18.1",
          "Y": 0.03047566296770495
         },
         {
          "X": "-18.0",
          "Y": 0.03047566296770495
         },
         {
          "X": "-17.900000000000002",
          "Y": 0.03254396811467755
         },
         {
          "X": "-17.8",
          "Y": 0.03487603309789824
         },
         {
          "X": "-17.7",
          "Y": 0.03487603309789824
         },
         {
          "X": "-17.6",
          "Y": 0.03745132115303244
         },
         {
          "X": "-17.5",
          "Y": 0.04023187313371652
         },
         {
          "X": "-17.400000000000002",
          "Y": 0.04023187313371652
         },
         {
          "X": "-17.3",
          "Y": 0.04316379689686786
         },
         {
          "X": "-17.2",
          "Y": 0.04618120219188518
         },
         {
          "X": "-17.1",
          "Y": 0.04618120219188518
         },
         {
          "X": "-17.0",
          "Y": 0.04921207906034816
         },
         {
          "X": "-16.900000000000002",
          "Y": 0.05218512386767836
         },
         {
          "X": "-16.8",
          "Y": 0.05218512386767836
         },
         {
          "X": "-16.7",
          "Y": 0.055036283558547394
         },
         {
          "X": "-16.6",
          "Y": 0.055036283558547394
         },
         {
          "X": "-16.5",
          "Y": 0.057713896877508
         },
         {
          "X": "-16.400000000000002",
          "Y": 0.0601817114560464
         },
         {
          "X": "-16.3",
          "Y": 0.0601817114560464
         },
         {
          "X": "-16.2",
          "Y": 0.06241959485283596
         },
         {
          "X": "-16.1",
          "Y": 0.06442225363440739
         },
         {
          "X": "-16.0",
          "Y": 0.06442225363440739
         },
         {
          "X": "-15.9",
          "Y": 0.06619659285977604
         },
         {
          "X": "-15.8",
          "Y": 0.0677584431222593
         },
         {
          "X": "-15.700000000000001",
          "Y": 0.0677584431222593
         },
         {
          "X": "-15.600000000000001",
          "Y": 0.06912929045913639
         },
         {
          "X": "-15.5",
          "Y": 0.07033344779069584
         },
         {
          "X": "-15.4",
          "Y": 0.07033344779069584
         },
         {
          "X": "-15.3",
          "Y": 0.07139588926064956
         },
         {
          "X": "-15.200000000000001",
          "Y": 0.07234078948881473
         },
         {
          "X": "-15.100000000000001",
          "Y": 0.07234078948881473
         },
         {
          "X": "-15.0",
          "Y": 0.07319069351113366
         },
         {
          "X": "-14.9",
          "Y": 0.07319069351113366
         },
         {
          "X": "-14.8",
          "Y": 0.07396618873057931
         },
         {
          "X": "-14.700000000000001",
          "Y": 0.0746859419827429
         },
         {
          "X": "-14.600000000000001",
          "Y": 0.0746859419827429
         },
         {
          "X": "-14.5",
          "Y": 0.0753669839246469
         },
         {
          "X": "-14.4",
          "Y": 0.07602515357754988
         },
         {
          "X": "-14.3",
          "Y": 0.07602515357754988
         },
         {
          "X": "-14.200000000000001",
          "Y": 0.0766756475200906
         },
         {
          "X": "-14.100000000000001",
          "Y": 0.07733364533784234
         },
         {
          "X": "-14.0",
          "Y": 0.07733364533784234
         },
         {
          "X": "-13.9",
          "Y": 0.0780150031726449
         },
         {
          "X": "-13.8",
          "Y": 0.07873701983498008
         },
         {
          "X": "-13.700000000000001",
          "Y": 0.07873701983498008
         },
         {
          "X": "-13.600000000000001",
          "Y": 0.07951928440146044
         },
         {
          "X": "-13.5",
          "Y": 0.08038460926551028
         },
         {
          "X": "-13.4",
          "Y": 0.08038460926551028
         },
         {
          "X": "-13.3",
          "Y": 0.08136003585392332
         },
         {
          "X": "-13.200000000000001",
          "Y": 0.08247786828068618
         },
         {
          "X": "-13.100000000000001",
          "Y": 0.08247786828068618
         },
         {
          "X": "-13.0",
          "Y": 0.08377663965320586
         },
         {
          "X": "-12.9",
          "Y": 0.08377663965320586
         },
         {
          "X": "-12.8",
          "Y": 0.0853018452157515
         },
         {
          "X": "-12.700000000000001",
          "Y": 0.08710619025096883
         },
         {
          "X": "-12.600000000000001",
          "Y": 0.08710619025096883
         },
         {
          "X": "-12.5",
          "Y": 0.08924901315106579
         },
         {
          "X": "-12.4",
          "Y": 0.09179448433819887
         },
         {
          "X": "-12.3",
          "Y": 0.09179448433819887
         },
         {
          "X": "-12.200000000000001",
          "Y": 0.09480819407050597
         },
         {
          "X": "-12.100000000000001",
          "Y": 0.09835187891645822
         },
         {
          "X": "-12.0",
          "Y": 0.09835187891645822
         },
         {
          "X": "-11.9",
          "Y": 0.10247633892540547
         },
         {
          "X": "-11.8",
          "Y": 0.10721306504783248
         },
         {
          "X": "-11.700000000000001",
          "Y": 0.10721306504783248
         },
         {
          "X": "-11.600000000000001",
          "Y": 0.1125656565888063
         },
         {
          "X": "-11.5",
          "Y": 0.11850260445235802
         },
         {
          "X": "-11.4",
          "Y": 0.11850260445235802
         },
         {
          "X": "-11.3",
          "Y": 0.12495323530175464
         },
         {
          "X": "-11.200000000000001",
          "Y": 0.13180836453067968
         },
         {
          "X": "-11.100000000000001",
          "Y": 0.13180836453067968
         },
         {
          "X": "-11.0",
          "Y": 0.13892642822669243
         },
         {
          "X": "-10.9",
          "Y": 0.14614469459626028
         },
         {
          "X": "-10.8",
          "Y": 0.14614469459626028
         },
         {
          "X": "-10.700000000000001",
          "Y": 0.15329392532126107
         },
         {
          "X": "-10.600000000000001",
          "Y": 0.15329392532126107
         },
         {
          "X": "-10.5",
          "Y": 0.1602139772414567
         },
         {
          "X": "-10.4",
          "Y": 0.16676761758743375
         },
         {
          "X": "-10.3",
          "Y": 0.16676761758743375
         },
         {
          "X": "-10.200000000000001",
          "Y": 0.1728503429583338
         },
         {
          "X": "-10.100000000000001",
          "Y": 0.17839504214145838
         },
         {
          "X": "-10.0",
          "Y": 0.17839504214145838
         },
         {
          "X": "-9.9",
          "Y": 0.183371551710185
         },
         {
          "X": "-9.8",
          "Y": 0.18778214404789206
         },
         {
          "X": "-9.700000000000001",
          "Y": 0.18778214404789206
         },
         {
          "X": "-9.600000000000001",
          "Y": 0.19165452579905384
         },
         {
          "X": "-9.5",
          "Y": 0.1950339752327614
         },
         {
          "X": "-9.4",
          "Y": 0.1950339752327614
         },
         {
          "X": "-9.3",
          "Y": 0.197975933511116
         },
         {
          "X": "-9.200000000000001",
          "Y": 0.20053988013197788
         },
         {
          "X": "-9.1",
          "Y": 0.20053988013197788
         },
         {
          "X": "-9.0",
          "Y": 0.20278484185448592
         },
         {
          "X": "-8.9",
          "Y": 0.20476651595814632
         },
         {
          "X": "-8.8",
          "Y": 0.20476651595814632
         },
         {
          "X": "-8.700000000000001",
          "Y": 0.20653576897350762
         },
         {
          "X": "-8.6",
          "Y": 0.20813818525815558
         },
         {
          "X": "-8.5",
          "Y": 0.20813818525815558
         },
         {
          "X": "-8.4",
          "Y": 0.20961434587646502
         },
         {
          "X": "-8.3",
          "Y": 0.20961434587646502
         },
         {
          "X": "-8.200000000000001",
          "Y": 0.2110005747272693
         },
         {
          "X": "-8.1",
          "Y": 0.2123299627194024
         },
         {
          "X": "-8.0",
          "Y": 0.2123299627194024
         },
         {
          "X": "-7.9",
          "Y": 0.21363355147632085
         },
         {
          "X": "-7.800000000000001",
          "Y": 0.21494161550708563
         },
         {
          "X": "-7.7",
          "Y": 0.21494161550708563
         },
         {
          "X": "-7.6000000000000005",
          "Y": 0.21628502265373467
         },
         {
          "X": "-7.5",
          "Y": 0.21769667659589415
         },
         {
          "X": "-7.4",
          "Y": 0.21769667659589415
         },
         {
          "X": "-7.300000000000001",
          "Y": 0.21921305226990578
         },
         {
          "X": "-7.2",
          "Y": 0.22087582393226618
         },
         {
          "X": "-7.1000000000000005",
          "Y": 0.22087582393226618
         },
         {
          "X": "-7.0",
          "Y": 0.22273355301938214
         },
         {
          "X": "-6.9",
          "Y": 0.22484334423821084
         },
         {
          "X": "-6.800000000000001",
          "Y": 0.22484334423821084
         },
         {
          "X": "-6.7",
          "Y": 0.22727228928658916
         },
         {
          "X": "-6.6000000000000005",
          "Y": 0.23009839848417685
         },
         {
          "X": "-6.5",
          "Y": 0.23009839848417685
         },
         {
          "X": "-6.4",
          "Y": 0.233410582121236
         },
         {
          "X": "-6.300000000000001",
          "Y": 0.23730711412976965
         },
         {
          "X": "-6.2",
          "Y": 0.23730711412976965
         },
         {
          "X": "-6.1000000000000005",
          "Y": 0.2418919431236244
         },
         {
          "X": "-6.0",
          "Y": 0.2418919431236244
         },
         {
          "X": "-5.9",
          "Y": 0.24726828476938856
         },
         {
          "X": "-5.800000000000001",
          "Y": 0.2535292164400341
         },
         {
          "X": "-5.7",
          "Y": 0.2535292164400341
         },
         {
          "X": "-5.6000000000000005",
          "Y": 0.26074555348616035
         },
         {
          "X": "-5.5",
          "Y": 0.26895209096834505
         },
         {
          "X": "-5.4",
          "Y": 0.26895209096834505
         },
         {
          "X": "-5.300000000000001",
          "Y": 0.27813419561845354
         },
         {
          "X": "-5.2",
          "Y": 0.288217448735271
         },
         {
          "X": "-5.1000000000000005",
          "Y": 0.288217448735271
         },
         {
          "X": "-5.0",
          "Y": 0.2990632230981121
         },
         {
          "X": "-4.9",
          "Y": 0.31047245045421706
         },
         {
          "X": "-4.800000000000001",
          "Y": 0.31047245045421706
         },
         {
          "X": "-4.7",
          "Y": 0.3221983664164726
         },
         {
          "X": "-4.6000000000000005",
          "Y": 0.3339670151176497
         },
         {
          "X": "-4.5",
          "Y": 0.3339670151176497
         },
         {
          "X": "-4.4",
          "Y": 0.34550235497212245
         },
         {
          "X": "-4.3",
          "Y": 0.3565515965686048
         },
         {
          "X": "-4.2",
          "Y": 0.3565515965686048
         },
         {
          "X": "-4.1000000000000005",
          "Y": 0.36690636575907803
         },
         {
          "X": "-4.0",
          "Y": 0.36690636575907803
         },
         {
          "X": "-3.9000000000000004",
          "Y": 0.3764164269895297
         },
         {
          "X": "-3.8000000000000003",
          "Y": 0.3849945960893571
         },
         {
          "X": "-3.7",
          "Y": 0.3849945960893571
         },
         {
          "X": "-3.6",
          "Y": 0.3926134608483914
         },
         {
          "X": "-3.5",
          "Y": 0.3992960161573067
         },
         {
          "X": "-3.4000000000000004",
          "Y": 0.3992960161573067
         },
         {
          "X": "-3.3000000000000003",
          "Y": 0.40510299345870016
         },
         {
          "X": "-3.2",
          "Y": 0.41011954221113867
         },
         {
          "X": "-3.1",
          "Y": 0.41011954221113867
         },
         {
          "X": "-3.0",
          "Y": 0.4144432630222328
         },
         {
          "X": "-2.9000000000000004",
          "Y": 0.4181747336246435
         },
         {
          "X": "-2.8000000000000003",
          "Y": 0.4181747336246435
         },
         {
          "X": "-2.7",
          "Y": 0.42141088543644056
         },
         {
          "X": "-2.6",
          "Y": 0.4242410312148287
         },
         {
          "X": "-2.5",
          "Y": 0.4242410312148287
         },
         {
          "X": "-2.4000000000000004",
          "Y": 0.42674504481269937
         },
         {
          "X": "-2.3000000000000003",
          "Y": 0.4289931066016701
         },
         {
          "X": "-2.2",
          "Y": 0.4289931066016701
         },
         {
          "X": "-2.1",
          "Y": 0.4310464774499409
         },
         {
          "X": "-2.0",
          "Y": 0.4310464774499409
         },
         {
          "X": "-1.9000000000000001",
          "Y": 0.4329588791836792
         },
         {
          "X": "-1.8",
          "Y": 0.43477818911947097
         },
         {
          "X": "-1.7000000000000002",
          "Y": 0.43477818911947097
         },
         {
          "X": "-1.6",
          "Y": 0.43654827138974306
         },
         {
          "X": "-1.5",
          "Y": 0.4383108561413406
         },
         {
          "X": "-1.4000000000000001",
          "Y": 0.4383108561413406
         },
         {
          "X": "-1.3",
          "Y": 0.440107437030124
         },
         {
          "X": "-1.2000000000000002",
          "Y": 0.4419811896552056
         },
         {
          "X": "-1.1",
          "Y": 0.4419811896552056
         },
         {
          "X": "-1.0",
          "Y": 0.4439789207374406
         },
         {
          "X": "-0.9",
          "Y": 0.4461530400753831
         },
         {
          "X": "-0.8",
          "Y": 0.4461530400753831
         },
         {
          "X": "-0.7000000000000001",
          "Y": 0.4485635022996514
         },
         {
          "X": "-0.6000000000000001",
          "Y": 0.45127958951056435
         },
         {
          "X": "-0.5",
          "Y": 0.45127958951056435
         },
         {
          "X": "-0.4",
          "Y": 0.45438129687072926
         },
         {
          "X": "-0.30000000000000004",
          "Y": 0.4579599456364869
         },
         {
          "X": "-0.2",
          "Y": 0.4579599456364869
         },
         {
          "X": "-0.1",
          "Y": 0.4621175003390685
         },
         {
          "X": "0.0",
          "Y": 0.466963948900211
         },
         {
          "X": "0.1",
          "Y": 0.466963948900211
         },
         {
          "X": "0.2",
          "Y": 0.472612082264385
         },
         {
          "X": "0.30000000000000004",
          "Y": 0.472612082264385
         },
         {
          "X": "0.4",
          "Y": 0.4791691692092402
         },
         {
          "X": "0.5",
          "Y": 0.4867254435422537
         },
         {
          "X": "0.6000000000000001",
          "Y": 0.4867254435422537
         },
         {
          "X": "0.7000000000000001",
          "Y": 0.4953400369290184
         },
         {
          "X": "0.8",
          "Y": 0.5050259281552563
         },
         {
          "X": "0.9",
          "Y": 0.5050259281552563
         },
         {
          "X": "1.0",
          "Y": 0.5157364212731503
         },
         {
          "X": "1.1",
          "Y": 0.5273562652740454
         },
         {
          "X": "1.2000000000000002",
          "Y": 0.5273562652740454
         },
         {
          "X": "1.3",
          "Y": 0.5397004142463109
         },
         {
          "X": "1.4000000000000001",
          "Y": 0.5525223732847885
         },
         {
          "X": "1.5",
          "Y": 0.5525223732847885
         },
         {
          "X": "1.6",
          "Y": 0.5655321739613536
         },
         {
          "X": "1.7000000000000002",
          "Y": 0.5784217462783007
         },
         {
          "X": "1.8",
          "Y": 0.5784217462783007
         },
         {
          "X": "1.9000000000000001",
          "Y": 0.5908935273952465
         },
         {
          "X": "2.0",
          "Y": 0.6026872593576783
         },
         {
          "X": "2.1",
          "Y": 0.6026872593576783
         },
         {
          "X": "2.2",
          "Y": 0.6136004137874638
         },
         {
          "X": "2.3000000000000003",
          "Y": 0.6136004137874638
         },
         {
          "X": "2.4000000000000004",
          "Y": 0.6234993601251995
         },
         {
          "X": "2.5",
          "Y": 0.6323206557906568
         },
         {
          "X": "2.6",
          "Y": 0.6323206557906568
         },
         {
          "X": "2.7",
          "Y": 0.6400639284905034
         },
         {
          "X": "2.8000000000000003",
          "Y": 0.6467791656522559
         },
         {
          "X": "2.9000000000000004",
          "Y": 0.6467791656522559
         },
         {
          "X": "3.0",
          "Y": 0.6525516108596305
         },
         {
          "X": "3.1",
          "Y": 0.6574870371201805
         },
         {
          "X": "3.2",
          "Y": 0.6574870371201805
         },
         {
          "X": "3.3000000000000003",
          "Y": 0.6616992737166949
         },
         {
          "X": "3.4000000000000004",
          "Y": 0.665300880730099
         },
         {
          "X": "3.5",
          "Y": 0.665300880730099
         },
         {
          "X": "3.6",
          "Y": 0.6683970584783531
         },
         {
          "X": "3.7",
          "Y": 0.6710823638762319
         },
         {
          "X": "3.8000000000000003",
          "Y": 0.6710823638762319
         },
         {
          "X": "3.9000000000000004",
          "Y": 0.6734395752658063
         },
         {
          "X": "4.0",
          "Y": 0.6755400277819468
         },
         {
          "X": "4.1000000000000005",
          "Y": 0.6755400277819468
         },
         {
          "X": "4.2",
          "Y": 0.6774448430078972
         },
         {
          "X": "4.3",
          "Y": 0.6774448430078972
         },
         {
          "X": "4.4",
          "Y": 0.6792066248969277
         },
         {
          "X": "4.5",
          "Y": 0.6808713402483008
         },
         {
          "X": "4.6000000000000005",
          "Y": 0.6808713402483008
         },
         {
          "X": "4.7",
          "Y": 0.6824802222018803
         },
         {
          "X": "4.800000000000001",
          "Y": 0.6840716217829482
         },
         {
          "X": "4.9",
          "Y": 0.6840716217829482
         },
         {
          "X": "5.0",
          "Y": 0.6856827869459974
         },
         {
          "X": "5.1000000000000005",
          "Y": 0.6873515753267738
         },
         {
          "X": "5.2",
          "Y": 0.6873515753267738
         },
         {
          "X": "5.300000000000001",
          "Y": 0.6891181099982081
         },
         {
          "X": "5.4",
          "Y": 0.6910263688420103
         },
         {
          "X": "5.5",
          "Y": 0.6910263688420103
         },
         {
          "X": "5.6000000000000005",
          "Y": 0.6931256574790816
         },
         {
          "X": "5.7",
          "Y": 0.6954718520123602
         },
         {
          "X": "5.800000000000001",
          "Y": 0.6954718520123602
         },
         {
          "X": "5.9",
          "Y": 0.6981282119804814
         },
         {
          "X": "6.0",
          "Y": 0.7011654628692634
         },
         {
          "X": "6.1000000000000005",
          "Y": 0.7011654628692634
         },
         {
          "X": "6.2",
          "Y": 0.7046607496842505
         },
         {
          "X": "6.300000000000001",
          "Y": 0.7046607496842505
         },
         {
          "X": "6.4",
          "Y": 0.7086950030661449
         },
         {
          "X": "6.5",
          "Y": 0.713348288833819
         },
         {
          "X": "6.6000000000000005",
          "Y": 0.713348288833819
         },
         {
          "X": "6.7",
          "Y": 0.7186928910146249
         },
         {
          "X": "6.800000000000001",
          "Y": 0.7247842547269621
         },
         {
          "X": "6.9",
          "Y": 0.7247842547269621
         },
         {
          "X": "7.0",
          "Y": 0.7316504882964712
         },
         {
          "X": "7.1000000000000005",
          "Y": 0.7392818082635682
         },
         {
          "X": "7.2",
          "Y": 0.7392818082635682
         },
         {
          "X": "7.300000000000001",
          "Y": 0.747621918750089
         },
         {
          "X": "7.4",
          "Y": 0.7565635877682471
         },
         {
          "X": "7.5",
          "Y": 0.7565635877682471
         },
         {
          "X": "7.6000000000000005",
          "Y": 0.7659503747121392
         },
         {
          "X": "7.7",
          "Y": 0.775585478633878
         },
         {
          "X": "7.800000000000001",
          "Y": 0.775585478633878
         },
         {
          "X": "7.9",
          "Y": 0.7852471701184536
         },
         {
          "X": "8.0",
          "Y": 0.794708651662613
         },
         {
          "X": "8.1",
          "Y": 0.794708651662613
         },
         {
          "X": "8.200000000000001",
          "Y": 0.8037589993758706
         },
         {
          "X": "8.3",
          "Y": 0.8122215101035624
         },
         {
          "X": "8.4",
          "Y": 0.8122215101035624
         },
         {
          "X": "8.5",
          "Y": 0.8199664452330324
         },
         {
          "X": "8.6",
          "Y": 0.8199664452330324
         },
         {
          "X": "8.700000000000001",
          "Y": 0.8269165854027872
         },
         {
          "X": "8.8",
          "Y": 0.833045688874151
         },
         {
          "X": "8.9",
          "Y": 0.833045688874151
         },
         {
          "X": "9.0",
          "Y": 0.8383713472284309
         },
         {
          "X": "9.1",
          "Y": 0.8429445037798167
         },
         {
          "X": "9.200000000000001",
          "Y": 0.8429445037798167
         },
         {
          "X": "9.3",
          "Y": 0.8468379708686057
         },
         {
          "X": "9.4",
          "Y": 0.8501358188088259
         },
         {
          "X": "9.5",
          "Y": 0.8501358188088259
         },
         {
          "X": "9.600000000000001",
          "Y": 0.8529247908614438
         },
         {
          "X": "9.700000000000001",
          "Y": 0.8552881863851354
         },
         {
          "X": "9.8",
          "Y": 0.8552881863851354
         },
         {
          "X": "9.9",
          "Y": 0.8573021134400982
         },
         {
          "X": "10.0",
          "Y": 0.8590336977828285
         },
         {
          "X": "10.100000000000001",
          "Y": 0.8590336977828285
         },
         {
          "X": "10.200000000000001",
          "Y": 0.8605407219822485
         },
         {
          "X": "10.3",
          "Y": 0.8618721930321237
         },
         {
          "X": "10.4",
          "Y": 0.8618721930321237
         },
         {
          "X": "10.5",
          "Y": 0.8630694328739645
         },
         {
          "X": "10.600000000000001",
          "Y": 0.8641674027989455
         },
         {
          "X": "10.700000000000001",
          "Y": 0.8641674027989455
         },
         {
          "X": "10.8",
          "Y": 0.8651960792713209
         },
         {
          "X": "10.9",
          "Y": 0.8651960792713209
         },
         {
          "X": "11.0",
          "Y": 0.8661817818785553
         },
         {
          "X": "11.100000000000001",
          "Y": 0.8671484114150743
         },
         {
          "X": "11.200000000000001",
          "Y": 0.8671484114150743
         },
         {
          "X": "11.3",
          "Y": 0.8681185904652637
         },
         {
          "X": "11.4",
          "Y": 0.8691147146491678
         },
         {
          "X": "11.5",
          "Y": 0.8691147146491678
         },
         {
          "X": "11.600000000000001",
          "Y": 0.8701599236227944
         },
         {
          "X": "11.700000000000001",
          "Y": 0.8712789891740633
         },
         {
          "X": "11.8",
          "Y": 0.8712789891740633
         },
         {
          "X": "11.9",
          "Y": 0.8724990941521349
         },
         {
          "X": "12.0",
          "Y": 0.8738504408615931
         },
         {
          "X": "12.100000000000001",
          "Y": 0.8738504408615931
         },
         {
          "X": "12.200000000000001",
          "Y": 0.8753665824172631
         },
         {
          "X": "12.3",
          "Y": 0.8770843202771214
         },
         {
          "X": "12.4",
          "Y": 0.8770843202771214
         },
         {
          "X": "12.5",
          "Y": 0.8790429667070351
         },
         {
          "X": "12.600000000000001",
          "Y": 0.8812827513598708
         },
         {
          "X": "12.700000000000001",
          "Y": 0.8812827513598708
         },
         {
          "X": "12.8",
          "Y": 0.8838421832448511
         },
         {
          "X": "12.9",
          "Y": 0.886754292185378
         },
         {
          "X": "13.0",
          "Y": 0.886754292185378
         },
         {
          "X": "13.100000000000001",
          "Y": 0.8900418865165067
         },
         {
          "X": "13.200000000000001",
          "Y": 0.8900418865165067
         },
         {
          "X": "13.3",
          "Y": 0.8937122673497901
         },
         {
          "X": "13.4",
          "Y": 0.897752179939195
         },
         {
          "X": "13.5",
          "Y": 0.897752179939195
         },
         {
          "X": "13.600000000000001",
          "Y": 0.9021240552064214
         },
         {
          "X": "13.700000000000001",
          "Y": 0.9067646661096197
         },
         {
          "X": "13.8",
          "Y": 0.9067646661096197
         },
         {
          "X": "13.9",
          "Y": 0.9115870829677587
         },
         {
          "X": "14.0",
          "Y": 0.9164862352423273
         },
         {
          "X": "14.100000000000001",
          "Y": 0.9164862352423273
         },
         {
          "X": "14.200000000000001",
          "Y": 0.9213475842246227
         },
         {
          "X": "14.3",
          "Y": 0.9260576138597123
         },
         {
          "X": "14.4",
          "Y": 0.9260576138597123
         },
         {
          "X": "14.5",
          "Y": 0.9305143302766634
         },
         {
          "X": "14.600000000000001",
          "Y": 0.9346359220819658
         },
         {
          "X": "14.700000000000001",
          "Y": 0.9346359220819658
         },
         {
          "X": "14.8",
          "Y": 0.9383661974961931
         },
         {
          "X": "14.9",
          "Y": 0.9416762165383292
         },
         {
          "X": "15.0",
          "Y": 0.9416762165383292
         },
         {
          "X": "15.100000000000001",
          "Y": 0.9445623994653407
         },
         {
          "X": "15.200000000000001",
          "Y": 0.9445623994653407
         },
         {
          "X": "15.3",
          "Y": 0.9470420505398424
         },
         {
          "X": "15.4",
          "Y": 0.9491475376188891
         },
         {
          "X": "15.5",
          "Y": 0.9491475376188891
         },
         {
          "X": "15.600000000000001",
          "Y": 0.9509203113024005
         },
         {
          "X": "15.700000000000001",
          "Y": 0.952405644233058
         },
         {
          "X": "15.8",
          "Y": 0.952405644233058
         },
         {
          "X": "15.9",
          "Y": 0.9536485747837478
         },
         {
          "X": "16.0",
          "Y": 0.9546911789794259
         },
         {
          "X": "16.1",
          "Y": 0.9546911789794259
         },
         {
          "X": "16.2",
          "Y": 0.9555710419461336
         },
         {
          "X": "16.3",
          "Y": 0.9563206701417162
         },
         {
          "X": "16.400000000000002",
          "Y": 0.9563206701417162
         },
         {
          "X": "16.5",
          "Y": 0.956967555264652
         },
         {
          "X": "16.6",
          "Y": 0.9575346329249771
         },
         {
          "X": "16.7",
          "Y": 0.9575346329249771
         },
         {
          "X": "16.8",
          "Y": 0.958040939266696
         },
         {
          "X": "16.900000000000002",
          "Y": 0.958040939266696
         },
         {
          "X": "17.0",
          "Y": 0.9585023324327908
         },
         {
          "X": "17.1",
          "Y": 0.9589321999015961
         },
         {
          "X": "17.2",
          "Y": 0.9589321999015961
         },
         {
          "X": "17.3",
          "Y": 0.959342112614715
         },
         {
          "X": "17.400000000000002",
          "Y": 0.9597424127584269
         },
         {
          "X": "17.5",
          "Y": 0.9597424127584269
         },
         {
          "X": "17.6",
          "Y": 0.9601427364574509
         },
         {
          "X": "17.7",
          "Y": 0.9605524781840039
         },
         {
          "X": "17.8",
          "Y": 0.9605524781840039
         },
         {
          "X": "17.900000000000002",
          "Y": 0.9609812024645026
         },
         {
          "X": "18.0",
          "Y": 0.9614390017317236
         },
         {
          "X": "18.1",
          "Y": 0.9614390017317236
         },
         {
          "X": "18.2",
          "Y": 0.9619367875386193
         },
         {
          "X": "18.3",
          "Y": 0.9619367875386193
         },
         {
          "X": "18.400000000000002",
          "Y": 0.9624864863388753
         },
         {
          "X": "18.5",
          "Y": 0.9631010919025778
         },
         {
          "X": "18.6",
          "Y": 0.9631010919025778
         },
         {
          "X": "18.7",
          "Y": 0.9637945072421701
         },
         {
          "X": "18.8",
          "Y": 0.9645810956406358
         },
         {
          "X": "18.900000000000002",
          "Y": 0.9645810956406358
         },
         {
          "X": "19.0",
          "Y": 0.9654748623662359
         },
         {
          "X": "19.1",
          "Y": 0.966488217645397
         },
         {
          "X": "19.200000000000003",
          "Y": 0.966488217645397
         },
         {
          "X": "19.3",
          "Y": 0.9676303378633788
         },
         {
          "X": "19.400000000000002",
          "Y": 0.9676303378633788
         },
         {
          "X": "19.5",
          "Y": 0.9689052482552964
         },
         {
          "X": "19.6",
          "Y": 0.9703098830224148
         },
         {
          "X": "19.700000000000003",
          "Y": 0.9703098830224148
         },
         {
          "X": "19.8",
          "Y": 0.9718325030782861
         },
         {
          "X": "19.900000000000002",
          "Y": 0.9734519150475418
         },
         {
          "X": "20.0",
          "Y": 0.9734519150475418
         },
         {
          "X": "20.1",
          "Y": 0.9751378843963734
         },
         {
          "X": "20.200000000000003",
          "Y": 0.9768529439431581
         },
         {
          "X": "20.3",
          "Y": 0.9768529439431581
         },
         {
          "X": "20.400000000000002",
          "Y": 0.9785554921004789
         },
         {
          "X": "20.5",
          "Y": 0.9785554921004789
         },
         {
          "X": "20.6",
          "Y": 0.980203737127331
         },
         {
          "X": "20.700000000000003",
          "Y": 0.9817597916448263
         },
         {
          "X": "20.8",
          "Y": 0.9817597916448263
         },
         {
          "X": "20.900000000000002",
          "Y": 0.9831931555897562
         },
         {
          "X": "21.0",
          "Y": 0.9844829783047002
         },
         {
          "X": "21.1",
          "Y": 0.9844829783047002
         },
         {
          "X": "21.200000000000003",
          "Y": 0.9856188078124689
         },
         {
          "X": "21.3",
          "Y": 0.9865999021127764
         },
         {
          "X": "21.400000000000002",
          "Y": 0.9865999021127764
         },
         {
          "X": "21.5",
          "Y": 0.987433471152795
         },
         {
          "X": "21.6",
          "Y": 0.987433471152795
         },
         {
          "X": "21.700000000000003",
          "Y": 0.9881323618338353
         },
         {
          "X": "21.8",
          "Y": 0.9887126830091324
         },
         {
          "X": "21.900000000000002",
          "Y": 0.9887126830091324
         },
         {
          "X": "22.0",
          "Y": 0.9891917394618951
         },
         {
          "X": "22.1",
          "Y": 0.9895864723963377
         },
         {
          "X": "22.200000000000003",
          "Y": 0.9895864723963377
         },
         {
          "X": "22.3",
          "Y": 0.9899124485345105
         },
         {
          "X": "22.400000000000002",
          "Y": 0.9899124485345105
         },
         {
          "X": "22.5",
          "Y": 0.9901833334091908
         },
         {
          "X": "22.6",
          "Y": 0.9904107328526716
         },
         {
          "X": "22.700000000000003",
          "Y": 0.9904107328526716
         },
         {
          "X": "22.8",
          "Y": 0.9906042785838876
         },
         {
          "X": "22.900000000000002",
          "Y": 0.9907718516608361
         },
         {
          "X": "23.0",
          "Y": 0.9907718516608361
         },
         {
          "X": "23.1",
          "Y": 0.9909198656895001
         },
         {
          "X": "23.200000000000003",
          "Y": 0.9909198656895001
         },
         {
          "X": "23.3",
          "Y": 0.9910535595955925
         },
         {
          "X": "23.400000000000002",
          "Y": 0.9911772722900831
         },
         {
          "X": "23.5",
          "Y": 0.9911772722900831
         },
         {
          "X": "23.6",
          "Y": 0.991294687288599
         },
         {
          "X": "23.700000000000003",
          "Y": 0.991294687288599
         },
         {
          "X": "23.8",
          "Y": 0.9914090449122153
         },
         {
          "X": "23.900000000000002",
          "Y": 0.9915233244575532
         },
         {
          "X": "24.0",
          "Y": 0.9915233244575532
         },
         {
          "X": "24.1",
          "Y": 0.9916403999880807
         },
         {
          "X": "24.200000000000003",
          "Y": 0.9917631721135399
         },
         {
          "X": "24.3",
          "Y": 0.9917631721135399
         },
         {
          "X": "24.400000000000002",
          "Y": 0.9918946748488988
         },
         {
          "X": "24.5",
          "Y": 0.9918946748488988
         },
         {
          "X": "24.6",
          "Y": 0.9920381517072588
         },
         {
          "X": "24.700000000000003",
          "Y": 0.9921970889793621
         },
         {
          "X": "24.8",
          "Y": 0.9921970889793621
         },
         {
          "X": "24.900000000000002",
          "Y": 0.992375187560057
         },
         {
          "X": "25.0",
          "Y": 0.992375187560057
         },
         {
          "X": "25.1",
          "Y": 0.9925762495095981
         },
         {
          "X": "25.200000000000003",
          "Y": 0.9928039548487388
         },
         {
          "X": "25.3",
          "Y": 0.9928039548487388
         },
         {
          "X": "25.400000000000002",
          "Y": 0.9930615120086463
         },
         {
          "X": "25.5",
          "Y": 0.9930615120086463
         },
         {
          "X": "25.6",
          "Y": 0.9933511859072832
         },
         {
          "X": "25.700000000000003",
          "Y": 0.9936737422700528
         },
         {
          "X": "25.8",
          "Y": 0.9936737422700528
         },
         {
          "X": "25.900000000000002",
          "Y": 0.9940278912166916
         },
         {
          "X": "26.0",
          "Y": 0.9940278912166916
         },
         {
          "X": "26.1",
          "Y": 0.994409854768441
         },
         {
          "X": "26.200000000000003",
          "Y": 0.9948132022194107
         },
         {
          "X": "26.3",
          "Y": 0.9948132022194107
         },
         {
          "X": "26.400000000000002",
          "Y": 0.9952290744522383
         },
         {
          "X": "26.5",
          "Y": 0.9952290744522383
         },
         {
          "X": "26.6",
          "Y": 0.9956468446404483
         },
         {
          "X": "26.700000000000003",
          "Y": 0.9960551513385145
         },
         {
          "X": "26.8",
          "Y": 0.9960551513385145
         },
         {
          "X": "26.900000000000002",
          "Y": 0.9964431263978278
         },
         {
          "X": "27.0",
          "Y": 0.9964431263978278
         },
         {
          "X": "27.1",
          "Y": 0.9968015699087924
         },
         {
          "X": "27.200000000000003",
          "Y": 0.9971238301466249
         },
         {
          "X": "27.3",
          "Y": 0.9971238301466249
         },
         {
          "X": "27.400000000000002",
          "Y": 0.9974062293361563
         },
         {
          "X": "27.5",
          "Y": 0.9974062293361563
         },
         {
          "X": "27.6",
          "Y": 0.9976480031722119
         },
         {
          "X": "27.700000000000003",
          "Y": 0.9978508437717044
         },
         {
          "X": "27.8",
          "Y": 0.9978508437717044
         },
         {
          "X": "27.900000000000002",
          "Y": 0.9980182107153763
         },
         {
          "X": "28.0",
          "Y": 0.9980182107153763
         },
         {
          "X": "28.1",
          "Y": 0.9981545876202231
         },
         {
          "X": "28.200000000000003",
          "Y": 0.9982648239857533
         },
         {
          "X": "28.3",
          "Y": 0.9982648239857533
         },
         {
          "X": "28.400000000000002",
          "Y": 0.9983536405422623
         },
         {
          "X": "28.5",
          "Y": 0.9983536405422623
         },
         {
          "X": "28.6",
          "Y": 0.9984253171275194
         },
         {
          "X": "28.700000000000003",
          "Y": 0.9984835409415966
         },
         {
          "X": "28.8",
          "Y": 0.9984835409415966
         },
         {
          "X": "28.900000000000002",
          "Y": 0.9985313735322139
         },
         {
          "X": "29.0",
          "Y": 0.9985313735322139
         },
         {
          "X": "29.1",
          "Y": 0.9985712925694179
         },
         {
          "X": "29.200000000000003",
          "Y": 0.9985712925694179
         },
         {
          "X": "29.3",
          "Y": 0.9986052720308496
         },
         {
          "X": "29.400000000000002",
          "Y": 0.9986348753641527
         },
         {
          "X": "29.5",
          "Y": 0.9986348753641527
         },
         {
          "X": "29.6",
          "Y": 0.9986613464398512
         },
         {
          "X": "29.700000000000003",
          "Y": 0.9986613464398512
         },
         {
          "X": "29.8",
          "Y": 0.9986856908722994
         },
         {
          "X": "29.900000000000002",
          "Y": 0.9986856908722994
         },
         {
          "X": "30.0",
          "Y": 0.9987087453064314
         },
         {
          "X": "30.1",
          "Y": 0.9987312350049792
         },
         {
          "X": "30.200000000000003",
          "Y": 0.9987312350049792
         },
         {
          "X": "30.3",
          "Y": 0.9987538211600089
         },
         {
          "X": "30.400000000000002",
          "Y": 0.9987538211600089
         },
         {
          "X": "30.5",
          "Y": 0.9987771393281295
         },
         {
          "X": "30.6",
          "Y": 0.9987771393281295
         },
         {
          "X": "30.700000000000003",
          "Y": 0.9988018296032477
         },
         {
          "X": "30.8",
          "Y": 0.9988285578011092
         },
         {
          "X": "30.900000000000002",
          "Y": 0.9988285578011092
         },
         {
          "X": "31.0",
          "Y": 0.998858025201258
         },
         {
          "X": "31.1",
          "Y": 0.998858025201258
         },
         {
          "X": "31.200000000000003",
          "Y": 0.9988909625482303
         },
         {
          "X": "31.3",
          "Y": 0.9988909625482303
         },
         {
          "X": "31.400000000000002",
          "Y": 0.9989281026082109
         },
         {
          "X": "31.5",
          "Y": 0.9989701255651904
         },
         {
          "X": "31.6",
          "Y": 0.9989701255651904
         },
         {
          "X": "31.700000000000003",
          "Y": 0.9990175742088404
         },
         {
          "X": "31.8",
          "Y": 0.9990175742088404
         },
         {
          "X": "31.900000000000002",
          "Y": 0.9990707423801068
         },
         {
          "X": "32.0",
          "Y": 0.9990707423801068
         },
         {
          "X": "32.1",
          "Y": 0.9991295506091302
         },
         {
          "X": "32.2",
          "Y": 0.999193435195115
         },
         {
          "X": "32.300000000000004",
          "Y": 0.999193435195115
         },
         {
          "X": "32.4",
          "Y": 0.9992612862286765
         },
         {
          "X": "32.5",
          "Y": 0.9992612862286765
         },
         {
          "X": "32.6",
          "Y": 0.9993314696488502
         },
         {
          "X": "32.7",
          "Y": 0.9993314696488502
         },
         {
          "X": "32.800000000000004",
          "Y": 0.9994019534277119
         },
         {
          "X": "32.9",
          "Y": 0.9994019534277119
         },
         {
          "X": "33.0",
          "Y": 0.9994705294526769
         },
         {
          "X": "33.1",
          "Y": 0.9995350898836717
         },
         {
          "X": "33.2",
          "Y": 0.9995350898836717
         },
         {
          "X": "33.300000000000004",
          "Y": 0.9995938941814251
         },
         {
          "X": "33.4",
          "Y": 0.9995938941814251
         },
         {
          "X": "33.5",
          "Y": 0.9996457625794852
         },
         {
          "X": "33.6",
          "Y": 0.9996457625794852
         },
         {
          "X": "33.7",
          "Y": 0.999690155141131
         },
         {
          "X": "33.800000000000004",
          "Y": 0.999690155141131
         },
         {
          "X": "33.9",
          "Y": 0.9997271322557948
         },
         {
          "X": "34.0",
          "Y": 0.9997271322557948
         },
         {
          "X": "34.1",
          "Y": 0.9997572260380665
         },
         {
          "X": "34.2",
          "Y": 0.9997812696965594
         },
         {
          "X": "34.300000000000004",
          "Y": 0.9997812696965594
         },
         {
          "X": "34.4",
          "Y": 0.9998002303729486
         },
         {
          "X": "34.5",
          "Y": 0.9998002303729486
         },
         {
          "X": "34.6",
          "Y": 0.9998150761162556
         },
         {
          "X": "34.7",
          "Y": 0.9998150761162556
         },
         {
          "X": "34.800000000000004",
          "Y": 0.9998266890641281
         },
         {
          "X": "34.9",
          "Y": 0.9998266890641281
         },
         {
          "X": "35.0",
          "Y": 0.9998358220968864
         }
        ]
       },
       "encoding": {
        "x": {
         "field": "X",
         "type": "quantitative"
        },
        "y": {
         "field": "Y",
         "type": "quantitative"
        }
       },
       "height": 200,
       "mark": "bar",
       "width": 200
      },
      "image/png": "[encoded data removed]"
     },
     "metadata": {},
     "output_type": "display_data"
    }
   ],
   "source": [
    "plotVega $ plotCdf 700 0.1 $ normalize model4"
   ]
  },
  {
   "cell_type": "code",
   "execution_count": 80,
   "metadata": {},
   "outputs": [
    {
     "data": {
      "application/vnd.vegalite.v4+json": {
       "$schema": "https://vega.github.io/schema/vega-lite/v4.json",
       "data": {
        "values": [
         {
          "X": "-3.4000000000000004",
          "Y": 6.950317017405424e-05
         },
         {
          "X": "-3.3000000000000003",
          "Y": 0.00010164148887630666
         },
         {
          "X": "-3.2",
          "Y": 0.00014714278717500919
         },
         {
          "X": "-3.1",
          "Y": 0.0002116359331091854
         },
         {
          "X": "-3.0",
          "Y": 0.0003008830961431438
         },
         {
          "X": "-2.9000000000000004",
          "Y": 0.0004245565559178024
         },
         {
          "X": "-2.8000000000000003",
          "Y": 0.000592958914929261
         },
         {
          "X": "-2.7",
          "Y": 0.0008210921898807828
         },
         {
          "X": "-2.6",
          "Y": 0.0011295218764828085
         },
         {
          "X": "-2.5",
          "Y": 0.0015370833432355548
         },
         {
          "X": "-2.4000000000000004",
          "Y": 0.0020767346995768524
         },
         {
          "X": "-2.3000000000000003",
          "Y": 0.0027750550507635594
         },
         {
          "X": "-2.2",
          "Y": 0.003682003095772265
         },
         {
          "X": "-2.1",
          "Y": 0.004836377479561093
         },
         {
          "X": "-2.0",
          "Y": 0.0063037376968154545
         },
         {
          "X": "-1.9000000000000001",
          "Y": 0.00815563985387498
         },
         {
          "X": "-1.8",
          "Y": 0.010445470950775741
         },
         {
          "X": "-1.7000000000000002",
          "Y": 0.013287292043947026
         },
         {
          "X": "-1.6",
          "Y": 0.016729364345415422
         },
         {
          "X": "-1.5",
          "Y": 0.020920698541232886
         },
         {
          "X": "-1.4000000000000001",
          "Y": 0.025949070122595248
         },
         {
          "X": "-1.3",
          "Y": 0.0319278845185567
         },
         {
          "X": "-1.2000000000000002",
          "Y": 0.038977618089017146
         },
         {
          "X": "-1.1",
          "Y": 0.04717377520148923
         },
         {
          "X": "-1.0",
          "Y": 0.05669628899414307
         },
         {
          "X": "-0.9",
          "Y": 0.06763582816867231
         },
         {
          "X": "-0.8",
          "Y": 0.07996363197165399
         },
         {
          "X": "-0.7000000000000001",
          "Y": 0.09399792755350353
         },
         {
          "X": "-0.6000000000000001",
          "Y": 0.10961956296236852
         },
         {
          "X": "-0.5",
          "Y": 0.1270642721005723
         },
         {
          "X": "-0.4",
          "Y": 0.14594054174594856
         },
         {
          "X": "-0.30000000000000004",
          "Y": 0.1667455754322485
         },
         {
          "X": "-0.2",
          "Y": 0.18898965850078664
         },
         {
          "X": "-0.1",
          "Y": 0.21300741023510444
         },
         {
          "X": "0.0",
          "Y": 0.23837738025618643
         },
         {
          "X": "0.1",
          "Y": 0.26529176788222536
         },
         {
          "X": "0.2",
          "Y": 0.29324552125305514
         },
         {
          "X": "0.30000000000000004",
          "Y": 0.32243763790607055
         },
         {
          "X": "0.4",
          "Y": 0.3522145494355974
         },
         {
          "X": "0.5",
          "Y": 0.38302771430139804
         },
         {
          "X": "0.6000000000000001",
          "Y": 0.41380020335761064
         },
         {
          "X": "0.7000000000000001",
          "Y": 0.4453312940716577
         },
         {
          "X": "0.8",
          "Y": 0.47627118275475033
         },
         {
          "X": "0.9",
          "Y": 0.5076247482728029
         },
         {
          "X": "1.0",
          "Y": 0.5378594530580645
         },
         {
          "X": "1.1",
          "Y": 0.5681276391528831
         },
         {
          "X": "1.2000000000000002",
          "Y": 0.597067457157867
         },
         {
          "X": "1.3",
          "Y": 0.6256058513648695
         },
         {
          "X": "1.4000000000000001",
          "Y": 0.6525978918543351
         },
         {
          "X": "1.5",
          "Y": 0.6788978994261632
         },
         {
          "X": "1.6",
          "Y": 0.7035287765151896
         },
         {
          "X": "1.7000000000000002",
          "Y": 0.7270983751452831
         },
         {
          "X": "1.8",
          "Y": 0.7491904916216832
         },
         {
          "X": "1.9000000000000001",
          "Y": 0.7700751600787092
         },
         {
          "X": "2.0",
          "Y": 0.7895590499347593
         },
         {
          "X": "2.1",
          "Y": 0.8076546744364452
         },
         {
          "X": "2.2",
          "Y": 0.8244722667497988
         },
         {
          "X": "2.3000000000000003",
          "Y": 0.8399754533832623
         },
         {
          "X": "2.4000000000000004",
          "Y": 0.854374010814152
         },
         {
          "X": "2.5",
          "Y": 0.8675029404443491
         },
         {
          "X": "2.6",
          "Y": 0.8796500039536462
         },
         {
          "X": "2.7",
          "Y": 0.8906621206366212
         },
         {
          "X": "2.8000000000000003",
          "Y": 0.9008027011551201
         },
         {
          "X": "2.9000000000000004",
          "Y": 0.9099942009284938
         },
         {
          "X": "3.0",
          "Y": 0.918454890673649
         },
         {
          "X": "3.1",
          "Y": 0.9260988435620305
         },
         {
          "X": "3.2",
          "Y": 0.9330649684929808
         },
         {
          "X": "3.3000000000000003",
          "Y": 0.939388711836513
         },
         {
          "X": "3.4000000000000004",
          "Y": 0.9451029311503909
         },
         {
          "X": "3.5",
          "Y": 0.9503124607308405
         }
        ]
       },
       "encoding": {
        "x": {
         "field": "X",
         "type": "quantitative"
        },
        "y": {
         "field": "Y",
         "type": "quantitative"
        }
       },
       "height": 200,
       "mark": "bar",
       "width": 200
      },
      "image/png": "[encoded data removed]"
     },
     "metadata": {},
     "output_type": "display_data"
    }
   ],
   "source": [
    "plotVega $ plotCdf 70 0.1 (normal 0 1 + gamma 1 1)"
   ]
  },
  {
   "cell_type": "markdown",
   "metadata": {},
   "source": [
    "# Expressing distributions with code\n",
    "\n",
    "If you are familiar with Haskell, then it should be clear that the class of distributions you can express by writing probabilistic programs is very broad, since `m` is a monad. For example, you can use `fmap` to apply a function to the support of the distribution, like:"
   ]
  },
  {
   "cell_type": "code",
   "execution_count": 82,
   "metadata": {},
   "outputs": [],
   "source": [
    "mapped :: MonadInfer m => m Bool\n",
    "mapped = fmap (> 0) (model 0.5)"
   ]
  },
  {
   "cell_type": "markdown",
   "metadata": {},
   "source": [
    "And you can use the standard set of monadic and applicative combinators, like `when`, `filterM` or `replicateM`:"
   ]
  },
  {
   "cell_type": "code",
   "execution_count": 10,
   "metadata": {},
   "outputs": [],
   "source": [
    "lengthDist :: MonadInfer m => Double -> m Int\n",
    "lengthDist observation = do\n",
    "    means <- replicateM 3 (model observation)\n",
    "    return (length $ filter (>=1) means)"
   ]
  },
  {
   "cell_type": "markdown",
   "metadata": {},
   "source": [
    "Given an observation, this is the probability on how many (out of 3) independent draws from the posterior of the model conditioned on the observation will be greater or equal to 1. Consider the hassle of defining this with an equation, and you'll see why probabilistic programming is appealing as a way of accelerating modelling and inference."
   ]
  },
  {
   "cell_type": "code",
   "execution_count": 11,
   "metadata": {},
   "outputs": [
    {
     "data": {
      "text/plain": [
       "[(1,0.4228030765220977),(2,0.3090938161626379),(0,0.19278121201287118),(3,7.532189530239404e-2)]"
      ]
     },
     "metadata": {},
     "output_type": "display_data"
    }
   ],
   "source": [
    "enumerate $ lengthDist 0.5"
   ]
  },
  {
   "cell_type": "code",
   "execution_count": 12,
   "metadata": {},
   "outputs": [
    {
     "data": {
      "application/vnd.vegalite.v4+json": {
       "$schema": "https://vega.github.io/schema/vega-lite/v4.json",
       "data": {
        "values": [
         {
          "X": "2",
          "Y": 0.4197137519723297
         },
         {
          "X": "1",
          "Y": 0.31507728008413355
         },
         {
          "X": "3",
          "Y": 0.18636658869600853
         },
         {
          "X": "0",
          "Y": 0.07884237924752768
         }
        ]
       },
       "encoding": {
        "x": {
         "field": "X",
         "type": "nominal"
        },
        "y": {
         "field": "Y",
         "type": "quantitative"
        }
       },
       "height": 200,
       "mark": "bar",
       "width": 200
      },
      "image/png": "[encoded data removed]"
     },
     "metadata": {},
     "output_type": "display_data"
    }
   ],
   "source": [
    "plotVega $ fmap (first (pack . show)) $ enumerate $ lengthDist 0.99"
   ]
  },
  {
   "cell_type": "code",
   "execution_count": 13,
   "metadata": {},
   "outputs": [
    {
     "data": {
      "application/vnd.vegalite.v4+json": {
       "$schema": "https://vega.github.io/schema/vega-lite/v4.json",
       "data": {
        "values": [
         {
          "X": "1",
          "Y": 0.43338893548101054
         },
         {
          "X": "0",
          "Y": 0.38211546660576284
         },
         {
          "X": "2",
          "Y": 0.16384748050615444
         },
         {
          "X": "3",
          "Y": 0.020648117407072838
         }
        ]
       },
       "encoding": {
        "x": {
         "field": "X",
         "type": "nominal"
        },
        "y": {
         "field": "Y",
         "type": "quantitative"
        }
       },
       "height": 200,
       "mark": "bar",
       "width": 200
      },
      "image/png": "[encoded data removed]"
     },
     "metadata": {},
     "output_type": "display_data"
    }
   ],
   "source": [
    "plotVega $ fmap (first (pack . show)) $ enumerate $ lengthDist 0.001"
   ]
  },
  {
   "cell_type": "markdown",
   "metadata": {},
   "source": [
    "Exact sampling is pretty limited. For models with continuous random variables, or large discrete ones, it is a no-go. \n",
    "\n",
    "The broader goal is to be able to define your distribution of interest, like `model`, and then apply different inference technique, usually approximate, to it. This is what monad-bayes (and other probabilistic programming languages) enable. See the following tutorials for details."
   ]
  }
 ],
 "metadata": {
  "kernelspec": {
   "display_name": "Haskell - nixpkgs",
   "language": "haskell",
   "name": "ihaskell_nixpkgs"
  },
  "language_info": {
   "codemirror_mode": "ihaskell",
   "file_extension": ".hs",
   "mimetype": "text/x-haskell",
   "name": "haskell",
   "pygments_lexer": "Haskell",
   "version": "9.0.2"
  }
 },
 "nbformat": 4,
 "nbformat_minor": 4
}
