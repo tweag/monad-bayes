{
 "cells": [
  {
   "cell_type": "code",
   "execution_count": 2,
   "metadata": {},
   "outputs": [],
   "source": [
    ":e ImportQualifiedPost\n",
    ":e FlexibleContexts\n",
    ":e BlockArguments\n",
    ":e TupleSections\n",
    ":e FlexibleContexts\n",
    ":e OverloadedStrings\n",
    ":e LambdaCase\n",
    "\n",
    "import Control.Arrow (first)\n",
    "import Data.Text (pack)\n",
    "import Control.Monad\n",
    "import Numeric.Log\n",
    "\n",
    "import Control.Monad.Bayes.Class\n",
    "import Control.Monad.Bayes.Enumerator\n",
    "import Control.Monad.Bayes.Weighted\n",
    "import Control.Monad.Bayes.Sampler.Strict\n",
    "import Control.Monad.Bayes.Integrator\n",
    "\n",
    ":l Plotting.hs"
   ]
  },
  {
   "cell_type": "markdown",
   "metadata": {},
   "source": [
    "# Introduction to Monad-Bayes\n",
    "\n",
    "This serves as an interactive alternative to [the user guide](https://monad-bayes.netlify.app/probprog.html). This isn't intended as a tutorial to Haskell, but if you're familiar with probabilistic programming, the general flow of the code should look familiar.\n",
    "\n",
    "To get a sense of how probabilistic programming with monad-bayes works, consider the following:"
   ]
  },
  {
   "cell_type": "code",
   "execution_count": 3,
   "metadata": {},
   "outputs": [],
   "source": [
    "model :: MonadInfer m => Double -> m Double\n",
    "model observation = do\n",
    "    mean <- uniformD [-1, 0, 1]\n",
    "    factor (normalPdf mean 1 observation)\n",
    "    return mean"
   ]
  },
  {
   "cell_type": "markdown",
   "metadata": {},
   "source": [
    "The idea of monad-bayes, and probabilistic programming languages in general is to define distributions as programs. `model` corresponds to the distribution that you would express mathematically as:\n",
    "\n",
    "$$ P(m | o) = \\frac{P(m)P(o|m)}{P(o)} = \\frac{1/3 * \\mathbb{N}(o; m, 1)}{\\sum_{m' \\in \\{-1,0,1\\}} 1/3 * \\mathbb{N}(o; m', 1) } $$\n",
    "\n",
    "As a program, you can think of `model` as doing the following:\n",
    "\n",
    "- first draw from the prior over possible values of `mean` (that's the line `mean <- uniformD [-1, 0, 1]`)\n",
    "- then score a draw higher according to the likelihood placed on `observation` (the argument to `model`) by a normal with $\\mu$=`mean`\n",
    "\n",
    "- then return the `mean`\n",
    "\n",
    "To orient you on the relationship between the mathematical view of a distribution and the programming one, here are some notes:\n",
    "\n",
    "- a distribution over values of type `a` has type `MonadInfer m => m a`\n",
    "- a joint distribution over values of types `a` and `b` is a distribution over a tuple: `MonadInfer m => m (a, b)`\n",
    "- a conditional distribution over values of type `a` conditioned on values of type `b` is a function into a distribution: \n",
    "    `MonadInfer m => b -> m a`\n",
    "\n",
    "\n",
    "\n",
    "For example, if the value observed is $0.3$, then we can calculate the distribution over the mean:\n",
    "\n"
   ]
  },
  {
   "cell_type": "code",
   "execution_count": 4,
   "metadata": {},
   "outputs": [
    {
     "data": {
      "text/plain": [
       "[(0.0,0.44090549839518783),(1.0,0.36098289073731515),(-1.0,0.198111610867497)]"
      ]
     },
     "metadata": {},
     "output_type": "display_data"
    }
   ],
   "source": [
    "inferredDistribution = enumerator $ model 0.3\n",
    "inferredDistribution"
   ]
  },
  {
   "cell_type": "code",
   "execution_count": 5,
   "metadata": {
    "tags": []
   },
   "outputs": [
    {
     "data": {
      "application/vnd.vegalite.v4+json": {
       "$schema": "https://vega.github.io/schema/vega-lite/v4.json",
       "data": {
        "values": [
         {
          "X": "0.0",
          "Y": 0.44090549839518783
         },
         {
          "X": "1.0",
          "Y": 0.36098289073731515
         },
         {
          "X": "-1.0",
          "Y": 0.198111610867497
         }
        ]
       },
       "encoding": {
        "x": {
         "field": "X",
         "type": "nominal"
        },
        "y": {
         "field": "Y",
         "type": "quantitative"
        }
       },
       "height": 400,
       "mark": "bar",
       "width": 400
      },
      "image/png": "[encoded data removed]"
     },
     "metadata": {},
     "output_type": "display_data"
    }
   ],
   "source": [
    "plot (first (pack . show) <$> inferredDistribution)"
   ]
  },
  {
   "cell_type": "markdown",
   "metadata": {},
   "source": [
    "To produce this plot, we performed *inference*, to obtain the exact form of the distribution represented by `model`. Because the only random variable in `model` had a support that was small and discrete (the set $\\{-1, 0, 1\\}$), performing this inference exactly was straightforward.\n",
    "\n",
    "`enumerate` is an exact inference method offered by monad-bayes targeted as discrete distributions.\n",
    "\n",
    "You are encouraged to change `model` in a number of ways and observe how the results change:\n",
    "- try changing the prior (currently `uniformD [-1, 0, 1]`)\n",
    "- try changing the score (currently `factor (normalPdf mean 1 observation)`)\n",
    "- try changing the types of the observation and latent variable (i.e. `mean`)"
   ]
  },
  {
   "cell_type": "markdown",
   "metadata": {},
   "source": [
    "# Distributions as programs\n",
    "\n",
    "If you are familiar with Haskell, then it should be clear that the class of distributions you can express in this way is very broad, since we have monadic control flow. For example, you could build:"
   ]
  },
  {
   "cell_type": "code",
   "execution_count": 6,
   "metadata": {},
   "outputs": [],
   "source": [
    "lengthDist :: MonadInfer m => Double -> m Int\n",
    "lengthDist observation = do\n",
    "    means <- replicateM 3 (model observation)\n",
    "    return (length $ filter (>=1) means)"
   ]
  },
  {
   "cell_type": "markdown",
   "metadata": {},
   "source": [
    "# Exact inference for continuous distributions\n",
    "\n",
    "`enumerate` only works for discrete random variables (like categorical or bernoulli distributions).\n",
    "\n",
    "For continuous distributions, there is almost a (near) exact inference algorithm, which performs numerical integration. It is defined in `Control.Monad.Bayes.Integrator`, which also provides `histogram`:\n"
   ]
  },
  {
   "cell_type": "markdown",
   "metadata": {},
   "source": [
    "Given an observation, this is the probability on how many (out of 3) independent draws from the posterior of the model conditioned on the observation will be greater or equal to 1. Consider the hassle of defining this with an equation, and you'll see why probabilistic programming is appealing as a way of accelerating modelling and inference."
   ]
  },
  {
   "cell_type": "code",
   "execution_count": 7,
   "metadata": {},
   "outputs": [
    {
     "data": {
      "text/plain": [
       "[(1,0.4228030765220977),(2,0.3090938161626379),(0,0.19278121201287118),(3,7.532189530239404e-2)]"
      ]
     },
     "metadata": {},
     "output_type": "display_data"
    }
   ],
   "source": [
    "enumerator $ lengthDist 0.5"
   ]
  },
  {
   "cell_type": "code",
   "execution_count": 11,
   "metadata": {},
   "outputs": [
    {
     "data": {
      "application/vnd.vegalite.v4+json": {
       "$schema": "https://vega.github.io/schema/vega-lite/v4.json",
       "data": {
        "values": [
         {
          "X": -4.3,
          "Y": 1.130592323995006e-05
         },
         {
          "X": -4.1000000000000005,
          "Y": 2.6962655231994744e-05
         },
         {
          "X": -3.9000000000000004,
          "Y": 6.453120955372455e-05
         },
         {
          "X": -3.7,
          "Y": 0.00011893668061056686
         },
         {
          "X": -3.5,
          "Y": 0.00025201490031562045
         },
         {
          "X": -3.3000000000000003,
          "Y": 0.0004717412175174998
         },
         {
          "X": -3.1,
          "Y": 0.0009386806724130974
         },
         {
          "X": -2.9000000000000004,
          "Y": 0.0016579159951963904
         },
         {
          "X": -2.7,
          "Y": 0.0027804948691254813
         },
         {
          "X": -2.5,
          "Y": 0.004448368834902848
         },
         {
          "X": -2.3000000000000003,
          "Y": 0.00681568286985589
         },
         {
          "X": -2.1,
          "Y": 0.011045176260450752
         },
         {
          "X": -1.9000000000000001,
          "Y": 0.01607186189903378
         },
         {
          "X": -1.7000000000000002,
          "Y": 0.022441046003227313
         },
         {
          "X": -1.5,
          "Y": 0.03011723227393387
         },
         {
          "X": -1.3,
          "Y": 0.03888527634021224
         },
         {
          "X": -1.1,
          "Y": 0.04831693653557609
         },
         {
          "X": -0.9,
          "Y": 0.05777073830312829
         },
         {
          "X": -0.7000000000000001,
          "Y": 0.06644067264567828
         },
         {
          "X": -0.5,
          "Y": 0.07345895150629281
         },
         {
          "X": -0.30000000000000004,
          "Y": 0.07803999760903894
         },
         {
          "X": -0.1,
          "Y": 0.07963311467629174
         },
         {
          "X": 0.1,
          "Y": 0.07803999760903894
         },
         {
          "X": 0.30000000000000004,
          "Y": 0.07345895150629281
         },
         {
          "X": 0.5,
          "Y": 0.06644067264567828
         },
         {
          "X": 0.7000000000000001,
          "Y": 0.05777073830312829
         },
         {
          "X": 0.9,
          "Y": 0.04831693653557609
         },
         {
          "X": 1.1,
          "Y": 0.03888527634021224
         },
         {
          "X": 1.3,
          "Y": 0.03011723227393387
         },
         {
          "X": 1.5,
          "Y": 0.022441046003227313
         },
         {
          "X": 1.7000000000000002,
          "Y": 0.01607186189903378
         },
         {
          "X": 1.9000000000000001,
          "Y": 0.011045176260450752
         },
         {
          "X": 2.1,
          "Y": 0.00681568286985589
         },
         {
          "X": 2.3000000000000003,
          "Y": 0.004448368834902848
         },
         {
          "X": 2.5,
          "Y": 0.0027804948691254813
         },
         {
          "X": 2.7,
          "Y": 0.0016579159951963904
         },
         {
          "X": 2.9000000000000004,
          "Y": 0.0009386806724130974
         },
         {
          "X": 3.1,
          "Y": 0.0004717412175174998
         },
         {
          "X": 3.3000000000000003,
          "Y": 0.00025201490031562045
         },
         {
          "X": 3.5,
          "Y": 0.00011893668061056686
         },
         {
          "X": 3.7,
          "Y": 6.453120955372455e-05
         },
         {
          "X": 3.9000000000000004,
          "Y": 2.6962655231994744e-05
         },
         {
          "X": 4.1000000000000005,
          "Y": 1.130592323995006e-05
         },
         {
          "X": 4.3,
          "Y": 5.5621114130316836e-06
         },
         {
          "X": 4.5,
          "Y": 2.05165127372887e-06
         }
        ]
       },
       "encoding": {
        "x": {
         "field": "X",
         "type": "quantitative"
        },
        "y": {
         "field": "Y",
         "type": "quantitative"
        }
       },
       "height": 400,
       "mark": "bar",
       "width": 400
      },
      "image/png": "[encoded data removed]"
     },
     "metadata": {},
     "output_type": "display_data"
    }
   ],
   "source": [
    "import Data.List\n",
    "import Data.Ord\n",
    "import qualified Data.Text as T\n",
    "\n",
    "plot $ histogram 45 0.2 (normal 0 1)"
   ]
  },
  {
   "cell_type": "markdown",
   "metadata": {},
   "source": [
    "This will work for any distribution in principle, but in practice it is unfeasibly slow for complex distributions. That said, quite a few interesting distributions can be expressed, like this mixture of Gaussians:"
   ]
  },
  {
   "cell_type": "code",
   "execution_count": 12,
   "metadata": {},
   "outputs": [
    {
     "data": {
      "application/vnd.vegalite.v4+json": {
       "$schema": "https://vega.github.io/schema/vega-lite/v4.json",
       "data": {
        "values": [
         {
          "X": -24.8,
          "Y": 5.3095963671804324e-06
         },
         {
          "X": -24.6,
          "Y": 6.165627647681546e-06
         },
         {
          "X": -24.400000000000002,
          "Y": 7.142426872944732e-06
         },
         {
          "X": -24.200000000000003,
          "Y": 8.254377982243924e-06
         },
         {
          "X": -24,
          "Y": 9.517217568292708e-06
         },
         {
          "X": -23.8,
          "Y": 1.0948119678973923e-05
         },
         {
          "X": -23.6,
          "Y": 1.951916511397483e-05
         },
         {
          "X": -23.400000000000002,
          "Y": 1.53873326738432e-05
         },
         {
          "X": -23.200000000000003,
          "Y": 1.756447251953682e-05
         },
         {
          "X": -23,
          "Y": 2.0007057866674773e-05
         },
         {
          "X": -22.8,
          "Y": 2.2741709649609795e-05
         },
         {
          "X": -22.6,
          "Y": 2.5797043317974205e-05
         },
         {
          "X": -22.400000000000002,
          "Y": 2.920375038464111e-05
         },
         {
          "X": -22.200000000000003,
          "Y": 5.1043211362140733e-05
         },
         {
          "X": -22,
          "Y": 3.947883961364423e-05
         },
         {
          "X": -21.8,
          "Y": 4.438883568868708e-05
         },
         {
          "X": -21.6,
          "Y": 4.981604384789415e-05
         },
         {
          "X": -21.400000000000002,
          "Y": 5.5803886480783915e-05
         },
         {
          "X": -21.200000000000003,
          "Y": 9.627310649706154e-05
         },
         {
          "X": -21,
          "Y": 7.353406698112101e-05
         },
         {
          "X": -20.8,
          "Y": 8.186283113755633e-05
         },
         {
          "X": -20.6,
          "Y": 9.097940195119327e-05
         },
         {
          "X": -20.400000000000002,
          "Y": 0.00015542877950402179
         },
         {
          "X": -20.200000000000003,
          "Y": 0.0001176030725961721
         },
         {
          "X": -20,
          "Y": 0.00012994936307383746
         },
         {
          "X": -19.8,
          "Y": 0.00022043035575747914
         },
         {
          "X": -19.6,
          "Y": 0.0001656444511166623
         },
         {
          "X": -19.400000000000002,
          "Y": 0.00018204250426452149
         },
         {
          "X": -19.200000000000003,
          "Y": 0.00030672846672537724
         },
         {
          "X": -19,
          "Y": 0.00022900418687446427
         },
         {
          "X": -18.8,
          "Y": 0.00025038660506084855
         },
         {
          "X": -18.6,
          "Y": 0.0004192169646104488
         },
         {
          "X": -18.400000000000002,
          "Y": 0.00031107530922898813
         },
         {
          "X": -18.2,
          "Y": 0.0005185837672412176
         },
         {
          "X": -18,
          "Y": 0.0003832048398221772
         },
         {
          "X": -17.8,
          "Y": 0.00041558110144749964
         },
         {
          "X": -17.6,
          "Y": 0.0006888181760479613
         },
         {
          "X": -17.400000000000002,
          "Y": 0.0005061612922303652
         },
         {
          "X": -17.2,
          "Y": 0.000835656696506249
         },
         {
          "X": -17,
          "Y": 0.0006117199264780828
         },
         {
          "X": -16.8,
          "Y": 0.001006103121920774
         },
         {
          "X": -16.6,
          "Y": 0.0007337779924051356
         },
         {
          "X": -16.400000000000002,
          "Y": 0.0012024350560064876
         },
         {
          "X": -16.2,
          "Y": 0.0008738440118643176
         },
         {
          "X": -16,
          "Y": 0.0014268870141138828
         },
         {
          "X": -15.8,
          "Y": 0.0010333804232739619
         },
         {
          "X": -15.600000000000001,
          "Y": 0.0016815964699223697
         },
         {
          "X": -15.4,
          "Y": 0.0012137652729090045
         },
         {
          "X": -15.200000000000001,
          "Y": 0.0019685429326754145
         },
         {
          "X": -15,
          "Y": 0.0014162493419906026
         },
         {
          "X": -14.8,
          "Y": 0.0022894803727306276
         },
         {
          "X": -14.600000000000001,
          "Y": 0.0016419090158662855
         },
         {
          "X": -14.4,
          "Y": 0.002645863614316109
         },
         {
          "X": -14.200000000000001,
          "Y": 0.0018915954247418377
         },
         {
          "X": -14,
          "Y": 0.0030387696830687394
         },
         {
          "X": -13.8,
          "Y": 0.003292322586302597
         },
         {
          "X": -13.600000000000001,
          "Y": 0.002342373597746243
         },
         {
          "X": -13.4,
          "Y": 0.00374472560044742
         },
         {
          "X": -13.200000000000001,
          "Y": 0.0026563505776088787
         },
         {
          "X": -13,
          "Y": 0.004234089126490092
         },
         {
          "X": -12.8,
          "Y": 0.004545075472352339
         },
         {
          "X": -12.600000000000001,
          "Y": 0.003209076685363121
         },
         {
          "X": -12.4,
          "Y": 0.0050912499414268765
         },
         {
          "X": -12.200000000000001,
          "Y": 0.0035843756991705495
         },
         {
          "X": -12,
          "Y": 0.005670273981989368
         },
         {
          "X": -11.8,
          "Y": 0.006032222334389711
         },
         {
          "X": -11.600000000000001,
          "Y": 0.004227504911733166
         },
         {
          "X": -11.4,
          "Y": 0.006657082448059182
         },
         {
          "X": -11.200000000000001,
          "Y": 0.004652199290268652
         },
         {
          "X": -11,
          "Y": 0.007304984998232411
         },
         {
          "X": -10.8,
          "Y": 0.007702575045606567
         },
         {
          "X": -10.600000000000001,
          "Y": 0.005358481300238634
         },
         {
          "X": -10.4,
          "Y": 0.008375725553296841
         },
         {
          "X": -10.200000000000001,
          "Y": 0.005810273443431885
         },
         {
          "X": -10,
          "Y": 0.009056025256592605
         },
         {
          "X": -9.8,
          "Y": 0.009464504364960952
         },
         {
          "X": -9.600000000000001,
          "Y": 0.0065357322362273405
         },
         {
          "X": -9.4,
          "Y": 0.010140142190877145
         },
         {
          "X": -9.200000000000001,
          "Y": 0.006982288056300124
         },
         {
          "X": -9,
          "Y": 0.010801803976785741
         },
         {
          "X": -8.8,
          "Y": 0.011188334576243604
         },
         {
          "X": -8.6,
          "Y": 0.007668627394691908
         },
         {
          "X": -8.4,
          "Y": 0.011808672869082982
         },
         {
          "X": -8.200000000000001,
          "Y": 0.008070364799286928
         },
         {
          "X": -8,
          "Y": 0.012391059176428562
         },
         {
          "X": -7.800000000000001,
          "Y": 0.012718425893634153
         },
         {
          "X": -7.6000000000000005,
          "Y": 0.008651553198501605
         },
         {
          "X": -7.4,
          "Y": 0.013221056792861181
         },
         {
          "X": -7.2,
          "Y": 0.008967019281621344
         },
         {
          "X": -7,
          "Y": 0.013662649695284454
         },
         {
          "X": -6.800000000000001,
          "Y": 0.013895057367178457
         },
         {
          "X": -6.6000000000000005,
          "Y": 0.009379571751890135
         },
         {
          "X": -6.4,
          "Y": 0.014223355365981644
         },
         {
          "X": -6.2,
          "Y": 0.009572616707840676
         },
         {
          "X": -6,
          "Y": 0.014472770164764372
         },
         {
          "X": -5.800000000000001,
          "Y": 0.014582570750033136
         },
         {
          "X": -5.6000000000000005,
          "Y": 0.009767512178953679
         },
         {
          "X": -5.4,
          "Y": 0.014696779267426735
         },
         {
          "X": -5.2,
          "Y": 0.009814530455681262
         },
         {
          "X": -5,
          "Y": 0.014723268976915527
         },
         {
          "X": -4.800000000000001,
          "Y": 0.014696779267426735
         },
         {
          "X": -4.6000000000000005,
          "Y": 0.009767512178953679
         },
         {
          "X": -4.4,
          "Y": 0.014582570750033136
         },
         {
          "X": -4.2,
          "Y": 0.014472770164764372
         },
         {
          "X": -4,
          "Y": 0.009572616707840676
         },
         {
          "X": -3.8000000000000003,
          "Y": 0.014223355365981644
         },
         {
          "X": -3.6,
          "Y": 0.009379571751890135
         },
         {
          "X": -3.4000000000000004,
          "Y": 0.013895057367178457
         },
         {
          "X": -3.2,
          "Y": 0.013662649695284454
         },
         {
          "X": -3,
          "Y": 0.008967019281621344
         },
         {
          "X": -2.8000000000000003,
          "Y": 0.013221056792861181
         },
         {
          "X": -2.6,
          "Y": 0.008651553198501605
         },
         {
          "X": -2.4000000000000004,
          "Y": 0.012718425893634153
         },
         {
          "X": -2.2,
          "Y": 0.012391059176428562
         },
         {
          "X": -2,
          "Y": 0.008070364799286928
         },
         {
          "X": -1.8,
          "Y": 0.011808672869082982
         },
         {
          "X": -1.6,
          "Y": 0.007668627394691908
         },
         {
          "X": -1.4000000000000001,
          "Y": 0.011188334576243604
         },
         {
          "X": -1.2000000000000002,
          "Y": 0.010801803976785741
         },
         {
          "X": -1,
          "Y": 0.006982288056300124
         },
         {
          "X": -0.8,
          "Y": 0.010140142190877145
         },
         {
          "X": -0.6000000000000001,
          "Y": 0.0065357322362273405
         },
         {
          "X": -0.4,
          "Y": 0.009464504364960952
         },
         {
          "X": -0.2,
          "Y": 0.009056025256592605
         },
         {
          "X": 0,
          "Y": 0.005810273443431885
         },
         {
          "X": 0.2,
          "Y": 0.008375725553296841
         },
         {
          "X": 0.4,
          "Y": 0.005358481300238634
         },
         {
          "X": 0.6000000000000001,
          "Y": 0.007702575045606567
         },
         {
          "X": 0.8,
          "Y": 0.007304984998232411
         },
         {
          "X": 1,
          "Y": 0.004652199290268652
         },
         {
          "X": 1.2000000000000002,
          "Y": 0.006657082448059182
         },
         {
          "X": 1.4000000000000001,
          "Y": 0.004227504911733166
         },
         {
          "X": 1.6,
          "Y": 0.006032222334389711
         },
         {
          "X": 1.8,
          "Y": 0.005670273981989368
         },
         {
          "X": 2,
          "Y": 0.0035843756991705495
         },
         {
          "X": 2.2,
          "Y": 0.0050912499414268765
         },
         {
          "X": 2.4000000000000004,
          "Y": 0.0032090766853715828
         },
         {
          "X": 2.6,
          "Y": 0.004545075472404506
         },
         {
          "X": 2.8000000000000003,
          "Y": 0.004234089126669467
         },
         {
          "X": 3,
          "Y": 0.002656350578426903
         },
         {
          "X": 3.2,
          "Y": 0.0037447256036590893
         },
         {
          "X": 3.4000000000000004,
          "Y": 0.0023423736094486908
         },
         {
          "X": 3.6,
          "Y": 0.0032923226260335938
         },
         {
          "X": 3.8000000000000003,
          "Y": 0.0030387698092297524
         },
         {
          "X": 4,
          "Y": 0.0018915958944567674
         },
         {
          "X": 4.2,
          "Y": 0.0026458651255221624
         },
         {
          "X": 4.4,
          "Y": 0.0016419135353878634
         },
         {
          "X": 4.6000000000000005,
          "Y": 0.0022894929933032497
         },
         {
          "X": 4.800000000000001,
          "Y": 0.0014162890889872167
         },
         {
          "X": 5,
          "Y": 0.0019686515763010747
         },
         {
          "X": 5.2,
          "Y": 0.0012140419610368388
         },
         {
          "X": 5.4,
          "Y": 0.001682256247895249
         },
         {
          "X": 5.6000000000000005,
          "Y": 0.0010348602959120942
         },
         {
          "X": 5.800000000000001,
          "Y": 0.0014305303394102473
         },
         {
          "X": 6,
          "Y": 0.0008817023236705112
         },
         {
          "X": 6.2,
          "Y": 0.001220669132895143
         },
         {
          "X": 6.4,
          "Y": 0.0007709761855503958
         },
         {
          "X": 6.6000000000000005,
          "Y": 0.0010775432999527918
         },
         {
          "X": 6.800000000000001,
          "Y": 0.0007415719645205989
         },
         {
          "X": 7,
          "Y": 0.0010868554817407183
         },
         {
          "X": 7.2,
          "Y": 0.0009382280004843571
         },
         {
          "X": 7.4,
          "Y": 0.0013961737025615243
         },
         {
          "X": 7.6000000000000005,
          "Y": 0.001522551128616199
         },
         {
          "X": 7.800000000000001,
          "Y": 0.0022142478680458356
         },
         {
          "X": 8,
          "Y": 0.0029898582096525832
         },
         {
          "X": 8.200000000000001,
          "Y": 0.0040797108205224576
         },
         {
          "X": 8.4,
          "Y": 0.005585183695811193
         },
         {
          "X": 8.6,
          "Y": 0.007060207346670868
         },
         {
          "X": 8.8,
          "Y": 0.008867014272076047
         },
         {
          "X": 9,
          "Y": 0.01085140149296492
         },
         {
          "X": 9.200000000000001,
          "Y": 0.012566493408287312
         },
         {
          "X": 9.4,
          "Y": 0.014152923036878371
         },
         {
          "X": 9.600000000000001,
          "Y": 0.01540374307780132
         },
         {
          "X": 9.8,
          "Y": 0.015963490067288637
         },
         {
          "X": 10,
          "Y": 0.017178328407119536
         },
         {
          "X": 10.200000000000001,
          "Y": 0.015338741501547862
         },
         {
          "X": 10.4,
          "Y": 0.014078257987712901
         },
         {
          "X": 10.600000000000001,
          "Y": 0.012466313735160347
         },
         {
          "X": 10.8,
          "Y": 0.010618207093220663
         },
         {
          "X": 11,
          "Y": 0.008734283191698645
         },
         {
          "X": 11.200000000000001,
          "Y": 0.006865624628090803
         },
         {
          "X": 11.4,
          "Y": 0.0052157827750486385
         },
         {
          "X": 11.600000000000001,
          "Y": 0.0038130243469821565
         },
         {
          "X": 11.8,
          "Y": 0.00251075328202501
         },
         {
          "X": 12,
          "Y": 0.0018820862395857992
         },
         {
          "X": 12.200000000000001,
          "Y": 0.0011361737775533406
         },
         {
          "X": 12.4,
          "Y": 0.0007331525698315374
         },
         {
          "X": 12.600000000000001,
          "Y": 0.0004548084179036016
         },
         {
          "X": 12.8,
          "Y": 0.0002712058431011442
         },
         {
          "X": 13,
          "Y": 0.00014741651056205293
         },
         {
          "X": 13.200000000000001,
          "Y": 8.682751070586094e-05
         },
         {
          "X": 13.4,
          "Y": 5.671735825923499e-05
         },
         {
          "X": 13.600000000000001,
          "Y": 2.918219656762929e-05
         },
         {
          "X": 13.8,
          "Y": 1.7375529374486354e-05
         },
         {
          "X": 14,
          "Y": 1.1897703278608336e-05
         },
         {
          "X": 14.200000000000001,
          "Y": 8.622299511077096e-06
         },
         {
          "X": 14.4,
          "Y": 6.825405620560989e-06
         },
         {
          "X": 14.600000000000001,
          "Y": 5.586284495014563e-06
         },
         {
          "X": 14.8,
          "Y": 4.669861980384239e-06
         },
         {
          "X": 15,
          "Y": 3.948313554694825e-06
         },
         {
          "X": 15.200000000000001,
          "Y": 3.3534425460400294e-06
         },
         {
          "X": 15.4,
          "Y": 2.8527159283821076e-06
         },
         {
          "X": 15.600000000000001,
          "Y": 2.4233690209484857e-06
         },
         {
          "X": 15.8,
          "Y": 2.054328147189825e-06
         },
         {
          "X": 16,
          "Y": 1.7371920198927467e-06
         },
         {
          "X": 16.2,
          "Y": 1.46513697892469e-06
         },
         {
          "X": 16.400000000000002,
          "Y": 6.430045608227638e-07
         },
         {
          "X": 16.6,
          "Y": 1.1289058668345064e-06
         },
         {
          "X": 16.8,
          "Y": 9.45432750205755e-07
         },
         {
          "X": 17,
          "Y": 7.894740185842172e-07
         },
         {
          "X": 17.2,
          "Y": 6.572915930046536e-07
         },
         {
          "X": 17.400000000000002,
          "Y": 5.455944919957147e-07
         },
         {
          "X": 17.6,
          "Y": 4.5149403031157523e-07
         },
         {
          "X": 17.8,
          "Y": 1.9525799762733373e-07
         },
         {
          "X": 18,
          "Y": 3.378964915674886e-07
         },
         {
          "X": 18.2,
          "Y": 2.774244639758001e-07
         },
         {
          "X": 18.400000000000002,
          "Y": 2.270377464987253e-07
         },
         {
          "X": 18.6,
          "Y": 1.8519131251684698e-07
         },
         {
          "X": 18.8,
          "Y": 7.920249677766002e-08
         },
         {
          "X": 19,
          "Y": 1.3557216891866329e-07
         },
         {
          "X": 19.200000000000003,
          "Y": 1.0965115492621583e-07
         },
         {
          "X": 19.400000000000002,
          "Y": 8.837751973876313e-08
         },
         {
          "X": 19.6,
          "Y": 7.097930240632512e-08
         },
         {
          "X": 19.8,
          "Y": 2.999435665118401e-08
         },
         {
          "X": 20,
          "Y": 5.074307876946539e-08
         },
         {
          "X": 20.200000000000003,
          "Y": 4.03840509672416e-08
         },
         {
          "X": 20.400000000000002,
          "Y": 1.6945424661950835e-08
         },
         {
          "X": 20.6,
          "Y": 2.8470764678943016e-08
         },
         {
          "X": 20.8,
          "Y": 2.244466737896972e-08
         },
         {
          "X": 21,
          "Y": 9.348942461918773e-09
         },
         {
          "X": 21.200000000000003,
          "Y": 1.5595477957054267e-08
         },
         {
          "X": 21.400000000000002,
          "Y": 1.2173775578461567e-08
         },
         {
          "X": 21.6,
          "Y": 5.032087529533858e-09
         },
         {
          "X": 21.8,
          "Y": 8.332006961460162e-09
         },
         {
          "X": 22,
          "Y": 6.437450105521275e-09
         },
         {
          "X": 22.200000000000003,
          "Y": 2.6398048870269847e-09
         },
         {
          "X": 22.400000000000002,
          "Y": 4.337201860213885e-09
         },
         {
          "X": 22.6,
          "Y": 1.7697821375641629e-09
         },
         {
          "X": 22.8,
          "Y": 2.8938473215601114e-09
         },
         {
          "X": 23,
          "Y": 2.197451537277538e-09
         },
         {
          "X": 23.200000000000003,
          "Y": 8.890601143487822e-10
         },
         {
          "X": 23.400000000000002,
          "Y": 1.4418071583810853e-09
         },
         {
          "X": 23.6,
          "Y": 5.802653553133105e-10
         },
         {
          "X": 23.8,
          "Y": 9.362400492222958e-10
         },
         {
          "X": 24,
          "Y": 3.747638369657277e-10
         },
         {
          "X": 24.200000000000003,
          "Y": 6.015208610865836e-10
         },
         {
          "X": 24.400000000000002,
          "Y": 2.3944960617131523e-10
         },
         {
          "X": 24.6,
          "Y": 3.822842156214353e-10
         },
         {
          "X": 24.8,
          "Y": 2.8084119923931763e-10
         },
         {
          "X": 25,
          "Y": 1.1073367866069837e-10
         }
        ]
       },
       "encoding": {
        "x": {
         "field": "X",
         "type": "quantitative"
        },
        "y": {
         "field": "Y",
         "type": "quantitative"
        }
       },
       "height": 400,
       "mark": "bar",
       "width": 400
      },
      "image/png": "[encoded data removed]"
     },
     "metadata": {},
     "output_type": "display_data"
    }
   ],
   "source": [
    "model2 = do\n",
    "    p <- bernoulli 0.2\n",
    "    if p then normal 10 1 else normal (-5) 5\n",
    "\n",
    "plot $ histogram 250 0.2 model2"
   ]
  },
  {
   "cell_type": "markdown",
   "metadata": {},
   "source": [
    "Or this normal distribution restricted to the positive reals (i.e. $p(x) \\propto N(x;0,4)\\cdot I[x>0]$)"
   ]
  },
  {
   "cell_type": "code",
   "execution_count": 13,
   "metadata": {},
   "outputs": [
    {
     "data": {
      "application/vnd.vegalite.v4+json": {
       "$schema": "https://vega.github.io/schema/vega-lite/v4.json",
       "data": {
        "values": [
         {
          "X": -24.5,
          "Y": 0
         },
         {
          "X": -24,
          "Y": 0
         },
         {
          "X": -23.5,
          "Y": 0
         },
         {
          "X": -23,
          "Y": 0
         },
         {
          "X": -22.5,
          "Y": 0
         },
         {
          "X": -22,
          "Y": 0
         },
         {
          "X": -21.5,
          "Y": 0
         },
         {
          "X": -21,
          "Y": 0
         },
         {
          "X": -20.5,
          "Y": 0
         },
         {
          "X": -20,
          "Y": 0
         },
         {
          "X": -19.5,
          "Y": 0
         },
         {
          "X": -19,
          "Y": 0
         },
         {
          "X": -18.5,
          "Y": 0
         },
         {
          "X": -18,
          "Y": 0
         },
         {
          "X": -17.5,
          "Y": 0
         },
         {
          "X": -17,
          "Y": 0
         },
         {
          "X": -16.5,
          "Y": 0
         },
         {
          "X": -16,
          "Y": 0
         },
         {
          "X": -15.5,
          "Y": 0
         },
         {
          "X": -15,
          "Y": 0
         },
         {
          "X": -14.5,
          "Y": 0
         },
         {
          "X": -14,
          "Y": 0
         },
         {
          "X": -13.5,
          "Y": 0
         },
         {
          "X": -13,
          "Y": 0
         },
         {
          "X": -12.5,
          "Y": 0
         },
         {
          "X": -12,
          "Y": 0
         },
         {
          "X": -11.5,
          "Y": 0
         },
         {
          "X": -11,
          "Y": 0
         },
         {
          "X": -10.5,
          "Y": 0
         },
         {
          "X": -10,
          "Y": 0
         },
         {
          "X": -9.5,
          "Y": 0
         },
         {
          "X": -9,
          "Y": 0
         },
         {
          "X": -8.5,
          "Y": 0
         },
         {
          "X": -8,
          "Y": 0
         },
         {
          "X": -7.5,
          "Y": 0
         },
         {
          "X": -7,
          "Y": 0
         },
         {
          "X": -6.5,
          "Y": 0
         },
         {
          "X": -6,
          "Y": 0
         },
         {
          "X": -5.5,
          "Y": 0
         },
         {
          "X": -5,
          "Y": 0
         },
         {
          "X": -4.5,
          "Y": 0
         },
         {
          "X": -4,
          "Y": 0
         },
         {
          "X": -3.5,
          "Y": 0
         },
         {
          "X": -3,
          "Y": 0
         },
         {
          "X": -2.5,
          "Y": 0
         },
         {
          "X": -2,
          "Y": 0
         },
         {
          "X": -1.5,
          "Y": 0
         },
         {
          "X": -1,
          "Y": 0
         },
         {
          "X": -0.5,
          "Y": 0
         },
         {
          "X": 0,
          "Y": 0.09847923259850619
         },
         {
          "X": 0.5,
          "Y": 0.09688712321071996
         },
         {
          "X": 1,
          "Y": 0.0938735457320932
         },
         {
          "X": 1.5,
          "Y": 0.08957959553646837
         },
         {
          "X": 2,
          "Y": 0.08419940071719337
         },
         {
          "X": 2.5,
          "Y": 0.07796444369864483
         },
         {
          "X": 3,
          "Y": 0.07112607677780432
         },
         {
          "X": 3.5,
          "Y": 0.07141720800224513
         },
         {
          "X": 4,
          "Y": 0.055733279426873776
         },
         {
          "X": 4.5,
          "Y": 0.04857122789700993
         },
         {
          "X": 5,
          "Y": 0.04171858464689489
         },
         {
          "X": 5.5,
          "Y": 0.035313819914731925
         },
         {
          "X": 6,
          "Y": 0.029455693707741988
         },
         {
          "X": 6.5,
          "Y": 0.02420521543207655
         },
         {
          "X": 7,
          "Y": 0.01958961252353236
         },
         {
          "X": 7.5,
          "Y": 0.015607537144417724
         },
         {
          "X": 8,
          "Y": 0.012234833688048747
         },
         {
          "X": 8.5,
          "Y": 0.009430329724680782
         },
         {
          "X": 9,
          "Y": 0.0071412649856702265
         },
         {
          "X": 9.5,
          "Y": 0.0047307925595266595
         },
         {
          "X": 10,
          "Y": 0.004029192470264292
         },
         {
          "X": 10.5,
          "Y": 0.00257568309521291
         },
         {
          "X": 11,
          "Y": 0.002113460657256411
         },
         {
          "X": 11.5,
          "Y": 0.0012980250065589738
         },
         {
          "X": 12,
          "Y": 0.0009156464715116446
         },
         {
          "X": 12.5,
          "Y": 0.0006330594154629887
         },
         {
          "X": 13,
          "Y": 0.00042845707476134315
         },
         {
          "X": 13.5,
          "Y": 0.00028350200739059056
         },
         {
          "X": 14,
          "Y": 0.0001831453366031207
         },
         {
          "X": 14.5,
          "Y": 0.00010205277856315487
         },
         {
          "X": 15,
          "Y": 6.730544243028251e-05
         },
         {
          "X": 15.5,
          "Y": 4.899427881498245e-05
         },
         {
          "X": 16,
          "Y": 2.5399813650379086e-05
         },
         {
          "X": 16.5,
          "Y": 1.5627846530421348e-05
         },
         {
          "X": 17,
          "Y": 9.384658289544393e-06
         },
         {
          "X": 17.5,
          "Y": 5.493599502781822e-06
         },
         {
          "X": 18,
          "Y": 3.130827261430701e-06
         },
         {
          "X": 18.5,
          "Y": 1.5138117814231015e-06
         },
         {
          "X": 19,
          "Y": 1.0370383982854682e-06
         },
         {
          "X": 19.5,
          "Y": 4.7630049019556284e-07
         },
         {
          "X": 20,
          "Y": 3.0976739338026207e-07
         },
         {
          "X": 20.5,
          "Y": 1.344913840194566e-07
         },
         {
          "X": 21,
          "Y": 7.28402989686893e-08
         },
         {
          "X": 21.5,
          "Y": 3.846088400234724e-08
         },
         {
          "X": 22,
          "Y": 1.977832080262644e-08
         },
         {
          "X": 22.5,
          "Y": 9.89503402994438e-09
         },
         {
          "X": 23,
          "Y": 4.810830756000415e-09
         },
         {
          "X": 23.5,
          "Y": 2.2703683583527174e-09
         },
         {
          "X": 24,
          "Y": 8.918881098938926e-10
         },
         {
          "X": 24.5,
          "Y": 5.430293326052203e-10
         },
         {
          "X": 25,
          "Y": 2.0204098332974636e-10
         }
        ]
       },
       "encoding": {
        "x": {
         "field": "X",
         "type": "quantitative"
        },
        "y": {
         "field": "Y",
         "type": "quantitative"
        }
       },
       "height": 400,
       "mark": "bar",
       "width": 400
      },
      "image/png": "[encoded data removed]"
     },
     "metadata": {},
     "output_type": "display_data"
    }
   ],
   "source": [
    "model3 :: MonadInfer m => m Double\n",
    "model3 = do\n",
    "\n",
    "    x <- normal 0 4\n",
    "    condition (x > 0)\n",
    "    return x\n",
    "\n",
    "plot $ histogram 100 0.5 model3"
   ]
  },
  {
   "cell_type": "markdown",
   "metadata": {},
   "source": [
    "Or this unusual distribution with $p(x) \\propto N(x;0,4)*e^{cos(x)}$:"
   ]
  },
  {
   "cell_type": "code",
   "execution_count": 20,
   "metadata": {},
   "outputs": [
    {
     "data": {
      "application/vnd.vegalite.v4+json": {
       "$schema": "https://vega.github.io/schema/vega-lite/v4.json",
       "data": {
        "values": [
         {
          "X": -19.900000000000002,
          "Y": 0.0011562628868415322
         },
         {
          "X": -19.8,
          "Y": 0.001354012903533711
         },
         {
          "X": -19.700000000000003,
          "Y": 0
         },
         {
          "X": -19.6,
          "Y": 0.001559897607835027
         },
         {
          "X": -19.5,
          "Y": 0.0017632040272647215
         },
         {
          "X": -19.400000000000002,
          "Y": 0
         },
         {
          "X": -19.3,
          "Y": 0.0019510745222390542
         },
         {
          "X": -19.200000000000003,
          "Y": 0
         },
         {
          "X": -19.1,
          "Y": 0.0021099366662723574
         },
         {
          "X": -19,
          "Y": 0.0022273741829151312
         },
         {
          "X": -18.900000000000002,
          "Y": 0
         },
         {
          "X": -18.8,
          "Y": 0.0022940565660306152
         },
         {
          "X": -18.7,
          "Y": 0.0023052637037866866
         },
         {
          "X": -18.6,
          "Y": 0
         },
         {
          "X": -18.5,
          "Y": 0.0022616139288856303
         },
         {
          "X": -18.400000000000002,
          "Y": 0.002168816633316807
         },
         {
          "X": -18.3,
          "Y": 0
         },
         {
          "X": -18.2,
          "Y": 0.002036545448992282
         },
         {
          "X": -18.1,
          "Y": 0
         },
         {
          "X": -18,
          "Y": 0.0018767582502326869
         },
         {
          "X": -17.900000000000002,
          "Y": 0.0017018942662864515
         },
         {
          "X": -17.8,
          "Y": 0
         },
         {
          "X": -17.7,
          "Y": 0.0015233365030816446
         },
         {
          "X": -17.6,
          "Y": 0.0013503812612617446
         },
         {
          "X": -17.5,
          "Y": 0
         },
         {
          "X": -17.400000000000002,
          "Y": 0.0011897784691130646
         },
         {
          "X": -17.3,
          "Y": 0.0010457619300073022
         },
         {
          "X": -17.2,
          "Y": 0
         },
         {
          "X": -17.1,
          "Y": 0.0009204108174068763
         },
         {
          "X": -17,
          "Y": 0.0008141722022182503
         },
         {
          "X": -16.900000000000002,
          "Y": 0
         },
         {
          "X": -16.8,
          "Y": 0.0007264072729664775
         },
         {
          "X": -16.7,
          "Y": 0
         },
         {
          "X": -16.6,
          "Y": 0.0006558745411511613
         },
         {
          "X": -16.5,
          "Y": 0.0006011113365011508
         },
         {
          "X": -16.400000000000002,
          "Y": 0
         },
         {
          "X": -16.3,
          "Y": 0.0005607099351321821
         },
         {
          "X": -16.2,
          "Y": 0.0005335047831996469
         },
         {
          "X": -16.1,
          "Y": 0
         },
         {
          "X": -16,
          "Y": 0.0005186952975732349
         },
         {
          "X": -15.9,
          "Y": 0.0005159289268464203
         },
         {
          "X": -15.8,
          "Y": 0
         },
         {
          "X": -15.700000000000001,
          "Y": 0.0005253652835879648
         },
         {
          "X": -15.600000000000001,
          "Y": 0.0005477366276902919
         },
         {
          "X": -15.5,
          "Y": 0
         },
         {
          "X": -15.4,
          "Y": 0.0005844138495995049
         },
         {
          "X": -15.3,
          "Y": 0.0006374803669493953
         },
         {
          "X": -15.200000000000001,
          "Y": 0
         },
         {
          "X": -15.100000000000001,
          "Y": 0.0007098083145886207
         },
         {
          "X": -15,
          "Y": 0
         },
         {
          "X": -14.9,
          "Y": 0.0008051210901373439
         },
         {
          "X": -14.8,
          "Y": 0.000928012938393844
         },
         {
          "X": -14.700000000000001,
          "Y": 0
         },
         {
          "X": -14.600000000000001,
          "Y": 0.0010838799877914427
         },
         {
          "X": -14.5,
          "Y": 0.0012787001576731313
         },
         {
          "X": -14.4,
          "Y": 0
         },
         {
          "X": -14.3,
          "Y": 0.0015185870291939056
         },
         {
          "X": -14.200000000000001,
          "Y": 0.0018090445807295672
         },
         {
          "X": -14.100000000000001,
          "Y": 0
         },
         {
          "X": -14,
          "Y": 0.002153878515478716
         },
         {
          "X": -13.9,
          "Y": 0.0025537884202021465
         },
         {
          "X": -13.8,
          "Y": 0
         },
         {
          "X": -13.700000000000001,
          "Y": 0.003004778027023026
         },
         {
          "X": -13.600000000000001,
          "Y": 0.00349666494480839
         },
         {
          "X": -13.5,
          "Y": 0
         },
         {
          "X": -13.4,
          "Y": 0.004012106116885055
         },
         {
          "X": -13.3,
          "Y": 0.00452661566441389
         },
         {
          "X": -13.200000000000001,
          "Y": 0
         },
         {
          "X": -13.100000000000001,
          "Y": 0.005009967305289209
         },
         {
          "X": -13,
          "Y": 0
         },
         {
          "X": -12.9,
          "Y": 0.005429106369633846
         },
         {
          "X": -12.8,
          "Y": 0.005752281429944367
         },
         {
          "X": -12.700000000000001,
          "Y": 0
         },
         {
          "X": -12.600000000000001,
          "Y": 0.005953665306063445
         },
         {
          "X": -12.5,
          "Y": 0.006017446312588967
         },
         {
          "X": -12.4,
          "Y": 0
         },
         {
          "X": -12.3,
          "Y": 0.005940384294264232
         },
         {
          "X": -12.200000000000001,
          "Y": 0.005732181546606908
         },
         {
          "X": -12.100000000000001,
          "Y": 0
         },
         {
          "X": -12,
          "Y": 0.005413605491718831
         },
         {
          "X": -11.9,
          "Y": 0.005012900245328253
         },
         {
          "X": -11.8,
          "Y": 0
         },
         {
          "X": -11.700000000000001,
          "Y": 0.004561417551090552
         },
         {
          "X": -11.600000000000001,
          "Y": 0.004089464998123661
         },
         {
          "X": -11.5,
          "Y": 0
         },
         {
          "X": -11.4,
          "Y": 0.00362313686739169
         },
         {
          "X": -11.3,
          "Y": 0.003182496379494974
         },
         {
          "X": -11.200000000000001,
          "Y": 0
         },
         {
          "X": -11.100000000000001,
          "Y": 0.0027810828451118427
         },
         {
          "X": -11,
          "Y": 0.0024264431601303906
         },
         {
          "X": -10.9,
          "Y": 0
         },
         {
          "X": -10.8,
          "Y": 0.0021212756920568595
         },
         {
          "X": -10.700000000000001,
          "Y": 0
         },
         {
          "X": -10.600000000000001,
          "Y": 0.0018648000123744756
         },
         {
          "X": -10.5,
          "Y": 0.0016540694218177816
         },
         {
          "X": -10.4,
          "Y": 0
         },
         {
          "X": -10.3,
          "Y": 0.0014850666765360019
         },
         {
          "X": -10.200000000000001,
          "Y": 0.0013535280645435388
         },
         {
          "X": -10.100000000000001,
          "Y": 0
         },
         {
          "X": -10,
          "Y": 0.0012555110061351724
         },
         {
          "X": -9.9,
          "Y": 0.0011877562727703834
         },
         {
          "X": -9.8,
          "Y": 0
         },
         {
          "X": -9.700000000000001,
          "Y": 0.001147906473887453
         },
         {
          "X": -9.600000000000001,
          "Y": 0.0011346378543831768
         },
         {
          "X": -9.5,
          "Y": 0
         },
         {
          "X": -9.4,
          "Y": 0.001147750755339695
         },
         {
          "X": -9.3,
          "Y": 0.0011882501735408166
         },
         {
          "X": -9.200000000000001,
          "Y": 0
         },
         {
          "X": -9.1,
          "Y": 0.0012584336498282214
         },
         {
          "X": -9,
          "Y": 0.00136198905895988
         },
         {
          "X": -8.9,
          "Y": 0
         },
         {
          "X": -8.8,
          "Y": 0.0015040883772681308
         },
         {
          "X": -8.700000000000001,
          "Y": 0.0016914434285901121
         },
         {
          "X": -8.6,
          "Y": 0
         },
         {
          "X": -8.5,
          "Y": 0.0019322648854741822
         },
         {
          "X": -8.4,
          "Y": 0
         },
         {
          "X": -8.3,
          "Y": 0.002236037444414715
         },
         {
          "X": -8.200000000000001,
          "Y": 0.002612997065618441
         },
         {
          "X": -8.1,
          "Y": 0
         },
         {
          "X": -8,
          "Y": 0.003073181354569292
         },
         {
          "X": -7.9,
          "Y": 0.003624939290830119
         },
         {
          "X": -7.800000000000001,
          "Y": 0
         },
         {
          "X": -7.7,
          "Y": 0.004272853956866561
         },
         {
          "X": -7.6000000000000005,
          "Y": 0.005015170968237787
         },
         {
          "X": -7.5,
          "Y": 0
         },
         {
          "X": -7.4,
          "Y": 0.005841037743875682
         },
         {
          "X": -7.300000000000001,
          "Y": 0.0067281109272287545
         },
         {
          "X": -7.2,
          "Y": 0
         },
         {
          "X": -7.1000000000000005,
          "Y": 0.007641300256573751
         },
         {
          "X": -7,
          "Y": 0.008533467933319785
         },
         {
          "X": -6.9,
          "Y": 0
         },
         {
          "X": -6.800000000000001,
          "Y": 0.009348677639421031
         },
         {
          "X": -6.7,
          "Y": 0.010028044267644585
         },
         {
          "X": -6.6000000000000005,
          "Y": 0
         },
         {
          "X": -6.5,
          "Y": 0.010517469503292456
         },
         {
          "X": -6.4,
          "Y": 0.010775804195815735
         },
         {
          "X": -6.300000000000001,
          "Y": 0
         },
         {
          "X": -6.2,
          "Y": 0.010781572042988954
         },
         {
          "X": -6.1000000000000005,
          "Y": 0
         },
         {
          "X": -6,
          "Y": 0.01053655811755493
         },
         {
          "X": -5.9,
          "Y": 0.010065325178841346
         },
         {
          "X": -5.800000000000001,
          "Y": 0
         },
         {
          "X": -5.7,
          "Y": 0.009410820878581316
         },
         {
          "X": -5.6000000000000005,
          "Y": 0.008627269450974492
         },
         {
          "X": -5.5,
          "Y": 0
         },
         {
          "X": -5.4,
          "Y": 0.007772128772908579
         },
         {
          "X": -5.300000000000001,
          "Y": 0.006898875367178013
         },
         {
          "X": -5.2,
          "Y": 0
         },
         {
          "X": -5.1000000000000005,
          "Y": 0.006051855421235255
         },
         {
          "X": -5,
          "Y": 0.005263683779545635
         },
         {
          "X": -4.9,
          "Y": 0
         },
         {
          "X": -4.800000000000001,
          "Y": 0.004554981264913133
         },
         {
          "X": -4.7,
          "Y": 0.003935805483336923
         },
         {
          "X": -4.6000000000000005,
          "Y": 0
         },
         {
          "X": -4.5,
          "Y": 0.0034079960551787677
         },
         {
          "X": -4.4,
          "Y": 0.002967753044932618
         },
         {
          "X": -4.3,
          "Y": 0
         },
         {
          "X": -4.2,
          "Y": 0.0026079822422704563
         },
         {
          "X": -4.1000000000000005,
          "Y": 0
         },
         {
          "X": -4,
          "Y": 0.0023201700810518205
         },
         {
          "X": -3.9000000000000004,
          "Y": 0.0020957322192641206
         },
         {
          "X": -3.8000000000000003,
          "Y": 0
         },
         {
          "X": -3.7,
          "Y": 0.0019268924639906837
         },
         {
          "X": -3.6,
          "Y": 0.0018071998276895224
         },
         {
          "X": -3.5,
          "Y": 0
         },
         {
          "X": -3.4000000000000004,
          "Y": 0.0017317998237324009
         },
         {
          "X": -3.3000000000000003,
          "Y": 0.0016975608408589555
         },
         {
          "X": -3.2,
          "Y": 0
         },
         {
          "X": -3.1,
          "Y": 0.0017031317296692908
         },
         {
          "X": -3,
          "Y": 0.001748980593888839
         },
         {
          "X": -2.9000000000000004,
          "Y": 0
         },
         {
          "X": -2.8000000000000003,
          "Y": 0.0018374401513802645
         },
         {
          "X": -2.7,
          "Y": 0.0019727615305498536
         },
         {
          "X": -2.6,
          "Y": 0
         },
         {
          "X": -2.5,
          "Y": 0.002161153921626808
         },
         {
          "X": -2.4000000000000004,
          "Y": 0.002410759810361162
         },
         {
          "X": -2.3000000000000003,
          "Y": 0
         },
         {
          "X": -2.2,
          "Y": 0.00273148361079767
         },
         {
          "X": -2.1,
          "Y": 0
         },
         {
          "X": -2,
          "Y": 0.003134557664074396
         },
         {
          "X": -1.9000000000000001,
          "Y": 0.0036317016381808166
         },
         {
          "X": -1.8,
          "Y": 0
         },
         {
          "X": -1.7000000000000002,
          "Y": 0.004233724850104972
         },
         {
          "X": -1.6,
          "Y": 0.0049484592108053555
         },
         {
          "X": -1.5,
          "Y": 0
         },
         {
          "X": -1.4000000000000001,
          "Y": 0.005778019902262647
         },
         {
          "X": -1.3,
          "Y": 0.006715589496673224
         },
         {
          "X": -1.2000000000000002,
          "Y": 0
         },
         {
          "X": -1.1,
          "Y": 0.007742199105428651
         },
         {
          "X": -1,
          "Y": 0.008824278705883445
         },
         {
          "X": -0.9,
          "Y": 0
         },
         {
          "X": -0.8,
          "Y": 0.00991295251426776
         },
         {
          "X": -0.7000000000000001,
          "Y": 0.01094601424605473
         },
         {
          "X": -0.6000000000000001,
          "Y": 0
         },
         {
          "X": -0.5,
          "Y": 0.011853110223874705
         },
         {
          "X": -0.4,
          "Y": 0.012563881609900492
         },
         {
          "X": -0.30000000000000004,
          "Y": 0
         },
         {
          "X": -0.2,
          "Y": 0.013017849545896219
         },
         {
          "X": -0.1,
          "Y": 0
         },
         {
          "X": 0,
          "Y": 0.013174013056315293
         },
         {
          "X": 0.1,
          "Y": 0.013017849545896219
         },
         {
          "X": 0.2,
          "Y": 0
         },
         {
          "X": 0.30000000000000004,
          "Y": 0.012563881609900492
         },
         {
          "X": 0.4,
          "Y": 0.011853110223874712
         },
         {
          "X": 0.5,
          "Y": 0
         },
         {
          "X": 0.6000000000000001,
          "Y": 0.01094601424605473
         },
         {
          "X": 0.7000000000000001,
          "Y": 0.00991295251426776
         },
         {
          "X": 0.8,
          "Y": 0
         },
         {
          "X": 0.9,
          "Y": 0.008824278705883445
         },
         {
          "X": 1,
          "Y": 0.007742199105428651
         },
         {
          "X": 1.1,
          "Y": 0
         },
         {
          "X": 1.2000000000000002,
          "Y": 0.006715589496673224
         },
         {
          "X": 1.3,
          "Y": 0.005778019902262657
         },
         {
          "X": 1.4000000000000001,
          "Y": 0
         },
         {
          "X": 1.5,
          "Y": 0.0049484592108053555
         },
         {
          "X": 1.6,
          "Y": 0.004233724850104972
         },
         {
          "X": 1.7000000000000002,
          "Y": 0
         },
         {
          "X": 1.8,
          "Y": 0.0036317016381808166
         },
         {
          "X": 1.9000000000000001,
          "Y": 0.003134557664074396
         },
         {
          "X": 2,
          "Y": 0
         },
         {
          "X": 2.1,
          "Y": 0.0027314836107976688
         },
         {
          "X": 2.2,
          "Y": 0
         },
         {
          "X": 2.3000000000000003,
          "Y": 0.002410759810361159
         },
         {
          "X": 2.4000000000000004,
          "Y": 0.002161153921626807
         },
         {
          "X": 2.5,
          "Y": 0
         },
         {
          "X": 2.6,
          "Y": 0.0019727615305498566
         },
         {
          "X": 2.7,
          "Y": 0.0018374401513802645
         },
         {
          "X": 2.8000000000000003,
          "Y": 0
         },
         {
          "X": 2.9000000000000004,
          "Y": 0.0017489805938888383
         },
         {
          "X": 3,
          "Y": 0.0017031317296692908
         },
         {
          "X": 3.1,
          "Y": 0
         },
         {
          "X": 3.2,
          "Y": 0.0016975608408589555
         },
         {
          "X": 3.3000000000000003,
          "Y": 0.0017317998237324009
         },
         {
          "X": 3.4000000000000004,
          "Y": 0
         },
         {
          "X": 3.5,
          "Y": 0.0018071998276895224
         },
         {
          "X": 3.6,
          "Y": 0.0019268924639906837
         },
         {
          "X": 3.7,
          "Y": 0
         },
         {
          "X": 3.8000000000000003,
          "Y": 0.0020957322192641206
         },
         {
          "X": 3.9000000000000004,
          "Y": 0.0023201700810518205
         },
         {
          "X": 4,
          "Y": 0
         },
         {
          "X": 4.1000000000000005,
          "Y": 0.0026079822422704563
         },
         {
          "X": 4.2,
          "Y": 0
         },
         {
          "X": 4.3,
          "Y": 0.002967753044932618
         },
         {
          "X": 4.4,
          "Y": 0.0034079960551787677
         },
         {
          "X": 4.5,
          "Y": 0
         },
         {
          "X": 4.6000000000000005,
          "Y": 0.003935805483336923
         },
         {
          "X": 4.7,
          "Y": 0.004554981264913133
         },
         {
          "X": 4.800000000000001,
          "Y": 0
         },
         {
          "X": 4.9,
          "Y": 0.005263683779545635
         },
         {
          "X": 5,
          "Y": 0.006051855421235255
         },
         {
          "X": 5.1000000000000005,
          "Y": 0
         },
         {
          "X": 5.2,
          "Y": 0.006898875367178013
         },
         {
          "X": 5.300000000000001,
          "Y": 0.007772128772908579
         },
         {
          "X": 5.4,
          "Y": 0
         },
         {
          "X": 5.5,
          "Y": 0.008627269450974492
         },
         {
          "X": 5.6000000000000005,
          "Y": 0.009410820878581305
         },
         {
          "X": 5.7,
          "Y": 0
         },
         {
          "X": 5.800000000000001,
          "Y": 0.010065325178841346
         },
         {
          "X": 5.9,
          "Y": 0.01053655811755493
         },
         {
          "X": 6,
          "Y": 0
         },
         {
          "X": 6.1000000000000005,
          "Y": 0.010781572042988954
         },
         {
          "X": 6.2,
          "Y": 0
         },
         {
          "X": 6.300000000000001,
          "Y": 0.010775804195815735
         },
         {
          "X": 6.4,
          "Y": 0.010517469503292461
         },
         {
          "X": 6.5,
          "Y": 0
         },
         {
          "X": 6.6000000000000005,
          "Y": 0.010028044267644585
         },
         {
          "X": 6.7,
          "Y": 0.009348677639421028
         },
         {
          "X": 6.800000000000001,
          "Y": 0
         },
         {
          "X": 6.9,
          "Y": 0.008533467933319785
         },
         {
          "X": 7,
          "Y": 0.007641300256573751
         },
         {
          "X": 7.1000000000000005,
          "Y": 0
         },
         {
          "X": 7.2,
          "Y": 0.0067281109272287545
         },
         {
          "X": 7.300000000000001,
          "Y": 0.005841037743875682
         },
         {
          "X": 7.4,
          "Y": 0
         },
         {
          "X": 7.5,
          "Y": 0.005015170968237787
         },
         {
          "X": 7.6000000000000005,
          "Y": 0.004272853956866565
         },
         {
          "X": 7.7,
          "Y": 0
         },
         {
          "X": 7.800000000000001,
          "Y": 0.003624939290830119
         },
         {
          "X": 7.9,
          "Y": 0.003073181354569292
         },
         {
          "X": 8,
          "Y": 0
         },
         {
          "X": 8.1,
          "Y": 0.0026129970656184453
         },
         {
          "X": 8.200000000000001,
          "Y": 0.002236037444414715
         },
         {
          "X": 8.3,
          "Y": 0
         },
         {
          "X": 8.4,
          "Y": 0.0019322648854741822
         },
         {
          "X": 8.5,
          "Y": 0
         },
         {
          "X": 8.6,
          "Y": 0.0016914434285901121
         },
         {
          "X": 8.700000000000001,
          "Y": 0.0015040883772681293
         },
         {
          "X": 8.8,
          "Y": 0
         },
         {
          "X": 8.9,
          "Y": 0.0013619890589598776
         },
         {
          "X": 9,
          "Y": 0.0012584336498282214
         },
         {
          "X": 9.1,
          "Y": 0
         },
         {
          "X": 9.200000000000001,
          "Y": 0.0011882501735408166
         },
         {
          "X": 9.3,
          "Y": 0.001147750755339695
         },
         {
          "X": 9.4,
          "Y": 0
         },
         {
          "X": 9.5,
          "Y": 0.0011346378543831766
         },
         {
          "X": 9.600000000000001,
          "Y": 0.0011479064738874536
         },
         {
          "X": 9.700000000000001,
          "Y": 0
         },
         {
          "X": 9.8,
          "Y": 0.0011877562727703834
         },
         {
          "X": 9.9,
          "Y": 0.001255511006135171
         },
         {
          "X": 10,
          "Y": 0
         },
         {
          "X": 10.100000000000001,
          "Y": 0.0013535280645435388
         },
         {
          "X": 10.200000000000001,
          "Y": 0.0014850666765359997
         },
         {
          "X": 10.3,
          "Y": 0
         },
         {
          "X": 10.4,
          "Y": 0.0016540694218177888
         },
         {
          "X": 10.5,
          "Y": 0.0018648000123744756
         },
         {
          "X": 10.600000000000001,
          "Y": 0
         },
         {
          "X": 10.700000000000001,
          "Y": 0.0021212756920568595
         },
         {
          "X": 10.8,
          "Y": 0
         },
         {
          "X": 10.9,
          "Y": 0.0024264431601303906
         },
         {
          "X": 11,
          "Y": 0.0027810828451118328
         },
         {
          "X": 11.100000000000001,
          "Y": 0
         },
         {
          "X": 11.200000000000001,
          "Y": 0.003182496379494974
         },
         {
          "X": 11.3,
          "Y": 0.0036231368673916844
         },
         {
          "X": 11.4,
          "Y": 0
         },
         {
          "X": 11.5,
          "Y": 0.004089464998123667
         },
         {
          "X": 11.600000000000001,
          "Y": 0.004561417551090545
         },
         {
          "X": 11.700000000000001,
          "Y": 0
         },
         {
          "X": 11.8,
          "Y": 0.005012900245328253
         },
         {
          "X": 11.9,
          "Y": 0.005413605491718831
         },
         {
          "X": 12,
          "Y": 0
         },
         {
          "X": 12.100000000000001,
          "Y": 0.005732181546606899
         },
         {
          "X": 12.200000000000001,
          "Y": 0.005940384294264232
         },
         {
          "X": 12.3,
          "Y": 0
         },
         {
          "X": 12.4,
          "Y": 0.006017446312588967
         },
         {
          "X": 12.5,
          "Y": 0.005953665306063445
         },
         {
          "X": 12.600000000000001,
          "Y": 0
         },
         {
          "X": 12.700000000000001,
          "Y": 0.005752281429944364
         },
         {
          "X": 12.8,
          "Y": 0.005429106369633852
         },
         {
          "X": 12.9,
          "Y": 0
         },
         {
          "X": 13,
          "Y": 0.0050099673052892224
         },
         {
          "X": 13.100000000000001,
          "Y": 0
         },
         {
          "X": 13.200000000000001,
          "Y": 0.00452661566441389
         },
         {
          "X": 13.3,
          "Y": 0.004012106116885045
         },
         {
          "X": 13.4,
          "Y": 0
         },
         {
          "X": 13.5,
          "Y": 0.0034966649448084
         },
         {
          "X": 13.600000000000001,
          "Y": 0.003004778027023026
         },
         {
          "X": 13.700000000000001,
          "Y": 0
         },
         {
          "X": 13.8,
          "Y": 0.0025537884202021465
         },
         {
          "X": 13.9,
          "Y": 0.0021538785154787197
         },
         {
          "X": 14,
          "Y": 0
         },
         {
          "X": 14.100000000000001,
          "Y": 0.0018090445807295767
         },
         {
          "X": 14.200000000000001,
          "Y": 0.0015185870291939002
         },
         {
          "X": 14.3,
          "Y": 0
         },
         {
          "X": 14.4,
          "Y": 0.0012787001576731313
         },
         {
          "X": 14.5,
          "Y": 0.0010838799877914427
         },
         {
          "X": 14.600000000000001,
          "Y": 0
         },
         {
          "X": 14.700000000000001,
          "Y": 0.0009280129383938468
         },
         {
          "X": 14.8,
          "Y": 0.0008051210901373397
         },
         {
          "X": 14.9,
          "Y": 0
         },
         {
          "X": 15,
          "Y": 0.0007098083145886207
         },
         {
          "X": 15.100000000000001,
          "Y": 0
         },
         {
          "X": 15.200000000000001,
          "Y": 0.0006374803669493943
         },
         {
          "X": 15.3,
          "Y": 0.0005844138495995055
         },
         {
          "X": 15.4,
          "Y": 0
         },
         {
          "X": 15.5,
          "Y": 0.0005477366276902927
         },
         {
          "X": 15.600000000000001,
          "Y": 0.0005253652835879646
         },
         {
          "X": 15.700000000000001,
          "Y": 0
         },
         {
          "X": 15.8,
          "Y": 0.0005159289268464207
         },
         {
          "X": 15.9,
          "Y": 0.0005186952975732349
         },
         {
          "X": 16,
          "Y": 0
         },
         {
          "X": 16.1,
          "Y": 0.0005335047831996485
         },
         {
          "X": 16.2,
          "Y": 0.0005607099351321832
         },
         {
          "X": 16.3,
          "Y": 0
         },
         {
          "X": 16.400000000000002,
          "Y": 0.0006011113365011508
         },
         {
          "X": 16.5,
          "Y": 0.0006558745411511613
         },
         {
          "X": 16.6,
          "Y": 0
         },
         {
          "X": 16.7,
          "Y": 0.000726407272966482
         },
         {
          "X": 16.8,
          "Y": 0
         },
         {
          "X": 16.900000000000002,
          "Y": 0.0008141722022182559
         },
         {
          "X": 17,
          "Y": 0.0009204108174068763
         },
         {
          "X": 17.1,
          "Y": 0
         },
         {
          "X": 17.2,
          "Y": 0.0010457619300073022
         },
         {
          "X": 17.3,
          "Y": 0.0011897784691130646
         },
         {
          "X": 17.400000000000002,
          "Y": 0
         },
         {
          "X": 17.5,
          "Y": 0.0013503812612617446
         },
         {
          "X": 17.6,
          "Y": 0.0015233365030816344
         },
         {
          "X": 17.7,
          "Y": 0
         },
         {
          "X": 17.8,
          "Y": 0.0017018942662864515
         },
         {
          "X": 17.900000000000002,
          "Y": 0.0018767582502326869
         },
         {
          "X": 18,
          "Y": 0
         },
         {
          "X": 18.1,
          "Y": 0.0020365454489922915
         },
         {
          "X": 18.2,
          "Y": 0
         },
         {
          "X": 18.3,
          "Y": 0.002168816633316807
         },
         {
          "X": 18.400000000000002,
          "Y": 0.0022616139288856394
         },
         {
          "X": 18.5,
          "Y": 0
         },
         {
          "X": 18.6,
          "Y": 0.002305263703786688
         },
         {
          "X": 18.7,
          "Y": 0.002294056566030617
         },
         {
          "X": 18.8,
          "Y": 0
         },
         {
          "X": 18.900000000000002,
          "Y": 0.0022273741829151312
         },
         {
          "X": 19,
          "Y": 0.0021099366662723574
         },
         {
          "X": 19.1,
          "Y": 0
         },
         {
          "X": 19.200000000000003,
          "Y": 0.0019510745222390542
         },
         {
          "X": 19.3,
          "Y": 0
         },
         {
          "X": 19.400000000000002,
          "Y": 0.0017632040272647215
         },
         {
          "X": 19.5,
          "Y": 0.0015598976078350345
         },
         {
          "X": 19.6,
          "Y": 0
         },
         {
          "X": 19.700000000000003,
          "Y": 0.0013540129035337185
         },
         {
          "X": 19.8,
          "Y": 0.0011562628868415216
         },
         {
          "X": 19.900000000000002,
          "Y": 0
         },
         {
          "X": 20,
          "Y": 0.0009744269454590605
         }
        ]
       },
       "encoding": {
        "x": {
         "field": "X",
         "type": "quantitative"
        },
        "y": {
         "field": "Y",
         "type": "quantitative"
        }
       },
       "height": 400,
       "mark": "bar",
       "width": 400
      },
      "image/png": "[encoded data removed]"
     },
     "metadata": {},
     "output_type": "display_data"
    }
   ],
   "source": [
    "\n",
    "model4 :: MonadInfer m => m Double\n",
    "model4 = do\n",
    "\n",
    "    x <- normal 0 10\n",
    "    factor $ Exp (cos x )\n",
    "    return x\n",
    "\n",
    "plot $ histogram 400 0.1 model4\n",
    "\n"
   ]
  },
  {
   "cell_type": "markdown",
   "metadata": {},
   "source": [
    "We can also plot the CDF, as in:"
   ]
  },
  {
   "cell_type": "code",
   "execution_count": 21,
   "metadata": {},
   "outputs": [
    {
     "data": {
      "application/vnd.vegalite.v4+json": {
       "$schema": "https://vega.github.io/schema/vega-lite/v4.json",
       "data": {
        "values": [
         {
          "X": "-3.4000000000000004",
          "Y": 0.0003475896968846559
         },
         {
          "X": "-3.3000000000000003",
          "Y": 0.00048266882627062897
         },
         {
          "X": "-3.2",
          "Y": 0.000704790587044729
         },
         {
          "X": "-3.1",
          "Y": 0.0009544100437881077
         },
         {
          "X": "-3.0",
          "Y": 0.0013540507772572814
         },
         {
          "X": "-2.9000000000000004",
          "Y": 0.0018930907162011644
         },
         {
          "X": "-2.8000000000000003",
          "Y": 0.0026100447034295747
         },
         {
          "X": "-2.7",
          "Y": 0.003551006711397484
         },
         {
          "X": "-2.6",
          "Y": 0.004770378244699442
         },
         {
          "X": "-2.5",
          "Y": 0.006331501580522845
         },
         {
          "X": "-2.4000000000000004",
          "Y": 0.008307155877267096
         },
         {
          "X": "-2.3000000000000003",
          "Y": 0.010779870415425495
         },
         {
          "X": "-2.2",
          "Y": 0.013842006013110359
         },
         {
          "X": "-2.1",
          "Y": 0.017595553285281097
         },
         {
          "X": "-2.0",
          "Y": 0.02299722115422826
         },
         {
          "X": "-1.9000000000000001",
          "Y": 0.02864072954573137
         },
         {
          "X": "-1.8",
          "Y": 0.03535359336628454
         },
         {
          "X": "-1.7000000000000002",
          "Y": 0.04471259144476443
         },
         {
          "X": "-1.6",
          "Y": 0.05419677092275107
         },
         {
          "X": "-1.5",
          "Y": 0.06715363744799083
         },
         {
          "X": "-1.4000000000000001",
          "Y": 0.08002660457875374
         },
         {
          "X": "-1.3",
          "Y": 0.09727086972192343
         },
         {
          "X": "-1.2000000000000002",
          "Y": 0.1140757082868024
         },
         {
          "X": "-1.1",
          "Y": 0.13615614606213394
         },
         {
          "X": "-1.0",
          "Y": 0.1572657587128084
         },
         {
          "X": "-0.9",
          "Y": 0.18447308259770795
         },
         {
          "X": "-0.8",
          "Y": 0.20998912384400384
         },
         {
          "X": "-0.7000000000000001",
          "Y": 0.24224382090083374
         },
         {
          "X": "-0.6000000000000001",
          "Y": 0.27191137836411516
         },
         {
          "X": "-0.5",
          "Y": 0.3086844935465092
         },
         {
          "X": "-0.4",
          "Y": 0.34184777129292077
         },
         {
          "X": "-0.30000000000000004",
          "Y": 0.38214344505279874
         },
         {
          "X": "-0.2",
          "Y": 0.4177643349031366
         },
         {
          "X": "-0.1",
          "Y": 0.4601834426618343
         },
         {
          "X": "0.0",
          "Y": 0.5030679615757497
         },
         {
          "X": "0.1",
          "Y": 0.5398165573381224
         },
         {
          "X": "0.2",
          "Y": 0.5822356650968201
         },
         {
          "X": "0.30000000000000004",
          "Y": 0.617856554947158
         },
         {
          "X": "0.4",
          "Y": 0.658152228707036
         },
         {
          "X": "0.5",
          "Y": 0.6913155064534476
         },
         {
          "X": "0.6000000000000001",
          "Y": 0.7280886216358415
         },
         {
          "X": "0.7000000000000001",
          "Y": 0.757756179099123
         },
         {
          "X": "0.8",
          "Y": 0.7900108761559529
         },
         {
          "X": "0.9",
          "Y": 0.8155269174022488
         },
         {
          "X": "1.0",
          "Y": 0.8427342412871484
         },
         {
          "X": "1.1",
          "Y": 0.8638438539378228
         },
         {
          "X": "1.2000000000000002",
          "Y": 0.8859242917131545
         },
         {
          "X": "1.3",
          "Y": 0.9027291302780333
         },
         {
          "X": "1.4000000000000001",
          "Y": 0.9199733954212028
         },
         {
          "X": "1.5",
          "Y": 0.9328463625519657
         },
         {
          "X": "1.6",
          "Y": 0.9458032290772054
         },
         {
          "X": "1.7000000000000002",
          "Y": 0.9552874085551921
         },
         {
          "X": "1.8",
          "Y": 0.964646406633672
         },
         {
          "X": "1.9000000000000001",
          "Y": 0.9713592704542252
         },
         {
          "X": "2.0",
          "Y": 0.9770027788457283
         },
         {
          "X": "2.1",
          "Y": 0.9824044467146755
         },
         {
          "X": "2.2",
          "Y": 0.9861579939868463
         },
         {
          "X": "2.3000000000000003",
          "Y": 0.9892201295845311
         },
         {
          "X": "2.4000000000000004",
          "Y": 0.9916928441226894
         },
         {
          "X": "2.5",
          "Y": 0.9936684984194337
         },
         {
          "X": "2.6",
          "Y": 0.9952296217552572
         },
         {
          "X": "2.7",
          "Y": 0.9964489932885592
         },
         {
          "X": "2.8000000000000003",
          "Y": 0.9973899552965271
         },
         {
          "X": "2.9000000000000004",
          "Y": 0.9981069092837556
         },
         {
          "X": "3.0",
          "Y": 0.9986459492226994
         },
         {
          "X": "3.1",
          "Y": 0.9990455899561685
         },
         {
          "X": "3.2",
          "Y": 0.9992952094129119
         },
         {
          "X": "3.3000000000000003",
          "Y": 0.9995173311736862
         },
         {
          "X": "3.4000000000000004",
          "Y": 0.9996524103030721
         },
         {
          "X": "3.5",
          "Y": 0.9997693460740017
         }
        ]
       },
       "encoding": {
        "x": {
         "field": "X",
         "type": "nominal"
        },
        "y": {
         "field": "Y",
         "type": "quantitative"
        }
       },
       "height": 400,
       "mark": "bar",
       "width": 400
      },
      "image/png": "[encoded data removed]"
     },
     "metadata": {},
     "output_type": "display_data"
    }
   ],
   "source": [
    "plot $ plotCdf 70 0.1 (normal 0 1)"
   ]
  },
  {
   "cell_type": "code",
   "execution_count": 24,
   "metadata": {},
   "outputs": [
    {
     "data": {
      "application/vnd.vegalite.v4+json": {
       "$schema": "https://vega.github.io/schema/vega-lite/v4.json",
       "data": {
        "values": [
         {
          "X": "-99.9",
          "Y": 0
         },
         {
          "X": "-99.80000000000001",
          "Y": 0
         },
         {
          "X": "-99.7",
          "Y": 0
         },
         {
          "X": "-99.60000000000001",
          "Y": 0
         },
         {
          "X": "-99.5",
          "Y": 0
         },
         {
          "X": "-99.4",
          "Y": 0
         },
         {
          "X": "-99.30000000000001",
          "Y": 0
         },
         {
          "X": "-99.2",
          "Y": 0
         },
         {
          "X": "-99.10000000000001",
          "Y": 0
         },
         {
          "X": "-99.0",
          "Y": 0
         },
         {
          "X": "-98.9",
          "Y": 0
         },
         {
          "X": "-98.80000000000001",
          "Y": 0
         },
         {
          "X": "-98.7",
          "Y": 0
         },
         {
          "X": "-98.60000000000001",
          "Y": 0
         },
         {
          "X": "-98.5",
          "Y": 0
         },
         {
          "X": "-98.4",
          "Y": 0
         },
         {
          "X": "-98.30000000000001",
          "Y": 0
         },
         {
          "X": "-98.2",
          "Y": 0
         },
         {
          "X": "-98.10000000000001",
          "Y": 0
         },
         {
          "X": "-98.0",
          "Y": 0
         },
         {
          "X": "-97.9",
          "Y": 0
         },
         {
          "X": "-97.80000000000001",
          "Y": 0
         },
         {
          "X": "-97.7",
          "Y": 0
         },
         {
          "X": "-97.60000000000001",
          "Y": 0
         },
         {
          "X": "-97.5",
          "Y": 0
         },
         {
          "X": "-97.4",
          "Y": 0
         },
         {
          "X": "-97.30000000000001",
          "Y": 0
         },
         {
          "X": "-97.2",
          "Y": 0
         },
         {
          "X": "-97.10000000000001",
          "Y": 0
         },
         {
          "X": "-97.0",
          "Y": 0
         },
         {
          "X": "-96.9",
          "Y": 0
         },
         {
          "X": "-96.80000000000001",
          "Y": 0
         },
         {
          "X": "-96.7",
          "Y": 0
         },
         {
          "X": "-96.60000000000001",
          "Y": 0
         },
         {
          "X": "-96.5",
          "Y": 0
         },
         {
          "X": "-96.4",
          "Y": 0
         },
         {
          "X": "-96.30000000000001",
          "Y": 0
         },
         {
          "X": "-96.2",
          "Y": 0
         },
         {
          "X": "-96.10000000000001",
          "Y": 0
         },
         {
          "X": "-96.0",
          "Y": 0
         },
         {
          "X": "-95.9",
          "Y": 0
         },
         {
          "X": "-95.80000000000001",
          "Y": 0
         },
         {
          "X": "-95.7",
          "Y": 0
         },
         {
          "X": "-95.60000000000001",
          "Y": 0
         },
         {
          "X": "-95.5",
          "Y": 0
         },
         {
          "X": "-95.4",
          "Y": 0
         },
         {
          "X": "-95.30000000000001",
          "Y": 0
         },
         {
          "X": "-95.2",
          "Y": 0
         },
         {
          "X": "-95.10000000000001",
          "Y": 0
         },
         {
          "X": "-95.0",
          "Y": 0
         },
         {
          "X": "-94.9",
          "Y": 0
         },
         {
          "X": "-94.80000000000001",
          "Y": 0
         },
         {
          "X": "-94.7",
          "Y": 0
         },
         {
          "X": "-94.60000000000001",
          "Y": 0
         },
         {
          "X": "-94.5",
          "Y": 0
         },
         {
          "X": "-94.4",
          "Y": 0
         },
         {
          "X": "-94.30000000000001",
          "Y": 0
         },
         {
          "X": "-94.2",
          "Y": 0
         },
         {
          "X": "-94.10000000000001",
          "Y": 0
         },
         {
          "X": "-94.0",
          "Y": 0
         },
         {
          "X": "-93.9",
          "Y": 0
         },
         {
          "X": "-93.80000000000001",
          "Y": 0
         },
         {
          "X": "-93.7",
          "Y": 0
         },
         {
          "X": "-93.60000000000001",
          "Y": 0
         },
         {
          "X": "-93.5",
          "Y": 0
         },
         {
          "X": "-93.4",
          "Y": 0
         },
         {
          "X": "-93.30000000000001",
          "Y": 0
         },
         {
          "X": "-93.2",
          "Y": 0
         },
         {
          "X": "-93.10000000000001",
          "Y": 0
         },
         {
          "X": "-93.0",
          "Y": 0
         },
         {
          "X": "-92.9",
          "Y": 0
         },
         {
          "X": "-92.80000000000001",
          "Y": 0
         },
         {
          "X": "-92.7",
          "Y": 0
         },
         {
          "X": "-92.60000000000001",
          "Y": 0
         },
         {
          "X": "-92.5",
          "Y": 0
         },
         {
          "X": "-92.4",
          "Y": 0
         },
         {
          "X": "-92.30000000000001",
          "Y": 0
         },
         {
          "X": "-92.2",
          "Y": 0
         },
         {
          "X": "-92.10000000000001",
          "Y": 0
         },
         {
          "X": "-92.0",
          "Y": 0
         },
         {
          "X": "-91.9",
          "Y": 0
         },
         {
          "X": "-91.80000000000001",
          "Y": 0
         },
         {
          "X": "-91.7",
          "Y": 0
         },
         {
          "X": "-91.60000000000001",
          "Y": 0
         },
         {
          "X": "-91.5",
          "Y": 0
         },
         {
          "X": "-91.4",
          "Y": 0
         },
         {
          "X": "-91.30000000000001",
          "Y": 0
         },
         {
          "X": "-91.2",
          "Y": 0
         },
         {
          "X": "-91.10000000000001",
          "Y": 0
         },
         {
          "X": "-91.0",
          "Y": 0
         },
         {
          "X": "-90.9",
          "Y": 0
         },
         {
          "X": "-90.80000000000001",
          "Y": 0
         },
         {
          "X": "-90.7",
          "Y": 0
         },
         {
          "X": "-90.60000000000001",
          "Y": 0
         },
         {
          "X": "-90.5",
          "Y": 0
         },
         {
          "X": "-90.4",
          "Y": 0
         },
         {
          "X": "-90.30000000000001",
          "Y": 0
         },
         {
          "X": "-90.2",
          "Y": 0
         },
         {
          "X": "-90.10000000000001",
          "Y": 0
         },
         {
          "X": "-90.0",
          "Y": 0
         },
         {
          "X": "-89.9",
          "Y": 0
         },
         {
          "X": "-89.80000000000001",
          "Y": 0
         },
         {
          "X": "-89.7",
          "Y": 0
         },
         {
          "X": "-89.60000000000001",
          "Y": 0
         },
         {
          "X": "-89.5",
          "Y": 0
         },
         {
          "X": "-89.4",
          "Y": 0
         },
         {
          "X": "-89.30000000000001",
          "Y": 0
         },
         {
          "X": "-89.2",
          "Y": 0
         },
         {
          "X": "-89.10000000000001",
          "Y": 0
         },
         {
          "X": "-89.0",
          "Y": 0
         },
         {
          "X": "-88.9",
          "Y": 0
         },
         {
          "X": "-88.80000000000001",
          "Y": 0
         },
         {
          "X": "-88.7",
          "Y": 0
         },
         {
          "X": "-88.60000000000001",
          "Y": 0
         },
         {
          "X": "-88.5",
          "Y": 0
         },
         {
          "X": "-88.4",
          "Y": 0
         },
         {
          "X": "-88.30000000000001",
          "Y": 0
         },
         {
          "X": "-88.2",
          "Y": 0
         },
         {
          "X": "-88.10000000000001",
          "Y": 0
         },
         {
          "X": "-88.0",
          "Y": 0
         },
         {
          "X": "-87.9",
          "Y": 0
         },
         {
          "X": "-87.80000000000001",
          "Y": 0
         },
         {
          "X": "-87.7",
          "Y": 0
         },
         {
          "X": "-87.60000000000001",
          "Y": 0
         },
         {
          "X": "-87.5",
          "Y": 0
         },
         {
          "X": "-87.4",
          "Y": 0
         },
         {
          "X": "-87.30000000000001",
          "Y": 0
         },
         {
          "X": "-87.2",
          "Y": 0
         },
         {
          "X": "-87.10000000000001",
          "Y": 0
         },
         {
          "X": "-87.0",
          "Y": 0
         },
         {
          "X": "-86.9",
          "Y": 0
         },
         {
          "X": "-86.80000000000001",
          "Y": 0
         },
         {
          "X": "-86.7",
          "Y": 0
         },
         {
          "X": "-86.60000000000001",
          "Y": 0
         },
         {
          "X": "-86.5",
          "Y": 0
         },
         {
          "X": "-86.4",
          "Y": 0
         },
         {
          "X": "-86.30000000000001",
          "Y": 0
         },
         {
          "X": "-86.2",
          "Y": 0
         },
         {
          "X": "-86.10000000000001",
          "Y": 0
         },
         {
          "X": "-86.0",
          "Y": 0
         },
         {
          "X": "-85.9",
          "Y": 0
         },
         {
          "X": "-85.80000000000001",
          "Y": 0
         },
         {
          "X": "-85.7",
          "Y": 0
         },
         {
          "X": "-85.60000000000001",
          "Y": 0
         },
         {
          "X": "-85.5",
          "Y": 0
         },
         {
          "X": "-85.4",
          "Y": 0
         },
         {
          "X": "-85.30000000000001",
          "Y": 0
         },
         {
          "X": "-85.2",
          "Y": 0
         },
         {
          "X": "-85.10000000000001",
          "Y": 0
         },
         {
          "X": "-85.0",
          "Y": 0
         },
         {
          "X": "-84.9",
          "Y": 0
         },
         {
          "X": "-84.80000000000001",
          "Y": 0
         },
         {
          "X": "-84.7",
          "Y": 0
         },
         {
          "X": "-84.60000000000001",
          "Y": 0
         },
         {
          "X": "-84.5",
          "Y": 0
         },
         {
          "X": "-84.4",
          "Y": 0
         },
         {
          "X": "-84.30000000000001",
          "Y": 0
         },
         {
          "X": "-84.2",
          "Y": 0
         },
         {
          "X": "-84.10000000000001",
          "Y": 0
         },
         {
          "X": "-84.0",
          "Y": 0
         },
         {
          "X": "-83.9",
          "Y": 0
         },
         {
          "X": "-83.80000000000001",
          "Y": 0
         },
         {
          "X": "-83.7",
          "Y": 0
         },
         {
          "X": "-83.60000000000001",
          "Y": 0
         },
         {
          "X": "-83.5",
          "Y": 0
         },
         {
          "X": "-83.4",
          "Y": 0
         },
         {
          "X": "-83.30000000000001",
          "Y": 0
         },
         {
          "X": "-83.2",
          "Y": 0
         },
         {
          "X": "-83.10000000000001",
          "Y": 0
         },
         {
          "X": "-83.0",
          "Y": 0
         },
         {
          "X": "-82.9",
          "Y": 0
         },
         {
          "X": "-82.80000000000001",
          "Y": 0
         },
         {
          "X": "-82.7",
          "Y": 0
         },
         {
          "X": "-82.60000000000001",
          "Y": 0
         },
         {
          "X": "-82.5",
          "Y": 0
         },
         {
          "X": "-82.4",
          "Y": 0
         },
         {
          "X": "-82.30000000000001",
          "Y": 0
         },
         {
          "X": "-82.2",
          "Y": 0
         },
         {
          "X": "-82.10000000000001",
          "Y": 0
         },
         {
          "X": "-82.0",
          "Y": 0
         },
         {
          "X": "-81.9",
          "Y": 0
         },
         {
          "X": "-81.80000000000001",
          "Y": 0
         },
         {
          "X": "-81.7",
          "Y": 0
         },
         {
          "X": "-81.60000000000001",
          "Y": 0
         },
         {
          "X": "-81.5",
          "Y": 0
         },
         {
          "X": "-81.4",
          "Y": 0
         },
         {
          "X": "-81.30000000000001",
          "Y": 0
         },
         {
          "X": "-81.2",
          "Y": 0
         },
         {
          "X": "-81.10000000000001",
          "Y": 0
         },
         {
          "X": "-81.0",
          "Y": 0
         },
         {
          "X": "-80.9",
          "Y": 0
         },
         {
          "X": "-80.80000000000001",
          "Y": 0
         },
         {
          "X": "-80.7",
          "Y": 0
         },
         {
          "X": "-80.60000000000001",
          "Y": 0
         },
         {
          "X": "-80.5",
          "Y": 0
         },
         {
          "X": "-80.4",
          "Y": 0
         },
         {
          "X": "-80.30000000000001",
          "Y": 0
         },
         {
          "X": "-80.2",
          "Y": 0
         },
         {
          "X": "-80.10000000000001",
          "Y": 0
         },
         {
          "X": "-80.0",
          "Y": 0
         },
         {
          "X": "-79.9",
          "Y": 0
         },
         {
          "X": "-79.80000000000001",
          "Y": 0
         },
         {
          "X": "-79.7",
          "Y": 0
         },
         {
          "X": "-79.60000000000001",
          "Y": 0
         },
         {
          "X": "-79.5",
          "Y": 0
         },
         {
          "X": "-79.4",
          "Y": 0
         },
         {
          "X": "-79.30000000000001",
          "Y": 0
         },
         {
          "X": "-79.2",
          "Y": 0
         },
         {
          "X": "-79.10000000000001",
          "Y": 0
         },
         {
          "X": "-79.0",
          "Y": 0
         },
         {
          "X": "-78.9",
          "Y": 0
         },
         {
          "X": "-78.80000000000001",
          "Y": 0
         },
         {
          "X": "-78.7",
          "Y": 0
         },
         {
          "X": "-78.60000000000001",
          "Y": 0
         },
         {
          "X": "-78.5",
          "Y": 0
         },
         {
          "X": "-78.4",
          "Y": 0
         },
         {
          "X": "-78.30000000000001",
          "Y": 0
         },
         {
          "X": "-78.2",
          "Y": 0
         },
         {
          "X": "-78.10000000000001",
          "Y": 0
         },
         {
          "X": "-78.0",
          "Y": 0
         },
         {
          "X": "-77.9",
          "Y": 0
         },
         {
          "X": "-77.80000000000001",
          "Y": 0
         },
         {
          "X": "-77.7",
          "Y": 0
         },
         {
          "X": "-77.60000000000001",
          "Y": 0
         },
         {
          "X": "-77.5",
          "Y": 0
         },
         {
          "X": "-77.4",
          "Y": 0
         },
         {
          "X": "-77.30000000000001",
          "Y": 0
         },
         {
          "X": "-77.2",
          "Y": 0
         },
         {
          "X": "-77.10000000000001",
          "Y": 0
         },
         {
          "X": "-77.0",
          "Y": 0
         },
         {
          "X": "-76.9",
          "Y": 0
         },
         {
          "X": "-76.80000000000001",
          "Y": 0
         },
         {
          "X": "-76.7",
          "Y": 0
         },
         {
          "X": "-76.60000000000001",
          "Y": 0
         },
         {
          "X": "-76.5",
          "Y": 0
         },
         {
          "X": "-76.4",
          "Y": 0
         },
         {
          "X": "-76.3",
          "Y": 0
         },
         {
          "X": "-76.2",
          "Y": 0
         },
         {
          "X": "-76.10000000000001",
          "Y": 0
         },
         {
          "X": "-76.0",
          "Y": 0
         },
         {
          "X": "-75.9",
          "Y": 0
         },
         {
          "X": "-75.8",
          "Y": 0
         },
         {
          "X": "-75.7",
          "Y": 0
         },
         {
          "X": "-75.60000000000001",
          "Y": 0
         },
         {
          "X": "-75.5",
          "Y": 5.6555115843837505e-15
         },
         {
          "X": "-75.4",
          "Y": 5.6555115843837505e-15
         },
         {
          "X": "-75.3",
          "Y": 5.6555115843837505e-15
         },
         {
          "X": "-75.2",
          "Y": 5.6555115843837505e-15
         },
         {
          "X": "-75.10000000000001",
          "Y": 1.982001625435377e-14
         },
         {
          "X": "-75.0",
          "Y": 1.982001625435377e-14
         },
         {
          "X": "-74.9",
          "Y": 1.982001625435377e-14
         },
         {
          "X": "-74.8",
          "Y": 3.584492801435893e-14
         },
         {
          "X": "-74.7",
          "Y": 3.584492801435893e-14
         },
         {
          "X": "-74.60000000000001",
          "Y": 3.584492801435893e-14
         },
         {
          "X": "-74.5",
          "Y": 5.243766540516541e-14
         },
         {
          "X": "-74.4",
          "Y": 5.243766540516541e-14
         },
         {
          "X": "-74.3",
          "Y": 5.243766540516541e-14
         },
         {
          "X": "-74.2",
          "Y": 6.848136346011175e-14
         },
         {
          "X": "-74.10000000000001",
          "Y": 6.848136346011175e-14
         },
         {
          "X": "-74.0",
          "Y": 6.848136346011175e-14
         },
         {
          "X": "-73.9",
          "Y": 8.339102963564215e-14
         },
         {
          "X": "-73.8",
          "Y": 8.339102963564215e-14
         },
         {
          "X": "-73.7",
          "Y": 8.339102963564215e-14
         },
         {
          "X": "-73.60000000000001",
          "Y": 9.708216745469639e-14
         },
         {
          "X": "-73.5",
          "Y": 9.708216745469639e-14
         },
         {
          "X": "-73.4",
          "Y": 9.708216745469639e-14
         },
         {
          "X": "-73.3",
          "Y": 9.708216745469639e-14
         },
         {
          "X": "-73.2",
          "Y": 1.0992801638717409e-13
         },
         {
          "X": "-73.10000000000001",
          "Y": 1.0992801638717409e-13
         },
         {
          "X": "-73.0",
          "Y": 1.0992801638717409e-13
         },
         {
          "X": "-72.9",
          "Y": 1.225854366376302e-13
         },
         {
          "X": "-72.8",
          "Y": 1.225854366376302e-13
         },
         {
          "X": "-72.7",
          "Y": 1.225854366376302e-13
         },
         {
          "X": "-72.60000000000001",
          "Y": 1.3597663920767158e-13
         },
         {
          "X": "-72.5",
          "Y": 1.3597663920767158e-13
         },
         {
          "X": "-72.4",
          "Y": 1.3597663920767158e-13
         },
         {
          "X": "-72.3",
          "Y": 1.514272136224706e-13
         },
         {
          "X": "-72.2",
          "Y": 1.514272136224706e-13
         },
         {
          "X": "-72.10000000000001",
          "Y": 1.514272136224706e-13
         },
         {
          "X": "-72.0",
          "Y": 1.709983467163112e-13
         },
         {
          "X": "-71.9",
          "Y": 1.709983467163112e-13
         },
         {
          "X": "-71.8",
          "Y": 1.709983467163112e-13
         },
         {
          "X": "-71.7",
          "Y": 1.9814709699173466e-13
         },
         {
          "X": "-71.60000000000001",
          "Y": 1.9814709699173466e-13
         },
         {
          "X": "-71.5",
          "Y": 1.9814709699173466e-13
         },
         {
          "X": "-71.4",
          "Y": 2.3892191174765707e-13
         },
         {
          "X": "-71.3",
          "Y": 2.3892191174765707e-13
         },
         {
          "X": "-71.2",
          "Y": 2.3892191174765707e-13
         },
         {
          "X": "-71.10000000000001",
          "Y": 3.0401150291778484e-13
         },
         {
          "X": "-71.0",
          "Y": 3.0401150291778484e-13
         },
         {
          "X": "-70.9",
          "Y": 3.0401150291778484e-13
         },
         {
          "X": "-70.8",
          "Y": 4.118183106297148e-13
         },
         {
          "X": "-70.7",
          "Y": 4.118183106297148e-13
         },
         {
          "X": "-70.60000000000001",
          "Y": 4.118183106297148e-13
         },
         {
          "X": "-70.5",
          "Y": 5.920947294128564e-13
         },
         {
          "X": "-70.4",
          "Y": 5.920947294128564e-13
         },
         {
          "X": "-70.3",
          "Y": 5.920947294128564e-13
         },
         {
          "X": "-70.2",
          "Y": 8.881570732776499e-13
         },
         {
          "X": "-70.10000000000001",
          "Y": 8.881570732776499e-13
         },
         {
          "X": "-70.0",
          "Y": 8.881570732776499e-13
         },
         {
          "X": "-69.9",
          "Y": 1.3535011727302036e-12
         },
         {
          "X": "-69.8",
          "Y": 1.3535011727302036e-12
         },
         {
          "X": "-69.7",
          "Y": 1.3535011727302036e-12
         },
         {
          "X": "-69.60000000000001",
          "Y": 2.0385856356749766e-12
         },
         {
          "X": "-69.5",
          "Y": 2.0385856356749766e-12
         },
         {
          "X": "-69.4",
          "Y": 2.0385856356749766e-12
         },
         {
          "X": "-69.3",
          "Y": 2.9688078827051888e-12
         },
         {
          "X": "-69.2",
          "Y": 2.9688078827051888e-12
         },
         {
          "X": "-69.10000000000001",
          "Y": 2.9688078827051888e-12
         },
         {
          "X": "-69.0",
          "Y": 4.1243176842086655e-12
         },
         {
          "X": "-68.9",
          "Y": 4.1243176842086655e-12
         },
         {
          "X": "-68.8",
          "Y": 4.1243176842086655e-12
         },
         {
          "X": "-68.7",
          "Y": 5.437071088937196e-12
         },
         {
          "X": "-68.60000000000001",
          "Y": 5.437071088937196e-12
         },
         {
          "X": "-68.5",
          "Y": 5.437071088937196e-12
         },
         {
          "X": "-68.4",
          "Y": 6.811200660697592e-12
         },
         {
          "X": "-68.3",
          "Y": 6.811200660697592e-12
         },
         {
          "X": "-68.2",
          "Y": 6.811200660697592e-12
         },
         {
          "X": "-68.10000000000001",
          "Y": 8.155455808410512e-12
         },
         {
          "X": "-68.0",
          "Y": 8.155455808410512e-12
         },
         {
          "X": "-67.9",
          "Y": 8.155455808410512e-12
         },
         {
          "X": "-67.8",
          "Y": 9.408903648783646e-12
         },
         {
          "X": "-67.7",
          "Y": 9.408903648783646e-12
         },
         {
          "X": "-67.60000000000001",
          "Y": 9.408903648783646e-12
         },
         {
          "X": "-67.5",
          "Y": 1.0549228736476717e-11
         },
         {
          "X": "-67.4",
          "Y": 1.0549228736476717e-11
         },
         {
          "X": "-67.3",
          "Y": 1.0549228736476717e-11
         },
         {
          "X": "-67.2",
          "Y": 1.1586864264097204e-11
         },
         {
          "X": "-67.10000000000001",
          "Y": 1.1586864264097204e-11
         },
         {
          "X": "-67.0",
          "Y": 1.1586864264097204e-11
         },
         {
          "X": "-66.9",
          "Y": 1.255448580034484e-11
         },
         {
          "X": "-66.8",
          "Y": 1.255448580034484e-11
         },
         {
          "X": "-66.7",
          "Y": 1.255448580034484e-11
         },
         {
          "X": "-66.60000000000001",
          "Y": 1.3499453868517204e-11
         },
         {
          "X": "-66.5",
          "Y": 1.3499453868517204e-11
         },
         {
          "X": "-66.4",
          "Y": 1.3499453868517204e-11
         },
         {
          "X": "-66.3",
          "Y": 1.4482791595046433e-11
         },
         {
          "X": "-66.2",
          "Y": 1.4482791595046433e-11
         },
         {
          "X": "-66.10000000000001",
          "Y": 1.4482791595046433e-11
         },
         {
          "X": "-66.0",
          "Y": 1.5585890204993018e-11
         },
         {
          "X": "-65.9",
          "Y": 1.5585890204993018e-11
         },
         {
          "X": "-65.8",
          "Y": 1.5585890204993018e-11
         },
         {
          "X": "-65.7",
          "Y": 1.6926752762652013e-11
         },
         {
          "X": "-65.60000000000001",
          "Y": 1.6926752762652013e-11
         },
         {
          "X": "-65.5",
          "Y": 1.868998619190297e-11
         },
         {
          "X": "-65.4",
          "Y": 1.868998619190297e-11
         },
         {
          "X": "-65.3",
          "Y": 1.868998619190297e-11
         },
         {
          "X": "-65.2",
          "Y": 2.1178175139358237e-11
         },
         {
          "X": "-65.10000000000001",
          "Y": 2.1178175139358237e-11
         },
         {
          "X": "-65.0",
          "Y": 2.1178175139358237e-11
         },
         {
          "X": "-64.9",
          "Y": 2.48947558247796e-11
         },
         {
          "X": "-64.8",
          "Y": 2.48947558247796e-11
         },
         {
          "X": "-64.7",
          "Y": 2.48947558247796e-11
         },
         {
          "X": "-64.60000000000001",
          "Y": 3.066523361111891e-11
         },
         {
          "X": "-64.5",
          "Y": 3.066523361111891e-11
         },
         {
          "X": "-64.4",
          "Y": 3.066523361111891e-11
         },
         {
          "X": "-64.3",
          "Y": 3.978461487453664e-11
         },
         {
          "X": "-64.2",
          "Y": 3.978461487453664e-11
         },
         {
          "X": "-64.10000000000001",
          "Y": 3.978461487453664e-11
         },
         {
          "X": "-64.0",
          "Y": 5.4132475887801984e-11
         },
         {
          "X": "-63.900000000000006",
          "Y": 5.4132475887801984e-11
         },
         {
          "X": "-63.800000000000004",
          "Y": 7.612774694698486e-11
         },
         {
          "X": "-63.7",
          "Y": 7.612774694698486e-11
         },
         {
          "X": "-63.6",
          "Y": 7.612774694698486e-11
         },
         {
          "X": "-63.5",
          "Y": 1.0835590634501158e-10
         },
         {
          "X": "-63.400000000000006",
          "Y": 1.0835590634501158e-10
         },
         {
          "X": "-63.300000000000004",
          "Y": 1.0835590634501158e-10
         },
         {
          "X": "-63.2",
          "Y": 1.5279441112133612e-10
         },
         {
          "X": "-63.1",
          "Y": 1.5279441112133612e-10
         },
         {
          "X": "-63.0",
          "Y": 1.5279441112133612e-10
         },
         {
          "X": "-62.900000000000006",
          "Y": 2.09842959309377e-10
         },
         {
          "X": "-62.800000000000004",
          "Y": 2.09842959309377e-10
         },
         {
          "X": "-62.7",
          "Y": 2.7767386910878734e-10
         },
         {
          "X": "-62.6",
          "Y": 2.7767386910878734e-10
         },
         {
          "X": "-62.5",
          "Y": 2.7767386910878734e-10
         },
         {
          "X": "-62.400000000000006",
          "Y": 3.5241356194333353e-10
         },
         {
          "X": "-62.300000000000004",
          "Y": 3.5241356194333353e-10
         },
         {
          "X": "-62.2",
          "Y": 3.5241356194333353e-10
         },
         {
          "X": "-62.1",
          "Y": 4.2920026185222996e-10
         },
         {
          "X": "-62.0",
          "Y": 4.2920026185222996e-10
         },
         {
          "X": "-61.900000000000006",
          "Y": 4.2920026185222996e-10
         },
         {
          "X": "-61.800000000000004",
          "Y": 5.035830151606506e-10
         },
         {
          "X": "-61.7",
          "Y": 5.035830151606506e-10
         },
         {
          "X": "-61.6",
          "Y": 5.72561008006099e-10
         },
         {
          "X": "-61.5",
          "Y": 5.72561008006099e-10
         },
         {
          "X": "-61.400000000000006",
          "Y": 5.72561008006099e-10
         },
         {
          "X": "-61.300000000000004",
          "Y": 6.349106673071908e-10
         },
         {
          "X": "-61.2",
          "Y": 6.349106673071908e-10
         },
         {
          "X": "-61.1",
          "Y": 6.349106673071908e-10
         },
         {
          "X": "-61.0",
          "Y": 6.909261496784351e-10
         },
         {
          "X": "-60.900000000000006",
          "Y": 6.909261496784351e-10
         },
         {
          "X": "-60.800000000000004",
          "Y": 6.909261496784351e-10
         },
         {
          "X": "-60.7",
          "Y": 7.419298546306862e-10
         },
         {
          "X": "-60.6",
          "Y": 7.419298546306862e-10
         },
         {
          "X": "-60.5",
          "Y": 7.898567238502404e-10
         },
         {
          "X": "-60.400000000000006",
          "Y": 7.898567238502404e-10
         },
         {
          "X": "-60.300000000000004",
          "Y": 7.898567238502404e-10
         },
         {
          "X": "-60.2",
          "Y": 8.370578677955695e-10
         },
         {
          "X": "-60.1",
          "Y": 8.370578677955695e-10
         },
         {
          "X": "-60.0",
          "Y": 8.370578677955695e-10
         },
         {
          "X": "-59.900000000000006",
          "Y": 8.863564682464917e-10
         },
         {
          "X": "-59.800000000000004",
          "Y": 8.863564682464917e-10
         },
         {
          "X": "-59.7",
          "Y": 9.413633175228845e-10
         },
         {
          "X": "-59.6",
          "Y": 9.413633175228845e-10
         },
         {
          "X": "-59.5",
          "Y": 9.413633175228845e-10
         },
         {
          "X": "-59.400000000000006",
          "Y": 1.0070977234514295e-09
         },
         {
          "X": "-59.300000000000004",
          "Y": 1.0070977234514295e-09
         },
         {
          "X": "-59.2",
          "Y": 1.0910308096319896e-09
         },
         {
          "X": "-59.1",
          "Y": 1.0910308096319896e-09
         },
         {
          "X": "-59.0",
          "Y": 1.0910308096319896e-09
         },
         {
          "X": "-58.900000000000006",
          "Y": 1.2047432673912072e-09
         },
         {
          "X": "-58.800000000000004",
          "Y": 1.2047432673912072e-09
         },
         {
          "X": "-58.7",
          "Y": 1.2047432673912072e-09
         },
         {
          "X": "-58.6",
          "Y": 1.3664180768652618e-09
         },
         {
          "X": "-58.5",
          "Y": 1.3664180768652618e-09
         },
         {
          "X": "-58.400000000000006",
          "Y": 1.6042571699889112e-09
         },
         {
          "X": "-58.300000000000004",
          "Y": 1.6042571699889112e-09
         },
         {
          "X": "-58.2",
          "Y": 1.6042571699889112e-09
         },
         {
          "X": "-58.1",
          "Y": 1.9604202429990765e-09
         },
         {
          "X": "-58.0",
          "Y": 1.9604202429990765e-09
         },
         {
          "X": "-57.900000000000006",
          "Y": 1.9604202429990765e-09
         },
         {
          "X": "-57.800000000000004",
          "Y": 2.4940329419375347e-09
         },
         {
          "X": "-57.7",
          "Y": 2.4940329419375347e-09
         },
         {
          "X": "-57.6",
          "Y": 3.2803212406737244e-09
         },
         {
          "X": "-57.5",
          "Y": 3.2803212406737244e-09
         },
         {
          "X": "-57.400000000000006",
          "Y": 3.2803212406737244e-09
         },
         {
          "X": "-57.300000000000004",
          "Y": 4.401959404810456e-09
         },
         {
          "X": "-57.2",
          "Y": 4.401959404810456e-09
         },
         {
          "X": "-57.1",
          "Y": 5.93017228996589e-09
         },
         {
          "X": "-57.0",
          "Y": 5.93017228996589e-09
         },
         {
          "X": "-56.900000000000006",
          "Y": 5.93017228996589e-09
         },
         {
          "X": "-56.800000000000004",
          "Y": 7.898448803652459e-09
         },
         {
          "X": "-56.7",
          "Y": 7.898448803652459e-09
         },
         {
          "X": "-56.6",
          "Y": 1.0279099151217113e-08
         },
         {
          "X": "-56.5",
          "Y": 1.0279099151217113e-08
         },
         {
          "X": "-56.400000000000006",
          "Y": 1.0279099151217113e-08
         },
         {
          "X": "-56.300000000000004",
          "Y": 1.2976338235670654e-08
         },
         {
          "X": "-56.2",
          "Y": 1.2976338235670654e-08
         },
         {
          "X": "-56.1",
          "Y": 1.584357636613342e-08
         },
         {
          "X": "-56.0",
          "Y": 1.584357636613342e-08
         },
         {
          "X": "-55.900000000000006",
          "Y": 1.584357636613342e-08
         },
         {
          "X": "-55.800000000000004",
          "Y": 1.8719296140359605e-08
         },
         {
          "X": "-55.7",
          "Y": 1.8719296140359605e-08
         },
         {
          "X": "-55.6",
          "Y": 2.146532355967019e-08
         },
         {
          "X": "-55.5",
          "Y": 2.146532355967019e-08
         },
         {
          "X": "-55.400000000000006",
          "Y": 2.146532355967019e-08
         },
         {
          "X": "-55.300000000000004",
          "Y": 2.399178360261924e-08
         },
         {
          "X": "-55.2",
          "Y": 2.399178360261924e-08
         },
         {
          "X": "-55.1",
          "Y": 2.6262845210736313e-08
         },
         {
          "X": "-55.0",
          "Y": 2.6262845210736313e-08
         },
         {
          "X": "-54.900000000000006",
          "Y": 2.6262845210736313e-08
         },
         {
          "X": "-54.800000000000004",
          "Y": 2.828775086425234e-08
         },
         {
          "X": "-54.7",
          "Y": 2.828775086425234e-08
         },
         {
          "X": "-54.6",
          "Y": 3.0106061405612845e-08
         },
         {
          "X": "-54.5",
          "Y": 3.0106061405612845e-08
         },
         {
          "X": "-54.400000000000006",
          "Y": 3.0106061405612845e-08
         },
         {
          "X": "-54.300000000000004",
          "Y": 3.1774532358082584e-08
         },
         {
          "X": "-54.2",
          "Y": 3.1774532358082584e-08
         },
         {
          "X": "-54.1",
          "Y": 3.33592614964423e-08
         },
         {
          "X": "-54.0",
          "Y": 3.33592614964423e-08
         },
         {
          "X": "-53.900000000000006",
          "Y": 3.33592614964423e-08
         },
         {
          "X": "-53.800000000000004",
          "Y": 3.4933803744371244e-08
         },
         {
          "X": "-53.7",
          "Y": 3.4933803744371244e-08
         },
         {
          "X": "-53.6",
          "Y": 3.658281269035385e-08
         },
         {
          "X": "-53.5",
          "Y": 3.658281269035385e-08
         },
         {
          "X": "-53.400000000000006",
          "Y": 3.658281269035385e-08
         },
         {
          "X": "-53.300000000000004",
          "Y": 3.841104330299011e-08
         },
         {
          "X": "-53.2",
          "Y": 3.841104330299011e-08
         },
         {
          "X": "-53.1",
          "Y": 4.055855255438999e-08
         },
         {
          "X": "-53.0",
          "Y": 4.055855255438999e-08
         },
         {
          "X": "-52.900000000000006",
          "Y": 4.055855255438999e-08
         },
         {
          "X": "-52.800000000000004",
          "Y": 4.322414474062041e-08
         },
         {
          "X": "-52.7",
          "Y": 4.322414474062041e-08
         },
         {
          "X": "-52.6",
          "Y": 4.670005574527138e-08
         },
         {
          "X": "-52.5",
          "Y": 4.670005574527138e-08
         },
         {
          "X": "-52.400000000000006",
          "Y": 5.142073008282473e-08
         },
         {
          "X": "-52.300000000000004",
          "Y": 5.142073008282473e-08
         },
         {
          "X": "-52.2",
          "Y": 5.142073008282473e-08
         },
         {
          "X": "-52.1",
          "Y": 5.802569429887838e-08
         },
         {
          "X": "-52.0",
          "Y": 5.802569429887838e-08
         },
         {
          "X": "-51.900000000000006",
          "Y": 6.742849336321993e-08
         },
         {
          "X": "-51.800000000000004",
          "Y": 6.742849336321993e-08
         },
         {
          "X": "-51.7",
          "Y": 8.086833400014858e-08
         },
         {
          "X": "-51.6",
          "Y": 8.086833400014858e-08
         },
         {
          "X": "-51.5",
          "Y": 8.086833400014858e-08
         },
         {
          "X": "-51.400000000000006",
          "Y": 9.990035846703197e-08
         },
         {
          "X": "-51.300000000000004",
          "Y": 9.990035846703197e-08
         },
         {
          "X": "-51.2",
          "Y": 1.2626557868625024e-07
         },
         {
          "X": "-51.1",
          "Y": 1.2626557868625024e-07
         },
         {
          "X": "-51.0",
          "Y": 1.2626557868625024e-07
         },
         {
          "X": "-50.900000000000006",
          "Y": 1.6159457088723817e-07
         },
         {
          "X": "-50.800000000000004",
          "Y": 1.6159457088723817e-07
         },
         {
          "X": "-50.7",
          "Y": 2.069610552284082e-07
         },
         {
          "X": "-50.6",
          "Y": 2.069610552284082e-07
         },
         {
          "X": "-50.5",
          "Y": 2.62404280104829e-07
         },
         {
          "X": "-50.400000000000006",
          "Y": 2.62404280104829e-07
         },
         {
          "X": "-50.300000000000004",
          "Y": 2.62404280104829e-07
         },
         {
          "X": "-50.2",
          "Y": 3.2662428399192754e-07
         },
         {
          "X": "-50.1",
          "Y": 3.2662428399192754e-07
         },
         {
          "X": "-50.0",
          "Y": 3.9703896825749005e-07
         },
         {
          "X": "-49.900000000000006",
          "Y": 3.9703896825749005e-07
         },
         {
          "X": "-49.800000000000004",
          "Y": 4.702461006524465e-07
         },
         {
          "X": "-49.7",
          "Y": 4.702461006524465e-07
         },
         {
          "X": "-49.6",
          "Y": 4.702461006524465e-07
         },
         {
          "X": "-49.5",
          "Y": 5.427336050273669e-07
         },
         {
          "X": "-49.400000000000006",
          "Y": 5.427336050273669e-07
         },
         {
          "X": "-49.300000000000004",
          "Y": 6.115642855084905e-07
         },
         {
          "X": "-49.2",
          "Y": 6.115642855084905e-07
         },
         {
          "X": "-49.1",
          "Y": 6.748033639926688e-07
         },
         {
          "X": "-49.0",
          "Y": 6.748033639926688e-07
         },
         {
          "X": "-48.900000000000006",
          "Y": 7.316117291460294e-07
         },
         {
          "X": "-48.800000000000004",
          "Y": 7.316117291460294e-07
         },
         {
          "X": "-48.7",
          "Y": 7.316117291460294e-07
         },
         {
          "X": "-48.6",
          "Y": 7.820794769113074e-07
         },
         {
          "X": "-48.5",
          "Y": 7.820794769113074e-07
         },
         {
          "X": "-48.400000000000006",
          "Y": 8.269426862215771e-07
         },
         {
          "X": "-48.300000000000004",
          "Y": 8.269426862215771e-07
         },
         {
          "X": "-48.2",
          "Y": 8.673095780715584e-07
         },
         {
          "X": "-48.1",
          "Y": 8.673095780715584e-07
         },
         {
          "X": "-48.0",
          "Y": 9.044661499380895e-07
         },
         {
          "X": "-47.900000000000006",
          "Y": 9.044661499380895e-07
         },
         {
          "X": "-47.800000000000004",
          "Y": 9.044661499380895e-07
         },
         {
          "X": "-47.7",
          "Y": 9.397800870603309e-07
         },
         {
          "X": "-47.6",
          "Y": 9.397800870603309e-07
         },
         {
          "X": "-47.5",
          "Y": 9.74694196776396e-07
         },
         {
          "X": "-47.400000000000006",
          "Y": 9.74694196776396e-07
         },
         {
          "X": "-47.300000000000004",
          "Y": 1.01079521360535e-06
         },
         {
          "X": "-47.2",
          "Y": 1.01079521360535e-06
         },
         {
          "X": "-47.1",
          "Y": 1.0499515338014939e-06
         },
         {
          "X": "-47.0",
          "Y": 1.0499515338014939e-06
         },
         {
          "X": "-46.900000000000006",
          "Y": 1.0499515338014939e-06
         },
         {
          "X": "-46.800000000000004",
          "Y": 1.094526250346527e-06
         },
         {
          "X": "-46.7",
          "Y": 1.094526250346527e-06
         },
         {
          "X": "-46.6",
          "Y": 1.1476846557704082e-06
         },
         {
          "X": "-46.5",
          "Y": 1.1476846557704082e-06
         },
         {
          "X": "-46.400000000000006",
          "Y": 1.213823886601507e-06
         },
         {
          "X": "-46.300000000000004",
          "Y": 1.213823886601507e-06
         },
         {
          "X": "-46.2",
          "Y": 1.2991497975524091e-06
         },
         {
          "X": "-46.1",
          "Y": 1.2991497975524091e-06
         },
         {
          "X": "-46.0",
          "Y": 1.41240010859416e-06
         },
         {
          "X": "-45.900000000000006",
          "Y": 1.41240010859416e-06
         },
         {
          "X": "-45.800000000000004",
          "Y": 1.41240010859416e-06
         },
         {
          "X": "-45.7",
          "Y": 1.5656451145613908e-06
         },
         {
          "X": "-45.6",
          "Y": 1.5656451145613908e-06
         },
         {
          "X": "-45.5",
          "Y": 1.7749708600115534e-06
         },
         {
          "X": "-45.400000000000006",
          "Y": 1.7749708600115534e-06
         },
         {
          "X": "-45.300000000000004",
          "Y": 2.060669901130262e-06
         },
         {
          "X": "-45.2",
          "Y": 2.060669901130262e-06
         },
         {
          "X": "-45.1",
          "Y": 2.4463930029634998e-06
         },
         {
          "X": "-45.0",
          "Y": 2.4463930029634998e-06
         },
         {
          "X": "-44.900000000000006",
          "Y": 2.9566939570099166e-06
         },
         {
          "X": "-44.800000000000004",
          "Y": 2.9566939570099166e-06
         },
         {
          "X": "-44.7",
          "Y": 3.6127180257094543e-06
         },
         {
          "X": "-44.6",
          "Y": 3.6127180257094543e-06
         },
         {
          "X": "-44.5",
          "Y": 3.6127180257094543e-06
         },
         {
          "X": "-44.400000000000006",
          "Y": 4.42653666623338e-06
         },
         {
          "X": "-44.300000000000004",
          "Y": 4.42653666623338e-06
         },
         {
          "X": "-44.2",
          "Y": 5.395616733303654e-06
         },
         {
          "X": "-44.1",
          "Y": 5.395616733303654e-06
         },
         {
          "X": "-44.0",
          "Y": 6.499571646482021e-06
         },
         {
          "X": "-43.900000000000006",
          "Y": 6.499571646482021e-06
         },
         {
          "X": "-43.800000000000004",
          "Y": 7.701039275625966e-06
         },
         {
          "X": "-43.7",
          "Y": 7.701039275625966e-06
         },
         {
          "X": "-43.6",
          "Y": 8.951104948983375e-06
         },
         {
          "X": "-43.5",
          "Y": 8.951104948983375e-06
         },
         {
          "X": "-43.400000000000006",
          "Y": 1.0197782693585888e-05
         },
         {
          "X": "-43.300000000000004",
          "Y": 1.0197782693585888e-05
         },
         {
          "X": "-43.2",
          "Y": 1.1394792772468664e-05
         },
         {
          "X": "-43.1",
          "Y": 1.1394792772468664e-05
         },
         {
          "X": "-43.0",
          "Y": 1.2507972018881343e-05
         },
         {
          "X": "-42.900000000000006",
          "Y": 1.2507972018881343e-05
         },
         {
          "X": "-42.800000000000004",
          "Y": 1.2507972018881343e-05
         },
         {
          "X": "-42.7",
          "Y": 1.3517944033600345e-05
         },
         {
          "X": "-42.6",
          "Y": 1.3517944033600345e-05
         },
         {
          "X": "-42.5",
          "Y": 1.4419280637389094e-05
         },
         {
          "X": "-42.400000000000006",
          "Y": 1.4419280637389094e-05
         },
         {
          "X": "-42.300000000000004",
          "Y": 1.521745159716983e-05
         },
         {
          "X": "-42.2",
          "Y": 1.521745159716983e-05
         },
         {
          "X": "-42.1",
          "Y": 1.592508349427334e-05
         },
         {
          "X": "-42.0",
          "Y": 1.592508349427334e-05
         },
         {
          "X": "-41.900000000000006",
          "Y": 1.655866118022753e-05
         },
         {
          "X": "-41.800000000000004",
          "Y": 1.655866118022753e-05
         },
         {
          "X": "-41.7",
          "Y": 1.7136226304611606e-05
         },
         {
          "X": "-41.6",
          "Y": 1.7136226304611606e-05
         },
         {
          "X": "-41.5",
          "Y": 1.7676164948825233e-05
         },
         {
          "X": "-41.400000000000006",
          "Y": 1.7676164948825233e-05
         },
         {
          "X": "-41.300000000000004",
          "Y": 1.819693669116004e-05
         },
         {
          "X": "-41.2",
          "Y": 1.819693669116004e-05
         },
         {
          "X": "-41.1",
          "Y": 1.87175469388861e-05
         },
         {
          "X": "-41.0",
          "Y": 1.87175469388861e-05
         },
         {
          "X": "-40.900000000000006",
          "Y": 1.9258623641049773e-05
         },
         {
          "X": "-40.800000000000004",
          "Y": 1.9258623641049773e-05
         },
         {
          "X": "-40.7",
          "Y": 1.984406078565262e-05
         },
         {
          "X": "-40.6",
          "Y": 1.984406078565262e-05
         },
         {
          "X": "-40.5",
          "Y": 2.050329295802121e-05
         },
         {
          "X": "-40.400000000000006",
          "Y": 2.050329295802121e-05
         },
         {
          "X": "-40.300000000000004",
          "Y": 2.1274342614638744e-05
         },
         {
          "X": "-40.2",
          "Y": 2.1274342614638744e-05
         },
         {
          "X": "-40.1",
          "Y": 2.2207808010601393e-05
         },
         {
          "X": "-40.0",
          "Y": 2.2207808010601393e-05
         },
         {
          "X": "-39.900000000000006",
          "Y": 2.3371889830185796e-05
         },
         {
          "X": "-39.800000000000004",
          "Y": 2.3371889830185796e-05
         },
         {
          "X": "-39.7",
          "Y": 2.485831511148574e-05
         },
         {
          "X": "-39.6",
          "Y": 2.485831511148574e-05
         },
         {
          "X": "-39.5",
          "Y": 2.6788514840343336e-05
         },
         {
          "X": "-39.400000000000006",
          "Y": 2.6788514840343336e-05
         },
         {
          "X": "-39.300000000000004",
          "Y": 2.931858019397603e-05
         },
         {
          "X": "-39.2",
          "Y": 2.931858019397603e-05
         },
         {
          "X": "-39.1",
          "Y": 3.264042586184207e-05
         },
         {
          "X": "-39.0",
          "Y": 3.264042586184207e-05
         },
         {
          "X": "-38.900000000000006",
          "Y": 3.697557000755632e-05
         },
         {
          "X": "-38.800000000000004",
          "Y": 3.697557000755632e-05
         },
         {
          "X": "-38.7",
          "Y": 4.255772200939379e-05
         },
         {
          "X": "-38.6",
          "Y": 4.255772200939379e-05
         },
         {
          "X": "-38.5",
          "Y": 4.9601918207981e-05
         },
         {
          "X": "-38.400000000000006",
          "Y": 4.9601918207981e-05
         },
         {
          "X": "-38.300000000000004",
          "Y": 5.82619201510757e-05
         },
         {
          "X": "-38.2",
          "Y": 5.82619201510757e-05
         },
         {
          "X": "-38.1",
          "Y": 6.858346064372891e-05
         },
         {
          "X": "-38.0",
          "Y": 6.858346064372891e-05
         },
         {
          "X": "-37.9",
          "Y": 8.046638738654993e-05
         },
         {
          "X": "-37.800000000000004",
          "Y": 8.046638738654993e-05
         },
         {
          "X": "-37.7",
          "Y": 9.365033650557875e-05
         },
         {
          "X": "-37.6",
          "Y": 9.365033650557875e-05
         },
         {
          "X": "-37.5",
          "Y": 0.00010773370321321928
         },
         {
          "X": "-37.4",
          "Y": 0.00010773370321321928
         },
         {
          "X": "-37.300000000000004",
          "Y": 0.00012222509355986944
         },
         {
          "X": "-37.2",
          "Y": 0.00012222509355986944
         },
         {
          "X": "-37.1",
          "Y": 0.00013661469082850423
         },
         {
          "X": "-37.0",
          "Y": 0.00015044598500675956
         },
         {
          "X": "-36.9",
          "Y": 0.00015044598500675956
         },
         {
          "X": "-36.800000000000004",
          "Y": 0.0001633695329244951
         },
         {
          "X": "-36.7",
          "Y": 0.0001633695329244951
         },
         {
          "X": "-36.6",
          "Y": 0.00017516859124877763
         },
         {
          "X": "-36.5",
          "Y": 0.00017516859124877763
         },
         {
          "X": "-36.4",
          "Y": 0.00018575686843444122
         },
         {
          "X": "-36.300000000000004",
          "Y": 0.00018575686843444122
         },
         {
          "X": "-36.2",
          "Y": 0.00019515641263026604
         },
         {
          "X": "-36.1",
          "Y": 0.00019515641263026604
         },
         {
          "X": "-36.0",
          "Y": 0.00020346647834754475
         },
         {
          "X": "-35.9",
          "Y": 0.00020346647834754475
         },
         {
          "X": "-35.800000000000004",
          "Y": 0.00021083273097329528
         },
         {
          "X": "-35.7",
          "Y": 0.00021083273097329528
         },
         {
          "X": "-35.6",
          "Y": 0.00021742254999403533
         },
         {
          "X": "-35.5",
          "Y": 0.00021742254999403533
         },
         {
          "X": "-35.4",
          "Y": 0.00022340858320704302
         },
         {
          "X": "-35.300000000000004",
          "Y": 0.00022896023311984792
         },
         {
          "X": "-35.2",
          "Y": 0.00022896023311984792
         },
         {
          "X": "-35.1",
          "Y": 0.00023424161899057895
         },
         {
          "X": "-35.0",
          "Y": 0.00023424161899057895
         },
         {
          "X": "-34.9",
          "Y": 0.00023941441931748982
         },
         {
          "X": "-34.800000000000004",
          "Y": 0.00023941441931748982
         },
         {
          "X": "-34.7",
          "Y": 0.0002446444057286782
         },
         {
          "X": "-34.6",
          "Y": 0.0002446444057286782
         },
         {
          "X": "-34.5",
          "Y": 0.00025011107512741375
         },
         {
          "X": "-34.4",
          "Y": 0.00025011107512741375
         },
         {
          "X": "-34.300000000000004",
          "Y": 0.00025602036279822867
         },
         {
          "X": "-34.2",
          "Y": 0.00025602036279822867
         },
         {
          "X": "-34.1",
          "Y": 0.00026262086455890735
         },
         {
          "X": "-34.0",
          "Y": 0.00027022422815304366
         },
         {
          "X": "-33.9",
          "Y": 0.00027022422815304366
         },
         {
          "X": "-33.800000000000004",
          "Y": 0.00027923027250579613
         },
         {
          "X": "-33.7",
          "Y": 0.00027923027250579613
         },
         {
          "X": "-33.6",
          "Y": 0.00029015675620881873
         },
         {
          "X": "-33.5",
          "Y": 0.00029015675620881873
         },
         {
          "X": "-33.4",
          "Y": 0.0003036722558239517
         },
         {
          "X": "-33.300000000000004",
          "Y": 0.0003036722558239517
         },
         {
          "X": "-33.2",
          "Y": 0.0003206280290919373
         },
         {
          "X": "-33.1",
          "Y": 0.0003206280290919373
         },
         {
          "X": "-33.0",
          "Y": 0.00034208091466607945
         },
         {
          "X": "-32.9",
          "Y": 0.0003692946935900639
         },
         {
          "X": "-32.800000000000004",
          "Y": 0.0003692946935900639
         },
         {
          "X": "-32.7",
          "Y": 0.0004037033352580074
         },
         {
          "X": "-32.6",
          "Y": 0.0004037033352580074
         },
         {
          "X": "-32.5",
          "Y": 0.00044681883315928264
         },
         {
          "X": "-32.4",
          "Y": 0.00044681883315928264
         },
         {
          "X": "-32.300000000000004",
          "Y": 0.0005000723359709697
         },
         {
          "X": "-32.2",
          "Y": 0.0005000723359709697
         },
         {
          "X": "-32.1",
          "Y": 0.0005645925697692657
         },
         {
          "X": "-32.0",
          "Y": 0.0006409492125479808
         },
         {
          "X": "-31.900000000000002",
          "Y": 0.0006409492125479808
         },
         {
          "X": "-31.8",
          "Y": 0.0007289142991315357
         },
         {
          "X": "-31.700000000000003",
          "Y": 0.0007289142991315357
         },
         {
          "X": "-31.6",
          "Y": 0.0008273101185352293
         },
         {
          "X": "-31.5",
          "Y": 0.0008273101185352293
         },
         {
          "X": "-31.400000000000002",
          "Y": 0.0009340054014686013
         },
         {
          "X": "-31.3",
          "Y": 0.0010460884558964206
         },
         {
          "X": "-31.200000000000003",
          "Y": 0.0010460884558964206
         },
         {
          "X": "-31.1",
          "Y": 0.0011601950869849806
         },
         {
          "X": "-31.0",
          "Y": 0.0011601950869849806
         },
         {
          "X": "-30.900000000000002",
          "Y": 0.0012729206976545308
         },
         {
          "X": "-30.8",
          "Y": 0.0012729206976545308
         },
         {
          "X": "-30.700000000000003",
          "Y": 0.0013812211379576997
         },
         {
          "X": "-30.6",
          "Y": 0.001482715962388278
         },
         {
          "X": "-30.5",
          "Y": 0.001482715962388278
         },
         {
          "X": "-30.400000000000002",
          "Y": 0.0015758445823626866
         },
         {
          "X": "-30.3",
          "Y": 0.0015758445823626866
         },
         {
          "X": "-30.200000000000003",
          "Y": 0.0016598723719701133
         },
         {
          "X": "-30.1",
          "Y": 0.0016598723719701133
         },
         {
          "X": "-30.0",
          "Y": 0.0017347811664159755
         },
         {
          "X": "-29.900000000000002",
          "Y": 0.001801096164722148
         },
         {
          "X": "-29.8",
          "Y": 0.001801096164722148
         },
         {
          "X": "-29.700000000000003",
          "Y": 0.0018596992295375136
         },
         {
          "X": "-29.6",
          "Y": 0.0018596992295375136
         },
         {
          "X": "-29.5",
          "Y": 0.0019116643836218196
         },
         {
          "X": "-29.400000000000002",
          "Y": 0.0019116643836218196
         },
         {
          "X": "-29.3",
          "Y": 0.001958133833861123
         },
         {
          "X": "-29.200000000000003",
          "Y": 0.00200023842401148
         },
         {
          "X": "-29.1",
          "Y": 0.00200023842401148
         },
         {
          "X": "-29.0",
          "Y": 0.002039057582406899
         },
         {
          "X": "-28.900000000000002",
          "Y": 0.002039057582406899
         },
         {
          "X": "-28.8",
          "Y": 0.0020756102825896404
         },
         {
          "X": "-28.700000000000003",
          "Y": 0.0020756102825896404
         },
         {
          "X": "-28.6",
          "Y": 0.002110868638308275
         },
         {
          "X": "-28.5",
          "Y": 0.0021457877517889103
         },
         {
          "X": "-28.400000000000002",
          "Y": 0.0021457877517889103
         },
         {
          "X": "-28.3",
          "Y": 0.0021813480244977784
         },
         {
          "X": "-28.200000000000003",
          "Y": 0.0021813480244977784
         },
         {
          "X": "-28.1",
          "Y": 0.002218608566711958
         },
         {
          "X": "-28.0",
          "Y": 0.002258772236555861
         },
         {
          "X": "-27.900000000000002",
          "Y": 0.002258772236555861
         },
         {
          "X": "-27.8",
          "Y": 0.0023032639957472033
         },
         {
          "X": "-27.700000000000003",
          "Y": 0.0023032639957472033
         },
         {
          "X": "-27.6",
          "Y": 0.002353824452173486
         },
         {
          "X": "-27.5",
          "Y": 0.0024126192645314804
         },
         {
          "X": "-27.400000000000002",
          "Y": 0.0024126192645314804
         },
         {
          "X": "-27.3",
          "Y": 0.0024823618829387154
         },
         {
          "X": "-27.200000000000003",
          "Y": 0.0024823618829387154
         },
         {
          "X": "-27.1",
          "Y": 0.002566441111422087
         },
         {
          "X": "-27.0",
          "Y": 0.002669035561615481
         },
         {
          "X": "-26.900000000000002",
          "Y": 0.002669035561615481
         },
         {
          "X": "-26.8",
          "Y": 0.0027951843209898
         },
         {
          "X": "-26.700000000000003",
          "Y": 0.0027951843209898
         },
         {
          "X": "-26.6",
          "Y": 0.0029507688471821546
         },
         {
          "X": "-26.5",
          "Y": 0.003142349647982517
         },
         {
          "X": "-26.400000000000002",
          "Y": 0.003142349647982517
         },
         {
          "X": "-26.3",
          "Y": 0.003376800202804024
         },
         {
          "X": "-26.200000000000003",
          "Y": 0.003376800202804024
         },
         {
          "X": "-26.1",
          "Y": 0.0036606991249184383
         },
         {
          "X": "-26.0",
          "Y": 0.003999487027915992
         },
         {
          "X": "-25.900000000000002",
          "Y": 0.003999487027915992
         },
         {
          "X": "-25.8",
          "Y": 0.00439646605807169
         },
         {
          "X": "-25.700000000000003",
          "Y": 0.00439646605807169
         },
         {
          "X": "-25.6",
          "Y": 0.004851802714806452
         },
         {
          "X": "-25.5",
          "Y": 0.005361758810522489
         },
         {
          "X": "-25.400000000000002",
          "Y": 0.005361758810522489
         },
         {
          "X": "-25.3",
          "Y": 0.005918385577052376
         },
         {
          "X": "-25.200000000000003",
          "Y": 0.005918385577052376
         },
         {
          "X": "-25.1",
          "Y": 0.006509847837559349
         },
         {
          "X": "-25.0",
          "Y": 0.007121404289299612
         },
         {
          "X": "-24.900000000000002",
          "Y": 0.007121404289299612
         },
         {
          "X": "-24.8",
          "Y": 0.007736897468535526
         },
         {
          "X": "-24.700000000000003",
          "Y": 0.007736897468535526
         },
         {
          "X": "-24.6",
          "Y": 0.008340465696880624
         },
         {
          "X": "-24.5",
          "Y": 0.008918134195348756
         },
         {
          "X": "-24.400000000000002",
          "Y": 0.008918134195348756
         },
         {
          "X": "-24.3",
          "Y": 0.009458992850457003
         },
         {
          "X": "-24.200000000000003",
          "Y": 0.009458992850457003
         },
         {
          "X": "-24.1",
          "Y": 0.009955798639130979
         },
         {
          "X": "-24.0",
          "Y": 0.010404997116945359
         },
         {
          "X": "-23.900000000000002",
          "Y": 0.010404997116945359
         },
         {
          "X": "-23.8",
          "Y": 0.010806284433664763
         },
         {
          "X": "-23.700000000000003",
          "Y": 0.0111618966158269
         },
         {
          "X": "-23.6",
          "Y": 0.0111618966158269
         },
         {
          "X": "-23.5",
          "Y": 0.01147581412467168
         },
         {
          "X": "-23.400000000000002",
          "Y": 0.01147581412467168
         },
         {
          "X": "-23.3",
          "Y": 0.011753026805119728
         },
         {
          "X": "-23.200000000000003",
          "Y": 0.011998944342379261
         },
         {
          "X": "-23.1",
          "Y": 0.011998944342379261
         },
         {
          "X": "-23.0",
          "Y": 0.012218982215217132
         },
         {
          "X": "-22.900000000000002",
          "Y": 0.012218982215217132
         },
         {
          "X": "-22.8",
          "Y": 0.012418314455259798
         },
         {
          "X": "-22.700000000000003",
          "Y": 0.012601764315249613
         },
         {
          "X": "-22.6",
          "Y": 0.012601764315249613
         },
         {
          "X": "-22.5",
          "Y": 0.012773798507113526
         },
         {
          "X": "-22.400000000000002",
          "Y": 0.012938594416468087
         },
         {
          "X": "-22.3",
          "Y": 0.012938594416468087
         },
         {
          "X": "-22.200000000000003",
          "Y": 0.013100157668389258
         },
         {
          "X": "-22.1",
          "Y": 0.013100157668389258
         },
         {
          "X": "-22.0",
          "Y": 0.013262476219022603
         },
         {
          "X": "-21.900000000000002",
          "Y": 0.013429704911205867
         },
         {
          "X": "-21.8",
          "Y": 0.013429704911205867
         },
         {
          "X": "-21.700000000000003",
          "Y": 0.013606380314651454
         },
         {
          "X": "-21.6",
          "Y": 0.013797669277329797
         },
         {
          "X": "-21.5",
          "Y": 0.013797669277329797
         },
         {
          "X": "-21.400000000000002",
          "Y": 0.014009655527038012
         },
         {
          "X": "-21.3",
          "Y": 0.014009655527038012
         },
         {
          "X": "-21.200000000000003",
          "Y": 0.014249666120120302
         },
         {
          "X": "-21.1",
          "Y": 0.01452663229093579
         },
         {
          "X": "-21.0",
          "Y": 0.01452663229093579
         },
         {
          "X": "-20.900000000000002",
          "Y": 0.014851465680634047
         },
         {
          "X": "-20.8",
          "Y": 0.015237409492554662
         },
         {
          "X": "-20.700000000000003",
          "Y": 0.015237409492554662
         },
         {
          "X": "-20.6",
          "Y": 0.01570029446820851
         },
         {
          "X": "-20.5",
          "Y": 0.016258594198924215
         },
         {
          "X": "-20.400000000000002",
          "Y": 0.016258594198924215
         },
         {
          "X": "-20.3",
          "Y": 0.01693314064629837
         },
         {
          "X": "-20.200000000000003",
          "Y": 0.01693314064629837
         },
         {
          "X": "-20.1",
          "Y": 0.017746342867640125
         },
         {
          "X": "-20.0",
          "Y": 0.018720769813099176
         },
         {
          "X": "-19.900000000000002",
          "Y": 0.018720769813099176
         },
         {
          "X": "-19.8",
          "Y": 0.019877032699940712
         },
         {
          "X": "-19.700000000000003",
          "Y": 0.02123104560347442
         },
         {
          "X": "-19.6",
          "Y": 0.02123104560347442
         },
         {
          "X": "-19.5",
          "Y": 0.02279094321130945
         },
         {
          "X": "-19.400000000000002",
          "Y": 0.02455414723857417
         },
         {
          "X": "-19.3",
          "Y": 0.02455414723857417
         },
         {
          "X": "-19.200000000000003",
          "Y": 0.026505221760813224
         },
         {
          "X": "-19.1",
          "Y": 0.026505221760813224
         },
         {
          "X": "-19.0",
          "Y": 0.02861515842708558
         },
         {
          "X": "-18.900000000000002",
          "Y": 0.030842532610000722
         },
         {
          "X": "-18.8",
          "Y": 0.030842532610000722
         },
         {
          "X": "-18.7",
          "Y": 0.033136589176031336
         },
         {
          "X": "-18.6",
          "Y": 0.03544185287981802
         },
         {
          "X": "-18.5",
          "Y": 0.03544185287981802
         },
         {
          "X": "-18.400000000000002",
          "Y": 0.03770346680870365
         },
         {
          "X": "-18.3",
          "Y": 0.039872283442020456
         },
         {
          "X": "-18.2",
          "Y": 0.039872283442020456
         },
         {
          "X": "-18.1",
          "Y": 0.04190882889101273
         },
         {
          "X": "-18.0",
          "Y": 0.04190882889101273
         },
         {
          "X": "-17.900000000000002",
          "Y": 0.043785587141245426
         },
         {
          "X": "-17.8",
          "Y": 0.04548748140753188
         },
         {
          "X": "-17.7",
          "Y": 0.04548748140753188
         },
         {
          "X": "-17.6",
          "Y": 0.047010817910613525
         },
         {
          "X": "-17.5",
          "Y": 0.04836119917187527
         },
         {
          "X": "-17.400000000000002",
          "Y": 0.04836119917187527
         },
         {
          "X": "-17.3",
          "Y": 0.049550977640988335
         },
         {
          "X": "-17.2",
          "Y": 0.050596739570995634
         },
         {
          "X": "-17.1",
          "Y": 0.050596739570995634
         },
         {
          "X": "-17.0",
          "Y": 0.051517150388402516
         },
         {
          "X": "-16.900000000000002",
          "Y": 0.05233132259062076
         },
         {
          "X": "-16.8",
          "Y": 0.05233132259062076
         },
         {
          "X": "-16.7",
          "Y": 0.05305772986358724
         },
         {
          "X": "-16.6",
          "Y": 0.05305772986358724
         },
         {
          "X": "-16.5",
          "Y": 0.05371360440473841
         },
         {
          "X": "-16.400000000000002",
          "Y": 0.054314715741239555
         },
         {
          "X": "-16.3",
          "Y": 0.054314715741239555
         },
         {
          "X": "-16.2",
          "Y": 0.05487542567637174
         },
         {
          "X": "-16.1",
          "Y": 0.05540893045957138
         },
         {
          "X": "-16.0",
          "Y": 0.05540893045957138
         },
         {
          "X": "-15.9",
          "Y": 0.05592762575714462
         },
         {
          "X": "-15.8",
          "Y": 0.05644355468399104
         },
         {
          "X": "-15.700000000000001",
          "Y": 0.05644355468399104
         },
         {
          "X": "-15.600000000000001",
          "Y": 0.056968919967579
         },
         {
          "X": "-15.5",
          "Y": 0.05751665659526929
         },
         {
          "X": "-15.4",
          "Y": 0.05751665659526929
         },
         {
          "X": "-15.3",
          "Y": 0.0581010704448688
         },
         {
          "X": "-15.200000000000001",
          "Y": 0.058738550811818196
         },
         {
          "X": "-15.100000000000001",
          "Y": 0.058738550811818196
         },
         {
          "X": "-15.0",
          "Y": 0.059448359126406815
         },
         {
          "X": "-14.9",
          "Y": 0.059448359126406815
         },
         {
          "X": "-14.8",
          "Y": 0.060253480216544156
         },
         {
          "X": "-14.700000000000001",
          "Y": 0.061181493154938
         },
         {
          "X": "-14.600000000000001",
          "Y": 0.061181493154938
         },
         {
          "X": "-14.5",
          "Y": 0.06226537314272943
         },
         {
          "X": "-14.4",
          "Y": 0.06354407330040257
         },
         {
          "X": "-14.3",
          "Y": 0.06354407330040257
         },
         {
          "X": "-14.200000000000001",
          "Y": 0.06506266032959647
         },
         {
          "X": "-14.100000000000001",
          "Y": 0.06687170491032604
         },
         {
          "X": "-14.0",
          "Y": 0.06687170491032604
         },
         {
          "X": "-13.9",
          "Y": 0.06902558342580475
         },
         {
          "X": "-13.8",
          "Y": 0.0715793718460069
         },
         {
          "X": "-13.700000000000001",
          "Y": 0.0715793718460069
         },
         {
          "X": "-13.600000000000001",
          "Y": 0.07458414987302994
         },
         {
          "X": "-13.5",
          "Y": 0.07808081481783834
         },
         {
          "X": "-13.4",
          "Y": 0.07808081481783834
         },
         {
          "X": "-13.3",
          "Y": 0.0820929209347234
         },
         {
          "X": "-13.200000000000001",
          "Y": 0.08661953659913728
         },
         {
          "X": "-13.100000000000001",
          "Y": 0.08661953659913728
         },
         {
          "X": "-13.0",
          "Y": 0.0916295039044265
         },
         {
          "X": "-12.9",
          "Y": 0.0916295039044265
         },
         {
          "X": "-12.8",
          "Y": 0.09705861027406035
         },
         {
          "X": "-12.700000000000001",
          "Y": 0.1028108917040047
         },
         {
          "X": "-12.600000000000001",
          "Y": 0.1028108917040047
         },
         {
          "X": "-12.5",
          "Y": 0.10876455701006815
         },
         {
          "X": "-12.4",
          "Y": 0.11478200332265712
         },
         {
          "X": "-12.3",
          "Y": 0.11478200332265712
         },
         {
          "X": "-12.200000000000001",
          "Y": 0.12072238761692133
         },
         {
          "X": "-12.100000000000001",
          "Y": 0.12645456916352824
         },
         {
          "X": "-12.0",
          "Y": 0.12645456916352824
         },
         {
          "X": "-11.9",
          "Y": 0.13186817465524703
         },
         {
          "X": "-11.8",
          "Y": 0.13688107490057527
         },
         {
          "X": "-11.700000000000001",
          "Y": 0.13688107490057527
         },
         {
          "X": "-11.600000000000001",
          "Y": 0.14144249245166585
         },
         {
          "X": "-11.5",
          "Y": 0.14553195744978953
         },
         {
          "X": "-11.4",
          "Y": 0.14553195744978953
         },
         {
          "X": "-11.3",
          "Y": 0.1491550943171812
         },
         {
          "X": "-11.200000000000001",
          "Y": 0.15233759069667616
         },
         {
          "X": "-11.100000000000001",
          "Y": 0.15233759069667616
         },
         {
          "X": "-11.0",
          "Y": 0.155118673541788
         },
         {
          "X": "-10.9",
          "Y": 0.1575451167019184
         },
         {
          "X": "-10.8",
          "Y": 0.1575451167019184
         },
         {
          "X": "-10.700000000000001",
          "Y": 0.15966639239397526
         },
         {
          "X": "-10.600000000000001",
          "Y": 0.15966639239397526
         },
         {
          "X": "-10.5",
          "Y": 0.16153119240634972
         },
         {
          "X": "-10.4",
          "Y": 0.1631852618281675
         },
         {
          "X": "-10.3",
          "Y": 0.1631852618281675
         },
         {
          "X": "-10.200000000000001",
          "Y": 0.16467032850470353
         },
         {
          "X": "-10.100000000000001",
          "Y": 0.16602385656924706
         },
         {
          "X": "-10.0",
          "Y": 0.16602385656924706
         },
         {
          "X": "-9.9",
          "Y": 0.16727936757538223
         },
         {
          "X": "-9.8",
          "Y": 0.1684671238481526
         },
         {
          "X": "-9.700000000000001",
          "Y": 0.1684671238481526
         },
         {
          "X": "-9.600000000000001",
          "Y": 0.16961503032204006
         },
         {
          "X": "-9.5",
          "Y": 0.17074966817642323
         },
         {
          "X": "-9.4",
          "Y": 0.17074966817642323
         },
         {
          "X": "-9.3",
          "Y": 0.1718974189317629
         },
         {
          "X": "-9.200000000000001",
          "Y": 0.17308566910530376
         },
         {
          "X": "-9.1",
          "Y": 0.17308566910530376
         },
         {
          "X": "-9.0",
          "Y": 0.17434410275513199
         },
         {
          "X": "-8.9",
          "Y": 0.17570609181409186
         },
         {
          "X": "-8.8",
          "Y": 0.17570609181409186
         },
         {
          "X": "-8.700000000000001",
          "Y": 0.17721018019135998
         },
         {
          "X": "-8.6",
          "Y": 0.1789016236199501
         },
         {
          "X": "-8.5",
          "Y": 0.1789016236199501
         },
         {
          "X": "-8.4",
          "Y": 0.1808338885054243
         },
         {
          "X": "-8.3",
          "Y": 0.1808338885054243
         },
         {
          "X": "-8.200000000000001",
          "Y": 0.183069925949839
         },
         {
          "X": "-8.1",
          "Y": 0.18568292301545747
         },
         {
          "X": "-8.0",
          "Y": 0.18568292301545747
         },
         {
          "X": "-7.9",
          "Y": 0.18875610437002677
         },
         {
          "X": "-7.800000000000001",
          "Y": 0.19238104366085684
         },
         {
          "X": "-7.7",
          "Y": 0.19238104366085684
         },
         {
          "X": "-7.6000000000000005",
          "Y": 0.1966538976177234
         },
         {
          "X": "-7.5",
          "Y": 0.2016690685859612
         },
         {
          "X": "-7.4",
          "Y": 0.2016690685859612
         },
         {
          "X": "-7.300000000000001",
          "Y": 0.2075101063298369
         },
         {
          "X": "-7.2",
          "Y": 0.21423821725706566
         },
         {
          "X": "-7.1000000000000005",
          "Y": 0.21423821725706566
         },
         {
          "X": "-7.0",
          "Y": 0.22187951751363938
         },
         {
          "X": "-6.9",
          "Y": 0.23041298544695918
         },
         {
          "X": "-6.800000000000001",
          "Y": 0.23041298544695918
         },
         {
          "X": "-6.7",
          "Y": 0.2397616630863802
         },
         {
          "X": "-6.6000000000000005",
          "Y": 0.24978970735402486
         },
         {
          "X": "-6.5",
          "Y": 0.24978970735402486
         },
         {
          "X": "-6.4",
          "Y": 0.2603071768573174
         },
         {
          "X": "-6.300000000000001",
          "Y": 0.2710829810531331
         },
         {
          "X": "-6.2",
          "Y": 0.2710829810531331
         },
         {
          "X": "-6.1000000000000005",
          "Y": 0.28186455309612213
         },
         {
          "X": "-6.0",
          "Y": 0.28186455309612213
         },
         {
          "X": "-5.9",
          "Y": 0.29240111121367707
         },
         {
          "X": "-5.800000000000001",
          "Y": 0.30246643639251836
         },
         {
          "X": "-5.7",
          "Y": 0.30246643639251836
         },
         {
          "X": "-5.6000000000000005",
          "Y": 0.3118772572710997
         },
         {
          "X": "-5.5",
          "Y": 0.3205045267220742
         },
         {
          "X": "-5.4",
          "Y": 0.3205045267220742
         },
         {
          "X": "-5.300000000000001",
          "Y": 0.32827665549498275
         },
         {
          "X": "-5.2",
          "Y": 0.3351755308621608
         },
         {
          "X": "-5.1000000000000005",
          "Y": 0.3351755308621608
         },
         {
          "X": "-5.0",
          "Y": 0.341227386283396
         },
         {
          "X": "-4.9",
          "Y": 0.34649107006294166
         },
         {
          "X": "-4.800000000000001",
          "Y": 0.34649107006294166
         },
         {
          "X": "-4.7",
          "Y": 0.35104605132785477
         },
         {
          "X": "-4.6000000000000005",
          "Y": 0.35498185681119165
         },
         {
          "X": "-4.5",
          "Y": 0.35498185681119165
         },
         {
          "X": "-4.4",
          "Y": 0.35838985286637043
         },
         {
          "X": "-4.3",
          "Y": 0.36135760591130306
         },
         {
          "X": "-4.2",
          "Y": 0.36135760591130306
         },
         {
          "X": "-4.1000000000000005",
          "Y": 0.3639655881535735
         },
         {
          "X": "-4.0",
          "Y": 0.3639655881535735
         },
         {
          "X": "-3.9000000000000004",
          "Y": 0.3662857582346254
         },
         {
          "X": "-3.8000000000000003",
          "Y": 0.36838149045388946
         },
         {
          "X": "-3.7",
          "Y": 0.36838149045388946
         },
         {
          "X": "-3.6",
          "Y": 0.37030838291788015
         },
         {
          "X": "-3.5",
          "Y": 0.37211558274556966
         },
         {
          "X": "-3.4000000000000004",
          "Y": 0.37211558274556966
         },
         {
          "X": "-3.3000000000000003",
          "Y": 0.37384738256930206
         },
         {
          "X": "-3.2",
          "Y": 0.3755449434101611
         },
         {
          "X": "-3.1",
          "Y": 0.3755449434101611
         },
         {
          "X": "-3.0",
          "Y": 0.3772480751398304
         },
         {
          "X": "-2.9000000000000004",
          "Y": 0.37899705573371917
         },
         {
          "X": "-2.8000000000000003",
          "Y": 0.37899705573371917
         },
         {
          "X": "-2.7",
          "Y": 0.38083449588509943
         },
         {
          "X": "-2.6",
          "Y": 0.38280725741564925
         },
         {
          "X": "-2.5",
          "Y": 0.38280725741564925
         },
         {
          "X": "-2.4000000000000004",
          "Y": 0.3849684113372761
         },
         {
          "X": "-2.3000000000000003",
          "Y": 0.3873791711476372
         },
         {
          "X": "-2.2",
          "Y": 0.3873791711476372
         },
         {
          "X": "-2.1",
          "Y": 0.39011065475843487
         },
         {
          "X": "-2.0",
          "Y": 0.39011065475843487
         },
         {
          "X": "-1.9000000000000001",
          "Y": 0.3932452124225093
         },
         {
          "X": "-1.8",
          "Y": 0.39687691406069014
         },
         {
          "X": "-1.7000000000000002",
          "Y": 0.39687691406069014
         },
         {
          "X": "-1.6",
          "Y": 0.40111063891079507
         },
         {
          "X": "-1.5",
          "Y": 0.40605909812160046
         },
         {
          "X": "-1.4000000000000001",
          "Y": 0.40605909812160046
         },
         {
          "X": "-1.3",
          "Y": 0.411837118023863
         },
         {
          "X": "-1.2000000000000002",
          "Y": 0.4185527075205363
         },
         {
          "X": "-1.1",
          "Y": 0.4185527075205363
         },
         {
          "X": "-1.0",
          "Y": 0.4262949066259649
         },
         {
          "X": "-0.9",
          "Y": 0.4351191853318484
         },
         {
          "X": "-0.8",
          "Y": 0.4351191853318484
         },
         {
          "X": "-0.7000000000000001",
          "Y": 0.44503213784611617
         },
         {
          "X": "-0.6000000000000001",
          "Y": 0.45597815209217085
         },
         {
          "X": "-0.5",
          "Y": 0.45597815209217085
         },
         {
          "X": "-0.4",
          "Y": 0.46783126231604555
         },
         {
          "X": "-0.30000000000000004",
          "Y": 0.48039514392594607
         },
         {
          "X": "-0.2",
          "Y": 0.48039514392594607
         },
         {
          "X": "-0.1",
          "Y": 0.49341299347184225
         },
         {
          "X": "0.0",
          "Y": 0.5065870065281575
         },
         {
          "X": "0.1",
          "Y": 0.5065870065281575
         },
         {
          "X": "0.2",
          "Y": 0.5196048560740535
         },
         {
          "X": "0.30000000000000004",
          "Y": 0.5196048560740535
         },
         {
          "X": "0.4",
          "Y": 0.5321687376839539
         },
         {
          "X": "0.5",
          "Y": 0.5440218479078287
         },
         {
          "X": "0.6000000000000001",
          "Y": 0.5440218479078287
         },
         {
          "X": "0.7000000000000001",
          "Y": 0.5549678621538834
         },
         {
          "X": "0.8",
          "Y": 0.5648808146681512
         },
         {
          "X": "0.9",
          "Y": 0.5648808146681512
         },
         {
          "X": "1.0",
          "Y": 0.5737050933740346
         },
         {
          "X": "1.1",
          "Y": 0.5814472924794634
         },
         {
          "X": "1.2000000000000002",
          "Y": 0.5814472924794634
         },
         {
          "X": "1.3",
          "Y": 0.5881628819761365
         },
         {
          "X": "1.4000000000000001",
          "Y": 0.5939409018783992
         },
         {
          "X": "1.5",
          "Y": 0.5939409018783992
         },
         {
          "X": "1.6",
          "Y": 0.5988893610892045
         },
         {
          "X": "1.7000000000000002",
          "Y": 0.6031230859393095
         },
         {
          "X": "1.8",
          "Y": 0.6031230859393095
         },
         {
          "X": "1.9000000000000001",
          "Y": 0.6067547875774904
         },
         {
          "X": "2.0",
          "Y": 0.6098893452415648
         },
         {
          "X": "2.1",
          "Y": 0.6098893452415648
         },
         {
          "X": "2.2",
          "Y": 0.6126208288523625
         },
         {
          "X": "2.3000000000000003",
          "Y": 0.6126208288523625
         },
         {
          "X": "2.4000000000000004",
          "Y": 0.6150315886627236
         },
         {
          "X": "2.5",
          "Y": 0.6171927425843504
         },
         {
          "X": "2.6",
          "Y": 0.6171927425843504
         },
         {
          "X": "2.7",
          "Y": 0.6191655041149003
         },
         {
          "X": "2.8000000000000003",
          "Y": 0.6210029442662806
         },
         {
          "X": "2.9000000000000004",
          "Y": 0.6210029442662806
         },
         {
          "X": "3.0",
          "Y": 0.6227519248601694
         },
         {
          "X": "3.1",
          "Y": 0.6244550565898387
         },
         {
          "X": "3.2",
          "Y": 0.6244550565898387
         },
         {
          "X": "3.3000000000000003",
          "Y": 0.6261526174306977
         },
         {
          "X": "3.4000000000000004",
          "Y": 0.62788441725443
         },
         {
          "X": "3.5",
          "Y": 0.62788441725443
         },
         {
          "X": "3.6",
          "Y": 0.6296916170821196
         },
         {
          "X": "3.7",
          "Y": 0.6316185095461102
         },
         {
          "X": "3.8000000000000003",
          "Y": 0.6316185095461102
         },
         {
          "X": "3.9000000000000004",
          "Y": 0.6337142417653744
         },
         {
          "X": "4.0",
          "Y": 0.6360344118464263
         },
         {
          "X": "4.1000000000000005",
          "Y": 0.6360344118464263
         },
         {
          "X": "4.2",
          "Y": 0.6386423940886967
         },
         {
          "X": "4.3",
          "Y": 0.6386423940886967
         },
         {
          "X": "4.4",
          "Y": 0.6416101471336293
         },
         {
          "X": "4.5",
          "Y": 0.6450181431888081
         },
         {
          "X": "4.6000000000000005",
          "Y": 0.6450181431888081
         },
         {
          "X": "4.7",
          "Y": 0.6489539486721451
         },
         {
          "X": "4.800000000000001",
          "Y": 0.6535089299370582
         },
         {
          "X": "4.9",
          "Y": 0.6535089299370582
         },
         {
          "X": "5.0",
          "Y": 0.6587726137166038
         },
         {
          "X": "5.1000000000000005",
          "Y": 0.6648244691378391
         },
         {
          "X": "5.2",
          "Y": 0.6648244691378391
         },
         {
          "X": "5.300000000000001",
          "Y": 0.6717233445050171
         },
         {
          "X": "5.4",
          "Y": 0.6794954732779257
         },
         {
          "X": "5.5",
          "Y": 0.6794954732779257
         },
         {
          "X": "5.6000000000000005",
          "Y": 0.6881227427289002
         },
         {
          "X": "5.7",
          "Y": 0.6975335636074815
         },
         {
          "X": "5.800000000000001",
          "Y": 0.6975335636074815
         },
         {
          "X": "5.9",
          "Y": 0.7075988887863228
         },
         {
          "X": "6.0",
          "Y": 0.7181354469038777
         },
         {
          "X": "6.1000000000000005",
          "Y": 0.7181354469038777
         },
         {
          "X": "6.2",
          "Y": 0.7289170189468667
         },
         {
          "X": "6.300000000000001",
          "Y": 0.7289170189468667
         },
         {
          "X": "6.4",
          "Y": 0.7396928231426825
         },
         {
          "X": "6.5",
          "Y": 0.7502102926459748
         },
         {
          "X": "6.6000000000000005",
          "Y": 0.7502102926459748
         },
         {
          "X": "6.7",
          "Y": 0.7602383369136194
         },
         {
          "X": "6.800000000000001",
          "Y": 0.7695870145530406
         },
         {
          "X": "6.9",
          "Y": 0.7695870145530406
         },
         {
          "X": "7.0",
          "Y": 0.7781204824863603
         },
         {
          "X": "7.1000000000000005",
          "Y": 0.785761782742934
         },
         {
          "X": "7.2",
          "Y": 0.785761782742934
         },
         {
          "X": "7.300000000000001",
          "Y": 0.7924898936701628
         },
         {
          "X": "7.4",
          "Y": 0.7983309314140384
         },
         {
          "X": "7.5",
          "Y": 0.7983309314140384
         },
         {
          "X": "7.6000000000000005",
          "Y": 0.8033461023822762
         },
         {
          "X": "7.7",
          "Y": 0.8076189563391428
         },
         {
          "X": "7.800000000000001",
          "Y": 0.8076189563391428
         },
         {
          "X": "7.9",
          "Y": 0.811243895629973
         },
         {
          "X": "8.0",
          "Y": 0.8143170769845423
         },
         {
          "X": "8.1",
          "Y": 0.8143170769845423
         },
         {
          "X": "8.200000000000001",
          "Y": 0.8169300740501606
         },
         {
          "X": "8.3",
          "Y": 0.8191661114945753
         },
         {
          "X": "8.4",
          "Y": 0.8191661114945753
         },
         {
          "X": "8.5",
          "Y": 0.8210983763800495
         },
         {
          "X": "8.6",
          "Y": 0.8210983763800495
         },
         {
          "X": "8.700000000000001",
          "Y": 0.8227898198086396
         },
         {
          "X": "8.8",
          "Y": 0.8242939081859078
         },
         {
          "X": "8.9",
          "Y": 0.8242939081859078
         },
         {
          "X": "9.0",
          "Y": 0.8256558972448677
         },
         {
          "X": "9.1",
          "Y": 0.8269143308946959
         },
         {
          "X": "9.200000000000001",
          "Y": 0.8269143308946959
         },
         {
          "X": "9.3",
          "Y": 0.8281025810682368
         },
         {
          "X": "9.4",
          "Y": 0.8292503318235764
         },
         {
          "X": "9.5",
          "Y": 0.8292503318235764
         },
         {
          "X": "9.600000000000001",
          "Y": 0.8303849696779595
         },
         {
          "X": "9.700000000000001",
          "Y": 0.831532876151847
         },
         {
          "X": "9.8",
          "Y": 0.831532876151847
         },
         {
          "X": "9.9",
          "Y": 0.8327206324246175
         },
         {
          "X": "10.0",
          "Y": 0.8339761434307527
         },
         {
          "X": "10.100000000000001",
          "Y": 0.8339761434307527
         },
         {
          "X": "10.200000000000001",
          "Y": 0.8353296714952961
         },
         {
          "X": "10.3",
          "Y": 0.836814738171832
         },
         {
          "X": "10.4",
          "Y": 0.836814738171832
         },
         {
          "X": "10.5",
          "Y": 0.83846880759365
         },
         {
          "X": "10.600000000000001",
          "Y": 0.8403336076060244
         },
         {
          "X": "10.700000000000001",
          "Y": 0.8403336076060244
         },
         {
          "X": "10.8",
          "Y": 0.8424548832980812
         },
         {
          "X": "10.9",
          "Y": 0.8424548832980812
         },
         {
          "X": "11.0",
          "Y": 0.8448813264582116
         },
         {
          "X": "11.100000000000001",
          "Y": 0.8476624093033234
         },
         {
          "X": "11.200000000000001",
          "Y": 0.8476624093033234
         },
         {
          "X": "11.3",
          "Y": 0.8508449056828183
         },
         {
          "X": "11.4",
          "Y": 0.85446804255021
         },
         {
          "X": "11.5",
          "Y": 0.85446804255021
         },
         {
          "X": "11.600000000000001",
          "Y": 0.8585575075483336
         },
         {
          "X": "11.700000000000001",
          "Y": 0.8631189250994242
         },
         {
          "X": "11.8",
          "Y": 0.8631189250994242
         },
         {
          "X": "11.9",
          "Y": 0.8681318253447525
         },
         {
          "X": "12.0",
          "Y": 0.8735454308364713
         },
         {
          "X": "12.100000000000001",
          "Y": 0.8735454308364713
         },
         {
          "X": "12.200000000000001",
          "Y": 0.8792776123830781
         },
         {
          "X": "12.3",
          "Y": 0.8852179966773424
         },
         {
          "X": "12.4",
          "Y": 0.8852179966773424
         },
         {
          "X": "12.5",
          "Y": 0.8912354429899314
         },
         {
          "X": "12.600000000000001",
          "Y": 0.8971891082959949
         },
         {
          "X": "12.700000000000001",
          "Y": 0.8971891082959949
         },
         {
          "X": "12.8",
          "Y": 0.9029413897259391
         },
         {
          "X": "12.9",
          "Y": 0.908370496095573
         },
         {
          "X": "13.0",
          "Y": 0.908370496095573
         },
         {
          "X": "13.100000000000001",
          "Y": 0.9133804634008622
         },
         {
          "X": "13.200000000000001",
          "Y": 0.9133804634008622
         },
         {
          "X": "13.3",
          "Y": 0.9179070790652761
         },
         {
          "X": "13.4",
          "Y": 0.9219191851821611
         },
         {
          "X": "13.5",
          "Y": 0.9219191851821611
         },
         {
          "X": "13.600000000000001",
          "Y": 0.9254158501269696
         },
         {
          "X": "13.700000000000001",
          "Y": 0.9284206281539926
         },
         {
          "X": "13.8",
          "Y": 0.9284206281539926
         },
         {
          "X": "13.9",
          "Y": 0.9309744165741947
         },
         {
          "X": "14.0",
          "Y": 0.9331282950896734
         },
         {
          "X": "14.100000000000001",
          "Y": 0.9331282950896734
         },
         {
          "X": "14.200000000000001",
          "Y": 0.934937339670403
         },
         {
          "X": "14.3",
          "Y": 0.9364559266995969
         },
         {
          "X": "14.4",
          "Y": 0.9364559266995969
         },
         {
          "X": "14.5",
          "Y": 0.93773462685727
         },
         {
          "X": "14.600000000000001",
          "Y": 0.9388185068450614
         },
         {
          "X": "14.700000000000001",
          "Y": 0.9388185068450614
         },
         {
          "X": "14.8",
          "Y": 0.9397465197834554
         },
         {
          "X": "14.9",
          "Y": 0.9405516408735926
         },
         {
          "X": "15.0",
          "Y": 0.9405516408735926
         },
         {
          "X": "15.100000000000001",
          "Y": 0.9412614491881812
         },
         {
          "X": "15.200000000000001",
          "Y": 0.9412614491881812
         },
         {
          "X": "15.3",
          "Y": 0.9418989295551307
         },
         {
          "X": "15.4",
          "Y": 0.9424833434047302
         },
         {
          "X": "15.5",
          "Y": 0.9424833434047302
         },
         {
          "X": "15.600000000000001",
          "Y": 0.9430310800324204
         },
         {
          "X": "15.700000000000001",
          "Y": 0.9435564453160084
         },
         {
          "X": "15.8",
          "Y": 0.9435564453160084
         },
         {
          "X": "15.9",
          "Y": 0.9440723742428547
         },
         {
          "X": "16.0",
          "Y": 0.944591069540428
         },
         {
          "X": "16.1",
          "Y": 0.944591069540428
         },
         {
          "X": "16.2",
          "Y": 0.9451245743236276
         },
         {
          "X": "16.3",
          "Y": 0.9456852842587599
         },
         {
          "X": "16.400000000000002",
          "Y": 0.9456852842587599
         },
         {
          "X": "16.5",
          "Y": 0.946286395595261
         },
         {
          "X": "16.6",
          "Y": 0.9469422701364122
         },
         {
          "X": "16.7",
          "Y": 0.9469422701364122
         },
         {
          "X": "16.8",
          "Y": 0.9476686774093787
         },
         {
          "X": "16.900000000000002",
          "Y": 0.9476686774093787
         },
         {
          "X": "17.0",
          "Y": 0.9484828496115969
         },
         {
          "X": "17.1",
          "Y": 0.9494032604290038
         },
         {
          "X": "17.2",
          "Y": 0.9494032604290038
         },
         {
          "X": "17.3",
          "Y": 0.9504490223590111
         },
         {
          "X": "17.400000000000002",
          "Y": 0.9516388008281241
         },
         {
          "X": "17.5",
          "Y": 0.9516388008281241
         },
         {
          "X": "17.6",
          "Y": 0.9529891820893859
         },
         {
          "X": "17.7",
          "Y": 0.9545125185924676
         },
         {
          "X": "17.8",
          "Y": 0.9545125185924676
         },
         {
          "X": "17.900000000000002",
          "Y": 0.956214412858754
         },
         {
          "X": "18.0",
          "Y": 0.9580911711089866
         },
         {
          "X": "18.1",
          "Y": 0.9580911711089866
         },
         {
          "X": "18.2",
          "Y": 0.9601277165579789
         },
         {
          "X": "18.3",
          "Y": 0.9601277165579789
         },
         {
          "X": "18.400000000000002",
          "Y": 0.9622965331912958
         },
         {
          "X": "18.5",
          "Y": 0.9645581471201814
         },
         {
          "X": "18.6",
          "Y": 0.9645581471201814
         },
         {
          "X": "18.7",
          "Y": 0.966863410823968
         },
         {
          "X": "18.8",
          "Y": 0.9691574673899988
         },
         {
          "X": "18.900000000000002",
          "Y": 0.9691574673899988
         },
         {
          "X": "19.0",
          "Y": 0.9713848415729138
         },
         {
          "X": "19.1",
          "Y": 0.9734947782391862
         },
         {
          "X": "19.200000000000003",
          "Y": 0.9734947782391862
         },
         {
          "X": "19.3",
          "Y": 0.9754458527614253
         },
         {
          "X": "19.400000000000002",
          "Y": 0.9754458527614253
         },
         {
          "X": "19.5",
          "Y": 0.97720905678869
         },
         {
          "X": "19.6",
          "Y": 0.978768954396525
         },
         {
          "X": "19.700000000000003",
          "Y": 0.978768954396525
         },
         {
          "X": "19.8",
          "Y": 0.9801229673000588
         },
         {
          "X": "19.900000000000002",
          "Y": 0.9812792301869003
         },
         {
          "X": "20.0",
          "Y": 0.9812792301869003
         },
         {
          "X": "20.1",
          "Y": 0.9822536571323593
         },
         {
          "X": "20.200000000000003",
          "Y": 0.9830668593537011
         },
         {
          "X": "20.3",
          "Y": 0.9830668593537011
         },
         {
          "X": "20.400000000000002",
          "Y": 0.9837414058010754
         },
         {
          "X": "20.5",
          "Y": 0.9837414058010754
         },
         {
          "X": "20.6",
          "Y": 0.984299705531791
         },
         {
          "X": "20.700000000000003",
          "Y": 0.9847625905074449
         },
         {
          "X": "20.8",
          "Y": 0.9847625905074449
         },
         {
          "X": "20.900000000000002",
          "Y": 0.9851485343193656
         },
         {
          "X": "21.0",
          "Y": 0.9854733677090637
         },
         {
          "X": "21.1",
          "Y": 0.9854733677090637
         },
         {
          "X": "21.200000000000003",
          "Y": 0.9857503338798792
         },
         {
          "X": "21.3",
          "Y": 0.9859903444729616
         },
         {
          "X": "21.400000000000002",
          "Y": 0.9859903444729616
         },
         {
          "X": "21.5",
          "Y": 0.9862023307226698
         },
         {
          "X": "21.6",
          "Y": 0.9862023307226698
         },
         {
          "X": "21.700000000000003",
          "Y": 0.9863936196853481
         },
         {
          "X": "21.8",
          "Y": 0.9865702950887938
         },
         {
          "X": "21.900000000000002",
          "Y": 0.9865702950887938
         },
         {
          "X": "22.0",
          "Y": 0.986737523780977
         },
         {
          "X": "22.1",
          "Y": 0.9868998423316103
         },
         {
          "X": "22.200000000000003",
          "Y": 0.9868998423316103
         },
         {
          "X": "22.3",
          "Y": 0.9870614055835315
         },
         {
          "X": "22.400000000000002",
          "Y": 0.9870614055835315
         },
         {
          "X": "22.5",
          "Y": 0.9872262014928861
         },
         {
          "X": "22.6",
          "Y": 0.9873982356847499
         },
         {
          "X": "22.700000000000003",
          "Y": 0.9873982356847499
         },
         {
          "X": "22.8",
          "Y": 0.9875816855447397
         },
         {
          "X": "22.900000000000002",
          "Y": 0.9877810177847824
         },
         {
          "X": "23.0",
          "Y": 0.9877810177847824
         },
         {
          "X": "23.1",
          "Y": 0.9880010556576203
         },
         {
          "X": "23.200000000000003",
          "Y": 0.9880010556576203
         },
         {
          "X": "23.3",
          "Y": 0.9882469731948799
         },
         {
          "X": "23.400000000000002",
          "Y": 0.988524185875328
         },
         {
          "X": "23.5",
          "Y": 0.988524185875328
         },
         {
          "X": "23.6",
          "Y": 0.9888381033841727
         },
         {
          "X": "23.700000000000003",
          "Y": 0.9888381033841727
         },
         {
          "X": "23.8",
          "Y": 0.9891937155663348
         },
         {
          "X": "23.900000000000002",
          "Y": 0.9895950028830542
         },
         {
          "X": "24.0",
          "Y": 0.9895950028830542
         },
         {
          "X": "24.1",
          "Y": 0.9900442013608686
         },
         {
          "X": "24.200000000000003",
          "Y": 0.9905410071495426
         },
         {
          "X": "24.3",
          "Y": 0.9905410071495426
         },
         {
          "X": "24.400000000000002",
          "Y": 0.991081865804651
         },
         {
          "X": "24.5",
          "Y": 0.991081865804651
         },
         {
          "X": "24.6",
          "Y": 0.9916595343031189
         },
         {
          "X": "24.700000000000003",
          "Y": 0.9922631025314641
         },
         {
          "X": "24.8",
          "Y": 0.9922631025314641
         },
         {
          "X": "24.900000000000002",
          "Y": 0.9928785957107
         },
         {
          "X": "25.0",
          "Y": 0.9928785957107
         },
         {
          "X": "25.1",
          "Y": 0.9934901521624402
         },
         {
          "X": "25.200000000000003",
          "Y": 0.9940816144229472
         },
         {
          "X": "25.3",
          "Y": 0.9940816144229472
         },
         {
          "X": "25.400000000000002",
          "Y": 0.9946382411894772
         },
         {
          "X": "25.5",
          "Y": 0.9946382411894772
         },
         {
          "X": "25.6",
          "Y": 0.9951481972851932
         },
         {
          "X": "25.700000000000003",
          "Y": 0.995603533941928
         },
         {
          "X": "25.8",
          "Y": 0.995603533941928
         },
         {
          "X": "25.900000000000002",
          "Y": 0.9960005129720837
         },
         {
          "X": "26.0",
          "Y": 0.9960005129720837
         },
         {
          "X": "26.1",
          "Y": 0.9963393008750812
         },
         {
          "X": "26.200000000000003",
          "Y": 0.9966231997971956
         },
         {
          "X": "26.3",
          "Y": 0.9966231997971956
         },
         {
          "X": "26.400000000000002",
          "Y": 0.9968576503520171
         },
         {
          "X": "26.5",
          "Y": 0.9968576503520171
         },
         {
          "X": "26.6",
          "Y": 0.9970492311528175
         },
         {
          "X": "26.700000000000003",
          "Y": 0.9972048156790099
         },
         {
          "X": "26.8",
          "Y": 0.9972048156790099
         },
         {
          "X": "26.900000000000002",
          "Y": 0.9973309644383842
         },
         {
          "X": "27.0",
          "Y": 0.9973309644383842
         },
         {
          "X": "27.1",
          "Y": 0.9974335588885777
         },
         {
          "X": "27.200000000000003",
          "Y": 0.997517638117061
         },
         {
          "X": "27.3",
          "Y": 0.997517638117061
         },
         {
          "X": "27.400000000000002",
          "Y": 0.9975873807354682
         },
         {
          "X": "27.5",
          "Y": 0.9975873807354682
         },
         {
          "X": "27.6",
          "Y": 0.9976461755478261
         },
         {
          "X": "27.700000000000003",
          "Y": 0.9976967360042525
         },
         {
          "X": "27.8",
          "Y": 0.9976967360042525
         },
         {
          "X": "27.900000000000002",
          "Y": 0.9977412277634439
         },
         {
          "X": "28.0",
          "Y": 0.9977412277634439
         },
         {
          "X": "28.1",
          "Y": 0.9977813914332878
         },
         {
          "X": "28.200000000000003",
          "Y": 0.9978186519755019
         },
         {
          "X": "28.3",
          "Y": 0.9978186519755019
         },
         {
          "X": "28.400000000000002",
          "Y": 0.9978542122482108
         },
         {
          "X": "28.5",
          "Y": 0.9978542122482108
         },
         {
          "X": "28.6",
          "Y": 0.9978891313616916
         },
         {
          "X": "28.700000000000003",
          "Y": 0.9979243897174102
         },
         {
          "X": "28.8",
          "Y": 0.9979243897174102
         },
         {
          "X": "28.900000000000002",
          "Y": 0.9979609424175928
         },
         {
          "X": "29.0",
          "Y": 0.9979609424175928
         },
         {
          "X": "29.1",
          "Y": 0.9979997615759882
         },
         {
          "X": "29.200000000000003",
          "Y": 0.9979997615759882
         },
         {
          "X": "29.3",
          "Y": 0.9980418661661387
         },
         {
          "X": "29.400000000000002",
          "Y": 0.998088335616378
         },
         {
          "X": "29.5",
          "Y": 0.998088335616378
         },
         {
          "X": "29.6",
          "Y": 0.9981403007704623
         },
         {
          "X": "29.700000000000003",
          "Y": 0.9981403007704623
         },
         {
          "X": "29.8",
          "Y": 0.9981989038352777
         },
         {
          "X": "29.900000000000002",
          "Y": 0.9981989038352777
         },
         {
          "X": "30.0",
          "Y": 0.9982652188335839
         },
         {
          "X": "30.1",
          "Y": 0.9983401276280297
         },
         {
          "X": "30.200000000000003",
          "Y": 0.9983401276280297
         },
         {
          "X": "30.3",
          "Y": 0.9984241554176371
         },
         {
          "X": "30.400000000000002",
          "Y": 0.9984241554176371
         },
         {
          "X": "30.5",
          "Y": 0.9985172840376115
         },
         {
          "X": "30.6",
          "Y": 0.9985172840376115
         },
         {
          "X": "30.700000000000003",
          "Y": 0.998618778862042
         },
         {
          "X": "30.8",
          "Y": 0.9987270793023452
         },
         {
          "X": "30.900000000000002",
          "Y": 0.9987270793023452
         },
         {
          "X": "31.0",
          "Y": 0.9988398049130147
         },
         {
          "X": "31.1",
          "Y": 0.9988398049130147
         },
         {
          "X": "31.200000000000003",
          "Y": 0.9989539115441033
         },
         {
          "X": "31.3",
          "Y": 0.9989539115441033
         },
         {
          "X": "31.400000000000002",
          "Y": 0.9990659945985311
         },
         {
          "X": "31.5",
          "Y": 0.9991726898814643
         },
         {
          "X": "31.6",
          "Y": 0.9991726898814643
         },
         {
          "X": "31.700000000000003",
          "Y": 0.9992710857008681
         },
         {
          "X": "31.8",
          "Y": 0.9992710857008681
         },
         {
          "X": "31.900000000000002",
          "Y": 0.9993590507874517
         },
         {
          "X": "32.0",
          "Y": 0.9993590507874517
         },
         {
          "X": "32.1",
          "Y": 0.9994354074302303
         },
         {
          "X": "32.2",
          "Y": 0.9994999276640286
         },
         {
          "X": "32.300000000000004",
          "Y": 0.9994999276640286
         },
         {
          "X": "32.4",
          "Y": 0.9995531811668403
         },
         {
          "X": "32.5",
          "Y": 0.9995531811668403
         },
         {
          "X": "32.6",
          "Y": 0.9995962966647416
         },
         {
          "X": "32.7",
          "Y": 0.9995962966647416
         },
         {
          "X": "32.800000000000004",
          "Y": 0.9996307053064095
         },
         {
          "X": "32.9",
          "Y": 0.9996307053064095
         },
         {
          "X": "33.0",
          "Y": 0.9996579190853335
         },
         {
          "X": "33.1",
          "Y": 0.9996793719709077
         },
         {
          "X": "33.2",
          "Y": 0.9996793719709077
         },
         {
          "X": "33.300000000000004",
          "Y": 0.9996963277441757
         },
         {
          "X": "33.4",
          "Y": 0.9996963277441757
         },
         {
          "X": "33.5",
          "Y": 0.9997098432437908
         },
         {
          "X": "33.6",
          "Y": 0.9997098432437908
         },
         {
          "X": "33.7",
          "Y": 0.9997207697274938
         },
         {
          "X": "33.800000000000004",
          "Y": 0.9997207697274938
         },
         {
          "X": "33.9",
          "Y": 0.9997297757718466
         },
         {
          "X": "34.0",
          "Y": 0.9997297757718466
         },
         {
          "X": "34.1",
          "Y": 0.9997373791354407
         },
         {
          "X": "34.2",
          "Y": 0.9997439796372014
         },
         {
          "X": "34.300000000000004",
          "Y": 0.9997439796372014
         },
         {
          "X": "34.4",
          "Y": 0.9997498889248722
         },
         {
          "X": "34.5",
          "Y": 0.9997498889248722
         },
         {
          "X": "34.6",
          "Y": 0.999755355594271
         },
         {
          "X": "34.7",
          "Y": 0.999755355594271
         },
         {
          "X": "34.800000000000004",
          "Y": 0.9997605855806821
         },
         {
          "X": "34.9",
          "Y": 0.9997605855806821
         },
         {
          "X": "35.0",
          "Y": 0.9997657583810091
         },
         {
          "X": "35.1",
          "Y": 0.9997657583810091
         },
         {
          "X": "35.2",
          "Y": 0.9997710397668798
         },
         {
          "X": "35.300000000000004",
          "Y": 0.9997710397668798
         },
         {
          "X": "35.4",
          "Y": 0.9997765914167926
         },
         {
          "X": "35.5",
          "Y": 0.9997825774500055
         },
         {
          "X": "35.6",
          "Y": 0.9997825774500055
         },
         {
          "X": "35.7",
          "Y": 0.9997891672690263
         },
         {
          "X": "35.800000000000004",
          "Y": 0.9997891672690263
         },
         {
          "X": "35.9",
          "Y": 0.9997965335216521
         },
         {
          "X": "36.0",
          "Y": 0.9997965335216521
         },
         {
          "X": "36.1",
          "Y": 0.9998048435873694
         },
         {
          "X": "36.2",
          "Y": 0.9998048435873694
         },
         {
          "X": "36.300000000000004",
          "Y": 0.9998142431315652
         },
         {
          "X": "36.4",
          "Y": 0.9998142431315652
         },
         {
          "X": "36.5",
          "Y": 0.9998248314087508
         },
         {
          "X": "36.6",
          "Y": 0.9998248314087508
         },
         {
          "X": "36.7",
          "Y": 0.9998366304670752
         },
         {
          "X": "36.800000000000004",
          "Y": 0.9998366304670752
         },
         {
          "X": "36.9",
          "Y": 0.9998495540149928
         },
         {
          "X": "37.0",
          "Y": 0.9998495540149928
         },
         {
          "X": "37.1",
          "Y": 0.9998633853091711
         },
         {
          "X": "37.2",
          "Y": 0.9998777749064398
         },
         {
          "X": "37.300000000000004",
          "Y": 0.9998777749064398
         },
         {
          "X": "37.4",
          "Y": 0.9998922662967864
         },
         {
          "X": "37.5",
          "Y": 0.9998922662967864
         },
         {
          "X": "37.6",
          "Y": 0.9999063496634941
         },
         {
          "X": "37.7",
          "Y": 0.9999063496634941
         },
         {
          "X": "37.800000000000004",
          "Y": 0.9999195336126131
         },
         {
          "X": "37.9",
          "Y": 0.9999195336126131
         },
         {
          "X": "38.0",
          "Y": 0.9999314165393559
         },
         {
          "X": "38.1",
          "Y": 0.9999314165393559
         },
         {
          "X": "38.2",
          "Y": 0.9999417380798485
         },
         {
          "X": "38.300000000000004",
          "Y": 0.9999417380798485
         },
         {
          "X": "38.400000000000006",
          "Y": 0.9999503980817916
         },
         {
          "X": "38.5",
          "Y": 0.9999503980817916
         },
         {
          "X": "38.6",
          "Y": 0.9999574422779903
         },
         {
          "X": "38.7",
          "Y": 0.9999574422779903
         },
         {
          "X": "38.800000000000004",
          "Y": 0.9999630244299922
         },
         {
          "X": "38.900000000000006",
          "Y": 0.9999630244299922
         },
         {
          "X": "39.0",
          "Y": 0.9999673595741378
         },
         {
          "X": "39.1",
          "Y": 0.9999673595741378
         },
         {
          "X": "39.2",
          "Y": 0.9999706814198057
         },
         {
          "X": "39.300000000000004",
          "Y": 0.9999706814198057
         },
         {
          "X": "39.400000000000006",
          "Y": 0.9999732114851594
         },
         {
          "X": "39.5",
          "Y": 0.9999732114851594
         },
         {
          "X": "39.6",
          "Y": 0.9999751416848883
         },
         {
          "X": "39.7",
          "Y": 0.9999751416848883
         },
         {
          "X": "39.800000000000004",
          "Y": 0.9999766281101696
         },
         {
          "X": "39.900000000000006",
          "Y": 0.9999766281101696
         },
         {
          "X": "40.0",
          "Y": 0.9999777921919892
         },
         {
          "X": "40.1",
          "Y": 0.9999777921919892
         },
         {
          "X": "40.2",
          "Y": 0.9999787256573851
         },
         {
          "X": "40.300000000000004",
          "Y": 0.9999787256573851
         },
         {
          "X": "40.400000000000006",
          "Y": 0.9999794967070417
         },
         {
          "X": "40.5",
          "Y": 0.9999794967070417
         },
         {
          "X": "40.6",
          "Y": 0.9999801559392141
         },
         {
          "X": "40.7",
          "Y": 0.9999801559392141
         },
         {
          "X": "40.800000000000004",
          "Y": 0.9999807413763587
         },
         {
          "X": "40.900000000000006",
          "Y": 0.9999807413763587
         },
         {
          "X": "41.0",
          "Y": 0.999981282453061
         },
         {
          "X": "41.1",
          "Y": 0.999981282453061
         },
         {
          "X": "41.2",
          "Y": 0.9999818030633086
         },
         {
          "X": "41.300000000000004",
          "Y": 0.9999818030633086
         },
         {
          "X": "41.400000000000006",
          "Y": 0.9999823238350509
         },
         {
          "X": "41.5",
          "Y": 0.9999823238350509
         },
         {
          "X": "41.6",
          "Y": 0.9999828637736952
         },
         {
          "X": "41.7",
          "Y": 0.9999828637736952
         },
         {
          "X": "41.800000000000004",
          "Y": 0.9999834413388196
         },
         {
          "X": "41.900000000000006",
          "Y": 0.9999834413388196
         },
         {
          "X": "42.0",
          "Y": 0.9999840749165055
         },
         {
          "X": "42.1",
          "Y": 0.9999840749165055
         },
         {
          "X": "42.2",
          "Y": 0.9999847825484027
         },
         {
          "X": "42.300000000000004",
          "Y": 0.9999847825484027
         },
         {
          "X": "42.400000000000006",
          "Y": 0.9999855807193625
         },
         {
          "X": "42.5",
          "Y": 0.9999855807193625
         },
         {
          "X": "42.6",
          "Y": 0.9999864820559662
         },
         {
          "X": "42.7",
          "Y": 0.9999864820559662
         },
         {
          "X": "42.800000000000004",
          "Y": 0.999987492027981
         },
         {
          "X": "42.900000000000006",
          "Y": 0.999987492027981
         },
         {
          "X": "43.0",
          "Y": 0.999987492027981
         },
         {
          "X": "43.1",
          "Y": 0.9999886052072273
         },
         {
          "X": "43.2",
          "Y": 0.9999886052072273
         },
         {
          "X": "43.300000000000004",
          "Y": 0.9999898022173063
         },
         {
          "X": "43.400000000000006",
          "Y": 0.9999898022173063
         },
         {
          "X": "43.5",
          "Y": 0.9999910488950509
         },
         {
          "X": "43.6",
          "Y": 0.9999910488950509
         },
         {
          "X": "43.7",
          "Y": 0.9999922989607242
         },
         {
          "X": "43.800000000000004",
          "Y": 0.9999922989607242
         },
         {
          "X": "43.900000000000006",
          "Y": 0.9999935004283533
         },
         {
          "X": "44.0",
          "Y": 0.9999935004283533
         },
         {
          "X": "44.1",
          "Y": 0.9999946043832666
         },
         {
          "X": "44.2",
          "Y": 0.9999946043832666
         },
         {
          "X": "44.300000000000004",
          "Y": 0.9999955734633336
         },
         {
          "X": "44.400000000000006",
          "Y": 0.9999955734633336
         },
         {
          "X": "44.5",
          "Y": 0.999996387281974
         },
         {
          "X": "44.6",
          "Y": 0.999996387281974
         },
         {
          "X": "44.7",
          "Y": 0.999996387281974
         },
         {
          "X": "44.800000000000004",
          "Y": 0.9999970433060428
         },
         {
          "X": "44.900000000000006",
          "Y": 0.9999970433060428
         },
         {
          "X": "45.0",
          "Y": 0.9999975536069968
         },
         {
          "X": "45.1",
          "Y": 0.9999975536069968
         },
         {
          "X": "45.2",
          "Y": 0.9999979393300986
         },
         {
          "X": "45.300000000000004",
          "Y": 0.9999979393300986
         },
         {
          "X": "45.400000000000006",
          "Y": 0.9999982250291397
         },
         {
          "X": "45.5",
          "Y": 0.9999982250291397
         },
         {
          "X": "45.6",
          "Y": 0.9999984343548851
         },
         {
          "X": "45.7",
          "Y": 0.9999984343548851
         },
         {
          "X": "45.800000000000004",
          "Y": 0.9999985875998911
         },
         {
          "X": "45.900000000000006",
          "Y": 0.9999985875998911
         },
         {
          "X": "46.0",
          "Y": 0.9999985875998911
         },
         {
          "X": "46.1",
          "Y": 0.9999987008502021
         },
         {
          "X": "46.2",
          "Y": 0.9999987008502021
         },
         {
          "X": "46.300000000000004",
          "Y": 0.9999987861761132
         },
         {
          "X": "46.400000000000006",
          "Y": 0.9999987861761132
         },
         {
          "X": "46.5",
          "Y": 0.999998852315344
         },
         {
          "X": "46.6",
          "Y": 0.999998852315344
         },
         {
          "X": "46.7",
          "Y": 0.9999989054737494
         },
         {
          "X": "46.800000000000004",
          "Y": 0.9999989054737494
         },
         {
          "X": "46.900000000000006",
          "Y": 0.999998950048466
         },
         {
          "X": "47.0",
          "Y": 0.999998950048466
         },
         {
          "X": "47.1",
          "Y": 0.999998950048466
         },
         {
          "X": "47.2",
          "Y": 0.9999989892047862
         },
         {
          "X": "47.300000000000004",
          "Y": 0.9999989892047862
         },
         {
          "X": "47.400000000000006",
          "Y": 0.999999025305803
         },
         {
          "X": "47.5",
          "Y": 0.999999025305803
         },
         {
          "X": "47.6",
          "Y": 0.9999990602199127
         },
         {
          "X": "47.7",
          "Y": 0.9999990602199127
         },
         {
          "X": "47.800000000000004",
          "Y": 0.9999990955338498
         },
         {
          "X": "47.900000000000006",
          "Y": 0.9999990955338498
         },
         {
          "X": "48.0",
          "Y": 0.9999990955338498
         },
         {
          "X": "48.1",
          "Y": 0.9999991326904216
         },
         {
          "X": "48.2",
          "Y": 0.9999991326904216
         },
         {
          "X": "48.300000000000004",
          "Y": 0.9999991730573136
         },
         {
          "X": "48.400000000000006",
          "Y": 0.9999991730573136
         },
         {
          "X": "48.5",
          "Y": 0.9999992179205228
         },
         {
          "X": "48.6",
          "Y": 0.9999992179205228
         },
         {
          "X": "48.7",
          "Y": 0.9999992683882706
         },
         {
          "X": "48.800000000000004",
          "Y": 0.9999992683882706
         },
         {
          "X": "48.900000000000006",
          "Y": 0.9999992683882706
         },
         {
          "X": "49.0",
          "Y": 0.9999993251966358
         },
         {
          "X": "49.1",
          "Y": 0.9999993251966358
         },
         {
          "X": "49.2",
          "Y": 0.9999993884357143
         },
         {
          "X": "49.300000000000004",
          "Y": 0.9999993884357143
         },
         {
          "X": "49.400000000000006",
          "Y": 0.9999994572663948
         },
         {
          "X": "49.5",
          "Y": 0.9999994572663948
         },
         {
          "X": "49.6",
          "Y": 0.9999995297538993
         },
         {
          "X": "49.7",
          "Y": 0.9999995297538993
         },
         {
          "X": "49.800000000000004",
          "Y": 0.9999995297538993
         },
         {
          "X": "49.900000000000006",
          "Y": 0.9999996029610316
         },
         {
          "X": "50.0",
          "Y": 0.9999996029610316
         },
         {
          "X": "50.1",
          "Y": 0.9999996733757158
         },
         {
          "X": "50.2",
          "Y": 0.9999996733757158
         },
         {
          "X": "50.300000000000004",
          "Y": 0.9999997375957197
         },
         {
          "X": "50.400000000000006",
          "Y": 0.9999997375957197
         },
         {
          "X": "50.5",
          "Y": 0.9999997375957197
         },
         {
          "X": "50.6",
          "Y": 0.9999997930389446
         },
         {
          "X": "50.7",
          "Y": 0.9999997930389446
         },
         {
          "X": "50.800000000000004",
          "Y": 0.9999998384054289
         },
         {
          "X": "50.900000000000006",
          "Y": 0.9999998384054289
         },
         {
          "X": "51.0",
          "Y": 0.9999998737344211
         },
         {
          "X": "51.1",
          "Y": 0.9999998737344211
         },
         {
          "X": "51.2",
          "Y": 0.9999998737344211
         },
         {
          "X": "51.300000000000004",
          "Y": 0.9999999000996413
         },
         {
          "X": "51.400000000000006",
          "Y": 0.9999999000996413
         },
         {
          "X": "51.5",
          "Y": 0.9999999191316659
         },
         {
          "X": "51.6",
          "Y": 0.9999999191316659
         },
         {
          "X": "51.7",
          "Y": 0.9999999191316659
         },
         {
          "X": "51.800000000000004",
          "Y": 0.9999999325715065
         },
         {
          "X": "51.900000000000006",
          "Y": 0.9999999325715065
         },
         {
          "X": "52.0",
          "Y": 0.9999999419743056
         },
         {
          "X": "52.1",
          "Y": 0.9999999419743056
         },
         {
          "X": "52.2",
          "Y": 0.9999999485792699
         },
         {
          "X": "52.300000000000004",
          "Y": 0.9999999485792699
         },
         {
          "X": "52.400000000000006",
          "Y": 0.9999999485792699
         },
         {
          "X": "52.5",
          "Y": 0.9999999532999442
         },
         {
          "X": "52.6",
          "Y": 0.9999999532999442
         },
         {
          "X": "52.7",
          "Y": 0.9999999567758553
         },
         {
          "X": "52.800000000000004",
          "Y": 0.9999999567758553
         },
         {
          "X": "52.900000000000006",
          "Y": 0.9999999594414475
         },
         {
          "X": "53.0",
          "Y": 0.9999999594414475
         },
         {
          "X": "53.1",
          "Y": 0.9999999594414475
         },
         {
          "X": "53.2",
          "Y": 0.9999999615889567
         },
         {
          "X": "53.300000000000004",
          "Y": 0.9999999615889567
         },
         {
          "X": "53.400000000000006",
          "Y": 0.9999999634171872
         },
         {
          "X": "53.5",
          "Y": 0.9999999634171872
         },
         {
          "X": "53.6",
          "Y": 0.9999999634171872
         },
         {
          "X": "53.7",
          "Y": 0.9999999650661962
         },
         {
          "X": "53.800000000000004",
          "Y": 0.9999999650661962
         },
         {
          "X": "53.900000000000006",
          "Y": 0.9999999666407384
         },
         {
          "X": "54.0",
          "Y": 0.9999999666407384
         },
         {
          "X": "54.1",
          "Y": 0.9999999666407384
         },
         {
          "X": "54.2",
          "Y": 0.9999999682254676
         },
         {
          "X": "54.300000000000004",
          "Y": 0.9999999682254676
         },
         {
          "X": "54.400000000000006",
          "Y": 0.9999999698939385
         },
         {
          "X": "54.5",
          "Y": 0.9999999698939385
         },
         {
          "X": "54.6",
          "Y": 0.9999999698939385
         },
         {
          "X": "54.7",
          "Y": 0.999999971712249
         },
         {
          "X": "54.800000000000004",
          "Y": 0.999999971712249
         },
         {
          "X": "54.900000000000006",
          "Y": 0.9999999737371548
         },
         {
          "X": "55.0",
          "Y": 0.9999999737371548
         },
         {
          "X": "55.1",
          "Y": 0.9999999737371548
         },
         {
          "X": "55.2",
          "Y": 0.9999999760082163
         },
         {
          "X": "55.300000000000004",
          "Y": 0.9999999760082163
         },
         {
          "X": "55.400000000000006",
          "Y": 0.9999999785346764
         },
         {
          "X": "55.5",
          "Y": 0.9999999785346764
         },
         {
          "X": "55.6",
          "Y": 0.9999999785346764
         },
         {
          "X": "55.7",
          "Y": 0.9999999812807039
         },
         {
          "X": "55.800000000000004",
          "Y": 0.9999999812807039
         },
         {
          "X": "55.900000000000006",
          "Y": 0.9999999841564235
         },
         {
          "X": "56.0",
          "Y": 0.9999999841564235
         },
         {
          "X": "56.1",
          "Y": 0.9999999841564235
         },
         {
          "X": "56.2",
          "Y": 0.9999999870236618
         },
         {
          "X": "56.300000000000004",
          "Y": 0.9999999870236618
         },
         {
          "X": "56.400000000000006",
          "Y": 0.9999999897209008
         },
         {
          "X": "56.5",
          "Y": 0.9999999897209008
         },
         {
          "X": "56.6",
          "Y": 0.9999999897209008
         },
         {
          "X": "56.7",
          "Y": 0.9999999921015511
         },
         {
          "X": "56.800000000000004",
          "Y": 0.9999999921015511
         },
         {
          "X": "56.900000000000006",
          "Y": 0.9999999940698276
         },
         {
          "X": "57.0",
          "Y": 0.9999999940698276
         },
         {
          "X": "57.1",
          "Y": 0.9999999940698276
         },
         {
          "X": "57.2",
          "Y": 0.9999999955980405
         },
         {
          "X": "57.300000000000004",
          "Y": 0.9999999955980405
         },
         {
          "X": "57.400000000000006",
          "Y": 0.9999999967196787
         },
         {
          "X": "57.5",
          "Y": 0.9999999967196787
         },
         {
          "X": "57.6",
          "Y": 0.9999999967196787
         },
         {
          "X": "57.7",
          "Y": 0.999999997505967
         },
         {
          "X": "57.800000000000004",
          "Y": 0.999999997505967
         },
         {
          "X": "57.900000000000006",
          "Y": 0.9999999980395797
         },
         {
          "X": "58.0",
          "Y": 0.9999999980395797
         },
         {
          "X": "58.1",
          "Y": 0.9999999980395797
         },
         {
          "X": "58.2",
          "Y": 0.9999999983957428
         },
         {
          "X": "58.300000000000004",
          "Y": 0.9999999983957428
         },
         {
          "X": "58.400000000000006",
          "Y": 0.9999999983957428
         },
         {
          "X": "58.5",
          "Y": 0.9999999986335819
         },
         {
          "X": "58.6",
          "Y": 0.9999999986335819
         },
         {
          "X": "58.7",
          "Y": 0.9999999987952568
         },
         {
          "X": "58.800000000000004",
          "Y": 0.9999999987952568
         },
         {
          "X": "58.900000000000006",
          "Y": 0.9999999987952568
         },
         {
          "X": "59.0",
          "Y": 0.9999999989089692
         },
         {
          "X": "59.1",
          "Y": 0.9999999989089692
         },
         {
          "X": "59.2",
          "Y": 0.9999999989089692
         },
         {
          "X": "59.300000000000004",
          "Y": 0.9999999989929023
         },
         {
          "X": "59.400000000000006",
          "Y": 0.9999999989929023
         },
         {
          "X": "59.5",
          "Y": 0.9999999990586367
         },
         {
          "X": "59.6",
          "Y": 0.9999999990586367
         },
         {
          "X": "59.7",
          "Y": 0.9999999990586367
         },
         {
          "X": "59.800000000000004",
          "Y": 0.9999999991136436
         },
         {
          "X": "59.900000000000006",
          "Y": 0.9999999991136436
         },
         {
          "X": "60.0",
          "Y": 0.9999999991629421
         },
         {
          "X": "60.1",
          "Y": 0.9999999991629421
         },
         {
          "X": "60.2",
          "Y": 0.9999999991629421
         },
         {
          "X": "60.300000000000004",
          "Y": 0.9999999992101433
         },
         {
          "X": "60.400000000000006",
          "Y": 0.9999999992101433
         },
         {
          "X": "60.5",
          "Y": 0.9999999992101433
         },
         {
          "X": "60.6",
          "Y": 0.9999999992580701
         },
         {
          "X": "60.7",
          "Y": 0.9999999992580701
         },
         {
          "X": "60.800000000000004",
          "Y": 0.9999999993090738
         },
         {
          "X": "60.900000000000006",
          "Y": 0.9999999993090738
         },
         {
          "X": "61.0",
          "Y": 0.9999999993090738
         },
         {
          "X": "61.1",
          "Y": 0.9999999993650892
         },
         {
          "X": "61.2",
          "Y": 0.9999999993650892
         },
         {
          "X": "61.300000000000004",
          "Y": 0.9999999993650892
         },
         {
          "X": "61.400000000000006",
          "Y": 0.9999999994274389
         },
         {
          "X": "61.5",
          "Y": 0.9999999994274389
         },
         {
          "X": "61.6",
          "Y": 0.9999999994274389
         },
         {
          "X": "61.7",
          "Y": 0.9999999994964169
         },
         {
          "X": "61.800000000000004",
          "Y": 0.9999999994964169
         },
         {
          "X": "61.900000000000006",
          "Y": 0.9999999995707997
         },
         {
          "X": "62.0",
          "Y": 0.9999999995707997
         },
         {
          "X": "62.1",
          "Y": 0.9999999995707997
         },
         {
          "X": "62.2",
          "Y": 0.9999999996475863
         },
         {
          "X": "62.300000000000004",
          "Y": 0.9999999996475863
         },
         {
          "X": "62.400000000000006",
          "Y": 0.9999999996475863
         },
         {
          "X": "62.5",
          "Y": 0.9999999997223261
         },
         {
          "X": "62.6",
          "Y": 0.9999999997223261
         },
         {
          "X": "62.7",
          "Y": 0.9999999997223261
         },
         {
          "X": "62.800000000000004",
          "Y": 0.999999999790157
         },
         {
          "X": "62.900000000000006",
          "Y": 0.999999999790157
         },
         {
          "X": "63.0",
          "Y": 0.9999999998472056
         },
         {
          "X": "63.1",
          "Y": 0.9999999998472056
         },
         {
          "X": "63.2",
          "Y": 0.9999999998472056
         },
         {
          "X": "63.300000000000004",
          "Y": 0.999999999891644
         },
         {
          "X": "63.400000000000006",
          "Y": 0.999999999891644
         },
         {
          "X": "63.5",
          "Y": 0.999999999891644
         },
         {
          "X": "63.6",
          "Y": 0.9999999999238722
         },
         {
          "X": "63.7",
          "Y": 0.9999999999238722
         },
         {
          "X": "63.800000000000004",
          "Y": 0.9999999999238722
         },
         {
          "X": "63.900000000000006",
          "Y": 0.9999999999458674
         },
         {
          "X": "64.0",
          "Y": 0.9999999999458674
         },
         {
          "X": "64.10000000000001",
          "Y": 0.9999999999602153
         },
         {
          "X": "64.2",
          "Y": 0.9999999999602153
         },
         {
          "X": "64.3",
          "Y": 0.9999999999602153
         },
         {
          "X": "64.4",
          "Y": 0.9999999999693346
         },
         {
          "X": "64.5",
          "Y": 0.9999999999693346
         },
         {
          "X": "64.60000000000001",
          "Y": 0.9999999999693346
         },
         {
          "X": "64.7",
          "Y": 0.999999999975105
         },
         {
          "X": "64.8",
          "Y": 0.999999999975105
         },
         {
          "X": "64.9",
          "Y": 0.999999999975105
         },
         {
          "X": "65.0",
          "Y": 0.9999999999788216
         },
         {
          "X": "65.10000000000001",
          "Y": 0.9999999999788216
         },
         {
          "X": "65.2",
          "Y": 0.9999999999788216
         },
         {
          "X": "65.3",
          "Y": 0.9999999999813098
         },
         {
          "X": "65.4",
          "Y": 0.9999999999813098
         },
         {
          "X": "65.5",
          "Y": 0.9999999999813098
         },
         {
          "X": "65.60000000000001",
          "Y": 0.9999999999830731
         },
         {
          "X": "65.7",
          "Y": 0.9999999999830731
         },
         {
          "X": "65.8",
          "Y": 0.9999999999844139
         },
         {
          "X": "65.9",
          "Y": 0.9999999999844139
         },
         {
          "X": "66.0",
          "Y": 0.9999999999844139
         },
         {
          "X": "66.10000000000001",
          "Y": 0.9999999999855169
         },
         {
          "X": "66.2",
          "Y": 0.9999999999855169
         },
         {
          "X": "66.3",
          "Y": 0.9999999999855169
         },
         {
          "X": "66.4",
          "Y": 0.9999999999865004
         },
         {
          "X": "66.5",
          "Y": 0.9999999999865004
         },
         {
          "X": "66.60000000000001",
          "Y": 0.9999999999865004
         },
         {
          "X": "66.7",
          "Y": 0.9999999999874454
         },
         {
          "X": "66.8",
          "Y": 0.9999999999874454
         },
         {
          "X": "66.9",
          "Y": 0.9999999999874454
         },
         {
          "X": "67.0",
          "Y": 0.9999999999884129
         },
         {
          "X": "67.10000000000001",
          "Y": 0.9999999999884129
         },
         {
          "X": "67.2",
          "Y": 0.9999999999884129
         },
         {
          "X": "67.3",
          "Y": 0.9999999999894507
         },
         {
          "X": "67.4",
          "Y": 0.9999999999894507
         },
         {
          "X": "67.5",
          "Y": 0.9999999999894507
         },
         {
          "X": "67.60000000000001",
          "Y": 0.999999999990591
         },
         {
          "X": "67.7",
          "Y": 0.999999999990591
         },
         {
          "X": "67.8",
          "Y": 0.999999999990591
         },
         {
          "X": "67.9",
          "Y": 0.9999999999918444
         },
         {
          "X": "68.0",
          "Y": 0.9999999999918444
         },
         {
          "X": "68.10000000000001",
          "Y": 0.9999999999918444
         },
         {
          "X": "68.2",
          "Y": 0.9999999999931888
         },
         {
          "X": "68.3",
          "Y": 0.9999999999931888
         },
         {
          "X": "68.4",
          "Y": 0.9999999999931888
         },
         {
          "X": "68.5",
          "Y": 0.9999999999945628
         },
         {
          "X": "68.60000000000001",
          "Y": 0.9999999999945628
         },
         {
          "X": "68.7",
          "Y": 0.9999999999945628
         },
         {
          "X": "68.8",
          "Y": 0.9999999999958755
         },
         {
          "X": "68.9",
          "Y": 0.9999999999958755
         },
         {
          "X": "69.0",
          "Y": 0.9999999999958755
         },
         {
          "X": "69.10000000000001",
          "Y": 0.999999999997031
         },
         {
          "X": "69.2",
          "Y": 0.999999999997031
         },
         {
          "X": "69.3",
          "Y": 0.999999999997031
         },
         {
          "X": "69.4",
          "Y": 0.9999999999979613
         },
         {
          "X": "69.5",
          "Y": 0.9999999999979613
         },
         {
          "X": "69.60000000000001",
          "Y": 0.9999999999979613
         },
         {
          "X": "69.7",
          "Y": 0.9999999999986464
         },
         {
          "X": "69.8",
          "Y": 0.9999999999986464
         },
         {
          "X": "69.9",
          "Y": 0.9999999999986464
         },
         {
          "X": "70.0",
          "Y": 0.9999999999991117
         },
         {
          "X": "70.10000000000001",
          "Y": 0.9999999999991117
         },
         {
          "X": "70.2",
          "Y": 0.9999999999991117
         },
         {
          "X": "70.3",
          "Y": 0.9999999999994078
         },
         {
          "X": "70.4",
          "Y": 0.9999999999994078
         },
         {
          "X": "70.5",
          "Y": 0.9999999999994078
         },
         {
          "X": "70.60000000000001",
          "Y": 0.9999999999995881
         },
         {
          "X": "70.7",
          "Y": 0.9999999999995881
         },
         {
          "X": "70.8",
          "Y": 0.9999999999995881
         },
         {
          "X": "70.9",
          "Y": 0.9999999999996958
         },
         {
          "X": "71.0",
          "Y": 0.9999999999996958
         },
         {
          "X": "71.10000000000001",
          "Y": 0.9999999999996958
         },
         {
          "X": "71.2",
          "Y": 0.9999999999997609
         },
         {
          "X": "71.3",
          "Y": 0.9999999999997609
         },
         {
          "X": "71.4",
          "Y": 0.9999999999997609
         },
         {
          "X": "71.5",
          "Y": 0.9999999999998017
         },
         {
          "X": "71.60000000000001",
          "Y": 0.9999999999998017
         },
         {
          "X": "71.7",
          "Y": 0.9999999999998017
         },
         {
          "X": "71.8",
          "Y": 0.9999999999998288
         },
         {
          "X": "71.9",
          "Y": 0.9999999999998288
         },
         {
          "X": "72.0",
          "Y": 0.9999999999998288
         },
         {
          "X": "72.10000000000001",
          "Y": 0.9999999999998483
         },
         {
          "X": "72.2",
          "Y": 0.9999999999998483
         },
         {
          "X": "72.3",
          "Y": 0.9999999999998483
         },
         {
          "X": "72.4",
          "Y": 0.9999999999998638
         },
         {
          "X": "72.5",
          "Y": 0.9999999999998638
         },
         {
          "X": "72.60000000000001",
          "Y": 0.9999999999998638
         },
         {
          "X": "72.7",
          "Y": 0.9999999999998772
         },
         {
          "X": "72.8",
          "Y": 0.9999999999998772
         },
         {
          "X": "72.9",
          "Y": 0.9999999999998772
         },
         {
          "X": "73.0",
          "Y": 0.9999999999998899
         },
         {
          "X": "73.10000000000001",
          "Y": 0.9999999999998899
         },
         {
          "X": "73.2",
          "Y": 0.9999999999998899
         },
         {
          "X": "73.3",
          "Y": 0.9999999999999027
         },
         {
          "X": "73.4",
          "Y": 0.9999999999999027
         },
         {
          "X": "73.5",
          "Y": 0.9999999999999027
         },
         {
          "X": "73.60000000000001",
          "Y": 0.9999999999999027
         },
         {
          "X": "73.7",
          "Y": 0.9999999999999165
         },
         {
          "X": "73.8",
          "Y": 0.9999999999999165
         },
         {
          "X": "73.9",
          "Y": 0.9999999999999165
         },
         {
          "X": "74.0",
          "Y": 0.9999999999999314
         },
         {
          "X": "74.10000000000001",
          "Y": 0.9999999999999314
         },
         {
          "X": "74.2",
          "Y": 0.9999999999999314
         },
         {
          "X": "74.3",
          "Y": 0.9999999999999474
         },
         {
          "X": "74.4",
          "Y": 0.9999999999999474
         },
         {
          "X": "74.5",
          "Y": 0.9999999999999474
         },
         {
          "X": "74.60000000000001",
          "Y": 0.9999999999999639
         },
         {
          "X": "74.7",
          "Y": 0.9999999999999639
         },
         {
          "X": "74.8",
          "Y": 0.9999999999999639
         },
         {
          "X": "74.9",
          "Y": 0.99999999999998
         },
         {
          "X": "75.0",
          "Y": 0.99999999999998
         },
         {
          "X": "75.10000000000001",
          "Y": 0.99999999999998
         },
         {
          "X": "75.2",
          "Y": 0.9999999999999942
         },
         {
          "X": "75.3",
          "Y": 0.9999999999999942
         },
         {
          "X": "75.4",
          "Y": 0.9999999999999942
         },
         {
          "X": "75.5",
          "Y": 0.9999999999999942
         },
         {
          "X": "75.60000000000001",
          "Y": 0.9999999999999999
         },
         {
          "X": "75.7",
          "Y": 0.9999999999999999
         },
         {
          "X": "75.8",
          "Y": 0.9999999999999999
         },
         {
          "X": "75.9",
          "Y": 0.9999999999999999
         },
         {
          "X": "76.0",
          "Y": 0.9999999999999999
         },
         {
          "X": "76.10000000000001",
          "Y": 0.9999999999999999
         },
         {
          "X": "76.2",
          "Y": 0.9999999999999999
         },
         {
          "X": "76.3",
          "Y": 0.9999999999999999
         },
         {
          "X": "76.4",
          "Y": 0.9999999999999999
         },
         {
          "X": "76.5",
          "Y": 0.9999999999999999
         },
         {
          "X": "76.60000000000001",
          "Y": 0.9999999999999999
         },
         {
          "X": "76.7",
          "Y": 0.9999999999999999
         },
         {
          "X": "76.80000000000001",
          "Y": 0.9999999999999999
         },
         {
          "X": "76.9",
          "Y": 0.9999999999999999
         },
         {
          "X": "77.0",
          "Y": 0.9999999999999999
         },
         {
          "X": "77.10000000000001",
          "Y": 0.9999999999999999
         },
         {
          "X": "77.2",
          "Y": 0.9999999999999999
         },
         {
          "X": "77.30000000000001",
          "Y": 0.9999999999999999
         },
         {
          "X": "77.4",
          "Y": 0.9999999999999999
         },
         {
          "X": "77.5",
          "Y": 0.9999999999999999
         },
         {
          "X": "77.60000000000001",
          "Y": 0.9999999999999999
         },
         {
          "X": "77.7",
          "Y": 0.9999999999999999
         },
         {
          "X": "77.80000000000001",
          "Y": 0.9999999999999999
         },
         {
          "X": "77.9",
          "Y": 0.9999999999999999
         },
         {
          "X": "78.0",
          "Y": 0.9999999999999999
         },
         {
          "X": "78.10000000000001",
          "Y": 0.9999999999999999
         },
         {
          "X": "78.2",
          "Y": 0.9999999999999999
         },
         {
          "X": "78.30000000000001",
          "Y": 0.9999999999999999
         },
         {
          "X": "78.4",
          "Y": 0.9999999999999999
         },
         {
          "X": "78.5",
          "Y": 0.9999999999999999
         },
         {
          "X": "78.60000000000001",
          "Y": 0.9999999999999999
         },
         {
          "X": "78.7",
          "Y": 0.9999999999999999
         },
         {
          "X": "78.80000000000001",
          "Y": 0.9999999999999999
         },
         {
          "X": "78.9",
          "Y": 0.9999999999999999
         },
         {
          "X": "79.0",
          "Y": 0.9999999999999999
         },
         {
          "X": "79.10000000000001",
          "Y": 0.9999999999999999
         },
         {
          "X": "79.2",
          "Y": 0.9999999999999999
         },
         {
          "X": "79.30000000000001",
          "Y": 0.9999999999999999
         },
         {
          "X": "79.4",
          "Y": 0.9999999999999999
         },
         {
          "X": "79.5",
          "Y": 0.9999999999999999
         },
         {
          "X": "79.60000000000001",
          "Y": 0.9999999999999999
         },
         {
          "X": "79.7",
          "Y": 0.9999999999999999
         },
         {
          "X": "79.80000000000001",
          "Y": 0.9999999999999999
         },
         {
          "X": "79.9",
          "Y": 0.9999999999999999
         },
         {
          "X": "80.0",
          "Y": 0.9999999999999999
         },
         {
          "X": "80.10000000000001",
          "Y": 0.9999999999999999
         },
         {
          "X": "80.2",
          "Y": 0.9999999999999999
         },
         {
          "X": "80.30000000000001",
          "Y": 0.9999999999999999
         },
         {
          "X": "80.4",
          "Y": 0.9999999999999999
         },
         {
          "X": "80.5",
          "Y": 0.9999999999999999
         },
         {
          "X": "80.60000000000001",
          "Y": 0.9999999999999999
         },
         {
          "X": "80.7",
          "Y": 0.9999999999999999
         },
         {
          "X": "80.80000000000001",
          "Y": 0.9999999999999999
         },
         {
          "X": "80.9",
          "Y": 0.9999999999999999
         },
         {
          "X": "81.0",
          "Y": 0.9999999999999999
         },
         {
          "X": "81.10000000000001",
          "Y": 0.9999999999999999
         },
         {
          "X": "81.2",
          "Y": 0.9999999999999999
         },
         {
          "X": "81.30000000000001",
          "Y": 0.9999999999999999
         },
         {
          "X": "81.4",
          "Y": 0.9999999999999999
         },
         {
          "X": "81.5",
          "Y": 0.9999999999999999
         },
         {
          "X": "81.60000000000001",
          "Y": 0.9999999999999999
         },
         {
          "X": "81.7",
          "Y": 0.9999999999999999
         },
         {
          "X": "81.80000000000001",
          "Y": 0.9999999999999999
         },
         {
          "X": "81.9",
          "Y": 0.9999999999999999
         },
         {
          "X": "82.0",
          "Y": 0.9999999999999999
         },
         {
          "X": "82.10000000000001",
          "Y": 0.9999999999999999
         },
         {
          "X": "82.2",
          "Y": 0.9999999999999999
         },
         {
          "X": "82.30000000000001",
          "Y": 0.9999999999999999
         },
         {
          "X": "82.4",
          "Y": 0.9999999999999999
         },
         {
          "X": "82.5",
          "Y": 0.9999999999999999
         },
         {
          "X": "82.60000000000001",
          "Y": 0.9999999999999999
         },
         {
          "X": "82.7",
          "Y": 0.9999999999999999
         },
         {
          "X": "82.80000000000001",
          "Y": 0.9999999999999999
         },
         {
          "X": "82.9",
          "Y": 0.9999999999999999
         },
         {
          "X": "83.0",
          "Y": 0.9999999999999999
         },
         {
          "X": "83.10000000000001",
          "Y": 0.9999999999999999
         },
         {
          "X": "83.2",
          "Y": 0.9999999999999999
         },
         {
          "X": "83.30000000000001",
          "Y": 0.9999999999999999
         },
         {
          "X": "83.4",
          "Y": 0.9999999999999999
         },
         {
          "X": "83.5",
          "Y": 0.9999999999999999
         },
         {
          "X": "83.60000000000001",
          "Y": 0.9999999999999999
         },
         {
          "X": "83.7",
          "Y": 0.9999999999999999
         },
         {
          "X": "83.80000000000001",
          "Y": 0.9999999999999999
         },
         {
          "X": "83.9",
          "Y": 0.9999999999999999
         },
         {
          "X": "84.0",
          "Y": 0.9999999999999999
         },
         {
          "X": "84.10000000000001",
          "Y": 0.9999999999999999
         },
         {
          "X": "84.2",
          "Y": 0.9999999999999999
         },
         {
          "X": "84.30000000000001",
          "Y": 0.9999999999999999
         },
         {
          "X": "84.4",
          "Y": 0.9999999999999999
         },
         {
          "X": "84.5",
          "Y": 0.9999999999999999
         },
         {
          "X": "84.60000000000001",
          "Y": 0.9999999999999999
         },
         {
          "X": "84.7",
          "Y": 0.9999999999999999
         },
         {
          "X": "84.80000000000001",
          "Y": 0.9999999999999999
         },
         {
          "X": "84.9",
          "Y": 0.9999999999999999
         },
         {
          "X": "85.0",
          "Y": 0.9999999999999999
         },
         {
          "X": "85.10000000000001",
          "Y": 0.9999999999999999
         },
         {
          "X": "85.2",
          "Y": 0.9999999999999999
         },
         {
          "X": "85.30000000000001",
          "Y": 0.9999999999999999
         },
         {
          "X": "85.4",
          "Y": 0.9999999999999999
         },
         {
          "X": "85.5",
          "Y": 0.9999999999999999
         },
         {
          "X": "85.60000000000001",
          "Y": 0.9999999999999999
         },
         {
          "X": "85.7",
          "Y": 0.9999999999999999
         },
         {
          "X": "85.80000000000001",
          "Y": 0.9999999999999999
         },
         {
          "X": "85.9",
          "Y": 0.9999999999999999
         },
         {
          "X": "86.0",
          "Y": 0.9999999999999999
         },
         {
          "X": "86.10000000000001",
          "Y": 0.9999999999999999
         },
         {
          "X": "86.2",
          "Y": 0.9999999999999999
         },
         {
          "X": "86.30000000000001",
          "Y": 0.9999999999999999
         },
         {
          "X": "86.4",
          "Y": 0.9999999999999999
         },
         {
          "X": "86.5",
          "Y": 0.9999999999999999
         },
         {
          "X": "86.60000000000001",
          "Y": 0.9999999999999999
         },
         {
          "X": "86.7",
          "Y": 0.9999999999999999
         },
         {
          "X": "86.80000000000001",
          "Y": 0.9999999999999999
         },
         {
          "X": "86.9",
          "Y": 0.9999999999999999
         },
         {
          "X": "87.0",
          "Y": 0.9999999999999999
         },
         {
          "X": "87.10000000000001",
          "Y": 0.9999999999999999
         },
         {
          "X": "87.2",
          "Y": 0.9999999999999999
         },
         {
          "X": "87.30000000000001",
          "Y": 0.9999999999999999
         },
         {
          "X": "87.4",
          "Y": 0.9999999999999999
         },
         {
          "X": "87.5",
          "Y": 0.9999999999999999
         },
         {
          "X": "87.60000000000001",
          "Y": 0.9999999999999999
         },
         {
          "X": "87.7",
          "Y": 0.9999999999999999
         },
         {
          "X": "87.80000000000001",
          "Y": 0.9999999999999999
         },
         {
          "X": "87.9",
          "Y": 0.9999999999999999
         },
         {
          "X": "88.0",
          "Y": 0.9999999999999999
         },
         {
          "X": "88.10000000000001",
          "Y": 0.9999999999999999
         },
         {
          "X": "88.2",
          "Y": 0.9999999999999999
         },
         {
          "X": "88.30000000000001",
          "Y": 0.9999999999999999
         },
         {
          "X": "88.4",
          "Y": 0.9999999999999999
         },
         {
          "X": "88.5",
          "Y": 0.9999999999999999
         },
         {
          "X": "88.60000000000001",
          "Y": 0.9999999999999999
         },
         {
          "X": "88.7",
          "Y": 0.9999999999999999
         },
         {
          "X": "88.80000000000001",
          "Y": 0.9999999999999999
         },
         {
          "X": "88.9",
          "Y": 0.9999999999999999
         },
         {
          "X": "89.0",
          "Y": 0.9999999999999999
         },
         {
          "X": "89.10000000000001",
          "Y": 0.9999999999999999
         },
         {
          "X": "89.2",
          "Y": 0.9999999999999999
         },
         {
          "X": "89.30000000000001",
          "Y": 0.9999999999999999
         },
         {
          "X": "89.4",
          "Y": 0.9999999999999999
         },
         {
          "X": "89.5",
          "Y": 0.9999999999999999
         },
         {
          "X": "89.60000000000001",
          "Y": 0.9999999999999999
         },
         {
          "X": "89.7",
          "Y": 0.9999999999999999
         },
         {
          "X": "89.80000000000001",
          "Y": 0.9999999999999999
         },
         {
          "X": "89.9",
          "Y": 0.9999999999999999
         },
         {
          "X": "90.0",
          "Y": 0.9999999999999999
         },
         {
          "X": "90.10000000000001",
          "Y": 0.9999999999999999
         },
         {
          "X": "90.2",
          "Y": 0.9999999999999999
         },
         {
          "X": "90.30000000000001",
          "Y": 0.9999999999999999
         },
         {
          "X": "90.4",
          "Y": 0.9999999999999999
         },
         {
          "X": "90.5",
          "Y": 0.9999999999999999
         },
         {
          "X": "90.60000000000001",
          "Y": 0.9999999999999999
         },
         {
          "X": "90.7",
          "Y": 0.9999999999999999
         },
         {
          "X": "90.80000000000001",
          "Y": 0.9999999999999999
         },
         {
          "X": "90.9",
          "Y": 0.9999999999999999
         },
         {
          "X": "91.0",
          "Y": 0.9999999999999999
         },
         {
          "X": "91.10000000000001",
          "Y": 0.9999999999999999
         },
         {
          "X": "91.2",
          "Y": 0.9999999999999999
         },
         {
          "X": "91.30000000000001",
          "Y": 0.9999999999999999
         },
         {
          "X": "91.4",
          "Y": 0.9999999999999999
         },
         {
          "X": "91.5",
          "Y": 0.9999999999999999
         },
         {
          "X": "91.60000000000001",
          "Y": 0.9999999999999999
         },
         {
          "X": "91.7",
          "Y": 0.9999999999999999
         },
         {
          "X": "91.80000000000001",
          "Y": 0.9999999999999999
         },
         {
          "X": "91.9",
          "Y": 0.9999999999999999
         },
         {
          "X": "92.0",
          "Y": 0.9999999999999999
         },
         {
          "X": "92.10000000000001",
          "Y": 0.9999999999999999
         },
         {
          "X": "92.2",
          "Y": 0.9999999999999999
         },
         {
          "X": "92.30000000000001",
          "Y": 0.9999999999999999
         },
         {
          "X": "92.4",
          "Y": 0.9999999999999999
         },
         {
          "X": "92.5",
          "Y": 0.9999999999999999
         },
         {
          "X": "92.60000000000001",
          "Y": 0.9999999999999999
         },
         {
          "X": "92.7",
          "Y": 0.9999999999999999
         },
         {
          "X": "92.80000000000001",
          "Y": 0.9999999999999999
         },
         {
          "X": "92.9",
          "Y": 0.9999999999999999
         },
         {
          "X": "93.0",
          "Y": 0.9999999999999999
         },
         {
          "X": "93.10000000000001",
          "Y": 0.9999999999999999
         },
         {
          "X": "93.2",
          "Y": 0.9999999999999999
         },
         {
          "X": "93.30000000000001",
          "Y": 0.9999999999999999
         },
         {
          "X": "93.4",
          "Y": 0.9999999999999999
         },
         {
          "X": "93.5",
          "Y": 0.9999999999999999
         },
         {
          "X": "93.60000000000001",
          "Y": 0.9999999999999999
         },
         {
          "X": "93.7",
          "Y": 0.9999999999999999
         },
         {
          "X": "93.80000000000001",
          "Y": 0.9999999999999999
         },
         {
          "X": "93.9",
          "Y": 0.9999999999999999
         },
         {
          "X": "94.0",
          "Y": 0.9999999999999999
         },
         {
          "X": "94.10000000000001",
          "Y": 0.9999999999999999
         },
         {
          "X": "94.2",
          "Y": 0.9999999999999999
         },
         {
          "X": "94.30000000000001",
          "Y": 0.9999999999999999
         },
         {
          "X": "94.4",
          "Y": 0.9999999999999999
         },
         {
          "X": "94.5",
          "Y": 0.9999999999999999
         },
         {
          "X": "94.60000000000001",
          "Y": 0.9999999999999999
         },
         {
          "X": "94.7",
          "Y": 0.9999999999999999
         },
         {
          "X": "94.80000000000001",
          "Y": 0.9999999999999999
         },
         {
          "X": "94.9",
          "Y": 0.9999999999999999
         },
         {
          "X": "95.0",
          "Y": 0.9999999999999999
         },
         {
          "X": "95.10000000000001",
          "Y": 0.9999999999999999
         },
         {
          "X": "95.2",
          "Y": 0.9999999999999999
         },
         {
          "X": "95.30000000000001",
          "Y": 0.9999999999999999
         },
         {
          "X": "95.4",
          "Y": 0.9999999999999999
         },
         {
          "X": "95.5",
          "Y": 0.9999999999999999
         },
         {
          "X": "95.60000000000001",
          "Y": 0.9999999999999999
         },
         {
          "X": "95.7",
          "Y": 0.9999999999999999
         },
         {
          "X": "95.80000000000001",
          "Y": 0.9999999999999999
         },
         {
          "X": "95.9",
          "Y": 0.9999999999999999
         },
         {
          "X": "96.0",
          "Y": 0.9999999999999999
         },
         {
          "X": "96.10000000000001",
          "Y": 0.9999999999999999
         },
         {
          "X": "96.2",
          "Y": 0.9999999999999999
         },
         {
          "X": "96.30000000000001",
          "Y": 0.9999999999999999
         },
         {
          "X": "96.4",
          "Y": 0.9999999999999999
         },
         {
          "X": "96.5",
          "Y": 0.9999999999999999
         },
         {
          "X": "96.60000000000001",
          "Y": 0.9999999999999999
         },
         {
          "X": "96.7",
          "Y": 0.9999999999999999
         },
         {
          "X": "96.80000000000001",
          "Y": 0.9999999999999999
         },
         {
          "X": "96.9",
          "Y": 0.9999999999999999
         },
         {
          "X": "97.0",
          "Y": 0.9999999999999999
         },
         {
          "X": "97.10000000000001",
          "Y": 0.9999999999999999
         },
         {
          "X": "97.2",
          "Y": 0.9999999999999999
         },
         {
          "X": "97.30000000000001",
          "Y": 0.9999999999999999
         },
         {
          "X": "97.4",
          "Y": 0.9999999999999999
         },
         {
          "X": "97.5",
          "Y": 0.9999999999999999
         },
         {
          "X": "97.60000000000001",
          "Y": 0.9999999999999999
         },
         {
          "X": "97.7",
          "Y": 0.9999999999999999
         },
         {
          "X": "97.80000000000001",
          "Y": 0.9999999999999999
         },
         {
          "X": "97.9",
          "Y": 0.9999999999999999
         },
         {
          "X": "98.0",
          "Y": 0.9999999999999999
         },
         {
          "X": "98.10000000000001",
          "Y": 0.9999999999999999
         },
         {
          "X": "98.2",
          "Y": 0.9999999999999999
         },
         {
          "X": "98.30000000000001",
          "Y": 0.9999999999999999
         },
         {
          "X": "98.4",
          "Y": 0.9999999999999999
         },
         {
          "X": "98.5",
          "Y": 0.9999999999999999
         },
         {
          "X": "98.60000000000001",
          "Y": 0.9999999999999999
         },
         {
          "X": "98.7",
          "Y": 0.9999999999999999
         },
         {
          "X": "98.80000000000001",
          "Y": 0.9999999999999999
         },
         {
          "X": "98.9",
          "Y": 0.9999999999999999
         },
         {
          "X": "99.0",
          "Y": 0.9999999999999999
         },
         {
          "X": "99.10000000000001",
          "Y": 0.9999999999999999
         },
         {
          "X": "99.2",
          "Y": 0.9999999999999999
         },
         {
          "X": "99.30000000000001",
          "Y": 0.9999999999999999
         },
         {
          "X": "99.4",
          "Y": 0.9999999999999999
         },
         {
          "X": "99.5",
          "Y": 0.9999999999999999
         },
         {
          "X": "99.60000000000001",
          "Y": 0.9999999999999999
         },
         {
          "X": "99.7",
          "Y": 0.9999999999999999
         },
         {
          "X": "99.80000000000001",
          "Y": 0.9999999999999999
         },
         {
          "X": "99.9",
          "Y": 0.9999999999999999
         },
         {
          "X": "100.0",
          "Y": 0.9999999999999999
         }
        ]
       },
       "encoding": {
        "x": {
         "field": "X",
         "type": "nominal"
        },
        "y": {
         "field": "Y",
         "type": "quantitative"
        }
       },
       "height": 400,
       "mark": "bar",
       "width": 400
      },
      "image/png": "[encoded data removed]"
     },
     "metadata": {},
     "output_type": "display_data"
    }
   ],
   "source": [
    "plot $ plotCdf 2000 0.1 $ normalize model4"
   ]
  },
  {
   "cell_type": "code",
   "execution_count": 81,
   "metadata": {},
   "outputs": [
    {
     "data": {
      "application/vnd.vegalite.v4+json": {
       "$schema": "https://vega.github.io/schema/vega-lite/v4.json",
       "data": {
        "values": [
         {
          "X": "-34.9",
          "Y": 0.00032849126547843577
         },
         {
          "X": "-34.800000000000004",
          "Y": 0.00032849126547843577
         },
         {
          "X": "-34.7",
          "Y": 0.0003453044828141736
         },
         {
          "X": "-34.6",
          "Y": 0.0003453044828141736
         },
         {
          "X": "-34.5",
          "Y": 0.00036017863568474026
         },
         {
          "X": "-34.4",
          "Y": 0.00036017863568474026
         },
         {
          "X": "-34.300000000000004",
          "Y": 0.00037333667706538384
         },
         {
          "X": "-34.2",
          "Y": 0.00037333667706538384
         },
         {
          "X": "-34.1",
          "Y": 0.0003850486221101474
         },
         {
          "X": "-34.0",
          "Y": 0.00039560012948055385
         },
         {
          "X": "-33.9",
          "Y": 0.00039560012948055385
         },
         {
          "X": "-33.800000000000004",
          "Y": 0.0004052740100729382
         },
         {
          "X": "-33.7",
          "Y": 0.0004052740100729382
         },
         {
          "X": "-33.6",
          "Y": 0.0004143428195830654
         },
         {
          "X": "-33.5",
          "Y": 0.0004143428195830654
         },
         {
          "X": "-33.4",
          "Y": 0.0004230699642036504
         },
         {
          "X": "-33.300000000000004",
          "Y": 0.0004230699642036504
         },
         {
          "X": "-33.2",
          "Y": 0.00043171708859826726
         },
         {
          "X": "-33.1",
          "Y": 0.00043171708859826726
         },
         {
          "X": "-33.0",
          "Y": 0.00044055632607137383
         },
         {
          "X": "-32.9",
          "Y": 0.000449886880539217
         },
         {
          "X": "-32.800000000000004",
          "Y": 0.000449886880539217
         },
         {
          "X": "-32.7",
          "Y": 0.0004600561694140516
         },
         {
          "X": "-32.6",
          "Y": 0.0004600561694140516
         },
         {
          "X": "-32.5",
          "Y": 0.00047148627010530354
         },
         {
          "X": "-32.4",
          "Y": 0.00047148627010530354
         },
         {
          "X": "-32.300000000000004",
          "Y": 0.00048470656287687863
         },
         {
          "X": "-32.2",
          "Y": 0.00048470656287687863
         },
         {
          "X": "-32.1",
          "Y": 0.0005003930550688434
         },
         {
          "X": "-32.0",
          "Y": 0.0005194135971427624
         },
         {
          "X": "-31.900000000000002",
          "Y": 0.0005194135971427624
         },
         {
          "X": "-31.8",
          "Y": 0.0005428756633347976
         },
         {
          "X": "-31.700000000000003",
          "Y": 0.0005428756633347976
         },
         {
          "X": "-31.6",
          "Y": 0.0005721692322139518
         },
         {
          "X": "-31.5",
          "Y": 0.0005721692322139518
         },
         {
          "X": "-31.400000000000002",
          "Y": 0.0006089916146545237
         },
         {
          "X": "-31.3",
          "Y": 0.0006553347846471106
         },
         {
          "X": "-31.200000000000003",
          "Y": 0.0006553347846471106
         },
         {
          "X": "-31.1",
          "Y": 0.0007134112430298139
         },
         {
          "X": "-31.0",
          "Y": 0.0007134112430298139
         },
         {
          "X": "-30.900000000000002",
          "Y": 0.0007854955889646966
         },
         {
          "X": "-30.8",
          "Y": 0.0007854955889646966
         },
         {
          "X": "-30.700000000000003",
          "Y": 0.0008736702601774183
         },
         {
          "X": "-30.6",
          "Y": 0.000979487899811323
         },
         {
          "X": "-30.5",
          "Y": 0.000979487899811323
         },
         {
          "X": "-30.400000000000002",
          "Y": 0.0011035967554304791
         },
         {
          "X": "-30.3",
          "Y": 0.0011035967554304791
         },
         {
          "X": "-30.200000000000003",
          "Y": 0.0012454090211943014
         },
         {
          "X": "-30.1",
          "Y": 0.0012454090211943014
         },
         {
          "X": "-30.0",
          "Y": 0.0014029088216653165
         },
         {
          "X": "-29.900000000000002",
          "Y": 0.0015726816838775135
         },
         {
          "X": "-29.8",
          "Y": 0.0015726816838775135
         },
         {
          "X": "-29.700000000000003",
          "Y": 0.0017501973214469504
         },
         {
          "X": "-29.6",
          "Y": 0.0017501973214469504
         },
         {
          "X": "-29.5",
          "Y": 0.0019303063595493915
         },
         {
          "X": "-29.400000000000002",
          "Y": 0.0019303063595493915
         },
         {
          "X": "-29.3",
          "Y": 0.002107846854752556
         },
         {
          "X": "-29.200000000000003",
          "Y": 0.0022782255985186912
         },
         {
          "X": "-29.1",
          "Y": 0.0022782255985186912
         },
         {
          "X": "-29.0",
          "Y": 0.002437854450459055
         },
         {
          "X": "-28.900000000000002",
          "Y": 0.002437854450459055
         },
         {
          "X": "-28.8",
          "Y": 0.002584373979632496
         },
         {
          "X": "-28.700000000000003",
          "Y": 0.002584373979632496
         },
         {
          "X": "-28.6",
          "Y": 0.002716661193274201
         },
         {
          "X": "-28.5",
          "Y": 0.0028346699220794633
         },
         {
          "X": "-28.400000000000002",
          "Y": 0.0028346699220794633
         },
         {
          "X": "-28.3",
          "Y": 0.0029391772863002433
         },
         {
          "X": "-28.200000000000003",
          "Y": 0.0029391772863002433
         },
         {
          "X": "-28.1",
          "Y": 0.003031507622697444
         },
         {
          "X": "-28.0",
          "Y": 0.0031132860283057
         },
         {
          "X": "-27.900000000000002",
          "Y": 0.0031132860283057
         },
         {
          "X": "-27.8",
          "Y": 0.0031862492832609116
         },
         {
          "X": "-27.700000000000003",
          "Y": 0.0031862492832609116
         },
         {
          "X": "-27.6",
          "Y": 0.003252121185572698
         },
         {
          "X": "-27.5",
          "Y": 0.0033125461345088975
         },
         {
          "X": "-27.400000000000002",
          "Y": 0.0033125461345088975
         },
         {
          "X": "-27.3",
          "Y": 0.0033690690330926048
         },
         {
          "X": "-27.200000000000003",
          "Y": 0.0033690690330926048
         },
         {
          "X": "-27.1",
          "Y": 0.0034231491536396534
         },
         {
          "X": "-27.0",
          "Y": 0.003476198104737107
         },
         {
          "X": "-26.900000000000002",
          "Y": 0.003476198104737107
         },
         {
          "X": "-26.8",
          "Y": 0.003529635576636563
         },
         {
          "X": "-26.700000000000003",
          "Y": 0.003529635576636563
         },
         {
          "X": "-26.6",
          "Y": 0.003584959987366656
         },
         {
          "X": "-26.5",
          "Y": 0.003643833938110132
         },
         {
          "X": "-26.400000000000002",
          "Y": 0.003643833938110132
         },
         {
          "X": "-26.3",
          "Y": 0.003708186237139122
         },
         {
          "X": "-26.200000000000003",
          "Y": 0.003708186237139122
         },
         {
          "X": "-26.1",
          "Y": 0.0037803329180096487
         },
         {
          "X": "-26.0",
          "Y": 0.0038631187456288963
         },
         {
          "X": "-25.900000000000002",
          "Y": 0.0038631187456288963
         },
         {
          "X": "-25.8",
          "Y": 0.003960077491693722
         },
         {
          "X": "-25.700000000000003",
          "Y": 0.003960077491693722
         },
         {
          "X": "-25.6",
          "Y": 0.0040756028512756075
         },
         {
          "X": "-25.5",
          "Y": 0.004215111363170727
         },
         {
          "X": "-25.400000000000002",
          "Y": 0.004215111363170727
         },
         {
          "X": "-25.3",
          "Y": 0.004385163789808606
         },
         {
          "X": "-25.200000000000003",
          "Y": 0.004385163789808606
         },
         {
          "X": "-25.1",
          "Y": 0.004593493400368247
         },
         {
          "X": "-25.0",
          "Y": 0.004848872598477533
         },
         {
          "X": "-24.900000000000002",
          "Y": 0.004848872598477533
         },
         {
          "X": "-24.8",
          "Y": 0.005160741179200828
         },
         {
          "X": "-24.700000000000003",
          "Y": 0.005160741179200828
         },
         {
          "X": "-24.6",
          "Y": 0.005538531214739568
         },
         {
          "X": "-24.5",
          "Y": 0.0059906661345114735
         },
         {
          "X": "-24.400000000000002",
          "Y": 0.0059906661345114735
         },
         {
          "X": "-24.3",
          "Y": 0.00652328950508101
         },
         {
          "X": "-24.200000000000003",
          "Y": 0.00652328950508101
         },
         {
          "X": "-24.1",
          "Y": 0.0071388825394414586
         },
         {
          "X": "-24.0",
          "Y": 0.007835029727457435
         },
         {
          "X": "-23.900000000000002",
          "Y": 0.007835029727457435
         },
         {
          "X": "-23.8",
          "Y": 0.008603646010658177
         },
         {
          "X": "-23.700000000000003",
          "Y": 0.009430945626512763
         },
         {
          "X": "-23.6",
          "Y": 0.009430945626512763
         },
         {
          "X": "-23.5",
          "Y": 0.010298296907503286
         },
         {
          "X": "-23.400000000000002",
          "Y": 0.010298296907503286
         },
         {
          "X": "-23.3",
          "Y": 0.011183896836011308
         },
         {
          "X": "-23.200000000000003",
          "Y": 0.012064981823573049
         },
         {
          "X": "-23.1",
          "Y": 0.012064981823573049
         },
         {
          "X": "-23.0",
          "Y": 0.012920147326929636
         },
         {
          "X": "-22.900000000000002",
          "Y": 0.012920147326929636
         },
         {
          "X": "-22.8",
          "Y": 0.013731332887133053
         },
         {
          "X": "-22.700000000000003",
          "Y": 0.014485142539308849
         },
         {
          "X": "-22.6",
          "Y": 0.014485142539308849
         },
         {
          "X": "-22.5",
          "Y": 0.015173363355520284
         },
         {
          "X": "-22.400000000000002",
          "Y": 0.015792743165288253
         },
         {
          "X": "-22.3",
          "Y": 0.015792743165288253
         },
         {
          "X": "-22.200000000000003",
          "Y": 0.016344229634486375
         },
         {
          "X": "-22.1",
          "Y": 0.016344229634486375
         },
         {
          "X": "-22.0",
          "Y": 0.016831928796077138
         },
         {
          "X": "-21.900000000000002",
          "Y": 0.01726202017286566
         },
         {
          "X": "-21.8",
          "Y": 0.01726202017286566
         },
         {
          "X": "-21.700000000000003",
          "Y": 0.017641798280321277
         },
         {
          "X": "-21.6",
          "Y": 0.017978930559601917
         },
         {
          "X": "-21.5",
          "Y": 0.017978930559601917
         },
         {
          "X": "-21.400000000000002",
          "Y": 0.01828095426062653
         },
         {
          "X": "-21.3",
          "Y": 0.01828095426062653
         },
         {
          "X": "-21.200000000000003",
          "Y": 0.018554990532518433
         },
         {
          "X": "-21.1",
          "Y": 0.018807633046046907
         },
         {
          "X": "-21.0",
          "Y": 0.018807633046046907
         },
         {
          "X": "-20.900000000000002",
          "Y": 0.01904496503107801
         },
         {
          "X": "-20.8",
          "Y": 0.019272665432202615
         },
         {
          "X": "-20.700000000000003",
          "Y": 0.019272665432202615
         },
         {
          "X": "-20.6",
          "Y": 0.019496175974915826
         },
         {
          "X": "-20.5",
          "Y": 0.01972091238847237
         },
         {
          "X": "-20.400000000000002",
          "Y": 0.01972091238847237
         },
         {
          "X": "-20.3",
          "Y": 0.01995251279129623
         },
         {
          "X": "-20.200000000000003",
          "Y": 0.01995251279129623
         },
         {
          "X": "-20.1",
          "Y": 0.020197123421623726
         },
         {
          "X": "-20.0",
          "Y": 0.020461726068311863
         },
         {
          "X": "-19.900000000000002",
          "Y": 0.020461726068311863
         },
         {
          "X": "-19.8",
          "Y": 0.020754512215044152
         },
         {
          "X": "-19.700000000000003",
          "Y": 0.02108530509670596
         },
         {
          "X": "-19.6",
          "Y": 0.02108530509670596
         },
         {
          "X": "-19.5",
          "Y": 0.021466021032789884
         },
         {
          "X": "-19.400000000000002",
          "Y": 0.02191114358643642
         },
         {
          "X": "-19.3",
          "Y": 0.02191114358643642
         },
         {
          "X": "-19.200000000000003",
          "Y": 0.022438156571483528
         },
         {
          "X": "-19.1",
          "Y": 0.022438156571483528
         },
         {
          "X": "-19.0",
          "Y": 0.02306784453634828
         },
         {
          "X": "-18.900000000000002",
          "Y": 0.02382432560037023
         },
         {
          "X": "-18.8",
          "Y": 0.02382432560037023
         },
         {
          "X": "-18.7",
          "Y": 0.024734641083161715
         },
         {
          "X": "-18.6",
          "Y": 0.02582770688038764
         },
         {
          "X": "-18.5",
          "Y": 0.02582770688038764
         },
         {
          "X": "-18.400000000000002",
          "Y": 0.02713245757730838
         },
         {
          "X": "-18.3",
          "Y": 0.02867511113640313
         },
         {
          "X": "-18.2",
          "Y": 0.02867511113640313
         },
         {
          "X": "-18.1",
          "Y": 0.03047566296770495
         },
         {
          "X": "-18.0",
          "Y": 0.03047566296770495
         },
         {
          "X": "-17.900000000000002",
          "Y": 0.03254396811467755
         },
         {
          "X": "-17.8",
          "Y": 0.03487603309789824
         },
         {
          "X": "-17.7",
          "Y": 0.03487603309789824
         },
         {
          "X": "-17.6",
          "Y": 0.03745132115303244
         },
         {
          "X": "-17.5",
          "Y": 0.04023187313371652
         },
         {
          "X": "-17.400000000000002",
          "Y": 0.04023187313371652
         },
         {
          "X": "-17.3",
          "Y": 0.04316379689686786
         },
         {
          "X": "-17.2",
          "Y": 0.04618120219188518
         },
         {
          "X": "-17.1",
          "Y": 0.04618120219188518
         },
         {
          "X": "-17.0",
          "Y": 0.04921207906034816
         },
         {
          "X": "-16.900000000000002",
          "Y": 0.05218512386767836
         },
         {
          "X": "-16.8",
          "Y": 0.05218512386767836
         },
         {
          "X": "-16.7",
          "Y": 0.055036283558547394
         },
         {
          "X": "-16.6",
          "Y": 0.055036283558547394
         },
         {
          "X": "-16.5",
          "Y": 0.057713896877508
         },
         {
          "X": "-16.400000000000002",
          "Y": 0.0601817114560464
         },
         {
          "X": "-16.3",
          "Y": 0.0601817114560464
         },
         {
          "X": "-16.2",
          "Y": 0.06241959485283596
         },
         {
          "X": "-16.1",
          "Y": 0.06442225363440739
         },
         {
          "X": "-16.0",
          "Y": 0.06442225363440739
         },
         {
          "X": "-15.9",
          "Y": 0.06619659285977604
         },
         {
          "X": "-15.8",
          "Y": 0.0677584431222593
         },
         {
          "X": "-15.700000000000001",
          "Y": 0.0677584431222593
         },
         {
          "X": "-15.600000000000001",
          "Y": 0.06912929045913639
         },
         {
          "X": "-15.5",
          "Y": 0.07033344779069584
         },
         {
          "X": "-15.4",
          "Y": 0.07033344779069584
         },
         {
          "X": "-15.3",
          "Y": 0.07139588926064956
         },
         {
          "X": "-15.200000000000001",
          "Y": 0.07234078948881473
         },
         {
          "X": "-15.100000000000001",
          "Y": 0.07234078948881473
         },
         {
          "X": "-15.0",
          "Y": 0.07319069351113366
         },
         {
          "X": "-14.9",
          "Y": 0.07319069351113366
         },
         {
          "X": "-14.8",
          "Y": 0.07396618873057931
         },
         {
          "X": "-14.700000000000001",
          "Y": 0.0746859419827429
         },
         {
          "X": "-14.600000000000001",
          "Y": 0.0746859419827429
         },
         {
          "X": "-14.5",
          "Y": 0.0753669839246469
         },
         {
          "X": "-14.4",
          "Y": 0.07602515357754988
         },
         {
          "X": "-14.3",
          "Y": 0.07602515357754988
         },
         {
          "X": "-14.200000000000001",
          "Y": 0.0766756475200906
         },
         {
          "X": "-14.100000000000001",
          "Y": 0.07733364533784234
         },
         {
          "X": "-14.0",
          "Y": 0.07733364533784234
         },
         {
          "X": "-13.9",
          "Y": 0.0780150031726449
         },
         {
          "X": "-13.8",
          "Y": 0.07873701983498008
         },
         {
          "X": "-13.700000000000001",
          "Y": 0.07873701983498008
         },
         {
          "X": "-13.600000000000001",
          "Y": 0.07951928440146044
         },
         {
          "X": "-13.5",
          "Y": 0.08038460926551028
         },
         {
          "X": "-13.4",
          "Y": 0.08038460926551028
         },
         {
          "X": "-13.3",
          "Y": 0.08136003585392332
         },
         {
          "X": "-13.200000000000001",
          "Y": 0.08247786828068618
         },
         {
          "X": "-13.100000000000001",
          "Y": 0.08247786828068618
         },
         {
          "X": "-13.0",
          "Y": 0.08377663965320586
         },
         {
          "X": "-12.9",
          "Y": 0.08377663965320586
         },
         {
          "X": "-12.8",
          "Y": 0.0853018452157515
         },
         {
          "X": "-12.700000000000001",
          "Y": 0.08710619025096883
         },
         {
          "X": "-12.600000000000001",
          "Y": 0.08710619025096883
         },
         {
          "X": "-12.5",
          "Y": 0.08924901315106579
         },
         {
          "X": "-12.4",
          "Y": 0.09179448433819887
         },
         {
          "X": "-12.3",
          "Y": 0.09179448433819887
         },
         {
          "X": "-12.200000000000001",
          "Y": 0.09480819407050597
         },
         {
          "X": "-12.100000000000001",
          "Y": 0.09835187891645822
         },
         {
          "X": "-12.0",
          "Y": 0.09835187891645822
         },
         {
          "X": "-11.9",
          "Y": 0.10247633892540547
         },
         {
          "X": "-11.8",
          "Y": 0.10721306504783248
         },
         {
          "X": "-11.700000000000001",
          "Y": 0.10721306504783248
         },
         {
          "X": "-11.600000000000001",
          "Y": 0.1125656565888063
         },
         {
          "X": "-11.5",
          "Y": 0.11850260445235802
         },
         {
          "X": "-11.4",
          "Y": 0.11850260445235802
         },
         {
          "X": "-11.3",
          "Y": 0.12495323530175464
         },
         {
          "X": "-11.200000000000001",
          "Y": 0.13180836453067968
         },
         {
          "X": "-11.100000000000001",
          "Y": 0.13180836453067968
         },
         {
          "X": "-11.0",
          "Y": 0.13892642822669243
         },
         {
          "X": "-10.9",
          "Y": 0.14614469459626028
         },
         {
          "X": "-10.8",
          "Y": 0.14614469459626028
         },
         {
          "X": "-10.700000000000001",
          "Y": 0.15329392532126107
         },
         {
          "X": "-10.600000000000001",
          "Y": 0.15329392532126107
         },
         {
          "X": "-10.5",
          "Y": 0.1602139772414567
         },
         {
          "X": "-10.4",
          "Y": 0.16676761758743375
         },
         {
          "X": "-10.3",
          "Y": 0.16676761758743375
         },
         {
          "X": "-10.200000000000001",
          "Y": 0.1728503429583338
         },
         {
          "X": "-10.100000000000001",
          "Y": 0.17839504214145838
         },
         {
          "X": "-10.0",
          "Y": 0.17839504214145838
         },
         {
          "X": "-9.9",
          "Y": 0.183371551710185
         },
         {
          "X": "-9.8",
          "Y": 0.18778214404789206
         },
         {
          "X": "-9.700000000000001",
          "Y": 0.18778214404789206
         },
         {
          "X": "-9.600000000000001",
          "Y": 0.19165452579905384
         },
         {
          "X": "-9.5",
          "Y": 0.1950339752327614
         },
         {
          "X": "-9.4",
          "Y": 0.1950339752327614
         },
         {
          "X": "-9.3",
          "Y": 0.197975933511116
         },
         {
          "X": "-9.200000000000001",
          "Y": 0.20053988013197788
         },
         {
          "X": "-9.1",
          "Y": 0.20053988013197788
         },
         {
          "X": "-9.0",
          "Y": 0.20278484185448592
         },
         {
          "X": "-8.9",
          "Y": 0.20476651595814632
         },
         {
          "X": "-8.8",
          "Y": 0.20476651595814632
         },
         {
          "X": "-8.700000000000001",
          "Y": 0.20653576897350762
         },
         {
          "X": "-8.6",
          "Y": 0.20813818525815558
         },
         {
          "X": "-8.5",
          "Y": 0.20813818525815558
         },
         {
          "X": "-8.4",
          "Y": 0.20961434587646502
         },
         {
          "X": "-8.3",
          "Y": 0.20961434587646502
         },
         {
          "X": "-8.200000000000001",
          "Y": 0.2110005747272693
         },
         {
          "X": "-8.1",
          "Y": 0.2123299627194024
         },
         {
          "X": "-8.0",
          "Y": 0.2123299627194024
         },
         {
          "X": "-7.9",
          "Y": 0.21363355147632085
         },
         {
          "X": "-7.800000000000001",
          "Y": 0.21494161550708563
         },
         {
          "X": "-7.7",
          "Y": 0.21494161550708563
         },
         {
          "X": "-7.6000000000000005",
          "Y": 0.21628502265373467
         },
         {
          "X": "-7.5",
          "Y": 0.21769667659589415
         },
         {
          "X": "-7.4",
          "Y": 0.21769667659589415
         },
         {
          "X": "-7.300000000000001",
          "Y": 0.21921305226990578
         },
         {
          "X": "-7.2",
          "Y": 0.22087582393226618
         },
         {
          "X": "-7.1000000000000005",
          "Y": 0.22087582393226618
         },
         {
          "X": "-7.0",
          "Y": 0.22273355301938214
         },
         {
          "X": "-6.9",
          "Y": 0.22484334423821084
         },
         {
          "X": "-6.800000000000001",
          "Y": 0.22484334423821084
         },
         {
          "X": "-6.7",
          "Y": 0.22727228928658916
         },
         {
          "X": "-6.6000000000000005",
          "Y": 0.23009839848417685
         },
         {
          "X": "-6.5",
          "Y": 0.23009839848417685
         },
         {
          "X": "-6.4",
          "Y": 0.233410582121236
         },
         {
          "X": "-6.300000000000001",
          "Y": 0.23730711412976965
         },
         {
          "X": "-6.2",
          "Y": 0.23730711412976965
         },
         {
          "X": "-6.1000000000000005",
          "Y": 0.2418919431236244
         },
         {
          "X": "-6.0",
          "Y": 0.2418919431236244
         },
         {
          "X": "-5.9",
          "Y": 0.24726828476938856
         },
         {
          "X": "-5.800000000000001",
          "Y": 0.2535292164400341
         },
         {
          "X": "-5.7",
          "Y": 0.2535292164400341
         },
         {
          "X": "-5.6000000000000005",
          "Y": 0.26074555348616035
         },
         {
          "X": "-5.5",
          "Y": 0.26895209096834505
         },
         {
          "X": "-5.4",
          "Y": 0.26895209096834505
         },
         {
          "X": "-5.300000000000001",
          "Y": 0.27813419561845354
         },
         {
          "X": "-5.2",
          "Y": 0.288217448735271
         },
         {
          "X": "-5.1000000000000005",
          "Y": 0.288217448735271
         },
         {
          "X": "-5.0",
          "Y": 0.2990632230981121
         },
         {
          "X": "-4.9",
          "Y": 0.31047245045421706
         },
         {
          "X": "-4.800000000000001",
          "Y": 0.31047245045421706
         },
         {
          "X": "-4.7",
          "Y": 0.3221983664164726
         },
         {
          "X": "-4.6000000000000005",
          "Y": 0.3339670151176497
         },
         {
          "X": "-4.5",
          "Y": 0.3339670151176497
         },
         {
          "X": "-4.4",
          "Y": 0.34550235497212245
         },
         {
          "X": "-4.3",
          "Y": 0.3565515965686048
         },
         {
          "X": "-4.2",
          "Y": 0.3565515965686048
         },
         {
          "X": "-4.1000000000000005",
          "Y": 0.36690636575907803
         },
         {
          "X": "-4.0",
          "Y": 0.36690636575907803
         },
         {
          "X": "-3.9000000000000004",
          "Y": 0.3764164269895297
         },
         {
          "X": "-3.8000000000000003",
          "Y": 0.3849945960893571
         },
         {
          "X": "-3.7",
          "Y": 0.3849945960893571
         },
         {
          "X": "-3.6",
          "Y": 0.3926134608483914
         },
         {
          "X": "-3.5",
          "Y": 0.3992960161573067
         },
         {
          "X": "-3.4000000000000004",
          "Y": 0.3992960161573067
         },
         {
          "X": "-3.3000000000000003",
          "Y": 0.40510299345870016
         },
         {
          "X": "-3.2",
          "Y": 0.41011954221113867
         },
         {
          "X": "-3.1",
          "Y": 0.41011954221113867
         },
         {
          "X": "-3.0",
          "Y": 0.4144432630222328
         },
         {
          "X": "-2.9000000000000004",
          "Y": 0.4181747336246435
         },
         {
          "X": "-2.8000000000000003",
          "Y": 0.4181747336246435
         },
         {
          "X": "-2.7",
          "Y": 0.42141088543644056
         },
         {
          "X": "-2.6",
          "Y": 0.4242410312148287
         },
         {
          "X": "-2.5",
          "Y": 0.4242410312148287
         },
         {
          "X": "-2.4000000000000004",
          "Y": 0.42674504481269937
         },
         {
          "X": "-2.3000000000000003",
          "Y": 0.4289931066016701
         },
         {
          "X": "-2.2",
          "Y": 0.4289931066016701
         },
         {
          "X": "-2.1",
          "Y": 0.4310464774499409
         },
         {
          "X": "-2.0",
          "Y": 0.4310464774499409
         },
         {
          "X": "-1.9000000000000001",
          "Y": 0.4329588791836792
         },
         {
          "X": "-1.8",
          "Y": 0.43477818911947097
         },
         {
          "X": "-1.7000000000000002",
          "Y": 0.43477818911947097
         },
         {
          "X": "-1.6",
          "Y": 0.43654827138974306
         },
         {
          "X": "-1.5",
          "Y": 0.4383108561413406
         },
         {
          "X": "-1.4000000000000001",
          "Y": 0.4383108561413406
         },
         {
          "X": "-1.3",
          "Y": 0.440107437030124
         },
         {
          "X": "-1.2000000000000002",
          "Y": 0.4419811896552056
         },
         {
          "X": "-1.1",
          "Y": 0.4419811896552056
         },
         {
          "X": "-1.0",
          "Y": 0.4439789207374406
         },
         {
          "X": "-0.9",
          "Y": 0.4461530400753831
         },
         {
          "X": "-0.8",
          "Y": 0.4461530400753831
         },
         {
          "X": "-0.7000000000000001",
          "Y": 0.4485635022996514
         },
         {
          "X": "-0.6000000000000001",
          "Y": 0.45127958951056435
         },
         {
          "X": "-0.5",
          "Y": 0.45127958951056435
         },
         {
          "X": "-0.4",
          "Y": 0.45438129687072926
         },
         {
          "X": "-0.30000000000000004",
          "Y": 0.4579599456364869
         },
         {
          "X": "-0.2",
          "Y": 0.4579599456364869
         },
         {
          "X": "-0.1",
          "Y": 0.4621175003390685
         },
         {
          "X": "0.0",
          "Y": 0.466963948900211
         },
         {
          "X": "0.1",
          "Y": 0.466963948900211
         },
         {
          "X": "0.2",
          "Y": 0.472612082264385
         },
         {
          "X": "0.30000000000000004",
          "Y": 0.472612082264385
         },
         {
          "X": "0.4",
          "Y": 0.4791691692092402
         },
         {
          "X": "0.5",
          "Y": 0.4867254435422537
         },
         {
          "X": "0.6000000000000001",
          "Y": 0.4867254435422537
         },
         {
          "X": "0.7000000000000001",
          "Y": 0.4953400369290184
         },
         {
          "X": "0.8",
          "Y": 0.5050259281552563
         },
         {
          "X": "0.9",
          "Y": 0.5050259281552563
         },
         {
          "X": "1.0",
          "Y": 0.5157364212731503
         },
         {
          "X": "1.1",
          "Y": 0.5273562652740454
         },
         {
          "X": "1.2000000000000002",
          "Y": 0.5273562652740454
         },
         {
          "X": "1.3",
          "Y": 0.5397004142463109
         },
         {
          "X": "1.4000000000000001",
          "Y": 0.5525223732847885
         },
         {
          "X": "1.5",
          "Y": 0.5525223732847885
         },
         {
          "X": "1.6",
          "Y": 0.5655321739613536
         },
         {
          "X": "1.7000000000000002",
          "Y": 0.5784217462783007
         },
         {
          "X": "1.8",
          "Y": 0.5784217462783007
         },
         {
          "X": "1.9000000000000001",
          "Y": 0.5908935273952465
         },
         {
          "X": "2.0",
          "Y": 0.6026872593576783
         },
         {
          "X": "2.1",
          "Y": 0.6026872593576783
         },
         {
          "X": "2.2",
          "Y": 0.6136004137874638
         },
         {
          "X": "2.3000000000000003",
          "Y": 0.6136004137874638
         },
         {
          "X": "2.4000000000000004",
          "Y": 0.6234993601251995
         },
         {
          "X": "2.5",
          "Y": 0.6323206557906568
         },
         {
          "X": "2.6",
          "Y": 0.6323206557906568
         },
         {
          "X": "2.7",
          "Y": 0.6400639284905034
         },
         {
          "X": "2.8000000000000003",
          "Y": 0.6467791656522559
         },
         {
          "X": "2.9000000000000004",
          "Y": 0.6467791656522559
         },
         {
          "X": "3.0",
          "Y": 0.6525516108596305
         },
         {
          "X": "3.1",
          "Y": 0.6574870371201805
         },
         {
          "X": "3.2",
          "Y": 0.6574870371201805
         },
         {
          "X": "3.3000000000000003",
          "Y": 0.6616992737166949
         },
         {
          "X": "3.4000000000000004",
          "Y": 0.665300880730099
         },
         {
          "X": "3.5",
          "Y": 0.665300880730099
         },
         {
          "X": "3.6",
          "Y": 0.6683970584783531
         },
         {
          "X": "3.7",
          "Y": 0.6710823638762319
         },
         {
          "X": "3.8000000000000003",
          "Y": 0.6710823638762319
         },
         {
          "X": "3.9000000000000004",
          "Y": 0.6734395752658063
         },
         {
          "X": "4.0",
          "Y": 0.6755400277819468
         },
         {
          "X": "4.1000000000000005",
          "Y": 0.6755400277819468
         },
         {
          "X": "4.2",
          "Y": 0.6774448430078972
         },
         {
          "X": "4.3",
          "Y": 0.6774448430078972
         },
         {
          "X": "4.4",
          "Y": 0.6792066248969277
         },
         {
          "X": "4.5",
          "Y": 0.6808713402483008
         },
         {
          "X": "4.6000000000000005",
          "Y": 0.6808713402483008
         },
         {
          "X": "4.7",
          "Y": 0.6824802222018803
         },
         {
          "X": "4.800000000000001",
          "Y": 0.6840716217829482
         },
         {
          "X": "4.9",
          "Y": 0.6840716217829482
         },
         {
          "X": "5.0",
          "Y": 0.6856827869459974
         },
         {
          "X": "5.1000000000000005",
          "Y": 0.6873515753267738
         },
         {
          "X": "5.2",
          "Y": 0.6873515753267738
         },
         {
          "X": "5.300000000000001",
          "Y": 0.6891181099982081
         },
         {
          "X": "5.4",
          "Y": 0.6910263688420103
         },
         {
          "X": "5.5",
          "Y": 0.6910263688420103
         },
         {
          "X": "5.6000000000000005",
          "Y": 0.6931256574790816
         },
         {
          "X": "5.7",
          "Y": 0.6954718520123602
         },
         {
          "X": "5.800000000000001",
          "Y": 0.6954718520123602
         },
         {
          "X": "5.9",
          "Y": 0.6981282119804814
         },
         {
          "X": "6.0",
          "Y": 0.7011654628692634
         },
         {
          "X": "6.1000000000000005",
          "Y": 0.7011654628692634
         },
         {
          "X": "6.2",
          "Y": 0.7046607496842505
         },
         {
          "X": "6.300000000000001",
          "Y": 0.7046607496842505
         },
         {
          "X": "6.4",
          "Y": 0.7086950030661449
         },
         {
          "X": "6.5",
          "Y": 0.713348288833819
         },
         {
          "X": "6.6000000000000005",
          "Y": 0.713348288833819
         },
         {
          "X": "6.7",
          "Y": 0.7186928910146249
         },
         {
          "X": "6.800000000000001",
          "Y": 0.7247842547269621
         },
         {
          "X": "6.9",
          "Y": 0.7247842547269621
         },
         {
          "X": "7.0",
          "Y": 0.7316504882964712
         },
         {
          "X": "7.1000000000000005",
          "Y": 0.7392818082635682
         },
         {
          "X": "7.2",
          "Y": 0.7392818082635682
         },
         {
          "X": "7.300000000000001",
          "Y": 0.747621918750089
         },
         {
          "X": "7.4",
          "Y": 0.7565635877682471
         },
         {
          "X": "7.5",
          "Y": 0.7565635877682471
         },
         {
          "X": "7.6000000000000005",
          "Y": 0.7659503747121392
         },
         {
          "X": "7.7",
          "Y": 0.775585478633878
         },
         {
          "X": "7.800000000000001",
          "Y": 0.775585478633878
         },
         {
          "X": "7.9",
          "Y": 0.7852471701184536
         },
         {
          "X": "8.0",
          "Y": 0.794708651662613
         },
         {
          "X": "8.1",
          "Y": 0.794708651662613
         },
         {
          "X": "8.200000000000001",
          "Y": 0.8037589993758706
         },
         {
          "X": "8.3",
          "Y": 0.8122215101035624
         },
         {
          "X": "8.4",
          "Y": 0.8122215101035624
         },
         {
          "X": "8.5",
          "Y": 0.8199664452330324
         },
         {
          "X": "8.6",
          "Y": 0.8199664452330324
         },
         {
          "X": "8.700000000000001",
          "Y": 0.8269165854027872
         },
         {
          "X": "8.8",
          "Y": 0.833045688874151
         },
         {
          "X": "8.9",
          "Y": 0.833045688874151
         },
         {
          "X": "9.0",
          "Y": 0.8383713472284309
         },
         {
          "X": "9.1",
          "Y": 0.8429445037798167
         },
         {
          "X": "9.200000000000001",
          "Y": 0.8429445037798167
         },
         {
          "X": "9.3",
          "Y": 0.8468379708686057
         },
         {
          "X": "9.4",
          "Y": 0.8501358188088259
         },
         {
          "X": "9.5",
          "Y": 0.8501358188088259
         },
         {
          "X": "9.600000000000001",
          "Y": 0.8529247908614438
         },
         {
          "X": "9.700000000000001",
          "Y": 0.8552881863851354
         },
         {
          "X": "9.8",
          "Y": 0.8552881863851354
         },
         {
          "X": "9.9",
          "Y": 0.8573021134400982
         },
         {
          "X": "10.0",
          "Y": 0.8590336977828285
         },
         {
          "X": "10.100000000000001",
          "Y": 0.8590336977828285
         },
         {
          "X": "10.200000000000001",
          "Y": 0.8605407219822485
         },
         {
          "X": "10.3",
          "Y": 0.8618721930321237
         },
         {
          "X": "10.4",
          "Y": 0.8618721930321237
         },
         {
          "X": "10.5",
          "Y": 0.8630694328739645
         },
         {
          "X": "10.600000000000001",
          "Y": 0.8641674027989455
         },
         {
          "X": "10.700000000000001",
          "Y": 0.8641674027989455
         },
         {
          "X": "10.8",
          "Y": 0.8651960792713209
         },
         {
          "X": "10.9",
          "Y": 0.8651960792713209
         },
         {
          "X": "11.0",
          "Y": 0.8661817818785553
         },
         {
          "X": "11.100000000000001",
          "Y": 0.8671484114150743
         },
         {
          "X": "11.200000000000001",
          "Y": 0.8671484114150743
         },
         {
          "X": "11.3",
          "Y": 0.8681185904652637
         },
         {
          "X": "11.4",
          "Y": 0.8691147146491678
         },
         {
          "X": "11.5",
          "Y": 0.8691147146491678
         },
         {
          "X": "11.600000000000001",
          "Y": 0.8701599236227944
         },
         {
          "X": "11.700000000000001",
          "Y": 0.8712789891740633
         },
         {
          "X": "11.8",
          "Y": 0.8712789891740633
         },
         {
          "X": "11.9",
          "Y": 0.8724990941521349
         },
         {
          "X": "12.0",
          "Y": 0.8738504408615931
         },
         {
          "X": "12.100000000000001",
          "Y": 0.8738504408615931
         },
         {
          "X": "12.200000000000001",
          "Y": 0.8753665824172631
         },
         {
          "X": "12.3",
          "Y": 0.8770843202771214
         },
         {
          "X": "12.4",
          "Y": 0.8770843202771214
         },
         {
          "X": "12.5",
          "Y": 0.8790429667070351
         },
         {
          "X": "12.600000000000001",
          "Y": 0.8812827513598708
         },
         {
          "X": "12.700000000000001",
          "Y": 0.8812827513598708
         },
         {
          "X": "12.8",
          "Y": 0.8838421832448511
         },
         {
          "X": "12.9",
          "Y": 0.886754292185378
         },
         {
          "X": "13.0",
          "Y": 0.886754292185378
         },
         {
          "X": "13.100000000000001",
          "Y": 0.8900418865165067
         },
         {
          "X": "13.200000000000001",
          "Y": 0.8900418865165067
         },
         {
          "X": "13.3",
          "Y": 0.8937122673497901
         },
         {
          "X": "13.4",
          "Y": 0.897752179939195
         },
         {
          "X": "13.5",
          "Y": 0.897752179939195
         },
         {
          "X": "13.600000000000001",
          "Y": 0.9021240552064214
         },
         {
          "X": "13.700000000000001",
          "Y": 0.9067646661096197
         },
         {
          "X": "13.8",
          "Y": 0.9067646661096197
         },
         {
          "X": "13.9",
          "Y": 0.9115870829677587
         },
         {
          "X": "14.0",
          "Y": 0.9164862352423273
         },
         {
          "X": "14.100000000000001",
          "Y": 0.9164862352423273
         },
         {
          "X": "14.200000000000001",
          "Y": 0.9213475842246227
         },
         {
          "X": "14.3",
          "Y": 0.9260576138597123
         },
         {
          "X": "14.4",
          "Y": 0.9260576138597123
         },
         {
          "X": "14.5",
          "Y": 0.9305143302766634
         },
         {
          "X": "14.600000000000001",
          "Y": 0.9346359220819658
         },
         {
          "X": "14.700000000000001",
          "Y": 0.9346359220819658
         },
         {
          "X": "14.8",
          "Y": 0.9383661974961931
         },
         {
          "X": "14.9",
          "Y": 0.9416762165383292
         },
         {
          "X": "15.0",
          "Y": 0.9416762165383292
         },
         {
          "X": "15.100000000000001",
          "Y": 0.9445623994653407
         },
         {
          "X": "15.200000000000001",
          "Y": 0.9445623994653407
         },
         {
          "X": "15.3",
          "Y": 0.9470420505398424
         },
         {
          "X": "15.4",
          "Y": 0.9491475376188891
         },
         {
          "X": "15.5",
          "Y": 0.9491475376188891
         },
         {
          "X": "15.600000000000001",
          "Y": 0.9509203113024005
         },
         {
          "X": "15.700000000000001",
          "Y": 0.952405644233058
         },
         {
          "X": "15.8",
          "Y": 0.952405644233058
         },
         {
          "X": "15.9",
          "Y": 0.9536485747837478
         },
         {
          "X": "16.0",
          "Y": 0.9546911789794259
         },
         {
          "X": "16.1",
          "Y": 0.9546911789794259
         },
         {
          "X": "16.2",
          "Y": 0.9555710419461336
         },
         {
          "X": "16.3",
          "Y": 0.9563206701417162
         },
         {
          "X": "16.400000000000002",
          "Y": 0.9563206701417162
         },
         {
          "X": "16.5",
          "Y": 0.956967555264652
         },
         {
          "X": "16.6",
          "Y": 0.9575346329249771
         },
         {
          "X": "16.7",
          "Y": 0.9575346329249771
         },
         {
          "X": "16.8",
          "Y": 0.958040939266696
         },
         {
          "X": "16.900000000000002",
          "Y": 0.958040939266696
         },
         {
          "X": "17.0",
          "Y": 0.9585023324327908
         },
         {
          "X": "17.1",
          "Y": 0.9589321999015961
         },
         {
          "X": "17.2",
          "Y": 0.9589321999015961
         },
         {
          "X": "17.3",
          "Y": 0.959342112614715
         },
         {
          "X": "17.400000000000002",
          "Y": 0.9597424127584269
         },
         {
          "X": "17.5",
          "Y": 0.9597424127584269
         },
         {
          "X": "17.6",
          "Y": 0.9601427364574509
         },
         {
          "X": "17.7",
          "Y": 0.9605524781840039
         },
         {
          "X": "17.8",
          "Y": 0.9605524781840039
         },
         {
          "X": "17.900000000000002",
          "Y": 0.9609812024645026
         },
         {
          "X": "18.0",
          "Y": 0.9614390017317236
         },
         {
          "X": "18.1",
          "Y": 0.9614390017317236
         },
         {
          "X": "18.2",
          "Y": 0.9619367875386193
         },
         {
          "X": "18.3",
          "Y": 0.9619367875386193
         },
         {
          "X": "18.400000000000002",
          "Y": 0.9624864863388753
         },
         {
          "X": "18.5",
          "Y": 0.9631010919025778
         },
         {
          "X": "18.6",
          "Y": 0.9631010919025778
         },
         {
          "X": "18.7",
          "Y": 0.9637945072421701
         },
         {
          "X": "18.8",
          "Y": 0.9645810956406358
         },
         {
          "X": "18.900000000000002",
          "Y": 0.9645810956406358
         },
         {
          "X": "19.0",
          "Y": 0.9654748623662359
         },
         {
          "X": "19.1",
          "Y": 0.966488217645397
         },
         {
          "X": "19.200000000000003",
          "Y": 0.966488217645397
         },
         {
          "X": "19.3",
          "Y": 0.9676303378633788
         },
         {
          "X": "19.400000000000002",
          "Y": 0.9676303378633788
         },
         {
          "X": "19.5",
          "Y": 0.9689052482552964
         },
         {
          "X": "19.6",
          "Y": 0.9703098830224148
         },
         {
          "X": "19.700000000000003",
          "Y": 0.9703098830224148
         },
         {
          "X": "19.8",
          "Y": 0.9718325030782861
         },
         {
          "X": "19.900000000000002",
          "Y": 0.9734519150475418
         },
         {
          "X": "20.0",
          "Y": 0.9734519150475418
         },
         {
          "X": "20.1",
          "Y": 0.9751378843963734
         },
         {
          "X": "20.200000000000003",
          "Y": 0.9768529439431581
         },
         {
          "X": "20.3",
          "Y": 0.9768529439431581
         },
         {
          "X": "20.400000000000002",
          "Y": 0.9785554921004789
         },
         {
          "X": "20.5",
          "Y": 0.9785554921004789
         },
         {
          "X": "20.6",
          "Y": 0.980203737127331
         },
         {
          "X": "20.700000000000003",
          "Y": 0.9817597916448263
         },
         {
          "X": "20.8",
          "Y": 0.9817597916448263
         },
         {
          "X": "20.900000000000002",
          "Y": 0.9831931555897562
         },
         {
          "X": "21.0",
          "Y": 0.9844829783047002
         },
         {
          "X": "21.1",
          "Y": 0.9844829783047002
         },
         {
          "X": "21.200000000000003",
          "Y": 0.9856188078124689
         },
         {
          "X": "21.3",
          "Y": 0.9865999021127764
         },
         {
          "X": "21.400000000000002",
          "Y": 0.9865999021127764
         },
         {
          "X": "21.5",
          "Y": 0.987433471152795
         },
         {
          "X": "21.6",
          "Y": 0.987433471152795
         },
         {
          "X": "21.700000000000003",
          "Y": 0.9881323618338353
         },
         {
          "X": "21.8",
          "Y": 0.9887126830091324
         },
         {
          "X": "21.900000000000002",
          "Y": 0.9887126830091324
         },
         {
          "X": "22.0",
          "Y": 0.9891917394618951
         },
         {
          "X": "22.1",
          "Y": 0.9895864723963377
         },
         {
          "X": "22.200000000000003",
          "Y": 0.9895864723963377
         },
         {
          "X": "22.3",
          "Y": 0.9899124485345105
         },
         {
          "X": "22.400000000000002",
          "Y": 0.9899124485345105
         },
         {
          "X": "22.5",
          "Y": 0.9901833334091908
         },
         {
          "X": "22.6",
          "Y": 0.9904107328526716
         },
         {
          "X": "22.700000000000003",
          "Y": 0.9904107328526716
         },
         {
          "X": "22.8",
          "Y": 0.9906042785838876
         },
         {
          "X": "22.900000000000002",
          "Y": 0.9907718516608361
         },
         {
          "X": "23.0",
          "Y": 0.9907718516608361
         },
         {
          "X": "23.1",
          "Y": 0.9909198656895001
         },
         {
          "X": "23.200000000000003",
          "Y": 0.9909198656895001
         },
         {
          "X": "23.3",
          "Y": 0.9910535595955925
         },
         {
          "X": "23.400000000000002",
          "Y": 0.9911772722900831
         },
         {
          "X": "23.5",
          "Y": 0.9911772722900831
         },
         {
          "X": "23.6",
          "Y": 0.991294687288599
         },
         {
          "X": "23.700000000000003",
          "Y": 0.991294687288599
         },
         {
          "X": "23.8",
          "Y": 0.9914090449122153
         },
         {
          "X": "23.900000000000002",
          "Y": 0.9915233244575532
         },
         {
          "X": "24.0",
          "Y": 0.9915233244575532
         },
         {
          "X": "24.1",
          "Y": 0.9916403999880807
         },
         {
          "X": "24.200000000000003",
          "Y": 0.9917631721135399
         },
         {
          "X": "24.3",
          "Y": 0.9917631721135399
         },
         {
          "X": "24.400000000000002",
          "Y": 0.9918946748488988
         },
         {
          "X": "24.5",
          "Y": 0.9918946748488988
         },
         {
          "X": "24.6",
          "Y": 0.9920381517072588
         },
         {
          "X": "24.700000000000003",
          "Y": 0.9921970889793621
         },
         {
          "X": "24.8",
          "Y": 0.9921970889793621
         },
         {
          "X": "24.900000000000002",
          "Y": 0.992375187560057
         },
         {
          "X": "25.0",
          "Y": 0.992375187560057
         },
         {
          "X": "25.1",
          "Y": 0.9925762495095981
         },
         {
          "X": "25.200000000000003",
          "Y": 0.9928039548487388
         },
         {
          "X": "25.3",
          "Y": 0.9928039548487388
         },
         {
          "X": "25.400000000000002",
          "Y": 0.9930615120086463
         },
         {
          "X": "25.5",
          "Y": 0.9930615120086463
         },
         {
          "X": "25.6",
          "Y": 0.9933511859072832
         },
         {
          "X": "25.700000000000003",
          "Y": 0.9936737422700528
         },
         {
          "X": "25.8",
          "Y": 0.9936737422700528
         },
         {
          "X": "25.900000000000002",
          "Y": 0.9940278912166916
         },
         {
          "X": "26.0",
          "Y": 0.9940278912166916
         },
         {
          "X": "26.1",
          "Y": 0.994409854768441
         },
         {
          "X": "26.200000000000003",
          "Y": 0.9948132022194107
         },
         {
          "X": "26.3",
          "Y": 0.9948132022194107
         },
         {
          "X": "26.400000000000002",
          "Y": 0.9952290744522383
         },
         {
          "X": "26.5",
          "Y": 0.9952290744522383
         },
         {
          "X": "26.6",
          "Y": 0.9956468446404483
         },
         {
          "X": "26.700000000000003",
          "Y": 0.9960551513385145
         },
         {
          "X": "26.8",
          "Y": 0.9960551513385145
         },
         {
          "X": "26.900000000000002",
          "Y": 0.9964431263978278
         },
         {
          "X": "27.0",
          "Y": 0.9964431263978278
         },
         {
          "X": "27.1",
          "Y": 0.9968015699087924
         },
         {
          "X": "27.200000000000003",
          "Y": 0.9971238301466249
         },
         {
          "X": "27.3",
          "Y": 0.9971238301466249
         },
         {
          "X": "27.400000000000002",
          "Y": 0.9974062293361563
         },
         {
          "X": "27.5",
          "Y": 0.9974062293361563
         },
         {
          "X": "27.6",
          "Y": 0.9976480031722119
         },
         {
          "X": "27.700000000000003",
          "Y": 0.9978508437717044
         },
         {
          "X": "27.8",
          "Y": 0.9978508437717044
         },
         {
          "X": "27.900000000000002",
          "Y": 0.9980182107153763
         },
         {
          "X": "28.0",
          "Y": 0.9980182107153763
         },
         {
          "X": "28.1",
          "Y": 0.9981545876202231
         },
         {
          "X": "28.200000000000003",
          "Y": 0.9982648239857533
         },
         {
          "X": "28.3",
          "Y": 0.9982648239857533
         },
         {
          "X": "28.400000000000002",
          "Y": 0.9983536405422623
         },
         {
          "X": "28.5",
          "Y": 0.9983536405422623
         },
         {
          "X": "28.6",
          "Y": 0.9984253171275194
         },
         {
          "X": "28.700000000000003",
          "Y": 0.9984835409415966
         },
         {
          "X": "28.8",
          "Y": 0.9984835409415966
         },
         {
          "X": "28.900000000000002",
          "Y": 0.9985313735322139
         },
         {
          "X": "29.0",
          "Y": 0.9985313735322139
         },
         {
          "X": "29.1",
          "Y": 0.9985712925694179
         },
         {
          "X": "29.200000000000003",
          "Y": 0.9985712925694179
         },
         {
          "X": "29.3",
          "Y": 0.9986052720308496
         },
         {
          "X": "29.400000000000002",
          "Y": 0.9986348753641527
         },
         {
          "X": "29.5",
          "Y": 0.9986348753641527
         },
         {
          "X": "29.6",
          "Y": 0.9986613464398512
         },
         {
          "X": "29.700000000000003",
          "Y": 0.9986613464398512
         },
         {
          "X": "29.8",
          "Y": 0.9986856908722994
         },
         {
          "X": "29.900000000000002",
          "Y": 0.9986856908722994
         },
         {
          "X": "30.0",
          "Y": 0.9987087453064314
         },
         {
          "X": "30.1",
          "Y": 0.9987312350049792
         },
         {
          "X": "30.200000000000003",
          "Y": 0.9987312350049792
         },
         {
          "X": "30.3",
          "Y": 0.9987538211600089
         },
         {
          "X": "30.400000000000002",
          "Y": 0.9987538211600089
         },
         {
          "X": "30.5",
          "Y": 0.9987771393281295
         },
         {
          "X": "30.6",
          "Y": 0.9987771393281295
         },
         {
          "X": "30.700000000000003",
          "Y": 0.9988018296032477
         },
         {
          "X": "30.8",
          "Y": 0.9988285578011092
         },
         {
          "X": "30.900000000000002",
          "Y": 0.9988285578011092
         },
         {
          "X": "31.0",
          "Y": 0.998858025201258
         },
         {
          "X": "31.1",
          "Y": 0.998858025201258
         },
         {
          "X": "31.200000000000003",
          "Y": 0.9988909625482303
         },
         {
          "X": "31.3",
          "Y": 0.9988909625482303
         },
         {
          "X": "31.400000000000002",
          "Y": 0.9989281026082109
         },
         {
          "X": "31.5",
          "Y": 0.9989701255651904
         },
         {
          "X": "31.6",
          "Y": 0.9989701255651904
         },
         {
          "X": "31.700000000000003",
          "Y": 0.9990175742088404
         },
         {
          "X": "31.8",
          "Y": 0.9990175742088404
         },
         {
          "X": "31.900000000000002",
          "Y": 0.9990707423801068
         },
         {
          "X": "32.0",
          "Y": 0.9990707423801068
         },
         {
          "X": "32.1",
          "Y": 0.9991295506091302
         },
         {
          "X": "32.2",
          "Y": 0.999193435195115
         },
         {
          "X": "32.300000000000004",
          "Y": 0.999193435195115
         },
         {
          "X": "32.4",
          "Y": 0.9992612862286765
         },
         {
          "X": "32.5",
          "Y": 0.9992612862286765
         },
         {
          "X": "32.6",
          "Y": 0.9993314696488502
         },
         {
          "X": "32.7",
          "Y": 0.9993314696488502
         },
         {
          "X": "32.800000000000004",
          "Y": 0.9994019534277119
         },
         {
          "X": "32.9",
          "Y": 0.9994019534277119
         },
         {
          "X": "33.0",
          "Y": 0.9994705294526769
         },
         {
          "X": "33.1",
          "Y": 0.9995350898836717
         },
         {
          "X": "33.2",
          "Y": 0.9995350898836717
         },
         {
          "X": "33.300000000000004",
          "Y": 0.9995938941814251
         },
         {
          "X": "33.4",
          "Y": 0.9995938941814251
         },
         {
          "X": "33.5",
          "Y": 0.9996457625794852
         },
         {
          "X": "33.6",
          "Y": 0.9996457625794852
         },
         {
          "X": "33.7",
          "Y": 0.999690155141131
         },
         {
          "X": "33.800000000000004",
          "Y": 0.999690155141131
         },
         {
          "X": "33.9",
          "Y": 0.9997271322557948
         },
         {
          "X": "34.0",
          "Y": 0.9997271322557948
         },
         {
          "X": "34.1",
          "Y": 0.9997572260380665
         },
         {
          "X": "34.2",
          "Y": 0.9997812696965594
         },
         {
          "X": "34.300000000000004",
          "Y": 0.9997812696965594
         },
         {
          "X": "34.4",
          "Y": 0.9998002303729486
         },
         {
          "X": "34.5",
          "Y": 0.9998002303729486
         },
         {
          "X": "34.6",
          "Y": 0.9998150761162556
         },
         {
          "X": "34.7",
          "Y": 0.9998150761162556
         },
         {
          "X": "34.800000000000004",
          "Y": 0.9998266890641281
         },
         {
          "X": "34.9",
          "Y": 0.9998266890641281
         },
         {
          "X": "35.0",
          "Y": 0.9998358220968864
         }
        ]
       },
       "encoding": {
        "x": {
         "field": "X",
         "type": "quantitative"
        },
        "y": {
         "field": "Y",
         "type": "quantitative"
        }
       },
       "height": 200,
       "mark": "bar",
       "width": 200
      },
      "image/png": "[encoded data removed]"
     },
     "metadata": {},
     "output_type": "display_data"
    }
   ],
   "source": [
    "plot $ plotCdf 700 0.1 $ normalize model4"
   ]
  },
  {
   "cell_type": "code",
   "execution_count": 80,
   "metadata": {},
   "outputs": [
    {
     "data": {
      "application/vnd.vegalite.v4+json": {
       "$schema": "https://vega.github.io/schema/vega-lite/v4.json",
       "data": {
        "values": [
         {
          "X": "-3.4000000000000004",
          "Y": 6.950317017405424e-05
         },
         {
          "X": "-3.3000000000000003",
          "Y": 0.00010164148887630666
         },
         {
          "X": "-3.2",
          "Y": 0.00014714278717500919
         },
         {
          "X": "-3.1",
          "Y": 0.0002116359331091854
         },
         {
          "X": "-3.0",
          "Y": 0.0003008830961431438
         },
         {
          "X": "-2.9000000000000004",
          "Y": 0.0004245565559178024
         },
         {
          "X": "-2.8000000000000003",
          "Y": 0.000592958914929261
         },
         {
          "X": "-2.7",
          "Y": 0.0008210921898807828
         },
         {
          "X": "-2.6",
          "Y": 0.0011295218764828085
         },
         {
          "X": "-2.5",
          "Y": 0.0015370833432355548
         },
         {
          "X": "-2.4000000000000004",
          "Y": 0.0020767346995768524
         },
         {
          "X": "-2.3000000000000003",
          "Y": 0.0027750550507635594
         },
         {
          "X": "-2.2",
          "Y": 0.003682003095772265
         },
         {
          "X": "-2.1",
          "Y": 0.004836377479561093
         },
         {
          "X": "-2.0",
          "Y": 0.0063037376968154545
         },
         {
          "X": "-1.9000000000000001",
          "Y": 0.00815563985387498
         },
         {
          "X": "-1.8",
          "Y": 0.010445470950775741
         },
         {
          "X": "-1.7000000000000002",
          "Y": 0.013287292043947026
         },
         {
          "X": "-1.6",
          "Y": 0.016729364345415422
         },
         {
          "X": "-1.5",
          "Y": 0.020920698541232886
         },
         {
          "X": "-1.4000000000000001",
          "Y": 0.025949070122595248
         },
         {
          "X": "-1.3",
          "Y": 0.0319278845185567
         },
         {
          "X": "-1.2000000000000002",
          "Y": 0.038977618089017146
         },
         {
          "X": "-1.1",
          "Y": 0.04717377520148923
         },
         {
          "X": "-1.0",
          "Y": 0.05669628899414307
         },
         {
          "X": "-0.9",
          "Y": 0.06763582816867231
         },
         {
          "X": "-0.8",
          "Y": 0.07996363197165399
         },
         {
          "X": "-0.7000000000000001",
          "Y": 0.09399792755350353
         },
         {
          "X": "-0.6000000000000001",
          "Y": 0.10961956296236852
         },
         {
          "X": "-0.5",
          "Y": 0.1270642721005723
         },
         {
          "X": "-0.4",
          "Y": 0.14594054174594856
         },
         {
          "X": "-0.30000000000000004",
          "Y": 0.1667455754322485
         },
         {
          "X": "-0.2",
          "Y": 0.18898965850078664
         },
         {
          "X": "-0.1",
          "Y": 0.21300741023510444
         },
         {
          "X": "0.0",
          "Y": 0.23837738025618643
         },
         {
          "X": "0.1",
          "Y": 0.26529176788222536
         },
         {
          "X": "0.2",
          "Y": 0.29324552125305514
         },
         {
          "X": "0.30000000000000004",
          "Y": 0.32243763790607055
         },
         {
          "X": "0.4",
          "Y": 0.3522145494355974
         },
         {
          "X": "0.5",
          "Y": 0.38302771430139804
         },
         {
          "X": "0.6000000000000001",
          "Y": 0.41380020335761064
         },
         {
          "X": "0.7000000000000001",
          "Y": 0.4453312940716577
         },
         {
          "X": "0.8",
          "Y": 0.47627118275475033
         },
         {
          "X": "0.9",
          "Y": 0.5076247482728029
         },
         {
          "X": "1.0",
          "Y": 0.5378594530580645
         },
         {
          "X": "1.1",
          "Y": 0.5681276391528831
         },
         {
          "X": "1.2000000000000002",
          "Y": 0.597067457157867
         },
         {
          "X": "1.3",
          "Y": 0.6256058513648695
         },
         {
          "X": "1.4000000000000001",
          "Y": 0.6525978918543351
         },
         {
          "X": "1.5",
          "Y": 0.6788978994261632
         },
         {
          "X": "1.6",
          "Y": 0.7035287765151896
         },
         {
          "X": "1.7000000000000002",
          "Y": 0.7270983751452831
         },
         {
          "X": "1.8",
          "Y": 0.7491904916216832
         },
         {
          "X": "1.9000000000000001",
          "Y": 0.7700751600787092
         },
         {
          "X": "2.0",
          "Y": 0.7895590499347593
         },
         {
          "X": "2.1",
          "Y": 0.8076546744364452
         },
         {
          "X": "2.2",
          "Y": 0.8244722667497988
         },
         {
          "X": "2.3000000000000003",
          "Y": 0.8399754533832623
         },
         {
          "X": "2.4000000000000004",
          "Y": 0.854374010814152
         },
         {
          "X": "2.5",
          "Y": 0.8675029404443491
         },
         {
          "X": "2.6",
          "Y": 0.8796500039536462
         },
         {
          "X": "2.7",
          "Y": 0.8906621206366212
         },
         {
          "X": "2.8000000000000003",
          "Y": 0.9008027011551201
         },
         {
          "X": "2.9000000000000004",
          "Y": 0.9099942009284938
         },
         {
          "X": "3.0",
          "Y": 0.918454890673649
         },
         {
          "X": "3.1",
          "Y": 0.9260988435620305
         },
         {
          "X": "3.2",
          "Y": 0.9330649684929808
         },
         {
          "X": "3.3000000000000003",
          "Y": 0.939388711836513
         },
         {
          "X": "3.4000000000000004",
          "Y": 0.9451029311503909
         },
         {
          "X": "3.5",
          "Y": 0.9503124607308405
         }
        ]
       },
       "encoding": {
        "x": {
         "field": "X",
         "type": "quantitative"
        },
        "y": {
         "field": "Y",
         "type": "quantitative"
        }
       },
       "height": 200,
       "mark": "bar",
       "width": 200
      },
      "image/png": "[encoded data removed]"
     },
     "metadata": {},
     "output_type": "display_data"
    }
   ],
   "source": [
    "plot $ plotCdf 70 0.1 (normal 0 1 + gamma 1 1)"
   ]
  },
  {
   "cell_type": "markdown",
   "metadata": {},
   "source": [
    "# Expressing distributions with code\n",
    "\n",
    "If you are familiar with Haskell, then it should be clear that the class of distributions you can express by writing probabilistic programs is very broad, since `m` is a monad. For example, you can use `fmap` to apply a function to the support of the distribution, like:"
   ]
  },
  {
   "cell_type": "code",
   "execution_count": 26,
   "metadata": {},
   "outputs": [],
   "source": [
    "mapped :: MonadInfer m => m Bool\n",
    "mapped = fmap (> 0) (model 0.5)"
   ]
  },
  {
   "cell_type": "markdown",
   "metadata": {},
   "source": [
    "And you can use the standard set of monadic and applicative combinators, like `when`, `filterM` or `replicateM`:"
   ]
  },
  {
   "cell_type": "code",
   "execution_count": 27,
   "metadata": {},
   "outputs": [],
   "source": [
    "lengthDist :: MonadInfer m => Double -> m Int\n",
    "lengthDist observation = do\n",
    "    means <- replicateM 3 (model observation)\n",
    "    return (length $ filter (>=1) means)"
   ]
  },
  {
   "cell_type": "markdown",
   "metadata": {},
   "source": [
    "Given an observation, this is the probability on how many (out of 3) independent draws from the posterior of the model conditioned on the observation will be greater or equal to 1. Consider the hassle of defining this with an equation, and you'll see why probabilistic programming is appealing as a way of accelerating modelling and inference."
   ]
  },
  {
   "cell_type": "code",
   "execution_count": 28,
   "metadata": {},
   "outputs": [
    {
     "data": {
      "text/plain": [
       "[(1,0.4228030765220977),(2,0.3090938161626379),(0,0.19278121201287118),(3,7.532189530239404e-2)]"
      ]
     },
     "metadata": {},
     "output_type": "display_data"
    }
   ],
   "source": [
    "enumerate $ lengthDist 0.5"
   ]
  },
  {
   "cell_type": "code",
   "execution_count": 30,
   "metadata": {},
   "outputs": [
    {
     "data": {
      "application/vnd.vegalite.v4+json": {
       "$schema": "https://vega.github.io/schema/vega-lite/v4.json",
       "data": {
        "values": [
         {
          "X": "2",
          "Y": 0.4197137519723297
         },
         {
          "X": "1",
          "Y": 0.31507728008413355
         },
         {
          "X": "3",
          "Y": 0.18636658869600853
         },
         {
          "X": "0",
          "Y": 0.07884237924752768
         }
        ]
       },
       "encoding": {
        "x": {
         "field": "X",
         "type": "nominal"
        },
        "y": {
         "field": "Y",
         "type": "quantitative"
        }
       },
       "height": 400,
       "mark": "bar",
       "width": 400
      },
      "image/png": "[encoded data removed]"
     },
     "metadata": {},
     "output_type": "display_data"
    }
   ],
   "source": [
    "plot $ fmap (first (pack . show)) $ enumerate $ lengthDist 0.99"
   ]
  },
  {
   "cell_type": "code",
   "execution_count": 31,
   "metadata": {},
   "outputs": [
    {
     "data": {
      "application/vnd.vegalite.v4+json": {
       "$schema": "https://vega.github.io/schema/vega-lite/v4.json",
       "data": {
        "values": [
         {
          "X": "1",
          "Y": 0.43338893548101054
         },
         {
          "X": "0",
          "Y": 0.38211546660576284
         },
         {
          "X": "2",
          "Y": 0.16384748050615444
         },
         {
          "X": "3",
          "Y": 0.020648117407072838
         }
        ]
       },
       "encoding": {
        "x": {
         "field": "X",
         "type": "nominal"
        },
        "y": {
         "field": "Y",
         "type": "quantitative"
        }
       },
       "height": 400,
       "mark": "bar",
       "width": 400
      },
      "image/png": "[encoded data removed]"
     },
     "metadata": {},
     "output_type": "display_data"
    }
   ],
   "source": [
    "plot $ fmap (first (pack . show)) $ enumerator $ lengthDist 0.001"
   ]
  },
  {
   "cell_type": "markdown",
   "metadata": {},
   "source": [
    "Exact sampling is pretty limited. For models with continuous random variables, or large discrete ones, it is a no-go. \n",
    "\n",
    "The broader goal is to be able to define your distribution of interest, like `model`, and then apply different inference technique, usually approximate, to it. This is what monad-bayes (and other probabilistic programming languages) enable. See the following tutorials for details."
   ]
  }
 ],
 "metadata": {
  "kernelspec": {
   "display_name": "Haskell - nixpkgs",
   "language": "haskell",
   "name": "ihaskell_nixpkgs"
  },
  "language_info": {
   "codemirror_mode": "ihaskell",
   "file_extension": ".hs",
   "mimetype": "text/x-haskell",
   "name": "haskell",
   "pygments_lexer": "Haskell",
   "version": "9.0.2"
  }
 },
 "nbformat": 4,
 "nbformat_minor": 4
}
