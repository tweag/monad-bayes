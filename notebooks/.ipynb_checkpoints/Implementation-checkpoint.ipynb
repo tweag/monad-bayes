{
 "cells": [
  {
   "cell_type": "markdown",
   "id": "6b982b5d-666e-4175-a3d1-a5ee502e68a9",
   "metadata": {},
   "source": [
    "# The design and implementation of Monad-Bayes\n",
    "\n",
    "*This notebook assumes the reader has a working knowledge of Haskell, or at least strongly typed functional programming*. In particular, it won't explain what a monad is, what a monad transformer is, or what a typeclass is.\n",
    "\n",
    "Monad-Bayes is, in typical Haskell fashion, very laconic. Its core capabilities are defined in very few lines of code, which belies its sophistication. The goal of this notebook is to explain how the library works.\n",
    "\n",
    "As usual with Haskell, the key to understanding things is to look at the types. \n"
   ]
  },
  {
   "cell_type": "markdown",
   "id": "71734104-9ff6-4264-93c5-ce99087d65c8",
   "metadata": {},
   "source": [
    "# 1. Probability distributions form a monad\n",
    "\n",
    "It's easiest to see what the *monad of probability distributions* looks like in the discrete case. In the discrete case, a distribution is the following:\n",
    "\n",
    "`type Distribution a = Set (a, Double)`\n",
    "\n",
    "So for instance, a distribution over `String`s is a set of strings along with their probability mass. The masses should collectively sum to `1` and individually be non-negative. \n",
    "\n",
    "`Distribution` can be made an instance of the `Monad` typeclass. How?\n",
    "\n",
    "todo\n"
   ]
  },
  {
   "cell_type": "markdown",
   "id": "1d5dfde5-3e9f-40ca-b877-e150cea063d2",
   "metadata": {},
   "source": [
    "# 2. There are many different probability monads\n",
    "\n",
    "The same idea of a distribution as a monad carries over to continuous distributions, but in this case, our concrete representation is not going to be a set of pairs of elements in the support and their weights.\n",
    "\n",
    "In fact, the **central idea of Monad-bayes** is that there is a variety of implementations of the probability monad, and the choice depends on the inference algorithm we want. Monad-bayes offers a typeclass of distributions `MonadSample` and a typeclass for unnormalized distributions `MonadInfer`, and then offers many instances of both.\n",
    "\n",
    "To see this, we'll take one program and interpret it with different instances of `MonadSample` and/or `MonadInfer`:"
   ]
  },
  {
   "cell_type": "markdown",
   "id": "91763a0c-afd7-49a0-bb53-ef4e26719c00",
   "metadata": {},
   "source": [
    "# MonadSample\n",
    "\n",
    "the class definition\n",
    "\n",
    "So to be an instance of `MonadSample`, you need to say how you define a uniform distribution over the unit interval. "
   ]
  },
  {
   "cell_type": "code",
   "execution_count": 3,
   "id": "6310e977-70c3-4240-9e17-15f96447c176",
   "metadata": {},
   "outputs": [],
   "source": [
    "import Control.Monad.Bayes.Class\n",
    "import Control.Monad.Bayes.Population\n",
    "import Control.Monad.Bayes.Sampler\n",
    "import Control.Monad\n",
    "import Control.Monad.Bayes.Weighted\n",
    "import Data.List"
   ]
  },
  {
   "cell_type": "code",
   "execution_count": 7,
   "id": "91820eb8-28fa-4bca-9e90-324bf8e32ff3",
   "metadata": {},
   "outputs": [],
   "source": [
    "program :: MonadSample m => m Double\n",
    "program = do \n",
    "    x <- random\n",
    "    normal x 1"
   ]
  },
  {
   "cell_type": "markdown",
   "id": "1e3dd003-b1bc-4482-add0-49a60f4fab75",
   "metadata": {},
   "source": [
    "`program` represents a distribution, defined using monadic control flow. You might describe it as a hierarchical distribution, where you have a normal distribution whose mean parameter is drawn from a uniform unit interval which is marginalized out.\n",
    "\n",
    "The first instance of `MonadSample` we'll introduce is `SamplerIO`, which is a random number generator:"
   ]
  },
  {
   "cell_type": "code",
   "execution_count": 8,
   "id": "bd3212d0-7c69-41f3-b7dc-cf14b45e45c6",
   "metadata": {},
   "outputs": [
    {
     "data": {
      "text/plain": [
       "0.1194250440980824"
      ]
     },
     "metadata": {},
     "output_type": "display_data"
    }
   ],
   "source": [
    "sampleIO program"
   ]
  },
  {
   "cell_type": "code",
   "execution_count": null,
   "id": "f2dabe42-125f-46e8-ba52-7192bc463306",
   "metadata": {},
   "outputs": [],
   "source": [
    "A second example of `MonadSample`\n",
    "\n",
    "state"
   ]
  },
  {
   "cell_type": "markdown",
   "id": "09c7c3c4-a88a-40c7-aaf4-f2e831a4426f",
   "metadata": {},
   "source": [
    "# MonadInfer\n",
    "\n",
    "`Weighted`"
   ]
  },
  {
   "cell_type": "code",
   "execution_count": 2,
   "id": "3d35d6a0-6b3c-4812-81cf-2d3bfcb98923",
   "metadata": {},
   "outputs": [],
   "source": [
    "program :: MonadInfer m => m Double\n",
    "program = do\n",
    "    x <- random\n",
    "    factor (normalPdf 0 1 x)\n",
    "    y <- random\n",
    "    factor (normalPdf 0 1 y)\n",
    "    return (x+y)"
   ]
  },
  {
   "cell_type": "code",
   "execution_count": 46,
   "id": "d39aec4a-9670-4d0d-9571-6acfc0dad256",
   "metadata": {},
   "outputs": [
    {
     "data": {
      "text/plain": [
       "(0.7186997078194988,0.13968662310676447)"
      ]
     },
     "metadata": {},
     "output_type": "display_data"
    }
   ],
   "source": [
    "sampleIO $ runWeighted program "
   ]
  },
  {
   "cell_type": "code",
   "execution_count": 87,
   "id": "ca3b4501-4c6d-45ac-9e87-287aa5b887ca",
   "metadata": {},
   "outputs": [],
   "source": [
    "\n",
    "d = do\n",
    "    x <- random\n",
    "    factor (normalPdf 0 1 x)\n",
    "    y <- random\n",
    "    factor (normalPdf 0 1 (x+y))\n",
    "    return (x+y) \n",
    "    \n",
    "    \n",
    "y <- sampleIO $ runPopulation $ do \n",
    "    x <- resampleMultinomial $ (spawn 10 >> d)\n",
    "    factor (normalPdf 0 1 x)\n",
    "    return x\n"
   ]
  },
  {
   "cell_type": "code",
   "execution_count": 101,
   "id": "e7840f35-c91b-4a9f-b5ff-4e3cfdc74a4d",
   "metadata": {},
   "outputs": [
    {
     "data": {
      "text/html": [
       "<style>/* Styles used for the Hoogle display in the pager */\n",
       ".hoogle-doc {\n",
       "display: block;\n",
       "padding-bottom: 1.3em;\n",
       "padding-left: 0.4em;\n",
       "}\n",
       ".hoogle-code {\n",
       "display: block;\n",
       "font-family: monospace;\n",
       "white-space: pre;\n",
       "}\n",
       ".hoogle-text {\n",
       "display: block;\n",
       "}\n",
       ".hoogle-name {\n",
       "color: green;\n",
       "font-weight: bold;\n",
       "}\n",
       ".hoogle-head {\n",
       "font-weight: bold;\n",
       "}\n",
       ".hoogle-sub {\n",
       "display: block;\n",
       "margin-left: 0.4em;\n",
       "}\n",
       ".hoogle-package {\n",
       "font-weight: bold;\n",
       "font-style: italic;\n",
       "}\n",
       ".hoogle-module {\n",
       "font-weight: bold;\n",
       "}\n",
       ".hoogle-class {\n",
       "font-weight: bold;\n",
       "}\n",
       ".get-type {\n",
       "color: green;\n",
       "font-weight: bold;\n",
       "font-family: monospace;\n",
       "display: block;\n",
       "white-space: pre-wrap;\n",
       "}\n",
       ".show-type {\n",
       "color: green;\n",
       "font-weight: bold;\n",
       "font-family: monospace;\n",
       "margin-left: 1em;\n",
       "}\n",
       ".mono {\n",
       "font-family: monospace;\n",
       "display: block;\n",
       "}\n",
       ".err-msg {\n",
       "color: red;\n",
       "font-style: italic;\n",
       "font-family: monospace;\n",
       "white-space: pre;\n",
       "display: block;\n",
       "}\n",
       "#unshowable {\n",
       "color: red;\n",
       "font-weight: bold;\n",
       "}\n",
       ".err-msg.in.collapse {\n",
       "padding-top: 0.7em;\n",
       "}\n",
       ".highlight-code {\n",
       "white-space: pre;\n",
       "font-family: monospace;\n",
       "}\n",
       ".suggestion-warning { \n",
       "font-weight: bold;\n",
       "color: rgb(200, 130, 0);\n",
       "}\n",
       ".suggestion-error { \n",
       "font-weight: bold;\n",
       "color: red;\n",
       "}\n",
       ".suggestion-name {\n",
       "font-weight: bold;\n",
       "}\n",
       "</style><div class=\"suggestion-name\" style=\"clear:both;\">Redundant $</div><div class=\"suggestion-row\" style=\"float: left;\"><div class=\"suggestion-warning\">Found:</div><div class=\"highlight-code\" id=\"haskell\">proper $ (spawn 2 >> random)</div></div><div class=\"suggestion-row\" style=\"float: left;\"><div class=\"suggestion-warning\">Why Not:</div><div class=\"highlight-code\" id=\"haskell\">proper (spawn 2 >> random)</div></div>"
      ],
      "text/plain": [
       "Line 1: Redundant $\n",
       "Found:\n",
       "proper $ (spawn 2 >> random)\n",
       "Why not:\n",
       "proper (spawn 2 >> random)"
      ]
     },
     "metadata": {},
     "output_type": "display_data"
    },
    {
     "data": {
      "text/plain": [
       "[(0.8860019925375079,1.0),(0.5033782588382129,1.0),(0.31137526868154797,1.0),(5.451319701546942e-2,1.0),(0.3872285285958025,1.0),(0.3834005992613564,1.0),(0.3141355914598035,1.0),(0.6585424700601658,1.0),(0.5176716807111276,1.0),(0.5625227391260524,1.0)]"
      ]
     },
     "metadata": {},
     "output_type": "display_data"
    }
   ],
   "source": [
    "sampleIO $ replicateM 10 $ runWeighted $ proper $ (spawn 2 >> random)"
   ]
  },
  {
   "cell_type": "markdown",
   "id": "7ad288a9-5962-4baf-a5af-2a6ea6f8ce59",
   "metadata": {},
   "source": [
    "# 3. We can construct probability monads modularly, with transformers"
   ]
  },
  {
   "cell_type": "code",
   "execution_count": null,
   "id": "ca59cfbf-5f30-49c2-86e7-276a0baf3535",
   "metadata": {},
   "outputs": [],
   "source": []
  },
  {
   "cell_type": "code",
   "execution_count": null,
   "id": "46b2d45c-fcde-4dbc-8545-dfed14d82abc",
   "metadata": {},
   "outputs": [],
   "source": []
  }
 ],
 "metadata": {
  "kernelspec": {
   "display_name": "Haskell - nixpkgs",
   "language": "haskell",
   "name": "ihaskell_nixpkgs"
  },
  "language_info": {
   "codemirror_mode": "ihaskell",
   "file_extension": ".hs",
   "mimetype": "text/x-haskell",
   "name": "haskell",
   "pygments_lexer": "Haskell",
   "version": "9.0.2"
  }
 },
 "nbformat": 4,
 "nbformat_minor": 5
}
