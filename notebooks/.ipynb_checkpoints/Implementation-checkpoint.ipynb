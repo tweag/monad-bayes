{
 "cells": [
  {
   "cell_type": "markdown",
   "id": "6b982b5d-666e-4175-a3d1-a5ee502e68a9",
   "metadata": {},
   "source": [
    "# The design and implementation of Monad-Bayes\n",
    "\n",
    "*This notebook assumes the reader has a working knowledge of Haskell, or at least strongly typed functional programming*,. In particular, it won't explain what a monad is, what a monad transformer is, or what a typeclass is.\n",
    "\n",
    "Monad-Bayes is, in typical Haskell fashion, very laconic. Its core capabilities are defined in very few lines of code, which belies its sophistication.\n",
    "\n",
    "As usual with Haskell, the key to understanding things is to look at the types.\n",
    "\n",
    "The core idea that makes Monad-Bayes working is that the central typeclass of measures, `MonadInfer` (as well as `MonadSample`), can be instantiated by many different types.\n",
    "\n",
    "To see this, we'll take one program and interpret it with different instances of `MonadInfer`:"
   ]
  },
  {
   "cell_type": "code",
   "execution_count": 34,
   "id": "6310e977-70c3-4240-9e17-15f96447c176",
   "metadata": {},
   "outputs": [],
   "source": [
    "import Control.Monad.Bayes.Class\n",
    "import Control.Monad.Bayes.Population\n",
    "import Control.Monad.Bayes.Sampler\n",
    "import Control.Monad.Bayes.Weighted\n",
    "import Data.List"
   ]
  },
  {
   "cell_type": "code",
   "execution_count": 45,
   "id": "3d35d6a0-6b3c-4812-81cf-2d3bfcb98923",
   "metadata": {},
   "outputs": [],
   "source": [
    "program :: MonadInfer m => m Double\n",
    "program = do\n",
    "    x <- random\n",
    "    factor (normalPdf 0 1 x)\n",
    "    y <- random\n",
    "    factor (normalPdf 0 1 y)\n",
    "    return (x+y)"
   ]
  },
  {
   "cell_type": "code",
   "execution_count": 46,
   "id": "d39aec4a-9670-4d0d-9571-6acfc0dad256",
   "metadata": {},
   "outputs": [
    {
     "data": {
      "text/plain": [
       "(0.7186997078194988,0.13968662310676447)"
      ]
     },
     "metadata": {},
     "output_type": "display_data"
    }
   ],
   "source": [
    "sampleIO $ runWeighted program "
   ]
  },
  {
   "cell_type": "code",
   "execution_count": 44,
   "id": "ca3b4501-4c6d-45ac-9e87-287aa5b887ca",
   "metadata": {},
   "outputs": [
    {
     "data": {
      "text/plain": [
       "[8.681989460876871e-5]"
      ]
     },
     "metadata": {},
     "output_type": "display_data"
    }
   ],
   "source": [
    "\n",
    "d = do\n",
    "    x <- random\n",
    "    factor (normalPdf 0 1 x)\n",
    "    y <- random\n",
    "    factor (normalPdf 0 1 (x+y))\n",
    "    return (x+y) \n",
    "    \n",
    "    \n",
    "y <- sampleIO $ runPopulation $ resampleMultinomial $ (spawn 1000 >> d)\n",
    "nub $ snd <$>  y "
   ]
  },
  {
   "cell_type": "code",
   "execution_count": null,
   "id": "e7840f35-c91b-4a9f-b5ff-4e3cfdc74a4d",
   "metadata": {},
   "outputs": [],
   "source": []
  }
 ],
 "metadata": {
  "kernelspec": {
   "display_name": "Haskell - nixpkgs",
   "language": "haskell",
   "name": "ihaskell_nixpkgs"
  },
  "language_info": {
   "codemirror_mode": "ihaskell",
   "file_extension": ".hs",
   "mimetype": "text/x-haskell",
   "name": "haskell",
   "pygments_lexer": "Haskell",
   "version": "9.0.2"
  }
 },
 "nbformat": 4,
 "nbformat_minor": 5
}
