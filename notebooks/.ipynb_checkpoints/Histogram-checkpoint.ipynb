{
 "cells": [
  {
   "cell_type": "code",
   "execution_count": 1,
   "id": "d9f736cc-ee3f-4567-966e-9c15a5122ea6",
   "metadata": {},
   "outputs": [],
   "source": [
    "import Prelude \n",
    "import Control.Monad.Bayes.Class\n",
    "import Control.Monad.Bayes.Enumerator\n",
    "import Control.Monad.Bayes.Weighted\n",
    "import Control.Monad.Bayes.Sampler.Strict\n",
    "import Control.Monad\n",
    "import Numeric.Log\n",
    "\n",
    ":l Plotting.hs\n"
   ]
  },
  {
   "cell_type": "markdown",
   "id": "5005eab6-3193-4bfc-b1be-e9e3748d2554",
   "metadata": {},
   "source": [
    "# Distributions over **anything**\n",
    "\n",
    "In Monad-Bayes, you can have distributions over absolutely any kind of value, of any type. Below, you can see a distribution over histograms, and a distribution over plots."
   ]
  },
  {
   "cell_type": "code",
   "execution_count": 2,
   "id": "01e82e4f-e5a2-4fbb-8fad-5e4ab3a253c6",
   "metadata": {},
   "outputs": [
    {
     "data": {
      "text/html": [
       "<style>/* Styles used for the Hoogle display in the pager */\n",
       ".hoogle-doc {\n",
       "display: block;\n",
       "padding-bottom: 1.3em;\n",
       "padding-left: 0.4em;\n",
       "}\n",
       ".hoogle-code {\n",
       "display: block;\n",
       "font-family: monospace;\n",
       "white-space: pre;\n",
       "}\n",
       ".hoogle-text {\n",
       "display: block;\n",
       "}\n",
       ".hoogle-name {\n",
       "color: green;\n",
       "font-weight: bold;\n",
       "}\n",
       ".hoogle-head {\n",
       "font-weight: bold;\n",
       "}\n",
       ".hoogle-sub {\n",
       "display: block;\n",
       "margin-left: 0.4em;\n",
       "}\n",
       ".hoogle-package {\n",
       "font-weight: bold;\n",
       "font-style: italic;\n",
       "}\n",
       ".hoogle-module {\n",
       "font-weight: bold;\n",
       "}\n",
       ".hoogle-class {\n",
       "font-weight: bold;\n",
       "}\n",
       ".get-type {\n",
       "color: green;\n",
       "font-weight: bold;\n",
       "font-family: monospace;\n",
       "display: block;\n",
       "white-space: pre-wrap;\n",
       "}\n",
       ".show-type {\n",
       "color: green;\n",
       "font-weight: bold;\n",
       "font-family: monospace;\n",
       "margin-left: 1em;\n",
       "}\n",
       ".mono {\n",
       "font-family: monospace;\n",
       "display: block;\n",
       "}\n",
       ".err-msg {\n",
       "color: red;\n",
       "font-style: italic;\n",
       "font-family: monospace;\n",
       "white-space: pre;\n",
       "display: block;\n",
       "}\n",
       "#unshowable {\n",
       "color: red;\n",
       "font-weight: bold;\n",
       "}\n",
       ".err-msg.in.collapse {\n",
       "padding-top: 0.7em;\n",
       "}\n",
       ".highlight-code {\n",
       "white-space: pre;\n",
       "font-family: monospace;\n",
       "}\n",
       ".suggestion-warning { \n",
       "font-weight: bold;\n",
       "color: rgb(200, 130, 0);\n",
       "}\n",
       ".suggestion-error { \n",
       "font-weight: bold;\n",
       "color: red;\n",
       "}\n",
       ".suggestion-name {\n",
       "font-weight: bold;\n",
       "}\n",
       "</style><div class=\"suggestion-name\" style=\"clear:both;\">Redundant $</div><div class=\"suggestion-row\" style=\"float: left;\"><div class=\"suggestion-warning\">Found:</div><div class=\"highlight-code\" id=\"haskell\">replicateM 100000 $ distributionOverWeightedSamples</div></div><div class=\"suggestion-row\" style=\"float: left;\"><div class=\"suggestion-warning\">Why Not:</div><div class=\"highlight-code\" id=\"haskell\">replicateM 100000 distributionOverWeightedSamples</div></div>"
      ],
      "text/plain": [
       "Line 12: Redundant $\n",
       "Found:\n",
       "replicateM 100000 $ distributionOverWeightedSamples\n",
       "Why not:\n",
       "replicateM 100000 distributionOverWeightedSamples"
      ]
     },
     "metadata": {},
     "output_type": "display_data"
    },
    {
     "ename": "",
     "evalue": "",
     "header": "MessageHeader {mhIdentifiers = [\"2caf68fe-e4d3-4943-b164-3047f2178585\"], mhParentHeader = Just (MessageHeader {mhIdentifiers = [\"2caf68fe-e4d3-4943-b164-3047f2178585\"], mhParentHeader = Nothing, mhMetadata = Metadata (fromList [(\"cellId\",String \"01e82e4f-e5a2-4fbb-8fad-5e4ab3a253c6\"),(\"deletedCells\",Array []),(\"recordTiming\",Bool False)]), mhMessageId = UUID {uuidToString = \"89c3d2b5-4c83-47c7-976a-ddf9402fc1f0\"}, mhSessionId = UUID {uuidToString = \"2caf68fe-e4d3-4943-b164-3047f2178585\"}, mhUsername = \"\", mhMsgType = ExecuteRequestMessage, mhBuffers = []}), mhMetadata = Metadata (fromList []), mhMessageId = UUID {uuidToString = \"ffdf48d9-f264-41d0-91b5-ca37d1f4f56d\"}, mhSessionId = UUID {uuidToString = \"2caf68fe-e4d3-4943-b164-3047f2178585\"}, mhUsername = \"\", mhMsgType = ExecuteErrorMessage, mhBuffers = []}",
     "output_type": "error",
     "traceback": [
      "<interactive>:11:39: error: Not in scope: type constructor or class ‘Histogram’"
     ]
    }
   ],
   "source": [
    "unnormalizedDistribution :: Measure Double\n",
    "unnormalizedDistribution = do\n",
    "    x <- bernoulli 0.5\n",
    "    y <- normal (if x then (-2) else 2) 1\n",
    "    factor (normalPdf 0 4 y)\n",
    "    return y\n",
    "    \n",
    "distributionOverWeightedSamples :: Distribution (Double, Log Double)\n",
    "distributionOverWeightedSamples = weighted unnormalizedDistribution\n",
    "    \n",
    "iidDistribution :: Distribution [(Double, Log Double)]\n",
    "iidDistribution = replicateM 100000 $ distributionOverWeightedSamples\n",
    "    \n",
    "histogramDistribution :: Distribution Histogram\n",
    "histogramDistribution = histogram 500 <$> iidDistribution\n",
    "    \n",
    "plotDistribution :: Distribution Plot\n",
    "plotDistribution = plot . asList <$> histogramDistribution"
   ]
  },
  {
   "cell_type": "markdown",
   "id": "2cb70027-b2fd-45c8-8434-22f2c92e0933",
   "metadata": {},
   "source": [
    "`unnormalizedDistribution` is an (unnormalized) distribution that we want to plot. \n",
    "\n",
    "`distributionOverWeightedSamples` is a distribution over pairs of samples from `unnormalizedDistribution` and their density. \n",
    "\n",
    "`iidDistribution` is a distribution over 100000 iid draws from `distributionOverWeightedSamples`.\n",
    "\n",
    "`histogramDistribution` is a distribution over histograms, each corresponding to a possible list of iid samples.\n",
    "\n",
    "`plotDistribution` is a distribution over plots (i.e. 2D visualizations that can be rendered in a notebook), each corresponding to a possible histogram. "
   ]
  },
  {
   "cell_type": "code",
   "execution_count": 3,
   "id": "ace53904-ff25-419c-95b8-e3ee6debea48",
   "metadata": {},
   "outputs": [
    {
     "ename": "",
     "evalue": "",
     "header": "MessageHeader {mhIdentifiers = [\"2caf68fe-e4d3-4943-b164-3047f2178585\"], mhParentHeader = Just (MessageHeader {mhIdentifiers = [\"2caf68fe-e4d3-4943-b164-3047f2178585\"], mhParentHeader = Nothing, mhMetadata = Metadata (fromList [(\"cellId\",String \"ace53904-ff25-419c-95b8-e3ee6debea48\"),(\"deletedCells\",Array []),(\"recordTiming\",Bool False)]), mhMessageId = UUID {uuidToString = \"1ed278de-4120-4c8c-9769-9e2d9ef3908e\"}, mhSessionId = UUID {uuidToString = \"2caf68fe-e4d3-4943-b164-3047f2178585\"}, mhUsername = \"\", mhMsgType = ExecuteRequestMessage, mhBuffers = []}), mhMetadata = Metadata (fromList []), mhMessageId = UUID {uuidToString = \"30b4a132-820e-4899-a745-9d600543ac1c\"}, mhSessionId = UUID {uuidToString = \"2caf68fe-e4d3-4943-b164-3047f2178585\"}, mhUsername = \"\", mhMsgType = ExecuteErrorMessage, mhBuffers = []}",
     "output_type": "error",
     "traceback": [
      "<interactive>:1:9: error: Variable not in scope: plotDistribution :: SamplerIO a"
     ]
    }
   ],
   "source": [
    "sampler plotDistribution"
   ]
  },
  {
   "cell_type": "code",
   "execution_count": null,
   "id": "6c1a2aca-c57c-47a0-98d7-3f9f80b22d1e",
   "metadata": {},
   "outputs": [],
   "source": []
  }
 ],
 "metadata": {
  "kernelspec": {
   "display_name": "Haskell - nixpkgs",
   "language": "haskell",
   "name": "ihaskell_nixpkgs"
  },
  "language_info": {
   "codemirror_mode": "ihaskell",
   "file_extension": ".hs",
   "mimetype": "text/x-haskell",
   "name": "haskell",
   "pygments_lexer": "Haskell",
   "version": "9.0.2"
  }
 },
 "nbformat": 4,
 "nbformat_minor": 5
}
