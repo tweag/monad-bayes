{
 "cells": [
  {
   "cell_type": "markdown",
   "id": "6b982b5d-666e-4175-a3d1-a5ee502e68a9",
   "metadata": {},
   "source": [
    "# The design and implementation of Monad-Bayes\n",
    "\n",
    "*This notebook assumes the reader has a working knowledge of Haskell, or at least strongly typed functional programming*,. In particular, it won't explain what a monad is, what a monad transformer is, or what a typeclass is.\n",
    "\n",
    "Monad-Bayes is, in typical Haskell fashion, very laconic. Its core capabilities are defined in very few lines of code, which belies its sophistication.\n",
    "\n",
    "As usual with Haskell, the key to understanding things is to look at the types.\n",
    "\n",
    "The core idea that makes Monad-Bayes working is that the central typeclass of measures, `MonadInfer` (as well as `MonadSample`), can be instantiated by many different types.\n",
    "\n",
    "To see this, we'll take one program and interpret it with different instances of `MonadInfer`:"
   ]
  },
  {
   "cell_type": "code",
   "execution_count": 98,
   "id": "6310e977-70c3-4240-9e17-15f96447c176",
   "metadata": {},
   "outputs": [],
   "source": [
    "import Control.Monad.Bayes.Class\n",
    "import Control.Monad.Bayes.Population\n",
    "import Control.Monad.Bayes.Sampler\n",
    "import Control.Monad\n",
    "import Control.Monad.Bayes.Weighted\n",
    "import Data.List"
   ]
  },
  {
   "cell_type": "code",
   "execution_count": 45,
   "id": "3d35d6a0-6b3c-4812-81cf-2d3bfcb98923",
   "metadata": {},
   "outputs": [],
   "source": [
    "program :: MonadInfer m => m Double\n",
    "program = do\n",
    "    x <- random\n",
    "    factor (normalPdf 0 1 x)\n",
    "    y <- random\n",
    "    factor (normalPdf 0 1 y)\n",
    "    return (x+y)"
   ]
  },
  {
   "cell_type": "code",
   "execution_count": 46,
   "id": "d39aec4a-9670-4d0d-9571-6acfc0dad256",
   "metadata": {},
   "outputs": [
    {
     "data": {
      "text/plain": [
       "(0.7186997078194988,0.13968662310676447)"
      ]
     },
     "metadata": {},
     "output_type": "display_data"
    }
   ],
   "source": [
    "sampleIO $ runWeighted program "
   ]
  },
  {
   "cell_type": "code",
   "execution_count": 87,
   "id": "ca3b4501-4c6d-45ac-9e87-287aa5b887ca",
   "metadata": {},
   "outputs": [],
   "source": [
    "\n",
    "d = do\n",
    "    x <- random\n",
    "    factor (normalPdf 0 1 x)\n",
    "    y <- random\n",
    "    factor (normalPdf 0 1 (x+y))\n",
    "    return (x+y) \n",
    "    \n",
    "    \n",
    "y <- sampleIO $ runPopulation $ do \n",
    "    x <- resampleMultinomial $ (spawn 10 >> d)\n",
    "    factor (normalPdf 0 1 x)\n",
    "    return x\n"
   ]
  },
  {
   "cell_type": "code",
   "execution_count": 101,
   "id": "e7840f35-c91b-4a9f-b5ff-4e3cfdc74a4d",
   "metadata": {},
   "outputs": [
    {
     "data": {
      "text/html": [
       "<style>/* Styles used for the Hoogle display in the pager */\n",
       ".hoogle-doc {\n",
       "display: block;\n",
       "padding-bottom: 1.3em;\n",
       "padding-left: 0.4em;\n",
       "}\n",
       ".hoogle-code {\n",
       "display: block;\n",
       "font-family: monospace;\n",
       "white-space: pre;\n",
       "}\n",
       ".hoogle-text {\n",
       "display: block;\n",
       "}\n",
       ".hoogle-name {\n",
       "color: green;\n",
       "font-weight: bold;\n",
       "}\n",
       ".hoogle-head {\n",
       "font-weight: bold;\n",
       "}\n",
       ".hoogle-sub {\n",
       "display: block;\n",
       "margin-left: 0.4em;\n",
       "}\n",
       ".hoogle-package {\n",
       "font-weight: bold;\n",
       "font-style: italic;\n",
       "}\n",
       ".hoogle-module {\n",
       "font-weight: bold;\n",
       "}\n",
       ".hoogle-class {\n",
       "font-weight: bold;\n",
       "}\n",
       ".get-type {\n",
       "color: green;\n",
       "font-weight: bold;\n",
       "font-family: monospace;\n",
       "display: block;\n",
       "white-space: pre-wrap;\n",
       "}\n",
       ".show-type {\n",
       "color: green;\n",
       "font-weight: bold;\n",
       "font-family: monospace;\n",
       "margin-left: 1em;\n",
       "}\n",
       ".mono {\n",
       "font-family: monospace;\n",
       "display: block;\n",
       "}\n",
       ".err-msg {\n",
       "color: red;\n",
       "font-style: italic;\n",
       "font-family: monospace;\n",
       "white-space: pre;\n",
       "display: block;\n",
       "}\n",
       "#unshowable {\n",
       "color: red;\n",
       "font-weight: bold;\n",
       "}\n",
       ".err-msg.in.collapse {\n",
       "padding-top: 0.7em;\n",
       "}\n",
       ".highlight-code {\n",
       "white-space: pre;\n",
       "font-family: monospace;\n",
       "}\n",
       ".suggestion-warning { \n",
       "font-weight: bold;\n",
       "color: rgb(200, 130, 0);\n",
       "}\n",
       ".suggestion-error { \n",
       "font-weight: bold;\n",
       "color: red;\n",
       "}\n",
       ".suggestion-name {\n",
       "font-weight: bold;\n",
       "}\n",
       "</style><div class=\"suggestion-name\" style=\"clear:both;\">Redundant $</div><div class=\"suggestion-row\" style=\"float: left;\"><div class=\"suggestion-warning\">Found:</div><div class=\"highlight-code\" id=\"haskell\">proper $ (spawn 2 >> random)</div></div><div class=\"suggestion-row\" style=\"float: left;\"><div class=\"suggestion-warning\">Why Not:</div><div class=\"highlight-code\" id=\"haskell\">proper (spawn 2 >> random)</div></div>"
      ],
      "text/plain": [
       "Line 1: Redundant $\n",
       "Found:\n",
       "proper $ (spawn 2 >> random)\n",
       "Why not:\n",
       "proper (spawn 2 >> random)"
      ]
     },
     "metadata": {},
     "output_type": "display_data"
    },
    {
     "data": {
      "text/plain": [
       "[(0.8860019925375079,1.0),(0.5033782588382129,1.0),(0.31137526868154797,1.0),(5.451319701546942e-2,1.0),(0.3872285285958025,1.0),(0.3834005992613564,1.0),(0.3141355914598035,1.0),(0.6585424700601658,1.0),(0.5176716807111276,1.0),(0.5625227391260524,1.0)]"
      ]
     },
     "metadata": {},
     "output_type": "display_data"
    }
   ],
   "source": [
    "sampleIO $ replicateM 10 $ runWeighted $ proper $ (spawn 2 >> random)"
   ]
  },
  {
   "cell_type": "code",
   "execution_count": null,
   "id": "ca59cfbf-5f30-49c2-86e7-276a0baf3535",
   "metadata": {},
   "outputs": [],
   "source": []
  },
  {
   "cell_type": "code",
   "execution_count": null,
   "id": "46b2d45c-fcde-4dbc-8545-dfed14d82abc",
   "metadata": {},
   "outputs": [],
   "source": []
  }
 ],
 "metadata": {
  "kernelspec": {
   "display_name": "Haskell - nixpkgs",
   "language": "haskell",
   "name": "ihaskell_nixpkgs"
  },
  "language_info": {
   "codemirror_mode": "ihaskell",
   "file_extension": ".hs",
   "mimetype": "text/x-haskell",
   "name": "haskell",
   "pygments_lexer": "Haskell",
   "version": "9.0.2"
  }
 },
 "nbformat": 4,
 "nbformat_minor": 5
}
