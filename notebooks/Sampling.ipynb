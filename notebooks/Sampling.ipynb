{
 "cells": [
  {
   "cell_type": "code",
   "execution_count": 1,
   "metadata": {},
   "outputs": [],
   "source": [
    ":e ImportQualifiedPost\n",
    ":e FlexibleContexts\n",
    ":e BlockArguments\n",
    ":e TupleSections\n",
    ":e FlexibleContexts\n",
    ":e OverloadedStrings\n",
    ":e LambdaCase\n",
    "\n",
    "import Control.Monad.Bayes.Class\n",
    "import Control.Monad.Bayes.Enumerator\n",
    "import Control.Monad.Bayes.Weighted\n",
    "import Control.Monad.Bayes.Sampler\n",
    "\n",
    "import Control.Monad\n",
    "import Data.List\n",
    "import Data.Ord\n",
    "import Control.Arrow (first)\n",
    "import Data.Text (pack, Text)\n",
    "import Numeric.Log\n",
    "import Control.Arrow (second)\n",
    "\n",
    ":l Plotting.hs"
   ]
  },
  {
   "cell_type": "markdown",
   "metadata": {},
   "source": [
    "# Sampling\n",
    "\n",
    "Before discussing inference, we should understand how to sample from models. This notebook explains how to do that.\n",
    "\n",
    "We'll start with a very simple model, namely:"
   ]
  },
  {
   "cell_type": "code",
   "execution_count": 2,
   "metadata": {},
   "outputs": [],
   "source": [
    "model :: MonadSample m => m Bool\n",
    "model = bernoulli 0.7"
   ]
  },
  {
   "cell_type": "markdown",
   "metadata": {},
   "source": [
    "To take a sample, do:"
   ]
  },
  {
   "cell_type": "code",
   "execution_count": 3,
   "metadata": {},
   "outputs": [
    {
     "data": {
      "text/plain": [
       "True"
      ]
     },
     "metadata": {},
     "output_type": "display_data"
    }
   ],
   "source": [
    "sampleIO model"
   ]
  },
  {
   "cell_type": "markdown",
   "metadata": {},
   "source": [
    "Or with a fixed seed:"
   ]
  },
  {
   "cell_type": "code",
   "execution_count": 4,
   "metadata": {},
   "outputs": [
    {
     "data": {
      "text/plain": [
       "True"
      ]
     },
     "metadata": {},
     "output_type": "display_data"
    }
   ],
   "source": [
    "sampleIOfixed model"
   ]
  },
  {
   "cell_type": "markdown",
   "metadata": {},
   "source": [
    "To take multiple samples, you could rerun `sampleIO` many times, but it's somewhat more in the probabilistic programming spirit to instead define a distribution over multiple draws from `model` and then just sample once, as follows:"
   ]
  },
  {
   "cell_type": "code",
   "execution_count": 5,
   "metadata": {},
   "outputs": [
    {
     "data": {
      "text/plain": [
       "[True,False,False,True,True,False,False,False,True,False]"
      ]
     },
     "metadata": {},
     "output_type": "display_data"
    }
   ],
   "source": [
    "multipleDraws :: MonadSample m => m [Bool]\n",
    "multipleDraws = replicateM 10 model\n",
    "\n",
    "draws <- sampleIO multipleDraws\n",
    "\n",
    "draws"
   ]
  },
  {
   "cell_type": "markdown",
   "metadata": {},
   "source": [
    "We can write a function to convert a list of samples to an empirical distribution, like so:"
   ]
  },
  {
   "cell_type": "code",
   "execution_count": 6,
   "metadata": {},
   "outputs": [
    {
     "data": {
      "text/plain": [
       "[(False,0.6),(True,0.4)]"
      ]
     },
     "metadata": {},
     "output_type": "display_data"
    }
   ],
   "source": [
    "emp = toEmpirical draws :: [(Bool, Double)]\n",
    "\n",
    "emp\n",
    "\n"
   ]
  },
  {
   "cell_type": "code",
   "execution_count": 9,
   "metadata": {},
   "outputs": [
    {
     "data": {
      "application/vnd.vegalite.v4+json": {
       "$schema": "https://vega.github.io/schema/vega-lite/v4.json",
       "data": {
        "values": [
         {
          "X": "False",
          "Y": 0.6
         },
         {
          "X": "True",
          "Y": 0.4
         }
        ]
       },
       "encoding": {
        "x": {
         "field": "X",
         "type": "nominal"
        },
        "y": {
         "field": "Y",
         "type": "quantitative"
        }
       },
       "height": 200,
       "mark": "bar",
       "width": 200
      },
      "image/png": "[encoded data removed]"
     },
     "metadata": {},
     "output_type": "display_data"
    }
   ],
   "source": [
    "plotVega $ first (pack . show) <$> emp"
   ]
  },
  {
   "cell_type": "markdown",
   "metadata": {},
   "source": [
    "In fact, we could lean even further into the spirit of probabilistic programming, and transform `model` into a distribution over plots, and sample from that:"
   ]
  },
  {
   "cell_type": "code",
   "execution_count": 10,
   "metadata": {},
   "outputs": [
    {
     "data": {
      "application/vnd.vegalite.v4+json": {
       "$schema": "https://vega.github.io/schema/vega-lite/v4.json",
       "data": {
        "values": [
         {
          "X": "True",
          "Y": 0.7
         },
         {
          "X": "False",
          "Y": 0.3
         }
        ]
       },
       "encoding": {
        "x": {
         "field": "X",
         "type": "nominal"
        },
        "y": {
         "field": "Y",
         "type": "quantitative"
        }
       },
       "height": 200,
       "mark": "bar",
       "width": 200
      },
      "image/png": "[encoded data removed]"
     },
     "metadata": {},
     "output_type": "display_data"
    }
   ],
   "source": [
    "distributionOverPlots :: MonadSample m => m VegaLiteLab -- the type of plots\n",
    "distributionOverPlots = \n",
    "    plotVega . fmap (first (pack . show)) . toEmpirical \n",
    "    <$> replicateM 10 model\n",
    "\n",
    "sampleIO distributionOverPlots\n"
   ]
  },
  {
   "cell_type": "markdown",
   "metadata": {},
   "source": [
    "Now for a continuous distribution, consider"
   ]
  },
  {
   "cell_type": "code",
   "execution_count": 11,
   "metadata": {},
   "outputs": [],
   "source": [
    "model2 :: MonadSample m => m Double\n",
    "model2 = normal 0 1"
   ]
  },
  {
   "cell_type": "markdown",
   "metadata": {},
   "source": [
    "Sampling is no different to before:"
   ]
  },
  {
   "cell_type": "code",
   "execution_count": 12,
   "metadata": {},
   "outputs": [
    {
     "data": {
      "text/plain": [
       "0.6236329933678874"
      ]
     },
     "metadata": {},
     "output_type": "display_data"
    }
   ],
   "source": [
    "sampleIO model2"
   ]
  },
  {
   "cell_type": "markdown",
   "metadata": {},
   "source": [
    "And as before, to obtain multiple draws:"
   ]
  },
  {
   "cell_type": "code",
   "execution_count": 13,
   "metadata": {},
   "outputs": [
    {
     "data": {
      "text/plain": [
       "[0.9701184520875676,-2.8847267885226364e-2,0.9464777595839039,0.41910059667636623,1.1125708743347604,-0.44056161644123953,1.1065772705787429,0.5290610959860976,0.5744518578774057,9.408265732831282e-2]"
      ]
     },
     "metadata": {},
     "output_type": "display_data"
    }
   ],
   "source": [
    "multipleDraws2 :: MonadSample m => m [Double]\n",
    "multipleDraws2 = replicateM 10 model2\n",
    "\n",
    "draws2 <- sampleIO multipleDraws2\n",
    "\n",
    "draws2"
   ]
  },
  {
   "cell_type": "markdown",
   "metadata": {},
   "source": [
    "We'd like to view a histogram of samples, which in the limit of many samples should tend to the PDF of a normal distribution. Again, we could apply a histogram to the list of samples, but it's nicer to apply a `histogram` function to `multipleDraws`, to define a distribution over histograms from which we'll sample."
   ]
  },
  {
   "cell_type": "code",
   "execution_count": 15,
   "metadata": {},
   "outputs": [
    {
     "data": {
      "application/vnd.vegalite.v4+json": {
       "$schema": "https://vega.github.io/schema/vega-lite/v4.json",
       "data": {
        "values": [
         {
          "X": -0.05,
          "Y": 0.02025
         },
         {
          "X": -0.1,
          "Y": 0.02021
         },
         {
          "X": 0,
          "Y": 0.02012
         },
         {
          "X": 0.05,
          "Y": 0.01998
         },
         {
          "X": -0.25,
          "Y": 0.01996
         },
         {
          "X": -0.15000000000000002,
          "Y": 0.01978
         },
         {
          "X": -0.30000000000000004,
          "Y": 0.01955
         },
         {
          "X": -0.2,
          "Y": 0.01945
         },
         {
          "X": 0.15000000000000002,
          "Y": 0.01934
         },
         {
          "X": 0.1,
          "Y": 0.01926
         },
         {
          "X": 0.35000000000000003,
          "Y": 0.01884
         },
         {
          "X": 0.25,
          "Y": 0.01882
         },
         {
          "X": 0.2,
          "Y": 0.01866
         },
         {
          "X": -0.5,
          "Y": 0.01863
         },
         {
          "X": -0.35000000000000003,
          "Y": 0.01862
         },
         {
          "X": -0.4,
          "Y": 0.0184
         },
         {
          "X": 0.30000000000000004,
          "Y": 0.01835
         },
         {
          "X": 0.4,
          "Y": 0.01819
         },
         {
          "X": 0.45,
          "Y": 0.01801
         },
         {
          "X": -0.55,
          "Y": 0.01727
         },
         {
          "X": 0.5,
          "Y": 0.01726
         },
         {
          "X": -0.45,
          "Y": 0.01721
         },
         {
          "X": -0.6000000000000001,
          "Y": 0.01705
         },
         {
          "X": 0.55,
          "Y": 0.01678
         },
         {
          "X": 0.6000000000000001,
          "Y": 0.01665
         },
         {
          "X": -0.65,
          "Y": 0.01616
         },
         {
          "X": 0.65,
          "Y": 0.01609
         },
         {
          "X": 0.7000000000000001,
          "Y": 0.01578
         },
         {
          "X": -0.7000000000000001,
          "Y": 0.01552
         },
         {
          "X": -0.8,
          "Y": 0.01526
         },
         {
          "X": -0.75,
          "Y": 0.0149
         },
         {
          "X": 0.75,
          "Y": 0.01441
         },
         {
          "X": -0.8500000000000001,
          "Y": 0.01432
         },
         {
          "X": 0.8,
          "Y": 0.01406
         },
         {
          "X": 0.8500000000000001,
          "Y": 0.01405
         },
         {
          "X": 0.9,
          "Y": 0.01355
         },
         {
          "X": -0.9,
          "Y": 0.01348
         },
         {
          "X": -0.9500000000000001,
          "Y": 0.0133
         },
         {
          "X": 0.9500000000000001,
          "Y": 0.01311
         },
         {
          "X": 1,
          "Y": 0.0121
         },
         {
          "X": -1,
          "Y": 0.01209
         },
         {
          "X": -1.05,
          "Y": 0.01179
         },
         {
          "X": -1.1,
          "Y": 0.01159
         },
         {
          "X": 1.1,
          "Y": 0.01091
         },
         {
          "X": 1.05,
          "Y": 0.01077
         },
         {
          "X": -1.1500000000000001,
          "Y": 0.01027
         },
         {
          "X": -1.2000000000000002,
          "Y": 0.00994
         },
         {
          "X": 1.1500000000000001,
          "Y": 0.00982
         },
         {
          "X": -1.25,
          "Y": 0.0096
         },
         {
          "X": 1.2000000000000002,
          "Y": 0.0095
         },
         {
          "X": -1.3,
          "Y": 0.00902
         },
         {
          "X": 1.3,
          "Y": 0.00887
         },
         {
          "X": 1.25,
          "Y": 0.00883
         },
         {
          "X": -1.35,
          "Y": 0.00864
         },
         {
          "X": -1.4500000000000002,
          "Y": 0.00755
         },
         {
          "X": 1.4000000000000001,
          "Y": 0.00755
         },
         {
          "X": 1.35,
          "Y": 0.00746
         },
         {
          "X": -1.4000000000000001,
          "Y": 0.00702
         },
         {
          "X": -1.5,
          "Y": 0.00697
         },
         {
          "X": 1.4500000000000002,
          "Y": 0.00697
         },
         {
          "X": -1.55,
          "Y": 0.00619
         },
         {
          "X": -1.6500000000000001,
          "Y": 0.00586
         },
         {
          "X": 1.5,
          "Y": 0.00585
         },
         {
          "X": 1.55,
          "Y": 0.00573
         },
         {
          "X": -1.6,
          "Y": 0.00571
         },
         {
          "X": 1.6,
          "Y": 0.0052
         },
         {
          "X": -1.7000000000000002,
          "Y": 0.00496
         },
         {
          "X": 1.6500000000000001,
          "Y": 0.00495
         },
         {
          "X": 1.7000000000000002,
          "Y": 0.00458
         },
         {
          "X": -1.75,
          "Y": 0.0044
         },
         {
          "X": 1.75,
          "Y": 0.00411
         },
         {
          "X": 1.8,
          "Y": 0.00401
         },
         {
          "X": -1.8,
          "Y": 0.0038
         },
         {
          "X": -1.85,
          "Y": 0.00377
         },
         {
          "X": 1.85,
          "Y": 0.00347
         },
         {
          "X": -1.9000000000000001,
          "Y": 0.00343
         },
         {
          "X": -1.9500000000000002,
          "Y": 0.00307
         },
         {
          "X": 1.9000000000000001,
          "Y": 0.00304
         },
         {
          "X": 1.9500000000000002,
          "Y": 0.00295
         },
         {
          "X": -2,
          "Y": 0.00291
         },
         {
          "X": 2,
          "Y": 0.00257
         },
         {
          "X": -2.0500000000000003,
          "Y": 0.00254
         },
         {
          "X": -2.1,
          "Y": 0.00241
         },
         {
          "X": 2.0500000000000003,
          "Y": 0.0022
         },
         {
          "X": 2.1,
          "Y": 0.00208
         },
         {
          "X": -2.15,
          "Y": 0.00181
         },
         {
          "X": 2.15,
          "Y": 0.00178
         },
         {
          "X": -2.2,
          "Y": 0.00172
         },
         {
          "X": 2.25,
          "Y": 0.00159
         },
         {
          "X": -2.3000000000000003,
          "Y": 0.00152
         },
         {
          "X": 2.2,
          "Y": 0.0015
         },
         {
          "X": -2.25,
          "Y": 0.00145
         },
         {
          "X": 2.3000000000000003,
          "Y": 0.00134
         },
         {
          "X": -2.35,
          "Y": 0.00133
         },
         {
          "X": 2.35,
          "Y": 0.00132
         },
         {
          "X": -2.4000000000000004,
          "Y": 0.00121
         },
         {
          "X": -2.45,
          "Y": 0.0011
         },
         {
          "X": 2.45,
          "Y": 0.0009
         },
         {
          "X": -2.5,
          "Y": 0.00087
         },
         {
          "X": 2.4000000000000004,
          "Y": 0.00086
         },
         {
          "X": -2.5500000000000003,
          "Y": 0.00077
         },
         {
          "X": 2.5500000000000003,
          "Y": 0.00077
         },
         {
          "X": 2.5,
          "Y": 0.00068
         },
         {
          "X": -2.6,
          "Y": 0.00065
         },
         {
          "X": 2.6500000000000004,
          "Y": 0.0006
         },
         {
          "X": 2.6,
          "Y": 0.00058
         },
         {
          "X": -2.6500000000000004,
          "Y": 0.00055
         },
         {
          "X": -2.7,
          "Y": 0.00049
         },
         {
          "X": -2.8000000000000003,
          "Y": 0.00048
         },
         {
          "X": 2.7,
          "Y": 0.00048
         },
         {
          "X": -2.75,
          "Y": 0.00045
         },
         {
          "X": -2.9000000000000004,
          "Y": 0.00038
         },
         {
          "X": 2.75,
          "Y": 0.00036
         },
         {
          "X": 2.8000000000000003,
          "Y": 0.00034
         },
         {
          "X": 2.9000000000000004,
          "Y": 0.00034
         },
         {
          "X": -2.85,
          "Y": 0.00033
         },
         {
          "X": -3,
          "Y": 0.00029
         },
         {
          "X": 2.85,
          "Y": 0.00028
         },
         {
          "X": -3.0500000000000003,
          "Y": 0.00025
         },
         {
          "X": -2.95,
          "Y": 0.00025
         },
         {
          "X": 3,
          "Y": 0.00025
         },
         {
          "X": 3.0500000000000003,
          "Y": 0.00023
         },
         {
          "X": 2.95,
          "Y": 0.00022
         },
         {
          "X": -3.1,
          "Y": 0.00019
         },
         {
          "X": -3.2,
          "Y": 0.00014
         },
         {
          "X": 3.1,
          "Y": 0.00014
         },
         {
          "X": -3.1500000000000004,
          "Y": 0.00013
         },
         {
          "X": -3.25,
          "Y": 0.00012
         },
         {
          "X": 3.2,
          "Y": 0.00012
         },
         {
          "X": 3.1500000000000004,
          "Y": 0.00011
         },
         {
          "X": 3.3000000000000003,
          "Y": 9e-05
         },
         {
          "X": -3.45,
          "Y": 8e-05
         },
         {
          "X": -3.4000000000000004,
          "Y": 8e-05
         },
         {
          "X": -3.35,
          "Y": 8e-05
         },
         {
          "X": -3.3000000000000003,
          "Y": 8e-05
         },
         {
          "X": 3.25,
          "Y": 8e-05
         },
         {
          "X": 3.4000000000000004,
          "Y": 6e-05
         },
         {
          "X": 3.45,
          "Y": 6e-05
         },
         {
          "X": -3.5,
          "Y": 5e-05
         },
         {
          "X": 3.35,
          "Y": 5e-05
         },
         {
          "X": -3.7,
          "Y": 4e-05
         },
         {
          "X": -3.6500000000000004,
          "Y": 4e-05
         },
         {
          "X": -3.6,
          "Y": 4e-05
         },
         {
          "X": 3.5500000000000003,
          "Y": 3e-05
         },
         {
          "X": 3.9000000000000004,
          "Y": 3e-05
         },
         {
          "X": -4.25,
          "Y": 2e-05
         },
         {
          "X": 3.8000000000000003,
          "Y": 2e-05
         },
         {
          "X": -4.55,
          "Y": 1e-05
         },
         {
          "X": -4.5,
          "Y": 1e-05
         },
         {
          "X": -4.3,
          "Y": 1e-05
         },
         {
          "X": -4,
          "Y": 1e-05
         },
         {
          "X": -3.95,
          "Y": 1e-05
         },
         {
          "X": -3.85,
          "Y": 1e-05
         },
         {
          "X": -3.75,
          "Y": 1e-05
         },
         {
          "X": 3.5,
          "Y": 1e-05
         },
         {
          "X": 3.6,
          "Y": 1e-05
         },
         {
          "X": 3.75,
          "Y": 1e-05
         },
         {
          "X": 3.85,
          "Y": 1e-05
         },
         {
          "X": 4.3,
          "Y": 1e-05
         }
        ]
       },
       "encoding": {
        "x": {
         "field": "X",
         "type": "quantitative"
        },
        "y": {
         "field": "Y",
         "type": "quantitative"
        }
       },
       "height": 200,
       "mark": "bar",
       "width": 200
      },
      "image/png": "[encoded data removed]"
     },
     "metadata": {},
     "output_type": "display_data"
    }
   ],
   "source": [
    "sampleIO $ \n",
    "    plotVega . toEmpirical . toBins 0.05 \n",
    "    <$> replicateM 100000 model2\n",
    "\n"
   ]
  },
  {
   "cell_type": "code",
   "execution_count": 16,
   "metadata": {},
   "outputs": [],
   "source": [
    "model3 = do\n",
    "    p <- bernoulli 0.7\n",
    "    if p then normal 0 1 else normal 3 1"
   ]
  },
  {
   "cell_type": "code",
   "execution_count": 17,
   "metadata": {},
   "outputs": [
    {
     "data": {
      "application/vnd.vegalite.v4+json": {
       "$schema": "https://vega.github.io/schema/vega-lite/v4.json",
       "data": {
        "values": [
         {
          "X": -0.30000000000000004,
          "Y": 0.01434
         },
         {
          "X": 0.25,
          "Y": 0.01425
         },
         {
          "X": 0,
          "Y": 0.01409
         },
         {
          "X": -0.2,
          "Y": 0.0139
         },
         {
          "X": -0.1,
          "Y": 0.01384
         },
         {
          "X": 0.2,
          "Y": 0.01384
         },
         {
          "X": 0.1,
          "Y": 0.01372
         },
         {
          "X": -0.05,
          "Y": 0.01365
         },
         {
          "X": -0.15000000000000002,
          "Y": 0.01361
         },
         {
          "X": 0.05,
          "Y": 0.01349
         },
         {
          "X": 0.30000000000000004,
          "Y": 0.01347
         },
         {
          "X": -0.25,
          "Y": 0.01338
         },
         {
          "X": 0.4,
          "Y": 0.01334
         },
         {
          "X": 0.15000000000000002,
          "Y": 0.01332
         },
         {
          "X": 0.35000000000000003,
          "Y": 0.01307
         },
         {
          "X": -0.4,
          "Y": 0.01302
         },
         {
          "X": -0.35000000000000003,
          "Y": 0.01301
         },
         {
          "X": 0.45,
          "Y": 0.01291
         },
         {
          "X": -0.45,
          "Y": 0.01262
         },
         {
          "X": 0.65,
          "Y": 0.0125
         },
         {
          "X": 0.5,
          "Y": 0.01247
         },
         {
          "X": -0.5,
          "Y": 0.01213
         },
         {
          "X": -0.55,
          "Y": 0.01191
         },
         {
          "X": -0.65,
          "Y": 0.01185
         },
         {
          "X": 0.55,
          "Y": 0.01175
         },
         {
          "X": -0.6000000000000001,
          "Y": 0.01143
         },
         {
          "X": 0.6000000000000001,
          "Y": 0.01134
         },
         {
          "X": -0.75,
          "Y": 0.01094
         },
         {
          "X": -0.8,
          "Y": 0.01054
         },
         {
          "X": 0.7000000000000001,
          "Y": 0.0105
         },
         {
          "X": -0.7000000000000001,
          "Y": 0.0104
         },
         {
          "X": 0.75,
          "Y": 0.01032
         },
         {
          "X": 0.8500000000000001,
          "Y": 0.01026
         },
         {
          "X": 0.8,
          "Y": 0.01014
         },
         {
          "X": -0.8500000000000001,
          "Y": 0.01004
         },
         {
          "X": 0.9500000000000001,
          "Y": 0.00985
         },
         {
          "X": 0.9,
          "Y": 0.00955
         },
         {
          "X": -0.9,
          "Y": 0.00947
         },
         {
          "X": 1.05,
          "Y": 0.00906
         },
         {
          "X": -0.9500000000000001,
          "Y": 0.00887
         },
         {
          "X": 1,
          "Y": 0.0088
         },
         {
          "X": -1.05,
          "Y": 0.0086
         },
         {
          "X": -1,
          "Y": 0.0086
         },
         {
          "X": 1.1,
          "Y": 0.00856
         },
         {
          "X": 1.1500000000000001,
          "Y": 0.00831
         },
         {
          "X": 1.25,
          "Y": 0.00782
         },
         {
          "X": 1.2000000000000002,
          "Y": 0.00779
         },
         {
          "X": -1.1,
          "Y": 0.0076
         },
         {
          "X": 1.3,
          "Y": 0.00747
         },
         {
          "X": -1.1500000000000001,
          "Y": 0.00745
         },
         {
          "X": -1.2000000000000002,
          "Y": 0.00709
         },
         {
          "X": 1.5,
          "Y": 0.00696
         },
         {
          "X": 1.4000000000000001,
          "Y": 0.0069
         },
         {
          "X": 1.35,
          "Y": 0.00688
         },
         {
          "X": 1.4500000000000002,
          "Y": 0.00684
         },
         {
          "X": 1.55,
          "Y": 0.00634
         },
         {
          "X": 2.95,
          "Y": 0.00634
         },
         {
          "X": 3.1500000000000004,
          "Y": 0.00633
         },
         {
          "X": 2.45,
          "Y": 0.00627
         },
         {
          "X": -1.25,
          "Y": 0.00624
         },
         {
          "X": 2.85,
          "Y": 0.00622
         },
         {
          "X": 2.6500000000000004,
          "Y": 0.00619
         },
         {
          "X": 3.1,
          "Y": 0.00619
         },
         {
          "X": 3.0500000000000003,
          "Y": 0.00618
         },
         {
          "X": 1.75,
          "Y": 0.00613
         },
         {
          "X": 1.6500000000000001,
          "Y": 0.00612
         },
         {
          "X": 2.75,
          "Y": 0.00605
         },
         {
          "X": 2.8000000000000003,
          "Y": 0.00605
         },
         {
          "X": 3,
          "Y": 0.00604
         },
         {
          "X": 2.4000000000000004,
          "Y": 0.006
         },
         {
          "X": 1.6,
          "Y": 0.00599
         },
         {
          "X": 2,
          "Y": 0.00592
         },
         {
          "X": 3.25,
          "Y": 0.0059
         },
         {
          "X": -1.3,
          "Y": 0.00588
         },
         {
          "X": 3.35,
          "Y": 0.00586
         },
         {
          "X": 2.9000000000000004,
          "Y": 0.00584
         },
         {
          "X": 3.2,
          "Y": 0.00584
         },
         {
          "X": 2.5,
          "Y": 0.00582
         },
         {
          "X": 1.85,
          "Y": 0.00581
         },
         {
          "X": 1.7000000000000002,
          "Y": 0.0058
         },
         {
          "X": 1.8,
          "Y": 0.00579
         },
         {
          "X": 2.35,
          "Y": 0.00578
         },
         {
          "X": 2.1,
          "Y": 0.00573
         },
         {
          "X": -1.35,
          "Y": 0.00568
         },
         {
          "X": 2.7,
          "Y": 0.00567
         },
         {
          "X": 2.0500000000000003,
          "Y": 0.00566
         },
         {
          "X": 2.5500000000000003,
          "Y": 0.00565
         },
         {
          "X": 3.3000000000000003,
          "Y": 0.00564
         },
         {
          "X": 3.4000000000000004,
          "Y": 0.00564
         },
         {
          "X": 1.9000000000000001,
          "Y": 0.00561
         },
         {
          "X": -1.4000000000000001,
          "Y": 0.0056
         },
         {
          "X": 2.3000000000000003,
          "Y": 0.00559
         },
         {
          "X": 2.6,
          "Y": 0.00559
         },
         {
          "X": 2.25,
          "Y": 0.00556
         },
         {
          "X": 2.15,
          "Y": 0.00555
         },
         {
          "X": 2.2,
          "Y": 0.00554
         },
         {
          "X": 1.9500000000000002,
          "Y": 0.00551
         },
         {
          "X": 3.45,
          "Y": 0.00545
         },
         {
          "X": 3.5,
          "Y": 0.00528
         },
         {
          "X": 3.5500000000000003,
          "Y": 0.00506
         },
         {
          "X": 3.6500000000000004,
          "Y": 0.005
         },
         {
          "X": -1.4500000000000002,
          "Y": 0.00498
         },
         {
          "X": 3.6,
          "Y": 0.00495
         },
         {
          "X": -1.5,
          "Y": 0.00465
         },
         {
          "X": 3.7,
          "Y": 0.0046
         },
         {
          "X": -1.55,
          "Y": 0.00418
         },
         {
          "X": 3.85,
          "Y": 0.00415
         },
         {
          "X": 3.75,
          "Y": 0.00414
         },
         {
          "X": -1.6,
          "Y": 0.00404
         },
         {
          "X": 3.9000000000000004,
          "Y": 0.0039
         },
         {
          "X": 3.8000000000000003,
          "Y": 0.00378
         },
         {
          "X": 4,
          "Y": 0.00373
         },
         {
          "X": 3.95,
          "Y": 0.00372
         },
         {
          "X": -1.6500000000000001,
          "Y": 0.00349
         },
         {
          "X": 4.05,
          "Y": 0.00345
         },
         {
          "X": -1.7000000000000002,
          "Y": 0.00342
         },
         {
          "X": 4.1000000000000005,
          "Y": 0.00338
         },
         {
          "X": -1.75,
          "Y": 0.00325
         },
         {
          "X": 4.15,
          "Y": 0.00311
         },
         {
          "X": -1.8,
          "Y": 0.00301
         },
         {
          "X": -1.85,
          "Y": 0.0028
         },
         {
          "X": 4.2,
          "Y": 0.00279
         },
         {
          "X": 4.25,
          "Y": 0.00259
         },
         {
          "X": 4.3500000000000005,
          "Y": 0.00244
         },
         {
          "X": 4.3,
          "Y": 0.00237
         },
         {
          "X": -1.9500000000000002,
          "Y": 0.00224
         },
         {
          "X": -1.9000000000000001,
          "Y": 0.00219
         },
         {
          "X": 4.4,
          "Y": 0.00211
         },
         {
          "X": 4.45,
          "Y": 0.00204
         },
         {
          "X": -2,
          "Y": 0.00198
         },
         {
          "X": 4.5,
          "Y": 0.00185
         },
         {
          "X": 4.6000000000000005,
          "Y": 0.00172
         },
         {
          "X": -2.0500000000000003,
          "Y": 0.00168
         },
         {
          "X": 4.55,
          "Y": 0.00164
         },
         {
          "X": -2.1,
          "Y": 0.00158
         },
         {
          "X": 4.65,
          "Y": 0.00147
         },
         {
          "X": 4.7,
          "Y": 0.00143
         },
         {
          "X": -2.2,
          "Y": 0.00141
         },
         {
          "X": -2.15,
          "Y": 0.00138
         },
         {
          "X": 4.800000000000001,
          "Y": 0.00136
         },
         {
          "X": 4.75,
          "Y": 0.00125
         },
         {
          "X": -2.25,
          "Y": 0.00124
         },
         {
          "X": 4.9,
          "Y": 0.00115
         },
         {
          "X": 4.8500000000000005,
          "Y": 0.001
         },
         {
          "X": -2.4000000000000004,
          "Y": 0.00096
         },
         {
          "X": -2.3000000000000003,
          "Y": 0.00096
         },
         {
          "X": 4.95,
          "Y": 0.00087
         },
         {
          "X": 5,
          "Y": 0.00086
         },
         {
          "X": -2.35,
          "Y": 0.00084
         },
         {
          "X": 5.1000000000000005,
          "Y": 0.00074
         },
         {
          "X": -2.5,
          "Y": 0.00065
         },
         {
          "X": -2.45,
          "Y": 0.00063
         },
         {
          "X": 5.15,
          "Y": 0.00056
         },
         {
          "X": -2.5500000000000003,
          "Y": 0.00054
         },
         {
          "X": -2.6,
          "Y": 0.0005
         },
         {
          "X": 5.050000000000001,
          "Y": 0.00049
         },
         {
          "X": 5.2,
          "Y": 0.00049
         },
         {
          "X": 5.300000000000001,
          "Y": 0.00049
         },
         {
          "X": 5.25,
          "Y": 0.00048
         },
         {
          "X": 5.3500000000000005,
          "Y": 0.00045
         },
         {
          "X": -2.6500000000000004,
          "Y": 0.00043
         },
         {
          "X": -2.7,
          "Y": 0.00036
         },
         {
          "X": 5.4,
          "Y": 0.00036
         },
         {
          "X": -2.8000000000000003,
          "Y": 0.00035
         },
         {
          "X": 5.5,
          "Y": 0.00035
         },
         {
          "X": -2.85,
          "Y": 0.00029
         },
         {
          "X": -2.9000000000000004,
          "Y": 0.00025
         },
         {
          "X": 5.550000000000001,
          "Y": 0.00025
         },
         {
          "X": -2.75,
          "Y": 0.00023
         },
         {
          "X": 5.6000000000000005,
          "Y": 0.00023
         },
         {
          "X": -3.0500000000000003,
          "Y": 0.00021
         },
         {
          "X": 5.45,
          "Y": 0.00021
         },
         {
          "X": -3,
          "Y": 0.0002
         },
         {
          "X": -2.95,
          "Y": 0.00019
         },
         {
          "X": 5.65,
          "Y": 0.00016
         },
         {
          "X": 5.75,
          "Y": 0.00016
         },
         {
          "X": -3.1,
          "Y": 0.00015
         },
         {
          "X": 5.800000000000001,
          "Y": 0.00015
         },
         {
          "X": 5.7,
          "Y": 0.00013
         },
         {
          "X": -3.1500000000000004,
          "Y": 0.00011
         },
         {
          "X": 5.8500000000000005,
          "Y": 0.0001
         },
         {
          "X": -3.2,
          "Y": 8e-05
         },
         {
          "X": -3.5,
          "Y": 7e-05
         },
         {
          "X": -3.3000000000000003,
          "Y": 7e-05
         },
         {
          "X": 6,
          "Y": 7e-05
         },
         {
          "X": 6.050000000000001,
          "Y": 7e-05
         },
         {
          "X": -3.5500000000000003,
          "Y": 6e-05
         },
         {
          "X": 5.9,
          "Y": 6e-05
         },
         {
          "X": -3.45,
          "Y": 5e-05
         },
         {
          "X": 5.95,
          "Y": 5e-05
         },
         {
          "X": 6.1000000000000005,
          "Y": 5e-05
         },
         {
          "X": 6.2,
          "Y": 5e-05
         },
         {
          "X": -3.6500000000000004,
          "Y": 4e-05
         },
         {
          "X": -3.35,
          "Y": 4e-05
         },
         {
          "X": -3.25,
          "Y": 4e-05
         },
         {
          "X": 6.15,
          "Y": 4e-05
         },
         {
          "X": 6.25,
          "Y": 4e-05
         },
         {
          "X": 6.300000000000001,
          "Y": 3e-05
         },
         {
          "X": 6.65,
          "Y": 3e-05
         },
         {
          "X": -3.9000000000000004,
          "Y": 2e-05
         },
         {
          "X": -3.8000000000000003,
          "Y": 2e-05
         },
         {
          "X": -3.75,
          "Y": 2e-05
         },
         {
          "X": -3.7,
          "Y": 2e-05
         },
         {
          "X": -3.6,
          "Y": 2e-05
         },
         {
          "X": -3.4000000000000004,
          "Y": 2e-05
         },
         {
          "X": 6.45,
          "Y": 2e-05
         },
         {
          "X": 6.6000000000000005,
          "Y": 2e-05
         },
         {
          "X": 6.75,
          "Y": 2e-05
         },
         {
          "X": -4.2,
          "Y": 1e-05
         },
         {
          "X": -4,
          "Y": 1e-05
         },
         {
          "X": 6.3500000000000005,
          "Y": 1e-05
         },
         {
          "X": 6.4,
          "Y": 1e-05
         },
         {
          "X": 6.5,
          "Y": 1e-05
         },
         {
          "X": 6.550000000000001,
          "Y": 1e-05
         },
         {
          "X": 7,
          "Y": 1e-05
         }
        ]
       },
       "encoding": {
        "x": {
         "field": "X",
         "type": "quantitative"
        },
        "y": {
         "field": "Y",
         "type": "quantitative"
        }
       },
       "height": 200,
       "mark": "bar",
       "width": 200
      },
      "image/png": "[encoded data removed]"
     },
     "metadata": {},
     "output_type": "display_data"
    }
   ],
   "source": [
    "sampleIO $ \n",
    "    plotVega . toEmpirical . toBins 0.05 \n",
    "    <$> replicateM 100000 model3\n"
   ]
  },
  {
   "cell_type": "markdown",
   "metadata": {},
   "source": [
    "# Weighted Sampling\n",
    "\n",
    "For models with factor statements, we cannot just sample. For example, consider:"
   ]
  },
  {
   "cell_type": "code",
   "execution_count": 18,
   "metadata": {},
   "outputs": [],
   "source": [
    "model4 = do\n",
    "    p <- bernoulli 0.7\n",
    "    out <- if p then normal 0 1 else normal 3 1\n",
    "    condition (out > 0)\n",
    "    return out\n"
   ]
  },
  {
   "cell_type": "markdown",
   "metadata": {},
   "source": [
    "We could ignore the `condition` statement using `prior`, as in:"
   ]
  },
  {
   "cell_type": "code",
   "execution_count": 19,
   "metadata": {},
   "outputs": [
    {
     "data": {
      "application/vnd.vegalite.v4+json": {
       "$schema": "https://vega.github.io/schema/vega-lite/v4.json",
       "data": {
        "values": [
         {
          "X": -0.1,
          "Y": 0.01421
         },
         {
          "X": -0.2,
          "Y": 0.01413
         },
         {
          "X": -0.15000000000000002,
          "Y": 0.01411
         },
         {
          "X": -0.05,
          "Y": 0.01398
         },
         {
          "X": 0.30000000000000004,
          "Y": 0.01396
         },
         {
          "X": 0.15000000000000002,
          "Y": 0.01392
         },
         {
          "X": 0.2,
          "Y": 0.01386
         },
         {
          "X": 0.05,
          "Y": 0.01384
         },
         {
          "X": -0.25,
          "Y": 0.0138
         },
         {
          "X": 0.35000000000000003,
          "Y": 0.01372
         },
         {
          "X": -0.30000000000000004,
          "Y": 0.01349
         },
         {
          "X": 0.25,
          "Y": 0.01342
         },
         {
          "X": 0.1,
          "Y": 0.01339
         },
         {
          "X": 0,
          "Y": 0.01335
         },
         {
          "X": -0.35000000000000003,
          "Y": 0.01312
         },
         {
          "X": -0.4,
          "Y": 0.01294
         },
         {
          "X": -0.45,
          "Y": 0.01286
         },
         {
          "X": 0.4,
          "Y": 0.01285
         },
         {
          "X": 0.45,
          "Y": 0.01277
         },
         {
          "X": -0.5,
          "Y": 0.01268
         },
         {
          "X": 0.55,
          "Y": 0.01248
         },
         {
          "X": 0.5,
          "Y": 0.01241
         },
         {
          "X": -0.55,
          "Y": 0.01214
         },
         {
          "X": -0.65,
          "Y": 0.01177
         },
         {
          "X": 0.6000000000000001,
          "Y": 0.01167
         },
         {
          "X": -0.6000000000000001,
          "Y": 0.01153
         },
         {
          "X": -0.7000000000000001,
          "Y": 0.01138
         },
         {
          "X": 0.75,
          "Y": 0.01104
         },
         {
          "X": 0.7000000000000001,
          "Y": 0.01095
         },
         {
          "X": 0.65,
          "Y": 0.01083
         },
         {
          "X": -0.8,
          "Y": 0.01049
         },
         {
          "X": 0.8,
          "Y": 0.01049
         },
         {
          "X": -0.75,
          "Y": 0.01025
         },
         {
          "X": -0.8500000000000001,
          "Y": 0.00981
         },
         {
          "X": 0.8500000000000001,
          "Y": 0.00972
         },
         {
          "X": -0.9500000000000001,
          "Y": 0.00952
         },
         {
          "X": 0.9500000000000001,
          "Y": 0.00946
         },
         {
          "X": 0.9,
          "Y": 0.00939
         },
         {
          "X": -0.9,
          "Y": 0.00924
         },
         {
          "X": -1,
          "Y": 0.00871
         },
         {
          "X": 1,
          "Y": 0.00862
         },
         {
          "X": -1.05,
          "Y": 0.00853
         },
         {
          "X": 1.05,
          "Y": 0.00838
         },
         {
          "X": 1.1500000000000001,
          "Y": 0.00824
         },
         {
          "X": 1.1,
          "Y": 0.00813
         },
         {
          "X": 1.2000000000000002,
          "Y": 0.00777
         },
         {
          "X": 1.25,
          "Y": 0.00765
         },
         {
          "X": -1.1,
          "Y": 0.00745
         },
         {
          "X": -1.1500000000000001,
          "Y": 0.00736
         },
         {
          "X": 1.3,
          "Y": 0.00704
         },
         {
          "X": 1.4000000000000001,
          "Y": 0.00701
         },
         {
          "X": 2.75,
          "Y": 0.00698
         },
         {
          "X": -1.2000000000000002,
          "Y": 0.00695
         },
         {
          "X": 1.35,
          "Y": 0.00694
         },
         {
          "X": 1.5,
          "Y": 0.00665
         },
         {
          "X": 3.1,
          "Y": 0.00655
         },
         {
          "X": 1.4500000000000002,
          "Y": 0.00644
         },
         {
          "X": 3,
          "Y": 0.00639
         },
         {
          "X": 2.8000000000000003,
          "Y": 0.00638
         },
         {
          "X": 2.5500000000000003,
          "Y": 0.00635
         },
         {
          "X": 2.6,
          "Y": 0.00635
         },
         {
          "X": 2.9000000000000004,
          "Y": 0.00634
         },
         {
          "X": -1.25,
          "Y": 0.00631
         },
         {
          "X": -1.3,
          "Y": 0.00628
         },
         {
          "X": 2.95,
          "Y": 0.00626
         },
         {
          "X": 1.6,
          "Y": 0.00625
         },
         {
          "X": 3.0500000000000003,
          "Y": 0.00622
         },
         {
          "X": 3.25,
          "Y": 0.00622
         },
         {
          "X": 2.7,
          "Y": 0.00612
         },
         {
          "X": 2.4000000000000004,
          "Y": 0.00608
         },
         {
          "X": 2.15,
          "Y": 0.00604
         },
         {
          "X": 1.55,
          "Y": 0.00601
         },
         {
          "X": 2.85,
          "Y": 0.00592
         },
         {
          "X": 2.0500000000000003,
          "Y": 0.00587
         },
         {
          "X": 3.3000000000000003,
          "Y": 0.00584
         },
         {
          "X": 1.85,
          "Y": 0.00583
         },
         {
          "X": 1.9000000000000001,
          "Y": 0.00583
         },
         {
          "X": 2.35,
          "Y": 0.00582
         },
         {
          "X": -1.35,
          "Y": 0.00579
         },
         {
          "X": 3.2,
          "Y": 0.00579
         },
         {
          "X": 1.75,
          "Y": 0.00577
         },
         {
          "X": -1.4000000000000001,
          "Y": 0.00576
         },
         {
          "X": 1.6500000000000001,
          "Y": 0.00576
         },
         {
          "X": 2,
          "Y": 0.0057
         },
         {
          "X": 3.1500000000000004,
          "Y": 0.0057
         },
         {
          "X": 1.9500000000000002,
          "Y": 0.00568
         },
         {
          "X": 3.35,
          "Y": 0.00565
         },
         {
          "X": 2.2,
          "Y": 0.00564
         },
         {
          "X": 2.5,
          "Y": 0.00564
         },
         {
          "X": 1.7000000000000002,
          "Y": 0.00563
         },
         {
          "X": 1.8,
          "Y": 0.00561
         },
         {
          "X": 2.1,
          "Y": 0.00552
         },
         {
          "X": 2.6500000000000004,
          "Y": 0.00549
         },
         {
          "X": 2.3000000000000003,
          "Y": 0.00546
         },
         {
          "X": 3.4000000000000004,
          "Y": 0.00545
         },
         {
          "X": 2.25,
          "Y": 0.00534
         },
         {
          "X": 3.5,
          "Y": 0.00531
         },
         {
          "X": 2.45,
          "Y": 0.00529
         },
         {
          "X": 3.45,
          "Y": 0.00506
         },
         {
          "X": -1.4500000000000002,
          "Y": 0.005
         },
         {
          "X": 3.5500000000000003,
          "Y": 0.00497
         },
         {
          "X": -1.5,
          "Y": 0.00483
         },
         {
          "X": -1.55,
          "Y": 0.00478
         },
         {
          "X": 3.6500000000000004,
          "Y": 0.00477
         },
         {
          "X": 3.6,
          "Y": 0.00468
         },
         {
          "X": 3.7,
          "Y": 0.00457
         },
         {
          "X": 3.75,
          "Y": 0.00426
         },
         {
          "X": 3.85,
          "Y": 0.00423
         },
         {
          "X": 3.8000000000000003,
          "Y": 0.00414
         },
         {
          "X": 3.9000000000000004,
          "Y": 0.00403
         },
         {
          "X": -1.6,
          "Y": 0.00386
         },
         {
          "X": -1.6500000000000001,
          "Y": 0.00372
         },
         {
          "X": 4,
          "Y": 0.0037
         },
         {
          "X": -1.7000000000000002,
          "Y": 0.0035
         },
         {
          "X": 4.05,
          "Y": 0.00342
         },
         {
          "X": 3.95,
          "Y": 0.00336
         },
         {
          "X": 4.15,
          "Y": 0.00325
         },
         {
          "X": 4.1000000000000005,
          "Y": 0.00318
         },
         {
          "X": -1.75,
          "Y": 0.00288
         },
         {
          "X": 4.25,
          "Y": 0.00287
         },
         {
          "X": -1.8,
          "Y": 0.00283
         },
         {
          "X": 4.2,
          "Y": 0.00275
         },
         {
          "X": 4.3,
          "Y": 0.00265
         },
         {
          "X": -1.9000000000000001,
          "Y": 0.0025
         },
         {
          "X": 4.3500000000000005,
          "Y": 0.00243
         },
         {
          "X": -1.85,
          "Y": 0.0024
         },
         {
          "X": -1.9500000000000002,
          "Y": 0.00228
         },
         {
          "X": 4.4,
          "Y": 0.00228
         },
         {
          "X": 4.45,
          "Y": 0.00215
         },
         {
          "X": 4.5,
          "Y": 0.00202
         },
         {
          "X": -2.0500000000000003,
          "Y": 0.00198
         },
         {
          "X": -2,
          "Y": 0.00182
         },
         {
          "X": 4.6000000000000005,
          "Y": 0.00174
         },
         {
          "X": 4.55,
          "Y": 0.00157
         },
         {
          "X": -2.15,
          "Y": 0.00153
         },
         {
          "X": 4.7,
          "Y": 0.00152
         },
         {
          "X": 4.65,
          "Y": 0.00144
         },
         {
          "X": -2.1,
          "Y": 0.0014
         },
         {
          "X": 4.75,
          "Y": 0.00135
         },
         {
          "X": -2.25,
          "Y": 0.00126
         },
         {
          "X": -2.2,
          "Y": 0.00116
         },
         {
          "X": 4.8500000000000005,
          "Y": 0.00108
         },
         {
          "X": 4.800000000000001,
          "Y": 0.00107
         },
         {
          "X": 4.9,
          "Y": 0.00101
         },
         {
          "X": -2.3000000000000003,
          "Y": 0.00097
         },
         {
          "X": -2.35,
          "Y": 0.00085
         },
         {
          "X": 4.95,
          "Y": 0.00084
         },
         {
          "X": 5,
          "Y": 0.00078
         },
         {
          "X": 5.1000000000000005,
          "Y": 0.00071
         },
         {
          "X": -2.4000000000000004,
          "Y": 0.00067
         },
         {
          "X": -2.45,
          "Y": 0.00066
         },
         {
          "X": 5.050000000000001,
          "Y": 0.00066
         },
         {
          "X": -2.5,
          "Y": 0.00064
         },
         {
          "X": -2.5500000000000003,
          "Y": 0.00056
         },
         {
          "X": 5.2,
          "Y": 0.00051
         },
         {
          "X": -2.6,
          "Y": 0.00049
         },
         {
          "X": -2.6500000000000004,
          "Y": 0.00046
         },
         {
          "X": 5.300000000000001,
          "Y": 0.00046
         },
         {
          "X": 5.15,
          "Y": 0.00045
         },
         {
          "X": -2.7,
          "Y": 0.0004
         },
         {
          "X": 5.25,
          "Y": 0.00038
         },
         {
          "X": -2.75,
          "Y": 0.00036
         },
         {
          "X": 5.3500000000000005,
          "Y": 0.00034
         },
         {
          "X": 5.45,
          "Y": 0.00034
         },
         {
          "X": 5.550000000000001,
          "Y": 0.00031
         },
         {
          "X": 5.4,
          "Y": 0.00029
         },
         {
          "X": 5.5,
          "Y": 0.00026
         },
         {
          "X": -2.8000000000000003,
          "Y": 0.00024
         },
         {
          "X": -2.9000000000000004,
          "Y": 0.00022
         },
         {
          "X": -2.85,
          "Y": 0.00022
         },
         {
          "X": -3,
          "Y": 0.00021
         },
         {
          "X": 5.6000000000000005,
          "Y": 0.00017
         },
         {
          "X": -3.35,
          "Y": 0.00016
         },
         {
          "X": -2.95,
          "Y": 0.00014
         },
         {
          "X": 5.65,
          "Y": 0.00014
         },
         {
          "X": -3.3000000000000003,
          "Y": 0.00013
         },
         {
          "X": 5.7,
          "Y": 0.00013
         },
         {
          "X": 5.75,
          "Y": 0.00013
         },
         {
          "X": 5.800000000000001,
          "Y": 0.00012
         },
         {
          "X": -3.1,
          "Y": 0.00011
         },
         {
          "X": -3.25,
          "Y": 0.0001
         },
         {
          "X": -3.0500000000000003,
          "Y": 0.0001
         },
         {
          "X": -3.2,
          "Y": 8e-05
         },
         {
          "X": -3.1500000000000004,
          "Y": 8e-05
         },
         {
          "X": 5.8500000000000005,
          "Y": 8e-05
         },
         {
          "X": 5.95,
          "Y": 8e-05
         },
         {
          "X": 5.9,
          "Y": 7e-05
         },
         {
          "X": 6,
          "Y": 6e-05
         },
         {
          "X": 6.050000000000001,
          "Y": 6e-05
         },
         {
          "X": 6.1000000000000005,
          "Y": 6e-05
         },
         {
          "X": 6.2,
          "Y": 4e-05
         },
         {
          "X": 6.300000000000001,
          "Y": 4e-05
         },
         {
          "X": -3.5500000000000003,
          "Y": 3e-05
         },
         {
          "X": -3.5,
          "Y": 3e-05
         },
         {
          "X": 6.15,
          "Y": 3e-05
         },
         {
          "X": -3.85,
          "Y": 2e-05
         },
         {
          "X": -3.75,
          "Y": 2e-05
         },
         {
          "X": -3.45,
          "Y": 2e-05
         },
         {
          "X": -3.4000000000000004,
          "Y": 2e-05
         },
         {
          "X": 6.5,
          "Y": 2e-05
         },
         {
          "X": -3.95,
          "Y": 1e-05
         },
         {
          "X": -3.8000000000000003,
          "Y": 1e-05
         },
         {
          "X": -3.7,
          "Y": 1e-05
         },
         {
          "X": -3.6500000000000004,
          "Y": 1e-05
         },
         {
          "X": -3.6,
          "Y": 1e-05
         },
         {
          "X": 6.25,
          "Y": 1e-05
         },
         {
          "X": 6.3500000000000005,
          "Y": 1e-05
         },
         {
          "X": 6.4,
          "Y": 1e-05
         },
         {
          "X": 6.45,
          "Y": 1e-05
         },
         {
          "X": 6.6000000000000005,
          "Y": 1e-05
         },
         {
          "X": 6.800000000000001,
          "Y": 1e-05
         }
        ]
       },
       "encoding": {
        "x": {
         "field": "X",
         "type": "quantitative"
        },
        "y": {
         "field": "Y",
         "type": "quantitative"
        }
       },
       "height": 200,
       "mark": "bar",
       "width": 200
      },
      "image/png": "[encoded data removed]"
     },
     "metadata": {},
     "output_type": "display_data"
    }
   ],
   "source": [
    "sampleIO . prior $ \n",
    "    plotVega . toEmpirical . toBins 0.05 \n",
    "    <$> replicateM 100000 model4\n"
   ]
  },
  {
   "cell_type": "markdown",
   "metadata": {},
   "source": [
    "But obviously, we'd like to take samples from the posterior. We can do so as follows:"
   ]
  },
  {
   "cell_type": "code",
   "execution_count": null,
   "metadata": {},
   "outputs": [
    {
     "data": {
      "text/plain": [
       "[(1.7633420445268524,1.0),(2.78493875227416,1.0),(1.0459312326533174,1.0),(2.4879279652564077,1.0),(1.3958158026394436,1.0),(-1.3272681754686486,0.0),(-0.4399149407281314,0.0),(3.5174010113972534,1.0),(-0.6471909156430901,0.0),(-0.3269929580826737,0.0)]"
      ]
     },
     "metadata": {},
     "output_type": "display_data"
    }
   ],
   "source": [
    "draws4 <- sampleIO $ replicateM 10 $ runWeighted model4\n",
    "draws4"
   ]
  },
  {
   "cell_type": "markdown",
   "metadata": {},
   "source": [
    "Here, we use `runWeighted` to convert `model4` into a distribution over pairs of numbers and their weights. We then sample from that. To view "
   ]
  },
  {
   "cell_type": "code",
   "execution_count": 24,
   "metadata": {},
   "outputs": [
    {
     "data": {
      "application/vnd.vegalite.v4+json": {
       "$schema": "https://vega.github.io/schema/vega-lite/v4.json",
       "data": {
        "values": [
         {
          "X": 0.1,
          "Y": 0.02209579457215365
         },
         {
          "X": 0.05,
          "Y": 0.021957407549781097
         },
         {
          "X": 0.15000000000000002,
          "Y": 0.021865149534866048
         },
         {
          "X": 0,
          "Y": 0.021465364803567536
         },
         {
          "X": 0.25,
          "Y": 0.020942569385715638
         },
         {
          "X": 0.30000000000000004,
          "Y": 0.02081955869916223
         },
         {
          "X": 0.35000000000000003,
          "Y": 0.020481279311140375
         },
         {
          "X": 0.2,
          "Y": 0.019989236564926842
         },
         {
          "X": 0.5,
          "Y": 0.019912354885830964
         },
         {
          "X": 0.4,
          "Y": 0.019389559467978993
         },
         {
          "X": 0.45,
          "Y": 0.019235796109787213
         },
         {
          "X": 0.55,
          "Y": 0.01889751672176538
         },
         {
          "X": 0.6000000000000001,
          "Y": 0.018866764050127036
         },
         {
          "X": 0.65,
          "Y": 0.01832859229645592
         },
         {
          "X": 0.75,
          "Y": 0.016806335050357637
         },
         {
          "X": 0.7000000000000001,
          "Y": 0.01679095871453846
         },
         {
          "X": 0.8,
          "Y": 0.015622357192281121
         },
         {
          "X": 0.9,
          "Y": 0.015314830475897618
         },
         {
          "X": 0.8500000000000001,
          "Y": 0.01491504574459909
         },
         {
          "X": 1,
          "Y": 0.014792035058045692
         },
         {
          "X": 0.9500000000000001,
          "Y": 0.014607519028215629
         },
         {
          "X": 1.05,
          "Y": 0.013531175520873443
         },
         {
          "X": 1.1,
          "Y": 0.013331283155224187
         },
         {
          "X": 1.1500000000000001,
          "Y": 0.012716229722457192
         },
         {
          "X": 1.2000000000000002,
          "Y": 0.01237795033443535
         },
         {
          "X": 1.25,
          "Y": 0.011978165603136824
         },
         {
          "X": 1.35,
          "Y": 0.011178596140539756
         },
         {
          "X": 1.3,
          "Y": 0.011147843468901408
         },
         {
          "X": 1.4000000000000001,
          "Y": 0.010502037364496078
         },
         {
          "X": 1.55,
          "Y": 0.010379026677942686
         },
         {
          "X": 1.4500000000000002,
          "Y": 0.009840854924271596
         },
         {
          "X": 3.2,
          "Y": 0.009748596909356548
         },
         {
          "X": 2.5500000000000003,
          "Y": 0.009687091566079846
         },
         {
          "X": 2.9000000000000004,
          "Y": 0.009656338894441504
         },
         {
          "X": 1.6500000000000001,
          "Y": 0.009564080879526449
         },
         {
          "X": 2.7,
          "Y": 0.009517951872068928
         },
         {
          "X": 2.75,
          "Y": 0.009502575536249757
         },
         {
          "X": 3.35,
          "Y": 0.009364188513877193
         },
         {
          "X": 2.85,
          "Y": 0.00930268317060049
         },
         {
          "X": 1.6,
          "Y": 0.00927193049896214
         },
         {
          "X": 2.95,
          "Y": 0.009225801491504622
         },
         {
          "X": 2.6500000000000004,
          "Y": 0.009195048819866271
         },
         {
          "X": 2.25,
          "Y": 0.009179672484047094
         },
         {
          "X": 2.5,
          "Y": 0.009179672484047094
         },
         {
          "X": 2.6,
          "Y": 0.00913354347658957
         },
         {
          "X": 2.35,
          "Y": 0.009118167140770397
         },
         {
          "X": 3,
          "Y": 0.009118167140770397
         },
         {
          "X": 3.1500000000000004,
          "Y": 0.009087414469132048
         },
         {
          "X": 2.8000000000000003,
          "Y": 0.009056661797493704
         },
         {
          "X": 1.5,
          "Y": 0.008979780118397833
         },
         {
          "X": 1.75,
          "Y": 0.008964403782578657
         },
         {
          "X": 2.15,
          "Y": 0.008964403782578657
         },
         {
          "X": 3.0500000000000003,
          "Y": 0.008872145767663615
         },
         {
          "X": 3.25,
          "Y": 0.008795264088567747
         },
         {
          "X": 3.3000000000000003,
          "Y": 0.008795264088567747
         },
         {
          "X": 2.2,
          "Y": 0.008764511416929402
         },
         {
          "X": 1.8,
          "Y": 0.008672253402014355
         },
         {
          "X": 1.9000000000000001,
          "Y": 0.008626124394556834
         },
         {
          "X": 1.7000000000000002,
          "Y": 0.00861074805873766
         },
         {
          "X": 1.9500000000000002,
          "Y": 0.008579995387099313
         },
         {
          "X": 3.1,
          "Y": 0.00853386637964179
         },
         {
          "X": 3.4000000000000004,
          "Y": 0.008395479357269222
         },
         {
          "X": 2.45,
          "Y": 0.008380103021450046
         },
         {
          "X": 2.0500000000000003,
          "Y": 0.008287845006534997
         },
         {
          "X": 2.4000000000000004,
          "Y": 0.008257092334896647
         },
         {
          "X": 2.3000000000000003,
          "Y": 0.00824171599907747
         },
         {
          "X": 2.1,
          "Y": 0.008210963327439116
         },
         {
          "X": 3.5,
          "Y": 0.008210963327439116
         },
         {
          "X": 2,
          "Y": 0.008118705312524075
         },
         {
          "X": 3.45,
          "Y": 0.008103328976704901
         },
         {
          "X": 3.5500000000000003,
          "Y": 0.008026447297609025
         },
         {
          "X": 3.6500000000000004,
          "Y": 0.007995694625970672
         },
         {
          "X": 1.85,
          "Y": 0.007964941954332321
         },
         {
          "X": 3.6,
          "Y": 0.00751902821557627
         },
         {
          "X": 3.7,
          "Y": 0.0072883831782886615
         },
         {
          "X": 3.75,
          "Y": 0.007180748827554439
         },
         {
          "X": 3.85,
          "Y": 0.006565695394787458
         },
         {
          "X": 3.8000000000000003,
          "Y": 0.006350426693319013
         },
         {
          "X": 3.9000000000000004,
          "Y": 0.006073652648573866
         },
         {
          "X": 3.95,
          "Y": 0.005812254939647904
         },
         {
          "X": 4,
          "Y": 0.0049819328054124855
         },
         {
          "X": 4.05,
          "Y": 0.004828169447220738
         },
         {
          "X": 4.1000000000000005,
          "Y": 0.004628277081571476
         },
         {
          "X": 4.2,
          "Y": 0.004397632044283862
         },
         {
          "X": 4.3,
          "Y": 0.004274621357730467
         },
         {
          "X": 4.15,
          "Y": 0.004228492350272946
         },
         {
          "X": 4.25,
          "Y": 0.004213116014453771
         },
         {
          "X": 4.3500000000000005,
          "Y": 0.003321288536941665
         },
         {
          "X": 4.45,
          "Y": 0.003213654186207446
         },
         {
          "X": 4.4,
          "Y": 0.003152148842930747
         },
         {
          "X": 4.55,
          "Y": 0.002767740447451387
         },
         {
          "X": 4.5,
          "Y": 0.002660106096717165
         },
         {
          "X": 4.6000000000000005,
          "Y": 0.002275697701237802
         },
         {
          "X": 4.65,
          "Y": 0.0022295686937802792
         },
         {
          "X": 4.7,
          "Y": 0.002214192357961106
         },
         {
          "X": 4.75,
          "Y": 0.0018451602983009193
         },
         {
          "X": 4.800000000000001,
          "Y": 0.0017990312908433969
         },
         {
          "X": 4.8500000000000005,
          "Y": 0.001522257246098261
         },
         {
          "X": 4.95,
          "Y": 0.0013531175520873427
         },
         {
          "X": 5,
          "Y": 0.0013377412162681678
         },
         {
          "X": 4.9,
          "Y": 0.0013069885446298183
         },
         {
          "X": 5.1000000000000005,
          "Y": 0.000999461828246333
         },
         {
          "X": 5.15,
          "Y": 0.0009225801491504612
         },
         {
          "X": 5.050000000000001,
          "Y": 0.0008918274775121125
         },
         {
          "X": 5.2,
          "Y": 0.0007534404551395438
         },
         {
          "X": 5.25,
          "Y": 0.0007534404551395438
         },
         {
          "X": 5.3500000000000005,
          "Y": 0.0006611824402244977
         },
         {
          "X": 5.45,
          "Y": 0.0005843007611286256
         },
         {
          "X": 5.4,
          "Y": 0.00044591373875605664
         },
         {
          "X": 5.6000000000000005,
          "Y": 0.00044591373875605664
         },
         {
          "X": 5.5,
          "Y": 0.00043053740293688214
         },
         {
          "X": 5.300000000000001,
          "Y": 0.0003997847312985335
         },
         {
          "X": 5.550000000000001,
          "Y": 0.00033827938802183594
         },
         {
          "X": 5.7,
          "Y": 0.0002767740447451386
         },
         {
          "X": 5.75,
          "Y": 0.0002767740447451386
         },
         {
          "X": 5.65,
          "Y": 0.00023064503728761546
         },
         {
          "X": 5.8500000000000005,
          "Y": 0.00016913969401091794
         },
         {
          "X": 5.800000000000001,
          "Y": 0.00015376335819174348
         },
         {
          "X": 6,
          "Y": 0.0001230106865533949
         },
         {
          "X": 5.9,
          "Y": 0.00010763435073422052
         },
         {
          "X": 6.050000000000001,
          "Y": 6.150534327669745e-05
         },
         {
          "X": 6.1000000000000005,
          "Y": 4.612900745752305e-05
         },
         {
          "X": 6.15,
          "Y": 4.612900745752305e-05
         },
         {
          "X": 5.95,
          "Y": 3.075267163834872e-05
         },
         {
          "X": 6.25,
          "Y": 3.075267163834872e-05
         },
         {
          "X": 6.7,
          "Y": 3.075267163834872e-05
         },
         {
          "X": 6.2,
          "Y": 1.537633581917436e-05
         },
         {
          "X": 6.300000000000001,
          "Y": 1.537633581917436e-05
         },
         {
          "X": 6.45,
          "Y": 1.537633581917436e-05
         },
         {
          "X": 6.550000000000001,
          "Y": 1.537633581917436e-05
         },
         {
          "X": 6.75,
          "Y": 1.537633581917436e-05
         },
         {
          "X": 7.15,
          "Y": 1.537633581917436e-05
         },
         {
          "X": 7.2,
          "Y": 1.537633581917436e-05
         },
         {
          "X": -4.3,
          "Y": 0
         },
         {
          "X": -4.05,
          "Y": 0
         },
         {
          "X": -4,
          "Y": 0
         },
         {
          "X": -3.95,
          "Y": 0
         },
         {
          "X": -3.9000000000000004,
          "Y": 0
         },
         {
          "X": -3.85,
          "Y": 0
         },
         {
          "X": -3.8000000000000003,
          "Y": 0
         },
         {
          "X": -3.75,
          "Y": 0
         },
         {
          "X": -3.7,
          "Y": 0
         },
         {
          "X": -3.6,
          "Y": 0
         },
         {
          "X": -3.5500000000000003,
          "Y": 0
         },
         {
          "X": -3.5,
          "Y": 0
         },
         {
          "X": -3.45,
          "Y": 0
         },
         {
          "X": -3.4000000000000004,
          "Y": 0
         },
         {
          "X": -3.35,
          "Y": 0
         },
         {
          "X": -3.3000000000000003,
          "Y": 0
         },
         {
          "X": -3.25,
          "Y": 0
         },
         {
          "X": -3.2,
          "Y": 0
         },
         {
          "X": -3.1500000000000004,
          "Y": 0
         },
         {
          "X": -3.1,
          "Y": 0
         },
         {
          "X": -3.0500000000000003,
          "Y": 0
         },
         {
          "X": -3,
          "Y": 0
         },
         {
          "X": -2.95,
          "Y": 0
         },
         {
          "X": -2.9000000000000004,
          "Y": 0
         },
         {
          "X": -2.85,
          "Y": 0
         },
         {
          "X": -2.8000000000000003,
          "Y": 0
         },
         {
          "X": -2.75,
          "Y": 0
         },
         {
          "X": -2.7,
          "Y": 0
         },
         {
          "X": -2.6500000000000004,
          "Y": 0
         },
         {
          "X": -2.6,
          "Y": 0
         },
         {
          "X": -2.5500000000000003,
          "Y": 0
         },
         {
          "X": -2.5,
          "Y": 0
         },
         {
          "X": -2.45,
          "Y": 0
         },
         {
          "X": -2.4000000000000004,
          "Y": 0
         },
         {
          "X": -2.35,
          "Y": 0
         },
         {
          "X": -2.3000000000000003,
          "Y": 0
         },
         {
          "X": -2.25,
          "Y": 0
         },
         {
          "X": -2.2,
          "Y": 0
         },
         {
          "X": -2.15,
          "Y": 0
         },
         {
          "X": -2.1,
          "Y": 0
         },
         {
          "X": -2.0500000000000003,
          "Y": 0
         },
         {
          "X": -2,
          "Y": 0
         },
         {
          "X": -1.9500000000000002,
          "Y": 0
         },
         {
          "X": -1.9000000000000001,
          "Y": 0
         },
         {
          "X": -1.85,
          "Y": 0
         },
         {
          "X": -1.8,
          "Y": 0
         },
         {
          "X": -1.75,
          "Y": 0
         },
         {
          "X": -1.7000000000000002,
          "Y": 0
         },
         {
          "X": -1.6500000000000001,
          "Y": 0
         },
         {
          "X": -1.6,
          "Y": 0
         },
         {
          "X": -1.55,
          "Y": 0
         },
         {
          "X": -1.5,
          "Y": 0
         },
         {
          "X": -1.4500000000000002,
          "Y": 0
         },
         {
          "X": -1.4000000000000001,
          "Y": 0
         },
         {
          "X": -1.35,
          "Y": 0
         },
         {
          "X": -1.3,
          "Y": 0
         },
         {
          "X": -1.25,
          "Y": 0
         },
         {
          "X": -1.2000000000000002,
          "Y": 0
         },
         {
          "X": -1.1500000000000001,
          "Y": 0
         },
         {
          "X": -1.1,
          "Y": 0
         },
         {
          "X": -1.05,
          "Y": 0
         },
         {
          "X": -1,
          "Y": 0
         },
         {
          "X": -0.9500000000000001,
          "Y": 0
         },
         {
          "X": -0.9,
          "Y": 0
         },
         {
          "X": -0.8500000000000001,
          "Y": 0
         },
         {
          "X": -0.8,
          "Y": 0
         },
         {
          "X": -0.75,
          "Y": 0
         },
         {
          "X": -0.7000000000000001,
          "Y": 0
         },
         {
          "X": -0.65,
          "Y": 0
         },
         {
          "X": -0.6000000000000001,
          "Y": 0
         },
         {
          "X": -0.55,
          "Y": 0
         },
         {
          "X": -0.5,
          "Y": 0
         },
         {
          "X": -0.45,
          "Y": 0
         },
         {
          "X": -0.4,
          "Y": 0
         },
         {
          "X": -0.35000000000000003,
          "Y": 0
         },
         {
          "X": -0.30000000000000004,
          "Y": 0
         },
         {
          "X": -0.25,
          "Y": 0
         },
         {
          "X": -0.2,
          "Y": 0
         },
         {
          "X": -0.15000000000000002,
          "Y": 0
         },
         {
          "X": -0.1,
          "Y": 0
         },
         {
          "X": -0.05,
          "Y": 0
         }
        ]
       },
       "encoding": {
        "x": {
         "field": "X",
         "type": "quantitative"
        },
        "y": {
         "field": "Y",
         "type": "quantitative"
        }
       },
       "height": 200,
       "mark": "bar",
       "width": 200
      },
      "image/png": "[encoded data removed]"
     },
     "metadata": {},
     "output_type": "display_data"
    }
   ],
   "source": [
    "sampleIO $ \n",
    "    plotVega . fmap (second (ln . exp)) . toEmpiricalWeighted . toBinsWeighted 0.05 \n",
    "    <$> replicateM 100000 (runWeighted model4)"
   ]
  },
  {
   "cell_type": "code",
   "execution_count": 26,
   "metadata": {},
   "outputs": [
    {
     "data": {
      "application/vnd.vegalite.v4+json": {
       "$schema": "https://vega.github.io/schema/vega-lite/v4.json",
       "data": {
        "values": [
         {
          "X": 0.1,
          "Y": 0.009017756824174586
         },
         {
          "X": -0.05,
          "Y": 0.008871208836886874
         },
         {
          "X": -0.35000000000000003,
          "Y": 0.008791439220618126
         },
         {
          "X": -0.1,
          "Y": 0.008784579151030026
         },
         {
          "X": 0.2,
          "Y": 0.008635547240028971
         },
         {
          "X": 0.05,
          "Y": 0.008570036498959727
         },
         {
          "X": -0.25,
          "Y": 0.008422141730111353
         },
         {
          "X": -0.30000000000000004,
          "Y": 0.008401952954441355
         },
         {
          "X": 0.15000000000000002,
          "Y": 0.008401447235502691
         },
         {
          "X": -0.2,
          "Y": 0.008186113190829233
         },
         {
          "X": -0.15000000000000002,
          "Y": 0.008120225217620722
         },
         {
          "X": 0.30000000000000004,
          "Y": 0.008033531684070026
         },
         {
          "X": 0.35000000000000003,
          "Y": 0.008021299578544585
         },
         {
          "X": -0.4,
          "Y": 0.008013119330565307
         },
         {
          "X": 0.25,
          "Y": 0.008007979140125248
         },
         {
          "X": 0,
          "Y": 0.007859332564722734
         },
         {
          "X": 0.5,
          "Y": 0.007851894324142877
         },
         {
          "X": -0.55,
          "Y": 0.007769705276545308
         },
         {
          "X": 0.4,
          "Y": 0.007642795310251492
         },
         {
          "X": -0.45,
          "Y": 0.007548656446887107
         },
         {
          "X": 0.45,
          "Y": 0.007538020457210683
         },
         {
          "X": -0.6000000000000001,
          "Y": 0.0072424187849559315
         },
         {
          "X": -0.5,
          "Y": 0.0069620982879890336
         },
         {
          "X": 0.7000000000000001,
          "Y": 0.006868104824208794
         },
         {
          "X": -0.65,
          "Y": 0.006763490259797973
         },
         {
          "X": -0.9,
          "Y": 0.006758960415834897
         },
         {
          "X": 0.65,
          "Y": 0.006697099031017936
         },
         {
          "X": -0.7000000000000001,
          "Y": 0.006675953146023167
         },
         {
          "X": 0.6000000000000001,
          "Y": 0.006652791876686778
         },
         {
          "X": 0.55,
          "Y": 0.006624953813938072
         },
         {
          "X": -0.75,
          "Y": 0.006480938830292661
         },
         {
          "X": -0.8,
          "Y": 0.0063127216846780975
         },
         {
          "X": -0.8500000000000001,
          "Y": 0.006278122223685694
         },
         {
          "X": 0.8,
          "Y": 0.006251157795620736
         },
         {
          "X": 0.75,
          "Y": 0.00612436109003162
         },
         {
          "X": -0.9500000000000001,
          "Y": 0.006121259216144494
         },
         {
          "X": 0.8500000000000001,
          "Y": 0.005854406773612946
         },
         {
          "X": 0.9,
          "Y": 0.005729103703572123
         },
         {
          "X": -1.05,
          "Y": 0.005462592953208732
         },
         {
          "X": -1,
          "Y": 0.005437597151006314
         },
         {
          "X": 0.9500000000000001,
          "Y": 0.005415944756325299
         },
         {
          "X": -1.1,
          "Y": 0.005175450736402527
         },
         {
          "X": 1,
          "Y": 0.005139064838621921
         },
         {
          "X": 1.05,
          "Y": 0.005073475892275491
         },
         {
          "X": 1.1,
          "Y": 0.005013403304241601
         },
         {
          "X": -1.1500000000000001,
          "Y": 0.004795502029500168
         },
         {
          "X": -6.25,
          "Y": 0.004558598759657996
         },
         {
          "X": -1.3,
          "Y": 0.004321714232966047
         },
         {
          "X": 5.95,
          "Y": 0.004315829669972327
         },
         {
          "X": 1.1500000000000001,
          "Y": 0.004312785929403615
         },
         {
          "X": 1.3,
          "Y": 0.004284443204354446
         },
         {
          "X": -6.15,
          "Y": 0.004253112343302783
         },
         {
          "X": 6.4,
          "Y": 0.004242560083865862
         },
         {
          "X": -6,
          "Y": 0.004232970840498115
         },
         {
          "X": -5.9,
          "Y": 0.0041480148123578305
         },
         {
          "X": -1.25,
          "Y": 0.004145983474538301
         },
         {
          "X": 6.1000000000000005,
          "Y": 0.004126805773045349
         },
         {
          "X": 6,
          "Y": 0.004124932307514034
         },
         {
          "X": 5.800000000000001,
          "Y": 0.0041021722091747785
         },
         {
          "X": 6.3500000000000005,
          "Y": 0.0040754965378537195
         },
         {
          "X": -1.2000000000000002,
          "Y": 0.00405346860820886
         },
         {
          "X": -5.6000000000000005,
          "Y": 0.004042900790749742
         },
         {
          "X": -6.3500000000000005,
          "Y": 0.004024523658237941
         },
         {
          "X": -1.4000000000000001,
          "Y": 0.0039775474680680415
         },
         {
          "X": -6.4,
          "Y": 0.003968029252860295
         },
         {
          "X": 1.25,
          "Y": 0.003955320686762393
         },
         {
          "X": 6.2,
          "Y": 0.003913219434978216
         },
         {
          "X": 5.9,
          "Y": 0.003901029908476018
         },
         {
          "X": -6.2,
          "Y": 0.003896658428769012
         },
         {
          "X": 1.2000000000000002,
          "Y": 0.0038903760780624515
         },
         {
          "X": -5.95,
          "Y": 0.003881688225435508
         },
         {
          "X": 6.45,
          "Y": 0.0038285109677139197
         },
         {
          "X": -5.75,
          "Y": 0.0038107685820873366
         },
         {
          "X": 6.15,
          "Y": 0.0037907348967462676
         },
         {
          "X": 5.6000000000000005,
          "Y": 0.003787779413598202
         },
         {
          "X": -6.300000000000001,
          "Y": 0.0037691181550193816
         },
         {
          "X": 6.5,
          "Y": 0.0037670413276931587
         },
         {
          "X": -1.4500000000000002,
          "Y": 0.003752625242375789
         },
         {
          "X": -6.45,
          "Y": 0.0037321979942772235
         },
         {
          "X": 5.8500000000000005,
          "Y": 0.003730152600193776
         },
         {
          "X": 6.300000000000001,
          "Y": 0.003723252958205694
         },
         {
          "X": -6.550000000000001,
          "Y": 0.0037018845838198908
         },
         {
          "X": -6.1000000000000005,
          "Y": 0.003690659691854169
         },
         {
          "X": -1.35,
          "Y": 0.00369042218819785
         },
         {
          "X": 6.050000000000001,
          "Y": 0.003668951904868797
         },
         {
          "X": -5.7,
          "Y": 0.0036564467641449928
         },
         {
          "X": 5.5,
          "Y": 0.0036493394689893887
         },
         {
          "X": 5.75,
          "Y": 0.003608691598890704
         },
         {
          "X": 1.4500000000000002,
          "Y": 0.003601039500277019
         },
         {
          "X": -6.5,
          "Y": 0.00359604503908806
         },
         {
          "X": -6.6000000000000005,
          "Y": 0.0035920245517310208
         },
         {
          "X": -5.65,
          "Y": 0.0035819038442581777
         },
         {
          "X": 5.4,
          "Y": 0.0035687123075419493
         },
         {
          "X": 6.25,
          "Y": 0.003532314384386058
         },
         {
          "X": -5.800000000000001,
          "Y": 0.003531241347096208
         },
         {
          "X": -5.550000000000001,
          "Y": 0.0035215366534493975
         },
         {
          "X": 1.35,
          "Y": 0.0035153093717454403
         },
         {
          "X": 5.300000000000001,
          "Y": 0.0035074175832923308
         },
         {
          "X": -6.050000000000001,
          "Y": 0.0035010273554331524
         },
         {
          "X": -6.65,
          "Y": 0.0034945432238467035
         },
         {
          "X": 5.45,
          "Y": 0.0034672228225606297
         },
         {
          "X": 5.7,
          "Y": 0.0034614087745475776
         },
         {
          "X": 6.8500000000000005,
          "Y": 0.003434229045143405
         },
         {
          "X": -1.5,
          "Y": 0.0034266441405575564
         },
         {
          "X": 1.4000000000000001,
          "Y": 0.0034088314782275914
         },
         {
          "X": -5.8500000000000005,
          "Y": 0.003379619145486385
         },
         {
          "X": -6.800000000000001,
          "Y": 0.003368862035608012
         },
         {
          "X": 6.550000000000001,
          "Y": 0.003325085574804831
         },
         {
          "X": -5.45,
          "Y": 0.003317079373907585
         },
         {
          "X": -6.7,
          "Y": 0.0032732324907771082
         },
         {
          "X": 6.6000000000000005,
          "Y": 0.0032543596201846338
         },
         {
          "X": 5.550000000000001,
          "Y": 0.003237368601758166
         },
         {
          "X": -5.300000000000001,
          "Y": 0.0032012545478604174
         },
         {
          "X": -1.55,
          "Y": 0.0031628009839727335
         },
         {
          "X": 5.65,
          "Y": 0.0031300971451210385
         },
         {
          "X": -6.8500000000000005,
          "Y": 0.0031190948071568958
         },
         {
          "X": -5.5,
          "Y": 0.003097602646293177
         },
         {
          "X": 5.3500000000000005,
          "Y": 0.0030966409842353732
         },
         {
          "X": -5.4,
          "Y": 0.0030793468054157564
         },
         {
          "X": -5.2,
          "Y": 0.0030709876085921006
         },
         {
          "X": 1.5,
          "Y": 0.0030648901396899512
         },
         {
          "X": 6.65,
          "Y": 0.0030558792352462887
         },
         {
          "X": -5.25,
          "Y": 0.003038675986483226
         },
         {
          "X": -6.75,
          "Y": 0.0029954114969703944
         },
         {
          "X": -1.6,
          "Y": 0.0029808570923814852
         },
         {
          "X": 5.1000000000000005,
          "Y": 0.0029594427949956293
         },
         {
          "X": 6.800000000000001,
          "Y": 0.0029480698620776556
         },
         {
          "X": 5.25,
          "Y": 0.002942868722727231
         },
         {
          "X": 1.6500000000000001,
          "Y": 0.002938311751947431
         },
         {
          "X": -5.3500000000000005,
          "Y": 0.0029286541045245636
         },
         {
          "X": 4.9,
          "Y": 0.0029041929655066632
         },
         {
          "X": -1.6500000000000001,
          "Y": 0.0028873232662239715
         },
         {
          "X": -5.1000000000000005,
          "Y": 0.0028260587536792785
         },
         {
          "X": 5.2,
          "Y": 0.0028221563065850257
         },
         {
          "X": 1.6,
          "Y": 0.0028006323080222496
         },
         {
          "X": -6.9,
          "Y": 0.002798754580152365
         },
         {
          "X": 6.75,
          "Y": 0.0027938705793544255
         },
         {
          "X": 1.55,
          "Y": 0.0027668893622917507
         },
         {
          "X": 5.15,
          "Y": 0.0027624647052696097
         },
         {
          "X": 6.7,
          "Y": 0.0027196306266452012
         },
         {
          "X": 5,
          "Y": 0.0026824251564811943
         },
         {
          "X": -5,
          "Y": 0.0026805410739474916
         },
         {
          "X": -1.8,
          "Y": 0.002651221674115127
         },
         {
          "X": -5.15,
          "Y": 0.0026271671141480206
         },
         {
          "X": -1.7000000000000002,
          "Y": 0.002622489568079954
         },
         {
          "X": -7,
          "Y": 0.0026221949214639937
         },
         {
          "X": -4.9,
          "Y": 0.0026006932643199564
         },
         {
          "X": 6.9,
          "Y": 0.002595699141523299
         },
         {
          "X": 5.050000000000001,
          "Y": 0.002587338655418203
         },
         {
          "X": 6.95,
          "Y": 0.0025501001826214896
         },
         {
          "X": -6.95,
          "Y": 0.002526577158278368
         },
         {
          "X": -1.75,
          "Y": 0.0025133952352554456
         },
         {
          "X": -5.050000000000001,
          "Y": 0.00245846994059426
         },
         {
          "X": -7.15,
          "Y": 0.002438214810143058
         },
         {
          "X": -7.1000000000000005,
          "Y": 0.002430471826822407
         },
         {
          "X": 1.7000000000000002,
          "Y": 0.0023650773749463996
         },
         {
          "X": 1.8,
          "Y": 0.002335646262132997
         },
         {
          "X": 4.95,
          "Y": 0.002331735362666694
         },
         {
          "X": 4.8500000000000005,
          "Y": 0.0023240181697235756
         },
         {
          "X": 1.75,
          "Y": 0.0023058651125262325
         },
         {
          "X": 7.050000000000001,
          "Y": 0.0022736621340362995
         },
         {
          "X": 7,
          "Y": 0.002255618735542445
         },
         {
          "X": 1.85,
          "Y": 0.002248497707934644
         },
         {
          "X": -1.85,
          "Y": 0.002231444385250515
         },
         {
          "X": 7.1000000000000005,
          "Y": 0.002219995752502214
         },
         {
          "X": -4.75,
          "Y": 0.002198807505687007
         },
         {
          "X": -4.8500000000000005,
          "Y": 0.0021552156506442948
         },
         {
          "X": 4.7,
          "Y": 0.0021427575725798645
         },
         {
          "X": -7.050000000000001,
          "Y": 0.002134799321196085
         },
         {
          "X": -7.2,
          "Y": 0.002111410039958381
         },
         {
          "X": 1.9500000000000002,
          "Y": 0.002111084100048894
         },
         {
          "X": 7.15,
          "Y": 0.0021102741136181003
         },
         {
          "X": 1.9000000000000001,
          "Y": 0.002107554290970089
         },
         {
          "X": -1.9500000000000002,
          "Y": 0.002104342152505923
         },
         {
          "X": -4.95,
          "Y": 0.0020870896670660373
         },
         {
          "X": 4.6000000000000005,
          "Y": 0.002064743746730431
         },
         {
          "X": 7.2,
          "Y": 0.0020536652821338936
         },
         {
          "X": -7.25,
          "Y": 0.0020524200383959332
         },
         {
          "X": -2.0500000000000003,
          "Y": 0.0020155430609644065
         },
         {
          "X": -1.9000000000000001,
          "Y": 0.0020132421055339975
         },
         {
          "X": 4.800000000000001,
          "Y": 0.0020119070279155053
         },
         {
          "X": 7.300000000000001,
          "Y": 0.0019970909365749313
         },
         {
          "X": 4.65,
          "Y": 0.0019958446082891054
         },
         {
          "X": -4.800000000000001,
          "Y": 0.0019946416702247695
         },
         {
          "X": -7.45,
          "Y": 0.0019474003246940767
         },
         {
          "X": 7.25,
          "Y": 0.0019439629778503012
         },
         {
          "X": 4.75,
          "Y": 0.0019398057558419135
         },
         {
          "X": -2.1,
          "Y": 0.0019122874790876935
         },
         {
          "X": -4.65,
          "Y": 0.001844518076472534
         },
         {
          "X": -4.7,
          "Y": 0.0018303119177193506
         },
         {
          "X": -2.15,
          "Y": 0.0018066446764792058
         },
         {
          "X": 2,
          "Y": 0.0018037778732527786
         },
         {
          "X": -2,
          "Y": 0.001802534117549857
         },
         {
          "X": 2.0500000000000003,
          "Y": 0.0017790668043124748
         },
         {
          "X": 4.5,
          "Y": 0.001771795027877225
         },
         {
          "X": -4.55,
          "Y": 0.0017573142462125628
         },
         {
          "X": 4.55,
          "Y": 0.001752849911268439
         },
         {
          "X": 2.1,
          "Y": 0.0016810048221284838
         },
         {
          "X": -4.5,
          "Y": 0.0016655403286452608
         },
         {
          "X": -2.2,
          "Y": 0.0016566002416741894
         },
         {
          "X": -7.300000000000001,
          "Y": 0.0016460582875728656
         },
         {
          "X": -7.3500000000000005,
          "Y": 0.0016181374003544182
         },
         {
          "X": -4.6000000000000005,
          "Y": 0.001616824336092517
         },
         {
          "X": -4.45,
          "Y": 0.0015774591711506102
         },
         {
          "X": 4.4,
          "Y": 0.001577058442852728
         },
         {
          "X": 2.2,
          "Y": 0.0015732100481499682
         },
         {
          "X": 7.3500000000000005,
          "Y": 0.0015685590887065998
         },
         {
          "X": 2.15,
          "Y": 0.0015637406646058305
         },
         {
          "X": -4.3500000000000005,
          "Y": 0.0015604157516638233
         },
         {
          "X": 4.45,
          "Y": 0.0015539580222668724
         },
         {
          "X": 2.25,
          "Y": 0.0015521225016213189
         },
         {
          "X": -2.3000000000000003,
          "Y": 0.001537941099260944
         },
         {
          "X": -2.25,
          "Y": 0.0015282818038356274
         },
         {
          "X": -4.4,
          "Y": 0.0015255853534548954
         },
         {
          "X": -4.25,
          "Y": 0.0015068402066980976
         },
         {
          "X": 4.25,
          "Y": 0.0014815494699598178
         },
         {
          "X": -7.4,
          "Y": 0.0014796116654052635
         },
         {
          "X": 7.5,
          "Y": 0.0014659129854214612
         },
         {
          "X": -7.550000000000001,
          "Y": 0.0014404052555575377
         },
         {
          "X": -2.45,
          "Y": 0.001421307011229384
         },
         {
          "X": 4.15,
          "Y": 0.0014206082278798572
         },
         {
          "X": 2.35,
          "Y": 0.0014112672961813938
         },
         {
          "X": 7.45,
          "Y": 0.0014107864768251504
         },
         {
          "X": 2.3000000000000003,
          "Y": 0.0014075079237258303
         },
         {
          "X": -2.35,
          "Y": 0.0013861637650060064
         },
         {
          "X": 4.3,
          "Y": 0.0013860429425967746
         },
         {
          "X": -2.4000000000000004,
          "Y": 0.0013847501320714923
         },
         {
          "X": 4.3500000000000005,
          "Y": 0.0013770423816142495
         },
         {
          "X": -4.3,
          "Y": 0.0013747129350356313
         },
         {
          "X": 4.1000000000000005,
          "Y": 0.0013740315742768094
         },
         {
          "X": 4.2,
          "Y": 0.001364200128637994
         },
         {
          "X": 7.4,
          "Y": 0.001356661916755193
         },
         {
          "X": 7.550000000000001,
          "Y": 0.0013555482697239962
         },
         {
          "X": -7.5,
          "Y": 0.0013080957065086146
         },
         {
          "X": 2.4000000000000004,
          "Y": 0.0012827190661630636
         },
         {
          "X": 2.75,
          "Y": 0.0012811581329840265
         },
         {
          "X": 4.05,
          "Y": 0.0012756720044422118
         },
         {
          "X": 2.5,
          "Y": 0.0012714520218251335
         },
         {
          "X": -2.6,
          "Y": 0.00126371393538412
         },
         {
          "X": 2.5500000000000003,
          "Y": 0.0012578338374083092
         },
         {
          "X": -2.7,
          "Y": 0.0012525290484957624
         },
         {
          "X": -2.5,
          "Y": 0.0012493896465988873
         },
         {
          "X": -7.7,
          "Y": 0.0012402014882771208
         },
         {
          "X": 2.45,
          "Y": 0.0012356902264123529
         },
         {
          "X": 7.6000000000000005,
          "Y": 0.0012302463516199785
         },
         {
          "X": 7.7,
          "Y": 0.001215925061429934
         },
         {
          "X": 4,
          "Y": 0.0012136973191632769
         },
         {
          "X": -7.800000000000001,
          "Y": 0.0012096291228875925
         },
         {
          "X": 3.85,
          "Y": 0.0011909693885276415
         },
         {
          "X": -2.5500000000000003,
          "Y": 0.0011877035012017368
         },
         {
          "X": -3.85,
          "Y": 0.0011864226606416246
         },
         {
          "X": 3.8000000000000003,
          "Y": 0.0011848551472049764
         },
         {
          "X": -4.1000000000000005,
          "Y": 0.0011727056142207207
         },
         {
          "X": -4.2,
          "Y": 0.0011726789098219395
         },
         {
          "X": -7.6000000000000005,
          "Y": 0.0011710976440238105
         },
         {
          "X": -2.6500000000000004,
          "Y": 0.0011627816046439062
         },
         {
          "X": 2.7,
          "Y": 0.0011593636350556759
         },
         {
          "X": 3.9000000000000004,
          "Y": 0.0011592215595730541
         },
         {
          "X": -3.95,
          "Y": 0.0011578608126765729
         },
         {
          "X": -4.05,
          "Y": 0.00115558828135433
         },
         {
          "X": 7.65,
          "Y": 0.001148322521221094
         },
         {
          "X": -4,
          "Y": 0.001145829626244171
         },
         {
          "X": -7.65,
          "Y": 0.001143908575293941
         },
         {
          "X": 2.6,
          "Y": 0.0011298137498438137
         },
         {
          "X": 3.75,
          "Y": 0.001115329907189588
         },
         {
          "X": -3.7,
          "Y": 0.001111870031642208
         },
         {
          "X": -2.75,
          "Y": 0.0011114969500083723
         },
         {
          "X": -2.85,
          "Y": 0.0011065694927238356
         },
         {
          "X": 2.8000000000000003,
          "Y": 0.0011032900240171724
         },
         {
          "X": 2.6500000000000004,
          "Y": 0.0011030872586871277
         },
         {
          "X": -3.8000000000000003,
          "Y": 0.0010976621869277696
         },
         {
          "X": 3.95,
          "Y": 0.0010959881012315787
         },
         {
          "X": -4.15,
          "Y": 0.001094436618040143
         },
         {
          "X": -7.75,
          "Y": 0.0010704018888508058
         },
         {
          "X": -2.9000000000000004,
          "Y": 0.0010691799663710374
         },
         {
          "X": -2.8000000000000003,
          "Y": 0.0010442350628804015
         },
         {
          "X": -3.75,
          "Y": 0.0010420469455353016
         },
         {
          "X": 3.0500000000000003,
          "Y": 0.0010402860965179291
         },
         {
          "X": -3.0500000000000003,
          "Y": 0.0010390268312592014
         },
         {
          "X": -3.9000000000000004,
          "Y": 0.0010367763441372177
         },
         {
          "X": -3.1500000000000004,
          "Y": 0.0010351771315134412
         },
         {
          "X": 3.7,
          "Y": 0.001032699692765442
         },
         {
          "X": 3.1500000000000004,
          "Y": 0.001029751690449922
         },
         {
          "X": -2.95,
          "Y": 0.0010148337176659468
         },
         {
          "X": 3.6500000000000004,
          "Y": 0.001011842301980495
         },
         {
          "X": 3.3000000000000003,
          "Y": 0.0010023301802920418
         },
         {
          "X": 2.85,
          "Y": 0.0009996681310796803
         },
         {
          "X": 2.9000000000000004,
          "Y": 0.0009968461549939437
         },
         {
          "X": 7.800000000000001,
          "Y": 0.0009941199586918639
         },
         {
          "X": 3.5500000000000003,
          "Y": 0.0009815947420868602
         },
         {
          "X": 3.6,
          "Y": 0.000977249932250645
         },
         {
          "X": 3.45,
          "Y": 0.0009734242478219564
         },
         {
          "X": -3.6500000000000004,
          "Y": 0.0009713491823137914
         },
         {
          "X": 3.2,
          "Y": 0.0009685244558903683
         },
         {
          "X": 3.1,
          "Y": 0.0009680796538082757
         },
         {
          "X": 3,
          "Y": 0.0009657632955498977
         },
         {
          "X": -3.5500000000000003,
          "Y": 0.0009654030898531153
         },
         {
          "X": 3.25,
          "Y": 0.0009647818909424315
         },
         {
          "X": -3.4000000000000004,
          "Y": 0.0009646516052661427
         },
         {
          "X": 3.5,
          "Y": 0.0009620687331647607
         },
         {
          "X": -3.3000000000000003,
          "Y": 0.000959078566722472
         },
         {
          "X": -3.45,
          "Y": 0.0009587036489601168
         },
         {
          "X": -3.25,
          "Y": 0.0009509040711891897
         },
         {
          "X": -3.1,
          "Y": 0.0009437818688547389
         },
         {
          "X": -3.6,
          "Y": 0.000939861467787483
         },
         {
          "X": 2.95,
          "Y": 0.0009312648313369886
         },
         {
          "X": -7.8500000000000005,
          "Y": 0.000930289523983678
         },
         {
          "X": -3.5,
          "Y": 0.000924581636769235
         },
         {
          "X": -3,
          "Y": 0.0009136320651588311
         },
         {
          "X": 3.4000000000000004,
          "Y": 0.0009104372033835463
         },
         {
          "X": -3.35,
          "Y": 0.0009071589491803573
         },
         {
          "X": -3.2,
          "Y": 0.0008926480563459913
         },
         {
          "X": 7.75,
          "Y": 0.0008837172611882302
         },
         {
          "X": 3.35,
          "Y": 0.0008745990903501993
         },
         {
          "X": -7.95,
          "Y": 0.0008702686750602245
         },
         {
          "X": 8,
          "Y": 0.00086989450692855
         },
         {
          "X": 7.95,
          "Y": 0.0008365942750955664
         },
         {
          "X": -7.9,
          "Y": 0.0008315302112110334
         },
         {
          "X": 7.8500000000000005,
          "Y": 0.0007890941618932801
         },
         {
          "X": -8,
          "Y": 0.0007650964727669715
         },
         {
          "X": 7.9,
          "Y": 0.0007247976897346851
         },
         {
          "X": -8.05,
          "Y": 0.0007133971579401013
         },
         {
          "X": -8.15,
          "Y": 0.0006786870754563264
         },
         {
          "X": -8.1,
          "Y": 0.0006557411744076994
         },
         {
          "X": 8.05,
          "Y": 0.0006352273993309097
         },
         {
          "X": 8.1,
          "Y": 0.0006302974679972895
         },
         {
          "X": 8.15,
          "Y": 0.0006070397618957766
         },
         {
          "X": -8.200000000000001,
          "Y": 0.0006069186729236049
         },
         {
          "X": -12.55,
          "Y": 0.0005811175963627296
         },
         {
          "X": -8.25,
          "Y": 0.000557126629124112
         },
         {
          "X": -11.75,
          "Y": 0.0005394058424941647
         },
         {
          "X": 8.35,
          "Y": 0.0005204715430010067
         },
         {
          "X": 12.25,
          "Y": 0.0005164320555990537
         },
         {
          "X": 12.05,
          "Y": 0.000516344261429101
         },
         {
          "X": 12.450000000000001,
          "Y": 0.000514816249815953
         },
         {
          "X": 8.3,
          "Y": 0.0004987369392302563
         },
         {
          "X": -8.450000000000001,
          "Y": 0.000494517802311834
         },
         {
          "X": -11.8,
          "Y": 0.0004941671612654612
         },
         {
          "X": -8.3,
          "Y": 0.0004790961347403563
         },
         {
          "X": 12.65,
          "Y": 0.0004710260732122442
         },
         {
          "X": -12.15,
          "Y": 0.0004681240801617123
         },
         {
          "X": -12.75,
          "Y": 0.0004680601735952481
         },
         {
          "X": -12.25,
          "Y": 0.00046702866638070184
         },
         {
          "X": 11.850000000000001,
          "Y": 0.00046336543410291776
         },
         {
          "X": -8.4,
          "Y": 0.00045713177156428967
         },
         {
          "X": -8.5,
          "Y": 0.00045593017039751674
         },
         {
          "X": -11.600000000000001,
          "Y": 0.0004520053877142917
         },
         {
          "X": 8.5,
          "Y": 0.0004505973320009222
         },
         {
          "X": 8.200000000000001,
          "Y": 0.00044757061502288147
         },
         {
          "X": 8.450000000000001,
          "Y": 0.00044715557980526025
         },
         {
          "X": 11.4,
          "Y": 0.00044453591315297795
         },
         {
          "X": -8.35,
          "Y": 0.0004421683507944416
         },
         {
          "X": -11.950000000000001,
          "Y": 0.0004417734096547884
         },
         {
          "X": -11.5,
          "Y": 0.00043940010980113574
         },
         {
          "X": 11.700000000000001,
          "Y": 0.00043254480848870116
         },
         {
          "X": 8.25,
          "Y": 0.000431412960205406
         },
         {
          "X": -11.850000000000001,
          "Y": 0.00043130530373278425
         },
         {
          "X": 8.6,
          "Y": 0.00043058182978997103
         },
         {
          "X": 12,
          "Y": 0.00042870648971692456
         },
         {
          "X": 12.4,
          "Y": 0.0004265858278865451
         },
         {
          "X": 11.9,
          "Y": 0.00042315993082144135
         },
         {
          "X": 8.55,
          "Y": 0.0004214419312279976
         },
         {
          "X": -12.350000000000001,
          "Y": 0.0004181801174123457
         },
         {
          "X": -8.55,
          "Y": 0.0004169800287828924
         },
         {
          "X": 12.5,
          "Y": 0.0004088987055389823
         },
         {
          "X": 12.600000000000001,
          "Y": 0.000408654491993555
         },
         {
          "X": -12.65,
          "Y": 0.0004086323859741432
         },
         {
          "X": 12.350000000000001,
          "Y": 0.0004020463265014011
         },
         {
          "X": 11.450000000000001,
          "Y": 0.0004011736834961657
         },
         {
          "X": 12.100000000000001,
          "Y": 0.0003911534588778437
         },
         {
          "X": 11.200000000000001,
          "Y": 0.0003891058639970084
         },
         {
          "X": -11.65,
          "Y": 0.00038515704949235657
         },
         {
          "X": 12.700000000000001,
          "Y": 0.0003829687757365764
         },
         {
          "X": -12,
          "Y": 0.00038227517672322325
         },
         {
          "X": -12.8,
          "Y": 0.00037948463102855957
         },
         {
          "X": 11.350000000000001,
          "Y": 0.0003783997499518017
         },
         {
          "X": 8.4,
          "Y": 0.0003778842418870441
         },
         {
          "X": -11.700000000000001,
          "Y": 0.0003715889501016742
         },
         {
          "X": 8.700000000000001,
          "Y": 0.00037155939565456807
         },
         {
          "X": -8.65,
          "Y": 0.0003671348386507908
         },
         {
          "X": -12.600000000000001,
          "Y": 0.00036613644141009595
         },
         {
          "X": -11.3,
          "Y": 0.00036500491761730624
         },
         {
          "X": -8.6,
          "Y": 0.00036451709764847396
         },
         {
          "X": 11.25,
          "Y": 0.0003644078792027059
         },
         {
          "X": -12.450000000000001,
          "Y": 0.0003627466958735679
         },
         {
          "X": 11.3,
          "Y": 0.00036143535583163126
         },
         {
          "X": 8.8,
          "Y": 0.0003612913559244008
         },
         {
          "X": -11.9,
          "Y": 0.00036040550531923736
         },
         {
          "X": -11.15,
          "Y": 0.00036027407003584366
         },
         {
          "X": -12.200000000000001,
          "Y": 0.00035992122888300405
         },
         {
          "X": -12.4,
          "Y": 0.00035981446704740045
         },
         {
          "X": 12.75,
          "Y": 0.00035826338202278943
         },
         {
          "X": -13,
          "Y": 0.00035691521244223315
         },
         {
          "X": 11.55,
          "Y": 0.00035577891262057726
         },
         {
          "X": -12.05,
          "Y": 0.00035448790776506354
         },
         {
          "X": -11,
          "Y": 0.0003488913778845201
         },
         {
          "X": 11.950000000000001,
          "Y": 0.0003456638469134837
         },
         {
          "X": 12.200000000000001,
          "Y": 0.0003454466297224192
         },
         {
          "X": -11.450000000000001,
          "Y": 0.0003352084038105186
         },
         {
          "X": -12.850000000000001,
          "Y": 0.0003331353956664647
         },
         {
          "X": 11.100000000000001,
          "Y": 0.00033289185543494194
         },
         {
          "X": -12.3,
          "Y": 0.00033108895878278076
         },
         {
          "X": -11.200000000000001,
          "Y": 0.0003304991750187654
         },
         {
          "X": 8.75,
          "Y": 0.0003288594092238655
         },
         {
          "X": -8.75,
          "Y": 0.0003285303533957428
         },
         {
          "X": -11.100000000000001,
          "Y": 0.0003248934202113951
         },
         {
          "X": 12.55,
          "Y": 0.0003230687494462221
         },
         {
          "X": 13.05,
          "Y": 0.000322292036109008
         },
         {
          "X": -12.700000000000001,
          "Y": 0.00032126676297925764
         },
         {
          "X": 11.75,
          "Y": 0.0003210952429057307
         },
         {
          "X": -11.25,
          "Y": 0.0003191513407721751
         },
         {
          "X": -10.9,
          "Y": 0.00031717181060391547
         },
         {
          "X": 11.8,
          "Y": 0.00031444782973973637
         },
         {
          "X": 12.3,
          "Y": 0.00031340525986512795
         },
         {
          "X": 12.8,
          "Y": 0.0003124855606770578
         },
         {
          "X": 13,
          "Y": 0.0003105727295382461
         },
         {
          "X": 11,
          "Y": 0.0003102273175239793
         },
         {
          "X": 8.65,
          "Y": 0.0003088812860515985
         },
         {
          "X": -8.9,
          "Y": 0.0003075660106201827
         },
         {
          "X": -13.200000000000001,
          "Y": 0.0003046056386027707
         },
         {
          "X": 10.75,
          "Y": 0.00029986473295597754
         },
         {
          "X": 11.600000000000001,
          "Y": 0.0002997993353957925
         },
         {
          "X": -11.4,
          "Y": 0.0002974948198654703
         },
         {
          "X": 11.65,
          "Y": 0.0002962130226522254
         },
         {
          "X": 10.850000000000001,
          "Y": 0.00029544305859223593
         },
         {
          "X": 9,
          "Y": 0.0002935224425286182
         },
         {
          "X": -8.8,
          "Y": 0.00029282178955846675
         },
         {
          "X": -13.05,
          "Y": 0.0002913802666254647
         },
         {
          "X": -12.100000000000001,
          "Y": 0.0002872794579384947
         },
         {
          "X": -10.65,
          "Y": 0.0002868885020805568
         },
         {
          "X": -11.350000000000001,
          "Y": 0.0002851022852715295
         },
         {
          "X": -8.950000000000001,
          "Y": 0.00028337239128742054
         },
         {
          "X": -9,
          "Y": 0.00027999996552356124
         },
         {
          "X": -8.85,
          "Y": 0.0002777090764394779
         },
         {
          "X": -11.05,
          "Y": 0.00027727123429538674
         },
         {
          "X": 11.5,
          "Y": 0.00027466508811062427
         },
         {
          "X": 11.15,
          "Y": 0.0002742002074119952
         },
         {
          "X": -10.950000000000001,
          "Y": 0.00027396185317087095
         },
         {
          "X": -9.1,
          "Y": 0.0002728694096511865
         },
         {
          "X": 13.25,
          "Y": 0.00027166899423498403
         },
         {
          "X": 8.85,
          "Y": 0.00027021652231416023
         },
         {
          "X": 10.5,
          "Y": 0.0002671576433978844
         },
         {
          "X": -8.700000000000001,
          "Y": 0.0002670842172501196
         },
         {
          "X": 10.65,
          "Y": 0.00026645975046176324
         },
         {
          "X": -9.05,
          "Y": 0.0002650884114725329
         },
         {
          "X": -13.350000000000001,
          "Y": 0.0002618115217438648
         },
         {
          "X": 11.05,
          "Y": 0.00025749146097980396
         },
         {
          "X": 9.3,
          "Y": 0.0002549038917555249
         },
         {
          "X": 12.850000000000001,
          "Y": 0.0002471545279294147
         },
         {
          "X": -9.200000000000001,
          "Y": 0.0002466414676626594
         },
         {
          "X": 13.3,
          "Y": 0.0002457828885623531
         },
         {
          "X": -10.4,
          "Y": 0.00024369898634759148
         },
         {
          "X": 12.9,
          "Y": 0.0002426792196359868
         },
         {
          "X": 10.950000000000001,
          "Y": 0.00024081680167250053
         },
         {
          "X": 9.55,
          "Y": 0.0002387813736330625
         },
         {
          "X": 10.600000000000001,
          "Y": 0.00023744999926218248
         },
         {
          "X": 13.350000000000001,
          "Y": 0.0002370460958623673
         },
         {
          "X": -12.5,
          "Y": 0.00023590649246634199
         },
         {
          "X": 10.9,
          "Y": 0.00023554103709620501
         },
         {
          "X": 9.05,
          "Y": 0.00023536390281252696
         },
         {
          "X": 10.8,
          "Y": 0.00023457996992266964
         },
         {
          "X": 10.3,
          "Y": 0.0002340185877554481
         },
         {
          "X": -10.850000000000001,
          "Y": 0.0002337540456878203
         },
         {
          "X": 10.200000000000001,
          "Y": 0.00023350467442209247
         },
         {
          "X": -9.3,
          "Y": 0.0002329344496811272
         },
         {
          "X": 8.9,
          "Y": 0.00023067551048706328
         },
         {
          "X": -10.8,
          "Y": 0.00022945738491345093
         },
         {
          "X": 8.950000000000001,
          "Y": 0.00022888780234245728
         },
         {
          "X": 9.1,
          "Y": 0.00022864906820529838
         },
         {
          "X": 13.200000000000001,
          "Y": 0.00022774695459893088
         },
         {
          "X": 10.55,
          "Y": 0.00022598896201628696
         },
         {
          "X": -9.35,
          "Y": 0.00022566855561970028
         },
         {
          "X": -11.55,
          "Y": 0.00022277785314030348
         },
         {
          "X": -9.15,
          "Y": 0.00022272270242974386
         },
         {
          "X": 9.700000000000001,
          "Y": 0.00022251055263528227
         },
         {
          "X": -10.5,
          "Y": 0.00022250083576537226
         },
         {
          "X": -9.5,
          "Y": 0.00022186450935098362
         },
         {
          "X": 10.350000000000001,
          "Y": 0.0002217581758658746
         },
         {
          "X": -13.15,
          "Y": 0.0002212995033945951
         },
         {
          "X": -13.3,
          "Y": 0.000219889773174841
         },
         {
          "X": -10.75,
          "Y": 0.0002185534404659884
         },
         {
          "X": 12.950000000000001,
          "Y": 0.00021845442703225472
         },
         {
          "X": 9.35,
          "Y": 0.00021311462687224664
         },
         {
          "X": -9.4,
          "Y": 0.00021310331323692354
         },
         {
          "X": -10.600000000000001,
          "Y": 0.0002107589337860724
         },
         {
          "X": 9.15,
          "Y": 0.00021059431569589758
         },
         {
          "X": 13.5,
          "Y": 0.0002104973590483287
         },
         {
          "X": 9.75,
          "Y": 0.00020778584662046237
         },
         {
          "X": -12.9,
          "Y": 0.00020556663061395734
         },
         {
          "X": 9.200000000000001,
          "Y": 0.00020524595499386166
         },
         {
          "X": 9.8,
          "Y": 0.0002051395274489746
         },
         {
          "X": -9.55,
          "Y": 0.00020505096476116725
         },
         {
          "X": 10.25,
          "Y": 0.00020482294280853102
         },
         {
          "X": 9.9,
          "Y": 0.00020434161951725377
         },
         {
          "X": 9.4,
          "Y": 0.00020409137121574114
         },
         {
          "X": 13.100000000000001,
          "Y": 0.00020300518376019694
         },
         {
          "X": -10.700000000000001,
          "Y": 0.00020242047654906435
         },
         {
          "X": -9.25,
          "Y": 0.00020220270163798815
         },
         {
          "X": -13.450000000000001,
          "Y": 0.00019730043411382293
         },
         {
          "X": 9.450000000000001,
          "Y": 0.00019558110015205878
         },
         {
          "X": 10.4,
          "Y": 0.0001936361628127649
         },
         {
          "X": -10.100000000000001,
          "Y": 0.0001929434177276912
         },
         {
          "X": -9.850000000000001,
          "Y": 0.00019252902964061734
         },
         {
          "X": -10.350000000000001,
          "Y": 0.00019149220593711
         },
         {
          "X": -13.4,
          "Y": 0.0001893363435393522
         },
         {
          "X": 9.25,
          "Y": 0.00018874678596705343
         },
         {
          "X": 10,
          "Y": 0.00018767274609934057
         },
         {
          "X": -10.200000000000001,
          "Y": 0.0001870716596394024
         },
         {
          "X": -10.55,
          "Y": 0.00018661678602317674
         },
         {
          "X": 10.05,
          "Y": 0.00018578604965206733
         },
         {
          "X": -10.15,
          "Y": 0.00018428416663339873
         },
         {
          "X": -10.3,
          "Y": 0.0001840256063494994
         },
         {
          "X": 9.950000000000001,
          "Y": 0.00018289282092013383
         },
         {
          "X": -9.8,
          "Y": 0.000182776128717865
         },
         {
          "X": -12.950000000000001,
          "Y": 0.00018157973905396694
         },
         {
          "X": -9.65,
          "Y": 0.00018136189480760806
         },
         {
          "X": -9.700000000000001,
          "Y": 0.00018052333191258529
         },
         {
          "X": -9.600000000000001,
          "Y": 0.00017977213693588795
         },
         {
          "X": 12.15,
          "Y": 0.00017919348906454195
         },
         {
          "X": -9.950000000000001,
          "Y": 0.00017777891340675246
         },
         {
          "X": -10.25,
          "Y": 0.00017769486788693387
         },
         {
          "X": 10.15,
          "Y": 0.000175449843018556
         },
         {
          "X": -9.75,
          "Y": 0.00017371569055293684
         },
         {
          "X": 9.5,
          "Y": 0.00017287552602009135
         },
         {
          "X": -13.100000000000001,
          "Y": 0.00017113190399350563
         },
         {
          "X": 10.700000000000001,
          "Y": 0.00017006172002705748
         },
         {
          "X": -9.450000000000001,
          "Y": 0.00016910154422213804
         },
         {
          "X": -13.600000000000001,
          "Y": 0.00016267861456022804
         },
         {
          "X": -9.9,
          "Y": 0.00016127841049479738
         },
         {
          "X": 9.600000000000001,
          "Y": 0.00016060373518668512
         },
         {
          "X": 9.65,
          "Y": 0.00015945673433230307
         },
         {
          "X": 10.100000000000001,
          "Y": 0.00015838721179555767
         },
         {
          "X": -10.05,
          "Y": 0.0001565077019075353
         },
         {
          "X": -13.65,
          "Y": 0.00015591293967000182
         },
         {
          "X": 10.450000000000001,
          "Y": 0.00015494641165157455
         },
         {
          "X": -13.5,
          "Y": 0.00014715309043967018
         },
         {
          "X": -10,
          "Y": 0.00014549130390331203
         },
         {
          "X": 13.15,
          "Y": 0.00014418083539753348
         },
         {
          "X": -10.450000000000001,
          "Y": 0.00014299112537681697
         },
         {
          "X": 9.850000000000001,
          "Y": 0.00014169444073801633
         },
         {
          "X": 13.450000000000001,
          "Y": 0.0001310178139599227
         },
         {
          "X": 13.600000000000001,
          "Y": 0.0001292535209609164
         },
         {
          "X": 13.9,
          "Y": 0.00012704077480587368
         },
         {
          "X": 13.4,
          "Y": 0.00012122508519619306
         },
         {
          "X": -13.9,
          "Y": 0.00011279895772417437
         },
         {
          "X": 13.65,
          "Y": 0.0001105083382538235
         },
         {
          "X": -13.25,
          "Y": 0.00010524967296806522
         },
         {
          "X": -13.55,
          "Y": 9.826893454221487e-05
         },
         {
          "X": 13.55,
          "Y": 9.446885813473253e-05
         },
         {
          "X": -13.8,
          "Y": 8.997204552700517e-05
         },
         {
          "X": 14,
          "Y": 8.885026611152992e-05
         },
         {
          "X": 13.8,
          "Y": 8.539841255343084e-05
         },
         {
          "X": -14,
          "Y": 8.389827370225012e-05
         },
         {
          "X": 13.75,
          "Y": 7.96536388448549e-05
         },
         {
          "X": -13.950000000000001,
          "Y": 7.780929766342063e-05
         },
         {
          "X": 14.05,
          "Y": 7.579631997439929e-05
         },
         {
          "X": -13.850000000000001,
          "Y": 7.537360361572838e-05
         },
         {
          "X": -13.700000000000001,
          "Y": 7.468374569068939e-05
         },
         {
          "X": 13.700000000000001,
          "Y": 7.146567574756153e-05
         },
         {
          "X": -13.75,
          "Y": 7.078824422398821e-05
         },
         {
          "X": 14.15,
          "Y": 6.959785752882333e-05
         },
         {
          "X": -14.200000000000001,
          "Y": 6.885043741338113e-05
         },
         {
          "X": -14.55,
          "Y": 6.522584775694654e-05
         },
         {
          "X": 14.200000000000001,
          "Y": 6.472257348219761e-05
         },
         {
          "X": 14.350000000000001,
          "Y": 5.6376730160688846e-05
         },
         {
          "X": 14.100000000000001,
          "Y": 5.600799308148502e-05
         },
         {
          "X": 14.4,
          "Y": 5.336660859969928e-05
         },
         {
          "X": -14.25,
          "Y": 5.094140280129582e-05
         },
         {
          "X": -14.4,
          "Y": 5.0098130866941585e-05
         },
         {
          "X": 14.450000000000001,
          "Y": 4.533782715841429e-05
         },
         {
          "X": -17.95,
          "Y": 4.302981875050889e-05
         },
         {
          "X": 18.75,
          "Y": 4.2880133335066135e-05
         },
         {
          "X": -14.450000000000001,
          "Y": 4.201526868975592e-05
         },
         {
          "X": 18.55,
          "Y": 4.149335607303068e-05
         },
         {
          "X": 13.850000000000001,
          "Y": 4.1316882707034645e-05
         },
         {
          "X": 19.3,
          "Y": 3.863300810125045e-05
         },
         {
          "X": 14.65,
          "Y": 3.785635274341623e-05
         },
         {
          "X": -14.9,
          "Y": 3.65730238679029e-05
         },
         {
          "X": 14.25,
          "Y": 3.463338690340985e-05
         },
         {
          "X": 18.1,
          "Y": 3.300337060521838e-05
         },
         {
          "X": 14.3,
          "Y": 3.260529588439266e-05
         },
         {
          "X": 14.5,
          "Y": 3.249846415666301e-05
         },
         {
          "X": -14.350000000000001,
          "Y": 3.2495517341366604e-05
         },
         {
          "X": -14.850000000000001,
          "Y": 2.9551481780895606e-05
         },
         {
          "X": -14.3,
          "Y": 2.7629830542171325e-05
         },
         {
          "X": 13.950000000000001,
          "Y": 2.7502881289956795e-05
         },
         {
          "X": 14.9,
          "Y": 2.7383997992746666e-05
         },
         {
          "X": -14.05,
          "Y": 2.658627843516021e-05
         },
         {
          "X": -14.600000000000001,
          "Y": 2.602406245103657e-05
         },
         {
          "X": -14.100000000000001,
          "Y": 2.5172935700114e-05
         },
         {
          "X": -14.65,
          "Y": 2.4794993505801272e-05
         },
         {
          "X": -15.15,
          "Y": 2.4187523968715876e-05
         },
         {
          "X": -14.15,
          "Y": 2.3999989388672978e-05
         },
         {
          "X": -14.950000000000001,
          "Y": 2.3315716240842023e-05
         },
         {
          "X": -15.3,
          "Y": 2.248306586273643e-05
         },
         {
          "X": 17.6,
          "Y": 2.242874829704588e-05
         },
         {
          "X": 16.650000000000002,
          "Y": 2.238219454237873e-05
         },
         {
          "X": -14.8,
          "Y": 2.1922618225555775e-05
         },
         {
          "X": -18.900000000000002,
          "Y": 2.1537124024803852e-05
         },
         {
          "X": 14.8,
          "Y": 2.1069553715681075e-05
         },
         {
          "X": 15.75,
          "Y": 2.0454584933068495e-05
         },
         {
          "X": 14.850000000000001,
          "Y": 2.0241643458928235e-05
         },
         {
          "X": -19.25,
          "Y": 2.0170333091685312e-05
         },
         {
          "X": -15.200000000000001,
          "Y": 2.0046244487170764e-05
         },
         {
          "X": -19.3,
          "Y": 1.9874497799920818e-05
         },
         {
          "X": 14.600000000000001,
          "Y": 1.985562067153957e-05
         },
         {
          "X": -18.45,
          "Y": 1.953291232762193e-05
         },
         {
          "X": 18.35,
          "Y": 1.9395508240577445e-05
         },
         {
          "X": -18.400000000000002,
          "Y": 1.9251181145886894e-05
         },
         {
          "X": -14.700000000000001,
          "Y": 1.900302083051221e-05
         },
         {
          "X": 15.350000000000001,
          "Y": 1.849532710901901e-05
         },
         {
          "X": -18.3,
          "Y": 1.842128933932807e-05
         },
         {
          "X": 19.400000000000002,
          "Y": 1.831139165850326e-05
         },
         {
          "X": -15.05,
          "Y": 1.8229212388992615e-05
         },
         {
          "X": -19.5,
          "Y": 1.7676139228962992e-05
         },
         {
          "X": 15.600000000000001,
          "Y": 1.7568103026464447e-05
         },
         {
          "X": 14.75,
          "Y": 1.7489102667777686e-05
         },
         {
          "X": 18.150000000000002,
          "Y": 1.7371929959809667e-05
         },
         {
          "X": -14.5,
          "Y": 1.7049108750994184e-05
         },
         {
          "X": 15.15,
          "Y": 1.6755792471907013e-05
         },
         {
          "X": 19.55,
          "Y": 1.661661525363999e-05
         },
         {
          "X": -17.35,
          "Y": 1.6460866465611555e-05
         },
         {
          "X": 16.150000000000002,
          "Y": 1.6155869859581365e-05
         },
         {
          "X": -18.1,
          "Y": 1.604737532167657e-05
         },
         {
          "X": 14.55,
          "Y": 1.5472969506171444e-05
         },
         {
          "X": -18,
          "Y": 1.5167669164584194e-05
         },
         {
          "X": 15.4,
          "Y": 1.5138624110231545e-05
         },
         {
          "X": 14.950000000000001,
          "Y": 1.5069005590226455e-05
         },
         {
          "X": -15,
          "Y": 1.5029300622395434e-05
         },
         {
          "X": -15.55,
          "Y": 1.4833526291316407e-05
         },
         {
          "X": 16.400000000000002,
          "Y": 1.4807907882806122e-05
         },
         {
          "X": -15.850000000000001,
          "Y": 1.468607967575606e-05
         },
         {
          "X": 15.8,
          "Y": 1.4678389639871362e-05
         },
         {
          "X": 15,
          "Y": 1.4638132969707942e-05
         },
         {
          "X": -16.400000000000002,
          "Y": 1.4534098398625321e-05
         },
         {
          "X": -19.8,
          "Y": 1.4323441647093684e-05
         },
         {
          "X": 19.75,
          "Y": 1.4214217714304494e-05
         },
         {
          "X": 15.05,
          "Y": 1.4161633267671856e-05
         },
         {
          "X": -15.100000000000001,
          "Y": 1.4122180245391825e-05
         },
         {
          "X": -19.85,
          "Y": 1.3628421116344365e-05
         },
         {
          "X": 14.700000000000001,
          "Y": 1.3580322184256896e-05
         },
         {
          "X": 16.6,
          "Y": 1.3050410087844518e-05
         },
         {
          "X": 15.200000000000001,
          "Y": 1.3008091686587138e-05
         },
         {
          "X": -16.2,
          "Y": 1.2910799772531945e-05
         },
         {
          "X": 16.1,
          "Y": 1.2722628824561904e-05
         },
         {
          "X": 17.75,
          "Y": 1.2562345697014342e-05
         },
         {
          "X": 16.05,
          "Y": 1.2496410572932593e-05
         },
         {
          "X": -17.75,
          "Y": 1.220341464728528e-05
         },
         {
          "X": -15.950000000000001,
          "Y": 1.1926684873957965e-05
         },
         {
          "X": -16.55,
          "Y": 1.1882738538327571e-05
         },
         {
          "X": 15.5,
          "Y": 1.1874322167571578e-05
         },
         {
          "X": -15.9,
          "Y": 1.1834825327064929e-05
         },
         {
          "X": 16.95,
          "Y": 1.175186477353643e-05
         },
         {
          "X": -15.700000000000001,
          "Y": 1.1665974541474894e-05
         },
         {
          "X": -20.05,
          "Y": 1.1658556132163605e-05
         },
         {
          "X": -16.45,
          "Y": 1.1169880020275727e-05
         },
         {
          "X": -17.650000000000002,
          "Y": 1.1085615803112182e-05
         },
         {
          "X": 20.8,
          "Y": 1.072557673413263e-05
         },
         {
          "X": -16.900000000000002,
          "Y": 1.0700599529619847e-05
         },
         {
          "X": 17.55,
          "Y": 1.064455109195531e-05
         },
         {
          "X": -16.35,
          "Y": 1.0519040439018562e-05
         },
         {
          "X": -17.55,
          "Y": 1.0228409805627493e-05
         },
         {
          "X": 16.2,
          "Y": 9.985538854695473e-06
         },
         {
          "X": 15.25,
          "Y": 9.5906434294194e-06
         },
         {
          "X": 15.3,
          "Y": 9.38565198218654e-06
         },
         {
          "X": 17.400000000000002,
          "Y": 9.248542323420359e-06
         },
         {
          "X": -16.05,
          "Y": 9.196185248892098e-06
         },
         {
          "X": 16,
          "Y": 9.18103974292166e-06
         },
         {
          "X": -14.75,
          "Y": 9.03651503367805e-06
         },
         {
          "X": -15.600000000000001,
          "Y": 8.816363382740265e-06
         },
         {
          "X": -15.65,
          "Y": 8.775579809148764e-06
         },
         {
          "X": -15.75,
          "Y": 8.746439937982798e-06
         },
         {
          "X": 17.3,
          "Y": 8.284610112874919e-06
         },
         {
          "X": -16.6,
          "Y": 8.230781157674745e-06
         },
         {
          "X": -16.5,
          "Y": 7.722291147629155e-06
         },
         {
          "X": -17.25,
          "Y": 7.486740931917433e-06
         },
         {
          "X": 16.35,
          "Y": 7.178582751562742e-06
         },
         {
          "X": -17.2,
          "Y": 7.068149582292189e-06
         },
         {
          "X": 16.3,
          "Y": 7.057911669872734e-06
         },
         {
          "X": 15.100000000000001,
          "Y": 6.8201087593750554e-06
         },
         {
          "X": 16.25,
          "Y": 6.797266767420973e-06
         },
         {
          "X": -17.150000000000002,
          "Y": 6.7937883155721785e-06
         },
         {
          "X": 17.1,
          "Y": 6.687875633530139e-06
         },
         {
          "X": -16.150000000000002,
          "Y": 6.363544893066537e-06
         },
         {
          "X": -15.350000000000001,
          "Y": 6.303086147173929e-06
         },
         {
          "X": -16.1,
          "Y": 6.210056293032338e-06
         },
         {
          "X": -15.450000000000001,
          "Y": 6.071439124297644e-06
         },
         {
          "X": -16,
          "Y": 6.060719800927763e-06
         },
         {
          "X": -17.05,
          "Y": 6.021384112258334e-06
         },
         {
          "X": 15.450000000000001,
          "Y": 6.004813849427483e-06
         },
         {
          "X": 15.9,
          "Y": 5.975765249565394e-06
         },
         {
          "X": 15.55,
          "Y": 5.891717294868583e-06
         },
         {
          "X": -17,
          "Y": 5.837318496444325e-06
         },
         {
          "X": -23.25,
          "Y": 5.786360905793863e-06
         },
         {
          "X": 16.85,
          "Y": 5.448712425313234e-06
         },
         {
          "X": -16.85,
          "Y": 5.161832280158808e-06
         },
         {
          "X": 16.8,
          "Y": 5.111189439876263e-06
         },
         {
          "X": -16.8,
          "Y": 4.917666132285823e-06
         },
         {
          "X": 16.75,
          "Y": 4.808990223320815e-06
         },
         {
          "X": 16.7,
          "Y": 4.739096058308754e-06
         },
         {
          "X": -16.75,
          "Y": 4.72538050377301e-06
         },
         {
          "X": -16.650000000000002,
          "Y": 4.252612077616747e-06
         },
         {
          "X": 16.55,
          "Y": 4.203449938742288e-06
         },
         {
          "X": 21.150000000000002,
          "Y": 4.053413601238395e-06
         },
         {
          "X": 16.5,
          "Y": 3.930151546700802e-06
         },
         {
          "X": -16.3,
          "Y": 3.4435483574385578e-06
         },
         {
          "X": -21.5,
          "Y": 3.3591652033957266e-06
         },
         {
          "X": -16.25,
          "Y": 3.350763301071619e-06
         },
         {
          "X": -15.4,
          "Y": 3.0698399797590814e-06
         },
         {
          "X": 15.950000000000001,
          "Y": 3.013036184139968e-06
         },
         {
          "X": -15.5,
          "Y": 2.995108032719457e-06
         },
         {
          "X": 15.850000000000001,
          "Y": 2.9545995801674946e-06
         },
         {
          "X": 15.65,
          "Y": 2.9201361262033296e-06
         },
         {
          "X": 22,
          "Y": 2.919367434990155e-06
         },
         {
          "X": -15.8,
          "Y": 2.917952522521205e-06
         },
         {
          "X": 15.700000000000001,
          "Y": 2.9152653072564353e-06
         }
        ]
       },
       "encoding": {
        "x": {
         "field": "X",
         "type": "quantitative"
        },
        "y": {
         "field": "Y",
         "type": "quantitative"
        }
       },
       "height": 200,
       "mark": "bar",
       "width": 200
      },
      "image/png": "[encoded data removed]"
     },
     "metadata": {},
     "output_type": "display_data"
    }
   ],
   "source": [
    "model5 :: MonadInfer m => m Double\n",
    "model5 = do\n",
    "    x <- normal 0 5\n",
    "    (factor . Exp) (cos x)\n",
    "    return x\n",
    "\n",
    "sampleIO $ \n",
    "    plotVega . fmap (second (ln . exp)) . toEmpiricalWeighted . toBinsWeighted 0.05 \n",
    "    <$> replicateM 100000 (runWeighted model5)"
   ]
  },
  {
   "cell_type": "code",
   "execution_count": 27,
   "metadata": {},
   "outputs": [],
   "source": []
  },
  {
   "cell_type": "code",
   "execution_count": null,
   "metadata": {},
   "outputs": [],
   "source": []
  }
 ],
 "metadata": {
  "kernelspec": {
   "display_name": "Haskell - nixpkgs",
   "language": "haskell",
   "name": "ihaskell_nixpkgs"
  },
  "language_info": {
   "codemirror_mode": "ihaskell",
   "file_extension": ".hs",
   "mimetype": "text/x-haskell",
   "name": "haskell",
   "pygments_lexer": "Haskell",
   "version": "9.0.2"
  }
 },
 "nbformat": 4,
 "nbformat_minor": 4
}
