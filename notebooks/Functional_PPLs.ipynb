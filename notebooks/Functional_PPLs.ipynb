{
 "cells": [
  {
   "cell_type": "markdown",
   "id": "650023e5-a271-48f9-a493-552fb1ed6951",
   "metadata": {
    "tags": []
   },
   "source": [
    "# Probabilistic programming + functional programming\n",
    "\n"
   ]
  },
  {
   "cell_type": "markdown",
   "id": "19c77d21-e83e-414a-964e-23e411b5bfea",
   "metadata": {
    "tags": []
   },
   "source": [
    "## (Lazy, strongly-typed) Functional programming\n",
    "\n",
    "- purity: all functions are mathematical functions (no hidden side effects, no global state)\n",
    "- static types: reason about the behavior of your program by looking at its type\n",
    "- lazy evaluation\n",
    "- compositionality: meaning of whole program should be a function of the meaning of the parts"
   ]
  },
  {
   "cell_type": "code",
   "execution_count": 29,
   "id": "208ae51c-fecf-4eb9-b482-c07cc976bc4c",
   "metadata": {},
   "outputs": [
    {
     "data": {
      "text/html": [
       "<style>/* Styles used for the Hoogle display in the pager */\n",
       ".hoogle-doc {\n",
       "display: block;\n",
       "padding-bottom: 1.3em;\n",
       "padding-left: 0.4em;\n",
       "}\n",
       ".hoogle-code {\n",
       "display: block;\n",
       "font-family: monospace;\n",
       "white-space: pre;\n",
       "}\n",
       ".hoogle-text {\n",
       "display: block;\n",
       "}\n",
       ".hoogle-name {\n",
       "color: green;\n",
       "font-weight: bold;\n",
       "}\n",
       ".hoogle-head {\n",
       "font-weight: bold;\n",
       "}\n",
       ".hoogle-sub {\n",
       "display: block;\n",
       "margin-left: 0.4em;\n",
       "}\n",
       ".hoogle-package {\n",
       "font-weight: bold;\n",
       "font-style: italic;\n",
       "}\n",
       ".hoogle-module {\n",
       "font-weight: bold;\n",
       "}\n",
       ".hoogle-class {\n",
       "font-weight: bold;\n",
       "}\n",
       ".get-type {\n",
       "color: green;\n",
       "font-weight: bold;\n",
       "font-family: monospace;\n",
       "display: block;\n",
       "white-space: pre-wrap;\n",
       "}\n",
       ".show-type {\n",
       "color: green;\n",
       "font-weight: bold;\n",
       "font-family: monospace;\n",
       "margin-left: 1em;\n",
       "}\n",
       ".mono {\n",
       "font-family: monospace;\n",
       "display: block;\n",
       "}\n",
       ".err-msg {\n",
       "color: red;\n",
       "font-style: italic;\n",
       "font-family: monospace;\n",
       "white-space: pre;\n",
       "display: block;\n",
       "}\n",
       "#unshowable {\n",
       "color: red;\n",
       "font-weight: bold;\n",
       "}\n",
       ".err-msg.in.collapse {\n",
       "padding-top: 0.7em;\n",
       "}\n",
       ".highlight-code {\n",
       "white-space: pre;\n",
       "font-family: monospace;\n",
       "}\n",
       ".suggestion-warning { \n",
       "font-weight: bold;\n",
       "color: rgb(200, 130, 0);\n",
       "}\n",
       ".suggestion-error { \n",
       "font-weight: bold;\n",
       "color: red;\n",
       "}\n",
       ".suggestion-name {\n",
       "font-weight: bold;\n",
       "}\n",
       "</style><span class='get-type'>f :: Bool -> (Bool, Bool)</span>"
      ],
      "text/plain": [
       "f :: Bool -> (Bool, Bool)"
      ]
     },
     "metadata": {},
     "output_type": "display_data"
    }
   ],
   "source": [
    "f x = (x, not x)\n",
    ":t f"
   ]
  },
  {
   "cell_type": "code",
   "execution_count": 40,
   "id": "ea93bbfb-711e-41c4-84a2-e2a87946dcdf",
   "metadata": {},
   "outputs": [
    {
     "data": {
      "text/plain": [
       "[1,2,3,4,5,6,7,8,9,10]"
      ]
     },
     "metadata": {},
     "output_type": "display_data"
    }
   ],
   "source": [
    "h :: [Int]\n",
    "h = 1 : map (+1) h\n",
    "\n",
    "\n",
    "take 10 h "
   ]
  },
  {
   "cell_type": "code",
   "execution_count": 44,
   "id": "2ee6ae5e-c8b4-4e3e-8d91-05b0ce0b3d56",
   "metadata": {},
   "outputs": [
    {
     "data": {
      "text/html": [
       "<style>/* Styles used for the Hoogle display in the pager */\n",
       ".hoogle-doc {\n",
       "display: block;\n",
       "padding-bottom: 1.3em;\n",
       "padding-left: 0.4em;\n",
       "}\n",
       ".hoogle-code {\n",
       "display: block;\n",
       "font-family: monospace;\n",
       "white-space: pre;\n",
       "}\n",
       ".hoogle-text {\n",
       "display: block;\n",
       "}\n",
       ".hoogle-name {\n",
       "color: green;\n",
       "font-weight: bold;\n",
       "}\n",
       ".hoogle-head {\n",
       "font-weight: bold;\n",
       "}\n",
       ".hoogle-sub {\n",
       "display: block;\n",
       "margin-left: 0.4em;\n",
       "}\n",
       ".hoogle-package {\n",
       "font-weight: bold;\n",
       "font-style: italic;\n",
       "}\n",
       ".hoogle-module {\n",
       "font-weight: bold;\n",
       "}\n",
       ".hoogle-class {\n",
       "font-weight: bold;\n",
       "}\n",
       ".get-type {\n",
       "color: green;\n",
       "font-weight: bold;\n",
       "font-family: monospace;\n",
       "display: block;\n",
       "white-space: pre-wrap;\n",
       "}\n",
       ".show-type {\n",
       "color: green;\n",
       "font-weight: bold;\n",
       "font-family: monospace;\n",
       "margin-left: 1em;\n",
       "}\n",
       ".mono {\n",
       "font-family: monospace;\n",
       "display: block;\n",
       "}\n",
       ".err-msg {\n",
       "color: red;\n",
       "font-style: italic;\n",
       "font-family: monospace;\n",
       "white-space: pre;\n",
       "display: block;\n",
       "}\n",
       "#unshowable {\n",
       "color: red;\n",
       "font-weight: bold;\n",
       "}\n",
       ".err-msg.in.collapse {\n",
       "padding-top: 0.7em;\n",
       "}\n",
       ".highlight-code {\n",
       "white-space: pre;\n",
       "font-family: monospace;\n",
       "}\n",
       ".suggestion-warning { \n",
       "font-weight: bold;\n",
       "color: rgb(200, 130, 0);\n",
       "}\n",
       ".suggestion-error { \n",
       "font-weight: bold;\n",
       "color: red;\n",
       "}\n",
       ".suggestion-name {\n",
       "font-weight: bold;\n",
       "}\n",
       "</style><div class=\"suggestion-name\" style=\"clear:both;\">Use even</div><div class=\"suggestion-row\" style=\"float: left;\"><div class=\"suggestion-warning\">Found:</div><div class=\"highlight-code\" id=\"haskell\">x `mod` 2 == 0</div></div><div class=\"suggestion-row\" style=\"float: left;\"><div class=\"suggestion-warning\">Why Not:</div><div class=\"highlight-code\" id=\"haskell\">even x</div></div><div class=\"suggestion-name\" style=\"clear:both;\">Use sum</div><div class=\"suggestion-row\" style=\"float: left;\"><div class=\"suggestion-warning\">Found:</div><div class=\"highlight-code\" id=\"haskell\">foldr1 (+)</div></div><div class=\"suggestion-row\" style=\"float: left;\"><div class=\"suggestion-warning\">Why Not:</div><div class=\"highlight-code\" id=\"haskell\">sum</div></div>"
      ],
      "text/plain": [
       "Line 1: Use even\n",
       "Found:\n",
       "x `mod` 2 == 0\n",
       "Why not:\n",
       "even xLine 2: Use sum\n",
       "Found:\n",
       "foldr1 (+)\n",
       "Why not:\n",
       "sum"
      ]
     },
     "metadata": {},
     "output_type": "display_data"
    },
    {
     "data": {
      "text/plain": [
       "110"
      ]
     },
     "metadata": {},
     "output_type": "display_data"
    }
   ],
   "source": [
    "isEven x = x `mod` 2 == 0\n",
    "evens = foldr1 (+) . take 10 . filter isEven\n",
    "\n",
    "evens h"
   ]
  },
  {
   "cell_type": "markdown",
   "id": "5736f780-c0f3-4ef3-8fc8-c6d46c0a3209",
   "metadata": {
    "tags": []
   },
   "source": [
    "## (Universal) probabilistic programming\n",
    "\n",
    "- express probability distributions as programs\n",
    "- separate model and inference\n",
    "- programmable inference"
   ]
  },
  {
   "cell_type": "code",
   "execution_count": 79,
   "id": "014c3376-2327-4ebc-960e-bf65f911c7d6",
   "metadata": {},
   "outputs": [],
   "source": [
    ":e ImportQualifiedPost\n",
    ":e FlexibleContexts\n",
    ":e BlockArguments\n",
    ":e TupleSections\n",
    ":e FlexibleContexts\n",
    ":e OverloadedStrings\n",
    ":e LambdaCase\n",
    ":e RankNTypes\n",
    "\n",
    "import Control.Arrow (first)\n",
    "import Data.Text (pack)\n",
    "import Control.Monad\n",
    "import Numeric.Log\n",
    "\n",
    "import Control.Monad.Bayes.Class\n",
    "import Control.Monad.Bayes.Enumerator hiding (expectation)\n",
    "import Control.Monad.Bayes.Weighted\n",
    "import Control.Monad.Bayes.Sampler\n",
    "import Control.Monad.Bayes.Integrator\n",
    "import Control.Monad.Bayes.Population\n",
    "import Control.Monad.Bayes.Free\n",
    "\n",
    ":l Plotting.hs\n",
    "\n",
    "type Distribution a = forall m . MonadSample m => m a\n",
    "type Measure a = forall m . MonadInfer m => m a\n",
    "type Real = Double\n"
   ]
  },
  {
   "cell_type": "code",
   "execution_count": 80,
   "id": "10a95ab4-519b-4dec-b2e4-c9e883fe1598",
   "metadata": {},
   "outputs": [],
   "source": [
    "model :: Distribution Real\n",
    "model = do\n",
    "    p <- bernoulli 0.2\n",
    "    if p then normal 10 1 else normal (-5) 5"
   ]
  },
  {
   "cell_type": "code",
   "execution_count": 81,
   "id": "7f053d9b-2a8d-4c10-9ec2-8250ba59c4e2",
   "metadata": {},
   "outputs": [
    {
     "data": {
      "text/plain": [
       "-2.3914293282720003"
      ]
     },
     "metadata": {},
     "output_type": "display_data"
    }
   ],
   "source": [
    "sampleIO model"
   ]
  },
  {
   "cell_type": "code",
   "execution_count": 82,
   "id": "9ad97d59-71a9-40e6-9140-3db494d6b851",
   "metadata": {},
   "outputs": [
    {
     "data": {
      "text/plain": [
       "[(-5.452236394211036,9.999999999999998e-2),(5.749620788842835,9.999999999999998e-2),(9.357234852458888,9.999999999999998e-2),(10.576010685994802,9.999999999999998e-2),(-11.525076539340796,9.999999999999998e-2),(-3.1167600740052164,9.999999999999998e-2),(-8.08596785016415,9.999999999999998e-2),(-17.711913353739494,9.999999999999998e-2),(-8.173138078929128,9.999999999999998e-2),(-9.029672984132167,9.999999999999998e-2)]"
      ]
     },
     "metadata": {},
     "output_type": "display_data"
    }
   ],
   "source": [
    "sampleIO $ runPopulation (spawn 10 >> model)"
   ]
  },
  {
   "cell_type": "code",
   "execution_count": 83,
   "id": "eb8623cf-e564-4135-94be-89fe948a3294",
   "metadata": {},
   "outputs": [
    {
     "data": {
      "text/plain": [
       "(9.158378766427086,[0.1,0.2])"
      ]
     },
     "metadata": {},
     "output_type": "display_data"
    }
   ],
   "source": [
    "sampleIO $ runWith [0.1, 0.2] model"
   ]
  },
  {
   "cell_type": "code",
   "execution_count": 84,
   "id": "5a317c45-3f98-4022-a267-2b2d7bff53ae",
   "metadata": {},
   "outputs": [
    {
     "data": {
      "text/plain": [
       "-1.999999999999914"
      ]
     },
     "metadata": {},
     "output_type": "display_data"
    }
   ],
   "source": [
    "expectation model"
   ]
  },
  {
   "cell_type": "code",
   "execution_count": 85,
   "id": "0e9b8be9-4f2f-4f3a-92c3-0fe725f9283f",
   "metadata": {},
   "outputs": [
    {
     "data": {
      "application/vnd.vegalite.v4+json": {
       "$schema": "https://vega.github.io/schema/vega-lite/v4.json",
       "data": {
        "values": [
         {
          "X": -24.8,
          "Y": 5.3095963671804324e-06
         },
         {
          "X": -24.6,
          "Y": 6.165627647681546e-06
         },
         {
          "X": -24.400000000000002,
          "Y": 7.142426872944732e-06
         },
         {
          "X": -24.200000000000003,
          "Y": 8.254377982243924e-06
         },
         {
          "X": -24,
          "Y": 9.517217568292708e-06
         },
         {
          "X": -23.8,
          "Y": 1.0948119678973923e-05
         },
         {
          "X": -23.6,
          "Y": 1.951916511397483e-05
         },
         {
          "X": -23.400000000000002,
          "Y": 1.53873326738432e-05
         },
         {
          "X": -23.200000000000003,
          "Y": 1.756447251953682e-05
         },
         {
          "X": -23,
          "Y": 2.0007057866674773e-05
         },
         {
          "X": -22.8,
          "Y": 2.2741709649609795e-05
         },
         {
          "X": -22.6,
          "Y": 2.5797043317974205e-05
         },
         {
          "X": -22.400000000000002,
          "Y": 2.920375038464111e-05
         },
         {
          "X": -22.200000000000003,
          "Y": 5.1043211362140733e-05
         },
         {
          "X": -22,
          "Y": 3.947883961364423e-05
         },
         {
          "X": -21.8,
          "Y": 4.438883568868708e-05
         },
         {
          "X": -21.6,
          "Y": 4.981604384789415e-05
         },
         {
          "X": -21.400000000000002,
          "Y": 5.5803886480783915e-05
         },
         {
          "X": -21.200000000000003,
          "Y": 9.627310649706154e-05
         },
         {
          "X": -21,
          "Y": 7.353406698112101e-05
         },
         {
          "X": -20.8,
          "Y": 8.186283113755633e-05
         },
         {
          "X": -20.6,
          "Y": 9.097940195119327e-05
         },
         {
          "X": -20.400000000000002,
          "Y": 0.00015542877950402179
         },
         {
          "X": -20.200000000000003,
          "Y": 0.0001176030725961721
         },
         {
          "X": -20,
          "Y": 0.00012994936307383746
         },
         {
          "X": -19.8,
          "Y": 0.00022043035575747914
         },
         {
          "X": -19.6,
          "Y": 0.0001656444511166623
         },
         {
          "X": -19.400000000000002,
          "Y": 0.00018204250426452149
         },
         {
          "X": -19.200000000000003,
          "Y": 0.00030672846672537724
         },
         {
          "X": -19,
          "Y": 0.00022900418687446427
         },
         {
          "X": -18.8,
          "Y": 0.00025038660506084855
         },
         {
          "X": -18.6,
          "Y": 0.0004192169646104488
         },
         {
          "X": -18.400000000000002,
          "Y": 0.00031107530922898813
         },
         {
          "X": -18.2,
          "Y": 0.0005185837672412176
         },
         {
          "X": -18,
          "Y": 0.0003832048398221772
         },
         {
          "X": -17.8,
          "Y": 0.00041558110144749964
         },
         {
          "X": -17.6,
          "Y": 0.0006888181760479613
         },
         {
          "X": -17.400000000000002,
          "Y": 0.0005061612922303652
         },
         {
          "X": -17.2,
          "Y": 0.000835656696506249
         },
         {
          "X": -17,
          "Y": 0.0006117199264780828
         },
         {
          "X": -16.8,
          "Y": 0.001006103121920774
         },
         {
          "X": -16.6,
          "Y": 0.0007337779924051356
         },
         {
          "X": -16.400000000000002,
          "Y": 0.0012024350560064876
         },
         {
          "X": -16.2,
          "Y": 0.0008738440118643176
         },
         {
          "X": -16,
          "Y": 0.0014268870141138828
         },
         {
          "X": -15.8,
          "Y": 0.0010333804232739619
         },
         {
          "X": -15.600000000000001,
          "Y": 0.0016815964699223697
         },
         {
          "X": -15.4,
          "Y": 0.0012137652729090045
         },
         {
          "X": -15.200000000000001,
          "Y": 0.0019685429326754145
         },
         {
          "X": -15,
          "Y": 0.0014162493419906026
         },
         {
          "X": -14.8,
          "Y": 0.0022894803727306276
         },
         {
          "X": -14.600000000000001,
          "Y": 0.0016419090158662855
         },
         {
          "X": -14.4,
          "Y": 0.002645863614316109
         },
         {
          "X": -14.200000000000001,
          "Y": 0.0018915954247418377
         },
         {
          "X": -14,
          "Y": 0.0030387696830687394
         },
         {
          "X": -13.8,
          "Y": 0.003292322586302597
         },
         {
          "X": -13.600000000000001,
          "Y": 0.002342373597746243
         },
         {
          "X": -13.4,
          "Y": 0.00374472560044742
         },
         {
          "X": -13.200000000000001,
          "Y": 0.0026563505776088787
         },
         {
          "X": -13,
          "Y": 0.004234089126490092
         },
         {
          "X": -12.8,
          "Y": 0.004545075472352339
         },
         {
          "X": -12.600000000000001,
          "Y": 0.003209076685363121
         },
         {
          "X": -12.4,
          "Y": 0.0050912499414268765
         },
         {
          "X": -12.200000000000001,
          "Y": 0.0035843756991705495
         },
         {
          "X": -12,
          "Y": 0.005670273981989368
         },
         {
          "X": -11.8,
          "Y": 0.006032222334389711
         },
         {
          "X": -11.600000000000001,
          "Y": 0.004227504911733166
         },
         {
          "X": -11.4,
          "Y": 0.006657082448059182
         },
         {
          "X": -11.200000000000001,
          "Y": 0.004652199290268652
         },
         {
          "X": -11,
          "Y": 0.007304984998232411
         },
         {
          "X": -10.8,
          "Y": 0.007702575045606567
         },
         {
          "X": -10.600000000000001,
          "Y": 0.005358481300238634
         },
         {
          "X": -10.4,
          "Y": 0.008375725553296841
         },
         {
          "X": -10.200000000000001,
          "Y": 0.005810273443431885
         },
         {
          "X": -10,
          "Y": 0.009056025256592605
         },
         {
          "X": -9.8,
          "Y": 0.009464504364960952
         },
         {
          "X": -9.600000000000001,
          "Y": 0.0065357322362273405
         },
         {
          "X": -9.4,
          "Y": 0.010140142190877145
         },
         {
          "X": -9.200000000000001,
          "Y": 0.006982288056300124
         },
         {
          "X": -9,
          "Y": 0.010801803976785741
         },
         {
          "X": -8.8,
          "Y": 0.011188334576243604
         },
         {
          "X": -8.6,
          "Y": 0.007668627394691908
         },
         {
          "X": -8.4,
          "Y": 0.011808672869082982
         },
         {
          "X": -8.200000000000001,
          "Y": 0.008070364799286928
         },
         {
          "X": -8,
          "Y": 0.012391059176428562
         },
         {
          "X": -7.800000000000001,
          "Y": 0.012718425893634153
         },
         {
          "X": -7.6000000000000005,
          "Y": 0.008651553198501605
         },
         {
          "X": -7.4,
          "Y": 0.013221056792861181
         },
         {
          "X": -7.2,
          "Y": 0.008967019281621344
         },
         {
          "X": -7,
          "Y": 0.013662649695284454
         },
         {
          "X": -6.800000000000001,
          "Y": 0.013895057367178457
         },
         {
          "X": -6.6000000000000005,
          "Y": 0.009379571751890135
         },
         {
          "X": -6.4,
          "Y": 0.014223355365981644
         },
         {
          "X": -6.2,
          "Y": 0.009572616707840676
         },
         {
          "X": -6,
          "Y": 0.014472770164764372
         },
         {
          "X": -5.800000000000001,
          "Y": 0.014582570750033136
         },
         {
          "X": -5.6000000000000005,
          "Y": 0.009767512178953679
         },
         {
          "X": -5.4,
          "Y": 0.014696779267426735
         },
         {
          "X": -5.2,
          "Y": 0.009814530455681262
         },
         {
          "X": -5,
          "Y": 0.014723268976915527
         },
         {
          "X": -4.800000000000001,
          "Y": 0.014696779267426735
         },
         {
          "X": -4.6000000000000005,
          "Y": 0.009767512178953679
         },
         {
          "X": -4.4,
          "Y": 0.014582570750033136
         },
         {
          "X": -4.2,
          "Y": 0.014472770164764372
         },
         {
          "X": -4,
          "Y": 0.009572616707840676
         },
         {
          "X": -3.8000000000000003,
          "Y": 0.014223355365981644
         },
         {
          "X": -3.6,
          "Y": 0.009379571751890135
         },
         {
          "X": -3.4000000000000004,
          "Y": 0.013895057367178457
         },
         {
          "X": -3.2,
          "Y": 0.013662649695284454
         },
         {
          "X": -3,
          "Y": 0.008967019281621344
         },
         {
          "X": -2.8000000000000003,
          "Y": 0.013221056792861181
         },
         {
          "X": -2.6,
          "Y": 0.008651553198501605
         },
         {
          "X": -2.4000000000000004,
          "Y": 0.012718425893634153
         },
         {
          "X": -2.2,
          "Y": 0.012391059176428562
         },
         {
          "X": -2,
          "Y": 0.008070364799286928
         },
         {
          "X": -1.8,
          "Y": 0.011808672869082982
         },
         {
          "X": -1.6,
          "Y": 0.007668627394691908
         },
         {
          "X": -1.4000000000000001,
          "Y": 0.011188334576243604
         },
         {
          "X": -1.2000000000000002,
          "Y": 0.010801803976785741
         },
         {
          "X": -1,
          "Y": 0.006982288056300124
         },
         {
          "X": -0.8,
          "Y": 0.010140142190877145
         },
         {
          "X": -0.6000000000000001,
          "Y": 0.0065357322362273405
         },
         {
          "X": -0.4,
          "Y": 0.009464504364960952
         },
         {
          "X": -0.2,
          "Y": 0.009056025256592605
         },
         {
          "X": 0,
          "Y": 0.005810273443431885
         },
         {
          "X": 0.2,
          "Y": 0.008375725553296841
         },
         {
          "X": 0.4,
          "Y": 0.005358481300238634
         },
         {
          "X": 0.6000000000000001,
          "Y": 0.007702575045606567
         },
         {
          "X": 0.8,
          "Y": 0.007304984998232411
         },
         {
          "X": 1,
          "Y": 0.004652199290268652
         },
         {
          "X": 1.2000000000000002,
          "Y": 0.006657082448059182
         },
         {
          "X": 1.4000000000000001,
          "Y": 0.004227504911733166
         },
         {
          "X": 1.6,
          "Y": 0.006032222334389711
         },
         {
          "X": 1.8,
          "Y": 0.005670273981989368
         },
         {
          "X": 2,
          "Y": 0.0035843756991705495
         },
         {
          "X": 2.2,
          "Y": 0.0050912499414268765
         },
         {
          "X": 2.4000000000000004,
          "Y": 0.0032090766853715828
         },
         {
          "X": 2.6,
          "Y": 0.004545075472404506
         },
         {
          "X": 2.8000000000000003,
          "Y": 0.004234089126669467
         },
         {
          "X": 3,
          "Y": 0.002656350578426903
         },
         {
          "X": 3.2,
          "Y": 0.0037447256036590893
         },
         {
          "X": 3.4000000000000004,
          "Y": 0.0023423736094486908
         },
         {
          "X": 3.6,
          "Y": 0.0032923226260335938
         },
         {
          "X": 3.8000000000000003,
          "Y": 0.0030387698092297524
         },
         {
          "X": 4,
          "Y": 0.0018915958944567674
         },
         {
          "X": 4.2,
          "Y": 0.0026458651255221624
         },
         {
          "X": 4.4,
          "Y": 0.0016419135353878634
         },
         {
          "X": 4.6000000000000005,
          "Y": 0.0022894929933032497
         },
         {
          "X": 4.800000000000001,
          "Y": 0.0014162890889872167
         },
         {
          "X": 5,
          "Y": 0.0019686515763010747
         },
         {
          "X": 5.2,
          "Y": 0.0012140419610368388
         },
         {
          "X": 5.4,
          "Y": 0.001682256247895249
         },
         {
          "X": 5.6000000000000005,
          "Y": 0.0010348602959120942
         },
         {
          "X": 5.800000000000001,
          "Y": 0.0014305303394102473
         },
         {
          "X": 6,
          "Y": 0.0008817023236705112
         },
         {
          "X": 6.2,
          "Y": 0.001220669132895143
         },
         {
          "X": 6.4,
          "Y": 0.0007709761855503958
         },
         {
          "X": 6.6000000000000005,
          "Y": 0.0010775432999527918
         },
         {
          "X": 6.800000000000001,
          "Y": 0.0007415719645205989
         },
         {
          "X": 7,
          "Y": 0.0010868554817407183
         },
         {
          "X": 7.2,
          "Y": 0.0009382280004843571
         },
         {
          "X": 7.4,
          "Y": 0.0013961737025615243
         },
         {
          "X": 7.6000000000000005,
          "Y": 0.001522551128616199
         },
         {
          "X": 7.800000000000001,
          "Y": 0.0022142478680458356
         },
         {
          "X": 8,
          "Y": 0.0029898582096525832
         },
         {
          "X": 8.200000000000001,
          "Y": 0.0040797108205224576
         },
         {
          "X": 8.4,
          "Y": 0.005585183695811193
         },
         {
          "X": 8.6,
          "Y": 0.007060207346670868
         },
         {
          "X": 8.8,
          "Y": 0.008867014272076047
         },
         {
          "X": 9,
          "Y": 0.01085140149296492
         },
         {
          "X": 9.200000000000001,
          "Y": 0.012566493408287312
         },
         {
          "X": 9.4,
          "Y": 0.014152923036878371
         },
         {
          "X": 9.600000000000001,
          "Y": 0.01540374307780132
         },
         {
          "X": 9.8,
          "Y": 0.015963490067288637
         },
         {
          "X": 10,
          "Y": 0.017178328407119536
         },
         {
          "X": 10.200000000000001,
          "Y": 0.015338741501547862
         },
         {
          "X": 10.4,
          "Y": 0.014078257987712901
         },
         {
          "X": 10.600000000000001,
          "Y": 0.012466313735160347
         },
         {
          "X": 10.8,
          "Y": 0.010618207093220663
         },
         {
          "X": 11,
          "Y": 0.008734283191698645
         },
         {
          "X": 11.200000000000001,
          "Y": 0.006865624628090803
         },
         {
          "X": 11.4,
          "Y": 0.0052157827750486385
         },
         {
          "X": 11.600000000000001,
          "Y": 0.0038130243469821565
         },
         {
          "X": 11.8,
          "Y": 0.00251075328202501
         },
         {
          "X": 12,
          "Y": 0.0018820862395857992
         },
         {
          "X": 12.200000000000001,
          "Y": 0.0011361737775533406
         },
         {
          "X": 12.4,
          "Y": 0.0007331525698315374
         },
         {
          "X": 12.600000000000001,
          "Y": 0.0004548084179036016
         },
         {
          "X": 12.8,
          "Y": 0.0002712058431011442
         },
         {
          "X": 13,
          "Y": 0.00014741651056205293
         },
         {
          "X": 13.200000000000001,
          "Y": 8.682751070586094e-05
         },
         {
          "X": 13.4,
          "Y": 5.671735825923499e-05
         },
         {
          "X": 13.600000000000001,
          "Y": 2.918219656762929e-05
         },
         {
          "X": 13.8,
          "Y": 1.7375529374486354e-05
         },
         {
          "X": 14,
          "Y": 1.1897703278608336e-05
         },
         {
          "X": 14.200000000000001,
          "Y": 8.622299511077096e-06
         },
         {
          "X": 14.4,
          "Y": 6.825405620560989e-06
         },
         {
          "X": 14.600000000000001,
          "Y": 5.586284495014563e-06
         },
         {
          "X": 14.8,
          "Y": 4.669861980384239e-06
         },
         {
          "X": 15,
          "Y": 3.948313554694825e-06
         },
         {
          "X": 15.200000000000001,
          "Y": 3.3534425460400294e-06
         },
         {
          "X": 15.4,
          "Y": 2.8527159283821076e-06
         },
         {
          "X": 15.600000000000001,
          "Y": 2.4233690209484857e-06
         },
         {
          "X": 15.8,
          "Y": 2.054328147189825e-06
         },
         {
          "X": 16,
          "Y": 1.7371920198927467e-06
         },
         {
          "X": 16.2,
          "Y": 1.46513697892469e-06
         },
         {
          "X": 16.400000000000002,
          "Y": 6.430045608227638e-07
         },
         {
          "X": 16.6,
          "Y": 1.1289058668345064e-06
         },
         {
          "X": 16.8,
          "Y": 9.45432750205755e-07
         },
         {
          "X": 17,
          "Y": 7.894740185842172e-07
         },
         {
          "X": 17.2,
          "Y": 6.572915930046536e-07
         },
         {
          "X": 17.400000000000002,
          "Y": 5.455944919957147e-07
         },
         {
          "X": 17.6,
          "Y": 4.5149403031157523e-07
         },
         {
          "X": 17.8,
          "Y": 1.9525799762733373e-07
         },
         {
          "X": 18,
          "Y": 3.378964915674886e-07
         },
         {
          "X": 18.2,
          "Y": 2.774244639758001e-07
         },
         {
          "X": 18.400000000000002,
          "Y": 2.270377464987253e-07
         },
         {
          "X": 18.6,
          "Y": 1.8519131251684698e-07
         },
         {
          "X": 18.8,
          "Y": 7.920249677766002e-08
         },
         {
          "X": 19,
          "Y": 1.3557216891866329e-07
         },
         {
          "X": 19.200000000000003,
          "Y": 1.0965115492621583e-07
         },
         {
          "X": 19.400000000000002,
          "Y": 8.837751973876313e-08
         },
         {
          "X": 19.6,
          "Y": 7.097930240632512e-08
         },
         {
          "X": 19.8,
          "Y": 2.999435665118401e-08
         },
         {
          "X": 20,
          "Y": 5.074307876946539e-08
         },
         {
          "X": 20.200000000000003,
          "Y": 4.03840509672416e-08
         },
         {
          "X": 20.400000000000002,
          "Y": 1.6945424661950835e-08
         },
         {
          "X": 20.6,
          "Y": 2.8470764678943016e-08
         },
         {
          "X": 20.8,
          "Y": 2.244466737896972e-08
         },
         {
          "X": 21,
          "Y": 9.348942461918773e-09
         },
         {
          "X": 21.200000000000003,
          "Y": 1.5595477957054267e-08
         },
         {
          "X": 21.400000000000002,
          "Y": 1.2173775578461567e-08
         },
         {
          "X": 21.6,
          "Y": 5.032087529533858e-09
         },
         {
          "X": 21.8,
          "Y": 8.332006961460162e-09
         },
         {
          "X": 22,
          "Y": 6.437450105521275e-09
         },
         {
          "X": 22.200000000000003,
          "Y": 2.6398048870269847e-09
         },
         {
          "X": 22.400000000000002,
          "Y": 4.337201860213885e-09
         },
         {
          "X": 22.6,
          "Y": 1.7697821375641629e-09
         },
         {
          "X": 22.8,
          "Y": 2.8938473215601114e-09
         },
         {
          "X": 23,
          "Y": 2.197451537277538e-09
         },
         {
          "X": 23.200000000000003,
          "Y": 8.890601143487822e-10
         },
         {
          "X": 23.400000000000002,
          "Y": 1.4418071583810853e-09
         },
         {
          "X": 23.6,
          "Y": 5.802653553133105e-10
         },
         {
          "X": 23.8,
          "Y": 9.362400492222958e-10
         },
         {
          "X": 24,
          "Y": 3.747638369657277e-10
         },
         {
          "X": 24.200000000000003,
          "Y": 6.015208610865836e-10
         },
         {
          "X": 24.400000000000002,
          "Y": 2.3944960617131523e-10
         },
         {
          "X": 24.6,
          "Y": 3.822842156214353e-10
         },
         {
          "X": 24.8,
          "Y": 2.8084119923931763e-10
         },
         {
          "X": 25,
          "Y": 1.1073367866069837e-10
         }
        ]
       },
       "encoding": {
        "x": {
         "field": "X",
         "type": "quantitative"
        },
        "y": {
         "field": "Y",
         "type": "quantitative"
        }
       },
       "height": 400,
       "mark": "bar",
       "width": 400
      },
      "image/png": "[encoded data removed]"
     },
     "metadata": {},
     "output_type": "display_data"
    }
   ],
   "source": [
    "plotVega $ histogram 250 0.2 model"
   ]
  },
  {
   "cell_type": "code",
   "execution_count": 56,
   "id": "e88d5c67-938f-4708-9487-75b63cd397b1",
   "metadata": {},
   "outputs": [
    {
     "data": {
      "text/html": [
       "<style>/* Styles used for the Hoogle display in the pager */\n",
       ".hoogle-doc {\n",
       "display: block;\n",
       "padding-bottom: 1.3em;\n",
       "padding-left: 0.4em;\n",
       "}\n",
       ".hoogle-code {\n",
       "display: block;\n",
       "font-family: monospace;\n",
       "white-space: pre;\n",
       "}\n",
       ".hoogle-text {\n",
       "display: block;\n",
       "}\n",
       ".hoogle-name {\n",
       "color: green;\n",
       "font-weight: bold;\n",
       "}\n",
       ".hoogle-head {\n",
       "font-weight: bold;\n",
       "}\n",
       ".hoogle-sub {\n",
       "display: block;\n",
       "margin-left: 0.4em;\n",
       "}\n",
       ".hoogle-package {\n",
       "font-weight: bold;\n",
       "font-style: italic;\n",
       "}\n",
       ".hoogle-module {\n",
       "font-weight: bold;\n",
       "}\n",
       ".hoogle-class {\n",
       "font-weight: bold;\n",
       "}\n",
       ".get-type {\n",
       "color: green;\n",
       "font-weight: bold;\n",
       "font-family: monospace;\n",
       "display: block;\n",
       "white-space: pre-wrap;\n",
       "}\n",
       ".show-type {\n",
       "color: green;\n",
       "font-weight: bold;\n",
       "font-family: monospace;\n",
       "margin-left: 1em;\n",
       "}\n",
       ".mono {\n",
       "font-family: monospace;\n",
       "display: block;\n",
       "}\n",
       ".err-msg {\n",
       "color: red;\n",
       "font-style: italic;\n",
       "font-family: monospace;\n",
       "white-space: pre;\n",
       "display: block;\n",
       "}\n",
       "#unshowable {\n",
       "color: red;\n",
       "font-weight: bold;\n",
       "}\n",
       ".err-msg.in.collapse {\n",
       "padding-top: 0.7em;\n",
       "}\n",
       ".highlight-code {\n",
       "white-space: pre;\n",
       "font-family: monospace;\n",
       "}\n",
       ".suggestion-warning { \n",
       "font-weight: bold;\n",
       "color: rgb(200, 130, 0);\n",
       "}\n",
       ".suggestion-error { \n",
       "font-weight: bold;\n",
       "color: red;\n",
       "}\n",
       ".suggestion-name {\n",
       "font-weight: bold;\n",
       "}\n",
       "</style><div class=\"suggestion-name\" style=\"clear:both;\">Redundant bracket</div><div class=\"suggestion-row\" style=\"float: left;\"><div class=\"suggestion-warning\">Found:</div><div class=\"highlight-code\" id=\"haskell\">(model2)</div></div><div class=\"suggestion-row\" style=\"float: left;\"><div class=\"suggestion-warning\">Why Not:</div><div class=\"highlight-code\" id=\"haskell\">model2</div></div>"
      ],
      "text/plain": [
       "Line 8: Redundant bracket\n",
       "Found:\n",
       "(model2)\n",
       "Why not:\n",
       "model2"
      ]
     },
     "metadata": {},
     "output_type": "display_data"
    },
    {
     "data": {
      "application/vnd.vegalite.v4+json": {
       "$schema": "https://vega.github.io/schema/vega-lite/v4.json",
       "data": {
        "values": [
         {
          "X": -24.8,
          "Y": 0
         },
         {
          "X": -24.6,
          "Y": 0
         },
         {
          "X": -24.400000000000002,
          "Y": 0
         },
         {
          "X": -24.200000000000003,
          "Y": 0
         },
         {
          "X": -24,
          "Y": 0
         },
         {
          "X": -23.8,
          "Y": 0
         },
         {
          "X": -23.6,
          "Y": 0
         },
         {
          "X": -23.400000000000002,
          "Y": 0
         },
         {
          "X": -23.200000000000003,
          "Y": 0
         },
         {
          "X": -23,
          "Y": 0
         },
         {
          "X": -22.8,
          "Y": 0
         },
         {
          "X": -22.6,
          "Y": 0
         },
         {
          "X": -22.400000000000002,
          "Y": 0
         },
         {
          "X": -22.200000000000003,
          "Y": 0
         },
         {
          "X": -22,
          "Y": 0
         },
         {
          "X": -21.8,
          "Y": 0
         },
         {
          "X": -21.6,
          "Y": 0
         },
         {
          "X": -21.400000000000002,
          "Y": 0
         },
         {
          "X": -21.200000000000003,
          "Y": 0
         },
         {
          "X": -21,
          "Y": 0
         },
         {
          "X": -20.8,
          "Y": 0
         },
         {
          "X": -20.6,
          "Y": 0
         },
         {
          "X": -20.400000000000002,
          "Y": 0
         },
         {
          "X": -20.200000000000003,
          "Y": 0
         },
         {
          "X": -20,
          "Y": 0
         },
         {
          "X": -19.8,
          "Y": 0
         },
         {
          "X": -19.6,
          "Y": 0
         },
         {
          "X": -19.400000000000002,
          "Y": 0
         },
         {
          "X": -19.200000000000003,
          "Y": 0
         },
         {
          "X": -19,
          "Y": 0
         },
         {
          "X": -18.8,
          "Y": 0
         },
         {
          "X": -18.6,
          "Y": 0
         },
         {
          "X": -18.400000000000002,
          "Y": 0
         },
         {
          "X": -18.2,
          "Y": 0
         },
         {
          "X": -18,
          "Y": 0
         },
         {
          "X": -17.8,
          "Y": 0
         },
         {
          "X": -17.6,
          "Y": 0
         },
         {
          "X": -17.400000000000002,
          "Y": 0
         },
         {
          "X": -17.2,
          "Y": 0
         },
         {
          "X": -17,
          "Y": 0
         },
         {
          "X": -16.8,
          "Y": 0
         },
         {
          "X": -16.6,
          "Y": 0
         },
         {
          "X": -16.400000000000002,
          "Y": 0
         },
         {
          "X": -16.2,
          "Y": 0
         },
         {
          "X": -16,
          "Y": 0
         },
         {
          "X": -15.8,
          "Y": 0
         },
         {
          "X": -15.600000000000001,
          "Y": 0
         },
         {
          "X": -15.4,
          "Y": 0
         },
         {
          "X": -15.200000000000001,
          "Y": 0
         },
         {
          "X": -15,
          "Y": 0
         },
         {
          "X": -14.8,
          "Y": 0
         },
         {
          "X": -14.600000000000001,
          "Y": 0
         },
         {
          "X": -14.4,
          "Y": 0
         },
         {
          "X": -14.200000000000001,
          "Y": 0
         },
         {
          "X": -14,
          "Y": 0
         },
         {
          "X": -13.8,
          "Y": 0
         },
         {
          "X": -13.600000000000001,
          "Y": 0
         },
         {
          "X": -13.4,
          "Y": 0
         },
         {
          "X": -13.200000000000001,
          "Y": 0
         },
         {
          "X": -13,
          "Y": 0
         },
         {
          "X": -12.8,
          "Y": 0
         },
         {
          "X": -12.600000000000001,
          "Y": 0
         },
         {
          "X": -12.4,
          "Y": 0
         },
         {
          "X": -12.200000000000001,
          "Y": 0
         },
         {
          "X": -12,
          "Y": 0
         },
         {
          "X": -11.8,
          "Y": 0
         },
         {
          "X": -11.600000000000001,
          "Y": 0
         },
         {
          "X": -11.4,
          "Y": 0
         },
         {
          "X": -11.200000000000001,
          "Y": 0
         },
         {
          "X": -11,
          "Y": 0
         },
         {
          "X": -10.8,
          "Y": 0
         },
         {
          "X": -10.600000000000001,
          "Y": 0
         },
         {
          "X": -10.4,
          "Y": 0
         },
         {
          "X": -10.200000000000001,
          "Y": 0
         },
         {
          "X": -10,
          "Y": 0
         },
         {
          "X": -9.8,
          "Y": 0
         },
         {
          "X": -9.600000000000001,
          "Y": 0
         },
         {
          "X": -9.4,
          "Y": 0
         },
         {
          "X": -9.200000000000001,
          "Y": 0
         },
         {
          "X": -9,
          "Y": 0
         },
         {
          "X": -8.8,
          "Y": 0
         },
         {
          "X": -8.6,
          "Y": 0
         },
         {
          "X": -8.4,
          "Y": 0
         },
         {
          "X": -8.200000000000001,
          "Y": 0
         },
         {
          "X": -8,
          "Y": 0
         },
         {
          "X": -7.800000000000001,
          "Y": 0
         },
         {
          "X": -7.6000000000000005,
          "Y": 0
         },
         {
          "X": -7.4,
          "Y": 0
         },
         {
          "X": -7.2,
          "Y": 0
         },
         {
          "X": -7,
          "Y": 0
         },
         {
          "X": -6.800000000000001,
          "Y": 0
         },
         {
          "X": -6.6000000000000005,
          "Y": 0
         },
         {
          "X": -6.4,
          "Y": 0
         },
         {
          "X": -6.2,
          "Y": 0
         },
         {
          "X": -6,
          "Y": 0
         },
         {
          "X": -5.800000000000001,
          "Y": 0
         },
         {
          "X": -5.6000000000000005,
          "Y": 0
         },
         {
          "X": -5.4,
          "Y": 0
         },
         {
          "X": -5.2,
          "Y": 0
         },
         {
          "X": -5,
          "Y": 0
         },
         {
          "X": -4.800000000000001,
          "Y": 0
         },
         {
          "X": -4.6000000000000005,
          "Y": 0
         },
         {
          "X": -4.4,
          "Y": 0
         },
         {
          "X": -4.2,
          "Y": 0
         },
         {
          "X": -4,
          "Y": 0
         },
         {
          "X": -3.8000000000000003,
          "Y": 0
         },
         {
          "X": -3.6,
          "Y": 0
         },
         {
          "X": -3.4000000000000004,
          "Y": 0
         },
         {
          "X": -3.2,
          "Y": 0
         },
         {
          "X": -3,
          "Y": 0
         },
         {
          "X": -2.8000000000000003,
          "Y": 0
         },
         {
          "X": -2.6,
          "Y": 0
         },
         {
          "X": -2.4000000000000004,
          "Y": 0
         },
         {
          "X": -2.2,
          "Y": 0
         },
         {
          "X": -2,
          "Y": 0
         },
         {
          "X": -1.8,
          "Y": 0
         },
         {
          "X": -1.6,
          "Y": 0
         },
         {
          "X": -1.4000000000000001,
          "Y": 0
         },
         {
          "X": -1.2000000000000002,
          "Y": 0
         },
         {
          "X": -1,
          "Y": 0
         },
         {
          "X": -0.8,
          "Y": 0
         },
         {
          "X": -0.6000000000000001,
          "Y": 0
         },
         {
          "X": -0.4,
          "Y": 0
         },
         {
          "X": -0.2,
          "Y": 0
         },
         {
          "X": 0,
          "Y": 0.01783317563264943
         },
         {
          "X": 0.2,
          "Y": 0.025707186812637894
         },
         {
          "X": 0.4,
          "Y": 0.01644651307408704
         },
         {
          "X": 0.6000000000000001,
          "Y": 0.02364112032751955
         },
         {
          "X": 0.8,
          "Y": 0.02242081749433159
         },
         {
          "X": 1,
          "Y": 0.014278757760571909
         },
         {
          "X": 1.2000000000000002,
          "Y": 0.02043224327616948
         },
         {
          "X": 1.4000000000000001,
          "Y": 0.012975264987579664
         },
         {
          "X": 1.6,
          "Y": 0.018514392031921813
         },
         {
          "X": 1.8,
          "Y": 0.017403482433407138
         },
         {
          "X": 2,
          "Y": 0.011001341330839957
         },
         {
          "X": 2.2,
          "Y": 0.015626313508156322
         },
         {
          "X": 2.4000000000000004,
          "Y": 0.009849455228921155
         },
         {
          "X": 2.6,
          "Y": 0.01394996809567743
         },
         {
          "X": 2.8000000000000003,
          "Y": 0.012995473582322293
         },
         {
          "X": 3,
          "Y": 0.008153001208665437
         },
         {
          "X": 3.2,
          "Y": 0.011493495105918341
         },
         {
          "X": 3.4000000000000004,
          "Y": 0.007189327728078239
         },
         {
          "X": 3.6,
          "Y": 0.010104957744419617
         },
         {
          "X": 3.8000000000000003,
          "Y": 0.009326741029106966
         },
         {
          "X": 4,
          "Y": 0.005805778702201898
         },
         {
          "X": 4.2,
          "Y": 0.008120818743406512
         },
         {
          "X": 4.4,
          "Y": 0.005039441385206362
         },
         {
          "X": 4.6000000000000005,
          "Y": 0.0070270239527971635
         },
         {
          "X": 4.800000000000001,
          "Y": 0.0043469437912711855
         },
         {
          "X": 5,
          "Y": 0.006042281772358858
         },
         {
          "X": 5.2,
          "Y": 0.0037261970073112763
         },
         {
          "X": 5.4,
          "Y": 0.00516326321298195
         },
         {
          "X": 5.6000000000000005,
          "Y": 0.0031762438707799317
         },
         {
          "X": 5.800000000000001,
          "Y": 0.004390653734098324
         },
         {
          "X": 6,
          "Y": 0.0027061639261583698
         },
         {
          "X": 6.2,
          "Y": 0.0037465374475414166
         },
         {
          "X": 6.4,
          "Y": 0.0023663178436210373
         },
         {
          "X": 6.6000000000000005,
          "Y": 0.0033072486358736125
         },
         {
          "X": 6.800000000000001,
          "Y": 0.002276068969265843
         },
         {
          "X": 7,
          "Y": 0.0033358300399958193
         },
         {
          "X": 7.2,
          "Y": 0.0028796553000480446
         },
         {
          "X": 7.4,
          "Y": 0.004285204662718899
         },
         {
          "X": 7.6000000000000005,
          "Y": 0.004673088444227124
         },
         {
          "X": 7.800000000000001,
          "Y": 0.006796077931533215
         },
         {
          "X": 8,
          "Y": 0.009176619153738174
         },
         {
          "X": 8.200000000000001,
          "Y": 0.012521648129149743
         },
         {
          "X": 8.4,
          "Y": 0.01714231916238017
         },
         {
          "X": 8.6,
          "Y": 0.021669533945675376
         },
         {
          "X": 8.8,
          "Y": 0.027215074194122998
         },
         {
          "X": 9,
          "Y": 0.03330565257702165
         },
         {
          "X": 9.200000000000001,
          "Y": 0.038569696627591445
         },
         {
          "X": 9.4,
          "Y": 0.04343884409043321
         },
         {
          "X": 9.600000000000001,
          "Y": 0.047277922180610214
         },
         {
          "X": 9.8,
          "Y": 0.04899592503719832
         },
         {
          "X": 10,
          "Y": 0.052724566329282574
         },
         {
          "X": 10.200000000000001,
          "Y": 0.04707841616131307
         },
         {
          "X": 10.4,
          "Y": 0.04320967846710211
         },
         {
          "X": 10.600000000000001,
          "Y": 0.038262220271600984
         },
         {
          "X": 10.8,
          "Y": 0.03258992091177781
         },
         {
          "X": 11,
          "Y": 0.026807689465791963
         },
         {
          "X": 11.200000000000001,
          "Y": 0.021072311142084382
         },
         {
          "X": 11.4,
          "Y": 0.016008535776287067
         },
         {
          "X": 11.600000000000001,
          "Y": 0.011703120951763232
         },
         {
          "X": 11.8,
          "Y": 0.007706126860383431
         },
         {
          "X": 12,
          "Y": 0.005776591204028027
         },
         {
          "X": 12.200000000000001,
          "Y": 0.0034872001673559466
         },
         {
          "X": 12.4,
          "Y": 0.002250227751004358
         },
         {
          "X": 12.600000000000001,
          "Y": 0.0013959202565330055
         },
         {
          "X": 12.8,
          "Y": 0.0008323982476402647
         },
         {
          "X": 13,
          "Y": 0.00045245796942262775
         },
         {
          "X": 13.200000000000001,
          "Y": 0.00026649524557467046
         },
         {
          "X": 13.4,
          "Y": 0.00017407969196358777
         },
         {
          "X": 13.600000000000001,
          "Y": 8.956742600906703e-05
         },
         {
          "X": 13.8,
          "Y": 5.3329825190198376e-05
         },
         {
          "X": 14,
          "Y": 3.651701322808125e-05
         },
         {
          "X": 14.200000000000001,
          "Y": 2.6463983672259628e-05
         },
         {
          "X": 14.4,
          "Y": 2.0948868995680614e-05
         },
         {
          "X": 14.600000000000001,
          "Y": 1.7145697789173058e-05
         },
         {
          "X": 14.8,
          "Y": 1.4332968953563589e-05
         },
         {
          "X": 15,
          "Y": 1.2118357209717551e-05
         },
         {
          "X": 15.200000000000001,
          "Y": 1.0292549994378243e-05
         },
         {
          "X": 15.4,
          "Y": 8.755695351722748e-06
         },
         {
          "X": 15.600000000000001,
          "Y": 7.437922809321333e-06
         },
         {
          "X": 15.8,
          "Y": 6.305244497114846e-06
         },
         {
          "X": 16,
          "Y": 5.331874773192428e-06
         },
         {
          "X": 16.2,
          "Y": 4.496870125895596e-06
         },
         {
          "X": 16.400000000000002,
          "Y": 1.9735410695187505e-06
         },
         {
          "X": 16.6,
          "Y": 3.464893140054521e-06
         },
         {
          "X": 16.8,
          "Y": 2.901768470524765e-06
         },
         {
          "X": 17,
          "Y": 2.4230922981328926e-06
         },
         {
          "X": 17.2,
          "Y": 2.0173915279609384e-06
         },
         {
          "X": 17.400000000000002,
          "Y": 1.6745653186020808e-06
         },
         {
          "X": 17.6,
          "Y": 1.3857475759150052e-06
         },
         {
          "X": 17.8,
          "Y": 5.992954030939676e-07
         },
         {
          "X": 18,
          "Y": 1.0370884500437385e-06
         },
         {
          "X": 18.2,
          "Y": 8.514847431951276e-07
         },
         {
          "X": 18.400000000000002,
          "Y": 6.96835363769256e-07
         },
         {
          "X": 18.6,
          "Y": 5.683982404454829e-07
         },
         {
          "X": 18.8,
          "Y": 2.4309217962487093e-07
         },
         {
          "X": 19,
          "Y": 4.161047363371104e-07
         },
         {
          "X": 19.200000000000003,
          "Y": 3.36546691504259e-07
         },
         {
          "X": 19.400000000000002,
          "Y": 2.712526091626415e-07
         },
         {
          "X": 19.6,
          "Y": 2.178531489814505e-07
         },
         {
          "X": 19.8,
          "Y": 9.206014748816213e-08
         },
         {
          "X": 20,
          "Y": 1.55743140946349e-07
         },
         {
          "X": 20.200000000000003,
          "Y": 1.2394870579986121e-07
         },
         {
          "X": 20.400000000000002,
          "Y": 5.2009726755287936e-08
         },
         {
          "X": 20.6,
          "Y": 8.738386443573836e-08
         },
         {
          "X": 20.8,
          "Y": 6.888827165923324e-08
         },
         {
          "X": 21,
          "Y": 2.8694231782051223e-08
         },
         {
          "X": 21.200000000000003,
          "Y": 4.786640425635277e-08
         },
         {
          "X": 21.400000000000002,
          "Y": 3.7364347842970595e-08
         },
         {
          "X": 21.6,
          "Y": 1.5444729337908356e-08
         },
         {
          "X": 21.8,
          "Y": 2.5573003570794616e-08
         },
         {
          "X": 22,
          "Y": 1.975813694068946e-08
         },
         {
          "X": 22.200000000000003,
          "Y": 8.102218362802664e-09
         },
         {
          "X": 22.400000000000002,
          "Y": 1.3311952230902738e-08
         },
         {
          "X": 22.6,
          "Y": 5.431901957451728e-09
         },
         {
          "X": 22.8,
          "Y": 8.881937836814063e-09
         },
         {
          "X": 23,
          "Y": 6.744525811053632e-09
         },
         {
          "X": 23.200000000000003,
          "Y": 2.7287468174304156e-09
         },
         {
          "X": 23.400000000000002,
          "Y": 4.425265098820216e-09
         },
         {
          "X": 23.6,
          "Y": 1.7809788292393815e-09
         },
         {
          "X": 23.8,
          "Y": 2.873553782735541e-09
         },
         {
          "X": 24,
          "Y": 1.1502435109883426e-09
         },
         {
          "X": 24.200000000000003,
          "Y": 1.8462172678956669e-09
         },
         {
          "X": 24.400000000000002,
          "Y": 7.349304509667973e-10
         },
         {
          "X": 24.6,
          "Y": 1.1733254252384999e-09
         },
         {
          "X": 24.8,
          "Y": 8.619715542958084e-10
         },
         {
          "X": 25,
          "Y": 3.3986922633355545e-10
         }
        ]
       },
       "encoding": {
        "x": {
         "field": "X",
         "type": "quantitative"
        },
        "y": {
         "field": "Y",
         "type": "quantitative"
        }
       },
       "height": 400,
       "mark": "bar",
       "width": 400
      },
      "image/png": "[encoded data removed]"
     },
     "metadata": {},
     "output_type": "display_data"
    }
   ],
   "source": [
    "model2 :: Measure Real\n",
    "model2 = do\n",
    "    p <- bernoulli 0.2\n",
    "    x <- if p then normal 10 1 else normal (-5) 5\n",
    "    condition (x > 0)\n",
    "    return x\n",
    "\n",
    "plotVega $ histogram 250 0.2 ( model2)"
   ]
  },
  {
   "cell_type": "code",
   "execution_count": null,
   "id": "d9be5325-c304-40a0-9746-b7a79b387a49",
   "metadata": {},
   "outputs": [],
   "source": []
  }
 ],
 "metadata": {
  "kernelspec": {
   "display_name": "Haskell - nixpkgs",
   "language": "haskell",
   "name": "ihaskell_nixpkgs"
  },
  "language_info": {
   "codemirror_mode": "ihaskell",
   "file_extension": ".hs",
   "mimetype": "text/x-haskell",
   "name": "haskell",
   "pygments_lexer": "Haskell",
   "version": "9.0.2"
  }
 },
 "nbformat": 4,
 "nbformat_minor": 5
}
