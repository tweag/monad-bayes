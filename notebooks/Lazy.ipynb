{
 "cells": [
  {
   "cell_type": "code",
   "execution_count": 11,
   "id": "043dfea4-1d1a-42c7-8dbe-404e1c3442e4",
   "metadata": {},
   "outputs": [],
   "source": [
    "import qualified Control.Monad.Bayes.Sampler.Lazy as Lazy\n",
    "import qualified Control.Monad.Bayes.Inference.Lazy.MH as Lazy\n",
    "import qualified Control.Monad.Bayes.Inference.Lazy.WIS as Lazy\n",
    "\n",
    "import Control.Monad.Bayes.Class\n",
    "import qualified Data.Text as T\n",
    "import Numeric.Log\n",
    "import Control.Arrow (first, second)\n",
    "import Statistics.Distribution\n",
    "import qualified Statistics.Distribution.Poisson as S\n",
    "import Control.Monad.Bayes.Enumerator\n",
    "\n",
    ":l Plotting.hs"
   ]
  },
  {
   "cell_type": "markdown",
   "id": "6cc366b0-9a2d-41b5-9a18-6f2dd022d383",
   "metadata": {},
   "source": [
    "# Lazy Sampling\n",
    "\n",
    "The sampler defined in `Control.Monad.Bayes.Sampler.Strict` fares poorly with infinite data structures. For example, `finiteList` defined below is a distribution over a small finite set, but because it is defined as the marginal of an infinite list, running it with a strict sampling monad will not terminate."
   ]
  },
  {
   "cell_type": "code",
   "execution_count": 12,
   "id": "54b733d5-7914-4fd0-888c-21fa7992f38a",
   "metadata": {},
   "outputs": [],
   "source": [
    "finiteList :: MonadSample m => m [Double]\n",
    "finiteList = do\n",
    "    infiniteList <- sequence $ repeat random\n",
    "    return (take 3 infiniteList)"
   ]
  },
  {
   "cell_type": "markdown",
   "id": "e5728ea8-fbba-42be-93ec-6df139dcbdcd",
   "metadata": {},
   "source": [
    "One solution is to use a streaming library, such as `pipes`, and indeed this proves useful in many situations. But another is to define a lazy sampler, which is the approach taken by [LazyPPL](https://lazyppl.bitbucket.io/). "
   ]
  },
  {
   "cell_type": "code",
   "execution_count": 13,
   "id": "b38c604a-3dc1-4fc3-b4c2-429a32528cb8",
   "metadata": {},
   "outputs": [
    {
     "data": {
      "text/plain": [
       "[0.40590036106381844,0.6706993591891279,0.4657898229309573]"
      ]
     },
     "metadata": {},
     "output_type": "display_data"
    }
   ],
   "source": [
    "Lazy.sampler finiteList"
   ]
  },
  {
   "cell_type": "markdown",
   "id": "daee5898-3b3d-4876-ad21-14ae16f2fe7e",
   "metadata": {},
   "source": [
    "`Control.Monad.Bayes.Sampler.Lazy` is simply a port of LazyPPL, with some refactoring. In particular, what LazyPPL calls the `Prob` monad, we now call `Sampler`, and `Meas` is built modularly as `Weighted Sampler`. \n",
    "\n",
    "LazyPPL also comes with a number of inference algorithms that make special use of the sampler's laziness, including weighted importance sampling and Metropolis-Hastings. Monad-Bayes has these also, as shown below:"
   ]
  },
  {
   "cell_type": "code",
   "execution_count": 14,
   "id": "bbefc916-65fd-4a99-a5e0-7273c4f3d29b",
   "metadata": {},
   "outputs": [],
   "source": [
    "model :: MonadInfer m => m Bool\n",
    "model = do\n",
    "  -- Prior belief: it is Sunday with prob. 1/7\n",
    "  sunday <- bernoulli (1/7)\n",
    "  -- I know the rates of buses on the different days:\n",
    "  let rate = if sunday then 3 else 10 \n",
    "  -- observe 4 buses\n",
    "  factor $ Exp $ logProbability (S.poisson rate) 4\n",
    "  -- score $ poissonPdf rate 4\n",
    "  return sunday"
   ]
  },
  {
   "cell_type": "code",
   "execution_count": 19,
   "id": "de863302-a371-49f0-81a6-f8e45ab740bb",
   "metadata": {},
   "outputs": [
    {
     "data": {
      "text/plain": []
     },
     "metadata": {},
     "output_type": "display_data"
    }
   ],
   "source": [
    "xws <- Lazy.lwis 1000 model"
   ]
  },
  {
   "cell_type": "code",
   "execution_count": 20,
   "id": "634c7c3e-2731-43a5-af60-14bb168a3863",
   "metadata": {},
   "outputs": [
    {
     "data": {
      "text/html": [
       "<style>/* Styles used for the Hoogle display in the pager */\n",
       ".hoogle-doc {\n",
       "display: block;\n",
       "padding-bottom: 1.3em;\n",
       "padding-left: 0.4em;\n",
       "}\n",
       ".hoogle-code {\n",
       "display: block;\n",
       "font-family: monospace;\n",
       "white-space: pre;\n",
       "}\n",
       ".hoogle-text {\n",
       "display: block;\n",
       "}\n",
       ".hoogle-name {\n",
       "color: green;\n",
       "font-weight: bold;\n",
       "}\n",
       ".hoogle-head {\n",
       "font-weight: bold;\n",
       "}\n",
       ".hoogle-sub {\n",
       "display: block;\n",
       "margin-left: 0.4em;\n",
       "}\n",
       ".hoogle-package {\n",
       "font-weight: bold;\n",
       "font-style: italic;\n",
       "}\n",
       ".hoogle-module {\n",
       "font-weight: bold;\n",
       "}\n",
       ".hoogle-class {\n",
       "font-weight: bold;\n",
       "}\n",
       ".get-type {\n",
       "color: green;\n",
       "font-weight: bold;\n",
       "font-family: monospace;\n",
       "display: block;\n",
       "white-space: pre-wrap;\n",
       "}\n",
       ".show-type {\n",
       "color: green;\n",
       "font-weight: bold;\n",
       "font-family: monospace;\n",
       "margin-left: 1em;\n",
       "}\n",
       ".mono {\n",
       "font-family: monospace;\n",
       "display: block;\n",
       "}\n",
       ".err-msg {\n",
       "color: red;\n",
       "font-style: italic;\n",
       "font-family: monospace;\n",
       "white-space: pre;\n",
       "display: block;\n",
       "}\n",
       "#unshowable {\n",
       "color: red;\n",
       "font-weight: bold;\n",
       "}\n",
       ".err-msg.in.collapse {\n",
       "padding-top: 0.7em;\n",
       "}\n",
       ".highlight-code {\n",
       "white-space: pre;\n",
       "font-family: monospace;\n",
       "}\n",
       ".suggestion-warning { \n",
       "font-weight: bold;\n",
       "color: rgb(200, 130, 0);\n",
       "}\n",
       ".suggestion-error { \n",
       "font-weight: bold;\n",
       "color: red;\n",
       "}\n",
       ".suggestion-name {\n",
       "font-weight: bold;\n",
       "}\n",
       "</style><div class=\"suggestion-name\" style=\"clear:both;\">Redundant $</div><div class=\"suggestion-row\" style=\"float: left;\"><div class=\"suggestion-warning\">Found:</div><div class=\"highlight-code\" id=\"haskell\">take 1000 $ xws</div></div><div class=\"suggestion-row\" style=\"float: left;\"><div class=\"suggestion-warning\">Why Not:</div><div class=\"highlight-code\" id=\"haskell\">take 1000 xws</div></div>"
      ],
      "text/plain": [
       "Line 1: Redundant $\n",
       "Found:\n",
       "take 1000 $ xws\n",
       "Why not:\n",
       "take 1000 xws"
      ]
     },
     "metadata": {},
     "output_type": "display_data"
    },
    {
     "data": {
      "application/vnd.vegalite.v4+json": {
       "$schema": "https://vega.github.io/schema/vega-lite/v4.json",
       "data": {
        "values": [
         {
          "X": "True",
          "Y": 0.62
         },
         {
          "X": "False",
          "Y": 0.38
         }
        ]
       },
       "encoding": {
        "x": {
         "field": "X",
         "type": "nominal"
        },
        "y": {
         "field": "Y",
         "type": "quantitative"
        }
       },
       "height": 400,
       "mark": "bar",
       "width": 400
      },
      "image/png": "[encoded data removed]"
     },
     "metadata": {},
     "output_type": "display_data"
    }
   ],
   "source": [
    "plot $ first (T.pack . show) <$> toEmpirical (take 1000 xws)"
   ]
  }
 ],
 "metadata": {
  "kernelspec": {
   "display_name": "Haskell - nixpkgs",
   "language": "haskell",
   "name": "ihaskell_nixpkgs"
  },
  "language_info": {
   "codemirror_mode": "ihaskell",
   "file_extension": ".hs",
   "mimetype": "text/x-haskell",
   "name": "haskell",
   "pygments_lexer": "Haskell",
   "version": "9.0.2"
  }
 },
 "nbformat": 4,
 "nbformat_minor": 5
}
