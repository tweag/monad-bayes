{
 "cells": [
  {
   "cell_type": "code",
   "execution_count": 14,
   "id": "043dfea4-1d1a-42c7-8dbe-404e1c3442e4",
   "metadata": {},
   "outputs": [],
   "source": [
    "import qualified Control.Monad.Bayes.Sampler.Lazy as Lazy\n",
    "import qualified Control.Monad.Bayes.Inference.Lazy.MH as Lazy\n",
    "\n",
    "import Control.Monad.Bayes.Class\n",
    "import qualified Data.Text as T\n",
    "import Numeric.Log\n",
    "import Control.Arrow (first, second)\n",
    "import Statistics.Distribution\n",
    "import qualified Statistics.Distribution.Poisson as S\n",
    "import Control.Monad.Bayes.Enumerator\n",
    "\n",
    "\n",
    ":l Plotting.hs\n"
   ]
  },
  {
   "cell_type": "markdown",
   "id": "6cc366b0-9a2d-41b5-9a18-6f2dd022d383",
   "metadata": {},
   "source": [
    "# Lazy Sampling\n",
    "\n",
    "The sampler defined in `Control.Monad.Bayes.Sampler.Strict` fares poorly with infinite data structures. For example, `finiteList` defined below is a distribution over a small finite set, but because it is defined as the marginal of an infinite list, running it with a strict sampling monad will not terminate."
   ]
  },
  {
   "cell_type": "code",
   "execution_count": 15,
   "id": "54b733d5-7914-4fd0-888c-21fa7992f38a",
   "metadata": {},
   "outputs": [],
   "source": [
    "finiteList :: MonadSample m => m [Double]\n",
    "finiteList = do\n",
    "    infiniteList <- sequence $ repeat random\n",
    "    return (take 3 infiniteList)"
   ]
  },
  {
   "cell_type": "markdown",
   "id": "e5728ea8-fbba-42be-93ec-6df139dcbdcd",
   "metadata": {},
   "source": [
    "One solution is to use a streaming library, such as `pipes`, and indeed this proves useful in many situations. But another is to define a lazy sampler, which is the approach taken by [LazyPPL](https://lazyppl.bitbucket.io/). "
   ]
  },
  {
   "cell_type": "code",
   "execution_count": 16,
   "id": "b38c604a-3dc1-4fc3-b4c2-429a32528cb8",
   "metadata": {},
   "outputs": [
    {
     "data": {
      "text/plain": [
       "[0.8180766766189881,0.344956911022809,2.3083124243546638e-2]"
      ]
     },
     "metadata": {},
     "output_type": "display_data"
    }
   ],
   "source": [
    "Lazy.sample finiteList"
   ]
  },
  {
   "cell_type": "markdown",
   "id": "daee5898-3b3d-4876-ad21-14ae16f2fe7e",
   "metadata": {},
   "source": [
    "`Control.Monad.Bayes.Sampler.Lazy` is simply a port of LazyPPL, with some refactoring. In particular, what LazyPPL calls the `Prob` monad, we now call `Sampler`, and `Meas` is built modularly as `Weighted Sampler`. \n",
    "\n",
    "LazyPPL also comes with a number of inference algorithms that make special use of the sampler's laziness, including weighted importance sampling and Metropolis-Hastings. Monad-Bayes has these also, as shown below:"
   ]
  },
  {
   "cell_type": "code",
   "execution_count": 17,
   "id": "bbefc916-65fd-4a99-a5e0-7273c4f3d29b",
   "metadata": {},
   "outputs": [],
   "source": [
    "model :: MonadInfer m => m Bool\n",
    "model = do\n",
    "  -- Prior belief: it is Sunday with prob. 1/7\n",
    "  sunday <- bernoulli (1/7)\n",
    "  -- I know the rates of buses on the different days:\n",
    "  let rate = if sunday then 3 else 10 \n",
    "  -- observe 4 buses\n",
    "  factor $ Exp $ logProbability (S.poisson rate) 4\n",
    "  -- score $ poissonPdf rate 4\n",
    "  return sunday"
   ]
  },
  {
   "cell_type": "code",
   "execution_count": 19,
   "id": "de863302-a371-49f0-81a6-f8e45ab740bb",
   "metadata": {},
   "outputs": [
    {
     "ename": "",
     "evalue": "",
     "header": "MessageHeader {mhIdentifiers = [\"c0ec4195-068f-40a8-b2e9-b1e47c0ef78a\"], mhParentHeader = Just (MessageHeader {mhIdentifiers = [\"c0ec4195-068f-40a8-b2e9-b1e47c0ef78a\"], mhParentHeader = Nothing, mhMetadata = Metadata (fromList [(\"cellId\",String \"de863302-a371-49f0-81a6-f8e45ab740bb\"),(\"deletedCells\",Array []),(\"recordTiming\",Bool False)]), mhMessageId = UUID {uuidToString = \"dbd7e61f-7866-4ea2-81a3-ff4ffbe1ad51\"}, mhSessionId = UUID {uuidToString = \"c0ec4195-068f-40a8-b2e9-b1e47c0ef78a\"}, mhUsername = \"\", mhMsgType = ExecuteRequestMessage, mhBuffers = []}), mhMetadata = Metadata (fromList []), mhMessageId = UUID {uuidToString = \"8852155e-b90c-4524-9dc1-02d3f4272225\"}, mhSessionId = UUID {uuidToString = \"c0ec4195-068f-40a8-b2e9-b1e47c0ef78a\"}, mhUsername = \"\", mhMsgType = ExecuteErrorMessage, mhBuffers = []}",
     "output_type": "error",
     "traceback": [
      "<interactive>:1:8: error: Not in scope: ‘Lazy.mh’"
     ]
    }
   ],
   "source": [
    "xws <- Lazy.mh 1 model"
   ]
  },
  {
   "cell_type": "code",
   "execution_count": 34,
   "id": "634c7c3e-2731-43a5-af60-14bb168a3863",
   "metadata": {},
   "outputs": [
    {
     "data": {
      "application/vnd.vegalite.v4+json": {
       "$schema": "https://vega.github.io/schema/vega-lite/v4.json",
       "data": {
        "values": [
         {
          "X": "True",
          "Y": 0.602
         },
         {
          "X": "False",
          "Y": 0.398
         }
        ]
       },
       "encoding": {
        "x": {
         "field": "X",
         "type": "nominal"
        },
        "y": {
         "field": "Y",
         "type": "quantitative"
        }
       },
       "height": 200,
       "mark": "bar",
       "width": 200
      },
      "image/png": "[encoded data removed]"
     },
     "metadata": {},
     "output_type": "display_data"
    }
   ],
   "source": [
    "plotVega $ first (T.pack . show) <$> toEmpirical (take 1000 $ fst <$> xws)"
   ]
  },
  {
   "cell_type": "code",
   "execution_count": null,
   "id": "44f03d6a-80ad-40e6-bfcb-82931d77871c",
   "metadata": {},
   "outputs": [],
   "source": []
  },
  {
   "cell_type": "code",
   "execution_count": null,
   "id": "1d5fa726-8615-449a-86bd-3521659cbe51",
   "metadata": {},
   "outputs": [],
   "source": []
  },
  {
   "cell_type": "code",
   "execution_count": 20,
   "id": "ed7339a1-77f1-4cfe-b22f-0e46953fc6ac",
   "metadata": {},
   "outputs": [
    {
     "data": {
      "text/plain": [
       "[1,2,3,4]"
      ]
     },
     "metadata": {},
     "output_type": "display_data"
    }
   ],
   "source": [
    "x = bernoulli 0.5\n",
    "\n",
    "y <- Lazy.sample x\n",
    "take 4 y"
   ]
  },
  {
   "cell_type": "code",
   "execution_count": null,
   "id": "c87e6580-90ce-4fcd-92bf-8d50e1897593",
   "metadata": {},
   "outputs": [],
   "source": []
  },
  {
   "cell_type": "code",
   "execution_count": 10,
   "id": "cda4e5e0-e0df-4484-b739-b1c5300c9945",
   "metadata": {},
   "outputs": [
    {
     "data": {
      "text/plain": [
       "[V2 (-0.33752627641182276) 0.6879027115791256,V2 0.5479956320453119 2.1371803404562364,V2 0.5573120317335094 1.7091817011312638,V2 0.9797529388677747 3.7490921318570587]"
      ]
     },
     "metadata": {},
     "output_type": "display_data"
    }
   ],
   "source": [
    "variance = 1\n",
    "import Diagrams.Prelude (V2(..))\n",
    "import Control.Monad.Loops\n",
    "import Control.Monad\n",
    "\n",
    "\n",
    "-- kernel :: MonadSample m => V2 Real -> Distribution (V2 Real)\n",
    "kernel (V2 x y) = do\n",
    "    newX <- normal (x+0.5) variance\n",
    "    newY <- normal (y+0.5) variance\n",
    "    return (V2 newX newY)\n",
    "\n",
    "-- randomWalk :: Distribution [V2 Double]\n",
    "randomWalk = unfoldrM (fmap (Just . (\\x -> (x,x))) . kernel) 0\n",
    "\n",
    "\n",
    "x <- Lazy.sample randomWalk\n",
    "\n",
    "take 4 x"
   ]
  },
  {
   "cell_type": "code",
   "execution_count": 29,
   "id": "dd7b42cf-c2c5-4f71-a481-c04dc1a19f2f",
   "metadata": {},
   "outputs": [],
   "source": [
    "observations = mapM (\\(V2 x y) -> \n",
    "    do\n",
    "        x' <- normal x 2\n",
    "        y' <- normal y 2\n",
    "        return (V2 x' y')) =<< randomWalk\n"
   ]
  },
  {
   "cell_type": "code",
   "execution_count": 38,
   "id": "99478fa3-4730-4b36-b22e-924153ce0624",
   "metadata": {},
   "outputs": [
    {
     "data": {
      "text/plain": [
       "[V2 3.359606220496155 0.28261234040449634,V2 (-4.010679323774817) 0.6391189243868503,V2 1.4470509903824165 0.6840265398936514,V2 0.6074621050753484 6.120654529217177]"
      ]
     },
     "metadata": {},
     "output_type": "display_data"
    }
   ],
   "source": [
    "obs <- Lazy.sample observations\n",
    "take 4 x"
   ]
  },
  {
   "cell_type": "code",
   "execution_count": null,
   "id": "20cd0dab-3918-4350-933e-0cb30ce804e7",
   "metadata": {},
   "outputs": [
    {
     "data": {
      "text/plain": [
       "Press Ctrl-C again to quit kernel."
      ]
     },
     "metadata": {},
     "output_type": "display_data"
    }
   ],
   "source": [
    "import Control.Applicative\n",
    "import Control.Monad.Bayes.Weighted\n",
    "import Control.Monad.Bayes.Inference.SMC\n",
    "import Control.Monad.Bayes.Population\n",
    "\n",
    "\n",
    "-- -- conditioning :: (MonadSample m, MonadCond m) => P.Producer (Double,Double) m ()\n",
    "-- conditioning = do\n",
    "--     walk <- randomWalk\n",
    "--     forM_ (zip walk obs) (\\(V2 x y, V2 x' y') -> \n",
    "--         factor 0.1)\n",
    "--     return walk\n",
    "\n",
    "-- x <- Lazy.sample $ runPopulation $ smcMultinomial 4 4 $ conditioning\n",
    "-- take 4 x\n",
    "--     -- >-> P.map fst"
   ]
  },
  {
   "cell_type": "code",
   "execution_count": null,
   "id": "93bdfc15-5ef1-42e6-bcf0-b9f0e904bb03",
   "metadata": {},
   "outputs": [],
   "source": []
  }
 ],
 "metadata": {
  "kernelspec": {
   "display_name": "Haskell - nixpkgs",
   "language": "haskell",
   "name": "ihaskell_nixpkgs"
  },
  "language_info": {
   "codemirror_mode": "ihaskell",
   "file_extension": ".hs",
   "mimetype": "text/x-haskell",
   "name": "haskell",
   "pygments_lexer": "Haskell",
   "version": "9.0.2"
  }
 },
 "nbformat": 4,
 "nbformat_minor": 5
}
