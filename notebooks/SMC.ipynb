{
 "cells": [
  {
   "cell_type": "markdown",
   "metadata": {},
   "source": [
    "# Sequential Inference\n",
    "\n",
    "This tutorial discusses particle filters, and sequential Monte Carlo more generally.\n",
    "\n",
    "These techniques are relevant when performing inference on models where there is a large series of factor statements, some of which can be performed earlier than others. This situation often arises in time series models where the factor statements are the result of incoming observations, but the technique works for *any* probabilistic program.\n",
    "\n",
    "As a motivating example, consider the following program:"
   ]
  },
  {
   "cell_type": "code",
   "execution_count": 1,
   "metadata": {},
   "outputs": [],
   "source": [
    ":e ImportQualifiedPost\n",
    ":e FlexibleContexts\n",
    ":e BlockArguments\n",
    ":e TupleSections\n",
    ":e FlexibleContexts\n",
    ":e OverloadedStrings\n",
    ":e LambdaCase\n",
    "\n",
    "\n",
    "import Control.Monad.Bayes.Class\n",
    "import Control.Monad.Bayes.Enumerator\n",
    "import Control.Monad.Bayes.Weighted\n",
    "import Control.Monad.Bayes.Sampler\n",
    "import Control.Monad.Bayes.Free\n",
    "import Control.Monad.Bayes.Population\n",
    "import Control.Monad.Bayes.Sequential\n",
    "import Control.Monad.Bayes.Inference.SMC\n",
    "\n",
    "import qualified Graphics.Vega.VegaLite as VL\n",
    "import IHaskell.Display.Hvega (vlShow)\n",
    "import Control.Applicative\n",
    "import qualified Data.Text as T\n",
    "import Pipes (Producer, (>->))\n",
    "import qualified Pipes as P\n",
    "import Pipes.Prelude (unfoldr)\n",
    "import qualified Pipes.Prelude as P\n",
    "import Data.Ord\n",
    "import Data.List\n",
    "import Control.Monad\n",
    "import Control.Arrow (first)\n",
    "\n",
    ":l Plotting.hs"
   ]
  },
  {
   "cell_type": "code",
   "execution_count": 2,
   "metadata": {},
   "outputs": [],
   "source": [
    "ex :: MonadInfer m => Int -> m [Bool]\n",
    "ex n = replicateM n do\n",
    "    x <- bernoulli 0.5\n",
    "    condition x\n",
    "    return x"
   ]
  },
  {
   "cell_type": "markdown",
   "metadata": {},
   "source": [
    "What distribution does this represent? It is the distribution over all lists of Booleans of length $n$, which for e.g. $n=4$, places all the weight on the sequence `[True,True,True,True]`.\n",
    "\n"
   ]
  },
  {
   "cell_type": "code",
   "execution_count": 3,
   "metadata": {},
   "outputs": [
    {
     "data": {
      "text/plain": [
       "[([True,True,True,True],6.25e-2)]"
      ]
     },
     "metadata": {},
     "output_type": "display_data"
    }
   ],
   "source": [
    "normalForm $ ex 4"
   ]
  },
  {
   "cell_type": "markdown",
   "metadata": {},
   "source": [
    "# This is inefficient\n",
    "\n",
    "However, the naive approach to exactly inferring this distribution will not work. Why? Because it first constructs all $2^n$ possible solutions, and then throws away all but one. This has complexity exponential in $n$ and for e.g. $n=100$, it is hopeless. \n",
    "\n",
    "Now if we look at the structure of the program, it's clear that this is unnecessary. Each time a `condition` statement is made, we should throw away all possibilities with $0$ probability mass. If we do this, the size of the set of possible solutions never explodes.\n",
    "\n",
    "We can perform this *sequential enumeration\" with monad-bayes, as follows:"
   ]
  },
  {
   "cell_type": "code",
   "execution_count": 4,
   "metadata": {},
   "outputs": [
    {
     "data": {
      "text/plain": [
       "[([True,True,True,True,True,True,True,True,True,True,True,True,True,True,True,True,True,True,True,True,True,True,True,True,True,True,True,True,True,True,True,True,True,True,True,True,True,True,True,True,True,True,True,True,True,True,True,True,True,True,True,True,True,True,True,True,True,True,True,True,True,True,True,True,True,True,True,True,True,True,True,True,True,True,True,True,True,True,True,True,True,True,True,True,True,True,True,True,True,True,True,True,True,True,True,True,True,True,True,True],1.0)]"
      ]
     },
     "metadata": {},
     "output_type": "display_data"
    }
   ],
   "source": [
    "enumerate $ sis removeZeros 100 $ ex 100"
   ]
  },
  {
   "cell_type": "markdown",
   "metadata": {},
   "source": [
    "`sis` is an inference method which performs a step of inference at each `factor` statement in the program. In the present case, we have used it in conjunction with exact inference, but the idea generalizes naturally to approximate inference methods.\n",
    "\n",
    "To motivate this, let's examine a problem for which exact inference is no longer feasible, a non-linear state space model. Here we will make use of the *pipes* library, which offers an elegant way to represent distributions over discrete random walks as infinite streams"
   ]
  },
  {
   "cell_type": "code",
   "execution_count": 5,
   "metadata": {},
   "outputs": [],
   "source": [
    "-- how to move from one latent state to the next\n",
    "latentTransition :: MonadSample m => (Double, Double) -> m (Double, Double)\n",
    "latentTransition (x,y) = \n",
    "    liftA2 (,) (normal (x+0.5) 1) (normal (y+0.5) 1)\n",
    "\n",
    "-- a Markovian random walk starting at (0,0), with latentTransition as the kernel\n",
    "-- a Producer is an infinite stream of values\n",
    "walk :: MonadSample m => Producer (Double,Double) m r\n",
    "walk = flip P.unfoldr (0,0) $ \\s ->\n",
    "    Right <$> do\n",
    "        new <- latentTransition s\n",
    "        return (new, new)\n",
    "\n",
    "-- convert the stream to a list, taking only the first 100 steps\n",
    "toList :: Monad m => P.Producer a m () -> m [a]\n",
    "toList prod = P.fold  (\\x y -> x <> [y]) [] id (prod >-> P.take 100)\n"
   ]
  },
  {
   "cell_type": "code",
   "execution_count": 8,
   "metadata": {},
   "outputs": [],
   "source": [
    "-- generate a stream of observations by sampling a point noisily for each step in the walk\n",
    "observations = walk >-> P.mapM (\\(x,y) -> \n",
    "    do\n",
    "        x' <- normal x 2\n",
    "        y' <- normal y 2\n",
    "        return (x, y, x', y'))"
   ]
  },
  {
   "cell_type": "code",
   "execution_count": 9,
   "metadata": {},
   "outputs": [
    {
     "data": {
      "application/vnd.vegalite.v4+json": {
       "$schema": "https://vega.github.io/schema/vega-lite/v4.json",
       "data": {
        "values": [
         {
          "Outlier": "\"Latent\"",
          "X": -1.4632190584473854,
          "Y": 1.1460115674562212
         },
         {
          "Outlier": "\"Latent\"",
          "X": -1.7118276184317947,
          "Y": 1.5199498428643763
         },
         {
          "Outlier": "\"Latent\"",
          "X": -1.1451212558742327,
          "Y": 0.43325567442598056
         },
         {
          "Outlier": "\"Latent\"",
          "X": 0.09790530449735213,
          "Y": 0.09183823494208365
         },
         {
          "Outlier": "\"Latent\"",
          "X": 0.9581783158575121,
          "Y": 0.6372273839586171
         },
         {
          "Outlier": "\"Latent\"",
          "X": 2.5799803588469556,
          "Y": 0.523509451383241
         },
         {
          "Outlier": "\"Latent\"",
          "X": 3.5364105757371975,
          "Y": -0.40209772534924837
         },
         {
          "Outlier": "\"Latent\"",
          "X": 4.664932100604214,
          "Y": -2.140932642360747
         },
         {
          "Outlier": "\"Latent\"",
          "X": 2.4746963239138777,
          "Y": -0.5804564967471029
         },
         {
          "Outlier": "\"Latent\"",
          "X": 2.110229444435011,
          "Y": 1.4259142559687394
         },
         {
          "Outlier": "\"Latent\"",
          "X": 3.9634654660820057,
          "Y": 1.8981356297841037
         },
         {
          "Outlier": "\"Latent\"",
          "X": 4.69492568720881,
          "Y": 0.15677173775497621
         },
         {
          "Outlier": "\"Latent\"",
          "X": 5.875134046835195,
          "Y": 0.5537330762276659
         },
         {
          "Outlier": "\"Latent\"",
          "X": 5.991343105080134,
          "Y": 0.23003903694963534
         },
         {
          "Outlier": "\"Latent\"",
          "X": 7.828586324415983,
          "Y": 0.3099855688905947
         },
         {
          "Outlier": "\"Latent\"",
          "X": 8.637247799337462,
          "Y": 0.32972518643906573
         },
         {
          "Outlier": "\"Latent\"",
          "X": 9.429799089056653,
          "Y": 1.2004686406387626
         },
         {
          "Outlier": "\"Latent\"",
          "X": 9.955995145083149,
          "Y": 1.0710641023365364
         },
         {
          "Outlier": "\"Latent\"",
          "X": 8.961057894245952,
          "Y": 2.095054575309389
         },
         {
          "Outlier": "\"Latent\"",
          "X": 9.525714171430419,
          "Y": 3.3946910209095384
         },
         {
          "Outlier": "\"Latent\"",
          "X": 10.056149504214071,
          "Y": 3.941764888084009
         },
         {
          "Outlier": "\"Latent\"",
          "X": 10.742879558865761,
          "Y": 4.009795810182553
         },
         {
          "Outlier": "\"Latent\"",
          "X": 11.10403434697427,
          "Y": 2.7867422102933963
         },
         {
          "Outlier": "\"Latent\"",
          "X": 11.960713904173794,
          "Y": 2.0458423211435957
         },
         {
          "Outlier": "\"Latent\"",
          "X": 12.845856965497711,
          "Y": 2.069472339276387
         },
         {
          "Outlier": "\"Latent\"",
          "X": 13.515425374843076,
          "Y": 3.1675809626865705
         },
         {
          "Outlier": "\"Latent\"",
          "X": 14.003145109662707,
          "Y": 4.616807697671205
         },
         {
          "Outlier": "\"Latent\"",
          "X": 14.933163021487445,
          "Y": 6.323452975478005
         },
         {
          "Outlier": "\"Latent\"",
          "X": 14.642195760345665,
          "Y": 6.971699421070226
         },
         {
          "Outlier": "\"Latent\"",
          "X": 14.775243818496065,
          "Y": 7.205913941603486
         },
         {
          "Outlier": "\"Latent\"",
          "X": 15.773943814025744,
          "Y": 7.8796242281509095
         },
         {
          "Outlier": "\"Latent\"",
          "X": 16.46622774003378,
          "Y": 8.085796452489822
         },
         {
          "Outlier": "\"Latent\"",
          "X": 16.40876857559826,
          "Y": 7.695568806462646
         },
         {
          "Outlier": "\"Latent\"",
          "X": 17.072804858250798,
          "Y": 8.361812307996882
         },
         {
          "Outlier": "\"Latent\"",
          "X": 18.957721635080002,
          "Y": 7.243552986511533
         },
         {
          "Outlier": "\"Latent\"",
          "X": 21.27914857222183,
          "Y": 7.957316624967394
         },
         {
          "Outlier": "\"Latent\"",
          "X": 22.130363100896442,
          "Y": 8.506808830858049
         },
         {
          "Outlier": "\"Latent\"",
          "X": 22.77093465888502,
          "Y": 8.536962697132648
         },
         {
          "Outlier": "\"Latent\"",
          "X": 23.507718804789253,
          "Y": 9.03955307086803
         },
         {
          "Outlier": "\"Latent\"",
          "X": 21.854990347846474,
          "Y": 9.792338304284812
         },
         {
          "Outlier": "\"Latent\"",
          "X": 23.141717400402772,
          "Y": 10.782682280432736
         },
         {
          "Outlier": "\"Latent\"",
          "X": 23.269433524141743,
          "Y": 12.520322711011502
         },
         {
          "Outlier": "\"Latent\"",
          "X": 23.818412314122078,
          "Y": 13.121382793295346
         },
         {
          "Outlier": "\"Latent\"",
          "X": 24.537499170427317,
          "Y": 12.409977073697402
         },
         {
          "Outlier": "\"Latent\"",
          "X": 24.11641810369644,
          "Y": 11.85133114886185
         },
         {
          "Outlier": "\"Latent\"",
          "X": 24.590585697000975,
          "Y": 13.309267337721515
         },
         {
          "Outlier": "\"Latent\"",
          "X": 26.328764119133194,
          "Y": 13.726567615090897
         },
         {
          "Outlier": "\"Latent\"",
          "X": 27.220587927226052,
          "Y": 14.295563350437416
         },
         {
          "Outlier": "\"Latent\"",
          "X": 28.429975117902938,
          "Y": 15.412526141789447
         },
         {
          "Outlier": "\"Latent\"",
          "X": 28.328328865514294,
          "Y": 16.362853458729017
         },
         {
          "Outlier": "\"Latent\"",
          "X": 27.089280164867628,
          "Y": 17.35212638717457
         },
         {
          "Outlier": "\"Latent\"",
          "X": 26.242168901856726,
          "Y": 18.126488783937308
         },
         {
          "Outlier": "\"Latent\"",
          "X": 26.552623450761658,
          "Y": 17.232679047048723
         },
         {
          "Outlier": "\"Latent\"",
          "X": 27.00073737555883,
          "Y": 18.116692484780174
         },
         {
          "Outlier": "\"Latent\"",
          "X": 28.460039243781193,
          "Y": 18.87105220621511
         },
         {
          "Outlier": "\"Latent\"",
          "X": 27.91337421365696,
          "Y": 19.27894391927708
         },
         {
          "Outlier": "\"Latent\"",
          "X": 29.29898490135378,
          "Y": 19.488320247765536
         },
         {
          "Outlier": "\"Latent\"",
          "X": 28.491121548999818,
          "Y": 20.272807750280517
         },
         {
          "Outlier": "\"Latent\"",
          "X": 30.39367450911183,
          "Y": 20.802160156067767
         },
         {
          "Outlier": "\"Latent\"",
          "X": 31.6757702708152,
          "Y": 21.36911181648472
         },
         {
          "Outlier": "\"Latent\"",
          "X": 33.74759982260822,
          "Y": 20.69711986123539
         },
         {
          "Outlier": "\"Latent\"",
          "X": 34.63189322178316,
          "Y": 20.720728025011358
         },
         {
          "Outlier": "\"Latent\"",
          "X": 33.72095340440472,
          "Y": 20.18643007452745
         },
         {
          "Outlier": "\"Latent\"",
          "X": 34.062176871877654,
          "Y": 21.154543557624706
         },
         {
          "Outlier": "\"Latent\"",
          "X": 33.9848171930971,
          "Y": 20.831564989981114
         },
         {
          "Outlier": "\"Latent\"",
          "X": 35.04349980705378,
          "Y": 20.63743217750142
         },
         {
          "Outlier": "\"Latent\"",
          "X": 35.327480629872774,
          "Y": 20.477708401501026
         },
         {
          "Outlier": "\"Latent\"",
          "X": 37.20792284440542,
          "Y": 19.326738182567325
         },
         {
          "Outlier": "\"Latent\"",
          "X": 37.745210433704024,
          "Y": 20.375185659609897
         },
         {
          "Outlier": "\"Latent\"",
          "X": 38.34570792779762,
          "Y": 20.2440379874392
         },
         {
          "Outlier": "\"Latent\"",
          "X": 38.96315663662267,
          "Y": 21.827338481559668
         },
         {
          "Outlier": "\"Latent\"",
          "X": 38.938821748177446,
          "Y": 22.48932041338014
         },
         {
          "Outlier": "\"Latent\"",
          "X": 38.586660765051334,
          "Y": 24.032759905765502
         },
         {
          "Outlier": "\"Latent\"",
          "X": 39.37946081479034,
          "Y": 25.00934673042843
         },
         {
          "Outlier": "\"Latent\"",
          "X": 38.600692198851206,
          "Y": 25.133494126950534
         },
         {
          "Outlier": "\"Latent\"",
          "X": 39.869427588058,
          "Y": 27.372108339550444
         },
         {
          "Outlier": "\"Latent\"",
          "X": 40.03550317244538,
          "Y": 28.497694604719833
         },
         {
          "Outlier": "\"Latent\"",
          "X": 40.961974261437945,
          "Y": 29.90960678871004
         },
         {
          "Outlier": "\"Latent\"",
          "X": 41.83111229905103,
          "Y": 27.922721730186712
         },
         {
          "Outlier": "\"Latent\"",
          "X": 42.128431253487044,
          "Y": 29.165793778034555
         },
         {
          "Outlier": "\"Latent\"",
          "X": 42.268636065512254,
          "Y": 30.204582145083403
         },
         {
          "Outlier": "\"Latent\"",
          "X": 43.853310144993074,
          "Y": 29.765900683778092
         },
         {
          "Outlier": "\"Latent\"",
          "X": 43.14027816990447,
          "Y": 30.29704380348884
         },
         {
          "Outlier": "\"Latent\"",
          "X": 42.33178776448083,
          "Y": 30.909019576469777
         },
         {
          "Outlier": "\"Latent\"",
          "X": 43.2543632577272,
          "Y": 31.193541909053216
         },
         {
          "Outlier": "\"Latent\"",
          "X": 44.692788023961256,
          "Y": 33.739873028551365
         },
         {
          "Outlier": "\"Latent\"",
          "X": 46.853371516641204,
          "Y": 33.58590941650718
         },
         {
          "Outlier": "\"Latent\"",
          "X": 46.38726967451954,
          "Y": 33.66945743524713
         },
         {
          "Outlier": "\"Latent\"",
          "X": 48.184748103960075,
          "Y": 32.98049027724241
         },
         {
          "Outlier": "\"Latent\"",
          "X": 50.03296598020516,
          "Y": 33.33130480504601
         },
         {
          "Outlier": "\"Latent\"",
          "X": 51.7583203737318,
          "Y": 34.0298568142456
         },
         {
          "Outlier": "\"Latent\"",
          "X": 51.869491686423494,
          "Y": 34.762131083434156
         },
         {
          "Outlier": "\"Latent\"",
          "X": 53.21182084671806,
          "Y": 36.03756320732122
         },
         {
          "Outlier": "\"Latent\"",
          "X": 53.0569703422286,
          "Y": 36.5567856227276
         },
         {
          "Outlier": "\"Latent\"",
          "X": 53.96651618248842,
          "Y": 36.04564803686144
         },
         {
          "Outlier": "\"Latent\"",
          "X": 53.49559980956617,
          "Y": 38.62755233636234
         },
         {
          "Outlier": "\"Latent\"",
          "X": 52.47288863245848,
          "Y": 41.30160964811991
         },
         {
          "Outlier": "\"Latent\"",
          "X": 53.219593431089656,
          "Y": 42.35204772519747
         },
         {
          "Outlier": "\"Latent\"",
          "X": 54.536606354524736,
          "Y": 42.09247606544867
         },
         {
          "Outlier": "\"Latent\"",
          "X": 56.326281716337675,
          "Y": 44.74956246837245
         },
         {
          "Outlier": "\"Observed\"",
          "X": -3.457373233693734,
          "Y": 2.1676933681292736
         },
         {
          "Outlier": "\"Observed\"",
          "X": -1.596762804617834,
          "Y": -0.8146809498381085
         },
         {
          "Outlier": "\"Observed\"",
          "X": 1.5679080151034952,
          "Y": 1.8008730596478715
         },
         {
          "Outlier": "\"Observed\"",
          "X": -1.5954763519114201,
          "Y": 2.2636497119152996
         },
         {
          "Outlier": "\"Observed\"",
          "X": 1.8667744122819214,
          "Y": 2.9692184794331067
         },
         {
          "Outlier": "\"Observed\"",
          "X": -0.3377506261844929,
          "Y": -0.8520626333574512
         },
         {
          "Outlier": "\"Observed\"",
          "X": 5.070841805886875,
          "Y": -1.6436147914949957
         },
         {
          "Outlier": "\"Observed\"",
          "X": 4.757879567262636,
          "Y": -1.4675281258508037
         },
         {
          "Outlier": "\"Observed\"",
          "X": 3.6160626558567825,
          "Y": 0.011473109505278023
         },
         {
          "Outlier": "\"Observed\"",
          "X": 2.457902520973044,
          "Y": 1.7029339419937988
         },
         {
          "Outlier": "\"Observed\"",
          "X": 5.478559950192913,
          "Y": 1.496172701207348
         },
         {
          "Outlier": "\"Observed\"",
          "X": -0.5181631501523274,
          "Y": 0.289315437018279
         },
         {
          "Outlier": "\"Observed\"",
          "X": 1.546767517014767,
          "Y": -0.2046082412767185
         },
         {
          "Outlier": "\"Observed\"",
          "X": 5.504949910357511,
          "Y": -1.8746252430934471
         },
         {
          "Outlier": "\"Observed\"",
          "X": 8.006813001853157,
          "Y": -1.2878416538027753
         },
         {
          "Outlier": "\"Observed\"",
          "X": 9.991986845801545,
          "Y": 0.4132795536270377
         },
         {
          "Outlier": "\"Observed\"",
          "X": 8.127374845000547,
          "Y": -1.6387621593785007
         },
         {
          "Outlier": "\"Observed\"",
          "X": 10.450442920955219,
          "Y": 2.462742439015413
         },
         {
          "Outlier": "\"Observed\"",
          "X": 11.67257300736659,
          "Y": 2.49690654684082
         },
         {
          "Outlier": "\"Observed\"",
          "X": 10.624926029113439,
          "Y": 5.046319883686352
         },
         {
          "Outlier": "\"Observed\"",
          "X": 9.241599729440214,
          "Y": 3.9965623109163566
         },
         {
          "Outlier": "\"Observed\"",
          "X": 12.767542319294463,
          "Y": 3.309330647398098
         },
         {
          "Outlier": "\"Observed\"",
          "X": 10.852567919915966,
          "Y": 0.059705385951325685
         },
         {
          "Outlier": "\"Observed\"",
          "X": 7.97601524602209,
          "Y": 4.618491975833511
         },
         {
          "Outlier": "\"Observed\"",
          "X": 12.641189037224875,
          "Y": 2.557563987780942
         },
         {
          "Outlier": "\"Observed\"",
          "X": 12.13152289600009,
          "Y": 2.2152618288191475
         },
         {
          "Outlier": "\"Observed\"",
          "X": 13.74098749810523,
          "Y": 8.048868354252862
         },
         {
          "Outlier": "\"Observed\"",
          "X": 12.340053799030631,
          "Y": 6.2552197393696956
         },
         {
          "Outlier": "\"Observed\"",
          "X": 14.966200598236766,
          "Y": 6.268461059200726
         },
         {
          "Outlier": "\"Observed\"",
          "X": 14.230543142327075,
          "Y": 8.316613408335884
         },
         {
          "Outlier": "\"Observed\"",
          "X": 15.729225622934816,
          "Y": 6.626270894577559
         },
         {
          "Outlier": "\"Observed\"",
          "X": 16.010079867285228,
          "Y": 10.681491727528917
         },
         {
          "Outlier": "\"Observed\"",
          "X": 19.248510522101064,
          "Y": 9.46446705313536
         },
         {
          "Outlier": "\"Observed\"",
          "X": 17.5664863848297,
          "Y": 8.481188917288298
         },
         {
          "Outlier": "\"Observed\"",
          "X": 22.22474350410808,
          "Y": 6.255635057688289
         },
         {
          "Outlier": "\"Observed\"",
          "X": 19.968137206361224,
          "Y": 5.759321928451827
         },
         {
          "Outlier": "\"Observed\"",
          "X": 19.00345620499275,
          "Y": 7.92582020128536
         },
         {
          "Outlier": "\"Observed\"",
          "X": 18.722184307890505,
          "Y": 8.509045218989634
         },
         {
          "Outlier": "\"Observed\"",
          "X": 20.78978956959693,
          "Y": 8.952249647739501
         },
         {
          "Outlier": "\"Observed\"",
          "X": 21.432586626470115,
          "Y": 11.089353683143141
         },
         {
          "Outlier": "\"Observed\"",
          "X": 23.091038087189276,
          "Y": 11.165680839253131
         },
         {
          "Outlier": "\"Observed\"",
          "X": 23.751843479349436,
          "Y": 12.21800810822678
         },
         {
          "Outlier": "\"Observed\"",
          "X": 24.35656897070762,
          "Y": 13.084810134719257
         },
         {
          "Outlier": "\"Observed\"",
          "X": 26.301223907016908,
          "Y": 10.969321385709458
         },
         {
          "Outlier": "\"Observed\"",
          "X": 20.442930536491442,
          "Y": 17.08600624416202
         },
         {
          "Outlier": "\"Observed\"",
          "X": 23.252958470823373,
          "Y": 11.381130164783333
         },
         {
          "Outlier": "\"Observed\"",
          "X": 26.21500158022951,
          "Y": 11.875929419287258
         },
         {
          "Outlier": "\"Observed\"",
          "X": 28.88769461067691,
          "Y": 14.074025174169586
         },
         {
          "Outlier": "\"Observed\"",
          "X": 29.36700185807929,
          "Y": 10.62890611778505
         },
         {
          "Outlier": "\"Observed\"",
          "X": 32.171579079931156,
          "Y": 17.33407663145257
         },
         {
          "Outlier": "\"Observed\"",
          "X": 27.279460353993095,
          "Y": 19.47750772042987
         },
         {
          "Outlier": "\"Observed\"",
          "X": 27.222168307399784,
          "Y": 17.875050025850978
         },
         {
          "Outlier": "\"Observed\"",
          "X": 26.720723880392097,
          "Y": 19.91579225768359
         },
         {
          "Outlier": "\"Observed\"",
          "X": 26.055158064802814,
          "Y": 17.837285789014967
         },
         {
          "Outlier": "\"Observed\"",
          "X": 26.763096729501015,
          "Y": 19.06958100163662
         },
         {
          "Outlier": "\"Observed\"",
          "X": 24.55325162277175,
          "Y": 18.0200662580322
         },
         {
          "Outlier": "\"Observed\"",
          "X": 30.164005000684117,
          "Y": 14.368276577779149
         },
         {
          "Outlier": "\"Observed\"",
          "X": 25.677799552779934,
          "Y": 20.879296190580927
         },
         {
          "Outlier": "\"Observed\"",
          "X": 27.058285291464806,
          "Y": 21.207339823198506
         },
         {
          "Outlier": "\"Observed\"",
          "X": 33.08078564793947,
          "Y": 22.512345371366656
         },
         {
          "Outlier": "\"Observed\"",
          "X": 34.80890312177263,
          "Y": 21.26728316802315
         },
         {
          "Outlier": "\"Observed\"",
          "X": 35.488017496287355,
          "Y": 18.413506153660435
         },
         {
          "Outlier": "\"Observed\"",
          "X": 36.86358392528899,
          "Y": 21.243006140669394
         },
         {
          "Outlier": "\"Observed\"",
          "X": 31.705781132421784,
          "Y": 17.17957972193519
         },
         {
          "Outlier": "\"Observed\"",
          "X": 33.35077057650528,
          "Y": 22.656032730126615
         },
         {
          "Outlier": "\"Observed\"",
          "X": 37.22627187241434,
          "Y": 22.948917209335686
         },
         {
          "Outlier": "\"Observed\"",
          "X": 36.4178639767823,
          "Y": 20.693855139457195
         },
         {
          "Outlier": "\"Observed\"",
          "X": 39.97755130327829,
          "Y": 17.080710911082456
         },
         {
          "Outlier": "\"Observed\"",
          "X": 36.8359359360504,
          "Y": 20.566500669482394
         },
         {
          "Outlier": "\"Observed\"",
          "X": 36.886174165102716,
          "Y": 20.75940643285071
         },
         {
          "Outlier": "\"Observed\"",
          "X": 36.745422832699035,
          "Y": 24.111394621800375
         },
         {
          "Outlier": "\"Observed\"",
          "X": 36.23501436068324,
          "Y": 23.16015848668708
         },
         {
          "Outlier": "\"Observed\"",
          "X": 37.42867466137765,
          "Y": 23.39309756597309
         },
         {
          "Outlier": "\"Observed\"",
          "X": 39.279706473644865,
          "Y": 23.296242986699607
         },
         {
          "Outlier": "\"Observed\"",
          "X": 36.92618313340385,
          "Y": 26.14916519443167
         },
         {
          "Outlier": "\"Observed\"",
          "X": 39.80800482281048,
          "Y": 30.434083072746382
         },
         {
          "Outlier": "\"Observed\"",
          "X": 42.28932723757662,
          "Y": 28.781791260144786
         },
         {
          "Outlier": "\"Observed\"",
          "X": 44.87956859906272,
          "Y": 31.727269257821767
         },
         {
          "Outlier": "\"Observed\"",
          "X": 42.543561390766506,
          "Y": 30.048221160135306
         },
         {
          "Outlier": "\"Observed\"",
          "X": 40.94762392606424,
          "Y": 26.111260410662148
         },
         {
          "Outlier": "\"Observed\"",
          "X": 44.06645751550397,
          "Y": 30.022962850737233
         },
         {
          "Outlier": "\"Observed\"",
          "X": 45.46245003328674,
          "Y": 31.798878086186686
         },
         {
          "Outlier": "\"Observed\"",
          "X": 43.906942428759386,
          "Y": 30.162333116921126
         },
         {
          "Outlier": "\"Observed\"",
          "X": 43.46439195314401,
          "Y": 31.12343447733773
         },
         {
          "Outlier": "\"Observed\"",
          "X": 43.285893043539275,
          "Y": 30.16769226734804
         },
         {
          "Outlier": "\"Observed\"",
          "X": 42.702260845188945,
          "Y": 32.74159432483092
         },
         {
          "Outlier": "\"Observed\"",
          "X": 45.94584072161097,
          "Y": 31.970403830905084
         },
         {
          "Outlier": "\"Observed\"",
          "X": 48.03117775398326,
          "Y": 37.49915783116145
         },
         {
          "Outlier": "\"Observed\"",
          "X": 49.930808932190985,
          "Y": 34.38015875382442
         },
         {
          "Outlier": "\"Observed\"",
          "X": 48.023695835501236,
          "Y": 34.93947742725857
         },
         {
          "Outlier": "\"Observed\"",
          "X": 52.925803493714355,
          "Y": 32.18068144838258
         },
         {
          "Outlier": "\"Observed\"",
          "X": 52.1588019355322,
          "Y": 35.01291447986408
         },
         {
          "Outlier": "\"Observed\"",
          "X": 52.095605647121,
          "Y": 35.141023284781355
         },
         {
          "Outlier": "\"Observed\"",
          "X": 54.42899043770887,
          "Y": 35.672690332335776
         },
         {
          "Outlier": "\"Observed\"",
          "X": 51.019079042571406,
          "Y": 33.95511313844912
         },
         {
          "Outlier": "\"Observed\"",
          "X": 54.2916332829569,
          "Y": 38.9422663196189
         },
         {
          "Outlier": "\"Observed\"",
          "X": 53.417086292133675,
          "Y": 40.11483161993748
         },
         {
          "Outlier": "\"Observed\"",
          "X": 52.71179719248994,
          "Y": 43.758908411451124
         },
         {
          "Outlier": "\"Observed\"",
          "X": 61.21576872345641,
          "Y": 40.6943935057751
         },
         {
          "Outlier": "\"Observed\"",
          "X": 54.8125776902257,
          "Y": 44.4690018625216
         }
        ]
       },
       "encoding": {
        "color": {
         "field": "Outlier"
        },
        "x": {
         "field": "X",
         "type": "quantitative"
        },
        "y": {
         "field": "Y",
         "type": "quantitative"
        }
       },
       "height": 400,
       "mark": "circle",
       "width": 400
      },
      "image/png": "[encoded data removed]"
     },
     "metadata": {},
     "output_type": "display_data"
    }
   ],
   "source": [
    "(xs, ys, xs', ys') <- sampleIOfixed $ unzip4 <$> toList observations\n",
    "\n",
    "plotVega \n",
    "    (zip (zip (xs <> xs') (ys <> ys')) \n",
    "    (replicate 100 (T.pack \"Latent\") <> replicate 100 (T.pack \"Observed\")))"
   ]
  },
  {
   "cell_type": "markdown",
   "metadata": {},
   "source": [
    "We now have a dataset, as shown by the orange dots. The goal is to infer the positions of the actual random walk (the true values that generated the dataset are shown in blue)."
   ]
  },
  {
   "cell_type": "code",
   "execution_count": 10,
   "metadata": {},
   "outputs": [],
   "source": [
    "-- take the original random walk as a prior and condition on the observations\n",
    "-- to obtain a posterior random walk\n",
    "conditioning :: (MonadSample m, MonadCond m) => P.Producer (Double,Double) m ()\n",
    "conditioning = \n",
    "    P.zip walk (P.each (zip xs' ys')) \n",
    "    >-> P.chain (\\((x,y), (x',y')) -> factor (normalPdf x 2 x' * normalPdf y 2 y' ))\n",
    "    >-> P.map fst \n",
    "\n",
    "model :: MonadInfer m => m [(Double,Double)]\n",
    "model = toList conditioning"
   ]
  },
  {
   "cell_type": "markdown",
   "metadata": {},
   "source": [
    "`model` is the distribution we want to perform inference on.\n",
    "\n",
    "The intuition of the problem is that we need to guess the whole path, by taking into account not just the observation at each timestep, but the relation (expressed in the prior) of the inferred position at that timestep to the previous and subsequent ones.\n",
    "\n",
    "To perform approximate inference here, we can represent a distribution as a *population* of weighted samples, and at each factor statement, do a resampling operation to keep the population \"healthy\". This is **Sequential Monte Carlo**. \n",
    "\n",
    "<!-- The algorithm creates a population of $n$ samples (initially weighted equally) and updates them at each factor statement. The update is defined by `smcMultinomial`, which samples new samples from the empirical distribution defined by the population. More sophisticated resamplers are available, including `smcSystematic` (see TODO) -->"
   ]
  },
  {
   "cell_type": "code",
   "execution_count": 11,
   "metadata": {},
   "outputs": [
    {
     "data": {
      "text/plain": []
     },
     "metadata": {},
     "output_type": "display_data"
    }
   ],
   "source": [
    "smcRes <- sampleIOfixed $ runPopulation $ smcMultinomial 100 1000 model"
   ]
  },
  {
   "cell_type": "code",
   "execution_count": 12,
   "metadata": {},
   "outputs": [
    {
     "data": {
      "application/vnd.vegalite.v4+json": {
       "$schema": "https://vega.github.io/schema/vega-lite/v4.json",
       "data": {
        "values": [
         {
          "Outlier": "\"Inferred\"",
          "X": -1.4632190584473854,
          "Y": 1.1460115674562212
         },
         {
          "Outlier": "\"Inferred\"",
          "X": -1.7118276184317947,
          "Y": 1.5199498428643763
         },
         {
          "Outlier": "\"Inferred\"",
          "X": -1.1451212558742327,
          "Y": 0.43325567442598056
         },
         {
          "Outlier": "\"Inferred\"",
          "X": 0.09790530449735213,
          "Y": 0.09183823494208365
         },
         {
          "Outlier": "\"Inferred\"",
          "X": 0.9581783158575121,
          "Y": 0.6372273839586171
         },
         {
          "Outlier": "\"Inferred\"",
          "X": 2.5799803588469556,
          "Y": 0.523509451383241
         },
         {
          "Outlier": "\"Inferred\"",
          "X": 3.5364105757371975,
          "Y": -0.40209772534924837
         },
         {
          "Outlier": "\"Inferred\"",
          "X": 4.664932100604214,
          "Y": -2.140932642360747
         },
         {
          "Outlier": "\"Inferred\"",
          "X": 2.4746963239138777,
          "Y": -0.5804564967471029
         },
         {
          "Outlier": "\"Inferred\"",
          "X": 2.110229444435011,
          "Y": 1.4259142559687394
         },
         {
          "Outlier": "\"Inferred\"",
          "X": 3.9634654660820057,
          "Y": 1.8981356297841037
         },
         {
          "Outlier": "\"Inferred\"",
          "X": 4.69492568720881,
          "Y": 0.15677173775497621
         },
         {
          "Outlier": "\"Inferred\"",
          "X": 5.875134046835195,
          "Y": 0.5537330762276659
         },
         {
          "Outlier": "\"Inferred\"",
          "X": 5.991343105080134,
          "Y": 0.23003903694963534
         },
         {
          "Outlier": "\"Inferred\"",
          "X": 7.828586324415983,
          "Y": 0.3099855688905947
         },
         {
          "Outlier": "\"Inferred\"",
          "X": 8.637247799337462,
          "Y": 0.32972518643906573
         },
         {
          "Outlier": "\"Inferred\"",
          "X": 9.429799089056653,
          "Y": 1.2004686406387626
         },
         {
          "Outlier": "\"Inferred\"",
          "X": 9.955995145083149,
          "Y": 1.0710641023365364
         },
         {
          "Outlier": "\"Inferred\"",
          "X": 8.961057894245952,
          "Y": 2.095054575309389
         },
         {
          "Outlier": "\"Inferred\"",
          "X": 9.525714171430419,
          "Y": 3.3946910209095384
         },
         {
          "Outlier": "\"Inferred\"",
          "X": 10.056149504214071,
          "Y": 3.941764888084009
         },
         {
          "Outlier": "\"Inferred\"",
          "X": 10.742879558865761,
          "Y": 4.009795810182553
         },
         {
          "Outlier": "\"Inferred\"",
          "X": 11.10403434697427,
          "Y": 2.7867422102933963
         },
         {
          "Outlier": "\"Inferred\"",
          "X": 11.960713904173794,
          "Y": 2.0458423211435957
         },
         {
          "Outlier": "\"Inferred\"",
          "X": 12.845856965497711,
          "Y": 2.069472339276387
         },
         {
          "Outlier": "\"Inferred\"",
          "X": 13.515425374843076,
          "Y": 3.1675809626865705
         },
         {
          "Outlier": "\"Inferred\"",
          "X": 14.003145109662707,
          "Y": 4.616807697671205
         },
         {
          "Outlier": "\"Inferred\"",
          "X": 14.933163021487445,
          "Y": 6.323452975478005
         },
         {
          "Outlier": "\"Inferred\"",
          "X": 14.642195760345665,
          "Y": 6.971699421070226
         },
         {
          "Outlier": "\"Inferred\"",
          "X": 14.775243818496065,
          "Y": 7.205913941603486
         },
         {
          "Outlier": "\"Inferred\"",
          "X": 15.773943814025744,
          "Y": 7.8796242281509095
         },
         {
          "Outlier": "\"Inferred\"",
          "X": 16.46622774003378,
          "Y": 8.085796452489822
         },
         {
          "Outlier": "\"Inferred\"",
          "X": 16.40876857559826,
          "Y": 7.695568806462646
         },
         {
          "Outlier": "\"Inferred\"",
          "X": 17.072804858250798,
          "Y": 8.361812307996882
         },
         {
          "Outlier": "\"Inferred\"",
          "X": 18.957721635080002,
          "Y": 7.243552986511533
         },
         {
          "Outlier": "\"Inferred\"",
          "X": 21.27914857222183,
          "Y": 7.957316624967394
         },
         {
          "Outlier": "\"Inferred\"",
          "X": 22.130363100896442,
          "Y": 8.506808830858049
         },
         {
          "Outlier": "\"Inferred\"",
          "X": 22.77093465888502,
          "Y": 8.536962697132648
         },
         {
          "Outlier": "\"Inferred\"",
          "X": 23.507718804789253,
          "Y": 9.03955307086803
         },
         {
          "Outlier": "\"Inferred\"",
          "X": 21.854990347846474,
          "Y": 9.792338304284812
         },
         {
          "Outlier": "\"Inferred\"",
          "X": 23.141717400402772,
          "Y": 10.782682280432736
         },
         {
          "Outlier": "\"Inferred\"",
          "X": 23.269433524141743,
          "Y": 12.520322711011502
         },
         {
          "Outlier": "\"Inferred\"",
          "X": 23.818412314122078,
          "Y": 13.121382793295346
         },
         {
          "Outlier": "\"Inferred\"",
          "X": 24.537499170427317,
          "Y": 12.409977073697402
         },
         {
          "Outlier": "\"Inferred\"",
          "X": 24.11641810369644,
          "Y": 11.85133114886185
         },
         {
          "Outlier": "\"Inferred\"",
          "X": 24.590585697000975,
          "Y": 13.309267337721515
         },
         {
          "Outlier": "\"Inferred\"",
          "X": 26.328764119133194,
          "Y": 13.726567615090897
         },
         {
          "Outlier": "\"Inferred\"",
          "X": 27.220587927226052,
          "Y": 14.295563350437416
         },
         {
          "Outlier": "\"Inferred\"",
          "X": 28.429975117902938,
          "Y": 15.412526141789447
         },
         {
          "Outlier": "\"Inferred\"",
          "X": 28.328328865514294,
          "Y": 16.362853458729017
         },
         {
          "Outlier": "\"Inferred\"",
          "X": 27.089280164867628,
          "Y": 17.35212638717457
         },
         {
          "Outlier": "\"Inferred\"",
          "X": 26.242168901856726,
          "Y": 18.126488783937308
         },
         {
          "Outlier": "\"Inferred\"",
          "X": 26.552623450761658,
          "Y": 17.232679047048723
         },
         {
          "Outlier": "\"Inferred\"",
          "X": 27.00073737555883,
          "Y": 18.116692484780174
         },
         {
          "Outlier": "\"Inferred\"",
          "X": 28.460039243781193,
          "Y": 18.87105220621511
         },
         {
          "Outlier": "\"Inferred\"",
          "X": 27.91337421365696,
          "Y": 19.27894391927708
         },
         {
          "Outlier": "\"Inferred\"",
          "X": 29.29898490135378,
          "Y": 19.488320247765536
         },
         {
          "Outlier": "\"Inferred\"",
          "X": 28.491121548999818,
          "Y": 20.272807750280517
         },
         {
          "Outlier": "\"Inferred\"",
          "X": 30.39367450911183,
          "Y": 20.802160156067767
         },
         {
          "Outlier": "\"Inferred\"",
          "X": 31.6757702708152,
          "Y": 21.36911181648472
         },
         {
          "Outlier": "\"Inferred\"",
          "X": 33.74759982260822,
          "Y": 20.69711986123539
         },
         {
          "Outlier": "\"Inferred\"",
          "X": 34.63189322178316,
          "Y": 20.720728025011358
         },
         {
          "Outlier": "\"Inferred\"",
          "X": 33.72095340440472,
          "Y": 20.18643007452745
         },
         {
          "Outlier": "\"Inferred\"",
          "X": 34.062176871877654,
          "Y": 21.154543557624706
         },
         {
          "Outlier": "\"Inferred\"",
          "X": 33.9848171930971,
          "Y": 20.831564989981114
         },
         {
          "Outlier": "\"Inferred\"",
          "X": 35.04349980705378,
          "Y": 20.63743217750142
         },
         {
          "Outlier": "\"Inferred\"",
          "X": 35.327480629872774,
          "Y": 20.477708401501026
         },
         {
          "Outlier": "\"Inferred\"",
          "X": 37.20792284440542,
          "Y": 19.326738182567325
         },
         {
          "Outlier": "\"Inferred\"",
          "X": 37.745210433704024,
          "Y": 20.375185659609897
         },
         {
          "Outlier": "\"Inferred\"",
          "X": 38.34570792779762,
          "Y": 20.2440379874392
         },
         {
          "Outlier": "\"Inferred\"",
          "X": 38.96315663662267,
          "Y": 21.827338481559668
         },
         {
          "Outlier": "\"Inferred\"",
          "X": 38.938821748177446,
          "Y": 22.48932041338014
         },
         {
          "Outlier": "\"Inferred\"",
          "X": 38.586660765051334,
          "Y": 24.032759905765502
         },
         {
          "Outlier": "\"Inferred\"",
          "X": 39.37946081479034,
          "Y": 25.00934673042843
         },
         {
          "Outlier": "\"Inferred\"",
          "X": 38.600692198851206,
          "Y": 25.133494126950534
         },
         {
          "Outlier": "\"Inferred\"",
          "X": 39.869427588058,
          "Y": 27.372108339550444
         },
         {
          "Outlier": "\"Inferred\"",
          "X": 40.03550317244538,
          "Y": 28.497694604719833
         },
         {
          "Outlier": "\"Inferred\"",
          "X": 40.961974261437945,
          "Y": 29.90960678871004
         },
         {
          "Outlier": "\"Inferred\"",
          "X": 41.83111229905103,
          "Y": 27.922721730186712
         },
         {
          "Outlier": "\"Inferred\"",
          "X": 42.128431253487044,
          "Y": 29.165793778034555
         },
         {
          "Outlier": "\"Inferred\"",
          "X": 42.268636065512254,
          "Y": 30.204582145083403
         },
         {
          "Outlier": "\"Inferred\"",
          "X": 43.853310144993074,
          "Y": 29.765900683778092
         },
         {
          "Outlier": "\"Inferred\"",
          "X": 43.14027816990447,
          "Y": 30.29704380348884
         },
         {
          "Outlier": "\"Inferred\"",
          "X": 42.33178776448083,
          "Y": 30.909019576469777
         },
         {
          "Outlier": "\"Inferred\"",
          "X": 43.2543632577272,
          "Y": 31.193541909053216
         },
         {
          "Outlier": "\"Inferred\"",
          "X": 44.692788023961256,
          "Y": 33.739873028551365
         },
         {
          "Outlier": "\"Inferred\"",
          "X": 46.853371516641204,
          "Y": 33.58590941650718
         },
         {
          "Outlier": "\"Inferred\"",
          "X": 46.38726967451954,
          "Y": 33.66945743524713
         },
         {
          "Outlier": "\"Inferred\"",
          "X": 48.184748103960075,
          "Y": 32.98049027724241
         },
         {
          "Outlier": "\"Inferred\"",
          "X": 50.03296598020516,
          "Y": 33.33130480504601
         },
         {
          "Outlier": "\"Inferred\"",
          "X": 51.7583203737318,
          "Y": 34.0298568142456
         },
         {
          "Outlier": "\"Inferred\"",
          "X": 51.869491686423494,
          "Y": 34.762131083434156
         },
         {
          "Outlier": "\"Inferred\"",
          "X": 53.21182084671806,
          "Y": 36.03756320732122
         },
         {
          "Outlier": "\"Inferred\"",
          "X": 53.0569703422286,
          "Y": 36.5567856227276
         },
         {
          "Outlier": "\"Inferred\"",
          "X": 53.96651618248842,
          "Y": 36.04564803686144
         },
         {
          "Outlier": "\"Inferred\"",
          "X": 53.49559980956617,
          "Y": 38.62755233636234
         },
         {
          "Outlier": "\"Inferred\"",
          "X": 52.47288863245848,
          "Y": 41.30160964811991
         },
         {
          "Outlier": "\"Inferred\"",
          "X": 53.219593431089656,
          "Y": 42.35204772519747
         },
         {
          "Outlier": "\"Inferred\"",
          "X": 54.536606354524736,
          "Y": 42.09247606544867
         },
         {
          "Outlier": "\"Inferred\"",
          "X": 56.326281716337675,
          "Y": 44.74956246837245
         },
         {
          "Outlier": "\"Latent\"",
          "X": -0.15485050448946147,
          "Y": 0.5192224154063854
         },
         {
          "Outlier": "\"Latent\"",
          "X": 0.20877701451664038,
          "Y": 0.3877720823865396
         },
         {
          "Outlier": "\"Latent\"",
          "X": 1.692828468637554,
          "Y": 1.337740920891024
         },
         {
          "Outlier": "\"Latent\"",
          "X": 0.9226085726037689,
          "Y": 1.0961283041510341
         },
         {
          "Outlier": "\"Latent\"",
          "X": 1.4065014084481313,
          "Y": 1.2581738253419923
         },
         {
          "Outlier": "\"Latent\"",
          "X": 0.5720479543262396,
          "Y": -0.34552083844315806
         },
         {
          "Outlier": "\"Latent\"",
          "X": 1.1434266385201053,
          "Y": -1.9743148869912996
         },
         {
          "Outlier": "\"Latent\"",
          "X": 2.860718033741131,
          "Y": -1.7245947443301706
         },
         {
          "Outlier": "\"Latent\"",
          "X": 3.0151196836665166,
          "Y": -0.9905227240740396
         },
         {
          "Outlier": "\"Latent\"",
          "X": 3.1258993721159256,
          "Y": 0.016420891710130836
         },
         {
          "Outlier": "\"Latent\"",
          "X": 4.174470144734055,
          "Y": -1.283898249366684
         },
         {
          "Outlier": "\"Latent\"",
          "X": 2.642694322661255,
          "Y": 0.1180399449597258
         },
         {
          "Outlier": "\"Latent\"",
          "X": 2.0837421588425484,
          "Y": -0.6811495725767909
         },
         {
          "Outlier": "\"Latent\"",
          "X": 3.420364128601139,
          "Y": -0.937728839884423
         },
         {
          "Outlier": "\"Latent\"",
          "X": 5.398265564882923,
          "Y": 0.8761631410378399
         },
         {
          "Outlier": "\"Latent\"",
          "X": 7.542759548163718,
          "Y": 1.0353754032411988
         },
         {
          "Outlier": "\"Latent\"",
          "X": 7.272893325039226,
          "Y": 1.339090598531807
         },
         {
          "Outlier": "\"Latent\"",
          "X": 7.12926102205598,
          "Y": 1.2625725265507062
         },
         {
          "Outlier": "\"Latent\"",
          "X": 8.903507072677243,
          "Y": 2.3670258471538386
         },
         {
          "Outlier": "\"Latent\"",
          "X": 10.258024954012459,
          "Y": 1.9088118380767307
         },
         {
          "Outlier": "\"Latent\"",
          "X": 10.264809181713105,
          "Y": 2.5678882492098647
         },
         {
          "Outlier": "\"Latent\"",
          "X": 10.402729942359723,
          "Y": 3.7828950780625163
         },
         {
          "Outlier": "\"Latent\"",
          "X": 9.534476529249178,
          "Y": 4.056085540519516
         },
         {
          "Outlier": "\"Latent\"",
          "X": 10.443098603247615,
          "Y": 4.041391382064959
         },
         {
          "Outlier": "\"Latent\"",
          "X": 10.575828603079655,
          "Y": 4.256459587013623
         },
         {
          "Outlier": "\"Latent\"",
          "X": 12.525568623506787,
          "Y": 4.709160518791046
         },
         {
          "Outlier": "\"Latent\"",
          "X": 12.501758570604443,
          "Y": 6.188852490734929
         },
         {
          "Outlier": "\"Latent\"",
          "X": 12.908853993768284,
          "Y": 7.068503579557171
         },
         {
          "Outlier": "\"Latent\"",
          "X": 12.896778748592746,
          "Y": 7.036074213705945
         },
         {
          "Outlier": "\"Latent\"",
          "X": 14.007095840444844,
          "Y": 7.952002548509883
         },
         {
          "Outlier": "\"Latent\"",
          "X": 15.107210285785428,
          "Y": 8.810886729953783
         },
         {
          "Outlier": "\"Latent\"",
          "X": 16.66323427816041,
          "Y": 8.91417602081839
         },
         {
          "Outlier": "\"Latent\"",
          "X": 18.594435310687786,
          "Y": 8.844519409527978
         },
         {
          "Outlier": "\"Latent\"",
          "X": 18.788487563817657,
          "Y": 9.229868154549983
         },
         {
          "Outlier": "\"Latent\"",
          "X": 20.274256911649438,
          "Y": 8.318425429176976
         },
         {
          "Outlier": "\"Latent\"",
          "X": 19.26701810300478,
          "Y": 6.975245917618231
         },
         {
          "Outlier": "\"Latent\"",
          "X": 20.85278557642299,
          "Y": 7.139203983755515
         },
         {
          "Outlier": "\"Latent\"",
          "X": 20.86557596281431,
          "Y": 8.679031028146182
         },
         {
          "Outlier": "\"Latent\"",
          "X": 21.439159195539293,
          "Y": 10.30886859450059
         },
         {
          "Outlier": "\"Latent\"",
          "X": 22.437015970770258,
          "Y": 11.975239863076142
         },
         {
          "Outlier": "\"Latent\"",
          "X": 23.746149710630196,
          "Y": 11.791138971962448
         },
         {
          "Outlier": "\"Latent\"",
          "X": 24.992649773389534,
          "Y": 11.307564773209869
         },
         {
          "Outlier": "\"Latent\"",
          "X": 24.068689330853623,
          "Y": 11.59355737828657
         },
         {
          "Outlier": "\"Latent\"",
          "X": 23.93931293289668,
          "Y": 12.095206803114923
         },
         {
          "Outlier": "\"Latent\"",
          "X": 22.50052705983411,
          "Y": 12.342866296362738
         },
         {
          "Outlier": "\"Latent\"",
          "X": 23.12684605225813,
          "Y": 12.496154267558365
         },
         {
          "Outlier": "\"Latent\"",
          "X": 26.029035256207898,
          "Y": 14.169022843930783
         },
         {
          "Outlier": "\"Latent\"",
          "X": 25.732346014620028,
          "Y": 14.365159926830254
         },
         {
          "Outlier": "\"Latent\"",
          "X": 26.62881746261056,
          "Y": 15.15385097309924
         },
         {
          "Outlier": "\"Latent\"",
          "X": 27.892551142173872,
          "Y": 16.247398113120205
         },
         {
          "Outlier": "\"Latent\"",
          "X": 28.904269964054293,
          "Y": 18.470686346216322
         },
         {
          "Outlier": "\"Latent\"",
          "X": 28.65307793329421,
          "Y": 18.435637128120742
         },
         {
          "Outlier": "\"Latent\"",
          "X": 28.42259466667834,
          "Y": 19.81266396121488
         },
         {
          "Outlier": "\"Latent\"",
          "X": 27.793031117702903,
          "Y": 20.355520866185866
         },
         {
          "Outlier": "\"Latent\"",
          "X": 28.662595318607448,
          "Y": 20.290635571749043
         },
         {
          "Outlier": "\"Latent\"",
          "X": 28.212893538492434,
          "Y": 18.619815957497757
         },
         {
          "Outlier": "\"Latent\"",
          "X": 30.086655924409527,
          "Y": 18.155409077284112
         },
         {
          "Outlier": "\"Latent\"",
          "X": 29.980741574635193,
          "Y": 19.36637279434363
         },
         {
          "Outlier": "\"Latent\"",
          "X": 30.081344142404262,
          "Y": 20.30158890342755
         },
         {
          "Outlier": "\"Latent\"",
          "X": 31.915312622054962,
          "Y": 21.60724708732979
         },
         {
          "Outlier": "\"Latent\"",
          "X": 32.33723421418429,
          "Y": 20.360287163807513
         },
         {
          "Outlier": "\"Latent\"",
          "X": 32.737580194768334,
          "Y": 19.83305901801597
         },
         {
          "Outlier": "\"Latent\"",
          "X": 34.4791429031613,
          "Y": 19.8495077720813
         },
         {
          "Outlier": "\"Latent\"",
          "X": 34.81894484236124,
          "Y": 20.490594043131107
         },
         {
          "Outlier": "\"Latent\"",
          "X": 35.605509664394184,
          "Y": 19.81570224427518
         },
         {
          "Outlier": "\"Latent\"",
          "X": 36.62601359232842,
          "Y": 21.41180361953247
         },
         {
          "Outlier": "\"Latent\"",
          "X": 38.086736100626965,
          "Y": 21.046559044324205
         },
         {
          "Outlier": "\"Latent\"",
          "X": 38.031153755230974,
          "Y": 20.624847634451257
         },
         {
          "Outlier": "\"Latent\"",
          "X": 37.40568067154031,
          "Y": 20.32555561740309
         },
         {
          "Outlier": "\"Latent\"",
          "X": 38.52176568383441,
          "Y": 20.312801905957958
         },
         {
          "Outlier": "\"Latent\"",
          "X": 38.07714453820536,
          "Y": 21.189233124204492
         },
         {
          "Outlier": "\"Latent\"",
          "X": 37.25479078390178,
          "Y": 22.21872377055547
         },
         {
          "Outlier": "\"Latent\"",
          "X": 37.06581669132819,
          "Y": 22.296486912005445
         },
         {
          "Outlier": "\"Latent\"",
          "X": 36.945589175901105,
          "Y": 24.444208821809355
         },
         {
          "Outlier": "\"Latent\"",
          "X": 38.79612728553506,
          "Y": 25.95553900066153
         },
         {
          "Outlier": "\"Latent\"",
          "X": 39.694043746578394,
          "Y": 26.671269885586053
         },
         {
          "Outlier": "\"Latent\"",
          "X": 43.57869638815628,
          "Y": 27.719320393248278
         },
         {
          "Outlier": "\"Latent\"",
          "X": 44.70556903731132,
          "Y": 29.243620755285303
         },
         {
          "Outlier": "\"Latent\"",
          "X": 43.48592893192657,
          "Y": 30.149235545726498
         },
         {
          "Outlier": "\"Latent\"",
          "X": 43.40550023083997,
          "Y": 30.428834972510053
         },
         {
          "Outlier": "\"Latent\"",
          "X": 43.24295884468481,
          "Y": 31.064210765426623
         },
         {
          "Outlier": "\"Latent\"",
          "X": 43.72044358001065,
          "Y": 30.435064076822176
         },
         {
          "Outlier": "\"Latent\"",
          "X": 43.13654296064837,
          "Y": 30.076320098117495
         },
         {
          "Outlier": "\"Latent\"",
          "X": 43.38145049537382,
          "Y": 29.885394460646815
         },
         {
          "Outlier": "\"Latent\"",
          "X": 44.128758038352885,
          "Y": 30.220121653989864
         },
         {
          "Outlier": "\"Latent\"",
          "X": 44.44322670725832,
          "Y": 32.00747095799907
         },
         {
          "Outlier": "\"Latent\"",
          "X": 45.833424682193446,
          "Y": 33.60451602746997
         },
         {
          "Outlier": "\"Latent\"",
          "X": 46.7124471763939,
          "Y": 33.42363483971286
         },
         {
          "Outlier": "\"Latent\"",
          "X": 48.41156970302834,
          "Y": 34.40901459744654
         },
         {
          "Outlier": "\"Latent\"",
          "X": 48.9700829851514,
          "Y": 35.534936322337636
         },
         {
          "Outlier": "\"Latent\"",
          "X": 49.165091388659874,
          "Y": 35.17097845677524
         },
         {
          "Outlier": "\"Latent\"",
          "X": 49.80610037278387,
          "Y": 35.02965897081776
         },
         {
          "Outlier": "\"Latent\"",
          "X": 52.20309433125194,
          "Y": 35.79345423851221
         },
         {
          "Outlier": "\"Latent\"",
          "X": 53.497148618447476,
          "Y": 35.71066532797482
         },
         {
          "Outlier": "\"Latent\"",
          "X": 51.788904805569004,
          "Y": 36.666187489495634
         },
         {
          "Outlier": "\"Latent\"",
          "X": 52.93190868351409,
          "Y": 37.08434527241832
         },
         {
          "Outlier": "\"Latent\"",
          "X": 53.4980100778265,
          "Y": 39.000665993236666
         },
         {
          "Outlier": "\"Latent\"",
          "X": 54.034692561436046,
          "Y": 40.48808870649224
         },
         {
          "Outlier": "\"Latent\"",
          "X": 54.99615069371106,
          "Y": 41.231119155064
         },
         {
          "Outlier": "\"Latent\"",
          "X": 55.28130705401214,
          "Y": 42.43357034529224
         }
        ]
       },
       "encoding": {
        "color": {
         "field": "Outlier"
        },
        "x": {
         "field": "X",
         "type": "quantitative"
        },
        "y": {
         "field": "Y",
         "type": "quantitative"
        }
       },
       "height": 400,
       "mark": "circle",
       "width": 400
      },
      "image/png": "[encoded data removed]"
     },
     "metadata": {},
     "output_type": "display_data"
    }
   ],
   "source": [
    "(inferredXs, inferredYs) = unzip $ fst =<< smcRes\n",
    "\n",
    "plotVega \n",
    "    (zip (zip (xs <> inferredXs) (ys <> inferredYs)) \n",
    "    (replicate 100 (T.pack \"Inferred\") <> replicate 100 (T.pack \"Latent\")))"
   ]
  },
  {
   "cell_type": "markdown",
   "metadata": {},
   "source": [
    "We can see here that `SMC` has done an ok job.\n",
    "\n",
    "The intuition of how SMC does well is that it is searching the space of solutions with some backtracking (because it has a whole population of guesses to rely on), and moreover, this search results in unbiased sampling from the distribution of interest. So if it makes a series of guesses the leads it astray, it can throw away this possiblity at a later stage. "
   ]
  },
  {
   "cell_type": "code",
   "execution_count": null,
   "metadata": {},
   "outputs": [],
   "source": []
  },
  {
   "cell_type": "code",
   "execution_count": 33,
   "metadata": {},
   "outputs": [],
   "source": [
    "-- import Control.Monad.IO.Class\n",
    "-- import Control.Monad.Bayes.Sequential\n",
    "-- import Numeric.Log\n",
    "-- import Control.Monad.Identity\n",
    "\n",
    "-- resampleMultinomialWithTrace x = fromWeightedList $ do\n",
    "--     y <- runPopulation $ resampleMultinomial x\n",
    "--     liftIO $ print $ nub $ fmap snd y\n",
    "--     return y\n",
    "    \n",
    "-- -- model2 = replicateM 10 do\n",
    "-- --     x <- random\n",
    "-- --     factor (Exp $ log x)\n",
    "-- --     return x \n",
    "-- sampleIO $ runPopulation $ resampleMultinomial $ fromWeightedList $ pure $ take 200 $ cycle [(1, 0.0), (2, 0.4), (3, 0.3)]\n",
    "\n",
    "-- smcRes <- sampleIOfixed $ runPopulation $ sir resampleMultinomialWithTrace 100 20 (model)"
   ]
  }
 ],
 "metadata": {
  "kernelspec": {
   "display_name": "Haskell - nixpkgs",
   "language": "haskell",
   "name": "ihaskell_nixpkgs"
  },
  "language_info": {
   "codemirror_mode": "ihaskell",
   "file_extension": ".hs",
   "mimetype": "text/x-haskell",
   "name": "haskell",
   "pygments_lexer": "Haskell",
   "version": "9.0.2"
  }
 },
 "nbformat": 4,
 "nbformat_minor": 4
}
