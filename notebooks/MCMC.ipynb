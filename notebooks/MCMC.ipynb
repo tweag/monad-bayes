{
 "cells": [
  {
   "cell_type": "code",
   "execution_count": 1,
   "metadata": {},
   "outputs": [],
   "source": [
    ":e ImportQualifiedPost\n",
    ":e FlexibleContexts\n",
    ":e BlockArguments\n",
    ":e TupleSections\n",
    ":e FlexibleContexts\n",
    ":e OverloadedStrings\n",
    ":e LambdaCase\n",
    "\n",
    "import qualified Data.Text as T\n",
    "import Control.Arrow (first,second)\n",
    "import Control.Monad\n",
    "import Graphics.Vega.VegaLite hiding (density)\n",
    "import qualified Graphics.Vega.VegaLite as VL\n",
    "import IHaskell.Display.Hvega (vlShow)\n",
    "\n",
    "import Control.Monad.Bayes.Class\n",
    "import Control.Monad.Bayes.Enumerator\n",
    "import Control.Monad.Bayes.Weighted\n",
    "import Control.Monad.Bayes.Sampler\n",
    "import Control.Monad.Bayes.Traced.Static\n",
    "\n",
    ":l Plotting.hs\n"
   ]
  },
  {
   "cell_type": "markdown",
   "metadata": {},
   "source": [
    "We'll start with the example of a simple regression"
   ]
  },
  {
   "cell_type": "code",
   "execution_count": 2,
   "metadata": {},
   "outputs": [],
   "source": [
    "paramPriorRegression = do\n",
    "    slope <- normal 0 2\n",
    "    intercept <- normal 0 2\n",
    "    noise <- gamma 4 4\n",
    "    return (slope, intercept, noise)\n",
    "\n",
    "\n",
    "regressionData :: (MonadSample m, Traversable t) => t Double -> m (t (Double, Double))\n",
    "regressionData xs = do\n",
    "    (slope, intercept, noise) <- paramPriorRegression\n",
    "    forM xs \\x -> do\n",
    "        y <- normal (x*slope + intercept) (sqrt noise)\n",
    "        return (x, y)"
   ]
  },
  {
   "cell_type": "code",
   "execution_count": 3,
   "metadata": {},
   "outputs": [],
   "source": [
    "range = [-10,-9.9..10] :: [Double]\n",
    "regressionSamples <- sampleIOfixed $ regressionData range"
   ]
  },
  {
   "cell_type": "code",
   "execution_count": 4,
   "metadata": {},
   "outputs": [
    {
     "data": {
      "application/vnd.vegalite.v4+json": {
       "$schema": "https://vega.github.io/schema/vega-lite/v4.json",
       "data": {
        "values": [
         {
          "Outlier": "\"\\\"N/A\\\"\"",
          "X": -10,
          "Y": 42.03323056555809
         },
         {
          "Outlier": "\"\\\"N/A\\\"\"",
          "X": -9.9,
          "Y": 37.999554806234904
         },
         {
          "Outlier": "\"\\\"N/A\\\"\"",
          "X": -9.8,
          "Y": 39.406675882280574
         },
         {
          "Outlier": "\"\\\"N/A\\\"\"",
          "X": -9.700000000000001,
          "Y": 39.544797392460346
         },
         {
          "Outlier": "\"\\\"N/A\\\"\"",
          "X": -9.600000000000001,
          "Y": 35.611154022506945
         },
         {
          "Outlier": "\"\\\"N/A\\\"\"",
          "X": -9.500000000000002,
          "Y": 38.786031409418925
         },
         {
          "Outlier": "\"\\\"N/A\\\"\"",
          "X": -9.400000000000002,
          "Y": 33.613454503743476
         },
         {
          "Outlier": "\"\\\"N/A\\\"\"",
          "X": -9.300000000000002,
          "Y": 41.729542182498406
         },
         {
          "Outlier": "\"\\\"N/A\\\"\"",
          "X": -9.200000000000003,
          "Y": 39.392124954686764
         },
         {
          "Outlier": "\"\\\"N/A\\\"\"",
          "X": -9.100000000000003,
          "Y": 39.170678285225044
         },
         {
          "Outlier": "\"\\\"N/A\\\"\"",
          "X": -9.000000000000004,
          "Y": 34.197452715820354
         },
         {
          "Outlier": "\"\\\"N/A\\\"\"",
          "X": -8.900000000000004,
          "Y": 33.78956368992538
         },
         {
          "Outlier": "\"\\\"N/A\\\"\"",
          "X": -8.800000000000004,
          "Y": 38.9840006328825
         },
         {
          "Outlier": "\"\\\"N/A\\\"\"",
          "X": -8.700000000000005,
          "Y": 36.49357360324419
         },
         {
          "Outlier": "\"\\\"N/A\\\"\"",
          "X": -8.600000000000005,
          "Y": 35.19060965667984
         },
         {
          "Outlier": "\"\\\"N/A\\\"\"",
          "X": -8.500000000000005,
          "Y": 35.98010964079125
         },
         {
          "Outlier": "\"\\\"N/A\\\"\"",
          "X": -8.400000000000006,
          "Y": 37.64496270727057
         },
         {
          "Outlier": "\"\\\"N/A\\\"\"",
          "X": -8.300000000000006,
          "Y": 37.124556752093696
         },
         {
          "Outlier": "\"\\\"N/A\\\"\"",
          "X": -8.200000000000006,
          "Y": 31.714574908294747
         },
         {
          "Outlier": "\"\\\"N/A\\\"\"",
          "X": -8.100000000000007,
          "Y": 28.878633955151624
         },
         {
          "Outlier": "\"\\\"N/A\\\"\"",
          "X": -8.000000000000007,
          "Y": 30.715158522658356
         },
         {
          "Outlier": "\"\\\"N/A\\\"\"",
          "X": -7.9000000000000075,
          "Y": 33.630410808608325
         },
         {
          "Outlier": "\"\\\"N/A\\\"\"",
          "X": -7.800000000000008,
          "Y": 27.796851348683585
         },
         {
          "Outlier": "\"\\\"N/A\\\"\"",
          "X": -7.700000000000008,
          "Y": 33.74359477880951
         },
         {
          "Outlier": "\"\\\"N/A\\\"\"",
          "X": -7.6000000000000085,
          "Y": 29.338357865839313
         },
         {
          "Outlier": "\"\\\"N/A\\\"\"",
          "X": -7.500000000000009,
          "Y": 32.55734655375148
         },
         {
          "Outlier": "\"\\\"N/A\\\"\"",
          "X": -7.400000000000009,
          "Y": 23.87525823551339
         },
         {
          "Outlier": "\"\\\"N/A\\\"\"",
          "X": -7.30000000000001,
          "Y": 30.089375606582173
         },
         {
          "Outlier": "\"\\\"N/A\\\"\"",
          "X": -7.20000000000001,
          "Y": 30.535774062694397
         },
         {
          "Outlier": "\"\\\"N/A\\\"\"",
          "X": -7.10000000000001,
          "Y": 21.392339976391572
         },
         {
          "Outlier": "\"\\\"N/A\\\"\"",
          "X": -7.000000000000011,
          "Y": 31.842895805281145
         },
         {
          "Outlier": "\"\\\"N/A\\\"\"",
          "X": -6.900000000000011,
          "Y": 30.034274661599728
         },
         {
          "Outlier": "\"\\\"N/A\\\"\"",
          "X": -6.800000000000011,
          "Y": 28.84742801189693
         },
         {
          "Outlier": "\"\\\"N/A\\\"\"",
          "X": -6.700000000000012,
          "Y": 25.100009782872213
         },
         {
          "Outlier": "\"\\\"N/A\\\"\"",
          "X": -6.600000000000012,
          "Y": 31.561388965700914
         },
         {
          "Outlier": "\"\\\"N/A\\\"\"",
          "X": -6.500000000000012,
          "Y": 27.316427296906205
         },
         {
          "Outlier": "\"\\\"N/A\\\"\"",
          "X": -6.400000000000013,
          "Y": 26.821655031407705
         },
         {
          "Outlier": "\"\\\"N/A\\\"\"",
          "X": -6.300000000000013,
          "Y": 29.940749454063944
         },
         {
          "Outlier": "\"\\\"N/A\\\"\"",
          "X": -6.2000000000000135,
          "Y": 25.55563225513449
         },
         {
          "Outlier": "\"\\\"N/A\\\"\"",
          "X": -6.100000000000014,
          "Y": 27.433342805133105
         },
         {
          "Outlier": "\"\\\"N/A\\\"\"",
          "X": -6.000000000000014,
          "Y": 24.269620238419535
         },
         {
          "Outlier": "\"\\\"N/A\\\"\"",
          "X": -5.900000000000015,
          "Y": 25.127152826570686
         },
         {
          "Outlier": "\"\\\"N/A\\\"\"",
          "X": -5.800000000000015,
          "Y": 17.58564605488167
         },
         {
          "Outlier": "\"\\\"N/A\\\"\"",
          "X": -5.700000000000015,
          "Y": 16.137275907136768
         },
         {
          "Outlier": "\"\\\"N/A\\\"\"",
          "X": -5.600000000000016,
          "Y": 23.4716665892332
         },
         {
          "Outlier": "\"\\\"N/A\\\"\"",
          "X": -5.500000000000016,
          "Y": 24.853895463693394
         },
         {
          "Outlier": "\"\\\"N/A\\\"\"",
          "X": -5.400000000000016,
          "Y": 22.196907177091177
         },
         {
          "Outlier": "\"\\\"N/A\\\"\"",
          "X": -5.300000000000017,
          "Y": 15.845553956214607
         },
         {
          "Outlier": "\"\\\"N/A\\\"\"",
          "X": -5.200000000000017,
          "Y": 20.613329939610917
         },
         {
          "Outlier": "\"\\\"N/A\\\"\"",
          "X": -5.100000000000017,
          "Y": 20.207329023447976
         },
         {
          "Outlier": "\"\\\"N/A\\\"\"",
          "X": -5.000000000000018,
          "Y": 18.542938085410132
         },
         {
          "Outlier": "\"\\\"N/A\\\"\"",
          "X": -4.900000000000018,
          "Y": 19.82849558161579
         },
         {
          "Outlier": "\"\\\"N/A\\\"\"",
          "X": -4.8000000000000185,
          "Y": 17.096664328422225
         },
         {
          "Outlier": "\"\\\"N/A\\\"\"",
          "X": -4.700000000000019,
          "Y": 23.61221373830234
         },
         {
          "Outlier": "\"\\\"N/A\\\"\"",
          "X": -4.600000000000019,
          "Y": 18.139276050711533
         },
         {
          "Outlier": "\"\\\"N/A\\\"\"",
          "X": -4.5000000000000195,
          "Y": 19.218618744681105
         },
         {
          "Outlier": "\"\\\"N/A\\\"\"",
          "X": -4.40000000000002,
          "Y": 16.25871471540143
         },
         {
          "Outlier": "\"\\\"N/A\\\"\"",
          "X": -4.30000000000002,
          "Y": 19.068038430442183
         },
         {
          "Outlier": "\"\\\"N/A\\\"\"",
          "X": -4.200000000000021,
          "Y": 16.394644356531252
         },
         {
          "Outlier": "\"\\\"N/A\\\"\"",
          "X": -4.100000000000021,
          "Y": 19.34867510616638
         },
         {
          "Outlier": "\"\\\"N/A\\\"\"",
          "X": -4.000000000000021,
          "Y": 17.118552231439548
         },
         {
          "Outlier": "\"\\\"N/A\\\"\"",
          "X": -3.9000000000000217,
          "Y": 17.450889104412468
         },
         {
          "Outlier": "\"\\\"N/A\\\"\"",
          "X": -3.800000000000022,
          "Y": 17.28429657774685
         },
         {
          "Outlier": "\"\\\"N/A\\\"\"",
          "X": -3.7000000000000224,
          "Y": 13.93720876545455
         },
         {
          "Outlier": "\"\\\"N/A\\\"\"",
          "X": -3.6000000000000227,
          "Y": 11.323133310862293
         },
         {
          "Outlier": "\"\\\"N/A\\\"\"",
          "X": -3.500000000000023,
          "Y": 15.110288584034281
         },
         {
          "Outlier": "\"\\\"N/A\\\"\"",
          "X": -3.4000000000000234,
          "Y": 12.82232242393533
         },
         {
          "Outlier": "\"\\\"N/A\\\"\"",
          "X": -3.300000000000024,
          "Y": 14.963986027268305
         },
         {
          "Outlier": "\"\\\"N/A\\\"\"",
          "X": -3.200000000000024,
          "Y": 15.868276010547635
         },
         {
          "Outlier": "\"\\\"N/A\\\"\"",
          "X": -3.1000000000000245,
          "Y": 9.142160961106327
         },
         {
          "Outlier": "\"\\\"N/A\\\"\"",
          "X": -3.000000000000025,
          "Y": 14.586178781303701
         },
         {
          "Outlier": "\"\\\"N/A\\\"\"",
          "X": -2.9000000000000252,
          "Y": 16.598149541095605
         },
         {
          "Outlier": "\"\\\"N/A\\\"\"",
          "X": -2.8000000000000256,
          "Y": 12.866921073275742
         },
         {
          "Outlier": "\"\\\"N/A\\\"\"",
          "X": -2.700000000000026,
          "Y": 12.080325477040164
         },
         {
          "Outlier": "\"\\\"N/A\\\"\"",
          "X": -2.6000000000000263,
          "Y": 13.8124880655986
         },
         {
          "Outlier": "\"\\\"N/A\\\"\"",
          "X": -2.5000000000000266,
          "Y": 12.69701326458972
         },
         {
          "Outlier": "\"\\\"N/A\\\"\"",
          "X": -2.400000000000027,
          "Y": 13.102880241673814
         },
         {
          "Outlier": "\"\\\"N/A\\\"\"",
          "X": -2.3000000000000274,
          "Y": 10.410818470202093
         },
         {
          "Outlier": "\"\\\"N/A\\\"\"",
          "X": -2.2000000000000277,
          "Y": 10.066276180000694
         },
         {
          "Outlier": "\"\\\"N/A\\\"\"",
          "X": -2.100000000000028,
          "Y": 8.360123265449646
         },
         {
          "Outlier": "\"\\\"N/A\\\"\"",
          "X": -2.0000000000000284,
          "Y": 9.224108250624889
         },
         {
          "Outlier": "\"\\\"N/A\\\"\"",
          "X": -1.9000000000000288,
          "Y": 9.292086741978899
         },
         {
          "Outlier": "\"\\\"N/A\\\"\"",
          "X": -1.8000000000000291,
          "Y": 7.110801640129807
         },
         {
          "Outlier": "\"\\\"N/A\\\"\"",
          "X": -1.7000000000000295,
          "Y": 10.89358866203775
         },
         {
          "Outlier": "\"\\\"N/A\\\"\"",
          "X": -1.6000000000000298,
          "Y": 6.561811863114551
         },
         {
          "Outlier": "\"\\\"N/A\\\"\"",
          "X": -1.5000000000000302,
          "Y": 6.780282820160856
         },
         {
          "Outlier": "\"\\\"N/A\\\"\"",
          "X": -1.4000000000000306,
          "Y": 1.8077383978196861
         },
         {
          "Outlier": "\"\\\"N/A\\\"\"",
          "X": -1.300000000000031,
          "Y": 6.032901604651922
         },
         {
          "Outlier": "\"\\\"N/A\\\"\"",
          "X": -1.2000000000000313,
          "Y": 2.061856598987738
         },
         {
          "Outlier": "\"\\\"N/A\\\"\"",
          "X": -1.1000000000000316,
          "Y": 6.642255342842187
         },
         {
          "Outlier": "\"\\\"N/A\\\"\"",
          "X": -1.000000000000032,
          "Y": 1.631055577697773
         },
         {
          "Outlier": "\"\\\"N/A\\\"\"",
          "X": -0.9000000000000323,
          "Y": -0.9340068216379303
         },
         {
          "Outlier": "\"\\\"N/A\\\"\"",
          "X": -0.8000000000000327,
          "Y": 8.151901484490143
         },
         {
          "Outlier": "\"\\\"N/A\\\"\"",
          "X": -0.700000000000033,
          "Y": 5.1539672629167805
         },
         {
          "Outlier": "\"\\\"N/A\\\"\"",
          "X": -0.6000000000000334,
          "Y": 2.2707141712307015
         },
         {
          "Outlier": "\"\\\"N/A\\\"\"",
          "X": -0.5000000000000338,
          "Y": 2.959397664073527
         },
         {
          "Outlier": "\"\\\"N/A\\\"\"",
          "X": -0.4000000000000341,
          "Y": 3.5681277981209982
         },
         {
          "Outlier": "\"\\\"N/A\\\"\"",
          "X": -0.30000000000003446,
          "Y": 2.9601719349386926
         },
         {
          "Outlier": "\"\\\"N/A\\\"\"",
          "X": -0.20000000000003482,
          "Y": 3.8064254823049635
         },
         {
          "Outlier": "\"\\\"N/A\\\"\"",
          "X": -0.10000000000003517,
          "Y": -0.3157440649651664
         },
         {
          "Outlier": "\"\\\"N/A\\\"\"",
          "X": -3.552713678800501e-14,
          "Y": -0.08454039542176561
         },
         {
          "Outlier": "\"\\\"N/A\\\"\"",
          "X": 0.09999999999996412,
          "Y": 0.8638774319159747
         },
         {
          "Outlier": "\"\\\"N/A\\\"\"",
          "X": 0.19999999999996376,
          "Y": 3.2509225365107066
         },
         {
          "Outlier": "\"\\\"N/A\\\"\"",
          "X": 0.2999999999999634,
          "Y": -0.2648533348986002
         },
         {
          "Outlier": "\"\\\"N/A\\\"\"",
          "X": 0.39999999999996305,
          "Y": 4.682441913927745
         },
         {
          "Outlier": "\"\\\"N/A\\\"\"",
          "X": 0.4999999999999627,
          "Y": 0.5719734169877149
         },
         {
          "Outlier": "\"\\\"N/A\\\"\"",
          "X": 0.5999999999999623,
          "Y": 2.4245368486494208
         },
         {
          "Outlier": "\"\\\"N/A\\\"\"",
          "X": 0.699999999999962,
          "Y": -5.204785412183889
         },
         {
          "Outlier": "\"\\\"N/A\\\"\"",
          "X": 0.7999999999999616,
          "Y": -1.9477575142338746
         },
         {
          "Outlier": "\"\\\"N/A\\\"\"",
          "X": 0.8999999999999613,
          "Y": -4.528434635625948
         },
         {
          "Outlier": "\"\\\"N/A\\\"\"",
          "X": 0.9999999999999609,
          "Y": -2.205838797284081
         },
         {
          "Outlier": "\"\\\"N/A\\\"\"",
          "X": 1.0999999999999606,
          "Y": -2.558714488037996
         },
         {
          "Outlier": "\"\\\"N/A\\\"\"",
          "X": 1.1999999999999602,
          "Y": -4.436223483346961
         },
         {
          "Outlier": "\"\\\"N/A\\\"\"",
          "X": 1.2999999999999599,
          "Y": -4.873193863188025
         },
         {
          "Outlier": "\"\\\"N/A\\\"\"",
          "X": 1.3999999999999595,
          "Y": -4.973368359378956
         },
         {
          "Outlier": "\"\\\"N/A\\\"\"",
          "X": 1.4999999999999591,
          "Y": -5.384990987378259
         },
         {
          "Outlier": "\"\\\"N/A\\\"\"",
          "X": 1.5999999999999588,
          "Y": -3.384777841994817
         },
         {
          "Outlier": "\"\\\"N/A\\\"\"",
          "X": 1.6999999999999584,
          "Y": -3.9411944066102302
         },
         {
          "Outlier": "\"\\\"N/A\\\"\"",
          "X": 1.799999999999958,
          "Y": -5.273374063394311
         },
         {
          "Outlier": "\"\\\"N/A\\\"\"",
          "X": 1.8999999999999577,
          "Y": -6.232848785449246
         },
         {
          "Outlier": "\"\\\"N/A\\\"\"",
          "X": 1.9999999999999574,
          "Y": -8.37255720967583
         },
         {
          "Outlier": "\"\\\"N/A\\\"\"",
          "X": 2.099999999999957,
          "Y": -6.39760964421012
         },
         {
          "Outlier": "\"\\\"N/A\\\"\"",
          "X": 2.1999999999999567,
          "Y": -8.19558831978914
         },
         {
          "Outlier": "\"\\\"N/A\\\"\"",
          "X": 2.2999999999999563,
          "Y": -8.398139684686942
         },
         {
          "Outlier": "\"\\\"N/A\\\"\"",
          "X": 2.399999999999956,
          "Y": -4.379388378770706
         },
         {
          "Outlier": "\"\\\"N/A\\\"\"",
          "X": 2.4999999999999556,
          "Y": -10.135670471633574
         },
         {
          "Outlier": "\"\\\"N/A\\\"\"",
          "X": 2.5999999999999552,
          "Y": -11.490338334952739
         },
         {
          "Outlier": "\"\\\"N/A\\\"\"",
          "X": 2.699999999999955,
          "Y": -5.204553880982006
         },
         {
          "Outlier": "\"\\\"N/A\\\"\"",
          "X": 2.7999999999999545,
          "Y": -7.145086768351461
         },
         {
          "Outlier": "\"\\\"N/A\\\"\"",
          "X": 2.899999999999954,
          "Y": -9.620423257321475
         },
         {
          "Outlier": "\"\\\"N/A\\\"\"",
          "X": 2.999999999999954,
          "Y": -10.006686063089816
         },
         {
          "Outlier": "\"\\\"N/A\\\"\"",
          "X": 3.0999999999999535,
          "Y": -10.166325523125701
         },
         {
          "Outlier": "\"\\\"N/A\\\"\"",
          "X": 3.199999999999953,
          "Y": -11.100021677500234
         },
         {
          "Outlier": "\"\\\"N/A\\\"\"",
          "X": 3.2999999999999527,
          "Y": -7.661468321576206
         },
         {
          "Outlier": "\"\\\"N/A\\\"\"",
          "X": 3.3999999999999524,
          "Y": -16.73620733663085
         },
         {
          "Outlier": "\"\\\"N/A\\\"\"",
          "X": 3.499999999999952,
          "Y": -7.728077428157092
         },
         {
          "Outlier": "\"\\\"N/A\\\"\"",
          "X": 3.5999999999999517,
          "Y": -14.27117515932619
         },
         {
          "Outlier": "\"\\\"N/A\\\"\"",
          "X": 3.6999999999999513,
          "Y": -7.970105325286256
         },
         {
          "Outlier": "\"\\\"N/A\\\"\"",
          "X": 3.799999999999951,
          "Y": -13.01045721575976
         },
         {
          "Outlier": "\"\\\"N/A\\\"\"",
          "X": 3.8999999999999506,
          "Y": -15.916133483279875
         },
         {
          "Outlier": "\"\\\"N/A\\\"\"",
          "X": 3.9999999999999503,
          "Y": -17.590898867005404
         },
         {
          "Outlier": "\"\\\"N/A\\\"\"",
          "X": 4.09999999999995,
          "Y": -13.791022104345533
         },
         {
          "Outlier": "\"\\\"N/A\\\"\"",
          "X": 4.1999999999999496,
          "Y": -15.055936420871861
         },
         {
          "Outlier": "\"\\\"N/A\\\"\"",
          "X": 4.299999999999949,
          "Y": -20.11155944725803
         },
         {
          "Outlier": "\"\\\"N/A\\\"\"",
          "X": 4.399999999999949,
          "Y": -16.824115238022365
         },
         {
          "Outlier": "\"\\\"N/A\\\"\"",
          "X": 4.4999999999999485,
          "Y": -15.970560084405085
         },
         {
          "Outlier": "\"\\\"N/A\\\"\"",
          "X": 4.599999999999948,
          "Y": -18.12790378041153
         },
         {
          "Outlier": "\"\\\"N/A\\\"\"",
          "X": 4.699999999999948,
          "Y": -23.014646071585396
         },
         {
          "Outlier": "\"\\\"N/A\\\"\"",
          "X": 4.799999999999947,
          "Y": -17.595234136942036
         },
         {
          "Outlier": "\"\\\"N/A\\\"\"",
          "X": 4.899999999999947,
          "Y": -17.262987523408846
         },
         {
          "Outlier": "\"\\\"N/A\\\"\"",
          "X": 4.999999999999947,
          "Y": -18.332678754044643
         },
         {
          "Outlier": "\"\\\"N/A\\\"\"",
          "X": 5.099999999999946,
          "Y": -22.661538649097256
         },
         {
          "Outlier": "\"\\\"N/A\\\"\"",
          "X": 5.199999999999946,
          "Y": -19.25165090801072
         },
         {
          "Outlier": "\"\\\"N/A\\\"\"",
          "X": 5.299999999999946,
          "Y": -25.741574564480683
         },
         {
          "Outlier": "\"\\\"N/A\\\"\"",
          "X": 5.399999999999945,
          "Y": -19.1799479008487
         },
         {
          "Outlier": "\"\\\"N/A\\\"\"",
          "X": 5.499999999999945,
          "Y": -20.913964976134952
         },
         {
          "Outlier": "\"\\\"N/A\\\"\"",
          "X": 5.599999999999945,
          "Y": -18.821213354120083
         },
         {
          "Outlier": "\"\\\"N/A\\\"\"",
          "X": 5.699999999999944,
          "Y": -18.81426898638453
         },
         {
          "Outlier": "\"\\\"N/A\\\"\"",
          "X": 5.799999999999944,
          "Y": -20.063747696130065
         },
         {
          "Outlier": "\"\\\"N/A\\\"\"",
          "X": 5.8999999999999435,
          "Y": -21.947217968813952
         },
         {
          "Outlier": "\"\\\"N/A\\\"\"",
          "X": 5.999999999999943,
          "Y": -21.712986690710288
         },
         {
          "Outlier": "\"\\\"N/A\\\"\"",
          "X": 6.099999999999945,
          "Y": -23.735511292386853
         },
         {
          "Outlier": "\"\\\"N/A\\\"\"",
          "X": 6.1999999999999424,
          "Y": -19.473910516141814
         },
         {
          "Outlier": "\"\\\"N/A\\\"\"",
          "X": 6.29999999999994,
          "Y": -22.74722039053462
         },
         {
          "Outlier": "\"\\\"N/A\\\"\"",
          "X": 6.399999999999942,
          "Y": -24.27417219780458
         },
         {
          "Outlier": "\"\\\"N/A\\\"\"",
          "X": 6.499999999999943,
          "Y": -24.088228360270858
         },
         {
          "Outlier": "\"\\\"N/A\\\"\"",
          "X": 6.599999999999941,
          "Y": -24.330306662882414
         },
         {
          "Outlier": "\"\\\"N/A\\\"\"",
          "X": 6.699999999999939,
          "Y": -24.23721458696589
         },
         {
          "Outlier": "\"\\\"N/A\\\"\"",
          "X": 6.79999999999994,
          "Y": -25.460621308828795
         },
         {
          "Outlier": "\"\\\"N/A\\\"\"",
          "X": 6.899999999999942,
          "Y": -25.1670261093582
         },
         {
          "Outlier": "\"\\\"N/A\\\"\"",
          "X": 6.99999999999994,
          "Y": -29.695182566699287
         },
         {
          "Outlier": "\"\\\"N/A\\\"\"",
          "X": 7.0999999999999375,
          "Y": -24.036248904976336
         },
         {
          "Outlier": "\"\\\"N/A\\\"\"",
          "X": 7.199999999999939,
          "Y": -29.060778261039232
         },
         {
          "Outlier": "\"\\\"N/A\\\"\"",
          "X": 7.29999999999994,
          "Y": -30.03379383086917
         },
         {
          "Outlier": "\"\\\"N/A\\\"\"",
          "X": 7.399999999999938,
          "Y": -30.82413366690183
         },
         {
          "Outlier": "\"\\\"N/A\\\"\"",
          "X": 7.499999999999936,
          "Y": -33.46623587403489
         },
         {
          "Outlier": "\"\\\"N/A\\\"\"",
          "X": 7.5999999999999375,
          "Y": -20.982259435859813
         },
         {
          "Outlier": "\"\\\"N/A\\\"\"",
          "X": 7.699999999999939,
          "Y": -29.01623110547328
         },
         {
          "Outlier": "\"\\\"N/A\\\"\"",
          "X": 7.799999999999937,
          "Y": -26.564828372744667
         },
         {
          "Outlier": "\"\\\"N/A\\\"\"",
          "X": 7.899999999999935,
          "Y": -31.660358791882324
         },
         {
          "Outlier": "\"\\\"N/A\\\"\"",
          "X": 7.999999999999936,
          "Y": -32.90657618841533
         },
         {
          "Outlier": "\"\\\"N/A\\\"\"",
          "X": 8.099999999999937,
          "Y": -26.932587620227604
         },
         {
          "Outlier": "\"\\\"N/A\\\"\"",
          "X": 8.199999999999935,
          "Y": -31.14385192883412
         },
         {
          "Outlier": "\"\\\"N/A\\\"\"",
          "X": 8.299999999999933,
          "Y": -31.461855339440355
         },
         {
          "Outlier": "\"\\\"N/A\\\"\"",
          "X": 8.399999999999935,
          "Y": -34.36512778494121
         },
         {
          "Outlier": "\"\\\"N/A\\\"\"",
          "X": 8.499999999999936,
          "Y": -30.94994956691331
         },
         {
          "Outlier": "\"\\\"N/A\\\"\"",
          "X": 8.599999999999934,
          "Y": -32.275879995886264
         },
         {
          "Outlier": "\"\\\"N/A\\\"\"",
          "X": 8.699999999999932,
          "Y": -30.45820988999892
         },
         {
          "Outlier": "\"\\\"N/A\\\"\"",
          "X": 8.799999999999933,
          "Y": -33.580862522454275
         },
         {
          "Outlier": "\"\\\"N/A\\\"\"",
          "X": 8.899999999999935,
          "Y": -31.602458263313228
         },
         {
          "Outlier": "\"\\\"N/A\\\"\"",
          "X": 8.999999999999932,
          "Y": -32.262298339152025
         },
         {
          "Outlier": "\"\\\"N/A\\\"\"",
          "X": 9.09999999999993,
          "Y": -33.084105132333185
         },
         {
          "Outlier": "\"\\\"N/A\\\"\"",
          "X": 9.199999999999932,
          "Y": -41.74586107822527
         },
         {
          "Outlier": "\"\\\"N/A\\\"\"",
          "X": 9.299999999999933,
          "Y": -36.96319325923758
         },
         {
          "Outlier": "\"\\\"N/A\\\"\"",
          "X": 9.399999999999931,
          "Y": -34.314611920841024
         },
         {
          "Outlier": "\"\\\"N/A\\\"\"",
          "X": 9.499999999999929,
          "Y": -30.453776392846066
         },
         {
          "Outlier": "\"\\\"N/A\\\"\"",
          "X": 9.59999999999993,
          "Y": -34.997893742270264
         },
         {
          "Outlier": "\"\\\"N/A\\\"\"",
          "X": 9.699999999999932,
          "Y": -41.82196607318404
         },
         {
          "Outlier": "\"\\\"N/A\\\"\"",
          "X": 9.79999999999993,
          "Y": -35.772596531625894
         },
         {
          "Outlier": "\"\\\"N/A\\\"\"",
          "X": 9.899999999999928,
          "Y": -37.30481151039532
         },
         {
          "Outlier": "\"\\\"N/A\\\"\"",
          "X": 9.999999999999929,
          "Y": -34.90015006575538
         }
        ]
       },
       "encoding": {
        "color": {
         "field": "Outlier"
        },
        "x": {
         "field": "X",
         "type": "quantitative"
        },
        "y": {
         "field": "Y",
         "type": "quantitative"
        }
       },
       "height": 200,
       "mark": "circle",
       "width": 200
      },
      "image/png": "[encoded data removed]"
     },
     "metadata": {},
     "output_type": "display_data"
    }
   ],
   "source": [
    "plotVega (fmap (second (T.pack . show)) (zip regressionSamples (Prelude.repeat \"N/A\")))"
   ]
  },
  {
   "cell_type": "code",
   "execution_count": 5,
   "metadata": {},
   "outputs": [
    {
     "data": {
      "text/plain": []
     },
     "metadata": {},
     "output_type": "display_data"
    }
   ],
   "source": [
    "regression :: (MonadInfer m) => [Double] -> [Double] -> m (Double, Double, Double)\n",
    "regression xs ys = do\n",
    "    params@(slope, intercept, noise) <- paramPriorRegression\n",
    "    forM (zip xs ys) \\(x, y) -> factor $ normalPdf (slope * x + intercept) (sqrt noise) y\n",
    "    return (slope, intercept, noise)\n",
    "\n",
    "mhRunsRegression <- sampleIOfixed $ prior $  mh 1000 $ regression range (snd <$> regressionSamples)\n"
   ]
  },
  {
   "cell_type": "code",
   "execution_count": 6,
   "metadata": {},
   "outputs": [
    {
     "data": {
      "application/vnd.vegalite.v4+json": {
       "$schema": "https://vega.github.io/schema/vega-lite/v4.json",
       "data": {
        "values": [
         {
          "Outlier": 1,
          "X": -10,
          "Y": 40.29061268903545
         },
         {
          "Outlier": 1,
          "X": -9.9,
          "Y": 39.89484314109689
         },
         {
          "Outlier": 1,
          "X": -9.8,
          "Y": 39.499073593158336
         },
         {
          "Outlier": 1,
          "X": -9.700000000000001,
          "Y": 39.10330404521978
         },
         {
          "Outlier": 1,
          "X": -9.600000000000001,
          "Y": 38.707534497281216
         },
         {
          "Outlier": 1,
          "X": -9.500000000000002,
          "Y": 38.31176494934266
         },
         {
          "Outlier": 1,
          "X": -9.400000000000002,
          "Y": 37.9159954014041
         },
         {
          "Outlier": 1,
          "X": -9.300000000000002,
          "Y": 37.52022585346554
         },
         {
          "Outlier": 1,
          "X": -9.200000000000003,
          "Y": 37.124456305526984
         },
         {
          "Outlier": 1,
          "X": -9.100000000000003,
          "Y": 36.72868675758843
         },
         {
          "Outlier": 1,
          "X": -9.000000000000004,
          "Y": 36.332917209649864
         },
         {
          "Outlier": 1,
          "X": -8.900000000000004,
          "Y": 35.93714766171131
         },
         {
          "Outlier": 1,
          "X": -8.800000000000004,
          "Y": 35.54137811377275
         },
         {
          "Outlier": 1,
          "X": -8.700000000000005,
          "Y": 35.14560856583419
         },
         {
          "Outlier": 1,
          "X": -8.600000000000005,
          "Y": 34.74983901789563
         },
         {
          "Outlier": 1,
          "X": -8.500000000000005,
          "Y": 34.354069469957075
         },
         {
          "Outlier": 1,
          "X": -8.400000000000006,
          "Y": 33.95829992201851
         },
         {
          "Outlier": 1,
          "X": -8.300000000000006,
          "Y": 33.562530374079955
         },
         {
          "Outlier": 1,
          "X": -8.200000000000006,
          "Y": 33.1667608261414
         },
         {
          "Outlier": 1,
          "X": -8.100000000000007,
          "Y": 32.770991278202835
         },
         {
          "Outlier": 1,
          "X": -8.000000000000007,
          "Y": 32.37522173026428
         },
         {
          "Outlier": 1,
          "X": -7.9000000000000075,
          "Y": 31.97945218232572
         },
         {
          "Outlier": 1,
          "X": -7.800000000000008,
          "Y": 31.583682634387163
         },
         {
          "Outlier": 1,
          "X": -7.700000000000008,
          "Y": 31.187913086448603
         },
         {
          "Outlier": 1,
          "X": -7.6000000000000085,
          "Y": 30.792143538510043
         },
         {
          "Outlier": 1,
          "X": -7.500000000000009,
          "Y": 30.396373990571487
         },
         {
          "Outlier": 1,
          "X": -7.400000000000009,
          "Y": 30.000604442632927
         },
         {
          "Outlier": 1,
          "X": -7.30000000000001,
          "Y": 29.604834894694367
         },
         {
          "Outlier": 1,
          "X": -7.20000000000001,
          "Y": 29.20906534675581
         },
         {
          "Outlier": 1,
          "X": -7.10000000000001,
          "Y": 28.81329579881725
         },
         {
          "Outlier": 1,
          "X": -7.000000000000011,
          "Y": 28.41752625087869
         },
         {
          "Outlier": 1,
          "X": -6.900000000000011,
          "Y": 28.021756702940134
         },
         {
          "Outlier": 1,
          "X": -6.800000000000011,
          "Y": 27.625987155001575
         },
         {
          "Outlier": 1,
          "X": -6.700000000000012,
          "Y": 27.230217607063015
         },
         {
          "Outlier": 1,
          "X": -6.600000000000012,
          "Y": 26.83444805912446
         },
         {
          "Outlier": 1,
          "X": -6.500000000000012,
          "Y": 26.4386785111859
         },
         {
          "Outlier": 1,
          "X": -6.400000000000013,
          "Y": 26.04290896324734
         },
         {
          "Outlier": 1,
          "X": -6.300000000000013,
          "Y": 25.647139415308782
         },
         {
          "Outlier": 1,
          "X": -6.2000000000000135,
          "Y": 25.251369867370222
         },
         {
          "Outlier": 1,
          "X": -6.100000000000014,
          "Y": 24.855600319431662
         },
         {
          "Outlier": 1,
          "X": -6.000000000000014,
          "Y": 24.459830771493106
         },
         {
          "Outlier": 1,
          "X": -5.900000000000015,
          "Y": 24.064061223554546
         },
         {
          "Outlier": 1,
          "X": -5.800000000000015,
          "Y": 23.66829167561599
         },
         {
          "Outlier": 1,
          "X": -5.700000000000015,
          "Y": 23.27252212767743
         },
         {
          "Outlier": 1,
          "X": -5.600000000000016,
          "Y": 22.87675257973887
         },
         {
          "Outlier": 1,
          "X": -5.500000000000016,
          "Y": 22.480983031800314
         },
         {
          "Outlier": 1,
          "X": -5.400000000000016,
          "Y": 22.085213483861754
         },
         {
          "Outlier": 1,
          "X": -5.300000000000017,
          "Y": 21.689443935923194
         },
         {
          "Outlier": 1,
          "X": -5.200000000000017,
          "Y": 21.293674387984638
         },
         {
          "Outlier": 1,
          "X": -5.100000000000017,
          "Y": 20.897904840046078
         },
         {
          "Outlier": 1,
          "X": -5.000000000000018,
          "Y": 20.502135292107518
         },
         {
          "Outlier": 1,
          "X": -4.900000000000018,
          "Y": 20.10636574416896
         },
         {
          "Outlier": 1,
          "X": -4.8000000000000185,
          "Y": 19.7105961962304
         },
         {
          "Outlier": 1,
          "X": -4.700000000000019,
          "Y": 19.31482664829184
         },
         {
          "Outlier": 1,
          "X": -4.600000000000019,
          "Y": 18.919057100353285
         },
         {
          "Outlier": 1,
          "X": -4.5000000000000195,
          "Y": 18.523287552414725
         },
         {
          "Outlier": 1,
          "X": -4.40000000000002,
          "Y": 18.127518004476165
         },
         {
          "Outlier": 1,
          "X": -4.30000000000002,
          "Y": 17.73174845653761
         },
         {
          "Outlier": 1,
          "X": -4.200000000000021,
          "Y": 17.33597890859905
         },
         {
          "Outlier": 1,
          "X": -4.100000000000021,
          "Y": 16.94020936066049
         },
         {
          "Outlier": 1,
          "X": -4.000000000000021,
          "Y": 16.544439812721933
         },
         {
          "Outlier": 1,
          "X": -3.9000000000000217,
          "Y": 16.148670264783373
         },
         {
          "Outlier": 1,
          "X": -3.800000000000022,
          "Y": 15.752900716844817
         },
         {
          "Outlier": 1,
          "X": -3.7000000000000224,
          "Y": 15.357131168906259
         },
         {
          "Outlier": 1,
          "X": -3.6000000000000227,
          "Y": 14.961361620967699
         },
         {
          "Outlier": 1,
          "X": -3.500000000000023,
          "Y": 14.56559207302914
         },
         {
          "Outlier": 1,
          "X": -3.4000000000000234,
          "Y": 14.169822525090582
         },
         {
          "Outlier": 1,
          "X": -3.300000000000024,
          "Y": 13.774052977152023
         },
         {
          "Outlier": 1,
          "X": -3.200000000000024,
          "Y": 13.378283429213464
         },
         {
          "Outlier": 1,
          "X": -3.1000000000000245,
          "Y": 12.982513881274906
         },
         {
          "Outlier": 1,
          "X": -3.000000000000025,
          "Y": 12.586744333336346
         },
         {
          "Outlier": 1,
          "X": -2.9000000000000252,
          "Y": 12.190974785397788
         },
         {
          "Outlier": 1,
          "X": -2.8000000000000256,
          "Y": 11.79520523745923
         },
         {
          "Outlier": 1,
          "X": -2.700000000000026,
          "Y": 11.39943568952067
         },
         {
          "Outlier": 1,
          "X": -2.6000000000000263,
          "Y": 11.003666141582112
         },
         {
          "Outlier": 1,
          "X": -2.5000000000000266,
          "Y": 10.607896593643554
         },
         {
          "Outlier": 1,
          "X": -2.400000000000027,
          "Y": 10.212127045704996
         },
         {
          "Outlier": 1,
          "X": -2.3000000000000274,
          "Y": 9.816357497766436
         },
         {
          "Outlier": 1,
          "X": -2.2000000000000277,
          "Y": 9.420587949827878
         },
         {
          "Outlier": 1,
          "X": -2.100000000000028,
          "Y": 9.02481840188932
         },
         {
          "Outlier": 1,
          "X": -2.0000000000000284,
          "Y": 8.62904885395076
         },
         {
          "Outlier": 1,
          "X": -1.9000000000000288,
          "Y": 8.233279306012202
         },
         {
          "Outlier": 1,
          "X": -1.8000000000000291,
          "Y": 7.837509758073642
         },
         {
          "Outlier": 1,
          "X": -1.7000000000000295,
          "Y": 7.441740210135084
         },
         {
          "Outlier": 1,
          "X": -1.6000000000000298,
          "Y": 7.045970662196525
         },
         {
          "Outlier": 1,
          "X": -1.5000000000000302,
          "Y": 6.650201114257967
         },
         {
          "Outlier": 1,
          "X": -1.4000000000000306,
          "Y": 6.254431566319408
         },
         {
          "Outlier": 1,
          "X": -1.300000000000031,
          "Y": 5.858662018380849
         },
         {
          "Outlier": 1,
          "X": -1.2000000000000313,
          "Y": 5.4628924704422905
         },
         {
          "Outlier": 1,
          "X": -1.1000000000000316,
          "Y": 5.0671229225037315
         },
         {
          "Outlier": 1,
          "X": -1.000000000000032,
          "Y": 4.671353374565173
         },
         {
          "Outlier": 1,
          "X": -0.9000000000000323,
          "Y": 4.275583826626614
         },
         {
          "Outlier": 1,
          "X": -0.8000000000000327,
          "Y": 3.8798142786880554
         },
         {
          "Outlier": 1,
          "X": -0.700000000000033,
          "Y": 3.4840447307494973
         },
         {
          "Outlier": 1,
          "X": -0.6000000000000334,
          "Y": 3.0882751828109383
         },
         {
          "Outlier": 1,
          "X": -0.5000000000000338,
          "Y": 2.69250563487238
         },
         {
          "Outlier": 1,
          "X": -0.4000000000000341,
          "Y": 2.296736086933821
         },
         {
          "Outlier": 1,
          "X": -0.30000000000003446,
          "Y": 1.9009665389952626
         },
         {
          "Outlier": 1,
          "X": -0.20000000000003482,
          "Y": 1.5051969910567038
         },
         {
          "Outlier": 1,
          "X": -0.10000000000003517,
          "Y": 1.1094274431181452
         },
         {
          "Outlier": 1,
          "X": -3.552713678800501e-14,
          "Y": 0.7136578951795864
         },
         {
          "Outlier": 1,
          "X": 0.09999999999996412,
          "Y": 0.3178883472410278
         },
         {
          "Outlier": 1,
          "X": 0.19999999999996376,
          "Y": -0.0778812006975308
         },
         {
          "Outlier": 1,
          "X": 0.2999999999999634,
          "Y": -0.47365074863608947
         },
         {
          "Outlier": 1,
          "X": 0.39999999999996305,
          "Y": -0.8694202965746483
         },
         {
          "Outlier": 1,
          "X": 0.4999999999999627,
          "Y": -1.2651898445132068
         },
         {
          "Outlier": 1,
          "X": 0.5999999999999623,
          "Y": -1.6609593924517656
         },
         {
          "Outlier": 1,
          "X": 0.699999999999962,
          "Y": -2.0567289403903244
         },
         {
          "Outlier": 1,
          "X": 0.7999999999999616,
          "Y": -2.4524984883288825
         },
         {
          "Outlier": 1,
          "X": 0.8999999999999613,
          "Y": -2.8482680362674415
         },
         {
          "Outlier": 1,
          "X": 0.9999999999999609,
          "Y": -3.2440375842060005
         },
         {
          "Outlier": 1,
          "X": 1.0999999999999606,
          "Y": -3.6398071321445586
         },
         {
          "Outlier": 1,
          "X": 1.1999999999999602,
          "Y": -4.035576680083118
         },
         {
          "Outlier": 1,
          "X": 1.2999999999999599,
          "Y": -4.431346228021677
         },
         {
          "Outlier": 1,
          "X": 1.3999999999999595,
          "Y": -4.827115775960235
         },
         {
          "Outlier": 1,
          "X": 1.4999999999999591,
          "Y": -5.222885323898794
         },
         {
          "Outlier": 1,
          "X": 1.5999999999999588,
          "Y": -5.618654871837353
         },
         {
          "Outlier": 1,
          "X": 1.6999999999999584,
          "Y": -6.014424419775911
         },
         {
          "Outlier": 1,
          "X": 1.799999999999958,
          "Y": -6.41019396771447
         },
         {
          "Outlier": 1,
          "X": 1.8999999999999577,
          "Y": -6.805963515653028
         },
         {
          "Outlier": 1,
          "X": 1.9999999999999574,
          "Y": -7.201733063591587
         },
         {
          "Outlier": 1,
          "X": 2.099999999999957,
          "Y": -7.597502611530145
         },
         {
          "Outlier": 1,
          "X": 2.1999999999999567,
          "Y": -7.993272159468705
         },
         {
          "Outlier": 1,
          "X": 2.2999999999999563,
          "Y": -8.389041707407262
         },
         {
          "Outlier": 1,
          "X": 2.399999999999956,
          "Y": -8.78481125534582
         },
         {
          "Outlier": 1,
          "X": 2.4999999999999556,
          "Y": -9.18058080328438
         },
         {
          "Outlier": 1,
          "X": 2.5999999999999552,
          "Y": -9.576350351222938
         },
         {
          "Outlier": 1,
          "X": 2.699999999999955,
          "Y": -9.972119899161497
         },
         {
          "Outlier": 1,
          "X": 2.7999999999999545,
          "Y": -10.367889447100055
         },
         {
          "Outlier": 1,
          "X": 2.899999999999954,
          "Y": -10.763658995038615
         },
         {
          "Outlier": 1,
          "X": 2.999999999999954,
          "Y": -11.159428542977173
         },
         {
          "Outlier": 1,
          "X": 3.0999999999999535,
          "Y": -11.55519809091573
         },
         {
          "Outlier": 1,
          "X": 3.199999999999953,
          "Y": -11.95096763885429
         },
         {
          "Outlier": 1,
          "X": 3.2999999999999527,
          "Y": -12.346737186792849
         },
         {
          "Outlier": 1,
          "X": 3.3999999999999524,
          "Y": -12.742506734731407
         },
         {
          "Outlier": 1,
          "X": 3.499999999999952,
          "Y": -13.138276282669967
         },
         {
          "Outlier": 1,
          "X": 3.5999999999999517,
          "Y": -13.534045830608525
         },
         {
          "Outlier": 1,
          "X": 3.6999999999999513,
          "Y": -13.929815378547083
         },
         {
          "Outlier": 1,
          "X": 3.799999999999951,
          "Y": -14.325584926485643
         },
         {
          "Outlier": 1,
          "X": 3.8999999999999506,
          "Y": -14.721354474424201
         },
         {
          "Outlier": 1,
          "X": 3.9999999999999503,
          "Y": -15.11712402236276
         },
         {
          "Outlier": 1,
          "X": 4.09999999999995,
          "Y": -15.512893570301317
         },
         {
          "Outlier": 1,
          "X": 4.1999999999999496,
          "Y": -15.908663118239877
         },
         {
          "Outlier": 1,
          "X": 4.299999999999949,
          "Y": -16.30443266617844
         },
         {
          "Outlier": 1,
          "X": 4.399999999999949,
          "Y": -16.700202214116995
         },
         {
          "Outlier": 1,
          "X": 4.4999999999999485,
          "Y": -17.095971762055555
         },
         {
          "Outlier": 1,
          "X": 4.599999999999948,
          "Y": -17.491741309994115
         },
         {
          "Outlier": 1,
          "X": 4.699999999999948,
          "Y": -17.88751085793267
         },
         {
          "Outlier": 1,
          "X": 4.799999999999947,
          "Y": -18.28328040587123
         },
         {
          "Outlier": 1,
          "X": 4.899999999999947,
          "Y": -18.679049953809788
         },
         {
          "Outlier": 1,
          "X": 4.999999999999947,
          "Y": -19.074819501748348
         },
         {
          "Outlier": 1,
          "X": 5.099999999999946,
          "Y": -19.470589049686907
         },
         {
          "Outlier": 1,
          "X": 5.199999999999946,
          "Y": -19.866358597625464
         },
         {
          "Outlier": 1,
          "X": 5.299999999999946,
          "Y": -20.262128145564024
         },
         {
          "Outlier": 1,
          "X": 5.399999999999945,
          "Y": -20.657897693502584
         },
         {
          "Outlier": 1,
          "X": 5.499999999999945,
          "Y": -21.05366724144114
         },
         {
          "Outlier": 1,
          "X": 5.599999999999945,
          "Y": -21.4494367893797
         },
         {
          "Outlier": 1,
          "X": 5.699999999999944,
          "Y": -21.84520633731826
         },
         {
          "Outlier": 1,
          "X": 5.799999999999944,
          "Y": -22.240975885256816
         },
         {
          "Outlier": 1,
          "X": 5.8999999999999435,
          "Y": -22.636745433195376
         },
         {
          "Outlier": 1,
          "X": 5.999999999999943,
          "Y": -23.032514981133936
         },
         {
          "Outlier": 1,
          "X": 6.099999999999945,
          "Y": -23.4282845290725
         },
         {
          "Outlier": 1,
          "X": 6.1999999999999424,
          "Y": -23.824054077011052
         },
         {
          "Outlier": 1,
          "X": 6.29999999999994,
          "Y": -24.219823624949605
         },
         {
          "Outlier": 1,
          "X": 6.399999999999942,
          "Y": -24.61559317288817
         },
         {
          "Outlier": 1,
          "X": 6.499999999999943,
          "Y": -25.011362720826735
         },
         {
          "Outlier": 1,
          "X": 6.599999999999941,
          "Y": -25.407132268765288
         },
         {
          "Outlier": 1,
          "X": 6.699999999999939,
          "Y": -25.802901816703837
         },
         {
          "Outlier": 1,
          "X": 6.79999999999994,
          "Y": -26.198671364642404
         },
         {
          "Outlier": 1,
          "X": 6.899999999999942,
          "Y": -26.59444091258097
         },
         {
          "Outlier": 1,
          "X": 6.99999999999994,
          "Y": -26.99021046051952
         },
         {
          "Outlier": 1,
          "X": 7.0999999999999375,
          "Y": -27.385980008458073
         },
         {
          "Outlier": 1,
          "X": 7.199999999999939,
          "Y": -27.78174955639664
         },
         {
          "Outlier": 1,
          "X": 7.29999999999994,
          "Y": -28.177519104335204
         },
         {
          "Outlier": 1,
          "X": 7.399999999999938,
          "Y": -28.573288652273757
         },
         {
          "Outlier": 1,
          "X": 7.499999999999936,
          "Y": -28.96905820021231
         },
         {
          "Outlier": 1,
          "X": 7.5999999999999375,
          "Y": -29.364827748150873
         },
         {
          "Outlier": 1,
          "X": 7.699999999999939,
          "Y": -29.76059729608944
         },
         {
          "Outlier": 1,
          "X": 7.799999999999937,
          "Y": -30.15636684402799
         },
         {
          "Outlier": 1,
          "X": 7.899999999999935,
          "Y": -30.552136391966542
         },
         {
          "Outlier": 1,
          "X": 7.999999999999936,
          "Y": -30.94790593990511
         },
         {
          "Outlier": 1,
          "X": 8.099999999999937,
          "Y": -31.343675487843676
         },
         {
          "Outlier": 1,
          "X": 8.199999999999935,
          "Y": -31.739445035782225
         },
         {
          "Outlier": 1,
          "X": 8.299999999999933,
          "Y": -32.135214583720774
         },
         {
          "Outlier": 1,
          "X": 8.399999999999935,
          "Y": -32.530984131659345
         },
         {
          "Outlier": 1,
          "X": 8.499999999999936,
          "Y": -32.92675367959791
         },
         {
          "Outlier": 1,
          "X": 8.599999999999934,
          "Y": -33.32252322753646
         },
         {
          "Outlier": 1,
          "X": 8.699999999999932,
          "Y": -33.718292775475014
         },
         {
          "Outlier": 1,
          "X": 8.799999999999933,
          "Y": -34.11406232341358
         },
         {
          "Outlier": 1,
          "X": 8.899999999999935,
          "Y": -34.50983187135214
         },
         {
          "Outlier": 1,
          "X": 8.999999999999932,
          "Y": -34.9056014192907
         },
         {
          "Outlier": 1,
          "X": 9.09999999999993,
          "Y": -35.301370967229246
         },
         {
          "Outlier": 1,
          "X": 9.199999999999932,
          "Y": -35.69714051516781
         },
         {
          "Outlier": 1,
          "X": 9.299999999999933,
          "Y": -36.09291006310638
         },
         {
          "Outlier": 1,
          "X": 9.399999999999931,
          "Y": -36.48867961104493
         },
         {
          "Outlier": 1,
          "X": 9.499999999999929,
          "Y": -36.88444915898348
         },
         {
          "Outlier": 1,
          "X": 9.59999999999993,
          "Y": -37.28021870692205
         },
         {
          "Outlier": 1,
          "X": 9.699999999999932,
          "Y": -37.67598825486061
         },
         {
          "Outlier": 1,
          "X": 9.79999999999993,
          "Y": -38.07175780279916
         },
         {
          "Outlier": 1,
          "X": 9.899999999999928,
          "Y": -38.46752735073772
         },
         {
          "Outlier": 1,
          "X": 9.999999999999929,
          "Y": -38.86329689867628
         }
        ]
       },
       "encoding": {
        "color": {},
        "x": {
         "field": "X",
         "type": "quantitative"
        },
        "y": {
         "field": "Y",
         "type": "quantitative"
        }
       },
       "height": 200,
       "mark": "line",
       "width": 200
      },
      "image/png": "[encoded data removed]"
     },
     "metadata": {},
     "output_type": "display_data"
    }
   ],
   "source": [
    "plotVega (range, (\\(s,i,_) -> (s,i)) $ head mhRunsRegression) \n"
   ]
  },
  {
   "cell_type": "markdown",
   "metadata": {},
   "source": [
    "This is a sample from the MCMC walk. Since this is an easy inference problem, it wasn't hard to generate good samples.\n",
    "\n",
    "We can also view the posterior predictive, as follows:"
   ]
  },
  {
   "cell_type": "code",
   "execution_count": 7,
   "metadata": {},
   "outputs": [
    {
     "data": {
      "application/vnd.vegalite.v4+json": {
       "$schema": "https://vega.github.io/schema/vega-lite/v4.json",
       "data": {
        "values": [
         {
          "Outlier": "\"\\\"N/A\\\"\"",
          "X": -10,
          "Y": 33.89297296354226
         },
         {
          "Outlier": "\"\\\"N/A\\\"\"",
          "X": -9.9,
          "Y": 40.0430836326801
         },
         {
          "Outlier": "\"\\\"N/A\\\"\"",
          "X": -9.8,
          "Y": 38.66161102535759
         },
         {
          "Outlier": "\"\\\"N/A\\\"\"",
          "X": -9.700000000000001,
          "Y": 37.8698801956449
         },
         {
          "Outlier": "\"\\\"N/A\\\"\"",
          "X": -9.600000000000001,
          "Y": 35.77282616091393
         },
         {
          "Outlier": "\"\\\"N/A\\\"\"",
          "X": -9.500000000000002,
          "Y": 36.82727280879963
         },
         {
          "Outlier": "\"\\\"N/A\\\"\"",
          "X": -9.400000000000002,
          "Y": 33.79832328551383
         },
         {
          "Outlier": "\"\\\"N/A\\\"\"",
          "X": -9.300000000000002,
          "Y": 39.585067252338504
         },
         {
          "Outlier": "\"\\\"N/A\\\"\"",
          "X": -9.200000000000003,
          "Y": 44.794542932959146
         },
         {
          "Outlier": "\"\\\"N/A\\\"\"",
          "X": -9.100000000000003,
          "Y": 34.80906192195939
         },
         {
          "Outlier": "\"\\\"N/A\\\"\"",
          "X": -9.000000000000004,
          "Y": 44.78379497996606
         },
         {
          "Outlier": "\"\\\"N/A\\\"\"",
          "X": -8.900000000000004,
          "Y": 31.213147682557146
         },
         {
          "Outlier": "\"\\\"N/A\\\"\"",
          "X": -8.800000000000004,
          "Y": 30.682256661892012
         },
         {
          "Outlier": "\"\\\"N/A\\\"\"",
          "X": -8.700000000000005,
          "Y": 39.27664930882383
         },
         {
          "Outlier": "\"\\\"N/A\\\"\"",
          "X": -8.600000000000005,
          "Y": 36.76902658200223
         },
         {
          "Outlier": "\"\\\"N/A\\\"\"",
          "X": -8.500000000000005,
          "Y": 33.37763585785953
         },
         {
          "Outlier": "\"\\\"N/A\\\"\"",
          "X": -8.400000000000006,
          "Y": 33.559852573890986
         },
         {
          "Outlier": "\"\\\"N/A\\\"\"",
          "X": -8.300000000000006,
          "Y": 33.15901651759206
         },
         {
          "Outlier": "\"\\\"N/A\\\"\"",
          "X": -8.200000000000006,
          "Y": 33.763521513969515
         },
         {
          "Outlier": "\"\\\"N/A\\\"\"",
          "X": -8.100000000000007,
          "Y": 30.560036577852973
         },
         {
          "Outlier": "\"\\\"N/A\\\"\"",
          "X": -8.000000000000007,
          "Y": 38.84854838059727
         },
         {
          "Outlier": "\"\\\"N/A\\\"\"",
          "X": -7.9000000000000075,
          "Y": 34.4136283183364
         },
         {
          "Outlier": "\"\\\"N/A\\\"\"",
          "X": -7.800000000000008,
          "Y": 29.16167230018845
         },
         {
          "Outlier": "\"\\\"N/A\\\"\"",
          "X": -7.700000000000008,
          "Y": 29.589037809034387
         },
         {
          "Outlier": "\"\\\"N/A\\\"\"",
          "X": -7.6000000000000085,
          "Y": 27.8405943349252
         },
         {
          "Outlier": "\"\\\"N/A\\\"\"",
          "X": -7.500000000000009,
          "Y": 32.573057013568494
         },
         {
          "Outlier": "\"\\\"N/A\\\"\"",
          "X": -7.400000000000009,
          "Y": 29.952118001634137
         },
         {
          "Outlier": "\"\\\"N/A\\\"\"",
          "X": -7.30000000000001,
          "Y": 28.632495804232956
         },
         {
          "Outlier": "\"\\\"N/A\\\"\"",
          "X": -7.20000000000001,
          "Y": 27.8242132743096
         },
         {
          "Outlier": "\"\\\"N/A\\\"\"",
          "X": -7.10000000000001,
          "Y": 27.654393358785978
         },
         {
          "Outlier": "\"\\\"N/A\\\"\"",
          "X": -7.000000000000011,
          "Y": 22.06656173060328
         },
         {
          "Outlier": "\"\\\"N/A\\\"\"",
          "X": -6.900000000000011,
          "Y": 26.927060285132303
         },
         {
          "Outlier": "\"\\\"N/A\\\"\"",
          "X": -6.800000000000011,
          "Y": 27.44084791254536
         },
         {
          "Outlier": "\"\\\"N/A\\\"\"",
          "X": -6.700000000000012,
          "Y": 32.22970796729254
         },
         {
          "Outlier": "\"\\\"N/A\\\"\"",
          "X": -6.600000000000012,
          "Y": 31.71815332601078
         },
         {
          "Outlier": "\"\\\"N/A\\\"\"",
          "X": -6.500000000000012,
          "Y": 25.998502104609162
         },
         {
          "Outlier": "\"\\\"N/A\\\"\"",
          "X": -6.400000000000013,
          "Y": 29.30403233781999
         },
         {
          "Outlier": "\"\\\"N/A\\\"\"",
          "X": -6.300000000000013,
          "Y": 27.436444186731904
         },
         {
          "Outlier": "\"\\\"N/A\\\"\"",
          "X": -6.2000000000000135,
          "Y": 24.52147144417808
         },
         {
          "Outlier": "\"\\\"N/A\\\"\"",
          "X": -6.100000000000014,
          "Y": 19.54205443974908
         },
         {
          "Outlier": "\"\\\"N/A\\\"\"",
          "X": -6.000000000000014,
          "Y": 25.90648501031238
         },
         {
          "Outlier": "\"\\\"N/A\\\"\"",
          "X": -5.900000000000015,
          "Y": 23.493206073269366
         },
         {
          "Outlier": "\"\\\"N/A\\\"\"",
          "X": -5.800000000000015,
          "Y": 23.37963029838749
         },
         {
          "Outlier": "\"\\\"N/A\\\"\"",
          "X": -5.700000000000015,
          "Y": 24.390903824526692
         },
         {
          "Outlier": "\"\\\"N/A\\\"\"",
          "X": -5.600000000000016,
          "Y": 25.651783294620817
         },
         {
          "Outlier": "\"\\\"N/A\\\"\"",
          "X": -5.500000000000016,
          "Y": 22.74848117093144
         },
         {
          "Outlier": "\"\\\"N/A\\\"\"",
          "X": -5.400000000000016,
          "Y": 19.3865093697708
         },
         {
          "Outlier": "\"\\\"N/A\\\"\"",
          "X": -5.300000000000017,
          "Y": 27.83944675944166
         },
         {
          "Outlier": "\"\\\"N/A\\\"\"",
          "X": -5.200000000000017,
          "Y": 25.84426692223377
         },
         {
          "Outlier": "\"\\\"N/A\\\"\"",
          "X": -5.100000000000017,
          "Y": 19.500281797246714
         },
         {
          "Outlier": "\"\\\"N/A\\\"\"",
          "X": -5.000000000000018,
          "Y": 20.693741501328137
         },
         {
          "Outlier": "\"\\\"N/A\\\"\"",
          "X": -4.900000000000018,
          "Y": 20.064319797816637
         },
         {
          "Outlier": "\"\\\"N/A\\\"\"",
          "X": -4.8000000000000185,
          "Y": 21.02352177707782
         },
         {
          "Outlier": "\"\\\"N/A\\\"\"",
          "X": -4.700000000000019,
          "Y": 21.906600783660142
         },
         {
          "Outlier": "\"\\\"N/A\\\"\"",
          "X": -4.600000000000019,
          "Y": 23.9972965550538
         },
         {
          "Outlier": "\"\\\"N/A\\\"\"",
          "X": -4.5000000000000195,
          "Y": 21.766589485225392
         },
         {
          "Outlier": "\"\\\"N/A\\\"\"",
          "X": -4.40000000000002,
          "Y": 22.09845236355146
         },
         {
          "Outlier": "\"\\\"N/A\\\"\"",
          "X": -4.30000000000002,
          "Y": 17.2018627101834
         },
         {
          "Outlier": "\"\\\"N/A\\\"\"",
          "X": -4.200000000000021,
          "Y": 12.96200286290361
         },
         {
          "Outlier": "\"\\\"N/A\\\"\"",
          "X": -4.100000000000021,
          "Y": 17.085346937425733
         },
         {
          "Outlier": "\"\\\"N/A\\\"\"",
          "X": -4.000000000000021,
          "Y": 15.797897537078514
         },
         {
          "Outlier": "\"\\\"N/A\\\"\"",
          "X": -3.9000000000000217,
          "Y": 13.840637597181455
         },
         {
          "Outlier": "\"\\\"N/A\\\"\"",
          "X": -3.800000000000022,
          "Y": 16.908900300833388
         },
         {
          "Outlier": "\"\\\"N/A\\\"\"",
          "X": -3.7000000000000224,
          "Y": 17.16949590929847
         },
         {
          "Outlier": "\"\\\"N/A\\\"\"",
          "X": -3.6000000000000227,
          "Y": 14.231732117819297
         },
         {
          "Outlier": "\"\\\"N/A\\\"\"",
          "X": -3.500000000000023,
          "Y": 9.242888579498647
         },
         {
          "Outlier": "\"\\\"N/A\\\"\"",
          "X": -3.4000000000000234,
          "Y": 13.046142669950612
         },
         {
          "Outlier": "\"\\\"N/A\\\"\"",
          "X": -3.300000000000024,
          "Y": 10.678528344183647
         },
         {
          "Outlier": "\"\\\"N/A\\\"\"",
          "X": -3.200000000000024,
          "Y": 14.8863364951644
         },
         {
          "Outlier": "\"\\\"N/A\\\"\"",
          "X": -3.1000000000000245,
          "Y": 11.19679701667571
         },
         {
          "Outlier": "\"\\\"N/A\\\"\"",
          "X": -3.000000000000025,
          "Y": 10.500372739629352
         },
         {
          "Outlier": "\"\\\"N/A\\\"\"",
          "X": -2.9000000000000252,
          "Y": 10.464343797779655
         },
         {
          "Outlier": "\"\\\"N/A\\\"\"",
          "X": -2.8000000000000256,
          "Y": 13.74526255120754
         },
         {
          "Outlier": "\"\\\"N/A\\\"\"",
          "X": -2.700000000000026,
          "Y": 11.889045010699158
         },
         {
          "Outlier": "\"\\\"N/A\\\"\"",
          "X": -2.6000000000000263,
          "Y": 12.60957304303249
         },
         {
          "Outlier": "\"\\\"N/A\\\"\"",
          "X": -2.5000000000000266,
          "Y": 9.50271586473591
         },
         {
          "Outlier": "\"\\\"N/A\\\"\"",
          "X": -2.400000000000027,
          "Y": 3.7122811841584626
         },
         {
          "Outlier": "\"\\\"N/A\\\"\"",
          "X": -2.3000000000000274,
          "Y": 10.988275149431514
         },
         {
          "Outlier": "\"\\\"N/A\\\"\"",
          "X": -2.2000000000000277,
          "Y": 8.024138471911753
         },
         {
          "Outlier": "\"\\\"N/A\\\"\"",
          "X": -2.100000000000028,
          "Y": 8.70543779995528
         },
         {
          "Outlier": "\"\\\"N/A\\\"\"",
          "X": -2.0000000000000284,
          "Y": 10.12432174442037
         },
         {
          "Outlier": "\"\\\"N/A\\\"\"",
          "X": -1.9000000000000288,
          "Y": 3.09300777748427
         },
         {
          "Outlier": "\"\\\"N/A\\\"\"",
          "X": -1.8000000000000291,
          "Y": 5.980673379127364
         },
         {
          "Outlier": "\"\\\"N/A\\\"\"",
          "X": -1.7000000000000295,
          "Y": 1.584190766678816
         },
         {
          "Outlier": "\"\\\"N/A\\\"\"",
          "X": -1.6000000000000298,
          "Y": 7.7440684379361
         },
         {
          "Outlier": "\"\\\"N/A\\\"\"",
          "X": -1.5000000000000302,
          "Y": 4.331296486622781
         },
         {
          "Outlier": "\"\\\"N/A\\\"\"",
          "X": -1.4000000000000306,
          "Y": 5.448479346151636
         },
         {
          "Outlier": "\"\\\"N/A\\\"\"",
          "X": -1.300000000000031,
          "Y": 9.985011317316436
         },
         {
          "Outlier": "\"\\\"N/A\\\"\"",
          "X": -1.2000000000000313,
          "Y": 1.3489395166230995
         },
         {
          "Outlier": "\"\\\"N/A\\\"\"",
          "X": -1.1000000000000316,
          "Y": 0.790191040537068
         },
         {
          "Outlier": "\"\\\"N/A\\\"\"",
          "X": -1.000000000000032,
          "Y": 0.6339907016545894
         },
         {
          "Outlier": "\"\\\"N/A\\\"\"",
          "X": -0.9000000000000323,
          "Y": 1.9412106106759812
         },
         {
          "Outlier": "\"\\\"N/A\\\"\"",
          "X": -0.8000000000000327,
          "Y": 8.339111574409076
         },
         {
          "Outlier": "\"\\\"N/A\\\"\"",
          "X": -0.700000000000033,
          "Y": 5.743015706113801
         },
         {
          "Outlier": "\"\\\"N/A\\\"\"",
          "X": -0.6000000000000334,
          "Y": 8.988083181110973
         },
         {
          "Outlier": "\"\\\"N/A\\\"\"",
          "X": -0.5000000000000338,
          "Y": -1.3503805960429247
         },
         {
          "Outlier": "\"\\\"N/A\\\"\"",
          "X": -0.4000000000000341,
          "Y": 7.782669485882764
         },
         {
          "Outlier": "\"\\\"N/A\\\"\"",
          "X": -0.30000000000003446,
          "Y": 2.9601719349386926
         },
         {
          "Outlier": "\"\\\"N/A\\\"\"",
          "X": -0.20000000000003482,
          "Y": 2.8878934479151672
         },
         {
          "Outlier": "\"\\\"N/A\\\"\"",
          "X": -0.10000000000003517,
          "Y": 0.47571304329862474
         },
         {
          "Outlier": "\"\\\"N/A\\\"\"",
          "X": -3.552713678800501e-14,
          "Y": 3.0403438303934633
         },
         {
          "Outlier": "\"\\\"N/A\\\"\"",
          "X": 0.09999999999996412,
          "Y": -2.9676023748974725
         },
         {
          "Outlier": "\"\\\"N/A\\\"\"",
          "X": 0.19999999999996376,
          "Y": 2.147735744535755
         },
         {
          "Outlier": "\"\\\"N/A\\\"\"",
          "X": 0.2999999999999634,
          "Y": 6.125547044976109
         },
         {
          "Outlier": "\"\\\"N/A\\\"\"",
          "X": 0.39999999999996305,
          "Y": 4.862905999680613
         },
         {
          "Outlier": "\"\\\"N/A\\\"\"",
          "X": 0.4999999999999627,
          "Y": -2.8790663445740114
         },
         {
          "Outlier": "\"\\\"N/A\\\"\"",
          "X": 0.5999999999999623,
          "Y": -5.162642401247264
         },
         {
          "Outlier": "\"\\\"N/A\\\"\"",
          "X": 0.699999999999962,
          "Y": -2.171349317089527
         },
         {
          "Outlier": "\"\\\"N/A\\\"\"",
          "X": 0.7999999999999616,
          "Y": -4.619364541792816
         },
         {
          "Outlier": "\"\\\"N/A\\\"\"",
          "X": 0.8999999999999613,
          "Y": 1.3281973102011522
         },
         {
          "Outlier": "\"\\\"N/A\\\"\"",
          "X": 0.9999999999999609,
          "Y": -1.0593262815788385
         },
         {
          "Outlier": "\"\\\"N/A\\\"\"",
          "X": 1.0999999999999606,
          "Y": -9.07924056870757
         },
         {
          "Outlier": "\"\\\"N/A\\\"\"",
          "X": 1.1999999999999602,
          "Y": -2.1614233059863004
         },
         {
          "Outlier": "\"\\\"N/A\\\"\"",
          "X": 1.2999999999999599,
          "Y": 0.31345430713853695
         },
         {
          "Outlier": "\"\\\"N/A\\\"\"",
          "X": 1.3999999999999595,
          "Y": -5.400277578279462
         },
         {
          "Outlier": "\"\\\"N/A\\\"\"",
          "X": 1.4999999999999591,
          "Y": -4.436188526671772
         },
         {
          "Outlier": "\"\\\"N/A\\\"\"",
          "X": 1.5999999999999588,
          "Y": -2.9102179378921664
         },
         {
          "Outlier": "\"\\\"N/A\\\"\"",
          "X": 1.6999999999999584,
          "Y": -5.135169825376525
         },
         {
          "Outlier": "\"\\\"N/A\\\"\"",
          "X": 1.799999999999958,
          "Y": -5.065288489461462
         },
         {
          "Outlier": "\"\\\"N/A\\\"\"",
          "X": 1.8999999999999577,
          "Y": -3.1211027470413693
         },
         {
          "Outlier": "\"\\\"N/A\\\"\"",
          "X": 1.9999999999999574,
          "Y": -6.459177978696219
         },
         {
          "Outlier": "\"\\\"N/A\\\"\"",
          "X": 2.099999999999957,
          "Y": -3.8896982088240093
         },
         {
          "Outlier": "\"\\\"N/A\\\"\"",
          "X": 2.1999999999999567,
          "Y": -4.7593136769019875
         },
         {
          "Outlier": "\"\\\"N/A\\\"\"",
          "X": 2.2999999999999563,
          "Y": -12.181190487174742
         },
         {
          "Outlier": "\"\\\"N/A\\\"\"",
          "X": 2.399999999999956,
          "Y": -6.673684284142729
         },
         {
          "Outlier": "\"\\\"N/A\\\"\"",
          "X": 2.4999999999999556,
          "Y": -9.789023088089891
         },
         {
          "Outlier": "\"\\\"N/A\\\"\"",
          "X": 2.5999999999999552,
          "Y": -4.740043170991181
         },
         {
          "Outlier": "\"\\\"N/A\\\"\"",
          "X": 2.699999999999955,
          "Y": -8.055683384988896
         },
         {
          "Outlier": "\"\\\"N/A\\\"\"",
          "X": 2.7999999999999545,
          "Y": -12.63437286025416
         },
         {
          "Outlier": "\"\\\"N/A\\\"\"",
          "X": 2.899999999999954,
          "Y": -12.085964619725967
         },
         {
          "Outlier": "\"\\\"N/A\\\"\"",
          "X": 2.999999999999954,
          "Y": -9.422524072024432
         },
         {
          "Outlier": "\"\\\"N/A\\\"\"",
          "X": 3.0999999999999535,
          "Y": -8.886074101407017
         },
         {
          "Outlier": "\"\\\"N/A\\\"\"",
          "X": 3.199999999999953,
          "Y": -11.27810399561823
         },
         {
          "Outlier": "\"\\\"N/A\\\"\"",
          "X": 3.2999999999999527,
          "Y": -9.855198652168369
         },
         {
          "Outlier": "\"\\\"N/A\\\"\"",
          "X": 3.3999999999999524,
          "Y": -10.170888705769473
         },
         {
          "Outlier": "\"\\\"N/A\\\"\"",
          "X": 3.499999999999952,
          "Y": -14.55708867386954
         },
         {
          "Outlier": "\"\\\"N/A\\\"\"",
          "X": 3.5999999999999517,
          "Y": -14.27117515932619
         },
         {
          "Outlier": "\"\\\"N/A\\\"\"",
          "X": 3.6999999999999513,
          "Y": -8.090394722911157
         },
         {
          "Outlier": "\"\\\"N/A\\\"\"",
          "X": 3.799999999999951,
          "Y": -10.273304567592001
         },
         {
          "Outlier": "\"\\\"N/A\\\"\"",
          "X": 3.8999999999999506,
          "Y": -11.695073212432655
         },
         {
          "Outlier": "\"\\\"N/A\\\"\"",
          "X": 3.9999999999999503,
          "Y": -11.867129810402322
         },
         {
          "Outlier": "\"\\\"N/A\\\"\"",
          "X": 4.09999999999995,
          "Y": -16.8498154588503
         },
         {
          "Outlier": "\"\\\"N/A\\\"\"",
          "X": 4.1999999999999496,
          "Y": -16.53896588436071
         },
         {
          "Outlier": "\"\\\"N/A\\\"\"",
          "X": 4.299999999999949,
          "Y": -11.663516915984527
         },
         {
          "Outlier": "\"\\\"N/A\\\"\"",
          "X": 4.399999999999949,
          "Y": -12.698087649578806
         },
         {
          "Outlier": "\"\\\"N/A\\\"\"",
          "X": 4.4999999999999485,
          "Y": -18.177565366157218
         },
         {
          "Outlier": "\"\\\"N/A\\\"\"",
          "X": 4.599999999999948,
          "Y": -16.84436848865934
         },
         {
          "Outlier": "\"\\\"N/A\\\"\"",
          "X": 4.699999999999948,
          "Y": -15.420716046678377
         },
         {
          "Outlier": "\"\\\"N/A\\\"\"",
          "X": 4.799999999999947,
          "Y": -18.473050756952166
         },
         {
          "Outlier": "\"\\\"N/A\\\"\"",
          "X": 4.899999999999947,
          "Y": -19.121156777139454
         },
         {
          "Outlier": "\"\\\"N/A\\\"\"",
          "X": 4.999999999999947,
          "Y": -17.165692870099107
         },
         {
          "Outlier": "\"\\\"N/A\\\"\"",
          "X": 5.099999999999946,
          "Y": -20.891369262299733
         },
         {
          "Outlier": "\"\\\"N/A\\\"\"",
          "X": 5.199999999999946,
          "Y": -13.607610821652585
         },
         {
          "Outlier": "\"\\\"N/A\\\"\"",
          "X": 5.299999999999946,
          "Y": -17.12307347164733
         },
         {
          "Outlier": "\"\\\"N/A\\\"\"",
          "X": 5.399999999999945,
          "Y": -13.958609602085442
         },
         {
          "Outlier": "\"\\\"N/A\\\"\"",
          "X": 5.499999999999945,
          "Y": -17.47768600225186
         },
         {
          "Outlier": "\"\\\"N/A\\\"\"",
          "X": 5.599999999999945,
          "Y": -17.604436050814414
         },
         {
          "Outlier": "\"\\\"N/A\\\"\"",
          "X": 5.699999999999944,
          "Y": -21.27275817850835
         },
         {
          "Outlier": "\"\\\"N/A\\\"\"",
          "X": 5.799999999999944,
          "Y": -19.55705686119181
         },
         {
          "Outlier": "\"\\\"N/A\\\"\"",
          "X": 5.8999999999999435,
          "Y": -17.404886201878703
         },
         {
          "Outlier": "\"\\\"N/A\\\"\"",
          "X": 5.999999999999943,
          "Y": -19.140197771117332
         },
         {
          "Outlier": "\"\\\"N/A\\\"\"",
          "X": 6.099999999999945,
          "Y": -20.337375686131875
         },
         {
          "Outlier": "\"\\\"N/A\\\"\"",
          "X": 6.1999999999999424,
          "Y": -24.110897872822957
         },
         {
          "Outlier": "\"\\\"N/A\\\"\"",
          "X": 6.29999999999994,
          "Y": -20.134833060486056
         },
         {
          "Outlier": "\"\\\"N/A\\\"\"",
          "X": 6.399999999999942,
          "Y": -27.569200086636886
         },
         {
          "Outlier": "\"\\\"N/A\\\"\"",
          "X": 6.499999999999943,
          "Y": -23.83296768502689
         },
         {
          "Outlier": "\"\\\"N/A\\\"\"",
          "X": 6.599999999999941,
          "Y": -19.568447927681344
         },
         {
          "Outlier": "\"\\\"N/A\\\"\"",
          "X": 6.699999999999939,
          "Y": -27.6097813814334
         },
         {
          "Outlier": "\"\\\"N/A\\\"\"",
          "X": 6.79999999999994,
          "Y": -25.481923917490427
         },
         {
          "Outlier": "\"\\\"N/A\\\"\"",
          "X": 6.899999999999942,
          "Y": -20.47696894626756
         },
         {
          "Outlier": "\"\\\"N/A\\\"\"",
          "X": 6.99999999999994,
          "Y": -30.072976724664414
         },
         {
          "Outlier": "\"\\\"N/A\\\"\"",
          "X": 7.0999999999999375,
          "Y": -24.217778137252267
         },
         {
          "Outlier": "\"\\\"N/A\\\"\"",
          "X": 7.199999999999939,
          "Y": -27.41626527539948
         },
         {
          "Outlier": "\"\\\"N/A\\\"\"",
          "X": 7.29999999999994,
          "Y": -24.29177692372403
         },
         {
          "Outlier": "\"\\\"N/A\\\"\"",
          "X": 7.399999999999938,
          "Y": -26.86607247588861
         },
         {
          "Outlier": "\"\\\"N/A\\\"\"",
          "X": 7.499999999999936,
          "Y": -33.371120085808656
         },
         {
          "Outlier": "\"\\\"N/A\\\"\"",
          "X": 7.5999999999999375,
          "Y": -27.69470537042696
         },
         {
          "Outlier": "\"\\\"N/A\\\"\"",
          "X": 7.699999999999939,
          "Y": -30.340277774372453
         },
         {
          "Outlier": "\"\\\"N/A\\\"\"",
          "X": 7.799999999999937,
          "Y": -29.33878658504028
         },
         {
          "Outlier": "\"\\\"N/A\\\"\"",
          "X": 7.899999999999935,
          "Y": -27.322602248932427
         },
         {
          "Outlier": "\"\\\"N/A\\\"\"",
          "X": 7.999999999999936,
          "Y": -24.961014504360598
         },
         {
          "Outlier": "\"\\\"N/A\\\"\"",
          "X": 8.099999999999937,
          "Y": -30.17995321583299
         },
         {
          "Outlier": "\"\\\"N/A\\\"\"",
          "X": 8.199999999999935,
          "Y": -30.913884146956836
         },
         {
          "Outlier": "\"\\\"N/A\\\"\"",
          "X": 8.299999999999933,
          "Y": -35.59069775591435
         },
         {
          "Outlier": "\"\\\"N/A\\\"\"",
          "X": 8.399999999999935,
          "Y": -32.51809926605115
         },
         {
          "Outlier": "\"\\\"N/A\\\"\"",
          "X": 8.499999999999936,
          "Y": -34.05406321361595
         },
         {
          "Outlier": "\"\\\"N/A\\\"\"",
          "X": 8.599999999999934,
          "Y": -35.060601380261694
         },
         {
          "Outlier": "\"\\\"N/A\\\"\"",
          "X": 8.699999999999932,
          "Y": -30.289200177070093
         },
         {
          "Outlier": "\"\\\"N/A\\\"\"",
          "X": 8.799999999999933,
          "Y": -33.30586313399759
         },
         {
          "Outlier": "\"\\\"N/A\\\"\"",
          "X": 8.899999999999935,
          "Y": -29.201854094753724
         },
         {
          "Outlier": "\"\\\"N/A\\\"\"",
          "X": 8.999999999999932,
          "Y": -33.052803274249136
         },
         {
          "Outlier": "\"\\\"N/A\\\"\"",
          "X": 9.09999999999993,
          "Y": -34.10907548599581
         },
         {
          "Outlier": "\"\\\"N/A\\\"\"",
          "X": 9.199999999999932,
          "Y": -34.656490155989154
         },
         {
          "Outlier": "\"\\\"N/A\\\"\"",
          "X": 9.299999999999933,
          "Y": -34.68778165829074
         },
         {
          "Outlier": "\"\\\"N/A\\\"\"",
          "X": 9.399999999999931,
          "Y": -38.19065664034532
         },
         {
          "Outlier": "\"\\\"N/A\\\"\"",
          "X": 9.499999999999929,
          "Y": -27.81001552071432
         },
         {
          "Outlier": "\"\\\"N/A\\\"\"",
          "X": 9.59999999999993,
          "Y": -28.888845574204367
         },
         {
          "Outlier": "\"\\\"N/A\\\"\"",
          "X": 9.699999999999932,
          "Y": -39.24911332358177
         },
         {
          "Outlier": "\"\\\"N/A\\\"\"",
          "X": 9.79999999999993,
          "Y": -36.60715162976766
         },
         {
          "Outlier": "\"\\\"N/A\\\"\"",
          "X": 9.899999999999928,
          "Y": -34.35270565592144
         },
         {
          "Outlier": "\"\\\"N/A\\\"\"",
          "X": 9.999999999999929,
          "Y": -44.00421495806466
         }
        ]
       },
       "encoding": {
        "color": {
         "field": "Outlier"
        },
        "x": {
         "field": "X",
         "type": "quantitative"
        },
        "y": {
         "field": "Y",
         "type": "quantitative"
        }
       },
       "height": 200,
       "mark": "circle",
       "width": 200
      },
      "image/png": "[encoded data removed]"
     },
     "metadata": {},
     "output_type": "display_data"
    }
   ],
   "source": [
    "posteriorPredictive :: MonadInfer m => [Double] -> [Double] -> m [Double]\n",
    "posteriorPredictive xs ys = do\n",
    "    (slope, intercept, noise) <- regression xs ys\n",
    "    forM xs \\x -> do\n",
    "            let y' = x * slope + intercept\n",
    "            normal y' (sqrt noise)\n",
    "\n",
    "\n",
    "predictive <- head <$> (sampleIOfixed $ prior $ mh 1000 $ posteriorPredictive range (snd <$> regressionSamples))\n",
    "plotVega (fmap (second (T.pack . show)) (zip (zip range predictive) (Prelude.repeat \"N/A\")))\n"
   ]
  },
  {
   "cell_type": "markdown",
   "metadata": {},
   "source": [
    "Inspired by the tutorials on probabilistic programming language Gen (https://www.gen.dev/tutorials/iterative-inference/tutorial), we'll make the inference problem harder by using the example of a regression with outliers. The idea is that each datapoint $(x,y)$ has $y$ either linearly dependent on $x$, or randomly sampled (an outlier). So the goal of inference is to *jointly* work out what the linear relationship is and which points flout it."
   ]
  },
  {
   "cell_type": "code",
   "execution_count": 25,
   "metadata": {},
   "outputs": [],
   "source": [
    "paramPrior = do\n",
    "    slope <- normal 0 2\n",
    "    intercept <- normal 0 2\n",
    "    noise <- gamma 4 4\n",
    "    prob_outlier <- uniform 0 0.5 \n",
    "    return (slope, intercept, noise, prob_outlier)\n",
    "\n",
    "forward (slope, intercept, noise, probOutlier) x = do\n",
    "    isOutlier <- bernoulli probOutlier\n",
    "    let meanParams = if isOutlier\n",
    "                    then (0, 20)\n",
    "                    else (x*slope + intercept, sqrt noise)\n",
    "    return (meanParams, isOutlier)\n",
    "\n",
    "regressionWithOutliersData :: (MonadSample m, Traversable t) => t Double -> m (t ((Double, Double), Bool))\n",
    "regressionWithOutliersData xs = do\n",
    "    params <- paramPrior\n",
    "\n",
    "    forM xs \\x -> do\n",
    "        ((mu, std), isOutlier) <- forward params x\n",
    "        y <- normal mu std\n",
    "        return ((x, y), isOutlier)"
   ]
  },
  {
   "cell_type": "markdown",
   "metadata": {},
   "source": [
    "This is our model. It describes a process for getting $y$ from $x$. Specifically, you start by drawing values for the slope $s$, bias $b$ and noise $n$. Then for each input $x$, you flip a coin. If it lands one way, you draw a $y$ value from a normal with mean $x*slope + bias$ and std $n$, and otherwise you draw from a centered normal with large variance.\n",
    "\n",
    "Given a list of $x$ values, this gives a distribution over lists of $y$ values, from which we can sample:\n",
    "\n",
    "\n"
   ]
  },
  {
   "cell_type": "code",
   "execution_count": 26,
   "metadata": {},
   "outputs": [
    {
     "data": {
      "application/vnd.vegalite.v4+json": {
       "$schema": "https://vega.github.io/schema/vega-lite/v4.json",
       "data": {
        "values": [
         {
          "Outlier": "\"True\"",
          "X": -10,
          "Y": -2.521234491836898
         },
         {
          "Outlier": "\"False\"",
          "X": -9.9,
          "Y": 36.789085457575375
         },
         {
          "Outlier": "\"False\"",
          "X": -9.8,
          "Y": 35.18402975050138
         },
         {
          "Outlier": "\"False\"",
          "X": -9.700000000000001,
          "Y": 41.35534401313414
         },
         {
          "Outlier": "\"False\"",
          "X": -9.600000000000001,
          "Y": 36.55331558595721
         },
         {
          "Outlier": "\"True\"",
          "X": -9.500000000000002,
          "Y": 21.718114769732157
         },
         {
          "Outlier": "\"False\"",
          "X": -9.400000000000002,
          "Y": 38.33176015019564
         },
         {
          "Outlier": "\"False\"",
          "X": -9.300000000000002,
          "Y": 41.178757012475856
         },
         {
          "Outlier": "\"False\"",
          "X": -9.200000000000003,
          "Y": 35.64101302518951
         },
         {
          "Outlier": "\"True\"",
          "X": -9.100000000000003,
          "Y": -13.755720847406922
         },
         {
          "Outlier": "\"False\"",
          "X": -9.000000000000004,
          "Y": 32.50857708895729
         },
         {
          "Outlier": "\"False\"",
          "X": -8.900000000000004,
          "Y": 34.442727417802494
         },
         {
          "Outlier": "\"False\"",
          "X": -8.800000000000004,
          "Y": 29.372271599166044
         },
         {
          "Outlier": "\"False\"",
          "X": -8.700000000000005,
          "Y": 36.42543123803653
         },
         {
          "Outlier": "\"True\"",
          "X": -8.600000000000005,
          "Y": 21.209522912272885
         },
         {
          "Outlier": "\"False\"",
          "X": -8.500000000000005,
          "Y": 35.522372810618016
         },
         {
          "Outlier": "\"True\"",
          "X": -8.400000000000006,
          "Y": 30.127415054316845
         },
         {
          "Outlier": "\"False\"",
          "X": -8.300000000000006,
          "Y": 34.28188745350774
         },
         {
          "Outlier": "\"False\"",
          "X": -8.200000000000006,
          "Y": 33.408508488924
         },
         {
          "Outlier": "\"False\"",
          "X": -8.100000000000007,
          "Y": 32.515140283898525
         },
         {
          "Outlier": "\"False\"",
          "X": -8.000000000000007,
          "Y": 26.223809912050136
         },
         {
          "Outlier": "\"True\"",
          "X": -7.9000000000000075,
          "Y": 1.3254369926330278
         },
         {
          "Outlier": "\"False\"",
          "X": -7.800000000000008,
          "Y": 31.620358657638594
         },
         {
          "Outlier": "\"True\"",
          "X": -7.700000000000008,
          "Y": -7.583413175043844
         },
         {
          "Outlier": "\"False\"",
          "X": -7.6000000000000085,
          "Y": 28.751677189336498
         },
         {
          "Outlier": "\"False\"",
          "X": -7.500000000000009,
          "Y": 27.69804724403807
         },
         {
          "Outlier": "\"False\"",
          "X": -7.400000000000009,
          "Y": 29.133302778016855
         },
         {
          "Outlier": "\"False\"",
          "X": -7.30000000000001,
          "Y": 27.645385254396224
         },
         {
          "Outlier": "\"False\"",
          "X": -7.20000000000001,
          "Y": 28.17395870721552
         },
         {
          "Outlier": "\"False\"",
          "X": -7.10000000000001,
          "Y": 29.290510393813296
         },
         {
          "Outlier": "\"False\"",
          "X": -7.000000000000011,
          "Y": 29.848898551810073
         },
         {
          "Outlier": "\"True\"",
          "X": -6.900000000000011,
          "Y": -28.39230800017263
         },
         {
          "Outlier": "\"False\"",
          "X": -6.800000000000011,
          "Y": 26.172212021377504
         },
         {
          "Outlier": "\"False\"",
          "X": -6.700000000000012,
          "Y": 29.610809419679285
         },
         {
          "Outlier": "\"True\"",
          "X": -6.600000000000012,
          "Y": 10.479809459457055
         },
         {
          "Outlier": "\"False\"",
          "X": -6.500000000000012,
          "Y": 27.394742105786342
         },
         {
          "Outlier": "\"False\"",
          "X": -6.400000000000013,
          "Y": 28.73295290979868
         },
         {
          "Outlier": "\"False\"",
          "X": -6.300000000000013,
          "Y": 28.41598889756337
         },
         {
          "Outlier": "\"False\"",
          "X": -6.2000000000000135,
          "Y": 25.77202864757972
         },
         {
          "Outlier": "\"True\"",
          "X": -6.100000000000014,
          "Y": 0.5479742283234765
         },
         {
          "Outlier": "\"False\"",
          "X": -6.000000000000014,
          "Y": 23.601841731087788
         },
         {
          "Outlier": "\"False\"",
          "X": -5.900000000000015,
          "Y": 23.445495765762008
         },
         {
          "Outlier": "\"False\"",
          "X": -5.800000000000015,
          "Y": 19.08406611215662
         },
         {
          "Outlier": "\"False\"",
          "X": -5.700000000000015,
          "Y": 19.730828125014146
         },
         {
          "Outlier": "\"False\"",
          "X": -5.600000000000016,
          "Y": 19.692670915413657
         },
         {
          "Outlier": "\"True\"",
          "X": -5.500000000000016,
          "Y": 25.726496546899146
         },
         {
          "Outlier": "\"False\"",
          "X": -5.400000000000016,
          "Y": 21.117617132325535
         },
         {
          "Outlier": "\"False\"",
          "X": -5.300000000000017,
          "Y": 22.80767457090531
         },
         {
          "Outlier": "\"False\"",
          "X": -5.200000000000017,
          "Y": 23.43861606677875
         },
         {
          "Outlier": "\"True\"",
          "X": -5.100000000000017,
          "Y": -9.523191338674229
         },
         {
          "Outlier": "\"False\"",
          "X": -5.000000000000018,
          "Y": 23.668400744363446
         },
         {
          "Outlier": "\"False\"",
          "X": -4.900000000000018,
          "Y": 25.492563933469956
         },
         {
          "Outlier": "\"False\"",
          "X": -4.8000000000000185,
          "Y": 23.62730267988111
         },
         {
          "Outlier": "\"True\"",
          "X": -4.700000000000019,
          "Y": -0.6823323610830885
         },
         {
          "Outlier": "\"True\"",
          "X": -4.600000000000019,
          "Y": 2.9649289118444173
         },
         {
          "Outlier": "\"False\"",
          "X": -4.5000000000000195,
          "Y": 17.944473782953157
         },
         {
          "Outlier": "\"False\"",
          "X": -4.40000000000002,
          "Y": 17.799972718610636
         },
         {
          "Outlier": "\"False\"",
          "X": -4.30000000000002,
          "Y": 19.78120704768425
         },
         {
          "Outlier": "\"False\"",
          "X": -4.200000000000021,
          "Y": 18.285254637974234
         },
         {
          "Outlier": "\"False\"",
          "X": -4.100000000000021,
          "Y": 15.578715303382188
         },
         {
          "Outlier": "\"False\"",
          "X": -4.000000000000021,
          "Y": 16.148328004958355
         },
         {
          "Outlier": "\"False\"",
          "X": -3.9000000000000217,
          "Y": 20.35717175766626
         },
         {
          "Outlier": "\"True\"",
          "X": -3.800000000000022,
          "Y": -17.80455292054352
         },
         {
          "Outlier": "\"False\"",
          "X": -3.7000000000000224,
          "Y": 18.376760991464458
         },
         {
          "Outlier": "\"False\"",
          "X": -3.6000000000000227,
          "Y": 15.90780550841558
         },
         {
          "Outlier": "\"False\"",
          "X": -3.500000000000023,
          "Y": 15.207113705694637
         },
         {
          "Outlier": "\"False\"",
          "X": -3.4000000000000234,
          "Y": 9.963571858253495
         },
         {
          "Outlier": "\"False\"",
          "X": -3.300000000000024,
          "Y": 12.821247847247632
         },
         {
          "Outlier": "\"False\"",
          "X": -3.200000000000024,
          "Y": 14.474609602503538
         },
         {
          "Outlier": "\"True\"",
          "X": -3.1000000000000245,
          "Y": -21.979946965155662
         },
         {
          "Outlier": "\"False\"",
          "X": -3.000000000000025,
          "Y": 13.214418020770388
         },
         {
          "Outlier": "\"True\"",
          "X": -2.9000000000000252,
          "Y": -5.809886295726887
         },
         {
          "Outlier": "\"False\"",
          "X": -2.8000000000000256,
          "Y": 10.92773828460967
         },
         {
          "Outlier": "\"True\"",
          "X": -2.700000000000026,
          "Y": -0.2791747814301354
         },
         {
          "Outlier": "\"False\"",
          "X": -2.6000000000000263,
          "Y": 11.508250934355509
         },
         {
          "Outlier": "\"True\"",
          "X": -2.5000000000000266,
          "Y": -0.8730342312852736
         },
         {
          "Outlier": "\"True\"",
          "X": -2.400000000000027,
          "Y": 5.055704668335648
         },
         {
          "Outlier": "\"False\"",
          "X": -2.3000000000000274,
          "Y": 12.197647769348496
         },
         {
          "Outlier": "\"False\"",
          "X": -2.2000000000000277,
          "Y": 11.347757239027988
         },
         {
          "Outlier": "\"False\"",
          "X": -2.100000000000028,
          "Y": 10.09116205613724
         },
         {
          "Outlier": "\"False\"",
          "X": -2.0000000000000284,
          "Y": 12.722882042395195
         },
         {
          "Outlier": "\"False\"",
          "X": -1.9000000000000288,
          "Y": 8.315264172421898
         },
         {
          "Outlier": "\"False\"",
          "X": -1.8000000000000291,
          "Y": 8.65177351903354
         },
         {
          "Outlier": "\"False\"",
          "X": -1.7000000000000295,
          "Y": 7.914102684776636
         },
         {
          "Outlier": "\"False\"",
          "X": -1.6000000000000298,
          "Y": 4.07218523859562
         },
         {
          "Outlier": "\"False\"",
          "X": -1.5000000000000302,
          "Y": 5.099233355945148
         },
         {
          "Outlier": "\"True\"",
          "X": -1.4000000000000306,
          "Y": -21.17291849671105
         },
         {
          "Outlier": "\"True\"",
          "X": -1.300000000000031,
          "Y": 52.34675095300174
         },
         {
          "Outlier": "\"False\"",
          "X": -1.2000000000000313,
          "Y": 8.773114679308144
         },
         {
          "Outlier": "\"True\"",
          "X": -1.1000000000000316,
          "Y": -19.28137172938182
         },
         {
          "Outlier": "\"False\"",
          "X": -1.000000000000032,
          "Y": 4.979378746597644
         },
         {
          "Outlier": "\"False\"",
          "X": -0.9000000000000323,
          "Y": 2.1507467021800313
         },
         {
          "Outlier": "\"False\"",
          "X": -0.8000000000000327,
          "Y": 4.632638302924449
         },
         {
          "Outlier": "\"False\"",
          "X": -0.700000000000033,
          "Y": 3.7202995880459198
         },
         {
          "Outlier": "\"False\"",
          "X": -0.6000000000000334,
          "Y": 5.43150758303764
         },
         {
          "Outlier": "\"False\"",
          "X": -0.5000000000000338,
          "Y": -3.6594113443461254
         },
         {
          "Outlier": "\"True\"",
          "X": -0.4000000000000341,
          "Y": 9.00654633879142
         },
         {
          "Outlier": "\"False\"",
          "X": -0.30000000000003446,
          "Y": 3.873843614987833
         },
         {
          "Outlier": "\"True\"",
          "X": -0.20000000000003482,
          "Y": 9.785458568911093
         },
         {
          "Outlier": "\"False\"",
          "X": -0.10000000000003517,
          "Y": 4.756874914881668
         },
         {
          "Outlier": "\"True\"",
          "X": -3.552713678800501e-14,
          "Y": 5.487247935254752
         },
         {
          "Outlier": "\"False\"",
          "X": 0.09999999999996412,
          "Y": 0.5359282360979474
         },
         {
          "Outlier": "\"False\"",
          "X": 0.19999999999996376,
          "Y": -3.5227281079442645
         },
         {
          "Outlier": "\"False\"",
          "X": 0.2999999999999634,
          "Y": 3.99249302789355
         },
         {
          "Outlier": "\"False\"",
          "X": 0.39999999999996305,
          "Y": 0.8316196252123704
         },
         {
          "Outlier": "\"True\"",
          "X": 0.4999999999999627,
          "Y": -2.794066957652075
         },
         {
          "Outlier": "\"False\"",
          "X": 0.5999999999999623,
          "Y": -0.3284931404511712
         },
         {
          "Outlier": "\"True\"",
          "X": 0.699999999999962,
          "Y": 1.9852879542151132
         },
         {
          "Outlier": "\"True\"",
          "X": 0.7999999999999616,
          "Y": -1.842165738760618
         },
         {
          "Outlier": "\"True\"",
          "X": 0.8999999999999613,
          "Y": -12.588776612448756
         },
         {
          "Outlier": "\"False\"",
          "X": 0.9999999999999609,
          "Y": -3.474599607129805
         },
         {
          "Outlier": "\"False\"",
          "X": 1.0999999999999606,
          "Y": -10.428007844437744
         },
         {
          "Outlier": "\"True\"",
          "X": 1.1999999999999602,
          "Y": 5.68975005029962
         },
         {
          "Outlier": "\"True\"",
          "X": 1.2999999999999599,
          "Y": 6.064884403004088
         },
         {
          "Outlier": "\"False\"",
          "X": 1.3999999999999595,
          "Y": -4.120133272920624
         },
         {
          "Outlier": "\"True\"",
          "X": 1.4999999999999591,
          "Y": 4.051796671307383
         },
         {
          "Outlier": "\"False\"",
          "X": 1.5999999999999588,
          "Y": -4.796722539099063
         },
         {
          "Outlier": "\"False\"",
          "X": 1.6999999999999584,
          "Y": -3.7303940999508494
         },
         {
          "Outlier": "\"False\"",
          "X": 1.799999999999958,
          "Y": -9.163760306551477
         },
         {
          "Outlier": "\"False\"",
          "X": 1.8999999999999577,
          "Y": -5.344046476059762
         },
         {
          "Outlier": "\"False\"",
          "X": 1.9999999999999574,
          "Y": -7.93808811300889
         },
         {
          "Outlier": "\"False\"",
          "X": 2.099999999999957,
          "Y": -10.288552745886417
         },
         {
          "Outlier": "\"True\"",
          "X": 2.1999999999999567,
          "Y": -20.685959009678115
         },
         {
          "Outlier": "\"False\"",
          "X": 2.2999999999999563,
          "Y": -6.2115191163446974
         },
         {
          "Outlier": "\"False\"",
          "X": 2.399999999999956,
          "Y": -6.778125810858345
         },
         {
          "Outlier": "\"True\"",
          "X": 2.4999999999999556,
          "Y": -39.749638356895154
         },
         {
          "Outlier": "\"True\"",
          "X": 2.5999999999999552,
          "Y": -16.459571352871816
         },
         {
          "Outlier": "\"False\"",
          "X": 2.699999999999955,
          "Y": -6.6721180577983645
         },
         {
          "Outlier": "\"False\"",
          "X": 2.7999999999999545,
          "Y": -11.708721468547434
         },
         {
          "Outlier": "\"False\"",
          "X": 2.899999999999954,
          "Y": -6.753429231960778
         },
         {
          "Outlier": "\"False\"",
          "X": 2.999999999999954,
          "Y": -12.394533563089762
         },
         {
          "Outlier": "\"False\"",
          "X": 3.0999999999999535,
          "Y": -10.56749804484708
         },
         {
          "Outlier": "\"False\"",
          "X": 3.199999999999953,
          "Y": -16.045485971285686
         },
         {
          "Outlier": "\"False\"",
          "X": 3.2999999999999527,
          "Y": -14.91182257738623
         },
         {
          "Outlier": "\"False\"",
          "X": 3.3999999999999524,
          "Y": -10.472320675720287
         },
         {
          "Outlier": "\"True\"",
          "X": 3.499999999999952,
          "Y": 1.9131500987249788
         },
         {
          "Outlier": "\"False\"",
          "X": 3.5999999999999517,
          "Y": -14.66778374390417
         },
         {
          "Outlier": "\"True\"",
          "X": 3.6999999999999513,
          "Y": 5.153684454115108
         },
         {
          "Outlier": "\"False\"",
          "X": 3.799999999999951,
          "Y": -10.496651326071238
         },
         {
          "Outlier": "\"True\"",
          "X": 3.8999999999999506,
          "Y": 22.84056140240709
         },
         {
          "Outlier": "\"True\"",
          "X": 3.9999999999999503,
          "Y": 3.2396386364094205
         },
         {
          "Outlier": "\"True\"",
          "X": 4.09999999999995,
          "Y": 6.708380733069407
         },
         {
          "Outlier": "\"True\"",
          "X": 4.1999999999999496,
          "Y": 20.86878984770728
         },
         {
          "Outlier": "\"True\"",
          "X": 4.299999999999949,
          "Y": -6.3966233979241345
         },
         {
          "Outlier": "\"False\"",
          "X": 4.399999999999949,
          "Y": -14.606505859357535
         },
         {
          "Outlier": "\"False\"",
          "X": 4.4999999999999485,
          "Y": -18.853215068356317
         },
         {
          "Outlier": "\"True\"",
          "X": 4.599999999999948,
          "Y": -7.517052069557901
         },
         {
          "Outlier": "\"True\"",
          "X": 4.699999999999948,
          "Y": 10.156710674811363
         },
         {
          "Outlier": "\"False\"",
          "X": 4.799999999999947,
          "Y": -12.528596444336038
         },
         {
          "Outlier": "\"False\"",
          "X": 4.899999999999947,
          "Y": -13.521483460136974
         },
         {
          "Outlier": "\"False\"",
          "X": 4.999999999999947,
          "Y": -16.531615658287123
         },
         {
          "Outlier": "\"False\"",
          "X": 5.099999999999946,
          "Y": -18.322153656000467
         },
         {
          "Outlier": "\"False\"",
          "X": 5.199999999999946,
          "Y": -16.4891433351919
         },
         {
          "Outlier": "\"False\"",
          "X": 5.299999999999946,
          "Y": -16.890694082548837
         },
         {
          "Outlier": "\"False\"",
          "X": 5.399999999999945,
          "Y": -27.10025544252251
         },
         {
          "Outlier": "\"False\"",
          "X": 5.499999999999945,
          "Y": -17.23100783266737
         },
         {
          "Outlier": "\"False\"",
          "X": 5.599999999999945,
          "Y": -18.54783053015019
         },
         {
          "Outlier": "\"True\"",
          "X": 5.699999999999944,
          "Y": -30.545333673724084
         },
         {
          "Outlier": "\"False\"",
          "X": 5.799999999999944,
          "Y": -19.923696363773328
         },
         {
          "Outlier": "\"False\"",
          "X": 5.8999999999999435,
          "Y": -22.136489817167888
         },
         {
          "Outlier": "\"False\"",
          "X": 5.999999999999943,
          "Y": -24.980306510353472
         },
         {
          "Outlier": "\"False\"",
          "X": 6.099999999999945,
          "Y": -19.720609955051454
         },
         {
          "Outlier": "\"True\"",
          "X": 6.1999999999999424,
          "Y": 0.6228623942149287
         },
         {
          "Outlier": "\"False\"",
          "X": 6.29999999999994,
          "Y": -23.63925935003201
         },
         {
          "Outlier": "\"True\"",
          "X": 6.399999999999942,
          "Y": 2.239515459618779
         },
         {
          "Outlier": "\"False\"",
          "X": 6.499999999999943,
          "Y": -23.91989098774493
         },
         {
          "Outlier": "\"False\"",
          "X": 6.599999999999941,
          "Y": -25.245408138250525
         },
         {
          "Outlier": "\"False\"",
          "X": 6.699999999999939,
          "Y": -26.497963063893945
         },
         {
          "Outlier": "\"False\"",
          "X": 6.79999999999994,
          "Y": -19.49187200406752
         },
         {
          "Outlier": "\"True\"",
          "X": 6.899999999999942,
          "Y": -9.982787037204472
         },
         {
          "Outlier": "\"False\"",
          "X": 6.99999999999994,
          "Y": -28.083633563341674
         },
         {
          "Outlier": "\"True\"",
          "X": 7.0999999999999375,
          "Y": -16.15505585602092
         },
         {
          "Outlier": "\"True\"",
          "X": 7.199999999999939,
          "Y": -8.329039625200902
         },
         {
          "Outlier": "\"False\"",
          "X": 7.29999999999994,
          "Y": -21.83519860229113
         },
         {
          "Outlier": "\"False\"",
          "X": 7.399999999999938,
          "Y": -31.200888581150686
         },
         {
          "Outlier": "\"False\"",
          "X": 7.499999999999936,
          "Y": -26.13306220859358
         },
         {
          "Outlier": "\"False\"",
          "X": 7.5999999999999375,
          "Y": -28.980197436927625
         },
         {
          "Outlier": "\"True\"",
          "X": 7.699999999999939,
          "Y": 16.081726222125667
         },
         {
          "Outlier": "\"False\"",
          "X": 7.799999999999937,
          "Y": -28.76018606337038
         },
         {
          "Outlier": "\"False\"",
          "X": 7.899999999999935,
          "Y": -32.39979422697814
         },
         {
          "Outlier": "\"False\"",
          "X": 7.999999999999936,
          "Y": -29.447983608874367
         },
         {
          "Outlier": "\"False\"",
          "X": 8.099999999999937,
          "Y": -30.149621840602695
         },
         {
          "Outlier": "\"False\"",
          "X": 8.199999999999935,
          "Y": -28.663017590585554
         },
         {
          "Outlier": "\"True\"",
          "X": 8.299999999999933,
          "Y": -8.965399225398668
         },
         {
          "Outlier": "\"True\"",
          "X": 8.399999999999935,
          "Y": 0.3844483081277079
         },
         {
          "Outlier": "\"False\"",
          "X": 8.499999999999936,
          "Y": -33.36064781031126
         },
         {
          "Outlier": "\"False\"",
          "X": 8.599999999999934,
          "Y": -35.39851417386822
         },
         {
          "Outlier": "\"True\"",
          "X": 8.699999999999932,
          "Y": -20.90534898412312
         },
         {
          "Outlier": "\"True\"",
          "X": 8.799999999999933,
          "Y": 41.63808599001814
         },
         {
          "Outlier": "\"False\"",
          "X": 8.899999999999935,
          "Y": -33.19836159577596
         },
         {
          "Outlier": "\"True\"",
          "X": 8.999999999999932,
          "Y": 43.48114623515133
         },
         {
          "Outlier": "\"False\"",
          "X": 9.09999999999993,
          "Y": -36.15403419886382
         },
         {
          "Outlier": "\"False\"",
          "X": 9.199999999999932,
          "Y": -33.239906986606705
         },
         {
          "Outlier": "\"False\"",
          "X": 9.299999999999933,
          "Y": -33.19025458397705
         },
         {
          "Outlier": "\"False\"",
          "X": 9.399999999999931,
          "Y": -37.8123948540356
         },
         {
          "Outlier": "\"False\"",
          "X": 9.499999999999929,
          "Y": -38.03004708884521
         },
         {
          "Outlier": "\"False\"",
          "X": 9.59999999999993,
          "Y": -30.16570841169206
         },
         {
          "Outlier": "\"True\"",
          "X": 9.699999999999932,
          "Y": -2.805606058508546
         },
         {
          "Outlier": "\"False\"",
          "X": 9.79999999999993,
          "Y": -36.55202607463439
         },
         {
          "Outlier": "\"False\"",
          "X": 9.899999999999928,
          "Y": -35.93160194324061
         },
         {
          "Outlier": "\"True\"",
          "X": 9.999999999999929,
          "Y": 19.83568065833196
         }
        ]
       },
       "encoding": {
        "color": {
         "field": "Outlier"
        },
        "x": {
         "field": "X",
         "type": "quantitative"
        },
        "y": {
         "field": "Y",
         "type": "quantitative"
        }
       },
       "height": 200,
       "mark": "circle",
       "width": 200
      },
      "image/png": "[encoded data removed]"
     },
     "metadata": {},
     "output_type": "display_data"
    }
   ],
   "source": [
    "range = [-10,-9.9..10] :: [Double]\n",
    "samples <- sampleIOfixed $ regressionWithOutliersData range\n",
    "plotVega (fmap (second (T.pack . show)) samples)\n"
   ]
  },
  {
   "cell_type": "markdown",
   "metadata": {},
   "source": [
    "This is our dataset, with outliers shown in orange.\n",
    "\n",
    "Given this dataset of $(x,y)$ pairs, we now consider the problem of inference. That is, we want to infer the slope, bias, noise and *for each datapoint*, whether it's an outlier.\n",
    "\n",
    "Our first attempt will be to average a large number of samples, weighted by how likely they are. TODO: add the conditioning\n"
   ]
  },
  {
   "cell_type": "markdown",
   "metadata": {},
   "source": [
    "Why did this result in a bad guess? Simply because there are so many more bad guesses than good ones, so that even if you weight the good guesses higher, if you have almost none, then it doesn't matter.\n",
    "\n",
    "The classic solution to this problem (the solution space is too large for independent sampling) is to use a Markov Chain method, where each sample depends on the last. You can do so in a clever way, to obtain unbiased samples from the true posterior distribution in the limit of a sufficiently long chain. Monad-bayes implements the standard Markov Chain Monte Carlo approach with Metropolis Hastings transitions.\n",
    "\n",
    "Here's how it goes:"
   ]
  },
  {
   "cell_type": "code",
   "execution_count": 27,
   "metadata": {},
   "outputs": [],
   "source": [
    "regressionWithOutliers :: (MonadSample m, MonadCond m) =>\n",
    "    [Double] -> [Double] -> m ((Double, Double, Double, Double), [Bool])\n",
    "regressionWithOutliers xs ys = do\n",
    "    params <- paramPrior\n",
    "    \n",
    "    outliers <- forM (zip xs ys) \\(x, y) -> do\n",
    "        ((mu, std), isOutlier) <- forward params x\n",
    "        factor $ normalPdf mu std y\n",
    "        return isOutlier\n",
    "    return (params, outliers)"
   ]
  },
  {
   "cell_type": "code",
   "execution_count": 28,
   "metadata": {},
   "outputs": [
    {
     "data": {
      "text/plain": []
     },
     "metadata": {},
     "output_type": "display_data"
    }
   ],
   "source": [
    "\n",
    "mhRuns <- sampleIOfixed $ prior $ mh 10000 $ regressionWithOutliers range (snd . fst <$> samples)\n"
   ]
  },
  {
   "cell_type": "code",
   "execution_count": 29,
   "metadata": {},
   "outputs": [
    {
     "data": {
      "text/html": [
       "<style>/* Styles used for the Hoogle display in the pager */\n",
       ".hoogle-doc {\n",
       "display: block;\n",
       "padding-bottom: 1.3em;\n",
       "padding-left: 0.4em;\n",
       "}\n",
       ".hoogle-code {\n",
       "display: block;\n",
       "font-family: monospace;\n",
       "white-space: pre;\n",
       "}\n",
       ".hoogle-text {\n",
       "display: block;\n",
       "}\n",
       ".hoogle-name {\n",
       "color: green;\n",
       "font-weight: bold;\n",
       "}\n",
       ".hoogle-head {\n",
       "font-weight: bold;\n",
       "}\n",
       ".hoogle-sub {\n",
       "display: block;\n",
       "margin-left: 0.4em;\n",
       "}\n",
       ".hoogle-package {\n",
       "font-weight: bold;\n",
       "font-style: italic;\n",
       "}\n",
       ".hoogle-module {\n",
       "font-weight: bold;\n",
       "}\n",
       ".hoogle-class {\n",
       "font-weight: bold;\n",
       "}\n",
       ".get-type {\n",
       "color: green;\n",
       "font-weight: bold;\n",
       "font-family: monospace;\n",
       "display: block;\n",
       "white-space: pre-wrap;\n",
       "}\n",
       ".show-type {\n",
       "color: green;\n",
       "font-weight: bold;\n",
       "font-family: monospace;\n",
       "margin-left: 1em;\n",
       "}\n",
       ".mono {\n",
       "font-family: monospace;\n",
       "display: block;\n",
       "}\n",
       ".err-msg {\n",
       "color: red;\n",
       "font-style: italic;\n",
       "font-family: monospace;\n",
       "white-space: pre;\n",
       "display: block;\n",
       "}\n",
       "#unshowable {\n",
       "color: red;\n",
       "font-weight: bold;\n",
       "}\n",
       ".err-msg.in.collapse {\n",
       "padding-top: 0.7em;\n",
       "}\n",
       ".highlight-code {\n",
       "white-space: pre;\n",
       "font-family: monospace;\n",
       "}\n",
       ".suggestion-warning { \n",
       "font-weight: bold;\n",
       "color: rgb(200, 130, 0);\n",
       "}\n",
       ".suggestion-error { \n",
       "font-weight: bold;\n",
       "color: red;\n",
       "}\n",
       ".suggestion-name {\n",
       "font-weight: bold;\n",
       "}\n",
       "</style><div class=\"suggestion-name\" style=\"clear:both;\">Redundant bracket</div><div class=\"suggestion-row\" style=\"float: left;\"><div class=\"suggestion-warning\">Found:</div><div class=\"highlight-code\" id=\"haskell\">(foldr\n",
       "   \\ (_, lb) li\n",
       "     -> [if b then (num1 + 1, num2) else (num1, num2 + 1) |\n",
       "           (b, (num1, num2)) <- zip lb li])\n",
       "  (Prelude.repeat (0, 0))</div></div><div class=\"suggestion-row\" style=\"float: left;\"><div class=\"suggestion-warning\">Why Not:</div><div class=\"highlight-code\" id=\"haskell\">foldr\n",
       "  \\ (_, lb) li\n",
       "    -> [if b then (num1 + 1, num2) else (num1, num2 + 1) |\n",
       "          (b, (num1, num2)) <- zip lb li]\n",
       "  (Prelude.repeat (0, 0))</div></div>"
      ],
      "text/plain": [
       "Line 4: Redundant bracket\n",
       "Found:\n",
       "(foldr\n",
       "   \\ (_, lb) li\n",
       "     -> [if b then (num1 + 1, num2) else (num1, num2 + 1) |\n",
       "           (b, (num1, num2)) <- zip lb li])\n",
       "  (Prelude.repeat (0, 0))\n",
       "Why not:\n",
       "foldr\n",
       "  \\ (_, lb) li\n",
       "    -> [if b then (num1 + 1, num2) else (num1, num2 + 1) |\n",
       "          (b, (num1, num2)) <- zip lb li]\n",
       "  (Prelude.repeat (0, 0))"
      ]
     },
     "metadata": {},
     "output_type": "display_data"
    }
   ],
   "source": [
    "\n",
    "\n",
    "outlierProb s = (\\(x, y) ->  x / (x+y) )\n",
    "        <$> (foldr\n",
    "    \\(_,lb) li -> \n",
    "        [ if b then (num1+1, num2) else (num1,num2+1) | (b,(num1, num2)) <- zip lb li])\n",
    "    (Prelude.repeat (0,0)) s\n"
   ]
  },
  {
   "cell_type": "code",
   "execution_count": 30,
   "metadata": {},
   "outputs": [
    {
     "data": {
      "application/vnd.vegalite.v4+json": {
       "$schema": "https://vega.github.io/schema/vega-lite/v4.json",
       "data": {
        "values": [
         {
          "Outlier": 1,
          "X": -10,
          "Y": -2.521234491836898
         },
         {
          "Outlier": 0.04939506049395061,
          "X": -9.9,
          "Y": 36.789085457575375
         },
         {
          "Outlier": 0.0198980101989801,
          "X": -9.8,
          "Y": 35.18402975050138
         },
         {
          "Outlier": 0.0491950804919508,
          "X": -9.700000000000001,
          "Y": 41.35534401313414
         },
         {
          "Outlier": 0,
          "X": -9.600000000000001,
          "Y": 36.55331558595721
         },
         {
          "Outlier": 1,
          "X": -9.500000000000002,
          "Y": 21.718114769732157
         },
         {
          "Outlier": 0.020497950204979503,
          "X": -9.400000000000002,
          "Y": 38.33176015019564
         },
         {
          "Outlier": 0.0014998500149985001,
          "X": -9.300000000000002,
          "Y": 41.178757012475856
         },
         {
          "Outlier": 0.013798620137986202,
          "X": -9.200000000000003,
          "Y": 35.64101302518951
         },
         {
          "Outlier": 1,
          "X": -9.100000000000003,
          "Y": -13.755720847406922
         },
         {
          "Outlier": 0.047495250474952504,
          "X": -9.000000000000004,
          "Y": 32.50857708895729
         },
         {
          "Outlier": 0.005599440055994401,
          "X": -8.900000000000004,
          "Y": 34.442727417802494
         },
         {
          "Outlier": 0.30196980301969806,
          "X": -8.800000000000004,
          "Y": 29.372271599166044
         },
         {
          "Outlier": 0,
          "X": -8.700000000000005,
          "Y": 36.42543123803653
         },
         {
          "Outlier": 0.9601039896010399,
          "X": -8.600000000000005,
          "Y": 21.209522912272885
         },
         {
          "Outlier": 0,
          "X": -8.500000000000005,
          "Y": 35.522372810618016
         },
         {
          "Outlier": 0.00039996000399960006,
          "X": -8.400000000000006,
          "Y": 30.127415054316845
         },
         {
          "Outlier": 0.009999000099990002,
          "X": -8.300000000000006,
          "Y": 34.28188745350774
         },
         {
          "Outlier": 0.07739226077392261,
          "X": -8.200000000000006,
          "Y": 33.408508488924
         },
         {
          "Outlier": 0.0282971702829717,
          "X": -8.100000000000007,
          "Y": 32.515140283898525
         },
         {
          "Outlier": 0.33956604339566043,
          "X": -8.000000000000007,
          "Y": 26.223809912050136
         },
         {
          "Outlier": 1,
          "X": -7.9000000000000075,
          "Y": 1.3254369926330278
         },
         {
          "Outlier": 0,
          "X": -7.800000000000008,
          "Y": 31.620358657638594
         },
         {
          "Outlier": 1,
          "X": -7.700000000000008,
          "Y": -7.583413175043844
         },
         {
          "Outlier": 0,
          "X": -7.6000000000000085,
          "Y": 28.751677189336498
         },
         {
          "Outlier": 0.008599140085991401,
          "X": -7.500000000000009,
          "Y": 27.69804724403807
         },
         {
          "Outlier": 0,
          "X": -7.400000000000009,
          "Y": 29.133302778016855
         },
         {
          "Outlier": 0.051394860513948606,
          "X": -7.30000000000001,
          "Y": 27.645385254396224
         },
         {
          "Outlier": 0.0086991300869913,
          "X": -7.20000000000001,
          "Y": 28.17395870721552
         },
         {
          "Outlier": 0.042995700429957005,
          "X": -7.10000000000001,
          "Y": 29.290510393813296
         },
         {
          "Outlier": 0.1336866313368663,
          "X": -7.000000000000011,
          "Y": 29.848898551810073
         },
         {
          "Outlier": 0.9947005299470053,
          "X": -6.900000000000011,
          "Y": -28.39230800017263
         },
         {
          "Outlier": 0.1797820217978202,
          "X": -6.800000000000011,
          "Y": 26.172212021377504
         },
         {
          "Outlier": 0,
          "X": -6.700000000000012,
          "Y": 29.610809419679285
         },
         {
          "Outlier": 0.9865013498650135,
          "X": -6.600000000000012,
          "Y": 10.479809459457055
         },
         {
          "Outlier": 0,
          "X": -6.500000000000012,
          "Y": 27.394742105786342
         },
         {
          "Outlier": 0,
          "X": -6.400000000000013,
          "Y": 28.73295290979868
         },
         {
          "Outlier": 0.0022997700229977,
          "X": -6.300000000000013,
          "Y": 28.41598889756337
         },
         {
          "Outlier": 0.041995800419958006,
          "X": -6.2000000000000135,
          "Y": 25.77202864757972
         },
         {
          "Outlier": 0.940905909409059,
          "X": -6.100000000000014,
          "Y": 0.5479742283234765
         },
         {
          "Outlier": 0,
          "X": -6.000000000000014,
          "Y": 23.601841731087788
         },
         {
          "Outlier": 0.0643935606439356,
          "X": -5.900000000000015,
          "Y": 23.445495765762008
         },
         {
          "Outlier": 0.36496350364963503,
          "X": -5.800000000000015,
          "Y": 19.08406611215662
         },
         {
          "Outlier": 0.19108089191080893,
          "X": -5.700000000000015,
          "Y": 19.730828125014146
         },
         {
          "Outlier": 0.14378562143785623,
          "X": -5.600000000000016,
          "Y": 19.692670915413657
         },
         {
          "Outlier": 0.08289171082891711,
          "X": -5.500000000000016,
          "Y": 25.726496546899146
         },
         {
          "Outlier": 0.18898110188981102,
          "X": -5.400000000000016,
          "Y": 21.117617132325535
         },
         {
          "Outlier": 0.0015998400159984002,
          "X": -5.300000000000017,
          "Y": 22.80767457090531
         },
         {
          "Outlier": 0,
          "X": -5.200000000000017,
          "Y": 23.43861606677875
         },
         {
          "Outlier": 1,
          "X": -5.100000000000017,
          "Y": -9.523191338674229
         },
         {
          "Outlier": 0.042195780421957804,
          "X": -5.000000000000018,
          "Y": 23.668400744363446
         },
         {
          "Outlier": 0.21587841215878412,
          "X": -4.900000000000018,
          "Y": 25.492563933469956
         },
         {
          "Outlier": 0.1171882811718828,
          "X": -4.8000000000000185,
          "Y": 23.62730267988111
         },
         {
          "Outlier": 1,
          "X": -4.700000000000019,
          "Y": -0.6823323610830885
         },
         {
          "Outlier": 0.9861013898610139,
          "X": -4.600000000000019,
          "Y": 2.9649289118444173
         },
         {
          "Outlier": 0.0638936106389361,
          "X": -4.5000000000000195,
          "Y": 17.944473782953157
         },
         {
          "Outlier": 0.072992700729927,
          "X": -4.40000000000002,
          "Y": 17.799972718610636
         },
         {
          "Outlier": 0.10028997100289971,
          "X": -4.30000000000002,
          "Y": 19.78120704768425
         },
         {
          "Outlier": 0.04689531046895311,
          "X": -4.200000000000021,
          "Y": 18.285254637974234
         },
         {
          "Outlier": 0.0958904109589041,
          "X": -4.100000000000021,
          "Y": 15.578715303382188
         },
         {
          "Outlier": 0.0756924307569243,
          "X": -4.000000000000021,
          "Y": 16.148328004958355
         },
         {
          "Outlier": 0.13108689131086892,
          "X": -3.9000000000000217,
          "Y": 20.35717175766626
         },
         {
          "Outlier": 1,
          "X": -3.800000000000022,
          "Y": -17.80455292054352
         },
         {
          "Outlier": 0.16748325167483252,
          "X": -3.7000000000000224,
          "Y": 18.376760991464458
         },
         {
          "Outlier": 0.1765823417658234,
          "X": -3.6000000000000227,
          "Y": 15.90780550841558
         },
         {
          "Outlier": 0.18808119188081193,
          "X": -3.500000000000023,
          "Y": 15.207113705694637
         },
         {
          "Outlier": 0.43095690430956907,
          "X": -3.4000000000000234,
          "Y": 9.963571858253495
         },
         {
          "Outlier": 0.0448955104489551,
          "X": -3.300000000000024,
          "Y": 12.821247847247632
         },
         {
          "Outlier": 0.16078392160783922,
          "X": -3.200000000000024,
          "Y": 14.474609602503538
         },
         {
          "Outlier": 0.9548045195480452,
          "X": -3.1000000000000245,
          "Y": -21.979946965155662
         },
         {
          "Outlier": 0.05779422057794221,
          "X": -3.000000000000025,
          "Y": 13.214418020770388
         },
         {
          "Outlier": 0.9123087691230877,
          "X": -2.9000000000000252,
          "Y": -5.809886295726887
         },
         {
          "Outlier": 0.044795520447955206,
          "X": -2.8000000000000256,
          "Y": 10.92773828460967
         },
         {
          "Outlier": 0.9259074092590741,
          "X": -2.700000000000026,
          "Y": -0.2791747814301354
         },
         {
          "Outlier": 0.09059094090590941,
          "X": -2.6000000000000263,
          "Y": 11.508250934355509
         },
         {
          "Outlier": 0.9117088291170883,
          "X": -2.5000000000000266,
          "Y": -0.8730342312852736
         },
         {
          "Outlier": 0.2823717628237176,
          "X": -2.400000000000027,
          "Y": 5.055704668335648
         },
         {
          "Outlier": 0.14858514148585142,
          "X": -2.3000000000000274,
          "Y": 12.197647769348496
         },
         {
          "Outlier": 0.029397060293970604,
          "X": -2.2000000000000277,
          "Y": 11.347757239027988
         },
         {
          "Outlier": 0.1040895910408959,
          "X": -2.100000000000028,
          "Y": 10.09116205613724
         },
         {
          "Outlier": 0.35826417358264173,
          "X": -2.0000000000000284,
          "Y": 12.722882042395195
         },
         {
          "Outlier": 0.0928907109289071,
          "X": -1.9000000000000288,
          "Y": 8.315264172421898
         },
         {
          "Outlier": 0.058994100589941006,
          "X": -1.8000000000000291,
          "Y": 8.65177351903354
         },
         {
          "Outlier": 0.028697130286971302,
          "X": -1.7000000000000295,
          "Y": 7.914102684776636
         },
         {
          "Outlier": 0.13988601139886012,
          "X": -1.6000000000000298,
          "Y": 4.07218523859562
         },
         {
          "Outlier": 0.19438056194380562,
          "X": -1.5000000000000302,
          "Y": 5.099233355945148
         },
         {
          "Outlier": 0.8368163183681632,
          "X": -1.4000000000000306,
          "Y": -21.17291849671105
         },
         {
          "Outlier": 1,
          "X": -1.300000000000031,
          "Y": 52.34675095300174
         },
         {
          "Outlier": 0.044795520447955206,
          "X": -1.2000000000000313,
          "Y": 8.773114679308144
         },
         {
          "Outlier": 1,
          "X": -1.1000000000000316,
          "Y": -19.28137172938182
         },
         {
          "Outlier": 0.21727827217278273,
          "X": -1.000000000000032,
          "Y": 4.979378746597644
         },
         {
          "Outlier": 0.059994000599940006,
          "X": -0.9000000000000323,
          "Y": 2.1507467021800313
         },
         {
          "Outlier": 0.1255874412558744,
          "X": -0.8000000000000327,
          "Y": 4.632638302924449
         },
         {
          "Outlier": 0.09409059094090591,
          "X": -0.700000000000033,
          "Y": 3.7202995880459198
         },
         {
          "Outlier": 0.10388961103889612,
          "X": -0.6000000000000334,
          "Y": 5.43150758303764
         },
         {
          "Outlier": 0.46715328467153283,
          "X": -0.5000000000000338,
          "Y": -3.6594113443461254
         },
         {
          "Outlier": 0.39046095390460955,
          "X": -0.4000000000000341,
          "Y": 9.00654633879142
         },
         {
          "Outlier": 0.0761923807619238,
          "X": -0.30000000000003446,
          "Y": 3.873843614987833
         },
         {
          "Outlier": 0.7991200879912009,
          "X": -0.20000000000003482,
          "Y": 9.785458568911093
         },
         {
          "Outlier": 0.0923907609239076,
          "X": -0.10000000000003517,
          "Y": 4.756874914881668
         },
         {
          "Outlier": 0.1376862313768623,
          "X": -3.552713678800501e-14,
          "Y": 5.487247935254752
         },
         {
          "Outlier": 0.0958904109589041,
          "X": 0.09999999999996412,
          "Y": 0.5359282360979474
         },
         {
          "Outlier": 0.2101789821017898,
          "X": 0.19999999999996376,
          "Y": -3.5227281079442645
         },
         {
          "Outlier": 0.21897810218978103,
          "X": 0.2999999999999634,
          "Y": 3.99249302789355
         },
         {
          "Outlier": 0.14438556144385561,
          "X": 0.39999999999996305,
          "Y": 0.8316196252123704
         },
         {
          "Outlier": 0.062193780621937804,
          "X": 0.4999999999999627,
          "Y": -2.794066957652075
         },
         {
          "Outlier": 0.11948805119488051,
          "X": 0.5999999999999623,
          "Y": -0.3284931404511712
         },
         {
          "Outlier": 0.05829417058294171,
          "X": 0.699999999999962,
          "Y": 1.9852879542151132
         },
         {
          "Outlier": 0.10868913108689131,
          "X": 0.7999999999999616,
          "Y": -1.842165738760618
         },
         {
          "Outlier": 0.8873112688731127,
          "X": 0.8999999999999613,
          "Y": -12.588776612448756
         },
         {
          "Outlier": 0.07189281071892811,
          "X": 0.9999999999999609,
          "Y": -3.474599607129805
         },
         {
          "Outlier": 0.517948205179482,
          "X": 1.0999999999999606,
          "Y": -10.428007844437744
         },
         {
          "Outlier": 0.8467153284671532,
          "X": 1.1999999999999602,
          "Y": 5.68975005029962
         },
         {
          "Outlier": 0.9189081091890811,
          "X": 1.2999999999999599,
          "Y": 6.064884403004088
         },
         {
          "Outlier": 0.04989501049895011,
          "X": 1.3999999999999595,
          "Y": -4.120133272920624
         },
         {
          "Outlier": 0.5601439856014399,
          "X": 1.4999999999999591,
          "Y": 4.051796671307383
         },
         {
          "Outlier": 0.010198980101989802,
          "X": 1.5999999999999588,
          "Y": -4.796722539099063
         },
         {
          "Outlier": 0.17068293170682933,
          "X": 1.6999999999999584,
          "Y": -3.7303940999508494
         },
         {
          "Outlier": 0.08699130086991301,
          "X": 1.799999999999958,
          "Y": -9.163760306551477
         },
         {
          "Outlier": 0.049295070492950704,
          "X": 1.8999999999999577,
          "Y": -5.344046476059762
         },
         {
          "Outlier": 0.025597440255974404,
          "X": 1.9999999999999574,
          "Y": -7.93808811300889
         },
         {
          "Outlier": 0.18518148185181482,
          "X": 2.099999999999957,
          "Y": -10.288552745886417
         },
         {
          "Outlier": 0.9057094290570943,
          "X": 2.1999999999999567,
          "Y": -20.685959009678115
         },
         {
          "Outlier": 0.09829017098290171,
          "X": 2.2999999999999563,
          "Y": -6.2115191163446974
         },
         {
          "Outlier": 0.09209079092090791,
          "X": 2.399999999999956,
          "Y": -6.778125810858345
         },
         {
          "Outlier": 1,
          "X": 2.4999999999999556,
          "Y": -39.749638356895154
         },
         {
          "Outlier": 0.48925107489251074,
          "X": 2.5999999999999552,
          "Y": -16.459571352871816
         },
         {
          "Outlier": 0.19838016198380162,
          "X": 2.699999999999955,
          "Y": -6.6721180577983645
         },
         {
          "Outlier": 0.029797020297970205,
          "X": 2.7999999999999545,
          "Y": -11.708721468547434
         },
         {
          "Outlier": 0.1700829917008299,
          "X": 2.899999999999954,
          "Y": -6.753429231960778
         },
         {
          "Outlier": 0.058394160583941604,
          "X": 2.999999999999954,
          "Y": -12.394533563089762
         },
         {
          "Outlier": 0.036996300369963,
          "X": 3.0999999999999535,
          "Y": -10.56749804484708
         },
         {
          "Outlier": 0.11768823117688232,
          "X": 3.199999999999953,
          "Y": -16.045485971285686
         },
         {
          "Outlier": 0.11688831116888311,
          "X": 3.2999999999999527,
          "Y": -14.91182257738623
         },
         {
          "Outlier": 0.06629337066293371,
          "X": 3.3999999999999524,
          "Y": -10.472320675720287
         },
         {
          "Outlier": 1,
          "X": 3.499999999999952,
          "Y": 1.9131500987249788
         },
         {
          "Outlier": 0.11488851114888511,
          "X": 3.5999999999999517,
          "Y": -14.66778374390417
         },
         {
          "Outlier": 0.7677232276772322,
          "X": 3.6999999999999513,
          "Y": 5.153684454115108
         },
         {
          "Outlier": 0.15658434156584342,
          "X": 3.799999999999951,
          "Y": -10.496651326071238
         },
         {
          "Outlier": 1,
          "X": 3.8999999999999506,
          "Y": 22.84056140240709
         },
         {
          "Outlier": 0.9981001899810019,
          "X": 3.9999999999999503,
          "Y": 3.2396386364094205
         },
         {
          "Outlier": 0.9928007199280072,
          "X": 4.09999999999995,
          "Y": 6.708380733069407
         },
         {
          "Outlier": 1,
          "X": 4.1999999999999496,
          "Y": 20.86878984770728
         },
         {
          "Outlier": 0.9067093290670933,
          "X": 4.299999999999949,
          "Y": -6.3966233979241345
         },
         {
          "Outlier": 0.06969303069693031,
          "X": 4.399999999999949,
          "Y": -14.606505859357535
         },
         {
          "Outlier": 0.07129287071292871,
          "X": 4.4999999999999485,
          "Y": -18.853215068356317
         },
         {
          "Outlier": 0.8407159284071593,
          "X": 4.599999999999948,
          "Y": -7.517052069557901
         },
         {
          "Outlier": 0.9444055594440556,
          "X": 4.699999999999948,
          "Y": 10.156710674811363
         },
         {
          "Outlier": 0.19308069193080693,
          "X": 4.799999999999947,
          "Y": -12.528596444336038
         },
         {
          "Outlier": 0.1171882811718828,
          "X": 4.899999999999947,
          "Y": -13.521483460136974
         },
         {
          "Outlier": 0.13808619138086192,
          "X": 4.999999999999947,
          "Y": -16.531615658287123
         },
         {
          "Outlier": 0.0082991700829917,
          "X": 5.099999999999946,
          "Y": -18.322153656000467
         },
         {
          "Outlier": 0.1314868513148685,
          "X": 5.199999999999946,
          "Y": -16.4891433351919
         },
         {
          "Outlier": 0.2216778322167783,
          "X": 5.299999999999946,
          "Y": -16.890694082548837
         },
         {
          "Outlier": 0.4046595340465953,
          "X": 5.399999999999945,
          "Y": -27.10025544252251
         },
         {
          "Outlier": 0.0740925907409259,
          "X": 5.499999999999945,
          "Y": -17.23100783266737
         },
         {
          "Outlier": 0,
          "X": 5.599999999999945,
          "Y": -18.54783053015019
         },
         {
          "Outlier": 0.7535246475352465,
          "X": 5.699999999999944,
          "Y": -30.545333673724084
         },
         {
          "Outlier": 0.011698830116988301,
          "X": 5.799999999999944,
          "Y": -19.923696363773328
         },
         {
          "Outlier": 0,
          "X": 5.8999999999999435,
          "Y": -22.136489817167888
         },
         {
          "Outlier": 0.10488951104889511,
          "X": 5.999999999999943,
          "Y": -24.980306510353472
         },
         {
          "Outlier": 0.0178982101789821,
          "X": 6.099999999999945,
          "Y": -19.720609955051454
         },
         {
          "Outlier": 0.9819018098190181,
          "X": 6.1999999999999424,
          "Y": 0.6228623942149287
         },
         {
          "Outlier": 0.011398860113988602,
          "X": 6.29999999999994,
          "Y": -23.63925935003201
         },
         {
          "Outlier": 0.8833116688331167,
          "X": 6.399999999999942,
          "Y": 2.239515459618779
         },
         {
          "Outlier": 0,
          "X": 6.499999999999943,
          "Y": -23.91989098774493
         },
         {
          "Outlier": 0.0837916208379162,
          "X": 6.599999999999941,
          "Y": -25.245408138250525
         },
         {
          "Outlier": 0.0866913308669133,
          "X": 6.699999999999939,
          "Y": -26.497963063893945
         },
         {
          "Outlier": 0.41455854414558546,
          "X": 6.79999999999994,
          "Y": -19.49187200406752
         },
         {
          "Outlier": 1,
          "X": 6.899999999999942,
          "Y": -9.982787037204472
         },
         {
          "Outlier": 0.050094990500949906,
          "X": 6.99999999999994,
          "Y": -28.083633563341674
         },
         {
          "Outlier": 0.8812118788121188,
          "X": 7.0999999999999375,
          "Y": -16.15505585602092
         },
         {
          "Outlier": 0.8996100389961004,
          "X": 7.199999999999939,
          "Y": -8.329039625200902
         },
         {
          "Outlier": 0.28587141285871415,
          "X": 7.29999999999994,
          "Y": -21.83519860229113
         },
         {
          "Outlier": 0.1835816418358164,
          "X": 7.399999999999938,
          "Y": -31.200888581150686
         },
         {
          "Outlier": 0.008999100089991,
          "X": 7.499999999999936,
          "Y": -26.13306220859358
         },
         {
          "Outlier": 0.0660933906609339,
          "X": 7.5999999999999375,
          "Y": -28.980197436927625
         },
         {
          "Outlier": 0.9997000299970003,
          "X": 7.699999999999939,
          "Y": 16.081726222125667
         },
         {
          "Outlier": 0.0430956904309569,
          "X": 7.799999999999937,
          "Y": -28.76018606337038
         },
         {
          "Outlier": 0.06989301069893011,
          "X": 7.899999999999935,
          "Y": -32.39979422697814
         },
         {
          "Outlier": 0.0575942405759424,
          "X": 7.999999999999936,
          "Y": -29.447983608874367
         },
         {
          "Outlier": 0.0096990300969903,
          "X": 8.099999999999937,
          "Y": -30.149621840602695
         },
         {
          "Outlier": 0.009599040095990401,
          "X": 8.199999999999935,
          "Y": -28.663017590585554
         },
         {
          "Outlier": 1,
          "X": 8.299999999999933,
          "Y": -8.965399225398668
         },
         {
          "Outlier": 0.9019098090190981,
          "X": 8.399999999999935,
          "Y": 0.3844483081277079
         },
         {
          "Outlier": 0.0006999300069993001,
          "X": 8.499999999999936,
          "Y": -33.36064781031126
         },
         {
          "Outlier": 0.034996500349965,
          "X": 8.599999999999934,
          "Y": -35.39851417386822
         },
         {
          "Outlier": 0.8433156684331566,
          "X": 8.699999999999932,
          "Y": -20.90534898412312
         },
         {
          "Outlier": 0.835016498350165,
          "X": 8.799999999999933,
          "Y": 41.63808599001814
         },
         {
          "Outlier": 0.022397760223977603,
          "X": 8.899999999999935,
          "Y": -33.19836159577596
         },
         {
          "Outlier": 0.8781121887811218,
          "X": 8.999999999999932,
          "Y": 43.48114623515133
         },
         {
          "Outlier": 0.012598740125987402,
          "X": 9.09999999999993,
          "Y": -36.15403419886382
         },
         {
          "Outlier": 0.08809119088091191,
          "X": 9.199999999999932,
          "Y": -33.239906986606705
         },
         {
          "Outlier": 0,
          "X": 9.299999999999933,
          "Y": -33.19025458397705
         },
         {
          "Outlier": 0.24137586241375864,
          "X": 9.399999999999931,
          "Y": -37.8123948540356
         },
         {
          "Outlier": 0,
          "X": 9.499999999999929,
          "Y": -38.03004708884521
         },
         {
          "Outlier": 0.1775822417758224,
          "X": 9.59999999999993,
          "Y": -30.16570841169206
         },
         {
          "Outlier": 0.972002799720028,
          "X": 9.699999999999932,
          "Y": -2.805606058508546
         },
         {
          "Outlier": 0,
          "X": 9.79999999999993,
          "Y": -36.55202607463439
         },
         {
          "Outlier": 0,
          "X": 9.899999999999928,
          "Y": -35.93160194324061
         },
         {
          "Outlier": 1,
          "X": 9.999999999999929,
          "Y": 19.83568065833196
         }
        ]
       },
       "encoding": {
        "color": {
         "field": "Outlier",
         "scale": {
          "scheme": "viridis"
         },
         "type": "quantitative"
        },
        "x": {
         "field": "X",
         "type": "quantitative"
        },
        "y": {
         "field": "Y",
         "type": "quantitative"
        }
       },
       "height": 200,
       "mark": "circle",
       "width": 200
      },
      "image/png": "[encoded data removed]"
     },
     "metadata": {},
     "output_type": "display_data"
    }
   ],
   "source": [
    "plotVega  $ take 5000 (zip (fst <$> samples) (outlierProb mhRuns))"
   ]
  },
  {
   "cell_type": "markdown",
   "metadata": {},
   "source": [
    "Running MCMC gives us a list of samples. The graph displays points as more opaque according to how many samples consider that point to not be an outlier. The results make sense: points that are very near the line are opaque and ones very far are transparent. \n",
    "\n",
    "It would be nice to make our approach more sample efficient though. The key to that is to choose a proposal distribution more cleverly. "
   ]
  },
  {
   "cell_type": "code",
   "execution_count": 20,
   "metadata": {},
   "outputs": [],
   "source": [
    "-- import Numeric.Log\n",
    "\n",
    "-- countOutliersWithWeight :: [((a, [Bool]), Log Double)] -> [(Double, Double)]\n",
    "-- countOutliersWithWeight = foldr \n",
    "--     (\\((_,lb),w) li -> \n",
    "--         [ if b then (num1+ 1, num2) else (num1,num2+ 1) | ((b),(num1, num2)) <- zip lb li]) \n",
    "--     (Prelude.repeat (0,0))\n",
    "\n",
    "-- predData = baseData . \n",
    "--   dataColumn \"Outlier Prediction\" \n",
    "--       -- (Booleans $ (\\((_,s),_) -> s) (maximumBy (compare `on` (snd)) smcRuns))\n",
    "--       (Booleans ((\\(x, y) -> ( if x > y then False else True) )\n",
    "--         <$> (countOutliers (fst <$> smcRuns))))\n",
    "  \n",
    "-- predEncoding = baseEncoding . color [ MName \"Outlier Prediction\", VL.MmType VL.Quantitative]\n",
    "-- showPlot predEncoding predData"
   ]
  },
  {
   "cell_type": "markdown",
   "metadata": {},
   "source": []
  }
 ],
 "metadata": {
  "kernelspec": {
   "display_name": "Haskell - nixpkgs",
   "language": "haskell",
   "name": "ihaskell_nixpkgs"
  },
  "language_info": {
   "codemirror_mode": "ihaskell",
   "file_extension": ".hs",
   "mimetype": "text/x-haskell",
   "name": "haskell",
   "pygments_lexer": "Haskell",
   "version": "9.0.2"
  }
 },
 "nbformat": 4,
 "nbformat_minor": 4
}
